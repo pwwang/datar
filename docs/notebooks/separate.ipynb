{
 "cells": [
  {
   "cell_type": "code",
   "execution_count": 1,
   "source": [
    "# https://tidyr.tidyverse.org/reference/separate.html\n",
    "\n",
    "from datar.all import *\n",
    "\n",
    "%run nb_helpers.py\n",
    "nb_header(separate, separate_rows)"
   ],
   "outputs": [
    {
     "output_type": "stream",
     "name": "stderr",
     "text": [
      "[2021-06-21 14:45:04][datar][WARNING] Builtin name \"min\" has been overriden by datar.\n",
      "[2021-06-21 14:45:04][datar][WARNING] Builtin name \"max\" has been overriden by datar.\n",
      "[2021-06-21 14:45:04][datar][WARNING] Builtin name \"sum\" has been overriden by datar.\n",
      "[2021-06-21 14:45:04][datar][WARNING] Builtin name \"abs\" has been overriden by datar.\n",
      "[2021-06-21 14:45:04][datar][WARNING] Builtin name \"round\" has been overriden by datar.\n",
      "[2021-06-21 14:45:04][datar][WARNING] Builtin name \"all\" has been overriden by datar.\n",
      "[2021-06-21 14:45:04][datar][WARNING] Builtin name \"any\" has been overriden by datar.\n",
      "[2021-06-21 14:45:05][datar][WARNING] Builtin name \"re\" has been overriden by datar.\n",
      "[2021-06-21 14:45:05][datar][WARNING] Builtin name \"filter\" has been overriden by datar.\n",
      "[2021-06-21 14:45:05][datar][WARNING] Builtin name \"slice\" has been overriden by datar.\n"
     ]
    },
    {
     "output_type": "display_data",
     "data": {
      "text/plain": [
       "<IPython.core.display.HTML object>"
      ],
      "text/html": [
       "<div style=\"text-align: right; text-style: italic\">Try this notebook on <a target=\"_blank\" href=\"https://mybinder.org/v2/gh/pwwang/datar/93d069f3ca36711fc811c61dcf60e9fc3d1460a5?filepath=docs%2Fnotebooks%2Fseparate.ipynb\">binder</a>.</div>"
      ]
     },
     "metadata": {}
    },
    {
     "output_type": "display_data",
     "data": {
      "text/plain": [
       "<IPython.core.display.Markdown object>"
      ],
      "text/markdown": [
       "### # separate  "
      ]
     },
     "metadata": {}
    },
    {
     "output_type": "display_data",
     "data": {
      "text/plain": [
       "<IPython.core.display.Markdown object>"
      ],
      "text/markdown": [
       "##### Given either a regular expression or a vector of character positions,\n",
       "turns a single character column into multiple columns.  \n",
       "\n",
       "##### Args:\n",
       "&emsp;&emsp;`data`: The dataframe  \n",
       "&emsp;&emsp;`col`: Column name or position.  \n",
       "&emsp;&emsp;`into`: Names of new variables to create as character vector.  \n",
       "&emsp;&emsp;&emsp;&emsp;Use `None`/`NA`/`NULL` to omit the variable in the output.  \n",
       "\n",
       "&emsp;&emsp;`sep`: Separator between columns.  \n",
       "&emsp;&emsp;&emsp;&emsp;If str, `sep` is interpreted as a regular expression.  \n",
       "&emsp;&emsp;&emsp;&emsp;The default value is a regular expression that matches  \n",
       "&emsp;&emsp;&emsp;&emsp;any sequence of non-alphanumeric values.  \n",
       "&emsp;&emsp;&emsp;&emsp;If int, `sep` is interpreted as character positions to split at.  \n",
       "\n",
       "&emsp;&emsp;`remove`: If TRUE, remove input column from output data frame.  \n",
       "&emsp;&emsp;`convert`: The universal type for the extracted columns or a dict for  \n",
       "&emsp;&emsp;&emsp;&emsp;individual ones  \n",
       "&emsp;&emsp;&emsp;&emsp;Note that when given `TRUE`, `DataFrame.convert_dtypes()` is called,  \n",
       "&emsp;&emsp;&emsp;&emsp;but it will not convert `str` to other types  \n",
       "&emsp;&emsp;&emsp;&emsp;(For example, `'1'` to `1`). You have to specify the dtype yourself.  \n",
       "\n",
       "&emsp;&emsp;`extra`: If sep is a character vector, this controls what happens when  \n",
       "&emsp;&emsp;&emsp;&emsp;there are too many pieces. There are three valid options:  \n",
       "\n",
       "&emsp;&emsp;&emsp;&emsp;- \"warn\" (the default): emit a warning and drop extra values.\n",
       "\n",
       "&emsp;&emsp;&emsp;&emsp;- \"drop\": drop any extra values without a warning.\n",
       "\n",
       "&emsp;&emsp;&emsp;&emsp;- \"merge\": only splits at most length(into) times\n",
       "\n",
       "&emsp;&emsp;`fill`: If sep is a character vector, this controls what happens when  \n",
       "&emsp;&emsp;&emsp;&emsp;there are not enough pieces. There are three valid options:  \n",
       "\n",
       "&emsp;&emsp;&emsp;&emsp;- \"warn\" (the default): emit a warning and fill from the right\n",
       "\n",
       "&emsp;&emsp;&emsp;&emsp;- \"right\": fill with missing values on the right\n",
       "\n",
       "&emsp;&emsp;&emsp;&emsp;- \"left\": fill with missing values on the left\n",
       "\n",
       "&emsp;&emsp;`_base0`: Whether `col` is 0-based when given by index and Whether `sep`  \n",
       "&emsp;&emsp;&emsp;&emsp;is 0-based if given by position  \n",
       "&emsp;&emsp;&emsp;&emsp;If not provided, will use `datar.base.get_option('index.base.0')`  \n",
       "\n",
       "##### Returns:\n",
       "&emsp;&emsp;Dataframe with separated columns.  \n"
      ]
     },
     "metadata": {}
    },
    {
     "output_type": "display_data",
     "data": {
      "text/plain": [
       "<IPython.core.display.Markdown object>"
      ],
      "text/markdown": [
       "### # separate_rows  "
      ]
     },
     "metadata": {}
    },
    {
     "output_type": "display_data",
     "data": {
      "text/plain": [
       "<IPython.core.display.Markdown object>"
      ],
      "text/markdown": [
       "##### Separates the values and places each one in its own row.\n",
       "\n",
       "##### Args:\n",
       "&emsp;&emsp;`data`: The dataframe  \n",
       "&emsp;&emsp;`*columns`: The columns to separate on  \n",
       "&emsp;&emsp;`sep`: Separator between columns.  \n",
       "&emsp;&emsp;`convert`: The universal type for the extracted columns or a dict for  \n",
       "&emsp;&emsp;&emsp;&emsp;individual ones  \n",
       "\n",
       "&emsp;&emsp;`_base0`: Whether `columns` is 0-based when given by index  \n",
       "&emsp;&emsp;&emsp;&emsp;If not provided, will use `datar.base.get_option('index.base.0')`  \n",
       "\n",
       "##### Returns:\n",
       "&emsp;&emsp;Dataframe with rows separated and repeated.  \n"
      ]
     },
     "metadata": {}
    }
   ],
   "metadata": {
    "execution": {
     "iopub.execute_input": "2021-04-17T00:55:05.972746Z",
     "iopub.status.busy": "2021-04-17T00:55:05.972062Z",
     "iopub.status.idle": "2021-04-17T00:55:06.622960Z",
     "shell.execute_reply": "2021-04-17T00:55:06.622375Z"
    }
   }
  },
  {
   "cell_type": "code",
   "execution_count": 2,
   "source": [
    "df = tibble(x=c(NA, \"x.y\", \"x.z\", \"y.z\"))\n",
    "df >> separate(f.x, c(\"A\", \"B\"))"
   ],
   "outputs": [
    {
     "output_type": "execute_result",
     "data": {
      "text/plain": [
       "         A        B\n",
       "  <object> <object>\n",
       "0      NaN      NaN\n",
       "1        x        y\n",
       "2        x        z\n",
       "3        y        z"
      ],
      "text/html": [
       "<table border=\"1\" class=\"dataframe\">\n",
       "  <thead>\n",
       "    <tr style=\"text-align: right;\">\n",
       "      <th></th>\n",
       "      <th>A</th>\n",
       "      <th>B</th>\n",
       "    </tr>\n",
       "  </thead>\n",
       "  <tbody>\n",
       "    <tr>\n",
       "      <th style=\"font-style: italic;\" ></th>\n",
       "      <td style=\"font-style: italic;\" >&lt;object&gt;</td>\n",
       "      <td style=\"font-style: italic;\" >&lt;object&gt;</td>\n",
       "    </tr>\n",
       "    <tr>\n",
       "      <th>0</th>\n",
       "      <td>NaN</td>\n",
       "      <td>NaN</td>\n",
       "    </tr>\n",
       "    <tr>\n",
       "      <th>1</th>\n",
       "      <td>x</td>\n",
       "      <td>y</td>\n",
       "    </tr>\n",
       "    <tr>\n",
       "      <th>2</th>\n",
       "      <td>x</td>\n",
       "      <td>z</td>\n",
       "    </tr>\n",
       "    <tr>\n",
       "      <th>3</th>\n",
       "      <td>y</td>\n",
       "      <td>z</td>\n",
       "    </tr>\n",
       "  </tbody>\n",
       "</table>"
      ]
     },
     "metadata": {},
     "execution_count": 2
    }
   ],
   "metadata": {
    "execution": {
     "iopub.execute_input": "2021-04-17T00:55:06.627824Z",
     "iopub.status.busy": "2021-04-17T00:55:06.627338Z",
     "iopub.status.idle": "2021-04-17T00:55:06.671440Z",
     "shell.execute_reply": "2021-04-17T00:55:06.670953Z"
    }
   }
  },
  {
   "cell_type": "code",
   "execution_count": 3,
   "source": [
    "df >> separate(f.x, c(NA, \"B\"))"
   ],
   "outputs": [
    {
     "output_type": "execute_result",
     "data": {
      "text/plain": [
       "         B\n",
       "  <object>\n",
       "0      NaN\n",
       "1        y\n",
       "2        z\n",
       "3        z"
      ],
      "text/html": [
       "<table border=\"1\" class=\"dataframe\">\n",
       "  <thead>\n",
       "    <tr style=\"text-align: right;\">\n",
       "      <th></th>\n",
       "      <th>B</th>\n",
       "    </tr>\n",
       "  </thead>\n",
       "  <tbody>\n",
       "    <tr>\n",
       "      <th style=\"font-style: italic;\" ></th>\n",
       "      <td style=\"font-style: italic;\" >&lt;object&gt;</td>\n",
       "    </tr>\n",
       "    <tr>\n",
       "      <th>0</th>\n",
       "      <td>NaN</td>\n",
       "    </tr>\n",
       "    <tr>\n",
       "      <th>1</th>\n",
       "      <td>y</td>\n",
       "    </tr>\n",
       "    <tr>\n",
       "      <th>2</th>\n",
       "      <td>z</td>\n",
       "    </tr>\n",
       "    <tr>\n",
       "      <th>3</th>\n",
       "      <td>z</td>\n",
       "    </tr>\n",
       "  </tbody>\n",
       "</table>"
      ]
     },
     "metadata": {},
     "execution_count": 3
    }
   ],
   "metadata": {
    "execution": {
     "iopub.execute_input": "2021-04-17T00:55:06.681197Z",
     "iopub.status.busy": "2021-04-17T00:55:06.680500Z",
     "iopub.status.idle": "2021-04-17T00:55:06.684538Z",
     "shell.execute_reply": "2021-04-17T00:55:06.684126Z"
    }
   }
  },
  {
   "cell_type": "code",
   "execution_count": 4,
   "source": [
    "df = tibble(x=c(\"x\", \"x y\", \"x y z\", NA))\n",
    "df >> separate(f.x, c(\"a\", \"b\"))"
   ],
   "outputs": [
    {
     "output_type": "stream",
     "name": "stderr",
     "text": [
      "[2021-06-21 14:45:13][datar][WARNING] Expected 2 pieces. Additional pieces discarded in 1 rows ['x y z'].\n",
      "[2021-06-21 14:45:13][datar][WARNING] Expected 2 pieces. Missing pieces filled with `NA` in 1 rows ['x'].\n"
     ]
    },
    {
     "output_type": "execute_result",
     "data": {
      "text/plain": [
       "         a        b\n",
       "  <object> <object>\n",
       "0        x      NaN\n",
       "1        x        y\n",
       "2        x        y\n",
       "3      NaN      NaN"
      ],
      "text/html": [
       "<table border=\"1\" class=\"dataframe\">\n",
       "  <thead>\n",
       "    <tr style=\"text-align: right;\">\n",
       "      <th></th>\n",
       "      <th>a</th>\n",
       "      <th>b</th>\n",
       "    </tr>\n",
       "  </thead>\n",
       "  <tbody>\n",
       "    <tr>\n",
       "      <th style=\"font-style: italic;\" ></th>\n",
       "      <td style=\"font-style: italic;\" >&lt;object&gt;</td>\n",
       "      <td style=\"font-style: italic;\" >&lt;object&gt;</td>\n",
       "    </tr>\n",
       "    <tr>\n",
       "      <th>0</th>\n",
       "      <td>x</td>\n",
       "      <td>NaN</td>\n",
       "    </tr>\n",
       "    <tr>\n",
       "      <th>1</th>\n",
       "      <td>x</td>\n",
       "      <td>y</td>\n",
       "    </tr>\n",
       "    <tr>\n",
       "      <th>2</th>\n",
       "      <td>x</td>\n",
       "      <td>y</td>\n",
       "    </tr>\n",
       "    <tr>\n",
       "      <th>3</th>\n",
       "      <td>NaN</td>\n",
       "      <td>NaN</td>\n",
       "    </tr>\n",
       "  </tbody>\n",
       "</table>"
      ]
     },
     "metadata": {},
     "execution_count": 4
    }
   ],
   "metadata": {
    "execution": {
     "iopub.execute_input": "2021-04-17T00:55:06.689306Z",
     "iopub.status.busy": "2021-04-17T00:55:06.688654Z",
     "iopub.status.idle": "2021-04-17T00:55:06.710126Z",
     "shell.execute_reply": "2021-04-17T00:55:06.709657Z"
    }
   }
  },
  {
   "cell_type": "code",
   "execution_count": 5,
   "source": [
    "df >> separate(f.x, c(\"a\", \"b\"), extra=\"drop\", fill=\"right\")"
   ],
   "outputs": [
    {
     "output_type": "execute_result",
     "data": {
      "text/plain": [
       "         a        b\n",
       "  <object> <object>\n",
       "0        x      NaN\n",
       "1        x        y\n",
       "2        x        y\n",
       "3      NaN      NaN"
      ],
      "text/html": [
       "<table border=\"1\" class=\"dataframe\">\n",
       "  <thead>\n",
       "    <tr style=\"text-align: right;\">\n",
       "      <th></th>\n",
       "      <th>a</th>\n",
       "      <th>b</th>\n",
       "    </tr>\n",
       "  </thead>\n",
       "  <tbody>\n",
       "    <tr>\n",
       "      <th style=\"font-style: italic;\" ></th>\n",
       "      <td style=\"font-style: italic;\" >&lt;object&gt;</td>\n",
       "      <td style=\"font-style: italic;\" >&lt;object&gt;</td>\n",
       "    </tr>\n",
       "    <tr>\n",
       "      <th>0</th>\n",
       "      <td>x</td>\n",
       "      <td>NaN</td>\n",
       "    </tr>\n",
       "    <tr>\n",
       "      <th>1</th>\n",
       "      <td>x</td>\n",
       "      <td>y</td>\n",
       "    </tr>\n",
       "    <tr>\n",
       "      <th>2</th>\n",
       "      <td>x</td>\n",
       "      <td>y</td>\n",
       "    </tr>\n",
       "    <tr>\n",
       "      <th>3</th>\n",
       "      <td>NaN</td>\n",
       "      <td>NaN</td>\n",
       "    </tr>\n",
       "  </tbody>\n",
       "</table>"
      ]
     },
     "metadata": {},
     "execution_count": 5
    }
   ],
   "metadata": {
    "execution": {
     "iopub.execute_input": "2021-04-17T00:55:06.720277Z",
     "iopub.status.busy": "2021-04-17T00:55:06.719443Z",
     "iopub.status.idle": "2021-04-17T00:55:06.724478Z",
     "shell.execute_reply": "2021-04-17T00:55:06.723986Z"
    }
   }
  },
  {
   "cell_type": "code",
   "execution_count": 6,
   "source": [
    "df >> separate(f.x, c(\"a\", \"b\"), extra=\"merge\", fill=\"left\")"
   ],
   "outputs": [
    {
     "output_type": "execute_result",
     "data": {
      "text/plain": [
       "         a        b\n",
       "  <object> <object>\n",
       "0      NaN        x\n",
       "1        x        y\n",
       "2        x      y z\n",
       "3      NaN      NaN"
      ],
      "text/html": [
       "<table border=\"1\" class=\"dataframe\">\n",
       "  <thead>\n",
       "    <tr style=\"text-align: right;\">\n",
       "      <th></th>\n",
       "      <th>a</th>\n",
       "      <th>b</th>\n",
       "    </tr>\n",
       "  </thead>\n",
       "  <tbody>\n",
       "    <tr>\n",
       "      <th style=\"font-style: italic;\" ></th>\n",
       "      <td style=\"font-style: italic;\" >&lt;object&gt;</td>\n",
       "      <td style=\"font-style: italic;\" >&lt;object&gt;</td>\n",
       "    </tr>\n",
       "    <tr>\n",
       "      <th>0</th>\n",
       "      <td>NaN</td>\n",
       "      <td>x</td>\n",
       "    </tr>\n",
       "    <tr>\n",
       "      <th>1</th>\n",
       "      <td>x</td>\n",
       "      <td>y</td>\n",
       "    </tr>\n",
       "    <tr>\n",
       "      <th>2</th>\n",
       "      <td>x</td>\n",
       "      <td>y z</td>\n",
       "    </tr>\n",
       "    <tr>\n",
       "      <th>3</th>\n",
       "      <td>NaN</td>\n",
       "      <td>NaN</td>\n",
       "    </tr>\n",
       "  </tbody>\n",
       "</table>"
      ]
     },
     "metadata": {},
     "execution_count": 6
    }
   ],
   "metadata": {
    "execution": {
     "iopub.execute_input": "2021-04-17T00:55:06.734426Z",
     "iopub.status.busy": "2021-04-17T00:55:06.733779Z",
     "iopub.status.idle": "2021-04-17T00:55:06.737125Z",
     "shell.execute_reply": "2021-04-17T00:55:06.736745Z"
    }
   }
  },
  {
   "cell_type": "code",
   "execution_count": 7,
   "source": [
    "df >> separate(f.x, c(\"a\", \"b\", \"c\"))"
   ],
   "outputs": [
    {
     "output_type": "stream",
     "name": "stderr",
     "text": [
      "[2021-06-21 14:45:14][datar][WARNING] Expected 3 pieces. Missing pieces filled with `NA` in 2 rows ['x', 'x y'].\n"
     ]
    },
    {
     "output_type": "execute_result",
     "data": {
      "text/plain": [
       "         a        b        c\n",
       "  <object> <object> <object>\n",
       "0        x      NaN      NaN\n",
       "1        x        y      NaN\n",
       "2        x        y        z\n",
       "3      NaN      NaN      NaN"
      ],
      "text/html": [
       "<table border=\"1\" class=\"dataframe\">\n",
       "  <thead>\n",
       "    <tr style=\"text-align: right;\">\n",
       "      <th></th>\n",
       "      <th>a</th>\n",
       "      <th>b</th>\n",
       "      <th>c</th>\n",
       "    </tr>\n",
       "  </thead>\n",
       "  <tbody>\n",
       "    <tr>\n",
       "      <th style=\"font-style: italic;\" ></th>\n",
       "      <td style=\"font-style: italic;\" >&lt;object&gt;</td>\n",
       "      <td style=\"font-style: italic;\" >&lt;object&gt;</td>\n",
       "      <td style=\"font-style: italic;\" >&lt;object&gt;</td>\n",
       "    </tr>\n",
       "    <tr>\n",
       "      <th>0</th>\n",
       "      <td>x</td>\n",
       "      <td>NaN</td>\n",
       "      <td>NaN</td>\n",
       "    </tr>\n",
       "    <tr>\n",
       "      <th>1</th>\n",
       "      <td>x</td>\n",
       "      <td>y</td>\n",
       "      <td>NaN</td>\n",
       "    </tr>\n",
       "    <tr>\n",
       "      <th>2</th>\n",
       "      <td>x</td>\n",
       "      <td>y</td>\n",
       "      <td>z</td>\n",
       "    </tr>\n",
       "    <tr>\n",
       "      <th>3</th>\n",
       "      <td>NaN</td>\n",
       "      <td>NaN</td>\n",
       "      <td>NaN</td>\n",
       "    </tr>\n",
       "  </tbody>\n",
       "</table>"
      ]
     },
     "metadata": {},
     "execution_count": 7
    }
   ],
   "metadata": {
    "execution": {
     "iopub.execute_input": "2021-04-17T00:55:06.742517Z",
     "iopub.status.busy": "2021-04-17T00:55:06.742023Z",
     "iopub.status.idle": "2021-04-17T00:55:06.751103Z",
     "shell.execute_reply": "2021-04-17T00:55:06.750709Z"
    }
   }
  },
  {
   "cell_type": "code",
   "execution_count": 8,
   "source": [
    "df = tibble(x=c(\"x: 123\", \"y: error: 7\"))\n",
    "df >> separate(f.x, c(\"key\", \"value\"), \": \", extra=\"merge\")"
   ],
   "outputs": [
    {
     "output_type": "execute_result",
     "data": {
      "text/plain": [
       "       key     value\n",
       "  <object>  <object>\n",
       "0        x       123\n",
       "1        y  error: 7"
      ],
      "text/html": [
       "<table border=\"1\" class=\"dataframe\">\n",
       "  <thead>\n",
       "    <tr style=\"text-align: right;\">\n",
       "      <th></th>\n",
       "      <th>key</th>\n",
       "      <th>value</th>\n",
       "    </tr>\n",
       "  </thead>\n",
       "  <tbody>\n",
       "    <tr>\n",
       "      <th style=\"font-style: italic;\" ></th>\n",
       "      <td style=\"font-style: italic;\" >&lt;object&gt;</td>\n",
       "      <td style=\"font-style: italic;\" >&lt;object&gt;</td>\n",
       "    </tr>\n",
       "    <tr>\n",
       "      <th>0</th>\n",
       "      <td>x</td>\n",
       "      <td>123</td>\n",
       "    </tr>\n",
       "    <tr>\n",
       "      <th>1</th>\n",
       "      <td>y</td>\n",
       "      <td>error: 7</td>\n",
       "    </tr>\n",
       "  </tbody>\n",
       "</table>"
      ]
     },
     "metadata": {},
     "execution_count": 8
    }
   ],
   "metadata": {
    "execution": {
     "iopub.execute_input": "2021-04-17T00:55:06.755401Z",
     "iopub.status.busy": "2021-04-17T00:55:06.754899Z",
     "iopub.status.idle": "2021-04-17T00:55:06.773486Z",
     "shell.execute_reply": "2021-04-17T00:55:06.772976Z"
    }
   }
  },
  {
   "cell_type": "code",
   "execution_count": 9,
   "source": [
    "df = tibble(x=c(NA, \"x?y\", \"x.z\", \"y:z\"))\n",
    "df >> separate(f.x, c(\"A\",\"B\"), sep=r\"[.?:]\")"
   ],
   "outputs": [
    {
     "output_type": "execute_result",
     "data": {
      "text/plain": [
       "         A        B\n",
       "  <object> <object>\n",
       "0      NaN      NaN\n",
       "1        x        y\n",
       "2        x        z\n",
       "3        y        z"
      ],
      "text/html": [
       "<table border=\"1\" class=\"dataframe\">\n",
       "  <thead>\n",
       "    <tr style=\"text-align: right;\">\n",
       "      <th></th>\n",
       "      <th>A</th>\n",
       "      <th>B</th>\n",
       "    </tr>\n",
       "  </thead>\n",
       "  <tbody>\n",
       "    <tr>\n",
       "      <th style=\"font-style: italic;\" ></th>\n",
       "      <td style=\"font-style: italic;\" >&lt;object&gt;</td>\n",
       "      <td style=\"font-style: italic;\" >&lt;object&gt;</td>\n",
       "    </tr>\n",
       "    <tr>\n",
       "      <th>0</th>\n",
       "      <td>NaN</td>\n",
       "      <td>NaN</td>\n",
       "    </tr>\n",
       "    <tr>\n",
       "      <th>1</th>\n",
       "      <td>x</td>\n",
       "      <td>y</td>\n",
       "    </tr>\n",
       "    <tr>\n",
       "      <th>2</th>\n",
       "      <td>x</td>\n",
       "      <td>z</td>\n",
       "    </tr>\n",
       "    <tr>\n",
       "      <th>3</th>\n",
       "      <td>y</td>\n",
       "      <td>z</td>\n",
       "    </tr>\n",
       "  </tbody>\n",
       "</table>"
      ]
     },
     "metadata": {},
     "execution_count": 9
    }
   ],
   "metadata": {
    "execution": {
     "iopub.execute_input": "2021-04-17T00:55:06.778430Z",
     "iopub.status.busy": "2021-04-17T00:55:06.777927Z",
     "iopub.status.idle": "2021-04-17T00:55:06.796636Z",
     "shell.execute_reply": "2021-04-17T00:55:06.796283Z"
    }
   }
  },
  {
   "cell_type": "code",
   "execution_count": 10,
   "source": [
    "df = tibble(x=c(\"x:1\", \"x:2\", \"y:4\", \"z\", NA))\n",
    "df >> separate(f.x, c(\"key\",\"value\"), \":\")"
   ],
   "outputs": [
    {
     "output_type": "stream",
     "name": "stderr",
     "text": [
      "[2021-06-21 14:45:16][datar][WARNING] Expected 2 pieces. Missing pieces filled with `NA` in 1 rows ['z'].\n"
     ]
    },
    {
     "output_type": "execute_result",
     "data": {
      "text/plain": [
       "       key    value\n",
       "  <object> <object>\n",
       "0        x        1\n",
       "1        x        2\n",
       "2        y        4\n",
       "3        z      NaN\n",
       "4      NaN      NaN"
      ],
      "text/html": [
       "<table border=\"1\" class=\"dataframe\">\n",
       "  <thead>\n",
       "    <tr style=\"text-align: right;\">\n",
       "      <th></th>\n",
       "      <th>key</th>\n",
       "      <th>value</th>\n",
       "    </tr>\n",
       "  </thead>\n",
       "  <tbody>\n",
       "    <tr>\n",
       "      <th style=\"font-style: italic;\" ></th>\n",
       "      <td style=\"font-style: italic;\" >&lt;object&gt;</td>\n",
       "      <td style=\"font-style: italic;\" >&lt;object&gt;</td>\n",
       "    </tr>\n",
       "    <tr>\n",
       "      <th>0</th>\n",
       "      <td>x</td>\n",
       "      <td>1</td>\n",
       "    </tr>\n",
       "    <tr>\n",
       "      <th>1</th>\n",
       "      <td>x</td>\n",
       "      <td>2</td>\n",
       "    </tr>\n",
       "    <tr>\n",
       "      <th>2</th>\n",
       "      <td>y</td>\n",
       "      <td>4</td>\n",
       "    </tr>\n",
       "    <tr>\n",
       "      <th>3</th>\n",
       "      <td>z</td>\n",
       "      <td>NaN</td>\n",
       "    </tr>\n",
       "    <tr>\n",
       "      <th>4</th>\n",
       "      <td>NaN</td>\n",
       "      <td>NaN</td>\n",
       "    </tr>\n",
       "  </tbody>\n",
       "</table>"
      ]
     },
     "metadata": {},
     "execution_count": 10
    }
   ],
   "metadata": {
    "execution": {
     "iopub.execute_input": "2021-04-17T00:55:06.801518Z",
     "iopub.status.busy": "2021-04-17T00:55:06.801042Z",
     "iopub.status.idle": "2021-04-17T00:55:06.820661Z",
     "shell.execute_reply": "2021-04-17T00:55:06.821022Z"
    }
   }
  },
  {
   "cell_type": "code",
   "execution_count": 11,
   "source": [
    "df >> separate(f.x, c(\"key\",\"value\"), \":\", convert={'value': float}) \n",
    "_.dtypes"
   ],
   "outputs": [
    {
     "output_type": "stream",
     "name": "stderr",
     "text": [
      "[2021-06-21 14:45:17][datar][WARNING] Expected 2 pieces. Missing pieces filled with `NA` in 1 rows ['z'].\n"
     ]
    },
    {
     "output_type": "execute_result",
     "data": {
      "text/plain": [
       "       key     value\n",
       "  <object> <float64>\n",
       "0        x       1.0\n",
       "1        x       2.0\n",
       "2        y       4.0\n",
       "3        z       NaN\n",
       "4      NaN       NaN"
      ],
      "text/html": [
       "<table border=\"1\" class=\"dataframe\">\n",
       "  <thead>\n",
       "    <tr style=\"text-align: right;\">\n",
       "      <th></th>\n",
       "      <th>key</th>\n",
       "      <th>value</th>\n",
       "    </tr>\n",
       "  </thead>\n",
       "  <tbody>\n",
       "    <tr>\n",
       "      <th style=\"font-style: italic;\" ></th>\n",
       "      <td style=\"font-style: italic;\" >&lt;object&gt;</td>\n",
       "      <td style=\"font-style: italic;\" >&lt;float64&gt;</td>\n",
       "    </tr>\n",
       "    <tr>\n",
       "      <th>0</th>\n",
       "      <td>x</td>\n",
       "      <td>1.0</td>\n",
       "    </tr>\n",
       "    <tr>\n",
       "      <th>1</th>\n",
       "      <td>x</td>\n",
       "      <td>2.0</td>\n",
       "    </tr>\n",
       "    <tr>\n",
       "      <th>2</th>\n",
       "      <td>y</td>\n",
       "      <td>4.0</td>\n",
       "    </tr>\n",
       "    <tr>\n",
       "      <th>3</th>\n",
       "      <td>z</td>\n",
       "      <td>NaN</td>\n",
       "    </tr>\n",
       "    <tr>\n",
       "      <th>4</th>\n",
       "      <td>NaN</td>\n",
       "      <td>NaN</td>\n",
       "    </tr>\n",
       "  </tbody>\n",
       "</table>"
      ]
     },
     "metadata": {},
     "execution_count": 11
    },
    {
     "output_type": "execute_result",
     "data": {
      "text/plain": [
       "key       object\n",
       "value    float64\n",
       "dtype: object"
      ]
     },
     "metadata": {},
     "execution_count": 11
    }
   ],
   "metadata": {
    "execution": {
     "iopub.execute_input": "2021-04-17T00:55:06.826799Z",
     "iopub.status.busy": "2021-04-17T00:55:06.826255Z",
     "iopub.status.idle": "2021-04-17T00:55:06.834973Z",
     "shell.execute_reply": "2021-04-17T00:55:06.835369Z"
    }
   }
  },
  {
   "cell_type": "code",
   "execution_count": 12,
   "source": [
    "df = tibble(\n",
    "  x=[1,2,3],\n",
    "  y=c(\"a\", \"d,e,f\", \"g,h\"),\n",
    "  z=c(\"1\", \"2,3,4\", \"5,6\")\n",
    ")"
   ],
   "outputs": [],
   "metadata": {
    "execution": {
     "iopub.execute_input": "2021-04-17T00:55:06.847921Z",
     "iopub.status.busy": "2021-04-17T00:55:06.847377Z",
     "iopub.status.idle": "2021-04-17T00:55:06.861789Z",
     "shell.execute_reply": "2021-04-17T00:55:06.861234Z"
    }
   }
  },
  {
   "cell_type": "code",
   "execution_count": 14,
   "source": [
    "df >> separate_rows(f.y, f.z, convert={'z': int})"
   ],
   "outputs": [
    {
     "output_type": "execute_result",
     "data": {
      "text/plain": [
       "        x        y       z\n",
       "  <int64> <object> <int64>\n",
       "0       1        a       1\n",
       "1       2        d       2\n",
       "2       2        e       3\n",
       "3       2        f       4\n",
       "4       3        g       5\n",
       "5       3        h       6"
      ],
      "text/html": [
       "<table border=\"1\" class=\"dataframe\">\n",
       "  <thead>\n",
       "    <tr style=\"text-align: right;\">\n",
       "      <th></th>\n",
       "      <th>x</th>\n",
       "      <th>y</th>\n",
       "      <th>z</th>\n",
       "    </tr>\n",
       "  </thead>\n",
       "  <tbody>\n",
       "    <tr>\n",
       "      <th style=\"font-style: italic;\" ></th>\n",
       "      <td style=\"font-style: italic;\" >&lt;int64&gt;</td>\n",
       "      <td style=\"font-style: italic;\" >&lt;object&gt;</td>\n",
       "      <td style=\"font-style: italic;\" >&lt;int64&gt;</td>\n",
       "    </tr>\n",
       "    <tr>\n",
       "      <th>0</th>\n",
       "      <td>1</td>\n",
       "      <td>a</td>\n",
       "      <td>1</td>\n",
       "    </tr>\n",
       "    <tr>\n",
       "      <th>1</th>\n",
       "      <td>2</td>\n",
       "      <td>d</td>\n",
       "      <td>2</td>\n",
       "    </tr>\n",
       "    <tr>\n",
       "      <th>2</th>\n",
       "      <td>2</td>\n",
       "      <td>e</td>\n",
       "      <td>3</td>\n",
       "    </tr>\n",
       "    <tr>\n",
       "      <th>3</th>\n",
       "      <td>2</td>\n",
       "      <td>f</td>\n",
       "      <td>4</td>\n",
       "    </tr>\n",
       "    <tr>\n",
       "      <th>4</th>\n",
       "      <td>3</td>\n",
       "      <td>g</td>\n",
       "      <td>5</td>\n",
       "    </tr>\n",
       "    <tr>\n",
       "      <th>5</th>\n",
       "      <td>3</td>\n",
       "      <td>h</td>\n",
       "      <td>6</td>\n",
       "    </tr>\n",
       "  </tbody>\n",
       "</table>"
      ]
     },
     "metadata": {},
     "execution_count": 14
    }
   ],
   "metadata": {
    "execution": {
     "iopub.execute_input": "2021-04-17T00:55:06.867252Z",
     "iopub.status.busy": "2021-04-17T00:55:06.866623Z",
     "iopub.status.idle": "2021-04-17T00:55:06.903701Z",
     "shell.execute_reply": "2021-04-17T00:55:06.903227Z"
    }
   }
  },
  {
   "cell_type": "code",
   "execution_count": null,
   "source": [],
   "outputs": [],
   "metadata": {}
  }
 ],
 "metadata": {
  "kernelspec": {
   "display_name": "Python 3",
   "language": "python",
   "name": "python3"
  },
  "language_info": {
   "codemirror_mode": {
    "name": "ipython",
    "version": 3
   },
   "file_extension": ".py",
   "mimetype": "text/x-python",
   "name": "python",
   "nbconvert_exporter": "python",
   "pygments_lexer": "ipython3",
   "version": "3.7.8"
  }
 },
 "nbformat": 4,
 "nbformat_minor": 5
}