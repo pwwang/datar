{
 "cells": [
  {
   "cell_type": "code",
   "execution_count": 1,
   "id": "005da05e",
   "metadata": {
    "execution": {
     "iopub.execute_input": "2021-07-16T22:27:18.766343Z",
     "iopub.status.busy": "2021-07-16T22:27:18.765294Z",
     "iopub.status.idle": "2021-07-16T22:27:19.764916Z",
     "shell.execute_reply": "2021-07-16T22:27:19.765324Z"
    }
   },
   "outputs": [
    {
     "name": "stderr",
     "output_type": "stream",
     "text": [
      "[2022-03-06 02:33:28][datar][WARNING] Builtin name \"min\" has been overriden by datar.\n",
      "[2022-03-06 02:33:28][datar][WARNING] Builtin name \"max\" has been overriden by datar.\n",
      "[2022-03-06 02:33:28][datar][WARNING] Builtin name \"sum\" has been overriden by datar.\n",
      "[2022-03-06 02:33:28][datar][WARNING] Builtin name \"abs\" has been overriden by datar.\n",
      "[2022-03-06 02:33:28][datar][WARNING] Builtin name \"round\" has been overriden by datar.\n",
      "[2022-03-06 02:33:28][datar][WARNING] Builtin name \"all\" has been overriden by datar.\n",
      "[2022-03-06 02:33:28][datar][WARNING] Builtin name \"any\" has been overriden by datar.\n",
      "[2022-03-06 02:33:28][datar][WARNING] Builtin name \"re\" has been overriden by datar.\n",
      "[2022-03-06 02:33:28][datar][WARNING] Builtin name \"filter\" has been overriden by datar.\n",
      "[2022-03-06 02:33:28][datar][WARNING] Builtin name \"slice\" has been overriden by datar.\n"
     ]
    },
    {
     "data": {
      "text/html": [
       "<div style=\"text-align: right; text-style: italic\">Try this notebook on <a target=\"_blank\" href=\"https://mybinder.org/v2/gh/pwwang/datar/93d069f3ca36711fc811c61dcf60e9fc3d1460a5?filepath=docs%2Fnotebooks%2Fseparate.ipynb\">binder</a>.</div>"
      ],
      "text/plain": [
       "<IPython.core.display.HTML object>"
      ]
     },
     "metadata": {},
     "output_type": "display_data"
    },
    {
     "data": {
      "text/markdown": [
       "### # separate  "
      ],
      "text/plain": [
       "<IPython.core.display.Markdown object>"
      ]
     },
     "metadata": {},
     "output_type": "display_data"
    },
    {
     "data": {
      "text/markdown": [
       "##### Given either a regular expression or a vector of character positions,\n",
       "turns a single character column into multiple columns.  \n",
       "\n",
       "##### Args:\n",
       "&emsp;&emsp;`data`: The dataframe  \n",
       "&emsp;&emsp;`col`: Column name or position.  \n",
       "&emsp;&emsp;`into`: Names of new variables to create as character vector.  \n",
       "&emsp;&emsp;&emsp;&emsp;Use `None`/`NA`/`NULL` to omit the variable in the output.  \n",
       "\n",
       "&emsp;&emsp;`sep`: Separator between columns.  \n",
       "&emsp;&emsp;&emsp;&emsp;If str, `sep` is interpreted as a regular expression.  \n",
       "&emsp;&emsp;&emsp;&emsp;The default value is a regular expression that matches  \n",
       "&emsp;&emsp;&emsp;&emsp;any sequence of non-alphanumeric values.  \n",
       "&emsp;&emsp;&emsp;&emsp;If int, `sep` is interpreted as character positions to split at.  \n",
       "\n",
       "&emsp;&emsp;`remove`: If TRUE, remove input column from output data frame.  \n",
       "&emsp;&emsp;`convert`: The universal type for the extracted columns or a dict for  \n",
       "&emsp;&emsp;&emsp;&emsp;individual ones  \n",
       "&emsp;&emsp;&emsp;&emsp;Note that when given `TRUE`, `DataFrame.convert_dtypes()` is called,  \n",
       "&emsp;&emsp;&emsp;&emsp;but it will not convert `str` to other types  \n",
       "&emsp;&emsp;&emsp;&emsp;(For example, `'1'` to `1`). You have to specify the dtype yourself.  \n",
       "\n",
       "&emsp;&emsp;`extra`: If sep is a character vector, this controls what happens when  \n",
       "&emsp;&emsp;&emsp;&emsp;there are too many pieces. There are three valid options:  \n",
       "\n",
       "&emsp;&emsp;&emsp;&emsp;- \"warn\" (the default): emit a warning and drop extra values.\n",
       "\n",
       "&emsp;&emsp;&emsp;&emsp;- \"drop\": drop any extra values without a warning.\n",
       "\n",
       "&emsp;&emsp;&emsp;&emsp;- \"merge\": only splits at most length(into) times\n",
       "\n",
       "&emsp;&emsp;`fill`: If sep is a character vector, this controls what happens when  \n",
       "&emsp;&emsp;&emsp;&emsp;there are not enough pieces. There are three valid options:  \n",
       "\n",
       "&emsp;&emsp;&emsp;&emsp;- \"warn\" (the default): emit a warning and fill from the right\n",
       "\n",
       "&emsp;&emsp;&emsp;&emsp;- \"right\": fill with missing values on the right\n",
       "\n",
       "&emsp;&emsp;&emsp;&emsp;- \"left\": fill with missing values on the left\n",
       "\n",
       "##### Returns:\n",
       "&emsp;&emsp;Dataframe with separated columns.  \n"
      ],
      "text/plain": [
       "<IPython.core.display.Markdown object>"
      ]
     },
     "metadata": {},
     "output_type": "display_data"
    },
    {
     "data": {
      "text/markdown": [
       "### # separate_rows  "
      ],
      "text/plain": [
       "<IPython.core.display.Markdown object>"
      ]
     },
     "metadata": {},
     "output_type": "display_data"
    },
    {
     "data": {
      "text/markdown": [
       "##### Separates the values and places each one in its own row.\n",
       "\n",
       "##### Args:\n",
       "&emsp;&emsp;`data`: The dataframe  \n",
       "&emsp;&emsp;`*columns`: The columns to separate on  \n",
       "&emsp;&emsp;`sep`: Separator between columns.  \n",
       "&emsp;&emsp;`convert`: The universal type for the extracted columns or a dict for  \n",
       "&emsp;&emsp;&emsp;&emsp;individual ones  \n",
       "\n",
       "##### Returns:\n",
       "&emsp;&emsp;Dataframe with rows separated and repeated.  \n"
      ],
      "text/plain": [
       "<IPython.core.display.Markdown object>"
      ]
     },
     "metadata": {},
     "output_type": "display_data"
    }
   ],
   "source": [
    "# https://tidyr.tidyverse.org/reference/separate.html\n",
    "\n",
    "from datar.all import *\n",
    "\n",
    "%run nb_helpers.py\n",
    "nb_header(separate, separate_rows)"
   ]
  },
  {
   "cell_type": "code",
   "execution_count": 2,
   "id": "753fe6bf",
   "metadata": {
    "execution": {
     "iopub.execute_input": "2021-07-16T22:27:19.778843Z",
     "iopub.status.busy": "2021-07-16T22:27:19.778209Z",
     "iopub.status.idle": "2021-07-16T22:27:20.040544Z",
     "shell.execute_reply": "2021-07-16T22:27:20.041222Z"
    }
   },
   "outputs": [
    {
     "data": {
      "text/html": [
       "<div>\n",
       "<style scoped>\n",
       "    .dataframe tbody tr th:only-of-type {\n",
       "        vertical-align: middle;\n",
       "    }\n",
       "\n",
       "    .dataframe tbody tr th {\n",
       "        vertical-align: top;\n",
       "    }\n",
       "\n",
       "    .dataframe thead th {\n",
       "        text-align: right;\n",
       "    }\n",
       "</style>\n",
       "<table border=\"1\" class=\"dataframe\">\n",
       "  <thead>\n",
       "    <tr style=\"text-align: right;\">\n",
       "      <th></th>\n",
       "      <th>A</th>\n",
       "      <th>B</th>\n",
       "    </tr>\n",
       "  </thead>\n",
       "  <tbody>\n",
       "    <tr>\n",
       "      <th style=\"font-style: italic;\" ></th>\n",
       "      <td style=\"font-style: italic;\" >&lt;object&gt;</td>\n",
       "      <td style=\"font-style: italic;\" >&lt;object&gt;</td>\n",
       "    </tr>\n",
       "    <tr>\n",
       "      <th>0</th>\n",
       "      <td>NaN</td>\n",
       "      <td>NaN</td>\n",
       "    </tr>\n",
       "    <tr>\n",
       "      <th>1</th>\n",
       "      <td>x</td>\n",
       "      <td>y</td>\n",
       "    </tr>\n",
       "    <tr>\n",
       "      <th>2</th>\n",
       "      <td>x</td>\n",
       "      <td>z</td>\n",
       "    </tr>\n",
       "    <tr>\n",
       "      <th>3</th>\n",
       "      <td>y</td>\n",
       "      <td>z</td>\n",
       "    </tr>\n",
       "  </tbody>\n",
       "</table>\n",
       "</div>\n"
      ],
      "text/plain": [
       "         A        B\n",
       "  <object> <object>\n",
       "0      NaN      NaN\n",
       "1        x        y\n",
       "2        x        z\n",
       "3        y        z"
      ]
     },
     "execution_count": 2,
     "metadata": {},
     "output_type": "execute_result"
    }
   ],
   "source": [
    "df = tibble(x=c(NA, \"x.y\", \"x.z\", \"y.z\"))\n",
    "df >> separate(f.x, c(\"A\", \"B\"))"
   ]
  },
  {
   "cell_type": "code",
   "execution_count": 3,
   "id": "1e4c018c",
   "metadata": {
    "execution": {
     "iopub.execute_input": "2021-07-16T22:27:20.062417Z",
     "iopub.status.busy": "2021-07-16T22:27:20.061661Z",
     "iopub.status.idle": "2021-07-16T22:27:20.068845Z",
     "shell.execute_reply": "2021-07-16T22:27:20.069252Z"
    }
   },
   "outputs": [
    {
     "data": {
      "text/html": [
       "<div>\n",
       "<style scoped>\n",
       "    .dataframe tbody tr th:only-of-type {\n",
       "        vertical-align: middle;\n",
       "    }\n",
       "\n",
       "    .dataframe tbody tr th {\n",
       "        vertical-align: top;\n",
       "    }\n",
       "\n",
       "    .dataframe thead th {\n",
       "        text-align: right;\n",
       "    }\n",
       "</style>\n",
       "<table border=\"1\" class=\"dataframe\">\n",
       "  <thead>\n",
       "    <tr style=\"text-align: right;\">\n",
       "      <th></th>\n",
       "      <th>B</th>\n",
       "    </tr>\n",
       "  </thead>\n",
       "  <tbody>\n",
       "    <tr>\n",
       "      <th style=\"font-style: italic;\" ></th>\n",
       "      <td style=\"font-style: italic;\" >&lt;object&gt;</td>\n",
       "    </tr>\n",
       "    <tr>\n",
       "      <th>0</th>\n",
       "      <td>NaN</td>\n",
       "    </tr>\n",
       "    <tr>\n",
       "      <th>1</th>\n",
       "      <td>y</td>\n",
       "    </tr>\n",
       "    <tr>\n",
       "      <th>2</th>\n",
       "      <td>z</td>\n",
       "    </tr>\n",
       "    <tr>\n",
       "      <th>3</th>\n",
       "      <td>z</td>\n",
       "    </tr>\n",
       "  </tbody>\n",
       "</table>\n",
       "</div>\n"
      ],
      "text/plain": [
       "         B\n",
       "  <object>\n",
       "0      NaN\n",
       "1        y\n",
       "2        z\n",
       "3        z"
      ]
     },
     "execution_count": 3,
     "metadata": {},
     "output_type": "execute_result"
    }
   ],
   "source": [
    "df >> separate(f.x, c(NA, \"B\"))"
   ]
  },
  {
   "cell_type": "code",
   "execution_count": 4,
   "id": "053b5044",
   "metadata": {
    "execution": {
     "iopub.execute_input": "2021-07-16T22:27:20.080729Z",
     "iopub.status.busy": "2021-07-16T22:27:20.080030Z",
     "iopub.status.idle": "2021-07-16T22:27:20.118557Z",
     "shell.execute_reply": "2021-07-16T22:27:20.118982Z"
    }
   },
   "outputs": [
    {
     "name": "stderr",
     "output_type": "stream",
     "text": [
      "[2022-03-06 02:33:30][datar][WARNING] Expected 2 pieces. Additional pieces discarded in 1 rows ['x y z'].\n",
      "[2022-03-06 02:33:30][datar][WARNING] Expected 2 pieces. Missing pieces filled with `NA` in 1 rows ['x'].\n"
     ]
    },
    {
     "data": {
      "text/html": [
       "<div>\n",
       "<style scoped>\n",
       "    .dataframe tbody tr th:only-of-type {\n",
       "        vertical-align: middle;\n",
       "    }\n",
       "\n",
       "    .dataframe tbody tr th {\n",
       "        vertical-align: top;\n",
       "    }\n",
       "\n",
       "    .dataframe thead th {\n",
       "        text-align: right;\n",
       "    }\n",
       "</style>\n",
       "<table border=\"1\" class=\"dataframe\">\n",
       "  <thead>\n",
       "    <tr style=\"text-align: right;\">\n",
       "      <th></th>\n",
       "      <th>a</th>\n",
       "      <th>b</th>\n",
       "    </tr>\n",
       "  </thead>\n",
       "  <tbody>\n",
       "    <tr>\n",
       "      <th style=\"font-style: italic;\" ></th>\n",
       "      <td style=\"font-style: italic;\" >&lt;object&gt;</td>\n",
       "      <td style=\"font-style: italic;\" >&lt;object&gt;</td>\n",
       "    </tr>\n",
       "    <tr>\n",
       "      <th>0</th>\n",
       "      <td>x</td>\n",
       "      <td>NaN</td>\n",
       "    </tr>\n",
       "    <tr>\n",
       "      <th>1</th>\n",
       "      <td>x</td>\n",
       "      <td>y</td>\n",
       "    </tr>\n",
       "    <tr>\n",
       "      <th>2</th>\n",
       "      <td>x</td>\n",
       "      <td>y</td>\n",
       "    </tr>\n",
       "    <tr>\n",
       "      <th>3</th>\n",
       "      <td>NaN</td>\n",
       "      <td>NaN</td>\n",
       "    </tr>\n",
       "  </tbody>\n",
       "</table>\n",
       "</div>\n"
      ],
      "text/plain": [
       "         a        b\n",
       "  <object> <object>\n",
       "0        x      NaN\n",
       "1        x        y\n",
       "2        x        y\n",
       "3      NaN      NaN"
      ]
     },
     "execution_count": 4,
     "metadata": {},
     "output_type": "execute_result"
    }
   ],
   "source": [
    "df = tibble(x=c(\"x\", \"x y\", \"x y z\", NA))\n",
    "df >> separate(f.x, c(\"a\", \"b\"))"
   ]
  },
  {
   "cell_type": "code",
   "execution_count": 5,
   "id": "d7541e84",
   "metadata": {
    "execution": {
     "iopub.execute_input": "2021-07-16T22:27:20.141111Z",
     "iopub.status.busy": "2021-07-16T22:27:20.140187Z",
     "iopub.status.idle": "2021-07-16T22:27:20.147100Z",
     "shell.execute_reply": "2021-07-16T22:27:20.147500Z"
    }
   },
   "outputs": [
    {
     "data": {
      "text/html": [
       "<div>\n",
       "<style scoped>\n",
       "    .dataframe tbody tr th:only-of-type {\n",
       "        vertical-align: middle;\n",
       "    }\n",
       "\n",
       "    .dataframe tbody tr th {\n",
       "        vertical-align: top;\n",
       "    }\n",
       "\n",
       "    .dataframe thead th {\n",
       "        text-align: right;\n",
       "    }\n",
       "</style>\n",
       "<table border=\"1\" class=\"dataframe\">\n",
       "  <thead>\n",
       "    <tr style=\"text-align: right;\">\n",
       "      <th></th>\n",
       "      <th>a</th>\n",
       "      <th>b</th>\n",
       "    </tr>\n",
       "  </thead>\n",
       "  <tbody>\n",
       "    <tr>\n",
       "      <th style=\"font-style: italic;\" ></th>\n",
       "      <td style=\"font-style: italic;\" >&lt;object&gt;</td>\n",
       "      <td style=\"font-style: italic;\" >&lt;object&gt;</td>\n",
       "    </tr>\n",
       "    <tr>\n",
       "      <th>0</th>\n",
       "      <td>x</td>\n",
       "      <td>NaN</td>\n",
       "    </tr>\n",
       "    <tr>\n",
       "      <th>1</th>\n",
       "      <td>x</td>\n",
       "      <td>y</td>\n",
       "    </tr>\n",
       "    <tr>\n",
       "      <th>2</th>\n",
       "      <td>x</td>\n",
       "      <td>y</td>\n",
       "    </tr>\n",
       "    <tr>\n",
       "      <th>3</th>\n",
       "      <td>NaN</td>\n",
       "      <td>NaN</td>\n",
       "    </tr>\n",
       "  </tbody>\n",
       "</table>\n",
       "</div>\n"
      ],
      "text/plain": [
       "         a        b\n",
       "  <object> <object>\n",
       "0        x      NaN\n",
       "1        x        y\n",
       "2        x        y\n",
       "3      NaN      NaN"
      ]
     },
     "execution_count": 5,
     "metadata": {},
     "output_type": "execute_result"
    }
   ],
   "source": [
    "df >> separate(f.x, c(\"a\", \"b\"), extra=\"drop\", fill=\"right\")"
   ]
  },
  {
   "cell_type": "code",
   "execution_count": 6,
   "id": "fb7a4e8c",
   "metadata": {
    "execution": {
     "iopub.execute_input": "2021-07-16T22:27:20.169036Z",
     "iopub.status.busy": "2021-07-16T22:27:20.168275Z",
     "iopub.status.idle": "2021-07-16T22:27:20.177192Z",
     "shell.execute_reply": "2021-07-16T22:27:20.177742Z"
    }
   },
   "outputs": [
    {
     "data": {
      "text/html": [
       "<div>\n",
       "<style scoped>\n",
       "    .dataframe tbody tr th:only-of-type {\n",
       "        vertical-align: middle;\n",
       "    }\n",
       "\n",
       "    .dataframe tbody tr th {\n",
       "        vertical-align: top;\n",
       "    }\n",
       "\n",
       "    .dataframe thead th {\n",
       "        text-align: right;\n",
       "    }\n",
       "</style>\n",
       "<table border=\"1\" class=\"dataframe\">\n",
       "  <thead>\n",
       "    <tr style=\"text-align: right;\">\n",
       "      <th></th>\n",
       "      <th>a</th>\n",
       "      <th>b</th>\n",
       "    </tr>\n",
       "  </thead>\n",
       "  <tbody>\n",
       "    <tr>\n",
       "      <th style=\"font-style: italic;\" ></th>\n",
       "      <td style=\"font-style: italic;\" >&lt;object&gt;</td>\n",
       "      <td style=\"font-style: italic;\" >&lt;object&gt;</td>\n",
       "    </tr>\n",
       "    <tr>\n",
       "      <th>0</th>\n",
       "      <td>NaN</td>\n",
       "      <td>x</td>\n",
       "    </tr>\n",
       "    <tr>\n",
       "      <th>1</th>\n",
       "      <td>x</td>\n",
       "      <td>y</td>\n",
       "    </tr>\n",
       "    <tr>\n",
       "      <th>2</th>\n",
       "      <td>x</td>\n",
       "      <td>y z</td>\n",
       "    </tr>\n",
       "    <tr>\n",
       "      <th>3</th>\n",
       "      <td>NaN</td>\n",
       "      <td>NaN</td>\n",
       "    </tr>\n",
       "  </tbody>\n",
       "</table>\n",
       "</div>\n"
      ],
      "text/plain": [
       "         a        b\n",
       "  <object> <object>\n",
       "0      NaN        x\n",
       "1        x        y\n",
       "2        x      y z\n",
       "3      NaN      NaN"
      ]
     },
     "execution_count": 6,
     "metadata": {},
     "output_type": "execute_result"
    }
   ],
   "source": [
    "df >> separate(f.x, c(\"a\", \"b\"), extra=\"merge\", fill=\"left\")"
   ]
  },
  {
   "cell_type": "code",
   "execution_count": 7,
   "id": "204809bd",
   "metadata": {
    "execution": {
     "iopub.execute_input": "2021-07-16T22:27:20.188461Z",
     "iopub.status.busy": "2021-07-16T22:27:20.187899Z",
     "iopub.status.idle": "2021-07-16T22:27:20.228915Z",
     "shell.execute_reply": "2021-07-16T22:27:20.229494Z"
    }
   },
   "outputs": [
    {
     "name": "stderr",
     "output_type": "stream",
     "text": [
      "[2022-03-06 02:33:33][datar][WARNING] Expected 3 pieces. Missing pieces filled with `NA` in 2 rows ['x', 'x y'].\n"
     ]
    },
    {
     "data": {
      "text/html": [
       "<div>\n",
       "<style scoped>\n",
       "    .dataframe tbody tr th:only-of-type {\n",
       "        vertical-align: middle;\n",
       "    }\n",
       "\n",
       "    .dataframe tbody tr th {\n",
       "        vertical-align: top;\n",
       "    }\n",
       "\n",
       "    .dataframe thead th {\n",
       "        text-align: right;\n",
       "    }\n",
       "</style>\n",
       "<table border=\"1\" class=\"dataframe\">\n",
       "  <thead>\n",
       "    <tr style=\"text-align: right;\">\n",
       "      <th></th>\n",
       "      <th>a</th>\n",
       "      <th>b</th>\n",
       "      <th>c</th>\n",
       "    </tr>\n",
       "  </thead>\n",
       "  <tbody>\n",
       "    <tr>\n",
       "      <th style=\"font-style: italic;\" ></th>\n",
       "      <td style=\"font-style: italic;\" >&lt;object&gt;</td>\n",
       "      <td style=\"font-style: italic;\" >&lt;object&gt;</td>\n",
       "      <td style=\"font-style: italic;\" >&lt;object&gt;</td>\n",
       "    </tr>\n",
       "    <tr>\n",
       "      <th>0</th>\n",
       "      <td>x</td>\n",
       "      <td>NaN</td>\n",
       "      <td>NaN</td>\n",
       "    </tr>\n",
       "    <tr>\n",
       "      <th>1</th>\n",
       "      <td>x</td>\n",
       "      <td>y</td>\n",
       "      <td>NaN</td>\n",
       "    </tr>\n",
       "    <tr>\n",
       "      <th>2</th>\n",
       "      <td>x</td>\n",
       "      <td>y</td>\n",
       "      <td>z</td>\n",
       "    </tr>\n",
       "    <tr>\n",
       "      <th>3</th>\n",
       "      <td>NaN</td>\n",
       "      <td>NaN</td>\n",
       "      <td>NaN</td>\n",
       "    </tr>\n",
       "  </tbody>\n",
       "</table>\n",
       "</div>\n"
      ],
      "text/plain": [
       "         a        b        c\n",
       "  <object> <object> <object>\n",
       "0        x      NaN      NaN\n",
       "1        x        y      NaN\n",
       "2        x        y        z\n",
       "3      NaN      NaN      NaN"
      ]
     },
     "execution_count": 7,
     "metadata": {},
     "output_type": "execute_result"
    }
   ],
   "source": [
    "df >> separate(f.x, c(\"a\", \"b\", \"c\"))"
   ]
  },
  {
   "cell_type": "code",
   "execution_count": 8,
   "id": "38bddf96",
   "metadata": {
    "execution": {
     "iopub.execute_input": "2021-07-16T22:27:20.254775Z",
     "iopub.status.busy": "2021-07-16T22:27:20.254144Z",
     "iopub.status.idle": "2021-07-16T22:27:20.285273Z",
     "shell.execute_reply": "2021-07-16T22:27:20.285782Z"
    }
   },
   "outputs": [
    {
     "data": {
      "text/html": [
       "<div>\n",
       "<style scoped>\n",
       "    .dataframe tbody tr th:only-of-type {\n",
       "        vertical-align: middle;\n",
       "    }\n",
       "\n",
       "    .dataframe tbody tr th {\n",
       "        vertical-align: top;\n",
       "    }\n",
       "\n",
       "    .dataframe thead th {\n",
       "        text-align: right;\n",
       "    }\n",
       "</style>\n",
       "<table border=\"1\" class=\"dataframe\">\n",
       "  <thead>\n",
       "    <tr style=\"text-align: right;\">\n",
       "      <th></th>\n",
       "      <th>key</th>\n",
       "      <th>value</th>\n",
       "    </tr>\n",
       "  </thead>\n",
       "  <tbody>\n",
       "    <tr>\n",
       "      <th style=\"font-style: italic;\" ></th>\n",
       "      <td style=\"font-style: italic;\" >&lt;object&gt;</td>\n",
       "      <td style=\"font-style: italic;\" >&lt;object&gt;</td>\n",
       "    </tr>\n",
       "    <tr>\n",
       "      <th>0</th>\n",
       "      <td>x</td>\n",
       "      <td>123</td>\n",
       "    </tr>\n",
       "    <tr>\n",
       "      <th>1</th>\n",
       "      <td>y</td>\n",
       "      <td>error: 7</td>\n",
       "    </tr>\n",
       "  </tbody>\n",
       "</table>\n",
       "</div>\n"
      ],
      "text/plain": [
       "       key     value\n",
       "  <object>  <object>\n",
       "0        x       123\n",
       "1        y  error: 7"
      ]
     },
     "execution_count": 8,
     "metadata": {},
     "output_type": "execute_result"
    }
   ],
   "source": [
    "df = tibble(x=c(\"x: 123\", \"y: error: 7\"))\n",
    "df >> separate(f.x, c(\"key\", \"value\"), \": \", extra=\"merge\")"
   ]
  },
  {
   "cell_type": "code",
   "execution_count": 9,
   "id": "b147f21e",
   "metadata": {
    "execution": {
     "iopub.execute_input": "2021-07-16T22:27:20.312361Z",
     "iopub.status.busy": "2021-07-16T22:27:20.311692Z",
     "iopub.status.idle": "2021-07-16T22:27:20.351764Z",
     "shell.execute_reply": "2021-07-16T22:27:20.352356Z"
    }
   },
   "outputs": [
    {
     "data": {
      "text/html": [
       "<div>\n",
       "<style scoped>\n",
       "    .dataframe tbody tr th:only-of-type {\n",
       "        vertical-align: middle;\n",
       "    }\n",
       "\n",
       "    .dataframe tbody tr th {\n",
       "        vertical-align: top;\n",
       "    }\n",
       "\n",
       "    .dataframe thead th {\n",
       "        text-align: right;\n",
       "    }\n",
       "</style>\n",
       "<table border=\"1\" class=\"dataframe\">\n",
       "  <thead>\n",
       "    <tr style=\"text-align: right;\">\n",
       "      <th></th>\n",
       "      <th>A</th>\n",
       "      <th>B</th>\n",
       "    </tr>\n",
       "  </thead>\n",
       "  <tbody>\n",
       "    <tr>\n",
       "      <th style=\"font-style: italic;\" ></th>\n",
       "      <td style=\"font-style: italic;\" >&lt;object&gt;</td>\n",
       "      <td style=\"font-style: italic;\" >&lt;object&gt;</td>\n",
       "    </tr>\n",
       "    <tr>\n",
       "      <th>0</th>\n",
       "      <td>NaN</td>\n",
       "      <td>NaN</td>\n",
       "    </tr>\n",
       "    <tr>\n",
       "      <th>1</th>\n",
       "      <td>x</td>\n",
       "      <td>y</td>\n",
       "    </tr>\n",
       "    <tr>\n",
       "      <th>2</th>\n",
       "      <td>x</td>\n",
       "      <td>z</td>\n",
       "    </tr>\n",
       "    <tr>\n",
       "      <th>3</th>\n",
       "      <td>y</td>\n",
       "      <td>z</td>\n",
       "    </tr>\n",
       "  </tbody>\n",
       "</table>\n",
       "</div>\n"
      ],
      "text/plain": [
       "         A        B\n",
       "  <object> <object>\n",
       "0      NaN      NaN\n",
       "1        x        y\n",
       "2        x        z\n",
       "3        y        z"
      ]
     },
     "execution_count": 9,
     "metadata": {},
     "output_type": "execute_result"
    }
   ],
   "source": [
    "df = tibble(x=c(NA, \"x?y\", \"x.z\", \"y:z\"))\n",
    "df >> separate(f.x, c(\"A\",\"B\"), sep=r\"[.?:]\")"
   ]
  },
  {
   "cell_type": "code",
   "execution_count": 10,
   "id": "d029d623",
   "metadata": {
    "execution": {
     "iopub.execute_input": "2021-07-16T22:27:20.385969Z",
     "iopub.status.busy": "2021-07-16T22:27:20.384572Z",
     "iopub.status.idle": "2021-07-16T22:27:20.435868Z",
     "shell.execute_reply": "2021-07-16T22:27:20.436346Z"
    }
   },
   "outputs": [
    {
     "name": "stderr",
     "output_type": "stream",
     "text": [
      "[2022-03-06 02:33:37][datar][WARNING] Expected 2 pieces. Missing pieces filled with `NA` in 1 rows ['z'].\n"
     ]
    },
    {
     "data": {
      "text/html": [
       "<div>\n",
       "<style scoped>\n",
       "    .dataframe tbody tr th:only-of-type {\n",
       "        vertical-align: middle;\n",
       "    }\n",
       "\n",
       "    .dataframe tbody tr th {\n",
       "        vertical-align: top;\n",
       "    }\n",
       "\n",
       "    .dataframe thead th {\n",
       "        text-align: right;\n",
       "    }\n",
       "</style>\n",
       "<table border=\"1\" class=\"dataframe\">\n",
       "  <thead>\n",
       "    <tr style=\"text-align: right;\">\n",
       "      <th></th>\n",
       "      <th>key</th>\n",
       "      <th>value</th>\n",
       "    </tr>\n",
       "  </thead>\n",
       "  <tbody>\n",
       "    <tr>\n",
       "      <th style=\"font-style: italic;\" ></th>\n",
       "      <td style=\"font-style: italic;\" >&lt;object&gt;</td>\n",
       "      <td style=\"font-style: italic;\" >&lt;object&gt;</td>\n",
       "    </tr>\n",
       "    <tr>\n",
       "      <th>0</th>\n",
       "      <td>x</td>\n",
       "      <td>1</td>\n",
       "    </tr>\n",
       "    <tr>\n",
       "      <th>1</th>\n",
       "      <td>x</td>\n",
       "      <td>2</td>\n",
       "    </tr>\n",
       "    <tr>\n",
       "      <th>2</th>\n",
       "      <td>y</td>\n",
       "      <td>4</td>\n",
       "    </tr>\n",
       "    <tr>\n",
       "      <th>3</th>\n",
       "      <td>z</td>\n",
       "      <td>NaN</td>\n",
       "    </tr>\n",
       "    <tr>\n",
       "      <th>4</th>\n",
       "      <td>NaN</td>\n",
       "      <td>NaN</td>\n",
       "    </tr>\n",
       "  </tbody>\n",
       "</table>\n",
       "</div>\n"
      ],
      "text/plain": [
       "       key    value\n",
       "  <object> <object>\n",
       "0        x        1\n",
       "1        x        2\n",
       "2        y        4\n",
       "3        z      NaN\n",
       "4      NaN      NaN"
      ]
     },
     "execution_count": 10,
     "metadata": {},
     "output_type": "execute_result"
    }
   ],
   "source": [
    "df = tibble(x=c(\"x:1\", \"x:2\", \"y:4\", \"z\", NA))\n",
    "df >> separate(f.x, c(\"key\",\"value\"), \":\")"
   ]
  },
  {
   "cell_type": "code",
   "execution_count": 11,
   "id": "f1a9ec03",
   "metadata": {
    "execution": {
     "iopub.execute_input": "2021-07-16T22:27:20.446982Z",
     "iopub.status.busy": "2021-07-16T22:27:20.446323Z",
     "iopub.status.idle": "2021-07-16T22:27:20.472635Z",
     "shell.execute_reply": "2021-07-16T22:27:20.473105Z"
    }
   },
   "outputs": [
    {
     "name": "stderr",
     "output_type": "stream",
     "text": [
      "[2022-03-06 02:33:38][datar][WARNING] Expected 2 pieces. Missing pieces filled with `NA` in 1 rows ['z'].\n"
     ]
    },
    {
     "data": {
      "text/html": [
       "<div>\n",
       "<style scoped>\n",
       "    .dataframe tbody tr th:only-of-type {\n",
       "        vertical-align: middle;\n",
       "    }\n",
       "\n",
       "    .dataframe tbody tr th {\n",
       "        vertical-align: top;\n",
       "    }\n",
       "\n",
       "    .dataframe thead th {\n",
       "        text-align: right;\n",
       "    }\n",
       "</style>\n",
       "<table border=\"1\" class=\"dataframe\">\n",
       "  <thead>\n",
       "    <tr style=\"text-align: right;\">\n",
       "      <th></th>\n",
       "      <th>key</th>\n",
       "      <th>value</th>\n",
       "    </tr>\n",
       "  </thead>\n",
       "  <tbody>\n",
       "    <tr>\n",
       "      <th style=\"font-style: italic;\" ></th>\n",
       "      <td style=\"font-style: italic;\" >&lt;object&gt;</td>\n",
       "      <td style=\"font-style: italic;\" >&lt;float64&gt;</td>\n",
       "    </tr>\n",
       "    <tr>\n",
       "      <th>0</th>\n",
       "      <td>x</td>\n",
       "      <td>1.0</td>\n",
       "    </tr>\n",
       "    <tr>\n",
       "      <th>1</th>\n",
       "      <td>x</td>\n",
       "      <td>2.0</td>\n",
       "    </tr>\n",
       "    <tr>\n",
       "      <th>2</th>\n",
       "      <td>y</td>\n",
       "      <td>4.0</td>\n",
       "    </tr>\n",
       "    <tr>\n",
       "      <th>3</th>\n",
       "      <td>z</td>\n",
       "      <td>NaN</td>\n",
       "    </tr>\n",
       "    <tr>\n",
       "      <th>4</th>\n",
       "      <td>NaN</td>\n",
       "      <td>NaN</td>\n",
       "    </tr>\n",
       "  </tbody>\n",
       "</table>\n",
       "</div>\n"
      ],
      "text/plain": [
       "       key     value\n",
       "  <object> <float64>\n",
       "0        x       1.0\n",
       "1        x       2.0\n",
       "2        y       4.0\n",
       "3        z       NaN\n",
       "4      NaN       NaN"
      ]
     },
     "execution_count": 11,
     "metadata": {},
     "output_type": "execute_result"
    },
    {
     "data": {
      "text/plain": [
       "key       object\n",
       "value    float64\n",
       "dtype: object"
      ]
     },
     "execution_count": 11,
     "metadata": {},
     "output_type": "execute_result"
    }
   ],
   "source": [
    "df >> separate(f.x, c(\"key\",\"value\"), \":\", convert={'value': float}) \n",
    "_.dtypes"
   ]
  },
  {
   "cell_type": "code",
   "execution_count": 12,
   "id": "c7af94b8",
   "metadata": {
    "execution": {
     "iopub.execute_input": "2021-07-16T22:27:20.496700Z",
     "iopub.status.busy": "2021-07-16T22:27:20.496152Z",
     "iopub.status.idle": "2021-07-16T22:27:20.518813Z",
     "shell.execute_reply": "2021-07-16T22:27:20.519189Z"
    }
   },
   "outputs": [],
   "source": [
    "df = tibble(\n",
    "  x=[1,2,3],\n",
    "  y=c(\"a\", \"d,e,f\", \"g,h\"),\n",
    "  z=c(\"1\", \"2,3,4\", \"5,6\")\n",
    ")"
   ]
  },
  {
   "cell_type": "code",
   "execution_count": 13,
   "id": "47243faf",
   "metadata": {
    "execution": {
     "iopub.execute_input": "2021-07-16T22:27:20.556179Z",
     "iopub.status.busy": "2021-07-16T22:27:20.555559Z",
     "iopub.status.idle": "2021-07-16T22:27:20.567301Z",
     "shell.execute_reply": "2021-07-16T22:27:20.567719Z"
    }
   },
   "outputs": [
    {
     "data": {
      "text/html": [
       "<div>\n",
       "<style scoped>\n",
       "    .dataframe tbody tr th:only-of-type {\n",
       "        vertical-align: middle;\n",
       "    }\n",
       "\n",
       "    .dataframe tbody tr th {\n",
       "        vertical-align: top;\n",
       "    }\n",
       "\n",
       "    .dataframe thead th {\n",
       "        text-align: right;\n",
       "    }\n",
       "</style>\n",
       "<table border=\"1\" class=\"dataframe\">\n",
       "  <thead>\n",
       "    <tr style=\"text-align: right;\">\n",
       "      <th></th>\n",
       "      <th>x</th>\n",
       "      <th>y</th>\n",
       "      <th>z</th>\n",
       "    </tr>\n",
       "  </thead>\n",
       "  <tbody>\n",
       "    <tr>\n",
       "      <th style=\"font-style: italic;\" ></th>\n",
       "      <td style=\"font-style: italic;\" >&lt;int64&gt;</td>\n",
       "      <td style=\"font-style: italic;\" >&lt;object&gt;</td>\n",
       "      <td style=\"font-style: italic;\" >&lt;int64&gt;</td>\n",
       "    </tr>\n",
       "    <tr>\n",
       "      <th>0</th>\n",
       "      <td>1</td>\n",
       "      <td>a</td>\n",
       "      <td>1</td>\n",
       "    </tr>\n",
       "    <tr>\n",
       "      <th>1</th>\n",
       "      <td>2</td>\n",
       "      <td>d</td>\n",
       "      <td>2</td>\n",
       "    </tr>\n",
       "    <tr>\n",
       "      <th>2</th>\n",
       "      <td>2</td>\n",
       "      <td>e</td>\n",
       "      <td>3</td>\n",
       "    </tr>\n",
       "    <tr>\n",
       "      <th>3</th>\n",
       "      <td>2</td>\n",
       "      <td>f</td>\n",
       "      <td>4</td>\n",
       "    </tr>\n",
       "    <tr>\n",
       "      <th>4</th>\n",
       "      <td>3</td>\n",
       "      <td>g</td>\n",
       "      <td>5</td>\n",
       "    </tr>\n",
       "    <tr>\n",
       "      <th>5</th>\n",
       "      <td>3</td>\n",
       "      <td>h</td>\n",
       "      <td>6</td>\n",
       "    </tr>\n",
       "  </tbody>\n",
       "</table>\n",
       "</div>\n"
      ],
      "text/plain": [
       "        x        y       z\n",
       "  <int64> <object> <int64>\n",
       "0       1        a       1\n",
       "1       2        d       2\n",
       "2       2        e       3\n",
       "3       2        f       4\n",
       "4       3        g       5\n",
       "5       3        h       6"
      ]
     },
     "execution_count": 13,
     "metadata": {},
     "output_type": "execute_result"
    }
   ],
   "source": [
    "df >> separate_rows(f.y, f.z, convert={'z': int})"
   ]
  },
  {
   "cell_type": "code",
   "execution_count": null,
   "id": "f63ac06e",
   "metadata": {},
   "outputs": [],
   "source": []
  }
 ],
 "metadata": {
  "interpreter": {
   "hash": "c4cc73b080e063fcebb9afb794613be7caf4b26129562cba1382945a18cc49cc"
  },
  "kernelspec": {
   "display_name": "Python 3.7.8 64-bit ('base': conda)",
   "name": "python3"
  },
  "language_info": {
   "codemirror_mode": {
    "name": "ipython",
    "version": 3
   },
   "file_extension": ".py",
   "mimetype": "text/x-python",
   "name": "python",
   "nbconvert_exporter": "python",
   "pygments_lexer": "ipython3",
   "version": "3.9.5"
  }
 },
 "nbformat": 4,
 "nbformat_minor": 5
}
