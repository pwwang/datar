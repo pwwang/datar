{
 "cells": [
  {
   "cell_type": "code",
   "execution_count": 1,
   "id": "permanent-waters",
   "metadata": {
    "execution": {
     "iopub.execute_input": "2021-07-16T22:28:33.908144Z",
     "iopub.status.busy": "2021-07-16T22:28:33.907513Z",
     "iopub.status.idle": "2021-07-16T22:28:34.718530Z",
     "shell.execute_reply": "2021-07-16T22:28:34.718946Z"
    }
   },
   "outputs": [
    {
     "data": {
      "text/html": [
       "<div style=\"text-align: right; text-style: italic\">Try this notebook on <a target=\"_blank\" href=\"https://mybinder.org/v2/gh/pwwang/datar/dev?filepath=docs%2Fnotebooks%2Fnear.ipynb\">binder</a>.</div>"
      ],
      "text/plain": [
       "<IPython.core.display.HTML object>"
      ]
     },
     "metadata": {},
     "output_type": "display_data"
    },
    {
     "data": {
      "text/markdown": [
       "### <div style=\"background-color: #EEE; padding: 5px 0 8px 0\">★ near</div>"
      ],
      "text/plain": [
       "<IPython.core.display.Markdown object>"
      ]
     },
     "metadata": {},
     "output_type": "display_data"
    },
    {
     "data": {
      "text/markdown": [
       "##### Compare numbers with tolerance\n",
       "\n",
       "##### Args:\n",
       "&emsp;&emsp;`a`: and  \n",
       "&emsp;&emsp;`b`: Numbers to compare  \n",
       "&emsp;&emsp;`rtol`: The relative tolerance parameter  \n",
       "&emsp;&emsp;`atol`: The absolute tolerance parameter  \n",
       "&emsp;&emsp;`equal_nan`: Whether to compare NaN's as equal.  \n",
       "&emsp;&emsp;&emsp;&emsp;If True, NA's in `a` will be  \n",
       "&emsp;&emsp;&emsp;&emsp;considered equal to NA's in `b` in the output array.  \n",
       "\n",
       "##### Returns:\n",
       "&emsp;&emsp;A bool array indicating element-wise equvalence between a and b  \n"
      ],
      "text/plain": [
       "<IPython.core.display.Markdown object>"
      ]
     },
     "metadata": {},
     "output_type": "display_data"
    }
   ],
   "source": [
    "# https://dplyr.tidyverse.org/reference/near.html\n",
    "%run nb_helpers.py\n",
    "\n",
    "from datar.all import *\n",
    "\n",
    "nb_header(near)"
   ]
  },
  {
   "cell_type": "code",
   "execution_count": 2,
   "id": "employed-supplier",
   "metadata": {
    "execution": {
     "iopub.execute_input": "2021-07-16T22:28:34.724636Z",
     "iopub.status.busy": "2021-07-16T22:28:34.723973Z",
     "iopub.status.idle": "2021-07-16T22:28:34.727483Z",
     "shell.execute_reply": "2021-07-16T22:28:34.727978Z"
    }
   },
   "outputs": [
    {
     "data": {
      "text/plain": [
       "array([False])"
      ]
     },
     "execution_count": 2,
     "metadata": {},
     "output_type": "execute_result"
    }
   ],
   "source": [
    "sqrt(2.0) ** 2.0 == 2.0"
   ]
  },
  {
   "cell_type": "code",
   "execution_count": 3,
   "id": "black-decimal",
   "metadata": {
    "execution": {
     "iopub.execute_input": "2021-07-16T22:28:34.734438Z",
     "iopub.status.busy": "2021-07-16T22:28:34.733793Z",
     "iopub.status.idle": "2021-07-16T22:28:34.736689Z",
     "shell.execute_reply": "2021-07-16T22:28:34.737085Z"
    }
   },
   "outputs": [
    {
     "data": {
      "text/plain": [
       "array([ True])"
      ]
     },
     "execution_count": 3,
     "metadata": {},
     "output_type": "execute_result"
    }
   ],
   "source": [
    "near(sqrt(2.0) ** 2.0, 2.0)"
   ]
  }
 ],
 "metadata": {
  "kernelspec": {
   "display_name": "Python 3",
   "language": "python",
   "name": "python3"
  },
  "language_info": {
   "codemirror_mode": {
    "name": "ipython",
    "version": 3
   },
   "file_extension": ".py",
   "mimetype": "text/x-python",
   "name": "python",
   "nbconvert_exporter": "python",
   "pygments_lexer": "ipython3",
   "version": "3.9.5"
  }
 },
 "nbformat": 4,
 "nbformat_minor": 5
}
