{
 "cells": [
  {
   "cell_type": "code",
   "execution_count": 1,
   "id": "departmental-balloon",
   "metadata": {
    "execution": {
     "iopub.execute_input": "2021-04-17T00:51:36.534923Z",
     "iopub.status.busy": "2021-04-17T00:51:36.534250Z",
     "iopub.status.idle": "2021-04-17T00:51:37.332097Z",
     "shell.execute_reply": "2021-04-17T00:51:37.331072Z"
    }
   },
   "outputs": [
    {
     "output_type": "display_data",
     "data": {
      "text/plain": "<IPython.core.display.HTML object>",
      "text/html": "<div style=\"text-align: right; text-style: italic\">Try this notebook on <a target=\"_blank\" href=\"https://mybinder.org/v2/gh/pwwang/datar/93d069f3ca36711fc811c61dcf60e9fc3d1460a5?filepath=docs%2Fnotebooks%2Fbind.ipynb\">binder</a>.</div>"
     },
     "metadata": {}
    },
    {
     "output_type": "display_data",
     "data": {
      "text/plain": "<IPython.core.display.Markdown object>",
      "text/markdown": "### # bind_rows  "
     },
     "metadata": {}
    },
    {
     "output_type": "display_data",
     "data": {
      "text/plain": "<IPython.core.display.Markdown object>",
      "text/markdown": "##### Bind rows of give dataframes\n\nOriginal APIs https://dplyr.tidyverse.org/reference/bind.html  \n\n##### Args:\n&emsp;&emsp;`_data`: The seed dataframe to bind others  \n&emsp;&emsp;&emsp;&emsp;Could be a dict or a list, keys/indexes will be used for _id col  \n\n&emsp;&emsp;`*datas`: Other dataframes to combine  \n&emsp;&emsp;`_id`: The name of the id columns  \n&emsp;&emsp;`_base0`: Whether `_id` starts from 0 or not, if no keys are provided.  \n&emsp;&emsp;&emsp;&emsp;If `_base0` is not provided, will use  \n&emsp;&emsp;&emsp;&emsp;`datar.base.get_option('index.base.0')`  \n\n&emsp;&emsp;`**kwargs`: A mapping of dataframe, keys will be used as _id col.  \n\n##### Returns:\n&emsp;&emsp;The combined dataframe  \n"
     },
     "metadata": {}
    },
    {
     "output_type": "display_data",
     "data": {
      "text/plain": "<IPython.core.display.Markdown object>",
      "text/markdown": "### # bind_cols  "
     },
     "metadata": {}
    },
    {
     "output_type": "display_data",
     "data": {
      "text/plain": "<IPython.core.display.Markdown object>",
      "text/markdown": "##### Bind columns of give dataframes\n\nNote that unlike `dplyr`, mismatched dimensions are allowed and  \nmissing rows will be filled with `NA`s  \n\n##### Args:\n&emsp;&emsp;`_data`: The seed dataframe to bind others  \n&emsp;&emsp;&emsp;&emsp;Could be a dict, keys will be used for _id col  \n\n&emsp;&emsp;`*datas`: other dataframes to bind  \n&emsp;&emsp;`_name_repair`: treatment of problematic column names:  \n&emsp;&emsp;&emsp;&emsp;- \"minimal\": No name repair or checks, beyond basic existence,\n\n&emsp;&emsp;&emsp;&emsp;- \"unique\": Make sure names are unique and not empty,\n\n&emsp;&emsp;&emsp;&emsp;- \"check_unique\": (default value), no name repair,\n&emsp;&emsp;&emsp;&emsp;&emsp;&emsp;but check they are unique,  \n\n&emsp;&emsp;&emsp;&emsp;- \"universal\": Make the names unique and syntactic\n\n&emsp;&emsp;&emsp;&emsp;- a function: apply custom name repair\n\n&emsp;&emsp;`_base0`: Whether the numeric suffix starts from 0 or not.  \n&emsp;&emsp;&emsp;&emsp;If not specified, will use `datar.base.get_option('index.base.0')`.  \n\n##### Returns:\n&emsp;&emsp;The combined dataframe  \n"
     },
     "metadata": {}
    }
   ],
   "source": [
    "# https://dplyr.tidyverse.org/reference/bind.html\n",
    "\n",
    "from datar.datasets import starwars\n",
    "from datar.all import *\n",
    "\n",
    "%run nb_helpers.py\n",
    "nb_header(bind_rows, bind_cols, book='bind')"
   ]
  },
  {
   "cell_type": "code",
   "execution_count": 2,
   "id": "loose-citation",
   "metadata": {
    "execution": {
     "iopub.execute_input": "2021-04-17T00:51:37.339085Z",
     "iopub.status.busy": "2021-04-17T00:51:37.338332Z",
     "iopub.status.idle": "2021-04-17T00:51:37.399343Z",
     "shell.execute_reply": "2021-04-17T00:51:37.398930Z"
    }
   },
   "outputs": [
    {
     "output_type": "execute_result",
     "data": {
      "text/plain": [
       "                name  height   mass     hair_color   skin_color  eye_color  \\\n",
       "0     Luke Skywalker   172.0   77.0          blond         fair       blue   \n",
       "1              C-3PO   167.0   75.0            NaN         gold     yellow   \n",
       "2              R2-D2    96.0   32.0            NaN  white, blue        red   \n",
       "3        Darth Vader   202.0  136.0           none        white     yellow   \n",
       "4  Biggs Darklighter   183.0   84.0          black        light      brown   \n",
       "5     Obi-Wan Kenobi   182.0   77.0  auburn, white         fair  blue-gray   \n",
       "6   Anakin Skywalker   188.0   84.0          blond         fair       blue   \n",
       "7     Wilhuff Tarkin   180.0    NaN   auburn, grey         fair       blue   \n",
       "\n",
       "   birth_year   sex     gender homeworld species  \n",
       "0        19.0  male  masculine  Tatooine   Human  \n",
       "1       112.0  none  masculine  Tatooine   Droid  \n",
       "2        33.0  none  masculine     Naboo   Droid  \n",
       "3        41.9  male  masculine  Tatooine   Human  \n",
       "4        24.0  male  masculine  Tatooine   Human  \n",
       "5        57.0  male  masculine   Stewjon   Human  \n",
       "6        41.9  male  masculine  Tatooine   Human  \n",
       "7        64.0  male  masculine    Eriadu   Human  "
      ],
      "text/html": "<div>\n<style scoped>\n    .dataframe tbody tr th:only-of-type {\n        vertical-align: middle;\n    }\n\n    .dataframe tbody tr th {\n        vertical-align: top;\n    }\n\n    .dataframe thead th {\n        text-align: right;\n    }\n</style>\n<table border=\"1\" class=\"dataframe\">\n  <thead>\n    <tr style=\"text-align: right;\">\n      <th></th>\n      <th>name</th>\n      <th>height</th>\n      <th>mass</th>\n      <th>hair_color</th>\n      <th>skin_color</th>\n      <th>eye_color</th>\n      <th>birth_year</th>\n      <th>sex</th>\n      <th>gender</th>\n      <th>homeworld</th>\n      <th>species</th>\n    </tr>\n  </thead>\n  <tbody>\n    <tr>\n      <th>0</th>\n      <td>Luke Skywalker</td>\n      <td>172.0</td>\n      <td>77.0</td>\n      <td>blond</td>\n      <td>fair</td>\n      <td>blue</td>\n      <td>19.0</td>\n      <td>male</td>\n      <td>masculine</td>\n      <td>Tatooine</td>\n      <td>Human</td>\n    </tr>\n    <tr>\n      <th>1</th>\n      <td>C-3PO</td>\n      <td>167.0</td>\n      <td>75.0</td>\n      <td>NaN</td>\n      <td>gold</td>\n      <td>yellow</td>\n      <td>112.0</td>\n      <td>none</td>\n      <td>masculine</td>\n      <td>Tatooine</td>\n      <td>Droid</td>\n    </tr>\n    <tr>\n      <th>2</th>\n      <td>R2-D2</td>\n      <td>96.0</td>\n      <td>32.0</td>\n      <td>NaN</td>\n      <td>white, blue</td>\n      <td>red</td>\n      <td>33.0</td>\n      <td>none</td>\n      <td>masculine</td>\n      <td>Naboo</td>\n      <td>Droid</td>\n    </tr>\n    <tr>\n      <th>3</th>\n      <td>Darth Vader</td>\n      <td>202.0</td>\n      <td>136.0</td>\n      <td>none</td>\n      <td>white</td>\n      <td>yellow</td>\n      <td>41.9</td>\n      <td>male</td>\n      <td>masculine</td>\n      <td>Tatooine</td>\n      <td>Human</td>\n    </tr>\n    <tr>\n      <th>4</th>\n      <td>Biggs Darklighter</td>\n      <td>183.0</td>\n      <td>84.0</td>\n      <td>black</td>\n      <td>light</td>\n      <td>brown</td>\n      <td>24.0</td>\n      <td>male</td>\n      <td>masculine</td>\n      <td>Tatooine</td>\n      <td>Human</td>\n    </tr>\n    <tr>\n      <th>5</th>\n      <td>Obi-Wan Kenobi</td>\n      <td>182.0</td>\n      <td>77.0</td>\n      <td>auburn, white</td>\n      <td>fair</td>\n      <td>blue-gray</td>\n      <td>57.0</td>\n      <td>male</td>\n      <td>masculine</td>\n      <td>Stewjon</td>\n      <td>Human</td>\n    </tr>\n    <tr>\n      <th>6</th>\n      <td>Anakin Skywalker</td>\n      <td>188.0</td>\n      <td>84.0</td>\n      <td>blond</td>\n      <td>fair</td>\n      <td>blue</td>\n      <td>41.9</td>\n      <td>male</td>\n      <td>masculine</td>\n      <td>Tatooine</td>\n      <td>Human</td>\n    </tr>\n    <tr>\n      <th>7</th>\n      <td>Wilhuff Tarkin</td>\n      <td>180.0</td>\n      <td>NaN</td>\n      <td>auburn, grey</td>\n      <td>fair</td>\n      <td>blue</td>\n      <td>64.0</td>\n      <td>male</td>\n      <td>masculine</td>\n      <td>Eriadu</td>\n      <td>Human</td>\n    </tr>\n  </tbody>\n</table>\n</div>"
     },
     "metadata": {},
     "execution_count": 2
    }
   ],
   "source": [
    "one = starwars >> slice(f[:4])\n",
    "two = starwars >> slice(f[9:12])\n",
    "\n",
    "one >> bind_rows(two)"
   ]
  },
  {
   "cell_type": "code",
   "execution_count": 3,
   "metadata": {},
   "outputs": [
    {
     "output_type": "execute_result",
     "data": {
      "text/plain": [
       "                name  height   mass     hair_color   skin_color  eye_color  \\\n",
       "0     Luke Skywalker   172.0   77.0          blond         fair       blue   \n",
       "1              C-3PO   167.0   75.0            NaN         gold     yellow   \n",
       "2              R2-D2    96.0   32.0            NaN  white, blue        red   \n",
       "3        Darth Vader   202.0  136.0           none        white     yellow   \n",
       "4  Biggs Darklighter   183.0   84.0          black        light      brown   \n",
       "5     Obi-Wan Kenobi   182.0   77.0  auburn, white         fair  blue-gray   \n",
       "6   Anakin Skywalker   188.0   84.0          blond         fair       blue   \n",
       "7     Wilhuff Tarkin   180.0    NaN   auburn, grey         fair       blue   \n",
       "\n",
       "   birth_year   sex     gender homeworld species  \n",
       "0        19.0  male  masculine  Tatooine   Human  \n",
       "1       112.0  none  masculine  Tatooine   Droid  \n",
       "2        33.0  none  masculine     Naboo   Droid  \n",
       "3        41.9  male  masculine  Tatooine   Human  \n",
       "4        24.0  male  masculine  Tatooine   Human  \n",
       "5        57.0  male  masculine   Stewjon   Human  \n",
       "6        41.9  male  masculine  Tatooine   Human  \n",
       "7        64.0  male  masculine    Eriadu   Human  "
      ],
      "text/html": "<div>\n<style scoped>\n    .dataframe tbody tr th:only-of-type {\n        vertical-align: middle;\n    }\n\n    .dataframe tbody tr th {\n        vertical-align: top;\n    }\n\n    .dataframe thead th {\n        text-align: right;\n    }\n</style>\n<table border=\"1\" class=\"dataframe\">\n  <thead>\n    <tr style=\"text-align: right;\">\n      <th></th>\n      <th>name</th>\n      <th>height</th>\n      <th>mass</th>\n      <th>hair_color</th>\n      <th>skin_color</th>\n      <th>eye_color</th>\n      <th>birth_year</th>\n      <th>sex</th>\n      <th>gender</th>\n      <th>homeworld</th>\n      <th>species</th>\n    </tr>\n  </thead>\n  <tbody>\n    <tr>\n      <th>0</th>\n      <td>Luke Skywalker</td>\n      <td>172.0</td>\n      <td>77.0</td>\n      <td>blond</td>\n      <td>fair</td>\n      <td>blue</td>\n      <td>19.0</td>\n      <td>male</td>\n      <td>masculine</td>\n      <td>Tatooine</td>\n      <td>Human</td>\n    </tr>\n    <tr>\n      <th>1</th>\n      <td>C-3PO</td>\n      <td>167.0</td>\n      <td>75.0</td>\n      <td>NaN</td>\n      <td>gold</td>\n      <td>yellow</td>\n      <td>112.0</td>\n      <td>none</td>\n      <td>masculine</td>\n      <td>Tatooine</td>\n      <td>Droid</td>\n    </tr>\n    <tr>\n      <th>2</th>\n      <td>R2-D2</td>\n      <td>96.0</td>\n      <td>32.0</td>\n      <td>NaN</td>\n      <td>white, blue</td>\n      <td>red</td>\n      <td>33.0</td>\n      <td>none</td>\n      <td>masculine</td>\n      <td>Naboo</td>\n      <td>Droid</td>\n    </tr>\n    <tr>\n      <th>3</th>\n      <td>Darth Vader</td>\n      <td>202.0</td>\n      <td>136.0</td>\n      <td>none</td>\n      <td>white</td>\n      <td>yellow</td>\n      <td>41.9</td>\n      <td>male</td>\n      <td>masculine</td>\n      <td>Tatooine</td>\n      <td>Human</td>\n    </tr>\n    <tr>\n      <th>4</th>\n      <td>Biggs Darklighter</td>\n      <td>183.0</td>\n      <td>84.0</td>\n      <td>black</td>\n      <td>light</td>\n      <td>brown</td>\n      <td>24.0</td>\n      <td>male</td>\n      <td>masculine</td>\n      <td>Tatooine</td>\n      <td>Human</td>\n    </tr>\n    <tr>\n      <th>5</th>\n      <td>Obi-Wan Kenobi</td>\n      <td>182.0</td>\n      <td>77.0</td>\n      <td>auburn, white</td>\n      <td>fair</td>\n      <td>blue-gray</td>\n      <td>57.0</td>\n      <td>male</td>\n      <td>masculine</td>\n      <td>Stewjon</td>\n      <td>Human</td>\n    </tr>\n    <tr>\n      <th>6</th>\n      <td>Anakin Skywalker</td>\n      <td>188.0</td>\n      <td>84.0</td>\n      <td>blond</td>\n      <td>fair</td>\n      <td>blue</td>\n      <td>41.9</td>\n      <td>male</td>\n      <td>masculine</td>\n      <td>Tatooine</td>\n      <td>Human</td>\n    </tr>\n    <tr>\n      <th>7</th>\n      <td>Wilhuff Tarkin</td>\n      <td>180.0</td>\n      <td>NaN</td>\n      <td>auburn, grey</td>\n      <td>fair</td>\n      <td>blue</td>\n      <td>64.0</td>\n      <td>male</td>\n      <td>masculine</td>\n      <td>Eriadu</td>\n      <td>Human</td>\n    </tr>\n  </tbody>\n</table>\n</div>"
     },
     "metadata": {},
     "execution_count": 3
    }
   ],
   "source": [
    "bind_rows([one, two])"
   ]
  },
  {
   "cell_type": "code",
   "execution_count": 4,
   "metadata": {},
   "outputs": [
    {
     "output_type": "execute_result",
     "data": {
      "text/plain": [
       "                 name  height   mass     hair_color   skin_color  eye_color  \\\n",
       "0      Luke Skywalker   172.0   77.0          blond         fair       blue   \n",
       "1               C-3PO   167.0   75.0            NaN         gold     yellow   \n",
       "2               R2-D2    96.0   32.0            NaN  white, blue        red   \n",
       "3         Darth Vader   202.0  136.0           none        white     yellow   \n",
       "4   Biggs Darklighter   183.0   84.0          black        light      brown   \n",
       "5      Obi-Wan Kenobi   182.0   77.0  auburn, white         fair  blue-gray   \n",
       "6    Anakin Skywalker   188.0   84.0          blond         fair       blue   \n",
       "7      Wilhuff Tarkin   180.0    NaN   auburn, grey         fair       blue   \n",
       "8   Biggs Darklighter   183.0   84.0          black        light      brown   \n",
       "9      Obi-Wan Kenobi   182.0   77.0  auburn, white         fair  blue-gray   \n",
       "10   Anakin Skywalker   188.0   84.0          blond         fair       blue   \n",
       "11     Wilhuff Tarkin   180.0    NaN   auburn, grey         fair       blue   \n",
       "12     Luke Skywalker   172.0   77.0          blond         fair       blue   \n",
       "13              C-3PO   167.0   75.0            NaN         gold     yellow   \n",
       "14              R2-D2    96.0   32.0            NaN  white, blue        red   \n",
       "15        Darth Vader   202.0  136.0           none        white     yellow   \n",
       "\n",
       "    birth_year   sex     gender homeworld species  \n",
       "0         19.0  male  masculine  Tatooine   Human  \n",
       "1        112.0  none  masculine  Tatooine   Droid  \n",
       "2         33.0  none  masculine     Naboo   Droid  \n",
       "3         41.9  male  masculine  Tatooine   Human  \n",
       "4         24.0  male  masculine  Tatooine   Human  \n",
       "5         57.0  male  masculine   Stewjon   Human  \n",
       "6         41.9  male  masculine  Tatooine   Human  \n",
       "7         64.0  male  masculine    Eriadu   Human  \n",
       "8         24.0  male  masculine  Tatooine   Human  \n",
       "9         57.0  male  masculine   Stewjon   Human  \n",
       "10        41.9  male  masculine  Tatooine   Human  \n",
       "11        64.0  male  masculine    Eriadu   Human  \n",
       "12        19.0  male  masculine  Tatooine   Human  \n",
       "13       112.0  none  masculine  Tatooine   Droid  \n",
       "14        33.0  none  masculine     Naboo   Droid  \n",
       "15        41.9  male  masculine  Tatooine   Human  "
      ],
      "text/html": "<div>\n<style scoped>\n    .dataframe tbody tr th:only-of-type {\n        vertical-align: middle;\n    }\n\n    .dataframe tbody tr th {\n        vertical-align: top;\n    }\n\n    .dataframe thead th {\n        text-align: right;\n    }\n</style>\n<table border=\"1\" class=\"dataframe\">\n  <thead>\n    <tr style=\"text-align: right;\">\n      <th></th>\n      <th>name</th>\n      <th>height</th>\n      <th>mass</th>\n      <th>hair_color</th>\n      <th>skin_color</th>\n      <th>eye_color</th>\n      <th>birth_year</th>\n      <th>sex</th>\n      <th>gender</th>\n      <th>homeworld</th>\n      <th>species</th>\n    </tr>\n  </thead>\n  <tbody>\n    <tr>\n      <th>0</th>\n      <td>Luke Skywalker</td>\n      <td>172.0</td>\n      <td>77.0</td>\n      <td>blond</td>\n      <td>fair</td>\n      <td>blue</td>\n      <td>19.0</td>\n      <td>male</td>\n      <td>masculine</td>\n      <td>Tatooine</td>\n      <td>Human</td>\n    </tr>\n    <tr>\n      <th>1</th>\n      <td>C-3PO</td>\n      <td>167.0</td>\n      <td>75.0</td>\n      <td>NaN</td>\n      <td>gold</td>\n      <td>yellow</td>\n      <td>112.0</td>\n      <td>none</td>\n      <td>masculine</td>\n      <td>Tatooine</td>\n      <td>Droid</td>\n    </tr>\n    <tr>\n      <th>2</th>\n      <td>R2-D2</td>\n      <td>96.0</td>\n      <td>32.0</td>\n      <td>NaN</td>\n      <td>white, blue</td>\n      <td>red</td>\n      <td>33.0</td>\n      <td>none</td>\n      <td>masculine</td>\n      <td>Naboo</td>\n      <td>Droid</td>\n    </tr>\n    <tr>\n      <th>3</th>\n      <td>Darth Vader</td>\n      <td>202.0</td>\n      <td>136.0</td>\n      <td>none</td>\n      <td>white</td>\n      <td>yellow</td>\n      <td>41.9</td>\n      <td>male</td>\n      <td>masculine</td>\n      <td>Tatooine</td>\n      <td>Human</td>\n    </tr>\n    <tr>\n      <th>4</th>\n      <td>Biggs Darklighter</td>\n      <td>183.0</td>\n      <td>84.0</td>\n      <td>black</td>\n      <td>light</td>\n      <td>brown</td>\n      <td>24.0</td>\n      <td>male</td>\n      <td>masculine</td>\n      <td>Tatooine</td>\n      <td>Human</td>\n    </tr>\n    <tr>\n      <th>5</th>\n      <td>Obi-Wan Kenobi</td>\n      <td>182.0</td>\n      <td>77.0</td>\n      <td>auburn, white</td>\n      <td>fair</td>\n      <td>blue-gray</td>\n      <td>57.0</td>\n      <td>male</td>\n      <td>masculine</td>\n      <td>Stewjon</td>\n      <td>Human</td>\n    </tr>\n    <tr>\n      <th>6</th>\n      <td>Anakin Skywalker</td>\n      <td>188.0</td>\n      <td>84.0</td>\n      <td>blond</td>\n      <td>fair</td>\n      <td>blue</td>\n      <td>41.9</td>\n      <td>male</td>\n      <td>masculine</td>\n      <td>Tatooine</td>\n      <td>Human</td>\n    </tr>\n    <tr>\n      <th>7</th>\n      <td>Wilhuff Tarkin</td>\n      <td>180.0</td>\n      <td>NaN</td>\n      <td>auburn, grey</td>\n      <td>fair</td>\n      <td>blue</td>\n      <td>64.0</td>\n      <td>male</td>\n      <td>masculine</td>\n      <td>Eriadu</td>\n      <td>Human</td>\n    </tr>\n    <tr>\n      <th>8</th>\n      <td>Biggs Darklighter</td>\n      <td>183.0</td>\n      <td>84.0</td>\n      <td>black</td>\n      <td>light</td>\n      <td>brown</td>\n      <td>24.0</td>\n      <td>male</td>\n      <td>masculine</td>\n      <td>Tatooine</td>\n      <td>Human</td>\n    </tr>\n    <tr>\n      <th>9</th>\n      <td>Obi-Wan Kenobi</td>\n      <td>182.0</td>\n      <td>77.0</td>\n      <td>auburn, white</td>\n      <td>fair</td>\n      <td>blue-gray</td>\n      <td>57.0</td>\n      <td>male</td>\n      <td>masculine</td>\n      <td>Stewjon</td>\n      <td>Human</td>\n    </tr>\n    <tr>\n      <th>10</th>\n      <td>Anakin Skywalker</td>\n      <td>188.0</td>\n      <td>84.0</td>\n      <td>blond</td>\n      <td>fair</td>\n      <td>blue</td>\n      <td>41.9</td>\n      <td>male</td>\n      <td>masculine</td>\n      <td>Tatooine</td>\n      <td>Human</td>\n    </tr>\n    <tr>\n      <th>11</th>\n      <td>Wilhuff Tarkin</td>\n      <td>180.0</td>\n      <td>NaN</td>\n      <td>auburn, grey</td>\n      <td>fair</td>\n      <td>blue</td>\n      <td>64.0</td>\n      <td>male</td>\n      <td>masculine</td>\n      <td>Eriadu</td>\n      <td>Human</td>\n    </tr>\n    <tr>\n      <th>12</th>\n      <td>Luke Skywalker</td>\n      <td>172.0</td>\n      <td>77.0</td>\n      <td>blond</td>\n      <td>fair</td>\n      <td>blue</td>\n      <td>19.0</td>\n      <td>male</td>\n      <td>masculine</td>\n      <td>Tatooine</td>\n      <td>Human</td>\n    </tr>\n    <tr>\n      <th>13</th>\n      <td>C-3PO</td>\n      <td>167.0</td>\n      <td>75.0</td>\n      <td>NaN</td>\n      <td>gold</td>\n      <td>yellow</td>\n      <td>112.0</td>\n      <td>none</td>\n      <td>masculine</td>\n      <td>Tatooine</td>\n      <td>Droid</td>\n    </tr>\n    <tr>\n      <th>14</th>\n      <td>R2-D2</td>\n      <td>96.0</td>\n      <td>32.0</td>\n      <td>NaN</td>\n      <td>white, blue</td>\n      <td>red</td>\n      <td>33.0</td>\n      <td>none</td>\n      <td>masculine</td>\n      <td>Naboo</td>\n      <td>Droid</td>\n    </tr>\n    <tr>\n      <th>15</th>\n      <td>Darth Vader</td>\n      <td>202.0</td>\n      <td>136.0</td>\n      <td>none</td>\n      <td>white</td>\n      <td>yellow</td>\n      <td>41.9</td>\n      <td>male</td>\n      <td>masculine</td>\n      <td>Tatooine</td>\n      <td>Human</td>\n    </tr>\n  </tbody>\n</table>\n</div>"
     },
     "metadata": {},
     "execution_count": 4
    }
   ],
   "source": [
    "bind_rows([one, two], [two, one])"
   ]
  },
  {
   "cell_type": "code",
   "execution_count": 5,
   "id": "entire-overall",
   "metadata": {
    "execution": {
     "iopub.execute_input": "2021-04-17T00:51:37.403386Z",
     "iopub.status.busy": "2021-04-17T00:51:37.402748Z",
     "iopub.status.idle": "2021-04-17T00:51:37.471445Z",
     "shell.execute_reply": "2021-04-17T00:51:37.471016Z"
    }
   },
   "outputs": [
    {
     "output_type": "execute_result",
     "data": {
      "text/plain": [
       "   a  b\n",
       "0  1  2\n",
       "1  3  4"
      ],
      "text/html": "<div>\n<style scoped>\n    .dataframe tbody tr th:only-of-type {\n        vertical-align: middle;\n    }\n\n    .dataframe tbody tr th {\n        vertical-align: top;\n    }\n\n    .dataframe thead th {\n        text-align: right;\n    }\n</style>\n<table border=\"1\" class=\"dataframe\">\n  <thead>\n    <tr style=\"text-align: right;\">\n      <th></th>\n      <th>a</th>\n      <th>b</th>\n    </tr>\n  </thead>\n  <tbody>\n    <tr>\n      <th>0</th>\n      <td>1</td>\n      <td>2</td>\n    </tr>\n    <tr>\n      <th>1</th>\n      <td>3</td>\n      <td>4</td>\n    </tr>\n  </tbody>\n</table>\n</div>"
     },
     "metadata": {},
     "execution_count": 5
    }
   ],
   "source": [
    "tibble(a=1, b=2) >> bind_rows(tibble(a=3, b=4))"
   ]
  },
  {
   "cell_type": "code",
   "execution_count": 6,
   "id": "primary-convertible",
   "metadata": {
    "execution": {
     "iopub.execute_input": "2021-04-17T00:51:37.522360Z",
     "iopub.status.busy": "2021-04-17T00:51:37.521799Z",
     "iopub.status.idle": "2021-04-17T00:51:37.534852Z",
     "shell.execute_reply": "2021-04-17T00:51:37.534404Z"
    }
   },
   "outputs": [
    {
     "output_type": "execute_result",
     "data": {
      "text/plain": [
       "   a  b\n",
       "0  1  2\n",
       "1  3  5\n",
       "2  4  6\n",
       "3  7  8"
      ],
      "text/html": "<div>\n<style scoped>\n    .dataframe tbody tr th:only-of-type {\n        vertical-align: middle;\n    }\n\n    .dataframe tbody tr th {\n        vertical-align: top;\n    }\n\n    .dataframe thead th {\n        text-align: right;\n    }\n</style>\n<table border=\"1\" class=\"dataframe\">\n  <thead>\n    <tr style=\"text-align: right;\">\n      <th></th>\n      <th>a</th>\n      <th>b</th>\n    </tr>\n  </thead>\n  <tbody>\n    <tr>\n      <th>0</th>\n      <td>1</td>\n      <td>2</td>\n    </tr>\n    <tr>\n      <th>1</th>\n      <td>3</td>\n      <td>5</td>\n    </tr>\n    <tr>\n      <th>2</th>\n      <td>4</td>\n      <td>6</td>\n    </tr>\n    <tr>\n      <th>3</th>\n      <td>7</td>\n      <td>8</td>\n    </tr>\n  </tbody>\n</table>\n</div>"
     },
     "metadata": {},
     "execution_count": 6
    }
   ],
   "source": [
    "tibble(a=1, b=2) >> bind_rows(\n",
    "    tibble(a=[3, 4], b=[5, 6]),\n",
    "    tibble(a=7, b=8)\n",
    ")"
   ]
  },
  {
   "cell_type": "code",
   "execution_count": 7,
   "metadata": {},
   "outputs": [
    {
     "output_type": "execute_result",
     "data": {
      "text/plain": [
       "   id               name  height   mass     hair_color   skin_color  \\\n",
       "0   1     Luke Skywalker   172.0   77.0          blond         fair   \n",
       "1   1              C-3PO   167.0   75.0            NaN         gold   \n",
       "2   1              R2-D2    96.0   32.0            NaN  white, blue   \n",
       "3   1        Darth Vader   202.0  136.0           none        white   \n",
       "4   2  Biggs Darklighter   183.0   84.0          black        light   \n",
       "5   2     Obi-Wan Kenobi   182.0   77.0  auburn, white         fair   \n",
       "6   2   Anakin Skywalker   188.0   84.0          blond         fair   \n",
       "7   2     Wilhuff Tarkin   180.0    NaN   auburn, grey         fair   \n",
       "\n",
       "   eye_color  birth_year   sex     gender homeworld species  \n",
       "0       blue        19.0  male  masculine  Tatooine   Human  \n",
       "1     yellow       112.0  none  masculine  Tatooine   Droid  \n",
       "2        red        33.0  none  masculine     Naboo   Droid  \n",
       "3     yellow        41.9  male  masculine  Tatooine   Human  \n",
       "4      brown        24.0  male  masculine  Tatooine   Human  \n",
       "5  blue-gray        57.0  male  masculine   Stewjon   Human  \n",
       "6       blue        41.9  male  masculine  Tatooine   Human  \n",
       "7       blue        64.0  male  masculine    Eriadu   Human  "
      ],
      "text/html": "<div>\n<style scoped>\n    .dataframe tbody tr th:only-of-type {\n        vertical-align: middle;\n    }\n\n    .dataframe tbody tr th {\n        vertical-align: top;\n    }\n\n    .dataframe thead th {\n        text-align: right;\n    }\n</style>\n<table border=\"1\" class=\"dataframe\">\n  <thead>\n    <tr style=\"text-align: right;\">\n      <th></th>\n      <th>id</th>\n      <th>name</th>\n      <th>height</th>\n      <th>mass</th>\n      <th>hair_color</th>\n      <th>skin_color</th>\n      <th>eye_color</th>\n      <th>birth_year</th>\n      <th>sex</th>\n      <th>gender</th>\n      <th>homeworld</th>\n      <th>species</th>\n    </tr>\n  </thead>\n  <tbody>\n    <tr>\n      <th>0</th>\n      <td>1</td>\n      <td>Luke Skywalker</td>\n      <td>172.0</td>\n      <td>77.0</td>\n      <td>blond</td>\n      <td>fair</td>\n      <td>blue</td>\n      <td>19.0</td>\n      <td>male</td>\n      <td>masculine</td>\n      <td>Tatooine</td>\n      <td>Human</td>\n    </tr>\n    <tr>\n      <th>1</th>\n      <td>1</td>\n      <td>C-3PO</td>\n      <td>167.0</td>\n      <td>75.0</td>\n      <td>NaN</td>\n      <td>gold</td>\n      <td>yellow</td>\n      <td>112.0</td>\n      <td>none</td>\n      <td>masculine</td>\n      <td>Tatooine</td>\n      <td>Droid</td>\n    </tr>\n    <tr>\n      <th>2</th>\n      <td>1</td>\n      <td>R2-D2</td>\n      <td>96.0</td>\n      <td>32.0</td>\n      <td>NaN</td>\n      <td>white, blue</td>\n      <td>red</td>\n      <td>33.0</td>\n      <td>none</td>\n      <td>masculine</td>\n      <td>Naboo</td>\n      <td>Droid</td>\n    </tr>\n    <tr>\n      <th>3</th>\n      <td>1</td>\n      <td>Darth Vader</td>\n      <td>202.0</td>\n      <td>136.0</td>\n      <td>none</td>\n      <td>white</td>\n      <td>yellow</td>\n      <td>41.9</td>\n      <td>male</td>\n      <td>masculine</td>\n      <td>Tatooine</td>\n      <td>Human</td>\n    </tr>\n    <tr>\n      <th>4</th>\n      <td>2</td>\n      <td>Biggs Darklighter</td>\n      <td>183.0</td>\n      <td>84.0</td>\n      <td>black</td>\n      <td>light</td>\n      <td>brown</td>\n      <td>24.0</td>\n      <td>male</td>\n      <td>masculine</td>\n      <td>Tatooine</td>\n      <td>Human</td>\n    </tr>\n    <tr>\n      <th>5</th>\n      <td>2</td>\n      <td>Obi-Wan Kenobi</td>\n      <td>182.0</td>\n      <td>77.0</td>\n      <td>auburn, white</td>\n      <td>fair</td>\n      <td>blue-gray</td>\n      <td>57.0</td>\n      <td>male</td>\n      <td>masculine</td>\n      <td>Stewjon</td>\n      <td>Human</td>\n    </tr>\n    <tr>\n      <th>6</th>\n      <td>2</td>\n      <td>Anakin Skywalker</td>\n      <td>188.0</td>\n      <td>84.0</td>\n      <td>blond</td>\n      <td>fair</td>\n      <td>blue</td>\n      <td>41.9</td>\n      <td>male</td>\n      <td>masculine</td>\n      <td>Tatooine</td>\n      <td>Human</td>\n    </tr>\n    <tr>\n      <th>7</th>\n      <td>2</td>\n      <td>Wilhuff Tarkin</td>\n      <td>180.0</td>\n      <td>NaN</td>\n      <td>auburn, grey</td>\n      <td>fair</td>\n      <td>blue</td>\n      <td>64.0</td>\n      <td>male</td>\n      <td>masculine</td>\n      <td>Eriadu</td>\n      <td>Human</td>\n    </tr>\n  </tbody>\n</table>\n</div>"
     },
     "metadata": {},
     "execution_count": 7
    }
   ],
   "source": [
    "bind_rows([one, two], _id = \"id\")"
   ]
  },
  {
   "cell_type": "code",
   "execution_count": 8,
   "metadata": {},
   "outputs": [
    {
     "output_type": "execute_result",
     "data": {
      "text/plain": [
       "   id               name  height   mass     hair_color   skin_color  \\\n",
       "0   0     Luke Skywalker   172.0   77.0          blond         fair   \n",
       "1   0              C-3PO   167.0   75.0            NaN         gold   \n",
       "2   0              R2-D2    96.0   32.0            NaN  white, blue   \n",
       "3   0        Darth Vader   202.0  136.0           none        white   \n",
       "4   1  Biggs Darklighter   183.0   84.0          black        light   \n",
       "5   1     Obi-Wan Kenobi   182.0   77.0  auburn, white         fair   \n",
       "6   1   Anakin Skywalker   188.0   84.0          blond         fair   \n",
       "7   1     Wilhuff Tarkin   180.0    NaN   auburn, grey         fair   \n",
       "\n",
       "   eye_color  birth_year   sex     gender homeworld species  \n",
       "0       blue        19.0  male  masculine  Tatooine   Human  \n",
       "1     yellow       112.0  none  masculine  Tatooine   Droid  \n",
       "2        red        33.0  none  masculine     Naboo   Droid  \n",
       "3     yellow        41.9  male  masculine  Tatooine   Human  \n",
       "4      brown        24.0  male  masculine  Tatooine   Human  \n",
       "5  blue-gray        57.0  male  masculine   Stewjon   Human  \n",
       "6       blue        41.9  male  masculine  Tatooine   Human  \n",
       "7       blue        64.0  male  masculine    Eriadu   Human  "
      ],
      "text/html": "<div>\n<style scoped>\n    .dataframe tbody tr th:only-of-type {\n        vertical-align: middle;\n    }\n\n    .dataframe tbody tr th {\n        vertical-align: top;\n    }\n\n    .dataframe thead th {\n        text-align: right;\n    }\n</style>\n<table border=\"1\" class=\"dataframe\">\n  <thead>\n    <tr style=\"text-align: right;\">\n      <th></th>\n      <th>id</th>\n      <th>name</th>\n      <th>height</th>\n      <th>mass</th>\n      <th>hair_color</th>\n      <th>skin_color</th>\n      <th>eye_color</th>\n      <th>birth_year</th>\n      <th>sex</th>\n      <th>gender</th>\n      <th>homeworld</th>\n      <th>species</th>\n    </tr>\n  </thead>\n  <tbody>\n    <tr>\n      <th>0</th>\n      <td>0</td>\n      <td>Luke Skywalker</td>\n      <td>172.0</td>\n      <td>77.0</td>\n      <td>blond</td>\n      <td>fair</td>\n      <td>blue</td>\n      <td>19.0</td>\n      <td>male</td>\n      <td>masculine</td>\n      <td>Tatooine</td>\n      <td>Human</td>\n    </tr>\n    <tr>\n      <th>1</th>\n      <td>0</td>\n      <td>C-3PO</td>\n      <td>167.0</td>\n      <td>75.0</td>\n      <td>NaN</td>\n      <td>gold</td>\n      <td>yellow</td>\n      <td>112.0</td>\n      <td>none</td>\n      <td>masculine</td>\n      <td>Tatooine</td>\n      <td>Droid</td>\n    </tr>\n    <tr>\n      <th>2</th>\n      <td>0</td>\n      <td>R2-D2</td>\n      <td>96.0</td>\n      <td>32.0</td>\n      <td>NaN</td>\n      <td>white, blue</td>\n      <td>red</td>\n      <td>33.0</td>\n      <td>none</td>\n      <td>masculine</td>\n      <td>Naboo</td>\n      <td>Droid</td>\n    </tr>\n    <tr>\n      <th>3</th>\n      <td>0</td>\n      <td>Darth Vader</td>\n      <td>202.0</td>\n      <td>136.0</td>\n      <td>none</td>\n      <td>white</td>\n      <td>yellow</td>\n      <td>41.9</td>\n      <td>male</td>\n      <td>masculine</td>\n      <td>Tatooine</td>\n      <td>Human</td>\n    </tr>\n    <tr>\n      <th>4</th>\n      <td>1</td>\n      <td>Biggs Darklighter</td>\n      <td>183.0</td>\n      <td>84.0</td>\n      <td>black</td>\n      <td>light</td>\n      <td>brown</td>\n      <td>24.0</td>\n      <td>male</td>\n      <td>masculine</td>\n      <td>Tatooine</td>\n      <td>Human</td>\n    </tr>\n    <tr>\n      <th>5</th>\n      <td>1</td>\n      <td>Obi-Wan Kenobi</td>\n      <td>182.0</td>\n      <td>77.0</td>\n      <td>auburn, white</td>\n      <td>fair</td>\n      <td>blue-gray</td>\n      <td>57.0</td>\n      <td>male</td>\n      <td>masculine</td>\n      <td>Stewjon</td>\n      <td>Human</td>\n    </tr>\n    <tr>\n      <th>6</th>\n      <td>1</td>\n      <td>Anakin Skywalker</td>\n      <td>188.0</td>\n      <td>84.0</td>\n      <td>blond</td>\n      <td>fair</td>\n      <td>blue</td>\n      <td>41.9</td>\n      <td>male</td>\n      <td>masculine</td>\n      <td>Tatooine</td>\n      <td>Human</td>\n    </tr>\n    <tr>\n      <th>7</th>\n      <td>1</td>\n      <td>Wilhuff Tarkin</td>\n      <td>180.0</td>\n      <td>NaN</td>\n      <td>auburn, grey</td>\n      <td>fair</td>\n      <td>blue</td>\n      <td>64.0</td>\n      <td>male</td>\n      <td>masculine</td>\n      <td>Eriadu</td>\n      <td>Human</td>\n    </tr>\n  </tbody>\n</table>\n</div>"
     },
     "metadata": {},
     "execution_count": 8
    }
   ],
   "source": [
    "bind_rows([one, two], _id = \"id\", _base0=True) # 0-based id"
   ]
  },
  {
   "cell_type": "code",
   "execution_count": 9,
   "metadata": {},
   "outputs": [
    {
     "output_type": "execute_result",
     "data": {
      "text/plain": [
       "  id               name  height   mass     hair_color   skin_color  eye_color  \\\n",
       "0  a     Luke Skywalker   172.0   77.0          blond         fair       blue   \n",
       "1  a              C-3PO   167.0   75.0            NaN         gold     yellow   \n",
       "2  a              R2-D2    96.0   32.0            NaN  white, blue        red   \n",
       "3  a        Darth Vader   202.0  136.0           none        white     yellow   \n",
       "4  b  Biggs Darklighter   183.0   84.0          black        light      brown   \n",
       "5  b     Obi-Wan Kenobi   182.0   77.0  auburn, white         fair  blue-gray   \n",
       "6  b   Anakin Skywalker   188.0   84.0          blond         fair       blue   \n",
       "7  b     Wilhuff Tarkin   180.0    NaN   auburn, grey         fair       blue   \n",
       "\n",
       "   birth_year   sex     gender homeworld species  \n",
       "0        19.0  male  masculine  Tatooine   Human  \n",
       "1       112.0  none  masculine  Tatooine   Droid  \n",
       "2        33.0  none  masculine     Naboo   Droid  \n",
       "3        41.9  male  masculine  Tatooine   Human  \n",
       "4        24.0  male  masculine  Tatooine   Human  \n",
       "5        57.0  male  masculine   Stewjon   Human  \n",
       "6        41.9  male  masculine  Tatooine   Human  \n",
       "7        64.0  male  masculine    Eriadu   Human  "
      ],
      "text/html": "<div>\n<style scoped>\n    .dataframe tbody tr th:only-of-type {\n        vertical-align: middle;\n    }\n\n    .dataframe tbody tr th {\n        vertical-align: top;\n    }\n\n    .dataframe thead th {\n        text-align: right;\n    }\n</style>\n<table border=\"1\" class=\"dataframe\">\n  <thead>\n    <tr style=\"text-align: right;\">\n      <th></th>\n      <th>id</th>\n      <th>name</th>\n      <th>height</th>\n      <th>mass</th>\n      <th>hair_color</th>\n      <th>skin_color</th>\n      <th>eye_color</th>\n      <th>birth_year</th>\n      <th>sex</th>\n      <th>gender</th>\n      <th>homeworld</th>\n      <th>species</th>\n    </tr>\n  </thead>\n  <tbody>\n    <tr>\n      <th>0</th>\n      <td>a</td>\n      <td>Luke Skywalker</td>\n      <td>172.0</td>\n      <td>77.0</td>\n      <td>blond</td>\n      <td>fair</td>\n      <td>blue</td>\n      <td>19.0</td>\n      <td>male</td>\n      <td>masculine</td>\n      <td>Tatooine</td>\n      <td>Human</td>\n    </tr>\n    <tr>\n      <th>1</th>\n      <td>a</td>\n      <td>C-3PO</td>\n      <td>167.0</td>\n      <td>75.0</td>\n      <td>NaN</td>\n      <td>gold</td>\n      <td>yellow</td>\n      <td>112.0</td>\n      <td>none</td>\n      <td>masculine</td>\n      <td>Tatooine</td>\n      <td>Droid</td>\n    </tr>\n    <tr>\n      <th>2</th>\n      <td>a</td>\n      <td>R2-D2</td>\n      <td>96.0</td>\n      <td>32.0</td>\n      <td>NaN</td>\n      <td>white, blue</td>\n      <td>red</td>\n      <td>33.0</td>\n      <td>none</td>\n      <td>masculine</td>\n      <td>Naboo</td>\n      <td>Droid</td>\n    </tr>\n    <tr>\n      <th>3</th>\n      <td>a</td>\n      <td>Darth Vader</td>\n      <td>202.0</td>\n      <td>136.0</td>\n      <td>none</td>\n      <td>white</td>\n      <td>yellow</td>\n      <td>41.9</td>\n      <td>male</td>\n      <td>masculine</td>\n      <td>Tatooine</td>\n      <td>Human</td>\n    </tr>\n    <tr>\n      <th>4</th>\n      <td>b</td>\n      <td>Biggs Darklighter</td>\n      <td>183.0</td>\n      <td>84.0</td>\n      <td>black</td>\n      <td>light</td>\n      <td>brown</td>\n      <td>24.0</td>\n      <td>male</td>\n      <td>masculine</td>\n      <td>Tatooine</td>\n      <td>Human</td>\n    </tr>\n    <tr>\n      <th>5</th>\n      <td>b</td>\n      <td>Obi-Wan Kenobi</td>\n      <td>182.0</td>\n      <td>77.0</td>\n      <td>auburn, white</td>\n      <td>fair</td>\n      <td>blue-gray</td>\n      <td>57.0</td>\n      <td>male</td>\n      <td>masculine</td>\n      <td>Stewjon</td>\n      <td>Human</td>\n    </tr>\n    <tr>\n      <th>6</th>\n      <td>b</td>\n      <td>Anakin Skywalker</td>\n      <td>188.0</td>\n      <td>84.0</td>\n      <td>blond</td>\n      <td>fair</td>\n      <td>blue</td>\n      <td>41.9</td>\n      <td>male</td>\n      <td>masculine</td>\n      <td>Tatooine</td>\n      <td>Human</td>\n    </tr>\n    <tr>\n      <th>7</th>\n      <td>b</td>\n      <td>Wilhuff Tarkin</td>\n      <td>180.0</td>\n      <td>NaN</td>\n      <td>auburn, grey</td>\n      <td>fair</td>\n      <td>blue</td>\n      <td>64.0</td>\n      <td>male</td>\n      <td>masculine</td>\n      <td>Eriadu</td>\n      <td>Human</td>\n    </tr>\n  </tbody>\n</table>\n</div>"
     },
     "metadata": {},
     "execution_count": 9
    }
   ],
   "source": [
    "# If we need a name for one\n",
    "bind_rows(None, a=one, b=two, _id = \"id\")"
   ]
  },
  {
   "cell_type": "code",
   "execution_count": 10,
   "metadata": {},
   "outputs": [
    {
     "output_type": "execute_result",
     "data": {
      "text/plain": [
       "    groups               name  height   mass     hair_color   skin_color  \\\n",
       "0  group 1     Luke Skywalker   172.0   77.0          blond         fair   \n",
       "1  group 1              C-3PO   167.0   75.0            NaN         gold   \n",
       "2  group 1              R2-D2    96.0   32.0            NaN  white, blue   \n",
       "3  group 1        Darth Vader   202.0  136.0           none        white   \n",
       "4  group 2  Biggs Darklighter   183.0   84.0          black        light   \n",
       "5  group 2     Obi-Wan Kenobi   182.0   77.0  auburn, white         fair   \n",
       "6  group 2   Anakin Skywalker   188.0   84.0          blond         fair   \n",
       "7  group 2     Wilhuff Tarkin   180.0    NaN   auburn, grey         fair   \n",
       "\n",
       "   eye_color  birth_year   sex     gender homeworld species  \n",
       "0       blue        19.0  male  masculine  Tatooine   Human  \n",
       "1     yellow       112.0  none  masculine  Tatooine   Droid  \n",
       "2        red        33.0  none  masculine     Naboo   Droid  \n",
       "3     yellow        41.9  male  masculine  Tatooine   Human  \n",
       "4      brown        24.0  male  masculine  Tatooine   Human  \n",
       "5  blue-gray        57.0  male  masculine   Stewjon   Human  \n",
       "6       blue        41.9  male  masculine  Tatooine   Human  \n",
       "7       blue        64.0  male  masculine    Eriadu   Human  "
      ],
      "text/html": "<div>\n<style scoped>\n    .dataframe tbody tr th:only-of-type {\n        vertical-align: middle;\n    }\n\n    .dataframe tbody tr th {\n        vertical-align: top;\n    }\n\n    .dataframe thead th {\n        text-align: right;\n    }\n</style>\n<table border=\"1\" class=\"dataframe\">\n  <thead>\n    <tr style=\"text-align: right;\">\n      <th></th>\n      <th>groups</th>\n      <th>name</th>\n      <th>height</th>\n      <th>mass</th>\n      <th>hair_color</th>\n      <th>skin_color</th>\n      <th>eye_color</th>\n      <th>birth_year</th>\n      <th>sex</th>\n      <th>gender</th>\n      <th>homeworld</th>\n      <th>species</th>\n    </tr>\n  </thead>\n  <tbody>\n    <tr>\n      <th>0</th>\n      <td>group 1</td>\n      <td>Luke Skywalker</td>\n      <td>172.0</td>\n      <td>77.0</td>\n      <td>blond</td>\n      <td>fair</td>\n      <td>blue</td>\n      <td>19.0</td>\n      <td>male</td>\n      <td>masculine</td>\n      <td>Tatooine</td>\n      <td>Human</td>\n    </tr>\n    <tr>\n      <th>1</th>\n      <td>group 1</td>\n      <td>C-3PO</td>\n      <td>167.0</td>\n      <td>75.0</td>\n      <td>NaN</td>\n      <td>gold</td>\n      <td>yellow</td>\n      <td>112.0</td>\n      <td>none</td>\n      <td>masculine</td>\n      <td>Tatooine</td>\n      <td>Droid</td>\n    </tr>\n    <tr>\n      <th>2</th>\n      <td>group 1</td>\n      <td>R2-D2</td>\n      <td>96.0</td>\n      <td>32.0</td>\n      <td>NaN</td>\n      <td>white, blue</td>\n      <td>red</td>\n      <td>33.0</td>\n      <td>none</td>\n      <td>masculine</td>\n      <td>Naboo</td>\n      <td>Droid</td>\n    </tr>\n    <tr>\n      <th>3</th>\n      <td>group 1</td>\n      <td>Darth Vader</td>\n      <td>202.0</td>\n      <td>136.0</td>\n      <td>none</td>\n      <td>white</td>\n      <td>yellow</td>\n      <td>41.9</td>\n      <td>male</td>\n      <td>masculine</td>\n      <td>Tatooine</td>\n      <td>Human</td>\n    </tr>\n    <tr>\n      <th>4</th>\n      <td>group 2</td>\n      <td>Biggs Darklighter</td>\n      <td>183.0</td>\n      <td>84.0</td>\n      <td>black</td>\n      <td>light</td>\n      <td>brown</td>\n      <td>24.0</td>\n      <td>male</td>\n      <td>masculine</td>\n      <td>Tatooine</td>\n      <td>Human</td>\n    </tr>\n    <tr>\n      <th>5</th>\n      <td>group 2</td>\n      <td>Obi-Wan Kenobi</td>\n      <td>182.0</td>\n      <td>77.0</td>\n      <td>auburn, white</td>\n      <td>fair</td>\n      <td>blue-gray</td>\n      <td>57.0</td>\n      <td>male</td>\n      <td>masculine</td>\n      <td>Stewjon</td>\n      <td>Human</td>\n    </tr>\n    <tr>\n      <th>6</th>\n      <td>group 2</td>\n      <td>Anakin Skywalker</td>\n      <td>188.0</td>\n      <td>84.0</td>\n      <td>blond</td>\n      <td>fair</td>\n      <td>blue</td>\n      <td>41.9</td>\n      <td>male</td>\n      <td>masculine</td>\n      <td>Tatooine</td>\n      <td>Human</td>\n    </tr>\n    <tr>\n      <th>7</th>\n      <td>group 2</td>\n      <td>Wilhuff Tarkin</td>\n      <td>180.0</td>\n      <td>NaN</td>\n      <td>auburn, grey</td>\n      <td>fair</td>\n      <td>blue</td>\n      <td>64.0</td>\n      <td>male</td>\n      <td>masculine</td>\n      <td>Eriadu</td>\n      <td>Human</td>\n    </tr>\n  </tbody>\n</table>\n</div>"
     },
     "metadata": {},
     "execution_count": 10
    }
   ],
   "source": [
    "bind_rows(None, **{\"group 1\": one, \"group 2\": two}, _id = \"groups\")"
   ]
  },
  {
   "cell_type": "code",
   "execution_count": 11,
   "id": "aggressive-pilot",
   "metadata": {
    "execution": {
     "iopub.execute_input": "2021-04-17T00:51:37.538541Z",
     "iopub.status.busy": "2021-04-17T00:51:37.538020Z",
     "iopub.status.idle": "2021-04-17T00:51:37.566955Z",
     "shell.execute_reply": "2021-04-17T00:51:37.566509Z"
    }
   },
   "outputs": [
    {
     "output_type": "execute_result",
     "data": {
      "text/plain": [
       "     x    y\n",
       "0  0.0  NaN\n",
       "1  1.0  NaN\n",
       "2  2.0  NaN\n",
       "3  NaN  0.0\n",
       "4  NaN  1.0\n",
       "5  NaN  2.0\n",
       "6  NaN  3.0"
      ],
      "text/html": "<div>\n<style scoped>\n    .dataframe tbody tr th:only-of-type {\n        vertical-align: middle;\n    }\n\n    .dataframe tbody tr th {\n        vertical-align: top;\n    }\n\n    .dataframe thead th {\n        text-align: right;\n    }\n</style>\n<table border=\"1\" class=\"dataframe\">\n  <thead>\n    <tr style=\"text-align: right;\">\n      <th></th>\n      <th>x</th>\n      <th>y</th>\n    </tr>\n  </thead>\n  <tbody>\n    <tr>\n      <th>0</th>\n      <td>0.0</td>\n      <td>NaN</td>\n    </tr>\n    <tr>\n      <th>1</th>\n      <td>1.0</td>\n      <td>NaN</td>\n    </tr>\n    <tr>\n      <th>2</th>\n      <td>2.0</td>\n      <td>NaN</td>\n    </tr>\n    <tr>\n      <th>3</th>\n      <td>NaN</td>\n      <td>0.0</td>\n    </tr>\n    <tr>\n      <th>4</th>\n      <td>NaN</td>\n      <td>1.0</td>\n    </tr>\n    <tr>\n      <th>5</th>\n      <td>NaN</td>\n      <td>2.0</td>\n    </tr>\n    <tr>\n      <th>6</th>\n      <td>NaN</td>\n      <td>3.0</td>\n    </tr>\n  </tbody>\n</table>\n</div>"
     },
     "metadata": {},
     "execution_count": 11
    }
   ],
   "source": [
    "tibble(x=range(3)) >> bind_rows(\n",
    "    tibble(y=range(4))\n",
    ")"
   ]
  },
  {
   "cell_type": "code",
   "execution_count": 12,
   "id": "sexual-memphis",
   "metadata": {
    "execution": {
     "iopub.execute_input": "2021-04-17T00:51:37.571552Z",
     "iopub.status.busy": "2021-04-17T00:51:37.570117Z",
     "iopub.status.idle": "2021-04-17T00:51:37.599164Z",
     "shell.execute_reply": "2021-04-17T00:51:37.598547Z"
    }
   },
   "outputs": [
    {
     "output_type": "execute_result",
     "data": {
      "text/plain": [
       "   x    y\n",
       "0  0  0.0\n",
       "1  1  1.0\n",
       "2  2  NaN"
      ],
      "text/html": "<div>\n<style scoped>\n    .dataframe tbody tr th:only-of-type {\n        vertical-align: middle;\n    }\n\n    .dataframe tbody tr th {\n        vertical-align: top;\n    }\n\n    .dataframe thead th {\n        text-align: right;\n    }\n</style>\n<table border=\"1\" class=\"dataframe\">\n  <thead>\n    <tr style=\"text-align: right;\">\n      <th></th>\n      <th>x</th>\n      <th>y</th>\n    </tr>\n  </thead>\n  <tbody>\n    <tr>\n      <th>0</th>\n      <td>0</td>\n      <td>0.0</td>\n    </tr>\n    <tr>\n      <th>1</th>\n      <td>1</td>\n      <td>1.0</td>\n    </tr>\n    <tr>\n      <th>2</th>\n      <td>2</td>\n      <td>NaN</td>\n    </tr>\n  </tbody>\n</table>\n</div>"
     },
     "metadata": {},
     "execution_count": 12
    }
   ],
   "source": [
    "# NAs filled for missed rows\n",
    "tibble(x=range(3)) >> bind_cols(\n",
    "    tibble(y=range(2))\n",
    ")"
   ]
  },
  {
   "cell_type": "code",
   "execution_count": 13,
   "metadata": {},
   "outputs": [
    {
     "output_type": "execute_result",
     "data": {
      "text/plain": [
       "   x\n",
       "0  0\n",
       "1  1\n",
       "2  2"
      ],
      "text/html": "<div>\n<style scoped>\n    .dataframe tbody tr th:only-of-type {\n        vertical-align: middle;\n    }\n\n    .dataframe tbody tr th {\n        vertical-align: top;\n    }\n\n    .dataframe thead th {\n        text-align: right;\n    }\n</style>\n<table border=\"1\" class=\"dataframe\">\n  <thead>\n    <tr style=\"text-align: right;\">\n      <th></th>\n      <th>x</th>\n    </tr>\n  </thead>\n  <tbody>\n    <tr>\n      <th>0</th>\n      <td>0</td>\n    </tr>\n    <tr>\n      <th>1</th>\n      <td>1</td>\n    </tr>\n    <tr>\n      <th>2</th>\n      <td>2</td>\n    </tr>\n  </tbody>\n</table>\n</div>"
     },
     "metadata": {},
     "execution_count": 13
    }
   ],
   "source": [
    "bind_cols(tibble(x = range(3)), tibble())"
   ]
  },
  {
   "cell_type": "code",
   "execution_count": 14,
   "id": "amateur-interaction",
   "metadata": {
    "execution": {
     "iopub.execute_input": "2021-04-17T00:51:37.605622Z",
     "iopub.status.busy": "2021-04-17T00:51:37.605054Z",
     "iopub.status.idle": "2021-04-17T00:51:37.645833Z",
     "shell.execute_reply": "2021-04-17T00:51:37.645414Z"
    }
   },
   "outputs": [
    {
     "output_type": "stream",
     "name": "stderr",
     "text": [
      "[2021-05-24 17:52:22][datar][WARNING] New names:\n",
      "[2021-05-24 17:52:22][datar][WARNING] * 'name' -> 'name__1'\n",
      "[2021-05-24 17:52:22][datar][WARNING] * 'height' -> 'height__2'\n",
      "[2021-05-24 17:52:22][datar][WARNING] * 'mass' -> 'mass__3'\n",
      "[2021-05-24 17:52:22][datar][WARNING] * 'hair_color' -> 'hair_color__4'\n",
      "[2021-05-24 17:52:22][datar][WARNING] * 'skin_color' -> 'skin_color__5'\n",
      "[2021-05-24 17:52:22][datar][WARNING] * 'eye_color' -> 'eye_color__6'\n",
      "[2021-05-24 17:52:22][datar][WARNING] * 'birth_year' -> 'birth_year__7'\n",
      "[2021-05-24 17:52:22][datar][WARNING] * 'sex' -> 'sex__8'\n",
      "[2021-05-24 17:52:22][datar][WARNING] * 'gender' -> 'gender__9'\n",
      "[2021-05-24 17:52:22][datar][WARNING] * 'homeworld' -> 'homeworld__10'\n",
      "[2021-05-24 17:52:22][datar][WARNING] * 'species' -> 'species__11'\n",
      "[2021-05-24 17:52:22][datar][WARNING] * 'name' -> 'name__12'\n",
      "[2021-05-24 17:52:22][datar][WARNING] * 'height' -> 'height__13'\n",
      "[2021-05-24 17:52:22][datar][WARNING] * 'mass' -> 'mass__14'\n",
      "[2021-05-24 17:52:22][datar][WARNING] * 'hair_color' -> 'hair_color__15'\n",
      "[2021-05-24 17:52:22][datar][WARNING] * 'skin_color' -> 'skin_color__16'\n",
      "[2021-05-24 17:52:22][datar][WARNING] * 'eye_color' -> 'eye_color__17'\n",
      "[2021-05-24 17:52:22][datar][WARNING] * 'birth_year' -> 'birth_year__18'\n",
      "[2021-05-24 17:52:22][datar][WARNING] * 'sex' -> 'sex__19'\n",
      "[2021-05-24 17:52:22][datar][WARNING] * 'gender' -> 'gender__20'\n",
      "[2021-05-24 17:52:22][datar][WARNING] * 'homeworld' -> 'homeworld__21'\n",
      "[2021-05-24 17:52:22][datar][WARNING] * 'species' -> 'species__22'\n"
     ]
    },
    {
     "output_type": "execute_result",
     "data": {
      "text/plain": [
       "          name__1  height__2  mass__3 hair_color__4 skin_color__5  \\\n",
       "0  Luke Skywalker      172.0     77.0         blond          fair   \n",
       "1           C-3PO      167.0     75.0           NaN          gold   \n",
       "2           R2-D2       96.0     32.0           NaN   white, blue   \n",
       "3     Darth Vader      202.0    136.0          none         white   \n",
       "\n",
       "  eye_color__6  birth_year__7 sex__8  gender__9 homeworld__10  ... height__13  \\\n",
       "0         blue           19.0   male  masculine      Tatooine  ...      183.0   \n",
       "1       yellow          112.0   none  masculine      Tatooine  ...      182.0   \n",
       "2          red           33.0   none  masculine         Naboo  ...      188.0   \n",
       "3       yellow           41.9   male  masculine      Tatooine  ...      180.0   \n",
       "\n",
       "  mass__14  hair_color__15  skin_color__16 eye_color__17 birth_year__18  \\\n",
       "0     84.0           black           light         brown           24.0   \n",
       "1     77.0   auburn, white            fair     blue-gray           57.0   \n",
       "2     84.0           blond            fair          blue           41.9   \n",
       "3      NaN    auburn, grey            fair          blue           64.0   \n",
       "\n",
       "  sex__19  gender__20 homeworld__21 species__22  \n",
       "0    male   masculine      Tatooine       Human  \n",
       "1    male   masculine       Stewjon       Human  \n",
       "2    male   masculine      Tatooine       Human  \n",
       "3    male   masculine        Eriadu       Human  \n",
       "\n",
       "[4 rows x 22 columns]"
      ],
      "text/html": "<div>\n<style scoped>\n    .dataframe tbody tr th:only-of-type {\n        vertical-align: middle;\n    }\n\n    .dataframe tbody tr th {\n        vertical-align: top;\n    }\n\n    .dataframe thead th {\n        text-align: right;\n    }\n</style>\n<table border=\"1\" class=\"dataframe\">\n  <thead>\n    <tr style=\"text-align: right;\">\n      <th></th>\n      <th>name__1</th>\n      <th>height__2</th>\n      <th>mass__3</th>\n      <th>hair_color__4</th>\n      <th>skin_color__5</th>\n      <th>eye_color__6</th>\n      <th>birth_year__7</th>\n      <th>sex__8</th>\n      <th>gender__9</th>\n      <th>homeworld__10</th>\n      <th>...</th>\n      <th>height__13</th>\n      <th>mass__14</th>\n      <th>hair_color__15</th>\n      <th>skin_color__16</th>\n      <th>eye_color__17</th>\n      <th>birth_year__18</th>\n      <th>sex__19</th>\n      <th>gender__20</th>\n      <th>homeworld__21</th>\n      <th>species__22</th>\n    </tr>\n  </thead>\n  <tbody>\n    <tr>\n      <th>0</th>\n      <td>Luke Skywalker</td>\n      <td>172.0</td>\n      <td>77.0</td>\n      <td>blond</td>\n      <td>fair</td>\n      <td>blue</td>\n      <td>19.0</td>\n      <td>male</td>\n      <td>masculine</td>\n      <td>Tatooine</td>\n      <td>...</td>\n      <td>183.0</td>\n      <td>84.0</td>\n      <td>black</td>\n      <td>light</td>\n      <td>brown</td>\n      <td>24.0</td>\n      <td>male</td>\n      <td>masculine</td>\n      <td>Tatooine</td>\n      <td>Human</td>\n    </tr>\n    <tr>\n      <th>1</th>\n      <td>C-3PO</td>\n      <td>167.0</td>\n      <td>75.0</td>\n      <td>NaN</td>\n      <td>gold</td>\n      <td>yellow</td>\n      <td>112.0</td>\n      <td>none</td>\n      <td>masculine</td>\n      <td>Tatooine</td>\n      <td>...</td>\n      <td>182.0</td>\n      <td>77.0</td>\n      <td>auburn, white</td>\n      <td>fair</td>\n      <td>blue-gray</td>\n      <td>57.0</td>\n      <td>male</td>\n      <td>masculine</td>\n      <td>Stewjon</td>\n      <td>Human</td>\n    </tr>\n    <tr>\n      <th>2</th>\n      <td>R2-D2</td>\n      <td>96.0</td>\n      <td>32.0</td>\n      <td>NaN</td>\n      <td>white, blue</td>\n      <td>red</td>\n      <td>33.0</td>\n      <td>none</td>\n      <td>masculine</td>\n      <td>Naboo</td>\n      <td>...</td>\n      <td>188.0</td>\n      <td>84.0</td>\n      <td>blond</td>\n      <td>fair</td>\n      <td>blue</td>\n      <td>41.9</td>\n      <td>male</td>\n      <td>masculine</td>\n      <td>Tatooine</td>\n      <td>Human</td>\n    </tr>\n    <tr>\n      <th>3</th>\n      <td>Darth Vader</td>\n      <td>202.0</td>\n      <td>136.0</td>\n      <td>none</td>\n      <td>white</td>\n      <td>yellow</td>\n      <td>41.9</td>\n      <td>male</td>\n      <td>masculine</td>\n      <td>Tatooine</td>\n      <td>...</td>\n      <td>180.0</td>\n      <td>NaN</td>\n      <td>auburn, grey</td>\n      <td>fair</td>\n      <td>blue</td>\n      <td>64.0</td>\n      <td>male</td>\n      <td>masculine</td>\n      <td>Eriadu</td>\n      <td>Human</td>\n    </tr>\n  </tbody>\n</table>\n<p>4 rows × 22 columns</p>\n</div>"
     },
     "metadata": {},
     "execution_count": 14
    }
   ],
   "source": [
    "one >> bind_cols(two)"
   ]
  }
 ],
 "metadata": {
  "kernelspec": {
   "display_name": "Python 3",
   "language": "python",
   "name": "python3"
  },
  "language_info": {
   "codemirror_mode": {
    "name": "ipython",
    "version": 3
   },
   "file_extension": ".py",
   "mimetype": "text/x-python",
   "name": "python",
   "nbconvert_exporter": "python",
   "pygments_lexer": "ipython3",
   "version": "3.7.8"
  }
 },
 "nbformat": 4,
 "nbformat_minor": 5
}