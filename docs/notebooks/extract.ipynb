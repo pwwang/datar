{
 "cells": [
  {
   "cell_type": "code",
   "execution_count": 1,
   "id": "processed-allah",
   "metadata": {
    "execution": {
     "iopub.execute_input": "2021-04-17T00:52:35.579397Z",
     "iopub.status.busy": "2021-04-17T00:52:35.578369Z",
     "iopub.status.idle": "2021-04-17T00:52:36.259566Z",
     "shell.execute_reply": "2021-04-17T00:52:36.259074Z"
    }
   },
   "outputs": [
    {
     "output_type": "display_data",
     "data": {
      "text/plain": "<IPython.core.display.HTML object>",
      "text/html": "<div style=\"text-align: right; text-style: italic\">Try this notebook on <a target=\"_blank\" href=\"https://mybinder.org/v2/gh/pwwang/datar/93d069f3ca36711fc811c61dcf60e9fc3d1460a5?filepath=docs%2Fnotebooks%2Fextract.ipynb\">binder</a>.</div>"
     },
     "metadata": {}
    },
    {
     "output_type": "display_data",
     "data": {
      "text/plain": "<IPython.core.display.Markdown object>",
      "text/markdown": "### # extract  "
     },
     "metadata": {}
    },
    {
     "output_type": "display_data",
     "data": {
      "text/plain": "<IPython.core.display.Markdown object>",
      "text/markdown": "##### Given a regular expression with capturing groups, extract() turns each\ngroup into a new column. If the groups don't match, or the input is NA,  \nthe output will be NA.  \n\nSee https://tidyr.tidyverse.org/reference/extract.html  \n\n##### Args:\n&emsp;&emsp;`data`: The dataframe  \n&emsp;&emsp;`col`: Column name or position.  \n&emsp;&emsp;`into`: Names of new variables to create as character vector.  \n&emsp;&emsp;&emsp;&emsp;Use None to omit the variable in the output.  \n\n&emsp;&emsp;`regex`: a regular expression used to extract the desired values.  \n&emsp;&emsp;&emsp;&emsp;There should be one group (defined by ()) for each element of into.  \n\n&emsp;&emsp;`remove`: If TRUE, remove input column from output data frame.  \n&emsp;&emsp;`convert`: The universal type for the extracted columns or a dict for  \n&emsp;&emsp;&emsp;&emsp;individual ones  \n\n&emsp;&emsp;`base0_`: Whether `col` is 0-based when given by index  \n&emsp;&emsp;&emsp;&emsp;If not provided, will use `datar.base.get_option('index.base.0')`  \n\n##### Returns:\n&emsp;&emsp;Dataframe with extracted columns.  \n"
     },
     "metadata": {}
    }
   ],
   "source": [
    "# https://tidyr.tidyverse.org/reference/extract.html\n",
    "\n",
    "from datar.all import *\n",
    "\n",
    "%run nb_helpers.py\n",
    "nb_header(extract)"
   ]
  },
  {
   "cell_type": "code",
   "execution_count": 2,
   "id": "caring-munich",
   "metadata": {
    "execution": {
     "iopub.execute_input": "2021-04-17T00:52:36.264755Z",
     "iopub.status.busy": "2021-04-17T00:52:36.264167Z",
     "iopub.status.idle": "2021-04-17T00:52:36.315916Z",
     "shell.execute_reply": "2021-04-17T00:52:36.316463Z"
    }
   },
   "outputs": [
    {
     "output_type": "execute_result",
     "data": {
      "text/plain": [
       "     A\n",
       "0  NaN\n",
       "1    a\n",
       "2    a\n",
       "3    b\n",
       "4    d"
      ],
      "text/html": "<div>\n<style scoped>\n    .dataframe tbody tr th:only-of-type {\n        vertical-align: middle;\n    }\n\n    .dataframe tbody tr th {\n        vertical-align: top;\n    }\n\n    .dataframe thead th {\n        text-align: right;\n    }\n</style>\n<table border=\"1\" class=\"dataframe\">\n  <thead>\n    <tr style=\"text-align: right;\">\n      <th></th>\n      <th>A</th>\n    </tr>\n  </thead>\n  <tbody>\n    <tr>\n      <th>0</th>\n      <td>NaN</td>\n    </tr>\n    <tr>\n      <th>1</th>\n      <td>a</td>\n    </tr>\n    <tr>\n      <th>2</th>\n      <td>a</td>\n    </tr>\n    <tr>\n      <th>3</th>\n      <td>b</td>\n    </tr>\n    <tr>\n      <th>4</th>\n      <td>d</td>\n    </tr>\n  </tbody>\n</table>\n</div>"
     },
     "metadata": {},
     "execution_count": 2
    }
   ],
   "source": [
    "df = tibble(x = c(NA, \"a-b\", \"a-d\", \"b-c\", \"d-e\"))\n",
    "df >> extract(f.x, \"A\")"
   ]
  },
  {
   "cell_type": "code",
   "execution_count": 3,
   "id": "registered-investment",
   "metadata": {
    "execution": {
     "iopub.execute_input": "2021-04-17T00:52:36.328573Z",
     "iopub.status.busy": "2021-04-17T00:52:36.327905Z",
     "iopub.status.idle": "2021-04-17T00:52:36.331669Z",
     "shell.execute_reply": "2021-04-17T00:52:36.332105Z"
    }
   },
   "outputs": [
    {
     "output_type": "execute_result",
     "data": {
      "text/plain": [
       "     A    B\n",
       "0  NaN  NaN\n",
       "1    a    b\n",
       "2    a    d\n",
       "3    b    c\n",
       "4    d    e"
      ],
      "text/html": "<div>\n<style scoped>\n    .dataframe tbody tr th:only-of-type {\n        vertical-align: middle;\n    }\n\n    .dataframe tbody tr th {\n        vertical-align: top;\n    }\n\n    .dataframe thead th {\n        text-align: right;\n    }\n</style>\n<table border=\"1\" class=\"dataframe\">\n  <thead>\n    <tr style=\"text-align: right;\">\n      <th></th>\n      <th>A</th>\n      <th>B</th>\n    </tr>\n  </thead>\n  <tbody>\n    <tr>\n      <th>0</th>\n      <td>NaN</td>\n      <td>NaN</td>\n    </tr>\n    <tr>\n      <th>1</th>\n      <td>a</td>\n      <td>b</td>\n    </tr>\n    <tr>\n      <th>2</th>\n      <td>a</td>\n      <td>d</td>\n    </tr>\n    <tr>\n      <th>3</th>\n      <td>b</td>\n      <td>c</td>\n    </tr>\n    <tr>\n      <th>4</th>\n      <td>d</td>\n      <td>e</td>\n    </tr>\n  </tbody>\n</table>\n</div>"
     },
     "metadata": {},
     "execution_count": 3
    }
   ],
   "source": [
    "df >> extract(f.x, c(\"A\", \"B\"), r\"(\\w+)-(\\w+)\")"
   ]
  },
  {
   "cell_type": "code",
   "execution_count": 4,
   "id": "celtic-mortality",
   "metadata": {
    "execution": {
     "iopub.execute_input": "2021-04-17T00:52:36.343445Z",
     "iopub.status.busy": "2021-04-17T00:52:36.342707Z",
     "iopub.status.idle": "2021-04-17T00:52:36.346047Z",
     "shell.execute_reply": "2021-04-17T00:52:36.346423Z"
    }
   },
   "outputs": [
    {
     "output_type": "execute_result",
     "data": {
      "text/plain": [
       "     A    B\n",
       "0  NaN  NaN\n",
       "1    a    b\n",
       "2    a    d\n",
       "3    b    c\n",
       "4  NaN  NaN"
      ],
      "text/html": "<div>\n<style scoped>\n    .dataframe tbody tr th:only-of-type {\n        vertical-align: middle;\n    }\n\n    .dataframe tbody tr th {\n        vertical-align: top;\n    }\n\n    .dataframe thead th {\n        text-align: right;\n    }\n</style>\n<table border=\"1\" class=\"dataframe\">\n  <thead>\n    <tr style=\"text-align: right;\">\n      <th></th>\n      <th>A</th>\n      <th>B</th>\n    </tr>\n  </thead>\n  <tbody>\n    <tr>\n      <th>0</th>\n      <td>NaN</td>\n      <td>NaN</td>\n    </tr>\n    <tr>\n      <th>1</th>\n      <td>a</td>\n      <td>b</td>\n    </tr>\n    <tr>\n      <th>2</th>\n      <td>a</td>\n      <td>d</td>\n    </tr>\n    <tr>\n      <th>3</th>\n      <td>b</td>\n      <td>c</td>\n    </tr>\n    <tr>\n      <th>4</th>\n      <td>NaN</td>\n      <td>NaN</td>\n    </tr>\n  </tbody>\n</table>\n</div>"
     },
     "metadata": {},
     "execution_count": 4
    }
   ],
   "source": [
    "df >> extract(f.x, c(\"A\", \"B\"), r\"([a-d]+)-([a-d]+)\")"
   ]
  },
  {
   "cell_type": "code",
   "execution_count": 5,
   "metadata": {},
   "outputs": [
    {
     "output_type": "execute_result",
     "data": {
      "text/plain": [
       "    a   b\n",
       "0  ac  bd"
      ],
      "text/html": "<div>\n<style scoped>\n    .dataframe tbody tr th:only-of-type {\n        vertical-align: middle;\n    }\n\n    .dataframe tbody tr th {\n        vertical-align: top;\n    }\n\n    .dataframe thead th {\n        text-align: right;\n    }\n</style>\n<table border=\"1\" class=\"dataframe\">\n  <thead>\n    <tr style=\"text-align: right;\">\n      <th></th>\n      <th>a</th>\n      <th>b</th>\n    </tr>\n  </thead>\n  <tbody>\n    <tr>\n      <th>0</th>\n      <td>ac</td>\n      <td>bd</td>\n    </tr>\n  </tbody>\n</table>\n</div>"
     },
     "metadata": {},
     "execution_count": 5
    }
   ],
   "source": [
    "# combine multiple columns\n",
    "df = tibble(x='abcd')\n",
    "df >> extract(f.x, ['a', 'b', 'a', 'b'], r'(.)(.)(.)(.)')"
   ]
  }
 ],
 "metadata": {
  "kernelspec": {
   "display_name": "Python 3",
   "language": "python",
   "name": "python3"
  },
  "language_info": {
   "codemirror_mode": {
    "name": "ipython",
    "version": 3
   },
   "file_extension": ".py",
   "mimetype": "text/x-python",
   "name": "python",
   "nbconvert_exporter": "python",
   "pygments_lexer": "ipython3",
   "version": "3.7.8"
  }
 },
 "nbformat": 4,
 "nbformat_minor": 5
}