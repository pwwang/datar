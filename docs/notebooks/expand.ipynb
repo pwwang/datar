{
 "cells": [
  {
   "cell_type": "code",
   "execution_count": 1,
   "id": "imposed-davis",
   "metadata": {
    "execution": {
     "iopub.execute_input": "2021-04-17T00:52:25.814795Z",
     "iopub.status.busy": "2021-04-17T00:52:25.813868Z",
     "iopub.status.idle": "2021-04-17T00:52:26.493239Z",
     "shell.execute_reply": "2021-04-17T00:52:26.492515Z"
    }
   },
   "outputs": [
    {
     "output_type": "display_data",
     "data": {
      "text/plain": "<IPython.core.display.HTML object>",
      "text/html": "<div style=\"text-align: right; text-style: italic\">Try this notebook on <a target=\"_blank\" href=\"https://mybinder.org/v2/gh/pwwang/datar/93d069f3ca36711fc811c61dcf60e9fc3d1460a5?filepath=docs%2Fnotebooks%2Fexpand.ipynb\">binder</a>.</div>"
     },
     "metadata": {}
    },
    {
     "output_type": "display_data",
     "data": {
      "text/plain": "<IPython.core.display.Markdown object>",
      "text/markdown": "### # expand  "
     },
     "metadata": {}
    },
    {
     "output_type": "display_data",
     "data": {
      "text/plain": "<IPython.core.display.Markdown object>",
      "text/markdown": "##### Generates all combination of variables found in a dataset.\n\n##### Args:\n&emsp;&emsp;`data`: A data frame  \n&emsp;&emsp;`*args`: and,  \n&emsp;&emsp;`**kwargs`: columns to expand. Columns can be atomic lists.  \n&emsp;&emsp;&emsp;&emsp;- To find all unique combinations of x, y and z, including\n&emsp;&emsp;&emsp;&emsp;&emsp;&emsp;those not present in the data, supply each variable as a  \n&emsp;&emsp;&emsp;&emsp;&emsp;&emsp;separate argument: `expand(df, x, y, z)`.  \n\n&emsp;&emsp;&emsp;&emsp;- To find only the combinations that occur in the data, use\n&emsp;&emsp;&emsp;&emsp;&emsp;&emsp;`nesting`: `expand(df, nesting(x, y, z))`.  \n\n&emsp;&emsp;&emsp;&emsp;- You can combine the two forms. For example,\n&emsp;&emsp;&emsp;&emsp;&emsp;&emsp;`expand(df, nesting(school_id, student_id), date)` would  \n&emsp;&emsp;&emsp;&emsp;&emsp;&emsp;produce a row for each present school-student combination  \n&emsp;&emsp;&emsp;&emsp;&emsp;&emsp;for all possible dates.  \n\n&emsp;&emsp;`_name_repair`: treatment of problematic column names:  \n&emsp;&emsp;&emsp;&emsp;- \"minimal\": No name repair or checks, beyond basic existence,\n\n&emsp;&emsp;&emsp;&emsp;- \"unique\": Make sure names are unique and not empty,\n\n&emsp;&emsp;&emsp;&emsp;- \"check_unique\": (default value), no name repair,\n&emsp;&emsp;&emsp;&emsp;&emsp;&emsp;but check they are unique,  \n\n&emsp;&emsp;&emsp;&emsp;- \"universal\": Make the names unique and syntactic\n\n&emsp;&emsp;&emsp;&emsp;- a function: apply custom name repair\n\n&emsp;&emsp;`_base0`: Whether the suffixes of repaired names should be 0-based.  \n&emsp;&emsp;&emsp;&emsp;If not provided, will use `datar.base.get_option('index.base.0')`.  \n\n##### Returns:\n&emsp;&emsp;A data frame with all combination of variables.  \n"
     },
     "metadata": {}
    },
    {
     "output_type": "display_data",
     "data": {
      "text/plain": "<IPython.core.display.Markdown object>",
      "text/markdown": "### # nesting  "
     },
     "metadata": {}
    },
    {
     "output_type": "display_data",
     "data": {
      "text/plain": "<IPython.core.display.Markdown object>",
      "text/markdown": "##### A helper that only finds combinations already present in the data.\n\n##### Args:\n&emsp;&emsp;`*args`: and,  \n&emsp;&emsp;`**kwargs`: columns to expand. Columns can be atomic lists.  \n&emsp;&emsp;&emsp;&emsp;- To find all unique combinations of x, y and z, including\n&emsp;&emsp;&emsp;&emsp;&emsp;&emsp;those not present in the data, supply each variable as a  \n&emsp;&emsp;&emsp;&emsp;&emsp;&emsp;separate argument: `expand(df, x, y, z)`.  \n\n&emsp;&emsp;&emsp;&emsp;- To find only the combinations that occur in the data, use\n&emsp;&emsp;&emsp;&emsp;&emsp;&emsp;`nesting`: `expand(df, nesting(x, y, z))`.  \n\n&emsp;&emsp;&emsp;&emsp;- You can combine the two forms. For example,\n&emsp;&emsp;&emsp;&emsp;&emsp;&emsp;`expand(df, nesting(school_id, student_id), date)` would  \n&emsp;&emsp;&emsp;&emsp;&emsp;&emsp;produce a row for each present school-student combination  \n&emsp;&emsp;&emsp;&emsp;&emsp;&emsp;for all possible dates.  \n\n&emsp;&emsp;`_name_repair`: treatment of problematic column names:  \n&emsp;&emsp;&emsp;&emsp;- \"minimal\": No name repair or checks, beyond basic existence,\n\n&emsp;&emsp;&emsp;&emsp;- \"unique\": Make sure names are unique and not empty,\n\n&emsp;&emsp;&emsp;&emsp;- \"check_unique\": (default value), no name repair,\n&emsp;&emsp;&emsp;&emsp;&emsp;&emsp;but check they are unique,  \n\n&emsp;&emsp;&emsp;&emsp;- \"universal\": Make the names unique and syntactic\n\n&emsp;&emsp;&emsp;&emsp;- a function: apply custom name repair\n\n&emsp;&emsp;`_base0`: Whether the suffixes of repaired names should be 0-based.  \n&emsp;&emsp;&emsp;&emsp;If not provided, will use `datar.base.get_option('index.base.0')`.  \n\n##### Returns:\n&emsp;&emsp;A data frame with all combinations in data.  \n"
     },
     "metadata": {}
    },
    {
     "output_type": "display_data",
     "data": {
      "text/plain": "<IPython.core.display.Markdown object>",
      "text/markdown": "### # crossing  "
     },
     "metadata": {}
    },
    {
     "output_type": "display_data",
     "data": {
      "text/plain": "<IPython.core.display.Markdown object>",
      "text/markdown": "##### A wrapper around `expand_grid()` that de-duplicates and sorts its inputs\n\nWhen values are not specified by literal `list`, they will be sorted.  \n\n##### Args:\n&emsp;&emsp;`*args`: and,  \n&emsp;&emsp;`**kwargs`: columns to expand. Columns can be atomic lists.  \n&emsp;&emsp;&emsp;&emsp;- To find all unique combinations of x, y and z, including\n&emsp;&emsp;&emsp;&emsp;&emsp;&emsp;those not present in the data, supply each variable as a  \n&emsp;&emsp;&emsp;&emsp;&emsp;&emsp;separate argument: `expand(df, x, y, z)`.  \n\n&emsp;&emsp;&emsp;&emsp;- To find only the combinations that occur in the data, use\n&emsp;&emsp;&emsp;&emsp;&emsp;&emsp;`nesting`: `expand(df, nesting(x, y, z))`.  \n\n&emsp;&emsp;&emsp;&emsp;- You can combine the two forms. For example,\n&emsp;&emsp;&emsp;&emsp;&emsp;&emsp;`expand(df, nesting(school_id, student_id), date)` would  \n&emsp;&emsp;&emsp;&emsp;&emsp;&emsp;produce a row for each present school-student combination  \n&emsp;&emsp;&emsp;&emsp;&emsp;&emsp;for all possible dates.  \n\n&emsp;&emsp;`_name_repair`: treatment of problematic column names:  \n&emsp;&emsp;&emsp;&emsp;- \"minimal\": No name repair or checks, beyond basic existence,\n\n&emsp;&emsp;&emsp;&emsp;- \"unique\": Make sure names are unique and not empty,\n\n&emsp;&emsp;&emsp;&emsp;- \"check_unique\": (default value), no name repair,\n&emsp;&emsp;&emsp;&emsp;&emsp;&emsp;but check they are unique,  \n\n&emsp;&emsp;&emsp;&emsp;- \"universal\": Make the names unique and syntactic\n\n&emsp;&emsp;&emsp;&emsp;- a function: apply custom name repair\n\n&emsp;&emsp;`_base0`: Whether the suffixes of repaired names should be 0-based.  \n&emsp;&emsp;&emsp;&emsp;If not provided, will use `datar.base.get_option('index.base.0')`.  \n\n##### Returns:\n&emsp;&emsp;A data frame with values deduplicated and sorted.  \n"
     },
     "metadata": {}
    }
   ],
   "source": [
    "# https://tidyr.tidyverse.org/reference/expand.html\n",
    "\n",
    "from datar.all import *\n",
    "\n",
    "%run nb_helpers.py\n",
    "nb_header(expand, nesting, crossing)"
   ]
  },
  {
   "cell_type": "code",
   "execution_count": 2,
   "id": "persistent-amino",
   "metadata": {
    "execution": {
     "iopub.execute_input": "2021-04-17T00:52:26.507846Z",
     "iopub.status.busy": "2021-04-17T00:52:26.507286Z",
     "iopub.status.idle": "2021-04-17T00:52:26.570626Z",
     "shell.execute_reply": "2021-04-17T00:52:26.570196Z"
    }
   },
   "outputs": [
    {
     "output_type": "execute_result",
     "data": {
      "text/plain": [
       "     type  year size   weights\n",
       "0   apple  2010   XS  0.705952\n",
       "1  orange  2010    S -1.150749\n",
       "2   apple  2012    M -1.558679\n",
       "3  orange  2010    S  0.171499\n",
       "4  orange  2010    S -1.965301\n",
       "5  orange  2012    M  0.212120"
      ],
      "text/html": "<div>\n<style scoped>\n    .dataframe tbody tr th:only-of-type {\n        vertical-align: middle;\n    }\n\n    .dataframe tbody tr th {\n        vertical-align: top;\n    }\n\n    .dataframe thead th {\n        text-align: right;\n    }\n</style>\n<table border=\"1\" class=\"dataframe\">\n  <thead>\n    <tr style=\"text-align: right;\">\n      <th></th>\n      <th>type</th>\n      <th>year</th>\n      <th>size</th>\n      <th>weights</th>\n    </tr>\n  </thead>\n  <tbody>\n    <tr>\n      <th>0</th>\n      <td>apple</td>\n      <td>2010</td>\n      <td>XS</td>\n      <td>0.705952</td>\n    </tr>\n    <tr>\n      <th>1</th>\n      <td>orange</td>\n      <td>2010</td>\n      <td>S</td>\n      <td>-1.150749</td>\n    </tr>\n    <tr>\n      <th>2</th>\n      <td>apple</td>\n      <td>2012</td>\n      <td>M</td>\n      <td>-1.558679</td>\n    </tr>\n    <tr>\n      <th>3</th>\n      <td>orange</td>\n      <td>2010</td>\n      <td>S</td>\n      <td>0.171499</td>\n    </tr>\n    <tr>\n      <th>4</th>\n      <td>orange</td>\n      <td>2010</td>\n      <td>S</td>\n      <td>-1.965301</td>\n    </tr>\n    <tr>\n      <th>5</th>\n      <td>orange</td>\n      <td>2012</td>\n      <td>M</td>\n      <td>0.212120</td>\n    </tr>\n  </tbody>\n</table>\n</div>"
     },
     "metadata": {},
     "execution_count": 2
    }
   ],
   "source": [
    "\n",
    "fruits = tibble(\n",
    "  type   = c(\"apple\", \"orange\", \"apple\", \"orange\", \"orange\", \"orange\"),\n",
    "  year   = c(2010, 2010, 2012, 2010, 2010, 2012),\n",
    "  size  =  factor(\n",
    "    c(\"XS\", \"S\",  \"M\", \"S\", \"S\", \"M\"),\n",
    "    levels = c(\"XS\", \"S\", \"M\", \"L\")\n",
    "  ),\n",
    "  weights = rnorm(6)\n",
    ")\n",
    "fruits "
   ]
  },
  {
   "cell_type": "code",
   "execution_count": 3,
   "id": "backed-short",
   "metadata": {
    "execution": {
     "iopub.execute_input": "2021-04-17T00:52:26.576126Z",
     "iopub.status.busy": "2021-04-17T00:52:26.575573Z",
     "iopub.status.idle": "2021-04-17T00:52:26.652901Z",
     "shell.execute_reply": "2021-04-17T00:52:26.652512Z"
    }
   },
   "outputs": [
    {
     "output_type": "execute_result",
     "data": {
      "text/plain": [
       "     type\n",
       "0   apple\n",
       "1  orange"
      ],
      "text/html": "<div>\n<style scoped>\n    .dataframe tbody tr th:only-of-type {\n        vertical-align: middle;\n    }\n\n    .dataframe tbody tr th {\n        vertical-align: top;\n    }\n\n    .dataframe thead th {\n        text-align: right;\n    }\n</style>\n<table border=\"1\" class=\"dataframe\">\n  <thead>\n    <tr style=\"text-align: right;\">\n      <th></th>\n      <th>type</th>\n    </tr>\n  </thead>\n  <tbody>\n    <tr>\n      <th>0</th>\n      <td>apple</td>\n    </tr>\n    <tr>\n      <th>1</th>\n      <td>orange</td>\n    </tr>\n  </tbody>\n</table>\n</div>"
     },
     "metadata": {},
     "execution_count": 3
    }
   ],
   "source": [
    "fruits >> expand(f.type)"
   ]
  },
  {
   "cell_type": "code",
   "execution_count": 4,
   "id": "asian-texture",
   "metadata": {
    "execution": {
     "iopub.execute_input": "2021-04-17T00:52:26.664493Z",
     "iopub.status.busy": "2021-04-17T00:52:26.663813Z",
     "iopub.status.idle": "2021-04-17T00:52:26.667260Z",
     "shell.execute_reply": "2021-04-17T00:52:26.667617Z"
    }
   },
   "outputs": [
    {
     "output_type": "execute_result",
     "data": {
      "text/plain": [
       "     type size\n",
       "0   apple   XS\n",
       "1   apple    S\n",
       "2   apple    M\n",
       "3   apple    L\n",
       "4  orange   XS\n",
       "5  orange    S\n",
       "6  orange    M\n",
       "7  orange    L"
      ],
      "text/html": "<div>\n<style scoped>\n    .dataframe tbody tr th:only-of-type {\n        vertical-align: middle;\n    }\n\n    .dataframe tbody tr th {\n        vertical-align: top;\n    }\n\n    .dataframe thead th {\n        text-align: right;\n    }\n</style>\n<table border=\"1\" class=\"dataframe\">\n  <thead>\n    <tr style=\"text-align: right;\">\n      <th></th>\n      <th>type</th>\n      <th>size</th>\n    </tr>\n  </thead>\n  <tbody>\n    <tr>\n      <th>0</th>\n      <td>apple</td>\n      <td>XS</td>\n    </tr>\n    <tr>\n      <th>1</th>\n      <td>apple</td>\n      <td>S</td>\n    </tr>\n    <tr>\n      <th>2</th>\n      <td>apple</td>\n      <td>M</td>\n    </tr>\n    <tr>\n      <th>3</th>\n      <td>apple</td>\n      <td>L</td>\n    </tr>\n    <tr>\n      <th>4</th>\n      <td>orange</td>\n      <td>XS</td>\n    </tr>\n    <tr>\n      <th>5</th>\n      <td>orange</td>\n      <td>S</td>\n    </tr>\n    <tr>\n      <th>6</th>\n      <td>orange</td>\n      <td>M</td>\n    </tr>\n    <tr>\n      <th>7</th>\n      <td>orange</td>\n      <td>L</td>\n    </tr>\n  </tbody>\n</table>\n</div>"
     },
     "metadata": {},
     "execution_count": 4
    }
   ],
   "source": [
    "fruits >> expand(f.type, f.size) "
   ]
  },
  {
   "cell_type": "code",
   "execution_count": 5,
   "id": "realistic-addiction",
   "metadata": {
    "execution": {
     "iopub.execute_input": "2021-04-17T00:52:26.680937Z",
     "iopub.status.busy": "2021-04-17T00:52:26.679993Z",
     "iopub.status.idle": "2021-04-17T00:52:26.683977Z",
     "shell.execute_reply": "2021-04-17T00:52:26.683460Z"
    }
   },
   "outputs": [
    {
     "output_type": "execute_result",
     "data": {
      "text/plain": [
       "      type size  year\n",
       "0    apple   XS  2010\n",
       "1    apple   XS  2012\n",
       "2    apple    S  2010\n",
       "3    apple    S  2012\n",
       "4    apple    M  2010\n",
       "5    apple    M  2012\n",
       "6    apple    L  2010\n",
       "7    apple    L  2012\n",
       "8   orange   XS  2010\n",
       "9   orange   XS  2012\n",
       "10  orange    S  2010\n",
       "11  orange    S  2012\n",
       "12  orange    M  2010\n",
       "13  orange    M  2012\n",
       "14  orange    L  2010\n",
       "15  orange    L  2012"
      ],
      "text/html": "<div>\n<style scoped>\n    .dataframe tbody tr th:only-of-type {\n        vertical-align: middle;\n    }\n\n    .dataframe tbody tr th {\n        vertical-align: top;\n    }\n\n    .dataframe thead th {\n        text-align: right;\n    }\n</style>\n<table border=\"1\" class=\"dataframe\">\n  <thead>\n    <tr style=\"text-align: right;\">\n      <th></th>\n      <th>type</th>\n      <th>size</th>\n      <th>year</th>\n    </tr>\n  </thead>\n  <tbody>\n    <tr>\n      <th>0</th>\n      <td>apple</td>\n      <td>XS</td>\n      <td>2010</td>\n    </tr>\n    <tr>\n      <th>1</th>\n      <td>apple</td>\n      <td>XS</td>\n      <td>2012</td>\n    </tr>\n    <tr>\n      <th>2</th>\n      <td>apple</td>\n      <td>S</td>\n      <td>2010</td>\n    </tr>\n    <tr>\n      <th>3</th>\n      <td>apple</td>\n      <td>S</td>\n      <td>2012</td>\n    </tr>\n    <tr>\n      <th>4</th>\n      <td>apple</td>\n      <td>M</td>\n      <td>2010</td>\n    </tr>\n    <tr>\n      <th>5</th>\n      <td>apple</td>\n      <td>M</td>\n      <td>2012</td>\n    </tr>\n    <tr>\n      <th>6</th>\n      <td>apple</td>\n      <td>L</td>\n      <td>2010</td>\n    </tr>\n    <tr>\n      <th>7</th>\n      <td>apple</td>\n      <td>L</td>\n      <td>2012</td>\n    </tr>\n    <tr>\n      <th>8</th>\n      <td>orange</td>\n      <td>XS</td>\n      <td>2010</td>\n    </tr>\n    <tr>\n      <th>9</th>\n      <td>orange</td>\n      <td>XS</td>\n      <td>2012</td>\n    </tr>\n    <tr>\n      <th>10</th>\n      <td>orange</td>\n      <td>S</td>\n      <td>2010</td>\n    </tr>\n    <tr>\n      <th>11</th>\n      <td>orange</td>\n      <td>S</td>\n      <td>2012</td>\n    </tr>\n    <tr>\n      <th>12</th>\n      <td>orange</td>\n      <td>M</td>\n      <td>2010</td>\n    </tr>\n    <tr>\n      <th>13</th>\n      <td>orange</td>\n      <td>M</td>\n      <td>2012</td>\n    </tr>\n    <tr>\n      <th>14</th>\n      <td>orange</td>\n      <td>L</td>\n      <td>2010</td>\n    </tr>\n    <tr>\n      <th>15</th>\n      <td>orange</td>\n      <td>L</td>\n      <td>2012</td>\n    </tr>\n  </tbody>\n</table>\n</div>"
     },
     "metadata": {},
     "execution_count": 5
    }
   ],
   "source": [
    "fruits >> expand(f.type, f.size, f.year)"
   ]
  },
  {
   "cell_type": "code",
   "execution_count": 6,
   "id": "packed-edinburgh",
   "metadata": {
    "execution": {
     "iopub.execute_input": "2021-04-17T00:52:26.693716Z",
     "iopub.status.busy": "2021-04-17T00:52:26.693090Z",
     "iopub.status.idle": "2021-04-17T00:52:26.696611Z",
     "shell.execute_reply": "2021-04-17T00:52:26.696094Z"
    }
   },
   "outputs": [
    {
     "output_type": "execute_result",
     "data": {
      "text/plain": [
       "     type\n",
       "0   apple\n",
       "1  orange"
      ],
      "text/html": "<div>\n<style scoped>\n    .dataframe tbody tr th:only-of-type {\n        vertical-align: middle;\n    }\n\n    .dataframe tbody tr th {\n        vertical-align: top;\n    }\n\n    .dataframe thead th {\n        text-align: right;\n    }\n</style>\n<table border=\"1\" class=\"dataframe\">\n  <thead>\n    <tr style=\"text-align: right;\">\n      <th></th>\n      <th>type</th>\n    </tr>\n  </thead>\n  <tbody>\n    <tr>\n      <th>0</th>\n      <td>apple</td>\n    </tr>\n    <tr>\n      <th>1</th>\n      <td>orange</td>\n    </tr>\n  </tbody>\n</table>\n</div>"
     },
     "metadata": {},
     "execution_count": 6
    }
   ],
   "source": [
    "fruits >> expand(nesting(f.type))"
   ]
  },
  {
   "cell_type": "code",
   "execution_count": 7,
   "id": "opposed-installation",
   "metadata": {
    "execution": {
     "iopub.execute_input": "2021-04-17T00:52:26.707419Z",
     "iopub.status.busy": "2021-04-17T00:52:26.706786Z",
     "iopub.status.idle": "2021-04-17T00:52:26.709932Z",
     "shell.execute_reply": "2021-04-17T00:52:26.709287Z"
    }
   },
   "outputs": [
    {
     "output_type": "execute_result",
     "data": {
      "text/plain": [
       "     type size\n",
       "0   apple   XS\n",
       "1  orange    S\n",
       "2   apple    M\n",
       "3  orange    M"
      ],
      "text/html": "<div>\n<style scoped>\n    .dataframe tbody tr th:only-of-type {\n        vertical-align: middle;\n    }\n\n    .dataframe tbody tr th {\n        vertical-align: top;\n    }\n\n    .dataframe thead th {\n        text-align: right;\n    }\n</style>\n<table border=\"1\" class=\"dataframe\">\n  <thead>\n    <tr style=\"text-align: right;\">\n      <th></th>\n      <th>type</th>\n      <th>size</th>\n    </tr>\n  </thead>\n  <tbody>\n    <tr>\n      <th>0</th>\n      <td>apple</td>\n      <td>XS</td>\n    </tr>\n    <tr>\n      <th>1</th>\n      <td>orange</td>\n      <td>S</td>\n    </tr>\n    <tr>\n      <th>2</th>\n      <td>apple</td>\n      <td>M</td>\n    </tr>\n    <tr>\n      <th>3</th>\n      <td>orange</td>\n      <td>M</td>\n    </tr>\n  </tbody>\n</table>\n</div>"
     },
     "metadata": {},
     "execution_count": 7
    }
   ],
   "source": [
    "fruits >> expand(nesting(f.type, f.size))"
   ]
  },
  {
   "cell_type": "code",
   "execution_count": 8,
   "id": "difficult-norfolk",
   "metadata": {
    "execution": {
     "iopub.execute_input": "2021-04-17T00:52:26.722778Z",
     "iopub.status.busy": "2021-04-17T00:52:26.722109Z",
     "iopub.status.idle": "2021-04-17T00:52:26.725289Z",
     "shell.execute_reply": "2021-04-17T00:52:26.724862Z"
    }
   },
   "outputs": [
    {
     "output_type": "execute_result",
     "data": {
      "text/plain": [
       "     type size  year\n",
       "0   apple   XS  2010\n",
       "1  orange    S  2010\n",
       "2   apple    M  2012\n",
       "3  orange    M  2012"
      ],
      "text/html": "<div>\n<style scoped>\n    .dataframe tbody tr th:only-of-type {\n        vertical-align: middle;\n    }\n\n    .dataframe tbody tr th {\n        vertical-align: top;\n    }\n\n    .dataframe thead th {\n        text-align: right;\n    }\n</style>\n<table border=\"1\" class=\"dataframe\">\n  <thead>\n    <tr style=\"text-align: right;\">\n      <th></th>\n      <th>type</th>\n      <th>size</th>\n      <th>year</th>\n    </tr>\n  </thead>\n  <tbody>\n    <tr>\n      <th>0</th>\n      <td>apple</td>\n      <td>XS</td>\n      <td>2010</td>\n    </tr>\n    <tr>\n      <th>1</th>\n      <td>orange</td>\n      <td>S</td>\n      <td>2010</td>\n    </tr>\n    <tr>\n      <th>2</th>\n      <td>apple</td>\n      <td>M</td>\n      <td>2012</td>\n    </tr>\n    <tr>\n      <th>3</th>\n      <td>orange</td>\n      <td>M</td>\n      <td>2012</td>\n    </tr>\n  </tbody>\n</table>\n</div>"
     },
     "metadata": {},
     "execution_count": 8
    }
   ],
   "source": [
    "fruits >> expand(nesting(f.type, f.size, f.year))"
   ]
  },
  {
   "cell_type": "code",
   "execution_count": 9,
   "id": "corporate-maple",
   "metadata": {
    "execution": {
     "iopub.execute_input": "2021-04-17T00:52:26.743465Z",
     "iopub.status.busy": "2021-04-17T00:52:26.742685Z",
     "iopub.status.idle": "2021-04-17T00:52:26.749742Z",
     "shell.execute_reply": "2021-04-17T00:52:26.749258Z"
    }
   },
   "outputs": [
    {
     "output_type": "execute_result",
     "data": {
      "text/plain": [
       "      type size  _Var2\n",
       "0    apple   XS   2010\n",
       "1    apple   XS   2011\n",
       "2    apple   XS   2012\n",
       "3    apple    S   2010\n",
       "4    apple    S   2011\n",
       "5    apple    S   2012\n",
       "6    apple    M   2010\n",
       "7    apple    M   2011\n",
       "8    apple    M   2012\n",
       "9    apple    L   2010\n",
       "10   apple    L   2011\n",
       "11   apple    L   2012\n",
       "12  orange   XS   2010\n",
       "13  orange   XS   2011\n",
       "14  orange   XS   2012\n",
       "15  orange    S   2010\n",
       "16  orange    S   2011\n",
       "17  orange    S   2012\n",
       "18  orange    M   2010\n",
       "19  orange    M   2011\n",
       "20  orange    M   2012\n",
       "21  orange    L   2010\n",
       "22  orange    L   2011\n",
       "23  orange    L   2012"
      ],
      "text/html": "<div>\n<style scoped>\n    .dataframe tbody tr th:only-of-type {\n        vertical-align: middle;\n    }\n\n    .dataframe tbody tr th {\n        vertical-align: top;\n    }\n\n    .dataframe thead th {\n        text-align: right;\n    }\n</style>\n<table border=\"1\" class=\"dataframe\">\n  <thead>\n    <tr style=\"text-align: right;\">\n      <th></th>\n      <th>type</th>\n      <th>size</th>\n      <th>_Var2</th>\n    </tr>\n  </thead>\n  <tbody>\n    <tr>\n      <th>0</th>\n      <td>apple</td>\n      <td>XS</td>\n      <td>2010</td>\n    </tr>\n    <tr>\n      <th>1</th>\n      <td>apple</td>\n      <td>XS</td>\n      <td>2011</td>\n    </tr>\n    <tr>\n      <th>2</th>\n      <td>apple</td>\n      <td>XS</td>\n      <td>2012</td>\n    </tr>\n    <tr>\n      <th>3</th>\n      <td>apple</td>\n      <td>S</td>\n      <td>2010</td>\n    </tr>\n    <tr>\n      <th>4</th>\n      <td>apple</td>\n      <td>S</td>\n      <td>2011</td>\n    </tr>\n    <tr>\n      <th>5</th>\n      <td>apple</td>\n      <td>S</td>\n      <td>2012</td>\n    </tr>\n    <tr>\n      <th>6</th>\n      <td>apple</td>\n      <td>M</td>\n      <td>2010</td>\n    </tr>\n    <tr>\n      <th>7</th>\n      <td>apple</td>\n      <td>M</td>\n      <td>2011</td>\n    </tr>\n    <tr>\n      <th>8</th>\n      <td>apple</td>\n      <td>M</td>\n      <td>2012</td>\n    </tr>\n    <tr>\n      <th>9</th>\n      <td>apple</td>\n      <td>L</td>\n      <td>2010</td>\n    </tr>\n    <tr>\n      <th>10</th>\n      <td>apple</td>\n      <td>L</td>\n      <td>2011</td>\n    </tr>\n    <tr>\n      <th>11</th>\n      <td>apple</td>\n      <td>L</td>\n      <td>2012</td>\n    </tr>\n    <tr>\n      <th>12</th>\n      <td>orange</td>\n      <td>XS</td>\n      <td>2010</td>\n    </tr>\n    <tr>\n      <th>13</th>\n      <td>orange</td>\n      <td>XS</td>\n      <td>2011</td>\n    </tr>\n    <tr>\n      <th>14</th>\n      <td>orange</td>\n      <td>XS</td>\n      <td>2012</td>\n    </tr>\n    <tr>\n      <th>15</th>\n      <td>orange</td>\n      <td>S</td>\n      <td>2010</td>\n    </tr>\n    <tr>\n      <th>16</th>\n      <td>orange</td>\n      <td>S</td>\n      <td>2011</td>\n    </tr>\n    <tr>\n      <th>17</th>\n      <td>orange</td>\n      <td>S</td>\n      <td>2012</td>\n    </tr>\n    <tr>\n      <th>18</th>\n      <td>orange</td>\n      <td>M</td>\n      <td>2010</td>\n    </tr>\n    <tr>\n      <th>19</th>\n      <td>orange</td>\n      <td>M</td>\n      <td>2011</td>\n    </tr>\n    <tr>\n      <th>20</th>\n      <td>orange</td>\n      <td>M</td>\n      <td>2012</td>\n    </tr>\n    <tr>\n      <th>21</th>\n      <td>orange</td>\n      <td>L</td>\n      <td>2010</td>\n    </tr>\n    <tr>\n      <th>22</th>\n      <td>orange</td>\n      <td>L</td>\n      <td>2011</td>\n    </tr>\n    <tr>\n      <th>23</th>\n      <td>orange</td>\n      <td>L</td>\n      <td>2012</td>\n    </tr>\n  </tbody>\n</table>\n</div>"
     },
     "metadata": {},
     "execution_count": 9
    }
   ],
   "source": [
    "fruits >> expand(f.type, f.size, full_seq(f.year, 1))"
   ]
  },
  {
   "cell_type": "code",
   "execution_count": 10,
   "id": "developed-floor",
   "metadata": {
    "execution": {
     "iopub.execute_input": "2021-04-17T00:52:26.770871Z",
     "iopub.status.busy": "2021-04-17T00:52:26.770201Z",
     "iopub.status.idle": "2021-04-17T00:52:26.774774Z",
     "shell.execute_reply": "2021-04-17T00:52:26.774367Z"
    }
   },
   "outputs": [
    {
     "output_type": "execute_result",
     "data": {
      "text/plain": [
       "      type size  _Var2\n",
       "0    apple   XS   2010\n",
       "1    apple   XS   2011\n",
       "2    apple   XS   2012\n",
       "3    apple    S   2010\n",
       "4    apple    S   2011\n",
       "5    apple    S   2012\n",
       "6    apple    M   2010\n",
       "7    apple    M   2011\n",
       "8    apple    M   2012\n",
       "9    apple    L   2010\n",
       "10   apple    L   2011\n",
       "11   apple    L   2012\n",
       "12  orange   XS   2010\n",
       "13  orange   XS   2011\n",
       "14  orange   XS   2012\n",
       "15  orange    S   2010\n",
       "16  orange    S   2011\n",
       "17  orange    S   2012\n",
       "18  orange    M   2010\n",
       "19  orange    M   2011\n",
       "20  orange    M   2012\n",
       "21  orange    L   2010\n",
       "22  orange    L   2011\n",
       "23  orange    L   2012"
      ],
      "text/html": "<div>\n<style scoped>\n    .dataframe tbody tr th:only-of-type {\n        vertical-align: middle;\n    }\n\n    .dataframe tbody tr th {\n        vertical-align: top;\n    }\n\n    .dataframe thead th {\n        text-align: right;\n    }\n</style>\n<table border=\"1\" class=\"dataframe\">\n  <thead>\n    <tr style=\"text-align: right;\">\n      <th></th>\n      <th>type</th>\n      <th>size</th>\n      <th>_Var2</th>\n    </tr>\n  </thead>\n  <tbody>\n    <tr>\n      <th>0</th>\n      <td>apple</td>\n      <td>XS</td>\n      <td>2010</td>\n    </tr>\n    <tr>\n      <th>1</th>\n      <td>apple</td>\n      <td>XS</td>\n      <td>2011</td>\n    </tr>\n    <tr>\n      <th>2</th>\n      <td>apple</td>\n      <td>XS</td>\n      <td>2012</td>\n    </tr>\n    <tr>\n      <th>3</th>\n      <td>apple</td>\n      <td>S</td>\n      <td>2010</td>\n    </tr>\n    <tr>\n      <th>4</th>\n      <td>apple</td>\n      <td>S</td>\n      <td>2011</td>\n    </tr>\n    <tr>\n      <th>5</th>\n      <td>apple</td>\n      <td>S</td>\n      <td>2012</td>\n    </tr>\n    <tr>\n      <th>6</th>\n      <td>apple</td>\n      <td>M</td>\n      <td>2010</td>\n    </tr>\n    <tr>\n      <th>7</th>\n      <td>apple</td>\n      <td>M</td>\n      <td>2011</td>\n    </tr>\n    <tr>\n      <th>8</th>\n      <td>apple</td>\n      <td>M</td>\n      <td>2012</td>\n    </tr>\n    <tr>\n      <th>9</th>\n      <td>apple</td>\n      <td>L</td>\n      <td>2010</td>\n    </tr>\n    <tr>\n      <th>10</th>\n      <td>apple</td>\n      <td>L</td>\n      <td>2011</td>\n    </tr>\n    <tr>\n      <th>11</th>\n      <td>apple</td>\n      <td>L</td>\n      <td>2012</td>\n    </tr>\n    <tr>\n      <th>12</th>\n      <td>orange</td>\n      <td>XS</td>\n      <td>2010</td>\n    </tr>\n    <tr>\n      <th>13</th>\n      <td>orange</td>\n      <td>XS</td>\n      <td>2011</td>\n    </tr>\n    <tr>\n      <th>14</th>\n      <td>orange</td>\n      <td>XS</td>\n      <td>2012</td>\n    </tr>\n    <tr>\n      <th>15</th>\n      <td>orange</td>\n      <td>S</td>\n      <td>2010</td>\n    </tr>\n    <tr>\n      <th>16</th>\n      <td>orange</td>\n      <td>S</td>\n      <td>2011</td>\n    </tr>\n    <tr>\n      <th>17</th>\n      <td>orange</td>\n      <td>S</td>\n      <td>2012</td>\n    </tr>\n    <tr>\n      <th>18</th>\n      <td>orange</td>\n      <td>M</td>\n      <td>2010</td>\n    </tr>\n    <tr>\n      <th>19</th>\n      <td>orange</td>\n      <td>M</td>\n      <td>2011</td>\n    </tr>\n    <tr>\n      <th>20</th>\n      <td>orange</td>\n      <td>M</td>\n      <td>2012</td>\n    </tr>\n    <tr>\n      <th>21</th>\n      <td>orange</td>\n      <td>L</td>\n      <td>2010</td>\n    </tr>\n    <tr>\n      <th>22</th>\n      <td>orange</td>\n      <td>L</td>\n      <td>2011</td>\n    </tr>\n    <tr>\n      <th>23</th>\n      <td>orange</td>\n      <td>L</td>\n      <td>2012</td>\n    </tr>\n  </tbody>\n</table>\n</div>"
     },
     "metadata": {},
     "execution_count": 10
    }
   ],
   "source": [
    "fruits >> expand(f.type, f.size, seq(2010, 2012))"
   ]
  },
  {
   "cell_type": "code",
   "execution_count": 11,
   "id": "alternate-addiction",
   "metadata": {
    "execution": {
     "iopub.execute_input": "2021-04-17T00:52:26.789853Z",
     "iopub.status.busy": "2021-04-17T00:52:26.789028Z",
     "iopub.status.idle": "2021-04-17T00:52:26.802041Z",
     "shell.execute_reply": "2021-04-17T00:52:26.801636Z"
    }
   },
   "outputs": [
    {
     "output_type": "execute_result",
     "data": {
      "text/plain": [
       "      type size  year\n",
       "0    apple   XS  2010\n",
       "1    apple   XS  2011\n",
       "2    apple   XS  2012\n",
       "3    apple    S  2010\n",
       "4    apple    S  2011\n",
       "5    apple    S  2012\n",
       "6    apple    M  2010\n",
       "7    apple    M  2011\n",
       "8    apple    M  2012\n",
       "9    apple    L  2010\n",
       "10   apple    L  2011\n",
       "11   apple    L  2012\n",
       "12  orange   XS  2010\n",
       "13  orange   XS  2011\n",
       "14  orange   XS  2012\n",
       "15  orange    S  2010\n",
       "16  orange    S  2011\n",
       "17  orange    S  2012\n",
       "18  orange    M  2010\n",
       "19  orange    M  2011\n",
       "20  orange    M  2012\n",
       "21  orange    L  2010\n",
       "22  orange    L  2011\n",
       "23  orange    L  2012"
      ],
      "text/html": "<div>\n<style scoped>\n    .dataframe tbody tr th:only-of-type {\n        vertical-align: middle;\n    }\n\n    .dataframe tbody tr th {\n        vertical-align: top;\n    }\n\n    .dataframe thead th {\n        text-align: right;\n    }\n</style>\n<table border=\"1\" class=\"dataframe\">\n  <thead>\n    <tr style=\"text-align: right;\">\n      <th></th>\n      <th>type</th>\n      <th>size</th>\n      <th>year</th>\n    </tr>\n  </thead>\n  <tbody>\n    <tr>\n      <th>0</th>\n      <td>apple</td>\n      <td>XS</td>\n      <td>2010</td>\n    </tr>\n    <tr>\n      <th>1</th>\n      <td>apple</td>\n      <td>XS</td>\n      <td>2011</td>\n    </tr>\n    <tr>\n      <th>2</th>\n      <td>apple</td>\n      <td>XS</td>\n      <td>2012</td>\n    </tr>\n    <tr>\n      <th>3</th>\n      <td>apple</td>\n      <td>S</td>\n      <td>2010</td>\n    </tr>\n    <tr>\n      <th>4</th>\n      <td>apple</td>\n      <td>S</td>\n      <td>2011</td>\n    </tr>\n    <tr>\n      <th>5</th>\n      <td>apple</td>\n      <td>S</td>\n      <td>2012</td>\n    </tr>\n    <tr>\n      <th>6</th>\n      <td>apple</td>\n      <td>M</td>\n      <td>2010</td>\n    </tr>\n    <tr>\n      <th>7</th>\n      <td>apple</td>\n      <td>M</td>\n      <td>2011</td>\n    </tr>\n    <tr>\n      <th>8</th>\n      <td>apple</td>\n      <td>M</td>\n      <td>2012</td>\n    </tr>\n    <tr>\n      <th>9</th>\n      <td>apple</td>\n      <td>L</td>\n      <td>2010</td>\n    </tr>\n    <tr>\n      <th>10</th>\n      <td>apple</td>\n      <td>L</td>\n      <td>2011</td>\n    </tr>\n    <tr>\n      <th>11</th>\n      <td>apple</td>\n      <td>L</td>\n      <td>2012</td>\n    </tr>\n    <tr>\n      <th>12</th>\n      <td>orange</td>\n      <td>XS</td>\n      <td>2010</td>\n    </tr>\n    <tr>\n      <th>13</th>\n      <td>orange</td>\n      <td>XS</td>\n      <td>2011</td>\n    </tr>\n    <tr>\n      <th>14</th>\n      <td>orange</td>\n      <td>XS</td>\n      <td>2012</td>\n    </tr>\n    <tr>\n      <th>15</th>\n      <td>orange</td>\n      <td>S</td>\n      <td>2010</td>\n    </tr>\n    <tr>\n      <th>16</th>\n      <td>orange</td>\n      <td>S</td>\n      <td>2011</td>\n    </tr>\n    <tr>\n      <th>17</th>\n      <td>orange</td>\n      <td>S</td>\n      <td>2012</td>\n    </tr>\n    <tr>\n      <th>18</th>\n      <td>orange</td>\n      <td>M</td>\n      <td>2010</td>\n    </tr>\n    <tr>\n      <th>19</th>\n      <td>orange</td>\n      <td>M</td>\n      <td>2011</td>\n    </tr>\n    <tr>\n      <th>20</th>\n      <td>orange</td>\n      <td>M</td>\n      <td>2012</td>\n    </tr>\n    <tr>\n      <th>21</th>\n      <td>orange</td>\n      <td>L</td>\n      <td>2010</td>\n    </tr>\n    <tr>\n      <th>22</th>\n      <td>orange</td>\n      <td>L</td>\n      <td>2011</td>\n    </tr>\n    <tr>\n      <th>23</th>\n      <td>orange</td>\n      <td>L</td>\n      <td>2012</td>\n    </tr>\n  </tbody>\n</table>\n</div>"
     },
     "metadata": {},
     "execution_count": 11
    }
   ],
   "source": [
    "fruits >> expand(f.type, f.size, year=seq(2010, 2012))"
   ]
  },
  {
   "cell_type": "code",
   "execution_count": 12,
   "id": "regular-employment",
   "metadata": {
    "execution": {
     "iopub.execute_input": "2021-04-17T00:52:26.814532Z",
     "iopub.status.busy": "2021-04-17T00:52:26.813916Z",
     "iopub.status.idle": "2021-04-17T00:52:26.817419Z",
     "shell.execute_reply": "2021-04-17T00:52:26.817038Z"
    }
   },
   "outputs": [
    {
     "output_type": "execute_result",
     "data": {
      "text/plain": [
       "      type size  year\n",
       "0    apple   XS  2010\n",
       "1    apple   XS  2012\n",
       "2    apple    S  2010\n",
       "3    apple    S  2012\n",
       "4    apple    M  2010\n",
       "5    apple    M  2012\n",
       "6    apple    L  2010\n",
       "7    apple    L  2012\n",
       "8   orange   XS  2010\n",
       "9   orange   XS  2012\n",
       "10  orange    S  2010\n",
       "11  orange    S  2012\n",
       "12  orange    M  2010\n",
       "13  orange    M  2012\n",
       "14  orange    L  2010\n",
       "15  orange    L  2012"
      ],
      "text/html": "<div>\n<style scoped>\n    .dataframe tbody tr th:only-of-type {\n        vertical-align: middle;\n    }\n\n    .dataframe tbody tr th {\n        vertical-align: top;\n    }\n\n    .dataframe thead th {\n        text-align: right;\n    }\n</style>\n<table border=\"1\" class=\"dataframe\">\n  <thead>\n    <tr style=\"text-align: right;\">\n      <th></th>\n      <th>type</th>\n      <th>size</th>\n      <th>year</th>\n    </tr>\n  </thead>\n  <tbody>\n    <tr>\n      <th>0</th>\n      <td>apple</td>\n      <td>XS</td>\n      <td>2010</td>\n    </tr>\n    <tr>\n      <th>1</th>\n      <td>apple</td>\n      <td>XS</td>\n      <td>2012</td>\n    </tr>\n    <tr>\n      <th>2</th>\n      <td>apple</td>\n      <td>S</td>\n      <td>2010</td>\n    </tr>\n    <tr>\n      <th>3</th>\n      <td>apple</td>\n      <td>S</td>\n      <td>2012</td>\n    </tr>\n    <tr>\n      <th>4</th>\n      <td>apple</td>\n      <td>M</td>\n      <td>2010</td>\n    </tr>\n    <tr>\n      <th>5</th>\n      <td>apple</td>\n      <td>M</td>\n      <td>2012</td>\n    </tr>\n    <tr>\n      <th>6</th>\n      <td>apple</td>\n      <td>L</td>\n      <td>2010</td>\n    </tr>\n    <tr>\n      <th>7</th>\n      <td>apple</td>\n      <td>L</td>\n      <td>2012</td>\n    </tr>\n    <tr>\n      <th>8</th>\n      <td>orange</td>\n      <td>XS</td>\n      <td>2010</td>\n    </tr>\n    <tr>\n      <th>9</th>\n      <td>orange</td>\n      <td>XS</td>\n      <td>2012</td>\n    </tr>\n    <tr>\n      <th>10</th>\n      <td>orange</td>\n      <td>S</td>\n      <td>2010</td>\n    </tr>\n    <tr>\n      <th>11</th>\n      <td>orange</td>\n      <td>S</td>\n      <td>2012</td>\n    </tr>\n    <tr>\n      <th>12</th>\n      <td>orange</td>\n      <td>M</td>\n      <td>2010</td>\n    </tr>\n    <tr>\n      <th>13</th>\n      <td>orange</td>\n      <td>M</td>\n      <td>2012</td>\n    </tr>\n    <tr>\n      <th>14</th>\n      <td>orange</td>\n      <td>L</td>\n      <td>2010</td>\n    </tr>\n    <tr>\n      <th>15</th>\n      <td>orange</td>\n      <td>L</td>\n      <td>2012</td>\n    </tr>\n  </tbody>\n</table>\n</div>"
     },
     "metadata": {},
     "execution_count": 12
    }
   ],
   "source": [
    "all = fruits >> expand(f.type, f.size, f.year)\n",
    "all"
   ]
  },
  {
   "cell_type": "code",
   "execution_count": 13,
   "id": "olive-tucson",
   "metadata": {
    "execution": {
     "iopub.execute_input": "2021-04-17T00:52:26.830282Z",
     "iopub.status.busy": "2021-04-17T00:52:26.827688Z",
     "iopub.status.idle": "2021-04-17T00:52:26.842560Z",
     "shell.execute_reply": "2021-04-17T00:52:26.842153Z"
    }
   },
   "outputs": [
    {
     "output_type": "execute_result",
     "data": {
      "text/plain": [
       "      type size  year\n",
       "1    apple   XS  2012\n",
       "2    apple    S  2010\n",
       "3    apple    S  2012\n",
       "4    apple    M  2010\n",
       "6    apple    L  2010\n",
       "7    apple    L  2012\n",
       "8   orange   XS  2010\n",
       "9   orange   XS  2012\n",
       "13  orange    S  2012\n",
       "14  orange    M  2010\n",
       "16  orange    L  2010\n",
       "17  orange    L  2012"
      ],
      "text/html": "<div>\n<style scoped>\n    .dataframe tbody tr th:only-of-type {\n        vertical-align: middle;\n    }\n\n    .dataframe tbody tr th {\n        vertical-align: top;\n    }\n\n    .dataframe thead th {\n        text-align: right;\n    }\n</style>\n<table border=\"1\" class=\"dataframe\">\n  <thead>\n    <tr style=\"text-align: right;\">\n      <th></th>\n      <th>type</th>\n      <th>size</th>\n      <th>year</th>\n    </tr>\n  </thead>\n  <tbody>\n    <tr>\n      <th>1</th>\n      <td>apple</td>\n      <td>XS</td>\n      <td>2012</td>\n    </tr>\n    <tr>\n      <th>2</th>\n      <td>apple</td>\n      <td>S</td>\n      <td>2010</td>\n    </tr>\n    <tr>\n      <th>3</th>\n      <td>apple</td>\n      <td>S</td>\n      <td>2012</td>\n    </tr>\n    <tr>\n      <th>4</th>\n      <td>apple</td>\n      <td>M</td>\n      <td>2010</td>\n    </tr>\n    <tr>\n      <th>6</th>\n      <td>apple</td>\n      <td>L</td>\n      <td>2010</td>\n    </tr>\n    <tr>\n      <th>7</th>\n      <td>apple</td>\n      <td>L</td>\n      <td>2012</td>\n    </tr>\n    <tr>\n      <th>8</th>\n      <td>orange</td>\n      <td>XS</td>\n      <td>2010</td>\n    </tr>\n    <tr>\n      <th>9</th>\n      <td>orange</td>\n      <td>XS</td>\n      <td>2012</td>\n    </tr>\n    <tr>\n      <th>13</th>\n      <td>orange</td>\n      <td>S</td>\n      <td>2012</td>\n    </tr>\n    <tr>\n      <th>14</th>\n      <td>orange</td>\n      <td>M</td>\n      <td>2010</td>\n    </tr>\n    <tr>\n      <th>16</th>\n      <td>orange</td>\n      <td>L</td>\n      <td>2010</td>\n    </tr>\n    <tr>\n      <th>17</th>\n      <td>orange</td>\n      <td>L</td>\n      <td>2012</td>\n    </tr>\n  </tbody>\n</table>\n</div>"
     },
     "metadata": {},
     "execution_count": 13
    }
   ],
   "source": [
    "all >> anti_join(fruits)"
   ]
  },
  {
   "cell_type": "code",
   "execution_count": 14,
   "id": "random-bowling",
   "metadata": {
    "execution": {
     "iopub.execute_input": "2021-04-17T00:52:26.858383Z",
     "iopub.status.busy": "2021-04-17T00:52:26.857733Z",
     "iopub.status.idle": "2021-04-17T00:52:26.861357Z",
     "shell.execute_reply": "2021-04-17T00:52:26.860984Z"
    }
   },
   "outputs": [
    {
     "output_type": "execute_result",
     "data": {
      "text/plain": [
       "      type  year size   weights\n",
       "0    apple  2010   XS  0.705952\n",
       "1    apple  2012   XS       NaN\n",
       "2    apple  2010    S       NaN\n",
       "3    apple  2012    S       NaN\n",
       "4    apple  2010    M       NaN\n",
       "5    apple  2012    M -1.558679\n",
       "6    apple  2010    L       NaN\n",
       "7    apple  2012    L       NaN\n",
       "8   orange  2010   XS       NaN\n",
       "9   orange  2012   XS       NaN\n",
       "10  orange  2010    S -1.150749\n",
       "11  orange  2010    S  0.171499\n",
       "12  orange  2010    S -1.965301\n",
       "13  orange  2012    S       NaN\n",
       "14  orange  2010    M       NaN\n",
       "15  orange  2012    M  0.212120\n",
       "16  orange  2010    L       NaN\n",
       "17  orange  2012    L       NaN"
      ],
      "text/html": "<div>\n<style scoped>\n    .dataframe tbody tr th:only-of-type {\n        vertical-align: middle;\n    }\n\n    .dataframe tbody tr th {\n        vertical-align: top;\n    }\n\n    .dataframe thead th {\n        text-align: right;\n    }\n</style>\n<table border=\"1\" class=\"dataframe\">\n  <thead>\n    <tr style=\"text-align: right;\">\n      <th></th>\n      <th>type</th>\n      <th>year</th>\n      <th>size</th>\n      <th>weights</th>\n    </tr>\n  </thead>\n  <tbody>\n    <tr>\n      <th>0</th>\n      <td>apple</td>\n      <td>2010</td>\n      <td>XS</td>\n      <td>0.705952</td>\n    </tr>\n    <tr>\n      <th>1</th>\n      <td>apple</td>\n      <td>2012</td>\n      <td>XS</td>\n      <td>NaN</td>\n    </tr>\n    <tr>\n      <th>2</th>\n      <td>apple</td>\n      <td>2010</td>\n      <td>S</td>\n      <td>NaN</td>\n    </tr>\n    <tr>\n      <th>3</th>\n      <td>apple</td>\n      <td>2012</td>\n      <td>S</td>\n      <td>NaN</td>\n    </tr>\n    <tr>\n      <th>4</th>\n      <td>apple</td>\n      <td>2010</td>\n      <td>M</td>\n      <td>NaN</td>\n    </tr>\n    <tr>\n      <th>5</th>\n      <td>apple</td>\n      <td>2012</td>\n      <td>M</td>\n      <td>-1.558679</td>\n    </tr>\n    <tr>\n      <th>6</th>\n      <td>apple</td>\n      <td>2010</td>\n      <td>L</td>\n      <td>NaN</td>\n    </tr>\n    <tr>\n      <th>7</th>\n      <td>apple</td>\n      <td>2012</td>\n      <td>L</td>\n      <td>NaN</td>\n    </tr>\n    <tr>\n      <th>8</th>\n      <td>orange</td>\n      <td>2010</td>\n      <td>XS</td>\n      <td>NaN</td>\n    </tr>\n    <tr>\n      <th>9</th>\n      <td>orange</td>\n      <td>2012</td>\n      <td>XS</td>\n      <td>NaN</td>\n    </tr>\n    <tr>\n      <th>10</th>\n      <td>orange</td>\n      <td>2010</td>\n      <td>S</td>\n      <td>-1.150749</td>\n    </tr>\n    <tr>\n      <th>11</th>\n      <td>orange</td>\n      <td>2010</td>\n      <td>S</td>\n      <td>0.171499</td>\n    </tr>\n    <tr>\n      <th>12</th>\n      <td>orange</td>\n      <td>2010</td>\n      <td>S</td>\n      <td>-1.965301</td>\n    </tr>\n    <tr>\n      <th>13</th>\n      <td>orange</td>\n      <td>2012</td>\n      <td>S</td>\n      <td>NaN</td>\n    </tr>\n    <tr>\n      <th>14</th>\n      <td>orange</td>\n      <td>2010</td>\n      <td>M</td>\n      <td>NaN</td>\n    </tr>\n    <tr>\n      <th>15</th>\n      <td>orange</td>\n      <td>2012</td>\n      <td>M</td>\n      <td>0.212120</td>\n    </tr>\n    <tr>\n      <th>16</th>\n      <td>orange</td>\n      <td>2010</td>\n      <td>L</td>\n      <td>NaN</td>\n    </tr>\n    <tr>\n      <th>17</th>\n      <td>orange</td>\n      <td>2012</td>\n      <td>L</td>\n      <td>NaN</td>\n    </tr>\n  </tbody>\n</table>\n</div>"
     },
     "metadata": {},
     "execution_count": 14
    }
   ],
   "source": [
    "fruits >> right_join(all)"
   ]
  }
 ],
 "metadata": {
  "kernelspec": {
   "display_name": "Python 3",
   "language": "python",
   "name": "python3"
  },
  "language_info": {
   "codemirror_mode": {
    "name": "ipython",
    "version": 3
   },
   "file_extension": ".py",
   "mimetype": "text/x-python",
   "name": "python",
   "nbconvert_exporter": "python",
   "pygments_lexer": "ipython3",
   "version": "3.7.8"
  }
 },
 "nbformat": 4,
 "nbformat_minor": 5
}