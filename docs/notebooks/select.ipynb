{
 "cells": [
  {
   "cell_type": "code",
   "execution_count": 1,
   "metadata": {
    "execution": {
     "iopub.execute_input": "2021-04-17T00:55:01.307309Z",
     "iopub.status.busy": "2021-04-17T00:55:01.305494Z",
     "iopub.status.idle": "2021-04-17T00:55:01.994296Z",
     "shell.execute_reply": "2021-04-17T00:55:01.993765Z"
    }
   },
   "outputs": [
    {
     "output_type": "display_data",
     "data": {
      "text/plain": "<IPython.core.display.HTML object>",
      "text/html": "<div style=\"text-align: right; text-style: italic\">Try this notebook on <a target=\"_blank\" href=\"https://mybinder.org/v2/gh/pwwang/datar/93d069f3ca36711fc811c61dcf60e9fc3d1460a5?filepath=docs%2Fnotebooks%2Fselect.ipynb\">binder</a>.</div>"
     },
     "metadata": {}
    },
    {
     "output_type": "display_data",
     "data": {
      "text/plain": "<IPython.core.display.Markdown object>",
      "text/markdown": "### # select  "
     },
     "metadata": {}
    },
    {
     "output_type": "display_data",
     "data": {
      "text/plain": "<IPython.core.display.Markdown object>",
      "text/markdown": "##### Select (and optionally rename) variables in a data frame\n\nSee original API  \nhttps://dplyr.tidyverse.org/reference/select.html  \n\nTo exclude columns use `~` instead of `-`. For example, to exclude last  \n`column`: `select(df, ~c(-1))`.  \n\nTo use column name in slice: `f[f.col1:f.col2]`. If you don't want `col2`  \nto be included: `f[f.col1:f.col2:0]`  \n\n##### Args:\n&emsp;&emsp;`*columns`: The columns to select  \n&emsp;&emsp;`**renamings`: The columns to rename and select in new => old column way.  \n&emsp;&emsp;`_base0`: Whether the columns are 0-based if given by indexes  \n&emsp;&emsp;&emsp;&emsp;If not provided, will use `datar.base.get_option('index.base.0')`  \n\n##### Returns:\n&emsp;&emsp;The dataframe with select columns  \n"
     },
     "metadata": {}
    }
   ],
   "source": [
    "# https://dplyr.tidyverse.org/reference/select.html\n",
    "from datar.datasets import starwars, iris\n",
    "from datar.all import *\n",
    "\n",
    "%run nb_helpers.py\n",
    "nb_header(select)"
   ]
  },
  {
   "cell_type": "code",
   "execution_count": 2,
   "metadata": {
    "execution": {
     "iopub.execute_input": "2021-04-17T00:55:01.998889Z",
     "iopub.status.busy": "2021-04-17T00:55:01.998348Z",
     "iopub.status.idle": "2021-04-17T00:55:02.030461Z",
     "shell.execute_reply": "2021-04-17T00:55:02.030092Z"
    }
   },
   "outputs": [
    {
     "output_type": "execute_result",
     "data": {
      "text/plain": [
       "    height\n",
       "0    172.0\n",
       "1    167.0\n",
       "2     96.0\n",
       "3    202.0\n",
       "4    150.0\n",
       "..     ...\n",
       "82     NaN\n",
       "83     NaN\n",
       "84     NaN\n",
       "85     NaN\n",
       "86   165.0\n",
       "\n",
       "[87 rows x 1 columns]"
      ],
      "text/html": "<div>\n<style scoped>\n    .dataframe tbody tr th:only-of-type {\n        vertical-align: middle;\n    }\n\n    .dataframe tbody tr th {\n        vertical-align: top;\n    }\n\n    .dataframe thead th {\n        text-align: right;\n    }\n</style>\n<table border=\"1\" class=\"dataframe\">\n  <thead>\n    <tr style=\"text-align: right;\">\n      <th></th>\n      <th>height</th>\n    </tr>\n  </thead>\n  <tbody>\n    <tr>\n      <th>0</th>\n      <td>172.0</td>\n    </tr>\n    <tr>\n      <th>1</th>\n      <td>167.0</td>\n    </tr>\n    <tr>\n      <th>2</th>\n      <td>96.0</td>\n    </tr>\n    <tr>\n      <th>3</th>\n      <td>202.0</td>\n    </tr>\n    <tr>\n      <th>4</th>\n      <td>150.0</td>\n    </tr>\n    <tr>\n      <th>...</th>\n      <td>...</td>\n    </tr>\n    <tr>\n      <th>82</th>\n      <td>NaN</td>\n    </tr>\n    <tr>\n      <th>83</th>\n      <td>NaN</td>\n    </tr>\n    <tr>\n      <th>84</th>\n      <td>NaN</td>\n    </tr>\n    <tr>\n      <th>85</th>\n      <td>NaN</td>\n    </tr>\n    <tr>\n      <th>86</th>\n      <td>165.0</td>\n    </tr>\n  </tbody>\n</table>\n<p>87 rows × 1 columns</p>\n</div>"
     },
     "metadata": {},
     "execution_count": 2
    }
   ],
   "source": [
    "starwars >> select(f.height)"
   ]
  },
  {
   "cell_type": "code",
   "execution_count": 3,
   "metadata": {
    "execution": {
     "iopub.execute_input": "2021-04-17T00:55:02.035566Z",
     "iopub.status.busy": "2021-04-17T00:55:02.035040Z",
     "iopub.status.idle": "2021-04-17T00:55:02.084629Z",
     "shell.execute_reply": "2021-04-17T00:55:02.084242Z"
    }
   },
   "outputs": [
    {
     "output_type": "execute_result",
     "data": {
      "text/plain": [
       "     Sepal_Width  Petal_Length  Petal_Width    Species          name  value\n",
       "0            3.5           1.4          0.2     setosa  Sepal_Length    5.1\n",
       "1            3.0           1.4          0.2     setosa  Sepal_Length    4.9\n",
       "2            3.2           1.3          0.2     setosa  Sepal_Length    4.7\n",
       "3            3.1           1.5          0.2     setosa  Sepal_Length    4.6\n",
       "4            3.6           1.4          0.2     setosa  Sepal_Length    5.0\n",
       "..           ...           ...          ...        ...           ...    ...\n",
       "145          3.0           5.2          2.3  virginica  Sepal_Length    6.7\n",
       "146          2.5           5.0          1.9  virginica  Sepal_Length    6.3\n",
       "147          3.0           5.2          2.0  virginica  Sepal_Length    6.5\n",
       "148          3.4           5.4          2.3  virginica  Sepal_Length    6.2\n",
       "149          3.0           5.1          1.8  virginica  Sepal_Length    5.9\n",
       "\n",
       "[150 rows x 6 columns]"
      ],
      "text/html": "<div>\n<style scoped>\n    .dataframe tbody tr th:only-of-type {\n        vertical-align: middle;\n    }\n\n    .dataframe tbody tr th {\n        vertical-align: top;\n    }\n\n    .dataframe thead th {\n        text-align: right;\n    }\n</style>\n<table border=\"1\" class=\"dataframe\">\n  <thead>\n    <tr style=\"text-align: right;\">\n      <th></th>\n      <th>Sepal_Width</th>\n      <th>Petal_Length</th>\n      <th>Petal_Width</th>\n      <th>Species</th>\n      <th>name</th>\n      <th>value</th>\n    </tr>\n  </thead>\n  <tbody>\n    <tr>\n      <th>0</th>\n      <td>3.5</td>\n      <td>1.4</td>\n      <td>0.2</td>\n      <td>setosa</td>\n      <td>Sepal_Length</td>\n      <td>5.1</td>\n    </tr>\n    <tr>\n      <th>1</th>\n      <td>3.0</td>\n      <td>1.4</td>\n      <td>0.2</td>\n      <td>setosa</td>\n      <td>Sepal_Length</td>\n      <td>4.9</td>\n    </tr>\n    <tr>\n      <th>2</th>\n      <td>3.2</td>\n      <td>1.3</td>\n      <td>0.2</td>\n      <td>setosa</td>\n      <td>Sepal_Length</td>\n      <td>4.7</td>\n    </tr>\n    <tr>\n      <th>3</th>\n      <td>3.1</td>\n      <td>1.5</td>\n      <td>0.2</td>\n      <td>setosa</td>\n      <td>Sepal_Length</td>\n      <td>4.6</td>\n    </tr>\n    <tr>\n      <th>4</th>\n      <td>3.6</td>\n      <td>1.4</td>\n      <td>0.2</td>\n      <td>setosa</td>\n      <td>Sepal_Length</td>\n      <td>5.0</td>\n    </tr>\n    <tr>\n      <th>...</th>\n      <td>...</td>\n      <td>...</td>\n      <td>...</td>\n      <td>...</td>\n      <td>...</td>\n      <td>...</td>\n    </tr>\n    <tr>\n      <th>145</th>\n      <td>3.0</td>\n      <td>5.2</td>\n      <td>2.3</td>\n      <td>virginica</td>\n      <td>Sepal_Length</td>\n      <td>6.7</td>\n    </tr>\n    <tr>\n      <th>146</th>\n      <td>2.5</td>\n      <td>5.0</td>\n      <td>1.9</td>\n      <td>virginica</td>\n      <td>Sepal_Length</td>\n      <td>6.3</td>\n    </tr>\n    <tr>\n      <th>147</th>\n      <td>3.0</td>\n      <td>5.2</td>\n      <td>2.0</td>\n      <td>virginica</td>\n      <td>Sepal_Length</td>\n      <td>6.5</td>\n    </tr>\n    <tr>\n      <th>148</th>\n      <td>3.4</td>\n      <td>5.4</td>\n      <td>2.3</td>\n      <td>virginica</td>\n      <td>Sepal_Length</td>\n      <td>6.2</td>\n    </tr>\n    <tr>\n      <th>149</th>\n      <td>3.0</td>\n      <td>5.1</td>\n      <td>1.8</td>\n      <td>virginica</td>\n      <td>Sepal_Length</td>\n      <td>5.9</td>\n    </tr>\n  </tbody>\n</table>\n<p>150 rows × 6 columns</p>\n</div>"
     },
     "metadata": {},
     "execution_count": 3
    }
   ],
   "source": [
    "iris >> pivot_longer(f['Sepal_Length'])"
   ]
  },
  {
   "cell_type": "code",
   "execution_count": 4,
   "metadata": {
    "execution": {
     "iopub.execute_input": "2021-04-17T00:55:02.097643Z",
     "iopub.status.busy": "2021-04-17T00:55:02.097013Z",
     "iopub.status.idle": "2021-04-17T00:55:02.101711Z",
     "shell.execute_reply": "2021-04-17T00:55:02.101217Z"
    }
   },
   "outputs": [
    {
     "output_type": "execute_result",
     "data": {
      "text/plain": [
       "   homeworld  height   mass\n",
       "0   Tatooine   172.0   77.0\n",
       "1   Tatooine   167.0   75.0\n",
       "2      Naboo    96.0   32.0\n",
       "3   Tatooine   202.0  136.0\n",
       "4   Alderaan   150.0   49.0\n",
       "..       ...     ...    ...\n",
       "82       NaN     NaN    NaN\n",
       "83       NaN     NaN    NaN\n",
       "84       NaN     NaN    NaN\n",
       "85       NaN     NaN    NaN\n",
       "86     Naboo   165.0   45.0\n",
       "\n",
       "[87 rows x 3 columns]"
      ],
      "text/html": "<div>\n<style scoped>\n    .dataframe tbody tr th:only-of-type {\n        vertical-align: middle;\n    }\n\n    .dataframe tbody tr th {\n        vertical-align: top;\n    }\n\n    .dataframe thead th {\n        text-align: right;\n    }\n</style>\n<table border=\"1\" class=\"dataframe\">\n  <thead>\n    <tr style=\"text-align: right;\">\n      <th></th>\n      <th>homeworld</th>\n      <th>height</th>\n      <th>mass</th>\n    </tr>\n  </thead>\n  <tbody>\n    <tr>\n      <th>0</th>\n      <td>Tatooine</td>\n      <td>172.0</td>\n      <td>77.0</td>\n    </tr>\n    <tr>\n      <th>1</th>\n      <td>Tatooine</td>\n      <td>167.0</td>\n      <td>75.0</td>\n    </tr>\n    <tr>\n      <th>2</th>\n      <td>Naboo</td>\n      <td>96.0</td>\n      <td>32.0</td>\n    </tr>\n    <tr>\n      <th>3</th>\n      <td>Tatooine</td>\n      <td>202.0</td>\n      <td>136.0</td>\n    </tr>\n    <tr>\n      <th>4</th>\n      <td>Alderaan</td>\n      <td>150.0</td>\n      <td>49.0</td>\n    </tr>\n    <tr>\n      <th>...</th>\n      <td>...</td>\n      <td>...</td>\n      <td>...</td>\n    </tr>\n    <tr>\n      <th>82</th>\n      <td>NaN</td>\n      <td>NaN</td>\n      <td>NaN</td>\n    </tr>\n    <tr>\n      <th>83</th>\n      <td>NaN</td>\n      <td>NaN</td>\n      <td>NaN</td>\n    </tr>\n    <tr>\n      <th>84</th>\n      <td>NaN</td>\n      <td>NaN</td>\n      <td>NaN</td>\n    </tr>\n    <tr>\n      <th>85</th>\n      <td>NaN</td>\n      <td>NaN</td>\n      <td>NaN</td>\n    </tr>\n    <tr>\n      <th>86</th>\n      <td>Naboo</td>\n      <td>165.0</td>\n      <td>45.0</td>\n    </tr>\n  </tbody>\n</table>\n<p>87 rows × 3 columns</p>\n</div>"
     },
     "metadata": {},
     "execution_count": 4
    }
   ],
   "source": [
    "starwars >> select(f.homeworld, f.height, f.mass)"
   ]
  },
  {
   "cell_type": "code",
   "execution_count": 5,
   "metadata": {
    "execution": {
     "iopub.execute_input": "2021-04-17T00:55:02.121471Z",
     "iopub.status.busy": "2021-04-17T00:55:02.120735Z",
     "iopub.status.idle": "2021-04-17T00:55:02.125046Z",
     "shell.execute_reply": "2021-04-17T00:55:02.124530Z"
    }
   },
   "outputs": [
    {
     "output_type": "execute_result",
     "data": {
      "text/plain": [
       "     Sepal_Width  Petal_Width    Species          name  value\n",
       "0            3.5          0.2     setosa  Sepal_Length    5.1\n",
       "1            3.0          0.2     setosa  Sepal_Length    4.9\n",
       "2            3.2          0.2     setosa  Sepal_Length    4.7\n",
       "3            3.1          0.2     setosa  Sepal_Length    4.6\n",
       "4            3.6          0.2     setosa  Sepal_Length    5.0\n",
       "..           ...          ...        ...           ...    ...\n",
       "295          3.0          2.3  virginica  Petal_Length    5.2\n",
       "296          2.5          1.9  virginica  Petal_Length    5.0\n",
       "297          3.0          2.0  virginica  Petal_Length    5.2\n",
       "298          3.4          2.3  virginica  Petal_Length    5.4\n",
       "299          3.0          1.8  virginica  Petal_Length    5.1\n",
       "\n",
       "[300 rows x 5 columns]"
      ],
      "text/html": "<div>\n<style scoped>\n    .dataframe tbody tr th:only-of-type {\n        vertical-align: middle;\n    }\n\n    .dataframe tbody tr th {\n        vertical-align: top;\n    }\n\n    .dataframe thead th {\n        text-align: right;\n    }\n</style>\n<table border=\"1\" class=\"dataframe\">\n  <thead>\n    <tr style=\"text-align: right;\">\n      <th></th>\n      <th>Sepal_Width</th>\n      <th>Petal_Width</th>\n      <th>Species</th>\n      <th>name</th>\n      <th>value</th>\n    </tr>\n  </thead>\n  <tbody>\n    <tr>\n      <th>0</th>\n      <td>3.5</td>\n      <td>0.2</td>\n      <td>setosa</td>\n      <td>Sepal_Length</td>\n      <td>5.1</td>\n    </tr>\n    <tr>\n      <th>1</th>\n      <td>3.0</td>\n      <td>0.2</td>\n      <td>setosa</td>\n      <td>Sepal_Length</td>\n      <td>4.9</td>\n    </tr>\n    <tr>\n      <th>2</th>\n      <td>3.2</td>\n      <td>0.2</td>\n      <td>setosa</td>\n      <td>Sepal_Length</td>\n      <td>4.7</td>\n    </tr>\n    <tr>\n      <th>3</th>\n      <td>3.1</td>\n      <td>0.2</td>\n      <td>setosa</td>\n      <td>Sepal_Length</td>\n      <td>4.6</td>\n    </tr>\n    <tr>\n      <th>4</th>\n      <td>3.6</td>\n      <td>0.2</td>\n      <td>setosa</td>\n      <td>Sepal_Length</td>\n      <td>5.0</td>\n    </tr>\n    <tr>\n      <th>...</th>\n      <td>...</td>\n      <td>...</td>\n      <td>...</td>\n      <td>...</td>\n      <td>...</td>\n    </tr>\n    <tr>\n      <th>295</th>\n      <td>3.0</td>\n      <td>2.3</td>\n      <td>virginica</td>\n      <td>Petal_Length</td>\n      <td>5.2</td>\n    </tr>\n    <tr>\n      <th>296</th>\n      <td>2.5</td>\n      <td>1.9</td>\n      <td>virginica</td>\n      <td>Petal_Length</td>\n      <td>5.0</td>\n    </tr>\n    <tr>\n      <th>297</th>\n      <td>3.0</td>\n      <td>2.0</td>\n      <td>virginica</td>\n      <td>Petal_Length</td>\n      <td>5.2</td>\n    </tr>\n    <tr>\n      <th>298</th>\n      <td>3.4</td>\n      <td>2.3</td>\n      <td>virginica</td>\n      <td>Petal_Length</td>\n      <td>5.4</td>\n    </tr>\n    <tr>\n      <th>299</th>\n      <td>3.0</td>\n      <td>1.8</td>\n      <td>virginica</td>\n      <td>Petal_Length</td>\n      <td>5.1</td>\n    </tr>\n  </tbody>\n</table>\n<p>300 rows × 5 columns</p>\n</div>"
     },
     "metadata": {},
     "execution_count": 5
    }
   ],
   "source": [
    "iris >> pivot_longer(c(f['Sepal_Length'], f['Petal_Length']))"
   ]
  },
  {
   "cell_type": "code",
   "execution_count": 6,
   "metadata": {
    "execution": {
     "iopub.execute_input": "2021-04-17T00:55:02.136500Z",
     "iopub.status.busy": "2021-04-17T00:55:02.131300Z",
     "iopub.status.idle": "2021-04-17T00:55:02.140602Z",
     "shell.execute_reply": "2021-04-17T00:55:02.140949Z"
    }
   },
   "outputs": [
    {
     "output_type": "execute_result",
     "data": {
      "text/plain": [
       "              name  height   mass\n",
       "0   Luke Skywalker   172.0   77.0\n",
       "1            C-3PO   167.0   75.0\n",
       "2            R2-D2    96.0   32.0\n",
       "3      Darth Vader   202.0  136.0\n",
       "4      Leia Organa   150.0   49.0\n",
       "..             ...     ...    ...\n",
       "82             Rey     NaN    NaN\n",
       "83     Poe Dameron     NaN    NaN\n",
       "84             BB8     NaN    NaN\n",
       "85  Captain Phasma     NaN    NaN\n",
       "86   Padmé Amidala   165.0   45.0\n",
       "\n",
       "[87 rows x 3 columns]"
      ],
      "text/html": "<div>\n<style scoped>\n    .dataframe tbody tr th:only-of-type {\n        vertical-align: middle;\n    }\n\n    .dataframe tbody tr th {\n        vertical-align: top;\n    }\n\n    .dataframe thead th {\n        text-align: right;\n    }\n</style>\n<table border=\"1\" class=\"dataframe\">\n  <thead>\n    <tr style=\"text-align: right;\">\n      <th></th>\n      <th>name</th>\n      <th>height</th>\n      <th>mass</th>\n    </tr>\n  </thead>\n  <tbody>\n    <tr>\n      <th>0</th>\n      <td>Luke Skywalker</td>\n      <td>172.0</td>\n      <td>77.0</td>\n    </tr>\n    <tr>\n      <th>1</th>\n      <td>C-3PO</td>\n      <td>167.0</td>\n      <td>75.0</td>\n    </tr>\n    <tr>\n      <th>2</th>\n      <td>R2-D2</td>\n      <td>96.0</td>\n      <td>32.0</td>\n    </tr>\n    <tr>\n      <th>3</th>\n      <td>Darth Vader</td>\n      <td>202.0</td>\n      <td>136.0</td>\n    </tr>\n    <tr>\n      <th>4</th>\n      <td>Leia Organa</td>\n      <td>150.0</td>\n      <td>49.0</td>\n    </tr>\n    <tr>\n      <th>...</th>\n      <td>...</td>\n      <td>...</td>\n      <td>...</td>\n    </tr>\n    <tr>\n      <th>82</th>\n      <td>Rey</td>\n      <td>NaN</td>\n      <td>NaN</td>\n    </tr>\n    <tr>\n      <th>83</th>\n      <td>Poe Dameron</td>\n      <td>NaN</td>\n      <td>NaN</td>\n    </tr>\n    <tr>\n      <th>84</th>\n      <td>BB8</td>\n      <td>NaN</td>\n      <td>NaN</td>\n    </tr>\n    <tr>\n      <th>85</th>\n      <td>Captain Phasma</td>\n      <td>NaN</td>\n      <td>NaN</td>\n    </tr>\n    <tr>\n      <th>86</th>\n      <td>Padmé Amidala</td>\n      <td>165.0</td>\n      <td>45.0</td>\n    </tr>\n  </tbody>\n</table>\n<p>87 rows × 3 columns</p>\n</div>"
     },
     "metadata": {},
     "execution_count": 6
    }
   ],
   "source": [
    "starwars >> select(f[f.name:f.mass])"
   ]
  },
  {
   "cell_type": "code",
   "execution_count": 7,
   "metadata": {
    "execution": {
     "iopub.execute_input": "2021-04-17T00:55:02.146051Z",
     "iopub.status.busy": "2021-04-17T00:55:02.145337Z",
     "iopub.status.idle": "2021-04-17T00:55:02.184098Z",
     "shell.execute_reply": "2021-04-17T00:55:02.184462Z"
    }
   },
   "outputs": [
    {
     "output_type": "execute_result",
     "data": {
      "text/plain": [
       "   hair_color   skin_color eye_color  birth_year     sex     gender homeworld  \\\n",
       "0       blond         fair      blue        19.0    male  masculine  Tatooine   \n",
       "1         NaN         gold    yellow       112.0    none  masculine  Tatooine   \n",
       "2         NaN  white, blue       red        33.0    none  masculine     Naboo   \n",
       "3        none        white    yellow        41.9    male  masculine  Tatooine   \n",
       "4       brown        light     brown        19.0  female   feminine  Alderaan   \n",
       "..        ...          ...       ...         ...     ...        ...       ...   \n",
       "82      brown        light     hazel         NaN  female   feminine       NaN   \n",
       "83      brown        light     brown         NaN    male  masculine       NaN   \n",
       "84       none         none     black         NaN    none  masculine       NaN   \n",
       "85    unknown      unknown   unknown         NaN     NaN        NaN       NaN   \n",
       "86      brown        light     brown        46.0  female   feminine     Naboo   \n",
       "\n",
       "   species  \n",
       "0    Human  \n",
       "1    Droid  \n",
       "2    Droid  \n",
       "3    Human  \n",
       "4    Human  \n",
       "..     ...  \n",
       "82   Human  \n",
       "83   Human  \n",
       "84   Droid  \n",
       "85     NaN  \n",
       "86   Human  \n",
       "\n",
       "[87 rows x 8 columns]"
      ],
      "text/html": "<div>\n<style scoped>\n    .dataframe tbody tr th:only-of-type {\n        vertical-align: middle;\n    }\n\n    .dataframe tbody tr th {\n        vertical-align: top;\n    }\n\n    .dataframe thead th {\n        text-align: right;\n    }\n</style>\n<table border=\"1\" class=\"dataframe\">\n  <thead>\n    <tr style=\"text-align: right;\">\n      <th></th>\n      <th>hair_color</th>\n      <th>skin_color</th>\n      <th>eye_color</th>\n      <th>birth_year</th>\n      <th>sex</th>\n      <th>gender</th>\n      <th>homeworld</th>\n      <th>species</th>\n    </tr>\n  </thead>\n  <tbody>\n    <tr>\n      <th>0</th>\n      <td>blond</td>\n      <td>fair</td>\n      <td>blue</td>\n      <td>19.0</td>\n      <td>male</td>\n      <td>masculine</td>\n      <td>Tatooine</td>\n      <td>Human</td>\n    </tr>\n    <tr>\n      <th>1</th>\n      <td>NaN</td>\n      <td>gold</td>\n      <td>yellow</td>\n      <td>112.0</td>\n      <td>none</td>\n      <td>masculine</td>\n      <td>Tatooine</td>\n      <td>Droid</td>\n    </tr>\n    <tr>\n      <th>2</th>\n      <td>NaN</td>\n      <td>white, blue</td>\n      <td>red</td>\n      <td>33.0</td>\n      <td>none</td>\n      <td>masculine</td>\n      <td>Naboo</td>\n      <td>Droid</td>\n    </tr>\n    <tr>\n      <th>3</th>\n      <td>none</td>\n      <td>white</td>\n      <td>yellow</td>\n      <td>41.9</td>\n      <td>male</td>\n      <td>masculine</td>\n      <td>Tatooine</td>\n      <td>Human</td>\n    </tr>\n    <tr>\n      <th>4</th>\n      <td>brown</td>\n      <td>light</td>\n      <td>brown</td>\n      <td>19.0</td>\n      <td>female</td>\n      <td>feminine</td>\n      <td>Alderaan</td>\n      <td>Human</td>\n    </tr>\n    <tr>\n      <th>...</th>\n      <td>...</td>\n      <td>...</td>\n      <td>...</td>\n      <td>...</td>\n      <td>...</td>\n      <td>...</td>\n      <td>...</td>\n      <td>...</td>\n    </tr>\n    <tr>\n      <th>82</th>\n      <td>brown</td>\n      <td>light</td>\n      <td>hazel</td>\n      <td>NaN</td>\n      <td>female</td>\n      <td>feminine</td>\n      <td>NaN</td>\n      <td>Human</td>\n    </tr>\n    <tr>\n      <th>83</th>\n      <td>brown</td>\n      <td>light</td>\n      <td>brown</td>\n      <td>NaN</td>\n      <td>male</td>\n      <td>masculine</td>\n      <td>NaN</td>\n      <td>Human</td>\n    </tr>\n    <tr>\n      <th>84</th>\n      <td>none</td>\n      <td>none</td>\n      <td>black</td>\n      <td>NaN</td>\n      <td>none</td>\n      <td>masculine</td>\n      <td>NaN</td>\n      <td>Droid</td>\n    </tr>\n    <tr>\n      <th>85</th>\n      <td>unknown</td>\n      <td>unknown</td>\n      <td>unknown</td>\n      <td>NaN</td>\n      <td>NaN</td>\n      <td>NaN</td>\n      <td>NaN</td>\n      <td>NaN</td>\n    </tr>\n    <tr>\n      <th>86</th>\n      <td>brown</td>\n      <td>light</td>\n      <td>brown</td>\n      <td>46.0</td>\n      <td>female</td>\n      <td>feminine</td>\n      <td>Naboo</td>\n      <td>Human</td>\n    </tr>\n  </tbody>\n</table>\n<p>87 rows × 8 columns</p>\n</div>"
     },
     "metadata": {},
     "execution_count": 7
    }
   ],
   "source": [
    "starwars >> select(~f[f.name:f.mass])"
   ]
  },
  {
   "cell_type": "code",
   "execution_count": 8,
   "metadata": {
    "execution": {
     "iopub.execute_input": "2021-04-17T00:55:02.198521Z",
     "iopub.status.busy": "2021-04-17T00:55:02.197856Z",
     "iopub.status.idle": "2021-04-17T00:55:02.202292Z",
     "shell.execute_reply": "2021-04-17T00:55:02.201796Z"
    }
   },
   "outputs": [
    {
     "output_type": "execute_result",
     "data": {
      "text/plain": [
       "     Sepal_Width  Petal_Width    Species\n",
       "0            3.5          0.2     setosa\n",
       "1            3.0          0.2     setosa\n",
       "2            3.2          0.2     setosa\n",
       "3            3.1          0.2     setosa\n",
       "4            3.6          0.2     setosa\n",
       "..           ...          ...        ...\n",
       "145          3.0          2.3  virginica\n",
       "146          2.5          1.9  virginica\n",
       "147          3.0          2.0  virginica\n",
       "148          3.4          2.3  virginica\n",
       "149          3.0          1.8  virginica\n",
       "\n",
       "[150 rows x 3 columns]"
      ],
      "text/html": "<div>\n<style scoped>\n    .dataframe tbody tr th:only-of-type {\n        vertical-align: middle;\n    }\n\n    .dataframe tbody tr th {\n        vertical-align: top;\n    }\n\n    .dataframe thead th {\n        text-align: right;\n    }\n</style>\n<table border=\"1\" class=\"dataframe\">\n  <thead>\n    <tr style=\"text-align: right;\">\n      <th></th>\n      <th>Sepal_Width</th>\n      <th>Petal_Width</th>\n      <th>Species</th>\n    </tr>\n  </thead>\n  <tbody>\n    <tr>\n      <th>0</th>\n      <td>3.5</td>\n      <td>0.2</td>\n      <td>setosa</td>\n    </tr>\n    <tr>\n      <th>1</th>\n      <td>3.0</td>\n      <td>0.2</td>\n      <td>setosa</td>\n    </tr>\n    <tr>\n      <th>2</th>\n      <td>3.2</td>\n      <td>0.2</td>\n      <td>setosa</td>\n    </tr>\n    <tr>\n      <th>3</th>\n      <td>3.1</td>\n      <td>0.2</td>\n      <td>setosa</td>\n    </tr>\n    <tr>\n      <th>4</th>\n      <td>3.6</td>\n      <td>0.2</td>\n      <td>setosa</td>\n    </tr>\n    <tr>\n      <th>...</th>\n      <td>...</td>\n      <td>...</td>\n      <td>...</td>\n    </tr>\n    <tr>\n      <th>145</th>\n      <td>3.0</td>\n      <td>2.3</td>\n      <td>virginica</td>\n    </tr>\n    <tr>\n      <th>146</th>\n      <td>2.5</td>\n      <td>1.9</td>\n      <td>virginica</td>\n    </tr>\n    <tr>\n      <th>147</th>\n      <td>3.0</td>\n      <td>2.0</td>\n      <td>virginica</td>\n    </tr>\n    <tr>\n      <th>148</th>\n      <td>3.4</td>\n      <td>2.3</td>\n      <td>virginica</td>\n    </tr>\n    <tr>\n      <th>149</th>\n      <td>3.0</td>\n      <td>1.8</td>\n      <td>virginica</td>\n    </tr>\n  </tbody>\n</table>\n<p>150 rows × 3 columns</p>\n</div>"
     },
     "metadata": {},
     "execution_count": 8
    }
   ],
   "source": [
    "iris >> select(~c(f['Sepal_Length'], f['Petal_Length']))"
   ]
  },
  {
   "cell_type": "code",
   "execution_count": 9,
   "metadata": {
    "execution": {
     "iopub.execute_input": "2021-04-17T00:55:02.215904Z",
     "iopub.status.busy": "2021-04-17T00:55:02.215274Z",
     "iopub.status.idle": "2021-04-17T00:55:02.219798Z",
     "shell.execute_reply": "2021-04-17T00:55:02.219277Z"
    }
   },
   "outputs": [
    {
     "output_type": "execute_result",
     "data": {
      "text/plain": [
       "     Sepal_Length  Petal_Length    Species\n",
       "0             5.1           1.4     setosa\n",
       "1             4.9           1.4     setosa\n",
       "2             4.7           1.3     setosa\n",
       "3             4.6           1.5     setosa\n",
       "4             5.0           1.4     setosa\n",
       "..            ...           ...        ...\n",
       "145           6.7           5.2  virginica\n",
       "146           6.3           5.0  virginica\n",
       "147           6.5           5.2  virginica\n",
       "148           6.2           5.4  virginica\n",
       "149           5.9           5.1  virginica\n",
       "\n",
       "[150 rows x 3 columns]"
      ],
      "text/html": "<div>\n<style scoped>\n    .dataframe tbody tr th:only-of-type {\n        vertical-align: middle;\n    }\n\n    .dataframe tbody tr th {\n        vertical-align: top;\n    }\n\n    .dataframe thead th {\n        text-align: right;\n    }\n</style>\n<table border=\"1\" class=\"dataframe\">\n  <thead>\n    <tr style=\"text-align: right;\">\n      <th></th>\n      <th>Sepal_Length</th>\n      <th>Petal_Length</th>\n      <th>Species</th>\n    </tr>\n  </thead>\n  <tbody>\n    <tr>\n      <th>0</th>\n      <td>5.1</td>\n      <td>1.4</td>\n      <td>setosa</td>\n    </tr>\n    <tr>\n      <th>1</th>\n      <td>4.9</td>\n      <td>1.4</td>\n      <td>setosa</td>\n    </tr>\n    <tr>\n      <th>2</th>\n      <td>4.7</td>\n      <td>1.3</td>\n      <td>setosa</td>\n    </tr>\n    <tr>\n      <th>3</th>\n      <td>4.6</td>\n      <td>1.5</td>\n      <td>setosa</td>\n    </tr>\n    <tr>\n      <th>4</th>\n      <td>5.0</td>\n      <td>1.4</td>\n      <td>setosa</td>\n    </tr>\n    <tr>\n      <th>...</th>\n      <td>...</td>\n      <td>...</td>\n      <td>...</td>\n    </tr>\n    <tr>\n      <th>145</th>\n      <td>6.7</td>\n      <td>5.2</td>\n      <td>virginica</td>\n    </tr>\n    <tr>\n      <th>146</th>\n      <td>6.3</td>\n      <td>5.0</td>\n      <td>virginica</td>\n    </tr>\n    <tr>\n      <th>147</th>\n      <td>6.5</td>\n      <td>5.2</td>\n      <td>virginica</td>\n    </tr>\n    <tr>\n      <th>148</th>\n      <td>6.2</td>\n      <td>5.4</td>\n      <td>virginica</td>\n    </tr>\n    <tr>\n      <th>149</th>\n      <td>5.9</td>\n      <td>5.1</td>\n      <td>virginica</td>\n    </tr>\n  </tbody>\n</table>\n<p>150 rows × 3 columns</p>\n</div>"
     },
     "metadata": {},
     "execution_count": 9
    }
   ],
   "source": [
    "iris >> select(~ends_with(\"Width\"))"
   ]
  },
  {
   "cell_type": "code",
   "execution_count": 10,
   "metadata": {
    "execution": {
     "iopub.execute_input": "2021-04-17T00:55:02.226020Z",
     "iopub.status.busy": "2021-04-17T00:55:02.225495Z",
     "iopub.status.idle": "2021-04-17T00:55:02.239291Z",
     "shell.execute_reply": "2021-04-17T00:55:02.238873Z"
    }
   },
   "outputs": [
    {
     "output_type": "execute_result",
     "data": {
      "text/plain": [
       "     Petal_Width\n",
       "0            0.2\n",
       "1            0.2\n",
       "2            0.2\n",
       "3            0.2\n",
       "4            0.2\n",
       "..           ...\n",
       "145          2.3\n",
       "146          1.9\n",
       "147          2.0\n",
       "148          2.3\n",
       "149          1.8\n",
       "\n",
       "[150 rows x 1 columns]"
      ],
      "text/html": "<div>\n<style scoped>\n    .dataframe tbody tr th:only-of-type {\n        vertical-align: middle;\n    }\n\n    .dataframe tbody tr th {\n        vertical-align: top;\n    }\n\n    .dataframe thead th {\n        text-align: right;\n    }\n</style>\n<table border=\"1\" class=\"dataframe\">\n  <thead>\n    <tr style=\"text-align: right;\">\n      <th></th>\n      <th>Petal_Width</th>\n    </tr>\n  </thead>\n  <tbody>\n    <tr>\n      <th>0</th>\n      <td>0.2</td>\n    </tr>\n    <tr>\n      <th>1</th>\n      <td>0.2</td>\n    </tr>\n    <tr>\n      <th>2</th>\n      <td>0.2</td>\n    </tr>\n    <tr>\n      <th>3</th>\n      <td>0.2</td>\n    </tr>\n    <tr>\n      <th>4</th>\n      <td>0.2</td>\n    </tr>\n    <tr>\n      <th>...</th>\n      <td>...</td>\n    </tr>\n    <tr>\n      <th>145</th>\n      <td>2.3</td>\n    </tr>\n    <tr>\n      <th>146</th>\n      <td>1.9</td>\n    </tr>\n    <tr>\n      <th>147</th>\n      <td>2.0</td>\n    </tr>\n    <tr>\n      <th>148</th>\n      <td>2.3</td>\n    </tr>\n    <tr>\n      <th>149</th>\n      <td>1.8</td>\n    </tr>\n  </tbody>\n</table>\n<p>150 rows × 1 columns</p>\n</div>"
     },
     "metadata": {},
     "execution_count": 10
    }
   ],
   "source": [
    "iris >> select(starts_with(\"Petal\") & ends_with(\"Width\"))"
   ]
  },
  {
   "cell_type": "code",
   "execution_count": 11,
   "metadata": {
    "execution": {
     "iopub.execute_input": "2021-04-17T00:55:02.254898Z",
     "iopub.status.busy": "2021-04-17T00:55:02.254162Z",
     "iopub.status.idle": "2021-04-17T00:55:02.258591Z",
     "shell.execute_reply": "2021-04-17T00:55:02.258204Z"
    }
   },
   "outputs": [
    {
     "output_type": "execute_result",
     "data": {
      "text/plain": [
       "     Petal_Length  Petal_Width  Sepal_Width\n",
       "0             1.4          0.2          3.5\n",
       "1             1.4          0.2          3.0\n",
       "2             1.3          0.2          3.2\n",
       "3             1.5          0.2          3.1\n",
       "4             1.4          0.2          3.6\n",
       "..            ...          ...          ...\n",
       "145           5.2          2.3          3.0\n",
       "146           5.0          1.9          2.5\n",
       "147           5.2          2.0          3.0\n",
       "148           5.4          2.3          3.4\n",
       "149           5.1          1.8          3.0\n",
       "\n",
       "[150 rows x 3 columns]"
      ],
      "text/html": "<div>\n<style scoped>\n    .dataframe tbody tr th:only-of-type {\n        vertical-align: middle;\n    }\n\n    .dataframe tbody tr th {\n        vertical-align: top;\n    }\n\n    .dataframe thead th {\n        text-align: right;\n    }\n</style>\n<table border=\"1\" class=\"dataframe\">\n  <thead>\n    <tr style=\"text-align: right;\">\n      <th></th>\n      <th>Petal_Length</th>\n      <th>Petal_Width</th>\n      <th>Sepal_Width</th>\n    </tr>\n  </thead>\n  <tbody>\n    <tr>\n      <th>0</th>\n      <td>1.4</td>\n      <td>0.2</td>\n      <td>3.5</td>\n    </tr>\n    <tr>\n      <th>1</th>\n      <td>1.4</td>\n      <td>0.2</td>\n      <td>3.0</td>\n    </tr>\n    <tr>\n      <th>2</th>\n      <td>1.3</td>\n      <td>0.2</td>\n      <td>3.2</td>\n    </tr>\n    <tr>\n      <th>3</th>\n      <td>1.5</td>\n      <td>0.2</td>\n      <td>3.1</td>\n    </tr>\n    <tr>\n      <th>4</th>\n      <td>1.4</td>\n      <td>0.2</td>\n      <td>3.6</td>\n    </tr>\n    <tr>\n      <th>...</th>\n      <td>...</td>\n      <td>...</td>\n      <td>...</td>\n    </tr>\n    <tr>\n      <th>145</th>\n      <td>5.2</td>\n      <td>2.3</td>\n      <td>3.0</td>\n    </tr>\n    <tr>\n      <th>146</th>\n      <td>5.0</td>\n      <td>1.9</td>\n      <td>2.5</td>\n    </tr>\n    <tr>\n      <th>147</th>\n      <td>5.2</td>\n      <td>2.0</td>\n      <td>3.0</td>\n    </tr>\n    <tr>\n      <th>148</th>\n      <td>5.4</td>\n      <td>2.3</td>\n      <td>3.4</td>\n    </tr>\n    <tr>\n      <th>149</th>\n      <td>5.1</td>\n      <td>1.8</td>\n      <td>3.0</td>\n    </tr>\n  </tbody>\n</table>\n<p>150 rows × 3 columns</p>\n</div>"
     },
     "metadata": {},
     "execution_count": 11
    }
   ],
   "source": [
    "iris >> select(starts_with(\"Petal\") | ends_with(\"Width\"))"
   ]
  },
  {
   "cell_type": "code",
   "execution_count": 12,
   "metadata": {
    "execution": {
     "iopub.execute_input": "2021-04-17T00:55:02.270270Z",
     "iopub.status.busy": "2021-04-17T00:55:02.269570Z",
     "iopub.status.idle": "2021-04-17T00:55:02.273808Z",
     "shell.execute_reply": "2021-04-17T00:55:02.273309Z"
    }
   },
   "outputs": [
    {
     "output_type": "execute_result",
     "data": {
      "text/plain": [
       "     Petal_Length\n",
       "0             1.4\n",
       "1             1.4\n",
       "2             1.3\n",
       "3             1.5\n",
       "4             1.4\n",
       "..            ...\n",
       "145           5.2\n",
       "146           5.0\n",
       "147           5.2\n",
       "148           5.4\n",
       "149           5.1\n",
       "\n",
       "[150 rows x 1 columns]"
      ],
      "text/html": "<div>\n<style scoped>\n    .dataframe tbody tr th:only-of-type {\n        vertical-align: middle;\n    }\n\n    .dataframe tbody tr th {\n        vertical-align: top;\n    }\n\n    .dataframe thead th {\n        text-align: right;\n    }\n</style>\n<table border=\"1\" class=\"dataframe\">\n  <thead>\n    <tr style=\"text-align: right;\">\n      <th></th>\n      <th>Petal_Length</th>\n    </tr>\n  </thead>\n  <tbody>\n    <tr>\n      <th>0</th>\n      <td>1.4</td>\n    </tr>\n    <tr>\n      <th>1</th>\n      <td>1.4</td>\n    </tr>\n    <tr>\n      <th>2</th>\n      <td>1.3</td>\n    </tr>\n    <tr>\n      <th>3</th>\n      <td>1.5</td>\n    </tr>\n    <tr>\n      <th>4</th>\n      <td>1.4</td>\n    </tr>\n    <tr>\n      <th>...</th>\n      <td>...</td>\n    </tr>\n    <tr>\n      <th>145</th>\n      <td>5.2</td>\n    </tr>\n    <tr>\n      <th>146</th>\n      <td>5.0</td>\n    </tr>\n    <tr>\n      <th>147</th>\n      <td>5.2</td>\n    </tr>\n    <tr>\n      <th>148</th>\n      <td>5.4</td>\n    </tr>\n    <tr>\n      <th>149</th>\n      <td>5.1</td>\n    </tr>\n  </tbody>\n</table>\n<p>150 rows × 1 columns</p>\n</div>"
     },
     "metadata": {},
     "execution_count": 12
    }
   ],
   "source": [
    "iris >> select(starts_with(\"Petal\") & ~ends_with(\"Width\"))"
   ]
  },
  {
   "cell_type": "code",
   "execution_count": 13,
   "metadata": {
    "execution": {
     "iopub.execute_input": "2021-04-17T00:55:02.282650Z",
     "iopub.status.busy": "2021-04-17T00:55:02.280897Z",
     "iopub.status.idle": "2021-04-17T00:55:02.287226Z",
     "shell.execute_reply": "2021-04-17T00:55:02.286708Z"
    }
   },
   "outputs": [
    {
     "output_type": "execute_result",
     "data": {
      "text/plain": [
       "       Species\n",
       "0       setosa\n",
       "1       setosa\n",
       "2       setosa\n",
       "3       setosa\n",
       "4       setosa\n",
       "..         ...\n",
       "145  virginica\n",
       "146  virginica\n",
       "147  virginica\n",
       "148  virginica\n",
       "149  virginica\n",
       "\n",
       "[150 rows x 1 columns]"
      ],
      "text/html": "<div>\n<style scoped>\n    .dataframe tbody tr th:only-of-type {\n        vertical-align: middle;\n    }\n\n    .dataframe tbody tr th {\n        vertical-align: top;\n    }\n\n    .dataframe thead th {\n        text-align: right;\n    }\n</style>\n<table border=\"1\" class=\"dataframe\">\n  <thead>\n    <tr style=\"text-align: right;\">\n      <th></th>\n      <th>Species</th>\n    </tr>\n  </thead>\n  <tbody>\n    <tr>\n      <th>0</th>\n      <td>setosa</td>\n    </tr>\n    <tr>\n      <th>1</th>\n      <td>setosa</td>\n    </tr>\n    <tr>\n      <th>2</th>\n      <td>setosa</td>\n    </tr>\n    <tr>\n      <th>3</th>\n      <td>setosa</td>\n    </tr>\n    <tr>\n      <th>4</th>\n      <td>setosa</td>\n    </tr>\n    <tr>\n      <th>...</th>\n      <td>...</td>\n    </tr>\n    <tr>\n      <th>145</th>\n      <td>virginica</td>\n    </tr>\n    <tr>\n      <th>146</th>\n      <td>virginica</td>\n    </tr>\n    <tr>\n      <th>147</th>\n      <td>virginica</td>\n    </tr>\n    <tr>\n      <th>148</th>\n      <td>virginica</td>\n    </tr>\n    <tr>\n      <th>149</th>\n      <td>virginica</td>\n    </tr>\n  </tbody>\n</table>\n<p>150 rows × 1 columns</p>\n</div>"
     },
     "metadata": {},
     "execution_count": 13
    }
   ],
   "source": [
    "# select last column\n",
    "iris >> select(-1)"
   ]
  },
  {
   "cell_type": "code",
   "execution_count": 14,
   "metadata": {},
   "outputs": [
    {
     "output_type": "execute_result",
     "data": {
      "text/plain": [
       "     Sepal_Length  Sepal_Width  Petal_Length\n",
       "0             5.1          3.5           1.4\n",
       "1             4.9          3.0           1.4\n",
       "2             4.7          3.2           1.3\n",
       "3             4.6          3.1           1.5\n",
       "4             5.0          3.6           1.4\n",
       "..            ...          ...           ...\n",
       "145           6.7          3.0           5.2\n",
       "146           6.3          2.5           5.0\n",
       "147           6.5          3.0           5.2\n",
       "148           6.2          3.4           5.4\n",
       "149           5.9          3.0           5.1\n",
       "\n",
       "[150 rows x 3 columns]"
      ],
      "text/html": "<div>\n<style scoped>\n    .dataframe tbody tr th:only-of-type {\n        vertical-align: middle;\n    }\n\n    .dataframe tbody tr th {\n        vertical-align: top;\n    }\n\n    .dataframe thead th {\n        text-align: right;\n    }\n</style>\n<table border=\"1\" class=\"dataframe\">\n  <thead>\n    <tr style=\"text-align: right;\">\n      <th></th>\n      <th>Sepal_Length</th>\n      <th>Sepal_Width</th>\n      <th>Petal_Length</th>\n    </tr>\n  </thead>\n  <tbody>\n    <tr>\n      <th>0</th>\n      <td>5.1</td>\n      <td>3.5</td>\n      <td>1.4</td>\n    </tr>\n    <tr>\n      <th>1</th>\n      <td>4.9</td>\n      <td>3.0</td>\n      <td>1.4</td>\n    </tr>\n    <tr>\n      <th>2</th>\n      <td>4.7</td>\n      <td>3.2</td>\n      <td>1.3</td>\n    </tr>\n    <tr>\n      <th>3</th>\n      <td>4.6</td>\n      <td>3.1</td>\n      <td>1.5</td>\n    </tr>\n    <tr>\n      <th>4</th>\n      <td>5.0</td>\n      <td>3.6</td>\n      <td>1.4</td>\n    </tr>\n    <tr>\n      <th>...</th>\n      <td>...</td>\n      <td>...</td>\n      <td>...</td>\n    </tr>\n    <tr>\n      <th>145</th>\n      <td>6.7</td>\n      <td>3.0</td>\n      <td>5.2</td>\n    </tr>\n    <tr>\n      <th>146</th>\n      <td>6.3</td>\n      <td>2.5</td>\n      <td>5.0</td>\n    </tr>\n    <tr>\n      <th>147</th>\n      <td>6.5</td>\n      <td>3.0</td>\n      <td>5.2</td>\n    </tr>\n    <tr>\n      <th>148</th>\n      <td>6.2</td>\n      <td>3.4</td>\n      <td>5.4</td>\n    </tr>\n    <tr>\n      <th>149</th>\n      <td>5.9</td>\n      <td>3.0</td>\n      <td>5.1</td>\n    </tr>\n  </tbody>\n</table>\n<p>150 rows × 3 columns</p>\n</div>"
     },
     "metadata": {},
     "execution_count": 14
    }
   ],
   "source": [
    "iris >> select(f[1:3])"
   ]
  },
  {
   "cell_type": "code",
   "execution_count": 15,
   "metadata": {},
   "outputs": [
    {
     "output_type": "execute_result",
     "data": {
      "text/plain": [
       "     Sepal_Width  Petal_Length\n",
       "0            3.5           1.4\n",
       "1            3.0           1.4\n",
       "2            3.2           1.3\n",
       "3            3.1           1.5\n",
       "4            3.6           1.4\n",
       "..           ...           ...\n",
       "145          3.0           5.2\n",
       "146          2.5           5.0\n",
       "147          3.0           5.2\n",
       "148          3.4           5.4\n",
       "149          3.0           5.1\n",
       "\n",
       "[150 rows x 2 columns]"
      ],
      "text/html": "<div>\n<style scoped>\n    .dataframe tbody tr th:only-of-type {\n        vertical-align: middle;\n    }\n\n    .dataframe tbody tr th {\n        vertical-align: top;\n    }\n\n    .dataframe thead th {\n        text-align: right;\n    }\n</style>\n<table border=\"1\" class=\"dataframe\">\n  <thead>\n    <tr style=\"text-align: right;\">\n      <th></th>\n      <th>Sepal_Width</th>\n      <th>Petal_Length</th>\n    </tr>\n  </thead>\n  <tbody>\n    <tr>\n      <th>0</th>\n      <td>3.5</td>\n      <td>1.4</td>\n    </tr>\n    <tr>\n      <th>1</th>\n      <td>3.0</td>\n      <td>1.4</td>\n    </tr>\n    <tr>\n      <th>2</th>\n      <td>3.2</td>\n      <td>1.3</td>\n    </tr>\n    <tr>\n      <th>3</th>\n      <td>3.1</td>\n      <td>1.5</td>\n    </tr>\n    <tr>\n      <th>4</th>\n      <td>3.6</td>\n      <td>1.4</td>\n    </tr>\n    <tr>\n      <th>...</th>\n      <td>...</td>\n      <td>...</td>\n    </tr>\n    <tr>\n      <th>145</th>\n      <td>3.0</td>\n      <td>5.2</td>\n    </tr>\n    <tr>\n      <th>146</th>\n      <td>2.5</td>\n      <td>5.0</td>\n    </tr>\n    <tr>\n      <th>147</th>\n      <td>3.0</td>\n      <td>5.2</td>\n    </tr>\n    <tr>\n      <th>148</th>\n      <td>3.4</td>\n      <td>5.4</td>\n    </tr>\n    <tr>\n      <th>149</th>\n      <td>3.0</td>\n      <td>5.1</td>\n    </tr>\n  </tbody>\n</table>\n<p>150 rows × 2 columns</p>\n</div>"
     },
     "metadata": {},
     "execution_count": 15
    }
   ],
   "source": [
    "iris >> select(f[1:3], _base0=True) # stop (3) is not included"
   ]
  },
  {
   "cell_type": "code",
   "execution_count": 16,
   "metadata": {
    "execution": {
     "iopub.execute_input": "2021-04-17T00:55:02.300344Z",
     "iopub.status.busy": "2021-04-17T00:55:02.299663Z",
     "iopub.status.idle": "2021-04-17T00:55:02.303877Z",
     "shell.execute_reply": "2021-04-17T00:55:02.303493Z"
    }
   },
   "outputs": [
    {
     "output_type": "execute_result",
     "data": {
      "text/plain": [
       "     Sepal_Length  Sepal_Width  Petal_Length  Petal_Width\n",
       "0             5.1          3.5           1.4          0.2\n",
       "1             4.9          3.0           1.4          0.2\n",
       "2             4.7          3.2           1.3          0.2\n",
       "3             4.6          3.1           1.5          0.2\n",
       "4             5.0          3.6           1.4          0.2\n",
       "..            ...          ...           ...          ...\n",
       "145           6.7          3.0           5.2          2.3\n",
       "146           6.3          2.5           5.0          1.9\n",
       "147           6.5          3.0           5.2          2.0\n",
       "148           6.2          3.4           5.4          2.3\n",
       "149           5.9          3.0           5.1          1.8\n",
       "\n",
       "[150 rows x 4 columns]"
      ],
      "text/html": "<div>\n<style scoped>\n    .dataframe tbody tr th:only-of-type {\n        vertical-align: middle;\n    }\n\n    .dataframe tbody tr th {\n        vertical-align: top;\n    }\n\n    .dataframe thead th {\n        text-align: right;\n    }\n</style>\n<table border=\"1\" class=\"dataframe\">\n  <thead>\n    <tr style=\"text-align: right;\">\n      <th></th>\n      <th>Sepal_Length</th>\n      <th>Sepal_Width</th>\n      <th>Petal_Length</th>\n      <th>Petal_Width</th>\n    </tr>\n  </thead>\n  <tbody>\n    <tr>\n      <th>0</th>\n      <td>5.1</td>\n      <td>3.5</td>\n      <td>1.4</td>\n      <td>0.2</td>\n    </tr>\n    <tr>\n      <th>1</th>\n      <td>4.9</td>\n      <td>3.0</td>\n      <td>1.4</td>\n      <td>0.2</td>\n    </tr>\n    <tr>\n      <th>2</th>\n      <td>4.7</td>\n      <td>3.2</td>\n      <td>1.3</td>\n      <td>0.2</td>\n    </tr>\n    <tr>\n      <th>3</th>\n      <td>4.6</td>\n      <td>3.1</td>\n      <td>1.5</td>\n      <td>0.2</td>\n    </tr>\n    <tr>\n      <th>4</th>\n      <td>5.0</td>\n      <td>3.6</td>\n      <td>1.4</td>\n      <td>0.2</td>\n    </tr>\n    <tr>\n      <th>...</th>\n      <td>...</td>\n      <td>...</td>\n      <td>...</td>\n      <td>...</td>\n    </tr>\n    <tr>\n      <th>145</th>\n      <td>6.7</td>\n      <td>3.0</td>\n      <td>5.2</td>\n      <td>2.3</td>\n    </tr>\n    <tr>\n      <th>146</th>\n      <td>6.3</td>\n      <td>2.5</td>\n      <td>5.0</td>\n      <td>1.9</td>\n    </tr>\n    <tr>\n      <th>147</th>\n      <td>6.5</td>\n      <td>3.0</td>\n      <td>5.2</td>\n      <td>2.0</td>\n    </tr>\n    <tr>\n      <th>148</th>\n      <td>6.2</td>\n      <td>3.4</td>\n      <td>5.4</td>\n      <td>2.3</td>\n    </tr>\n    <tr>\n      <th>149</th>\n      <td>5.9</td>\n      <td>3.0</td>\n      <td>5.1</td>\n      <td>1.8</td>\n    </tr>\n  </tbody>\n</table>\n<p>150 rows × 4 columns</p>\n</div>"
     },
     "metadata": {},
     "execution_count": 16
    }
   ],
   "source": [
    "# drop last column\n",
    "iris >> select(~c(-1))"
   ]
  }
 ],
 "metadata": {
  "kernelspec": {
   "display_name": "Python 3",
   "language": "python",
   "name": "python3"
  },
  "language_info": {
   "codemirror_mode": {
    "name": "ipython",
    "version": 3
   },
   "file_extension": ".py",
   "mimetype": "text/x-python",
   "name": "python",
   "nbconvert_exporter": "python",
   "pygments_lexer": "ipython3",
   "version": "3.7.8"
  }
 },
 "nbformat": 4,
 "nbformat_minor": 4
}