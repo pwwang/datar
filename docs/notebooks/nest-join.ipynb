{
 "cells": [
  {
   "cell_type": "code",
   "execution_count": 1,
   "id": "adverse-thesis",
   "metadata": {
    "execution": {
     "iopub.execute_input": "2021-07-16T22:28:21.040914Z",
     "iopub.status.busy": "2021-07-16T22:28:21.040207Z",
     "iopub.status.idle": "2021-07-16T22:28:22.128495Z",
     "shell.execute_reply": "2021-07-16T22:28:22.128914Z"
    }
   },
   "outputs": [
    {
     "name": "stderr",
     "output_type": "stream",
     "text": [
      "[2021-07-16 15:28:21][datar][WARNING] Builtin name \"min\" has been overriden by datar.\n",
      "[2021-07-16 15:28:22][datar][WARNING] Builtin name \"max\" has been overriden by datar.\n",
      "[2021-07-16 15:28:22][datar][WARNING] Builtin name \"sum\" has been overriden by datar.\n",
      "[2021-07-16 15:28:22][datar][WARNING] Builtin name \"abs\" has been overriden by datar.\n",
      "[2021-07-16 15:28:22][datar][WARNING] Builtin name \"round\" has been overriden by datar.\n",
      "[2021-07-16 15:28:22][datar][WARNING] Builtin name \"all\" has been overriden by datar.\n",
      "[2021-07-16 15:28:22][datar][WARNING] Builtin name \"any\" has been overriden by datar.\n",
      "[2021-07-16 15:28:22][datar][WARNING] Builtin name \"re\" has been overriden by datar.\n",
      "[2021-07-16 15:28:22][datar][WARNING] Builtin name \"filter\" has been overriden by datar.\n",
      "[2021-07-16 15:28:22][datar][WARNING] Builtin name \"slice\" has been overriden by datar.\n"
     ]
    },
    {
     "data": {
      "text/html": [
       "<div style=\"text-align: right; text-style: italic\">Try this notebook on <a target=\"_blank\" href=\"https://mybinder.org/v2/gh/pwwang/datar/93d069f3ca36711fc811c61dcf60e9fc3d1460a5?filepath=docs%2Fnotebooks%2Fnest-join.ipynb\">binder</a>.</div>"
      ],
      "text/plain": [
       "<IPython.core.display.HTML object>"
      ]
     },
     "metadata": {},
     "output_type": "display_data"
    },
    {
     "data": {
      "text/markdown": [
       "### # nest_join  "
      ],
      "text/plain": [
       "<IPython.core.display.Markdown object>"
      ]
     },
     "metadata": {},
     "output_type": "display_data"
    },
    {
     "data": {
      "text/markdown": [
       "##### Returns all rows and columns in x with a new nested-df column that\n",
       "contains all matches from y  \n",
       "\n",
       "See Also:  \n",
       "&emsp;&emsp;[`inner_join()`](datar.dplyr.join.inner_join)  \n"
      ],
      "text/plain": [
       "<IPython.core.display.Markdown object>"
      ]
     },
     "metadata": {},
     "output_type": "display_data"
    }
   ],
   "source": [
    "# https://dplyr.tidyverse.org/reference/nest_join.html\n",
    "\n",
    "from datar.datasets import band_members, band_instruments\n",
    "from datar.all import *\n",
    "\n",
    "%run nb_helpers.py\n",
    "nb_header(nest_join, book='nest-join')"
   ]
  },
  {
   "cell_type": "code",
   "execution_count": 2,
   "id": "green-continuity",
   "metadata": {
    "execution": {
     "iopub.execute_input": "2021-07-16T22:28:22.136012Z",
     "iopub.status.busy": "2021-07-16T22:28:22.135245Z",
     "iopub.status.idle": "2021-07-16T22:28:22.213886Z",
     "shell.execute_reply": "2021-07-16T22:28:22.214257Z"
    }
   },
   "outputs": [
    {
     "data": {
      "text/html": [
       "<table border=\"1\" class=\"dataframe\">\n",
       "  <thead>\n",
       "    <tr style=\"text-align: right;\">\n",
       "      <th></th>\n",
       "      <th>name</th>\n",
       "      <th>band</th>\n",
       "      <th>band_instruments</th>\n",
       "    </tr>\n",
       "  </thead>\n",
       "  <tbody>\n",
       "    <tr>\n",
       "      <th style=\"font-style: italic;\" ></th>\n",
       "      <td style=\"font-style: italic;\" >&lt;object&gt;</td>\n",
       "      <td style=\"font-style: italic;\" >&lt;object&gt;</td>\n",
       "      <td style=\"font-style: italic;\" >&lt;object&gt;</td>\n",
       "    </tr>\n",
       "    <tr>\n",
       "      <th>0</th>\n",
       "      <td>Mick</td>\n",
       "      <td>Stones</td>\n",
       "      <td>&lt;DF 0x1&gt;</td>\n",
       "    </tr>\n",
       "    <tr>\n",
       "      <th>1</th>\n",
       "      <td>John</td>\n",
       "      <td>Beatles</td>\n",
       "      <td>&lt;DF 1x1&gt;</td>\n",
       "    </tr>\n",
       "    <tr>\n",
       "      <th>2</th>\n",
       "      <td>Paul</td>\n",
       "      <td>Beatles</td>\n",
       "      <td>&lt;DF 1x1&gt;</td>\n",
       "    </tr>\n",
       "  </tbody>\n",
       "</table>"
      ],
      "text/plain": [
       "      name     band band_instruments\n",
       "  <object> <object>         <object>\n",
       "0     Mick   Stones         <DF 0x1>\n",
       "1     John  Beatles         <DF 1x1>\n",
       "2     Paul  Beatles         <DF 1x1>"
      ]
     },
     "execution_count": 1,
     "metadata": {},
     "output_type": "execute_result"
    }
   ],
   "source": [
    "nested = band_members >> nest_join(band_instruments)\n",
    "nested"
   ]
  },
  {
   "cell_type": "code",
   "execution_count": 3,
   "id": "french-egyptian",
   "metadata": {
    "execution": {
     "iopub.execute_input": "2021-07-16T22:28:22.228931Z",
     "iopub.status.busy": "2021-07-16T22:28:22.228284Z",
     "iopub.status.idle": "2021-07-16T22:28:22.238218Z",
     "shell.execute_reply": "2021-07-16T22:28:22.237726Z"
    }
   },
   "outputs": [
    {
     "data": {
      "text/plain": [
       "[Empty DataFrame\n",
       " Columns: [plays]\n",
       " Index: [],\n",
       "      plays\n",
       "   <object>\n",
       " 0   guitar]"
      ]
     },
     "execution_count": 1,
     "metadata": {},
     "output_type": "execute_result"
    }
   ],
   "source": [
    "nested >> head(2) >> pull(f.band_instruments, to='list')"
   ]
  }
 ],
 "metadata": {
  "kernelspec": {
   "display_name": "Python 3",
   "language": "python",
   "name": "python3"
  },
  "language_info": {
   "codemirror_mode": {
    "name": "ipython",
    "version": 3
   },
   "file_extension": ".py",
   "mimetype": "text/x-python",
   "name": "python",
   "nbconvert_exporter": "python",
   "pygments_lexer": "ipython3",
   "version": "3.7.8"
  }
 },
 "nbformat": 4,
 "nbformat_minor": 5
}
