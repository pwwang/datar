{
 "cells": [
  {
   "cell_type": "code",
   "execution_count": 1,
   "source": [
    "from datar.all import *\n",
    "\n",
    "%run nb_helpers.py\n",
    "\n",
    "nb_header(\n",
    "    fct_c,\n",
    "    fct_cross,\n",
    "    book=\"forcat_fct_multi\",\n",
    ")\n"
   ],
   "outputs": [
    {
     "output_type": "stream",
     "name": "stderr",
     "text": [
      "[2021-09-02 00:52:13][datar][WARNING] Builtin name \"min\" has been overriden by datar.\n",
      "[2021-09-02 00:52:13][datar][WARNING] Builtin name \"max\" has been overriden by datar.\n",
      "[2021-09-02 00:52:13][datar][WARNING] Builtin name \"sum\" has been overriden by datar.\n",
      "[2021-09-02 00:52:13][datar][WARNING] Builtin name \"abs\" has been overriden by datar.\n",
      "[2021-09-02 00:52:13][datar][WARNING] Builtin name \"round\" has been overriden by datar.\n",
      "[2021-09-02 00:52:13][datar][WARNING] Builtin name \"all\" has been overriden by datar.\n",
      "[2021-09-02 00:52:13][datar][WARNING] Builtin name \"any\" has been overriden by datar.\n",
      "[2021-09-02 00:52:13][datar][WARNING] Builtin name \"re\" has been overriden by datar.\n",
      "[2021-09-02 00:52:13][datar][WARNING] Builtin name \"filter\" has been overriden by datar.\n",
      "[2021-09-02 00:52:13][datar][WARNING] Builtin name \"slice\" has been overriden by datar.\n"
     ]
    },
    {
     "output_type": "display_data",
     "data": {
      "text/plain": [
       "<IPython.core.display.HTML object>"
      ],
      "text/html": [
       "<div style=\"text-align: right; text-style: italic\">Try this notebook on <a target=\"_blank\" href=\"https://mybinder.org/v2/gh/pwwang/datar/93d069f3ca36711fc811c61dcf60e9fc3d1460a5?filepath=docs%2Fnotebooks%2Fforcat_fct_multi.ipynb\">binder</a>.</div>"
      ]
     },
     "metadata": {}
    },
    {
     "output_type": "display_data",
     "data": {
      "text/plain": [
       "<IPython.core.display.Markdown object>"
      ],
      "text/markdown": [
       "### # fct_c  "
      ]
     },
     "metadata": {}
    },
    {
     "output_type": "display_data",
     "data": {
      "text/plain": [
       "<IPython.core.display.Markdown object>"
      ],
      "text/markdown": [
       "##### Concatenate factors, combining levels\n",
       "\n",
       "This is a useful way of patching together factors from multiple sources  \n",
       "that really should have the same levels but don't.  \n",
       "\n",
       "##### Args:\n",
       "&emsp;&emsp;`fs`: The factors to be concatenated  \n",
       "\n",
       "##### Returns:\n",
       "&emsp;&emsp;The concatenated factor  \n"
      ]
     },
     "metadata": {}
    },
    {
     "output_type": "display_data",
     "data": {
      "text/plain": [
       "<IPython.core.display.Markdown object>"
      ],
      "text/markdown": [
       "### # fct_cross  "
      ]
     },
     "metadata": {}
    },
    {
     "output_type": "display_data",
     "data": {
      "text/plain": [
       "<IPython.core.display.Markdown object>"
      ],
      "text/markdown": [
       "##### Combine levels from two or more factors to create a new factor\n",
       "\n",
       "Computes a factor whose levels are all the combinations of  \n",
       "the levels of the input factors.  \n",
       "\n",
       "##### Args:\n",
       "&emsp;&emsp;`*fs`: Factors to combine  \n",
       "&emsp;&emsp;`sep`: A string to separate levels  \n",
       "&emsp;&emsp;`keep_empty`: If True, keep combinations with no observations as levels  \n",
       "\n",
       "##### Returns:\n",
       "&emsp;&emsp;The new factor  \n"
      ]
     },
     "metadata": {}
    }
   ],
   "metadata": {}
  },
  {
   "cell_type": "markdown",
   "source": [
    "## fct_c"
   ],
   "metadata": {}
  },
  {
   "cell_type": "code",
   "execution_count": 2,
   "source": [
    "fa = factor(\"a\")\n",
    "fb = factor(\"b\")\n",
    "fab = factor(c(\"a\", \"b\"))\n",
    "\n",
    "# c(fa, fb, fab)\n",
    "# convert factor to integer for `c`?"
   ],
   "outputs": [],
   "metadata": {}
  },
  {
   "cell_type": "code",
   "execution_count": 3,
   "source": [
    "fct_c(fa, fb, fab)"
   ],
   "outputs": [
    {
     "output_type": "execute_result",
     "data": {
      "text/plain": [
       "['a', 'b', 'a', 'b']\n",
       "Categories (2, object): ['a', 'b']"
      ]
     },
     "metadata": {},
     "execution_count": 3
    }
   ],
   "metadata": {}
  },
  {
   "cell_type": "code",
   "execution_count": 4,
   "source": [
    "fs = [fa, fb, fab]\n",
    "fct_c(*fs)"
   ],
   "outputs": [
    {
     "output_type": "execute_result",
     "data": {
      "text/plain": [
       "['a', 'b', 'a', 'b']\n",
       "Categories (2, object): ['a', 'b']"
      ]
     },
     "metadata": {},
     "execution_count": 4
    }
   ],
   "metadata": {}
  },
  {
   "cell_type": "markdown",
   "source": [
    "## fct_cross"
   ],
   "metadata": {}
  },
  {
   "cell_type": "code",
   "execution_count": 5,
   "source": [
    "fruit = factor(c(\"apple\", \"kiwi\", \"apple\", \"apple\"))\n",
    "colour = factor(c(\"green\", \"green\", \"red\", \"green\"))\n",
    "eaten = c(\"yes\", \"no\", \"yes\", \"no\")\n",
    "fct_cross(fruit, colour)"
   ],
   "outputs": [
    {
     "output_type": "execute_result",
     "data": {
      "text/plain": [
       "['apple:green', 'kiwi:green', 'apple:red', 'apple:green']\n",
       "Categories (3, object): ['apple:green', 'apple:red', 'kiwi:green']"
      ]
     },
     "metadata": {},
     "execution_count": 5
    }
   ],
   "metadata": {}
  },
  {
   "cell_type": "code",
   "execution_count": 6,
   "source": [
    "fct_cross(fruit, colour, eaten)"
   ],
   "outputs": [
    {
     "output_type": "execute_result",
     "data": {
      "text/plain": [
       "['apple:green:yes', 'kiwi:green:no', 'apple:red:yes', 'apple:green:no']\n",
       "Categories (4, object): ['apple:green:no', 'apple:green:yes', 'apple:red:yes', 'kiwi:green:no']"
      ]
     },
     "metadata": {},
     "execution_count": 6
    }
   ],
   "metadata": {}
  },
  {
   "cell_type": "code",
   "execution_count": 7,
   "source": [
    "fct_cross(fruit, colour, keep_empty = TRUE)"
   ],
   "outputs": [
    {
     "output_type": "execute_result",
     "data": {
      "text/plain": [
       "['apple:green', 'kiwi:green', 'apple:red', 'apple:green']\n",
       "Categories (4, object): ['apple:green', 'apple:red', 'kiwi:green', 'kiwi:red']"
      ]
     },
     "metadata": {},
     "execution_count": 7
    }
   ],
   "metadata": {}
  }
 ],
 "metadata": {
  "orig_nbformat": 4,
  "language_info": {
   "name": "python",
   "version": "3.9.5",
   "mimetype": "text/x-python",
   "codemirror_mode": {
    "name": "ipython",
    "version": 3
   },
   "pygments_lexer": "ipython3",
   "nbconvert_exporter": "python",
   "file_extension": ".py"
  },
  "kernelspec": {
   "name": "python3",
   "display_name": "Python 3.9.5 64-bit ('base': conda)"
  },
  "interpreter": {
   "hash": "c4cc73b080e063fcebb9afb794613be7caf4b26129562cba1382945a18cc49cc"
  }
 },
 "nbformat": 4,
 "nbformat_minor": 2
}