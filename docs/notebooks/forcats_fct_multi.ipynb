{
 "cells": [
  {
   "cell_type": "code",
   "execution_count": 1,
   "metadata": {},
   "outputs": [
    {
     "name": "stderr",
     "output_type": "stream",
     "text": [
      "[2022-03-06 01:45:24][datar][WARNING] Builtin name \"min\" has been overriden by datar.\n",
      "[2022-03-06 01:45:24][datar][WARNING] Builtin name \"max\" has been overriden by datar.\n",
      "[2022-03-06 01:45:24][datar][WARNING] Builtin name \"sum\" has been overriden by datar.\n",
      "[2022-03-06 01:45:24][datar][WARNING] Builtin name \"abs\" has been overriden by datar.\n",
      "[2022-03-06 01:45:24][datar][WARNING] Builtin name \"round\" has been overriden by datar.\n",
      "[2022-03-06 01:45:24][datar][WARNING] Builtin name \"all\" has been overriden by datar.\n",
      "[2022-03-06 01:45:24][datar][WARNING] Builtin name \"any\" has been overriden by datar.\n",
      "[2022-03-06 01:45:24][datar][WARNING] Builtin name \"re\" has been overriden by datar.\n",
      "[2022-03-06 01:45:24][datar][WARNING] Builtin name \"filter\" has been overriden by datar.\n",
      "[2022-03-06 01:45:24][datar][WARNING] Builtin name \"slice\" has been overriden by datar.\n"
     ]
    },
    {
     "data": {
      "text/html": [
       "<div style=\"text-align: right; text-style: italic\">Try this notebook on <a target=\"_blank\" href=\"https://mybinder.org/v2/gh/pwwang/datar/93d069f3ca36711fc811c61dcf60e9fc3d1460a5?filepath=docs%2Fnotebooks%2Fforcat_fct_multi.ipynb\">binder</a>.</div>"
      ],
      "text/plain": [
       "<IPython.core.display.HTML object>"
      ]
     },
     "metadata": {},
     "output_type": "display_data"
    },
    {
     "data": {
      "text/markdown": [
       "### # fct_c  "
      ],
      "text/plain": [
       "<IPython.core.display.Markdown object>"
      ]
     },
     "metadata": {},
     "output_type": "display_data"
    },
    {
     "data": {
      "text/markdown": [
       "##### Concatenate factors, combining levels\n",
       "\n",
       "This is a useful way of patching together factors from multiple sources  \n",
       "that really should have the same levels but don't.  \n",
       "\n",
       "##### Args:\n",
       "&emsp;&emsp;`fs`: The factors to be concatenated  \n",
       "\n",
       "##### Returns:\n",
       "&emsp;&emsp;The concatenated factor  \n"
      ],
      "text/plain": [
       "<IPython.core.display.Markdown object>"
      ]
     },
     "metadata": {},
     "output_type": "display_data"
    },
    {
     "data": {
      "text/markdown": [
       "### # fct_cross  "
      ],
      "text/plain": [
       "<IPython.core.display.Markdown object>"
      ]
     },
     "metadata": {},
     "output_type": "display_data"
    },
    {
     "data": {
      "text/markdown": [
       "##### Combine levels from two or more factors to create a new factor\n",
       "\n",
       "Computes a factor whose levels are all the combinations of  \n",
       "the levels of the input factors.  \n",
       "\n",
       "##### Args:\n",
       "&emsp;&emsp;`*fs`: Factors to combine  \n",
       "&emsp;&emsp;`sep`: A string to separate levels  \n",
       "&emsp;&emsp;`keep_empty`: If True, keep combinations with no observations as levels  \n",
       "\n",
       "##### Returns:\n",
       "&emsp;&emsp;The new factor  \n"
      ],
      "text/plain": [
       "<IPython.core.display.Markdown object>"
      ]
     },
     "metadata": {},
     "output_type": "display_data"
    }
   ],
   "source": [
    "from datar.all import *\n",
    "\n",
    "%run nb_helpers.py\n",
    "\n",
    "nb_header(\n",
    "    fct_c,\n",
    "    fct_cross,\n",
    "    book=\"forcat_fct_multi\",\n",
    ")\n"
   ]
  },
  {
   "cell_type": "markdown",
   "metadata": {},
   "source": [
    "## fct_c"
   ]
  },
  {
   "cell_type": "code",
   "execution_count": 2,
   "metadata": {},
   "outputs": [],
   "source": [
    "fa = factor(\"a\")\n",
    "fb = factor(\"b\")\n",
    "fab = factor(c(\"a\", \"b\"))\n",
    "\n",
    "# c(fa, fb, fab)\n",
    "# convert factor to integer for `c`?"
   ]
  },
  {
   "cell_type": "code",
   "execution_count": 3,
   "metadata": {},
   "outputs": [
    {
     "data": {
      "text/plain": [
       "['a', 'b', 'a', 'b']\n",
       "Categories (2, object): ['a', 'b']"
      ]
     },
     "execution_count": 3,
     "metadata": {},
     "output_type": "execute_result"
    }
   ],
   "source": [
    "fct_c(fa, fb, fab)"
   ]
  },
  {
   "cell_type": "code",
   "execution_count": 4,
   "metadata": {},
   "outputs": [
    {
     "data": {
      "text/plain": [
       "['a', 'b', 'a', 'b']\n",
       "Categories (2, object): ['a', 'b']"
      ]
     },
     "execution_count": 4,
     "metadata": {},
     "output_type": "execute_result"
    }
   ],
   "source": [
    "fs = [fa, fb, fab]\n",
    "fct_c(*fs)"
   ]
  },
  {
   "cell_type": "markdown",
   "metadata": {},
   "source": [
    "## fct_cross"
   ]
  },
  {
   "cell_type": "code",
   "execution_count": 5,
   "metadata": {},
   "outputs": [
    {
     "data": {
      "text/plain": [
       "['apple:green', 'kiwi:green', 'apple:red', 'apple:green']\n",
       "Categories (3, object): ['apple:green', 'apple:red', 'kiwi:green']"
      ]
     },
     "execution_count": 5,
     "metadata": {},
     "output_type": "execute_result"
    }
   ],
   "source": [
    "fruit = factor(c(\"apple\", \"kiwi\", \"apple\", \"apple\"))\n",
    "colour = factor(c(\"green\", \"green\", \"red\", \"green\"))\n",
    "eaten = c(\"yes\", \"no\", \"yes\", \"no\")\n",
    "fct_cross(fruit, colour)"
   ]
  },
  {
   "cell_type": "code",
   "execution_count": 6,
   "metadata": {},
   "outputs": [
    {
     "data": {
      "text/plain": [
       "['apple:green:yes', 'kiwi:green:no', 'apple:red:yes', 'apple:green:no']\n",
       "Categories (4, object): ['apple:green:no', 'apple:green:yes', 'apple:red:yes', 'kiwi:green:no']"
      ]
     },
     "execution_count": 6,
     "metadata": {},
     "output_type": "execute_result"
    }
   ],
   "source": [
    "fct_cross(fruit, colour, eaten)"
   ]
  },
  {
   "cell_type": "code",
   "execution_count": 7,
   "metadata": {},
   "outputs": [
    {
     "data": {
      "text/plain": [
       "['apple:green', 'kiwi:green', 'apple:red', 'apple:green']\n",
       "Categories (4, object): ['apple:green', 'apple:red', 'kiwi:green', 'kiwi:red']"
      ]
     },
     "execution_count": 7,
     "metadata": {},
     "output_type": "execute_result"
    }
   ],
   "source": [
    "fct_cross(fruit, colour, keep_empty = TRUE)"
   ]
  }
 ],
 "metadata": {
  "interpreter": {
   "hash": "c4cc73b080e063fcebb9afb794613be7caf4b26129562cba1382945a18cc49cc"
  },
  "kernelspec": {
   "display_name": "Python 3.9.5 64-bit ('base': conda)",
   "name": "python3"
  },
  "language_info": {
   "codemirror_mode": {
    "name": "ipython",
    "version": 3
   },
   "file_extension": ".py",
   "mimetype": "text/x-python",
   "name": "python",
   "nbconvert_exporter": "python",
   "pygments_lexer": "ipython3",
   "version": "3.9.5"
  },
  "orig_nbformat": 4
 },
 "nbformat": 4,
 "nbformat_minor": 2
}
