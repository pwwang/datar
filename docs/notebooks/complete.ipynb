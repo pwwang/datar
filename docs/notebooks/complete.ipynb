{
 "cells": [
  {
   "cell_type": "code",
   "execution_count": 1,
   "metadata": {
    "execution": {
     "iopub.execute_input": "2021-07-16T22:27:34.998675Z",
     "iopub.status.busy": "2021-07-16T22:27:34.998111Z",
     "iopub.status.idle": "2021-07-16T22:27:36.207004Z",
     "shell.execute_reply": "2021-07-16T22:27:36.207419Z"
    }
   },
   "outputs": [
    {
     "name": "stderr",
     "output_type": "stream",
     "text": [
      "[2022-03-06 00:44:34][datar][WARNING] Builtin name \"min\" has been overriden by datar.\n",
      "[2022-03-06 00:44:34][datar][WARNING] Builtin name \"max\" has been overriden by datar.\n",
      "[2022-03-06 00:44:34][datar][WARNING] Builtin name \"sum\" has been overriden by datar.\n",
      "[2022-03-06 00:44:34][datar][WARNING] Builtin name \"abs\" has been overriden by datar.\n",
      "[2022-03-06 00:44:34][datar][WARNING] Builtin name \"round\" has been overriden by datar.\n",
      "[2022-03-06 00:44:34][datar][WARNING] Builtin name \"all\" has been overriden by datar.\n",
      "[2022-03-06 00:44:34][datar][WARNING] Builtin name \"any\" has been overriden by datar.\n",
      "[2022-03-06 00:44:34][datar][WARNING] Builtin name \"re\" has been overriden by datar.\n",
      "[2022-03-06 00:44:34][datar][WARNING] Builtin name \"filter\" has been overriden by datar.\n",
      "[2022-03-06 00:44:34][datar][WARNING] Builtin name \"slice\" has been overriden by datar.\n"
     ]
    },
    {
     "data": {
      "text/html": [
       "<div style=\"text-align: right; text-style: italic\">Try this notebook on <a target=\"_blank\" href=\"https://mybinder.org/v2/gh/pwwang/datar/93d069f3ca36711fc811c61dcf60e9fc3d1460a5?filepath=docs%2Fnotebooks%2Fcomplete.ipynb\">binder</a>.</div>"
      ],
      "text/plain": [
       "<IPython.core.display.HTML object>"
      ]
     },
     "metadata": {},
     "output_type": "display_data"
    },
    {
     "data": {
      "text/markdown": [
       "### # complete  "
      ],
      "text/plain": [
       "<IPython.core.display.Markdown object>"
      ]
     },
     "metadata": {},
     "output_type": "display_data"
    },
    {
     "data": {
      "text/markdown": [
       "##### Turns implicit missing values into explicit missing values.\n",
       "\n",
       "##### Args:\n",
       "&emsp;&emsp;`data`: A data frame  \n",
       "&emsp;&emsp;`*args`: columns to expand. Columns can be atomic lists.  \n",
       "&emsp;&emsp;&emsp;&emsp;- To find all unique combinations of x, y and z, including\n",
       "&emsp;&emsp;&emsp;&emsp;&emsp;&emsp;those not present in the data, supply each variable as a  \n",
       "&emsp;&emsp;&emsp;&emsp;&emsp;&emsp;separate argument: `expand(df, x, y, z)`.  \n",
       "\n",
       "&emsp;&emsp;&emsp;&emsp;- To find only the combinations that occur in the data, use\n",
       "&emsp;&emsp;&emsp;&emsp;&emsp;&emsp;`nesting`: `expand(df, nesting(x, y, z))`.  \n",
       "\n",
       "&emsp;&emsp;&emsp;&emsp;- You can combine the two forms. For example,\n",
       "&emsp;&emsp;&emsp;&emsp;&emsp;&emsp;`expand(df, nesting(school_id, student_id), date)` would  \n",
       "&emsp;&emsp;&emsp;&emsp;&emsp;&emsp;produce a row for each present school-student combination  \n",
       "&emsp;&emsp;&emsp;&emsp;&emsp;&emsp;for all possible dates.  \n",
       "\n",
       "##### Returns:\n",
       "&emsp;&emsp;Data frame with missing values completed  \n"
      ],
      "text/plain": [
       "<IPython.core.display.Markdown object>"
      ]
     },
     "metadata": {},
     "output_type": "display_data"
    }
   ],
   "source": [
    "from datar.all import *\n",
    "\n",
    "%run nb_helpers.py\n",
    "nb_header(complete)"
   ]
  },
  {
   "cell_type": "code",
   "execution_count": 2,
   "metadata": {
    "execution": {
     "iopub.execute_input": "2021-07-16T22:27:36.225638Z",
     "iopub.status.busy": "2021-07-16T22:27:36.224907Z",
     "iopub.status.idle": "2021-07-16T22:27:36.764033Z",
     "shell.execute_reply": "2021-07-16T22:27:36.764473Z"
    }
   },
   "outputs": [
    {
     "data": {
      "text/html": [
       "<div>\n",
       "<style scoped>\n",
       "    .dataframe tbody tr th:only-of-type {\n",
       "        vertical-align: middle;\n",
       "    }\n",
       "\n",
       "    .dataframe tbody tr th {\n",
       "        vertical-align: top;\n",
       "    }\n",
       "\n",
       "    .dataframe thead th {\n",
       "        text-align: right;\n",
       "    }\n",
       "</style>\n",
       "<table border=\"1\" class=\"dataframe\">\n",
       "  <thead>\n",
       "    <tr style=\"text-align: right;\">\n",
       "      <th></th>\n",
       "      <th>group</th>\n",
       "      <th>item_id</th>\n",
       "      <th>item_name</th>\n",
       "      <th>value1</th>\n",
       "      <th>value2</th>\n",
       "    </tr>\n",
       "  </thead>\n",
       "  <tbody>\n",
       "    <tr>\n",
       "      <th style=\"font-style: italic;\" ></th>\n",
       "      <td style=\"font-style: italic;\" >&lt;int64&gt;</td>\n",
       "      <td style=\"font-style: italic;\" >&lt;int64&gt;</td>\n",
       "      <td style=\"font-style: italic;\" >&lt;object&gt;</td>\n",
       "      <td style=\"font-style: italic;\" >&lt;float64&gt;</td>\n",
       "      <td style=\"font-style: italic;\" >&lt;float64&gt;</td>\n",
       "    </tr>\n",
       "    <tr>\n",
       "      <th>0</th>\n",
       "      <td>1</td>\n",
       "      <td>1</td>\n",
       "      <td>a</td>\n",
       "      <td>1.0</td>\n",
       "      <td>4.0</td>\n",
       "    </tr>\n",
       "    <tr>\n",
       "      <th>1</th>\n",
       "      <td>1</td>\n",
       "      <td>2</td>\n",
       "      <td>b</td>\n",
       "      <td>3.0</td>\n",
       "      <td>6.0</td>\n",
       "    </tr>\n",
       "    <tr>\n",
       "      <th>2</th>\n",
       "      <td>2</td>\n",
       "      <td>1</td>\n",
       "      <td>a</td>\n",
       "      <td>NaN</td>\n",
       "      <td>NaN</td>\n",
       "    </tr>\n",
       "    <tr>\n",
       "      <th>3</th>\n",
       "      <td>2</td>\n",
       "      <td>2</td>\n",
       "      <td>b</td>\n",
       "      <td>2.0</td>\n",
       "      <td>5.0</td>\n",
       "    </tr>\n",
       "  </tbody>\n",
       "</table>\n",
       "</div>\n"
      ],
      "text/plain": [
       "    group  item_id item_name    value1    value2\n",
       "  <int64>  <int64>  <object> <float64> <float64>\n",
       "0       1        1         a       1.0       4.0\n",
       "1       1        2         b       3.0       6.0\n",
       "2       2        1         a       NaN       NaN\n",
       "3       2        2         b       2.0       5.0"
      ]
     },
     "execution_count": 2,
     "metadata": {},
     "output_type": "execute_result"
    }
   ],
   "source": [
    "df = tibble(\n",
    "  group = c(f[1:2:1], 1),\n",
    "  item_id = c(f[1:2:1], 2),\n",
    "  item_name = c(\"a\", \"b\", \"b\"),\n",
    "  value1 = f[1:3:1],\n",
    "  value2 = f[4:6:1]\n",
    ")\n",
    "df >> complete(f.group, nesting(f.item_id, f.item_name))"
   ]
  },
  {
   "cell_type": "code",
   "execution_count": 3,
   "metadata": {
    "execution": {
     "iopub.execute_input": "2021-07-16T22:27:36.825971Z",
     "iopub.status.busy": "2021-07-16T22:27:36.825401Z",
     "iopub.status.idle": "2021-07-16T22:27:36.886733Z",
     "shell.execute_reply": "2021-07-16T22:27:36.887338Z"
    }
   },
   "outputs": [
    {
     "data": {
      "text/html": [
       "<div>\n",
       "<style scoped>\n",
       "    .dataframe tbody tr th:only-of-type {\n",
       "        vertical-align: middle;\n",
       "    }\n",
       "\n",
       "    .dataframe tbody tr th {\n",
       "        vertical-align: top;\n",
       "    }\n",
       "\n",
       "    .dataframe thead th {\n",
       "        text-align: right;\n",
       "    }\n",
       "</style>\n",
       "<table border=\"1\" class=\"dataframe\">\n",
       "  <thead>\n",
       "    <tr style=\"text-align: right;\">\n",
       "      <th></th>\n",
       "      <th>group</th>\n",
       "      <th>item_id</th>\n",
       "      <th>item_name</th>\n",
       "      <th>value1</th>\n",
       "      <th>value2</th>\n",
       "    </tr>\n",
       "  </thead>\n",
       "  <tbody>\n",
       "    <tr>\n",
       "      <th style=\"font-style: italic;\" ></th>\n",
       "      <td style=\"font-style: italic;\" >&lt;int64&gt;</td>\n",
       "      <td style=\"font-style: italic;\" >&lt;int64&gt;</td>\n",
       "      <td style=\"font-style: italic;\" >&lt;object&gt;</td>\n",
       "      <td style=\"font-style: italic;\" >&lt;float64&gt;</td>\n",
       "      <td style=\"font-style: italic;\" >&lt;float64&gt;</td>\n",
       "    </tr>\n",
       "    <tr>\n",
       "      <th>0</th>\n",
       "      <td>1</td>\n",
       "      <td>1</td>\n",
       "      <td>a</td>\n",
       "      <td>1.0</td>\n",
       "      <td>4.0</td>\n",
       "    </tr>\n",
       "    <tr>\n",
       "      <th>1</th>\n",
       "      <td>1</td>\n",
       "      <td>2</td>\n",
       "      <td>b</td>\n",
       "      <td>3.0</td>\n",
       "      <td>6.0</td>\n",
       "    </tr>\n",
       "    <tr>\n",
       "      <th>2</th>\n",
       "      <td>2</td>\n",
       "      <td>1</td>\n",
       "      <td>a</td>\n",
       "      <td>0.0</td>\n",
       "      <td>NaN</td>\n",
       "    </tr>\n",
       "    <tr>\n",
       "      <th>3</th>\n",
       "      <td>2</td>\n",
       "      <td>2</td>\n",
       "      <td>b</td>\n",
       "      <td>2.0</td>\n",
       "      <td>5.0</td>\n",
       "    </tr>\n",
       "  </tbody>\n",
       "</table>\n",
       "</div>\n"
      ],
      "text/plain": [
       "    group  item_id item_name    value1    value2\n",
       "  <int64>  <int64>  <object> <float64> <float64>\n",
       "0       1        1         a       1.0       4.0\n",
       "1       1        2         b       3.0       6.0\n",
       "2       2        1         a       0.0       NaN\n",
       "3       2        2         b       2.0       5.0"
      ]
     },
     "execution_count": 3,
     "metadata": {},
     "output_type": "execute_result"
    }
   ],
   "source": [
    "df >> complete(f.group, nesting(f.item_id, f.item_name), fill=dict(value1=0))"
   ]
  }
 ],
 "metadata": {
  "interpreter": {
   "hash": "9ed5c94d10bf621c6841991b7e31ffd0f3c8de8ec4167710459737a50edc58e4"
  },
  "kernelspec": {
   "display_name": "Python 3.7.8 64-bit ('base': conda)",
   "language": "python",
   "name": "python3"
  },
  "language_info": {
   "codemirror_mode": {
    "name": "ipython",
    "version": 3
   },
   "file_extension": ".py",
   "mimetype": "text/x-python",
   "name": "python",
   "nbconvert_exporter": "python",
   "pygments_lexer": "ipython3",
   "version": "3.9.5"
  }
 },
 "nbformat": 4,
 "nbformat_minor": 2
}
