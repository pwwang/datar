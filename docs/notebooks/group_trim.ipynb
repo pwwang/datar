{
 "cells": [
  {
   "cell_type": "code",
   "execution_count": 1,
   "id": "9941c94b",
   "metadata": {
    "execution": {
     "iopub.execute_input": "2021-07-16T22:28:00.630674Z",
     "iopub.status.busy": "2021-07-16T22:28:00.630102Z",
     "iopub.status.idle": "2021-07-16T22:28:01.530300Z",
     "shell.execute_reply": "2021-07-16T22:28:01.530718Z"
    }
   },
   "outputs": [
    {
     "name": "stderr",
     "output_type": "stream",
     "text": [
      "[2022-03-06 02:01:31][datar][WARNING] Builtin name \"min\" has been overriden by datar.\n",
      "[2022-03-06 02:01:31][datar][WARNING] Builtin name \"max\" has been overriden by datar.\n",
      "[2022-03-06 02:01:31][datar][WARNING] Builtin name \"sum\" has been overriden by datar.\n",
      "[2022-03-06 02:01:32][datar][WARNING] Builtin name \"abs\" has been overriden by datar.\n",
      "[2022-03-06 02:01:32][datar][WARNING] Builtin name \"round\" has been overriden by datar.\n",
      "[2022-03-06 02:01:32][datar][WARNING] Builtin name \"all\" has been overriden by datar.\n",
      "[2022-03-06 02:01:32][datar][WARNING] Builtin name \"any\" has been overriden by datar.\n",
      "[2022-03-06 02:01:32][datar][WARNING] Builtin name \"re\" has been overriden by datar.\n",
      "[2022-03-06 02:01:32][datar][WARNING] Builtin name \"filter\" has been overriden by datar.\n",
      "[2022-03-06 02:01:32][datar][WARNING] Builtin name \"slice\" has been overriden by datar.\n"
     ]
    },
    {
     "data": {
      "text/html": [
       "<div style=\"text-align: right; text-style: italic\">Try this notebook on <a target=\"_blank\" href=\"https://mybinder.org/v2/gh/pwwang/datar/93d069f3ca36711fc811c61dcf60e9fc3d1460a5?filepath=docs%2Fnotebooks%2Fgroup_trim.ipynb\">binder</a>.</div>"
      ],
      "text/plain": [
       "<IPython.core.display.HTML object>"
      ]
     },
     "metadata": {},
     "output_type": "display_data"
    },
    {
     "data": {
      "text/markdown": [
       "### # group_trim  "
      ],
      "text/plain": [
       "<IPython.core.display.Markdown object>"
      ]
     },
     "metadata": {},
     "output_type": "display_data"
    },
    {
     "data": {
      "text/markdown": [
       "##### Trim the unused group levels\n"
      ],
      "text/plain": [
       "<IPython.core.display.Markdown object>"
      ]
     },
     "metadata": {},
     "output_type": "display_data"
    }
   ],
   "source": [
    "# https://dplyr.tidyverse.org/reference/group_trim.html\n",
    "\n",
    "from datar.all import *\n",
    "\n",
    "%run nb_helpers.py\n",
    "nb_header(group_trim)"
   ]
  },
  {
   "cell_type": "code",
   "execution_count": 9,
   "id": "d4c86c45",
   "metadata": {
    "execution": {
     "iopub.execute_input": "2021-07-16T22:28:01.592992Z",
     "iopub.status.busy": "2021-07-16T22:28:01.583766Z",
     "iopub.status.idle": "2021-07-16T22:28:01.685184Z",
     "shell.execute_reply": "2021-07-16T22:28:01.684381Z"
    }
   },
   "outputs": [
    {
     "data": {
      "text/html": [
       "<div>\n",
       "<style scoped>\n",
       "    .dataframe tbody tr th:only-of-type {\n",
       "        vertical-align: middle;\n",
       "    }\n",
       "\n",
       "    .dataframe tbody tr th {\n",
       "        vertical-align: top;\n",
       "    }\n",
       "\n",
       "    .dataframe thead th {\n",
       "        text-align: right;\n",
       "    }\n",
       "</style>\n",
       "<table border=\"1\" class=\"dataframe\">\n",
       "  <thead>\n",
       "    <tr style=\"text-align: right;\">\n",
       "      <th></th>\n",
       "      <th>x</th>\n",
       "      <th>_rows</th>\n",
       "    </tr>\n",
       "  </thead>\n",
       "  <tbody>\n",
       "    <tr>\n",
       "      <th style=\"font-style: italic;\" ></th>\n",
       "      <td style=\"font-style: italic;\" >&lt;category&gt;</td>\n",
       "      <td style=\"font-style: italic;\" >&lt;object&gt;</td>\n",
       "    </tr>\n",
       "    <tr>\n",
       "      <th>0</th>\n",
       "      <td>a</td>\n",
       "      <td>[0]</td>\n",
       "    </tr>\n",
       "    <tr>\n",
       "      <th>1</th>\n",
       "      <td>b</td>\n",
       "      <td>[1]</td>\n",
       "    </tr>\n",
       "    <tr>\n",
       "      <th>2</th>\n",
       "      <td>c</td>\n",
       "      <td>[]</td>\n",
       "    </tr>\n",
       "  </tbody>\n",
       "</table>\n",
       "</div>\n"
      ],
      "text/plain": [
       "           x    _rows\n",
       "  <category> <object>\n",
       "0          a      [0]\n",
       "1          b      [1]\n",
       "2          c       []"
      ]
     },
     "execution_count": 9,
     "metadata": {},
     "output_type": "execute_result"
    }
   ],
   "source": [
    "df = tibble(x=factor([\"a\", \"b\"], list(\"abc\")))\n",
    "df >> group_by(f.x, _drop=False) >> group_data()"
   ]
  },
  {
   "cell_type": "code",
   "execution_count": 10,
   "id": "a11f49fc",
   "metadata": {
    "execution": {
     "iopub.execute_input": "2021-07-16T22:28:01.749108Z",
     "iopub.status.busy": "2021-07-16T22:28:01.742401Z",
     "iopub.status.idle": "2021-07-16T22:28:01.861904Z",
     "shell.execute_reply": "2021-07-16T22:28:01.862322Z"
    }
   },
   "outputs": [
    {
     "data": {
      "text/html": [
       "<div>\n",
       "<style scoped>\n",
       "    .dataframe tbody tr th:only-of-type {\n",
       "        vertical-align: middle;\n",
       "    }\n",
       "\n",
       "    .dataframe tbody tr th {\n",
       "        vertical-align: top;\n",
       "    }\n",
       "\n",
       "    .dataframe thead th {\n",
       "        text-align: right;\n",
       "    }\n",
       "</style>\n",
       "<table border=\"1\" class=\"dataframe\">\n",
       "  <thead>\n",
       "    <tr style=\"text-align: right;\">\n",
       "      <th></th>\n",
       "      <th>x</th>\n",
       "      <th>_rows</th>\n",
       "    </tr>\n",
       "  </thead>\n",
       "  <tbody>\n",
       "    <tr>\n",
       "      <th style=\"font-style: italic;\" ></th>\n",
       "      <td style=\"font-style: italic;\" >&lt;category&gt;</td>\n",
       "      <td style=\"font-style: italic;\" >&lt;object&gt;</td>\n",
       "    </tr>\n",
       "    <tr>\n",
       "      <th>0</th>\n",
       "      <td>a</td>\n",
       "      <td>[0]</td>\n",
       "    </tr>\n",
       "    <tr>\n",
       "      <th>1</th>\n",
       "      <td>b</td>\n",
       "      <td>[1]</td>\n",
       "    </tr>\n",
       "  </tbody>\n",
       "</table>\n",
       "</div>\n"
      ],
      "text/plain": [
       "           x    _rows\n",
       "  <category> <object>\n",
       "0          a      [0]\n",
       "1          b      [1]"
      ]
     },
     "execution_count": 10,
     "metadata": {},
     "output_type": "execute_result"
    }
   ],
   "source": [
    "df >> group_by(f.x, _drop=False) >> group_trim() >> group_data()"
   ]
  }
 ],
 "metadata": {
  "kernelspec": {
   "display_name": "Python 3",
   "language": "python",
   "name": "python3"
  },
  "language_info": {
   "codemirror_mode": {
    "name": "ipython",
    "version": 3
   },
   "file_extension": ".py",
   "mimetype": "text/x-python",
   "name": "python",
   "nbconvert_exporter": "python",
   "pygments_lexer": "ipython3",
   "version": "3.9.5"
  }
 },
 "nbformat": 4,
 "nbformat_minor": 5
}
