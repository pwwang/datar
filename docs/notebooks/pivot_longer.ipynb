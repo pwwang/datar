{
 "cells": [
  {
   "cell_type": "code",
   "execution_count": 1,
   "id": "greater-philippines",
   "metadata": {
    "execution": {
     "iopub.execute_input": "2021-04-17T00:54:06.032748Z",
     "iopub.status.busy": "2021-04-17T00:54:06.031112Z",
     "iopub.status.idle": "2021-04-17T00:54:07.129326Z",
     "shell.execute_reply": "2021-04-17T00:54:07.129765Z"
    }
   },
   "outputs": [
    {
     "output_type": "display_data",
     "data": {
      "text/plain": "<IPython.core.display.HTML object>",
      "text/html": "<div style=\"text-align: right; text-style: italic\">Try this notebook on <a target=\"_blank\" href=\"https://mybinder.org/v2/gh/pwwang/datar/93d069f3ca36711fc811c61dcf60e9fc3d1460a5?filepath=docs%2Fnotebooks%2Fpivot_longer.ipynb\">binder</a>.</div>"
     },
     "metadata": {}
    },
    {
     "output_type": "display_data",
     "data": {
      "text/plain": "<IPython.core.display.Markdown object>",
      "text/markdown": "### # pivot_longer  "
     },
     "metadata": {}
    },
    {
     "output_type": "display_data",
     "data": {
      "text/plain": "<IPython.core.display.Markdown object>",
      "text/markdown": "##### \"lengthens\" data, increasing the number of rows and\ndecreasing the number of columns.  \n\nThe row order is a bit different from `tidyr` and `pandas.DataFrame.melt`.  \n&emsp;&emsp;>>> df = tibble(x=f[1:2], y=f[3:4])  \n&emsp;&emsp;>>> pivot_longer(df, f[f.x:f.y])  \n&emsp;&emsp;>>> #    name   value  \n&emsp;&emsp;>>> # 0  x      1  \n&emsp;&emsp;>>> # 1  x      2  \n&emsp;&emsp;>>> # 2  y      3  \n&emsp;&emsp;>>> # 3  y      4  \n\nBut with `tidyr::pivot_longer`, the output will be:  \n&emsp;&emsp;>>> # # A tibble: 4 x 2  \n&emsp;&emsp;>>> # name  value  \n&emsp;&emsp;>>> # <chr> <int>  \n&emsp;&emsp;>>> # 1 x   1  \n&emsp;&emsp;>>> # 2 y   3  \n&emsp;&emsp;>>> # 3 x   2  \n&emsp;&emsp;>>> # 4 y   4  \n\n##### Args:\n&emsp;&emsp;`_data`: A data frame to pivot.  \n&emsp;&emsp;`cols`: Columns to pivot into longer format.  \n&emsp;&emsp;`names_to`: A string specifying the name of the column to create from  \n&emsp;&emsp;&emsp;&emsp;the data stored in the column names of data.  \n&emsp;&emsp;&emsp;&emsp;Can be a character vector, creating multiple columns, if names_sep  \n&emsp;&emsp;&emsp;&emsp;or names_pattern is provided. In this case, there are two special  \n&emsp;&emsp;&emsp;&emsp;values you can take advantage of:  \n\n&emsp;&emsp;&emsp;&emsp;- `None`/`NA`/`NULL` will discard that component of the name.\n\n&emsp;&emsp;&emsp;&emsp;- `.value`/`_value` indicates that component of the name defines\n&emsp;&emsp;&emsp;&emsp;&emsp;&emsp;the name of the column containing the cell values,  \n&emsp;&emsp;&emsp;&emsp;&emsp;&emsp;overriding values_to.  \n\n&emsp;&emsp;&emsp;&emsp;- Different as `tidyr`: With `.value`/`_value`, if there are other\n&emsp;&emsp;&emsp;&emsp;&emsp;&emsp;parts of the names to distinguish the groups, they must be  \n&emsp;&emsp;&emsp;&emsp;&emsp;&emsp;captured. For example, use `r'(\\w)_(\\d)'` to match `'a_1'` and  \n&emsp;&emsp;&emsp;&emsp;&emsp;&emsp;`['.value', NA]` to discard the suffix, instead of use  \n&emsp;&emsp;&emsp;&emsp;&emsp;&emsp;`r'(\\w)_\\d'` to match.  \n\n&emsp;&emsp;`names_prefix`: A regular expression used to remove matching text from  \n&emsp;&emsp;&emsp;&emsp;the start of each variable name.  \n\n&emsp;&emsp;`names_sep`: and  \n&emsp;&emsp;`names_pattern`: If names_to contains multiple values,  \n&emsp;&emsp;&emsp;&emsp;these arguments control how the column name is broken up.  \n&emsp;&emsp;&emsp;&emsp;names_sep takes the same specification as separate(), and  \n&emsp;&emsp;&emsp;&emsp;can either be a numeric vector (specifying positions to break on),  \n&emsp;&emsp;&emsp;&emsp;or a single string (specifying a regular expression to split on).  \n\n&emsp;&emsp;`names_pattern`: takes the same specification as extract(),  \n&emsp;&emsp;&emsp;&emsp;a regular expression containing matching groups (()).  \n\n&emsp;&emsp;`names_ptypes`: and  \n&emsp;&emsp;`values_ptypes`: A list of column name-prototype pairs.  \n&emsp;&emsp;&emsp;&emsp;A prototype (or ptype for short) is a zero-length vector  \n&emsp;&emsp;&emsp;&emsp;(like integer() or numeric()) that defines the type, class, and  \n&emsp;&emsp;&emsp;&emsp;attributes of a vector. Use these arguments if you want to confirm  \n&emsp;&emsp;&emsp;&emsp;that the created columns are the types that you expect.  \n&emsp;&emsp;&emsp;&emsp;Note that if you want to change (instead of confirm) the types  \n&emsp;&emsp;&emsp;&emsp;of specific columns, you should use names_transform or  \n&emsp;&emsp;&emsp;&emsp;values_transform instead.  \n\n&emsp;&emsp;`names_transform`: and  \n&emsp;&emsp;`values_transform`: A list of column name-function pairs.  \n&emsp;&emsp;&emsp;&emsp;Use these arguments if you need to change the types of  \n&emsp;&emsp;&emsp;&emsp;specific columns. For example,  \n&emsp;&emsp;&emsp;&emsp;names_transform = dict(week = as.integer) would convert a  \n&emsp;&emsp;&emsp;&emsp;character variable called week to an integer.  \n&emsp;&emsp;&emsp;&emsp;If not specified, the type of the columns generated from names_to  \n&emsp;&emsp;&emsp;&emsp;will be character, and the type of the variables generated from  \n&emsp;&emsp;&emsp;&emsp;values_to will be the common type of the input columns used to  \n&emsp;&emsp;&emsp;&emsp;generate them.  \n\n&emsp;&emsp;`names_repair`: Not supported yet.  \n&emsp;&emsp;`values_to`: A string specifying the name of the column to create from  \n&emsp;&emsp;&emsp;&emsp;the data stored in cell values. If names_to is a character  \n&emsp;&emsp;&emsp;&emsp;containing the special `.value`/`_value` sentinel, this value  \n&emsp;&emsp;&emsp;&emsp;will be ignored, and the name of the value column will be derived  \n&emsp;&emsp;&emsp;&emsp;from part of the existing column names.  \n\n&emsp;&emsp;`values_drop_na`: If TRUE, will drop rows that contain only NAs in  \n&emsp;&emsp;&emsp;&emsp;the value_to column. This effectively converts explicit missing  \n&emsp;&emsp;&emsp;&emsp;values to implicit missing values, and should generally be used  \n&emsp;&emsp;&emsp;&emsp;only when missing values in data were created by its structure.  \n\n&emsp;&emsp;`names_repair`: treatment of problematic column names:  \n&emsp;&emsp;&emsp;&emsp;- \"minimal\": No name repair or checks, beyond basic existence,\n\n&emsp;&emsp;&emsp;&emsp;- \"unique\": Make sure names are unique and not empty,\n\n&emsp;&emsp;&emsp;&emsp;- \"check_unique\": (default value), no name repair,\n&emsp;&emsp;&emsp;&emsp;&emsp;&emsp;but check they are unique,  \n\n&emsp;&emsp;&emsp;&emsp;- \"universal\": Make the names unique and syntactic\n\n&emsp;&emsp;&emsp;&emsp;- a function: apply custom name repair\n\n&emsp;&emsp;`base0_`: Whether `cols` are 0-based if given by indexes  \n&emsp;&emsp;&emsp;&emsp;If not provided, will use `datar.base.get_option('index.base.0')`  \n\n##### Returns:\n&emsp;&emsp;The pivoted dataframe.  \n"
     },
     "metadata": {}
    }
   ],
   "source": [
    "# https://tidyr.tidyverse.org/reference/pivot_longer.html\n",
    "\n",
    "from datar.datasets import relig_income, billboard, who, anscombe\n",
    "from datar.all import *\n",
    "\n",
    "%run nb_helpers.py\n",
    "nb_header(pivot_longer)"
   ]
  },
  {
   "cell_type": "code",
   "execution_count": 2,
   "id": "classified-rebecca",
   "metadata": {
    "execution": {
     "iopub.execute_input": "2021-04-17T00:54:07.133935Z",
     "iopub.status.busy": "2021-04-17T00:54:07.133416Z",
     "iopub.status.idle": "2021-04-17T00:54:07.150124Z",
     "shell.execute_reply": "2021-04-17T00:54:07.150617Z"
    }
   },
   "outputs": [
    {
     "output_type": "execute_result",
     "data": {
      "text/plain": [
       "                   religion  <$10k  $10-20k  $20-30k  $30-40k  $40-50k  \\\n",
       "0                  Agnostic     27       34       60       81       76   \n",
       "1                   Atheist     12       27       37       52       35   \n",
       "2                  Buddhist     27       21       30       34       33   \n",
       "3                  Catholic    418      617      732      670      638   \n",
       "4        Don’t know/refused     15       14       15       11       10   \n",
       "5          Evangelical Prot    575      869     1064      982      881   \n",
       "6                     Hindu      1        9        7        9       11   \n",
       "7   Historically Black Prot    228      244      236      238      197   \n",
       "8         Jehovah's Witness     20       27       24       24       21   \n",
       "9                    Jewish     19       19       25       25       30   \n",
       "10            Mainline Prot    289      495      619      655      651   \n",
       "11                   Mormon     29       40       48       51       56   \n",
       "12                   Muslim      6        7        9       10        9   \n",
       "13                 Orthodox     13       17       23       32       32   \n",
       "14          Other Christian      9        7       11       13       13   \n",
       "15             Other Faiths     20       33       40       46       49   \n",
       "16    Other World Religions      5        2        3        4        2   \n",
       "17             Unaffiliated    217      299      374      365      341   \n",
       "\n",
       "    $50-75k  $75-100k  $100-150k  >150k  Don't know/refused  \n",
       "0       137       122        109     84                  96  \n",
       "1        70        73         59     74                  76  \n",
       "2        58        62         39     53                  54  \n",
       "3      1116       949        792    633                1489  \n",
       "4        35        21         17     18                 116  \n",
       "5      1486       949        723    414                1529  \n",
       "6        34        47         48     54                  37  \n",
       "7       223       131         81     78                 339  \n",
       "8        30        15         11      6                  37  \n",
       "9        95        69         87    151                 162  \n",
       "10     1107       939        753    634                1328  \n",
       "11      112        85         49     42                  69  \n",
       "12       23        16          8      6                  22  \n",
       "13       47        38         42     46                  73  \n",
       "14       14        18         14     12                  18  \n",
       "15       63        46         40     41                  71  \n",
       "16        7         3          4      4                   8  \n",
       "17      528       407        321    258                 597  "
      ],
      "text/html": "<div>\n<style scoped>\n    .dataframe tbody tr th:only-of-type {\n        vertical-align: middle;\n    }\n\n    .dataframe tbody tr th {\n        vertical-align: top;\n    }\n\n    .dataframe thead th {\n        text-align: right;\n    }\n</style>\n<table border=\"1\" class=\"dataframe\">\n  <thead>\n    <tr style=\"text-align: right;\">\n      <th></th>\n      <th>religion</th>\n      <th>&lt;$10k</th>\n      <th>$10-20k</th>\n      <th>$20-30k</th>\n      <th>$30-40k</th>\n      <th>$40-50k</th>\n      <th>$50-75k</th>\n      <th>$75-100k</th>\n      <th>$100-150k</th>\n      <th>&gt;150k</th>\n      <th>Don't know/refused</th>\n    </tr>\n  </thead>\n  <tbody>\n    <tr>\n      <th>0</th>\n      <td>Agnostic</td>\n      <td>27</td>\n      <td>34</td>\n      <td>60</td>\n      <td>81</td>\n      <td>76</td>\n      <td>137</td>\n      <td>122</td>\n      <td>109</td>\n      <td>84</td>\n      <td>96</td>\n    </tr>\n    <tr>\n      <th>1</th>\n      <td>Atheist</td>\n      <td>12</td>\n      <td>27</td>\n      <td>37</td>\n      <td>52</td>\n      <td>35</td>\n      <td>70</td>\n      <td>73</td>\n      <td>59</td>\n      <td>74</td>\n      <td>76</td>\n    </tr>\n    <tr>\n      <th>2</th>\n      <td>Buddhist</td>\n      <td>27</td>\n      <td>21</td>\n      <td>30</td>\n      <td>34</td>\n      <td>33</td>\n      <td>58</td>\n      <td>62</td>\n      <td>39</td>\n      <td>53</td>\n      <td>54</td>\n    </tr>\n    <tr>\n      <th>3</th>\n      <td>Catholic</td>\n      <td>418</td>\n      <td>617</td>\n      <td>732</td>\n      <td>670</td>\n      <td>638</td>\n      <td>1116</td>\n      <td>949</td>\n      <td>792</td>\n      <td>633</td>\n      <td>1489</td>\n    </tr>\n    <tr>\n      <th>4</th>\n      <td>Don’t know/refused</td>\n      <td>15</td>\n      <td>14</td>\n      <td>15</td>\n      <td>11</td>\n      <td>10</td>\n      <td>35</td>\n      <td>21</td>\n      <td>17</td>\n      <td>18</td>\n      <td>116</td>\n    </tr>\n    <tr>\n      <th>5</th>\n      <td>Evangelical Prot</td>\n      <td>575</td>\n      <td>869</td>\n      <td>1064</td>\n      <td>982</td>\n      <td>881</td>\n      <td>1486</td>\n      <td>949</td>\n      <td>723</td>\n      <td>414</td>\n      <td>1529</td>\n    </tr>\n    <tr>\n      <th>6</th>\n      <td>Hindu</td>\n      <td>1</td>\n      <td>9</td>\n      <td>7</td>\n      <td>9</td>\n      <td>11</td>\n      <td>34</td>\n      <td>47</td>\n      <td>48</td>\n      <td>54</td>\n      <td>37</td>\n    </tr>\n    <tr>\n      <th>7</th>\n      <td>Historically Black Prot</td>\n      <td>228</td>\n      <td>244</td>\n      <td>236</td>\n      <td>238</td>\n      <td>197</td>\n      <td>223</td>\n      <td>131</td>\n      <td>81</td>\n      <td>78</td>\n      <td>339</td>\n    </tr>\n    <tr>\n      <th>8</th>\n      <td>Jehovah's Witness</td>\n      <td>20</td>\n      <td>27</td>\n      <td>24</td>\n      <td>24</td>\n      <td>21</td>\n      <td>30</td>\n      <td>15</td>\n      <td>11</td>\n      <td>6</td>\n      <td>37</td>\n    </tr>\n    <tr>\n      <th>9</th>\n      <td>Jewish</td>\n      <td>19</td>\n      <td>19</td>\n      <td>25</td>\n      <td>25</td>\n      <td>30</td>\n      <td>95</td>\n      <td>69</td>\n      <td>87</td>\n      <td>151</td>\n      <td>162</td>\n    </tr>\n    <tr>\n      <th>10</th>\n      <td>Mainline Prot</td>\n      <td>289</td>\n      <td>495</td>\n      <td>619</td>\n      <td>655</td>\n      <td>651</td>\n      <td>1107</td>\n      <td>939</td>\n      <td>753</td>\n      <td>634</td>\n      <td>1328</td>\n    </tr>\n    <tr>\n      <th>11</th>\n      <td>Mormon</td>\n      <td>29</td>\n      <td>40</td>\n      <td>48</td>\n      <td>51</td>\n      <td>56</td>\n      <td>112</td>\n      <td>85</td>\n      <td>49</td>\n      <td>42</td>\n      <td>69</td>\n    </tr>\n    <tr>\n      <th>12</th>\n      <td>Muslim</td>\n      <td>6</td>\n      <td>7</td>\n      <td>9</td>\n      <td>10</td>\n      <td>9</td>\n      <td>23</td>\n      <td>16</td>\n      <td>8</td>\n      <td>6</td>\n      <td>22</td>\n    </tr>\n    <tr>\n      <th>13</th>\n      <td>Orthodox</td>\n      <td>13</td>\n      <td>17</td>\n      <td>23</td>\n      <td>32</td>\n      <td>32</td>\n      <td>47</td>\n      <td>38</td>\n      <td>42</td>\n      <td>46</td>\n      <td>73</td>\n    </tr>\n    <tr>\n      <th>14</th>\n      <td>Other Christian</td>\n      <td>9</td>\n      <td>7</td>\n      <td>11</td>\n      <td>13</td>\n      <td>13</td>\n      <td>14</td>\n      <td>18</td>\n      <td>14</td>\n      <td>12</td>\n      <td>18</td>\n    </tr>\n    <tr>\n      <th>15</th>\n      <td>Other Faiths</td>\n      <td>20</td>\n      <td>33</td>\n      <td>40</td>\n      <td>46</td>\n      <td>49</td>\n      <td>63</td>\n      <td>46</td>\n      <td>40</td>\n      <td>41</td>\n      <td>71</td>\n    </tr>\n    <tr>\n      <th>16</th>\n      <td>Other World Religions</td>\n      <td>5</td>\n      <td>2</td>\n      <td>3</td>\n      <td>4</td>\n      <td>2</td>\n      <td>7</td>\n      <td>3</td>\n      <td>4</td>\n      <td>4</td>\n      <td>8</td>\n    </tr>\n    <tr>\n      <th>17</th>\n      <td>Unaffiliated</td>\n      <td>217</td>\n      <td>299</td>\n      <td>374</td>\n      <td>365</td>\n      <td>341</td>\n      <td>528</td>\n      <td>407</td>\n      <td>321</td>\n      <td>258</td>\n      <td>597</td>\n    </tr>\n  </tbody>\n</table>\n</div>"
     },
     "metadata": {},
     "execution_count": 2
    }
   ],
   "source": [
    "relig_income"
   ]
  },
  {
   "cell_type": "code",
   "execution_count": 3,
   "id": "scenic-values",
   "metadata": {
    "execution": {
     "iopub.execute_input": "2021-04-17T00:54:07.159955Z",
     "iopub.status.busy": "2021-04-17T00:54:07.158719Z",
     "iopub.status.idle": "2021-04-17T00:54:07.236264Z",
     "shell.execute_reply": "2021-04-17T00:54:07.235737Z"
    }
   },
   "outputs": [
    {
     "output_type": "execute_result",
     "data": {
      "text/plain": [
       "                  religion              income  count\n",
       "0                 Agnostic               <$10k     27\n",
       "1                  Atheist               <$10k     12\n",
       "2                 Buddhist               <$10k     27\n",
       "3                 Catholic               <$10k    418\n",
       "4       Don’t know/refused               <$10k     15\n",
       "..                     ...                 ...    ...\n",
       "175               Orthodox  Don't know/refused     73\n",
       "176        Other Christian  Don't know/refused     18\n",
       "177           Other Faiths  Don't know/refused     71\n",
       "178  Other World Religions  Don't know/refused      8\n",
       "179           Unaffiliated  Don't know/refused    597\n",
       "\n",
       "[180 rows x 3 columns]"
      ],
      "text/html": "<div>\n<style scoped>\n    .dataframe tbody tr th:only-of-type {\n        vertical-align: middle;\n    }\n\n    .dataframe tbody tr th {\n        vertical-align: top;\n    }\n\n    .dataframe thead th {\n        text-align: right;\n    }\n</style>\n<table border=\"1\" class=\"dataframe\">\n  <thead>\n    <tr style=\"text-align: right;\">\n      <th></th>\n      <th>religion</th>\n      <th>income</th>\n      <th>count</th>\n    </tr>\n  </thead>\n  <tbody>\n    <tr>\n      <th>0</th>\n      <td>Agnostic</td>\n      <td>&lt;$10k</td>\n      <td>27</td>\n    </tr>\n    <tr>\n      <th>1</th>\n      <td>Atheist</td>\n      <td>&lt;$10k</td>\n      <td>12</td>\n    </tr>\n    <tr>\n      <th>2</th>\n      <td>Buddhist</td>\n      <td>&lt;$10k</td>\n      <td>27</td>\n    </tr>\n    <tr>\n      <th>3</th>\n      <td>Catholic</td>\n      <td>&lt;$10k</td>\n      <td>418</td>\n    </tr>\n    <tr>\n      <th>4</th>\n      <td>Don’t know/refused</td>\n      <td>&lt;$10k</td>\n      <td>15</td>\n    </tr>\n    <tr>\n      <th>...</th>\n      <td>...</td>\n      <td>...</td>\n      <td>...</td>\n    </tr>\n    <tr>\n      <th>175</th>\n      <td>Orthodox</td>\n      <td>Don't know/refused</td>\n      <td>73</td>\n    </tr>\n    <tr>\n      <th>176</th>\n      <td>Other Christian</td>\n      <td>Don't know/refused</td>\n      <td>18</td>\n    </tr>\n    <tr>\n      <th>177</th>\n      <td>Other Faiths</td>\n      <td>Don't know/refused</td>\n      <td>71</td>\n    </tr>\n    <tr>\n      <th>178</th>\n      <td>Other World Religions</td>\n      <td>Don't know/refused</td>\n      <td>8</td>\n    </tr>\n    <tr>\n      <th>179</th>\n      <td>Unaffiliated</td>\n      <td>Don't know/refused</td>\n      <td>597</td>\n    </tr>\n  </tbody>\n</table>\n<p>180 rows × 3 columns</p>\n</div>"
     },
     "metadata": {},
     "execution_count": 3
    }
   ],
   "source": [
    "relig_income >> \\\n",
    "  pivot_longer(~f.religion, names_to=\"income\", values_to=\"count\")"
   ]
  },
  {
   "cell_type": "code",
   "execution_count": 4,
   "id": "downtown-infrared",
   "metadata": {
    "execution": {
     "iopub.execute_input": "2021-04-17T00:54:07.242107Z",
     "iopub.status.busy": "2021-04-17T00:54:07.241502Z",
     "iopub.status.idle": "2021-04-17T00:54:07.269389Z",
     "shell.execute_reply": "2021-04-17T00:54:07.268984Z"
    }
   },
   "outputs": [
    {
     "output_type": "execute_result",
     "data": {
      "text/plain": [
       "               artist                    track date.entered  wk1   wk2   wk3  \\\n",
       "0               2 Pac  Baby Don't Cry (Keep...   2000-02-26   87  82.0  72.0   \n",
       "1             2Ge+her  The Hardest Part Of ...   2000-09-02   91  87.0  92.0   \n",
       "2        3 Doors Down               Kryptonite   2000-04-08   81  70.0  68.0   \n",
       "3        3 Doors Down                    Loser   2000-10-21   76  76.0  72.0   \n",
       "4            504 Boyz            Wobble Wobble   2000-04-15   57  34.0  25.0   \n",
       "..                ...                      ...          ...  ...   ...   ...   \n",
       "312       Yankee Grey     Another Nine Minutes   2000-04-29   86  83.0  77.0   \n",
       "313  Yearwood, Trisha          Real Live Woman   2000-04-01   85  83.0  83.0   \n",
       "314   Ying Yang Twins  Whistle While You Tw...   2000-03-18   95  94.0  91.0   \n",
       "315     Zombie Nation            Kernkraft 400   2000-09-02   99  99.0   NaN   \n",
       "316   matchbox twenty                     Bent   2000-04-29   60  37.0  29.0   \n",
       "\n",
       "      wk4   wk5   wk6   wk7  ...  wk67  wk68  wk69  wk70  wk71  wk72  wk73  \\\n",
       "0    77.0  87.0  94.0  99.0  ...   NaN   NaN   NaN   NaN   NaN   NaN   NaN   \n",
       "1     NaN   NaN   NaN   NaN  ...   NaN   NaN   NaN   NaN   NaN   NaN   NaN   \n",
       "2    67.0  66.0  57.0  54.0  ...   NaN   NaN   NaN   NaN   NaN   NaN   NaN   \n",
       "3    69.0  67.0  65.0  55.0  ...   NaN   NaN   NaN   NaN   NaN   NaN   NaN   \n",
       "4    17.0  17.0  31.0  36.0  ...   NaN   NaN   NaN   NaN   NaN   NaN   NaN   \n",
       "..    ...   ...   ...   ...  ...   ...   ...   ...   ...   ...   ...   ...   \n",
       "312  74.0  83.0  79.0  88.0  ...   NaN   NaN   NaN   NaN   NaN   NaN   NaN   \n",
       "313  82.0  81.0  91.0   NaN  ...   NaN   NaN   NaN   NaN   NaN   NaN   NaN   \n",
       "314  85.0  84.0  78.0  74.0  ...   NaN   NaN   NaN   NaN   NaN   NaN   NaN   \n",
       "315   NaN   NaN   NaN   NaN  ...   NaN   NaN   NaN   NaN   NaN   NaN   NaN   \n",
       "316  24.0  22.0  21.0  18.0  ...   NaN   NaN   NaN   NaN   NaN   NaN   NaN   \n",
       "\n",
       "     wk74  wk75  wk76  \n",
       "0     NaN   NaN   NaN  \n",
       "1     NaN   NaN   NaN  \n",
       "2     NaN   NaN   NaN  \n",
       "3     NaN   NaN   NaN  \n",
       "4     NaN   NaN   NaN  \n",
       "..    ...   ...   ...  \n",
       "312   NaN   NaN   NaN  \n",
       "313   NaN   NaN   NaN  \n",
       "314   NaN   NaN   NaN  \n",
       "315   NaN   NaN   NaN  \n",
       "316   NaN   NaN   NaN  \n",
       "\n",
       "[317 rows x 79 columns]"
      ],
      "text/html": "<div>\n<style scoped>\n    .dataframe tbody tr th:only-of-type {\n        vertical-align: middle;\n    }\n\n    .dataframe tbody tr th {\n        vertical-align: top;\n    }\n\n    .dataframe thead th {\n        text-align: right;\n    }\n</style>\n<table border=\"1\" class=\"dataframe\">\n  <thead>\n    <tr style=\"text-align: right;\">\n      <th></th>\n      <th>artist</th>\n      <th>track</th>\n      <th>date.entered</th>\n      <th>wk1</th>\n      <th>wk2</th>\n      <th>wk3</th>\n      <th>wk4</th>\n      <th>wk5</th>\n      <th>wk6</th>\n      <th>wk7</th>\n      <th>...</th>\n      <th>wk67</th>\n      <th>wk68</th>\n      <th>wk69</th>\n      <th>wk70</th>\n      <th>wk71</th>\n      <th>wk72</th>\n      <th>wk73</th>\n      <th>wk74</th>\n      <th>wk75</th>\n      <th>wk76</th>\n    </tr>\n  </thead>\n  <tbody>\n    <tr>\n      <th>0</th>\n      <td>2 Pac</td>\n      <td>Baby Don't Cry (Keep...</td>\n      <td>2000-02-26</td>\n      <td>87</td>\n      <td>82.0</td>\n      <td>72.0</td>\n      <td>77.0</td>\n      <td>87.0</td>\n      <td>94.0</td>\n      <td>99.0</td>\n      <td>...</td>\n      <td>NaN</td>\n      <td>NaN</td>\n      <td>NaN</td>\n      <td>NaN</td>\n      <td>NaN</td>\n      <td>NaN</td>\n      <td>NaN</td>\n      <td>NaN</td>\n      <td>NaN</td>\n      <td>NaN</td>\n    </tr>\n    <tr>\n      <th>1</th>\n      <td>2Ge+her</td>\n      <td>The Hardest Part Of ...</td>\n      <td>2000-09-02</td>\n      <td>91</td>\n      <td>87.0</td>\n      <td>92.0</td>\n      <td>NaN</td>\n      <td>NaN</td>\n      <td>NaN</td>\n      <td>NaN</td>\n      <td>...</td>\n      <td>NaN</td>\n      <td>NaN</td>\n      <td>NaN</td>\n      <td>NaN</td>\n      <td>NaN</td>\n      <td>NaN</td>\n      <td>NaN</td>\n      <td>NaN</td>\n      <td>NaN</td>\n      <td>NaN</td>\n    </tr>\n    <tr>\n      <th>2</th>\n      <td>3 Doors Down</td>\n      <td>Kryptonite</td>\n      <td>2000-04-08</td>\n      <td>81</td>\n      <td>70.0</td>\n      <td>68.0</td>\n      <td>67.0</td>\n      <td>66.0</td>\n      <td>57.0</td>\n      <td>54.0</td>\n      <td>...</td>\n      <td>NaN</td>\n      <td>NaN</td>\n      <td>NaN</td>\n      <td>NaN</td>\n      <td>NaN</td>\n      <td>NaN</td>\n      <td>NaN</td>\n      <td>NaN</td>\n      <td>NaN</td>\n      <td>NaN</td>\n    </tr>\n    <tr>\n      <th>3</th>\n      <td>3 Doors Down</td>\n      <td>Loser</td>\n      <td>2000-10-21</td>\n      <td>76</td>\n      <td>76.0</td>\n      <td>72.0</td>\n      <td>69.0</td>\n      <td>67.0</td>\n      <td>65.0</td>\n      <td>55.0</td>\n      <td>...</td>\n      <td>NaN</td>\n      <td>NaN</td>\n      <td>NaN</td>\n      <td>NaN</td>\n      <td>NaN</td>\n      <td>NaN</td>\n      <td>NaN</td>\n      <td>NaN</td>\n      <td>NaN</td>\n      <td>NaN</td>\n    </tr>\n    <tr>\n      <th>4</th>\n      <td>504 Boyz</td>\n      <td>Wobble Wobble</td>\n      <td>2000-04-15</td>\n      <td>57</td>\n      <td>34.0</td>\n      <td>25.0</td>\n      <td>17.0</td>\n      <td>17.0</td>\n      <td>31.0</td>\n      <td>36.0</td>\n      <td>...</td>\n      <td>NaN</td>\n      <td>NaN</td>\n      <td>NaN</td>\n      <td>NaN</td>\n      <td>NaN</td>\n      <td>NaN</td>\n      <td>NaN</td>\n      <td>NaN</td>\n      <td>NaN</td>\n      <td>NaN</td>\n    </tr>\n    <tr>\n      <th>...</th>\n      <td>...</td>\n      <td>...</td>\n      <td>...</td>\n      <td>...</td>\n      <td>...</td>\n      <td>...</td>\n      <td>...</td>\n      <td>...</td>\n      <td>...</td>\n      <td>...</td>\n      <td>...</td>\n      <td>...</td>\n      <td>...</td>\n      <td>...</td>\n      <td>...</td>\n      <td>...</td>\n      <td>...</td>\n      <td>...</td>\n      <td>...</td>\n      <td>...</td>\n      <td>...</td>\n    </tr>\n    <tr>\n      <th>312</th>\n      <td>Yankee Grey</td>\n      <td>Another Nine Minutes</td>\n      <td>2000-04-29</td>\n      <td>86</td>\n      <td>83.0</td>\n      <td>77.0</td>\n      <td>74.0</td>\n      <td>83.0</td>\n      <td>79.0</td>\n      <td>88.0</td>\n      <td>...</td>\n      <td>NaN</td>\n      <td>NaN</td>\n      <td>NaN</td>\n      <td>NaN</td>\n      <td>NaN</td>\n      <td>NaN</td>\n      <td>NaN</td>\n      <td>NaN</td>\n      <td>NaN</td>\n      <td>NaN</td>\n    </tr>\n    <tr>\n      <th>313</th>\n      <td>Yearwood, Trisha</td>\n      <td>Real Live Woman</td>\n      <td>2000-04-01</td>\n      <td>85</td>\n      <td>83.0</td>\n      <td>83.0</td>\n      <td>82.0</td>\n      <td>81.0</td>\n      <td>91.0</td>\n      <td>NaN</td>\n      <td>...</td>\n      <td>NaN</td>\n      <td>NaN</td>\n      <td>NaN</td>\n      <td>NaN</td>\n      <td>NaN</td>\n      <td>NaN</td>\n      <td>NaN</td>\n      <td>NaN</td>\n      <td>NaN</td>\n      <td>NaN</td>\n    </tr>\n    <tr>\n      <th>314</th>\n      <td>Ying Yang Twins</td>\n      <td>Whistle While You Tw...</td>\n      <td>2000-03-18</td>\n      <td>95</td>\n      <td>94.0</td>\n      <td>91.0</td>\n      <td>85.0</td>\n      <td>84.0</td>\n      <td>78.0</td>\n      <td>74.0</td>\n      <td>...</td>\n      <td>NaN</td>\n      <td>NaN</td>\n      <td>NaN</td>\n      <td>NaN</td>\n      <td>NaN</td>\n      <td>NaN</td>\n      <td>NaN</td>\n      <td>NaN</td>\n      <td>NaN</td>\n      <td>NaN</td>\n    </tr>\n    <tr>\n      <th>315</th>\n      <td>Zombie Nation</td>\n      <td>Kernkraft 400</td>\n      <td>2000-09-02</td>\n      <td>99</td>\n      <td>99.0</td>\n      <td>NaN</td>\n      <td>NaN</td>\n      <td>NaN</td>\n      <td>NaN</td>\n      <td>NaN</td>\n      <td>...</td>\n      <td>NaN</td>\n      <td>NaN</td>\n      <td>NaN</td>\n      <td>NaN</td>\n      <td>NaN</td>\n      <td>NaN</td>\n      <td>NaN</td>\n      <td>NaN</td>\n      <td>NaN</td>\n      <td>NaN</td>\n    </tr>\n    <tr>\n      <th>316</th>\n      <td>matchbox twenty</td>\n      <td>Bent</td>\n      <td>2000-04-29</td>\n      <td>60</td>\n      <td>37.0</td>\n      <td>29.0</td>\n      <td>24.0</td>\n      <td>22.0</td>\n      <td>21.0</td>\n      <td>18.0</td>\n      <td>...</td>\n      <td>NaN</td>\n      <td>NaN</td>\n      <td>NaN</td>\n      <td>NaN</td>\n      <td>NaN</td>\n      <td>NaN</td>\n      <td>NaN</td>\n      <td>NaN</td>\n      <td>NaN</td>\n      <td>NaN</td>\n    </tr>\n  </tbody>\n</table>\n<p>317 rows × 79 columns</p>\n</div>"
     },
     "metadata": {},
     "execution_count": 4
    }
   ],
   "source": [
    "billboard"
   ]
  },
  {
   "cell_type": "code",
   "execution_count": 5,
   "id": "polar-encoding",
   "metadata": {
    "execution": {
     "iopub.execute_input": "2021-04-17T00:54:07.277170Z",
     "iopub.status.busy": "2021-04-17T00:54:07.276634Z",
     "iopub.status.idle": "2021-04-17T00:54:07.323344Z",
     "shell.execute_reply": "2021-04-17T00:54:07.319960Z"
    }
   },
   "outputs": [
    {
     "output_type": "execute_result",
     "data": {
      "text/plain": [
       "             artist date.entered                    track week  rank\n",
       "0             2 Pac   2000-02-26  Baby Don't Cry (Keep...    1  87.0\n",
       "1           2Ge+her   2000-09-02  The Hardest Part Of ...    1  91.0\n",
       "2      3 Doors Down   2000-04-08               Kryptonite    1  81.0\n",
       "3      3 Doors Down   2000-10-21                    Loser    1  76.0\n",
       "4          504 Boyz   2000-04-15            Wobble Wobble    1  57.0\n",
       "...             ...          ...                      ...  ...   ...\n",
       "19716         Creed   1999-09-11                   Higher   63  50.0\n",
       "19833      Lonestar   1999-06-05                   Amazed   63  45.0\n",
       "20033         Creed   1999-09-11                   Higher   64  50.0\n",
       "20150      Lonestar   1999-06-05                   Amazed   64  50.0\n",
       "20350         Creed   1999-09-11                   Higher   65  49.0\n",
       "\n",
       "[5307 rows x 5 columns]"
      ],
      "text/html": "<div>\n<style scoped>\n    .dataframe tbody tr th:only-of-type {\n        vertical-align: middle;\n    }\n\n    .dataframe tbody tr th {\n        vertical-align: top;\n    }\n\n    .dataframe thead th {\n        text-align: right;\n    }\n</style>\n<table border=\"1\" class=\"dataframe\">\n  <thead>\n    <tr style=\"text-align: right;\">\n      <th></th>\n      <th>artist</th>\n      <th>date.entered</th>\n      <th>track</th>\n      <th>week</th>\n      <th>rank</th>\n    </tr>\n  </thead>\n  <tbody>\n    <tr>\n      <th>0</th>\n      <td>2 Pac</td>\n      <td>2000-02-26</td>\n      <td>Baby Don't Cry (Keep...</td>\n      <td>1</td>\n      <td>87.0</td>\n    </tr>\n    <tr>\n      <th>1</th>\n      <td>2Ge+her</td>\n      <td>2000-09-02</td>\n      <td>The Hardest Part Of ...</td>\n      <td>1</td>\n      <td>91.0</td>\n    </tr>\n    <tr>\n      <th>2</th>\n      <td>3 Doors Down</td>\n      <td>2000-04-08</td>\n      <td>Kryptonite</td>\n      <td>1</td>\n      <td>81.0</td>\n    </tr>\n    <tr>\n      <th>3</th>\n      <td>3 Doors Down</td>\n      <td>2000-10-21</td>\n      <td>Loser</td>\n      <td>1</td>\n      <td>76.0</td>\n    </tr>\n    <tr>\n      <th>4</th>\n      <td>504 Boyz</td>\n      <td>2000-04-15</td>\n      <td>Wobble Wobble</td>\n      <td>1</td>\n      <td>57.0</td>\n    </tr>\n    <tr>\n      <th>...</th>\n      <td>...</td>\n      <td>...</td>\n      <td>...</td>\n      <td>...</td>\n      <td>...</td>\n    </tr>\n    <tr>\n      <th>19716</th>\n      <td>Creed</td>\n      <td>1999-09-11</td>\n      <td>Higher</td>\n      <td>63</td>\n      <td>50.0</td>\n    </tr>\n    <tr>\n      <th>19833</th>\n      <td>Lonestar</td>\n      <td>1999-06-05</td>\n      <td>Amazed</td>\n      <td>63</td>\n      <td>45.0</td>\n    </tr>\n    <tr>\n      <th>20033</th>\n      <td>Creed</td>\n      <td>1999-09-11</td>\n      <td>Higher</td>\n      <td>64</td>\n      <td>50.0</td>\n    </tr>\n    <tr>\n      <th>20150</th>\n      <td>Lonestar</td>\n      <td>1999-06-05</td>\n      <td>Amazed</td>\n      <td>64</td>\n      <td>50.0</td>\n    </tr>\n    <tr>\n      <th>20350</th>\n      <td>Creed</td>\n      <td>1999-09-11</td>\n      <td>Higher</td>\n      <td>65</td>\n      <td>49.0</td>\n    </tr>\n  </tbody>\n</table>\n<p>5307 rows × 5 columns</p>\n</div>"
     },
     "metadata": {},
     "execution_count": 5
    }
   ],
   "source": [
    "billboard >> \\\n",
    " pivot_longer(\n",
    "   cols = starts_with(\"wk\"),\n",
    "   names_to = \"week\",\n",
    "   names_prefix = \"wk\",\n",
    "   values_to = \"rank\",\n",
    "   values_drop_na = TRUE\n",
    " )"
   ]
  },
  {
   "cell_type": "code",
   "execution_count": 6,
   "id": "educated-trauma",
   "metadata": {
    "execution": {
     "iopub.execute_input": "2021-04-17T00:54:07.365763Z",
     "iopub.status.busy": "2021-04-17T00:54:07.365081Z",
     "iopub.status.idle": "2021-04-17T00:54:09.160508Z",
     "shell.execute_reply": "2021-04-17T00:54:09.160899Z"
    }
   },
   "outputs": [
    {
     "output_type": "execute_result",
     "data": {
      "text/plain": [
       "            country iso2 iso3  year diagnosis gender  age  count\n",
       "0       Afghanistan   AF  AFG  1980        sp      m  014    NaN\n",
       "1       Afghanistan   AF  AFG  1981        sp      m  014    NaN\n",
       "2       Afghanistan   AF  AFG  1982        sp      m  014    NaN\n",
       "3       Afghanistan   AF  AFG  1983        sp      m  014    NaN\n",
       "4       Afghanistan   AF  AFG  1984        sp      m  014    NaN\n",
       "...             ...  ...  ...   ...       ...    ...  ...    ...\n",
       "405435     Zimbabwe   ZW  ZWE  2009       rel      f   65    NaN\n",
       "405436     Zimbabwe   ZW  ZWE  2010       rel      f   65    NaN\n",
       "405437     Zimbabwe   ZW  ZWE  2011       rel      f   65    NaN\n",
       "405438     Zimbabwe   ZW  ZWE  2012       rel      f   65    NaN\n",
       "405439     Zimbabwe   ZW  ZWE  2013       rel      f   65  725.0\n",
       "\n",
       "[405440 rows x 8 columns]"
      ],
      "text/html": "<div>\n<style scoped>\n    .dataframe tbody tr th:only-of-type {\n        vertical-align: middle;\n    }\n\n    .dataframe tbody tr th {\n        vertical-align: top;\n    }\n\n    .dataframe thead th {\n        text-align: right;\n    }\n</style>\n<table border=\"1\" class=\"dataframe\">\n  <thead>\n    <tr style=\"text-align: right;\">\n      <th></th>\n      <th>country</th>\n      <th>iso2</th>\n      <th>iso3</th>\n      <th>year</th>\n      <th>diagnosis</th>\n      <th>gender</th>\n      <th>age</th>\n      <th>count</th>\n    </tr>\n  </thead>\n  <tbody>\n    <tr>\n      <th>0</th>\n      <td>Afghanistan</td>\n      <td>AF</td>\n      <td>AFG</td>\n      <td>1980</td>\n      <td>sp</td>\n      <td>m</td>\n      <td>014</td>\n      <td>NaN</td>\n    </tr>\n    <tr>\n      <th>1</th>\n      <td>Afghanistan</td>\n      <td>AF</td>\n      <td>AFG</td>\n      <td>1981</td>\n      <td>sp</td>\n      <td>m</td>\n      <td>014</td>\n      <td>NaN</td>\n    </tr>\n    <tr>\n      <th>2</th>\n      <td>Afghanistan</td>\n      <td>AF</td>\n      <td>AFG</td>\n      <td>1982</td>\n      <td>sp</td>\n      <td>m</td>\n      <td>014</td>\n      <td>NaN</td>\n    </tr>\n    <tr>\n      <th>3</th>\n      <td>Afghanistan</td>\n      <td>AF</td>\n      <td>AFG</td>\n      <td>1983</td>\n      <td>sp</td>\n      <td>m</td>\n      <td>014</td>\n      <td>NaN</td>\n    </tr>\n    <tr>\n      <th>4</th>\n      <td>Afghanistan</td>\n      <td>AF</td>\n      <td>AFG</td>\n      <td>1984</td>\n      <td>sp</td>\n      <td>m</td>\n      <td>014</td>\n      <td>NaN</td>\n    </tr>\n    <tr>\n      <th>...</th>\n      <td>...</td>\n      <td>...</td>\n      <td>...</td>\n      <td>...</td>\n      <td>...</td>\n      <td>...</td>\n      <td>...</td>\n      <td>...</td>\n    </tr>\n    <tr>\n      <th>405435</th>\n      <td>Zimbabwe</td>\n      <td>ZW</td>\n      <td>ZWE</td>\n      <td>2009</td>\n      <td>rel</td>\n      <td>f</td>\n      <td>65</td>\n      <td>NaN</td>\n    </tr>\n    <tr>\n      <th>405436</th>\n      <td>Zimbabwe</td>\n      <td>ZW</td>\n      <td>ZWE</td>\n      <td>2010</td>\n      <td>rel</td>\n      <td>f</td>\n      <td>65</td>\n      <td>NaN</td>\n    </tr>\n    <tr>\n      <th>405437</th>\n      <td>Zimbabwe</td>\n      <td>ZW</td>\n      <td>ZWE</td>\n      <td>2011</td>\n      <td>rel</td>\n      <td>f</td>\n      <td>65</td>\n      <td>NaN</td>\n    </tr>\n    <tr>\n      <th>405438</th>\n      <td>Zimbabwe</td>\n      <td>ZW</td>\n      <td>ZWE</td>\n      <td>2012</td>\n      <td>rel</td>\n      <td>f</td>\n      <td>65</td>\n      <td>NaN</td>\n    </tr>\n    <tr>\n      <th>405439</th>\n      <td>Zimbabwe</td>\n      <td>ZW</td>\n      <td>ZWE</td>\n      <td>2013</td>\n      <td>rel</td>\n      <td>f</td>\n      <td>65</td>\n      <td>725.0</td>\n    </tr>\n  </tbody>\n</table>\n<p>405440 rows × 8 columns</p>\n</div>"
     },
     "metadata": {},
     "execution_count": 6
    }
   ],
   "source": [
    "who >> pivot_longer(\n",
    "  cols = f[f.new_sp_m014:f.newrel_f65],\n",
    "  names_to = c(\"diagnosis\", \"gender\", \"age\"),\n",
    "  names_pattern = r\"new_?(.*)_(.)(.*)\",\n",
    "  values_to = \"count\"\n",
    ")"
   ]
  },
  {
   "cell_type": "code",
   "execution_count": 7,
   "id": "assisted-attraction",
   "metadata": {
    "execution": {
     "iopub.execute_input": "2021-04-17T00:54:09.173335Z",
     "iopub.status.busy": "2021-04-17T00:54:09.172105Z",
     "iopub.status.idle": "2021-04-17T00:54:09.176861Z",
     "shell.execute_reply": "2021-04-17T00:54:09.176477Z"
    }
   },
   "outputs": [
    {
     "output_type": "execute_result",
     "data": {
      "text/plain": [
       "    x1  x2  x3  x4     y1    y2     y3     y4\n",
       "0   10  10  10   8   8.04  9.14   7.46   6.58\n",
       "1    8   8   8   8   6.95  8.14   6.77   5.76\n",
       "2   13  13  13   8   7.58  8.74  12.74   7.71\n",
       "3    9   9   9   8   8.81  8.77   7.11   8.84\n",
       "4   11  11  11   8   8.33  9.26   7.81   8.47\n",
       "5   14  14  14   8   9.96  8.10   8.84   7.04\n",
       "6    6   6   6   8   7.24  6.13   6.08   5.25\n",
       "7    4   4   4  19   4.26  3.10   5.39  12.50\n",
       "8   12  12  12   8  10.84  9.13   8.15   5.56\n",
       "9    7   7   7   8   4.82  7.26   6.42   7.91\n",
       "10   5   5   5   8   5.68  4.74   5.73   6.89"
      ],
      "text/html": "<div>\n<style scoped>\n    .dataframe tbody tr th:only-of-type {\n        vertical-align: middle;\n    }\n\n    .dataframe tbody tr th {\n        vertical-align: top;\n    }\n\n    .dataframe thead th {\n        text-align: right;\n    }\n</style>\n<table border=\"1\" class=\"dataframe\">\n  <thead>\n    <tr style=\"text-align: right;\">\n      <th></th>\n      <th>x1</th>\n      <th>x2</th>\n      <th>x3</th>\n      <th>x4</th>\n      <th>y1</th>\n      <th>y2</th>\n      <th>y3</th>\n      <th>y4</th>\n    </tr>\n  </thead>\n  <tbody>\n    <tr>\n      <th>0</th>\n      <td>10</td>\n      <td>10</td>\n      <td>10</td>\n      <td>8</td>\n      <td>8.04</td>\n      <td>9.14</td>\n      <td>7.46</td>\n      <td>6.58</td>\n    </tr>\n    <tr>\n      <th>1</th>\n      <td>8</td>\n      <td>8</td>\n      <td>8</td>\n      <td>8</td>\n      <td>6.95</td>\n      <td>8.14</td>\n      <td>6.77</td>\n      <td>5.76</td>\n    </tr>\n    <tr>\n      <th>2</th>\n      <td>13</td>\n      <td>13</td>\n      <td>13</td>\n      <td>8</td>\n      <td>7.58</td>\n      <td>8.74</td>\n      <td>12.74</td>\n      <td>7.71</td>\n    </tr>\n    <tr>\n      <th>3</th>\n      <td>9</td>\n      <td>9</td>\n      <td>9</td>\n      <td>8</td>\n      <td>8.81</td>\n      <td>8.77</td>\n      <td>7.11</td>\n      <td>8.84</td>\n    </tr>\n    <tr>\n      <th>4</th>\n      <td>11</td>\n      <td>11</td>\n      <td>11</td>\n      <td>8</td>\n      <td>8.33</td>\n      <td>9.26</td>\n      <td>7.81</td>\n      <td>8.47</td>\n    </tr>\n    <tr>\n      <th>5</th>\n      <td>14</td>\n      <td>14</td>\n      <td>14</td>\n      <td>8</td>\n      <td>9.96</td>\n      <td>8.10</td>\n      <td>8.84</td>\n      <td>7.04</td>\n    </tr>\n    <tr>\n      <th>6</th>\n      <td>6</td>\n      <td>6</td>\n      <td>6</td>\n      <td>8</td>\n      <td>7.24</td>\n      <td>6.13</td>\n      <td>6.08</td>\n      <td>5.25</td>\n    </tr>\n    <tr>\n      <th>7</th>\n      <td>4</td>\n      <td>4</td>\n      <td>4</td>\n      <td>19</td>\n      <td>4.26</td>\n      <td>3.10</td>\n      <td>5.39</td>\n      <td>12.50</td>\n    </tr>\n    <tr>\n      <th>8</th>\n      <td>12</td>\n      <td>12</td>\n      <td>12</td>\n      <td>8</td>\n      <td>10.84</td>\n      <td>9.13</td>\n      <td>8.15</td>\n      <td>5.56</td>\n    </tr>\n    <tr>\n      <th>9</th>\n      <td>7</td>\n      <td>7</td>\n      <td>7</td>\n      <td>8</td>\n      <td>4.82</td>\n      <td>7.26</td>\n      <td>6.42</td>\n      <td>7.91</td>\n    </tr>\n    <tr>\n      <th>10</th>\n      <td>5</td>\n      <td>5</td>\n      <td>5</td>\n      <td>8</td>\n      <td>5.68</td>\n      <td>4.74</td>\n      <td>5.73</td>\n      <td>6.89</td>\n    </tr>\n  </tbody>\n</table>\n</div>"
     },
     "metadata": {},
     "execution_count": 7
    }
   ],
   "source": [
    "anscombe"
   ]
  },
  {
   "cell_type": "code",
   "execution_count": 8,
   "id": "bearing-thinking",
   "metadata": {
    "execution": {
     "iopub.execute_input": "2021-04-17T00:54:09.183242Z",
     "iopub.status.busy": "2021-04-17T00:54:09.182719Z",
     "iopub.status.idle": "2021-04-17T00:54:09.242512Z",
     "shell.execute_reply": "2021-04-17T00:54:09.241804Z"
    }
   },
   "outputs": [
    {
     "output_type": "execute_result",
     "data": {
      "text/plain": [
       "   set     x      y\n",
       "0    1  10.0   8.04\n",
       "1    2  10.0   9.14\n",
       "2    3  10.0   7.46\n",
       "3    4   8.0   6.58\n",
       "4    1   8.0   6.95\n",
       "5    2   8.0   8.14\n",
       "6    3   8.0   6.77\n",
       "7    4   8.0   5.76\n",
       "8    1  13.0   7.58\n",
       "9    2  13.0   8.74\n",
       "10   3  13.0  12.74\n",
       "11   4   8.0   7.71\n",
       "12   1   9.0   8.81\n",
       "13   2   9.0   8.77\n",
       "14   3   9.0   7.11\n",
       "15   4   8.0   8.84\n",
       "16   1  11.0   8.33\n",
       "17   2  11.0   9.26\n",
       "18   3  11.0   7.81\n",
       "19   4   8.0   8.47\n",
       "20   1  14.0   9.96\n",
       "21   2  14.0   8.10\n",
       "22   3  14.0   8.84\n",
       "23   4   8.0   7.04\n",
       "24   1   6.0   7.24\n",
       "25   2   6.0   6.13\n",
       "26   3   6.0   6.08\n",
       "27   4   8.0   5.25\n",
       "28   1   4.0   4.26\n",
       "29   2   4.0   3.10\n",
       "30   3   4.0   5.39\n",
       "31   4  19.0  12.50\n",
       "32   1  12.0  10.84\n",
       "33   2  12.0   9.13\n",
       "34   3  12.0   8.15\n",
       "35   4   8.0   5.56\n",
       "36   1   7.0   4.82\n",
       "37   2   7.0   7.26\n",
       "38   3   7.0   6.42\n",
       "39   4   8.0   7.91\n",
       "40   1   5.0   5.68\n",
       "41   2   5.0   4.74\n",
       "42   3   5.0   5.73\n",
       "43   4   8.0   6.89"
      ],
      "text/html": "<div>\n<style scoped>\n    .dataframe tbody tr th:only-of-type {\n        vertical-align: middle;\n    }\n\n    .dataframe tbody tr th {\n        vertical-align: top;\n    }\n\n    .dataframe thead th {\n        text-align: right;\n    }\n</style>\n<table border=\"1\" class=\"dataframe\">\n  <thead>\n    <tr style=\"text-align: right;\">\n      <th></th>\n      <th>set</th>\n      <th>x</th>\n      <th>y</th>\n    </tr>\n  </thead>\n  <tbody>\n    <tr>\n      <th>0</th>\n      <td>1</td>\n      <td>10.0</td>\n      <td>8.04</td>\n    </tr>\n    <tr>\n      <th>1</th>\n      <td>2</td>\n      <td>10.0</td>\n      <td>9.14</td>\n    </tr>\n    <tr>\n      <th>2</th>\n      <td>3</td>\n      <td>10.0</td>\n      <td>7.46</td>\n    </tr>\n    <tr>\n      <th>3</th>\n      <td>4</td>\n      <td>8.0</td>\n      <td>6.58</td>\n    </tr>\n    <tr>\n      <th>4</th>\n      <td>1</td>\n      <td>8.0</td>\n      <td>6.95</td>\n    </tr>\n    <tr>\n      <th>5</th>\n      <td>2</td>\n      <td>8.0</td>\n      <td>8.14</td>\n    </tr>\n    <tr>\n      <th>6</th>\n      <td>3</td>\n      <td>8.0</td>\n      <td>6.77</td>\n    </tr>\n    <tr>\n      <th>7</th>\n      <td>4</td>\n      <td>8.0</td>\n      <td>5.76</td>\n    </tr>\n    <tr>\n      <th>8</th>\n      <td>1</td>\n      <td>13.0</td>\n      <td>7.58</td>\n    </tr>\n    <tr>\n      <th>9</th>\n      <td>2</td>\n      <td>13.0</td>\n      <td>8.74</td>\n    </tr>\n    <tr>\n      <th>10</th>\n      <td>3</td>\n      <td>13.0</td>\n      <td>12.74</td>\n    </tr>\n    <tr>\n      <th>11</th>\n      <td>4</td>\n      <td>8.0</td>\n      <td>7.71</td>\n    </tr>\n    <tr>\n      <th>12</th>\n      <td>1</td>\n      <td>9.0</td>\n      <td>8.81</td>\n    </tr>\n    <tr>\n      <th>13</th>\n      <td>2</td>\n      <td>9.0</td>\n      <td>8.77</td>\n    </tr>\n    <tr>\n      <th>14</th>\n      <td>3</td>\n      <td>9.0</td>\n      <td>7.11</td>\n    </tr>\n    <tr>\n      <th>15</th>\n      <td>4</td>\n      <td>8.0</td>\n      <td>8.84</td>\n    </tr>\n    <tr>\n      <th>16</th>\n      <td>1</td>\n      <td>11.0</td>\n      <td>8.33</td>\n    </tr>\n    <tr>\n      <th>17</th>\n      <td>2</td>\n      <td>11.0</td>\n      <td>9.26</td>\n    </tr>\n    <tr>\n      <th>18</th>\n      <td>3</td>\n      <td>11.0</td>\n      <td>7.81</td>\n    </tr>\n    <tr>\n      <th>19</th>\n      <td>4</td>\n      <td>8.0</td>\n      <td>8.47</td>\n    </tr>\n    <tr>\n      <th>20</th>\n      <td>1</td>\n      <td>14.0</td>\n      <td>9.96</td>\n    </tr>\n    <tr>\n      <th>21</th>\n      <td>2</td>\n      <td>14.0</td>\n      <td>8.10</td>\n    </tr>\n    <tr>\n      <th>22</th>\n      <td>3</td>\n      <td>14.0</td>\n      <td>8.84</td>\n    </tr>\n    <tr>\n      <th>23</th>\n      <td>4</td>\n      <td>8.0</td>\n      <td>7.04</td>\n    </tr>\n    <tr>\n      <th>24</th>\n      <td>1</td>\n      <td>6.0</td>\n      <td>7.24</td>\n    </tr>\n    <tr>\n      <th>25</th>\n      <td>2</td>\n      <td>6.0</td>\n      <td>6.13</td>\n    </tr>\n    <tr>\n      <th>26</th>\n      <td>3</td>\n      <td>6.0</td>\n      <td>6.08</td>\n    </tr>\n    <tr>\n      <th>27</th>\n      <td>4</td>\n      <td>8.0</td>\n      <td>5.25</td>\n    </tr>\n    <tr>\n      <th>28</th>\n      <td>1</td>\n      <td>4.0</td>\n      <td>4.26</td>\n    </tr>\n    <tr>\n      <th>29</th>\n      <td>2</td>\n      <td>4.0</td>\n      <td>3.10</td>\n    </tr>\n    <tr>\n      <th>30</th>\n      <td>3</td>\n      <td>4.0</td>\n      <td>5.39</td>\n    </tr>\n    <tr>\n      <th>31</th>\n      <td>4</td>\n      <td>19.0</td>\n      <td>12.50</td>\n    </tr>\n    <tr>\n      <th>32</th>\n      <td>1</td>\n      <td>12.0</td>\n      <td>10.84</td>\n    </tr>\n    <tr>\n      <th>33</th>\n      <td>2</td>\n      <td>12.0</td>\n      <td>9.13</td>\n    </tr>\n    <tr>\n      <th>34</th>\n      <td>3</td>\n      <td>12.0</td>\n      <td>8.15</td>\n    </tr>\n    <tr>\n      <th>35</th>\n      <td>4</td>\n      <td>8.0</td>\n      <td>5.56</td>\n    </tr>\n    <tr>\n      <th>36</th>\n      <td>1</td>\n      <td>7.0</td>\n      <td>4.82</td>\n    </tr>\n    <tr>\n      <th>37</th>\n      <td>2</td>\n      <td>7.0</td>\n      <td>7.26</td>\n    </tr>\n    <tr>\n      <th>38</th>\n      <td>3</td>\n      <td>7.0</td>\n      <td>6.42</td>\n    </tr>\n    <tr>\n      <th>39</th>\n      <td>4</td>\n      <td>8.0</td>\n      <td>7.91</td>\n    </tr>\n    <tr>\n      <th>40</th>\n      <td>1</td>\n      <td>5.0</td>\n      <td>5.68</td>\n    </tr>\n    <tr>\n      <th>41</th>\n      <td>2</td>\n      <td>5.0</td>\n      <td>4.74</td>\n    </tr>\n    <tr>\n      <th>42</th>\n      <td>3</td>\n      <td>5.0</td>\n      <td>5.73</td>\n    </tr>\n    <tr>\n      <th>43</th>\n      <td>4</td>\n      <td>8.0</td>\n      <td>6.89</td>\n    </tr>\n  </tbody>\n</table>\n</div>"
     },
     "metadata": {},
     "execution_count": 8
    }
   ],
   "source": [
    "anscombe >> \\\n",
    " pivot_longer(everything(),\n",
    "   names_to = c(\".value\", \"set\"),\n",
    "   names_pattern = r\"(.)(.)\"\n",
    " )"
   ]
  },
  {
   "cell_type": "code",
   "execution_count": null,
   "id": "worst-grave",
   "metadata": {},
   "outputs": [],
   "source": []
  }
 ],
 "metadata": {
  "kernelspec": {
   "display_name": "Python 3",
   "language": "python",
   "name": "python3"
  },
  "language_info": {
   "codemirror_mode": {
    "name": "ipython",
    "version": 3
   },
   "file_extension": ".py",
   "mimetype": "text/x-python",
   "name": "python",
   "nbconvert_exporter": "python",
   "pygments_lexer": "ipython3",
   "version": "3.7.8"
  }
 },
 "nbformat": 4,
 "nbformat_minor": 5
}