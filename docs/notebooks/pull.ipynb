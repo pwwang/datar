{
 "cells": [
  {
   "cell_type": "code",
   "execution_count": 1,
   "id": "radio-madonna",
   "metadata": {
    "execution": {
     "iopub.execute_input": "2021-07-16T22:27:37.483231Z",
     "iopub.status.busy": "2021-07-16T22:27:37.482643Z",
     "iopub.status.idle": "2021-07-16T22:27:38.290463Z",
     "shell.execute_reply": "2021-07-16T22:27:38.290843Z"
    }
   },
   "outputs": [
    {
     "data": {
      "text/html": [
       "<div style=\"text-align: right; text-style: italic\">Try this notebook on <a target=\"_blank\" href=\"https://mybinder.org/v2/gh/pwwang/datar/dev?filepath=docs%2Fnotebooks%2Fpull.ipynb\">binder</a>.</div>"
      ],
      "text/plain": [
       "<IPython.core.display.HTML object>"
      ]
     },
     "metadata": {},
     "output_type": "display_data"
    },
    {
     "data": {
      "text/markdown": [
       "### <div style=\"background-color: #EEE; padding: 5px 0 8px 0\">★ pull</div>"
      ],
      "text/plain": [
       "<IPython.core.display.Markdown object>"
      ]
     },
     "metadata": {},
     "output_type": "display_data"
    },
    {
     "data": {
      "text/markdown": [
       "##### Pull a series or a dataframe from a dataframe\n",
       "\n",
       "##### Args:\n",
       "&emsp;&emsp;`_data`: The dataframe  \n",
       "&emsp;&emsp;`var`: The column to pull, either the name or the index  \n",
       "&emsp;&emsp;`name`: The name of the pulled value  \n",
       "&emsp;&emsp;&emsp;&emsp;- If `to` is frame, or the value pulled is data frame, it will be\n",
       "&emsp;&emsp;&emsp;&emsp;&emsp;&emsp;the column names  \n",
       "\n",
       "&emsp;&emsp;&emsp;&emsp;- If `to` is series, it will be the series name. If multiple names\n",
       "&emsp;&emsp;&emsp;&emsp;&emsp;&emsp;are given, only the first name will be used.  \n",
       "\n",
       "&emsp;&emsp;&emsp;&emsp;- If `to` is series, but value pulled is a data frame, then a\n",
       "&emsp;&emsp;&emsp;&emsp;&emsp;&emsp;dictionary of series with the series names as keys or given `name`  \n",
       "&emsp;&emsp;&emsp;&emsp;&emsp;&emsp;as keys.  \n",
       "\n",
       "&emsp;&emsp;`to`: Type of data to return.  \n",
       "&emsp;&emsp;&emsp;&emsp;Only works when pulling `a` for name `a$b`  \n",
       "\n",
       "&emsp;&emsp;&emsp;&emsp;- series: Return a pandas Series object\n",
       "&emsp;&emsp;&emsp;&emsp;&emsp;&emsp;Group information will be lost  \n",
       "&emsp;&emsp;&emsp;&emsp;&emsp;&emsp;If pulled value is a dataframe, it will return a dict of series,  \n",
       "&emsp;&emsp;&emsp;&emsp;&emsp;&emsp;with the series names or the `name` provided.  \n",
       "\n",
       "&emsp;&emsp;&emsp;&emsp;- array: Return a numpy.ndarray object\n",
       "\n",
       "&emsp;&emsp;&emsp;&emsp;- frame: Return a DataFrame with that column\n",
       "\n",
       "&emsp;&emsp;&emsp;&emsp;- list: Return a python list\n",
       "\n",
       "&emsp;&emsp;&emsp;&emsp;- dict: Return a dict with `name` as keys and pulled value as values\n",
       "&emsp;&emsp;&emsp;&emsp;&emsp;&emsp;Only a single column is allowed to pull  \n",
       "\n",
       "&emsp;&emsp;&emsp;&emsp;- If not provided: `series` when pulled data has only one columns.\n",
       "&emsp;&emsp;&emsp;&emsp;&emsp;&emsp;`dict` if `name` provided and has the same length as the pulled  \n",
       "&emsp;&emsp;&emsp;&emsp;&emsp;&emsp;single column. Otherwise `frame`.  \n",
       "\n",
       "##### Returns:\n",
       "&emsp;&emsp;The data according to `to`  \n"
      ],
      "text/plain": [
       "<IPython.core.display.Markdown object>"
      ]
     },
     "metadata": {},
     "output_type": "display_data"
    }
   ],
   "source": [
    "# https://dplyr.tidyverse.org/reference/pull.html\n",
    "%run nb_helpers.py\n",
    "\n",
    "from datar.datasets import starwars, mtcars\n",
    "from datar.all import *\n",
    "\n",
    "nb_header(pull)"
   ]
  },
  {
   "cell_type": "code",
   "execution_count": 2,
   "id": "brilliant-developer",
   "metadata": {
    "execution": {
     "iopub.execute_input": "2021-07-16T22:27:38.298237Z",
     "iopub.status.busy": "2021-07-16T22:27:38.297348Z",
     "iopub.status.idle": "2021-07-16T22:27:38.304964Z",
     "shell.execute_reply": "2021-07-16T22:27:38.303969Z"
    }
   },
   "outputs": [
    {
     "data": {
      "text/plain": [
       "Mazda RX4              4\n",
       "Mazda RX4 Wag          4\n",
       "Datsun 710             1\n",
       "Hornet 4 Drive         1\n",
       "Hornet Sportabout      2\n",
       "Valiant                1\n",
       "Duster 360             4\n",
       "Merc 240D              2\n",
       "Merc 230               2\n",
       "Merc 280               4\n",
       "Merc 280C              4\n",
       "Merc 450SE             3\n",
       "Merc 450SL             3\n",
       "Merc 450SLC            3\n",
       "Cadillac Fleetwood     4\n",
       "Lincoln Continental    4\n",
       "Chrysler Imperial      4\n",
       "Fiat 128               1\n",
       "Honda Civic            2\n",
       "Toyota Corolla         1\n",
       "Toyota Corona          1\n",
       "Dodge Challenger       2\n",
       "AMC Javelin            2\n",
       "Camaro Z28             4\n",
       "Pontiac Firebird       2\n",
       "Fiat X1-9              1\n",
       "Porsche 914-2          2\n",
       "Lotus Europa           2\n",
       "Ford Pantera L         4\n",
       "Ferrari Dino           6\n",
       "Maserati Bora          8\n",
       "Volvo 142E             2\n",
       "Name: carb, dtype: int64"
      ]
     },
     "execution_count": 2,
     "metadata": {},
     "output_type": "execute_result"
    }
   ],
   "source": [
    "mtcars >> pull(-1)"
   ]
  },
  {
   "cell_type": "code",
   "execution_count": 3,
   "id": "national-association",
   "metadata": {
    "execution": {
     "iopub.execute_input": "2021-07-16T22:27:38.311180Z",
     "iopub.status.busy": "2021-07-16T22:27:38.310492Z",
     "iopub.status.idle": "2021-07-16T22:27:38.314920Z",
     "shell.execute_reply": "2021-07-16T22:27:38.315327Z"
    }
   },
   "outputs": [
    {
     "data": {
      "text/plain": [
       "[4,\n",
       " 4,\n",
       " 1,\n",
       " 1,\n",
       " 2,\n",
       " 1,\n",
       " 4,\n",
       " 2,\n",
       " 2,\n",
       " 4,\n",
       " 4,\n",
       " 3,\n",
       " 3,\n",
       " 3,\n",
       " 4,\n",
       " 4,\n",
       " 4,\n",
       " 1,\n",
       " 2,\n",
       " 1,\n",
       " 1,\n",
       " 2,\n",
       " 2,\n",
       " 4,\n",
       " 2,\n",
       " 1,\n",
       " 2,\n",
       " 2,\n",
       " 4,\n",
       " 6,\n",
       " 8,\n",
       " 2]"
      ]
     },
     "execution_count": 3,
     "metadata": {},
     "output_type": "execute_result"
    }
   ],
   "source": [
    "mtcars >> pull(-1, to='list')"
   ]
  },
  {
   "cell_type": "code",
   "execution_count": 4,
   "id": "known-premium",
   "metadata": {
    "execution": {
     "iopub.execute_input": "2021-07-16T22:27:38.323917Z",
     "iopub.status.busy": "2021-07-16T22:27:38.323107Z",
     "iopub.status.idle": "2021-07-16T22:27:38.326904Z",
     "shell.execute_reply": "2021-07-16T22:27:38.327254Z"
    }
   },
   "outputs": [
    {
     "data": {
      "text/plain": [
       "Mazda RX4              6\n",
       "Mazda RX4 Wag          6\n",
       "Datsun 710             4\n",
       "Hornet 4 Drive         6\n",
       "Hornet Sportabout      8\n",
       "Valiant                6\n",
       "Duster 360             8\n",
       "Merc 240D              4\n",
       "Merc 230               4\n",
       "Merc 280               6\n",
       "Merc 280C              6\n",
       "Merc 450SE             8\n",
       "Merc 450SL             8\n",
       "Merc 450SLC            8\n",
       "Cadillac Fleetwood     8\n",
       "Lincoln Continental    8\n",
       "Chrysler Imperial      8\n",
       "Fiat 128               4\n",
       "Honda Civic            4\n",
       "Toyota Corolla         4\n",
       "Toyota Corona          4\n",
       "Dodge Challenger       8\n",
       "AMC Javelin            8\n",
       "Camaro Z28             8\n",
       "Pontiac Firebird       8\n",
       "Fiat X1-9              4\n",
       "Porsche 914-2          4\n",
       "Lotus Europa           4\n",
       "Ford Pantera L         8\n",
       "Ferrari Dino           6\n",
       "Maserati Bora          8\n",
       "Volvo 142E             4\n",
       "Name: cyl, dtype: int64"
      ]
     },
     "execution_count": 4,
     "metadata": {},
     "output_type": "execute_result"
    }
   ],
   "source": [
    "mtcars >> pull(1)"
   ]
  },
  {
   "cell_type": "code",
   "execution_count": 5,
   "id": "suspended-cooler",
   "metadata": {
    "execution": {
     "iopub.execute_input": "2021-07-16T22:27:38.347039Z",
     "iopub.status.busy": "2021-07-16T22:27:38.345756Z",
     "iopub.status.idle": "2021-07-16T22:27:38.358557Z",
     "shell.execute_reply": "2021-07-16T22:27:38.357248Z"
    }
   },
   "outputs": [
    {
     "data": {
      "text/plain": [
       "Mazda RX4              6\n",
       "Mazda RX4 Wag          6\n",
       "Datsun 710             4\n",
       "Hornet 4 Drive         6\n",
       "Hornet Sportabout      8\n",
       "Valiant                6\n",
       "Duster 360             8\n",
       "Merc 240D              4\n",
       "Merc 230               4\n",
       "Merc 280               6\n",
       "Merc 280C              6\n",
       "Merc 450SE             8\n",
       "Merc 450SL             8\n",
       "Merc 450SLC            8\n",
       "Cadillac Fleetwood     8\n",
       "Lincoln Continental    8\n",
       "Chrysler Imperial      8\n",
       "Fiat 128               4\n",
       "Honda Civic            4\n",
       "Toyota Corolla         4\n",
       "Toyota Corona          4\n",
       "Dodge Challenger       8\n",
       "AMC Javelin            8\n",
       "Camaro Z28             8\n",
       "Pontiac Firebird       8\n",
       "Fiat X1-9              4\n",
       "Porsche 914-2          4\n",
       "Lotus Europa           4\n",
       "Ford Pantera L         8\n",
       "Ferrari Dino           6\n",
       "Maserati Bora          8\n",
       "Volvo 142E             4\n",
       "Name: cyl, dtype: int64"
      ]
     },
     "execution_count": 5,
     "metadata": {},
     "output_type": "execute_result"
    }
   ],
   "source": [
    "mtcars >> pull(f.cyl)"
   ]
  },
  {
   "cell_type": "code",
   "execution_count": 6,
   "id": "iraqi-shaft",
   "metadata": {
    "execution": {
     "iopub.execute_input": "2021-07-16T22:27:38.372685Z",
     "iopub.status.busy": "2021-07-16T22:27:38.371837Z",
     "iopub.status.idle": "2021-07-16T22:27:38.546249Z",
     "shell.execute_reply": "2021-07-16T22:27:38.545748Z"
    }
   },
   "outputs": [
    {
     "data": {
      "text/plain": [
       "0    10\n",
       "1    18\n",
       "2    24\n",
       "3    28\n",
       "4    30\n",
       "5    30\n",
       "6    28\n",
       "7    24\n",
       "8    18\n",
       "9    10\n",
       "Name: z, dtype: int64"
      ]
     },
     "execution_count": 6,
     "metadata": {},
     "output_type": "execute_result"
    }
   ],
   "source": [
    "df = tibble(x=range(1, 11), y=range(10, 0, -1))\n",
    "df >> mutate(z=f.x*f.y) >> pull()"
   ]
  },
  {
   "cell_type": "code",
   "execution_count": 7,
   "id": "danish-assignment",
   "metadata": {
    "execution": {
     "iopub.execute_input": "2021-07-16T22:27:38.556438Z",
     "iopub.status.busy": "2021-07-16T22:27:38.555726Z",
     "iopub.status.idle": "2021-07-16T22:27:38.559884Z",
     "shell.execute_reply": "2021-07-16T22:27:38.559114Z"
    }
   },
   "outputs": [
    {
     "data": {
      "text/plain": [
       "{'Luke Skywalker': 172.0,\n",
       " 'C-3PO': 167.0,\n",
       " 'R2-D2': 96.0,\n",
       " 'Darth Vader': 202.0,\n",
       " 'Leia Organa': 150.0,\n",
       " 'Owen Lars': 178.0,\n",
       " 'Beru Whitesun lars': 165.0,\n",
       " 'R5-D4': 97.0,\n",
       " 'Biggs Darklighter': 183.0,\n",
       " 'Obi-Wan Kenobi': 182.0,\n",
       " 'Anakin Skywalker': 188.0,\n",
       " 'Wilhuff Tarkin': 180.0,\n",
       " 'Chewbacca': 228.0,\n",
       " 'Han Solo': 180.0,\n",
       " 'Greedo': 173.0,\n",
       " 'Jabba Desilijic Tiure': 175.0,\n",
       " 'Wedge Antilles': 170.0,\n",
       " 'Jek Tono Porkins': 180.0,\n",
       " 'Yoda': 66.0,\n",
       " 'Palpatine': 170.0,\n",
       " 'Boba Fett': 183.0,\n",
       " 'IG-88': 200.0,\n",
       " 'Bossk': 190.0,\n",
       " 'Lando Calrissian': 177.0,\n",
       " 'Lobot': 175.0,\n",
       " 'Ackbar': 180.0,\n",
       " 'Mon Mothma': 150.0,\n",
       " 'Arvel Crynyd': nan,\n",
       " 'Wicket Systri Warrick': 88.0,\n",
       " 'Nien Nunb': 160.0,\n",
       " 'Qui-Gon Jinn': 193.0,\n",
       " 'Nute Gunray': 191.0,\n",
       " 'Finis Valorum': 170.0,\n",
       " 'Jar Jar Binks': 196.0,\n",
       " 'Roos Tarpals': 224.0,\n",
       " 'Rugor Nass': 206.0,\n",
       " 'Ric Olié': 183.0,\n",
       " 'Watto': 137.0,\n",
       " 'Sebulba': 112.0,\n",
       " 'Quarsh Panaka': 183.0,\n",
       " 'Shmi Skywalker': 163.0,\n",
       " 'Darth Maul': 175.0,\n",
       " 'Bib Fortuna': 180.0,\n",
       " 'Ayla Secura': 178.0,\n",
       " 'Dud Bolt': 94.0,\n",
       " 'Gasgano': 122.0,\n",
       " 'Ben Quadinaros': 163.0,\n",
       " 'Mace Windu': 188.0,\n",
       " 'Ki-Adi-Mundi': 198.0,\n",
       " 'Kit Fisto': 196.0,\n",
       " 'Eeth Koth': 171.0,\n",
       " 'Adi Gallia': 184.0,\n",
       " 'Saesee Tiin': 188.0,\n",
       " 'Yarael Poof': 264.0,\n",
       " 'Plo Koon': 188.0,\n",
       " 'Mas Amedda': 196.0,\n",
       " 'Gregar Typho': 185.0,\n",
       " 'Cordé': 157.0,\n",
       " 'Cliegg Lars': 183.0,\n",
       " 'Poggle the Lesser': 183.0,\n",
       " 'Luminara Unduli': 170.0,\n",
       " 'Barriss Offee': 166.0,\n",
       " 'Dormé': 165.0,\n",
       " 'Dooku': 193.0,\n",
       " 'Bail Prestor Organa': 191.0,\n",
       " 'Jango Fett': 183.0,\n",
       " 'Zam Wesell': 168.0,\n",
       " 'Dexter Jettster': 198.0,\n",
       " 'Lama Su': 229.0,\n",
       " 'Taun We': 213.0,\n",
       " 'Jocasta Nu': 167.0,\n",
       " 'Ratts Tyerell': 79.0,\n",
       " 'R4-P17': 96.0,\n",
       " 'Wat Tambor': 193.0,\n",
       " 'San Hill': 191.0,\n",
       " 'Shaak Ti': 178.0,\n",
       " 'Grievous': 216.0,\n",
       " 'Tarfful': 234.0,\n",
       " 'Raymus Antilles': 188.0,\n",
       " 'Sly Moore': 178.0,\n",
       " 'Tion Medon': 206.0,\n",
       " 'Finn': nan,\n",
       " 'Rey': nan,\n",
       " 'Poe Dameron': nan,\n",
       " 'BB8': nan,\n",
       " 'Captain Phasma': nan,\n",
       " 'Padmé Amidala': 165.0}"
      ]
     },
     "execution_count": 7,
     "metadata": {},
     "output_type": "execute_result"
    }
   ],
   "source": [
    "starwars >> pull(f.height, f.name)"
   ]
  }
 ],
 "metadata": {
  "kernelspec": {
   "display_name": "Python 3",
   "language": "python",
   "name": "python3"
  },
  "language_info": {
   "codemirror_mode": {
    "name": "ipython",
    "version": 3
   },
   "file_extension": ".py",
   "mimetype": "text/x-python",
   "name": "python",
   "nbconvert_exporter": "python",
   "pygments_lexer": "ipython3",
   "version": "3.9.5"
  }
 },
 "nbformat": 4,
 "nbformat_minor": 5
}
