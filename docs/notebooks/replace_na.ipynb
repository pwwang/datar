{
 "cells": [
  {
   "cell_type": "code",
   "execution_count": 1,
   "id": "chief-detective",
   "metadata": {
    "execution": {
     "iopub.execute_input": "2021-04-17T00:54:52.117870Z",
     "iopub.status.busy": "2021-04-17T00:54:52.117093Z",
     "iopub.status.idle": "2021-04-17T00:54:52.753317Z",
     "shell.execute_reply": "2021-04-17T00:54:52.752737Z"
    }
   },
   "outputs": [
    {
     "output_type": "display_data",
     "data": {
      "text/plain": "<IPython.core.display.HTML object>",
      "text/html": "<div style=\"text-align: right; text-style: italic\">Try this notebook on <a target=\"_blank\" href=\"https://mybinder.org/v2/gh/pwwang/datar/93d069f3ca36711fc811c61dcf60e9fc3d1460a5?filepath=docs%2Fnotebooks%2Freplace_na.ipynb\">binder</a>.</div>"
     },
     "metadata": {}
    },
    {
     "output_type": "display_data",
     "data": {
      "text/plain": "<IPython.core.display.Markdown object>",
      "text/markdown": "### # replace_na  "
     },
     "metadata": {}
    },
    {
     "output_type": "display_data",
     "data": {
      "text/plain": "<IPython.core.display.Markdown object>",
      "text/markdown": "##### Replace NA with a value\n\nThis function can be also used not as a verb. As a function called as  \nan argument in a verb, data is passed implicitly. Then one could  \npass data_or_replace as the data to replace.  \n\n##### Args:\n&emsp;&emsp;`data`: The data piped in  \n&emsp;&emsp;`data_or_replace`: When called as argument of a verb, this is the  \n&emsp;&emsp;&emsp;&emsp;data to replace. Otherwise this is the replacement.  \n\n&emsp;&emsp;`replace`: The value to replace with  \n&emsp;&emsp;&emsp;&emsp;Can only be a scalar or dict for data frame.  \n&emsp;&emsp;&emsp;&emsp;So replace NA with a list is not supported yet.  \n\n##### Returns:\n&emsp;&emsp;Corresponding data with NAs replaced  \n"
     },
     "metadata": {}
    }
   ],
   "source": [
    "# https://tidyr.tidyverse.org/reference/replace_na.html\n",
    "\n",
    "from datar.all import *\n",
    "\n",
    "%run nb_helpers.py\n",
    "nb_header(replace_na)"
   ]
  },
  {
   "cell_type": "code",
   "execution_count": 2,
   "id": "federal-webster",
   "metadata": {
    "execution": {
     "iopub.execute_input": "2021-04-17T00:54:52.762369Z",
     "iopub.status.busy": "2021-04-17T00:54:52.761342Z",
     "iopub.status.idle": "2021-04-17T00:54:52.809051Z",
     "shell.execute_reply": "2021-04-17T00:54:52.809466Z"
    }
   },
   "outputs": [
    {
     "output_type": "execute_result",
     "data": {
      "text/plain": [
       "     x        y\n",
       "0  1.0        a\n",
       "1  2.0  unknown\n",
       "2  0.0        b"
      ],
      "text/html": "<div>\n<style scoped>\n    .dataframe tbody tr th:only-of-type {\n        vertical-align: middle;\n    }\n\n    .dataframe tbody tr th {\n        vertical-align: top;\n    }\n\n    .dataframe thead th {\n        text-align: right;\n    }\n</style>\n<table border=\"1\" class=\"dataframe\">\n  <thead>\n    <tr style=\"text-align: right;\">\n      <th></th>\n      <th>x</th>\n      <th>y</th>\n    </tr>\n  </thead>\n  <tbody>\n    <tr>\n      <th>0</th>\n      <td>1.0</td>\n      <td>a</td>\n    </tr>\n    <tr>\n      <th>1</th>\n      <td>2.0</td>\n      <td>unknown</td>\n    </tr>\n    <tr>\n      <th>2</th>\n      <td>0.0</td>\n      <td>b</td>\n    </tr>\n  </tbody>\n</table>\n</div>"
     },
     "metadata": {},
     "execution_count": 2
    }
   ],
   "source": [
    "df = tibble(x = c(1, 2, NA), y = c(\"a\", NA, \"b\"))\n",
    "df >> replace_na(dict(x = 0, y = \"unknown\"))"
   ]
  },
  {
   "cell_type": "code",
   "execution_count": 3,
   "id": "improved-slope",
   "metadata": {
    "execution": {
     "iopub.execute_input": "2021-04-17T00:54:52.817740Z",
     "iopub.status.busy": "2021-04-17T00:54:52.817238Z",
     "iopub.status.idle": "2021-04-17T00:54:52.835826Z",
     "shell.execute_reply": "2021-04-17T00:54:52.835424Z"
    }
   },
   "outputs": [
    {
     "output_type": "execute_result",
     "data": {
      "text/plain": [
       "     x    y\n",
       "0  1.0    a\n",
       "1  2.0  NaN\n",
       "2  0.0    b"
      ],
      "text/html": "<div>\n<style scoped>\n    .dataframe tbody tr th:only-of-type {\n        vertical-align: middle;\n    }\n\n    .dataframe tbody tr th {\n        vertical-align: top;\n    }\n\n    .dataframe thead th {\n        text-align: right;\n    }\n</style>\n<table border=\"1\" class=\"dataframe\">\n  <thead>\n    <tr style=\"text-align: right;\">\n      <th></th>\n      <th>x</th>\n      <th>y</th>\n    </tr>\n  </thead>\n  <tbody>\n    <tr>\n      <th>0</th>\n      <td>1.0</td>\n      <td>a</td>\n    </tr>\n    <tr>\n      <th>1</th>\n      <td>2.0</td>\n      <td>NaN</td>\n    </tr>\n    <tr>\n      <th>2</th>\n      <td>0.0</td>\n      <td>b</td>\n    </tr>\n  </tbody>\n</table>\n</div>"
     },
     "metadata": {},
     "execution_count": 3
    }
   ],
   "source": [
    "df >> mutate(x = replace_na(f.x, 0))"
   ]
  },
  {
   "cell_type": "code",
   "execution_count": 4,
   "id": "sunrise-surgeon",
   "metadata": {
    "execution": {
     "iopub.execute_input": "2021-04-17T00:54:52.842841Z",
     "iopub.status.busy": "2021-04-17T00:54:52.842144Z",
     "iopub.status.idle": "2021-04-17T00:54:52.845527Z",
     "shell.execute_reply": "2021-04-17T00:54:52.844978Z"
    }
   },
   "outputs": [
    {
     "output_type": "execute_result",
     "data": {
      "text/plain": [
       "0    1.0\n",
       "1    2.0\n",
       "2    0.0\n",
       "Name: x, dtype: float64"
      ]
     },
     "metadata": {},
     "execution_count": 4
    }
   ],
   "source": [
    "df.x >> replace_na(0)"
   ]
  },
  {
   "cell_type": "code",
   "execution_count": 5,
   "id": "neutral-chicken",
   "metadata": {
    "execution": {
     "iopub.execute_input": "2021-04-17T00:54:52.852587Z",
     "iopub.status.busy": "2021-04-17T00:54:52.851822Z",
     "iopub.status.idle": "2021-04-17T00:54:52.856048Z",
     "shell.execute_reply": "2021-04-17T00:54:52.855454Z"
    }
   },
   "outputs": [
    {
     "output_type": "execute_result",
     "data": {
      "text/plain": [
       "0          a\n",
       "1    unknown\n",
       "2          b\n",
       "Name: y, dtype: object"
      ]
     },
     "metadata": {},
     "execution_count": 5
    }
   ],
   "source": [
    "df.y >> replace_na(\"unknown\")"
   ]
  },
  {
   "cell_type": "code",
   "execution_count": 6,
   "id": "foreign-myanmar",
   "metadata": {
    "execution": {
     "iopub.execute_input": "2021-04-17T00:54:52.859712Z",
     "iopub.status.busy": "2021-04-17T00:54:52.859183Z",
     "iopub.status.idle": "2021-04-17T00:54:52.861140Z",
     "shell.execute_reply": "2021-04-17T00:54:52.861672Z"
    }
   },
   "outputs": [
    {
     "output_type": "execute_result",
     "data": {
      "text/plain": [
       "                                              z\n",
       "0                               [1, 2, 3, 4, 5]\n",
       "1                                             5\n",
       "2  [10, 11, 12, 13, 14, 15, 16, 17, 18, 19, 20]"
      ],
      "text/html": "<div>\n<style scoped>\n    .dataframe tbody tr th:only-of-type {\n        vertical-align: middle;\n    }\n\n    .dataframe tbody tr th {\n        vertical-align: top;\n    }\n\n    .dataframe thead th {\n        text-align: right;\n    }\n</style>\n<table border=\"1\" class=\"dataframe\">\n  <thead>\n    <tr style=\"text-align: right;\">\n      <th></th>\n      <th>z</th>\n    </tr>\n  </thead>\n  <tbody>\n    <tr>\n      <th>0</th>\n      <td>[1, 2, 3, 4, 5]</td>\n    </tr>\n    <tr>\n      <th>1</th>\n      <td>5</td>\n    </tr>\n    <tr>\n      <th>2</th>\n      <td>[10, 11, 12, 13, 14, 15, 16, 17, 18, 19, 20]</td>\n    </tr>\n  </tbody>\n</table>\n</div>"
     },
     "metadata": {},
     "execution_count": 6
    }
   ],
   "source": [
    "df_list = tibble(z = [seq(1,5), NULL, seq(10,20)])\n",
    "df_list >> replace_na({'z': 5}) # replace with a list not supported yet"
   ]
  }
 ],
 "metadata": {
  "kernelspec": {
   "display_name": "Python 3",
   "language": "python",
   "name": "python3"
  },
  "language_info": {
   "codemirror_mode": {
    "name": "ipython",
    "version": 3
   },
   "file_extension": ".py",
   "mimetype": "text/x-python",
   "name": "python",
   "nbconvert_exporter": "python",
   "pygments_lexer": "ipython3",
   "version": "3.7.8"
  }
 },
 "nbformat": 4,
 "nbformat_minor": 5
}