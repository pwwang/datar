{
 "cells": [
  {
   "cell_type": "code",
   "execution_count": 1,
   "id": "ca9d87cf",
   "metadata": {
    "execution": {
     "iopub.execute_input": "2021-07-16T22:28:02.908562Z",
     "iopub.status.busy": "2021-07-16T22:28:02.907945Z",
     "iopub.status.idle": "2021-07-16T22:28:03.847521Z",
     "shell.execute_reply": "2021-07-16T22:28:03.848746Z"
    }
   },
   "outputs": [
    {
     "data": {
      "text/html": [
       "<div style=\"text-align: right; text-style: italic\">Try this notebook on <a target=\"_blank\" href=\"https://mybinder.org/v2/gh/pwwang/datar/dev?filepath=docs%2Fnotebooks%2Fdrop_na.ipynb\">binder</a>.</div>"
      ],
      "text/plain": [
       "<IPython.core.display.HTML object>"
      ]
     },
     "metadata": {},
     "output_type": "display_data"
    },
    {
     "data": {
      "text/markdown": [
       "### <div style=\"background-color: #EEE; padding: 5px 0 8px 0\">★ drop_na</div>"
      ],
      "text/plain": [
       "<IPython.core.display.Markdown object>"
      ]
     },
     "metadata": {},
     "output_type": "display_data"
    },
    {
     "data": {
      "text/markdown": [
       "##### Drop rows containing missing values\n",
       "\n",
       "See https://tidyr.tidyverse.org/reference/drop_na.html  \n",
       "\n",
       "##### Args:\n",
       "&emsp;&emsp;`data`: A data frame.  \n",
       "&emsp;&emsp;`*columns`: Columns to inspect for missing values.  \n",
       "&emsp;&emsp;`how_`: How to select the rows to drop  \n",
       "&emsp;&emsp;&emsp;&emsp;- all: All columns of `columns` to be `NA`s\n",
       "\n",
       "&emsp;&emsp;&emsp;&emsp;- any: Any columns of `columns` to be `NA`s\n",
       "\n",
       "&emsp;&emsp;&emsp;&emsp;(tidyr doesn't support this argument)  \n",
       "\n",
       "##### Returns:\n",
       "&emsp;&emsp;Dataframe with rows with NAs dropped and indexes dropped  \n"
      ],
      "text/plain": [
       "<IPython.core.display.Markdown object>"
      ]
     },
     "metadata": {},
     "output_type": "display_data"
    }
   ],
   "source": [
    "# https://tidyr.tidyverse.org/reference/drop_na.html\n",
    "%run nb_helpers.py\n",
    "\n",
    "from datar.all import *\n",
    "\n",
    "nb_header(drop_na)"
   ]
  },
  {
   "cell_type": "code",
   "execution_count": 2,
   "id": "495d9468",
   "metadata": {
    "execution": {
     "iopub.execute_input": "2021-07-16T22:28:03.872775Z",
     "iopub.status.busy": "2021-07-16T22:28:03.869619Z",
     "iopub.status.idle": "2021-07-16T22:28:04.092841Z",
     "shell.execute_reply": "2021-07-16T22:28:04.093341Z"
    }
   },
   "outputs": [
    {
     "data": {
      "text/html": [
       "<div>\n",
       "<style scoped>\n",
       "    .dataframe tbody tr th:only-of-type {\n",
       "        vertical-align: middle;\n",
       "    }\n",
       "\n",
       "    .dataframe tbody tr th {\n",
       "        vertical-align: top;\n",
       "    }\n",
       "\n",
       "    .dataframe thead th {\n",
       "        text-align: right;\n",
       "    }\n",
       "</style>\n",
       "<table border=\"1\" class=\"dataframe\">\n",
       "  <thead>\n",
       "    <tr style=\"text-align: right;\">\n",
       "      <th></th>\n",
       "      <th>x</th>\n",
       "      <th>y</th>\n",
       "    </tr>\n",
       "  </thead>\n",
       "  <tbody>\n",
       "    <tr>\n",
       "      <th style=\"font-style: italic;\" ></th>\n",
       "      <td style=\"font-style: italic;\" >&lt;float64&gt;</td>\n",
       "      <td style=\"font-style: italic;\" >&lt;object&gt;</td>\n",
       "    </tr>\n",
       "    <tr>\n",
       "      <th>0</th>\n",
       "      <td>1.0</td>\n",
       "      <td>a</td>\n",
       "    </tr>\n",
       "  </tbody>\n",
       "</table>\n",
       "</div>\n"
      ],
      "text/plain": [
       "          x        y\n",
       "  <float64> <object>\n",
       "0       1.0        a"
      ]
     },
     "execution_count": 2,
     "metadata": {},
     "output_type": "execute_result"
    }
   ],
   "source": [
    "df = tibble(x = c(1, 2, NA), y = c(\"a\", NA, \"b\"))\n",
    "df >> drop_na()"
   ]
  },
  {
   "cell_type": "code",
   "execution_count": 3,
   "id": "f04b6d40",
   "metadata": {
    "execution": {
     "iopub.execute_input": "2021-07-16T22:28:04.122198Z",
     "iopub.status.busy": "2021-07-16T22:28:04.121085Z",
     "iopub.status.idle": "2021-07-16T22:28:04.130329Z",
     "shell.execute_reply": "2021-07-16T22:28:04.130799Z"
    }
   },
   "outputs": [
    {
     "data": {
      "text/html": [
       "<div>\n",
       "<style scoped>\n",
       "    .dataframe tbody tr th:only-of-type {\n",
       "        vertical-align: middle;\n",
       "    }\n",
       "\n",
       "    .dataframe tbody tr th {\n",
       "        vertical-align: top;\n",
       "    }\n",
       "\n",
       "    .dataframe thead th {\n",
       "        text-align: right;\n",
       "    }\n",
       "</style>\n",
       "<table border=\"1\" class=\"dataframe\">\n",
       "  <thead>\n",
       "    <tr style=\"text-align: right;\">\n",
       "      <th></th>\n",
       "      <th>x</th>\n",
       "      <th>y</th>\n",
       "    </tr>\n",
       "  </thead>\n",
       "  <tbody>\n",
       "    <tr>\n",
       "      <th style=\"font-style: italic;\" ></th>\n",
       "      <td style=\"font-style: italic;\" >&lt;float64&gt;</td>\n",
       "      <td style=\"font-style: italic;\" >&lt;object&gt;</td>\n",
       "    </tr>\n",
       "    <tr>\n",
       "      <th>0</th>\n",
       "      <td>1.0</td>\n",
       "      <td>a</td>\n",
       "    </tr>\n",
       "    <tr>\n",
       "      <th>1</th>\n",
       "      <td>2.0</td>\n",
       "      <td>NaN</td>\n",
       "    </tr>\n",
       "  </tbody>\n",
       "</table>\n",
       "</div>\n"
      ],
      "text/plain": [
       "          x        y\n",
       "  <float64> <object>\n",
       "0       1.0        a\n",
       "1       2.0      NaN"
      ]
     },
     "execution_count": 3,
     "metadata": {},
     "output_type": "execute_result"
    }
   ],
   "source": [
    "df >> drop_na(f.x)"
   ]
  },
  {
   "cell_type": "code",
   "execution_count": 4,
   "id": "38c638ec",
   "metadata": {
    "execution": {
     "iopub.execute_input": "2021-07-16T22:28:04.160640Z",
     "iopub.status.busy": "2021-07-16T22:28:04.160021Z",
     "iopub.status.idle": "2021-07-16T22:28:04.166910Z",
     "shell.execute_reply": "2021-07-16T22:28:04.167297Z"
    }
   },
   "outputs": [
    {
     "data": {
      "text/html": [
       "<div>\n",
       "<style scoped>\n",
       "    .dataframe tbody tr th:only-of-type {\n",
       "        vertical-align: middle;\n",
       "    }\n",
       "\n",
       "    .dataframe tbody tr th {\n",
       "        vertical-align: top;\n",
       "    }\n",
       "\n",
       "    .dataframe thead th {\n",
       "        text-align: right;\n",
       "    }\n",
       "</style>\n",
       "<table border=\"1\" class=\"dataframe\">\n",
       "  <thead>\n",
       "    <tr style=\"text-align: right;\">\n",
       "      <th></th>\n",
       "      <th>x</th>\n",
       "      <th>y</th>\n",
       "    </tr>\n",
       "  </thead>\n",
       "  <tbody>\n",
       "    <tr>\n",
       "      <th style=\"font-style: italic;\" ></th>\n",
       "      <td style=\"font-style: italic;\" >&lt;float64&gt;</td>\n",
       "      <td style=\"font-style: italic;\" >&lt;object&gt;</td>\n",
       "    </tr>\n",
       "    <tr>\n",
       "      <th>0</th>\n",
       "      <td>1.0</td>\n",
       "      <td>a</td>\n",
       "    </tr>\n",
       "  </tbody>\n",
       "</table>\n",
       "</div>\n"
      ],
      "text/plain": [
       "          x        y\n",
       "  <float64> <object>\n",
       "0       1.0        a"
      ]
     },
     "execution_count": 4,
     "metadata": {},
     "output_type": "execute_result"
    }
   ],
   "source": [
    "vars = [\"y\"]\n",
    "df >> drop_na(f.x, any_of(vars))"
   ]
  },
  {
   "cell_type": "code",
   "execution_count": 5,
   "id": "e4b2c11a",
   "metadata": {
    "execution": {
     "iopub.execute_input": "2021-07-16T22:28:04.180991Z",
     "iopub.status.busy": "2021-07-16T22:28:04.180288Z",
     "iopub.status.idle": "2021-07-16T22:28:04.188341Z",
     "shell.execute_reply": "2021-07-16T22:28:04.188774Z"
    }
   },
   "outputs": [
    {
     "data": {
      "text/html": [
       "<div>\n",
       "<style scoped>\n",
       "    .dataframe tbody tr th:only-of-type {\n",
       "        vertical-align: middle;\n",
       "    }\n",
       "\n",
       "    .dataframe tbody tr th {\n",
       "        vertical-align: top;\n",
       "    }\n",
       "\n",
       "    .dataframe thead th {\n",
       "        text-align: right;\n",
       "    }\n",
       "</style>\n",
       "<table border=\"1\" class=\"dataframe\">\n",
       "  <thead>\n",
       "    <tr style=\"text-align: right;\">\n",
       "      <th></th>\n",
       "      <th>x</th>\n",
       "      <th>y</th>\n",
       "    </tr>\n",
       "  </thead>\n",
       "  <tbody>\n",
       "    <tr>\n",
       "      <th style=\"font-style: italic;\" ></th>\n",
       "      <td style=\"font-style: italic;\" >&lt;float64&gt;</td>\n",
       "      <td style=\"font-style: italic;\" >&lt;object&gt;</td>\n",
       "    </tr>\n",
       "    <tr>\n",
       "      <th>0</th>\n",
       "      <td>1.0</td>\n",
       "      <td>a</td>\n",
       "    </tr>\n",
       "    <tr>\n",
       "      <th>1</th>\n",
       "      <td>2.0</td>\n",
       "      <td>NaN</td>\n",
       "    </tr>\n",
       "    <tr>\n",
       "      <th>2</th>\n",
       "      <td>NaN</td>\n",
       "      <td>b</td>\n",
       "    </tr>\n",
       "  </tbody>\n",
       "</table>\n",
       "</div>\n"
      ],
      "text/plain": [
       "          x        y\n",
       "  <float64> <object>\n",
       "0       1.0        a\n",
       "1       2.0      NaN\n",
       "2       NaN        b"
      ]
     },
     "execution_count": 5,
     "metadata": {},
     "output_type": "execute_result"
    }
   ],
   "source": [
    "# how_='any' or how_='all'\n",
    "# not supported by tidyr\n",
    "df >> drop_na(how_='all')"
   ]
  },
  {
   "cell_type": "code",
   "execution_count": 6,
   "id": "446314c4",
   "metadata": {
    "execution": {
     "iopub.execute_input": "2021-07-16T22:28:04.203254Z",
     "iopub.status.busy": "2021-07-16T22:28:04.202457Z",
     "iopub.status.idle": "2021-07-16T22:28:04.211838Z",
     "shell.execute_reply": "2021-07-16T22:28:04.212261Z"
    }
   },
   "outputs": [
    {
     "data": {
      "text/html": [
       "<div>\n",
       "<style scoped>\n",
       "    .dataframe tbody tr th:only-of-type {\n",
       "        vertical-align: middle;\n",
       "    }\n",
       "\n",
       "    .dataframe tbody tr th {\n",
       "        vertical-align: top;\n",
       "    }\n",
       "\n",
       "    .dataframe thead th {\n",
       "        text-align: right;\n",
       "    }\n",
       "</style>\n",
       "<table border=\"1\" class=\"dataframe\">\n",
       "  <thead>\n",
       "    <tr style=\"text-align: right;\">\n",
       "      <th></th>\n",
       "      <th>x</th>\n",
       "      <th>y</th>\n",
       "    </tr>\n",
       "  </thead>\n",
       "  <tbody>\n",
       "    <tr>\n",
       "      <th style=\"font-style: italic;\" ></th>\n",
       "      <td style=\"font-style: italic;\" >&lt;float64&gt;</td>\n",
       "      <td style=\"font-style: italic;\" >&lt;object&gt;</td>\n",
       "    </tr>\n",
       "    <tr>\n",
       "      <th>0</th>\n",
       "      <td>1.0</td>\n",
       "      <td>a</td>\n",
       "    </tr>\n",
       "  </tbody>\n",
       "</table>\n",
       "</div>\n"
      ],
      "text/plain": [
       "          x        y\n",
       "  <float64> <object>\n",
       "0       1.0        a"
      ]
     },
     "execution_count": 6,
     "metadata": {},
     "output_type": "execute_result"
    }
   ],
   "source": [
    "df >> drop_na(how_='any')"
   ]
  }
 ],
 "metadata": {
  "interpreter": {
   "hash": "c4cc73b080e063fcebb9afb794613be7caf4b26129562cba1382945a18cc49cc"
  },
  "kernelspec": {
   "display_name": "Python 3.7.8 64-bit ('base': conda)",
   "name": "python3"
  },
  "language_info": {
   "codemirror_mode": {
    "name": "ipython",
    "version": 3
   },
   "file_extension": ".py",
   "mimetype": "text/x-python",
   "name": "python",
   "nbconvert_exporter": "python",
   "pygments_lexer": "ipython3",
   "version": "3.9.5"
  }
 },
 "nbformat": 4,
 "nbformat_minor": 5
}
