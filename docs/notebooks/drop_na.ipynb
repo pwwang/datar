{
 "cells": [
  {
   "cell_type": "code",
   "execution_count": 1,
   "id": "recent-verification",
   "metadata": {
    "execution": {
     "iopub.execute_input": "2021-04-17T00:52:21.073522Z",
     "iopub.status.busy": "2021-04-17T00:52:21.072871Z",
     "iopub.status.idle": "2021-04-17T00:52:21.861192Z",
     "shell.execute_reply": "2021-04-17T00:52:21.860501Z"
    }
   },
   "outputs": [
    {
     "output_type": "display_data",
     "data": {
      "text/plain": "<IPython.core.display.HTML object>",
      "text/html": "<div style=\"text-align: right; text-style: italic\">Try this notebook on <a target=\"_blank\" href=\"https://mybinder.org/v2/gh/pwwang/datar/93d069f3ca36711fc811c61dcf60e9fc3d1460a5?filepath=docs%2Fnotebooks%2Fdrop_na.ipynb\">binder</a>.</div>"
     },
     "metadata": {}
    },
    {
     "output_type": "display_data",
     "data": {
      "text/plain": "<IPython.core.display.Markdown object>",
      "text/markdown": "### # drop_na  "
     },
     "metadata": {}
    },
    {
     "output_type": "display_data",
     "data": {
      "text/plain": "<IPython.core.display.Markdown object>",
      "text/markdown": "##### Drop rows containing missing values\n\nSee https://tidyr.tidyverse.org/reference/drop_na.html  \n\n##### Args:\n&emsp;&emsp;`data`: A data frame.  \n&emsp;&emsp;`*columns`: Columns to inspect for missing values.  \n&emsp;&emsp;`how`: How to select the rows to drop  \n&emsp;&emsp;&emsp;&emsp;- all: All columns of `columns` to be `NA`s\n\n&emsp;&emsp;&emsp;&emsp;- any: Any columns of `columns` to be `NA`s\n\n&emsp;&emsp;&emsp;&emsp;(tidyr doesn't support this argument)  \n\n&emsp;&emsp;`_base0`: Whether `*columns` are 0-based if given by indexes  \n&emsp;&emsp;&emsp;&emsp;If not provided, will use `datar.base.get_option('index.base.0')`  \n\n##### Returns:\n&emsp;&emsp;Dataframe with rows with NAs dropped and indexes dropped  \n"
     },
     "metadata": {}
    }
   ],
   "source": [
    "# https://tidyr.tidyverse.org/reference/drop_na.html\n",
    "\n",
    "from datar.all import *\n",
    "\n",
    "%run nb_helpers.py\n",
    "nb_header(drop_na)"
   ]
  },
  {
   "cell_type": "code",
   "execution_count": 2,
   "id": "verified-balance",
   "metadata": {
    "execution": {
     "iopub.execute_input": "2021-04-17T00:52:21.924553Z",
     "iopub.status.busy": "2021-04-17T00:52:21.924039Z",
     "iopub.status.idle": "2021-04-17T00:52:21.972742Z",
     "shell.execute_reply": "2021-04-17T00:52:21.972253Z"
    }
   },
   "outputs": [
    {
     "output_type": "execute_result",
     "data": {
      "text/plain": [
       "     x  y\n",
       "0  1.0  a"
      ],
      "text/html": "<div>\n<style scoped>\n    .dataframe tbody tr th:only-of-type {\n        vertical-align: middle;\n    }\n\n    .dataframe tbody tr th {\n        vertical-align: top;\n    }\n\n    .dataframe thead th {\n        text-align: right;\n    }\n</style>\n<table border=\"1\" class=\"dataframe\">\n  <thead>\n    <tr style=\"text-align: right;\">\n      <th></th>\n      <th>x</th>\n      <th>y</th>\n    </tr>\n  </thead>\n  <tbody>\n    <tr>\n      <th>0</th>\n      <td>1.0</td>\n      <td>a</td>\n    </tr>\n  </tbody>\n</table>\n</div>"
     },
     "metadata": {},
     "execution_count": 2
    }
   ],
   "source": [
    "df = tibble(x = c(1, 2, NA), y = c(\"a\", NA, \"b\"))\n",
    "df >> drop_na()"
   ]
  },
  {
   "cell_type": "code",
   "execution_count": 3,
   "id": "otherwise-encoding",
   "metadata": {
    "execution": {
     "iopub.execute_input": "2021-04-17T00:52:21.990414Z",
     "iopub.status.busy": "2021-04-17T00:52:21.989827Z",
     "iopub.status.idle": "2021-04-17T00:52:22.007943Z",
     "shell.execute_reply": "2021-04-17T00:52:22.007525Z"
    }
   },
   "outputs": [
    {
     "output_type": "execute_result",
     "data": {
      "text/plain": [
       "     x    y\n",
       "0  1.0    a\n",
       "1  2.0  NaN"
      ],
      "text/html": "<div>\n<style scoped>\n    .dataframe tbody tr th:only-of-type {\n        vertical-align: middle;\n    }\n\n    .dataframe tbody tr th {\n        vertical-align: top;\n    }\n\n    .dataframe thead th {\n        text-align: right;\n    }\n</style>\n<table border=\"1\" class=\"dataframe\">\n  <thead>\n    <tr style=\"text-align: right;\">\n      <th></th>\n      <th>x</th>\n      <th>y</th>\n    </tr>\n  </thead>\n  <tbody>\n    <tr>\n      <th>0</th>\n      <td>1.0</td>\n      <td>a</td>\n    </tr>\n    <tr>\n      <th>1</th>\n      <td>2.0</td>\n      <td>NaN</td>\n    </tr>\n  </tbody>\n</table>\n</div>"
     },
     "metadata": {},
     "execution_count": 3
    }
   ],
   "source": [
    "df >> drop_na(f.x)"
   ]
  },
  {
   "cell_type": "code",
   "execution_count": 4,
   "id": "violent-safety",
   "metadata": {
    "execution": {
     "iopub.execute_input": "2021-04-17T00:52:22.055763Z",
     "iopub.status.busy": "2021-04-17T00:52:22.055204Z",
     "iopub.status.idle": "2021-04-17T00:52:22.058289Z",
     "shell.execute_reply": "2021-04-17T00:52:22.057827Z"
    }
   },
   "outputs": [
    {
     "output_type": "execute_result",
     "data": {
      "text/plain": [
       "     x  y\n",
       "0  1.0  a"
      ],
      "text/html": "<div>\n<style scoped>\n    .dataframe tbody tr th:only-of-type {\n        vertical-align: middle;\n    }\n\n    .dataframe tbody tr th {\n        vertical-align: top;\n    }\n\n    .dataframe thead th {\n        text-align: right;\n    }\n</style>\n<table border=\"1\" class=\"dataframe\">\n  <thead>\n    <tr style=\"text-align: right;\">\n      <th></th>\n      <th>x</th>\n      <th>y</th>\n    </tr>\n  </thead>\n  <tbody>\n    <tr>\n      <th>0</th>\n      <td>1.0</td>\n      <td>a</td>\n    </tr>\n  </tbody>\n</table>\n</div>"
     },
     "metadata": {},
     "execution_count": 4
    }
   ],
   "source": [
    "vars = [\"y\"]\n",
    "df >> drop_na(f.x, any_of(vars))"
   ]
  },
  {
   "cell_type": "code",
   "execution_count": 5,
   "metadata": {},
   "outputs": [
    {
     "output_type": "execute_result",
     "data": {
      "text/plain": [
       "     x    y\n",
       "0  1.0    a\n",
       "1  2.0  NaN\n",
       "2  NaN    b"
      ],
      "text/html": "<div>\n<style scoped>\n    .dataframe tbody tr th:only-of-type {\n        vertical-align: middle;\n    }\n\n    .dataframe tbody tr th {\n        vertical-align: top;\n    }\n\n    .dataframe thead th {\n        text-align: right;\n    }\n</style>\n<table border=\"1\" class=\"dataframe\">\n  <thead>\n    <tr style=\"text-align: right;\">\n      <th></th>\n      <th>x</th>\n      <th>y</th>\n    </tr>\n  </thead>\n  <tbody>\n    <tr>\n      <th>0</th>\n      <td>1.0</td>\n      <td>a</td>\n    </tr>\n    <tr>\n      <th>1</th>\n      <td>2.0</td>\n      <td>NaN</td>\n    </tr>\n    <tr>\n      <th>2</th>\n      <td>NaN</td>\n      <td>b</td>\n    </tr>\n  </tbody>\n</table>\n</div>"
     },
     "metadata": {},
     "execution_count": 5
    }
   ],
   "source": [
    "# how='any' or how='all'\n",
    "# not supported by tidyr\n",
    "df >> drop_na(how='all')"
   ]
  },
  {
   "cell_type": "code",
   "execution_count": 6,
   "metadata": {},
   "outputs": [
    {
     "output_type": "execute_result",
     "data": {
      "text/plain": [
       "     x  y\n",
       "0  1.0  a"
      ],
      "text/html": "<div>\n<style scoped>\n    .dataframe tbody tr th:only-of-type {\n        vertical-align: middle;\n    }\n\n    .dataframe tbody tr th {\n        vertical-align: top;\n    }\n\n    .dataframe thead th {\n        text-align: right;\n    }\n</style>\n<table border=\"1\" class=\"dataframe\">\n  <thead>\n    <tr style=\"text-align: right;\">\n      <th></th>\n      <th>x</th>\n      <th>y</th>\n    </tr>\n  </thead>\n  <tbody>\n    <tr>\n      <th>0</th>\n      <td>1.0</td>\n      <td>a</td>\n    </tr>\n  </tbody>\n</table>\n</div>"
     },
     "metadata": {},
     "execution_count": 6
    }
   ],
   "source": [
    "df >> drop_na(how='any')"
   ]
  }
 ],
 "metadata": {
  "kernelspec": {
   "display_name": "Python 3",
   "language": "python",
   "name": "python3"
  },
  "language_info": {
   "codemirror_mode": {
    "name": "ipython",
    "version": 3
   },
   "file_extension": ".py",
   "mimetype": "text/x-python",
   "name": "python",
   "nbconvert_exporter": "python",
   "pygments_lexer": "ipython3",
   "version": "3.7.8"
  }
 },
 "nbformat": 4,
 "nbformat_minor": 5
}