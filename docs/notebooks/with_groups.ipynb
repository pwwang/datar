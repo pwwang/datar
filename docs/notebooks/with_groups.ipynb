{
 "cells": [
  {
   "cell_type": "code",
   "execution_count": 1,
   "id": "86647a1e",
   "metadata": {
    "execution": {
     "iopub.execute_input": "2021-07-16T22:27:23.471684Z",
     "iopub.status.busy": "2021-07-16T22:27:23.470754Z",
     "iopub.status.idle": "2021-07-16T22:27:24.596869Z",
     "shell.execute_reply": "2021-07-16T22:27:24.592829Z"
    }
   },
   "outputs": [
    {
     "name": "stderr",
     "output_type": "stream",
     "text": [
      "[2022-03-06 18:19:37][datar][WARNING] Builtin name \"min\" has been overriden by datar.\n",
      "[2022-03-06 18:19:37][datar][WARNING] Builtin name \"max\" has been overriden by datar.\n",
      "[2022-03-06 18:19:37][datar][WARNING] Builtin name \"sum\" has been overriden by datar.\n",
      "[2022-03-06 18:19:37][datar][WARNING] Builtin name \"abs\" has been overriden by datar.\n",
      "[2022-03-06 18:19:37][datar][WARNING] Builtin name \"round\" has been overriden by datar.\n",
      "[2022-03-06 18:19:37][datar][WARNING] Builtin name \"all\" has been overriden by datar.\n",
      "[2022-03-06 18:19:37][datar][WARNING] Builtin name \"any\" has been overriden by datar.\n",
      "[2022-03-06 18:19:37][datar][WARNING] Builtin name \"re\" has been overriden by datar.\n",
      "[2022-03-06 18:19:37][datar][WARNING] Builtin name \"filter\" has been overriden by datar.\n",
      "[2022-03-06 18:19:37][datar][WARNING] Builtin name \"slice\" has been overriden by datar.\n"
     ]
    },
    {
     "data": {
      "text/html": [
       "<div style=\"text-align: right; text-style: italic\">Try this notebook on <a target=\"_blank\" href=\"https://mybinder.org/v2/gh/pwwang/datar/93d069f3ca36711fc811c61dcf60e9fc3d1460a5?filepath=docs%2Fnotebooks%2Fwith_groups.ipynb\">binder</a>.</div>"
      ],
      "text/plain": [
       "<IPython.core.display.HTML object>"
      ]
     },
     "metadata": {},
     "output_type": "display_data"
    },
    {
     "data": {
      "text/markdown": [
       "### # with_groups  "
      ],
      "text/plain": [
       "<IPython.core.display.Markdown object>"
      ]
     },
     "metadata": {},
     "output_type": "display_data"
    },
    {
     "data": {
      "text/markdown": [
       "##### Modify the grouping variables for a single operation.\n",
       "\n",
       "##### Args:\n",
       "&emsp;&emsp;`_data`: A data frame  \n",
       "&emsp;&emsp;`_groups`: columns passed by group_by  \n",
       "&emsp;&emsp;&emsp;&emsp;Use None to temporarily ungroup.  \n",
       "\n",
       "&emsp;&emsp;`_func`: Function to apply to regrouped data.  \n",
       "\n",
       "##### Returns:\n",
       "&emsp;&emsp;The new data frame with operations applied.  \n"
      ],
      "text/plain": [
       "<IPython.core.display.Markdown object>"
      ]
     },
     "metadata": {},
     "output_type": "display_data"
    }
   ],
   "source": [
    "# https://dplyr.tidyverse.org/reference/with_groups.html\n",
    "\n",
    "from datar.all import *\n",
    "\n",
    "%run nb_helpers.py\n",
    "nb_header(with_groups)"
   ]
  },
  {
   "cell_type": "code",
   "execution_count": 2,
   "id": "139a79fa",
   "metadata": {
    "execution": {
     "iopub.execute_input": "2021-07-16T22:27:24.654249Z",
     "iopub.status.busy": "2021-07-16T22:27:24.653532Z",
     "iopub.status.idle": "2021-07-16T22:27:25.280451Z",
     "shell.execute_reply": "2021-07-16T22:27:25.281069Z"
    }
   },
   "outputs": [
    {
     "data": {
      "text/html": [
       "<div>\n",
       "<style scoped>\n",
       "    .dataframe tbody tr th:only-of-type {\n",
       "        vertical-align: middle;\n",
       "    }\n",
       "\n",
       "    .dataframe tbody tr th {\n",
       "        vertical-align: top;\n",
       "    }\n",
       "\n",
       "    .dataframe thead th {\n",
       "        text-align: right;\n",
       "    }\n",
       "</style>\n",
       "<table border=\"1\" class=\"dataframe\">\n",
       "  <thead>\n",
       "    <tr style=\"text-align: right;\">\n",
       "      <th></th>\n",
       "      <th>g</th>\n",
       "      <th>x</th>\n",
       "      <th>x_mean</th>\n",
       "    </tr>\n",
       "  </thead>\n",
       "  <tbody>\n",
       "    <tr>\n",
       "      <th style=\"font-style: italic;\" ></th>\n",
       "      <td style=\"font-style: italic;\" >&lt;int64&gt;</td>\n",
       "      <td style=\"font-style: italic;\" >&lt;float64&gt;</td>\n",
       "      <td style=\"font-style: italic;\" >&lt;float64&gt;</td>\n",
       "    </tr>\n",
       "    <tr>\n",
       "      <th>0</th>\n",
       "      <td>1</td>\n",
       "      <td>0.787068</td>\n",
       "      <td>0.869330</td>\n",
       "    </tr>\n",
       "    <tr>\n",
       "      <th>1</th>\n",
       "      <td>1</td>\n",
       "      <td>0.951592</td>\n",
       "      <td>0.869330</td>\n",
       "    </tr>\n",
       "    <tr>\n",
       "      <th>2</th>\n",
       "      <td>2</td>\n",
       "      <td>0.993726</td>\n",
       "      <td>0.618664</td>\n",
       "    </tr>\n",
       "    <tr>\n",
       "      <th>3</th>\n",
       "      <td>2</td>\n",
       "      <td>0.243601</td>\n",
       "      <td>0.618664</td>\n",
       "    </tr>\n",
       "    <tr>\n",
       "      <th>4</th>\n",
       "      <td>3</td>\n",
       "      <td>0.035540</td>\n",
       "      <td>0.035540</td>\n",
       "    </tr>\n",
       "  </tbody>\n",
       "</table>\n",
       "</div>\n",
       "<p>TibbleGrouped: g (n=3)"
      ],
      "text/plain": [
       "        g         x    x_mean\n",
       "  <int64> <float64> <float64>\n",
       "0       1  0.787068  0.869330\n",
       "1       1  0.951592  0.869330\n",
       "2       2  0.993726  0.618664\n",
       "3       2  0.243601  0.618664\n",
       "4       3  0.035540  0.035540\n",
       "[TibbleGrouped: g (n=3)]"
      ]
     },
     "execution_count": 2,
     "metadata": {},
     "output_type": "execute_result"
    }
   ],
   "source": [
    "df = tibble(g=c(1, 1, 2, 2, 3), x=runif(5))\n",
    "df >> with_groups(f.g, mutate, x_mean = mean(f.x)) "
   ]
  },
  {
   "cell_type": "code",
   "execution_count": 3,
   "id": "65133081",
   "metadata": {
    "execution": {
     "iopub.execute_input": "2021-07-16T22:27:25.407736Z",
     "iopub.status.busy": "2021-07-16T22:27:25.407070Z",
     "iopub.status.idle": "2021-07-16T22:27:25.456650Z",
     "shell.execute_reply": "2021-07-16T22:27:25.457055Z"
    }
   },
   "outputs": [
    {
     "data": {
      "text/html": [
       "<div>\n",
       "<style scoped>\n",
       "    .dataframe tbody tr th:only-of-type {\n",
       "        vertical-align: middle;\n",
       "    }\n",
       "\n",
       "    .dataframe tbody tr th {\n",
       "        vertical-align: top;\n",
       "    }\n",
       "\n",
       "    .dataframe thead th {\n",
       "        text-align: right;\n",
       "    }\n",
       "</style>\n",
       "<table border=\"1\" class=\"dataframe\">\n",
       "  <thead>\n",
       "    <tr style=\"text-align: right;\">\n",
       "      <th></th>\n",
       "      <th>g</th>\n",
       "      <th>x</th>\n",
       "      <th>x1</th>\n",
       "    </tr>\n",
       "  </thead>\n",
       "  <tbody>\n",
       "    <tr>\n",
       "      <th style=\"font-style: italic;\" ></th>\n",
       "      <td style=\"font-style: italic;\" >&lt;int64&gt;</td>\n",
       "      <td style=\"font-style: italic;\" >&lt;float64&gt;</td>\n",
       "      <td style=\"font-style: italic;\" >&lt;float64&gt;</td>\n",
       "    </tr>\n",
       "    <tr>\n",
       "      <th>0</th>\n",
       "      <td>1</td>\n",
       "      <td>0.787068</td>\n",
       "      <td>0.787068</td>\n",
       "    </tr>\n",
       "    <tr>\n",
       "      <th>1</th>\n",
       "      <td>1</td>\n",
       "      <td>0.951592</td>\n",
       "      <td>0.787068</td>\n",
       "    </tr>\n",
       "    <tr>\n",
       "      <th>2</th>\n",
       "      <td>2</td>\n",
       "      <td>0.993726</td>\n",
       "      <td>0.787068</td>\n",
       "    </tr>\n",
       "    <tr>\n",
       "      <th>3</th>\n",
       "      <td>2</td>\n",
       "      <td>0.243601</td>\n",
       "      <td>0.787068</td>\n",
       "    </tr>\n",
       "    <tr>\n",
       "      <th>4</th>\n",
       "      <td>3</td>\n",
       "      <td>0.035540</td>\n",
       "      <td>0.787068</td>\n",
       "    </tr>\n",
       "  </tbody>\n",
       "</table>\n",
       "</div>\n",
       "<p>TibbleGrouped: g (n=3)"
      ],
      "text/plain": [
       "        g         x        x1\n",
       "  <int64> <float64> <float64>\n",
       "0       1  0.787068  0.787068\n",
       "1       1  0.951592  0.787068\n",
       "2       2  0.993726  0.787068\n",
       "3       2  0.243601  0.787068\n",
       "4       3  0.035540  0.787068\n",
       "[TibbleGrouped: g (n=3)]"
      ]
     },
     "execution_count": 3,
     "metadata": {},
     "output_type": "execute_result"
    }
   ],
   "source": [
    "df >> with_groups(f.g, lambda df: df >> mutate(x1 = first(f.x))) \n",
    "# FIXME"
   ]
  },
  {
   "cell_type": "code",
   "execution_count": 4,
   "id": "1c9e8a12",
   "metadata": {
    "execution": {
     "iopub.execute_input": "2021-07-16T22:27:25.523727Z",
     "iopub.status.busy": "2021-07-16T22:27:25.522838Z",
     "iopub.status.idle": "2021-07-16T22:27:25.804228Z",
     "shell.execute_reply": "2021-07-16T22:27:25.806102Z"
    }
   },
   "outputs": [
    {
     "data": {
      "text/html": [
       "<div>\n",
       "<style scoped>\n",
       "    .dataframe tbody tr th:only-of-type {\n",
       "        vertical-align: middle;\n",
       "    }\n",
       "\n",
       "    .dataframe tbody tr th {\n",
       "        vertical-align: top;\n",
       "    }\n",
       "\n",
       "    .dataframe thead th {\n",
       "        text-align: right;\n",
       "    }\n",
       "</style>\n",
       "<table border=\"1\" class=\"dataframe\">\n",
       "  <thead>\n",
       "    <tr style=\"text-align: right;\">\n",
       "      <th></th>\n",
       "      <th>g</th>\n",
       "      <th>x</th>\n",
       "      <th>x_mean</th>\n",
       "    </tr>\n",
       "  </thead>\n",
       "  <tbody>\n",
       "    <tr>\n",
       "      <th style=\"font-style: italic;\" ></th>\n",
       "      <td style=\"font-style: italic;\" >&lt;int64&gt;</td>\n",
       "      <td style=\"font-style: italic;\" >&lt;float64&gt;</td>\n",
       "      <td style=\"font-style: italic;\" >&lt;float64&gt;</td>\n",
       "    </tr>\n",
       "    <tr>\n",
       "      <th>0</th>\n",
       "      <td>1</td>\n",
       "      <td>0.787068</td>\n",
       "      <td>0.602306</td>\n",
       "    </tr>\n",
       "    <tr>\n",
       "      <th>1</th>\n",
       "      <td>1</td>\n",
       "      <td>0.951592</td>\n",
       "      <td>0.602306</td>\n",
       "    </tr>\n",
       "    <tr>\n",
       "      <th>2</th>\n",
       "      <td>2</td>\n",
       "      <td>0.993726</td>\n",
       "      <td>0.602306</td>\n",
       "    </tr>\n",
       "    <tr>\n",
       "      <th>3</th>\n",
       "      <td>2</td>\n",
       "      <td>0.243601</td>\n",
       "      <td>0.602306</td>\n",
       "    </tr>\n",
       "    <tr>\n",
       "      <th>4</th>\n",
       "      <td>3</td>\n",
       "      <td>0.035540</td>\n",
       "      <td>0.602306</td>\n",
       "    </tr>\n",
       "  </tbody>\n",
       "</table>\n",
       "</div>\n"
      ],
      "text/plain": [
       "        g         x    x_mean\n",
       "  <int64> <float64> <float64>\n",
       "0       1  0.787068  0.602306\n",
       "1       1  0.951592  0.602306\n",
       "2       2  0.993726  0.602306\n",
       "3       2  0.243601  0.602306\n",
       "4       3  0.035540  0.602306"
      ]
     },
     "execution_count": 4,
     "metadata": {},
     "output_type": "execute_result"
    }
   ],
   "source": [
    "df >> \\\n",
    "  group_by(f.g) >> \\\n",
    "  with_groups(None, mutate, x_mean = mean(f.x))"
   ]
  },
  {
   "cell_type": "code",
   "execution_count": 5,
   "id": "ec8f5fe0",
   "metadata": {
    "execution": {
     "iopub.execute_input": "2021-07-16T22:27:25.983097Z",
     "iopub.status.busy": "2021-07-16T22:27:25.982377Z",
     "iopub.status.idle": "2021-07-16T22:27:26.253418Z",
     "shell.execute_reply": "2021-07-16T22:27:26.253859Z"
    }
   },
   "outputs": [
    {
     "data": {
      "text/html": [
       "<div>\n",
       "<style scoped>\n",
       "    .dataframe tbody tr th:only-of-type {\n",
       "        vertical-align: middle;\n",
       "    }\n",
       "\n",
       "    .dataframe tbody tr th {\n",
       "        vertical-align: top;\n",
       "    }\n",
       "\n",
       "    .dataframe thead th {\n",
       "        text-align: right;\n",
       "    }\n",
       "</style>\n",
       "<table border=\"1\" class=\"dataframe\">\n",
       "  <thead>\n",
       "    <tr style=\"text-align: right;\">\n",
       "      <th></th>\n",
       "      <th>x</th>\n",
       "    </tr>\n",
       "  </thead>\n",
       "  <tbody>\n",
       "    <tr>\n",
       "      <th style=\"font-style: italic;\" ></th>\n",
       "      <td style=\"font-style: italic;\" >&lt;float64&gt;</td>\n",
       "    </tr>\n",
       "    <tr>\n",
       "      <th>0</th>\n",
       "      <td>0.787068</td>\n",
       "    </tr>\n",
       "    <tr>\n",
       "      <th>1</th>\n",
       "      <td>0.951592</td>\n",
       "    </tr>\n",
       "    <tr>\n",
       "      <th>2</th>\n",
       "      <td>0.993726</td>\n",
       "    </tr>\n",
       "    <tr>\n",
       "      <th>3</th>\n",
       "      <td>0.243601</td>\n",
       "    </tr>\n",
       "    <tr>\n",
       "      <th>4</th>\n",
       "      <td>0.035540</td>\n",
       "    </tr>\n",
       "  </tbody>\n",
       "</table>\n",
       "</div>\n"
      ],
      "text/plain": [
       "          x\n",
       "  <float64>\n",
       "0  0.787068\n",
       "1  0.951592\n",
       "2  0.993726\n",
       "3  0.243601\n",
       "4  0.035540"
      ]
     },
     "execution_count": 5,
     "metadata": {},
     "output_type": "execute_result"
    }
   ],
   "source": [
    "df >> \\\n",
    "  group_by(f.g) >> \\\n",
    "  with_groups(None, mutate, g=None)"
   ]
  }
 ],
 "metadata": {
  "interpreter": {
   "hash": "c4cc73b080e063fcebb9afb794613be7caf4b26129562cba1382945a18cc49cc"
  },
  "kernelspec": {
   "display_name": "Python 3.7.8 64-bit ('base': conda)",
   "name": "python3"
  },
  "language_info": {
   "codemirror_mode": {
    "name": "ipython",
    "version": 3
   },
   "file_extension": ".py",
   "mimetype": "text/x-python",
   "name": "python",
   "nbconvert_exporter": "python",
   "pygments_lexer": "ipython3",
   "version": "3.9.5"
  }
 },
 "nbformat": 4,
 "nbformat_minor": 5
}
