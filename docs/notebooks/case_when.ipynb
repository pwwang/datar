{
 "cells": [
  {
   "cell_type": "code",
   "execution_count": 1,
   "id": "registered-ghost",
   "metadata": {
    "execution": {
     "iopub.execute_input": "2021-07-16T22:27:14.044369Z",
     "iopub.status.busy": "2021-07-16T22:27:14.043571Z",
     "iopub.status.idle": "2021-07-16T22:27:15.175374Z",
     "shell.execute_reply": "2021-07-16T22:27:15.175875Z"
    }
   },
   "outputs": [
    {
     "name": "stderr",
     "output_type": "stream",
     "text": [
      "[2022-03-06 00:30:25][datar][WARNING] Builtin name \"min\" has been overriden by datar.\n",
      "[2022-03-06 00:30:25][datar][WARNING] Builtin name \"max\" has been overriden by datar.\n",
      "[2022-03-06 00:30:25][datar][WARNING] Builtin name \"sum\" has been overriden by datar.\n",
      "[2022-03-06 00:30:25][datar][WARNING] Builtin name \"abs\" has been overriden by datar.\n",
      "[2022-03-06 00:30:25][datar][WARNING] Builtin name \"round\" has been overriden by datar.\n",
      "[2022-03-06 00:30:25][datar][WARNING] Builtin name \"all\" has been overriden by datar.\n",
      "[2022-03-06 00:30:25][datar][WARNING] Builtin name \"any\" has been overriden by datar.\n",
      "[2022-03-06 00:30:25][datar][WARNING] Builtin name \"re\" has been overriden by datar.\n",
      "[2022-03-06 00:30:26][datar][WARNING] Builtin name \"filter\" has been overriden by datar.\n",
      "[2022-03-06 00:30:26][datar][WARNING] Builtin name \"slice\" has been overriden by datar.\n"
     ]
    },
    {
     "data": {
      "text/html": [
       "<div style=\"text-align: right; text-style: italic\">Try this notebook on <a target=\"_blank\" href=\"https://mybinder.org/v2/gh/pwwang/datar/93d069f3ca36711fc811c61dcf60e9fc3d1460a5?filepath=docs%2Fnotebooks%2Fcase_when.ipynb\">binder</a>.</div>"
      ],
      "text/plain": [
       "<IPython.core.display.HTML object>"
      ]
     },
     "metadata": {},
     "output_type": "display_data"
    },
    {
     "data": {
      "text/markdown": [
       "### # case_when  "
      ],
      "text/plain": [
       "<IPython.core.display.Markdown object>"
      ]
     },
     "metadata": {},
     "output_type": "display_data"
    },
    {
     "data": {
      "text/markdown": [
       "##### Vectorise multiple `if_else()` statements.\n",
       "\n",
       "##### Args:\n",
       "&emsp;&emsp;`*when_cases`: A even-size sequence, with 2n-th element values to match,  \n",
       "&emsp;&emsp;&emsp;&emsp;and 2(n+1)-th element the values to replace.  \n",
       "&emsp;&emsp;&emsp;&emsp;When matching value is True, then next value will be default to  \n",
       "&emsp;&emsp;&emsp;&emsp;replace  \n",
       "\n",
       "##### Returns:\n",
       "&emsp;&emsp;A series with values replaced  \n"
      ],
      "text/plain": [
       "<IPython.core.display.Markdown object>"
      ]
     },
     "metadata": {},
     "output_type": "display_data"
    }
   ],
   "source": [
    "# https://dplyr.tidyverse.org/reference/case_when.html\n",
    "from datar.datasets import starwars \n",
    "from datar.all import *\n",
    "\n",
    "%run nb_helpers.py\n",
    "nb_header(case_when)"
   ]
  },
  {
   "cell_type": "code",
   "execution_count": 2,
   "id": "inclusive-benjamin",
   "metadata": {
    "execution": {
     "iopub.execute_input": "2021-07-16T22:27:15.227937Z",
     "iopub.status.busy": "2021-07-16T22:27:15.227306Z",
     "iopub.status.idle": "2021-07-16T22:27:15.536094Z",
     "shell.execute_reply": "2021-07-16T22:27:15.537184Z"
    }
   },
   "outputs": [
    {
     "data": {
      "text/plain": [
       "0             1\n",
       "1             2\n",
       "2             3\n",
       "3             4\n",
       "4          fizz\n",
       "5             6\n",
       "6          buzz\n",
       "7             8\n",
       "8             9\n",
       "9          fizz\n",
       "10           11\n",
       "11           12\n",
       "12           13\n",
       "13         buzz\n",
       "14         fizz\n",
       "15           16\n",
       "16           17\n",
       "17           18\n",
       "18           19\n",
       "19         fizz\n",
       "20         buzz\n",
       "21           22\n",
       "22           23\n",
       "23           24\n",
       "24         fizz\n",
       "25           26\n",
       "26           27\n",
       "27         buzz\n",
       "28           29\n",
       "29         fizz\n",
       "30           31\n",
       "31           32\n",
       "32           33\n",
       "33           34\n",
       "34    fizz buzz\n",
       "35           36\n",
       "36           37\n",
       "37           38\n",
       "38           39\n",
       "39         fizz\n",
       "40           41\n",
       "41         buzz\n",
       "42           43\n",
       "43           44\n",
       "44         fizz\n",
       "45           46\n",
       "46           47\n",
       "47           48\n",
       "48         buzz\n",
       "49         fizz\n",
       "Name: y, dtype: object"
      ]
     },
     "execution_count": 2,
     "metadata": {},
     "output_type": "execute_result"
    }
   ],
   "source": [
    "df = tibble(x=range(1,51))\n",
    "df >> mutate(y=case_when(\n",
    "    f.x % 35 == 0, \"fizz buzz\",\n",
    "    f.x % 5 == 0,  \"fizz\",\n",
    "    f.x % 7 == 0,  \"buzz\",\n",
    "    True,          as_character(f.x)\n",
    ")) >> pull(f.y)"
   ]
  },
  {
   "cell_type": "code",
   "execution_count": 3,
   "id": "affecting-supervision",
   "metadata": {
    "execution": {
     "iopub.execute_input": "2021-07-16T22:27:15.608577Z",
     "iopub.status.busy": "2021-07-16T22:27:15.608002Z",
     "iopub.status.idle": "2021-07-16T22:27:15.623803Z",
     "shell.execute_reply": "2021-07-16T22:27:15.624350Z"
    }
   },
   "outputs": [
    {
     "data": {
      "text/plain": [
       "0      1\n",
       "1      2\n",
       "2      3\n",
       "3      4\n",
       "4      5\n",
       "5      6\n",
       "6      7\n",
       "7      8\n",
       "8      9\n",
       "9     10\n",
       "10    11\n",
       "11    12\n",
       "12    13\n",
       "13    14\n",
       "14    15\n",
       "15    16\n",
       "16    17\n",
       "17    18\n",
       "18    19\n",
       "19    20\n",
       "20    21\n",
       "21    22\n",
       "22    23\n",
       "23    24\n",
       "24    25\n",
       "25    26\n",
       "26    27\n",
       "27    28\n",
       "28    29\n",
       "29    30\n",
       "30    31\n",
       "31    32\n",
       "32    33\n",
       "33    34\n",
       "34    35\n",
       "35    36\n",
       "36    37\n",
       "37    38\n",
       "38    39\n",
       "39    40\n",
       "40    41\n",
       "41    42\n",
       "42    43\n",
       "43    44\n",
       "44    45\n",
       "45    46\n",
       "46    47\n",
       "47    48\n",
       "48    49\n",
       "49    50\n",
       "Name: y, dtype: object"
      ]
     },
     "execution_count": 3,
     "metadata": {},
     "output_type": "execute_result"
    }
   ],
   "source": [
    "df >> mutate(y=case_when(\n",
    "    True,          as_character(f.x),\n",
    "    f.x % 5 == 0,  \"fizz\",\n",
    "    f.x % 7 == 0,  \"buzz\",\n",
    "    f.x % 35 == 0, \"fizz buzz\"\n",
    ")) >> pull(f.y)"
   ]
  },
  {
   "cell_type": "code",
   "execution_count": 4,
   "id": "contrary-infrastructure",
   "metadata": {
    "execution": {
     "iopub.execute_input": "2021-07-16T22:27:15.660776Z",
     "iopub.status.busy": "2021-07-16T22:27:15.659888Z",
     "iopub.status.idle": "2021-07-16T22:27:15.681510Z",
     "shell.execute_reply": "2021-07-16T22:27:15.681883Z"
    }
   },
   "outputs": [
    {
     "data": {
      "text/plain": [
       "0      NaN\n",
       "1      NaN\n",
       "2      NaN\n",
       "3      NaN\n",
       "4     fizz\n",
       "5      NaN\n",
       "6     buzz\n",
       "7      NaN\n",
       "8      NaN\n",
       "9     fizz\n",
       "10     NaN\n",
       "11     NaN\n",
       "12     NaN\n",
       "13    buzz\n",
       "14    fizz\n",
       "15     NaN\n",
       "16     NaN\n",
       "17     NaN\n",
       "18     NaN\n",
       "19    fizz\n",
       "20    buzz\n",
       "21     NaN\n",
       "22     NaN\n",
       "23     NaN\n",
       "24    fizz\n",
       "25     NaN\n",
       "26     NaN\n",
       "27    buzz\n",
       "28     NaN\n",
       "29    fizz\n",
       "30     NaN\n",
       "31     NaN\n",
       "32     NaN\n",
       "33     NaN\n",
       "34    fizz\n",
       "35     NaN\n",
       "36     NaN\n",
       "37     NaN\n",
       "38     NaN\n",
       "39    fizz\n",
       "40     NaN\n",
       "41    buzz\n",
       "42     NaN\n",
       "43     NaN\n",
       "44    fizz\n",
       "45     NaN\n",
       "46     NaN\n",
       "47     NaN\n",
       "48    buzz\n",
       "49    fizz\n",
       "Name: y, dtype: object"
      ]
     },
     "execution_count": 4,
     "metadata": {},
     "output_type": "execute_result"
    }
   ],
   "source": [
    "df >> mutate(y=case_when(\n",
    "    f.x % 5 == 0,  \"fizz\",\n",
    "    f.x % 7 == 0,  \"buzz\",\n",
    "    f.x % 35 == 0, \"fizz buzz\"\n",
    ")) >> pull(f.y)"
   ]
  },
  {
   "cell_type": "code",
   "execution_count": 5,
   "id": "usual-paragraph",
   "metadata": {
    "execution": {
     "iopub.execute_input": "2021-07-16T22:27:15.724536Z",
     "iopub.status.busy": "2021-07-16T22:27:15.723876Z",
     "iopub.status.idle": "2021-07-16T22:27:15.746479Z",
     "shell.execute_reply": "2021-07-16T22:27:15.746895Z"
    }
   },
   "outputs": [
    {
     "data": {
      "text/plain": [
       "0           1.0\n",
       "1          nope\n",
       "2          nope\n",
       "3          nope\n",
       "4          fizz\n",
       "5           6.0\n",
       "6          buzz\n",
       "7           8.0\n",
       "8           9.0\n",
       "9          fizz\n",
       "10         11.0\n",
       "11         12.0\n",
       "12         13.0\n",
       "13         buzz\n",
       "14         fizz\n",
       "15         16.0\n",
       "16         17.0\n",
       "17         18.0\n",
       "18         19.0\n",
       "19         fizz\n",
       "20         buzz\n",
       "21         22.0\n",
       "22         23.0\n",
       "23         24.0\n",
       "24         fizz\n",
       "25         26.0\n",
       "26         27.0\n",
       "27         buzz\n",
       "28         29.0\n",
       "29         fizz\n",
       "30         31.0\n",
       "31         32.0\n",
       "32         33.0\n",
       "33         34.0\n",
       "34    fizz buzz\n",
       "35         36.0\n",
       "36         37.0\n",
       "37         38.0\n",
       "38         39.0\n",
       "39         fizz\n",
       "40         41.0\n",
       "41         buzz\n",
       "42         43.0\n",
       "43         44.0\n",
       "44         fizz\n",
       "45         46.0\n",
       "46         47.0\n",
       "47         48.0\n",
       "48         buzz\n",
       "49         fizz\n",
       "Name: y, dtype: object"
      ]
     },
     "execution_count": 5,
     "metadata": {},
     "output_type": "execute_result"
    }
   ],
   "source": [
    "df.iloc[[1,2,3], 0] = NA\n",
    "\n",
    "df >> mutate(y=case_when(\n",
    "    f.x % 35 == 0, \"fizz buzz\",\n",
    "    f.x % 5 == 0,  \"fizz\",\n",
    "    f.x % 7 == 0,  \"buzz\",\n",
    "    is_na(f.x),    \"nope\",\n",
    "    True,          as_character(f.x)\n",
    ")) >> pull(f.y)"
   ]
  },
  {
   "cell_type": "code",
   "execution_count": 6,
   "id": "waiting-jurisdiction",
   "metadata": {
    "execution": {
     "iopub.execute_input": "2021-07-16T22:27:15.789908Z",
     "iopub.status.busy": "2021-07-16T22:27:15.789318Z",
     "iopub.status.idle": "2021-07-16T22:27:15.804195Z",
     "shell.execute_reply": "2021-07-16T22:27:15.804900Z"
    }
   },
   "outputs": [
    {
     "data": {
      "text/plain": [
       "0      1.0\n",
       "1      NaN\n",
       "2      NaN\n",
       "3      NaN\n",
       "4     fizz\n",
       "5      6.0\n",
       "6     buzz\n",
       "7      8.0\n",
       "8      9.0\n",
       "9     fizz\n",
       "10    11.0\n",
       "11    12.0\n",
       "12    13.0\n",
       "13    buzz\n",
       "14    fizz\n",
       "15    16.0\n",
       "16    17.0\n",
       "17    18.0\n",
       "18    19.0\n",
       "19    fizz\n",
       "20    buzz\n",
       "21    22.0\n",
       "22    23.0\n",
       "23    24.0\n",
       "24    fizz\n",
       "25    26.0\n",
       "26    27.0\n",
       "27    buzz\n",
       "28    29.0\n",
       "29    fizz\n",
       "30    31.0\n",
       "31    32.0\n",
       "32    33.0\n",
       "33    34.0\n",
       "34     NaN\n",
       "35    36.0\n",
       "36    37.0\n",
       "37    38.0\n",
       "38    39.0\n",
       "39    fizz\n",
       "40    41.0\n",
       "41    buzz\n",
       "42    43.0\n",
       "43    44.0\n",
       "44    fizz\n",
       "45    46.0\n",
       "46    47.0\n",
       "47    48.0\n",
       "48    buzz\n",
       "49    fizz\n",
       "Name: y, dtype: object"
      ]
     },
     "execution_count": 6,
     "metadata": {},
     "output_type": "execute_result"
    }
   ],
   "source": [
    "df >> mutate(y=case_when(\n",
    "    f.x % 35 == 0, NA,\n",
    "    f.x % 5 == 0,  \"fizz\",\n",
    "    f.x % 7 == 0,  \"buzz\",\n",
    "    True,          as_character(f.x)\n",
    ")) >> pull(f.y)"
   ]
  },
  {
   "cell_type": "code",
   "execution_count": 7,
   "id": "requested-ladder",
   "metadata": {
    "execution": {
     "iopub.execute_input": "2021-07-16T22:27:15.825575Z",
     "iopub.status.busy": "2021-07-16T22:27:15.824959Z",
     "iopub.status.idle": "2021-07-16T22:27:15.853124Z",
     "shell.execute_reply": "2021-07-16T22:27:15.853650Z"
    }
   },
   "outputs": [
    {
     "data": {
      "text/plain": [
       "0      NaN\n",
       "1      NaN\n",
       "2      NaN\n",
       "3      NaN\n",
       "4      5.0\n",
       "5      NaN\n",
       "6      7.0\n",
       "7      NaN\n",
       "8      NaN\n",
       "9      5.0\n",
       "10     NaN\n",
       "11     NaN\n",
       "12     NaN\n",
       "13     7.0\n",
       "14     5.0\n",
       "15     NaN\n",
       "16     NaN\n",
       "17     NaN\n",
       "18     NaN\n",
       "19     5.0\n",
       "20     7.0\n",
       "21     NaN\n",
       "22     NaN\n",
       "23     NaN\n",
       "24     5.0\n",
       "25     NaN\n",
       "26     NaN\n",
       "27     7.0\n",
       "28     NaN\n",
       "29     5.0\n",
       "30     NaN\n",
       "31     NaN\n",
       "32     NaN\n",
       "33     NaN\n",
       "34    35.0\n",
       "35     NaN\n",
       "36     NaN\n",
       "37     NaN\n",
       "38     NaN\n",
       "39     5.0\n",
       "40     NaN\n",
       "41     7.0\n",
       "42     NaN\n",
       "43     NaN\n",
       "44     5.0\n",
       "45     NaN\n",
       "46     NaN\n",
       "47     NaN\n",
       "48     7.0\n",
       "49     5.0\n",
       "Name: y, dtype: float64"
      ]
     },
     "execution_count": 7,
     "metadata": {},
     "output_type": "execute_result"
    }
   ],
   "source": [
    "df >> mutate(y=case_when(\n",
    "    f.x % 35 == 0, 35,\n",
    "    f.x % 5 == 0,  5,\n",
    "    f.x % 7 == 0,  7,\n",
    "    True,          NA)\n",
    ") >> pull(f.y)"
   ]
  },
  {
   "cell_type": "code",
   "execution_count": 8,
   "id": "varying-terminology",
   "metadata": {
    "execution": {
     "iopub.execute_input": "2021-07-16T22:27:15.884632Z",
     "iopub.status.busy": "2021-07-16T22:27:15.883974Z",
     "iopub.status.idle": "2021-07-16T22:27:15.908989Z",
     "shell.execute_reply": "2021-07-16T22:27:15.909500Z"
    }
   },
   "outputs": [
    {
     "name": "stderr",
     "output_type": "stream",
     "text": [
      "/home/pwwang/miniconda3/lib/python3.9/site-packages/pandas/core/arraylike.py:397: RuntimeWarning: invalid value encountered in sqrt\n",
      "  result = getattr(ufunc, method)(*inputs, **kwargs)\n"
     ]
    },
    {
     "data": {
      "text/plain": [
       "0   -2.000000\n",
       "1   -1.500000\n",
       "2   -1.000000\n",
       "3   -0.500000\n",
       "4    0.000000\n",
       "5    0.707107\n",
       "6    1.000000\n",
       "7    1.224745\n",
       "8    1.414214\n",
       "Name: y, dtype: float64"
      ]
     },
     "execution_count": 8,
     "metadata": {},
     "output_type": "execute_result"
    }
   ],
   "source": [
    "df = tibble(x=seq(-2, 2.1, by=.5))\n",
    "df >> mutate(y=case_when(\n",
    "    f.x >= 0, sqrt(f.x),\n",
    "    True,     f.x\n",
    ")) >> pull(f.y)"
   ]
  },
  {
   "cell_type": "code",
   "execution_count": 9,
   "id": "intermediate-edmonton",
   "metadata": {
    "execution": {
     "iopub.execute_input": "2021-07-16T22:27:15.965870Z",
     "iopub.status.busy": "2021-07-16T22:27:15.965261Z",
     "iopub.status.idle": "2021-07-16T22:27:16.065510Z",
     "shell.execute_reply": "2021-07-16T22:27:16.064592Z"
    }
   },
   "outputs": [
    {
     "data": {
      "text/html": [
       "<div>\n",
       "<style scoped>\n",
       "    .dataframe tbody tr th:only-of-type {\n",
       "        vertical-align: middle;\n",
       "    }\n",
       "\n",
       "    .dataframe tbody tr th {\n",
       "        vertical-align: top;\n",
       "    }\n",
       "\n",
       "    .dataframe thead th {\n",
       "        text-align: right;\n",
       "    }\n",
       "</style>\n",
       "<table border=\"1\" class=\"dataframe\">\n",
       "  <thead>\n",
       "    <tr style=\"text-align: right;\">\n",
       "      <th></th>\n",
       "      <th>name</th>\n",
       "      <th>height</th>\n",
       "      <th>gender</th>\n",
       "      <th>species</th>\n",
       "      <th>type</th>\n",
       "    </tr>\n",
       "  </thead>\n",
       "  <tbody>\n",
       "    <tr>\n",
       "      <th style=\"font-style: italic;\" ></th>\n",
       "      <td style=\"font-style: italic;\" >&lt;object&gt;</td>\n",
       "      <td style=\"font-style: italic;\" >&lt;float64&gt;</td>\n",
       "      <td style=\"font-style: italic;\" >&lt;object&gt;</td>\n",
       "      <td style=\"font-style: italic;\" >&lt;object&gt;</td>\n",
       "      <td style=\"font-style: italic;\" >&lt;object&gt;</td>\n",
       "    </tr>\n",
       "    <tr>\n",
       "      <th>0</th>\n",
       "      <td>Luke Skywalker</td>\n",
       "      <td>172.0</td>\n",
       "      <td>masculine</td>\n",
       "      <td>Human</td>\n",
       "      <td>other</td>\n",
       "    </tr>\n",
       "    <tr>\n",
       "      <th>1</th>\n",
       "      <td>C-3PO</td>\n",
       "      <td>167.0</td>\n",
       "      <td>masculine</td>\n",
       "      <td>Droid</td>\n",
       "      <td>robot</td>\n",
       "    </tr>\n",
       "    <tr>\n",
       "      <th>2</th>\n",
       "      <td>R2-D2</td>\n",
       "      <td>96.0</td>\n",
       "      <td>masculine</td>\n",
       "      <td>Droid</td>\n",
       "      <td>robot</td>\n",
       "    </tr>\n",
       "    <tr>\n",
       "      <th>3</th>\n",
       "      <td>Darth Vader</td>\n",
       "      <td>202.0</td>\n",
       "      <td>masculine</td>\n",
       "      <td>Human</td>\n",
       "      <td>large</td>\n",
       "    </tr>\n",
       "    <tr>\n",
       "      <th>...</th>\n",
       "      <td>...</td>\n",
       "      <td>...</td>\n",
       "      <td>...</td>\n",
       "      <td>...</td>\n",
       "      <td>...</td>\n",
       "    </tr>\n",
       "    <tr>\n",
       "      <th>4</th>\n",
       "      <td>Leia Organa</td>\n",
       "      <td>150.0</td>\n",
       "      <td>feminine</td>\n",
       "      <td>Human</td>\n",
       "      <td>other</td>\n",
       "    </tr>\n",
       "    <tr>\n",
       "      <th>82</th>\n",
       "      <td>Rey</td>\n",
       "      <td>NaN</td>\n",
       "      <td>feminine</td>\n",
       "      <td>Human</td>\n",
       "      <td>other</td>\n",
       "    </tr>\n",
       "    <tr>\n",
       "      <th>83</th>\n",
       "      <td>Poe Dameron</td>\n",
       "      <td>NaN</td>\n",
       "      <td>masculine</td>\n",
       "      <td>Human</td>\n",
       "      <td>other</td>\n",
       "    </tr>\n",
       "    <tr>\n",
       "      <th>84</th>\n",
       "      <td>BB8</td>\n",
       "      <td>NaN</td>\n",
       "      <td>masculine</td>\n",
       "      <td>Droid</td>\n",
       "      <td>robot</td>\n",
       "    </tr>\n",
       "    <tr>\n",
       "      <th>85</th>\n",
       "      <td>Captain Phasma</td>\n",
       "      <td>NaN</td>\n",
       "      <td>NaN</td>\n",
       "      <td>NaN</td>\n",
       "      <td>other</td>\n",
       "    </tr>\n",
       "    <tr>\n",
       "      <th>86</th>\n",
       "      <td>Padmé Amidala</td>\n",
       "      <td>165.0</td>\n",
       "      <td>feminine</td>\n",
       "      <td>Human</td>\n",
       "      <td>other</td>\n",
       "    </tr>\n",
       "  </tbody>\n",
       "</table>\n",
       "<p>87 rows × 5 columns</p>\n",
       "</div>\n"
      ],
      "text/plain": [
       "              name    height     gender  species     type\n",
       "          <object> <float64>   <object> <object> <object>\n",
       "0   Luke Skywalker     172.0  masculine    Human    other\n",
       "1            C-3PO     167.0  masculine    Droid    robot\n",
       "2            R2-D2      96.0  masculine    Droid    robot\n",
       "3      Darth Vader     202.0  masculine    Human    large\n",
       "..             ...       ...        ...      ...      ...\n",
       "4      Leia Organa     150.0   feminine    Human    other\n",
       "82             Rey       NaN   feminine    Human    other\n",
       "83     Poe Dameron       NaN  masculine    Human    other\n",
       "84             BB8       NaN  masculine    Droid    robot\n",
       "85  Captain Phasma       NaN        NaN      NaN    other\n",
       "86   Padmé Amidala     165.0   feminine    Human    other\n",
       "\n",
       "[87 rows x 5 columns]"
      ]
     },
     "execution_count": 9,
     "metadata": {},
     "output_type": "execute_result"
    }
   ],
   "source": [
    "starwars >> \\\n",
    "  select(f[f.name:f.mass], f.gender, f.species) >> \\\n",
    "  mutate(\n",
    "    type = case_when(\n",
    "      f.height > 200 or f.mass > 200, \"large\",\n",
    "      f.species == \"Droid\"          , \"robot\",\n",
    "      True                          , \"other\"\n",
    "    )\n",
    "  )"
   ]
  },
  {
   "cell_type": "code",
   "execution_count": 10,
   "id": "metallic-wilderness",
   "metadata": {
    "execution": {
     "iopub.execute_input": "2021-07-16T22:27:16.098307Z",
     "iopub.status.busy": "2021-07-16T22:27:16.097560Z",
     "iopub.status.idle": "2021-07-16T22:27:16.126493Z",
     "shell.execute_reply": "2021-07-16T22:27:16.120350Z"
    }
   },
   "outputs": [
    {
     "data": {
      "text/plain": [
       "0     other\n",
       "1     robot\n",
       "2     robot\n",
       "3     large\n",
       "4     other\n",
       "      ...  \n",
       "82    other\n",
       "83    other\n",
       "84    robot\n",
       "85    other\n",
       "86    other\n",
       "Name: type, Length: 87, dtype: object"
      ]
     },
     "execution_count": 10,
     "metadata": {},
     "output_type": "execute_result"
    }
   ],
   "source": [
    "starwars >> \\\n",
    "  mutate(type=case_when(\n",
    "    f.height > 200 or f.mass > 200, \"large\",\n",
    "    f.species == \"Droid\",           \"robot\",\n",
    "    True,                           \"other\"\n",
    "  )) >> \\\n",
    "  pull(f.type)"
   ]
  },
  {
   "cell_type": "code",
   "execution_count": null,
   "id": "closed-student",
   "metadata": {},
   "outputs": [],
   "source": []
  }
 ],
 "metadata": {
  "kernelspec": {
   "display_name": "Python 3",
   "language": "python",
   "name": "python3"
  },
  "language_info": {
   "codemirror_mode": {
    "name": "ipython",
    "version": 3
   },
   "file_extension": ".py",
   "mimetype": "text/x-python",
   "name": "python",
   "nbconvert_exporter": "python",
   "pygments_lexer": "ipython3",
   "version": "3.9.5"
  }
 },
 "nbformat": 4,
 "nbformat_minor": 5
}
