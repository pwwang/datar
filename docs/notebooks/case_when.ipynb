{
 "cells": [
  {
   "cell_type": "code",
   "execution_count": 1,
   "id": "registered-ghost",
   "metadata": {
    "execution": {
     "iopub.execute_input": "2021-07-16T22:27:14.044369Z",
     "iopub.status.busy": "2021-07-16T22:27:14.043571Z",
     "iopub.status.idle": "2021-07-16T22:27:15.175374Z",
     "shell.execute_reply": "2021-07-16T22:27:15.175875Z"
    }
   },
   "outputs": [
    {
     "data": {
      "text/html": [
       "<div style=\"text-align: right; text-style: italic\">Try this notebook on <a target=\"_blank\" href=\"https://mybinder.org/v2/gh/pwwang/datar/dev?filepath=docs%2Fnotebooks%2Fcase_when.ipynb\">binder</a>.</div>"
      ],
      "text/plain": [
       "<IPython.core.display.HTML object>"
      ]
     },
     "metadata": {},
     "output_type": "display_data"
    },
    {
     "data": {
      "text/markdown": [
       "### <div style=\"background-color: #EEE; padding: 5px 0 8px 0\">★ case_when</div>"
      ],
      "text/plain": [
       "<IPython.core.display.Markdown object>"
      ]
     },
     "metadata": {},
     "output_type": "display_data"
    },
    {
     "data": {
      "text/markdown": [
       "##### Vectorise multiple `if_else()` statements.\n",
       "\n",
       "##### Args:\n",
       "&emsp;&emsp;`*when_cases`: A even-size sequence, with 2n-th element values to match,  \n",
       "&emsp;&emsp;&emsp;&emsp;and 2(n+1)-th element the values to replace.  \n",
       "&emsp;&emsp;&emsp;&emsp;When matching value is True, then next value will be default to  \n",
       "&emsp;&emsp;&emsp;&emsp;replace  \n",
       "\n",
       "##### Returns:\n",
       "&emsp;&emsp;A series with values replaced  \n"
      ],
      "text/plain": [
       "<IPython.core.display.Markdown object>"
      ]
     },
     "metadata": {},
     "output_type": "display_data"
    }
   ],
   "source": [
    "# https://dplyr.tidyverse.org/reference/case_when.html\n",
    "%run nb_helpers.py\n",
    "\n",
    "from datar.datasets import starwars \n",
    "from datar.all import *\n",
    "\n",
    "nb_header(case_when)"
   ]
  },
  {
   "cell_type": "code",
   "execution_count": 2,
   "id": "inclusive-benjamin",
   "metadata": {
    "execution": {
     "iopub.execute_input": "2021-07-16T22:27:15.227937Z",
     "iopub.status.busy": "2021-07-16T22:27:15.227306Z",
     "iopub.status.idle": "2021-07-16T22:27:15.536094Z",
     "shell.execute_reply": "2021-07-16T22:27:15.537184Z"
    }
   },
   "outputs": [
    {
     "data": {
      "text/plain": [
       "array(['1', '2', '3', '4', 'fizz', '6', 'buzz', '8', '9', 'fizz', '11',\n",
       "       '12', '13', 'buzz', 'fizz', '16', '17', '18', '19', 'fizz', 'buzz',\n",
       "       '22', '23', '24', 'fizz', '26', '27', 'buzz', '29', 'fizz', '31',\n",
       "       '32', '33', '34', 'fizz buzz', '36', '37', '38', '39', 'fizz',\n",
       "       '41', 'buzz', '43', '44', 'fizz', '46', '47', '48', 'buzz', 'fizz'],\n",
       "      dtype=object)"
      ]
     },
     "execution_count": 2,
     "metadata": {},
     "output_type": "execute_result"
    }
   ],
   "source": [
    "df = tibble(x=range(1,51))\n",
    "df >> mutate(y=case_when(\n",
    "    f.x % 35 == 0, \"fizz buzz\",\n",
    "    f.x % 5 == 0,  \"fizz\",\n",
    "    f.x % 7 == 0,  \"buzz\",\n",
    "    True,          as_character(f.x)\n",
    ")) >> pull(f.y, to=\"array\")"
   ]
  },
  {
   "cell_type": "code",
   "execution_count": 3,
   "id": "affecting-supervision",
   "metadata": {
    "execution": {
     "iopub.execute_input": "2021-07-16T22:27:15.608577Z",
     "iopub.status.busy": "2021-07-16T22:27:15.608002Z",
     "iopub.status.idle": "2021-07-16T22:27:15.623803Z",
     "shell.execute_reply": "2021-07-16T22:27:15.624350Z"
    }
   },
   "outputs": [
    {
     "data": {
      "text/plain": [
       "array(['1', '2', '3', '4', '5', '6', '7', '8', '9', '10', '11', '12',\n",
       "       '13', '14', '15', '16', '17', '18', '19', '20', '21', '22', '23',\n",
       "       '24', '25', '26', '27', '28', '29', '30', '31', '32', '33', '34',\n",
       "       '35', '36', '37', '38', '39', '40', '41', '42', '43', '44', '45',\n",
       "       '46', '47', '48', '49', '50'], dtype=object)"
      ]
     },
     "execution_count": 3,
     "metadata": {},
     "output_type": "execute_result"
    }
   ],
   "source": [
    "df >> mutate(y=case_when(\n",
    "    True,          as_character(f.x),\n",
    "    f.x % 5 == 0,  \"fizz\",\n",
    "    f.x % 7 == 0,  \"buzz\",\n",
    "    f.x % 35 == 0, \"fizz buzz\"\n",
    ")) >> pull(f.y, to=\"array\")"
   ]
  },
  {
   "cell_type": "code",
   "execution_count": 4,
   "id": "contrary-infrastructure",
   "metadata": {
    "execution": {
     "iopub.execute_input": "2021-07-16T22:27:15.660776Z",
     "iopub.status.busy": "2021-07-16T22:27:15.659888Z",
     "iopub.status.idle": "2021-07-16T22:27:15.681510Z",
     "shell.execute_reply": "2021-07-16T22:27:15.681883Z"
    }
   },
   "outputs": [
    {
     "data": {
      "text/plain": [
       "array([nan, nan, nan, nan, 'fizz', nan, 'buzz', nan, nan, 'fizz', nan,\n",
       "       nan, nan, 'buzz', 'fizz', nan, nan, nan, nan, 'fizz', 'buzz', nan,\n",
       "       nan, nan, 'fizz', nan, nan, 'buzz', nan, 'fizz', nan, nan, nan,\n",
       "       nan, 'fizz', nan, nan, nan, nan, 'fizz', nan, 'buzz', nan, nan,\n",
       "       'fizz', nan, nan, nan, 'buzz', 'fizz'], dtype=object)"
      ]
     },
     "execution_count": 4,
     "metadata": {},
     "output_type": "execute_result"
    }
   ],
   "source": [
    "df >> mutate(y=case_when(\n",
    "    f.x % 5 == 0,  \"fizz\",\n",
    "    f.x % 7 == 0,  \"buzz\",\n",
    "    f.x % 35 == 0, \"fizz buzz\"\n",
    ")) >> pull(f.y, to=\"array\")"
   ]
  },
  {
   "cell_type": "code",
   "execution_count": 5,
   "id": "usual-paragraph",
   "metadata": {
    "execution": {
     "iopub.execute_input": "2021-07-16T22:27:15.724536Z",
     "iopub.status.busy": "2021-07-16T22:27:15.723876Z",
     "iopub.status.idle": "2021-07-16T22:27:15.746479Z",
     "shell.execute_reply": "2021-07-16T22:27:15.746895Z"
    }
   },
   "outputs": [
    {
     "data": {
      "text/plain": [
       "array(['1.0', 'nope', 'nope', 'nope', 'fizz', '6.0', 'buzz', '8.0', '9.0',\n",
       "       'fizz', '11.0', '12.0', '13.0', 'buzz', 'fizz', '16.0', '17.0',\n",
       "       '18.0', '19.0', 'fizz', 'buzz', '22.0', '23.0', '24.0', 'fizz',\n",
       "       '26.0', '27.0', 'buzz', '29.0', 'fizz', '31.0', '32.0', '33.0',\n",
       "       '34.0', 'fizz buzz', '36.0', '37.0', '38.0', '39.0', 'fizz',\n",
       "       '41.0', 'buzz', '43.0', '44.0', 'fizz', '46.0', '47.0', '48.0',\n",
       "       'buzz', 'fizz'], dtype=object)"
      ]
     },
     "execution_count": 5,
     "metadata": {},
     "output_type": "execute_result"
    }
   ],
   "source": [
    "df.iloc[[1,2,3], 0] = NA\n",
    "\n",
    "df >> mutate(y=case_when(\n",
    "    f.x % 35 == 0, \"fizz buzz\",\n",
    "    f.x % 5 == 0,  \"fizz\",\n",
    "    f.x % 7 == 0,  \"buzz\",\n",
    "    is_na(f.x),    \"nope\",\n",
    "    True,          as_character(f.x)\n",
    ")) >> pull(f.y, to=\"array\")"
   ]
  },
  {
   "cell_type": "code",
   "execution_count": 6,
   "id": "waiting-jurisdiction",
   "metadata": {
    "execution": {
     "iopub.execute_input": "2021-07-16T22:27:15.789908Z",
     "iopub.status.busy": "2021-07-16T22:27:15.789318Z",
     "iopub.status.idle": "2021-07-16T22:27:15.804195Z",
     "shell.execute_reply": "2021-07-16T22:27:15.804900Z"
    }
   },
   "outputs": [
    {
     "data": {
      "text/plain": [
       "array(['1.0', nan, nan, nan, 'fizz', '6.0', 'buzz', '8.0', '9.0', 'fizz',\n",
       "       '11.0', '12.0', '13.0', 'buzz', 'fizz', '16.0', '17.0', '18.0',\n",
       "       '19.0', 'fizz', 'buzz', '22.0', '23.0', '24.0', 'fizz', '26.0',\n",
       "       '27.0', 'buzz', '29.0', 'fizz', '31.0', '32.0', '33.0', '34.0',\n",
       "       nan, '36.0', '37.0', '38.0', '39.0', 'fizz', '41.0', 'buzz',\n",
       "       '43.0', '44.0', 'fizz', '46.0', '47.0', '48.0', 'buzz', 'fizz'],\n",
       "      dtype=object)"
      ]
     },
     "execution_count": 6,
     "metadata": {},
     "output_type": "execute_result"
    }
   ],
   "source": [
    "df >> mutate(y=case_when(\n",
    "    f.x % 35 == 0, NA,\n",
    "    f.x % 5 == 0,  \"fizz\",\n",
    "    f.x % 7 == 0,  \"buzz\",\n",
    "    True,          as_character(f.x)\n",
    ")) >> pull(f.y, to=\"array\")"
   ]
  },
  {
   "cell_type": "code",
   "execution_count": 7,
   "id": "requested-ladder",
   "metadata": {
    "execution": {
     "iopub.execute_input": "2021-07-16T22:27:15.825575Z",
     "iopub.status.busy": "2021-07-16T22:27:15.824959Z",
     "iopub.status.idle": "2021-07-16T22:27:15.853124Z",
     "shell.execute_reply": "2021-07-16T22:27:15.853650Z"
    }
   },
   "outputs": [
    {
     "data": {
      "text/plain": [
       "array([nan, nan, nan, nan,  5., nan,  7., nan, nan,  5., nan, nan, nan,\n",
       "        7.,  5., nan, nan, nan, nan,  5.,  7., nan, nan, nan,  5., nan,\n",
       "       nan,  7., nan,  5., nan, nan, nan, nan, 35., nan, nan, nan, nan,\n",
       "        5., nan,  7., nan, nan,  5., nan, nan, nan,  7.,  5.])"
      ]
     },
     "execution_count": 7,
     "metadata": {},
     "output_type": "execute_result"
    }
   ],
   "source": [
    "df >> mutate(y=case_when(\n",
    "    f.x % 35 == 0, 35,\n",
    "    f.x % 5 == 0,  5,\n",
    "    f.x % 7 == 0,  7,\n",
    "    True,          NA)\n",
    ") >> pull(f.y, to=\"array\")"
   ]
  },
  {
   "cell_type": "code",
   "execution_count": 8,
   "id": "varying-terminology",
   "metadata": {
    "execution": {
     "iopub.execute_input": "2021-07-16T22:27:15.884632Z",
     "iopub.status.busy": "2021-07-16T22:27:15.883974Z",
     "iopub.status.idle": "2021-07-16T22:27:15.908989Z",
     "shell.execute_reply": "2021-07-16T22:27:15.909500Z"
    }
   },
   "outputs": [
    {
     "name": "stderr",
     "output_type": "stream",
     "text": [
      "/home/pwwang/miniconda3/lib/python3.9/site-packages/pandas/core/arraylike.py:397: RuntimeWarning: invalid value encountered in sqrt\n",
      "  result = getattr(ufunc, method)(*inputs, **kwargs)\n"
     ]
    },
    {
     "data": {
      "text/plain": [
       "array([-2.        , -1.5       , -1.        , -0.5       ,  0.        ,\n",
       "        0.70710678,  1.        ,  1.22474487,  1.41421356])"
      ]
     },
     "execution_count": 8,
     "metadata": {},
     "output_type": "execute_result"
    }
   ],
   "source": [
    "df = tibble(x=seq(-2, 2.1, by=.5))\n",
    "df >> mutate(y=case_when(\n",
    "    f.x >= 0, sqrt(f.x),\n",
    "    True,     f.x\n",
    ")) >> pull(f.y, to=\"array\")"
   ]
  },
  {
   "cell_type": "code",
   "execution_count": 9,
   "id": "intermediate-edmonton",
   "metadata": {
    "execution": {
     "iopub.execute_input": "2021-07-16T22:27:15.965870Z",
     "iopub.status.busy": "2021-07-16T22:27:15.965261Z",
     "iopub.status.idle": "2021-07-16T22:27:16.065510Z",
     "shell.execute_reply": "2021-07-16T22:27:16.064592Z"
    }
   },
   "outputs": [
    {
     "data": {
      "text/html": [
       "<div>\n",
       "<style scoped>\n",
       "    .dataframe tbody tr th:only-of-type {\n",
       "        vertical-align: middle;\n",
       "    }\n",
       "\n",
       "    .dataframe tbody tr th {\n",
       "        vertical-align: top;\n",
       "    }\n",
       "\n",
       "    .dataframe thead th {\n",
       "        text-align: right;\n",
       "    }\n",
       "</style>\n",
       "<table border=\"1\" class=\"dataframe\">\n",
       "  <thead>\n",
       "    <tr style=\"text-align: right;\">\n",
       "      <th></th>\n",
       "      <th>name</th>\n",
       "      <th>height</th>\n",
       "      <th>mass</th>\n",
       "      <th>gender</th>\n",
       "      <th>species</th>\n",
       "      <th>type</th>\n",
       "    </tr>\n",
       "  </thead>\n",
       "  <tbody>\n",
       "    <tr>\n",
       "      <th style=\"font-style: italic;\" ></th>\n",
       "      <td style=\"font-style: italic;\" >&lt;object&gt;</td>\n",
       "      <td style=\"font-style: italic;\" >&lt;float64&gt;</td>\n",
       "      <td style=\"font-style: italic;\" >&lt;float64&gt;</td>\n",
       "      <td style=\"font-style: italic;\" >&lt;object&gt;</td>\n",
       "      <td style=\"font-style: italic;\" >&lt;object&gt;</td>\n",
       "      <td style=\"font-style: italic;\" >&lt;object&gt;</td>\n",
       "    </tr>\n",
       "    <tr>\n",
       "      <th>0</th>\n",
       "      <td>Luke Skywalker</td>\n",
       "      <td>172.0</td>\n",
       "      <td>77.0</td>\n",
       "      <td>masculine</td>\n",
       "      <td>Human</td>\n",
       "      <td>other</td>\n",
       "    </tr>\n",
       "    <tr>\n",
       "      <th>1</th>\n",
       "      <td>C-3PO</td>\n",
       "      <td>167.0</td>\n",
       "      <td>75.0</td>\n",
       "      <td>masculine</td>\n",
       "      <td>Droid</td>\n",
       "      <td>robot</td>\n",
       "    </tr>\n",
       "    <tr>\n",
       "      <th>2</th>\n",
       "      <td>R2-D2</td>\n",
       "      <td>96.0</td>\n",
       "      <td>32.0</td>\n",
       "      <td>masculine</td>\n",
       "      <td>Droid</td>\n",
       "      <td>robot</td>\n",
       "    </tr>\n",
       "    <tr>\n",
       "      <th>3</th>\n",
       "      <td>Darth Vader</td>\n",
       "      <td>202.0</td>\n",
       "      <td>136.0</td>\n",
       "      <td>masculine</td>\n",
       "      <td>Human</td>\n",
       "      <td>large</td>\n",
       "    </tr>\n",
       "    <tr>\n",
       "      <th>...</th>\n",
       "      <td>...</td>\n",
       "      <td>...</td>\n",
       "      <td>...</td>\n",
       "      <td>...</td>\n",
       "      <td>...</td>\n",
       "      <td>...</td>\n",
       "    </tr>\n",
       "    <tr>\n",
       "      <th>4</th>\n",
       "      <td>Leia Organa</td>\n",
       "      <td>150.0</td>\n",
       "      <td>49.0</td>\n",
       "      <td>feminine</td>\n",
       "      <td>Human</td>\n",
       "      <td>other</td>\n",
       "    </tr>\n",
       "    <tr>\n",
       "      <th>82</th>\n",
       "      <td>Rey</td>\n",
       "      <td>NaN</td>\n",
       "      <td>NaN</td>\n",
       "      <td>feminine</td>\n",
       "      <td>Human</td>\n",
       "      <td>other</td>\n",
       "    </tr>\n",
       "    <tr>\n",
       "      <th>83</th>\n",
       "      <td>Poe Dameron</td>\n",
       "      <td>NaN</td>\n",
       "      <td>NaN</td>\n",
       "      <td>masculine</td>\n",
       "      <td>Human</td>\n",
       "      <td>other</td>\n",
       "    </tr>\n",
       "    <tr>\n",
       "      <th>84</th>\n",
       "      <td>BB8</td>\n",
       "      <td>NaN</td>\n",
       "      <td>NaN</td>\n",
       "      <td>masculine</td>\n",
       "      <td>Droid</td>\n",
       "      <td>robot</td>\n",
       "    </tr>\n",
       "    <tr>\n",
       "      <th>85</th>\n",
       "      <td>Captain Phasma</td>\n",
       "      <td>NaN</td>\n",
       "      <td>NaN</td>\n",
       "      <td>NaN</td>\n",
       "      <td>NaN</td>\n",
       "      <td>other</td>\n",
       "    </tr>\n",
       "    <tr>\n",
       "      <th>86</th>\n",
       "      <td>Padmé Amidala</td>\n",
       "      <td>165.0</td>\n",
       "      <td>45.0</td>\n",
       "      <td>feminine</td>\n",
       "      <td>Human</td>\n",
       "      <td>other</td>\n",
       "    </tr>\n",
       "  </tbody>\n",
       "</table>\n",
       "<p>87 rows × 6 columns</p>\n",
       "</div>\n"
      ],
      "text/plain": [
       "              name    height      mass     gender  species     type\n",
       "          <object> <float64> <float64>   <object> <object> <object>\n",
       "0   Luke Skywalker     172.0      77.0  masculine    Human    other\n",
       "1            C-3PO     167.0      75.0  masculine    Droid    robot\n",
       "2            R2-D2      96.0      32.0  masculine    Droid    robot\n",
       "3      Darth Vader     202.0     136.0  masculine    Human    large\n",
       "..             ...       ...       ...        ...      ...      ...\n",
       "4      Leia Organa     150.0      49.0   feminine    Human    other\n",
       "82             Rey       NaN       NaN   feminine    Human    other\n",
       "83     Poe Dameron       NaN       NaN  masculine    Human    other\n",
       "84             BB8       NaN       NaN  masculine    Droid    robot\n",
       "85  Captain Phasma       NaN       NaN        NaN      NaN    other\n",
       "86   Padmé Amidala     165.0      45.0   feminine    Human    other\n",
       "\n",
       "[87 rows x 6 columns]"
      ]
     },
     "execution_count": 9,
     "metadata": {},
     "output_type": "execute_result"
    }
   ],
   "source": [
    "starwars >> \\\n",
    "  select(f[f.name:f.hair_color], f.gender, f.species) >> \\\n",
    "  mutate(\n",
    "    type = case_when(\n",
    "      (f.height > 200) | (f.mass > 200), \"large\",\n",
    "      f.species == \"Droid\"          , \"robot\",\n",
    "      True                          , \"other\"\n",
    "    )\n",
    "  )"
   ]
  },
  {
   "cell_type": "code",
   "execution_count": 10,
   "id": "metallic-wilderness",
   "metadata": {
    "execution": {
     "iopub.execute_input": "2021-07-16T22:27:16.098307Z",
     "iopub.status.busy": "2021-07-16T22:27:16.097560Z",
     "iopub.status.idle": "2021-07-16T22:27:16.126493Z",
     "shell.execute_reply": "2021-07-16T22:27:16.120350Z"
    }
   },
   "outputs": [
    {
     "data": {
      "text/plain": [
       "array(['other', 'robot', 'robot', 'large', 'other', 'other', 'other',\n",
       "       'robot', 'other', 'other', 'other', 'other', 'large', 'other',\n",
       "       'other', 'large', 'other', 'other', 'other', 'other', 'other',\n",
       "       'robot', 'other', 'other', 'other', 'other', 'other', 'other',\n",
       "       'other', 'other', 'other', 'other', 'other', 'other', 'large',\n",
       "       'large', 'other', 'other', 'other', 'other', 'other', 'other',\n",
       "       'other', 'other', 'other', 'other', 'other', 'other', 'other',\n",
       "       'other', 'other', 'other', 'other', 'large', 'other', 'other',\n",
       "       'other', 'other', 'other', 'other', 'other', 'other', 'other',\n",
       "       'other', 'other', 'other', 'other', 'other', 'large', 'large',\n",
       "       'other', 'other', 'robot', 'other', 'other', 'other', 'large',\n",
       "       'large', 'other', 'other', 'large', 'other', 'other', 'other',\n",
       "       'robot', 'other', 'other'], dtype=object)"
      ]
     },
     "execution_count": 10,
     "metadata": {},
     "output_type": "execute_result"
    }
   ],
   "source": [
    "starwars >> \\\n",
    "  mutate(type=case_when(\n",
    "    (f.height > 200) | (f.mass > 200), \"large\",\n",
    "    f.species == \"Droid\",           \"robot\",\n",
    "    True,                           \"other\"\n",
    "  )) >> \\\n",
    "  pull(f.type, to=\"array\")"
   ]
  },
  {
   "cell_type": "code",
   "execution_count": null,
   "id": "closed-student",
   "metadata": {},
   "outputs": [],
   "source": []
  }
 ],
 "metadata": {
  "kernelspec": {
   "display_name": "Python 3",
   "language": "python",
   "name": "python3"
  },
  "language_info": {
   "codemirror_mode": {
    "name": "ipython",
    "version": 3
   },
   "file_extension": ".py",
   "mimetype": "text/x-python",
   "name": "python",
   "nbconvert_exporter": "python",
   "pygments_lexer": "ipython3",
   "version": "3.9.5"
  }
 },
 "nbformat": 4,
 "nbformat_minor": 5
}
