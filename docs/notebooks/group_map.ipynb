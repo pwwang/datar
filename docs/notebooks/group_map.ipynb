{
 "cells": [
  {
   "cell_type": "code",
   "execution_count": 1,
   "id": "57a3cb89",
   "metadata": {
    "execution": {
     "iopub.execute_input": "2021-07-16T22:28:15.978059Z",
     "iopub.status.busy": "2021-07-16T22:28:15.977453Z",
     "iopub.status.idle": "2021-07-16T22:28:17.260200Z",
     "shell.execute_reply": "2021-07-16T22:28:17.260642Z"
    }
   },
   "outputs": [
    {
     "name": "stderr",
     "output_type": "stream",
     "text": [
      "[2022-03-06 01:54:27][datar][WARNING] Builtin name \"min\" has been overriden by datar.\n",
      "[2022-03-06 01:54:27][datar][WARNING] Builtin name \"max\" has been overriden by datar.\n",
      "[2022-03-06 01:54:27][datar][WARNING] Builtin name \"sum\" has been overriden by datar.\n",
      "[2022-03-06 01:54:27][datar][WARNING] Builtin name \"abs\" has been overriden by datar.\n",
      "[2022-03-06 01:54:27][datar][WARNING] Builtin name \"round\" has been overriden by datar.\n",
      "[2022-03-06 01:54:27][datar][WARNING] Builtin name \"all\" has been overriden by datar.\n",
      "[2022-03-06 01:54:27][datar][WARNING] Builtin name \"any\" has been overriden by datar.\n",
      "[2022-03-06 01:54:27][datar][WARNING] Builtin name \"re\" has been overriden by datar.\n",
      "[2022-03-06 01:54:27][datar][WARNING] Builtin name \"filter\" has been overriden by datar.\n",
      "[2022-03-06 01:54:27][datar][WARNING] Builtin name \"slice\" has been overriden by datar.\n"
     ]
    },
    {
     "data": {
      "text/html": [
       "<div style=\"text-align: right; text-style: italic\">Try this notebook on <a target=\"_blank\" href=\"https://mybinder.org/v2/gh/pwwang/datar/93d069f3ca36711fc811c61dcf60e9fc3d1460a5?filepath=docs%2Fnotebooks%2Fgroup_map.ipynb\">binder</a>.</div>"
      ],
      "text/plain": [
       "<IPython.core.display.HTML object>"
      ]
     },
     "metadata": {},
     "output_type": "display_data"
    },
    {
     "data": {
      "text/markdown": [
       "### # group_map  "
      ],
      "text/plain": [
       "<IPython.core.display.Markdown object>"
      ]
     },
     "metadata": {},
     "output_type": "display_data"
    },
    {
     "data": {
      "text/markdown": [
       "##### A generator to map function to data in each group\n"
      ],
      "text/plain": [
       "<IPython.core.display.Markdown object>"
      ]
     },
     "metadata": {},
     "output_type": "display_data"
    }
   ],
   "source": [
    "# https://dplyr.tidyverse.org/reference/group_map.html\n",
    "\n",
    "from datar.datasets import mtcars, iris\n",
    "from datar.all import *\n",
    "\n",
    "%run nb_helpers.py\n",
    "nb_header(group_map)"
   ]
  },
  {
   "cell_type": "code",
   "execution_count": 2,
   "id": "8dae4674",
   "metadata": {
    "execution": {
     "iopub.execute_input": "2021-07-16T22:28:17.269961Z",
     "iopub.status.busy": "2021-07-16T22:28:17.269298Z",
     "iopub.status.idle": "2021-07-16T22:28:17.374049Z",
     "shell.execute_reply": "2021-07-16T22:28:17.374622Z"
    }
   },
   "outputs": [
    {
     "data": {
      "text/plain": [
       "[        mpg      disp      hp      drat        wt      qsec      vs      am  \\\n",
       "   <float64> <float64> <int64> <float64> <float64> <float64> <int64> <int64>   \n",
       " 0      21.0     160.0     110       3.9     2.620     16.46       0       1   \n",
       " 1      21.0     160.0     110       3.9     2.875     17.02       0       1   \n",
       " \n",
       "      gear    carb  \n",
       "   <int64> <int64>  \n",
       " 0       4       4  \n",
       " 1       4       4  ,\n",
       "         mpg      disp      hp      drat        wt      qsec      vs      am  \\\n",
       "   <float64> <float64> <int64> <float64> <float64> <float64> <int64> <int64>   \n",
       " 0      22.8     108.0      93      3.85      2.32     18.61       1       1   \n",
       " 1      24.4     146.7      62      3.69      3.19     20.00       1       0   \n",
       " \n",
       "      gear    carb  \n",
       "   <int64> <int64>  \n",
       " 0       4       1  \n",
       " 1       4       2  ,\n",
       "         mpg      disp      hp      drat        wt      qsec      vs      am  \\\n",
       "   <float64> <float64> <int64> <float64> <float64> <float64> <int64> <int64>   \n",
       " 0      18.7     360.0     175      3.15      3.44     17.02       0       0   \n",
       " 1      14.3     360.0     245      3.21      3.57     15.84       0       0   \n",
       " \n",
       "      gear    carb  \n",
       "   <int64> <int64>  \n",
       " 0       3       2  \n",
       " 1       3       4  ]"
      ]
     },
     "execution_count": 2,
     "metadata": {},
     "output_type": "execute_result"
    }
   ],
   "source": [
    "list(\n",
    "  mtcars >> \\\n",
    "  group_by(f.cyl) >> \\\n",
    "  group_map(lambda df: df >> head(2))\n",
    ")\n"
   ]
  },
  {
   "cell_type": "code",
   "execution_count": 3,
   "id": "3dd99448",
   "metadata": {
    "execution": {
     "iopub.execute_input": "2021-07-16T22:28:17.471163Z",
     "iopub.status.busy": "2021-07-16T22:28:17.469789Z",
     "iopub.status.idle": "2021-07-16T22:28:17.656298Z",
     "shell.execute_reply": "2021-07-16T22:28:17.656823Z"
    }
   },
   "outputs": [
    {
     "data": {
      "text/html": [
       "<div>\n",
       "<style scoped>\n",
       "    .dataframe tbody tr th:only-of-type {\n",
       "        vertical-align: middle;\n",
       "    }\n",
       "\n",
       "    .dataframe tbody tr th {\n",
       "        vertical-align: top;\n",
       "    }\n",
       "\n",
       "    .dataframe thead th {\n",
       "        text-align: right;\n",
       "    }\n",
       "</style>\n",
       "<table border=\"1\" class=\"dataframe\">\n",
       "  <thead>\n",
       "    <tr style=\"text-align: right;\">\n",
       "      <th></th>\n",
       "      <th>cyl</th>\n",
       "      <th>mpg</th>\n",
       "      <th>disp</th>\n",
       "      <th>hp</th>\n",
       "      <th>drat</th>\n",
       "      <th>wt</th>\n",
       "      <th>qsec</th>\n",
       "      <th>vs</th>\n",
       "      <th>am</th>\n",
       "      <th>gear</th>\n",
       "      <th>carb</th>\n",
       "    </tr>\n",
       "  </thead>\n",
       "  <tbody>\n",
       "    <tr>\n",
       "      <th style=\"font-style: italic;\" ></th>\n",
       "      <td style=\"font-style: italic;\" >&lt;int64&gt;</td>\n",
       "      <td style=\"font-style: italic;\" >&lt;float64&gt;</td>\n",
       "      <td style=\"font-style: italic;\" >&lt;float64&gt;</td>\n",
       "      <td style=\"font-style: italic;\" >&lt;int64&gt;</td>\n",
       "      <td style=\"font-style: italic;\" >&lt;float64&gt;</td>\n",
       "      <td style=\"font-style: italic;\" >&lt;float64&gt;</td>\n",
       "      <td style=\"font-style: italic;\" >&lt;float64&gt;</td>\n",
       "      <td style=\"font-style: italic;\" >&lt;int64&gt;</td>\n",
       "      <td style=\"font-style: italic;\" >&lt;int64&gt;</td>\n",
       "      <td style=\"font-style: italic;\" >&lt;int64&gt;</td>\n",
       "      <td style=\"font-style: italic;\" >&lt;int64&gt;</td>\n",
       "    </tr>\n",
       "    <tr>\n",
       "      <th>0</th>\n",
       "      <td>6</td>\n",
       "      <td>21.0</td>\n",
       "      <td>160.0</td>\n",
       "      <td>110</td>\n",
       "      <td>3.90</td>\n",
       "      <td>2.620</td>\n",
       "      <td>16.46</td>\n",
       "      <td>0</td>\n",
       "      <td>1</td>\n",
       "      <td>4</td>\n",
       "      <td>4</td>\n",
       "    </tr>\n",
       "    <tr>\n",
       "      <th>1</th>\n",
       "      <td>6</td>\n",
       "      <td>21.0</td>\n",
       "      <td>160.0</td>\n",
       "      <td>110</td>\n",
       "      <td>3.90</td>\n",
       "      <td>2.875</td>\n",
       "      <td>17.02</td>\n",
       "      <td>0</td>\n",
       "      <td>1</td>\n",
       "      <td>4</td>\n",
       "      <td>4</td>\n",
       "    </tr>\n",
       "    <tr>\n",
       "      <th>0</th>\n",
       "      <td>4</td>\n",
       "      <td>22.8</td>\n",
       "      <td>108.0</td>\n",
       "      <td>93</td>\n",
       "      <td>3.85</td>\n",
       "      <td>2.320</td>\n",
       "      <td>18.61</td>\n",
       "      <td>1</td>\n",
       "      <td>1</td>\n",
       "      <td>4</td>\n",
       "      <td>1</td>\n",
       "    </tr>\n",
       "    <tr>\n",
       "      <th>1</th>\n",
       "      <td>4</td>\n",
       "      <td>24.4</td>\n",
       "      <td>146.7</td>\n",
       "      <td>62</td>\n",
       "      <td>3.69</td>\n",
       "      <td>3.190</td>\n",
       "      <td>20.00</td>\n",
       "      <td>1</td>\n",
       "      <td>0</td>\n",
       "      <td>4</td>\n",
       "      <td>2</td>\n",
       "    </tr>\n",
       "    <tr>\n",
       "      <th>0</th>\n",
       "      <td>8</td>\n",
       "      <td>18.7</td>\n",
       "      <td>360.0</td>\n",
       "      <td>175</td>\n",
       "      <td>3.15</td>\n",
       "      <td>3.440</td>\n",
       "      <td>17.02</td>\n",
       "      <td>0</td>\n",
       "      <td>0</td>\n",
       "      <td>3</td>\n",
       "      <td>2</td>\n",
       "    </tr>\n",
       "    <tr>\n",
       "      <th>1</th>\n",
       "      <td>8</td>\n",
       "      <td>14.3</td>\n",
       "      <td>360.0</td>\n",
       "      <td>245</td>\n",
       "      <td>3.21</td>\n",
       "      <td>3.570</td>\n",
       "      <td>15.84</td>\n",
       "      <td>0</td>\n",
       "      <td>0</td>\n",
       "      <td>3</td>\n",
       "      <td>4</td>\n",
       "    </tr>\n",
       "  </tbody>\n",
       "</table>\n",
       "</div>\n",
       "<p>TibbleGrouped: cyl (n=3)"
      ],
      "text/plain": [
       "      cyl       mpg      disp      hp      drat        wt      qsec      vs  \\\n",
       "  <int64> <float64> <float64> <int64> <float64> <float64> <float64> <int64>   \n",
       "0       6      21.0     160.0     110      3.90     2.620     16.46       0   \n",
       "1       6      21.0     160.0     110      3.90     2.875     17.02       0   \n",
       "0       4      22.8     108.0      93      3.85     2.320     18.61       1   \n",
       "1       4      24.4     146.7      62      3.69     3.190     20.00       1   \n",
       "0       8      18.7     360.0     175      3.15     3.440     17.02       0   \n",
       "1       8      14.3     360.0     245      3.21     3.570     15.84       0   \n",
       "\n",
       "       am    gear    carb  \n",
       "  <int64> <int64> <int64>  \n",
       "0       1       4       4  \n",
       "1       1       4       4  \n",
       "0       1       4       1  \n",
       "1       0       4       2  \n",
       "0       0       3       2  \n",
       "1       0       3       4  \n",
       "[TibbleGrouped: cyl (n=3)]"
      ]
     },
     "execution_count": 3,
     "metadata": {},
     "output_type": "execute_result"
    }
   ],
   "source": [
    "\n",
    "mtcars >> \\\n",
    "  group_by(f.cyl) >> \\\n",
    "  group_modify(lambda df: df >> head(2))"
   ]
  },
  {
   "cell_type": "code",
   "execution_count": 4,
   "id": "9713979f",
   "metadata": {
    "execution": {
     "iopub.execute_input": "2021-07-16T22:28:17.705307Z",
     "iopub.status.busy": "2021-07-16T22:28:17.704323Z",
     "iopub.status.idle": "2021-07-16T22:28:17.736655Z",
     "shell.execute_reply": "2021-07-16T22:28:17.733142Z"
    }
   },
   "outputs": [
    {
     "data": {
      "text/plain": [
       "[0.25    1.400\n",
       " 0.50    1.500\n",
       " 0.75    1.575\n",
       " Name: x, dtype: float64,\n",
       " 0.25    4.00\n",
       " 0.50    4.35\n",
       " 0.75    4.60\n",
       " Name: x, dtype: float64,\n",
       " 0.25    5.100\n",
       " 0.50    5.550\n",
       " 0.75    5.875\n",
       " Name: x, dtype: float64]"
      ]
     },
     "execution_count": 4,
     "metadata": {},
     "output_type": "execute_result"
    }
   ],
   "source": [
    "list(\n",
    "  iris >> \\\n",
    "  group_by(f.Species) >> \\\n",
    "  group_map(lambda df: quantile(df['Petal_Length'], probs=c(0.25, 0.5, 0.75)))\n",
    ")"
   ]
  },
  {
   "cell_type": "code",
   "execution_count": 5,
   "id": "f1da70a0",
   "metadata": {
    "execution": {
     "iopub.execute_input": "2021-07-16T22:28:17.775636Z",
     "iopub.status.busy": "2021-07-16T22:28:17.774540Z",
     "iopub.status.idle": "2021-07-16T22:28:17.786685Z",
     "shell.execute_reply": "2021-07-16T22:28:17.787352Z"
    }
   },
   "outputs": [
    {
     "name": "stdout",
     "output_type": "stream",
     "text": [
      "(50, 4)\n",
      "(50, 4)\n",
      "(50, 4)\n"
     ]
    }
   ],
   "source": [
    "iris >> \\\n",
    "  group_by(f.Species) >> \\\n",
    "  group_walk(lambda df: print(df.shape))"
   ]
  },
  {
   "cell_type": "code",
   "execution_count": 6,
   "id": "fe130860",
   "metadata": {
    "execution": {
     "iopub.execute_input": "2021-07-16T22:28:17.821207Z",
     "iopub.status.busy": "2021-07-16T22:28:17.820364Z",
     "iopub.status.idle": "2021-07-16T22:28:17.836773Z",
     "shell.execute_reply": "2021-07-16T22:28:17.837212Z"
    }
   },
   "outputs": [
    {
     "data": {
      "text/html": [
       "<div>\n",
       "<style scoped>\n",
       "    .dataframe tbody tr th:only-of-type {\n",
       "        vertical-align: middle;\n",
       "    }\n",
       "\n",
       "    .dataframe tbody tr th {\n",
       "        vertical-align: top;\n",
       "    }\n",
       "\n",
       "    .dataframe thead th {\n",
       "        text-align: right;\n",
       "    }\n",
       "</style>\n",
       "<table border=\"1\" class=\"dataframe\">\n",
       "  <thead>\n",
       "    <tr style=\"text-align: right;\">\n",
       "      <th></th>\n",
       "      <th>mpg</th>\n",
       "      <th>cyl</th>\n",
       "      <th>disp</th>\n",
       "      <th>hp</th>\n",
       "      <th>drat</th>\n",
       "      <th>wt</th>\n",
       "      <th>qsec</th>\n",
       "      <th>vs</th>\n",
       "      <th>am</th>\n",
       "      <th>gear</th>\n",
       "      <th>carb</th>\n",
       "    </tr>\n",
       "  </thead>\n",
       "  <tbody>\n",
       "    <tr>\n",
       "      <th style=\"font-style: italic;\" ></th>\n",
       "      <td style=\"font-style: italic;\" >&lt;float64&gt;</td>\n",
       "      <td style=\"font-style: italic;\" >&lt;int64&gt;</td>\n",
       "      <td style=\"font-style: italic;\" >&lt;float64&gt;</td>\n",
       "      <td style=\"font-style: italic;\" >&lt;int64&gt;</td>\n",
       "      <td style=\"font-style: italic;\" >&lt;float64&gt;</td>\n",
       "      <td style=\"font-style: italic;\" >&lt;float64&gt;</td>\n",
       "      <td style=\"font-style: italic;\" >&lt;float64&gt;</td>\n",
       "      <td style=\"font-style: italic;\" >&lt;int64&gt;</td>\n",
       "      <td style=\"font-style: italic;\" >&lt;int64&gt;</td>\n",
       "      <td style=\"font-style: italic;\" >&lt;int64&gt;</td>\n",
       "      <td style=\"font-style: italic;\" >&lt;int64&gt;</td>\n",
       "    </tr>\n",
       "    <tr>\n",
       "      <th>Mazda RX4</th>\n",
       "      <td>21.0</td>\n",
       "      <td>6</td>\n",
       "      <td>160.0</td>\n",
       "      <td>110</td>\n",
       "      <td>3.9</td>\n",
       "      <td>2.620</td>\n",
       "      <td>16.46</td>\n",
       "      <td>0</td>\n",
       "      <td>1</td>\n",
       "      <td>4</td>\n",
       "      <td>4</td>\n",
       "    </tr>\n",
       "    <tr>\n",
       "      <th>Mazda RX4 Wag</th>\n",
       "      <td>21.0</td>\n",
       "      <td>6</td>\n",
       "      <td>160.0</td>\n",
       "      <td>110</td>\n",
       "      <td>3.9</td>\n",
       "      <td>2.875</td>\n",
       "      <td>17.02</td>\n",
       "      <td>0</td>\n",
       "      <td>1</td>\n",
       "      <td>4</td>\n",
       "      <td>4</td>\n",
       "    </tr>\n",
       "  </tbody>\n",
       "</table>\n",
       "</div>\n"
      ],
      "text/plain": [
       "                    mpg     cyl      disp      hp      drat        wt  \\\n",
       "              <float64> <int64> <float64> <int64> <float64> <float64>   \n",
       "Mazda RX4          21.0       6     160.0     110       3.9     2.620   \n",
       "Mazda RX4 Wag      21.0       6     160.0     110       3.9     2.875   \n",
       "\n",
       "                   qsec      vs      am    gear    carb  \n",
       "              <float64> <int64> <int64> <int64> <int64>  \n",
       "Mazda RX4         16.46       0       1       4       4  \n",
       "Mazda RX4 Wag     17.02       0       1       4       4  "
      ]
     },
     "execution_count": 6,
     "metadata": {},
     "output_type": "execute_result"
    }
   ],
   "source": [
    "mtcars >> \\\n",
    "  group_modify(lambda df: df >> head(2))"
   ]
  },
  {
   "cell_type": "code",
   "execution_count": null,
   "id": "af50d40c",
   "metadata": {},
   "outputs": [],
   "source": []
  }
 ],
 "metadata": {
  "kernelspec": {
   "display_name": "Python 3",
   "language": "python",
   "name": "python3"
  },
  "language_info": {
   "codemirror_mode": {
    "name": "ipython",
    "version": 3
   },
   "file_extension": ".py",
   "mimetype": "text/x-python",
   "name": "python",
   "nbconvert_exporter": "python",
   "pygments_lexer": "ipython3",
   "version": "3.9.5"
  }
 },
 "nbformat": 4,
 "nbformat_minor": 5
}
