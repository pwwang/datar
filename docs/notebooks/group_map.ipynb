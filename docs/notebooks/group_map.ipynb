{
 "cells": [
  {
   "cell_type": "code",
   "execution_count": 1,
   "source": [
    "# https://dplyr.tidyverse.org/reference/group_map.html\n",
    "\n",
    "from datar.datasets import mtcars, iris\n",
    "from datar.all import *\n",
    "\n",
    "%run nb_helpers.py\n",
    "nb_header(group_map)"
   ],
   "outputs": [
    {
     "output_type": "stream",
     "name": "stderr",
     "text": [
      "[2021-06-21 14:08:16][datar][WARNING] Builtin name \"min\" has been overriden by datar.\n",
      "[2021-06-21 14:08:16][datar][WARNING] Builtin name \"max\" has been overriden by datar.\n",
      "[2021-06-21 14:08:16][datar][WARNING] Builtin name \"sum\" has been overriden by datar.\n",
      "[2021-06-21 14:08:16][datar][WARNING] Builtin name \"abs\" has been overriden by datar.\n",
      "[2021-06-21 14:08:16][datar][WARNING] Builtin name \"round\" has been overriden by datar.\n",
      "[2021-06-21 14:08:16][datar][WARNING] Builtin name \"all\" has been overriden by datar.\n",
      "[2021-06-21 14:08:16][datar][WARNING] Builtin name \"any\" has been overriden by datar.\n",
      "[2021-06-21 14:08:16][datar][WARNING] Builtin name \"re\" has been overriden by datar.\n",
      "[2021-06-21 14:08:16][datar][WARNING] Builtin name \"filter\" has been overriden by datar.\n",
      "[2021-06-21 14:08:16][datar][WARNING] Builtin name \"slice\" has been overriden by datar.\n"
     ]
    },
    {
     "output_type": "display_data",
     "data": {
      "text/plain": [
       "<IPython.core.display.HTML object>"
      ],
      "text/html": [
       "<div style=\"text-align: right; text-style: italic\">Try this notebook on <a target=\"_blank\" href=\"https://mybinder.org/v2/gh/pwwang/datar/93d069f3ca36711fc811c61dcf60e9fc3d1460a5?filepath=docs%2Fnotebooks%2Fgroup_map.ipynb\">binder</a>.</div>"
      ]
     },
     "metadata": {}
    },
    {
     "output_type": "display_data",
     "data": {
      "text/plain": [
       "<IPython.core.display.Markdown object>"
      ],
      "text/markdown": [
       "### # group_map  "
      ]
     },
     "metadata": {}
    },
    {
     "output_type": "display_data",
     "data": {
      "text/plain": [
       "<IPython.core.display.Markdown object>"
      ],
      "text/markdown": [
       "##### A generator to map function to data in each group\n"
      ]
     },
     "metadata": {}
    }
   ],
   "metadata": {
    "execution": {
     "iopub.execute_input": "2021-04-17T01:08:40.745348Z",
     "iopub.status.busy": "2021-04-17T01:08:40.744346Z",
     "iopub.status.idle": "2021-04-17T01:08:41.558479Z",
     "shell.execute_reply": "2021-04-17T01:08:41.557777Z"
    }
   }
  },
  {
   "cell_type": "code",
   "execution_count": 2,
   "source": [
    "list(\n",
    "  mtcars >> \\\n",
    "  group_by(f.cyl) >> \\\n",
    "  group_map(lambda df: df >> head(2))\n",
    ")\n"
   ],
   "outputs": [
    {
     "output_type": "execute_result",
     "data": {
      "text/plain": [
       "[        mpg      disp      hp      drat        wt      qsec      vs      am  \\\n",
       "   <float64> <float64> <int64> <float64> <float64> <float64> <int64> <int64>   \n",
       " 2      22.8     108.0      93      3.85      2.32     18.61       1       1   \n",
       " 7      24.4     146.7      62      3.69      3.19     20.00       1       0   \n",
       " \n",
       "      gear    carb  \n",
       "   <int64> <int64>  \n",
       " 2       4       1  \n",
       " 7       4       2  ,\n",
       "         mpg      disp      hp      drat        wt      qsec      vs      am  \\\n",
       "   <float64> <float64> <int64> <float64> <float64> <float64> <int64> <int64>   \n",
       " 0      21.0     160.0     110       3.9     2.620     16.46       0       1   \n",
       " 1      21.0     160.0     110       3.9     2.875     17.02       0       1   \n",
       " \n",
       "      gear    carb  \n",
       "   <int64> <int64>  \n",
       " 0       4       4  \n",
       " 1       4       4  ,\n",
       "         mpg      disp      hp      drat        wt      qsec      vs      am  \\\n",
       "   <float64> <float64> <int64> <float64> <float64> <float64> <int64> <int64>   \n",
       " 4      18.7     360.0     175      3.15      3.44     17.02       0       0   \n",
       " 6      14.3     360.0     245      3.21      3.57     15.84       0       0   \n",
       " \n",
       "      gear    carb  \n",
       "   <int64> <int64>  \n",
       " 4       3       2  \n",
       " 6       3       4  ]"
      ]
     },
     "metadata": {},
     "execution_count": 2
    }
   ],
   "metadata": {
    "execution": {
     "iopub.execute_input": "2021-04-17T01:08:41.564244Z",
     "iopub.status.busy": "2021-04-17T01:08:41.563170Z",
     "iopub.status.idle": "2021-04-17T01:08:41.650984Z",
     "shell.execute_reply": "2021-04-17T01:08:41.651772Z"
    }
   }
  },
  {
   "cell_type": "code",
   "execution_count": 3,
   "source": [
    "\n",
    "mtcars >> \\\n",
    "  group_by(f.cyl) >> \\\n",
    "  group_modify(lambda df: df >> head(2))"
   ],
   "outputs": [
    {
     "output_type": "execute_result",
     "data": {
      "text/plain": [
       "      cyl       mpg      disp      hp      drat        wt      qsec      vs  \\\n",
       "  <int64> <float64> <float64> <int64> <float64> <float64> <float64> <int64>   \n",
       "0       4      22.8     108.0      93      3.85     2.320     18.61       1   \n",
       "1       4      24.4     146.7      62      3.69     3.190     20.00       1   \n",
       "2       6      21.0     160.0     110      3.90     2.620     16.46       0   \n",
       "3       6      21.0     160.0     110      3.90     2.875     17.02       0   \n",
       "4       8      18.7     360.0     175      3.15     3.440     17.02       0   \n",
       "5       8      14.3     360.0     245      3.21     3.570     15.84       0   \n",
       "\n",
       "       am    gear    carb  \n",
       "  <int64> <int64> <int64>  \n",
       "0       1       4       1  \n",
       "1       0       4       2  \n",
       "2       1       4       4  \n",
       "3       1       4       4  \n",
       "4       0       3       2  \n",
       "5       0       3       4  \n",
       "\n",
       "[Groups: cyl (n=3)]"
      ],
      "text/html": [
       "<table border=\"1\" class=\"dataframe\">\n",
       "  <thead>\n",
       "    <tr style=\"text-align: right;\">\n",
       "      <th></th>\n",
       "      <th>cyl</th>\n",
       "      <th>mpg</th>\n",
       "      <th>disp</th>\n",
       "      <th>hp</th>\n",
       "      <th>drat</th>\n",
       "      <th>wt</th>\n",
       "      <th>qsec</th>\n",
       "      <th>vs</th>\n",
       "      <th>am</th>\n",
       "      <th>gear</th>\n",
       "      <th>carb</th>\n",
       "    </tr>\n",
       "  </thead>\n",
       "  <tbody>\n",
       "    <tr>\n",
       "      <th style=\"font-style: italic;\" ></th>\n",
       "      <td style=\"font-style: italic;\" >&lt;int64&gt;</td>\n",
       "      <td style=\"font-style: italic;\" >&lt;float64&gt;</td>\n",
       "      <td style=\"font-style: italic;\" >&lt;float64&gt;</td>\n",
       "      <td style=\"font-style: italic;\" >&lt;int64&gt;</td>\n",
       "      <td style=\"font-style: italic;\" >&lt;float64&gt;</td>\n",
       "      <td style=\"font-style: italic;\" >&lt;float64&gt;</td>\n",
       "      <td style=\"font-style: italic;\" >&lt;float64&gt;</td>\n",
       "      <td style=\"font-style: italic;\" >&lt;int64&gt;</td>\n",
       "      <td style=\"font-style: italic;\" >&lt;int64&gt;</td>\n",
       "      <td style=\"font-style: italic;\" >&lt;int64&gt;</td>\n",
       "      <td style=\"font-style: italic;\" >&lt;int64&gt;</td>\n",
       "    </tr>\n",
       "    <tr>\n",
       "      <th>0</th>\n",
       "      <td>4</td>\n",
       "      <td>22.8</td>\n",
       "      <td>108.0</td>\n",
       "      <td>93</td>\n",
       "      <td>3.85</td>\n",
       "      <td>2.320</td>\n",
       "      <td>18.61</td>\n",
       "      <td>1</td>\n",
       "      <td>1</td>\n",
       "      <td>4</td>\n",
       "      <td>1</td>\n",
       "    </tr>\n",
       "    <tr>\n",
       "      <th>1</th>\n",
       "      <td>4</td>\n",
       "      <td>24.4</td>\n",
       "      <td>146.7</td>\n",
       "      <td>62</td>\n",
       "      <td>3.69</td>\n",
       "      <td>3.190</td>\n",
       "      <td>20.00</td>\n",
       "      <td>1</td>\n",
       "      <td>0</td>\n",
       "      <td>4</td>\n",
       "      <td>2</td>\n",
       "    </tr>\n",
       "    <tr>\n",
       "      <th>2</th>\n",
       "      <td>6</td>\n",
       "      <td>21.0</td>\n",
       "      <td>160.0</td>\n",
       "      <td>110</td>\n",
       "      <td>3.90</td>\n",
       "      <td>2.620</td>\n",
       "      <td>16.46</td>\n",
       "      <td>0</td>\n",
       "      <td>1</td>\n",
       "      <td>4</td>\n",
       "      <td>4</td>\n",
       "    </tr>\n",
       "    <tr>\n",
       "      <th>3</th>\n",
       "      <td>6</td>\n",
       "      <td>21.0</td>\n",
       "      <td>160.0</td>\n",
       "      <td>110</td>\n",
       "      <td>3.90</td>\n",
       "      <td>2.875</td>\n",
       "      <td>17.02</td>\n",
       "      <td>0</td>\n",
       "      <td>1</td>\n",
       "      <td>4</td>\n",
       "      <td>4</td>\n",
       "    </tr>\n",
       "    <tr>\n",
       "      <th>4</th>\n",
       "      <td>8</td>\n",
       "      <td>18.7</td>\n",
       "      <td>360.0</td>\n",
       "      <td>175</td>\n",
       "      <td>3.15</td>\n",
       "      <td>3.440</td>\n",
       "      <td>17.02</td>\n",
       "      <td>0</td>\n",
       "      <td>0</td>\n",
       "      <td>3</td>\n",
       "      <td>2</td>\n",
       "    </tr>\n",
       "    <tr>\n",
       "      <th>5</th>\n",
       "      <td>8</td>\n",
       "      <td>14.3</td>\n",
       "      <td>360.0</td>\n",
       "      <td>245</td>\n",
       "      <td>3.21</td>\n",
       "      <td>3.570</td>\n",
       "      <td>15.84</td>\n",
       "      <td>0</td>\n",
       "      <td>0</td>\n",
       "      <td>3</td>\n",
       "      <td>4</td>\n",
       "    </tr>\n",
       "  </tbody>\n",
       "</table>\n",
       "<p>Groups: ['cyl'] (n=3)</p>"
      ]
     },
     "metadata": {},
     "execution_count": 3
    }
   ],
   "metadata": {
    "execution": {
     "iopub.execute_input": "2021-04-17T01:08:41.657267Z",
     "iopub.status.busy": "2021-04-17T01:08:41.656656Z",
     "iopub.status.idle": "2021-04-17T01:08:41.661988Z",
     "shell.execute_reply": "2021-04-17T01:08:41.661540Z"
    }
   }
  },
  {
   "cell_type": "code",
   "execution_count": 4,
   "source": [
    "list(\n",
    "  iris >> \\\n",
    "  group_by(f.Species) >> \\\n",
    "  group_map(lambda df: quantile(df['Petal_Length'], probs=c(0.25, 0.5, 0.75)))\n",
    ")"
   ],
   "outputs": [
    {
     "output_type": "execute_result",
     "data": {
      "text/plain": [
       "[array([1.4  , 1.5  , 1.575]),\n",
       " array([4.  , 4.35, 4.6 ]),\n",
       " array([5.1  , 5.55 , 5.875])]"
      ]
     },
     "metadata": {},
     "execution_count": 4
    }
   ],
   "metadata": {
    "execution": {
     "iopub.execute_input": "2021-04-17T01:08:41.709290Z",
     "iopub.status.busy": "2021-04-17T01:08:41.688833Z",
     "iopub.status.idle": "2021-04-17T01:08:41.716759Z",
     "shell.execute_reply": "2021-04-17T01:08:41.715996Z"
    }
   }
  },
  {
   "cell_type": "code",
   "execution_count": 5,
   "source": [
    "iris >> \\\n",
    "  group_by(f.Species) >> \\\n",
    "  group_walk(lambda df: print(df.shape))"
   ],
   "outputs": [
    {
     "output_type": "stream",
     "name": "stdout",
     "text": [
      "(50, 4)\n",
      "(50, 4)\n",
      "(50, 4)\n"
     ]
    }
   ],
   "metadata": {
    "execution": {
     "iopub.execute_input": "2021-04-17T01:08:41.742368Z",
     "iopub.status.busy": "2021-04-17T01:08:41.741668Z",
     "iopub.status.idle": "2021-04-17T01:08:41.745525Z",
     "shell.execute_reply": "2021-04-17T01:08:41.744926Z"
    }
   }
  },
  {
   "cell_type": "code",
   "execution_count": 6,
   "source": [
    "mtcars >> \\\n",
    "  group_modify(lambda df: df >> head(2))"
   ],
   "outputs": [
    {
     "output_type": "execute_result",
     "data": {
      "text/plain": [
       "                    mpg     cyl      disp      hp      drat        wt  \\\n",
       "              <float64> <int64> <float64> <int64> <float64> <float64>   \n",
       "Mazda RX4          21.0       6     160.0     110       3.9     2.620   \n",
       "Mazda RX4 Wag      21.0       6     160.0     110       3.9     2.875   \n",
       "\n",
       "                   qsec      vs      am    gear    carb  \n",
       "              <float64> <int64> <int64> <int64> <int64>  \n",
       "Mazda RX4         16.46       0       1       4       4  \n",
       "Mazda RX4 Wag     17.02       0       1       4       4  "
      ],
      "text/html": [
       "<table border=\"1\" class=\"dataframe\">\n",
       "  <thead>\n",
       "    <tr style=\"text-align: right;\">\n",
       "      <th></th>\n",
       "      <th>mpg</th>\n",
       "      <th>cyl</th>\n",
       "      <th>disp</th>\n",
       "      <th>hp</th>\n",
       "      <th>drat</th>\n",
       "      <th>wt</th>\n",
       "      <th>qsec</th>\n",
       "      <th>vs</th>\n",
       "      <th>am</th>\n",
       "      <th>gear</th>\n",
       "      <th>carb</th>\n",
       "    </tr>\n",
       "  </thead>\n",
       "  <tbody>\n",
       "    <tr>\n",
       "      <th style=\"font-style: italic;\" ></th>\n",
       "      <td style=\"font-style: italic;\" >&lt;float64&gt;</td>\n",
       "      <td style=\"font-style: italic;\" >&lt;int64&gt;</td>\n",
       "      <td style=\"font-style: italic;\" >&lt;float64&gt;</td>\n",
       "      <td style=\"font-style: italic;\" >&lt;int64&gt;</td>\n",
       "      <td style=\"font-style: italic;\" >&lt;float64&gt;</td>\n",
       "      <td style=\"font-style: italic;\" >&lt;float64&gt;</td>\n",
       "      <td style=\"font-style: italic;\" >&lt;float64&gt;</td>\n",
       "      <td style=\"font-style: italic;\" >&lt;int64&gt;</td>\n",
       "      <td style=\"font-style: italic;\" >&lt;int64&gt;</td>\n",
       "      <td style=\"font-style: italic;\" >&lt;int64&gt;</td>\n",
       "      <td style=\"font-style: italic;\" >&lt;int64&gt;</td>\n",
       "    </tr>\n",
       "    <tr>\n",
       "      <th>Mazda RX4</th>\n",
       "      <td>21.0</td>\n",
       "      <td>6</td>\n",
       "      <td>160.0</td>\n",
       "      <td>110</td>\n",
       "      <td>3.9</td>\n",
       "      <td>2.620</td>\n",
       "      <td>16.46</td>\n",
       "      <td>0</td>\n",
       "      <td>1</td>\n",
       "      <td>4</td>\n",
       "      <td>4</td>\n",
       "    </tr>\n",
       "    <tr>\n",
       "      <th>Mazda RX4 Wag</th>\n",
       "      <td>21.0</td>\n",
       "      <td>6</td>\n",
       "      <td>160.0</td>\n",
       "      <td>110</td>\n",
       "      <td>3.9</td>\n",
       "      <td>2.875</td>\n",
       "      <td>17.02</td>\n",
       "      <td>0</td>\n",
       "      <td>1</td>\n",
       "      <td>4</td>\n",
       "      <td>4</td>\n",
       "    </tr>\n",
       "  </tbody>\n",
       "</table>"
      ]
     },
     "metadata": {},
     "execution_count": 6
    }
   ],
   "metadata": {
    "execution": {
     "iopub.execute_input": "2021-04-17T01:08:41.750836Z",
     "iopub.status.busy": "2021-04-17T01:08:41.749867Z",
     "iopub.status.idle": "2021-04-17T01:08:41.753084Z",
     "shell.execute_reply": "2021-04-17T01:08:41.752585Z"
    }
   }
  },
  {
   "cell_type": "code",
   "execution_count": null,
   "source": [],
   "outputs": [],
   "metadata": {}
  }
 ],
 "metadata": {
  "kernelspec": {
   "display_name": "Python 3",
   "language": "python",
   "name": "python3"
  },
  "language_info": {
   "codemirror_mode": {
    "name": "ipython",
    "version": 3
   },
   "file_extension": ".py",
   "mimetype": "text/x-python",
   "name": "python",
   "nbconvert_exporter": "python",
   "pygments_lexer": "ipython3",
   "version": "3.7.8"
  }
 },
 "nbformat": 4,
 "nbformat_minor": 5
}