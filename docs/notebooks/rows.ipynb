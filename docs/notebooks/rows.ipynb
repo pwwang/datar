{
 "cells": [
  {
   "cell_type": "code",
   "execution_count": 1,
   "metadata": {
    "execution": {
     "iopub.execute_input": "2021-07-16T22:28:10.915581Z",
     "iopub.status.busy": "2021-07-16T22:28:10.913314Z",
     "iopub.status.idle": "2021-07-16T22:28:11.982697Z",
     "shell.execute_reply": "2021-07-16T22:28:11.983123Z"
    }
   },
   "outputs": [
    {
     "data": {
      "text/html": [
       "<div style=\"text-align: right; text-style: italic\">Try this notebook on <a target=\"_blank\" href=\"https://mybinder.org/v2/gh/pwwang/datar/dev?filepath=docs%2Fnotebooks%2Frows.ipynb\">binder</a>.</div>"
      ],
      "text/plain": [
       "<IPython.core.display.HTML object>"
      ]
     },
     "metadata": {},
     "output_type": "display_data"
    },
    {
     "data": {
      "text/markdown": [
       "### <div style=\"background-color: #EEE; padding: 5px 0 8px 0\">★ rows_insert</div>"
      ],
      "text/plain": [
       "<IPython.core.display.Markdown object>"
      ]
     },
     "metadata": {},
     "output_type": "display_data"
    },
    {
     "data": {
      "text/markdown": [
       "##### Adds new rows to a data frame\n",
       "\n",
       "Argument `in_place` not supported, as we always do data frames here.  \n",
       "\n",
       "##### Args:\n",
       "&emsp;&emsp;`x`: The seed data frame  \n",
       "&emsp;&emsp;`y`: The data frame with rows to be inserted into `x`.  \n",
       "&emsp;&emsp;&emsp;&emsp;- Key values in `y` must not occur in `x`\n",
       "\n",
       "&emsp;&emsp;&emsp;&emsp;- `y` must have the same or a subset columns of `x`\n",
       "\n",
       "&emsp;&emsp;`by`: A string or a list of strings giving the key columns.  \n",
       "&emsp;&emsp;&emsp;&emsp;The key values must uniquely identify each row  \n",
       "&emsp;&emsp;&emsp;&emsp;(i.e. each combination of key values occurs at most once),  \n",
       "&emsp;&emsp;&emsp;&emsp;and the key columns must exist in both x and y.  \n",
       "&emsp;&emsp;&emsp;&emsp;By default, we use the first column in y, since the first column  \n",
       "&emsp;&emsp;&emsp;&emsp;is a reasonable place to put an identifier variable.  \n",
       "\n",
       "&emsp;&emsp;`copy`: If `False`, do not copy data unnecessarily.  \n",
       "&emsp;&emsp;&emsp;&emsp;Original API does not support this. This argument will be  \n",
       "&emsp;&emsp;&emsp;&emsp;passed by to `pandas.concat()` as `copy` argument.  \n",
       "\n",
       "##### Returns:\n",
       "&emsp;&emsp;A data frame with `y` inserted into `x`  \n"
      ],
      "text/plain": [
       "<IPython.core.display.Markdown object>"
      ]
     },
     "metadata": {},
     "output_type": "display_data"
    },
    {
     "data": {
      "text/markdown": [
       "### <div style=\"background-color: #EEE; padding: 5px 0 8px 0\">★ rows_update</div>"
      ],
      "text/plain": [
       "<IPython.core.display.Markdown object>"
      ]
     },
     "metadata": {},
     "output_type": "display_data"
    },
    {
     "data": {
      "text/markdown": [
       "##### Modifies existing rows in a data frame\n",
       "\n",
       "See Also:  \n",
       "&emsp;&emsp;[`rows_insert`](datar.dplyr.rows.rows_insert)  \n",
       "\n",
       "##### Args:\n",
       "&emsp;&emsp;`x`: The seed data frame  \n",
       "&emsp;&emsp;`y`: The data frame with rows to be inserted into `x`.  \n",
       "&emsp;&emsp;&emsp;&emsp;- Key values in `y` must not occur in `x`\n",
       "\n",
       "&emsp;&emsp;&emsp;&emsp;- `y` must have the same or a subset columns of `x`\n",
       "\n",
       "&emsp;&emsp;`by`: A string or a list of strings giving the key columns.  \n",
       "&emsp;&emsp;&emsp;&emsp;The key values must uniquely identify each row  \n",
       "&emsp;&emsp;&emsp;&emsp;(i.e. each combination of key values occurs at most once),  \n",
       "&emsp;&emsp;&emsp;&emsp;and the key columns must exist in both x and y.  \n",
       "&emsp;&emsp;&emsp;&emsp;By default, we use the first column in y, since the first column  \n",
       "&emsp;&emsp;&emsp;&emsp;is a reasonable place to put an identifier variable.  \n",
       "\n",
       "&emsp;&emsp;`copy`: Whether `x` should be copied and updated or updated directly  \n",
       "\n",
       "##### Returns:\n",
       "&emsp;&emsp;`x` with values of keys updated  \n"
      ],
      "text/plain": [
       "<IPython.core.display.Markdown object>"
      ]
     },
     "metadata": {},
     "output_type": "display_data"
    },
    {
     "data": {
      "text/markdown": [
       "### <div style=\"background-color: #EEE; padding: 5px 0 8px 0\">★ rows_patch</div>"
      ],
      "text/plain": [
       "<IPython.core.display.Markdown object>"
      ]
     },
     "metadata": {},
     "output_type": "display_data"
    },
    {
     "data": {
      "text/markdown": [
       "##### Works like `rows_update()` but only overwrites `NA` values.\n",
       "\n",
       "See Also:  \n",
       "&emsp;&emsp;[`rows_insert`](datar.dplyr.rows.rows_insert)  \n",
       "\n",
       "##### Args:\n",
       "&emsp;&emsp;`x`: The seed data frame  \n",
       "&emsp;&emsp;`y`: The data frame with rows to be inserted into `x`.  \n",
       "&emsp;&emsp;&emsp;&emsp;- Key values in `y` must not occur in `x`\n",
       "\n",
       "&emsp;&emsp;&emsp;&emsp;- `y` must have the same or a subset columns of `x`\n",
       "\n",
       "&emsp;&emsp;`by`: A string or a list of strings giving the key columns.  \n",
       "&emsp;&emsp;&emsp;&emsp;The key values must uniquely identify each row  \n",
       "&emsp;&emsp;&emsp;&emsp;(i.e. each combination of key values occurs at most once),  \n",
       "&emsp;&emsp;&emsp;&emsp;and the key columns must exist in both x and y.  \n",
       "&emsp;&emsp;&emsp;&emsp;By default, we use the first column in y, since the first column  \n",
       "&emsp;&emsp;&emsp;&emsp;is a reasonable place to put an identifier variable.  \n",
       "\n",
       "&emsp;&emsp;`copy`: Whether `x` should be copied and updated or updated directly  \n",
       "\n",
       "##### Returns:\n",
       "&emsp;&emsp;`x` with values of keys updated  \n"
      ],
      "text/plain": [
       "<IPython.core.display.Markdown object>"
      ]
     },
     "metadata": {},
     "output_type": "display_data"
    },
    {
     "data": {
      "text/markdown": [
       "### <div style=\"background-color: #EEE; padding: 5px 0 8px 0\">★ rows_upsert</div>"
      ],
      "text/plain": [
       "<IPython.core.display.Markdown object>"
      ]
     },
     "metadata": {},
     "output_type": "display_data"
    },
    {
     "data": {
      "text/markdown": [
       "##### Inserts or updates depending on whether or not the\n",
       "key value in `y` already exists in `x`.  \n",
       "\n",
       "See Also:  \n",
       "&emsp;&emsp;[`rows_insert`](datar.dplyr.rows.rows_insert)  \n",
       "\n",
       "##### Args:\n",
       "&emsp;&emsp;`x`: The seed data frame  \n",
       "&emsp;&emsp;`y`: The data frame with rows to be inserted into `x`.  \n",
       "&emsp;&emsp;&emsp;&emsp;- Key values in `y` must not occur in `x`\n",
       "\n",
       "&emsp;&emsp;&emsp;&emsp;- `y` must have the same or a subset columns of `x`\n",
       "\n",
       "&emsp;&emsp;`by`: A string or a list of strings giving the key columns.  \n",
       "&emsp;&emsp;&emsp;&emsp;The key values must uniquely identify each row  \n",
       "&emsp;&emsp;&emsp;&emsp;(i.e. each combination of key values occurs at most once),  \n",
       "&emsp;&emsp;&emsp;&emsp;and the key columns must exist in both x and y.  \n",
       "&emsp;&emsp;&emsp;&emsp;By default, we use the first column in y, since the first column  \n",
       "&emsp;&emsp;&emsp;&emsp;is a reasonable place to put an identifier variable.  \n",
       "\n",
       "&emsp;&emsp;`copy`: If `False`, do not copy data unnecessarily.  \n",
       "&emsp;&emsp;&emsp;&emsp;Original API does not support this. This argument will be  \n",
       "&emsp;&emsp;&emsp;&emsp;passed by to `pandas.concat()` as `copy` argument.  \n",
       "\n",
       "##### Returns:\n",
       "&emsp;&emsp;`x` with values of keys updated  \n"
      ],
      "text/plain": [
       "<IPython.core.display.Markdown object>"
      ]
     },
     "metadata": {},
     "output_type": "display_data"
    },
    {
     "data": {
      "text/markdown": [
       "### <div style=\"background-color: #EEE; padding: 5px 0 8px 0\">★ rows_delete</div>"
      ],
      "text/plain": [
       "<IPython.core.display.Markdown object>"
      ]
     },
     "metadata": {},
     "output_type": "display_data"
    },
    {
     "data": {
      "text/markdown": [
       "##### Deletes rows; key values in `y` must exist in `x`.\n",
       "\n",
       "See Also:  \n",
       "&emsp;&emsp;[`rows_insert`](datar.dplyr.rows.rows_insert)  \n",
       "\n",
       "##### Args:\n",
       "&emsp;&emsp;`x`: The seed data frame  \n",
       "&emsp;&emsp;`y`: The data frame with rows to be inserted into `x`.  \n",
       "&emsp;&emsp;&emsp;&emsp;- Key values in `y` must not occur in `x`\n",
       "\n",
       "&emsp;&emsp;&emsp;&emsp;- `y` must have the same or a subset columns of `x`\n",
       "\n",
       "&emsp;&emsp;`by`: A string or a list of strings giving the key columns.  \n",
       "&emsp;&emsp;&emsp;&emsp;The key values must uniquely identify each row  \n",
       "&emsp;&emsp;&emsp;&emsp;(i.e. each combination of key values occurs at most once),  \n",
       "&emsp;&emsp;&emsp;&emsp;and the key columns must exist in both x and y.  \n",
       "&emsp;&emsp;&emsp;&emsp;By default, we use the first column in y, since the first column  \n",
       "&emsp;&emsp;&emsp;&emsp;is a reasonable place to put an identifier variable.  \n",
       "\n",
       "&emsp;&emsp;`copy`: Whether `x` should be copied and deleted or deleted directly  \n",
       "\n",
       "##### Returns:\n",
       "&emsp;&emsp;`x` with values of keys deleted  \n"
      ],
      "text/plain": [
       "<IPython.core.display.Markdown object>"
      ]
     },
     "metadata": {},
     "output_type": "display_data"
    }
   ],
   "source": [
    "%run nb_helpers.py\n",
    "from datar.all import *\n",
    "\n",
    "nb_header(\n",
    "    rows_insert, \n",
    "    rows_update, \n",
    "    rows_patch, \n",
    "    rows_upsert, \n",
    "    rows_delete, \n",
    "    book='rows'\n",
    ")"
   ]
  },
  {
   "cell_type": "code",
   "execution_count": 2,
   "metadata": {
    "execution": {
     "iopub.execute_input": "2021-07-16T22:28:11.999613Z",
     "iopub.status.busy": "2021-07-16T22:28:11.998991Z",
     "iopub.status.idle": "2021-07-16T22:28:12.347691Z",
     "shell.execute_reply": "2021-07-16T22:28:12.348096Z"
    }
   },
   "outputs": [
    {
     "data": {
      "text/html": [
       "<div>\n",
       "<style scoped>\n",
       "    .dataframe tbody tr th:only-of-type {\n",
       "        vertical-align: middle;\n",
       "    }\n",
       "\n",
       "    .dataframe tbody tr th {\n",
       "        vertical-align: top;\n",
       "    }\n",
       "\n",
       "    .dataframe thead th {\n",
       "        text-align: right;\n",
       "    }\n",
       "</style>\n",
       "<table border=\"1\" class=\"dataframe\">\n",
       "  <thead>\n",
       "    <tr style=\"text-align: right;\">\n",
       "      <th></th>\n",
       "      <th>a</th>\n",
       "      <th>b</th>\n",
       "      <th>c</th>\n",
       "    </tr>\n",
       "  </thead>\n",
       "  <tbody>\n",
       "    <tr>\n",
       "      <th style=\"font-style: italic;\" ></th>\n",
       "      <td style=\"font-style: italic;\" >&lt;int64&gt;</td>\n",
       "      <td style=\"font-style: italic;\" >&lt;object&gt;</td>\n",
       "      <td style=\"font-style: italic;\" >&lt;float64&gt;</td>\n",
       "    </tr>\n",
       "    <tr>\n",
       "      <th>0</th>\n",
       "      <td>1</td>\n",
       "      <td>a</td>\n",
       "      <td>0.5</td>\n",
       "    </tr>\n",
       "    <tr>\n",
       "      <th>1</th>\n",
       "      <td>2</td>\n",
       "      <td>b</td>\n",
       "      <td>1.5</td>\n",
       "    </tr>\n",
       "    <tr>\n",
       "      <th>2</th>\n",
       "      <td>3</td>\n",
       "      <td>NaN</td>\n",
       "      <td>2.5</td>\n",
       "    </tr>\n",
       "  </tbody>\n",
       "</table>\n",
       "</div>\n"
      ],
      "text/plain": [
       "        a        b         c\n",
       "  <int64> <object> <float64>\n",
       "0       1        a       0.5\n",
       "1       2        b       1.5\n",
       "2       3      NaN       2.5"
      ]
     },
     "execution_count": 2,
     "metadata": {},
     "output_type": "execute_result"
    }
   ],
   "source": [
    "data = tibble(a = seq(1, 3), b = c(letters[[0, 1]], NA), c = [.5, 1.5, 2.5])\n",
    "data"
   ]
  },
  {
   "cell_type": "code",
   "execution_count": 3,
   "metadata": {
    "execution": {
     "iopub.execute_input": "2021-07-16T22:28:12.450878Z",
     "iopub.status.busy": "2021-07-16T22:28:12.449990Z",
     "iopub.status.idle": "2021-07-16T22:28:12.756575Z",
     "shell.execute_reply": "2021-07-16T22:28:12.757071Z"
    }
   },
   "outputs": [
    {
     "name": "stderr",
     "output_type": "stream",
     "text": [
      "[2022-03-18 17:35:21][datar][   INFO] Matching, by='a'\n"
     ]
    },
    {
     "data": {
      "text/html": [
       "<div>\n",
       "<style scoped>\n",
       "    .dataframe tbody tr th:only-of-type {\n",
       "        vertical-align: middle;\n",
       "    }\n",
       "\n",
       "    .dataframe tbody tr th {\n",
       "        vertical-align: top;\n",
       "    }\n",
       "\n",
       "    .dataframe thead th {\n",
       "        text-align: right;\n",
       "    }\n",
       "</style>\n",
       "<table border=\"1\" class=\"dataframe\">\n",
       "  <thead>\n",
       "    <tr style=\"text-align: right;\">\n",
       "      <th></th>\n",
       "      <th>a</th>\n",
       "      <th>b</th>\n",
       "      <th>c</th>\n",
       "    </tr>\n",
       "  </thead>\n",
       "  <tbody>\n",
       "    <tr>\n",
       "      <th style=\"font-style: italic;\" ></th>\n",
       "      <td style=\"font-style: italic;\" >&lt;int64&gt;</td>\n",
       "      <td style=\"font-style: italic;\" >&lt;object&gt;</td>\n",
       "      <td style=\"font-style: italic;\" >&lt;float64&gt;</td>\n",
       "    </tr>\n",
       "    <tr>\n",
       "      <th>0</th>\n",
       "      <td>1</td>\n",
       "      <td>a</td>\n",
       "      <td>0.5</td>\n",
       "    </tr>\n",
       "    <tr>\n",
       "      <th>1</th>\n",
       "      <td>2</td>\n",
       "      <td>b</td>\n",
       "      <td>1.5</td>\n",
       "    </tr>\n",
       "    <tr>\n",
       "      <th>2</th>\n",
       "      <td>3</td>\n",
       "      <td>NaN</td>\n",
       "      <td>2.5</td>\n",
       "    </tr>\n",
       "    <tr>\n",
       "      <th>3</th>\n",
       "      <td>4</td>\n",
       "      <td>z</td>\n",
       "      <td>NaN</td>\n",
       "    </tr>\n",
       "  </tbody>\n",
       "</table>\n",
       "</div>\n"
      ],
      "text/plain": [
       "        a        b         c\n",
       "  <int64> <object> <float64>\n",
       "0       1        a       0.5\n",
       "1       2        b       1.5\n",
       "2       3      NaN       2.5\n",
       "3       4        z       NaN"
      ]
     },
     "execution_count": 3,
     "metadata": {},
     "output_type": "execute_result"
    }
   ],
   "source": [
    "rows_insert(data, tibble(a = 4, b = \"z\"))"
   ]
  },
  {
   "cell_type": "code",
   "execution_count": 4,
   "metadata": {
    "execution": {
     "iopub.execute_input": "2021-07-16T22:28:12.778078Z",
     "iopub.status.busy": "2021-07-16T22:28:12.776324Z",
     "iopub.status.idle": "2021-07-16T22:28:12.809105Z",
     "shell.execute_reply": "2021-07-16T22:28:12.809525Z"
    }
   },
   "outputs": [
    {
     "name": "stderr",
     "output_type": "stream",
     "text": [
      "[2022-03-18 17:35:22][datar][   INFO] Matching, by='a'\n"
     ]
    },
    {
     "name": "stdout",
     "output_type": "stream",
     "text": [
      "[ValueError] Attempting to insert duplicate rows.\n"
     ]
    }
   ],
   "source": [
    "with try_catch():\n",
    "    rows_insert(data, tibble(a = 3, b = \"z\"))"
   ]
  },
  {
   "cell_type": "code",
   "execution_count": 5,
   "metadata": {
    "execution": {
     "iopub.execute_input": "2021-07-16T22:28:12.849701Z",
     "iopub.status.busy": "2021-07-16T22:28:12.849124Z",
     "iopub.status.idle": "2021-07-16T22:28:12.882173Z",
     "shell.execute_reply": "2021-07-16T22:28:12.882617Z"
    }
   },
   "outputs": [
    {
     "name": "stderr",
     "output_type": "stream",
     "text": [
      "[2022-03-18 17:35:22][datar][   INFO] Matching, by='a'\n"
     ]
    },
    {
     "data": {
      "text/html": [
       "<div>\n",
       "<style scoped>\n",
       "    .dataframe tbody tr th:only-of-type {\n",
       "        vertical-align: middle;\n",
       "    }\n",
       "\n",
       "    .dataframe tbody tr th {\n",
       "        vertical-align: top;\n",
       "    }\n",
       "\n",
       "    .dataframe thead th {\n",
       "        text-align: right;\n",
       "    }\n",
       "</style>\n",
       "<table border=\"1\" class=\"dataframe\">\n",
       "  <thead>\n",
       "    <tr style=\"text-align: right;\">\n",
       "      <th></th>\n",
       "      <th>a</th>\n",
       "      <th>b</th>\n",
       "      <th>c</th>\n",
       "    </tr>\n",
       "  </thead>\n",
       "  <tbody>\n",
       "    <tr>\n",
       "      <th style=\"font-style: italic;\" ></th>\n",
       "      <td style=\"font-style: italic;\" >&lt;int64&gt;</td>\n",
       "      <td style=\"font-style: italic;\" >&lt;object&gt;</td>\n",
       "      <td style=\"font-style: italic;\" >&lt;float64&gt;</td>\n",
       "    </tr>\n",
       "    <tr>\n",
       "      <th>0</th>\n",
       "      <td>1</td>\n",
       "      <td>a</td>\n",
       "      <td>0.5</td>\n",
       "    </tr>\n",
       "    <tr>\n",
       "      <th>1</th>\n",
       "      <td>2</td>\n",
       "      <td>z</td>\n",
       "      <td>1.5</td>\n",
       "    </tr>\n",
       "    <tr>\n",
       "      <th>2</th>\n",
       "      <td>3</td>\n",
       "      <td>z</td>\n",
       "      <td>2.5</td>\n",
       "    </tr>\n",
       "  </tbody>\n",
       "</table>\n",
       "</div>\n"
      ],
      "text/plain": [
       "        a        b         c\n",
       "  <int64> <object> <float64>\n",
       "0       1        a       0.5\n",
       "1       2        z       1.5\n",
       "2       3        z       2.5"
      ]
     },
     "execution_count": 5,
     "metadata": {},
     "output_type": "execute_result"
    }
   ],
   "source": [
    "rows_update(data, tibble(a = [2,3], b = \"z\"))"
   ]
  },
  {
   "cell_type": "code",
   "execution_count": 6,
   "metadata": {
    "execution": {
     "iopub.execute_input": "2021-07-16T22:28:12.939586Z",
     "iopub.status.busy": "2021-07-16T22:28:12.939002Z",
     "iopub.status.idle": "2021-07-16T22:28:12.954290Z",
     "shell.execute_reply": "2021-07-16T22:28:12.954712Z"
    }
   },
   "outputs": [
    {
     "data": {
      "text/html": [
       "<div>\n",
       "<style scoped>\n",
       "    .dataframe tbody tr th:only-of-type {\n",
       "        vertical-align: middle;\n",
       "    }\n",
       "\n",
       "    .dataframe tbody tr th {\n",
       "        vertical-align: top;\n",
       "    }\n",
       "\n",
       "    .dataframe thead th {\n",
       "        text-align: right;\n",
       "    }\n",
       "</style>\n",
       "<table border=\"1\" class=\"dataframe\">\n",
       "  <thead>\n",
       "    <tr style=\"text-align: right;\">\n",
       "      <th></th>\n",
       "      <th>a</th>\n",
       "      <th>b</th>\n",
       "      <th>c</th>\n",
       "    </tr>\n",
       "  </thead>\n",
       "  <tbody>\n",
       "    <tr>\n",
       "      <th style=\"font-style: italic;\" ></th>\n",
       "      <td style=\"font-style: italic;\" >&lt;int64&gt;</td>\n",
       "      <td style=\"font-style: italic;\" >&lt;object&gt;</td>\n",
       "      <td style=\"font-style: italic;\" >&lt;float64&gt;</td>\n",
       "    </tr>\n",
       "    <tr>\n",
       "      <th>0</th>\n",
       "      <td>1</td>\n",
       "      <td>a</td>\n",
       "      <td>0.5</td>\n",
       "    </tr>\n",
       "    <tr>\n",
       "      <th>1</th>\n",
       "      <td>2</td>\n",
       "      <td>z</td>\n",
       "      <td>1.5</td>\n",
       "    </tr>\n",
       "    <tr>\n",
       "      <th>2</th>\n",
       "      <td>3</td>\n",
       "      <td>z</td>\n",
       "      <td>2.5</td>\n",
       "    </tr>\n",
       "  </tbody>\n",
       "</table>\n",
       "</div>\n"
      ],
      "text/plain": [
       "        a        b         c\n",
       "  <int64> <object> <float64>\n",
       "0       1        a       0.5\n",
       "1       2        z       1.5\n",
       "2       3        z       2.5"
      ]
     },
     "execution_count": 6,
     "metadata": {},
     "output_type": "execute_result"
    }
   ],
   "source": [
    "rows_update(data, tibble(b = \"z\", a = [2,3]), by = \"a\")"
   ]
  },
  {
   "cell_type": "code",
   "execution_count": 7,
   "metadata": {
    "execution": {
     "iopub.execute_input": "2021-07-16T22:28:12.990975Z",
     "iopub.status.busy": "2021-07-16T22:28:12.990382Z",
     "iopub.status.idle": "2021-07-16T22:28:13.079359Z",
     "shell.execute_reply": "2021-07-16T22:28:13.080018Z"
    }
   },
   "outputs": [
    {
     "name": "stderr",
     "output_type": "stream",
     "text": [
      "[2022-03-18 17:35:23][datar][   INFO] Matching, by='a'\n"
     ]
    },
    {
     "data": {
      "text/html": [
       "<div>\n",
       "<style scoped>\n",
       "    .dataframe tbody tr th:only-of-type {\n",
       "        vertical-align: middle;\n",
       "    }\n",
       "\n",
       "    .dataframe tbody tr th {\n",
       "        vertical-align: top;\n",
       "    }\n",
       "\n",
       "    .dataframe thead th {\n",
       "        text-align: right;\n",
       "    }\n",
       "</style>\n",
       "<table border=\"1\" class=\"dataframe\">\n",
       "  <thead>\n",
       "    <tr style=\"text-align: right;\">\n",
       "      <th></th>\n",
       "      <th>a</th>\n",
       "      <th>b</th>\n",
       "      <th>c</th>\n",
       "    </tr>\n",
       "  </thead>\n",
       "  <tbody>\n",
       "    <tr>\n",
       "      <th style=\"font-style: italic;\" ></th>\n",
       "      <td style=\"font-style: italic;\" >&lt;int64&gt;</td>\n",
       "      <td style=\"font-style: italic;\" >&lt;object&gt;</td>\n",
       "      <td style=\"font-style: italic;\" >&lt;float64&gt;</td>\n",
       "    </tr>\n",
       "    <tr>\n",
       "      <th>0</th>\n",
       "      <td>1</td>\n",
       "      <td>a</td>\n",
       "      <td>0.5</td>\n",
       "    </tr>\n",
       "    <tr>\n",
       "      <th>1</th>\n",
       "      <td>2</td>\n",
       "      <td>b</td>\n",
       "      <td>1.5</td>\n",
       "    </tr>\n",
       "    <tr>\n",
       "      <th>2</th>\n",
       "      <td>3</td>\n",
       "      <td>z</td>\n",
       "      <td>2.5</td>\n",
       "    </tr>\n",
       "  </tbody>\n",
       "</table>\n",
       "</div>\n"
      ],
      "text/plain": [
       "        a        b         c\n",
       "  <int64> <object> <float64>\n",
       "0       1        a       0.5\n",
       "1       2        b       1.5\n",
       "2       3        z       2.5"
      ]
     },
     "execution_count": 7,
     "metadata": {},
     "output_type": "execute_result"
    }
   ],
   "source": [
    "rows_patch(data, tibble(a = [2,3], b = \"z\"))"
   ]
  },
  {
   "cell_type": "code",
   "execution_count": 8,
   "metadata": {
    "execution": {
     "iopub.execute_input": "2021-07-16T22:28:13.145161Z",
     "iopub.status.busy": "2021-07-16T22:28:13.143281Z",
     "iopub.status.idle": "2021-07-16T22:28:13.158501Z",
     "shell.execute_reply": "2021-07-16T22:28:13.158888Z"
    }
   },
   "outputs": [
    {
     "name": "stderr",
     "output_type": "stream",
     "text": [
      "[2022-03-18 17:35:24][datar][   INFO] Matching, by='a'\n"
     ]
    },
    {
     "data": {
      "text/html": [
       "<div>\n",
       "<style scoped>\n",
       "    .dataframe tbody tr th:only-of-type {\n",
       "        vertical-align: middle;\n",
       "    }\n",
       "\n",
       "    .dataframe tbody tr th {\n",
       "        vertical-align: top;\n",
       "    }\n",
       "\n",
       "    .dataframe thead th {\n",
       "        text-align: right;\n",
       "    }\n",
       "</style>\n",
       "<table border=\"1\" class=\"dataframe\">\n",
       "  <thead>\n",
       "    <tr style=\"text-align: right;\">\n",
       "      <th></th>\n",
       "      <th>a</th>\n",
       "      <th>b</th>\n",
       "      <th>c</th>\n",
       "    </tr>\n",
       "  </thead>\n",
       "  <tbody>\n",
       "    <tr>\n",
       "      <th style=\"font-style: italic;\" ></th>\n",
       "      <td style=\"font-style: italic;\" >&lt;int64&gt;</td>\n",
       "      <td style=\"font-style: italic;\" >&lt;object&gt;</td>\n",
       "      <td style=\"font-style: italic;\" >&lt;float64&gt;</td>\n",
       "    </tr>\n",
       "    <tr>\n",
       "      <th>0</th>\n",
       "      <td>1</td>\n",
       "      <td>a</td>\n",
       "      <td>0.5</td>\n",
       "    </tr>\n",
       "    <tr>\n",
       "      <th>1</th>\n",
       "      <td>2</td>\n",
       "      <td>z</td>\n",
       "      <td>1.5</td>\n",
       "    </tr>\n",
       "    <tr>\n",
       "      <th>2</th>\n",
       "      <td>3</td>\n",
       "      <td>z</td>\n",
       "      <td>2.5</td>\n",
       "    </tr>\n",
       "    <tr>\n",
       "      <th>3</th>\n",
       "      <td>4</td>\n",
       "      <td>z</td>\n",
       "      <td>NaN</td>\n",
       "    </tr>\n",
       "  </tbody>\n",
       "</table>\n",
       "</div>\n"
      ],
      "text/plain": [
       "        a        b         c\n",
       "  <int64> <object> <float64>\n",
       "0       1        a       0.5\n",
       "1       2        z       1.5\n",
       "2       3        z       2.5\n",
       "3       4        z       NaN"
      ]
     },
     "execution_count": 8,
     "metadata": {},
     "output_type": "execute_result"
    }
   ],
   "source": [
    "rows_upsert(data, tibble(a = seq(2, 4), b = \"z\"))"
   ]
  },
  {
   "cell_type": "code",
   "execution_count": 9,
   "metadata": {
    "execution": {
     "iopub.execute_input": "2021-07-16T22:28:13.181744Z",
     "iopub.status.busy": "2021-07-16T22:28:13.181046Z",
     "iopub.status.idle": "2021-07-16T22:28:13.219352Z",
     "shell.execute_reply": "2021-07-16T22:28:13.219753Z"
    }
   },
   "outputs": [
    {
     "name": "stderr",
     "output_type": "stream",
     "text": [
      "[2022-03-18 17:35:25][datar][   INFO] Matching, by='a'\n"
     ]
    },
    {
     "data": {
      "text/html": [
       "<div>\n",
       "<style scoped>\n",
       "    .dataframe tbody tr th:only-of-type {\n",
       "        vertical-align: middle;\n",
       "    }\n",
       "\n",
       "    .dataframe tbody tr th {\n",
       "        vertical-align: top;\n",
       "    }\n",
       "\n",
       "    .dataframe thead th {\n",
       "        text-align: right;\n",
       "    }\n",
       "</style>\n",
       "<table border=\"1\" class=\"dataframe\">\n",
       "  <thead>\n",
       "    <tr style=\"text-align: right;\">\n",
       "      <th></th>\n",
       "      <th>a</th>\n",
       "      <th>b</th>\n",
       "      <th>c</th>\n",
       "    </tr>\n",
       "  </thead>\n",
       "  <tbody>\n",
       "    <tr>\n",
       "      <th style=\"font-style: italic;\" ></th>\n",
       "      <td style=\"font-style: italic;\" >&lt;int64&gt;</td>\n",
       "      <td style=\"font-style: italic;\" >&lt;object&gt;</td>\n",
       "      <td style=\"font-style: italic;\" >&lt;float64&gt;</td>\n",
       "    </tr>\n",
       "    <tr>\n",
       "      <th>0</th>\n",
       "      <td>1</td>\n",
       "      <td>a</td>\n",
       "      <td>0.5</td>\n",
       "    </tr>\n",
       "  </tbody>\n",
       "</table>\n",
       "</div>\n"
      ],
      "text/plain": [
       "        a        b         c\n",
       "  <int64> <object> <float64>\n",
       "0       1        a       0.5"
      ]
     },
     "execution_count": 9,
     "metadata": {},
     "output_type": "execute_result"
    }
   ],
   "source": [
    "rows_delete(data, tibble(a = [2, 3]))"
   ]
  },
  {
   "cell_type": "code",
   "execution_count": 10,
   "metadata": {
    "execution": {
     "iopub.execute_input": "2021-07-16T22:28:13.247095Z",
     "iopub.status.busy": "2021-07-16T22:28:13.246408Z",
     "iopub.status.idle": "2021-07-16T22:28:13.280047Z",
     "shell.execute_reply": "2021-07-16T22:28:13.280487Z"
    }
   },
   "outputs": [
    {
     "name": "stderr",
     "output_type": "stream",
     "text": [
      "[2022-03-18 17:35:25][datar][   INFO] Matching, by='a'\n",
      "[2022-03-18 17:35:25][datar][   INFO] Ignoring extra columns: ['b']\n"
     ]
    },
    {
     "data": {
      "text/html": [
       "<div>\n",
       "<style scoped>\n",
       "    .dataframe tbody tr th:only-of-type {\n",
       "        vertical-align: middle;\n",
       "    }\n",
       "\n",
       "    .dataframe tbody tr th {\n",
       "        vertical-align: top;\n",
       "    }\n",
       "\n",
       "    .dataframe thead th {\n",
       "        text-align: right;\n",
       "    }\n",
       "</style>\n",
       "<table border=\"1\" class=\"dataframe\">\n",
       "  <thead>\n",
       "    <tr style=\"text-align: right;\">\n",
       "      <th></th>\n",
       "      <th>a</th>\n",
       "      <th>b</th>\n",
       "      <th>c</th>\n",
       "    </tr>\n",
       "  </thead>\n",
       "  <tbody>\n",
       "    <tr>\n",
       "      <th style=\"font-style: italic;\" ></th>\n",
       "      <td style=\"font-style: italic;\" >&lt;int64&gt;</td>\n",
       "      <td style=\"font-style: italic;\" >&lt;object&gt;</td>\n",
       "      <td style=\"font-style: italic;\" >&lt;float64&gt;</td>\n",
       "    </tr>\n",
       "    <tr>\n",
       "      <th>0</th>\n",
       "      <td>1</td>\n",
       "      <td>a</td>\n",
       "      <td>0.5</td>\n",
       "    </tr>\n",
       "  </tbody>\n",
       "</table>\n",
       "</div>\n"
      ],
      "text/plain": [
       "        a        b         c\n",
       "  <int64> <object> <float64>\n",
       "0       1        a       0.5"
      ]
     },
     "execution_count": 10,
     "metadata": {},
     "output_type": "execute_result"
    }
   ],
   "source": [
    "rows_delete(data, tibble(a = [2, 3], b = \"b\"))"
   ]
  },
  {
   "cell_type": "code",
   "execution_count": 11,
   "metadata": {
    "execution": {
     "iopub.execute_input": "2021-07-16T22:28:13.349257Z",
     "iopub.status.busy": "2021-07-16T22:28:13.348629Z",
     "iopub.status.idle": "2021-07-16T22:28:13.366160Z",
     "shell.execute_reply": "2021-07-16T22:28:13.366676Z"
    }
   },
   "outputs": [
    {
     "name": "stdout",
     "output_type": "stream",
     "text": [
      "[ValueError] Attempting to delete missing rows.\n"
     ]
    }
   ],
   "source": [
    "with try_catch():\n",
    "    rows_delete(data, tibble(a = [2,3], b = \"b\"), by = c(\"a\", \"b\"))"
   ]
  }
 ],
 "metadata": {
  "interpreter": {
   "hash": "c4cc73b080e063fcebb9afb794613be7caf4b26129562cba1382945a18cc49cc"
  },
  "kernelspec": {
   "display_name": "Python 3.7.8 64-bit ('base': conda)",
   "name": "python3"
  },
  "language_info": {
   "codemirror_mode": {
    "name": "ipython",
    "version": 3
   },
   "file_extension": ".py",
   "mimetype": "text/x-python",
   "name": "python",
   "nbconvert_exporter": "python",
   "pygments_lexer": "ipython3",
   "version": "3.9.5"
  }
 },
 "nbformat": 4,
 "nbformat_minor": 2
}
