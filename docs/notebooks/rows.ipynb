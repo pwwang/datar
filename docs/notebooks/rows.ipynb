{
 "metadata": {
  "language_info": {
   "codemirror_mode": {
    "name": "ipython",
    "version": 3
   },
   "file_extension": ".py",
   "mimetype": "text/x-python",
   "name": "python",
   "nbconvert_exporter": "python",
   "pygments_lexer": "ipython3",
   "version": "3.7.8"
  },
  "orig_nbformat": 2,
  "kernelspec": {
   "name": "python378jvsc74a57bd0c4cc73b080e063fcebb9afb794613be7caf4b26129562cba1382945a18cc49cc",
   "display_name": "Python 3.7.8 64-bit ('base': conda)"
  }
 },
 "nbformat": 4,
 "nbformat_minor": 2,
 "cells": [
  {
   "cell_type": "code",
   "execution_count": 1,
   "metadata": {},
   "outputs": [
    {
     "output_type": "display_data",
     "data": {
      "text/plain": "<IPython.core.display.HTML object>",
      "text/html": "<div style=\"text-align: right; text-style: italic\">Try this notebook on <a target=\"_blank\" href=\"https://mybinder.org/v2/gh/pwwang/datar/93d069f3ca36711fc811c61dcf60e9fc3d1460a5?filepath=docs%2Fnotebooks%2Frows.ipynb\">binder</a>.</div>"
     },
     "metadata": {}
    },
    {
     "output_type": "display_data",
     "data": {
      "text/plain": "<IPython.core.display.Markdown object>",
      "text/markdown": "### # rows_insert  "
     },
     "metadata": {}
    },
    {
     "output_type": "display_data",
     "data": {
      "text/plain": "<IPython.core.display.Markdown object>",
      "text/markdown": "##### Adds new rows to a data frame\n\nArgument `in_place` not supported, as we always do data frames here.  \n\n##### Args:\n&emsp;&emsp;`x`: The seed data frame  \n&emsp;&emsp;`y`: The data frame with rows to be inserted into `x`.  \n&emsp;&emsp;&emsp;&emsp;- Key values in `y` must not occur in `x`\n\n&emsp;&emsp;&emsp;&emsp;- `y` must have the same or a subset columns of `x`\n\n&emsp;&emsp;`by`: A string or a list of strings giving the key columns.  \n&emsp;&emsp;&emsp;&emsp;The key values must uniquely identify each row  \n&emsp;&emsp;&emsp;&emsp;(i.e. each combination of key values occurs at most once),  \n&emsp;&emsp;&emsp;&emsp;and the key columns must exist in both x and y.  \n&emsp;&emsp;&emsp;&emsp;By default, we use the first column in y, since the first column  \n&emsp;&emsp;&emsp;&emsp;is a reasonable place to put an identifier variable.  \n\n&emsp;&emsp;`copy`: If `False`, do not copy data unnecessarily.  \n&emsp;&emsp;&emsp;&emsp;Original API does not support this. This argument will be  \n&emsp;&emsp;&emsp;&emsp;passed by to `pandas.concat()` as `copy` argument.  \n\n##### Returns:\n&emsp;&emsp;A data frame with `y` inserted into `x`  \n"
     },
     "metadata": {}
    },
    {
     "output_type": "display_data",
     "data": {
      "text/plain": "<IPython.core.display.Markdown object>",
      "text/markdown": "### # rows_update  "
     },
     "metadata": {}
    },
    {
     "output_type": "display_data",
     "data": {
      "text/plain": "<IPython.core.display.Markdown object>",
      "text/markdown": "##### Modifies existing rows in a data frame\n\nSee Also:  \n&emsp;&emsp;[`rows_insert`](datar.dplyr.rows.rows_insert)  \n\n##### Args:\n&emsp;&emsp;`x`: The seed data frame  \n&emsp;&emsp;`y`: The data frame with rows to be inserted into `x`.  \n&emsp;&emsp;&emsp;&emsp;- Key values in `y` must not occur in `x`\n\n&emsp;&emsp;&emsp;&emsp;- `y` must have the same or a subset columns of `x`\n\n&emsp;&emsp;`by`: A string or a list of strings giving the key columns.  \n&emsp;&emsp;&emsp;&emsp;The key values must uniquely identify each row  \n&emsp;&emsp;&emsp;&emsp;(i.e. each combination of key values occurs at most once),  \n&emsp;&emsp;&emsp;&emsp;and the key columns must exist in both x and y.  \n&emsp;&emsp;&emsp;&emsp;By default, we use the first column in y, since the first column  \n&emsp;&emsp;&emsp;&emsp;is a reasonable place to put an identifier variable.  \n\n&emsp;&emsp;`copy`: Whether `x` should be copied and updated or updated directly  \n\n##### Returns:\n&emsp;&emsp;`x` with values of keys updated  \n"
     },
     "metadata": {}
    },
    {
     "output_type": "display_data",
     "data": {
      "text/plain": "<IPython.core.display.Markdown object>",
      "text/markdown": "### # rows_patch  "
     },
     "metadata": {}
    },
    {
     "output_type": "display_data",
     "data": {
      "text/plain": "<IPython.core.display.Markdown object>",
      "text/markdown": "##### Works like `rows_update()` but only overwrites `NA` values.\n\nSee Also:  \n&emsp;&emsp;[`rows_insert`](datar.dplyr.rows.rows_insert)  \n\n##### Args:\n&emsp;&emsp;`x`: The seed data frame  \n&emsp;&emsp;`y`: The data frame with rows to be inserted into `x`.  \n&emsp;&emsp;&emsp;&emsp;- Key values in `y` must not occur in `x`\n\n&emsp;&emsp;&emsp;&emsp;- `y` must have the same or a subset columns of `x`\n\n&emsp;&emsp;`by`: A string or a list of strings giving the key columns.  \n&emsp;&emsp;&emsp;&emsp;The key values must uniquely identify each row  \n&emsp;&emsp;&emsp;&emsp;(i.e. each combination of key values occurs at most once),  \n&emsp;&emsp;&emsp;&emsp;and the key columns must exist in both x and y.  \n&emsp;&emsp;&emsp;&emsp;By default, we use the first column in y, since the first column  \n&emsp;&emsp;&emsp;&emsp;is a reasonable place to put an identifier variable.  \n\n&emsp;&emsp;`copy`: Whether `x` should be copied and updated or updated directly  \n\n##### Returns:\n&emsp;&emsp;`x` with values of keys updated  \n"
     },
     "metadata": {}
    },
    {
     "output_type": "display_data",
     "data": {
      "text/plain": "<IPython.core.display.Markdown object>",
      "text/markdown": "### # rows_upsert  "
     },
     "metadata": {}
    },
    {
     "output_type": "display_data",
     "data": {
      "text/plain": "<IPython.core.display.Markdown object>",
      "text/markdown": "##### Inserts or updates depending on whether or not the\nkey value in `y` already exists in `x`.  \n\nSee Also:  \n&emsp;&emsp;[`rows_insert`](datar.dplyr.rows.rows_insert)  \n\n##### Args:\n&emsp;&emsp;`x`: The seed data frame  \n&emsp;&emsp;`y`: The data frame with rows to be inserted into `x`.  \n&emsp;&emsp;&emsp;&emsp;- Key values in `y` must not occur in `x`\n\n&emsp;&emsp;&emsp;&emsp;- `y` must have the same or a subset columns of `x`\n\n&emsp;&emsp;`by`: A string or a list of strings giving the key columns.  \n&emsp;&emsp;&emsp;&emsp;The key values must uniquely identify each row  \n&emsp;&emsp;&emsp;&emsp;(i.e. each combination of key values occurs at most once),  \n&emsp;&emsp;&emsp;&emsp;and the key columns must exist in both x and y.  \n&emsp;&emsp;&emsp;&emsp;By default, we use the first column in y, since the first column  \n&emsp;&emsp;&emsp;&emsp;is a reasonable place to put an identifier variable.  \n\n&emsp;&emsp;`copy`: If `False`, do not copy data unnecessarily.  \n&emsp;&emsp;&emsp;&emsp;Original API does not support this. This argument will be  \n&emsp;&emsp;&emsp;&emsp;passed by to `pandas.concat()` as `copy` argument.  \n\n##### Returns:\n&emsp;&emsp;`x` with values of keys updated  \n"
     },
     "metadata": {}
    },
    {
     "output_type": "display_data",
     "data": {
      "text/plain": "<IPython.core.display.Markdown object>",
      "text/markdown": "### # rows_delete  "
     },
     "metadata": {}
    },
    {
     "output_type": "display_data",
     "data": {
      "text/plain": "<IPython.core.display.Markdown object>",
      "text/markdown": "##### Deletes rows; key values in `y` must exist in `x`.\n\nSee Also:  \n&emsp;&emsp;[`rows_insert`](datar.dplyr.rows.rows_insert)  \n\n##### Args:\n&emsp;&emsp;`x`: The seed data frame  \n&emsp;&emsp;`y`: The data frame with rows to be inserted into `x`.  \n&emsp;&emsp;&emsp;&emsp;- Key values in `y` must not occur in `x`\n\n&emsp;&emsp;&emsp;&emsp;- `y` must have the same or a subset columns of `x`\n\n&emsp;&emsp;`by`: A string or a list of strings giving the key columns.  \n&emsp;&emsp;&emsp;&emsp;The key values must uniquely identify each row  \n&emsp;&emsp;&emsp;&emsp;(i.e. each combination of key values occurs at most once),  \n&emsp;&emsp;&emsp;&emsp;and the key columns must exist in both x and y.  \n&emsp;&emsp;&emsp;&emsp;By default, we use the first column in y, since the first column  \n&emsp;&emsp;&emsp;&emsp;is a reasonable place to put an identifier variable.  \n\n&emsp;&emsp;`copy`: Whether `x` should be copied and deleted or deleted directly  \n\n##### Returns:\n&emsp;&emsp;`x` with values of keys deleted  \n"
     },
     "metadata": {}
    }
   ],
   "source": [
    "from datar.all import *\n",
    "\n",
    "%run nb_helpers.py\n",
    "nb_header(\n",
    "    rows_insert, \n",
    "    rows_update, \n",
    "    rows_patch, \n",
    "    rows_upsert, \n",
    "    rows_delete, \n",
    "    book='rows'\n",
    ")"
   ]
  },
  {
   "cell_type": "code",
   "execution_count": 2,
   "metadata": {},
   "outputs": [
    {
     "output_type": "execute_result",
     "data": {
      "text/plain": [
       "   a    b    c\n",
       "0  1    a  0.5\n",
       "1  2    b  1.5\n",
       "2  3  NaN  2.5"
      ],
      "text/html": "<div>\n<style scoped>\n    .dataframe tbody tr th:only-of-type {\n        vertical-align: middle;\n    }\n\n    .dataframe tbody tr th {\n        vertical-align: top;\n    }\n\n    .dataframe thead th {\n        text-align: right;\n    }\n</style>\n<table border=\"1\" class=\"dataframe\">\n  <thead>\n    <tr style=\"text-align: right;\">\n      <th></th>\n      <th>a</th>\n      <th>b</th>\n      <th>c</th>\n    </tr>\n  </thead>\n  <tbody>\n    <tr>\n      <th>0</th>\n      <td>1</td>\n      <td>a</td>\n      <td>0.5</td>\n    </tr>\n    <tr>\n      <th>1</th>\n      <td>2</td>\n      <td>b</td>\n      <td>1.5</td>\n    </tr>\n    <tr>\n      <th>2</th>\n      <td>3</td>\n      <td>NaN</td>\n      <td>2.5</td>\n    </tr>\n  </tbody>\n</table>\n</div>"
     },
     "metadata": {},
     "execution_count": 2
    }
   ],
   "source": [
    "data = tibble(a = seq(1, 3), b = c(letters[[0, 1]], NA), c = [.5, 1.5, 2.5])\n",
    "data"
   ]
  },
  {
   "cell_type": "code",
   "execution_count": 3,
   "metadata": {},
   "outputs": [
    {
     "output_type": "stream",
     "name": "stderr",
     "text": [
      "[2021-05-27 14:35:38][datar][   INFO] Matching, by='a'\n"
     ]
    },
    {
     "output_type": "execute_result",
     "data": {
      "text/plain": [
       "   a    b    c\n",
       "0  1    a  0.5\n",
       "1  2    b  1.5\n",
       "2  3  NaN  2.5\n",
       "3  4    z  NaN"
      ],
      "text/html": "<div>\n<style scoped>\n    .dataframe tbody tr th:only-of-type {\n        vertical-align: middle;\n    }\n\n    .dataframe tbody tr th {\n        vertical-align: top;\n    }\n\n    .dataframe thead th {\n        text-align: right;\n    }\n</style>\n<table border=\"1\" class=\"dataframe\">\n  <thead>\n    <tr style=\"text-align: right;\">\n      <th></th>\n      <th>a</th>\n      <th>b</th>\n      <th>c</th>\n    </tr>\n  </thead>\n  <tbody>\n    <tr>\n      <th>0</th>\n      <td>1</td>\n      <td>a</td>\n      <td>0.5</td>\n    </tr>\n    <tr>\n      <th>1</th>\n      <td>2</td>\n      <td>b</td>\n      <td>1.5</td>\n    </tr>\n    <tr>\n      <th>2</th>\n      <td>3</td>\n      <td>NaN</td>\n      <td>2.5</td>\n    </tr>\n    <tr>\n      <th>3</th>\n      <td>4</td>\n      <td>z</td>\n      <td>NaN</td>\n    </tr>\n  </tbody>\n</table>\n</div>"
     },
     "metadata": {},
     "execution_count": 3
    }
   ],
   "source": [
    "rows_insert(data, tibble(a = 4, b = \"z\"))"
   ]
  },
  {
   "cell_type": "code",
   "execution_count": 4,
   "metadata": {},
   "outputs": [
    {
     "output_type": "stream",
     "name": "stderr",
     "text": [
      "[2021-05-27 14:35:38][datar][   INFO] Matching, by='a'\n",
      "[ValueError] Attempting to insert duplicate rows.\n"
     ]
    }
   ],
   "source": [
    "with try_catch():\n",
    "    rows_insert(data, tibble(a = 3, b = \"z\"))"
   ]
  },
  {
   "cell_type": "code",
   "execution_count": 5,
   "metadata": {},
   "outputs": [
    {
     "output_type": "stream",
     "name": "stderr",
     "text": [
      "[2021-05-27 14:36:10][datar][   INFO] Matching, by='a'\n"
     ]
    },
    {
     "output_type": "execute_result",
     "data": {
      "text/plain": [
       "   a  b    c\n",
       "0  1  a  0.5\n",
       "1  2  z  1.5\n",
       "2  3  z  2.5"
      ],
      "text/html": "<div>\n<style scoped>\n    .dataframe tbody tr th:only-of-type {\n        vertical-align: middle;\n    }\n\n    .dataframe tbody tr th {\n        vertical-align: top;\n    }\n\n    .dataframe thead th {\n        text-align: right;\n    }\n</style>\n<table border=\"1\" class=\"dataframe\">\n  <thead>\n    <tr style=\"text-align: right;\">\n      <th></th>\n      <th>a</th>\n      <th>b</th>\n      <th>c</th>\n    </tr>\n  </thead>\n  <tbody>\n    <tr>\n      <th>0</th>\n      <td>1</td>\n      <td>a</td>\n      <td>0.5</td>\n    </tr>\n    <tr>\n      <th>1</th>\n      <td>2</td>\n      <td>z</td>\n      <td>1.5</td>\n    </tr>\n    <tr>\n      <th>2</th>\n      <td>3</td>\n      <td>z</td>\n      <td>2.5</td>\n    </tr>\n  </tbody>\n</table>\n</div>"
     },
     "metadata": {},
     "execution_count": 5
    }
   ],
   "source": [
    "rows_update(data, tibble(a = [2,3], b = \"z\"))"
   ]
  },
  {
   "cell_type": "code",
   "execution_count": 6,
   "metadata": {},
   "outputs": [
    {
     "output_type": "execute_result",
     "data": {
      "text/plain": [
       "   a  b    c\n",
       "0  1  a  0.5\n",
       "1  2  z  1.5\n",
       "2  3  z  2.5"
      ],
      "text/html": "<div>\n<style scoped>\n    .dataframe tbody tr th:only-of-type {\n        vertical-align: middle;\n    }\n\n    .dataframe tbody tr th {\n        vertical-align: top;\n    }\n\n    .dataframe thead th {\n        text-align: right;\n    }\n</style>\n<table border=\"1\" class=\"dataframe\">\n  <thead>\n    <tr style=\"text-align: right;\">\n      <th></th>\n      <th>a</th>\n      <th>b</th>\n      <th>c</th>\n    </tr>\n  </thead>\n  <tbody>\n    <tr>\n      <th>0</th>\n      <td>1</td>\n      <td>a</td>\n      <td>0.5</td>\n    </tr>\n    <tr>\n      <th>1</th>\n      <td>2</td>\n      <td>z</td>\n      <td>1.5</td>\n    </tr>\n    <tr>\n      <th>2</th>\n      <td>3</td>\n      <td>z</td>\n      <td>2.5</td>\n    </tr>\n  </tbody>\n</table>\n</div>"
     },
     "metadata": {},
     "execution_count": 6
    }
   ],
   "source": [
    "rows_update(data, tibble(b = \"z\", a = [2,3]), by = \"a\")"
   ]
  },
  {
   "cell_type": "code",
   "execution_count": 7,
   "metadata": {},
   "outputs": [
    {
     "output_type": "stream",
     "name": "stderr",
     "text": [
      "[2021-05-27 14:36:54][datar][   INFO] Matching, by='a'\n"
     ]
    },
    {
     "output_type": "execute_result",
     "data": {
      "text/plain": [
       "   a  b    c\n",
       "0  1  a  0.5\n",
       "1  2  b  1.5\n",
       "2  3  z  2.5"
      ],
      "text/html": "<div>\n<style scoped>\n    .dataframe tbody tr th:only-of-type {\n        vertical-align: middle;\n    }\n\n    .dataframe tbody tr th {\n        vertical-align: top;\n    }\n\n    .dataframe thead th {\n        text-align: right;\n    }\n</style>\n<table border=\"1\" class=\"dataframe\">\n  <thead>\n    <tr style=\"text-align: right;\">\n      <th></th>\n      <th>a</th>\n      <th>b</th>\n      <th>c</th>\n    </tr>\n  </thead>\n  <tbody>\n    <tr>\n      <th>0</th>\n      <td>1</td>\n      <td>a</td>\n      <td>0.5</td>\n    </tr>\n    <tr>\n      <th>1</th>\n      <td>2</td>\n      <td>b</td>\n      <td>1.5</td>\n    </tr>\n    <tr>\n      <th>2</th>\n      <td>3</td>\n      <td>z</td>\n      <td>2.5</td>\n    </tr>\n  </tbody>\n</table>\n</div>"
     },
     "metadata": {},
     "execution_count": 7
    }
   ],
   "source": [
    "rows_patch(data, tibble(a = [2,3], b = \"z\"))"
   ]
  },
  {
   "cell_type": "code",
   "execution_count": 8,
   "metadata": {},
   "outputs": [
    {
     "output_type": "stream",
     "name": "stderr",
     "text": [
      "[2021-05-27 14:37:15][datar][   INFO] Matching, by='a'\n"
     ]
    },
    {
     "output_type": "execute_result",
     "data": {
      "text/plain": [
       "   a  b    c\n",
       "0  1  a  0.5\n",
       "1  2  z  1.5\n",
       "2  3  z  2.5\n",
       "3  4  z  NaN"
      ],
      "text/html": "<div>\n<style scoped>\n    .dataframe tbody tr th:only-of-type {\n        vertical-align: middle;\n    }\n\n    .dataframe tbody tr th {\n        vertical-align: top;\n    }\n\n    .dataframe thead th {\n        text-align: right;\n    }\n</style>\n<table border=\"1\" class=\"dataframe\">\n  <thead>\n    <tr style=\"text-align: right;\">\n      <th></th>\n      <th>a</th>\n      <th>b</th>\n      <th>c</th>\n    </tr>\n  </thead>\n  <tbody>\n    <tr>\n      <th>0</th>\n      <td>1</td>\n      <td>a</td>\n      <td>0.5</td>\n    </tr>\n    <tr>\n      <th>1</th>\n      <td>2</td>\n      <td>z</td>\n      <td>1.5</td>\n    </tr>\n    <tr>\n      <th>2</th>\n      <td>3</td>\n      <td>z</td>\n      <td>2.5</td>\n    </tr>\n    <tr>\n      <th>3</th>\n      <td>4</td>\n      <td>z</td>\n      <td>NaN</td>\n    </tr>\n  </tbody>\n</table>\n</div>"
     },
     "metadata": {},
     "execution_count": 8
    }
   ],
   "source": [
    "rows_upsert(data, tibble(a = seq(2, 4), b = \"z\"))"
   ]
  },
  {
   "cell_type": "code",
   "execution_count": 9,
   "metadata": {},
   "outputs": [
    {
     "output_type": "stream",
     "name": "stderr",
     "text": [
      "[2021-05-27 14:37:31][datar][   INFO] Matching, by='a'\n"
     ]
    },
    {
     "output_type": "execute_result",
     "data": {
      "text/plain": [
       "   a  b    c\n",
       "0  1  a  0.5"
      ],
      "text/html": "<div>\n<style scoped>\n    .dataframe tbody tr th:only-of-type {\n        vertical-align: middle;\n    }\n\n    .dataframe tbody tr th {\n        vertical-align: top;\n    }\n\n    .dataframe thead th {\n        text-align: right;\n    }\n</style>\n<table border=\"1\" class=\"dataframe\">\n  <thead>\n    <tr style=\"text-align: right;\">\n      <th></th>\n      <th>a</th>\n      <th>b</th>\n      <th>c</th>\n    </tr>\n  </thead>\n  <tbody>\n    <tr>\n      <th>0</th>\n      <td>1</td>\n      <td>a</td>\n      <td>0.5</td>\n    </tr>\n  </tbody>\n</table>\n</div>"
     },
     "metadata": {},
     "execution_count": 9
    }
   ],
   "source": [
    "rows_delete(data, tibble(a = [2, 3]))"
   ]
  },
  {
   "cell_type": "code",
   "execution_count": 10,
   "metadata": {},
   "outputs": [
    {
     "output_type": "stream",
     "name": "stderr",
     "text": [
      "[2021-05-27 14:37:48][datar][   INFO] Matching, by='a'\n",
      "[2021-05-27 14:37:48][datar][   INFO] Ignoring extra columns: ['b']\n"
     ]
    },
    {
     "output_type": "execute_result",
     "data": {
      "text/plain": [
       "   a  b    c\n",
       "0  1  a  0.5"
      ],
      "text/html": "<div>\n<style scoped>\n    .dataframe tbody tr th:only-of-type {\n        vertical-align: middle;\n    }\n\n    .dataframe tbody tr th {\n        vertical-align: top;\n    }\n\n    .dataframe thead th {\n        text-align: right;\n    }\n</style>\n<table border=\"1\" class=\"dataframe\">\n  <thead>\n    <tr style=\"text-align: right;\">\n      <th></th>\n      <th>a</th>\n      <th>b</th>\n      <th>c</th>\n    </tr>\n  </thead>\n  <tbody>\n    <tr>\n      <th>0</th>\n      <td>1</td>\n      <td>a</td>\n      <td>0.5</td>\n    </tr>\n  </tbody>\n</table>\n</div>"
     },
     "metadata": {},
     "execution_count": 10
    }
   ],
   "source": [
    "rows_delete(data, tibble(a = [2, 3], b = \"b\"))"
   ]
  },
  {
   "cell_type": "code",
   "execution_count": 11,
   "metadata": {},
   "outputs": [
    {
     "output_type": "stream",
     "name": "stdout",
     "text": [
      "[ValueError] Attempting to delete missing rows.\n"
     ]
    }
   ],
   "source": [
    "with try_catch():\n",
    "    rows_delete(data, tibble(a = [2,3], b = \"b\"), by = c(\"a\", \"b\"))"
   ]
  }
 ]
}