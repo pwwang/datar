{
 "cells": [
  {
   "cell_type": "code",
   "execution_count": 1,
   "source": [
    "# https://dplyr.tidyverse.org/reference/between.html\n",
    "\n",
    "from datar.datasets import starwars\n",
    "from datar.all import *\n",
    "\n",
    "%run nb_helpers.py\n",
    "nb_header(between)"
   ],
   "outputs": [
    {
     "output_type": "stream",
     "name": "stderr",
     "text": [
      "[2021-06-21 13:28:51][datar][WARNING] Builtin name \"min\" has been overriden by datar.\n",
      "[2021-06-21 13:28:51][datar][WARNING] Builtin name \"max\" has been overriden by datar.\n",
      "[2021-06-21 13:28:51][datar][WARNING] Builtin name \"sum\" has been overriden by datar.\n",
      "[2021-06-21 13:28:52][datar][WARNING] Builtin name \"abs\" has been overriden by datar.\n",
      "[2021-06-21 13:28:52][datar][WARNING] Builtin name \"round\" has been overriden by datar.\n",
      "[2021-06-21 13:28:52][datar][WARNING] Builtin name \"all\" has been overriden by datar.\n",
      "[2021-06-21 13:28:52][datar][WARNING] Builtin name \"any\" has been overriden by datar.\n",
      "[2021-06-21 13:28:52][datar][WARNING] Builtin name \"re\" has been overriden by datar.\n",
      "[2021-06-21 13:28:52][datar][WARNING] Builtin name \"filter\" has been overriden by datar.\n",
      "[2021-06-21 13:28:52][datar][WARNING] Builtin name \"slice\" has been overriden by datar.\n"
     ]
    },
    {
     "output_type": "display_data",
     "data": {
      "text/plain": [
       "<IPython.core.display.HTML object>"
      ],
      "text/html": [
       "<div style=\"text-align: right; text-style: italic\">Try this notebook on <a target=\"_blank\" href=\"https://mybinder.org/v2/gh/pwwang/datar/93d069f3ca36711fc811c61dcf60e9fc3d1460a5?filepath=docs%2Fnotebooks%2Fbetween.ipynb\">binder</a>.</div>"
      ]
     },
     "metadata": {}
    },
    {
     "output_type": "display_data",
     "data": {
      "text/plain": [
       "<IPython.core.display.Markdown object>"
      ],
      "text/markdown": [
       "### # between  "
      ]
     },
     "metadata": {}
    },
    {
     "output_type": "display_data",
     "data": {
      "text/plain": [
       "<IPython.core.display.Markdown object>"
      ],
      "text/markdown": [
       "##### Function version of `left <= x <= right`, works for both scalar and\n",
       "vector data  \n",
       "\n",
       "See https://dplyr.tidyverse.org/reference/between.html  \n",
       "\n",
       "##### Args:\n",
       "&emsp;&emsp;`x`: The data to test  \n",
       "&emsp;&emsp;`left`: and  \n",
       "&emsp;&emsp;`right`: The boundary values (must be scalars)  \n",
       "\n",
       "##### Returns:\n",
       "&emsp;&emsp;A bool value of `x` is scalar, otherwise a `Series` of boolean values  \n"
      ]
     },
     "metadata": {}
    }
   ],
   "metadata": {
    "execution": {
     "iopub.execute_input": "2021-04-17T00:51:30.083242Z",
     "iopub.status.busy": "2021-04-17T00:51:30.044931Z",
     "iopub.status.idle": "2021-04-17T00:51:30.953158Z",
     "shell.execute_reply": "2021-04-17T00:51:30.952386Z"
    }
   }
  },
  {
   "cell_type": "code",
   "execution_count": 2,
   "source": [
    "between(range(1, 13), 7, 9)"
   ],
   "outputs": [
    {
     "output_type": "execute_result",
     "data": {
      "text/plain": [
       "0     False\n",
       "1     False\n",
       "2     False\n",
       "3     False\n",
       "4     False\n",
       "5     False\n",
       "6      True\n",
       "7      True\n",
       "8      True\n",
       "9     False\n",
       "10    False\n",
       "11    False\n",
       "dtype: bool"
      ]
     },
     "metadata": {},
     "execution_count": 2
    }
   ],
   "metadata": {
    "execution": {
     "iopub.execute_input": "2021-04-17T00:51:30.983122Z",
     "iopub.status.busy": "2021-04-17T00:51:30.982599Z",
     "iopub.status.idle": "2021-04-17T00:51:30.989749Z",
     "shell.execute_reply": "2021-04-17T00:51:30.989242Z"
    }
   }
  },
  {
   "cell_type": "code",
   "execution_count": 3,
   "source": [
    "x = rnorm(100)\n",
    "x[between(x, -1, 1)]"
   ],
   "outputs": [
    {
     "output_type": "execute_result",
     "data": {
      "text/plain": [
       "array([-0.36890591, -0.40896527, -0.50850815, -0.30331288, -0.4968058 ,\n",
       "       -0.43830054, -0.26827563, -0.00376765,  0.96683602,  0.01637817,\n",
       "       -0.40974726, -0.62484559,  0.37765551,  0.23916291, -0.3004912 ,\n",
       "        0.50197137, -0.67636235,  0.36962052,  0.00245579,  0.2073356 ,\n",
       "        0.25423489, -0.27350288, -0.13633483, -0.24195394,  0.74692407,\n",
       "       -0.27682018, -0.28163428, -0.03970399,  0.18417884, -0.93556746,\n",
       "        0.30141042,  0.44094862, -0.68719721, -0.1217402 , -0.4606874 ,\n",
       "        0.18028878, -0.98785319, -0.71837921, -0.94046176, -0.45859295,\n",
       "        0.28564889,  0.15097077,  0.14783947, -0.83902216,  0.96585747,\n",
       "       -0.31131757,  0.55273635, -0.10614962, -0.32142677, -0.07766405,\n",
       "        0.03001742,  0.43900944,  0.47242407, -0.33440954, -0.80298313,\n",
       "       -0.1481076 ,  0.450346  ,  0.32703836, -0.76522976,  0.899166  ,\n",
       "       -0.48570182, -0.29709806, -0.66826051, -0.35165681, -0.25372818,\n",
       "        0.26131305,  0.20557421])"
      ]
     },
     "metadata": {},
     "execution_count": 3
    }
   ],
   "metadata": {
    "execution": {
     "iopub.execute_input": "2021-04-17T00:51:31.005557Z",
     "iopub.status.busy": "2021-04-17T00:51:31.004959Z",
     "iopub.status.idle": "2021-04-17T00:51:31.011171Z",
     "shell.execute_reply": "2021-04-17T00:51:31.010732Z"
    }
   }
  },
  {
   "cell_type": "code",
   "execution_count": 4,
   "source": [
    "starwars >> filter(between(f.height, 100, 150))"
   ],
   "outputs": [
    {
     "output_type": "execute_result",
     "data": {
      "text/plain": [
       "          name    height      mass hair_color   skin_color eye_color  \\\n",
       "      <object> <float64> <float64>   <object>     <object>  <object>   \n",
       "0  Leia Organa     150.0      49.0      brown        light     brown   \n",
       "1   Mon Mothma     150.0       NaN     auburn         fair      blue   \n",
       "2        Watto     137.0       NaN      black   blue, grey    yellow   \n",
       "3      Sebulba     112.0      40.0       none    grey, red    orange   \n",
       "4      Gasgano     122.0       NaN       none  white, blue     black   \n",
       "\n",
       "   birth_year      sex     gender  homeworld    species  \n",
       "    <float64> <object>   <object>   <object>   <object>  \n",
       "0        19.0   female   feminine   Alderaan      Human  \n",
       "1        48.0   female   feminine  Chandrila      Human  \n",
       "2         NaN     male  masculine   Toydaria  Toydarian  \n",
       "3         NaN     male  masculine  Malastare        Dug  \n",
       "4         NaN     male  masculine    Troiken      Xexto  "
      ],
      "text/html": [
       "<table border=\"1\" class=\"dataframe\">\n",
       "  <thead>\n",
       "    <tr style=\"text-align: right;\">\n",
       "      <th></th>\n",
       "      <th>name</th>\n",
       "      <th>height</th>\n",
       "      <th>mass</th>\n",
       "      <th>hair_color</th>\n",
       "      <th>skin_color</th>\n",
       "      <th>eye_color</th>\n",
       "      <th>birth_year</th>\n",
       "      <th>sex</th>\n",
       "      <th>gender</th>\n",
       "      <th>homeworld</th>\n",
       "      <th>species</th>\n",
       "    </tr>\n",
       "  </thead>\n",
       "  <tbody>\n",
       "    <tr>\n",
       "      <th style=\"font-style: italic;\" ></th>\n",
       "      <td style=\"font-style: italic;\" >&lt;object&gt;</td>\n",
       "      <td style=\"font-style: italic;\" >&lt;float64&gt;</td>\n",
       "      <td style=\"font-style: italic;\" >&lt;float64&gt;</td>\n",
       "      <td style=\"font-style: italic;\" >&lt;object&gt;</td>\n",
       "      <td style=\"font-style: italic;\" >&lt;object&gt;</td>\n",
       "      <td style=\"font-style: italic;\" >&lt;object&gt;</td>\n",
       "      <td style=\"font-style: italic;\" >&lt;float64&gt;</td>\n",
       "      <td style=\"font-style: italic;\" >&lt;object&gt;</td>\n",
       "      <td style=\"font-style: italic;\" >&lt;object&gt;</td>\n",
       "      <td style=\"font-style: italic;\" >&lt;object&gt;</td>\n",
       "      <td style=\"font-style: italic;\" >&lt;object&gt;</td>\n",
       "    </tr>\n",
       "    <tr>\n",
       "      <th>0</th>\n",
       "      <td>Leia Organa</td>\n",
       "      <td>150.0</td>\n",
       "      <td>49.0</td>\n",
       "      <td>brown</td>\n",
       "      <td>light</td>\n",
       "      <td>brown</td>\n",
       "      <td>19.0</td>\n",
       "      <td>female</td>\n",
       "      <td>feminine</td>\n",
       "      <td>Alderaan</td>\n",
       "      <td>Human</td>\n",
       "    </tr>\n",
       "    <tr>\n",
       "      <th>1</th>\n",
       "      <td>Mon Mothma</td>\n",
       "      <td>150.0</td>\n",
       "      <td>NaN</td>\n",
       "      <td>auburn</td>\n",
       "      <td>fair</td>\n",
       "      <td>blue</td>\n",
       "      <td>48.0</td>\n",
       "      <td>female</td>\n",
       "      <td>feminine</td>\n",
       "      <td>Chandrila</td>\n",
       "      <td>Human</td>\n",
       "    </tr>\n",
       "    <tr>\n",
       "      <th>2</th>\n",
       "      <td>Watto</td>\n",
       "      <td>137.0</td>\n",
       "      <td>NaN</td>\n",
       "      <td>black</td>\n",
       "      <td>blue, grey</td>\n",
       "      <td>yellow</td>\n",
       "      <td>NaN</td>\n",
       "      <td>male</td>\n",
       "      <td>masculine</td>\n",
       "      <td>Toydaria</td>\n",
       "      <td>Toydarian</td>\n",
       "    </tr>\n",
       "    <tr>\n",
       "      <th>3</th>\n",
       "      <td>Sebulba</td>\n",
       "      <td>112.0</td>\n",
       "      <td>40.0</td>\n",
       "      <td>none</td>\n",
       "      <td>grey, red</td>\n",
       "      <td>orange</td>\n",
       "      <td>NaN</td>\n",
       "      <td>male</td>\n",
       "      <td>masculine</td>\n",
       "      <td>Malastare</td>\n",
       "      <td>Dug</td>\n",
       "    </tr>\n",
       "    <tr>\n",
       "      <th>4</th>\n",
       "      <td>Gasgano</td>\n",
       "      <td>122.0</td>\n",
       "      <td>NaN</td>\n",
       "      <td>none</td>\n",
       "      <td>white, blue</td>\n",
       "      <td>black</td>\n",
       "      <td>NaN</td>\n",
       "      <td>male</td>\n",
       "      <td>masculine</td>\n",
       "      <td>Troiken</td>\n",
       "      <td>Xexto</td>\n",
       "    </tr>\n",
       "  </tbody>\n",
       "</table>"
      ]
     },
     "metadata": {},
     "execution_count": 4
    }
   ],
   "metadata": {
    "execution": {
     "iopub.execute_input": "2021-04-17T00:51:31.033658Z",
     "iopub.status.busy": "2021-04-17T00:51:31.033128Z",
     "iopub.status.idle": "2021-04-17T00:51:31.039004Z",
     "shell.execute_reply": "2021-04-17T00:51:31.038537Z"
    }
   }
  },
  {
   "cell_type": "code",
   "execution_count": 5,
   "source": [
    "starwars >> filter(100 <= f.height <= 150) # not as expected"
   ],
   "outputs": [
    {
     "output_type": "execute_result",
     "data": {
      "text/plain": [
       "                     name    height      mass hair_color   skin_color  \\\n",
       "                 <object> <float64> <float64>   <object>     <object>   \n",
       "0                   R2-D2      96.0      32.0        NaN  white, blue   \n",
       "1             Leia Organa     150.0      49.0      brown        light   \n",
       "2                   R5-D4      97.0      32.0        NaN   white, red   \n",
       "3                    Yoda      66.0      17.0      white        green   \n",
       "4              Mon Mothma     150.0       NaN     auburn         fair   \n",
       "5   Wicket Systri Warrick      88.0      20.0      brown        brown   \n",
       "6                   Watto     137.0       NaN      black   blue, grey   \n",
       "7                 Sebulba     112.0      40.0       none    grey, red   \n",
       "8                Dud Bolt      94.0      45.0       none   blue, grey   \n",
       "9                 Gasgano     122.0       NaN       none  white, blue   \n",
       "10          Ratts Tyerell      79.0      15.0       none   grey, blue   \n",
       "11                 R4-P17      96.0       NaN       none  silver, red   \n",
       "\n",
       "    eye_color  birth_year      sex     gender    homeworld         species  \n",
       "     <object>   <float64> <object>   <object>     <object>        <object>  \n",
       "0         red        33.0     none  masculine        Naboo           Droid  \n",
       "1       brown        19.0   female   feminine     Alderaan           Human  \n",
       "2         red         NaN     none  masculine     Tatooine           Droid  \n",
       "3       brown       896.0     male  masculine          NaN  Yoda's species  \n",
       "4        blue        48.0   female   feminine    Chandrila           Human  \n",
       "5       brown         8.0     male  masculine        Endor            Ewok  \n",
       "6      yellow         NaN     male  masculine     Toydaria       Toydarian  \n",
       "7      orange         NaN     male  masculine    Malastare             Dug  \n",
       "8      yellow         NaN     male  masculine      Vulpter      Vulptereen  \n",
       "9       black         NaN     male  masculine      Troiken           Xexto  \n",
       "10    unknown         NaN     male  masculine  Aleen Minor          Aleena  \n",
       "11  red, blue         NaN     none   feminine          NaN           Droid  "
      ],
      "text/html": [
       "<table border=\"1\" class=\"dataframe\">\n",
       "  <thead>\n",
       "    <tr style=\"text-align: right;\">\n",
       "      <th></th>\n",
       "      <th>name</th>\n",
       "      <th>height</th>\n",
       "      <th>mass</th>\n",
       "      <th>hair_color</th>\n",
       "      <th>skin_color</th>\n",
       "      <th>eye_color</th>\n",
       "      <th>birth_year</th>\n",
       "      <th>sex</th>\n",
       "      <th>gender</th>\n",
       "      <th>homeworld</th>\n",
       "      <th>species</th>\n",
       "    </tr>\n",
       "  </thead>\n",
       "  <tbody>\n",
       "    <tr>\n",
       "      <th style=\"font-style: italic;\" ></th>\n",
       "      <td style=\"font-style: italic;\" >&lt;object&gt;</td>\n",
       "      <td style=\"font-style: italic;\" >&lt;float64&gt;</td>\n",
       "      <td style=\"font-style: italic;\" >&lt;float64&gt;</td>\n",
       "      <td style=\"font-style: italic;\" >&lt;object&gt;</td>\n",
       "      <td style=\"font-style: italic;\" >&lt;object&gt;</td>\n",
       "      <td style=\"font-style: italic;\" >&lt;object&gt;</td>\n",
       "      <td style=\"font-style: italic;\" >&lt;float64&gt;</td>\n",
       "      <td style=\"font-style: italic;\" >&lt;object&gt;</td>\n",
       "      <td style=\"font-style: italic;\" >&lt;object&gt;</td>\n",
       "      <td style=\"font-style: italic;\" >&lt;object&gt;</td>\n",
       "      <td style=\"font-style: italic;\" >&lt;object&gt;</td>\n",
       "    </tr>\n",
       "    <tr>\n",
       "      <th>0</th>\n",
       "      <td>R2-D2</td>\n",
       "      <td>96.0</td>\n",
       "      <td>32.0</td>\n",
       "      <td>NaN</td>\n",
       "      <td>white, blue</td>\n",
       "      <td>red</td>\n",
       "      <td>33.0</td>\n",
       "      <td>none</td>\n",
       "      <td>masculine</td>\n",
       "      <td>Naboo</td>\n",
       "      <td>Droid</td>\n",
       "    </tr>\n",
       "    <tr>\n",
       "      <th>1</th>\n",
       "      <td>Leia Organa</td>\n",
       "      <td>150.0</td>\n",
       "      <td>49.0</td>\n",
       "      <td>brown</td>\n",
       "      <td>light</td>\n",
       "      <td>brown</td>\n",
       "      <td>19.0</td>\n",
       "      <td>female</td>\n",
       "      <td>feminine</td>\n",
       "      <td>Alderaan</td>\n",
       "      <td>Human</td>\n",
       "    </tr>\n",
       "    <tr>\n",
       "      <th>2</th>\n",
       "      <td>R5-D4</td>\n",
       "      <td>97.0</td>\n",
       "      <td>32.0</td>\n",
       "      <td>NaN</td>\n",
       "      <td>white, red</td>\n",
       "      <td>red</td>\n",
       "      <td>NaN</td>\n",
       "      <td>none</td>\n",
       "      <td>masculine</td>\n",
       "      <td>Tatooine</td>\n",
       "      <td>Droid</td>\n",
       "    </tr>\n",
       "    <tr>\n",
       "      <th>3</th>\n",
       "      <td>Yoda</td>\n",
       "      <td>66.0</td>\n",
       "      <td>17.0</td>\n",
       "      <td>white</td>\n",
       "      <td>green</td>\n",
       "      <td>brown</td>\n",
       "      <td>896.0</td>\n",
       "      <td>male</td>\n",
       "      <td>masculine</td>\n",
       "      <td>NaN</td>\n",
       "      <td>Yoda's species</td>\n",
       "    </tr>\n",
       "    <tr>\n",
       "      <th>4</th>\n",
       "      <td>Mon Mothma</td>\n",
       "      <td>150.0</td>\n",
       "      <td>NaN</td>\n",
       "      <td>auburn</td>\n",
       "      <td>fair</td>\n",
       "      <td>blue</td>\n",
       "      <td>48.0</td>\n",
       "      <td>female</td>\n",
       "      <td>feminine</td>\n",
       "      <td>Chandrila</td>\n",
       "      <td>Human</td>\n",
       "    </tr>\n",
       "    <tr>\n",
       "      <th>5</th>\n",
       "      <td>Wicket Systri Warrick</td>\n",
       "      <td>88.0</td>\n",
       "      <td>20.0</td>\n",
       "      <td>brown</td>\n",
       "      <td>brown</td>\n",
       "      <td>brown</td>\n",
       "      <td>8.0</td>\n",
       "      <td>male</td>\n",
       "      <td>masculine</td>\n",
       "      <td>Endor</td>\n",
       "      <td>Ewok</td>\n",
       "    </tr>\n",
       "    <tr>\n",
       "      <th>6</th>\n",
       "      <td>Watto</td>\n",
       "      <td>137.0</td>\n",
       "      <td>NaN</td>\n",
       "      <td>black</td>\n",
       "      <td>blue, grey</td>\n",
       "      <td>yellow</td>\n",
       "      <td>NaN</td>\n",
       "      <td>male</td>\n",
       "      <td>masculine</td>\n",
       "      <td>Toydaria</td>\n",
       "      <td>Toydarian</td>\n",
       "    </tr>\n",
       "    <tr>\n",
       "      <th>7</th>\n",
       "      <td>Sebulba</td>\n",
       "      <td>112.0</td>\n",
       "      <td>40.0</td>\n",
       "      <td>none</td>\n",
       "      <td>grey, red</td>\n",
       "      <td>orange</td>\n",
       "      <td>NaN</td>\n",
       "      <td>male</td>\n",
       "      <td>masculine</td>\n",
       "      <td>Malastare</td>\n",
       "      <td>Dug</td>\n",
       "    </tr>\n",
       "    <tr>\n",
       "      <th>8</th>\n",
       "      <td>Dud Bolt</td>\n",
       "      <td>94.0</td>\n",
       "      <td>45.0</td>\n",
       "      <td>none</td>\n",
       "      <td>blue, grey</td>\n",
       "      <td>yellow</td>\n",
       "      <td>NaN</td>\n",
       "      <td>male</td>\n",
       "      <td>masculine</td>\n",
       "      <td>Vulpter</td>\n",
       "      <td>Vulptereen</td>\n",
       "    </tr>\n",
       "    <tr>\n",
       "      <th>9</th>\n",
       "      <td>Gasgano</td>\n",
       "      <td>122.0</td>\n",
       "      <td>NaN</td>\n",
       "      <td>none</td>\n",
       "      <td>white, blue</td>\n",
       "      <td>black</td>\n",
       "      <td>NaN</td>\n",
       "      <td>male</td>\n",
       "      <td>masculine</td>\n",
       "      <td>Troiken</td>\n",
       "      <td>Xexto</td>\n",
       "    </tr>\n",
       "    <tr>\n",
       "      <th>10</th>\n",
       "      <td>Ratts Tyerell</td>\n",
       "      <td>79.0</td>\n",
       "      <td>15.0</td>\n",
       "      <td>none</td>\n",
       "      <td>grey, blue</td>\n",
       "      <td>unknown</td>\n",
       "      <td>NaN</td>\n",
       "      <td>male</td>\n",
       "      <td>masculine</td>\n",
       "      <td>Aleen Minor</td>\n",
       "      <td>Aleena</td>\n",
       "    </tr>\n",
       "    <tr>\n",
       "      <th>11</th>\n",
       "      <td>R4-P17</td>\n",
       "      <td>96.0</td>\n",
       "      <td>NaN</td>\n",
       "      <td>none</td>\n",
       "      <td>silver, red</td>\n",
       "      <td>red, blue</td>\n",
       "      <td>NaN</td>\n",
       "      <td>none</td>\n",
       "      <td>feminine</td>\n",
       "      <td>NaN</td>\n",
       "      <td>Droid</td>\n",
       "    </tr>\n",
       "  </tbody>\n",
       "</table>"
      ]
     },
     "metadata": {},
     "execution_count": 5
    }
   ],
   "metadata": {
    "execution": {
     "iopub.execute_input": "2021-04-17T00:51:31.061801Z",
     "iopub.status.busy": "2021-04-17T00:51:31.060894Z",
     "iopub.status.idle": "2021-04-17T00:51:31.066322Z",
     "shell.execute_reply": "2021-04-17T00:51:31.065930Z"
    }
   }
  }
 ],
 "metadata": {
  "kernelspec": {
   "display_name": "Python 3",
   "language": "python",
   "name": "python3"
  },
  "language_info": {
   "codemirror_mode": {
    "name": "ipython",
    "version": 3
   },
   "file_extension": ".py",
   "mimetype": "text/x-python",
   "name": "python",
   "nbconvert_exporter": "python",
   "pygments_lexer": "ipython3",
   "version": "3.7.8"
  }
 },
 "nbformat": 4,
 "nbformat_minor": 5
}