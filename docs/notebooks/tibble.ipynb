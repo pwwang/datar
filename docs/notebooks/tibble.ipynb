{
 "cells": [
  {
   "cell_type": "code",
   "execution_count": 3,
   "id": "8b02806d",
   "metadata": {
    "execution": {
     "iopub.execute_input": "2021-07-16T22:28:10.487937Z",
     "iopub.status.busy": "2021-07-16T22:28:10.487068Z",
     "iopub.status.idle": "2021-07-16T22:28:11.408146Z",
     "shell.execute_reply": "2021-07-16T22:28:11.408553Z"
    }
   },
   "outputs": [
    {
     "data": {
      "text/html": [
       "<div style=\"text-align: right; text-style: italic\">Try this notebook on <a target=\"_blank\" href=\"https://mybinder.org/v2/gh/pwwang/datar/93d069f3ca36711fc811c61dcf60e9fc3d1460a5?filepath=docs%2Fnotebooks%2Ftibble.ipynb\">binder</a>.</div>"
      ],
      "text/plain": [
       "<IPython.core.display.HTML object>"
      ]
     },
     "metadata": {},
     "output_type": "display_data"
    },
    {
     "data": {
      "text/markdown": [
       "### # tibble  "
      ],
      "text/plain": [
       "<IPython.core.display.Markdown object>"
      ]
     },
     "metadata": {},
     "output_type": "display_data"
    },
    {
     "data": {
      "text/markdown": [
       "##### Constructs a data frame\n",
       "\n",
       "##### Args:\n",
       "&emsp;&emsp;`*args`: and  \n",
       "&emsp;&emsp;`**kwargs`: A set of name-value pairs.  \n",
       "&emsp;&emsp;`_name_repair`: treatment of problematic column names:  \n",
       "&emsp;&emsp;&emsp;&emsp;- \"minimal\": No name repair or checks, beyond basic existence,\n",
       "\n",
       "&emsp;&emsp;&emsp;&emsp;- \"unique\": Make sure names are unique and not empty,\n",
       "\n",
       "&emsp;&emsp;&emsp;&emsp;- \"check_unique\": (default value), no name repair,\n",
       "&emsp;&emsp;&emsp;&emsp;&emsp;&emsp;but check they are unique,  \n",
       "\n",
       "&emsp;&emsp;&emsp;&emsp;- \"universal\": Make the names unique and syntactic\n",
       "\n",
       "&emsp;&emsp;&emsp;&emsp;- a function: apply custom name repair\n",
       "\n",
       "&emsp;&emsp;`_rows`: Number of rows of a 0-col dataframe when args and kwargs are  \n",
       "&emsp;&emsp;&emsp;&emsp;not provided. When args or kwargs are provided, this is ignored.  \n",
       "\n",
       "&emsp;&emsp;`_dtypes`: The dtypes for each columns to convert to.  \n",
       "&emsp;&emsp;`_drop_index`: Whether drop the index for the final data frame  \n",
       "&emsp;&emsp;`_index`: The new index of the output frame  \n",
       "\n",
       "##### Returns:\n",
       "&emsp;&emsp;A constructed tibble  \n"
      ],
      "text/plain": [
       "<IPython.core.display.Markdown object>"
      ]
     },
     "metadata": {},
     "output_type": "display_data"
    },
    {
     "data": {
      "text/markdown": [
       "### # tibble_row  "
      ],
      "text/plain": [
       "<IPython.core.display.Markdown object>"
      ]
     },
     "metadata": {},
     "output_type": "display_data"
    },
    {
     "data": {
      "text/markdown": [
       "##### Constructs a data frame that is guaranteed to occupy one row.\n",
       "Scalar values will be wrapped with `[]`  \n",
       "\n",
       "##### Args:\n",
       "&emsp;&emsp;`*args`: and  \n",
       "&emsp;&emsp;`**kwargs`: A set of name-value pairs.  \n",
       "&emsp;&emsp;`_name_repair`: treatment of problematic column names:  \n",
       "&emsp;&emsp;&emsp;&emsp;- \"minimal\": No name repair or checks, beyond basic existence,\n",
       "\n",
       "&emsp;&emsp;&emsp;&emsp;- \"unique\": Make sure names are unique and not empty,\n",
       "\n",
       "&emsp;&emsp;&emsp;&emsp;- \"check_unique\": (default value), no name repair,\n",
       "&emsp;&emsp;&emsp;&emsp;&emsp;&emsp;but check they are unique,  \n",
       "\n",
       "&emsp;&emsp;&emsp;&emsp;- \"universal\": Make the names unique and syntactic\n",
       "\n",
       "&emsp;&emsp;&emsp;&emsp;- a function: apply custom name repair\n",
       "\n",
       "##### Returns:\n",
       "&emsp;&emsp;A constructed dataframe  \n"
      ],
      "text/plain": [
       "<IPython.core.display.Markdown object>"
      ]
     },
     "metadata": {},
     "output_type": "display_data"
    },
    {
     "data": {
      "text/markdown": [
       "### # tribble  "
      ],
      "text/plain": [
       "<IPython.core.display.Markdown object>"
      ]
     },
     "metadata": {},
     "output_type": "display_data"
    },
    {
     "data": {
      "text/markdown": [
       "##### Create dataframe using an easier to read row-by-row layout\n",
       "Unlike original API that uses formula (`f.col`) to indicate the column  \n",
       "names, we use `f.col` to indicate them.  \n",
       "\n",
       "##### Args:\n",
       "&emsp;&emsp;`*dummies`: Arguments specifying the structure of a dataframe  \n",
       "&emsp;&emsp;&emsp;&emsp;Variable names should be specified with `f.name`  \n",
       "\n",
       "&emsp;&emsp;`_dtypes`: The dtypes for each columns to convert to.  \n",
       "\n",
       "##### Examples:\n",
       "&emsp;&emsp;>>> tribble(  \n",
       "&emsp;&emsp;>>>     f.colA, f.colB,  \n",
       "&emsp;&emsp;>>>     \"a\",    1,  \n",
       "&emsp;&emsp;>>>     \"b\",    2,  \n",
       "&emsp;&emsp;>>>     \"c\",    3,  \n",
       "&emsp;&emsp;>>> )  \n",
       "\n",
       "##### Returns:\n",
       "&emsp;&emsp;A dataframe  \n"
      ],
      "text/plain": [
       "<IPython.core.display.Markdown object>"
      ]
     },
     "metadata": {},
     "output_type": "display_data"
    }
   ],
   "source": [
    "# https://tibble.tidyverse.org/reference/tibble.html\n",
    "# https://tibble.tidyverse.org/reference/tribble.html\n",
    "\n",
    "from datar import f\n",
    "from datar.tibble import tibble, tibble_row, tribble\n",
    "from datar.base import diag, runif\n",
    "\n",
    "%run nb_helpers.py\n",
    "nb_header(tibble, tibble_row, tribble)"
   ]
  },
  {
   "cell_type": "code",
   "execution_count": 5,
   "id": "a786d6b2",
   "metadata": {
    "execution": {
     "iopub.execute_input": "2021-07-16T22:28:11.415801Z",
     "iopub.status.busy": "2021-07-16T22:28:11.415073Z",
     "iopub.status.idle": "2021-07-16T22:28:11.553606Z",
     "shell.execute_reply": "2021-07-16T22:28:11.552951Z"
    }
   },
   "outputs": [
    {
     "data": {
      "text/html": [
       "<div>\n",
       "<style scoped>\n",
       "    .dataframe tbody tr th:only-of-type {\n",
       "        vertical-align: middle;\n",
       "    }\n",
       "\n",
       "    .dataframe tbody tr th {\n",
       "        vertical-align: top;\n",
       "    }\n",
       "\n",
       "    .dataframe thead th {\n",
       "        text-align: right;\n",
       "    }\n",
       "</style>\n",
       "<table border=\"1\" class=\"dataframe\">\n",
       "  <thead>\n",
       "    <tr style=\"text-align: right;\">\n",
       "      <th></th>\n",
       "      <th>a</th>\n",
       "      <th>b</th>\n",
       "    </tr>\n",
       "  </thead>\n",
       "  <tbody>\n",
       "    <tr>\n",
       "      <th style=\"font-style: italic;\" ></th>\n",
       "      <td style=\"font-style: italic;\" >&lt;int64&gt;</td>\n",
       "      <td style=\"font-style: italic;\" >&lt;int64&gt;</td>\n",
       "    </tr>\n",
       "    <tr>\n",
       "      <th>0</th>\n",
       "      <td>0</td>\n",
       "      <td>0</td>\n",
       "    </tr>\n",
       "    <tr>\n",
       "      <th>1</th>\n",
       "      <td>1</td>\n",
       "      <td>2</td>\n",
       "    </tr>\n",
       "    <tr>\n",
       "      <th>2</th>\n",
       "      <td>2</td>\n",
       "      <td>4</td>\n",
       "    </tr>\n",
       "    <tr>\n",
       "      <th>3</th>\n",
       "      <td>3</td>\n",
       "      <td>6</td>\n",
       "    </tr>\n",
       "    <tr>\n",
       "      <th>4</th>\n",
       "      <td>4</td>\n",
       "      <td>8</td>\n",
       "    </tr>\n",
       "  </tbody>\n",
       "</table>\n",
       "</div>\n"
      ],
      "text/plain": [
       "        a       b\n",
       "  <int64> <int64>\n",
       "0       0       0\n",
       "1       1       2\n",
       "2       2       4\n",
       "3       3       6\n",
       "4       4       8"
      ]
     },
     "execution_count": 5,
     "metadata": {},
     "output_type": "execute_result"
    }
   ],
   "source": [
    "a = range(5)\n",
    "tibble(a=a, b=f.a*2)"
   ]
  },
  {
   "cell_type": "code",
   "execution_count": 6,
   "id": "875fe6f2",
   "metadata": {
    "execution": {
     "iopub.execute_input": "2021-07-16T22:28:11.560578Z",
     "iopub.status.busy": "2021-07-16T22:28:11.558571Z",
     "iopub.status.idle": "2021-07-16T22:28:11.583056Z",
     "shell.execute_reply": "2021-07-16T22:28:11.583527Z"
    }
   },
   "outputs": [
    {
     "data": {
      "text/html": [
       "<div>\n",
       "<style scoped>\n",
       "    .dataframe tbody tr th:only-of-type {\n",
       "        vertical-align: middle;\n",
       "    }\n",
       "\n",
       "    .dataframe tbody tr th {\n",
       "        vertical-align: top;\n",
       "    }\n",
       "\n",
       "    .dataframe thead th {\n",
       "        text-align: right;\n",
       "    }\n",
       "</style>\n",
       "<table border=\"1\" class=\"dataframe\">\n",
       "  <thead>\n",
       "    <tr style=\"text-align: right;\">\n",
       "      <th></th>\n",
       "      <th>a</th>\n",
       "      <th>b</th>\n",
       "      <th>c</th>\n",
       "    </tr>\n",
       "  </thead>\n",
       "  <tbody>\n",
       "    <tr>\n",
       "      <th style=\"font-style: italic;\" ></th>\n",
       "      <td style=\"font-style: italic;\" >&lt;int64&gt;</td>\n",
       "      <td style=\"font-style: italic;\" >&lt;int64&gt;</td>\n",
       "      <td style=\"font-style: italic;\" >&lt;int64&gt;</td>\n",
       "    </tr>\n",
       "    <tr>\n",
       "      <th>0</th>\n",
       "      <td>0</td>\n",
       "      <td>0</td>\n",
       "      <td>1</td>\n",
       "    </tr>\n",
       "    <tr>\n",
       "      <th>1</th>\n",
       "      <td>1</td>\n",
       "      <td>2</td>\n",
       "      <td>1</td>\n",
       "    </tr>\n",
       "    <tr>\n",
       "      <th>2</th>\n",
       "      <td>2</td>\n",
       "      <td>4</td>\n",
       "      <td>1</td>\n",
       "    </tr>\n",
       "    <tr>\n",
       "      <th>3</th>\n",
       "      <td>3</td>\n",
       "      <td>6</td>\n",
       "      <td>1</td>\n",
       "    </tr>\n",
       "    <tr>\n",
       "      <th>4</th>\n",
       "      <td>4</td>\n",
       "      <td>8</td>\n",
       "      <td>1</td>\n",
       "    </tr>\n",
       "  </tbody>\n",
       "</table>\n",
       "</div>\n"
      ],
      "text/plain": [
       "        a       b       c\n",
       "  <int64> <int64> <int64>\n",
       "0       0       0       1\n",
       "1       1       2       1\n",
       "2       2       4       1\n",
       "3       3       6       1\n",
       "4       4       8       1"
      ]
     },
     "execution_count": 6,
     "metadata": {},
     "output_type": "execute_result"
    }
   ],
   "source": [
    "tibble(a=a, b=f.a * 2, c=1)"
   ]
  },
  {
   "cell_type": "code",
   "execution_count": 7,
   "id": "fc39e6d2",
   "metadata": {
    "execution": {
     "iopub.execute_input": "2021-07-16T22:28:11.589246Z",
     "iopub.status.busy": "2021-07-16T22:28:11.588647Z",
     "iopub.status.idle": "2021-07-16T22:28:11.607914Z",
     "shell.execute_reply": "2021-07-16T22:28:11.608285Z"
    }
   },
   "outputs": [
    {
     "data": {
      "text/html": [
       "<div>\n",
       "<style scoped>\n",
       "    .dataframe tbody tr th:only-of-type {\n",
       "        vertical-align: middle;\n",
       "    }\n",
       "\n",
       "    .dataframe tbody tr th {\n",
       "        vertical-align: top;\n",
       "    }\n",
       "\n",
       "    .dataframe thead th {\n",
       "        text-align: right;\n",
       "    }\n",
       "</style>\n",
       "<table border=\"1\" class=\"dataframe\">\n",
       "  <thead>\n",
       "    <tr style=\"text-align: right;\">\n",
       "      <th></th>\n",
       "      <th>x</th>\n",
       "      <th>y</th>\n",
       "    </tr>\n",
       "  </thead>\n",
       "  <tbody>\n",
       "    <tr>\n",
       "      <th style=\"font-style: italic;\" ></th>\n",
       "      <td style=\"font-style: italic;\" >&lt;float64&gt;</td>\n",
       "      <td style=\"font-style: italic;\" >&lt;float64&gt;</td>\n",
       "    </tr>\n",
       "    <tr>\n",
       "      <th>0</th>\n",
       "      <td>0.829673</td>\n",
       "      <td>1.659347</td>\n",
       "    </tr>\n",
       "    <tr>\n",
       "      <th>1</th>\n",
       "      <td>0.682616</td>\n",
       "      <td>1.365232</td>\n",
       "    </tr>\n",
       "    <tr>\n",
       "      <th>2</th>\n",
       "      <td>0.594559</td>\n",
       "      <td>1.189117</td>\n",
       "    </tr>\n",
       "    <tr>\n",
       "      <th>3</th>\n",
       "      <td>0.245247</td>\n",
       "      <td>0.490494</td>\n",
       "    </tr>\n",
       "    <tr>\n",
       "      <th>4</th>\n",
       "      <td>0.393295</td>\n",
       "      <td>0.786590</td>\n",
       "    </tr>\n",
       "    <tr>\n",
       "      <th>5</th>\n",
       "      <td>0.736311</td>\n",
       "      <td>1.472622</td>\n",
       "    </tr>\n",
       "    <tr>\n",
       "      <th>6</th>\n",
       "      <td>0.159279</td>\n",
       "      <td>0.318559</td>\n",
       "    </tr>\n",
       "    <tr>\n",
       "      <th>7</th>\n",
       "      <td>0.459043</td>\n",
       "      <td>0.918085</td>\n",
       "    </tr>\n",
       "    <tr>\n",
       "      <th>8</th>\n",
       "      <td>0.237187</td>\n",
       "      <td>0.474374</td>\n",
       "    </tr>\n",
       "    <tr>\n",
       "      <th>9</th>\n",
       "      <td>0.768807</td>\n",
       "      <td>1.537615</td>\n",
       "    </tr>\n",
       "  </tbody>\n",
       "</table>\n",
       "</div>\n"
      ],
      "text/plain": [
       "          x         y\n",
       "  <float64> <float64>\n",
       "0  0.829673  1.659347\n",
       "1  0.682616  1.365232\n",
       "2  0.594559  1.189117\n",
       "3  0.245247  0.490494\n",
       "4  0.393295  0.786590\n",
       "5  0.736311  1.472622\n",
       "6  0.159279  0.318559\n",
       "7  0.459043  0.918085\n",
       "8  0.237187  0.474374\n",
       "9  0.768807  1.537615"
      ]
     },
     "execution_count": 7,
     "metadata": {},
     "output_type": "execute_result"
    }
   ],
   "source": [
    "tibble(x=runif(10), y=f.x*2)"
   ]
  },
  {
   "cell_type": "code",
   "execution_count": 8,
   "id": "dada58f8",
   "metadata": {
    "execution": {
     "iopub.execute_input": "2021-07-16T22:28:11.620997Z",
     "iopub.status.busy": "2021-07-16T22:28:11.615155Z",
     "iopub.status.idle": "2021-07-16T22:28:11.625329Z",
     "shell.execute_reply": "2021-07-16T22:28:11.625705Z"
    }
   },
   "outputs": [
    {
     "name": "stdout",
     "output_type": "stream",
     "text": [
      "[NameNonUniqueError] Names must be unique: 1\n"
     ]
    }
   ],
   "source": [
    "x = 1\n",
    "with try_catch():\n",
    "    tibble(x, x)"
   ]
  },
  {
   "cell_type": "code",
   "execution_count": 9,
   "id": "8a22cb4b",
   "metadata": {
    "execution": {
     "iopub.execute_input": "2021-07-16T22:28:11.632085Z",
     "iopub.status.busy": "2021-07-16T22:28:11.631328Z",
     "iopub.status.idle": "2021-07-16T22:28:11.653232Z",
     "shell.execute_reply": "2021-07-16T22:28:11.653724Z"
    }
   },
   "outputs": [
    {
     "name": "stderr",
     "output_type": "stream",
     "text": [
      "[2022-03-06 02:37:22][datar][WARNING] New names:\n",
      "[2022-03-06 02:37:22][datar][WARNING] * '1' -> '1__0'\n",
      "[2022-03-06 02:37:22][datar][WARNING] * '1' -> '1__1'\n"
     ]
    },
    {
     "data": {
      "text/html": [
       "<div>\n",
       "<style scoped>\n",
       "    .dataframe tbody tr th:only-of-type {\n",
       "        vertical-align: middle;\n",
       "    }\n",
       "\n",
       "    .dataframe tbody tr th {\n",
       "        vertical-align: top;\n",
       "    }\n",
       "\n",
       "    .dataframe thead th {\n",
       "        text-align: right;\n",
       "    }\n",
       "</style>\n",
       "<table border=\"1\" class=\"dataframe\">\n",
       "  <thead>\n",
       "    <tr style=\"text-align: right;\">\n",
       "      <th></th>\n",
       "      <th>1__0</th>\n",
       "      <th>1__1</th>\n",
       "    </tr>\n",
       "  </thead>\n",
       "  <tbody>\n",
       "    <tr>\n",
       "      <th style=\"font-style: italic;\" ></th>\n",
       "      <td style=\"font-style: italic;\" >&lt;int64&gt;</td>\n",
       "      <td style=\"font-style: italic;\" >&lt;int64&gt;</td>\n",
       "    </tr>\n",
       "    <tr>\n",
       "      <th>0</th>\n",
       "      <td>1</td>\n",
       "      <td>1</td>\n",
       "    </tr>\n",
       "  </tbody>\n",
       "</table>\n",
       "</div>\n"
      ],
      "text/plain": [
       "     1__0    1__1\n",
       "  <int64> <int64>\n",
       "0       1       1"
      ]
     },
     "execution_count": 9,
     "metadata": {},
     "output_type": "execute_result"
    }
   ],
   "source": [
    "tibble(x, x, _name_repair=\"unique\")"
   ]
  },
  {
   "cell_type": "code",
   "execution_count": 10,
   "id": "4e811ce7",
   "metadata": {
    "execution": {
     "iopub.execute_input": "2021-07-16T22:28:11.658876Z",
     "iopub.status.busy": "2021-07-16T22:28:11.658266Z",
     "iopub.status.idle": "2021-07-16T22:28:11.685560Z",
     "shell.execute_reply": "2021-07-16T22:28:11.685988Z"
    }
   },
   "outputs": [
    {
     "name": "stderr",
     "output_type": "stream",
     "text": [
      "[2022-03-06 02:37:23][datar][WARNING] New names:\n",
      "[2022-03-06 02:37:23][datar][WARNING] * '1' -> '1__0'\n",
      "[2022-03-06 02:37:23][datar][WARNING] * '1' -> '1__1'\n"
     ]
    },
    {
     "data": {
      "text/html": [
       "<div>\n",
       "<style scoped>\n",
       "    .dataframe tbody tr th:only-of-type {\n",
       "        vertical-align: middle;\n",
       "    }\n",
       "\n",
       "    .dataframe tbody tr th {\n",
       "        vertical-align: top;\n",
       "    }\n",
       "\n",
       "    .dataframe thead th {\n",
       "        text-align: right;\n",
       "    }\n",
       "</style>\n",
       "<table border=\"1\" class=\"dataframe\">\n",
       "  <thead>\n",
       "    <tr style=\"text-align: right;\">\n",
       "      <th></th>\n",
       "      <th>1__0</th>\n",
       "      <th>1__1</th>\n",
       "      <th>base0_</th>\n",
       "    </tr>\n",
       "  </thead>\n",
       "  <tbody>\n",
       "    <tr>\n",
       "      <th style=\"font-style: italic;\" ></th>\n",
       "      <td style=\"font-style: italic;\" >&lt;int64&gt;</td>\n",
       "      <td style=\"font-style: italic;\" >&lt;int64&gt;</td>\n",
       "      <td style=\"font-style: italic;\" >&lt;bool&gt;</td>\n",
       "    </tr>\n",
       "    <tr>\n",
       "      <th>0</th>\n",
       "      <td>1</td>\n",
       "      <td>1</td>\n",
       "      <td>True</td>\n",
       "    </tr>\n",
       "  </tbody>\n",
       "</table>\n",
       "</div>\n"
      ],
      "text/plain": [
       "     1__0    1__1  base0_\n",
       "  <int64> <int64>  <bool>\n",
       "0       1       1    True"
      ]
     },
     "execution_count": 10,
     "metadata": {},
     "output_type": "execute_result"
    }
   ],
   "source": [
    "# 0-based suffixing for name repair\n",
    "tibble(x, x, _name_repair=\"unique\", base0_=True)"
   ]
  },
  {
   "cell_type": "code",
   "execution_count": 11,
   "id": "6007cacc",
   "metadata": {
    "execution": {
     "iopub.execute_input": "2021-07-16T22:28:11.705803Z",
     "iopub.status.busy": "2021-07-16T22:28:11.705211Z",
     "iopub.status.idle": "2021-07-16T22:28:11.709633Z",
     "shell.execute_reply": "2021-07-16T22:28:11.710113Z"
    }
   },
   "outputs": [
    {
     "data": {
      "text/html": [
       "<div>\n",
       "<style scoped>\n",
       "    .dataframe tbody tr th:only-of-type {\n",
       "        vertical-align: middle;\n",
       "    }\n",
       "\n",
       "    .dataframe tbody tr th {\n",
       "        vertical-align: top;\n",
       "    }\n",
       "\n",
       "    .dataframe thead th {\n",
       "        text-align: right;\n",
       "    }\n",
       "</style>\n",
       "<table border=\"1\" class=\"dataframe\">\n",
       "  <thead>\n",
       "    <tr style=\"text-align: right;\">\n",
       "      <th></th>\n",
       "      <th>1</th>\n",
       "      <th>1</th>\n",
       "    </tr>\n",
       "  </thead>\n",
       "  <tbody>\n",
       "    <tr>\n",
       "      <th style=\"font-style: italic;\" ></th>\n",
       "      <td style=\"font-style: italic;\" >&lt;int64&gt;</td>\n",
       "      <td style=\"font-style: italic;\" >&lt;int64&gt;</td>\n",
       "    </tr>\n",
       "    <tr>\n",
       "      <th>0</th>\n",
       "      <td>1</td>\n",
       "      <td>1</td>\n",
       "    </tr>\n",
       "  </tbody>\n",
       "</table>\n",
       "</div>\n"
      ],
      "text/plain": [
       "        1       1\n",
       "  <int64> <int64>\n",
       "0       1       1"
      ]
     },
     "execution_count": 11,
     "metadata": {},
     "output_type": "execute_result"
    }
   ],
   "source": [
    "tibble(x, x, _name_repair=\"minimal\") # duplicated columns allowed"
   ]
  },
  {
   "cell_type": "code",
   "execution_count": 12,
   "id": "aadc8985",
   "metadata": {
    "execution": {
     "iopub.execute_input": "2021-07-16T22:28:11.725364Z",
     "iopub.status.busy": "2021-07-16T22:28:11.724805Z",
     "iopub.status.idle": "2021-07-16T22:28:11.746001Z",
     "shell.execute_reply": "2021-07-16T22:28:11.746392Z"
    }
   },
   "outputs": [
    {
     "name": "stderr",
     "output_type": "stream",
     "text": [
      "[2022-03-06 02:37:25][datar][WARNING] New names:\n",
      "[2022-03-06 02:37:25][datar][WARNING] * '1' -> '_1'\n",
      "[2022-03-06 02:37:25][datar][WARNING] * '2' -> '_2'\n"
     ]
    },
    {
     "data": {
      "text/html": [
       "<div>\n",
       "<style scoped>\n",
       "    .dataframe tbody tr th:only-of-type {\n",
       "        vertical-align: middle;\n",
       "    }\n",
       "\n",
       "    .dataframe tbody tr th {\n",
       "        vertical-align: top;\n",
       "    }\n",
       "\n",
       "    .dataframe thead th {\n",
       "        text-align: right;\n",
       "    }\n",
       "</style>\n",
       "<table border=\"1\" class=\"dataframe\">\n",
       "  <thead>\n",
       "    <tr style=\"text-align: right;\">\n",
       "      <th></th>\n",
       "      <th>_1</th>\n",
       "      <th>_2</th>\n",
       "    </tr>\n",
       "  </thead>\n",
       "  <tbody>\n",
       "    <tr>\n",
       "      <th style=\"font-style: italic;\" ></th>\n",
       "      <td style=\"font-style: italic;\" >&lt;int64&gt;</td>\n",
       "      <td style=\"font-style: italic;\" >&lt;int64&gt;</td>\n",
       "    </tr>\n",
       "    <tr>\n",
       "      <th>0</th>\n",
       "      <td>1</td>\n",
       "      <td>2</td>\n",
       "    </tr>\n",
       "  </tbody>\n",
       "</table>\n",
       "</div>\n"
      ],
      "text/plain": [
       "       _1      _2\n",
       "  <int64> <int64>\n",
       "0       1       2"
      ]
     },
     "execution_count": 12,
     "metadata": {},
     "output_type": "execute_result"
    }
   ],
   "source": [
    "a = 1\n",
    "tibble(a * 1, a * 2, _name_repair=\"universal\")"
   ]
  },
  {
   "cell_type": "code",
   "execution_count": 13,
   "id": "7a863e15",
   "metadata": {
    "execution": {
     "iopub.execute_input": "2021-07-16T22:28:11.772009Z",
     "iopub.status.busy": "2021-07-16T22:28:11.771418Z",
     "iopub.status.idle": "2021-07-16T22:28:11.782345Z",
     "shell.execute_reply": "2021-07-16T22:28:11.782803Z"
    }
   },
   "outputs": [
    {
     "data": {
      "text/html": [
       "<div>\n",
       "<style scoped>\n",
       "    .dataframe tbody tr th:only-of-type {\n",
       "        vertical-align: middle;\n",
       "    }\n",
       "\n",
       "    .dataframe tbody tr th {\n",
       "        vertical-align: top;\n",
       "    }\n",
       "\n",
       "    .dataframe thead th {\n",
       "        text-align: right;\n",
       "    }\n",
       "</style>\n",
       "<table border=\"1\" class=\"dataframe\">\n",
       "  <thead>\n",
       "    <tr style=\"text-align: right;\">\n",
       "      <th></th>\n",
       "      <th>1</th>\n",
       "      <th>1_1</th>\n",
       "    </tr>\n",
       "  </thead>\n",
       "  <tbody>\n",
       "    <tr>\n",
       "      <th style=\"font-style: italic;\" ></th>\n",
       "      <td style=\"font-style: italic;\" >&lt;int64&gt;</td>\n",
       "      <td style=\"font-style: italic;\" >&lt;int64&gt;</td>\n",
       "    </tr>\n",
       "    <tr>\n",
       "      <th>0</th>\n",
       "      <td>1</td>\n",
       "      <td>1</td>\n",
       "    </tr>\n",
       "  </tbody>\n",
       "</table>\n",
       "</div>\n"
      ],
      "text/plain": [
       "        1     1_1\n",
       "  <int64> <int64>\n",
       "0       1       1"
      ]
     },
     "execution_count": 13,
     "metadata": {},
     "output_type": "execute_result"
    }
   ],
   "source": [
    "from typing import Iterable\n",
    "# use annotation to tell it's all names\n",
    "# not only a single name\n",
    "def make_unique(names: Iterable[str]): \n",
    "    new_names = []\n",
    "    for name in names:\n",
    "        name_count = new_names.count(name)\n",
    "        if name_count == 0:\n",
    "            new_names.append(name)\n",
    "        else:\n",
    "            new_names.append(f'{name}_{name_count}')\n",
    "    return new_names\n",
    "\n",
    "tibble(a, a, _name_repair=make_unique)"
   ]
  },
  {
   "cell_type": "code",
   "execution_count": 14,
   "id": "c76a319b",
   "metadata": {
    "execution": {
     "iopub.execute_input": "2021-07-16T22:28:11.806211Z",
     "iopub.status.busy": "2021-07-16T22:28:11.805521Z",
     "iopub.status.idle": "2021-07-16T22:28:11.821359Z",
     "shell.execute_reply": "2021-07-16T22:28:11.821905Z"
    }
   },
   "outputs": [
    {
     "data": {
      "text/html": [
       "<div>\n",
       "<style scoped>\n",
       "    .dataframe tbody tr th:only-of-type {\n",
       "        vertical-align: middle;\n",
       "    }\n",
       "\n",
       "    .dataframe tbody tr th {\n",
       "        vertical-align: top;\n",
       "    }\n",
       "\n",
       "    .dataframe thead th {\n",
       "        text-align: right;\n",
       "    }\n",
       "</style>\n",
       "<table border=\"1\" class=\"dataframe\">\n",
       "  <thead>\n",
       "    <tr style=\"text-align: right;\">\n",
       "      <th></th>\n",
       "      <th>2</th>\n",
       "      <th>3</th>\n",
       "    </tr>\n",
       "  </thead>\n",
       "  <tbody>\n",
       "    <tr>\n",
       "      <th style=\"font-style: italic;\" ></th>\n",
       "      <td style=\"font-style: italic;\" >&lt;int64&gt;</td>\n",
       "      <td style=\"font-style: italic;\" >&lt;int64&gt;</td>\n",
       "    </tr>\n",
       "    <tr>\n",
       "      <th>0</th>\n",
       "      <td>2</td>\n",
       "      <td>3</td>\n",
       "    </tr>\n",
       "  </tbody>\n",
       "</table>\n",
       "</div>\n"
      ],
      "text/plain": [
       "        2       3\n",
       "  <int64> <int64>\n",
       "0       2       3"
      ]
     },
     "execution_count": 14,
     "metadata": {},
     "output_type": "execute_result"
    }
   ],
   "source": [
    "# if not annotation specified\n",
    "# assuming a single name\n",
    "def fix_names(name):\n",
    "    import re\n",
    "    return re.sub(r'\\s+', '_', name)\n",
    "\n",
    "\n",
    "tibble(a + 1, a + 2, _name_repair = fix_names)"
   ]
  },
  {
   "cell_type": "code",
   "execution_count": 15,
   "id": "20cff9a2",
   "metadata": {
    "execution": {
     "iopub.execute_input": "2021-07-16T22:28:11.880394Z",
     "iopub.status.busy": "2021-07-16T22:28:11.879447Z",
     "iopub.status.idle": "2021-07-16T22:28:11.899118Z",
     "shell.execute_reply": "2021-07-16T22:28:11.898664Z"
    }
   },
   "outputs": [
    {
     "data": {
      "text/html": [
       "<div>\n",
       "<style scoped>\n",
       "    .dataframe tbody tr th:only-of-type {\n",
       "        vertical-align: middle;\n",
       "    }\n",
       "\n",
       "    .dataframe tbody tr th {\n",
       "        vertical-align: top;\n",
       "    }\n",
       "\n",
       "    .dataframe thead th {\n",
       "        text-align: right;\n",
       "    }\n",
       "</style>\n",
       "<table border=\"1\" class=\"dataframe\">\n",
       "  <thead>\n",
       "    <tr style=\"text-align: right;\">\n",
       "      <th></th>\n",
       "      <th>a</th>\n",
       "      <th>b</th>\n",
       "    </tr>\n",
       "  </thead>\n",
       "  <tbody>\n",
       "    <tr>\n",
       "      <th style=\"font-style: italic;\" ></th>\n",
       "      <td style=\"font-style: italic;\" >&lt;int64&gt;</td>\n",
       "      <td style=\"font-style: italic;\" >&lt;int64&gt;</td>\n",
       "    </tr>\n",
       "    <tr>\n",
       "      <th>0</th>\n",
       "      <td>1</td>\n",
       "      <td>1</td>\n",
       "    </tr>\n",
       "  </tbody>\n",
       "</table>\n",
       "</div>\n"
      ],
      "text/plain": [
       "        a       b\n",
       "  <int64> <int64>\n",
       "0       1       1"
      ]
     },
     "execution_count": 15,
     "metadata": {},
     "output_type": "execute_result"
    }
   ],
   "source": [
    "tibble(x, x, _name_repair=[\"a\", \"b\"])"
   ]
  },
  {
   "cell_type": "code",
   "execution_count": 16,
   "id": "7e006c14",
   "metadata": {
    "execution": {
     "iopub.execute_input": "2021-07-16T22:28:11.922711Z",
     "iopub.status.busy": "2021-07-16T22:28:11.922043Z",
     "iopub.status.idle": "2021-07-16T22:28:11.950480Z",
     "shell.execute_reply": "2021-07-16T22:28:11.950869Z"
    }
   },
   "outputs": [
    {
     "data": {
      "text/html": [
       "<div>\n",
       "<style scoped>\n",
       "    .dataframe tbody tr th:only-of-type {\n",
       "        vertical-align: middle;\n",
       "    }\n",
       "\n",
       "    .dataframe tbody tr th {\n",
       "        vertical-align: top;\n",
       "    }\n",
       "\n",
       "    .dataframe thead th {\n",
       "        text-align: right;\n",
       "    }\n",
       "</style>\n",
       "<table border=\"1\" class=\"dataframe\">\n",
       "  <thead>\n",
       "    <tr style=\"text-align: right;\">\n",
       "      <th></th>\n",
       "      <th>b</th>\n",
       "      <th>c</th>\n",
       "      <th>a</th>\n",
       "      <th>d</th>\n",
       "    </tr>\n",
       "  </thead>\n",
       "  <tbody>\n",
       "    <tr>\n",
       "      <th style=\"font-style: italic;\" ></th>\n",
       "      <td style=\"font-style: italic;\" >&lt;int64&gt;</td>\n",
       "      <td style=\"font-style: italic;\" >&lt;int64&gt;</td>\n",
       "      <td style=\"font-style: italic;\" >&lt;int64&gt;</td>\n",
       "      <td style=\"font-style: italic;\" >&lt;int64&gt;</td>\n",
       "    </tr>\n",
       "    <tr>\n",
       "      <th>0</th>\n",
       "      <td>4</td>\n",
       "      <td>7</td>\n",
       "      <td>0</td>\n",
       "      <td>4</td>\n",
       "    </tr>\n",
       "    <tr>\n",
       "      <th>1</th>\n",
       "      <td>5</td>\n",
       "      <td>8</td>\n",
       "      <td>1</td>\n",
       "      <td>5</td>\n",
       "    </tr>\n",
       "    <tr>\n",
       "      <th>2</th>\n",
       "      <td>6</td>\n",
       "      <td>9</td>\n",
       "      <td>2</td>\n",
       "      <td>6</td>\n",
       "    </tr>\n",
       "  </tbody>\n",
       "</table>\n",
       "</div>\n"
      ],
      "text/plain": [
       "        b       c       a       d\n",
       "  <int64> <int64> <int64> <int64>\n",
       "0       4       7       0       4\n",
       "1       5       8       1       5\n",
       "2       6       9       2       6"
      ]
     },
     "execution_count": 16,
     "metadata": {},
     "output_type": "execute_result"
    }
   ],
   "source": [
    "tibble(\n",
    "  tibble(\n",
    "    b = [4,5,6],\n",
    "    c = [7,8,9]\n",
    "  ),\n",
    "  a = range(3),\n",
    "  d = f.b\n",
    ")"
   ]
  },
  {
   "cell_type": "code",
   "execution_count": 17,
   "id": "2d9a00e0",
   "metadata": {
    "execution": {
     "iopub.execute_input": "2021-07-16T22:28:11.969013Z",
     "iopub.status.busy": "2021-07-16T22:28:11.968444Z",
     "iopub.status.idle": "2021-07-16T22:28:12.016367Z",
     "shell.execute_reply": "2021-07-16T22:28:12.016822Z"
    }
   },
   "outputs": [
    {
     "data": {
      "text/html": [
       "<div>\n",
       "<style scoped>\n",
       "    .dataframe tbody tr th:only-of-type {\n",
       "        vertical-align: middle;\n",
       "    }\n",
       "\n",
       "    .dataframe tbody tr th {\n",
       "        vertical-align: top;\n",
       "    }\n",
       "\n",
       "    .dataframe thead th {\n",
       "        text-align: right;\n",
       "    }\n",
       "</style>\n",
       "<table border=\"1\" class=\"dataframe\">\n",
       "  <thead>\n",
       "    <tr style=\"text-align: right;\">\n",
       "      <th></th>\n",
       "      <th>a</th>\n",
       "      <th>b$0</th>\n",
       "      <th>b$1</th>\n",
       "      <th>b$2</th>\n",
       "      <th>b$3</th>\n",
       "      <th>c$x$0</th>\n",
       "      <th>c$x$1</th>\n",
       "    </tr>\n",
       "  </thead>\n",
       "  <tbody>\n",
       "    <tr>\n",
       "      <th style=\"font-style: italic;\" ></th>\n",
       "      <td style=\"font-style: italic;\" >&lt;int64&gt;</td>\n",
       "      <td style=\"font-style: italic;\" >&lt;int64&gt;</td>\n",
       "      <td style=\"font-style: italic;\" >&lt;int64&gt;</td>\n",
       "      <td style=\"font-style: italic;\" >&lt;int64&gt;</td>\n",
       "      <td style=\"font-style: italic;\" >&lt;int64&gt;</td>\n",
       "      <td style=\"font-style: italic;\" >&lt;int64&gt;</td>\n",
       "      <td style=\"font-style: italic;\" >&lt;int64&gt;</td>\n",
       "    </tr>\n",
       "    <tr>\n",
       "      <th>0</th>\n",
       "      <td>0</td>\n",
       "      <td>1</td>\n",
       "      <td>0</td>\n",
       "      <td>0</td>\n",
       "      <td>0</td>\n",
       "      <td>1</td>\n",
       "      <td>0</td>\n",
       "    </tr>\n",
       "    <tr>\n",
       "      <th>1</th>\n",
       "      <td>1</td>\n",
       "      <td>0</td>\n",
       "      <td>1</td>\n",
       "      <td>0</td>\n",
       "      <td>0</td>\n",
       "      <td>0</td>\n",
       "      <td>1</td>\n",
       "    </tr>\n",
       "    <tr>\n",
       "      <th>2</th>\n",
       "      <td>2</td>\n",
       "      <td>0</td>\n",
       "      <td>0</td>\n",
       "      <td>1</td>\n",
       "      <td>0</td>\n",
       "      <td>0</td>\n",
       "      <td>0</td>\n",
       "    </tr>\n",
       "    <tr>\n",
       "      <th>3</th>\n",
       "      <td>3</td>\n",
       "      <td>0</td>\n",
       "      <td>0</td>\n",
       "      <td>0</td>\n",
       "      <td>1</td>\n",
       "      <td>0</td>\n",
       "      <td>0</td>\n",
       "    </tr>\n",
       "  </tbody>\n",
       "</table>\n",
       "</div>\n"
      ],
      "text/plain": [
       "        a     b$0     b$1     b$2     b$3   c$x$0   c$x$1\n",
       "  <int64> <int64> <int64> <int64> <int64> <int64> <int64>\n",
       "0       0       1       0       0       0       1       0\n",
       "1       1       0       1       0       0       0       1\n",
       "2       2       0       0       1       0       0       0\n",
       "3       3       0       0       0       1       0       0"
      ]
     },
     "execution_count": 17,
     "metadata": {},
     "output_type": "execute_result"
    }
   ],
   "source": [
    "s = tibble(diag(1, 4))\n",
    "t = tibble(s.iloc[:, :2], _name_repair=['x', 'y'])\n",
    "tibble(\n",
    "  a=range(4),\n",
    "  b=s,\n",
    "  c=t\n",
    ")"
   ]
  },
  {
   "cell_type": "code",
   "execution_count": 18,
   "id": "bdef0cd4",
   "metadata": {
    "execution": {
     "iopub.execute_input": "2021-07-16T22:28:12.023191Z",
     "iopub.status.busy": "2021-07-16T22:28:12.022331Z",
     "iopub.status.idle": "2021-07-16T22:28:12.033135Z",
     "shell.execute_reply": "2021-07-16T22:28:12.033516Z"
    }
   },
   "outputs": [
    {
     "name": "stdout",
     "output_type": "stream",
     "text": [
      "[ValueError] `b` must be size [1 3], not 4.\n"
     ]
    }
   ],
   "source": [
    "with try_catch():\n",
    "    tibble(a=range(3), b=range(4))"
   ]
  },
  {
   "cell_type": "code",
   "execution_count": 19,
   "id": "0b39dd2f",
   "metadata": {
    "execution": {
     "iopub.execute_input": "2021-07-16T22:28:12.039777Z",
     "iopub.status.busy": "2021-07-16T22:28:12.038743Z",
     "iopub.status.idle": "2021-07-16T22:28:12.285097Z",
     "shell.execute_reply": "2021-07-16T22:28:12.285549Z"
    }
   },
   "outputs": [
    {
     "data": {
      "text/html": [
       "<div>\n",
       "<style scoped>\n",
       "    .dataframe tbody tr th:only-of-type {\n",
       "        vertical-align: middle;\n",
       "    }\n",
       "\n",
       "    .dataframe tbody tr th {\n",
       "        vertical-align: top;\n",
       "    }\n",
       "\n",
       "    .dataframe thead th {\n",
       "        text-align: right;\n",
       "    }\n",
       "</style>\n",
       "<table border=\"1\" class=\"dataframe\">\n",
       "  <thead>\n",
       "    <tr style=\"text-align: right;\">\n",
       "      <th></th>\n",
       "      <th>.dotted</th>\n",
       "    </tr>\n",
       "  </thead>\n",
       "  <tbody>\n",
       "    <tr>\n",
       "      <th style=\"font-style: italic;\" ></th>\n",
       "      <td style=\"font-style: italic;\" >&lt;int64&gt;</td>\n",
       "    </tr>\n",
       "    <tr>\n",
       "      <th>0</th>\n",
       "      <td>3</td>\n",
       "    </tr>\n",
       "  </tbody>\n",
       "</table>\n",
       "</div>\n"
      ],
      "text/plain": [
       "   .dotted\n",
       "   <int64>\n",
       "0        3"
      ]
     },
     "execution_count": 19,
     "metadata": {},
     "output_type": "execute_result"
    }
   ],
   "source": [
    "tibble(_dotted = 3, _name_repair=lambda x: x.replace('_', '.'))"
   ]
  },
  {
   "cell_type": "code",
   "execution_count": 20,
   "id": "e066dd0e",
   "metadata": {
    "execution": {
     "iopub.execute_input": "2021-07-16T22:28:12.346792Z",
     "iopub.status.busy": "2021-07-16T22:28:12.345984Z",
     "iopub.status.idle": "2021-07-16T22:28:12.458197Z",
     "shell.execute_reply": "2021-07-16T22:28:12.458863Z"
    }
   },
   "outputs": [
    {
     "data": {
      "text/html": [
       "<div>\n",
       "<style scoped>\n",
       "    .dataframe tbody tr th:only-of-type {\n",
       "        vertical-align: middle;\n",
       "    }\n",
       "\n",
       "    .dataframe tbody tr th {\n",
       "        vertical-align: top;\n",
       "    }\n",
       "\n",
       "    .dataframe thead th {\n",
       "        text-align: right;\n",
       "    }\n",
       "</style>\n",
       "<table border=\"1\" class=\"dataframe\">\n",
       "  <thead>\n",
       "    <tr style=\"text-align: right;\">\n",
       "      <th></th>\n",
       "      <th>x</th>\n",
       "      <th>y</th>\n",
       "    </tr>\n",
       "  </thead>\n",
       "  <tbody>\n",
       "    <tr>\n",
       "      <th style=\"font-style: italic;\" ></th>\n",
       "      <td style=\"font-style: italic;\" >&lt;int64&gt;</td>\n",
       "      <td style=\"font-style: italic;\" >&lt;int64&gt;</td>\n",
       "    </tr>\n",
       "    <tr>\n",
       "      <th>0</th>\n",
       "      <td>1</td>\n",
       "      <td>1</td>\n",
       "    </tr>\n",
       "  </tbody>\n",
       "</table>\n",
       "</div>\n"
      ],
      "text/plain": [
       "        x       y\n",
       "  <int64> <int64>\n",
       "0       1       1"
      ]
     },
     "execution_count": 20,
     "metadata": {},
     "output_type": "execute_result"
    }
   ],
   "source": [
    "x = 3\n",
    "tibble(x=1, y=f.x)"
   ]
  },
  {
   "cell_type": "code",
   "execution_count": 21,
   "id": "065802b4",
   "metadata": {
    "execution": {
     "iopub.execute_input": "2021-07-16T22:28:12.491292Z",
     "iopub.status.busy": "2021-07-16T22:28:12.490533Z",
     "iopub.status.idle": "2021-07-16T22:28:12.501385Z",
     "shell.execute_reply": "2021-07-16T22:28:12.501890Z"
    }
   },
   "outputs": [
    {
     "data": {
      "text/html": [
       "<div>\n",
       "<style scoped>\n",
       "    .dataframe tbody tr th:only-of-type {\n",
       "        vertical-align: middle;\n",
       "    }\n",
       "\n",
       "    .dataframe tbody tr th {\n",
       "        vertical-align: top;\n",
       "    }\n",
       "\n",
       "    .dataframe thead th {\n",
       "        text-align: right;\n",
       "    }\n",
       "</style>\n",
       "<table border=\"1\" class=\"dataframe\">\n",
       "  <thead>\n",
       "    <tr style=\"text-align: right;\">\n",
       "      <th></th>\n",
       "      <th>x</th>\n",
       "      <th>y</th>\n",
       "    </tr>\n",
       "  </thead>\n",
       "  <tbody>\n",
       "    <tr>\n",
       "      <th style=\"font-style: italic;\" ></th>\n",
       "      <td style=\"font-style: italic;\" >&lt;int64&gt;</td>\n",
       "      <td style=\"font-style: italic;\" >&lt;int64&gt;</td>\n",
       "    </tr>\n",
       "    <tr>\n",
       "      <th>0</th>\n",
       "      <td>1</td>\n",
       "      <td>3</td>\n",
       "    </tr>\n",
       "  </tbody>\n",
       "</table>\n",
       "</div>\n"
      ],
      "text/plain": [
       "        x       y\n",
       "  <int64> <int64>\n",
       "0       1       3"
      ]
     },
     "execution_count": 21,
     "metadata": {},
     "output_type": "execute_result"
    }
   ],
   "source": [
    "tibble(x=1, y=x)"
   ]
  },
  {
   "cell_type": "code",
   "execution_count": 22,
   "id": "948a38e3",
   "metadata": {
    "execution": {
     "iopub.execute_input": "2021-07-16T22:28:12.514668Z",
     "iopub.status.busy": "2021-07-16T22:28:12.513896Z",
     "iopub.status.idle": "2021-07-16T22:28:12.521217Z",
     "shell.execute_reply": "2021-07-16T22:28:12.521659Z"
    }
   },
   "outputs": [
    {
     "data": {
      "text/html": [
       "<div>\n",
       "<style scoped>\n",
       "    .dataframe tbody tr th:only-of-type {\n",
       "        vertical-align: middle;\n",
       "    }\n",
       "\n",
       "    .dataframe tbody tr th {\n",
       "        vertical-align: top;\n",
       "    }\n",
       "\n",
       "    .dataframe thead th {\n",
       "        text-align: right;\n",
       "    }\n",
       "</style>\n",
       "<table border=\"1\" class=\"dataframe\">\n",
       "  <thead>\n",
       "    <tr style=\"text-align: right;\">\n",
       "      <th></th>\n",
       "      <th>colA</th>\n",
       "      <th>colB</th>\n",
       "    </tr>\n",
       "  </thead>\n",
       "  <tbody>\n",
       "    <tr>\n",
       "      <th style=\"font-style: italic;\" ></th>\n",
       "      <td style=\"font-style: italic;\" >&lt;object&gt;</td>\n",
       "      <td style=\"font-style: italic;\" >&lt;int64&gt;</td>\n",
       "    </tr>\n",
       "    <tr>\n",
       "      <th>0</th>\n",
       "      <td>a</td>\n",
       "      <td>1</td>\n",
       "    </tr>\n",
       "    <tr>\n",
       "      <th>1</th>\n",
       "      <td>b</td>\n",
       "      <td>2</td>\n",
       "    </tr>\n",
       "    <tr>\n",
       "      <th>2</th>\n",
       "      <td>c</td>\n",
       "      <td>3</td>\n",
       "    </tr>\n",
       "  </tbody>\n",
       "</table>\n",
       "</div>\n"
      ],
      "text/plain": [
       "      colA    colB\n",
       "  <object> <int64>\n",
       "0        a       1\n",
       "1        b       2\n",
       "2        c       3"
      ]
     },
     "execution_count": 22,
     "metadata": {},
     "output_type": "execute_result"
    }
   ],
   "source": [
    "tribble(\n",
    "  f.colA, f.colB,\n",
    "  \"a\",    1,\n",
    "  \"b\",    2,\n",
    "  \"c\",    3\n",
    ")"
   ]
  },
  {
   "cell_type": "code",
   "execution_count": 23,
   "id": "3730b8a8",
   "metadata": {
    "execution": {
     "iopub.execute_input": "2021-07-16T22:28:12.536248Z",
     "iopub.status.busy": "2021-07-16T22:28:12.535536Z",
     "iopub.status.idle": "2021-07-16T22:28:12.542704Z",
     "shell.execute_reply": "2021-07-16T22:28:12.543208Z"
    }
   },
   "outputs": [
    {
     "data": {
      "text/html": [
       "<div>\n",
       "<style scoped>\n",
       "    .dataframe tbody tr th:only-of-type {\n",
       "        vertical-align: middle;\n",
       "    }\n",
       "\n",
       "    .dataframe tbody tr th {\n",
       "        vertical-align: top;\n",
       "    }\n",
       "\n",
       "    .dataframe thead th {\n",
       "        text-align: right;\n",
       "    }\n",
       "</style>\n",
       "<table border=\"1\" class=\"dataframe\">\n",
       "  <thead>\n",
       "    <tr style=\"text-align: right;\">\n",
       "      <th></th>\n",
       "      <th>x</th>\n",
       "      <th>y</th>\n",
       "    </tr>\n",
       "  </thead>\n",
       "  <tbody>\n",
       "    <tr>\n",
       "      <th style=\"font-style: italic;\" ></th>\n",
       "      <td style=\"font-style: italic;\" >&lt;object&gt;</td>\n",
       "      <td style=\"font-style: italic;\" >&lt;object&gt;</td>\n",
       "    </tr>\n",
       "    <tr>\n",
       "      <th>0</th>\n",
       "      <td>a</td>\n",
       "      <td>[1, 2, 3]</td>\n",
       "    </tr>\n",
       "    <tr>\n",
       "      <th>1</th>\n",
       "      <td>b</td>\n",
       "      <td>[4, 5, 6]</td>\n",
       "    </tr>\n",
       "  </tbody>\n",
       "</table>\n",
       "</div>\n"
      ],
      "text/plain": [
       "         x          y\n",
       "  <object>   <object>\n",
       "0        a  [1, 2, 3]\n",
       "1        b  [4, 5, 6]"
      ]
     },
     "execution_count": 23,
     "metadata": {},
     "output_type": "execute_result"
    }
   ],
   "source": [
    "tribble(\n",
    "  f.x,  f.y,\n",
    "  \"a\",  [1,2,3],\n",
    "  \"b\",  [4,5,6]\n",
    ")"
   ]
  },
  {
   "cell_type": "code",
   "execution_count": 24,
   "id": "057cd848",
   "metadata": {
    "execution": {
     "iopub.execute_input": "2021-07-16T22:28:12.589393Z",
     "iopub.status.busy": "2021-07-16T22:28:12.588770Z",
     "iopub.status.idle": "2021-07-16T22:28:12.597896Z",
     "shell.execute_reply": "2021-07-16T22:28:12.598334Z"
    }
   },
   "outputs": [
    {
     "data": {
      "text/html": [
       "<div>\n",
       "<style scoped>\n",
       "    .dataframe tbody tr th:only-of-type {\n",
       "        vertical-align: middle;\n",
       "    }\n",
       "\n",
       "    .dataframe tbody tr th {\n",
       "        vertical-align: top;\n",
       "    }\n",
       "\n",
       "    .dataframe thead th {\n",
       "        text-align: right;\n",
       "    }\n",
       "</style>\n",
       "<table border=\"1\" class=\"dataframe\">\n",
       "  <thead>\n",
       "    <tr style=\"text-align: right;\">\n",
       "      <th></th>\n",
       "      <th>a</th>\n",
       "      <th>b</th>\n",
       "    </tr>\n",
       "  </thead>\n",
       "  <tbody>\n",
       "    <tr>\n",
       "      <th style=\"font-style: italic;\" ></th>\n",
       "      <td style=\"font-style: italic;\" >&lt;int64&gt;</td>\n",
       "      <td style=\"font-style: italic;\" >&lt;object&gt;</td>\n",
       "    </tr>\n",
       "    <tr>\n",
       "      <th>0</th>\n",
       "      <td>1</td>\n",
       "      <td>[2, 3]</td>\n",
       "    </tr>\n",
       "  </tbody>\n",
       "</table>\n",
       "</div>\n"
      ],
      "text/plain": [
       "        a        b\n",
       "  <int64> <object>\n",
       "0       1   [2, 3]"
      ]
     },
     "execution_count": 24,
     "metadata": {},
     "output_type": "execute_result"
    }
   ],
   "source": [
    "tibble_row(a=1, b=[[2,3]])"
   ]
  },
  {
   "cell_type": "code",
   "execution_count": null,
   "id": "b1a7d485",
   "metadata": {},
   "outputs": [],
   "source": []
  }
 ],
 "metadata": {
  "interpreter": {
   "hash": "c4cc73b080e063fcebb9afb794613be7caf4b26129562cba1382945a18cc49cc"
  },
  "kernelspec": {
   "display_name": "Python 3.7.8 64-bit ('base': conda)",
   "name": "python3"
  },
  "language_info": {
   "codemirror_mode": {
    "name": "ipython",
    "version": 3
   },
   "file_extension": ".py",
   "mimetype": "text/x-python",
   "name": "python",
   "nbconvert_exporter": "python",
   "pygments_lexer": "ipython3",
   "version": "3.9.5"
  }
 },
 "nbformat": 4,
 "nbformat_minor": 5
}
