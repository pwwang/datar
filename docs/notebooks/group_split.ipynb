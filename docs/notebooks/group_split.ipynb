{
 "cells": [
  {
   "cell_type": "code",
   "execution_count": 1,
   "id": "47292892",
   "metadata": {
    "execution": {
     "iopub.execute_input": "2021-07-16T22:27:52.255547Z",
     "iopub.status.busy": "2021-07-16T22:27:52.254748Z",
     "iopub.status.idle": "2021-07-16T22:27:53.206679Z",
     "shell.execute_reply": "2021-07-16T22:27:53.207313Z"
    }
   },
   "outputs": [
    {
     "name": "stderr",
     "output_type": "stream",
     "text": [
      "[2022-03-06 01:54:16][datar][WARNING] Builtin name \"min\" has been overriden by datar.\n",
      "[2022-03-06 01:54:16][datar][WARNING] Builtin name \"max\" has been overriden by datar.\n",
      "[2022-03-06 01:54:16][datar][WARNING] Builtin name \"sum\" has been overriden by datar.\n",
      "[2022-03-06 01:54:16][datar][WARNING] Builtin name \"abs\" has been overriden by datar.\n",
      "[2022-03-06 01:54:16][datar][WARNING] Builtin name \"round\" has been overriden by datar.\n",
      "[2022-03-06 01:54:16][datar][WARNING] Builtin name \"all\" has been overriden by datar.\n",
      "[2022-03-06 01:54:16][datar][WARNING] Builtin name \"any\" has been overriden by datar.\n",
      "[2022-03-06 01:54:16][datar][WARNING] Builtin name \"re\" has been overriden by datar.\n",
      "[2022-03-06 01:54:16][datar][WARNING] Builtin name \"filter\" has been overriden by datar.\n",
      "[2022-03-06 01:54:16][datar][WARNING] Builtin name \"slice\" has been overriden by datar.\n"
     ]
    },
    {
     "data": {
      "text/html": [
       "<div style=\"text-align: right; text-style: italic\">Try this notebook on <a target=\"_blank\" href=\"https://mybinder.org/v2/gh/pwwang/datar/93d069f3ca36711fc811c61dcf60e9fc3d1460a5?filepath=docs%2Fnotebooks%2Fgroup_split.ipynb\">binder</a>.</div>"
      ],
      "text/plain": [
       "<IPython.core.display.HTML object>"
      ]
     },
     "metadata": {},
     "output_type": "display_data"
    },
    {
     "data": {
      "text/markdown": [
       "### # group_split  "
      ],
      "text/plain": [
       "<IPython.core.display.Markdown object>"
      ]
     },
     "metadata": {},
     "output_type": "display_data"
    },
    {
     "data": {
      "text/markdown": [
       "##### Get a list of data in each group\n"
      ],
      "text/plain": [
       "<IPython.core.display.Markdown object>"
      ]
     },
     "metadata": {},
     "output_type": "display_data"
    }
   ],
   "source": [
    "# https://dplyr.tidyverse.org/reference/group_split.html\n",
    "\n",
    "from datar.datasets import iris\n",
    "from datar.all import *\n",
    "\n",
    "%run nb_helpers.py\n",
    "nb_header(group_split)"
   ]
  },
  {
   "cell_type": "code",
   "execution_count": 2,
   "id": "a2008be0",
   "metadata": {
    "execution": {
     "iopub.execute_input": "2021-07-16T22:27:53.213365Z",
     "iopub.status.busy": "2021-07-16T22:27:53.212184Z",
     "iopub.status.idle": "2021-07-16T22:27:53.288326Z",
     "shell.execute_reply": "2021-07-16T22:27:53.287655Z"
    }
   },
   "outputs": [
    {
     "data": {
      "text/plain": [
       "[    Sepal_Length  Sepal_Width  Petal_Length  Petal_Width  Species\n",
       "        <float64>    <float64>     <float64>    <float64> <object>\n",
       " 0            5.1          3.5           1.4          0.2   setosa\n",
       " 1            4.9          3.0           1.4          0.2   setosa\n",
       " 2            4.7          3.2           1.3          0.2   setosa\n",
       " 3            4.6          3.1           1.5          0.2   setosa\n",
       " 4            5.0          3.6           1.4          0.2   setosa\n",
       " 5            5.4          3.9           1.7          0.4   setosa\n",
       " 6            4.6          3.4           1.4          0.3   setosa\n",
       " 7            5.0          3.4           1.5          0.2   setosa\n",
       " 8            4.4          2.9           1.4          0.2   setosa\n",
       " 9            4.9          3.1           1.5          0.1   setosa\n",
       " 10           5.4          3.7           1.5          0.2   setosa\n",
       " 11           4.8          3.4           1.6          0.2   setosa\n",
       " 12           4.8          3.0           1.4          0.1   setosa\n",
       " 13           4.3          3.0           1.1          0.1   setosa\n",
       " 14           5.8          4.0           1.2          0.2   setosa\n",
       " 15           5.7          4.4           1.5          0.4   setosa\n",
       " 16           5.4          3.9           1.3          0.4   setosa\n",
       " 17           5.1          3.5           1.4          0.3   setosa\n",
       " 18           5.7          3.8           1.7          0.3   setosa\n",
       " 19           5.1          3.8           1.5          0.3   setosa\n",
       " 20           5.4          3.4           1.7          0.2   setosa\n",
       " 21           5.1          3.7           1.5          0.4   setosa\n",
       " 22           4.6          3.6           1.0          0.2   setosa\n",
       " 23           5.1          3.3           1.7          0.5   setosa\n",
       " 24           4.8          3.4           1.9          0.2   setosa\n",
       " 25           5.0          3.0           1.6          0.2   setosa\n",
       " 26           5.0          3.4           1.6          0.4   setosa\n",
       " 27           5.2          3.5           1.5          0.2   setosa\n",
       " 28           5.2          3.4           1.4          0.2   setosa\n",
       " 29           4.7          3.2           1.6          0.2   setosa\n",
       " 30           4.8          3.1           1.6          0.2   setosa\n",
       " 31           5.4          3.4           1.5          0.4   setosa\n",
       " 32           5.2          4.1           1.5          0.1   setosa\n",
       " 33           5.5          4.2           1.4          0.2   setosa\n",
       " 34           4.9          3.1           1.5          0.2   setosa\n",
       " 35           5.0          3.2           1.2          0.2   setosa\n",
       " 36           5.5          3.5           1.3          0.2   setosa\n",
       " 37           4.9          3.6           1.4          0.1   setosa\n",
       " 38           4.4          3.0           1.3          0.2   setosa\n",
       " 39           5.1          3.4           1.5          0.2   setosa\n",
       " 40           5.0          3.5           1.3          0.3   setosa\n",
       " 41           4.5          2.3           1.3          0.3   setosa\n",
       " 42           4.4          3.2           1.3          0.2   setosa\n",
       " 43           5.0          3.5           1.6          0.6   setosa\n",
       " 44           5.1          3.8           1.9          0.4   setosa\n",
       " 45           4.8          3.0           1.4          0.3   setosa\n",
       " 46           5.1          3.8           1.6          0.2   setosa\n",
       " 47           4.6          3.2           1.4          0.2   setosa\n",
       " 48           5.3          3.7           1.5          0.2   setosa\n",
       " 49           5.0          3.3           1.4          0.2   setosa,\n",
       "     Sepal_Length  Sepal_Width  Petal_Length  Petal_Width     Species\n",
       "        <float64>    <float64>     <float64>    <float64>    <object>\n",
       " 0            7.0          3.2           4.7          1.4  versicolor\n",
       " 1            6.4          3.2           4.5          1.5  versicolor\n",
       " 2            6.9          3.1           4.9          1.5  versicolor\n",
       " 3            5.5          2.3           4.0          1.3  versicolor\n",
       " 4            6.5          2.8           4.6          1.5  versicolor\n",
       " 5            5.7          2.8           4.5          1.3  versicolor\n",
       " 6            6.3          3.3           4.7          1.6  versicolor\n",
       " 7            4.9          2.4           3.3          1.0  versicolor\n",
       " 8            6.6          2.9           4.6          1.3  versicolor\n",
       " 9            5.2          2.7           3.9          1.4  versicolor\n",
       " 10           5.0          2.0           3.5          1.0  versicolor\n",
       " 11           5.9          3.0           4.2          1.5  versicolor\n",
       " 12           6.0          2.2           4.0          1.0  versicolor\n",
       " 13           6.1          2.9           4.7          1.4  versicolor\n",
       " 14           5.6          2.9           3.6          1.3  versicolor\n",
       " 15           6.7          3.1           4.4          1.4  versicolor\n",
       " 16           5.6          3.0           4.5          1.5  versicolor\n",
       " 17           5.8          2.7           4.1          1.0  versicolor\n",
       " 18           6.2          2.2           4.5          1.5  versicolor\n",
       " 19           5.6          2.5           3.9          1.1  versicolor\n",
       " 20           5.9          3.2           4.8          1.8  versicolor\n",
       " 21           6.1          2.8           4.0          1.3  versicolor\n",
       " 22           6.3          2.5           4.9          1.5  versicolor\n",
       " 23           6.1          2.8           4.7          1.2  versicolor\n",
       " 24           6.4          2.9           4.3          1.3  versicolor\n",
       " 25           6.6          3.0           4.4          1.4  versicolor\n",
       " 26           6.8          2.8           4.8          1.4  versicolor\n",
       " 27           6.7          3.0           5.0          1.7  versicolor\n",
       " 28           6.0          2.9           4.5          1.5  versicolor\n",
       " 29           5.7          2.6           3.5          1.0  versicolor\n",
       " 30           5.5          2.4           3.8          1.1  versicolor\n",
       " 31           5.5          2.4           3.7          1.0  versicolor\n",
       " 32           5.8          2.7           3.9          1.2  versicolor\n",
       " 33           6.0          2.7           5.1          1.6  versicolor\n",
       " 34           5.4          3.0           4.5          1.5  versicolor\n",
       " 35           6.0          3.4           4.5          1.6  versicolor\n",
       " 36           6.7          3.1           4.7          1.5  versicolor\n",
       " 37           6.3          2.3           4.4          1.3  versicolor\n",
       " 38           5.6          3.0           4.1          1.3  versicolor\n",
       " 39           5.5          2.5           4.0          1.3  versicolor\n",
       " 40           5.5          2.6           4.4          1.2  versicolor\n",
       " 41           6.1          3.0           4.6          1.4  versicolor\n",
       " 42           5.8          2.6           4.0          1.2  versicolor\n",
       " 43           5.0          2.3           3.3          1.0  versicolor\n",
       " 44           5.6          2.7           4.2          1.3  versicolor\n",
       " 45           5.7          3.0           4.2          1.2  versicolor\n",
       " 46           5.7          2.9           4.2          1.3  versicolor\n",
       " 47           6.2          2.9           4.3          1.3  versicolor\n",
       " 48           5.1          2.5           3.0          1.1  versicolor\n",
       " 49           5.7          2.8           4.1          1.3  versicolor,\n",
       "     Sepal_Length  Sepal_Width  Petal_Length  Petal_Width    Species\n",
       "        <float64>    <float64>     <float64>    <float64>   <object>\n",
       " 0            6.3          3.3           6.0          2.5  virginica\n",
       " 1            5.8          2.7           5.1          1.9  virginica\n",
       " 2            7.1          3.0           5.9          2.1  virginica\n",
       " 3            6.3          2.9           5.6          1.8  virginica\n",
       " 4            6.5          3.0           5.8          2.2  virginica\n",
       " 5            7.6          3.0           6.6          2.1  virginica\n",
       " 6            4.9          2.5           4.5          1.7  virginica\n",
       " 7            7.3          2.9           6.3          1.8  virginica\n",
       " 8            6.7          2.5           5.8          1.8  virginica\n",
       " 9            7.2          3.6           6.1          2.5  virginica\n",
       " 10           6.5          3.2           5.1          2.0  virginica\n",
       " 11           6.4          2.7           5.3          1.9  virginica\n",
       " 12           6.8          3.0           5.5          2.1  virginica\n",
       " 13           5.7          2.5           5.0          2.0  virginica\n",
       " 14           5.8          2.8           5.1          2.4  virginica\n",
       " 15           6.4          3.2           5.3          2.3  virginica\n",
       " 16           6.5          3.0           5.5          1.8  virginica\n",
       " 17           7.7          3.8           6.7          2.2  virginica\n",
       " 18           7.7          2.6           6.9          2.3  virginica\n",
       " 19           6.0          2.2           5.0          1.5  virginica\n",
       " 20           6.9          3.2           5.7          2.3  virginica\n",
       " 21           5.6          2.8           4.9          2.0  virginica\n",
       " 22           7.7          2.8           6.7          2.0  virginica\n",
       " 23           6.3          2.7           4.9          1.8  virginica\n",
       " 24           6.7          3.3           5.7          2.1  virginica\n",
       " 25           7.2          3.2           6.0          1.8  virginica\n",
       " 26           6.2          2.8           4.8          1.8  virginica\n",
       " 27           6.1          3.0           4.9          1.8  virginica\n",
       " 28           6.4          2.8           5.6          2.1  virginica\n",
       " 29           7.2          3.0           5.8          1.6  virginica\n",
       " 30           7.4          2.8           6.1          1.9  virginica\n",
       " 31           7.9          3.8           6.4          2.0  virginica\n",
       " 32           6.4          2.8           5.6          2.2  virginica\n",
       " 33           6.3          2.8           5.1          1.5  virginica\n",
       " 34           6.1          2.6           5.6          1.4  virginica\n",
       " 35           7.7          3.0           6.1          2.3  virginica\n",
       " 36           6.3          3.4           5.6          2.4  virginica\n",
       " 37           6.4          3.1           5.5          1.8  virginica\n",
       " 38           6.0          3.0           4.8          1.8  virginica\n",
       " 39           6.9          3.1           5.4          2.1  virginica\n",
       " 40           6.7          3.1           5.6          2.4  virginica\n",
       " 41           6.9          3.1           5.1          2.3  virginica\n",
       " 42           5.8          2.7           5.1          1.9  virginica\n",
       " 43           6.8          3.2           5.9          2.3  virginica\n",
       " 44           6.7          3.3           5.7          2.5  virginica\n",
       " 45           6.7          3.0           5.2          2.3  virginica\n",
       " 46           6.3          2.5           5.0          1.9  virginica\n",
       " 47           6.5          3.0           5.2          2.0  virginica\n",
       " 48           6.2          3.4           5.4          2.3  virginica\n",
       " 49           5.9          3.0           5.1          1.8  virginica]"
      ]
     },
     "execution_count": 2,
     "metadata": {},
     "output_type": "execute_result"
    }
   ],
   "source": [
    "ir = iris >> group_by(f.Species)\n",
    "\n",
    "list(group_split(ir))"
   ]
  },
  {
   "cell_type": "code",
   "execution_count": 3,
   "id": "3ec457eb",
   "metadata": {
    "execution": {
     "iopub.execute_input": "2021-07-16T22:27:53.300912Z",
     "iopub.status.busy": "2021-07-16T22:27:53.300148Z",
     "iopub.status.idle": "2021-07-16T22:27:53.304391Z",
     "shell.execute_reply": "2021-07-16T22:27:53.303877Z"
    }
   },
   "outputs": [
    {
     "data": {
      "text/html": [
       "<div>\n",
       "<style scoped>\n",
       "    .dataframe tbody tr th:only-of-type {\n",
       "        vertical-align: middle;\n",
       "    }\n",
       "\n",
       "    .dataframe tbody tr th {\n",
       "        vertical-align: top;\n",
       "    }\n",
       "\n",
       "    .dataframe thead th {\n",
       "        text-align: right;\n",
       "    }\n",
       "</style>\n",
       "<table border=\"1\" class=\"dataframe\">\n",
       "  <thead>\n",
       "    <tr style=\"text-align: right;\">\n",
       "      <th></th>\n",
       "      <th>Species</th>\n",
       "    </tr>\n",
       "  </thead>\n",
       "  <tbody>\n",
       "    <tr>\n",
       "      <th style=\"font-style: italic;\" ></th>\n",
       "      <td style=\"font-style: italic;\" >&lt;object&gt;</td>\n",
       "    </tr>\n",
       "    <tr>\n",
       "      <th>0</th>\n",
       "      <td>setosa</td>\n",
       "    </tr>\n",
       "    <tr>\n",
       "      <th>1</th>\n",
       "      <td>versicolor</td>\n",
       "    </tr>\n",
       "    <tr>\n",
       "      <th>2</th>\n",
       "      <td>virginica</td>\n",
       "    </tr>\n",
       "  </tbody>\n",
       "</table>\n",
       "</div>\n"
      ],
      "text/plain": [
       "      Species\n",
       "     <object>\n",
       "0      setosa\n",
       "1  versicolor\n",
       "2   virginica"
      ]
     },
     "execution_count": 3,
     "metadata": {},
     "output_type": "execute_result"
    }
   ],
   "source": [
    "group_keys(ir)"
   ]
  },
  {
   "cell_type": "code",
   "execution_count": 4,
   "id": "495b5d8c",
   "metadata": {
    "execution": {
     "iopub.execute_input": "2021-07-16T22:27:53.320666Z",
     "iopub.status.busy": "2021-07-16T22:27:53.320074Z",
     "iopub.status.idle": "2021-07-16T22:27:53.451293Z",
     "shell.execute_reply": "2021-07-16T22:27:53.450611Z"
    }
   },
   "outputs": [
    {
     "data": {
      "text/plain": [
       "[    Sepal_Length  Sepal_Width  Petal_Length  Petal_Width  Species\n",
       "        <float64>    <float64>     <float64>    <float64> <object>\n",
       " 0            5.1          3.5           1.4          0.2   setosa\n",
       " 1            5.4          3.9           1.7          0.4   setosa\n",
       " 2            5.4          3.7           1.5          0.2   setosa\n",
       " 3            5.8          4.0           1.2          0.2   setosa\n",
       " 4            5.7          4.4           1.5          0.4   setosa\n",
       " 5            5.4          3.9           1.3          0.4   setosa\n",
       " 6            5.1          3.5           1.4          0.3   setosa\n",
       " 7            5.7          3.8           1.7          0.3   setosa\n",
       " 8            5.1          3.8           1.5          0.3   setosa\n",
       " 9            5.4          3.4           1.7          0.2   setosa\n",
       " 10           5.1          3.7           1.5          0.4   setosa\n",
       " 11           5.1          3.3           1.7          0.5   setosa\n",
       " 12           5.2          3.5           1.5          0.2   setosa\n",
       " 13           5.2          3.4           1.4          0.2   setosa\n",
       " 14           5.4          3.4           1.5          0.4   setosa\n",
       " 15           5.2          4.1           1.5          0.1   setosa\n",
       " 16           5.5          4.2           1.4          0.2   setosa\n",
       " 17           5.5          3.5           1.3          0.2   setosa\n",
       " 18           5.1          3.4           1.5          0.2   setosa\n",
       " 19           5.1          3.8           1.9          0.4   setosa\n",
       " 20           5.1          3.8           1.6          0.2   setosa\n",
       " 21           5.3          3.7           1.5          0.2   setosa,\n",
       "     Sepal_Length  Sepal_Width  Petal_Length  Petal_Width     Species\n",
       "        <float64>    <float64>     <float64>    <float64>    <object>\n",
       " 0            7.0          3.2           4.7          1.4  versicolor\n",
       " 1            6.4          3.2           4.5          1.5  versicolor\n",
       " 2            6.9          3.1           4.9          1.5  versicolor\n",
       " 3            6.5          2.8           4.6          1.5  versicolor\n",
       " 4            6.3          3.3           4.7          1.6  versicolor\n",
       " 5            6.6          2.9           4.6          1.3  versicolor\n",
       " 6            6.0          2.2           4.0          1.0  versicolor\n",
       " 7            6.1          2.9           4.7          1.4  versicolor\n",
       " 8            6.7          3.1           4.4          1.4  versicolor\n",
       " 9            6.2          2.2           4.5          1.5  versicolor\n",
       " 10           6.1          2.8           4.0          1.3  versicolor\n",
       " 11           6.3          2.5           4.9          1.5  versicolor\n",
       " 12           6.1          2.8           4.7          1.2  versicolor\n",
       " 13           6.4          2.9           4.3          1.3  versicolor\n",
       " 14           6.6          3.0           4.4          1.4  versicolor\n",
       " 15           6.8          2.8           4.8          1.4  versicolor\n",
       " 16           6.7          3.0           5.0          1.7  versicolor\n",
       " 17           6.0          2.9           4.5          1.5  versicolor\n",
       " 18           6.0          2.7           5.1          1.6  versicolor\n",
       " 19           6.0          3.4           4.5          1.6  versicolor\n",
       " 20           6.7          3.1           4.7          1.5  versicolor\n",
       " 21           6.3          2.3           4.4          1.3  versicolor\n",
       " 22           6.1          3.0           4.6          1.4  versicolor\n",
       " 23           6.2          2.9           4.3          1.3  versicolor,\n",
       "     Sepal_Length  Sepal_Width  Petal_Length  Petal_Width    Species\n",
       "        <float64>    <float64>     <float64>    <float64>   <object>\n",
       " 0            7.1          3.0           5.9          2.1  virginica\n",
       " 1            7.6          3.0           6.6          2.1  virginica\n",
       " 2            7.3          2.9           6.3          1.8  virginica\n",
       " 3            6.7          2.5           5.8          1.8  virginica\n",
       " 4            7.2          3.6           6.1          2.5  virginica\n",
       " 5            6.8          3.0           5.5          2.1  virginica\n",
       " 6            7.7          3.8           6.7          2.2  virginica\n",
       " 7            7.7          2.6           6.9          2.3  virginica\n",
       " 8            6.9          3.2           5.7          2.3  virginica\n",
       " 9            7.7          2.8           6.7          2.0  virginica\n",
       " 10           6.7          3.3           5.7          2.1  virginica\n",
       " 11           7.2          3.2           6.0          1.8  virginica\n",
       " 12           7.2          3.0           5.8          1.6  virginica\n",
       " 13           7.4          2.8           6.1          1.9  virginica\n",
       " 14           7.9          3.8           6.4          2.0  virginica\n",
       " 15           7.7          3.0           6.1          2.3  virginica\n",
       " 16           6.9          3.1           5.4          2.1  virginica\n",
       " 17           6.7          3.1           5.6          2.4  virginica\n",
       " 18           6.9          3.1           5.1          2.3  virginica\n",
       " 19           6.8          3.2           5.9          2.3  virginica\n",
       " 20           6.7          3.3           5.7          2.5  virginica\n",
       " 21           6.7          3.0           5.2          2.3  virginica]"
      ]
     },
     "execution_count": 4,
     "metadata": {},
     "output_type": "execute_result"
    }
   ],
   "source": [
    "ir = iris >> \\\n",
    "  group_by(f.Species) >> \\\n",
    "  filter(f['Sepal_Length'] > mean(f['Sepal_Length']))\n",
    "list(group_split(ir))"
   ]
  },
  {
   "cell_type": "code",
   "execution_count": 5,
   "id": "250034b0",
   "metadata": {
    "execution": {
     "iopub.execute_input": "2021-07-16T22:27:53.458909Z",
     "iopub.status.busy": "2021-07-16T22:27:53.458364Z",
     "iopub.status.idle": "2021-07-16T22:27:53.461501Z",
     "shell.execute_reply": "2021-07-16T22:27:53.461898Z"
    }
   },
   "outputs": [
    {
     "data": {
      "text/html": [
       "<div>\n",
       "<style scoped>\n",
       "    .dataframe tbody tr th:only-of-type {\n",
       "        vertical-align: middle;\n",
       "    }\n",
       "\n",
       "    .dataframe tbody tr th {\n",
       "        vertical-align: top;\n",
       "    }\n",
       "\n",
       "    .dataframe thead th {\n",
       "        text-align: right;\n",
       "    }\n",
       "</style>\n",
       "<table border=\"1\" class=\"dataframe\">\n",
       "  <thead>\n",
       "    <tr style=\"text-align: right;\">\n",
       "      <th></th>\n",
       "      <th>Species</th>\n",
       "    </tr>\n",
       "  </thead>\n",
       "  <tbody>\n",
       "    <tr>\n",
       "      <th style=\"font-style: italic;\" ></th>\n",
       "      <td style=\"font-style: italic;\" >&lt;object&gt;</td>\n",
       "    </tr>\n",
       "    <tr>\n",
       "      <th>0</th>\n",
       "      <td>setosa</td>\n",
       "    </tr>\n",
       "    <tr>\n",
       "      <th>1</th>\n",
       "      <td>versicolor</td>\n",
       "    </tr>\n",
       "    <tr>\n",
       "      <th>2</th>\n",
       "      <td>virginica</td>\n",
       "    </tr>\n",
       "  </tbody>\n",
       "</table>\n",
       "</div>\n"
      ],
      "text/plain": [
       "      Species\n",
       "     <object>\n",
       "0      setosa\n",
       "1  versicolor\n",
       "2   virginica"
      ]
     },
     "execution_count": 5,
     "metadata": {},
     "output_type": "execute_result"
    }
   ],
   "source": [
    "group_keys(ir)"
   ]
  },
  {
   "cell_type": "code",
   "execution_count": 6,
   "id": "a9d564a6",
   "metadata": {
    "execution": {
     "iopub.execute_input": "2021-07-16T22:27:53.504622Z",
     "iopub.status.busy": "2021-07-16T22:27:53.504035Z",
     "iopub.status.idle": "2021-07-16T22:27:53.507391Z",
     "shell.execute_reply": "2021-07-16T22:27:53.507943Z"
    }
   },
   "outputs": [
    {
     "data": {
      "text/plain": [
       "[    Sepal_Length  Sepal_Width  Petal_Length  Petal_Width  Species\n",
       "        <float64>    <float64>     <float64>    <float64> <object>\n",
       " 0            5.1          3.5           1.4          0.2   setosa\n",
       " 1            4.9          3.0           1.4          0.2   setosa\n",
       " 2            4.7          3.2           1.3          0.2   setosa\n",
       " 3            4.6          3.1           1.5          0.2   setosa\n",
       " 4            5.0          3.6           1.4          0.2   setosa\n",
       " 5            5.4          3.9           1.7          0.4   setosa\n",
       " 6            4.6          3.4           1.4          0.3   setosa\n",
       " 7            5.0          3.4           1.5          0.2   setosa\n",
       " 8            4.4          2.9           1.4          0.2   setosa\n",
       " 9            4.9          3.1           1.5          0.1   setosa\n",
       " 10           5.4          3.7           1.5          0.2   setosa\n",
       " 11           4.8          3.4           1.6          0.2   setosa\n",
       " 12           4.8          3.0           1.4          0.1   setosa\n",
       " 13           4.3          3.0           1.1          0.1   setosa\n",
       " 14           5.8          4.0           1.2          0.2   setosa\n",
       " 15           5.7          4.4           1.5          0.4   setosa\n",
       " 16           5.4          3.9           1.3          0.4   setosa\n",
       " 17           5.1          3.5           1.4          0.3   setosa\n",
       " 18           5.7          3.8           1.7          0.3   setosa\n",
       " 19           5.1          3.8           1.5          0.3   setosa\n",
       " 20           5.4          3.4           1.7          0.2   setosa\n",
       " 21           5.1          3.7           1.5          0.4   setosa\n",
       " 22           4.6          3.6           1.0          0.2   setosa\n",
       " 23           5.1          3.3           1.7          0.5   setosa\n",
       " 24           4.8          3.4           1.9          0.2   setosa\n",
       " 25           5.0          3.0           1.6          0.2   setosa\n",
       " 26           5.0          3.4           1.6          0.4   setosa\n",
       " 27           5.2          3.5           1.5          0.2   setosa\n",
       " 28           5.2          3.4           1.4          0.2   setosa\n",
       " 29           4.7          3.2           1.6          0.2   setosa\n",
       " 30           4.8          3.1           1.6          0.2   setosa\n",
       " 31           5.4          3.4           1.5          0.4   setosa\n",
       " 32           5.2          4.1           1.5          0.1   setosa\n",
       " 33           5.5          4.2           1.4          0.2   setosa\n",
       " 34           4.9          3.1           1.5          0.2   setosa\n",
       " 35           5.0          3.2           1.2          0.2   setosa\n",
       " 36           5.5          3.5           1.3          0.2   setosa\n",
       " 37           4.9          3.6           1.4          0.1   setosa\n",
       " 38           4.4          3.0           1.3          0.2   setosa\n",
       " 39           5.1          3.4           1.5          0.2   setosa\n",
       " 40           5.0          3.5           1.3          0.3   setosa\n",
       " 41           4.5          2.3           1.3          0.3   setosa\n",
       " 42           4.4          3.2           1.3          0.2   setosa\n",
       " 43           5.0          3.5           1.6          0.6   setosa\n",
       " 44           5.1          3.8           1.9          0.4   setosa\n",
       " 45           4.8          3.0           1.4          0.3   setosa\n",
       " 46           5.1          3.8           1.6          0.2   setosa\n",
       " 47           4.6          3.2           1.4          0.2   setosa\n",
       " 48           5.3          3.7           1.5          0.2   setosa\n",
       " 49           5.0          3.3           1.4          0.2   setosa,\n",
       "     Sepal_Length  Sepal_Width  Petal_Length  Petal_Width     Species\n",
       "        <float64>    <float64>     <float64>    <float64>    <object>\n",
       " 0            7.0          3.2           4.7          1.4  versicolor\n",
       " 1            6.4          3.2           4.5          1.5  versicolor\n",
       " 2            6.9          3.1           4.9          1.5  versicolor\n",
       " 3            5.5          2.3           4.0          1.3  versicolor\n",
       " 4            6.5          2.8           4.6          1.5  versicolor\n",
       " 5            5.7          2.8           4.5          1.3  versicolor\n",
       " 6            6.3          3.3           4.7          1.6  versicolor\n",
       " 7            4.9          2.4           3.3          1.0  versicolor\n",
       " 8            6.6          2.9           4.6          1.3  versicolor\n",
       " 9            5.2          2.7           3.9          1.4  versicolor\n",
       " 10           5.0          2.0           3.5          1.0  versicolor\n",
       " 11           5.9          3.0           4.2          1.5  versicolor\n",
       " 12           6.0          2.2           4.0          1.0  versicolor\n",
       " 13           6.1          2.9           4.7          1.4  versicolor\n",
       " 14           5.6          2.9           3.6          1.3  versicolor\n",
       " 15           6.7          3.1           4.4          1.4  versicolor\n",
       " 16           5.6          3.0           4.5          1.5  versicolor\n",
       " 17           5.8          2.7           4.1          1.0  versicolor\n",
       " 18           6.2          2.2           4.5          1.5  versicolor\n",
       " 19           5.6          2.5           3.9          1.1  versicolor\n",
       " 20           5.9          3.2           4.8          1.8  versicolor\n",
       " 21           6.1          2.8           4.0          1.3  versicolor\n",
       " 22           6.3          2.5           4.9          1.5  versicolor\n",
       " 23           6.1          2.8           4.7          1.2  versicolor\n",
       " 24           6.4          2.9           4.3          1.3  versicolor\n",
       " 25           6.6          3.0           4.4          1.4  versicolor\n",
       " 26           6.8          2.8           4.8          1.4  versicolor\n",
       " 27           6.7          3.0           5.0          1.7  versicolor\n",
       " 28           6.0          2.9           4.5          1.5  versicolor\n",
       " 29           5.7          2.6           3.5          1.0  versicolor\n",
       " 30           5.5          2.4           3.8          1.1  versicolor\n",
       " 31           5.5          2.4           3.7          1.0  versicolor\n",
       " 32           5.8          2.7           3.9          1.2  versicolor\n",
       " 33           6.0          2.7           5.1          1.6  versicolor\n",
       " 34           5.4          3.0           4.5          1.5  versicolor\n",
       " 35           6.0          3.4           4.5          1.6  versicolor\n",
       " 36           6.7          3.1           4.7          1.5  versicolor\n",
       " 37           6.3          2.3           4.4          1.3  versicolor\n",
       " 38           5.6          3.0           4.1          1.3  versicolor\n",
       " 39           5.5          2.5           4.0          1.3  versicolor\n",
       " 40           5.5          2.6           4.4          1.2  versicolor\n",
       " 41           6.1          3.0           4.6          1.4  versicolor\n",
       " 42           5.8          2.6           4.0          1.2  versicolor\n",
       " 43           5.0          2.3           3.3          1.0  versicolor\n",
       " 44           5.6          2.7           4.2          1.3  versicolor\n",
       " 45           5.7          3.0           4.2          1.2  versicolor\n",
       " 46           5.7          2.9           4.2          1.3  versicolor\n",
       " 47           6.2          2.9           4.3          1.3  versicolor\n",
       " 48           5.1          2.5           3.0          1.1  versicolor\n",
       " 49           5.7          2.8           4.1          1.3  versicolor,\n",
       "     Sepal_Length  Sepal_Width  Petal_Length  Petal_Width    Species\n",
       "        <float64>    <float64>     <float64>    <float64>   <object>\n",
       " 0            6.3          3.3           6.0          2.5  virginica\n",
       " 1            5.8          2.7           5.1          1.9  virginica\n",
       " 2            7.1          3.0           5.9          2.1  virginica\n",
       " 3            6.3          2.9           5.6          1.8  virginica\n",
       " 4            6.5          3.0           5.8          2.2  virginica\n",
       " 5            7.6          3.0           6.6          2.1  virginica\n",
       " 6            4.9          2.5           4.5          1.7  virginica\n",
       " 7            7.3          2.9           6.3          1.8  virginica\n",
       " 8            6.7          2.5           5.8          1.8  virginica\n",
       " 9            7.2          3.6           6.1          2.5  virginica\n",
       " 10           6.5          3.2           5.1          2.0  virginica\n",
       " 11           6.4          2.7           5.3          1.9  virginica\n",
       " 12           6.8          3.0           5.5          2.1  virginica\n",
       " 13           5.7          2.5           5.0          2.0  virginica\n",
       " 14           5.8          2.8           5.1          2.4  virginica\n",
       " 15           6.4          3.2           5.3          2.3  virginica\n",
       " 16           6.5          3.0           5.5          1.8  virginica\n",
       " 17           7.7          3.8           6.7          2.2  virginica\n",
       " 18           7.7          2.6           6.9          2.3  virginica\n",
       " 19           6.0          2.2           5.0          1.5  virginica\n",
       " 20           6.9          3.2           5.7          2.3  virginica\n",
       " 21           5.6          2.8           4.9          2.0  virginica\n",
       " 22           7.7          2.8           6.7          2.0  virginica\n",
       " 23           6.3          2.7           4.9          1.8  virginica\n",
       " 24           6.7          3.3           5.7          2.1  virginica\n",
       " 25           7.2          3.2           6.0          1.8  virginica\n",
       " 26           6.2          2.8           4.8          1.8  virginica\n",
       " 27           6.1          3.0           4.9          1.8  virginica\n",
       " 28           6.4          2.8           5.6          2.1  virginica\n",
       " 29           7.2          3.0           5.8          1.6  virginica\n",
       " 30           7.4          2.8           6.1          1.9  virginica\n",
       " 31           7.9          3.8           6.4          2.0  virginica\n",
       " 32           6.4          2.8           5.6          2.2  virginica\n",
       " 33           6.3          2.8           5.1          1.5  virginica\n",
       " 34           6.1          2.6           5.6          1.4  virginica\n",
       " 35           7.7          3.0           6.1          2.3  virginica\n",
       " 36           6.3          3.4           5.6          2.4  virginica\n",
       " 37           6.4          3.1           5.5          1.8  virginica\n",
       " 38           6.0          3.0           4.8          1.8  virginica\n",
       " 39           6.9          3.1           5.4          2.1  virginica\n",
       " 40           6.7          3.1           5.6          2.4  virginica\n",
       " 41           6.9          3.1           5.1          2.3  virginica\n",
       " 42           5.8          2.7           5.1          1.9  virginica\n",
       " 43           6.8          3.2           5.9          2.3  virginica\n",
       " 44           6.7          3.3           5.7          2.5  virginica\n",
       " 45           6.7          3.0           5.2          2.3  virginica\n",
       " 46           6.3          2.5           5.0          1.9  virginica\n",
       " 47           6.5          3.0           5.2          2.0  virginica\n",
       " 48           6.2          3.4           5.4          2.3  virginica\n",
       " 49           5.9          3.0           5.1          1.8  virginica]"
      ]
     },
     "execution_count": 6,
     "metadata": {},
     "output_type": "execute_result"
    }
   ],
   "source": [
    "list(iris >> group_split(f.Species))"
   ]
  },
  {
   "cell_type": "code",
   "execution_count": 7,
   "id": "ef9086c8",
   "metadata": {
    "execution": {
     "iopub.execute_input": "2021-07-16T22:27:53.522213Z",
     "iopub.status.busy": "2021-07-16T22:27:53.521593Z",
     "iopub.status.idle": "2021-07-16T22:27:53.526006Z",
     "shell.execute_reply": "2021-07-16T22:27:53.526356Z"
    }
   },
   "outputs": [
    {
     "data": {
      "text/html": [
       "<div>\n",
       "<style scoped>\n",
       "    .dataframe tbody tr th:only-of-type {\n",
       "        vertical-align: middle;\n",
       "    }\n",
       "\n",
       "    .dataframe tbody tr th {\n",
       "        vertical-align: top;\n",
       "    }\n",
       "\n",
       "    .dataframe thead th {\n",
       "        text-align: right;\n",
       "    }\n",
       "</style>\n",
       "<table border=\"1\" class=\"dataframe\">\n",
       "  <thead>\n",
       "    <tr style=\"text-align: right;\">\n",
       "      <th></th>\n",
       "      <th>Species</th>\n",
       "    </tr>\n",
       "  </thead>\n",
       "  <tbody>\n",
       "    <tr>\n",
       "      <th style=\"font-style: italic;\" ></th>\n",
       "      <td style=\"font-style: italic;\" >&lt;object&gt;</td>\n",
       "    </tr>\n",
       "    <tr>\n",
       "      <th>0</th>\n",
       "      <td>setosa</td>\n",
       "    </tr>\n",
       "    <tr>\n",
       "      <th>1</th>\n",
       "      <td>versicolor</td>\n",
       "    </tr>\n",
       "    <tr>\n",
       "      <th>2</th>\n",
       "      <td>virginica</td>\n",
       "    </tr>\n",
       "  </tbody>\n",
       "</table>\n",
       "</div>\n"
      ],
      "text/plain": [
       "      Species\n",
       "     <object>\n",
       "0      setosa\n",
       "1  versicolor\n",
       "2   virginica"
      ]
     },
     "execution_count": 7,
     "metadata": {},
     "output_type": "execute_result"
    }
   ],
   "source": [
    "# group_keys(...) deprecated in dplyr\n",
    "iris >> group_by(f.Species) >> group_keys()"
   ]
  },
  {
   "cell_type": "code",
   "execution_count": 8,
   "id": "65de8d54",
   "metadata": {
    "execution": {
     "iopub.execute_input": "2021-07-16T22:27:53.549647Z",
     "iopub.status.busy": "2021-07-16T22:27:53.548678Z",
     "iopub.status.idle": "2021-07-16T22:27:53.555041Z",
     "shell.execute_reply": "2021-07-16T22:27:53.555395Z"
    }
   },
   "outputs": [
    {
     "data": {
      "text/plain": [
       "<generator object group_split_impl at 0x7fc5a630d0b0>"
      ]
     },
     "execution_count": 8,
     "metadata": {},
     "output_type": "execute_result"
    }
   ],
   "source": [
    "iris >> group_by(f.Species) >> group_keys() >> rowwise() >> group_split()"
   ]
  },
  {
   "cell_type": "code",
   "execution_count": 9,
   "id": "264e6811",
   "metadata": {
    "execution": {
     "iopub.execute_input": "2021-07-16T22:27:53.567713Z",
     "iopub.status.busy": "2021-07-16T22:27:53.567079Z",
     "iopub.status.idle": "2021-07-16T22:27:53.570183Z",
     "shell.execute_reply": "2021-07-16T22:27:53.570745Z"
    }
   },
   "outputs": [
    {
     "data": {
      "text/plain": [
       "[   Species\n",
       "   <object>\n",
       " 0   setosa,\n",
       "       Species\n",
       "      <object>\n",
       " 0  versicolor,\n",
       "      Species\n",
       "     <object>\n",
       " 0  virginica]"
      ]
     },
     "execution_count": 9,
     "metadata": {},
     "output_type": "execute_result"
    }
   ],
   "source": [
    "list(_)"
   ]
  },
  {
   "cell_type": "code",
   "execution_count": null,
   "id": "0d64b7b1",
   "metadata": {},
   "outputs": [],
   "source": []
  }
 ],
 "metadata": {
  "kernelspec": {
   "display_name": "Python 3",
   "language": "python",
   "name": "python3"
  },
  "language_info": {
   "codemirror_mode": {
    "name": "ipython",
    "version": 3
   },
   "file_extension": ".py",
   "mimetype": "text/x-python",
   "name": "python",
   "nbconvert_exporter": "python",
   "pygments_lexer": "ipython3",
   "version": "3.9.5"
  }
 },
 "nbformat": 4,
 "nbformat_minor": 5
}
