{
 "cells": [
  {
   "cell_type": "code",
   "execution_count": 1,
   "source": [
    "# https://dplyr.tidyverse.org/reference/group_split.html\n",
    "\n",
    "from datar.datasets import iris\n",
    "from datar.all import *\n",
    "\n",
    "%run nb_helpers.py\n",
    "nb_header(group_split)"
   ],
   "outputs": [
    {
     "output_type": "stream",
     "name": "stderr",
     "text": [
      "[2021-06-21 14:02:51][datar][WARNING] Builtin name \"min\" has been overriden by datar.\n",
      "[2021-06-21 14:02:51][datar][WARNING] Builtin name \"max\" has been overriden by datar.\n",
      "[2021-06-21 14:02:51][datar][WARNING] Builtin name \"sum\" has been overriden by datar.\n",
      "[2021-06-21 14:02:51][datar][WARNING] Builtin name \"abs\" has been overriden by datar.\n",
      "[2021-06-21 14:02:51][datar][WARNING] Builtin name \"round\" has been overriden by datar.\n",
      "[2021-06-21 14:02:51][datar][WARNING] Builtin name \"all\" has been overriden by datar.\n",
      "[2021-06-21 14:02:51][datar][WARNING] Builtin name \"any\" has been overriden by datar.\n",
      "[2021-06-21 14:02:51][datar][WARNING] Builtin name \"re\" has been overriden by datar.\n",
      "[2021-06-21 14:02:52][datar][WARNING] Builtin name \"filter\" has been overriden by datar.\n",
      "[2021-06-21 14:02:52][datar][WARNING] Builtin name \"slice\" has been overriden by datar.\n"
     ]
    },
    {
     "output_type": "display_data",
     "data": {
      "text/plain": [
       "<IPython.core.display.HTML object>"
      ],
      "text/html": [
       "<div style=\"text-align: right; text-style: italic\">Try this notebook on <a target=\"_blank\" href=\"https://mybinder.org/v2/gh/pwwang/datar/93d069f3ca36711fc811c61dcf60e9fc3d1460a5?filepath=docs%2Fnotebooks%2Fgroup_split.ipynb\">binder</a>.</div>"
      ]
     },
     "metadata": {}
    },
    {
     "output_type": "display_data",
     "data": {
      "text/plain": [
       "<IPython.core.display.Markdown object>"
      ],
      "text/markdown": [
       "### # group_split  "
      ]
     },
     "metadata": {}
    },
    {
     "output_type": "display_data",
     "data": {
      "text/plain": [
       "<IPython.core.display.Markdown object>"
      ],
      "text/markdown": [
       "##### Get a list of data in each group\n"
      ]
     },
     "metadata": {}
    }
   ],
   "metadata": {
    "execution": {
     "iopub.execute_input": "2021-04-17T00:53:14.411000Z",
     "iopub.status.busy": "2021-04-17T00:53:14.410144Z",
     "iopub.status.idle": "2021-04-17T00:53:15.196687Z",
     "shell.execute_reply": "2021-04-17T00:53:15.195997Z"
    }
   }
  },
  {
   "cell_type": "code",
   "execution_count": 2,
   "source": [
    "ir = iris >> group_by(f.Species)\n",
    "\n",
    "list(group_split(ir))"
   ],
   "outputs": [
    {
     "output_type": "execute_result",
     "data": {
      "text/plain": [
       "[    Sepal_Length  Sepal_Width  Petal_Length  Petal_Width  Species\n",
       "        <float64>    <float64>     <float64>    <float64> <object>\n",
       " 0            5.1          3.5           1.4          0.2   setosa\n",
       " 1            4.9          3.0           1.4          0.2   setosa\n",
       " 2            4.7          3.2           1.3          0.2   setosa\n",
       " 3            4.6          3.1           1.5          0.2   setosa\n",
       " 4            5.0          3.6           1.4          0.2   setosa\n",
       " 5            5.4          3.9           1.7          0.4   setosa\n",
       " 6            4.6          3.4           1.4          0.3   setosa\n",
       " 7            5.0          3.4           1.5          0.2   setosa\n",
       " 8            4.4          2.9           1.4          0.2   setosa\n",
       " 9            4.9          3.1           1.5          0.1   setosa\n",
       " 10           5.4          3.7           1.5          0.2   setosa\n",
       " 11           4.8          3.4           1.6          0.2   setosa\n",
       " 12           4.8          3.0           1.4          0.1   setosa\n",
       " 13           4.3          3.0           1.1          0.1   setosa\n",
       " 14           5.8          4.0           1.2          0.2   setosa\n",
       " 15           5.7          4.4           1.5          0.4   setosa\n",
       " 16           5.4          3.9           1.3          0.4   setosa\n",
       " 17           5.1          3.5           1.4          0.3   setosa\n",
       " 18           5.7          3.8           1.7          0.3   setosa\n",
       " 19           5.1          3.8           1.5          0.3   setosa\n",
       " 20           5.4          3.4           1.7          0.2   setosa\n",
       " 21           5.1          3.7           1.5          0.4   setosa\n",
       " 22           4.6          3.6           1.0          0.2   setosa\n",
       " 23           5.1          3.3           1.7          0.5   setosa\n",
       " 24           4.8          3.4           1.9          0.2   setosa\n",
       " 25           5.0          3.0           1.6          0.2   setosa\n",
       " 26           5.0          3.4           1.6          0.4   setosa\n",
       " 27           5.2          3.5           1.5          0.2   setosa\n",
       " 28           5.2          3.4           1.4          0.2   setosa\n",
       " 29           4.7          3.2           1.6          0.2   setosa\n",
       " 30           4.8          3.1           1.6          0.2   setosa\n",
       " 31           5.4          3.4           1.5          0.4   setosa\n",
       " 32           5.2          4.1           1.5          0.1   setosa\n",
       " 33           5.5          4.2           1.4          0.2   setosa\n",
       " 34           4.9          3.1           1.5          0.2   setosa\n",
       " 35           5.0          3.2           1.2          0.2   setosa\n",
       " 36           5.5          3.5           1.3          0.2   setosa\n",
       " 37           4.9          3.6           1.4          0.1   setosa\n",
       " 38           4.4          3.0           1.3          0.2   setosa\n",
       " 39           5.1          3.4           1.5          0.2   setosa\n",
       " 40           5.0          3.5           1.3          0.3   setosa\n",
       " 41           4.5          2.3           1.3          0.3   setosa\n",
       " 42           4.4          3.2           1.3          0.2   setosa\n",
       " 43           5.0          3.5           1.6          0.6   setosa\n",
       " 44           5.1          3.8           1.9          0.4   setosa\n",
       " 45           4.8          3.0           1.4          0.3   setosa\n",
       " 46           5.1          3.8           1.6          0.2   setosa\n",
       " 47           4.6          3.2           1.4          0.2   setosa\n",
       " 48           5.3          3.7           1.5          0.2   setosa\n",
       " 49           5.0          3.3           1.4          0.2   setosa,\n",
       "     Sepal_Length  Sepal_Width  Petal_Length  Petal_Width     Species\n",
       "        <float64>    <float64>     <float64>    <float64>    <object>\n",
       " 50           7.0          3.2           4.7          1.4  versicolor\n",
       " 51           6.4          3.2           4.5          1.5  versicolor\n",
       " 52           6.9          3.1           4.9          1.5  versicolor\n",
       " 53           5.5          2.3           4.0          1.3  versicolor\n",
       " 54           6.5          2.8           4.6          1.5  versicolor\n",
       " 55           5.7          2.8           4.5          1.3  versicolor\n",
       " 56           6.3          3.3           4.7          1.6  versicolor\n",
       " 57           4.9          2.4           3.3          1.0  versicolor\n",
       " 58           6.6          2.9           4.6          1.3  versicolor\n",
       " 59           5.2          2.7           3.9          1.4  versicolor\n",
       " 60           5.0          2.0           3.5          1.0  versicolor\n",
       " 61           5.9          3.0           4.2          1.5  versicolor\n",
       " 62           6.0          2.2           4.0          1.0  versicolor\n",
       " 63           6.1          2.9           4.7          1.4  versicolor\n",
       " 64           5.6          2.9           3.6          1.3  versicolor\n",
       " 65           6.7          3.1           4.4          1.4  versicolor\n",
       " 66           5.6          3.0           4.5          1.5  versicolor\n",
       " 67           5.8          2.7           4.1          1.0  versicolor\n",
       " 68           6.2          2.2           4.5          1.5  versicolor\n",
       " 69           5.6          2.5           3.9          1.1  versicolor\n",
       " 70           5.9          3.2           4.8          1.8  versicolor\n",
       " 71           6.1          2.8           4.0          1.3  versicolor\n",
       " 72           6.3          2.5           4.9          1.5  versicolor\n",
       " 73           6.1          2.8           4.7          1.2  versicolor\n",
       " 74           6.4          2.9           4.3          1.3  versicolor\n",
       " 75           6.6          3.0           4.4          1.4  versicolor\n",
       " 76           6.8          2.8           4.8          1.4  versicolor\n",
       " 77           6.7          3.0           5.0          1.7  versicolor\n",
       " 78           6.0          2.9           4.5          1.5  versicolor\n",
       " 79           5.7          2.6           3.5          1.0  versicolor\n",
       " 80           5.5          2.4           3.8          1.1  versicolor\n",
       " 81           5.5          2.4           3.7          1.0  versicolor\n",
       " 82           5.8          2.7           3.9          1.2  versicolor\n",
       " 83           6.0          2.7           5.1          1.6  versicolor\n",
       " 84           5.4          3.0           4.5          1.5  versicolor\n",
       " 85           6.0          3.4           4.5          1.6  versicolor\n",
       " 86           6.7          3.1           4.7          1.5  versicolor\n",
       " 87           6.3          2.3           4.4          1.3  versicolor\n",
       " 88           5.6          3.0           4.1          1.3  versicolor\n",
       " 89           5.5          2.5           4.0          1.3  versicolor\n",
       " 90           5.5          2.6           4.4          1.2  versicolor\n",
       " 91           6.1          3.0           4.6          1.4  versicolor\n",
       " 92           5.8          2.6           4.0          1.2  versicolor\n",
       " 93           5.0          2.3           3.3          1.0  versicolor\n",
       " 94           5.6          2.7           4.2          1.3  versicolor\n",
       " 95           5.7          3.0           4.2          1.2  versicolor\n",
       " 96           5.7          2.9           4.2          1.3  versicolor\n",
       " 97           6.2          2.9           4.3          1.3  versicolor\n",
       " 98           5.1          2.5           3.0          1.1  versicolor\n",
       " 99           5.7          2.8           4.1          1.3  versicolor,\n",
       "      Sepal_Length  Sepal_Width  Petal_Length  Petal_Width    Species\n",
       "         <float64>    <float64>     <float64>    <float64>   <object>\n",
       " 100           6.3          3.3           6.0          2.5  virginica\n",
       " 101           5.8          2.7           5.1          1.9  virginica\n",
       " 102           7.1          3.0           5.9          2.1  virginica\n",
       " 103           6.3          2.9           5.6          1.8  virginica\n",
       " 104           6.5          3.0           5.8          2.2  virginica\n",
       " 105           7.6          3.0           6.6          2.1  virginica\n",
       " 106           4.9          2.5           4.5          1.7  virginica\n",
       " 107           7.3          2.9           6.3          1.8  virginica\n",
       " 108           6.7          2.5           5.8          1.8  virginica\n",
       " 109           7.2          3.6           6.1          2.5  virginica\n",
       " 110           6.5          3.2           5.1          2.0  virginica\n",
       " 111           6.4          2.7           5.3          1.9  virginica\n",
       " 112           6.8          3.0           5.5          2.1  virginica\n",
       " 113           5.7          2.5           5.0          2.0  virginica\n",
       " 114           5.8          2.8           5.1          2.4  virginica\n",
       " 115           6.4          3.2           5.3          2.3  virginica\n",
       " 116           6.5          3.0           5.5          1.8  virginica\n",
       " 117           7.7          3.8           6.7          2.2  virginica\n",
       " 118           7.7          2.6           6.9          2.3  virginica\n",
       " 119           6.0          2.2           5.0          1.5  virginica\n",
       " 120           6.9          3.2           5.7          2.3  virginica\n",
       " 121           5.6          2.8           4.9          2.0  virginica\n",
       " 122           7.7          2.8           6.7          2.0  virginica\n",
       " 123           6.3          2.7           4.9          1.8  virginica\n",
       " 124           6.7          3.3           5.7          2.1  virginica\n",
       " 125           7.2          3.2           6.0          1.8  virginica\n",
       " 126           6.2          2.8           4.8          1.8  virginica\n",
       " 127           6.1          3.0           4.9          1.8  virginica\n",
       " 128           6.4          2.8           5.6          2.1  virginica\n",
       " 129           7.2          3.0           5.8          1.6  virginica\n",
       " 130           7.4          2.8           6.1          1.9  virginica\n",
       " 131           7.9          3.8           6.4          2.0  virginica\n",
       " 132           6.4          2.8           5.6          2.2  virginica\n",
       " 133           6.3          2.8           5.1          1.5  virginica\n",
       " 134           6.1          2.6           5.6          1.4  virginica\n",
       " 135           7.7          3.0           6.1          2.3  virginica\n",
       " 136           6.3          3.4           5.6          2.4  virginica\n",
       " 137           6.4          3.1           5.5          1.8  virginica\n",
       " 138           6.0          3.0           4.8          1.8  virginica\n",
       " 139           6.9          3.1           5.4          2.1  virginica\n",
       " 140           6.7          3.1           5.6          2.4  virginica\n",
       " 141           6.9          3.1           5.1          2.3  virginica\n",
       " 142           5.8          2.7           5.1          1.9  virginica\n",
       " 143           6.8          3.2           5.9          2.3  virginica\n",
       " 144           6.7          3.3           5.7          2.5  virginica\n",
       " 145           6.7          3.0           5.2          2.3  virginica\n",
       " 146           6.3          2.5           5.0          1.9  virginica\n",
       " 147           6.5          3.0           5.2          2.0  virginica\n",
       " 148           6.2          3.4           5.4          2.3  virginica\n",
       " 149           5.9          3.0           5.1          1.8  virginica]"
      ]
     },
     "metadata": {},
     "execution_count": 2
    }
   ],
   "metadata": {
    "execution": {
     "iopub.execute_input": "2021-04-17T00:53:15.277070Z",
     "iopub.status.busy": "2021-04-17T00:53:15.230489Z",
     "iopub.status.idle": "2021-04-17T00:53:15.327531Z",
     "shell.execute_reply": "2021-04-17T00:53:15.327101Z"
    }
   }
  },
  {
   "cell_type": "code",
   "execution_count": 3,
   "source": [
    "group_keys(ir)"
   ],
   "outputs": [
    {
     "output_type": "execute_result",
     "data": {
      "text/plain": [
       "      Species\n",
       "     <object>\n",
       "0      setosa\n",
       "1  versicolor\n",
       "2   virginica"
      ],
      "text/html": [
       "<table border=\"1\" class=\"dataframe\">\n",
       "  <thead>\n",
       "    <tr style=\"text-align: right;\">\n",
       "      <th></th>\n",
       "      <th>Species</th>\n",
       "    </tr>\n",
       "  </thead>\n",
       "  <tbody>\n",
       "    <tr>\n",
       "      <th style=\"font-style: italic;\" ></th>\n",
       "      <td style=\"font-style: italic;\" >&lt;object&gt;</td>\n",
       "    </tr>\n",
       "    <tr>\n",
       "      <th>0</th>\n",
       "      <td>setosa</td>\n",
       "    </tr>\n",
       "    <tr>\n",
       "      <th>1</th>\n",
       "      <td>versicolor</td>\n",
       "    </tr>\n",
       "    <tr>\n",
       "      <th>2</th>\n",
       "      <td>virginica</td>\n",
       "    </tr>\n",
       "  </tbody>\n",
       "</table>"
      ]
     },
     "metadata": {},
     "execution_count": 3
    }
   ],
   "metadata": {
    "execution": {
     "iopub.execute_input": "2021-04-17T00:53:15.339314Z",
     "iopub.status.busy": "2021-04-17T00:53:15.338393Z",
     "iopub.status.idle": "2021-04-17T00:53:15.344599Z",
     "shell.execute_reply": "2021-04-17T00:53:15.344074Z"
    }
   }
  },
  {
   "cell_type": "code",
   "execution_count": 4,
   "source": [
    "ir = iris >> \\\n",
    "  group_by(f.Species) >> \\\n",
    "  filter(f['Sepal_Length'] > mean(f['Sepal_Length']))\n",
    "list(group_split(ir))"
   ],
   "outputs": [
    {
     "output_type": "execute_result",
     "data": {
      "text/plain": [
       "[    Sepal_Length  Sepal_Width  Petal_Length  Petal_Width  Species\n",
       "        <float64>    <float64>     <float64>    <float64> <object>\n",
       " 0            5.1          3.5           1.4          0.2   setosa\n",
       " 1            5.4          3.9           1.7          0.4   setosa\n",
       " 2            5.4          3.7           1.5          0.2   setosa\n",
       " 3            5.8          4.0           1.2          0.2   setosa\n",
       " 4            5.7          4.4           1.5          0.4   setosa\n",
       " 5            5.4          3.9           1.3          0.4   setosa\n",
       " 6            5.1          3.5           1.4          0.3   setosa\n",
       " 7            5.7          3.8           1.7          0.3   setosa\n",
       " 8            5.1          3.8           1.5          0.3   setosa\n",
       " 9            5.4          3.4           1.7          0.2   setosa\n",
       " 10           5.1          3.7           1.5          0.4   setosa\n",
       " 11           5.1          3.3           1.7          0.5   setosa\n",
       " 12           5.2          3.5           1.5          0.2   setosa\n",
       " 13           5.2          3.4           1.4          0.2   setosa\n",
       " 14           5.4          3.4           1.5          0.4   setosa\n",
       " 15           5.2          4.1           1.5          0.1   setosa\n",
       " 16           5.5          4.2           1.4          0.2   setosa\n",
       " 17           5.5          3.5           1.3          0.2   setosa\n",
       " 18           5.1          3.4           1.5          0.2   setosa\n",
       " 19           5.1          3.8           1.9          0.4   setosa\n",
       " 20           5.1          3.8           1.6          0.2   setosa\n",
       " 21           5.3          3.7           1.5          0.2   setosa,\n",
       "     Sepal_Length  Sepal_Width  Petal_Length  Petal_Width     Species\n",
       "        <float64>    <float64>     <float64>    <float64>    <object>\n",
       " 22           7.0          3.2           4.7          1.4  versicolor\n",
       " 23           6.4          3.2           4.5          1.5  versicolor\n",
       " 24           6.9          3.1           4.9          1.5  versicolor\n",
       " 25           6.5          2.8           4.6          1.5  versicolor\n",
       " 26           6.3          3.3           4.7          1.6  versicolor\n",
       " 27           6.6          2.9           4.6          1.3  versicolor\n",
       " 28           6.0          2.2           4.0          1.0  versicolor\n",
       " 29           6.1          2.9           4.7          1.4  versicolor\n",
       " 30           6.7          3.1           4.4          1.4  versicolor\n",
       " 31           6.2          2.2           4.5          1.5  versicolor\n",
       " 32           6.1          2.8           4.0          1.3  versicolor\n",
       " 33           6.3          2.5           4.9          1.5  versicolor\n",
       " 34           6.1          2.8           4.7          1.2  versicolor\n",
       " 35           6.4          2.9           4.3          1.3  versicolor\n",
       " 36           6.6          3.0           4.4          1.4  versicolor\n",
       " 37           6.8          2.8           4.8          1.4  versicolor\n",
       " 38           6.7          3.0           5.0          1.7  versicolor\n",
       " 39           6.0          2.9           4.5          1.5  versicolor\n",
       " 40           6.0          2.7           5.1          1.6  versicolor\n",
       " 41           6.0          3.4           4.5          1.6  versicolor\n",
       " 42           6.7          3.1           4.7          1.5  versicolor\n",
       " 43           6.3          2.3           4.4          1.3  versicolor\n",
       " 44           6.1          3.0           4.6          1.4  versicolor\n",
       " 45           6.2          2.9           4.3          1.3  versicolor,\n",
       "     Sepal_Length  Sepal_Width  Petal_Length  Petal_Width    Species\n",
       "        <float64>    <float64>     <float64>    <float64>   <object>\n",
       " 46           7.1          3.0           5.9          2.1  virginica\n",
       " 47           7.6          3.0           6.6          2.1  virginica\n",
       " 48           7.3          2.9           6.3          1.8  virginica\n",
       " 49           6.7          2.5           5.8          1.8  virginica\n",
       " 50           7.2          3.6           6.1          2.5  virginica\n",
       " 51           6.8          3.0           5.5          2.1  virginica\n",
       " 52           7.7          3.8           6.7          2.2  virginica\n",
       " 53           7.7          2.6           6.9          2.3  virginica\n",
       " 54           6.9          3.2           5.7          2.3  virginica\n",
       " 55           7.7          2.8           6.7          2.0  virginica\n",
       " 56           6.7          3.3           5.7          2.1  virginica\n",
       " 57           7.2          3.2           6.0          1.8  virginica\n",
       " 58           7.2          3.0           5.8          1.6  virginica\n",
       " 59           7.4          2.8           6.1          1.9  virginica\n",
       " 60           7.9          3.8           6.4          2.0  virginica\n",
       " 61           7.7          3.0           6.1          2.3  virginica\n",
       " 62           6.9          3.1           5.4          2.1  virginica\n",
       " 63           6.7          3.1           5.6          2.4  virginica\n",
       " 64           6.9          3.1           5.1          2.3  virginica\n",
       " 65           6.8          3.2           5.9          2.3  virginica\n",
       " 66           6.7          3.3           5.7          2.5  virginica\n",
       " 67           6.7          3.0           5.2          2.3  virginica]"
      ]
     },
     "metadata": {},
     "execution_count": 4
    }
   ],
   "metadata": {
    "execution": {
     "iopub.execute_input": "2021-04-17T00:53:15.378566Z",
     "iopub.status.busy": "2021-04-17T00:53:15.377805Z",
     "iopub.status.idle": "2021-04-17T00:53:15.439702Z",
     "shell.execute_reply": "2021-04-17T00:53:15.439131Z"
    }
   }
  },
  {
   "cell_type": "code",
   "execution_count": 5,
   "source": [
    "group_keys(ir)"
   ],
   "outputs": [
    {
     "output_type": "execute_result",
     "data": {
      "text/plain": [
       "      Species\n",
       "     <object>\n",
       "0      setosa\n",
       "1  versicolor\n",
       "2   virginica"
      ],
      "text/html": [
       "<table border=\"1\" class=\"dataframe\">\n",
       "  <thead>\n",
       "    <tr style=\"text-align: right;\">\n",
       "      <th></th>\n",
       "      <th>Species</th>\n",
       "    </tr>\n",
       "  </thead>\n",
       "  <tbody>\n",
       "    <tr>\n",
       "      <th style=\"font-style: italic;\" ></th>\n",
       "      <td style=\"font-style: italic;\" >&lt;object&gt;</td>\n",
       "    </tr>\n",
       "    <tr>\n",
       "      <th>0</th>\n",
       "      <td>setosa</td>\n",
       "    </tr>\n",
       "    <tr>\n",
       "      <th>1</th>\n",
       "      <td>versicolor</td>\n",
       "    </tr>\n",
       "    <tr>\n",
       "      <th>2</th>\n",
       "      <td>virginica</td>\n",
       "    </tr>\n",
       "  </tbody>\n",
       "</table>"
      ]
     },
     "metadata": {},
     "execution_count": 5
    }
   ],
   "metadata": {
    "execution": {
     "iopub.execute_input": "2021-04-17T00:53:15.449188Z",
     "iopub.status.busy": "2021-04-17T00:53:15.448550Z",
     "iopub.status.idle": "2021-04-17T00:53:15.452335Z",
     "shell.execute_reply": "2021-04-17T00:53:15.452741Z"
    }
   }
  },
  {
   "cell_type": "code",
   "execution_count": 6,
   "source": [
    "list(iris >> group_split(f.Species))"
   ],
   "outputs": [
    {
     "output_type": "execute_result",
     "data": {
      "text/plain": [
       "[    Sepal_Length  Sepal_Width  Petal_Length  Petal_Width  Species\n",
       "        <float64>    <float64>     <float64>    <float64> <object>\n",
       " 0            5.1          3.5           1.4          0.2   setosa\n",
       " 1            4.9          3.0           1.4          0.2   setosa\n",
       " 2            4.7          3.2           1.3          0.2   setosa\n",
       " 3            4.6          3.1           1.5          0.2   setosa\n",
       " 4            5.0          3.6           1.4          0.2   setosa\n",
       " 5            5.4          3.9           1.7          0.4   setosa\n",
       " 6            4.6          3.4           1.4          0.3   setosa\n",
       " 7            5.0          3.4           1.5          0.2   setosa\n",
       " 8            4.4          2.9           1.4          0.2   setosa\n",
       " 9            4.9          3.1           1.5          0.1   setosa\n",
       " 10           5.4          3.7           1.5          0.2   setosa\n",
       " 11           4.8          3.4           1.6          0.2   setosa\n",
       " 12           4.8          3.0           1.4          0.1   setosa\n",
       " 13           4.3          3.0           1.1          0.1   setosa\n",
       " 14           5.8          4.0           1.2          0.2   setosa\n",
       " 15           5.7          4.4           1.5          0.4   setosa\n",
       " 16           5.4          3.9           1.3          0.4   setosa\n",
       " 17           5.1          3.5           1.4          0.3   setosa\n",
       " 18           5.7          3.8           1.7          0.3   setosa\n",
       " 19           5.1          3.8           1.5          0.3   setosa\n",
       " 20           5.4          3.4           1.7          0.2   setosa\n",
       " 21           5.1          3.7           1.5          0.4   setosa\n",
       " 22           4.6          3.6           1.0          0.2   setosa\n",
       " 23           5.1          3.3           1.7          0.5   setosa\n",
       " 24           4.8          3.4           1.9          0.2   setosa\n",
       " 25           5.0          3.0           1.6          0.2   setosa\n",
       " 26           5.0          3.4           1.6          0.4   setosa\n",
       " 27           5.2          3.5           1.5          0.2   setosa\n",
       " 28           5.2          3.4           1.4          0.2   setosa\n",
       " 29           4.7          3.2           1.6          0.2   setosa\n",
       " 30           4.8          3.1           1.6          0.2   setosa\n",
       " 31           5.4          3.4           1.5          0.4   setosa\n",
       " 32           5.2          4.1           1.5          0.1   setosa\n",
       " 33           5.5          4.2           1.4          0.2   setosa\n",
       " 34           4.9          3.1           1.5          0.2   setosa\n",
       " 35           5.0          3.2           1.2          0.2   setosa\n",
       " 36           5.5          3.5           1.3          0.2   setosa\n",
       " 37           4.9          3.6           1.4          0.1   setosa\n",
       " 38           4.4          3.0           1.3          0.2   setosa\n",
       " 39           5.1          3.4           1.5          0.2   setosa\n",
       " 40           5.0          3.5           1.3          0.3   setosa\n",
       " 41           4.5          2.3           1.3          0.3   setosa\n",
       " 42           4.4          3.2           1.3          0.2   setosa\n",
       " 43           5.0          3.5           1.6          0.6   setosa\n",
       " 44           5.1          3.8           1.9          0.4   setosa\n",
       " 45           4.8          3.0           1.4          0.3   setosa\n",
       " 46           5.1          3.8           1.6          0.2   setosa\n",
       " 47           4.6          3.2           1.4          0.2   setosa\n",
       " 48           5.3          3.7           1.5          0.2   setosa\n",
       " 49           5.0          3.3           1.4          0.2   setosa,\n",
       "     Sepal_Length  Sepal_Width  Petal_Length  Petal_Width     Species\n",
       "        <float64>    <float64>     <float64>    <float64>    <object>\n",
       " 50           7.0          3.2           4.7          1.4  versicolor\n",
       " 51           6.4          3.2           4.5          1.5  versicolor\n",
       " 52           6.9          3.1           4.9          1.5  versicolor\n",
       " 53           5.5          2.3           4.0          1.3  versicolor\n",
       " 54           6.5          2.8           4.6          1.5  versicolor\n",
       " 55           5.7          2.8           4.5          1.3  versicolor\n",
       " 56           6.3          3.3           4.7          1.6  versicolor\n",
       " 57           4.9          2.4           3.3          1.0  versicolor\n",
       " 58           6.6          2.9           4.6          1.3  versicolor\n",
       " 59           5.2          2.7           3.9          1.4  versicolor\n",
       " 60           5.0          2.0           3.5          1.0  versicolor\n",
       " 61           5.9          3.0           4.2          1.5  versicolor\n",
       " 62           6.0          2.2           4.0          1.0  versicolor\n",
       " 63           6.1          2.9           4.7          1.4  versicolor\n",
       " 64           5.6          2.9           3.6          1.3  versicolor\n",
       " 65           6.7          3.1           4.4          1.4  versicolor\n",
       " 66           5.6          3.0           4.5          1.5  versicolor\n",
       " 67           5.8          2.7           4.1          1.0  versicolor\n",
       " 68           6.2          2.2           4.5          1.5  versicolor\n",
       " 69           5.6          2.5           3.9          1.1  versicolor\n",
       " 70           5.9          3.2           4.8          1.8  versicolor\n",
       " 71           6.1          2.8           4.0          1.3  versicolor\n",
       " 72           6.3          2.5           4.9          1.5  versicolor\n",
       " 73           6.1          2.8           4.7          1.2  versicolor\n",
       " 74           6.4          2.9           4.3          1.3  versicolor\n",
       " 75           6.6          3.0           4.4          1.4  versicolor\n",
       " 76           6.8          2.8           4.8          1.4  versicolor\n",
       " 77           6.7          3.0           5.0          1.7  versicolor\n",
       " 78           6.0          2.9           4.5          1.5  versicolor\n",
       " 79           5.7          2.6           3.5          1.0  versicolor\n",
       " 80           5.5          2.4           3.8          1.1  versicolor\n",
       " 81           5.5          2.4           3.7          1.0  versicolor\n",
       " 82           5.8          2.7           3.9          1.2  versicolor\n",
       " 83           6.0          2.7           5.1          1.6  versicolor\n",
       " 84           5.4          3.0           4.5          1.5  versicolor\n",
       " 85           6.0          3.4           4.5          1.6  versicolor\n",
       " 86           6.7          3.1           4.7          1.5  versicolor\n",
       " 87           6.3          2.3           4.4          1.3  versicolor\n",
       " 88           5.6          3.0           4.1          1.3  versicolor\n",
       " 89           5.5          2.5           4.0          1.3  versicolor\n",
       " 90           5.5          2.6           4.4          1.2  versicolor\n",
       " 91           6.1          3.0           4.6          1.4  versicolor\n",
       " 92           5.8          2.6           4.0          1.2  versicolor\n",
       " 93           5.0          2.3           3.3          1.0  versicolor\n",
       " 94           5.6          2.7           4.2          1.3  versicolor\n",
       " 95           5.7          3.0           4.2          1.2  versicolor\n",
       " 96           5.7          2.9           4.2          1.3  versicolor\n",
       " 97           6.2          2.9           4.3          1.3  versicolor\n",
       " 98           5.1          2.5           3.0          1.1  versicolor\n",
       " 99           5.7          2.8           4.1          1.3  versicolor,\n",
       "      Sepal_Length  Sepal_Width  Petal_Length  Petal_Width    Species\n",
       "         <float64>    <float64>     <float64>    <float64>   <object>\n",
       " 100           6.3          3.3           6.0          2.5  virginica\n",
       " 101           5.8          2.7           5.1          1.9  virginica\n",
       " 102           7.1          3.0           5.9          2.1  virginica\n",
       " 103           6.3          2.9           5.6          1.8  virginica\n",
       " 104           6.5          3.0           5.8          2.2  virginica\n",
       " 105           7.6          3.0           6.6          2.1  virginica\n",
       " 106           4.9          2.5           4.5          1.7  virginica\n",
       " 107           7.3          2.9           6.3          1.8  virginica\n",
       " 108           6.7          2.5           5.8          1.8  virginica\n",
       " 109           7.2          3.6           6.1          2.5  virginica\n",
       " 110           6.5          3.2           5.1          2.0  virginica\n",
       " 111           6.4          2.7           5.3          1.9  virginica\n",
       " 112           6.8          3.0           5.5          2.1  virginica\n",
       " 113           5.7          2.5           5.0          2.0  virginica\n",
       " 114           5.8          2.8           5.1          2.4  virginica\n",
       " 115           6.4          3.2           5.3          2.3  virginica\n",
       " 116           6.5          3.0           5.5          1.8  virginica\n",
       " 117           7.7          3.8           6.7          2.2  virginica\n",
       " 118           7.7          2.6           6.9          2.3  virginica\n",
       " 119           6.0          2.2           5.0          1.5  virginica\n",
       " 120           6.9          3.2           5.7          2.3  virginica\n",
       " 121           5.6          2.8           4.9          2.0  virginica\n",
       " 122           7.7          2.8           6.7          2.0  virginica\n",
       " 123           6.3          2.7           4.9          1.8  virginica\n",
       " 124           6.7          3.3           5.7          2.1  virginica\n",
       " 125           7.2          3.2           6.0          1.8  virginica\n",
       " 126           6.2          2.8           4.8          1.8  virginica\n",
       " 127           6.1          3.0           4.9          1.8  virginica\n",
       " 128           6.4          2.8           5.6          2.1  virginica\n",
       " 129           7.2          3.0           5.8          1.6  virginica\n",
       " 130           7.4          2.8           6.1          1.9  virginica\n",
       " 131           7.9          3.8           6.4          2.0  virginica\n",
       " 132           6.4          2.8           5.6          2.2  virginica\n",
       " 133           6.3          2.8           5.1          1.5  virginica\n",
       " 134           6.1          2.6           5.6          1.4  virginica\n",
       " 135           7.7          3.0           6.1          2.3  virginica\n",
       " 136           6.3          3.4           5.6          2.4  virginica\n",
       " 137           6.4          3.1           5.5          1.8  virginica\n",
       " 138           6.0          3.0           4.8          1.8  virginica\n",
       " 139           6.9          3.1           5.4          2.1  virginica\n",
       " 140           6.7          3.1           5.6          2.4  virginica\n",
       " 141           6.9          3.1           5.1          2.3  virginica\n",
       " 142           5.8          2.7           5.1          1.9  virginica\n",
       " 143           6.8          3.2           5.9          2.3  virginica\n",
       " 144           6.7          3.3           5.7          2.5  virginica\n",
       " 145           6.7          3.0           5.2          2.3  virginica\n",
       " 146           6.3          2.5           5.0          1.9  virginica\n",
       " 147           6.5          3.0           5.2          2.0  virginica\n",
       " 148           6.2          3.4           5.4          2.3  virginica\n",
       " 149           5.9          3.0           5.1          1.8  virginica]"
      ]
     },
     "metadata": {},
     "execution_count": 6
    }
   ],
   "metadata": {
    "execution": {
     "iopub.execute_input": "2021-04-17T00:53:15.497765Z",
     "iopub.status.busy": "2021-04-17T00:53:15.468487Z",
     "iopub.status.idle": "2021-04-17T00:53:15.501900Z",
     "shell.execute_reply": "2021-04-17T00:53:15.501233Z"
    }
   }
  },
  {
   "cell_type": "code",
   "execution_count": 7,
   "source": [
    "# group_keys(...) deprecated in dplyr\n",
    "iris >> group_by(f.Species) >> group_keys()"
   ],
   "outputs": [
    {
     "output_type": "execute_result",
     "data": {
      "text/plain": [
       "      Species\n",
       "     <object>\n",
       "0      setosa\n",
       "1  versicolor\n",
       "2   virginica"
      ],
      "text/html": [
       "<table border=\"1\" class=\"dataframe\">\n",
       "  <thead>\n",
       "    <tr style=\"text-align: right;\">\n",
       "      <th></th>\n",
       "      <th>Species</th>\n",
       "    </tr>\n",
       "  </thead>\n",
       "  <tbody>\n",
       "    <tr>\n",
       "      <th style=\"font-style: italic;\" ></th>\n",
       "      <td style=\"font-style: italic;\" >&lt;object&gt;</td>\n",
       "    </tr>\n",
       "    <tr>\n",
       "      <th>0</th>\n",
       "      <td>setosa</td>\n",
       "    </tr>\n",
       "    <tr>\n",
       "      <th>1</th>\n",
       "      <td>versicolor</td>\n",
       "    </tr>\n",
       "    <tr>\n",
       "      <th>2</th>\n",
       "      <td>virginica</td>\n",
       "    </tr>\n",
       "  </tbody>\n",
       "</table>"
      ]
     },
     "metadata": {},
     "execution_count": 7
    }
   ],
   "metadata": {
    "execution": {
     "iopub.execute_input": "2021-04-17T00:53:15.515244Z",
     "iopub.status.busy": "2021-04-17T00:53:15.508066Z",
     "iopub.status.idle": "2021-04-17T00:53:15.526579Z",
     "shell.execute_reply": "2021-04-17T00:53:15.527125Z"
    }
   }
  },
  {
   "cell_type": "code",
   "execution_count": 10,
   "source": [
    "iris >> group_by(f.Species) >> group_keys() >> rowwise() >> group_split()"
   ],
   "outputs": [
    {
     "output_type": "execute_result",
     "data": {
      "text/plain": [
       "<generator object group_split_impl at 0x7f2d0d596bd0>"
      ]
     },
     "metadata": {},
     "execution_count": 10
    }
   ],
   "metadata": {
    "execution": {
     "iopub.execute_input": "2021-04-17T00:53:15.550557Z",
     "iopub.status.busy": "2021-04-17T00:53:15.549644Z",
     "iopub.status.idle": "2021-04-17T00:53:15.554628Z",
     "shell.execute_reply": "2021-04-17T00:53:15.554047Z"
    }
   }
  },
  {
   "cell_type": "code",
   "execution_count": 11,
   "source": [
    "list(_)"
   ],
   "outputs": [
    {
     "output_type": "execute_result",
     "data": {
      "text/plain": [
       "[   Species\n",
       "   <object>\n",
       " 0   setosa,\n",
       "       Species\n",
       "      <object>\n",
       " 1  versicolor,\n",
       "      Species\n",
       "     <object>\n",
       " 2  virginica]"
      ]
     },
     "metadata": {},
     "execution_count": 11
    }
   ],
   "metadata": {}
  },
  {
   "cell_type": "code",
   "execution_count": null,
   "source": [],
   "outputs": [],
   "metadata": {}
  }
 ],
 "metadata": {
  "kernelspec": {
   "display_name": "Python 3",
   "language": "python",
   "name": "python3"
  },
  "language_info": {
   "codemirror_mode": {
    "name": "ipython",
    "version": 3
   },
   "file_extension": ".py",
   "mimetype": "text/x-python",
   "name": "python",
   "nbconvert_exporter": "python",
   "pygments_lexer": "ipython3",
   "version": "3.7.8"
  }
 },
 "nbformat": 4,
 "nbformat_minor": 5
}