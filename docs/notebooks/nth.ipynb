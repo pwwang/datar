{
 "cells": [
  {
   "cell_type": "code",
   "execution_count": 1,
   "id": "respiratory-velvet",
   "metadata": {
    "execution": {
     "iopub.execute_input": "2021-07-16T22:28:04.461490Z",
     "iopub.status.busy": "2021-07-16T22:28:04.459178Z",
     "iopub.status.idle": "2021-07-16T22:28:05.559045Z",
     "shell.execute_reply": "2021-07-16T22:28:05.559494Z"
    }
   },
   "outputs": [
    {
     "data": {
      "text/html": [
       "<div style=\"text-align: right; text-style: italic\">Try this notebook on <a target=\"_blank\" href=\"https://mybinder.org/v2/gh/pwwang/datar/93d069f3ca36711fc811c61dcf60e9fc3d1460a5?filepath=docs%2Fnotebooks%2Fnth.ipynb\">binder</a>.</div>"
      ],
      "text/plain": [
       "<IPython.core.display.HTML object>"
      ]
     },
     "metadata": {},
     "output_type": "display_data"
    },
    {
     "data": {
      "text/markdown": [
       "### # nth  "
      ],
      "text/plain": [
       "<IPython.core.display.Markdown object>"
      ]
     },
     "metadata": {},
     "output_type": "display_data"
    },
    {
     "data": {
      "text/markdown": [
       "##### Get the nth element of x\n",
       "\n",
       "See https://dplyr.tidyverse.org/reference/nth.html  \n",
       "\n",
       "##### Args:\n",
       "&emsp;&emsp;`x`: A collection of elements  \n",
       "&emsp;&emsp;`n`: The order of the elements.  \n",
       "&emsp;&emsp;`order_by`: An optional vector used to determine the order  \n",
       "&emsp;&emsp;`default`: A default value to use if the position does not exist  \n",
       "&emsp;&emsp;&emsp;&emsp;in the input.  \n",
       "\n",
       "&emsp;&emsp;`base0_`: Whether `n` is 0-based or not.  \n",
       "\n",
       "##### Returns:\n",
       "&emsp;&emsp;A single element of x at `n'th`  \n"
      ],
      "text/plain": [
       "<IPython.core.display.Markdown object>"
      ]
     },
     "metadata": {},
     "output_type": "display_data"
    },
    {
     "data": {
      "text/markdown": [
       "### # first  "
      ],
      "text/plain": [
       "<IPython.core.display.Markdown object>"
      ]
     },
     "metadata": {},
     "output_type": "display_data"
    },
    {
     "data": {
      "text/markdown": [
       "##### Get the first element of x\n"
      ],
      "text/plain": [
       "<IPython.core.display.Markdown object>"
      ]
     },
     "metadata": {},
     "output_type": "display_data"
    },
    {
     "data": {
      "text/markdown": [
       "### # last  "
      ],
      "text/plain": [
       "<IPython.core.display.Markdown object>"
      ]
     },
     "metadata": {},
     "output_type": "display_data"
    },
    {
     "data": {
      "text/markdown": [
       "##### Get the last element of x\n"
      ],
      "text/plain": [
       "<IPython.core.display.Markdown object>"
      ]
     },
     "metadata": {},
     "output_type": "display_data"
    }
   ],
   "source": [
    "# https://dplyr.tidyverse.org/reference/nth.html\n",
    "\n",
    "from datar.all import nth, first, last\n",
    "\n",
    "%run nb_helpers.py\n",
    "nb_header(nth, first, last)"
   ]
  },
  {
   "cell_type": "code",
   "execution_count": 2,
   "id": "suspected-addiction",
   "metadata": {
    "execution": {
     "iopub.execute_input": "2021-07-16T22:28:05.566582Z",
     "iopub.status.busy": "2021-07-16T22:28:05.565966Z",
     "iopub.status.idle": "2021-07-16T22:28:05.581974Z",
     "shell.execute_reply": "2021-07-16T22:28:05.582386Z"
    }
   },
   "outputs": [
    {
     "data": {
      "text/plain": [
       "0"
      ]
     },
     "execution_count": 1,
     "metadata": {},
     "output_type": "execute_result"
    }
   ],
   "source": [
    "x = range(10)\n",
    "y = range(9, -1, -1)\n",
    "\n",
    "first(x)"
   ]
  },
  {
   "cell_type": "code",
   "execution_count": 3,
   "id": "rural-rubber",
   "metadata": {
    "execution": {
     "iopub.execute_input": "2021-07-16T22:28:05.593935Z",
     "iopub.status.busy": "2021-07-16T22:28:05.593386Z",
     "iopub.status.idle": "2021-07-16T22:28:05.610636Z",
     "shell.execute_reply": "2021-07-16T22:28:05.611118Z"
    }
   },
   "outputs": [
    {
     "data": {
      "text/plain": [
       "0"
      ]
     },
     "execution_count": 1,
     "metadata": {},
     "output_type": "execute_result"
    }
   ],
   "source": [
    "last(y)"
   ]
  },
  {
   "cell_type": "code",
   "execution_count": 4,
   "id": "developing-fossil",
   "metadata": {
    "execution": {
     "iopub.execute_input": "2021-07-16T22:28:05.627629Z",
     "iopub.status.busy": "2021-07-16T22:28:05.626943Z",
     "iopub.status.idle": "2021-07-16T22:28:05.643278Z",
     "shell.execute_reply": "2021-07-16T22:28:05.643642Z"
    }
   },
   "outputs": [
    {
     "data": {
      "text/plain": [
       "0"
      ]
     },
     "execution_count": 1,
     "metadata": {},
     "output_type": "execute_result"
    }
   ],
   "source": [
    "nth(x, 1)"
   ]
  },
  {
   "cell_type": "code",
   "execution_count": 5,
   "id": "three-assignment",
   "metadata": {
    "execution": {
     "iopub.execute_input": "2021-07-16T22:28:05.653602Z",
     "iopub.status.busy": "2021-07-16T22:28:05.652989Z",
     "iopub.status.idle": "2021-07-16T22:28:05.670826Z",
     "shell.execute_reply": "2021-07-16T22:28:05.671225Z"
    }
   },
   "outputs": [
    {
     "data": {
      "text/plain": [
       "4"
      ]
     },
     "execution_count": 1,
     "metadata": {},
     "output_type": "execute_result"
    }
   ],
   "source": [
    "nth(x, 5)"
   ]
  },
  {
   "cell_type": "code",
   "execution_count": 6,
   "id": "approximate-indonesia",
   "metadata": {
    "execution": {
     "iopub.execute_input": "2021-07-16T22:28:05.684961Z",
     "iopub.status.busy": "2021-07-16T22:28:05.684355Z",
     "iopub.status.idle": "2021-07-16T22:28:05.700891Z",
     "shell.execute_reply": "2021-07-16T22:28:05.701266Z"
    }
   },
   "outputs": [
    {
     "data": {
      "text/plain": [
       "8"
      ]
     },
     "execution_count": 1,
     "metadata": {},
     "output_type": "execute_result"
    }
   ],
   "source": [
    "nth(x, -2)"
   ]
  },
  {
   "cell_type": "code",
   "execution_count": 7,
   "id": "handy-stack",
   "metadata": {
    "execution": {
     "iopub.execute_input": "2021-07-16T22:28:05.716492Z",
     "iopub.status.busy": "2021-07-16T22:28:05.713952Z",
     "iopub.status.idle": "2021-07-16T22:28:05.728899Z",
     "shell.execute_reply": "2021-07-16T22:28:05.729314Z"
    }
   },
   "outputs": [
    {
     "data": {
      "text/plain": [
       "nan"
      ]
     },
     "execution_count": 1,
     "metadata": {},
     "output_type": "execute_result"
    }
   ],
   "source": [
    "nth(x, 11)"
   ]
  },
  {
   "cell_type": "code",
   "execution_count": 8,
   "id": "everyday-kinase",
   "metadata": {
    "execution": {
     "iopub.execute_input": "2021-07-16T22:28:05.739057Z",
     "iopub.status.busy": "2021-07-16T22:28:05.738002Z",
     "iopub.status.idle": "2021-07-16T22:28:05.757661Z",
     "shell.execute_reply": "2021-07-16T22:28:05.758059Z"
    }
   },
   "outputs": [
    {
     "data": {
      "text/plain": [
       "9"
      ]
     },
     "execution_count": 1,
     "metadata": {},
     "output_type": "execute_result"
    }
   ],
   "source": [
    "last(x)"
   ]
  },
  {
   "cell_type": "code",
   "execution_count": 9,
   "id": "remarkable-remainder",
   "metadata": {
    "execution": {
     "iopub.execute_input": "2021-07-16T22:28:05.770340Z",
     "iopub.status.busy": "2021-07-16T22:28:05.769772Z",
     "iopub.status.idle": "2021-07-16T22:28:05.785794Z",
     "shell.execute_reply": "2021-07-16T22:28:05.786195Z"
    }
   },
   "outputs": [
    {
     "data": {
      "text/plain": [
       "0"
      ]
     },
     "execution_count": 1,
     "metadata": {},
     "output_type": "execute_result"
    }
   ],
   "source": [
    "last(x, y)"
   ]
  },
  {
   "cell_type": "code",
   "execution_count": 10,
   "id": "advanced-stations",
   "metadata": {
    "execution": {
     "iopub.execute_input": "2021-07-16T22:28:05.798241Z",
     "iopub.status.busy": "2021-07-16T22:28:05.797643Z",
     "iopub.status.idle": "2021-07-16T22:28:05.810371Z",
     "shell.execute_reply": "2021-07-16T22:28:05.810843Z"
    }
   },
   "outputs": [
    {
     "data": {
      "text/plain": [
       "nan"
      ]
     },
     "execution_count": 1,
     "metadata": {},
     "output_type": "execute_result"
    }
   ],
   "source": [
    "# These functions always return a single value\n",
    "first(None)"
   ]
  }
 ],
 "metadata": {
  "kernelspec": {
   "display_name": "Python 3",
   "language": "python",
   "name": "python3"
  },
  "language_info": {
   "codemirror_mode": {
    "name": "ipython",
    "version": 3
   },
   "file_extension": ".py",
   "mimetype": "text/x-python",
   "name": "python",
   "nbconvert_exporter": "python",
   "pygments_lexer": "ipython3",
   "version": "3.7.8"
  }
 },
 "nbformat": 4,
 "nbformat_minor": 5
}
