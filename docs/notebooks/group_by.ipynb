{
 "cells": [
  {
   "cell_type": "code",
   "execution_count": 1,
   "metadata": {
    "execution": {
     "iopub.execute_input": "2021-04-17T00:53:04.329293Z",
     "iopub.status.busy": "2021-04-17T00:53:04.328438Z",
     "iopub.status.idle": "2021-04-17T00:53:05.181788Z",
     "shell.execute_reply": "2021-04-17T00:53:05.181190Z"
    }
   },
   "outputs": [
    {
     "output_type": "display_data",
     "data": {
      "text/plain": "<IPython.core.display.HTML object>",
      "text/html": "<div style=\"text-align: right; text-style: italic\">Try this notebook on <a target=\"_blank\" href=\"https://mybinder.org/v2/gh/pwwang/datar/93d069f3ca36711fc811c61dcf60e9fc3d1460a5?filepath=docs%2Fnotebooks%2Fgroup_by.ipynb\">binder</a>.</div>"
     },
     "metadata": {}
    },
    {
     "output_type": "display_data",
     "data": {
      "text/plain": "<IPython.core.display.Markdown object>",
      "text/markdown": "### # group_by  "
     },
     "metadata": {}
    },
    {
     "output_type": "display_data",
     "data": {
      "text/plain": "<IPython.core.display.Markdown object>",
      "text/markdown": "##### Takes an existing tbl and converts it into a grouped tbl where\noperations are performed \"by group\"  \n\nSee https://dplyr.tidyverse.org/reference/group_by.html  \n\nNote that this does not return `pandas.DataFrameGroupBy` object but a  \n`datar.core.grouped.DataFrameGroupBy` object, which is a subclass of  \n`DataFrame`. This way, it will be easier to implement the APIs that related  \nto grouped data.  \n\n##### Args:\n&emsp;&emsp;`_data`: The dataframe  \n&emsp;&emsp;`_add`: When False, the default, `group_by()` will override  \n&emsp;&emsp;&emsp;&emsp;existing groups. To add to the existing groups, use `_add=True`.  \n\n&emsp;&emsp;`_drop`: Drop groups formed by factor levels that don't appear in the  \n&emsp;&emsp;&emsp;&emsp;data? The default is True except when `_data` has been previously  \n&emsp;&emsp;&emsp;&emsp;grouped with `_drop=False`.  \n\n&emsp;&emsp;`*args`: variables or computations to group by.  \n&emsp;&emsp;&emsp;&emsp;Note that columns here cannot be selected by indexes. As they are  \n&emsp;&emsp;&emsp;&emsp;treated as computations to be added as new columns.  \n&emsp;&emsp;&emsp;&emsp;So no `_base0` argument is supported.  \n\n&emsp;&emsp;`**kwargs`: Extra variables to group the dataframe  \n\n##### Return:\n&emsp;&emsp;A `datar.core.grouped.DataFrameGroupBy` object  \n"
     },
     "metadata": {}
    },
    {
     "output_type": "display_data",
     "data": {
      "text/plain": "<IPython.core.display.Markdown object>",
      "text/markdown": "### # ungroup  "
     },
     "metadata": {}
    },
    {
     "output_type": "display_data",
     "data": {
      "text/plain": "<IPython.core.display.Markdown object>",
      "text/markdown": "##### Ungroup a grouped data\n\nSee https://dplyr.tidyverse.org/reference/group_by.html  \n\n##### Args:\n&emsp;&emsp;`x`: The data frame  \n&emsp;&emsp;`*cols`: Variables to remove from the grouping variables.  \n&emsp;&emsp;`_base0`: If columns are selected with indexes, whether they are 0-based.  \n&emsp;&emsp;&emsp;&emsp;If not given, will use `datar.base.get_option('index.base.0')`  \n\n##### Returns:\n&emsp;&emsp;A data frame with selected columns removed from the grouping variables.  \n"
     },
     "metadata": {}
    }
   ],
   "source": [
    "# https://dplyr.tidyverse.org/reference/group_by.html\n",
    "from datar.datasets import mtcars\n",
    "from datar.all import *\n",
    "\n",
    "%run nb_helpers.py\n",
    "nb_header(group_by, ungroup)"
   ]
  },
  {
   "cell_type": "code",
   "execution_count": 2,
   "metadata": {
    "execution": {
     "iopub.execute_input": "2021-04-17T00:53:05.186084Z",
     "iopub.status.busy": "2021-04-17T00:53:05.185561Z",
     "iopub.status.idle": "2021-04-17T00:53:05.223110Z",
     "shell.execute_reply": "2021-04-17T00:53:05.223484Z"
    }
   },
   "outputs": [
    {
     "output_type": "execute_result",
     "data": {
      "text/plain": [
       "     mpg  cyl   disp   hp  drat     wt   qsec  vs  am  gear  carb\n",
       "0   21.0    6  160.0  110  3.90  2.620  16.46   0   1     4     4\n",
       "1   21.0    6  160.0  110  3.90  2.875  17.02   0   1     4     4\n",
       "2   22.8    4  108.0   93  3.85  2.320  18.61   1   1     4     1\n",
       "3   21.4    6  258.0  110  3.08  3.215  19.44   1   0     3     1\n",
       "4   18.7    8  360.0  175  3.15  3.440  17.02   0   0     3     2\n",
       "5   18.1    6  225.0  105  2.76  3.460  20.22   1   0     3     1\n",
       "6   14.3    8  360.0  245  3.21  3.570  15.84   0   0     3     4\n",
       "7   24.4    4  146.7   62  3.69  3.190  20.00   1   0     4     2\n",
       "8   22.8    4  140.8   95  3.92  3.150  22.90   1   0     4     2\n",
       "9   19.2    6  167.6  123  3.92  3.440  18.30   1   0     4     4\n",
       "10  17.8    6  167.6  123  3.92  3.440  18.90   1   0     4     4\n",
       "11  16.4    8  275.8  180  3.07  4.070  17.40   0   0     3     3\n",
       "12  17.3    8  275.8  180  3.07  3.730  17.60   0   0     3     3\n",
       "13  15.2    8  275.8  180  3.07  3.780  18.00   0   0     3     3\n",
       "14  10.4    8  472.0  205  2.93  5.250  17.98   0   0     3     4\n",
       "15  10.4    8  460.0  215  3.00  5.424  17.82   0   0     3     4\n",
       "16  14.7    8  440.0  230  3.23  5.345  17.42   0   0     3     4\n",
       "17  32.4    4   78.7   66  4.08  2.200  19.47   1   1     4     1\n",
       "18  30.4    4   75.7   52  4.93  1.615  18.52   1   1     4     2\n",
       "19  33.9    4   71.1   65  4.22  1.835  19.90   1   1     4     1\n",
       "20  21.5    4  120.1   97  3.70  2.465  20.01   1   0     3     1\n",
       "21  15.5    8  318.0  150  2.76  3.520  16.87   0   0     3     2\n",
       "22  15.2    8  304.0  150  3.15  3.435  17.30   0   0     3     2\n",
       "23  13.3    8  350.0  245  3.73  3.840  15.41   0   0     3     4\n",
       "24  19.2    8  400.0  175  3.08  3.845  17.05   0   0     3     2\n",
       "25  27.3    4   79.0   66  4.08  1.935  18.90   1   1     4     1\n",
       "26  26.0    4  120.3   91  4.43  2.140  16.70   0   1     5     2\n",
       "27  30.4    4   95.1  113  3.77  1.513  16.90   1   1     5     2\n",
       "28  15.8    8  351.0  264  4.22  3.170  14.50   0   1     5     4\n",
       "29  19.7    6  145.0  175  3.62  2.770  15.50   0   1     5     6\n",
       "30  15.0    8  301.0  335  3.54  3.570  14.60   0   1     5     8\n",
       "31  21.4    4  121.0  109  4.11  2.780  18.60   1   1     4     2\n",
       "[Groups: ['cyl'] (n=3)]"
      ],
      "text/html": "<div>\n<style scoped>\n    .dataframe tbody tr th:only-of-type {\n        vertical-align: middle;\n    }\n\n    .dataframe tbody tr th {\n        vertical-align: top;\n    }\n\n    .dataframe thead th {\n        text-align: right;\n    }\n</style>\n<table border=\"1\" class=\"dataframe\">\n  <thead>\n    <tr style=\"text-align: right;\">\n      <th></th>\n      <th>mpg</th>\n      <th>cyl</th>\n      <th>disp</th>\n      <th>hp</th>\n      <th>drat</th>\n      <th>wt</th>\n      <th>qsec</th>\n      <th>vs</th>\n      <th>am</th>\n      <th>gear</th>\n      <th>carb</th>\n    </tr>\n  </thead>\n  <tbody>\n    <tr>\n      <th>0</th>\n      <td>21.0</td>\n      <td>6</td>\n      <td>160.0</td>\n      <td>110</td>\n      <td>3.90</td>\n      <td>2.620</td>\n      <td>16.46</td>\n      <td>0</td>\n      <td>1</td>\n      <td>4</td>\n      <td>4</td>\n    </tr>\n    <tr>\n      <th>1</th>\n      <td>21.0</td>\n      <td>6</td>\n      <td>160.0</td>\n      <td>110</td>\n      <td>3.90</td>\n      <td>2.875</td>\n      <td>17.02</td>\n      <td>0</td>\n      <td>1</td>\n      <td>4</td>\n      <td>4</td>\n    </tr>\n    <tr>\n      <th>2</th>\n      <td>22.8</td>\n      <td>4</td>\n      <td>108.0</td>\n      <td>93</td>\n      <td>3.85</td>\n      <td>2.320</td>\n      <td>18.61</td>\n      <td>1</td>\n      <td>1</td>\n      <td>4</td>\n      <td>1</td>\n    </tr>\n    <tr>\n      <th>3</th>\n      <td>21.4</td>\n      <td>6</td>\n      <td>258.0</td>\n      <td>110</td>\n      <td>3.08</td>\n      <td>3.215</td>\n      <td>19.44</td>\n      <td>1</td>\n      <td>0</td>\n      <td>3</td>\n      <td>1</td>\n    </tr>\n    <tr>\n      <th>4</th>\n      <td>18.7</td>\n      <td>8</td>\n      <td>360.0</td>\n      <td>175</td>\n      <td>3.15</td>\n      <td>3.440</td>\n      <td>17.02</td>\n      <td>0</td>\n      <td>0</td>\n      <td>3</td>\n      <td>2</td>\n    </tr>\n    <tr>\n      <th>5</th>\n      <td>18.1</td>\n      <td>6</td>\n      <td>225.0</td>\n      <td>105</td>\n      <td>2.76</td>\n      <td>3.460</td>\n      <td>20.22</td>\n      <td>1</td>\n      <td>0</td>\n      <td>3</td>\n      <td>1</td>\n    </tr>\n    <tr>\n      <th>6</th>\n      <td>14.3</td>\n      <td>8</td>\n      <td>360.0</td>\n      <td>245</td>\n      <td>3.21</td>\n      <td>3.570</td>\n      <td>15.84</td>\n      <td>0</td>\n      <td>0</td>\n      <td>3</td>\n      <td>4</td>\n    </tr>\n    <tr>\n      <th>7</th>\n      <td>24.4</td>\n      <td>4</td>\n      <td>146.7</td>\n      <td>62</td>\n      <td>3.69</td>\n      <td>3.190</td>\n      <td>20.00</td>\n      <td>1</td>\n      <td>0</td>\n      <td>4</td>\n      <td>2</td>\n    </tr>\n    <tr>\n      <th>8</th>\n      <td>22.8</td>\n      <td>4</td>\n      <td>140.8</td>\n      <td>95</td>\n      <td>3.92</td>\n      <td>3.150</td>\n      <td>22.90</td>\n      <td>1</td>\n      <td>0</td>\n      <td>4</td>\n      <td>2</td>\n    </tr>\n    <tr>\n      <th>9</th>\n      <td>19.2</td>\n      <td>6</td>\n      <td>167.6</td>\n      <td>123</td>\n      <td>3.92</td>\n      <td>3.440</td>\n      <td>18.30</td>\n      <td>1</td>\n      <td>0</td>\n      <td>4</td>\n      <td>4</td>\n    </tr>\n    <tr>\n      <th>10</th>\n      <td>17.8</td>\n      <td>6</td>\n      <td>167.6</td>\n      <td>123</td>\n      <td>3.92</td>\n      <td>3.440</td>\n      <td>18.90</td>\n      <td>1</td>\n      <td>0</td>\n      <td>4</td>\n      <td>4</td>\n    </tr>\n    <tr>\n      <th>11</th>\n      <td>16.4</td>\n      <td>8</td>\n      <td>275.8</td>\n      <td>180</td>\n      <td>3.07</td>\n      <td>4.070</td>\n      <td>17.40</td>\n      <td>0</td>\n      <td>0</td>\n      <td>3</td>\n      <td>3</td>\n    </tr>\n    <tr>\n      <th>12</th>\n      <td>17.3</td>\n      <td>8</td>\n      <td>275.8</td>\n      <td>180</td>\n      <td>3.07</td>\n      <td>3.730</td>\n      <td>17.60</td>\n      <td>0</td>\n      <td>0</td>\n      <td>3</td>\n      <td>3</td>\n    </tr>\n    <tr>\n      <th>13</th>\n      <td>15.2</td>\n      <td>8</td>\n      <td>275.8</td>\n      <td>180</td>\n      <td>3.07</td>\n      <td>3.780</td>\n      <td>18.00</td>\n      <td>0</td>\n      <td>0</td>\n      <td>3</td>\n      <td>3</td>\n    </tr>\n    <tr>\n      <th>14</th>\n      <td>10.4</td>\n      <td>8</td>\n      <td>472.0</td>\n      <td>205</td>\n      <td>2.93</td>\n      <td>5.250</td>\n      <td>17.98</td>\n      <td>0</td>\n      <td>0</td>\n      <td>3</td>\n      <td>4</td>\n    </tr>\n    <tr>\n      <th>15</th>\n      <td>10.4</td>\n      <td>8</td>\n      <td>460.0</td>\n      <td>215</td>\n      <td>3.00</td>\n      <td>5.424</td>\n      <td>17.82</td>\n      <td>0</td>\n      <td>0</td>\n      <td>3</td>\n      <td>4</td>\n    </tr>\n    <tr>\n      <th>16</th>\n      <td>14.7</td>\n      <td>8</td>\n      <td>440.0</td>\n      <td>230</td>\n      <td>3.23</td>\n      <td>5.345</td>\n      <td>17.42</td>\n      <td>0</td>\n      <td>0</td>\n      <td>3</td>\n      <td>4</td>\n    </tr>\n    <tr>\n      <th>17</th>\n      <td>32.4</td>\n      <td>4</td>\n      <td>78.7</td>\n      <td>66</td>\n      <td>4.08</td>\n      <td>2.200</td>\n      <td>19.47</td>\n      <td>1</td>\n      <td>1</td>\n      <td>4</td>\n      <td>1</td>\n    </tr>\n    <tr>\n      <th>18</th>\n      <td>30.4</td>\n      <td>4</td>\n      <td>75.7</td>\n      <td>52</td>\n      <td>4.93</td>\n      <td>1.615</td>\n      <td>18.52</td>\n      <td>1</td>\n      <td>1</td>\n      <td>4</td>\n      <td>2</td>\n    </tr>\n    <tr>\n      <th>19</th>\n      <td>33.9</td>\n      <td>4</td>\n      <td>71.1</td>\n      <td>65</td>\n      <td>4.22</td>\n      <td>1.835</td>\n      <td>19.90</td>\n      <td>1</td>\n      <td>1</td>\n      <td>4</td>\n      <td>1</td>\n    </tr>\n    <tr>\n      <th>20</th>\n      <td>21.5</td>\n      <td>4</td>\n      <td>120.1</td>\n      <td>97</td>\n      <td>3.70</td>\n      <td>2.465</td>\n      <td>20.01</td>\n      <td>1</td>\n      <td>0</td>\n      <td>3</td>\n      <td>1</td>\n    </tr>\n    <tr>\n      <th>21</th>\n      <td>15.5</td>\n      <td>8</td>\n      <td>318.0</td>\n      <td>150</td>\n      <td>2.76</td>\n      <td>3.520</td>\n      <td>16.87</td>\n      <td>0</td>\n      <td>0</td>\n      <td>3</td>\n      <td>2</td>\n    </tr>\n    <tr>\n      <th>22</th>\n      <td>15.2</td>\n      <td>8</td>\n      <td>304.0</td>\n      <td>150</td>\n      <td>3.15</td>\n      <td>3.435</td>\n      <td>17.30</td>\n      <td>0</td>\n      <td>0</td>\n      <td>3</td>\n      <td>2</td>\n    </tr>\n    <tr>\n      <th>23</th>\n      <td>13.3</td>\n      <td>8</td>\n      <td>350.0</td>\n      <td>245</td>\n      <td>3.73</td>\n      <td>3.840</td>\n      <td>15.41</td>\n      <td>0</td>\n      <td>0</td>\n      <td>3</td>\n      <td>4</td>\n    </tr>\n    <tr>\n      <th>24</th>\n      <td>19.2</td>\n      <td>8</td>\n      <td>400.0</td>\n      <td>175</td>\n      <td>3.08</td>\n      <td>3.845</td>\n      <td>17.05</td>\n      <td>0</td>\n      <td>0</td>\n      <td>3</td>\n      <td>2</td>\n    </tr>\n    <tr>\n      <th>25</th>\n      <td>27.3</td>\n      <td>4</td>\n      <td>79.0</td>\n      <td>66</td>\n      <td>4.08</td>\n      <td>1.935</td>\n      <td>18.90</td>\n      <td>1</td>\n      <td>1</td>\n      <td>4</td>\n      <td>1</td>\n    </tr>\n    <tr>\n      <th>26</th>\n      <td>26.0</td>\n      <td>4</td>\n      <td>120.3</td>\n      <td>91</td>\n      <td>4.43</td>\n      <td>2.140</td>\n      <td>16.70</td>\n      <td>0</td>\n      <td>1</td>\n      <td>5</td>\n      <td>2</td>\n    </tr>\n    <tr>\n      <th>27</th>\n      <td>30.4</td>\n      <td>4</td>\n      <td>95.1</td>\n      <td>113</td>\n      <td>3.77</td>\n      <td>1.513</td>\n      <td>16.90</td>\n      <td>1</td>\n      <td>1</td>\n      <td>5</td>\n      <td>2</td>\n    </tr>\n    <tr>\n      <th>28</th>\n      <td>15.8</td>\n      <td>8</td>\n      <td>351.0</td>\n      <td>264</td>\n      <td>4.22</td>\n      <td>3.170</td>\n      <td>14.50</td>\n      <td>0</td>\n      <td>1</td>\n      <td>5</td>\n      <td>4</td>\n    </tr>\n    <tr>\n      <th>29</th>\n      <td>19.7</td>\n      <td>6</td>\n      <td>145.0</td>\n      <td>175</td>\n      <td>3.62</td>\n      <td>2.770</td>\n      <td>15.50</td>\n      <td>0</td>\n      <td>1</td>\n      <td>5</td>\n      <td>6</td>\n    </tr>\n    <tr>\n      <th>30</th>\n      <td>15.0</td>\n      <td>8</td>\n      <td>301.0</td>\n      <td>335</td>\n      <td>3.54</td>\n      <td>3.570</td>\n      <td>14.60</td>\n      <td>0</td>\n      <td>1</td>\n      <td>5</td>\n      <td>8</td>\n    </tr>\n    <tr>\n      <th>31</th>\n      <td>21.4</td>\n      <td>4</td>\n      <td>121.0</td>\n      <td>109</td>\n      <td>4.11</td>\n      <td>2.780</td>\n      <td>18.60</td>\n      <td>1</td>\n      <td>1</td>\n      <td>4</td>\n      <td>2</td>\n    </tr>\n  </tbody>\n</table>\n</div>[Groups: ['cyl'] (n=3)]"
     },
     "metadata": {},
     "execution_count": 2
    }
   ],
   "source": [
    "by_cyl = mtcars >> group_by(f.cyl) \n",
    "by_cyl"
   ]
  },
  {
   "cell_type": "code",
   "execution_count": 3,
   "metadata": {
    "execution": {
     "iopub.execute_input": "2021-04-17T00:53:05.228394Z",
     "iopub.status.busy": "2021-04-17T00:53:05.227670Z",
     "iopub.status.idle": "2021-04-17T00:53:05.231112Z",
     "shell.execute_reply": "2021-04-17T00:53:05.230718Z"
    }
   },
   "outputs": [
    {
     "output_type": "execute_result",
     "data": {
      "text/plain": [
       "['cyl']"
      ]
     },
     "metadata": {},
     "execution_count": 3
    }
   ],
   "source": [
    "by_cyl >> group_vars()"
   ]
  },
  {
   "cell_type": "code",
   "execution_count": 4,
   "metadata": {
    "execution": {
     "iopub.execute_input": "2021-04-17T00:53:05.237697Z",
     "iopub.status.busy": "2021-04-17T00:53:05.237190Z",
     "iopub.status.idle": "2021-04-17T00:53:05.276400Z",
     "shell.execute_reply": "2021-04-17T00:53:05.275848Z"
    }
   },
   "outputs": [
    {
     "output_type": "execute_result",
     "data": {
      "text/plain": [
       "   cyl        disp          hp\n",
       "0    4  105.136364   82.636364\n",
       "1    6  183.314286  122.285714\n",
       "2    8  353.100000  209.214286"
      ],
      "text/html": "<div>\n<style scoped>\n    .dataframe tbody tr th:only-of-type {\n        vertical-align: middle;\n    }\n\n    .dataframe tbody tr th {\n        vertical-align: top;\n    }\n\n    .dataframe thead th {\n        text-align: right;\n    }\n</style>\n<table border=\"1\" class=\"dataframe\">\n  <thead>\n    <tr style=\"text-align: right;\">\n      <th></th>\n      <th>cyl</th>\n      <th>disp</th>\n      <th>hp</th>\n    </tr>\n  </thead>\n  <tbody>\n    <tr>\n      <th>0</th>\n      <td>4</td>\n      <td>105.136364</td>\n      <td>82.636364</td>\n    </tr>\n    <tr>\n      <th>1</th>\n      <td>6</td>\n      <td>183.314286</td>\n      <td>122.285714</td>\n    </tr>\n    <tr>\n      <th>2</th>\n      <td>8</td>\n      <td>353.100000</td>\n      <td>209.214286</td>\n    </tr>\n  </tbody>\n</table>\n</div>"
     },
     "metadata": {},
     "execution_count": 4
    }
   ],
   "source": [
    "by_cyl >> summarise(\n",
    "  disp = mean(f.disp),\n",
    "  hp = mean(f.hp)\n",
    ")"
   ]
  },
  {
   "cell_type": "code",
   "execution_count": 5,
   "metadata": {
    "execution": {
     "iopub.execute_input": "2021-04-17T00:53:05.282598Z",
     "iopub.status.busy": "2021-04-17T00:53:05.282094Z",
     "iopub.status.idle": "2021-04-17T00:53:05.314343Z",
     "shell.execute_reply": "2021-04-17T00:53:05.314740Z"
    }
   },
   "outputs": [
    {
     "output_type": "execute_result",
     "data": {
      "text/plain": [
       "    mpg  cyl   disp   hp  drat     wt   qsec  vs  am  gear  carb\n",
       "0  21.4    6  258.0  110  3.08  3.215  19.44   1   0     3     1\n",
       "1  24.4    4  146.7   62  3.69  3.190  20.00   1   0     4     2\n",
       "2  10.4    8  472.0  205  2.93  5.250  17.98   0   0     3     4\n",
       "[Groups: ['cyl'] (n=3)]"
      ],
      "text/html": "<div>\n<style scoped>\n    .dataframe tbody tr th:only-of-type {\n        vertical-align: middle;\n    }\n\n    .dataframe tbody tr th {\n        vertical-align: top;\n    }\n\n    .dataframe thead th {\n        text-align: right;\n    }\n</style>\n<table border=\"1\" class=\"dataframe\">\n  <thead>\n    <tr style=\"text-align: right;\">\n      <th></th>\n      <th>mpg</th>\n      <th>cyl</th>\n      <th>disp</th>\n      <th>hp</th>\n      <th>drat</th>\n      <th>wt</th>\n      <th>qsec</th>\n      <th>vs</th>\n      <th>am</th>\n      <th>gear</th>\n      <th>carb</th>\n    </tr>\n  </thead>\n  <tbody>\n    <tr>\n      <th>0</th>\n      <td>21.4</td>\n      <td>6</td>\n      <td>258.0</td>\n      <td>110</td>\n      <td>3.08</td>\n      <td>3.215</td>\n      <td>19.44</td>\n      <td>1</td>\n      <td>0</td>\n      <td>3</td>\n      <td>1</td>\n    </tr>\n    <tr>\n      <th>1</th>\n      <td>24.4</td>\n      <td>4</td>\n      <td>146.7</td>\n      <td>62</td>\n      <td>3.69</td>\n      <td>3.190</td>\n      <td>20.00</td>\n      <td>1</td>\n      <td>0</td>\n      <td>4</td>\n      <td>2</td>\n    </tr>\n    <tr>\n      <th>2</th>\n      <td>10.4</td>\n      <td>8</td>\n      <td>472.0</td>\n      <td>205</td>\n      <td>2.93</td>\n      <td>5.250</td>\n      <td>17.98</td>\n      <td>0</td>\n      <td>0</td>\n      <td>3</td>\n      <td>4</td>\n    </tr>\n  </tbody>\n</table>\n</div>[Groups: ['cyl'] (n=3)]"
     },
     "metadata": {},
     "execution_count": 5
    }
   ],
   "source": [
    "by_cyl >> filter(f.disp == max(f.disp))"
   ]
  },
  {
   "cell_type": "code",
   "execution_count": 6,
   "metadata": {
    "execution": {
     "iopub.execute_input": "2021-04-17T00:53:05.324520Z",
     "iopub.status.busy": "2021-04-17T00:53:05.321728Z",
     "iopub.status.idle": "2021-04-17T00:53:05.347102Z",
     "shell.execute_reply": "2021-04-17T00:53:05.346570Z"
    }
   },
   "outputs": [
    {
     "output_type": "stream",
     "name": "stderr",
     "text": [
      "[2021-05-25 11:05:32][datar][   INFO] `summarise()` has grouped output by ['vs'] (override with `_groups` argument)\n"
     ]
    },
    {
     "output_type": "execute_result",
     "data": {
      "text/plain": [
       "   vs  am   n\n",
       "0   0   0  12\n",
       "1   0   1   6\n",
       "2   1   0   7\n",
       "3   1   1   7\n",
       "[Groups: ['vs'] (n=2)]"
      ],
      "text/html": "<div>\n<style scoped>\n    .dataframe tbody tr th:only-of-type {\n        vertical-align: middle;\n    }\n\n    .dataframe tbody tr th {\n        vertical-align: top;\n    }\n\n    .dataframe thead th {\n        text-align: right;\n    }\n</style>\n<table border=\"1\" class=\"dataframe\">\n  <thead>\n    <tr style=\"text-align: right;\">\n      <th></th>\n      <th>vs</th>\n      <th>am</th>\n      <th>n</th>\n    </tr>\n  </thead>\n  <tbody>\n    <tr>\n      <th>0</th>\n      <td>0</td>\n      <td>0</td>\n      <td>12</td>\n    </tr>\n    <tr>\n      <th>1</th>\n      <td>0</td>\n      <td>1</td>\n      <td>6</td>\n    </tr>\n    <tr>\n      <th>2</th>\n      <td>1</td>\n      <td>0</td>\n      <td>7</td>\n    </tr>\n    <tr>\n      <th>3</th>\n      <td>1</td>\n      <td>1</td>\n      <td>7</td>\n    </tr>\n  </tbody>\n</table>\n</div>[Groups: ['vs'] (n=2)]"
     },
     "metadata": {},
     "execution_count": 6
    }
   ],
   "source": [
    "by_vs_am = mtcars >> group_by(f.vs, f.am)\n",
    "by_vs = by_vs_am >> summarise(n=n())\n",
    "by_vs"
   ]
  },
  {
   "cell_type": "code",
   "execution_count": 7,
   "metadata": {
    "execution": {
     "iopub.execute_input": "2021-04-17T00:53:05.355142Z",
     "iopub.status.busy": "2021-04-17T00:53:05.353782Z",
     "iopub.status.idle": "2021-04-17T00:53:05.363713Z",
     "shell.execute_reply": "2021-04-17T00:53:05.364066Z"
    }
   },
   "outputs": [
    {
     "output_type": "execute_result",
     "data": {
      "text/plain": [
       "   vs   n\n",
       "0   0  18\n",
       "1   1  14"
      ],
      "text/html": "<div>\n<style scoped>\n    .dataframe tbody tr th:only-of-type {\n        vertical-align: middle;\n    }\n\n    .dataframe tbody tr th {\n        vertical-align: top;\n    }\n\n    .dataframe thead th {\n        text-align: right;\n    }\n</style>\n<table border=\"1\" class=\"dataframe\">\n  <thead>\n    <tr style=\"text-align: right;\">\n      <th></th>\n      <th>vs</th>\n      <th>n</th>\n    </tr>\n  </thead>\n  <tbody>\n    <tr>\n      <th>0</th>\n      <td>0</td>\n      <td>18</td>\n    </tr>\n    <tr>\n      <th>1</th>\n      <td>1</td>\n      <td>14</td>\n    </tr>\n  </tbody>\n</table>\n</div>"
     },
     "metadata": {},
     "execution_count": 7
    }
   ],
   "source": [
    "by_vs >> summarise(n=sum(f.n))"
   ]
  },
  {
   "cell_type": "code",
   "execution_count": 8,
   "metadata": {
    "execution": {
     "iopub.execute_input": "2021-04-17T00:53:05.373692Z",
     "iopub.status.busy": "2021-04-17T00:53:05.373012Z",
     "iopub.status.idle": "2021-04-17T00:53:05.376033Z",
     "shell.execute_reply": "2021-04-17T00:53:05.376399Z"
    }
   },
   "outputs": [
    {
     "output_type": "execute_result",
     "data": {
      "text/plain": [
       "    n\n",
       "0  32"
      ],
      "text/html": "<div>\n<style scoped>\n    .dataframe tbody tr th:only-of-type {\n        vertical-align: middle;\n    }\n\n    .dataframe tbody tr th {\n        vertical-align: top;\n    }\n\n    .dataframe thead th {\n        text-align: right;\n    }\n</style>\n<table border=\"1\" class=\"dataframe\">\n  <thead>\n    <tr style=\"text-align: right;\">\n      <th></th>\n      <th>n</th>\n    </tr>\n  </thead>\n  <tbody>\n    <tr>\n      <th>0</th>\n      <td>32</td>\n    </tr>\n  </tbody>\n</table>\n</div>"
     },
     "metadata": {},
     "execution_count": 8
    }
   ],
   "source": [
    "by_vs >> \\\n",
    "  ungroup() >> \\\n",
    "  summarise(n = sum(f.n))"
   ]
  },
  {
   "cell_type": "code",
   "execution_count": 9,
   "metadata": {
    "execution": {
     "iopub.execute_input": "2021-04-17T00:53:05.393093Z",
     "iopub.status.busy": "2021-04-17T00:53:05.392553Z",
     "iopub.status.idle": "2021-04-17T00:53:05.422495Z",
     "shell.execute_reply": "2021-04-17T00:53:05.420783Z"
    }
   },
   "outputs": [
    {
     "output_type": "execute_result",
     "data": {
      "text/plain": [
       "     mpg  cyl   disp   hp  drat     wt   qsec  vs  am  gear  carb  vsam\n",
       "0   21.0    6  160.0  110  3.90  2.620  16.46   0   1     4     4     1\n",
       "1   21.0    6  160.0  110  3.90  2.875  17.02   0   1     4     4     1\n",
       "2   22.8    4  108.0   93  3.85  2.320  18.61   1   1     4     1     2\n",
       "3   21.4    6  258.0  110  3.08  3.215  19.44   1   0     3     1     1\n",
       "4   18.7    8  360.0  175  3.15  3.440  17.02   0   0     3     2     0\n",
       "5   18.1    6  225.0  105  2.76  3.460  20.22   1   0     3     1     1\n",
       "6   14.3    8  360.0  245  3.21  3.570  15.84   0   0     3     4     0\n",
       "7   24.4    4  146.7   62  3.69  3.190  20.00   1   0     4     2     1\n",
       "8   22.8    4  140.8   95  3.92  3.150  22.90   1   0     4     2     1\n",
       "9   19.2    6  167.6  123  3.92  3.440  18.30   1   0     4     4     1\n",
       "10  17.8    6  167.6  123  3.92  3.440  18.90   1   0     4     4     1\n",
       "11  16.4    8  275.8  180  3.07  4.070  17.40   0   0     3     3     0\n",
       "12  17.3    8  275.8  180  3.07  3.730  17.60   0   0     3     3     0\n",
       "13  15.2    8  275.8  180  3.07  3.780  18.00   0   0     3     3     0\n",
       "14  10.4    8  472.0  205  2.93  5.250  17.98   0   0     3     4     0\n",
       "15  10.4    8  460.0  215  3.00  5.424  17.82   0   0     3     4     0\n",
       "16  14.7    8  440.0  230  3.23  5.345  17.42   0   0     3     4     0\n",
       "17  32.4    4   78.7   66  4.08  2.200  19.47   1   1     4     1     2\n",
       "18  30.4    4   75.7   52  4.93  1.615  18.52   1   1     4     2     2\n",
       "19  33.9    4   71.1   65  4.22  1.835  19.90   1   1     4     1     2\n",
       "20  21.5    4  120.1   97  3.70  2.465  20.01   1   0     3     1     1\n",
       "21  15.5    8  318.0  150  2.76  3.520  16.87   0   0     3     2     0\n",
       "22  15.2    8  304.0  150  3.15  3.435  17.30   0   0     3     2     0\n",
       "23  13.3    8  350.0  245  3.73  3.840  15.41   0   0     3     4     0\n",
       "24  19.2    8  400.0  175  3.08  3.845  17.05   0   0     3     2     0\n",
       "25  27.3    4   79.0   66  4.08  1.935  18.90   1   1     4     1     2\n",
       "26  26.0    4  120.3   91  4.43  2.140  16.70   0   1     5     2     1\n",
       "27  30.4    4   95.1  113  3.77  1.513  16.90   1   1     5     2     2\n",
       "28  15.8    8  351.0  264  4.22  3.170  14.50   0   1     5     4     1\n",
       "29  19.7    6  145.0  175  3.62  2.770  15.50   0   1     5     6     1\n",
       "30  15.0    8  301.0  335  3.54  3.570  14.60   0   1     5     8     1\n",
       "31  21.4    4  121.0  109  4.11  2.780  18.60   1   1     4     2     2\n",
       "[Groups: ['vsam'] (n=3)]"
      ],
      "text/html": "<div>\n<style scoped>\n    .dataframe tbody tr th:only-of-type {\n        vertical-align: middle;\n    }\n\n    .dataframe tbody tr th {\n        vertical-align: top;\n    }\n\n    .dataframe thead th {\n        text-align: right;\n    }\n</style>\n<table border=\"1\" class=\"dataframe\">\n  <thead>\n    <tr style=\"text-align: right;\">\n      <th></th>\n      <th>mpg</th>\n      <th>cyl</th>\n      <th>disp</th>\n      <th>hp</th>\n      <th>drat</th>\n      <th>wt</th>\n      <th>qsec</th>\n      <th>vs</th>\n      <th>am</th>\n      <th>gear</th>\n      <th>carb</th>\n      <th>vsam</th>\n    </tr>\n  </thead>\n  <tbody>\n    <tr>\n      <th>0</th>\n      <td>21.0</td>\n      <td>6</td>\n      <td>160.0</td>\n      <td>110</td>\n      <td>3.90</td>\n      <td>2.620</td>\n      <td>16.46</td>\n      <td>0</td>\n      <td>1</td>\n      <td>4</td>\n      <td>4</td>\n      <td>1</td>\n    </tr>\n    <tr>\n      <th>1</th>\n      <td>21.0</td>\n      <td>6</td>\n      <td>160.0</td>\n      <td>110</td>\n      <td>3.90</td>\n      <td>2.875</td>\n      <td>17.02</td>\n      <td>0</td>\n      <td>1</td>\n      <td>4</td>\n      <td>4</td>\n      <td>1</td>\n    </tr>\n    <tr>\n      <th>2</th>\n      <td>22.8</td>\n      <td>4</td>\n      <td>108.0</td>\n      <td>93</td>\n      <td>3.85</td>\n      <td>2.320</td>\n      <td>18.61</td>\n      <td>1</td>\n      <td>1</td>\n      <td>4</td>\n      <td>1</td>\n      <td>2</td>\n    </tr>\n    <tr>\n      <th>3</th>\n      <td>21.4</td>\n      <td>6</td>\n      <td>258.0</td>\n      <td>110</td>\n      <td>3.08</td>\n      <td>3.215</td>\n      <td>19.44</td>\n      <td>1</td>\n      <td>0</td>\n      <td>3</td>\n      <td>1</td>\n      <td>1</td>\n    </tr>\n    <tr>\n      <th>4</th>\n      <td>18.7</td>\n      <td>8</td>\n      <td>360.0</td>\n      <td>175</td>\n      <td>3.15</td>\n      <td>3.440</td>\n      <td>17.02</td>\n      <td>0</td>\n      <td>0</td>\n      <td>3</td>\n      <td>2</td>\n      <td>0</td>\n    </tr>\n    <tr>\n      <th>5</th>\n      <td>18.1</td>\n      <td>6</td>\n      <td>225.0</td>\n      <td>105</td>\n      <td>2.76</td>\n      <td>3.460</td>\n      <td>20.22</td>\n      <td>1</td>\n      <td>0</td>\n      <td>3</td>\n      <td>1</td>\n      <td>1</td>\n    </tr>\n    <tr>\n      <th>6</th>\n      <td>14.3</td>\n      <td>8</td>\n      <td>360.0</td>\n      <td>245</td>\n      <td>3.21</td>\n      <td>3.570</td>\n      <td>15.84</td>\n      <td>0</td>\n      <td>0</td>\n      <td>3</td>\n      <td>4</td>\n      <td>0</td>\n    </tr>\n    <tr>\n      <th>7</th>\n      <td>24.4</td>\n      <td>4</td>\n      <td>146.7</td>\n      <td>62</td>\n      <td>3.69</td>\n      <td>3.190</td>\n      <td>20.00</td>\n      <td>1</td>\n      <td>0</td>\n      <td>4</td>\n      <td>2</td>\n      <td>1</td>\n    </tr>\n    <tr>\n      <th>8</th>\n      <td>22.8</td>\n      <td>4</td>\n      <td>140.8</td>\n      <td>95</td>\n      <td>3.92</td>\n      <td>3.150</td>\n      <td>22.90</td>\n      <td>1</td>\n      <td>0</td>\n      <td>4</td>\n      <td>2</td>\n      <td>1</td>\n    </tr>\n    <tr>\n      <th>9</th>\n      <td>19.2</td>\n      <td>6</td>\n      <td>167.6</td>\n      <td>123</td>\n      <td>3.92</td>\n      <td>3.440</td>\n      <td>18.30</td>\n      <td>1</td>\n      <td>0</td>\n      <td>4</td>\n      <td>4</td>\n      <td>1</td>\n    </tr>\n    <tr>\n      <th>10</th>\n      <td>17.8</td>\n      <td>6</td>\n      <td>167.6</td>\n      <td>123</td>\n      <td>3.92</td>\n      <td>3.440</td>\n      <td>18.90</td>\n      <td>1</td>\n      <td>0</td>\n      <td>4</td>\n      <td>4</td>\n      <td>1</td>\n    </tr>\n    <tr>\n      <th>11</th>\n      <td>16.4</td>\n      <td>8</td>\n      <td>275.8</td>\n      <td>180</td>\n      <td>3.07</td>\n      <td>4.070</td>\n      <td>17.40</td>\n      <td>0</td>\n      <td>0</td>\n      <td>3</td>\n      <td>3</td>\n      <td>0</td>\n    </tr>\n    <tr>\n      <th>12</th>\n      <td>17.3</td>\n      <td>8</td>\n      <td>275.8</td>\n      <td>180</td>\n      <td>3.07</td>\n      <td>3.730</td>\n      <td>17.60</td>\n      <td>0</td>\n      <td>0</td>\n      <td>3</td>\n      <td>3</td>\n      <td>0</td>\n    </tr>\n    <tr>\n      <th>13</th>\n      <td>15.2</td>\n      <td>8</td>\n      <td>275.8</td>\n      <td>180</td>\n      <td>3.07</td>\n      <td>3.780</td>\n      <td>18.00</td>\n      <td>0</td>\n      <td>0</td>\n      <td>3</td>\n      <td>3</td>\n      <td>0</td>\n    </tr>\n    <tr>\n      <th>14</th>\n      <td>10.4</td>\n      <td>8</td>\n      <td>472.0</td>\n      <td>205</td>\n      <td>2.93</td>\n      <td>5.250</td>\n      <td>17.98</td>\n      <td>0</td>\n      <td>0</td>\n      <td>3</td>\n      <td>4</td>\n      <td>0</td>\n    </tr>\n    <tr>\n      <th>15</th>\n      <td>10.4</td>\n      <td>8</td>\n      <td>460.0</td>\n      <td>215</td>\n      <td>3.00</td>\n      <td>5.424</td>\n      <td>17.82</td>\n      <td>0</td>\n      <td>0</td>\n      <td>3</td>\n      <td>4</td>\n      <td>0</td>\n    </tr>\n    <tr>\n      <th>16</th>\n      <td>14.7</td>\n      <td>8</td>\n      <td>440.0</td>\n      <td>230</td>\n      <td>3.23</td>\n      <td>5.345</td>\n      <td>17.42</td>\n      <td>0</td>\n      <td>0</td>\n      <td>3</td>\n      <td>4</td>\n      <td>0</td>\n    </tr>\n    <tr>\n      <th>17</th>\n      <td>32.4</td>\n      <td>4</td>\n      <td>78.7</td>\n      <td>66</td>\n      <td>4.08</td>\n      <td>2.200</td>\n      <td>19.47</td>\n      <td>1</td>\n      <td>1</td>\n      <td>4</td>\n      <td>1</td>\n      <td>2</td>\n    </tr>\n    <tr>\n      <th>18</th>\n      <td>30.4</td>\n      <td>4</td>\n      <td>75.7</td>\n      <td>52</td>\n      <td>4.93</td>\n      <td>1.615</td>\n      <td>18.52</td>\n      <td>1</td>\n      <td>1</td>\n      <td>4</td>\n      <td>2</td>\n      <td>2</td>\n    </tr>\n    <tr>\n      <th>19</th>\n      <td>33.9</td>\n      <td>4</td>\n      <td>71.1</td>\n      <td>65</td>\n      <td>4.22</td>\n      <td>1.835</td>\n      <td>19.90</td>\n      <td>1</td>\n      <td>1</td>\n      <td>4</td>\n      <td>1</td>\n      <td>2</td>\n    </tr>\n    <tr>\n      <th>20</th>\n      <td>21.5</td>\n      <td>4</td>\n      <td>120.1</td>\n      <td>97</td>\n      <td>3.70</td>\n      <td>2.465</td>\n      <td>20.01</td>\n      <td>1</td>\n      <td>0</td>\n      <td>3</td>\n      <td>1</td>\n      <td>1</td>\n    </tr>\n    <tr>\n      <th>21</th>\n      <td>15.5</td>\n      <td>8</td>\n      <td>318.0</td>\n      <td>150</td>\n      <td>2.76</td>\n      <td>3.520</td>\n      <td>16.87</td>\n      <td>0</td>\n      <td>0</td>\n      <td>3</td>\n      <td>2</td>\n      <td>0</td>\n    </tr>\n    <tr>\n      <th>22</th>\n      <td>15.2</td>\n      <td>8</td>\n      <td>304.0</td>\n      <td>150</td>\n      <td>3.15</td>\n      <td>3.435</td>\n      <td>17.30</td>\n      <td>0</td>\n      <td>0</td>\n      <td>3</td>\n      <td>2</td>\n      <td>0</td>\n    </tr>\n    <tr>\n      <th>23</th>\n      <td>13.3</td>\n      <td>8</td>\n      <td>350.0</td>\n      <td>245</td>\n      <td>3.73</td>\n      <td>3.840</td>\n      <td>15.41</td>\n      <td>0</td>\n      <td>0</td>\n      <td>3</td>\n      <td>4</td>\n      <td>0</td>\n    </tr>\n    <tr>\n      <th>24</th>\n      <td>19.2</td>\n      <td>8</td>\n      <td>400.0</td>\n      <td>175</td>\n      <td>3.08</td>\n      <td>3.845</td>\n      <td>17.05</td>\n      <td>0</td>\n      <td>0</td>\n      <td>3</td>\n      <td>2</td>\n      <td>0</td>\n    </tr>\n    <tr>\n      <th>25</th>\n      <td>27.3</td>\n      <td>4</td>\n      <td>79.0</td>\n      <td>66</td>\n      <td>4.08</td>\n      <td>1.935</td>\n      <td>18.90</td>\n      <td>1</td>\n      <td>1</td>\n      <td>4</td>\n      <td>1</td>\n      <td>2</td>\n    </tr>\n    <tr>\n      <th>26</th>\n      <td>26.0</td>\n      <td>4</td>\n      <td>120.3</td>\n      <td>91</td>\n      <td>4.43</td>\n      <td>2.140</td>\n      <td>16.70</td>\n      <td>0</td>\n      <td>1</td>\n      <td>5</td>\n      <td>2</td>\n      <td>1</td>\n    </tr>\n    <tr>\n      <th>27</th>\n      <td>30.4</td>\n      <td>4</td>\n      <td>95.1</td>\n      <td>113</td>\n      <td>3.77</td>\n      <td>1.513</td>\n      <td>16.90</td>\n      <td>1</td>\n      <td>1</td>\n      <td>5</td>\n      <td>2</td>\n      <td>2</td>\n    </tr>\n    <tr>\n      <th>28</th>\n      <td>15.8</td>\n      <td>8</td>\n      <td>351.0</td>\n      <td>264</td>\n      <td>4.22</td>\n      <td>3.170</td>\n      <td>14.50</td>\n      <td>0</td>\n      <td>1</td>\n      <td>5</td>\n      <td>4</td>\n      <td>1</td>\n    </tr>\n    <tr>\n      <th>29</th>\n      <td>19.7</td>\n      <td>6</td>\n      <td>145.0</td>\n      <td>175</td>\n      <td>3.62</td>\n      <td>2.770</td>\n      <td>15.50</td>\n      <td>0</td>\n      <td>1</td>\n      <td>5</td>\n      <td>6</td>\n      <td>1</td>\n    </tr>\n    <tr>\n      <th>30</th>\n      <td>15.0</td>\n      <td>8</td>\n      <td>301.0</td>\n      <td>335</td>\n      <td>3.54</td>\n      <td>3.570</td>\n      <td>14.60</td>\n      <td>0</td>\n      <td>1</td>\n      <td>5</td>\n      <td>8</td>\n      <td>1</td>\n    </tr>\n    <tr>\n      <th>31</th>\n      <td>21.4</td>\n      <td>4</td>\n      <td>121.0</td>\n      <td>109</td>\n      <td>4.11</td>\n      <td>2.780</td>\n      <td>18.60</td>\n      <td>1</td>\n      <td>1</td>\n      <td>4</td>\n      <td>2</td>\n      <td>2</td>\n    </tr>\n  </tbody>\n</table>\n</div>[Groups: ['vsam'] (n=3)]"
     },
     "metadata": {},
     "execution_count": 9
    }
   ],
   "source": [
    "mtcars_vsam = mtcars >> group_by(vsam=f.vs + f.am) \n",
    "mtcars_vsam "
   ]
  },
  {
   "cell_type": "code",
   "execution_count": 10,
   "metadata": {
    "execution": {
     "iopub.execute_input": "2021-04-17T00:53:05.438661Z",
     "iopub.status.busy": "2021-04-17T00:53:05.437901Z",
     "iopub.status.idle": "2021-04-17T00:53:05.441261Z",
     "shell.execute_reply": "2021-04-17T00:53:05.441618Z"
    }
   },
   "outputs": [
    {
     "output_type": "execute_result",
     "data": {
      "text/plain": [
       "['vs', 'am']"
      ]
     },
     "metadata": {},
     "execution_count": 10
    }
   ],
   "source": [
    "by_cyl >> \\\n",
    "  group_by(f.vs, f.am) >> \\\n",
    "  group_vars()"
   ]
  },
  {
   "cell_type": "code",
   "execution_count": 11,
   "metadata": {
    "execution": {
     "iopub.execute_input": "2021-04-17T00:53:05.456994Z",
     "iopub.status.busy": "2021-04-17T00:53:05.456493Z",
     "iopub.status.idle": "2021-04-17T00:53:05.479285Z",
     "shell.execute_reply": "2021-04-17T00:53:05.478373Z"
    }
   },
   "outputs": [
    {
     "output_type": "execute_result",
     "data": {
      "text/plain": [
       "['cyl', 'vs', 'am']"
      ]
     },
     "metadata": {},
     "execution_count": 11
    }
   ],
   "source": [
    "by_cyl >> \\\n",
    "  group_by(f.vs, f.am, _add=True) >> \\\n",
    "  group_vars()"
   ]
  },
  {
   "cell_type": "code",
   "execution_count": null,
   "metadata": {},
   "outputs": [],
   "source": []
  }
 ],
 "metadata": {
  "kernelspec": {
   "display_name": "Python 3",
   "language": "python",
   "name": "python3"
  },
  "language_info": {
   "codemirror_mode": {
    "name": "ipython",
    "version": 3
   },
   "file_extension": ".py",
   "mimetype": "text/x-python",
   "name": "python",
   "nbconvert_exporter": "python",
   "pygments_lexer": "ipython3",
   "version": "3.7.8"
  }
 },
 "nbformat": 4,
 "nbformat_minor": 4
}