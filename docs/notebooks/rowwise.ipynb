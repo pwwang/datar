{
 "cells": [
  {
   "cell_type": "code",
   "execution_count": 1,
   "metadata": {
    "execution": {
     "iopub.execute_input": "2021-07-16T22:28:08.630104Z",
     "iopub.status.busy": "2021-07-16T22:28:08.629477Z",
     "iopub.status.idle": "2021-07-16T22:28:09.661020Z",
     "shell.execute_reply": "2021-07-16T22:28:09.658387Z"
    }
   },
   "outputs": [
    {
     "name": "stderr",
     "output_type": "stream",
     "text": [
      "[2021-07-16 15:28:09][datar][WARNING] Builtin name \"min\" has been overriden by datar.\n",
      "[2021-07-16 15:28:09][datar][WARNING] Builtin name \"max\" has been overriden by datar.\n",
      "[2021-07-16 15:28:09][datar][WARNING] Builtin name \"sum\" has been overriden by datar.\n",
      "[2021-07-16 15:28:09][datar][WARNING] Builtin name \"abs\" has been overriden by datar.\n",
      "[2021-07-16 15:28:09][datar][WARNING] Builtin name \"round\" has been overriden by datar.\n",
      "[2021-07-16 15:28:09][datar][WARNING] Builtin name \"all\" has been overriden by datar.\n",
      "[2021-07-16 15:28:09][datar][WARNING] Builtin name \"any\" has been overriden by datar.\n",
      "[2021-07-16 15:28:09][datar][WARNING] Builtin name \"re\" has been overriden by datar.\n",
      "[2021-07-16 15:28:09][datar][WARNING] Builtin name \"filter\" has been overriden by datar.\n",
      "[2021-07-16 15:28:09][datar][WARNING] Builtin name \"slice\" has been overriden by datar.\n"
     ]
    },
    {
     "data": {
      "text/html": [
       "<div style=\"text-align: right; text-style: italic\">Try this notebook on <a target=\"_blank\" href=\"https://mybinder.org/v2/gh/pwwang/datar/93d069f3ca36711fc811c61dcf60e9fc3d1460a5?filepath=docs%2Fnotebooks%2Frowwise.ipynb\">binder</a>.</div>"
      ],
      "text/plain": [
       "<IPython.core.display.HTML object>"
      ]
     },
     "metadata": {},
     "output_type": "display_data"
    },
    {
     "data": {
      "text/markdown": [
       "### # rowwise  "
      ],
      "text/plain": [
       "<IPython.core.display.Markdown object>"
      ]
     },
     "metadata": {},
     "output_type": "display_data"
    },
    {
     "data": {
      "text/markdown": [
       "##### Compute on a data frame a row-at-a-time\n",
       "\n",
       "See https://dplyr.tidyverse.org/reference/rowwise.html  \n",
       "\n",
       "##### Args:\n",
       "&emsp;&emsp;`_data`: The dataframe  \n",
       "&emsp;&emsp;`*columns`: Variables to be preserved when calling summarise().  \n",
       "&emsp;&emsp;&emsp;&emsp;This is typically a set of variables whose combination  \n",
       "&emsp;&emsp;&emsp;&emsp;uniquely identify each row.  \n",
       "\n",
       "&emsp;&emsp;`base0_`: Whether indexes are 0-based if columns are selected by indexes.  \n",
       "&emsp;&emsp;&emsp;&emsp;If not given, will use `datar.base.get_option('index.base.0')`  \n",
       "\n",
       "##### Returns:\n",
       "&emsp;&emsp;A row-wise data frame  \n"
      ],
      "text/plain": [
       "<IPython.core.display.Markdown object>"
      ]
     },
     "metadata": {},
     "output_type": "display_data"
    }
   ],
   "source": [
    "# https://dplyr.tidyverse.org/reference/rowwise.html\n",
    "\n",
    "from datar.datasets import iris\n",
    "from datar.all import *\n",
    "\n",
    "%run nb_helpers.py\n",
    "nb_header(rowwise)"
   ]
  },
  {
   "cell_type": "code",
   "execution_count": 2,
   "metadata": {
    "execution": {
     "iopub.execute_input": "2021-07-16T22:28:09.684543Z",
     "iopub.status.busy": "2021-07-16T22:28:09.683910Z",
     "iopub.status.idle": "2021-07-16T22:28:09.995217Z",
     "shell.execute_reply": "2021-07-16T22:28:09.995615Z"
    }
   },
   "outputs": [
    {
     "data": {
      "text/html": [
       "<table border=\"1\" class=\"dataframe\">\n",
       "  <thead>\n",
       "    <tr style=\"text-align: right;\">\n",
       "      <th></th>\n",
       "      <th>x</th>\n",
       "      <th>y</th>\n",
       "      <th>z</th>\n",
       "      <th>m</th>\n",
       "    </tr>\n",
       "  </thead>\n",
       "  <tbody>\n",
       "    <tr>\n",
       "      <th style=\"font-style: italic;\" ></th>\n",
       "      <td style=\"font-style: italic;\" >&lt;float64&gt;</td>\n",
       "      <td style=\"font-style: italic;\" >&lt;float64&gt;</td>\n",
       "      <td style=\"font-style: italic;\" >&lt;float64&gt;</td>\n",
       "      <td style=\"font-style: italic;\" >&lt;float64&gt;</td>\n",
       "    </tr>\n",
       "    <tr>\n",
       "      <th>0</th>\n",
       "      <td>0.077154</td>\n",
       "      <td>0.299979</td>\n",
       "      <td>0.257220</td>\n",
       "      <td>0.211451</td>\n",
       "    </tr>\n",
       "    <tr>\n",
       "      <th>1</th>\n",
       "      <td>0.407924</td>\n",
       "      <td>0.241265</td>\n",
       "      <td>0.007746</td>\n",
       "      <td>0.218979</td>\n",
       "    </tr>\n",
       "    <tr>\n",
       "      <th>2</th>\n",
       "      <td>0.968024</td>\n",
       "      <td>0.661865</td>\n",
       "      <td>0.813643</td>\n",
       "      <td>0.814511</td>\n",
       "    </tr>\n",
       "    <tr>\n",
       "      <th>3</th>\n",
       "      <td>0.260182</td>\n",
       "      <td>0.610448</td>\n",
       "      <td>0.216515</td>\n",
       "      <td>0.362382</td>\n",
       "    </tr>\n",
       "    <tr>\n",
       "      <th>4</th>\n",
       "      <td>0.620912</td>\n",
       "      <td>0.800267</td>\n",
       "      <td>0.471427</td>\n",
       "      <td>0.630869</td>\n",
       "    </tr>\n",
       "    <tr>\n",
       "      <th>5</th>\n",
       "      <td>0.491775</td>\n",
       "      <td>0.156541</td>\n",
       "      <td>0.862262</td>\n",
       "      <td>0.503526</td>\n",
       "    </tr>\n",
       "  </tbody>\n",
       "</table>\n",
       "<p>Rowwise: []</p>"
      ],
      "text/plain": [
       "          x         y         z         m\n",
       "  <float64> <float64> <float64> <float64>\n",
       "0  0.077154  0.299979  0.257220  0.211451\n",
       "1  0.407924  0.241265  0.007746  0.218979\n",
       "2  0.968024  0.661865  0.813643  0.814511\n",
       "3  0.260182  0.610448  0.216515  0.362382\n",
       "4  0.620912  0.800267  0.471427  0.630869\n",
       "5  0.491775  0.156541  0.862262  0.503526\n",
       "\n",
       "[Rowwise: ]"
      ]
     },
     "execution_count": 1,
     "metadata": {},
     "output_type": "execute_result"
    }
   ],
   "source": [
    "df = tibble(x=runif(6), y=runif(6), z=runif(6))\n",
    "\n",
    "df >> rowwise() >> mutate(m=mean(c_across(c(f.x, f.y, f.z)))) "
   ]
  },
  {
   "cell_type": "code",
   "execution_count": 3,
   "metadata": {
    "execution": {
     "iopub.execute_input": "2021-07-16T22:28:10.067015Z",
     "iopub.status.busy": "2021-07-16T22:28:10.066388Z",
     "iopub.status.idle": "2021-07-16T22:28:10.080326Z",
     "shell.execute_reply": "2021-07-16T22:28:10.080713Z"
    }
   },
   "outputs": [
    {
     "data": {
      "text/html": [
       "<table border=\"1\" class=\"dataframe\">\n",
       "  <thead>\n",
       "    <tr style=\"text-align: right;\">\n",
       "      <th></th>\n",
       "      <th>x</th>\n",
       "      <th>y</th>\n",
       "      <th>z</th>\n",
       "      <th>m</th>\n",
       "    </tr>\n",
       "  </thead>\n",
       "  <tbody>\n",
       "    <tr>\n",
       "      <th style=\"font-style: italic;\" ></th>\n",
       "      <td style=\"font-style: italic;\" >&lt;float64&gt;</td>\n",
       "      <td style=\"font-style: italic;\" >&lt;float64&gt;</td>\n",
       "      <td style=\"font-style: italic;\" >&lt;float64&gt;</td>\n",
       "      <td style=\"font-style: italic;\" >&lt;float64&gt;</td>\n",
       "    </tr>\n",
       "    <tr>\n",
       "      <th>0</th>\n",
       "      <td>0.077154</td>\n",
       "      <td>0.299979</td>\n",
       "      <td>0.257220</td>\n",
       "      <td>0.211451</td>\n",
       "    </tr>\n",
       "    <tr>\n",
       "      <th>1</th>\n",
       "      <td>0.407924</td>\n",
       "      <td>0.241265</td>\n",
       "      <td>0.007746</td>\n",
       "      <td>0.218979</td>\n",
       "    </tr>\n",
       "    <tr>\n",
       "      <th>2</th>\n",
       "      <td>0.968024</td>\n",
       "      <td>0.661865</td>\n",
       "      <td>0.813643</td>\n",
       "      <td>0.814511</td>\n",
       "    </tr>\n",
       "    <tr>\n",
       "      <th>3</th>\n",
       "      <td>0.260182</td>\n",
       "      <td>0.610448</td>\n",
       "      <td>0.216515</td>\n",
       "      <td>0.362382</td>\n",
       "    </tr>\n",
       "    <tr>\n",
       "      <th>4</th>\n",
       "      <td>0.620912</td>\n",
       "      <td>0.800267</td>\n",
       "      <td>0.471427</td>\n",
       "      <td>0.630869</td>\n",
       "    </tr>\n",
       "    <tr>\n",
       "      <th>5</th>\n",
       "      <td>0.491775</td>\n",
       "      <td>0.156541</td>\n",
       "      <td>0.862262</td>\n",
       "      <td>0.503526</td>\n",
       "    </tr>\n",
       "  </tbody>\n",
       "</table>\n",
       "<p>Rowwise: []</p>"
      ],
      "text/plain": [
       "          x         y         z         m\n",
       "  <float64> <float64> <float64> <float64>\n",
       "0  0.077154  0.299979  0.257220  0.211451\n",
       "1  0.407924  0.241265  0.007746  0.218979\n",
       "2  0.968024  0.661865  0.813643  0.814511\n",
       "3  0.260182  0.610448  0.216515  0.362382\n",
       "4  0.620912  0.800267  0.471427  0.630869\n",
       "5  0.491775  0.156541  0.862262  0.503526\n",
       "\n",
       "[Rowwise: ]"
      ]
     },
     "execution_count": 1,
     "metadata": {},
     "output_type": "execute_result"
    }
   ],
   "source": [
    "df >> rowwise() >> mutate(m=mean(c_across(f[f.x:f.z])))"
   ]
  },
  {
   "cell_type": "code",
   "execution_count": 4,
   "metadata": {
    "execution": {
     "iopub.execute_input": "2021-07-16T22:28:10.157870Z",
     "iopub.status.busy": "2021-07-16T22:28:10.157301Z",
     "iopub.status.idle": "2021-07-16T22:28:10.167496Z",
     "shell.execute_reply": "2021-07-16T22:28:10.167879Z"
    }
   },
   "outputs": [
    {
     "data": {
      "text/html": [
       "<table border=\"1\" class=\"dataframe\">\n",
       "  <thead>\n",
       "    <tr style=\"text-align: right;\">\n",
       "      <th></th>\n",
       "      <th>x</th>\n",
       "      <th>y</th>\n",
       "      <th>z</th>\n",
       "      <th>m</th>\n",
       "    </tr>\n",
       "  </thead>\n",
       "  <tbody>\n",
       "    <tr>\n",
       "      <th style=\"font-style: italic;\" ></th>\n",
       "      <td style=\"font-style: italic;\" >&lt;float64&gt;</td>\n",
       "      <td style=\"font-style: italic;\" >&lt;float64&gt;</td>\n",
       "      <td style=\"font-style: italic;\" >&lt;float64&gt;</td>\n",
       "      <td style=\"font-style: italic;\" >&lt;float64&gt;</td>\n",
       "    </tr>\n",
       "    <tr>\n",
       "      <th>0</th>\n",
       "      <td>0.077154</td>\n",
       "      <td>0.299979</td>\n",
       "      <td>0.257220</td>\n",
       "      <td>0.077154</td>\n",
       "    </tr>\n",
       "    <tr>\n",
       "      <th>1</th>\n",
       "      <td>0.407924</td>\n",
       "      <td>0.241265</td>\n",
       "      <td>0.007746</td>\n",
       "      <td>0.007746</td>\n",
       "    </tr>\n",
       "    <tr>\n",
       "      <th>2</th>\n",
       "      <td>0.968024</td>\n",
       "      <td>0.661865</td>\n",
       "      <td>0.813643</td>\n",
       "      <td>0.661865</td>\n",
       "    </tr>\n",
       "    <tr>\n",
       "      <th>3</th>\n",
       "      <td>0.260182</td>\n",
       "      <td>0.610448</td>\n",
       "      <td>0.216515</td>\n",
       "      <td>0.216515</td>\n",
       "    </tr>\n",
       "    <tr>\n",
       "      <th>4</th>\n",
       "      <td>0.620912</td>\n",
       "      <td>0.800267</td>\n",
       "      <td>0.471427</td>\n",
       "      <td>0.471427</td>\n",
       "    </tr>\n",
       "    <tr>\n",
       "      <th>5</th>\n",
       "      <td>0.491775</td>\n",
       "      <td>0.156541</td>\n",
       "      <td>0.862262</td>\n",
       "      <td>0.156541</td>\n",
       "    </tr>\n",
       "  </tbody>\n",
       "</table>\n",
       "<p>Rowwise: []</p>"
      ],
      "text/plain": [
       "          x         y         z         m\n",
       "  <float64> <float64> <float64> <float64>\n",
       "0  0.077154  0.299979  0.257220  0.077154\n",
       "1  0.407924  0.241265  0.007746  0.007746\n",
       "2  0.968024  0.661865  0.813643  0.661865\n",
       "3  0.260182  0.610448  0.216515  0.216515\n",
       "4  0.620912  0.800267  0.471427  0.471427\n",
       "5  0.491775  0.156541  0.862262  0.156541\n",
       "\n",
       "[Rowwise: ]"
      ]
     },
     "execution_count": 1,
     "metadata": {},
     "output_type": "execute_result"
    }
   ],
   "source": [
    "df >> rowwise() >> mutate(m=min(c_across([f.x, f.y, f.z]))) "
   ]
  },
  {
   "cell_type": "code",
   "execution_count": 5,
   "metadata": {
    "execution": {
     "iopub.execute_input": "2021-07-16T22:28:10.231704Z",
     "iopub.status.busy": "2021-07-16T22:28:10.230994Z",
     "iopub.status.idle": "2021-07-16T22:28:10.235604Z",
     "shell.execute_reply": "2021-07-16T22:28:10.234881Z"
    }
   },
   "outputs": [
    {
     "data": {
      "text/html": [
       "<table border=\"1\" class=\"dataframe\">\n",
       "  <thead>\n",
       "    <tr style=\"text-align: right;\">\n",
       "      <th></th>\n",
       "      <th>x</th>\n",
       "      <th>y</th>\n",
       "      <th>z</th>\n",
       "      <th>m</th>\n",
       "    </tr>\n",
       "  </thead>\n",
       "  <tbody>\n",
       "    <tr>\n",
       "      <th style=\"font-style: italic;\" ></th>\n",
       "      <td style=\"font-style: italic;\" >&lt;float64&gt;</td>\n",
       "      <td style=\"font-style: italic;\" >&lt;float64&gt;</td>\n",
       "      <td style=\"font-style: italic;\" >&lt;float64&gt;</td>\n",
       "      <td style=\"font-style: italic;\" >&lt;float64&gt;</td>\n",
       "    </tr>\n",
       "    <tr>\n",
       "      <th>0</th>\n",
       "      <td>0.077154</td>\n",
       "      <td>0.299979</td>\n",
       "      <td>0.257220</td>\n",
       "      <td>0.077154</td>\n",
       "    </tr>\n",
       "    <tr>\n",
       "      <th>1</th>\n",
       "      <td>0.407924</td>\n",
       "      <td>0.241265</td>\n",
       "      <td>0.007746</td>\n",
       "      <td>0.007746</td>\n",
       "    </tr>\n",
       "    <tr>\n",
       "      <th>2</th>\n",
       "      <td>0.968024</td>\n",
       "      <td>0.661865</td>\n",
       "      <td>0.813643</td>\n",
       "      <td>0.661865</td>\n",
       "    </tr>\n",
       "    <tr>\n",
       "      <th>3</th>\n",
       "      <td>0.260182</td>\n",
       "      <td>0.610448</td>\n",
       "      <td>0.216515</td>\n",
       "      <td>0.216515</td>\n",
       "    </tr>\n",
       "    <tr>\n",
       "      <th>4</th>\n",
       "      <td>0.620912</td>\n",
       "      <td>0.800267</td>\n",
       "      <td>0.471427</td>\n",
       "      <td>0.471427</td>\n",
       "    </tr>\n",
       "    <tr>\n",
       "      <th>5</th>\n",
       "      <td>0.491775</td>\n",
       "      <td>0.156541</td>\n",
       "      <td>0.862262</td>\n",
       "      <td>0.156541</td>\n",
       "    </tr>\n",
       "  </tbody>\n",
       "</table>\n",
       "<p>Rowwise: []</p>"
      ],
      "text/plain": [
       "          x         y         z         m\n",
       "  <float64> <float64> <float64> <float64>\n",
       "0  0.077154  0.299979  0.257220  0.077154\n",
       "1  0.407924  0.241265  0.007746  0.007746\n",
       "2  0.968024  0.661865  0.813643  0.661865\n",
       "3  0.260182  0.610448  0.216515  0.216515\n",
       "4  0.620912  0.800267  0.471427  0.471427\n",
       "5  0.491775  0.156541  0.862262  0.156541\n",
       "\n",
       "[Rowwise: ]"
      ]
     },
     "execution_count": 1,
     "metadata": {},
     "output_type": "execute_result"
    }
   ],
   "source": [
    "df >> rowwise() >> mutate(m=min(c_across(f[f.x:f.z]))) "
   ]
  },
  {
   "cell_type": "code",
   "execution_count": 6,
   "metadata": {
    "execution": {
     "iopub.execute_input": "2021-07-16T22:28:10.245426Z",
     "iopub.status.busy": "2021-07-16T22:28:10.244596Z",
     "iopub.status.idle": "2021-07-16T22:28:10.286588Z",
     "shell.execute_reply": "2021-07-16T22:28:10.287010Z"
    }
   },
   "outputs": [
    {
     "data": {
      "text/html": [
       "<table border=\"1\" class=\"dataframe\">\n",
       "  <thead>\n",
       "    <tr style=\"text-align: right;\">\n",
       "      <th></th>\n",
       "      <th>x</th>\n",
       "      <th>y</th>\n",
       "      <th>z</th>\n",
       "      <th>m</th>\n",
       "    </tr>\n",
       "  </thead>\n",
       "  <tbody>\n",
       "    <tr>\n",
       "      <th style=\"font-style: italic;\" ></th>\n",
       "      <td style=\"font-style: italic;\" >&lt;float64&gt;</td>\n",
       "      <td style=\"font-style: italic;\" >&lt;float64&gt;</td>\n",
       "      <td style=\"font-style: italic;\" >&lt;float64&gt;</td>\n",
       "      <td style=\"font-style: italic;\" >&lt;float64&gt;</td>\n",
       "    </tr>\n",
       "    <tr>\n",
       "      <th>0</th>\n",
       "      <td>0.077154</td>\n",
       "      <td>0.299979</td>\n",
       "      <td>0.257220</td>\n",
       "      <td>0.077154</td>\n",
       "    </tr>\n",
       "    <tr>\n",
       "      <th>1</th>\n",
       "      <td>0.407924</td>\n",
       "      <td>0.241265</td>\n",
       "      <td>0.007746</td>\n",
       "      <td>0.007746</td>\n",
       "    </tr>\n",
       "    <tr>\n",
       "      <th>2</th>\n",
       "      <td>0.968024</td>\n",
       "      <td>0.661865</td>\n",
       "      <td>0.813643</td>\n",
       "      <td>0.661865</td>\n",
       "    </tr>\n",
       "    <tr>\n",
       "      <th>3</th>\n",
       "      <td>0.260182</td>\n",
       "      <td>0.610448</td>\n",
       "      <td>0.216515</td>\n",
       "      <td>0.216515</td>\n",
       "    </tr>\n",
       "    <tr>\n",
       "      <th>4</th>\n",
       "      <td>0.620912</td>\n",
       "      <td>0.800267</td>\n",
       "      <td>0.471427</td>\n",
       "      <td>0.471427</td>\n",
       "    </tr>\n",
       "    <tr>\n",
       "      <th>5</th>\n",
       "      <td>0.491775</td>\n",
       "      <td>0.156541</td>\n",
       "      <td>0.862262</td>\n",
       "      <td>0.156541</td>\n",
       "    </tr>\n",
       "  </tbody>\n",
       "</table>"
      ],
      "text/plain": [
       "          x         y         z         m\n",
       "  <float64> <float64> <float64> <float64>\n",
       "0  0.077154  0.299979  0.257220  0.077154\n",
       "1  0.407924  0.241265  0.007746  0.007746\n",
       "2  0.968024  0.661865  0.813643  0.661865\n",
       "3  0.260182  0.610448  0.216515  0.216515\n",
       "4  0.620912  0.800267  0.471427  0.471427\n",
       "5  0.491775  0.156541  0.862262  0.156541"
      ]
     },
     "execution_count": 1,
     "metadata": {},
     "output_type": "execute_result"
    }
   ],
   "source": [
    "df >> mutate(m = pmin(f.x, f.y, f.z))"
   ]
  },
  {
   "cell_type": "code",
   "execution_count": 7,
   "metadata": {
    "execution": {
     "iopub.execute_input": "2021-07-16T22:28:10.296858Z",
     "iopub.status.busy": "2021-07-16T22:28:10.296263Z",
     "iopub.status.idle": "2021-07-16T22:28:10.347572Z",
     "shell.execute_reply": "2021-07-16T22:28:10.348035Z"
    }
   },
   "outputs": [
    {
     "data": {
      "text/html": [
       "<table border=\"1\" class=\"dataframe\">\n",
       "  <thead>\n",
       "    <tr style=\"text-align: right;\">\n",
       "      <th></th>\n",
       "      <th>sim</th>\n",
       "      <th>sim</th>\n",
       "      <th>n</th>\n",
       "      <th>mean</th>\n",
       "      <th>sd</th>\n",
       "      <th>z</th>\n",
       "    </tr>\n",
       "  </thead>\n",
       "  <tbody>\n",
       "    <tr>\n",
       "      <th style=\"font-style: italic;\" ></th>\n",
       "      <td style=\"font-style: italic;\" >&lt;int64&gt;</td>\n",
       "      <td style=\"font-style: italic;\" >&lt;int64&gt;</td>\n",
       "      <td style=\"font-style: italic;\" >&lt;int64&gt;</td>\n",
       "      <td style=\"font-style: italic;\" >&lt;int64&gt;</td>\n",
       "      <td style=\"font-style: italic;\" >&lt;int64&gt;</td>\n",
       "      <td style=\"font-style: italic;\" >&lt;object&gt;</td>\n",
       "    </tr>\n",
       "    <tr>\n",
       "      <th>0</th>\n",
       "      <td>1</td>\n",
       "      <td>1</td>\n",
       "      <td>1</td>\n",
       "      <td>1</td>\n",
       "      <td>1</td>\n",
       "      <td>[1.2855047883943453]</td>\n",
       "    </tr>\n",
       "    <tr>\n",
       "      <th>1</th>\n",
       "      <td>2</td>\n",
       "      <td>2</td>\n",
       "      <td>2</td>\n",
       "      <td>2</td>\n",
       "      <td>4</td>\n",
       "      <td>[-10.824607900308285, -1.9616776206818036]</td>\n",
       "    </tr>\n",
       "    <tr>\n",
       "      <th>2</th>\n",
       "      <td>3</td>\n",
       "      <td>3</td>\n",
       "      <td>3</td>\n",
       "      <td>1</td>\n",
       "      <td>2</td>\n",
       "      <td>[2.5483739733913815, 1.6663695410372967, -0.03...</td>\n",
       "    </tr>\n",
       "  </tbody>\n",
       "</table>\n",
       "<p>Rowwise: ['sim']</p>"
      ],
      "text/plain": [
       "      sim     sim       n    mean      sd  \\\n",
       "  <int64> <int64> <int64> <int64> <int64>   \n",
       "0       1       1       1       1       1   \n",
       "1       2       2       2       2       4   \n",
       "2       3       3       3       1       2   \n",
       "\n",
       "                                                   z  \n",
       "                                            <object>  \n",
       "0                               [1.2855047883943453]  \n",
       "1         [-10.824607900308285, -1.9616776206818036]  \n",
       "2  [2.5483739733913815, 1.6663695410372967, -0.03...  \n",
       "\n",
       "[Rowwise: sim]"
      ]
     },
     "execution_count": 1,
     "metadata": {},
     "output_type": "execute_result"
    }
   ],
   "source": [
    "params = tibble(\n",
    "    sim=[1, 2, 3],\n",
    "    n=[1, 2, 3],\n",
    "    mean=[1, 2, 1],\n",
    "    sd=[1, 4, 2]\n",
    ")\n",
    "\n",
    "params >> rowwise(f.sim) >> mutate(z=[rnorm(f.n, f.mean, f.sd)]) "
   ]
  },
  {
   "cell_type": "code",
   "execution_count": null,
   "metadata": {},
   "outputs": [],
   "source": []
  }
 ],
 "metadata": {
  "interpreter": {
   "hash": "c4cc73b080e063fcebb9afb794613be7caf4b26129562cba1382945a18cc49cc"
  },
  "kernelspec": {
   "display_name": "Python 3.7.8 64-bit ('base': conda)",
   "name": "python3"
  },
  "language_info": {
   "codemirror_mode": {
    "name": "ipython",
    "version": 3
   },
   "file_extension": ".py",
   "mimetype": "text/x-python",
   "name": "python",
   "nbconvert_exporter": "python",
   "pygments_lexer": "ipython3",
   "version": "3.7.8"
  }
 },
 "nbformat": 4,
 "nbformat_minor": 4
}
