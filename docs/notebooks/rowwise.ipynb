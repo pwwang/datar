{
 "cells": [
  {
   "cell_type": "code",
   "execution_count": 8,
   "metadata": {
    "execution": {
     "iopub.execute_input": "2021-04-17T00:54:56.542357Z",
     "iopub.status.busy": "2021-04-17T00:54:56.541626Z",
     "iopub.status.idle": "2021-04-17T00:54:57.238587Z",
     "shell.execute_reply": "2021-04-17T00:54:57.237937Z"
    }
   },
   "outputs": [
    {
     "data": {
      "text/html": [
       "<div style=\"text-align: right; text-style: italic\">Try this notebook on <a target=\"_blank\" href=\"https://mybinder.org/v2/gh/pwwang/datar/93d069f3ca36711fc811c61dcf60e9fc3d1460a5?filepath=docs%2Fnotebooks%2Frowwise.ipynb\">binder</a>.</div>"
      ],
      "text/plain": [
       "<IPython.core.display.HTML object>"
      ]
     },
     "metadata": {},
     "output_type": "display_data"
    },
    {
     "data": {
      "text/markdown": [
       "### # rowwise  "
      ],
      "text/plain": [
       "<IPython.core.display.Markdown object>"
      ]
     },
     "metadata": {},
     "output_type": "display_data"
    },
    {
     "data": {
      "text/markdown": [
       "##### Compute on a data frame a row-at-a-time\n",
       "\n",
       "See https://dplyr.tidyverse.org/reference/rowwise.html  \n",
       "\n",
       "##### Args:\n",
       "&emsp;&emsp;`_data`: The dataframe  \n",
       "&emsp;&emsp;`*columns`: Variables to be preserved when calling summarise().  \n",
       "&emsp;&emsp;&emsp;&emsp;This is typically a set of variables whose combination  \n",
       "&emsp;&emsp;&emsp;&emsp;uniquely identify each row.  \n",
       "\n",
       "&emsp;&emsp;`base0_`: Whether indexes are 0-based if columns are selected by indexes.  \n",
       "&emsp;&emsp;&emsp;&emsp;If not given, will use `datar.base.get_option('index.base.0')`  \n",
       "\n",
       "##### Returns:\n",
       "&emsp;&emsp;A row-wise data frame  \n"
      ],
      "text/plain": [
       "<IPython.core.display.Markdown object>"
      ]
     },
     "metadata": {},
     "output_type": "display_data"
    }
   ],
   "source": [
    "# https://dplyr.tidyverse.org/reference/rowwise.html\n",
    "\n",
    "from datar.datasets import iris\n",
    "from datar.all import *\n",
    "\n",
    "%run nb_helpers.py\n",
    "nb_header(rowwise)"
   ]
  },
  {
   "cell_type": "code",
   "execution_count": 9,
   "metadata": {
    "execution": {
     "iopub.execute_input": "2021-04-17T00:54:57.243439Z",
     "iopub.status.busy": "2021-04-17T00:54:57.242778Z",
     "iopub.status.idle": "2021-04-17T00:54:57.332599Z",
     "shell.execute_reply": "2021-04-17T00:54:57.331757Z"
    }
   },
   "outputs": [
    {
     "data": {
      "text/html": [
       "<table border=\"1\" class=\"dataframe\">\n",
       "  <thead>\n",
       "    <tr style=\"text-align: right;\">\n",
       "      <th></th>\n",
       "      <th>x</th>\n",
       "      <th>y</th>\n",
       "      <th>z</th>\n",
       "      <th>m</th>\n",
       "    </tr>\n",
       "  </thead>\n",
       "  <tbody>\n",
       "    <tr>\n",
       "      <th style=\"font-style: italic;\" ></th>\n",
       "      <td style=\"font-style: italic;\" >&lt;float64&gt;</td>\n",
       "      <td style=\"font-style: italic;\" >&lt;float64&gt;</td>\n",
       "      <td style=\"font-style: italic;\" >&lt;float64&gt;</td>\n",
       "      <td style=\"font-style: italic;\" >&lt;float64&gt;</td>\n",
       "    </tr>\n",
       "    <tr>\n",
       "      <th>0</th>\n",
       "      <td>0.978019</td>\n",
       "      <td>0.409827</td>\n",
       "      <td>0.494186</td>\n",
       "      <td>0.627344</td>\n",
       "    </tr>\n",
       "    <tr>\n",
       "      <th>1</th>\n",
       "      <td>0.148053</td>\n",
       "      <td>0.267015</td>\n",
       "      <td>0.727037</td>\n",
       "      <td>0.380702</td>\n",
       "    </tr>\n",
       "    <tr>\n",
       "      <th>2</th>\n",
       "      <td>0.353099</td>\n",
       "      <td>0.932557</td>\n",
       "      <td>0.851494</td>\n",
       "      <td>0.712383</td>\n",
       "    </tr>\n",
       "    <tr>\n",
       "      <th>3</th>\n",
       "      <td>0.342744</td>\n",
       "      <td>0.497407</td>\n",
       "      <td>0.459758</td>\n",
       "      <td>0.433303</td>\n",
       "    </tr>\n",
       "    <tr>\n",
       "      <th>4</th>\n",
       "      <td>0.817116</td>\n",
       "      <td>0.301053</td>\n",
       "      <td>0.049890</td>\n",
       "      <td>0.389353</td>\n",
       "    </tr>\n",
       "    <tr>\n",
       "      <th>5</th>\n",
       "      <td>0.444922</td>\n",
       "      <td>0.769882</td>\n",
       "      <td>0.802420</td>\n",
       "      <td>0.672408</td>\n",
       "    </tr>\n",
       "  </tbody>\n",
       "</table>\n",
       "<p>Rowwise: []</p>"
      ],
      "text/plain": [
       "          x         y         z         m\n",
       "  <float64> <float64> <float64> <float64>\n",
       "0  0.978019  0.409827  0.494186  0.627344\n",
       "1  0.148053  0.267015  0.727037  0.380702\n",
       "2  0.353099  0.932557  0.851494  0.712383\n",
       "3  0.342744  0.497407  0.459758  0.433303\n",
       "4  0.817116  0.301053  0.049890  0.389353\n",
       "5  0.444922  0.769882  0.802420  0.672408\n",
       "\n",
       "[Rowwise: ]"
      ]
     },
     "execution_count": 9,
     "metadata": {},
     "output_type": "execute_result"
    }
   ],
   "source": [
    "df = tibble(x=runif(6), y=runif(6), z=runif(6))\n",
    "\n",
    "df >> rowwise() >> mutate(m=mean(c_across(c(f.x, f.y, f.z)))) "
   ]
  },
  {
   "cell_type": "code",
   "execution_count": 10,
   "metadata": {
    "execution": {
     "iopub.execute_input": "2021-04-17T00:54:57.354787Z",
     "iopub.status.busy": "2021-04-17T00:54:57.354244Z",
     "iopub.status.idle": "2021-04-17T00:54:57.383038Z",
     "shell.execute_reply": "2021-04-17T00:54:57.382566Z"
    }
   },
   "outputs": [
    {
     "data": {
      "text/html": [
       "<table border=\"1\" class=\"dataframe\">\n",
       "  <thead>\n",
       "    <tr style=\"text-align: right;\">\n",
       "      <th></th>\n",
       "      <th>x</th>\n",
       "      <th>y</th>\n",
       "      <th>z</th>\n",
       "      <th>m</th>\n",
       "    </tr>\n",
       "  </thead>\n",
       "  <tbody>\n",
       "    <tr>\n",
       "      <th style=\"font-style: italic;\" ></th>\n",
       "      <td style=\"font-style: italic;\" >&lt;float64&gt;</td>\n",
       "      <td style=\"font-style: italic;\" >&lt;float64&gt;</td>\n",
       "      <td style=\"font-style: italic;\" >&lt;float64&gt;</td>\n",
       "      <td style=\"font-style: italic;\" >&lt;float64&gt;</td>\n",
       "    </tr>\n",
       "    <tr>\n",
       "      <th>0</th>\n",
       "      <td>0.978019</td>\n",
       "      <td>0.409827</td>\n",
       "      <td>0.494186</td>\n",
       "      <td>0.627344</td>\n",
       "    </tr>\n",
       "    <tr>\n",
       "      <th>1</th>\n",
       "      <td>0.148053</td>\n",
       "      <td>0.267015</td>\n",
       "      <td>0.727037</td>\n",
       "      <td>0.380702</td>\n",
       "    </tr>\n",
       "    <tr>\n",
       "      <th>2</th>\n",
       "      <td>0.353099</td>\n",
       "      <td>0.932557</td>\n",
       "      <td>0.851494</td>\n",
       "      <td>0.712383</td>\n",
       "    </tr>\n",
       "    <tr>\n",
       "      <th>3</th>\n",
       "      <td>0.342744</td>\n",
       "      <td>0.497407</td>\n",
       "      <td>0.459758</td>\n",
       "      <td>0.433303</td>\n",
       "    </tr>\n",
       "    <tr>\n",
       "      <th>4</th>\n",
       "      <td>0.817116</td>\n",
       "      <td>0.301053</td>\n",
       "      <td>0.049890</td>\n",
       "      <td>0.389353</td>\n",
       "    </tr>\n",
       "    <tr>\n",
       "      <th>5</th>\n",
       "      <td>0.444922</td>\n",
       "      <td>0.769882</td>\n",
       "      <td>0.802420</td>\n",
       "      <td>0.672408</td>\n",
       "    </tr>\n",
       "  </tbody>\n",
       "</table>\n",
       "<p>Rowwise: []</p>"
      ],
      "text/plain": [
       "          x         y         z         m\n",
       "  <float64> <float64> <float64> <float64>\n",
       "0  0.978019  0.409827  0.494186  0.627344\n",
       "1  0.148053  0.267015  0.727037  0.380702\n",
       "2  0.353099  0.932557  0.851494  0.712383\n",
       "3  0.342744  0.497407  0.459758  0.433303\n",
       "4  0.817116  0.301053  0.049890  0.389353\n",
       "5  0.444922  0.769882  0.802420  0.672408\n",
       "\n",
       "[Rowwise: ]"
      ]
     },
     "execution_count": 10,
     "metadata": {},
     "output_type": "execute_result"
    }
   ],
   "source": [
    "df >> rowwise() >> mutate(m=mean(c_across(f[f.x:f.z])))"
   ]
  },
  {
   "cell_type": "code",
   "execution_count": 11,
   "metadata": {
    "execution": {
     "iopub.execute_input": "2021-04-17T00:54:57.407025Z",
     "iopub.status.busy": "2021-04-17T00:54:57.404233Z",
     "iopub.status.idle": "2021-04-17T00:54:57.428163Z",
     "shell.execute_reply": "2021-04-17T00:54:57.427650Z"
    }
   },
   "outputs": [
    {
     "data": {
      "text/html": [
       "<table border=\"1\" class=\"dataframe\">\n",
       "  <thead>\n",
       "    <tr style=\"text-align: right;\">\n",
       "      <th></th>\n",
       "      <th>x</th>\n",
       "      <th>y</th>\n",
       "      <th>z</th>\n",
       "      <th>m</th>\n",
       "    </tr>\n",
       "  </thead>\n",
       "  <tbody>\n",
       "    <tr>\n",
       "      <th style=\"font-style: italic;\" ></th>\n",
       "      <td style=\"font-style: italic;\" >&lt;float64&gt;</td>\n",
       "      <td style=\"font-style: italic;\" >&lt;float64&gt;</td>\n",
       "      <td style=\"font-style: italic;\" >&lt;float64&gt;</td>\n",
       "      <td style=\"font-style: italic;\" >&lt;float64&gt;</td>\n",
       "    </tr>\n",
       "    <tr>\n",
       "      <th>0</th>\n",
       "      <td>0.978019</td>\n",
       "      <td>0.409827</td>\n",
       "      <td>0.494186</td>\n",
       "      <td>0.409827</td>\n",
       "    </tr>\n",
       "    <tr>\n",
       "      <th>1</th>\n",
       "      <td>0.148053</td>\n",
       "      <td>0.267015</td>\n",
       "      <td>0.727037</td>\n",
       "      <td>0.148053</td>\n",
       "    </tr>\n",
       "    <tr>\n",
       "      <th>2</th>\n",
       "      <td>0.353099</td>\n",
       "      <td>0.932557</td>\n",
       "      <td>0.851494</td>\n",
       "      <td>0.353099</td>\n",
       "    </tr>\n",
       "    <tr>\n",
       "      <th>3</th>\n",
       "      <td>0.342744</td>\n",
       "      <td>0.497407</td>\n",
       "      <td>0.459758</td>\n",
       "      <td>0.342744</td>\n",
       "    </tr>\n",
       "    <tr>\n",
       "      <th>4</th>\n",
       "      <td>0.817116</td>\n",
       "      <td>0.301053</td>\n",
       "      <td>0.049890</td>\n",
       "      <td>0.049890</td>\n",
       "    </tr>\n",
       "    <tr>\n",
       "      <th>5</th>\n",
       "      <td>0.444922</td>\n",
       "      <td>0.769882</td>\n",
       "      <td>0.802420</td>\n",
       "      <td>0.444922</td>\n",
       "    </tr>\n",
       "  </tbody>\n",
       "</table>\n",
       "<p>Rowwise: []</p>"
      ],
      "text/plain": [
       "          x         y         z         m\n",
       "  <float64> <float64> <float64> <float64>\n",
       "0  0.978019  0.409827  0.494186  0.409827\n",
       "1  0.148053  0.267015  0.727037  0.148053\n",
       "2  0.353099  0.932557  0.851494  0.353099\n",
       "3  0.342744  0.497407  0.459758  0.342744\n",
       "4  0.817116  0.301053  0.049890  0.049890\n",
       "5  0.444922  0.769882  0.802420  0.444922\n",
       "\n",
       "[Rowwise: ]"
      ]
     },
     "execution_count": 11,
     "metadata": {},
     "output_type": "execute_result"
    }
   ],
   "source": [
    "df >> rowwise() >> mutate(m=min(c_across([f.x, f.y, f.z]))) "
   ]
  },
  {
   "cell_type": "code",
   "execution_count": 12,
   "metadata": {
    "execution": {
     "iopub.execute_input": "2021-04-17T00:54:57.446608Z",
     "iopub.status.busy": "2021-04-17T00:54:57.443389Z",
     "iopub.status.idle": "2021-04-17T00:54:57.472122Z",
     "shell.execute_reply": "2021-04-17T00:54:57.471782Z"
    }
   },
   "outputs": [
    {
     "data": {
      "text/html": [
       "<table border=\"1\" class=\"dataframe\">\n",
       "  <thead>\n",
       "    <tr style=\"text-align: right;\">\n",
       "      <th></th>\n",
       "      <th>x</th>\n",
       "      <th>y</th>\n",
       "      <th>z</th>\n",
       "      <th>m</th>\n",
       "    </tr>\n",
       "  </thead>\n",
       "  <tbody>\n",
       "    <tr>\n",
       "      <th style=\"font-style: italic;\" ></th>\n",
       "      <td style=\"font-style: italic;\" >&lt;float64&gt;</td>\n",
       "      <td style=\"font-style: italic;\" >&lt;float64&gt;</td>\n",
       "      <td style=\"font-style: italic;\" >&lt;float64&gt;</td>\n",
       "      <td style=\"font-style: italic;\" >&lt;float64&gt;</td>\n",
       "    </tr>\n",
       "    <tr>\n",
       "      <th>0</th>\n",
       "      <td>0.978019</td>\n",
       "      <td>0.409827</td>\n",
       "      <td>0.494186</td>\n",
       "      <td>0.409827</td>\n",
       "    </tr>\n",
       "    <tr>\n",
       "      <th>1</th>\n",
       "      <td>0.148053</td>\n",
       "      <td>0.267015</td>\n",
       "      <td>0.727037</td>\n",
       "      <td>0.148053</td>\n",
       "    </tr>\n",
       "    <tr>\n",
       "      <th>2</th>\n",
       "      <td>0.353099</td>\n",
       "      <td>0.932557</td>\n",
       "      <td>0.851494</td>\n",
       "      <td>0.353099</td>\n",
       "    </tr>\n",
       "    <tr>\n",
       "      <th>3</th>\n",
       "      <td>0.342744</td>\n",
       "      <td>0.497407</td>\n",
       "      <td>0.459758</td>\n",
       "      <td>0.342744</td>\n",
       "    </tr>\n",
       "    <tr>\n",
       "      <th>4</th>\n",
       "      <td>0.817116</td>\n",
       "      <td>0.301053</td>\n",
       "      <td>0.049890</td>\n",
       "      <td>0.049890</td>\n",
       "    </tr>\n",
       "    <tr>\n",
       "      <th>5</th>\n",
       "      <td>0.444922</td>\n",
       "      <td>0.769882</td>\n",
       "      <td>0.802420</td>\n",
       "      <td>0.444922</td>\n",
       "    </tr>\n",
       "  </tbody>\n",
       "</table>\n",
       "<p>Rowwise: []</p>"
      ],
      "text/plain": [
       "          x         y         z         m\n",
       "  <float64> <float64> <float64> <float64>\n",
       "0  0.978019  0.409827  0.494186  0.409827\n",
       "1  0.148053  0.267015  0.727037  0.148053\n",
       "2  0.353099  0.932557  0.851494  0.353099\n",
       "3  0.342744  0.497407  0.459758  0.342744\n",
       "4  0.817116  0.301053  0.049890  0.049890\n",
       "5  0.444922  0.769882  0.802420  0.444922\n",
       "\n",
       "[Rowwise: ]"
      ]
     },
     "execution_count": 12,
     "metadata": {},
     "output_type": "execute_result"
    }
   ],
   "source": [
    "df >> rowwise() >> mutate(m=min(c_across(f[f.x:f.z]))) "
   ]
  },
  {
   "cell_type": "code",
   "execution_count": 13,
   "metadata": {
    "execution": {
     "iopub.execute_input": "2021-04-17T00:54:57.478462Z",
     "iopub.status.busy": "2021-04-17T00:54:57.477930Z",
     "iopub.status.idle": "2021-04-17T00:54:57.519522Z",
     "shell.execute_reply": "2021-04-17T00:54:57.519869Z"
    }
   },
   "outputs": [
    {
     "data": {
      "text/html": [
       "<table border=\"1\" class=\"dataframe\">\n",
       "  <thead>\n",
       "    <tr style=\"text-align: right;\">\n",
       "      <th></th>\n",
       "      <th>x</th>\n",
       "      <th>y</th>\n",
       "      <th>z</th>\n",
       "      <th>m</th>\n",
       "    </tr>\n",
       "  </thead>\n",
       "  <tbody>\n",
       "    <tr>\n",
       "      <th style=\"font-style: italic;\" ></th>\n",
       "      <td style=\"font-style: italic;\" >&lt;float64&gt;</td>\n",
       "      <td style=\"font-style: italic;\" >&lt;float64&gt;</td>\n",
       "      <td style=\"font-style: italic;\" >&lt;float64&gt;</td>\n",
       "      <td style=\"font-style: italic;\" >&lt;float64&gt;</td>\n",
       "    </tr>\n",
       "    <tr>\n",
       "      <th>0</th>\n",
       "      <td>0.978019</td>\n",
       "      <td>0.409827</td>\n",
       "      <td>0.494186</td>\n",
       "      <td>0.409827</td>\n",
       "    </tr>\n",
       "    <tr>\n",
       "      <th>1</th>\n",
       "      <td>0.148053</td>\n",
       "      <td>0.267015</td>\n",
       "      <td>0.727037</td>\n",
       "      <td>0.148053</td>\n",
       "    </tr>\n",
       "    <tr>\n",
       "      <th>2</th>\n",
       "      <td>0.353099</td>\n",
       "      <td>0.932557</td>\n",
       "      <td>0.851494</td>\n",
       "      <td>0.353099</td>\n",
       "    </tr>\n",
       "    <tr>\n",
       "      <th>3</th>\n",
       "      <td>0.342744</td>\n",
       "      <td>0.497407</td>\n",
       "      <td>0.459758</td>\n",
       "      <td>0.342744</td>\n",
       "    </tr>\n",
       "    <tr>\n",
       "      <th>4</th>\n",
       "      <td>0.817116</td>\n",
       "      <td>0.301053</td>\n",
       "      <td>0.049890</td>\n",
       "      <td>0.049890</td>\n",
       "    </tr>\n",
       "    <tr>\n",
       "      <th>5</th>\n",
       "      <td>0.444922</td>\n",
       "      <td>0.769882</td>\n",
       "      <td>0.802420</td>\n",
       "      <td>0.444922</td>\n",
       "    </tr>\n",
       "  </tbody>\n",
       "</table>"
      ],
      "text/plain": [
       "          x         y         z         m\n",
       "  <float64> <float64> <float64> <float64>\n",
       "0  0.978019  0.409827  0.494186  0.409827\n",
       "1  0.148053  0.267015  0.727037  0.148053\n",
       "2  0.353099  0.932557  0.851494  0.353099\n",
       "3  0.342744  0.497407  0.459758  0.342744\n",
       "4  0.817116  0.301053  0.049890  0.049890\n",
       "5  0.444922  0.769882  0.802420  0.444922"
      ]
     },
     "execution_count": 13,
     "metadata": {},
     "output_type": "execute_result"
    }
   ],
   "source": [
    "df >> mutate(m = pmin(f.x, f.y, f.z))"
   ]
  },
  {
   "cell_type": "code",
   "execution_count": 14,
   "metadata": {
    "execution": {
     "iopub.execute_input": "2021-04-17T00:54:57.524458Z",
     "iopub.status.busy": "2021-04-17T00:54:57.523953Z",
     "iopub.status.idle": "2021-04-17T00:54:57.582151Z",
     "shell.execute_reply": "2021-04-17T00:54:57.581811Z"
    }
   },
   "outputs": [
    {
     "name": "stderr",
     "output_type": "stream",
     "text": [
      "[2021-07-07 00:16:53][datar][   INFO] `summarise()` has grouped output by ['sim'] (override with `_groups` argument)\n"
     ]
    },
    {
     "data": {
      "text/html": [
       "<table border=\"1\" class=\"dataframe\">\n",
       "  <thead>\n",
       "    <tr style=\"text-align: right;\">\n",
       "      <th></th>\n",
       "      <th>sim</th>\n",
       "      <th>z</th>\n",
       "    </tr>\n",
       "  </thead>\n",
       "  <tbody>\n",
       "    <tr>\n",
       "      <th style=\"font-style: italic;\" ></th>\n",
       "      <td style=\"font-style: italic;\" >&lt;int64&gt;</td>\n",
       "      <td style=\"font-style: italic;\" >&lt;object&gt;</td>\n",
       "    </tr>\n",
       "    <tr>\n",
       "      <th>0</th>\n",
       "      <td>1</td>\n",
       "      <td>[0.4253793332736262]</td>\n",
       "    </tr>\n",
       "    <tr>\n",
       "      <th>1</th>\n",
       "      <td>2</td>\n",
       "      <td>[5.685960561587633, 7.0549853098163195]</td>\n",
       "    </tr>\n",
       "    <tr>\n",
       "      <th>2</th>\n",
       "      <td>3</td>\n",
       "      <td>[3.2541795161080462, -0.22317530678020692, -2....</td>\n",
       "    </tr>\n",
       "  </tbody>\n",
       "</table>\n",
       "<p>Groups: ['sim'] (n=3)</p>"
      ],
      "text/plain": [
       "      sim                                                  z\n",
       "  <int64>                                           <object>\n",
       "0       1                               [0.4253793332736262]\n",
       "1       2            [5.685960561587633, 7.0549853098163195]\n",
       "2       3  [3.2541795161080462, -0.22317530678020692, -2....\n",
       "\n",
       "[Groups: sim (n=3)]"
      ]
     },
     "execution_count": 14,
     "metadata": {},
     "output_type": "execute_result"
    }
   ],
   "source": [
    "params = tibble(\n",
    "    sim=[1, 2, 3],\n",
    "    n=[1, 2, 3],\n",
    "    mean=[1, 2, 1],\n",
    "    sd=[1, 4, 2]\n",
    ")\n",
    "\n",
    "params >> rowwise(f.sim) >> summarise(z=[rnorm(f.n, f.mean, f.sd)]) "
   ]
  },
  {
   "cell_type": "code",
   "execution_count": null,
   "metadata": {},
   "outputs": [],
   "source": []
  }
 ],
 "metadata": {
  "interpreter": {
   "hash": "c4cc73b080e063fcebb9afb794613be7caf4b26129562cba1382945a18cc49cc"
  },
  "kernelspec": {
   "display_name": "Python 3.7.8 64-bit ('base': conda)",
   "name": "python3"
  },
  "language_info": {
   "codemirror_mode": {
    "name": "ipython",
    "version": 3
   },
   "file_extension": ".py",
   "mimetype": "text/x-python",
   "name": "python",
   "nbconvert_exporter": "python",
   "pygments_lexer": "ipython3",
   "version": "3.7.8"
  }
 },
 "nbformat": 4,
 "nbformat_minor": 4
}