{
 "cells": [
  {
   "cell_type": "code",
   "execution_count": 1,
   "metadata": {
    "execution": {
     "iopub.execute_input": "2021-07-16T22:28:08.630104Z",
     "iopub.status.busy": "2021-07-16T22:28:08.629477Z",
     "iopub.status.idle": "2021-07-16T22:28:09.661020Z",
     "shell.execute_reply": "2021-07-16T22:28:09.658387Z"
    }
   },
   "outputs": [
    {
     "name": "stderr",
     "output_type": "stream",
     "text": [
      "[2022-03-06 02:33:14][datar][WARNING] Builtin name \"min\" has been overriden by datar.\n",
      "[2022-03-06 02:33:14][datar][WARNING] Builtin name \"max\" has been overriden by datar.\n",
      "[2022-03-06 02:33:14][datar][WARNING] Builtin name \"sum\" has been overriden by datar.\n",
      "[2022-03-06 02:33:14][datar][WARNING] Builtin name \"abs\" has been overriden by datar.\n",
      "[2022-03-06 02:33:14][datar][WARNING] Builtin name \"round\" has been overriden by datar.\n",
      "[2022-03-06 02:33:14][datar][WARNING] Builtin name \"all\" has been overriden by datar.\n",
      "[2022-03-06 02:33:14][datar][WARNING] Builtin name \"any\" has been overriden by datar.\n",
      "[2022-03-06 02:33:14][datar][WARNING] Builtin name \"re\" has been overriden by datar.\n",
      "[2022-03-06 02:33:14][datar][WARNING] Builtin name \"filter\" has been overriden by datar.\n",
      "[2022-03-06 02:33:14][datar][WARNING] Builtin name \"slice\" has been overriden by datar.\n"
     ]
    },
    {
     "data": {
      "text/html": [
       "<div style=\"text-align: right; text-style: italic\">Try this notebook on <a target=\"_blank\" href=\"https://mybinder.org/v2/gh/pwwang/datar/93d069f3ca36711fc811c61dcf60e9fc3d1460a5?filepath=docs%2Fnotebooks%2Frowwise.ipynb\">binder</a>.</div>"
      ],
      "text/plain": [
       "<IPython.core.display.HTML object>"
      ]
     },
     "metadata": {},
     "output_type": "display_data"
    },
    {
     "data": {
      "text/markdown": [
       "### # rowwise  "
      ],
      "text/plain": [
       "<IPython.core.display.Markdown object>"
      ]
     },
     "metadata": {},
     "output_type": "display_data"
    },
    {
     "data": {
      "text/markdown": [
       "##### Compute on a data frame a row-at-a-time\n",
       "\n",
       "See https://dplyr.tidyverse.org/reference/rowwise.html  \n",
       "\n",
       "##### Args:\n",
       "&emsp;&emsp;`_data`: The dataframe  \n",
       "&emsp;&emsp;`*cols`: Variables to be preserved when calling summarise().  \n",
       "&emsp;&emsp;&emsp;&emsp;This is typically a set of variables whose combination  \n",
       "&emsp;&emsp;&emsp;&emsp;uniquely identify each row.  \n",
       "\n",
       "##### Returns:\n",
       "&emsp;&emsp;A row-wise data frame  \n"
      ],
      "text/plain": [
       "<IPython.core.display.Markdown object>"
      ]
     },
     "metadata": {},
     "output_type": "display_data"
    }
   ],
   "source": [
    "# https://dplyr.tidyverse.org/reference/rowwise.html\n",
    "\n",
    "from datar.datasets import iris\n",
    "from datar.all import *\n",
    "\n",
    "%run nb_helpers.py\n",
    "nb_header(rowwise)"
   ]
  },
  {
   "cell_type": "code",
   "execution_count": 2,
   "metadata": {
    "execution": {
     "iopub.execute_input": "2021-07-16T22:28:09.684543Z",
     "iopub.status.busy": "2021-07-16T22:28:09.683910Z",
     "iopub.status.idle": "2021-07-16T22:28:09.995217Z",
     "shell.execute_reply": "2021-07-16T22:28:09.995615Z"
    }
   },
   "outputs": [
    {
     "data": {
      "text/html": [
       "<div>\n",
       "<style scoped>\n",
       "    .dataframe tbody tr th:only-of-type {\n",
       "        vertical-align: middle;\n",
       "    }\n",
       "\n",
       "    .dataframe tbody tr th {\n",
       "        vertical-align: top;\n",
       "    }\n",
       "\n",
       "    .dataframe thead th {\n",
       "        text-align: right;\n",
       "    }\n",
       "</style>\n",
       "<table border=\"1\" class=\"dataframe\">\n",
       "  <thead>\n",
       "    <tr style=\"text-align: right;\">\n",
       "      <th></th>\n",
       "      <th>x</th>\n",
       "      <th>y</th>\n",
       "      <th>z</th>\n",
       "      <th>m</th>\n",
       "    </tr>\n",
       "  </thead>\n",
       "  <tbody>\n",
       "    <tr>\n",
       "      <th style=\"font-style: italic;\" ></th>\n",
       "      <td style=\"font-style: italic;\" >&lt;float64&gt;</td>\n",
       "      <td style=\"font-style: italic;\" >&lt;float64&gt;</td>\n",
       "      <td style=\"font-style: italic;\" >&lt;float64&gt;</td>\n",
       "      <td style=\"font-style: italic;\" >&lt;float64&gt;</td>\n",
       "    </tr>\n",
       "    <tr>\n",
       "      <th>0</th>\n",
       "      <td>0.903370</td>\n",
       "      <td>0.381683</td>\n",
       "      <td>0.289784</td>\n",
       "      <td>0.524946</td>\n",
       "    </tr>\n",
       "    <tr>\n",
       "      <th>1</th>\n",
       "      <td>0.862827</td>\n",
       "      <td>0.432840</td>\n",
       "      <td>0.152457</td>\n",
       "      <td>0.482708</td>\n",
       "    </tr>\n",
       "    <tr>\n",
       "      <th>2</th>\n",
       "      <td>0.329482</td>\n",
       "      <td>0.993187</td>\n",
       "      <td>0.022119</td>\n",
       "      <td>0.448263</td>\n",
       "    </tr>\n",
       "    <tr>\n",
       "      <th>3</th>\n",
       "      <td>0.329133</td>\n",
       "      <td>0.365489</td>\n",
       "      <td>0.841347</td>\n",
       "      <td>0.511990</td>\n",
       "    </tr>\n",
       "    <tr>\n",
       "      <th>4</th>\n",
       "      <td>0.376668</td>\n",
       "      <td>0.604747</td>\n",
       "      <td>0.967709</td>\n",
       "      <td>0.649708</td>\n",
       "    </tr>\n",
       "    <tr>\n",
       "      <th>5</th>\n",
       "      <td>0.808531</td>\n",
       "      <td>0.968855</td>\n",
       "      <td>0.165438</td>\n",
       "      <td>0.647608</td>\n",
       "    </tr>\n",
       "  </tbody>\n",
       "</table>\n",
       "</div>\n",
       "<p>TibbleRowwise:  (n=6)"
      ],
      "text/plain": [
       "          x         y         z         m\n",
       "  <float64> <float64> <float64> <float64>\n",
       "0  0.903370  0.381683  0.289784  0.524946\n",
       "1  0.862827  0.432840  0.152457  0.482708\n",
       "2  0.329482  0.993187  0.022119  0.448263\n",
       "3  0.329133  0.365489  0.841347  0.511990\n",
       "4  0.376668  0.604747  0.967709  0.649708\n",
       "5  0.808531  0.968855  0.165438  0.647608\n",
       "[TibbleRowwise:  (n=6)]"
      ]
     },
     "execution_count": 2,
     "metadata": {},
     "output_type": "execute_result"
    }
   ],
   "source": [
    "df = tibble(x=runif(6), y=runif(6), z=runif(6))\n",
    "\n",
    "df >> rowwise() >> mutate(m=mean(c_across(c(f.x, f.y, f.z)))) "
   ]
  },
  {
   "cell_type": "code",
   "execution_count": 8,
   "metadata": {
    "execution": {
     "iopub.execute_input": "2021-07-16T22:28:10.067015Z",
     "iopub.status.busy": "2021-07-16T22:28:10.066388Z",
     "iopub.status.idle": "2021-07-16T22:28:10.080326Z",
     "shell.execute_reply": "2021-07-16T22:28:10.080713Z"
    }
   },
   "outputs": [
    {
     "data": {
      "text/html": [
       "<div>\n",
       "<style scoped>\n",
       "    .dataframe tbody tr th:only-of-type {\n",
       "        vertical-align: middle;\n",
       "    }\n",
       "\n",
       "    .dataframe tbody tr th {\n",
       "        vertical-align: top;\n",
       "    }\n",
       "\n",
       "    .dataframe thead th {\n",
       "        text-align: right;\n",
       "    }\n",
       "</style>\n",
       "<table border=\"1\" class=\"dataframe\">\n",
       "  <thead>\n",
       "    <tr style=\"text-align: right;\">\n",
       "      <th></th>\n",
       "      <th>x</th>\n",
       "      <th>y</th>\n",
       "      <th>z</th>\n",
       "      <th>m</th>\n",
       "    </tr>\n",
       "  </thead>\n",
       "  <tbody>\n",
       "    <tr>\n",
       "      <th style=\"font-style: italic;\" ></th>\n",
       "      <td style=\"font-style: italic;\" >&lt;float64&gt;</td>\n",
       "      <td style=\"font-style: italic;\" >&lt;float64&gt;</td>\n",
       "      <td style=\"font-style: italic;\" >&lt;float64&gt;</td>\n",
       "      <td style=\"font-style: italic;\" >&lt;float64&gt;</td>\n",
       "    </tr>\n",
       "    <tr>\n",
       "      <th>0</th>\n",
       "      <td>0.903370</td>\n",
       "      <td>0.381683</td>\n",
       "      <td>0.289784</td>\n",
       "      <td>0.524946</td>\n",
       "    </tr>\n",
       "    <tr>\n",
       "      <th>1</th>\n",
       "      <td>0.862827</td>\n",
       "      <td>0.432840</td>\n",
       "      <td>0.152457</td>\n",
       "      <td>0.482708</td>\n",
       "    </tr>\n",
       "    <tr>\n",
       "      <th>2</th>\n",
       "      <td>0.329482</td>\n",
       "      <td>0.993187</td>\n",
       "      <td>0.022119</td>\n",
       "      <td>0.448263</td>\n",
       "    </tr>\n",
       "    <tr>\n",
       "      <th>3</th>\n",
       "      <td>0.329133</td>\n",
       "      <td>0.365489</td>\n",
       "      <td>0.841347</td>\n",
       "      <td>0.511990</td>\n",
       "    </tr>\n",
       "    <tr>\n",
       "      <th>4</th>\n",
       "      <td>0.376668</td>\n",
       "      <td>0.604747</td>\n",
       "      <td>0.967709</td>\n",
       "      <td>0.649708</td>\n",
       "    </tr>\n",
       "    <tr>\n",
       "      <th>5</th>\n",
       "      <td>0.808531</td>\n",
       "      <td>0.968855</td>\n",
       "      <td>0.165438</td>\n",
       "      <td>0.647608</td>\n",
       "    </tr>\n",
       "  </tbody>\n",
       "</table>\n",
       "</div>\n",
       "<p>TibbleRowwise:  (n=6)"
      ],
      "text/plain": [
       "          x         y         z         m\n",
       "  <float64> <float64> <float64> <float64>\n",
       "0  0.903370  0.381683  0.289784  0.524946\n",
       "1  0.862827  0.432840  0.152457  0.482708\n",
       "2  0.329482  0.993187  0.022119  0.448263\n",
       "3  0.329133  0.365489  0.841347  0.511990\n",
       "4  0.376668  0.604747  0.967709  0.649708\n",
       "5  0.808531  0.968855  0.165438  0.647608\n",
       "[TibbleRowwise:  (n=6)]"
      ]
     },
     "execution_count": 8,
     "metadata": {},
     "output_type": "execute_result"
    }
   ],
   "source": [
    "df >> rowwise() >> mutate(m=mean(c_across(f[f.x:])))"
   ]
  },
  {
   "cell_type": "code",
   "execution_count": 9,
   "metadata": {
    "execution": {
     "iopub.execute_input": "2021-07-16T22:28:10.157870Z",
     "iopub.status.busy": "2021-07-16T22:28:10.157301Z",
     "iopub.status.idle": "2021-07-16T22:28:10.167496Z",
     "shell.execute_reply": "2021-07-16T22:28:10.167879Z"
    }
   },
   "outputs": [
    {
     "data": {
      "text/html": [
       "<div>\n",
       "<style scoped>\n",
       "    .dataframe tbody tr th:only-of-type {\n",
       "        vertical-align: middle;\n",
       "    }\n",
       "\n",
       "    .dataframe tbody tr th {\n",
       "        vertical-align: top;\n",
       "    }\n",
       "\n",
       "    .dataframe thead th {\n",
       "        text-align: right;\n",
       "    }\n",
       "</style>\n",
       "<table border=\"1\" class=\"dataframe\">\n",
       "  <thead>\n",
       "    <tr style=\"text-align: right;\">\n",
       "      <th></th>\n",
       "      <th>x</th>\n",
       "      <th>y</th>\n",
       "      <th>z</th>\n",
       "      <th>m</th>\n",
       "    </tr>\n",
       "  </thead>\n",
       "  <tbody>\n",
       "    <tr>\n",
       "      <th style=\"font-style: italic;\" ></th>\n",
       "      <td style=\"font-style: italic;\" >&lt;float64&gt;</td>\n",
       "      <td style=\"font-style: italic;\" >&lt;float64&gt;</td>\n",
       "      <td style=\"font-style: italic;\" >&lt;float64&gt;</td>\n",
       "      <td style=\"font-style: italic;\" >&lt;float64&gt;</td>\n",
       "    </tr>\n",
       "    <tr>\n",
       "      <th>0</th>\n",
       "      <td>0.903370</td>\n",
       "      <td>0.381683</td>\n",
       "      <td>0.289784</td>\n",
       "      <td>0.289784</td>\n",
       "    </tr>\n",
       "    <tr>\n",
       "      <th>1</th>\n",
       "      <td>0.862827</td>\n",
       "      <td>0.432840</td>\n",
       "      <td>0.152457</td>\n",
       "      <td>0.152457</td>\n",
       "    </tr>\n",
       "    <tr>\n",
       "      <th>2</th>\n",
       "      <td>0.329482</td>\n",
       "      <td>0.993187</td>\n",
       "      <td>0.022119</td>\n",
       "      <td>0.022119</td>\n",
       "    </tr>\n",
       "    <tr>\n",
       "      <th>3</th>\n",
       "      <td>0.329133</td>\n",
       "      <td>0.365489</td>\n",
       "      <td>0.841347</td>\n",
       "      <td>0.329133</td>\n",
       "    </tr>\n",
       "    <tr>\n",
       "      <th>4</th>\n",
       "      <td>0.376668</td>\n",
       "      <td>0.604747</td>\n",
       "      <td>0.967709</td>\n",
       "      <td>0.376668</td>\n",
       "    </tr>\n",
       "    <tr>\n",
       "      <th>5</th>\n",
       "      <td>0.808531</td>\n",
       "      <td>0.968855</td>\n",
       "      <td>0.165438</td>\n",
       "      <td>0.165438</td>\n",
       "    </tr>\n",
       "  </tbody>\n",
       "</table>\n",
       "</div>\n",
       "<p>TibbleRowwise:  (n=6)"
      ],
      "text/plain": [
       "          x         y         z         m\n",
       "  <float64> <float64> <float64> <float64>\n",
       "0  0.903370  0.381683  0.289784  0.289784\n",
       "1  0.862827  0.432840  0.152457  0.152457\n",
       "2  0.329482  0.993187  0.022119  0.022119\n",
       "3  0.329133  0.365489  0.841347  0.329133\n",
       "4  0.376668  0.604747  0.967709  0.376668\n",
       "5  0.808531  0.968855  0.165438  0.165438\n",
       "[TibbleRowwise:  (n=6)]"
      ]
     },
     "execution_count": 9,
     "metadata": {},
     "output_type": "execute_result"
    }
   ],
   "source": [
    "df >> rowwise() >> mutate(m=min(c_across([f.x, f.y, f.z]))) "
   ]
  },
  {
   "cell_type": "code",
   "execution_count": 13,
   "metadata": {
    "execution": {
     "iopub.execute_input": "2021-07-16T22:28:10.231704Z",
     "iopub.status.busy": "2021-07-16T22:28:10.230994Z",
     "iopub.status.idle": "2021-07-16T22:28:10.235604Z",
     "shell.execute_reply": "2021-07-16T22:28:10.234881Z"
    }
   },
   "outputs": [
    {
     "data": {
      "text/html": [
       "<div>\n",
       "<style scoped>\n",
       "    .dataframe tbody tr th:only-of-type {\n",
       "        vertical-align: middle;\n",
       "    }\n",
       "\n",
       "    .dataframe tbody tr th {\n",
       "        vertical-align: top;\n",
       "    }\n",
       "\n",
       "    .dataframe thead th {\n",
       "        text-align: right;\n",
       "    }\n",
       "</style>\n",
       "<table border=\"1\" class=\"dataframe\">\n",
       "  <thead>\n",
       "    <tr style=\"text-align: right;\">\n",
       "      <th></th>\n",
       "      <th>x</th>\n",
       "      <th>y</th>\n",
       "      <th>z</th>\n",
       "      <th>m</th>\n",
       "    </tr>\n",
       "  </thead>\n",
       "  <tbody>\n",
       "    <tr>\n",
       "      <th style=\"font-style: italic;\" ></th>\n",
       "      <td style=\"font-style: italic;\" >&lt;float64&gt;</td>\n",
       "      <td style=\"font-style: italic;\" >&lt;float64&gt;</td>\n",
       "      <td style=\"font-style: italic;\" >&lt;float64&gt;</td>\n",
       "      <td style=\"font-style: italic;\" >&lt;float64&gt;</td>\n",
       "    </tr>\n",
       "    <tr>\n",
       "      <th>0</th>\n",
       "      <td>0.903370</td>\n",
       "      <td>0.381683</td>\n",
       "      <td>0.289784</td>\n",
       "      <td>0.289784</td>\n",
       "    </tr>\n",
       "    <tr>\n",
       "      <th>1</th>\n",
       "      <td>0.862827</td>\n",
       "      <td>0.432840</td>\n",
       "      <td>0.152457</td>\n",
       "      <td>0.152457</td>\n",
       "    </tr>\n",
       "    <tr>\n",
       "      <th>2</th>\n",
       "      <td>0.329482</td>\n",
       "      <td>0.993187</td>\n",
       "      <td>0.022119</td>\n",
       "      <td>0.022119</td>\n",
       "    </tr>\n",
       "    <tr>\n",
       "      <th>3</th>\n",
       "      <td>0.329133</td>\n",
       "      <td>0.365489</td>\n",
       "      <td>0.841347</td>\n",
       "      <td>0.329133</td>\n",
       "    </tr>\n",
       "    <tr>\n",
       "      <th>4</th>\n",
       "      <td>0.376668</td>\n",
       "      <td>0.604747</td>\n",
       "      <td>0.967709</td>\n",
       "      <td>0.376668</td>\n",
       "    </tr>\n",
       "    <tr>\n",
       "      <th>5</th>\n",
       "      <td>0.808531</td>\n",
       "      <td>0.968855</td>\n",
       "      <td>0.165438</td>\n",
       "      <td>0.165438</td>\n",
       "    </tr>\n",
       "  </tbody>\n",
       "</table>\n",
       "</div>\n",
       "<p>TibbleRowwise:  (n=6)"
      ],
      "text/plain": [
       "          x         y         z         m\n",
       "  <float64> <float64> <float64> <float64>\n",
       "0  0.903370  0.381683  0.289784  0.289784\n",
       "1  0.862827  0.432840  0.152457  0.152457\n",
       "2  0.329482  0.993187  0.022119  0.022119\n",
       "3  0.329133  0.365489  0.841347  0.329133\n",
       "4  0.376668  0.604747  0.967709  0.376668\n",
       "5  0.808531  0.968855  0.165438  0.165438\n",
       "[TibbleRowwise:  (n=6)]"
      ]
     },
     "execution_count": 13,
     "metadata": {},
     "output_type": "execute_result"
    }
   ],
   "source": [
    "df >> rowwise() >> mutate(m=min(c_across(f[f.x:]))) "
   ]
  },
  {
   "cell_type": "code",
   "execution_count": 14,
   "metadata": {
    "execution": {
     "iopub.execute_input": "2021-07-16T22:28:10.245426Z",
     "iopub.status.busy": "2021-07-16T22:28:10.244596Z",
     "iopub.status.idle": "2021-07-16T22:28:10.286588Z",
     "shell.execute_reply": "2021-07-16T22:28:10.287010Z"
    }
   },
   "outputs": [
    {
     "data": {
      "text/html": [
       "<div>\n",
       "<style scoped>\n",
       "    .dataframe tbody tr th:only-of-type {\n",
       "        vertical-align: middle;\n",
       "    }\n",
       "\n",
       "    .dataframe tbody tr th {\n",
       "        vertical-align: top;\n",
       "    }\n",
       "\n",
       "    .dataframe thead th {\n",
       "        text-align: right;\n",
       "    }\n",
       "</style>\n",
       "<table border=\"1\" class=\"dataframe\">\n",
       "  <thead>\n",
       "    <tr style=\"text-align: right;\">\n",
       "      <th></th>\n",
       "      <th>x</th>\n",
       "      <th>y</th>\n",
       "      <th>z</th>\n",
       "      <th>m</th>\n",
       "    </tr>\n",
       "  </thead>\n",
       "  <tbody>\n",
       "    <tr>\n",
       "      <th style=\"font-style: italic;\" ></th>\n",
       "      <td style=\"font-style: italic;\" >&lt;float64&gt;</td>\n",
       "      <td style=\"font-style: italic;\" >&lt;float64&gt;</td>\n",
       "      <td style=\"font-style: italic;\" >&lt;float64&gt;</td>\n",
       "      <td style=\"font-style: italic;\" >&lt;float64&gt;</td>\n",
       "    </tr>\n",
       "    <tr>\n",
       "      <th>0</th>\n",
       "      <td>0.903370</td>\n",
       "      <td>0.381683</td>\n",
       "      <td>0.289784</td>\n",
       "      <td>0.289784</td>\n",
       "    </tr>\n",
       "    <tr>\n",
       "      <th>1</th>\n",
       "      <td>0.862827</td>\n",
       "      <td>0.432840</td>\n",
       "      <td>0.152457</td>\n",
       "      <td>0.152457</td>\n",
       "    </tr>\n",
       "    <tr>\n",
       "      <th>2</th>\n",
       "      <td>0.329482</td>\n",
       "      <td>0.993187</td>\n",
       "      <td>0.022119</td>\n",
       "      <td>0.022119</td>\n",
       "    </tr>\n",
       "    <tr>\n",
       "      <th>3</th>\n",
       "      <td>0.329133</td>\n",
       "      <td>0.365489</td>\n",
       "      <td>0.841347</td>\n",
       "      <td>0.329133</td>\n",
       "    </tr>\n",
       "    <tr>\n",
       "      <th>4</th>\n",
       "      <td>0.376668</td>\n",
       "      <td>0.604747</td>\n",
       "      <td>0.967709</td>\n",
       "      <td>0.376668</td>\n",
       "    </tr>\n",
       "    <tr>\n",
       "      <th>5</th>\n",
       "      <td>0.808531</td>\n",
       "      <td>0.968855</td>\n",
       "      <td>0.165438</td>\n",
       "      <td>0.165438</td>\n",
       "    </tr>\n",
       "  </tbody>\n",
       "</table>\n",
       "</div>\n"
      ],
      "text/plain": [
       "          x         y         z         m\n",
       "  <float64> <float64> <float64> <float64>\n",
       "0  0.903370  0.381683  0.289784  0.289784\n",
       "1  0.862827  0.432840  0.152457  0.152457\n",
       "2  0.329482  0.993187  0.022119  0.022119\n",
       "3  0.329133  0.365489  0.841347  0.329133\n",
       "4  0.376668  0.604747  0.967709  0.376668\n",
       "5  0.808531  0.968855  0.165438  0.165438"
      ]
     },
     "execution_count": 14,
     "metadata": {},
     "output_type": "execute_result"
    }
   ],
   "source": [
    "df >> mutate(m = pmin(f.x, f.y, f.z))"
   ]
  },
  {
   "cell_type": "code",
   "execution_count": 16,
   "metadata": {
    "execution": {
     "iopub.execute_input": "2021-07-16T22:28:10.296858Z",
     "iopub.status.busy": "2021-07-16T22:28:10.296263Z",
     "iopub.status.idle": "2021-07-16T22:28:10.347572Z",
     "shell.execute_reply": "2021-07-16T22:28:10.348035Z"
    }
   },
   "outputs": [
    {
     "data": {
      "text/html": [
       "<div>\n",
       "<style scoped>\n",
       "    .dataframe tbody tr th:only-of-type {\n",
       "        vertical-align: middle;\n",
       "    }\n",
       "\n",
       "    .dataframe tbody tr th {\n",
       "        vertical-align: top;\n",
       "    }\n",
       "\n",
       "    .dataframe thead th {\n",
       "        text-align: right;\n",
       "    }\n",
       "</style>\n",
       "<table border=\"1\" class=\"dataframe\">\n",
       "  <thead>\n",
       "    <tr style=\"text-align: right;\">\n",
       "      <th></th>\n",
       "      <th>sim</th>\n",
       "      <th>n</th>\n",
       "      <th>mean</th>\n",
       "      <th>sd</th>\n",
       "      <th>z</th>\n",
       "    </tr>\n",
       "  </thead>\n",
       "  <tbody>\n",
       "    <tr>\n",
       "      <th style=\"font-style: italic;\" ></th>\n",
       "      <td style=\"font-style: italic;\" >&lt;int64&gt;</td>\n",
       "      <td style=\"font-style: italic;\" >&lt;int64&gt;</td>\n",
       "      <td style=\"font-style: italic;\" >&lt;int64&gt;</td>\n",
       "      <td style=\"font-style: italic;\" >&lt;int64&gt;</td>\n",
       "      <td style=\"font-style: italic;\" >&lt;object&gt;</td>\n",
       "    </tr>\n",
       "    <tr>\n",
       "      <th>0</th>\n",
       "      <td>1</td>\n",
       "      <td>1</td>\n",
       "      <td>1</td>\n",
       "      <td>1</td>\n",
       "      <td>[-0.49710972258374775]</td>\n",
       "    </tr>\n",
       "    <tr>\n",
       "      <th>1</th>\n",
       "      <td>2</td>\n",
       "      <td>2</td>\n",
       "      <td>2</td>\n",
       "      <td>4</td>\n",
       "      <td>[-5.952767882433143, 1.3006955205328627]</td>\n",
       "    </tr>\n",
       "    <tr>\n",
       "      <th>2</th>\n",
       "      <td>3</td>\n",
       "      <td>3</td>\n",
       "      <td>1</td>\n",
       "      <td>2</td>\n",
       "      <td>[-0.034757059529934686, 1.211681840606102, 0.4...</td>\n",
       "    </tr>\n",
       "  </tbody>\n",
       "</table>\n",
       "</div>\n",
       "<p>TibbleRowwise: sim (n=3)"
      ],
      "text/plain": [
       "      sim       n    mean      sd  \\\n",
       "  <int64> <int64> <int64> <int64>   \n",
       "0       1       1       1       1   \n",
       "1       2       2       2       4   \n",
       "2       3       3       1       2   \n",
       "\n",
       "                                                   z  \n",
       "                                            <object>  \n",
       "0                             [-0.49710972258374775]  \n",
       "1           [-5.952767882433143, 1.3006955205328627]  \n",
       "2  [-0.034757059529934686, 1.211681840606102, 0.4...  \n",
       "[TibbleRowwise: sim (n=3)]"
      ]
     },
     "execution_count": 16,
     "metadata": {},
     "output_type": "execute_result"
    }
   ],
   "source": [
    "params = tibble(\n",
    "    sim=[1, 2, 3],\n",
    "    n=[1, 2, 3],\n",
    "    mean=[1, 2, 1],\n",
    "    sd=[1, 4, 2]\n",
    ")\n",
    "\n",
    "params >> rowwise(f.sim) >> mutate(z=rnorm(f.n, f.mean, f.sd)) "
   ]
  },
  {
   "cell_type": "code",
   "execution_count": null,
   "metadata": {},
   "outputs": [],
   "source": []
  }
 ],
 "metadata": {
  "interpreter": {
   "hash": "c4cc73b080e063fcebb9afb794613be7caf4b26129562cba1382945a18cc49cc"
  },
  "kernelspec": {
   "display_name": "Python 3.7.8 64-bit ('base': conda)",
   "name": "python3"
  },
  "language_info": {
   "codemirror_mode": {
    "name": "ipython",
    "version": 3
   },
   "file_extension": ".py",
   "mimetype": "text/x-python",
   "name": "python",
   "nbconvert_exporter": "python",
   "pygments_lexer": "ipython3",
   "version": "3.9.5"
  }
 },
 "nbformat": 4,
 "nbformat_minor": 4
}
