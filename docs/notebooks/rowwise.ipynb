{
 "cells": [
  {
   "cell_type": "code",
   "execution_count": 1,
   "metadata": {
    "execution": {
     "iopub.execute_input": "2021-07-16T22:28:08.630104Z",
     "iopub.status.busy": "2021-07-16T22:28:08.629477Z",
     "iopub.status.idle": "2021-07-16T22:28:09.661020Z",
     "shell.execute_reply": "2021-07-16T22:28:09.658387Z"
    }
   },
   "outputs": [
    {
     "data": {
      "text/html": [
       "<div style=\"text-align: right; text-style: italic\">Try this notebook on <a target=\"_blank\" href=\"https://mybinder.org/v2/gh/pwwang/datar/dev?filepath=docs%2Fnotebooks%2Frowwise.ipynb\">binder</a>.</div>"
      ],
      "text/plain": [
       "<IPython.core.display.HTML object>"
      ]
     },
     "metadata": {},
     "output_type": "display_data"
    },
    {
     "data": {
      "text/markdown": [
       "### <div style=\"background-color: #EEE; padding: 5px 0 8px 0\">★ rowwise</div>"
      ],
      "text/plain": [
       "<IPython.core.display.Markdown object>"
      ]
     },
     "metadata": {},
     "output_type": "display_data"
    },
    {
     "data": {
      "text/markdown": [
       "##### Compute on a data frame a row-at-a-time\n",
       "\n",
       "See https://dplyr.tidyverse.org/reference/rowwise.html  \n",
       "\n",
       "##### Args:\n",
       "&emsp;&emsp;`_data`: The dataframe  \n",
       "&emsp;&emsp;`*cols`: Variables to be preserved when calling summarise().  \n",
       "&emsp;&emsp;&emsp;&emsp;This is typically a set of variables whose combination  \n",
       "&emsp;&emsp;&emsp;&emsp;uniquely identify each row.  \n",
       "\n",
       "##### Returns:\n",
       "&emsp;&emsp;A row-wise data frame  \n"
      ],
      "text/plain": [
       "<IPython.core.display.Markdown object>"
      ]
     },
     "metadata": {},
     "output_type": "display_data"
    }
   ],
   "source": [
    "# https://dplyr.tidyverse.org/reference/rowwise.html\n",
    "%run nb_helpers.py\n",
    "\n",
    "from datar.all import *\n",
    "\n",
    "nb_header(rowwise)"
   ]
  },
  {
   "cell_type": "code",
   "execution_count": 2,
   "metadata": {
    "execution": {
     "iopub.execute_input": "2021-07-16T22:28:09.684543Z",
     "iopub.status.busy": "2021-07-16T22:28:09.683910Z",
     "iopub.status.idle": "2021-07-16T22:28:09.995217Z",
     "shell.execute_reply": "2021-07-16T22:28:09.995615Z"
    }
   },
   "outputs": [
    {
     "data": {
      "text/html": [
       "<div>\n",
       "<style scoped>\n",
       "    .dataframe tbody tr th:only-of-type {\n",
       "        vertical-align: middle;\n",
       "    }\n",
       "\n",
       "    .dataframe tbody tr th {\n",
       "        vertical-align: top;\n",
       "    }\n",
       "\n",
       "    .dataframe thead th {\n",
       "        text-align: right;\n",
       "    }\n",
       "</style>\n",
       "<table border=\"1\" class=\"dataframe\">\n",
       "  <thead>\n",
       "    <tr style=\"text-align: right;\">\n",
       "      <th></th>\n",
       "      <th>x</th>\n",
       "      <th>y</th>\n",
       "      <th>z</th>\n",
       "      <th>m</th>\n",
       "    </tr>\n",
       "  </thead>\n",
       "  <tbody>\n",
       "    <tr>\n",
       "      <th style=\"font-style: italic;\" ></th>\n",
       "      <td style=\"font-style: italic;\" >&lt;float64&gt;</td>\n",
       "      <td style=\"font-style: italic;\" >&lt;float64&gt;</td>\n",
       "      <td style=\"font-style: italic;\" >&lt;float64&gt;</td>\n",
       "      <td style=\"font-style: italic;\" >&lt;float64&gt;</td>\n",
       "    </tr>\n",
       "    <tr>\n",
       "      <th>0</th>\n",
       "      <td>0.598889</td>\n",
       "      <td>0.750540</td>\n",
       "      <td>0.165758</td>\n",
       "      <td>0.505062</td>\n",
       "    </tr>\n",
       "    <tr>\n",
       "      <th>1</th>\n",
       "      <td>0.639200</td>\n",
       "      <td>0.945952</td>\n",
       "      <td>0.339303</td>\n",
       "      <td>0.641485</td>\n",
       "    </tr>\n",
       "    <tr>\n",
       "      <th>2</th>\n",
       "      <td>0.415240</td>\n",
       "      <td>0.725756</td>\n",
       "      <td>0.184642</td>\n",
       "      <td>0.441879</td>\n",
       "    </tr>\n",
       "    <tr>\n",
       "      <th>3</th>\n",
       "      <td>0.375989</td>\n",
       "      <td>0.432068</td>\n",
       "      <td>0.113932</td>\n",
       "      <td>0.307329</td>\n",
       "    </tr>\n",
       "    <tr>\n",
       "      <th>4</th>\n",
       "      <td>0.361752</td>\n",
       "      <td>0.253792</td>\n",
       "      <td>0.621856</td>\n",
       "      <td>0.412466</td>\n",
       "    </tr>\n",
       "    <tr>\n",
       "      <th>5</th>\n",
       "      <td>0.260691</td>\n",
       "      <td>0.200419</td>\n",
       "      <td>0.391062</td>\n",
       "      <td>0.284058</td>\n",
       "    </tr>\n",
       "  </tbody>\n",
       "</table>\n",
       "</div>\n",
       "<p>TibbleRowwise:  (n=6)"
      ],
      "text/plain": [
       "          x         y         z         m\n",
       "  <float64> <float64> <float64> <float64>\n",
       "0  0.598889  0.750540  0.165758  0.505062\n",
       "1  0.639200  0.945952  0.339303  0.641485\n",
       "2  0.415240  0.725756  0.184642  0.441879\n",
       "3  0.375989  0.432068  0.113932  0.307329\n",
       "4  0.361752  0.253792  0.621856  0.412466\n",
       "5  0.260691  0.200419  0.391062  0.284058\n",
       "[TibbleRowwise:  (n=6)]"
      ]
     },
     "execution_count": 2,
     "metadata": {},
     "output_type": "execute_result"
    }
   ],
   "source": [
    "df = tibble(x=runif(6), y=runif(6), z=runif(6))\n",
    "\n",
    "df >> rowwise() >> mutate(m=mean(c_across(c(f.x, f.y, f.z)))) "
   ]
  },
  {
   "cell_type": "code",
   "execution_count": 3,
   "metadata": {
    "execution": {
     "iopub.execute_input": "2021-07-16T22:28:10.067015Z",
     "iopub.status.busy": "2021-07-16T22:28:10.066388Z",
     "iopub.status.idle": "2021-07-16T22:28:10.080326Z",
     "shell.execute_reply": "2021-07-16T22:28:10.080713Z"
    }
   },
   "outputs": [
    {
     "data": {
      "text/html": [
       "<div>\n",
       "<style scoped>\n",
       "    .dataframe tbody tr th:only-of-type {\n",
       "        vertical-align: middle;\n",
       "    }\n",
       "\n",
       "    .dataframe tbody tr th {\n",
       "        vertical-align: top;\n",
       "    }\n",
       "\n",
       "    .dataframe thead th {\n",
       "        text-align: right;\n",
       "    }\n",
       "</style>\n",
       "<table border=\"1\" class=\"dataframe\">\n",
       "  <thead>\n",
       "    <tr style=\"text-align: right;\">\n",
       "      <th></th>\n",
       "      <th>x</th>\n",
       "      <th>y</th>\n",
       "      <th>z</th>\n",
       "      <th>m</th>\n",
       "    </tr>\n",
       "  </thead>\n",
       "  <tbody>\n",
       "    <tr>\n",
       "      <th style=\"font-style: italic;\" ></th>\n",
       "      <td style=\"font-style: italic;\" >&lt;float64&gt;</td>\n",
       "      <td style=\"font-style: italic;\" >&lt;float64&gt;</td>\n",
       "      <td style=\"font-style: italic;\" >&lt;float64&gt;</td>\n",
       "      <td style=\"font-style: italic;\" >&lt;float64&gt;</td>\n",
       "    </tr>\n",
       "    <tr>\n",
       "      <th>0</th>\n",
       "      <td>0.598889</td>\n",
       "      <td>0.750540</td>\n",
       "      <td>0.165758</td>\n",
       "      <td>0.505062</td>\n",
       "    </tr>\n",
       "    <tr>\n",
       "      <th>1</th>\n",
       "      <td>0.639200</td>\n",
       "      <td>0.945952</td>\n",
       "      <td>0.339303</td>\n",
       "      <td>0.641485</td>\n",
       "    </tr>\n",
       "    <tr>\n",
       "      <th>2</th>\n",
       "      <td>0.415240</td>\n",
       "      <td>0.725756</td>\n",
       "      <td>0.184642</td>\n",
       "      <td>0.441879</td>\n",
       "    </tr>\n",
       "    <tr>\n",
       "      <th>3</th>\n",
       "      <td>0.375989</td>\n",
       "      <td>0.432068</td>\n",
       "      <td>0.113932</td>\n",
       "      <td>0.307329</td>\n",
       "    </tr>\n",
       "    <tr>\n",
       "      <th>4</th>\n",
       "      <td>0.361752</td>\n",
       "      <td>0.253792</td>\n",
       "      <td>0.621856</td>\n",
       "      <td>0.412466</td>\n",
       "    </tr>\n",
       "    <tr>\n",
       "      <th>5</th>\n",
       "      <td>0.260691</td>\n",
       "      <td>0.200419</td>\n",
       "      <td>0.391062</td>\n",
       "      <td>0.284058</td>\n",
       "    </tr>\n",
       "  </tbody>\n",
       "</table>\n",
       "</div>\n",
       "<p>TibbleRowwise:  (n=6)"
      ],
      "text/plain": [
       "          x         y         z         m\n",
       "  <float64> <float64> <float64> <float64>\n",
       "0  0.598889  0.750540  0.165758  0.505062\n",
       "1  0.639200  0.945952  0.339303  0.641485\n",
       "2  0.415240  0.725756  0.184642  0.441879\n",
       "3  0.375989  0.432068  0.113932  0.307329\n",
       "4  0.361752  0.253792  0.621856  0.412466\n",
       "5  0.260691  0.200419  0.391062  0.284058\n",
       "[TibbleRowwise:  (n=6)]"
      ]
     },
     "execution_count": 3,
     "metadata": {},
     "output_type": "execute_result"
    }
   ],
   "source": [
    "df >> rowwise() >> mutate(m=mean(c_across(f[f.x:])))"
   ]
  },
  {
   "cell_type": "code",
   "execution_count": 4,
   "metadata": {
    "execution": {
     "iopub.execute_input": "2021-07-16T22:28:10.157870Z",
     "iopub.status.busy": "2021-07-16T22:28:10.157301Z",
     "iopub.status.idle": "2021-07-16T22:28:10.167496Z",
     "shell.execute_reply": "2021-07-16T22:28:10.167879Z"
    }
   },
   "outputs": [
    {
     "data": {
      "text/html": [
       "<div>\n",
       "<style scoped>\n",
       "    .dataframe tbody tr th:only-of-type {\n",
       "        vertical-align: middle;\n",
       "    }\n",
       "\n",
       "    .dataframe tbody tr th {\n",
       "        vertical-align: top;\n",
       "    }\n",
       "\n",
       "    .dataframe thead th {\n",
       "        text-align: right;\n",
       "    }\n",
       "</style>\n",
       "<table border=\"1\" class=\"dataframe\">\n",
       "  <thead>\n",
       "    <tr style=\"text-align: right;\">\n",
       "      <th></th>\n",
       "      <th>x</th>\n",
       "      <th>y</th>\n",
       "      <th>z</th>\n",
       "      <th>m</th>\n",
       "    </tr>\n",
       "  </thead>\n",
       "  <tbody>\n",
       "    <tr>\n",
       "      <th style=\"font-style: italic;\" ></th>\n",
       "      <td style=\"font-style: italic;\" >&lt;float64&gt;</td>\n",
       "      <td style=\"font-style: italic;\" >&lt;float64&gt;</td>\n",
       "      <td style=\"font-style: italic;\" >&lt;float64&gt;</td>\n",
       "      <td style=\"font-style: italic;\" >&lt;float64&gt;</td>\n",
       "    </tr>\n",
       "    <tr>\n",
       "      <th>0</th>\n",
       "      <td>0.598889</td>\n",
       "      <td>0.750540</td>\n",
       "      <td>0.165758</td>\n",
       "      <td>0.165758</td>\n",
       "    </tr>\n",
       "    <tr>\n",
       "      <th>1</th>\n",
       "      <td>0.639200</td>\n",
       "      <td>0.945952</td>\n",
       "      <td>0.339303</td>\n",
       "      <td>0.339303</td>\n",
       "    </tr>\n",
       "    <tr>\n",
       "      <th>2</th>\n",
       "      <td>0.415240</td>\n",
       "      <td>0.725756</td>\n",
       "      <td>0.184642</td>\n",
       "      <td>0.184642</td>\n",
       "    </tr>\n",
       "    <tr>\n",
       "      <th>3</th>\n",
       "      <td>0.375989</td>\n",
       "      <td>0.432068</td>\n",
       "      <td>0.113932</td>\n",
       "      <td>0.113932</td>\n",
       "    </tr>\n",
       "    <tr>\n",
       "      <th>4</th>\n",
       "      <td>0.361752</td>\n",
       "      <td>0.253792</td>\n",
       "      <td>0.621856</td>\n",
       "      <td>0.253792</td>\n",
       "    </tr>\n",
       "    <tr>\n",
       "      <th>5</th>\n",
       "      <td>0.260691</td>\n",
       "      <td>0.200419</td>\n",
       "      <td>0.391062</td>\n",
       "      <td>0.200419</td>\n",
       "    </tr>\n",
       "  </tbody>\n",
       "</table>\n",
       "</div>\n",
       "<p>TibbleRowwise:  (n=6)"
      ],
      "text/plain": [
       "          x         y         z         m\n",
       "  <float64> <float64> <float64> <float64>\n",
       "0  0.598889  0.750540  0.165758  0.165758\n",
       "1  0.639200  0.945952  0.339303  0.339303\n",
       "2  0.415240  0.725756  0.184642  0.184642\n",
       "3  0.375989  0.432068  0.113932  0.113932\n",
       "4  0.361752  0.253792  0.621856  0.253792\n",
       "5  0.260691  0.200419  0.391062  0.200419\n",
       "[TibbleRowwise:  (n=6)]"
      ]
     },
     "execution_count": 4,
     "metadata": {},
     "output_type": "execute_result"
    }
   ],
   "source": [
    "df >> rowwise() >> mutate(m=min(c_across([f.x, f.y, f.z]))) "
   ]
  },
  {
   "cell_type": "code",
   "execution_count": 5,
   "metadata": {
    "execution": {
     "iopub.execute_input": "2021-07-16T22:28:10.231704Z",
     "iopub.status.busy": "2021-07-16T22:28:10.230994Z",
     "iopub.status.idle": "2021-07-16T22:28:10.235604Z",
     "shell.execute_reply": "2021-07-16T22:28:10.234881Z"
    }
   },
   "outputs": [
    {
     "data": {
      "text/html": [
       "<div>\n",
       "<style scoped>\n",
       "    .dataframe tbody tr th:only-of-type {\n",
       "        vertical-align: middle;\n",
       "    }\n",
       "\n",
       "    .dataframe tbody tr th {\n",
       "        vertical-align: top;\n",
       "    }\n",
       "\n",
       "    .dataframe thead th {\n",
       "        text-align: right;\n",
       "    }\n",
       "</style>\n",
       "<table border=\"1\" class=\"dataframe\">\n",
       "  <thead>\n",
       "    <tr style=\"text-align: right;\">\n",
       "      <th></th>\n",
       "      <th>x</th>\n",
       "      <th>y</th>\n",
       "      <th>z</th>\n",
       "      <th>m</th>\n",
       "    </tr>\n",
       "  </thead>\n",
       "  <tbody>\n",
       "    <tr>\n",
       "      <th style=\"font-style: italic;\" ></th>\n",
       "      <td style=\"font-style: italic;\" >&lt;float64&gt;</td>\n",
       "      <td style=\"font-style: italic;\" >&lt;float64&gt;</td>\n",
       "      <td style=\"font-style: italic;\" >&lt;float64&gt;</td>\n",
       "      <td style=\"font-style: italic;\" >&lt;float64&gt;</td>\n",
       "    </tr>\n",
       "    <tr>\n",
       "      <th>0</th>\n",
       "      <td>0.598889</td>\n",
       "      <td>0.750540</td>\n",
       "      <td>0.165758</td>\n",
       "      <td>0.165758</td>\n",
       "    </tr>\n",
       "    <tr>\n",
       "      <th>1</th>\n",
       "      <td>0.639200</td>\n",
       "      <td>0.945952</td>\n",
       "      <td>0.339303</td>\n",
       "      <td>0.339303</td>\n",
       "    </tr>\n",
       "    <tr>\n",
       "      <th>2</th>\n",
       "      <td>0.415240</td>\n",
       "      <td>0.725756</td>\n",
       "      <td>0.184642</td>\n",
       "      <td>0.184642</td>\n",
       "    </tr>\n",
       "    <tr>\n",
       "      <th>3</th>\n",
       "      <td>0.375989</td>\n",
       "      <td>0.432068</td>\n",
       "      <td>0.113932</td>\n",
       "      <td>0.113932</td>\n",
       "    </tr>\n",
       "    <tr>\n",
       "      <th>4</th>\n",
       "      <td>0.361752</td>\n",
       "      <td>0.253792</td>\n",
       "      <td>0.621856</td>\n",
       "      <td>0.253792</td>\n",
       "    </tr>\n",
       "    <tr>\n",
       "      <th>5</th>\n",
       "      <td>0.260691</td>\n",
       "      <td>0.200419</td>\n",
       "      <td>0.391062</td>\n",
       "      <td>0.200419</td>\n",
       "    </tr>\n",
       "  </tbody>\n",
       "</table>\n",
       "</div>\n",
       "<p>TibbleRowwise:  (n=6)"
      ],
      "text/plain": [
       "          x         y         z         m\n",
       "  <float64> <float64> <float64> <float64>\n",
       "0  0.598889  0.750540  0.165758  0.165758\n",
       "1  0.639200  0.945952  0.339303  0.339303\n",
       "2  0.415240  0.725756  0.184642  0.184642\n",
       "3  0.375989  0.432068  0.113932  0.113932\n",
       "4  0.361752  0.253792  0.621856  0.253792\n",
       "5  0.260691  0.200419  0.391062  0.200419\n",
       "[TibbleRowwise:  (n=6)]"
      ]
     },
     "execution_count": 5,
     "metadata": {},
     "output_type": "execute_result"
    }
   ],
   "source": [
    "df >> rowwise() >> mutate(m=min(c_across(f[f.x:]))) "
   ]
  },
  {
   "cell_type": "code",
   "execution_count": 6,
   "metadata": {
    "execution": {
     "iopub.execute_input": "2021-07-16T22:28:10.245426Z",
     "iopub.status.busy": "2021-07-16T22:28:10.244596Z",
     "iopub.status.idle": "2021-07-16T22:28:10.286588Z",
     "shell.execute_reply": "2021-07-16T22:28:10.287010Z"
    }
   },
   "outputs": [
    {
     "data": {
      "text/html": [
       "<div>\n",
       "<style scoped>\n",
       "    .dataframe tbody tr th:only-of-type {\n",
       "        vertical-align: middle;\n",
       "    }\n",
       "\n",
       "    .dataframe tbody tr th {\n",
       "        vertical-align: top;\n",
       "    }\n",
       "\n",
       "    .dataframe thead th {\n",
       "        text-align: right;\n",
       "    }\n",
       "</style>\n",
       "<table border=\"1\" class=\"dataframe\">\n",
       "  <thead>\n",
       "    <tr style=\"text-align: right;\">\n",
       "      <th></th>\n",
       "      <th>x</th>\n",
       "      <th>y</th>\n",
       "      <th>z</th>\n",
       "      <th>m</th>\n",
       "    </tr>\n",
       "  </thead>\n",
       "  <tbody>\n",
       "    <tr>\n",
       "      <th style=\"font-style: italic;\" ></th>\n",
       "      <td style=\"font-style: italic;\" >&lt;float64&gt;</td>\n",
       "      <td style=\"font-style: italic;\" >&lt;float64&gt;</td>\n",
       "      <td style=\"font-style: italic;\" >&lt;float64&gt;</td>\n",
       "      <td style=\"font-style: italic;\" >&lt;float64&gt;</td>\n",
       "    </tr>\n",
       "    <tr>\n",
       "      <th>0</th>\n",
       "      <td>0.598889</td>\n",
       "      <td>0.750540</td>\n",
       "      <td>0.165758</td>\n",
       "      <td>0.165758</td>\n",
       "    </tr>\n",
       "    <tr>\n",
       "      <th>1</th>\n",
       "      <td>0.639200</td>\n",
       "      <td>0.945952</td>\n",
       "      <td>0.339303</td>\n",
       "      <td>0.339303</td>\n",
       "    </tr>\n",
       "    <tr>\n",
       "      <th>2</th>\n",
       "      <td>0.415240</td>\n",
       "      <td>0.725756</td>\n",
       "      <td>0.184642</td>\n",
       "      <td>0.184642</td>\n",
       "    </tr>\n",
       "    <tr>\n",
       "      <th>3</th>\n",
       "      <td>0.375989</td>\n",
       "      <td>0.432068</td>\n",
       "      <td>0.113932</td>\n",
       "      <td>0.113932</td>\n",
       "    </tr>\n",
       "    <tr>\n",
       "      <th>4</th>\n",
       "      <td>0.361752</td>\n",
       "      <td>0.253792</td>\n",
       "      <td>0.621856</td>\n",
       "      <td>0.253792</td>\n",
       "    </tr>\n",
       "    <tr>\n",
       "      <th>5</th>\n",
       "      <td>0.260691</td>\n",
       "      <td>0.200419</td>\n",
       "      <td>0.391062</td>\n",
       "      <td>0.200419</td>\n",
       "    </tr>\n",
       "  </tbody>\n",
       "</table>\n",
       "</div>\n"
      ],
      "text/plain": [
       "          x         y         z         m\n",
       "  <float64> <float64> <float64> <float64>\n",
       "0  0.598889  0.750540  0.165758  0.165758\n",
       "1  0.639200  0.945952  0.339303  0.339303\n",
       "2  0.415240  0.725756  0.184642  0.184642\n",
       "3  0.375989  0.432068  0.113932  0.113932\n",
       "4  0.361752  0.253792  0.621856  0.253792\n",
       "5  0.260691  0.200419  0.391062  0.200419"
      ]
     },
     "execution_count": 6,
     "metadata": {},
     "output_type": "execute_result"
    }
   ],
   "source": [
    "df >> mutate(m = pmin(f.x, f.y, f.z))"
   ]
  },
  {
   "cell_type": "code",
   "execution_count": 7,
   "metadata": {
    "execution": {
     "iopub.execute_input": "2021-07-16T22:28:10.296858Z",
     "iopub.status.busy": "2021-07-16T22:28:10.296263Z",
     "iopub.status.idle": "2021-07-16T22:28:10.347572Z",
     "shell.execute_reply": "2021-07-16T22:28:10.348035Z"
    }
   },
   "outputs": [
    {
     "data": {
      "text/html": [
       "<div>\n",
       "<style scoped>\n",
       "    .dataframe tbody tr th:only-of-type {\n",
       "        vertical-align: middle;\n",
       "    }\n",
       "\n",
       "    .dataframe tbody tr th {\n",
       "        vertical-align: top;\n",
       "    }\n",
       "\n",
       "    .dataframe thead th {\n",
       "        text-align: right;\n",
       "    }\n",
       "</style>\n",
       "<table border=\"1\" class=\"dataframe\">\n",
       "  <thead>\n",
       "    <tr style=\"text-align: right;\">\n",
       "      <th></th>\n",
       "      <th>sim</th>\n",
       "      <th>n</th>\n",
       "      <th>mean</th>\n",
       "      <th>sd</th>\n",
       "      <th>z</th>\n",
       "    </tr>\n",
       "  </thead>\n",
       "  <tbody>\n",
       "    <tr>\n",
       "      <th style=\"font-style: italic;\" ></th>\n",
       "      <td style=\"font-style: italic;\" >&lt;int64&gt;</td>\n",
       "      <td style=\"font-style: italic;\" >&lt;int64&gt;</td>\n",
       "      <td style=\"font-style: italic;\" >&lt;int64&gt;</td>\n",
       "      <td style=\"font-style: italic;\" >&lt;int64&gt;</td>\n",
       "      <td style=\"font-style: italic;\" >&lt;object&gt;</td>\n",
       "    </tr>\n",
       "    <tr>\n",
       "      <th>0</th>\n",
       "      <td>1</td>\n",
       "      <td>1</td>\n",
       "      <td>1</td>\n",
       "      <td>1</td>\n",
       "      <td>[-0.7634531680295189]</td>\n",
       "    </tr>\n",
       "    <tr>\n",
       "      <th>1</th>\n",
       "      <td>2</td>\n",
       "      <td>2</td>\n",
       "      <td>2</td>\n",
       "      <td>4</td>\n",
       "      <td>[1.3116228201838442, -2.3156113026975653]</td>\n",
       "    </tr>\n",
       "    <tr>\n",
       "      <th>2</th>\n",
       "      <td>3</td>\n",
       "      <td>3</td>\n",
       "      <td>1</td>\n",
       "      <td>2</td>\n",
       "      <td>[1.47493909065586, -1.074116930262953, -1.0587...</td>\n",
       "    </tr>\n",
       "  </tbody>\n",
       "</table>\n",
       "</div>\n",
       "<p>TibbleRowwise: sim (n=3)"
      ],
      "text/plain": [
       "      sim       n    mean      sd  \\\n",
       "  <int64> <int64> <int64> <int64>   \n",
       "0       1       1       1       1   \n",
       "1       2       2       2       4   \n",
       "2       3       3       1       2   \n",
       "\n",
       "                                                   z  \n",
       "                                            <object>  \n",
       "0                              [-0.7634531680295189]  \n",
       "1          [1.3116228201838442, -2.3156113026975653]  \n",
       "2  [1.47493909065586, -1.074116930262953, -1.0587...  \n",
       "[TibbleRowwise: sim (n=3)]"
      ]
     },
     "execution_count": 7,
     "metadata": {},
     "output_type": "execute_result"
    }
   ],
   "source": [
    "params = tibble(\n",
    "    sim=[1, 2, 3],\n",
    "    n=[1, 2, 3],\n",
    "    mean=[1, 2, 1],\n",
    "    sd=[1, 4, 2]\n",
    ")\n",
    "\n",
    "params >> rowwise(f.sim) >> mutate(z=rnorm(f.n, f.mean, f.sd)) "
   ]
  },
  {
   "cell_type": "code",
   "execution_count": null,
   "metadata": {},
   "outputs": [],
   "source": []
  }
 ],
 "metadata": {
  "interpreter": {
   "hash": "c4cc73b080e063fcebb9afb794613be7caf4b26129562cba1382945a18cc49cc"
  },
  "kernelspec": {
   "display_name": "Python 3.7.8 64-bit ('base': conda)",
   "name": "python3"
  },
  "language_info": {
   "codemirror_mode": {
    "name": "ipython",
    "version": 3
   },
   "file_extension": ".py",
   "mimetype": "text/x-python",
   "name": "python",
   "nbconvert_exporter": "python",
   "pygments_lexer": "ipython3",
   "version": "3.9.5"
  }
 },
 "nbformat": 4,
 "nbformat_minor": 4
}
