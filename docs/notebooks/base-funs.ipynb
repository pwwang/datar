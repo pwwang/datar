{
 "cells": [
  {
   "cell_type": "code",
   "execution_count": 1,
   "metadata": {},
   "outputs": [
    {
     "data": {
      "text/html": [
       "<div style=\"text-align: right; text-style: italic\">Try this notebook on <a target=\"_blank\" href=\"https://mybinder.org/v2/gh/pwwang/datar/93d069f3ca36711fc811c61dcf60e9fc3d1460a5?filepath=docs%2Fnotebooks%2Fcut.ipynb\">binder</a>.</div>"
      ],
      "text/plain": [
       "<IPython.core.display.HTML object>"
      ]
     },
     "metadata": {},
     "output_type": "display_data"
    },
    {
     "data": {
      "text/markdown": [
       "### # cut  "
      ],
      "text/plain": [
       "<IPython.core.display.Markdown object>"
      ]
     },
     "metadata": {},
     "output_type": "display_data"
    },
    {
     "data": {
      "text/markdown": [
       "##### Divides the range of x into intervals and codes the values in x\n",
       "according to which interval they fall. The leftmost interval corresponds  \n",
       "to level one, the next leftmost to level two and so on.  \n",
       "\n",
       "##### Args:\n",
       "&emsp;&emsp;`x`: a numeric vector which is to be converted to a factor by cutting.  \n",
       "&emsp;&emsp;`breaks`: either a numeric vector of two or more unique cut points or  \n",
       "&emsp;&emsp;&emsp;&emsp;a single number (greater than or equal to 2) giving the number of  \n",
       "&emsp;&emsp;&emsp;&emsp;intervals into which x is to be cut.  \n",
       "\n",
       "&emsp;&emsp;`labels`: labels for the levels of the resulting category. By default,  \n",
       "&emsp;&emsp;&emsp;&emsp;labels are constructed using \"(a,b]\" interval notation.  \n",
       "&emsp;&emsp;&emsp;&emsp;If labels = False, simple integer codes are returned instead  \n",
       "&emsp;&emsp;&emsp;&emsp;of a factor.  \n",
       "\n",
       "&emsp;&emsp;`include_lowest`: bool, indicating if an ‘x[i]` equal to the lowest  \n",
       "&emsp;&emsp;&emsp;&emsp;(or highest, for right = FALSE) ‘breaks’ value should be included.  \n",
       "\n",
       "&emsp;&emsp;`right`: bool, indicating if the intervals should be closed on the right  \n",
       "&emsp;&emsp;&emsp;&emsp;(and open on the left) or vice versa.  \n",
       "\n",
       "&emsp;&emsp;precision:integer which is used when labels are not given. It determines  \n",
       "&emsp;&emsp;&emsp;&emsp;the precision used in formatting the break numbers. Note, this  \n",
       "&emsp;&emsp;&emsp;&emsp;argument is different from R's API, which is dig.lab.  \n",
       "&emsp;&emsp;`ordered_result`: bool, should the result be an ordered categorical?  \n",
       "\n",
       "##### Returns:\n",
       "&emsp;&emsp;A categorical object with the cuts  \n"
      ],
      "text/plain": [
       "<IPython.core.display.Markdown object>"
      ]
     },
     "metadata": {},
     "output_type": "display_data"
    },
    {
     "data": {
      "text/markdown": [
       "### # diff  "
      ],
      "text/plain": [
       "<IPython.core.display.Markdown object>"
      ]
     },
     "metadata": {},
     "output_type": "display_data"
    },
    {
     "data": {
      "text/markdown": [
       "##### Calculates suitably lagged and iterated differences.\n",
       "\n",
       "If the data is a vector of length n and differences = 1, then the computed  \n",
       "result is equal to the successive differences  \n",
       "`x[lag:] – x[:-lag]`.  \n",
       "\n",
       "##### Examples:\n",
       "&emsp;&emsp;>>> rv = [52, 21, 10, 11, 19]  \n",
       "&emsp;&emsp;>>> data = diff(rv)  \n",
       "&emsp;&emsp;>>> # -31 -11 1 8  \n",
       "&emsp;&emsp;>>> # rv[1:] - rv[:-1]  \n",
       "&emsp;&emsp;>>> # rv[1:]  [21, 10, 11, 19]  \n",
       "&emsp;&emsp;>>> # rv[:-1] [52, 21, 10, 11]  \n",
       "\n",
       "##### Args:\n",
       "&emsp;&emsp;`x`: The data  \n",
       "&emsp;&emsp;`lag`: The lag to use. Could be negative.  \n",
       "&emsp;&emsp;&emsp;&emsp;It always calculates `x[lag:] - x[:-lag]` even when `lag` is negative  \n",
       "\n",
       "&emsp;&emsp;`differences`: The order of the difference  \n",
       "\n",
       "##### Returns:\n",
       "&emsp;&emsp;An array of `x[lag:] – x[:-lag]`.  \n",
       "&emsp;&emsp;If `differences > 1`, the rule applies `differences` times on `x`  \n"
      ],
      "text/plain": [
       "<IPython.core.display.Markdown object>"
      ]
     },
     "metadata": {},
     "output_type": "display_data"
    },
    {
     "data": {
      "text/markdown": [
       "### # identity  "
      ],
      "text/plain": [
       "<IPython.core.display.Markdown object>"
      ]
     },
     "metadata": {},
     "output_type": "display_data"
    },
    {
     "data": {
      "text/markdown": [
       "##### Return whatever passed in\n",
       "\n",
       "Expression objects are evaluated using parent context  \n"
      ],
      "text/plain": [
       "<IPython.core.display.Markdown object>"
      ]
     },
     "metadata": {},
     "output_type": "display_data"
    },
    {
     "data": {
      "text/markdown": [
       "### # expandgrid  "
      ],
      "text/plain": [
       "<IPython.core.display.Markdown object>"
      ]
     },
     "metadata": {},
     "output_type": "display_data"
    },
    {
     "data": {
      "text/markdown": [
       "##### Expand all combinations into a dataframe. R's `expand.grid()`\n"
      ],
      "text/plain": [
       "<IPython.core.display.Markdown object>"
      ]
     },
     "metadata": {},
     "output_type": "display_data"
    },
    {
     "data": {
      "text/markdown": [
       "### # outer  "
      ],
      "text/plain": [
       "<IPython.core.display.Markdown object>"
      ]
     },
     "metadata": {},
     "output_type": "display_data"
    },
    {
     "data": {
      "text/markdown": [
       "##### Compute the outer product of two vectors.\n",
       "\n",
       "##### Args:\n",
       "&emsp;&emsp;`x`: The first vector  \n",
       "&emsp;&emsp;`y`: The second vector  \n",
       "&emsp;&emsp;`fun`: The function to handle how the result of the elements from  \n",
       "&emsp;&emsp;&emsp;&emsp;the first and second vectors should be computed.  \n",
       "&emsp;&emsp;&emsp;&emsp;The function has to be vectorized at the second argument, and  \n",
       "&emsp;&emsp;&emsp;&emsp;return the same shape as y.  \n",
       "\n",
       "##### Returns:\n",
       "&emsp;&emsp;The data frame of the outer product of x and y  \n"
      ],
      "text/plain": [
       "<IPython.core.display.Markdown object>"
      ]
     },
     "metadata": {},
     "output_type": "display_data"
    },
    {
     "data": {
      "text/markdown": [
       "### # make_names  "
      ],
      "text/plain": [
       "<IPython.core.display.Markdown object>"
      ]
     },
     "metadata": {},
     "output_type": "display_data"
    },
    {
     "data": {
      "text/markdown": [
       "##### Make names available as columns and can be accessed by `df.<name>`\n",
       "\n",
       "The names will be transformed using `python-slugify` with  \n",
       "`lowercase=False` and `separator=\"_\"`. When the first character is  \n",
       "a digit, preface it with \"_\".  \n",
       "\n",
       "If `unique` is True, the results will be fed into  \n",
       "`datar.core.names.repair_names(names, \"unique\")`  \n",
       "\n",
       "##### Args:\n",
       "&emsp;&emsp;`names`: The names  \n",
       "&emsp;&emsp;&emsp;&emsp;if it is scalar, will make it into a list.  \n",
       "&emsp;&emsp;&emsp;&emsp;Then all elements will be converted into strings  \n",
       "\n",
       "&emsp;&emsp;`unique`: Whether to make the names unique  \n",
       "\n",
       "##### Returns:\n",
       "&emsp;&emsp;Converted names  \n"
      ],
      "text/plain": [
       "<IPython.core.display.Markdown object>"
      ]
     },
     "metadata": {},
     "output_type": "display_data"
    },
    {
     "data": {
      "text/markdown": [
       "### # make_unique  "
      ],
      "text/plain": [
       "<IPython.core.display.Markdown object>"
      ]
     },
     "metadata": {},
     "output_type": "display_data"
    },
    {
     "data": {
      "text/markdown": [
       "##### Make the names unique.\n",
       "\n",
       "It's a shortcut for `make_names(names, unique=True)`  \n",
       "\n",
       "##### Args:\n",
       "&emsp;&emsp;`names`: The names  \n",
       "&emsp;&emsp;&emsp;&emsp;if it is scalar, will make it into a list.  \n",
       "&emsp;&emsp;&emsp;&emsp;Then all elements will be converted into strings  \n",
       "\n",
       "##### Returns:\n",
       "&emsp;&emsp;Converted names  \n"
      ],
      "text/plain": [
       "<IPython.core.display.Markdown object>"
      ]
     },
     "metadata": {},
     "output_type": "display_data"
    },
    {
     "data": {
      "text/markdown": [
       "### # rank  "
      ],
      "text/plain": [
       "<IPython.core.display.Markdown object>"
      ]
     },
     "metadata": {},
     "output_type": "display_data"
    },
    {
     "data": {
      "text/markdown": [
       "##### Returns the sample ranks of the values in a vector.\n",
       "\n",
       "##### Args:\n",
       "&emsp;&emsp;`x`: A numeric vector  \n",
       "&emsp;&emsp;`na_last`: for controlling the treatment of `NA`s.  If `True`, missing  \n",
       "&emsp;&emsp;&emsp;&emsp;values in the data are put last; if `False`, they are put  \n",
       "&emsp;&emsp;&emsp;&emsp;first; if `\"keep\"` they are kept  with rank `NA`.  \n",
       "\n",
       "&emsp;&emsp;`ties_method`: a character string specifying how ties are treated  \n",
       "&emsp;&emsp;&emsp;&emsp;One of `average`, `first`, `dense`, `max`, and `min`  \n",
       "&emsp;&emsp;&emsp;&emsp;Note that the ties_method candidates are different than the ones  \n",
       "&emsp;&emsp;&emsp;&emsp;from R, because we are using `pandas.Series.rank()`. See  \n",
       "&emsp;&emsp;&emsp;&emsp;https://pandas.pydata.org/docs/reference/api/pandas.Series.rank.html  \n",
       "\n",
       "##### Returns:\n",
       "&emsp;&emsp;A numeric rank vector of the same length as `x`  \n"
      ],
      "text/plain": [
       "<IPython.core.display.Markdown object>"
      ]
     },
     "metadata": {},
     "output_type": "display_data"
    },
    {
     "data": {
      "text/markdown": [
       "### # data_context  "
      ],
      "text/plain": [
       "<IPython.core.display.Markdown object>"
      ]
     },
     "metadata": {},
     "output_type": "display_data"
    },
    {
     "data": {
      "text/markdown": [
       "##### Evaluate verbs, functions in the\n",
       "possibly modifying (a copy of) the original data.  \n",
       "\n",
       "It mimic the `with` function in R, but you have to write it in a python way,  \n",
       "which is using the `with` statement. And you have to use it with `as`, since  \n",
       "we need the value returned by `__enter__`.  \n",
       "\n",
       "##### Args:\n",
       "&emsp;&emsp;`data`: The data  \n",
       "&emsp;&emsp;`func`: A function that is registered by  \n",
       "&emsp;&emsp;&emsp;&emsp;`pipda.register_verb` or `pipda.register_func`.  \n",
       "\n",
       "&emsp;&emsp;`*args`: Arguments for func  \n",
       "&emsp;&emsp;`**kwargs`: Keyword arguments for func  \n",
       "\n",
       "##### Returns:\n",
       "&emsp;&emsp;The original or modified data  \n"
      ],
      "text/plain": [
       "<IPython.core.display.Markdown object>"
      ]
     },
     "metadata": {},
     "output_type": "display_data"
    }
   ],
   "source": [
    "from datar import options\n",
    "options(warn_builtin_names=False)\n",
    "\n",
    "from datar.all import *\n",
    "\n",
    "%run nb_helpers.py\n",
    "debug_kwargs = {'prefix': '\\n', 'sep': f'\\n{\"-\" * 20}\\n'}\n",
    "nb_header(\n",
    "    cut, diff, identity, expandgrid, outer, \n",
    "    make_names, make_unique, rank, data_context\n",
    ")"
   ]
  },
  {
   "cell_type": "code",
   "execution_count": 3,
   "metadata": {},
   "outputs": [
    {
     "name": "stderr",
     "output_type": "stream",
     "text": [
      "[2022-03-11 21:23:06][datar][WARNING] New names:\n",
      "[2022-03-11 21:23:06][datar][WARNING] * '_1' -> '__0'\n",
      "[2022-03-11 21:23:06][datar][WARNING] * '_1' -> '__1'\n",
      "[2022-03-11 21:23:06][datar][WARNING] * '_1' -> '__2'\n"
     ]
    },
    {
     "name": "stdout",
     "output_type": "stream",
     "text": [
      "\n",
      "cut(seq(1,10), 3)\n",
      "--------------------\n",
      "[(0.99, 4.0], (0.99, 4.0], (0.99, 4.0], (0.99, 4.0], (4.0, 7.0], (4.0, 7.0], (4.0, 7.0], (7.0, 10.0], (7.0, 10.0], (7.0, 10.0]]\n",
      "Categories (3, interval[float64, right]): [(0.99, 4.0] < (4.0, 7.0] < (7.0, 10.0]]\n",
      "\n",
      "diff([1, 2, 3])\n",
      "--------------------\n",
      "array([1, 1])\n",
      "\n",
      "identity(1.23)\n",
      "--------------------\n",
      "1.23\n",
      "\n",
      "expandgrid([1,2], [3,4])\n",
      "--------------------\n",
      "   [1, 2]  [3, 4]\n",
      "  <int64> <int64>\n",
      "0       1       3\n",
      "1       1       4\n",
      "2       2       3\n",
      "3       2       4\n",
      "\n",
      "outer([1,2], [3,4])\n",
      "--------------------\n",
      "        0       1\n",
      "  <int64> <int64>\n",
      "0       3       4\n",
      "1       6       8\n",
      "\n",
      "make_names([1, 2, 3])\n",
      "--------------------\n",
      "['_1', '_2', '_3']\n",
      "\n",
      "make_unique([1, 1, 1])\n",
      "--------------------\n",
      "['__0', '__1', '__2']\n",
      "\n",
      "rank([3, 4, 1, -1])\n",
      "--------------------\n",
      "array([3., 4., 2., 1.])\n"
     ]
    },
    {
     "data": {
      "text/html": [
       "<div>\n",
       "<style scoped>\n",
       "    .dataframe tbody tr th:only-of-type {\n",
       "        vertical-align: middle;\n",
       "    }\n",
       "\n",
       "    .dataframe tbody tr th {\n",
       "        vertical-align: top;\n",
       "    }\n",
       "\n",
       "    .dataframe thead th {\n",
       "        text-align: right;\n",
       "    }\n",
       "</style>\n",
       "<table border=\"1\" class=\"dataframe\">\n",
       "  <thead>\n",
       "    <tr style=\"text-align: right;\">\n",
       "      <th></th>\n",
       "      <th>a</th>\n",
       "      <th>b</th>\n",
       "    </tr>\n",
       "  </thead>\n",
       "  <tbody>\n",
       "    <tr>\n",
       "      <th style=\"font-style: italic;\" ></th>\n",
       "      <td style=\"font-style: italic;\" >&lt;int64&gt;</td>\n",
       "      <td style=\"font-style: italic;\" >&lt;int64&gt;</td>\n",
       "    </tr>\n",
       "    <tr>\n",
       "      <th>0</th>\n",
       "      <td>1</td>\n",
       "      <td>3</td>\n",
       "    </tr>\n",
       "    <tr>\n",
       "      <th>1</th>\n",
       "      <td>1</td>\n",
       "      <td>4</td>\n",
       "    </tr>\n",
       "    <tr>\n",
       "      <th>2</th>\n",
       "      <td>2</td>\n",
       "      <td>3</td>\n",
       "    </tr>\n",
       "    <tr>\n",
       "      <th>3</th>\n",
       "      <td>2</td>\n",
       "      <td>4</td>\n",
       "    </tr>\n",
       "  </tbody>\n",
       "</table>\n",
       "</div>\n"
      ],
      "text/plain": [
       "        a       b\n",
       "  <int64> <int64>\n",
       "0       1       3\n",
       "1       1       4\n",
       "2       2       3\n",
       "3       2       4"
      ]
     },
     "execution_count": 3,
     "metadata": {},
     "output_type": "execute_result"
    }
   ],
   "source": [
    "debug(\n",
    "    cut(seq(1,10), 3), \n",
    "    diff([1, 2, 3]),\n",
    "    identity(1.23),\n",
    "    expandgrid([1,2], [3,4]),\n",
    "    outer([1,2], [3,4]),\n",
    "    make_names([1, 2, 3]),\n",
    "    make_unique([1, 1, 1]),\n",
    "    rank([3, 4, 1, -1]),\n",
    "    **debug_kwargs\n",
    ")\n",
    "with data_context(tibble(a=[1,2], b=[3,4])) as _:\n",
    "    expandgrid(f.a, f.b)"
   ]
  }
 ],
 "metadata": {
  "interpreter": {
   "hash": "9ed5c94d10bf621c6841991b7e31ffd0f3c8de8ec4167710459737a50edc58e4"
  },
  "kernelspec": {
   "display_name": "Python 3.9.5 ('base')",
   "language": "python",
   "name": "python3"
  },
  "language_info": {
   "codemirror_mode": {
    "name": "ipython",
    "version": 3
   },
   "file_extension": ".py",
   "mimetype": "text/x-python",
   "name": "python",
   "nbconvert_exporter": "python",
   "pygments_lexer": "ipython3",
   "version": "3.9.5"
  },
  "orig_nbformat": 4
 },
 "nbformat": 4,
 "nbformat_minor": 2
}
