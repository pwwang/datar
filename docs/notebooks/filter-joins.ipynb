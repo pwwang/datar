{
 "cells": [
  {
   "cell_type": "code",
   "execution_count": 1,
   "id": "specified-enemy",
   "metadata": {
    "execution": {
     "iopub.execute_input": "2021-07-16T22:27:41.370298Z",
     "iopub.status.busy": "2021-07-16T22:27:41.368998Z",
     "iopub.status.idle": "2021-07-16T22:27:42.302245Z",
     "shell.execute_reply": "2021-07-16T22:27:42.302701Z"
    }
   },
   "outputs": [
    {
     "name": "stderr",
     "output_type": "stream",
     "text": [
      "[2021-07-16 15:27:42][datar][WARNING] Builtin name \"min\" has been overriden by datar.\n",
      "[2021-07-16 15:27:42][datar][WARNING] Builtin name \"max\" has been overriden by datar.\n",
      "[2021-07-16 15:27:42][datar][WARNING] Builtin name \"sum\" has been overriden by datar.\n",
      "[2021-07-16 15:27:42][datar][WARNING] Builtin name \"abs\" has been overriden by datar.\n",
      "[2021-07-16 15:27:42][datar][WARNING] Builtin name \"round\" has been overriden by datar.\n",
      "[2021-07-16 15:27:42][datar][WARNING] Builtin name \"all\" has been overriden by datar.\n",
      "[2021-07-16 15:27:42][datar][WARNING] Builtin name \"any\" has been overriden by datar.\n",
      "[2021-07-16 15:27:42][datar][WARNING] Builtin name \"re\" has been overriden by datar.\n",
      "[2021-07-16 15:27:42][datar][WARNING] Builtin name \"filter\" has been overriden by datar.\n",
      "[2021-07-16 15:27:42][datar][WARNING] Builtin name \"slice\" has been overriden by datar.\n"
     ]
    },
    {
     "data": {
      "text/html": [
       "<div style=\"text-align: right; text-style: italic\">Try this notebook on <a target=\"_blank\" href=\"https://mybinder.org/v2/gh/pwwang/datar/93d069f3ca36711fc811c61dcf60e9fc3d1460a5?filepath=docs%2Fnotebooks%2Ffilter-joins.ipynb\">binder</a>.</div>"
      ],
      "text/plain": [
       "<IPython.core.display.HTML object>"
      ]
     },
     "metadata": {},
     "output_type": "display_data"
    },
    {
     "data": {
      "text/markdown": [
       "### # semi_join  "
      ],
      "text/plain": [
       "<IPython.core.display.Markdown object>"
      ]
     },
     "metadata": {},
     "output_type": "display_data"
    },
    {
     "data": {
      "text/markdown": [
       "##### Returns all rows from x with a match in y.\n",
       "\n",
       "See Also:  \n",
       "&emsp;&emsp;[`inner_join()`](datar.dplyr.join.inner_join)  \n"
      ],
      "text/plain": [
       "<IPython.core.display.Markdown object>"
      ]
     },
     "metadata": {},
     "output_type": "display_data"
    },
    {
     "data": {
      "text/markdown": [
       "### # anti_join  "
      ],
      "text/plain": [
       "<IPython.core.display.Markdown object>"
      ]
     },
     "metadata": {},
     "output_type": "display_data"
    },
    {
     "data": {
      "text/markdown": [
       "##### Returns all rows from x without a match in y.\n",
       "\n",
       "See Also:  \n",
       "&emsp;&emsp;[`inner_join()`](datar.dplyr.join.inner_join)  \n"
      ],
      "text/plain": [
       "<IPython.core.display.Markdown object>"
      ]
     },
     "metadata": {},
     "output_type": "display_data"
    }
   ],
   "source": [
    "# https://dplyr.tidyverse.org/reference/filter-joins.html\n",
    "\n",
    "from datar.datasets import band_members, band_instruments\n",
    "from datar.all import *\n",
    "\n",
    "%run nb_helpers.py\n",
    "nb_header(semi_join, anti_join, book='filter-joins')"
   ]
  },
  {
   "cell_type": "code",
   "execution_count": 2,
   "id": "technical-flavor",
   "metadata": {
    "execution": {
     "iopub.execute_input": "2021-07-16T22:27:42.371916Z",
     "iopub.status.busy": "2021-07-16T22:27:42.370067Z",
     "iopub.status.idle": "2021-07-16T22:27:42.398547Z",
     "shell.execute_reply": "2021-07-16T22:27:42.399395Z"
    }
   },
   "outputs": [
    {
     "data": {
      "text/html": [
       "<table border=\"1\" class=\"dataframe\">\n",
       "  <thead>\n",
       "    <tr style=\"text-align: right;\">\n",
       "      <th></th>\n",
       "      <th>name</th>\n",
       "      <th>band</th>\n",
       "    </tr>\n",
       "  </thead>\n",
       "  <tbody>\n",
       "    <tr>\n",
       "      <th style=\"font-style: italic;\" ></th>\n",
       "      <td style=\"font-style: italic;\" >&lt;object&gt;</td>\n",
       "      <td style=\"font-style: italic;\" >&lt;object&gt;</td>\n",
       "    </tr>\n",
       "    <tr>\n",
       "      <th>1</th>\n",
       "      <td>John</td>\n",
       "      <td>Beatles</td>\n",
       "    </tr>\n",
       "    <tr>\n",
       "      <th>2</th>\n",
       "      <td>Paul</td>\n",
       "      <td>Beatles</td>\n",
       "    </tr>\n",
       "  </tbody>\n",
       "</table>"
      ],
      "text/plain": [
       "      name     band\n",
       "  <object> <object>\n",
       "1     John  Beatles\n",
       "2     Paul  Beatles"
      ]
     },
     "execution_count": 1,
     "metadata": {},
     "output_type": "execute_result"
    }
   ],
   "source": [
    "band_members >> semi_join(band_instruments)"
   ]
  },
  {
   "cell_type": "code",
   "execution_count": 3,
   "id": "federal-tolerance",
   "metadata": {
    "execution": {
     "iopub.execute_input": "2021-07-16T22:27:42.426844Z",
     "iopub.status.busy": "2021-07-16T22:27:42.426222Z",
     "iopub.status.idle": "2021-07-16T22:27:42.437212Z",
     "shell.execute_reply": "2021-07-16T22:27:42.436497Z"
    }
   },
   "outputs": [
    {
     "data": {
      "text/html": [
       "<table border=\"1\" class=\"dataframe\">\n",
       "  <thead>\n",
       "    <tr style=\"text-align: right;\">\n",
       "      <th></th>\n",
       "      <th>name</th>\n",
       "      <th>band</th>\n",
       "    </tr>\n",
       "  </thead>\n",
       "  <tbody>\n",
       "    <tr>\n",
       "      <th style=\"font-style: italic;\" ></th>\n",
       "      <td style=\"font-style: italic;\" >&lt;object&gt;</td>\n",
       "      <td style=\"font-style: italic;\" >&lt;object&gt;</td>\n",
       "    </tr>\n",
       "    <tr>\n",
       "      <th>0</th>\n",
       "      <td>Mick</td>\n",
       "      <td>Stones</td>\n",
       "    </tr>\n",
       "  </tbody>\n",
       "</table>"
      ],
      "text/plain": [
       "      name     band\n",
       "  <object> <object>\n",
       "0     Mick   Stones"
      ]
     },
     "execution_count": 1,
     "metadata": {},
     "output_type": "execute_result"
    }
   ],
   "source": [
    "band_members >> anti_join(band_instruments)"
   ]
  }
 ],
 "metadata": {
  "kernelspec": {
   "display_name": "Python 3",
   "language": "python",
   "name": "python3"
  },
  "language_info": {
   "codemirror_mode": {
    "name": "ipython",
    "version": 3
   },
   "file_extension": ".py",
   "mimetype": "text/x-python",
   "name": "python",
   "nbconvert_exporter": "python",
   "pygments_lexer": "ipython3",
   "version": "3.7.8"
  }
 },
 "nbformat": 4,
 "nbformat_minor": 5
}
