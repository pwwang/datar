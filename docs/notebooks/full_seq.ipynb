{
 "cells": [
  {
   "cell_type": "code",
   "execution_count": 1,
   "id": "occasional-onion",
   "metadata": {
    "execution": {
     "iopub.execute_input": "2021-07-16T22:27:58.337680Z",
     "iopub.status.busy": "2021-07-16T22:27:58.336855Z",
     "iopub.status.idle": "2021-07-16T22:27:59.226466Z",
     "shell.execute_reply": "2021-07-16T22:27:59.226860Z"
    }
   },
   "outputs": [
    {
     "name": "stderr",
     "output_type": "stream",
     "text": [
      "[2022-03-06 01:55:17][datar][WARNING] Builtin name \"min\" has been overriden by datar.\n",
      "[2022-03-06 01:55:17][datar][WARNING] Builtin name \"max\" has been overriden by datar.\n",
      "[2022-03-06 01:55:17][datar][WARNING] Builtin name \"sum\" has been overriden by datar.\n",
      "[2022-03-06 01:55:17][datar][WARNING] Builtin name \"abs\" has been overriden by datar.\n",
      "[2022-03-06 01:55:17][datar][WARNING] Builtin name \"round\" has been overriden by datar.\n",
      "[2022-03-06 01:55:17][datar][WARNING] Builtin name \"all\" has been overriden by datar.\n",
      "[2022-03-06 01:55:17][datar][WARNING] Builtin name \"any\" has been overriden by datar.\n",
      "[2022-03-06 01:55:17][datar][WARNING] Builtin name \"re\" has been overriden by datar.\n",
      "[2022-03-06 01:55:17][datar][WARNING] Builtin name \"filter\" has been overriden by datar.\n",
      "[2022-03-06 01:55:17][datar][WARNING] Builtin name \"slice\" has been overriden by datar.\n"
     ]
    },
    {
     "data": {
      "text/html": [
       "<div style=\"text-align: right; text-style: italic\">Try this notebook on <a target=\"_blank\" href=\"https://mybinder.org/v2/gh/pwwang/datar/93d069f3ca36711fc811c61dcf60e9fc3d1460a5?filepath=docs%2Fnotebooks%2Ffull_seq.ipynb\">binder</a>.</div>"
      ],
      "text/plain": [
       "<IPython.core.display.HTML object>"
      ]
     },
     "metadata": {},
     "output_type": "display_data"
    },
    {
     "data": {
      "text/markdown": [
       "### # full_seq  "
      ],
      "text/plain": [
       "<IPython.core.display.Markdown object>"
      ]
     },
     "metadata": {},
     "output_type": "display_data"
    },
    {
     "data": {
      "text/markdown": [
       "##### Create the full sequence of values in a vector\n",
       "\n",
       "##### Args:\n",
       "&emsp;&emsp;`x`: A numeric vector.  \n",
       "&emsp;&emsp;`period`: Gap between each observation. The existing data will be  \n",
       "&emsp;&emsp;&emsp;&emsp;checked to ensure that it is actually of this periodicity.  \n",
       "\n",
       "&emsp;&emsp;`tol`: Numerical tolerance for checking periodicity.  \n",
       "\n",
       "##### Returns:\n",
       "&emsp;&emsp;The full sequence  \n"
      ],
      "text/plain": [
       "<IPython.core.display.Markdown object>"
      ]
     },
     "metadata": {},
     "output_type": "display_data"
    }
   ],
   "source": [
    "# https://tidyr.tidyverse.org/reference/full_seq.html\n",
    "\n",
    "from datar.all import *\n",
    "\n",
    "%run nb_helpers.py\n",
    "nb_header(full_seq)"
   ]
  },
  {
   "cell_type": "code",
   "execution_count": 2,
   "id": "convenient-professional",
   "metadata": {
    "execution": {
     "iopub.execute_input": "2021-07-16T22:27:59.233189Z",
     "iopub.status.busy": "2021-07-16T22:27:59.232551Z",
     "iopub.status.idle": "2021-07-16T22:27:59.245528Z",
     "shell.execute_reply": "2021-07-16T22:27:59.246036Z"
    }
   },
   "outputs": [
    {
     "data": {
      "text/plain": [
       "array([ 1,  2,  3,  4,  5,  6,  7,  8,  9, 10])"
      ]
     },
     "execution_count": 2,
     "metadata": {},
     "output_type": "execute_result"
    }
   ],
   "source": [
    "full_seq(c(1, 2, 4, 5, 10), 1)"
   ]
  },
  {
   "cell_type": "code",
   "execution_count": null,
   "id": "ad52e92c",
   "metadata": {},
   "outputs": [],
   "source": []
  }
 ],
 "metadata": {
  "kernelspec": {
   "display_name": "Python 3",
   "language": "python",
   "name": "python3"
  },
  "language_info": {
   "codemirror_mode": {
    "name": "ipython",
    "version": 3
   },
   "file_extension": ".py",
   "mimetype": "text/x-python",
   "name": "python",
   "nbconvert_exporter": "python",
   "pygments_lexer": "ipython3",
   "version": "3.9.5"
  }
 },
 "nbformat": 4,
 "nbformat_minor": 5
}
