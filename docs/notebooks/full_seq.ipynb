{
 "cells": [
  {
   "cell_type": "code",
   "execution_count": 1,
   "id": "occasional-onion",
   "metadata": {
    "execution": {
     "iopub.execute_input": "2021-04-17T00:52:53.276148Z",
     "iopub.status.busy": "2021-04-17T00:52:53.275388Z",
     "iopub.status.idle": "2021-04-17T00:52:54.157819Z",
     "shell.execute_reply": "2021-04-17T00:52:54.157079Z"
    }
   },
   "outputs": [
    {
     "output_type": "display_data",
     "data": {
      "text/plain": "<IPython.core.display.HTML object>",
      "text/html": "<div style=\"text-align: right; text-style: italic\">Try this notebook on <a target=\"_blank\" href=\"https://mybinder.org/v2/gh/pwwang/datar/93d069f3ca36711fc811c61dcf60e9fc3d1460a5?filepath=docs%2Fnotebooks%2Ffull_seq.ipynb\">binder</a>.</div>"
     },
     "metadata": {}
    },
    {
     "output_type": "display_data",
     "data": {
      "text/plain": "<IPython.core.display.Markdown object>",
      "text/markdown": "### # full_seq  "
     },
     "metadata": {}
    },
    {
     "output_type": "display_data",
     "data": {
      "text/plain": "<IPython.core.display.Markdown object>",
      "text/markdown": "##### Create the full sequence of values in a vector\n\n##### Args:\n&emsp;&emsp;`x`: A numeric vector.  \n&emsp;&emsp;`period`: Gap between each observation. The existing data will be  \n&emsp;&emsp;&emsp;&emsp;checked to ensure that it is actually of this periodicity.  \n\n&emsp;&emsp;`tol`: Numerical tolerance for checking periodicity.  \n\n##### Returns:\n&emsp;&emsp;The full sequence  \n"
     },
     "metadata": {}
    }
   ],
   "source": [
    "# https://tidyr.tidyverse.org/reference/full_seq.html\n",
    "\n",
    "from datar.all import *\n",
    "\n",
    "%run nb_helpers.py\n",
    "nb_header(full_seq)"
   ]
  },
  {
   "cell_type": "code",
   "execution_count": 2,
   "id": "convenient-professional",
   "metadata": {
    "execution": {
     "iopub.execute_input": "2021-04-17T00:52:54.166367Z",
     "iopub.status.busy": "2021-04-17T00:52:54.165797Z",
     "iopub.status.idle": "2021-04-17T00:52:54.175068Z",
     "shell.execute_reply": "2021-04-17T00:52:54.174465Z"
    }
   },
   "outputs": [
    {
     "output_type": "execute_result",
     "data": {
      "text/plain": [
       "array([ 1,  2,  3,  4,  5,  6,  7,  8,  9, 10])"
      ]
     },
     "metadata": {},
     "execution_count": 2
    }
   ],
   "source": [
    "full_seq(c(1, 2, 4, 5, 10), 1)"
   ]
  },
  {
   "cell_type": "code",
   "execution_count": null,
   "metadata": {},
   "outputs": [],
   "source": []
  }
 ],
 "metadata": {
  "kernelspec": {
   "display_name": "Python 3",
   "language": "python",
   "name": "python3"
  },
  "language_info": {
   "codemirror_mode": {
    "name": "ipython",
    "version": 3
   },
   "file_extension": ".py",
   "mimetype": "text/x-python",
   "name": "python",
   "nbconvert_exporter": "python",
   "pygments_lexer": "ipython3",
   "version": "3.7.8"
  }
 },
 "nbformat": 4,
 "nbformat_minor": 5
}