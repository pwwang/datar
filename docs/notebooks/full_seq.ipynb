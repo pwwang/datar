{
 "cells": [
  {
   "cell_type": "code",
   "execution_count": 1,
   "id": "occasional-onion",
   "metadata": {
    "execution": {
     "iopub.execute_input": "2021-07-16T22:27:58.337680Z",
     "iopub.status.busy": "2021-07-16T22:27:58.336855Z",
     "iopub.status.idle": "2021-07-16T22:27:59.226466Z",
     "shell.execute_reply": "2021-07-16T22:27:59.226860Z"
    }
   },
   "outputs": [
    {
     "data": {
      "text/html": [
       "<div style=\"text-align: right; text-style: italic\">Try this notebook on <a target=\"_blank\" href=\"https://mybinder.org/v2/gh/pwwang/datar/dev?filepath=docs%2Fnotebooks%2Ffull_seq.ipynb\">binder</a>.</div>"
      ],
      "text/plain": [
       "<IPython.core.display.HTML object>"
      ]
     },
     "metadata": {},
     "output_type": "display_data"
    },
    {
     "data": {
      "text/markdown": [
       "### <div style=\"background-color: #EEE; padding: 5px 0 8px 0\">★ full_seq</div>"
      ],
      "text/plain": [
       "<IPython.core.display.Markdown object>"
      ]
     },
     "metadata": {},
     "output_type": "display_data"
    },
    {
     "data": {
      "text/markdown": [
       "##### Create the full sequence of values in a vector\n",
       "\n",
       "##### Args:\n",
       "&emsp;&emsp;`x`: A numeric vector.  \n",
       "&emsp;&emsp;`period`: Gap between each observation. The existing data will be  \n",
       "&emsp;&emsp;&emsp;&emsp;checked to ensure that it is actually of this periodicity.  \n",
       "\n",
       "&emsp;&emsp;`tol`: Numerical tolerance for checking periodicity.  \n",
       "\n",
       "##### Returns:\n",
       "&emsp;&emsp;The full sequence  \n"
      ],
      "text/plain": [
       "<IPython.core.display.Markdown object>"
      ]
     },
     "metadata": {},
     "output_type": "display_data"
    }
   ],
   "source": [
    "# https://tidyr.tidyverse.org/reference/full_seq.html\n",
    "%run nb_helpers.py\n",
    "\n",
    "from datar.all import *\n",
    "\n",
    "nb_header(full_seq)"
   ]
  },
  {
   "cell_type": "code",
   "execution_count": 2,
   "id": "convenient-professional",
   "metadata": {
    "execution": {
     "iopub.execute_input": "2021-07-16T22:27:59.233189Z",
     "iopub.status.busy": "2021-07-16T22:27:59.232551Z",
     "iopub.status.idle": "2021-07-16T22:27:59.245528Z",
     "shell.execute_reply": "2021-07-16T22:27:59.246036Z"
    }
   },
   "outputs": [
    {
     "data": {
      "text/plain": [
       "array([ 1,  2,  3,  4,  5,  6,  7,  8,  9, 10])"
      ]
     },
     "execution_count": 2,
     "metadata": {},
     "output_type": "execute_result"
    }
   ],
   "source": [
    "full_seq(c(1, 2, 4, 5, 10), 1)"
   ]
  },
  {
   "cell_type": "code",
   "execution_count": null,
   "id": "ad52e92c",
   "metadata": {},
   "outputs": [],
   "source": []
  }
 ],
 "metadata": {
  "kernelspec": {
   "display_name": "Python 3",
   "language": "python",
   "name": "python3"
  },
  "language_info": {
   "codemirror_mode": {
    "name": "ipython",
    "version": 3
   },
   "file_extension": ".py",
   "mimetype": "text/x-python",
   "name": "python",
   "nbconvert_exporter": "python",
   "pygments_lexer": "ipython3",
   "version": "3.9.5"
  }
 },
 "nbformat": 4,
 "nbformat_minor": 5
}
