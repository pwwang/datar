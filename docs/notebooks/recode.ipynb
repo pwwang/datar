{
 "cells": [
  {
   "cell_type": "code",
   "execution_count": 1,
   "id": "material-amount",
   "metadata": {
    "execution": {
     "iopub.execute_input": "2021-07-16T22:28:29.632035Z",
     "iopub.status.busy": "2021-07-16T22:28:29.631390Z",
     "iopub.status.idle": "2021-07-16T22:28:30.537989Z",
     "shell.execute_reply": "2021-07-16T22:28:30.538579Z"
    }
   },
   "outputs": [
    {
     "name": "stderr",
     "output_type": "stream",
     "text": [
      "[2021-07-16 15:28:30][datar][WARNING] Builtin name \"min\" has been overriden by datar.\n",
      "[2021-07-16 15:28:30][datar][WARNING] Builtin name \"max\" has been overriden by datar.\n",
      "[2021-07-16 15:28:30][datar][WARNING] Builtin name \"sum\" has been overriden by datar.\n",
      "[2021-07-16 15:28:30][datar][WARNING] Builtin name \"abs\" has been overriden by datar.\n",
      "[2021-07-16 15:28:30][datar][WARNING] Builtin name \"round\" has been overriden by datar.\n",
      "[2021-07-16 15:28:30][datar][WARNING] Builtin name \"all\" has been overriden by datar.\n",
      "[2021-07-16 15:28:30][datar][WARNING] Builtin name \"any\" has been overriden by datar.\n",
      "[2021-07-16 15:28:30][datar][WARNING] Builtin name \"re\" has been overriden by datar.\n",
      "[2021-07-16 15:28:30][datar][WARNING] Builtin name \"filter\" has been overriden by datar.\n",
      "[2021-07-16 15:28:30][datar][WARNING] Builtin name \"slice\" has been overriden by datar.\n"
     ]
    },
    {
     "data": {
      "text/html": [
       "<div style=\"text-align: right; text-style: italic\">Try this notebook on <a target=\"_blank\" href=\"https://mybinder.org/v2/gh/pwwang/datar/93d069f3ca36711fc811c61dcf60e9fc3d1460a5?filepath=docs%2Fnotebooks%2Frecode.ipynb\">binder</a>.</div>"
      ],
      "text/plain": [
       "<IPython.core.display.HTML object>"
      ]
     },
     "metadata": {},
     "output_type": "display_data"
    },
    {
     "data": {
      "text/markdown": [
       "### # recode  "
      ],
      "text/plain": [
       "<IPython.core.display.Markdown object>"
      ]
     },
     "metadata": {},
     "output_type": "display_data"
    },
    {
     "data": {
      "text/markdown": [
       "##### Recode a vector, replacing elements in it\n",
       "\n",
       "##### Args:\n",
       "&emsp;&emsp;`x`: A vector to modify  \n",
       "&emsp;&emsp;`*args`: and  \n",
       "&emsp;&emsp;`**kwargs`: replacements  \n",
       "&emsp;&emsp;`_default`: If supplied, all values not otherwise matched will be  \n",
       "&emsp;&emsp;&emsp;&emsp;given this value. If not supplied and if the replacements are  \n",
       "&emsp;&emsp;&emsp;&emsp;the same type as the original values in series, unmatched values  \n",
       "&emsp;&emsp;&emsp;&emsp;are not changed. If not supplied and if the replacements are  \n",
       "&emsp;&emsp;&emsp;&emsp;not compatible, unmatched values are replaced with NA.  \n",
       "\n",
       "&emsp;&emsp;`_missing`: If supplied, any missing values in .x will be replaced  \n",
       "&emsp;&emsp;&emsp;&emsp;by this value.  \n",
       "\n",
       "##### Returns:\n",
       "&emsp;&emsp;The vector with values replaced  \n"
      ],
      "text/plain": [
       "<IPython.core.display.Markdown object>"
      ]
     },
     "metadata": {},
     "output_type": "display_data"
    }
   ],
   "source": [
    "# https://dplyr.tidyverse.org/reference/recode.html\n",
    "\n",
    "from datar.all import *\n",
    "\n",
    "%run nb_helpers.py\n",
    "nb_header(recode)"
   ]
  },
  {
   "cell_type": "code",
   "execution_count": 2,
   "id": "cordless-istanbul",
   "metadata": {
    "execution": {
     "iopub.execute_input": "2021-07-16T22:28:30.549605Z",
     "iopub.status.busy": "2021-07-16T22:28:30.548937Z",
     "iopub.status.idle": "2021-07-16T22:28:30.552617Z",
     "shell.execute_reply": "2021-07-16T22:28:30.553026Z"
    }
   },
   "outputs": [
    {
     "data": {
      "text/plain": [
       "array(['b', 'c', 'c', 'b', 'Apple', 'c', 'c', 'Apple', 'b', 'c'],\n",
       "      dtype='<U5')"
      ]
     },
     "execution_count": 1,
     "metadata": {},
     "output_type": "execute_result"
    }
   ],
   "source": [
    "char_vec = sample(c(\"a\", \"b\", \"c\"), 10, replace=True)\n",
    "recode(char_vec, a=\"Apple\")"
   ]
  },
  {
   "cell_type": "code",
   "execution_count": 3,
   "id": "talented-insert",
   "metadata": {
    "execution": {
     "iopub.execute_input": "2021-07-16T22:28:30.560559Z",
     "iopub.status.busy": "2021-07-16T22:28:30.559899Z",
     "iopub.status.idle": "2021-07-16T22:28:30.563572Z",
     "shell.execute_reply": "2021-07-16T22:28:30.564016Z"
    }
   },
   "outputs": [
    {
     "data": {
      "text/plain": [
       "array(['Banana', 'c', 'c', 'Banana', 'Apple', 'c', 'c', 'Apple', 'Banana',\n",
       "       'c'], dtype='<U6')"
      ]
     },
     "execution_count": 1,
     "metadata": {},
     "output_type": "execute_result"
    }
   ],
   "source": [
    "recode(char_vec, a=\"Apple\", b=\"Banana\")"
   ]
  },
  {
   "cell_type": "code",
   "execution_count": 4,
   "id": "piano-jordan",
   "metadata": {
    "execution": {
     "iopub.execute_input": "2021-07-16T22:28:30.570326Z",
     "iopub.status.busy": "2021-07-16T22:28:30.569697Z",
     "iopub.status.idle": "2021-07-16T22:28:30.575258Z",
     "shell.execute_reply": "2021-07-16T22:28:30.574225Z"
    }
   },
   "outputs": [
    {
     "data": {
      "text/plain": [
       "array(['Banana', nan, nan, 'Banana', 'Apple', nan, nan, 'Apple', 'Banana',\n",
       "       nan], dtype=object)"
      ]
     },
     "execution_count": 1,
     "metadata": {},
     "output_type": "execute_result"
    }
   ],
   "source": [
    "recode(char_vec, a=\"Apple\", b=\"Banana\", _default = NA)"
   ]
  },
  {
   "cell_type": "code",
   "execution_count": 5,
   "id": "civilian-aberdeen",
   "metadata": {
    "execution": {
     "iopub.execute_input": "2021-07-16T22:28:30.582836Z",
     "iopub.status.busy": "2021-07-16T22:28:30.581981Z",
     "iopub.status.idle": "2021-07-16T22:28:30.586613Z",
     "shell.execute_reply": "2021-07-16T22:28:30.587100Z"
    }
   },
   "outputs": [
    {
     "data": {
      "text/plain": [
       "array(['banana', 'carrot', 'carrot', 'banana', 'apple', 'carrot',\n",
       "       'carrot', 'apple', 'banana', 'carrot'], dtype='<U6')"
      ]
     },
     "execution_count": 1,
     "metadata": {},
     "output_type": "execute_result"
    }
   ],
   "source": [
    "level_key = dict(a=\"apple\", b=\"banana\", c=\"carrot\")\n",
    "recode(char_vec, **level_key)"
   ]
  },
  {
   "cell_type": "code",
   "execution_count": 6,
   "id": "perceived-underground",
   "metadata": {
    "execution": {
     "iopub.execute_input": "2021-07-16T22:28:30.595687Z",
     "iopub.status.busy": "2021-07-16T22:28:30.594899Z",
     "iopub.status.idle": "2021-07-16T22:28:30.600811Z",
     "shell.execute_reply": "2021-07-16T22:28:30.601267Z"
    }
   },
   "outputs": [
    {
     "name": "stderr",
     "output_type": "stream",
     "text": [
      "[2021-07-16 15:28:30][datar][WARNING] Unreplaced values treated as NA as `_x` is not compatible. Please specify replacements exhaustively or supply `_default`\n"
     ]
    },
    {
     "data": {
      "text/plain": [
       "array([nan, 20, nan, 40, nan], dtype=object)"
      ]
     },
     "execution_count": 1,
     "metadata": {},
     "output_type": "execute_result"
    }
   ],
   "source": [
    "num_vec = c(range(4), NA)\n",
    "recode(num_vec, {1: 20, 3: 40})"
   ]
  },
  {
   "cell_type": "code",
   "execution_count": 7,
   "id": "paperback-threshold",
   "metadata": {
    "execution": {
     "iopub.execute_input": "2021-07-16T22:28:30.608649Z",
     "iopub.status.busy": "2021-07-16T22:28:30.606230Z",
     "iopub.status.idle": "2021-07-16T22:28:30.613872Z",
     "shell.execute_reply": "2021-07-16T22:28:30.612973Z"
    }
   },
   "outputs": [
    {
     "name": "stderr",
     "output_type": "stream",
     "text": [
      "[2021-07-16 15:28:30][datar][WARNING] Unreplaced values treated as NA as `_x` is not compatible. Please specify replacements exhaustively or supply `_default`\n"
     ]
    },
    {
     "data": {
      "text/plain": [
       "array([nan, 'a', 'b', 'c', nan], dtype=object)"
      ]
     },
     "execution_count": 1,
     "metadata": {},
     "output_type": "execute_result"
    }
   ],
   "source": [
    "recode(num_vec, \"a\", \"b\", \"c\", \"d\")"
   ]
  },
  {
   "cell_type": "code",
   "execution_count": 8,
   "id": "quick-nicaragua",
   "metadata": {
    "execution": {
     "iopub.execute_input": "2021-07-16T22:28:30.621513Z",
     "iopub.status.busy": "2021-07-16T22:28:30.620815Z",
     "iopub.status.idle": "2021-07-16T22:28:30.627088Z",
     "shell.execute_reply": "2021-07-16T22:28:30.627476Z"
    }
   },
   "outputs": [
    {
     "data": {
      "text/plain": [
       "array(['nothing', 'd', 'b'], dtype='<U7')"
      ]
     },
     "execution_count": 1,
     "metadata": {},
     "output_type": "execute_result"
    }
   ],
   "source": [
    "recode(c(0,4,2), \"a\", \"b\", \"c\", \"d\", _default=\"nothing\")"
   ]
  },
  {
   "cell_type": "code",
   "execution_count": 9,
   "id": "sealed-description",
   "metadata": {
    "execution": {
     "iopub.execute_input": "2021-07-16T22:28:30.633870Z",
     "iopub.status.busy": "2021-07-16T22:28:30.632901Z",
     "iopub.status.idle": "2021-07-16T22:28:30.638719Z",
     "shell.execute_reply": "2021-07-16T22:28:30.638086Z"
    }
   },
   "outputs": [
    {
     "name": "stderr",
     "output_type": "stream",
     "text": [
      "[2021-07-16 15:28:30][datar][WARNING] Unreplaced values treated as NA as `_x` is not compatible. Please specify replacements exhaustively or supply `_default`\n"
     ]
    },
    {
     "data": {
      "text/plain": [
       "array([nan, 'b', nan, 'd', nan], dtype=object)"
      ]
     },
     "execution_count": 1,
     "metadata": {},
     "output_type": "execute_result"
    }
   ],
   "source": [
    "recode(num_vec, {1: \"b\", 3: \"d\"})"
   ]
  },
  {
   "cell_type": "code",
   "execution_count": 10,
   "id": "adjacent-harrison",
   "metadata": {
    "execution": {
     "iopub.execute_input": "2021-07-16T22:28:30.646297Z",
     "iopub.status.busy": "2021-07-16T22:28:30.645533Z",
     "iopub.status.idle": "2021-07-16T22:28:30.648897Z",
     "shell.execute_reply": "2021-07-16T22:28:30.649332Z"
    }
   },
   "outputs": [
    {
     "data": {
      "text/plain": [
       "array(['other', 'a', 'b', 'c', nan], dtype=object)"
      ]
     },
     "execution_count": 1,
     "metadata": {},
     "output_type": "execute_result"
    }
   ],
   "source": [
    "recode(num_vec, \"a\", \"b\", \"c\", _default=\"other\")"
   ]
  },
  {
   "cell_type": "code",
   "execution_count": 11,
   "id": "requested-presentation",
   "metadata": {
    "execution": {
     "iopub.execute_input": "2021-07-16T22:28:30.655731Z",
     "iopub.status.busy": "2021-07-16T22:28:30.655058Z",
     "iopub.status.idle": "2021-07-16T22:28:30.660919Z",
     "shell.execute_reply": "2021-07-16T22:28:30.661302Z"
    }
   },
   "outputs": [
    {
     "data": {
      "text/plain": [
       "array(['other', 'a', 'b', 'c', 'missing'], dtype='<U7')"
      ]
     },
     "execution_count": 1,
     "metadata": {},
     "output_type": "execute_result"
    }
   ],
   "source": [
    "recode(num_vec, \"a\", \"b\", \"c\", _default=\"other\", _missing=\"missing\")"
   ]
  },
  {
   "cell_type": "code",
   "execution_count": 12,
   "id": "manufactured-tract",
   "metadata": {
    "execution": {
     "iopub.execute_input": "2021-07-16T22:28:30.669879Z",
     "iopub.status.busy": "2021-07-16T22:28:30.669272Z",
     "iopub.status.idle": "2021-07-16T22:28:30.672942Z",
     "shell.execute_reply": "2021-07-16T22:28:30.673970Z"
    }
   },
   "outputs": [
    {
     "data": {
      "text/plain": [
       "['a', 'b', 'c']\n",
       "Categories (3, object): ['a', 'b', 'c']"
      ]
     },
     "execution_count": 1,
     "metadata": {},
     "output_type": "execute_result"
    }
   ],
   "source": [
    "factor_vec = factor(c(\"a\", \"b\", \"c\"))\n",
    "factor_vec"
   ]
  },
  {
   "cell_type": "code",
   "execution_count": 13,
   "id": "chubby-treasurer",
   "metadata": {
    "execution": {
     "iopub.execute_input": "2021-07-16T22:28:30.684207Z",
     "iopub.status.busy": "2021-07-16T22:28:30.683379Z",
     "iopub.status.idle": "2021-07-16T22:28:30.687502Z",
     "shell.execute_reply": "2021-07-16T22:28:30.687885Z"
    }
   },
   "outputs": [
    {
     "data": {
      "text/plain": [
       "['Apple', 'b', 'c']\n",
       "Categories (3, object): ['Apple', 'b', 'c']"
      ]
     },
     "execution_count": 1,
     "metadata": {},
     "output_type": "execute_result"
    }
   ],
   "source": [
    "# categories lost\n",
    "recode(factor_vec, a=\"Apple\")"
   ]
  },
  {
   "cell_type": "code",
   "execution_count": 14,
   "id": "molecular-silly",
   "metadata": {
    "execution": {
     "iopub.execute_input": "2021-07-16T22:28:30.770892Z",
     "iopub.status.busy": "2021-07-16T22:28:30.767304Z",
     "iopub.status.idle": "2021-07-16T22:28:30.784841Z",
     "shell.execute_reply": "2021-07-16T22:28:30.784148Z"
    }
   },
   "outputs": [
    {
     "data": {
      "text/plain": [
       "['Apple', 'b', 'c']\n",
       "Categories (3, object): ['Apple', 'b', 'c']"
      ]
     },
     "execution_count": 1,
     "metadata": {},
     "output_type": "execute_result"
    }
   ],
   "source": [
    "recode_factor(factor_vec, a=\"Apple\")"
   ]
  },
  {
   "cell_type": "code",
   "execution_count": 15,
   "id": "english-currency",
   "metadata": {
    "execution": {
     "iopub.execute_input": "2021-07-16T22:28:30.795152Z",
     "iopub.status.busy": "2021-07-16T22:28:30.794527Z",
     "iopub.status.idle": "2021-07-16T22:28:30.811477Z",
     "shell.execute_reply": "2021-07-16T22:28:30.811930Z"
    }
   },
   "outputs": [
    {
     "name": "stderr",
     "output_type": "stream",
     "text": [
      "[2021-07-16 15:28:30][datar][WARNING] Unreplaced values treated as NA as `_x` is not compatible. Please specify replacements exhaustively or supply `_default`\n"
     ]
    },
    {
     "data": {
      "text/plain": [
       "['z', 'y', 'x', NaN, NaN]\n",
       "Categories (3, object): ['z', 'y', 'x']"
      ]
     },
     "execution_count": 1,
     "metadata": {},
     "output_type": "execute_result"
    }
   ],
   "source": [
    "recode_factor(num_vec, {0: \"z\", 1: \"y\", 2: \"x\"})"
   ]
  },
  {
   "cell_type": "code",
   "execution_count": 16,
   "id": "guilty-locator",
   "metadata": {
    "execution": {
     "iopub.execute_input": "2021-07-16T22:28:30.821569Z",
     "iopub.status.busy": "2021-07-16T22:28:30.820837Z",
     "iopub.status.idle": "2021-07-16T22:28:30.829888Z",
     "shell.execute_reply": "2021-07-16T22:28:30.828676Z"
    }
   },
   "outputs": [
    {
     "data": {
      "text/plain": [
       "['z', 'y', 'x', 'D', NaN]\n",
       "Categories (4, object): ['z', 'y', 'x', 'D']"
      ]
     },
     "execution_count": 1,
     "metadata": {},
     "output_type": "execute_result"
    }
   ],
   "source": [
    "recode_factor(num_vec, {0: \"z\", 1: \"y\", 2: \"x\"}, _default=\"D\")"
   ]
  },
  {
   "cell_type": "code",
   "execution_count": 17,
   "id": "opponent-nevada",
   "metadata": {
    "execution": {
     "iopub.execute_input": "2021-07-16T22:28:30.838860Z",
     "iopub.status.busy": "2021-07-16T22:28:30.838050Z",
     "iopub.status.idle": "2021-07-16T22:28:30.844064Z",
     "shell.execute_reply": "2021-07-16T22:28:30.843291Z"
    }
   },
   "outputs": [
    {
     "data": {
      "text/plain": [
       "['z', 'y', 'x', 'D', 'M']\n",
       "Categories (5, object): ['z', 'y', 'x', 'D', 'M']"
      ]
     },
     "execution_count": 1,
     "metadata": {},
     "output_type": "execute_result"
    }
   ],
   "source": [
    "recode_factor(num_vec, {0: \"z\", 1: \"y\", 2: \"x\"}, _default=\"D\", _missing=\"M\")"
   ]
  },
  {
   "cell_type": "code",
   "execution_count": 18,
   "id": "horizontal-shade",
   "metadata": {
    "execution": {
     "iopub.execute_input": "2021-07-16T22:28:30.852634Z",
     "iopub.status.busy": "2021-07-16T22:28:30.851853Z",
     "iopub.status.idle": "2021-07-16T22:28:30.855901Z",
     "shell.execute_reply": "2021-07-16T22:28:30.856297Z"
    }
   },
   "outputs": [
    {
     "data": {
      "text/plain": [
       "['a', 'z', 'y']\n",
       "Categories (3, object): ['z', 'y', 'a']"
      ]
     },
     "execution_count": 1,
     "metadata": {},
     "output_type": "execute_result"
    }
   ],
   "source": [
    "recode_factor(list(letters[:3]), b=\"z\", c=\"y\")"
   ]
  },
  {
   "cell_type": "code",
   "execution_count": 19,
   "id": "accredited-consortium",
   "metadata": {
    "execution": {
     "iopub.execute_input": "2021-07-16T22:28:30.865663Z",
     "iopub.status.busy": "2021-07-16T22:28:30.864990Z",
     "iopub.status.idle": "2021-07-16T22:28:30.868476Z",
     "shell.execute_reply": "2021-07-16T22:28:30.868859Z"
    }
   },
   "outputs": [
    {
     "data": {
      "text/plain": [
       "['banana', 'carrot', 'carrot', 'banana', 'apple', 'carrot', 'carrot', 'apple', 'banana', 'carrot']\n",
       "Categories (3, object): ['apple', 'banana', 'carrot']"
      ]
     },
     "execution_count": 1,
     "metadata": {},
     "output_type": "execute_result"
    }
   ],
   "source": [
    "level_key = dict(a=\"apple\", b=\"banana\", c=\"carrot\")\n",
    "recode_factor(char_vec, **level_key)"
   ]
  }
 ],
 "metadata": {
  "kernelspec": {
   "display_name": "Python 3",
   "language": "python",
   "name": "python3"
  },
  "language_info": {
   "codemirror_mode": {
    "name": "ipython",
    "version": 3
   },
   "file_extension": ".py",
   "mimetype": "text/x-python",
   "name": "python",
   "nbconvert_exporter": "python",
   "pygments_lexer": "ipython3",
   "version": "3.7.8"
  }
 },
 "nbformat": 4,
 "nbformat_minor": 5
}
