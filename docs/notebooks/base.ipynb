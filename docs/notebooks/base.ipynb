{
 "cells": [
  {
   "cell_type": "code",
   "execution_count": 1,
   "id": "453624fc",
   "metadata": {
    "execution": {
     "iopub.execute_input": "2021-07-16T22:27:45.263092Z",
     "iopub.status.busy": "2021-07-16T22:27:45.262361Z",
     "iopub.status.idle": "2021-07-16T22:27:46.079093Z",
     "shell.execute_reply": "2021-07-16T22:27:46.079498Z"
    }
   },
   "outputs": [],
   "source": [
    "%run nb_helpers.py\n",
    "import numpy\n",
    "from datar import f\n",
    "from datar.base import *\n",
    "from datar.tibble import tibble\n",
    "\n",
    "debug_kwargs = {'prefix': '\\n', 'sep': f'\\n{\"-\" * 20}\\n'}"
   ]
  },
  {
   "cell_type": "code",
   "execution_count": 2,
   "id": "5d888318",
   "metadata": {
    "execution": {
     "iopub.execute_input": "2021-07-16T22:27:46.084436Z",
     "iopub.status.busy": "2021-07-16T22:27:46.083689Z",
     "iopub.status.idle": "2021-07-16T22:27:46.184011Z",
     "shell.execute_reply": "2021-07-16T22:27:46.184453Z"
    }
   },
   "outputs": [
    {
     "name": "stdout",
     "output_type": "stream",
     "text": [
      "\n",
      "pi\n",
      "--------------------\n",
      "3.141592653589793\n",
      "\n",
      "Inf\n",
      "--------------------\n",
      "inf\n",
      "\n",
      "letters\n",
      "--------------------\n",
      "array(['a', 'b', 'c', 'd', 'e', 'f', 'g', 'h', 'i', 'j', 'k', 'l', 'm',\n",
      "       'n', 'o', 'p', 'q', 'r', 's', 't', 'u', 'v', 'w', 'x', 'y', 'z'],\n",
      "      dtype='<U1')\n",
      "\n",
      "LETTERS\n",
      "--------------------\n",
      "array(['A', 'B', 'C', 'D', 'E', 'F', 'G', 'H', 'I', 'J', 'K', 'L', 'M',\n",
      "       'N', 'O', 'P', 'Q', 'R', 'S', 'T', 'U', 'V', 'W', 'X', 'Y', 'Z'],\n",
      "      dtype='<U1')\n",
      "\n",
      "month_abb\n",
      "--------------------\n",
      "array(['J', 'F', 'M', 'A', 'M', 'J', 'J', 'A', 'S', 'O', 'N', 'D'],\n",
      "      dtype='<U1')\n",
      "\n",
      "month_name\n",
      "--------------------\n",
      "array(['J', 'F', 'M', 'A', 'M', 'J', 'J', 'A', 'S', 'O', 'N', 'D'],\n",
      "      dtype='<U1')\n"
     ]
    }
   ],
   "source": [
    "# constants\n",
    "debug(\n",
    "    pi,\n",
    "    Inf,\n",
    "    letters,\n",
    "    LETTERS,\n",
    "    month_abb,\n",
    "    month_name,\n",
    "    **debug_kwargs\n",
    ")"
   ]
  },
  {
   "cell_type": "code",
   "execution_count": 3,
   "id": "c6ac03cf",
   "metadata": {
    "execution": {
     "iopub.execute_input": "2021-07-16T22:27:46.354757Z",
     "iopub.status.busy": "2021-07-16T22:27:46.354104Z",
     "iopub.status.idle": "2021-07-16T22:27:46.653877Z",
     "shell.execute_reply": "2021-07-16T22:27:46.654309Z"
    }
   },
   "outputs": [
    {
     "name": "stdout",
     "output_type": "stream",
     "text": [
      "\n",
      "colnames(df)\n",
      "--------------------\n",
      "array(['x', 'y', 'z'], dtype=object)\n",
      "\n",
      "colnames(df, ['a', 'b', 'c'])\n",
      "--------------------\n",
      "        a       b       c\n",
      "  <int64> <int64> <int64>\n",
      "0       1       2       3\n",
      "\n",
      "rownames(df)\n",
      "--------------------\n",
      "array([0])\n",
      "\n",
      "rownames(df, ['row1'])\n",
      "--------------------\n",
      "           x       y       z\n",
      "     <int64> <int64> <int64>\n",
      "row1       1       2       3\n",
      "\n",
      "dim(df)\n",
      "--------------------\n",
      "(1, 3)\n",
      "\n",
      "nrow(df)\n",
      "--------------------\n",
      "1\n",
      "\n",
      "ncol(df)\n",
      "--------------------\n",
      "3\n",
      "\n",
      "diag(1, 3)\n",
      "--------------------\n",
      "        0       1       2\n",
      "  <int64> <int64> <int64>\n",
      "0       1       0       0\n",
      "1       0       1       0\n",
      "2       0       0       1\n",
      "\n",
      "diag(diag(1, 3))\n",
      "--------------------\n",
      "array([1, 1, 1])\n",
      "\n",
      "t(df)\n",
      "--------------------\n",
      "        0\n",
      "  <int64>\n",
      "x       1\n",
      "y       2\n",
      "z       3\n",
      "\n",
      "names(df)\n",
      "--------------------\n",
      "array(['x', 'y', 'z'], dtype=object)\n",
      "\n",
      "intersect([1,2], [2,3])\n",
      "--------------------\n",
      "array([2])\n",
      "\n",
      "setdiff([1,2], [2,3])\n",
      "--------------------\n",
      "array([1])\n",
      "\n",
      "union([1,2], [2,3])\n",
      "--------------------\n",
      "array([1, 2, 3])\n",
      "\n",
      "setequal([1,2], [2,1])\n",
      "--------------------\n",
      "True\n",
      "\n",
      "duplicated([1,1,2,2])\n",
      "--------------------\n",
      "array([False,  True, False,  True])\n",
      "\n",
      "duplicated([1,1,2,2], from_last=True)\n",
      "--------------------\n",
      "array([ True, False,  True, False])\n"
     ]
    }
   ],
   "source": [
    "# verbs\n",
    "df = tibble(x=1, y=2, z=3)\n",
    "\n",
    "debug(\n",
    "    colnames(df),\n",
    "    colnames(df, ['a', 'b', 'c']),\n",
    "    rownames(df),\n",
    "    rownames(df, ['row1']),\n",
    "    dim(df),\n",
    "    nrow(df),\n",
    "    ncol(df),\n",
    "    diag(1, 3),\n",
    "    diag(diag(1, 3)),\n",
    "    t(df),\n",
    "    names(df),\n",
    "    intersect([1,2], [2,3]),\n",
    "    setdiff([1,2], [2,3]),\n",
    "    union([1,2], [2,3]),\n",
    "    setequal([1,2], [2,1]),\n",
    "    duplicated([1,1,2,2]),\n",
    "    duplicated([1,1,2,2], from_last=True),\n",
    "    **debug_kwargs\n",
    ")"
   ]
  },
  {
   "cell_type": "code",
   "execution_count": 4,
   "id": "b16d91c0",
   "metadata": {
    "execution": {
     "iopub.execute_input": "2021-07-16T22:27:46.935879Z",
     "iopub.status.busy": "2021-07-16T22:27:46.935027Z",
     "iopub.status.idle": "2021-07-16T22:27:47.089544Z",
     "shell.execute_reply": "2021-07-16T22:27:47.089118Z"
    }
   },
   "outputs": [
    {
     "name": "stdout",
     "output_type": "stream",
     "text": [
      "\n",
      "bessel_i([1,2,3], 1)\n",
      "--------------------\n",
      "array([0.5651591 , 1.59063685, 3.95337022])\n",
      "\n",
      "bessel_j([1,2,3], 1)\n",
      "--------------------\n",
      "array([0.44005059, 0.57672481, 0.33905896])\n",
      "\n",
      "bessel_k([1,2,3], 1)\n",
      "--------------------\n",
      "array([0.60190723, 0.13986588, 0.04015643])\n",
      "\n",
      "bessel_y([1,2,3], 1)\n",
      "--------------------\n",
      "array([-0.78121282, -0.10703243,  0.32467442])\n"
     ]
    }
   ],
   "source": [
    "# bessel\n",
    "debug(\n",
    "    bessel_i([1,2,3], 1),\n",
    "    bessel_j([1,2,3], 1),\n",
    "    bessel_k([1,2,3], 1),\n",
    "    bessel_y([1,2,3], 1),\n",
    "    **debug_kwargs\n",
    ")"
   ]
  },
  {
   "cell_type": "code",
   "execution_count": 5,
   "id": "31c3ce8d",
   "metadata": {
    "execution": {
     "iopub.execute_input": "2021-07-16T22:27:47.103826Z",
     "iopub.status.busy": "2021-07-16T22:27:47.103131Z",
     "iopub.status.idle": "2021-07-16T22:27:47.117362Z",
     "shell.execute_reply": "2021-07-16T22:27:47.117944Z"
    }
   },
   "outputs": [
    {
     "name": "stdout",
     "output_type": "stream",
     "text": [
      "\n",
      "as_integer(['1', 2.1])\n",
      "--------------------\n",
      "[1, 2]\n",
      "\n",
      "as_float(['1', 2, 'nan'])\n",
      "--------------------\n",
      "[1.0, 2.0, nan]\n",
      "\n",
      "as_double(['1', 2, 'nan'])\n",
      "--------------------\n",
      "[1.0, 2.0, nan]\n",
      "\n",
      "as_numeric(['1', 2, 'nan'])\n",
      "--------------------\n",
      "[1.0, 2.0, nan]\n"
     ]
    }
   ],
   "source": [
    "# casting\n",
    "debug(\n",
    "    as_integer(['1', 2.1]),\n",
    "    as_float(['1', 2, 'nan']),\n",
    "    as_double(['1', 2, 'nan']),\n",
    "    as_numeric(['1', 2, 'nan']),\n",
    "    **debug_kwargs\n",
    ")\n"
   ]
  },
  {
   "cell_type": "code",
   "execution_count": 6,
   "id": "aa15cc6b",
   "metadata": {
    "execution": {
     "iopub.execute_input": "2021-07-16T22:27:47.138109Z",
     "iopub.status.busy": "2021-07-16T22:27:47.137450Z",
     "iopub.status.idle": "2021-07-16T22:27:47.151939Z",
     "shell.execute_reply": "2021-07-16T22:27:47.151185Z"
    }
   },
   "outputs": [
    {
     "name": "stdout",
     "output_type": "stream",
     "text": [
      "\n",
      "im(cm)\n",
      "--------------------\n",
      "array([2.])\n",
      "\n",
      "re(cm)\n",
      "--------------------\n",
      "array([1.])\n",
      "\n",
      "mod(cm)\n",
      "--------------------\n",
      "array([2.23606798])\n",
      "\n",
      "conj(cm)\n",
      "--------------------\n",
      "array([1.-2.j])\n",
      "\n",
      "is_complex(cm)\n",
      "--------------------\n",
      "True\n",
      "\n",
      "as_complex(1)\n",
      "--------------------\n",
      "(1+0j)\n"
     ]
    }
   ],
   "source": [
    "# complex numbers\n",
    "cm = 1 + 2j\n",
    "debug(\n",
    "    im(cm),\n",
    "    re(cm),\n",
    "    mod(cm),\n",
    "    conj(cm),\n",
    "    is_complex(cm),\n",
    "    as_complex(1),\n",
    "    **debug_kwargs\n",
    ")"
   ]
  },
  {
   "cell_type": "code",
   "execution_count": 7,
   "id": "b435f3d6",
   "metadata": {
    "execution": {
     "iopub.execute_input": "2021-07-16T22:27:47.164962Z",
     "iopub.status.busy": "2021-07-16T22:27:47.164427Z",
     "iopub.status.idle": "2021-07-16T22:27:47.174228Z",
     "shell.execute_reply": "2021-07-16T22:27:47.173668Z"
    }
   },
   "outputs": [
    {
     "name": "stdout",
     "output_type": "stream",
     "text": [
      "\n",
      "cumsum(a)\n",
      "--------------------\n",
      "array([ 1,  4,  6, 10])\n",
      "\n",
      "cumprod(a)\n",
      "--------------------\n",
      "array([ 1,  3,  6, 24])\n",
      "\n",
      "cummin(a)\n",
      "--------------------\n",
      "array([1, 1, 1, 1])\n",
      "\n",
      "cummax(a)\n",
      "--------------------\n",
      "array([1, 3, 3, 4])\n"
     ]
    }
   ],
   "source": [
    "# cum stats\n",
    "a = [1,3,2,4]\n",
    "\n",
    "debug(\n",
    "    cumsum(a),\n",
    "    cumprod(a),\n",
    "    cummin(a),\n",
    "    cummax(a),\n",
    "    **debug_kwargs\n",
    ")"
   ]
  },
  {
   "cell_type": "code",
   "execution_count": 8,
   "id": "d3067c02",
   "metadata": {
    "execution": {
     "iopub.execute_input": "2021-07-16T22:27:47.188127Z",
     "iopub.status.busy": "2021-07-16T22:27:47.187588Z",
     "iopub.status.idle": "2021-07-16T22:27:47.199207Z",
     "shell.execute_reply": "2021-07-16T22:27:47.199626Z"
    }
   },
   "outputs": [
    {
     "name": "stdout",
     "output_type": "stream",
     "text": [
      "\n",
      "as_date([\"1jan1960\", \"2jan1960\", \"31mar1960\", \"30jul1960\"], \"%d%b%Y\")\n",
      "--------------------\n",
      "DatetimeIndex(['1960-01-01', '1960-01-02', '1960-03-31', '1960-07-30'], dtype='datetime64[ns]', freq=None)\n",
      "\n",
      "as_date([\"02/27/92\", \"02/27/92\", \"01/14/92\", \"02/28/92\", \"02/01/92\"], \"%m/%d/%y\")\n",
      "--------------------\n",
      "DatetimeIndex(['1992-02-27', '1992-02-27', '1992-01-14', '1992-02-28',\n",
      "               '1992-02-01'],\n",
      "              dtype='datetime64[ns]', freq=None)\n",
      "\n",
      "as_date(32768, origin=\"1900-01-01\")\n",
      "--------------------\n",
      "DatetimeIndex(['1989-09-19'], dtype='datetime64[ns]', freq=None)\n"
     ]
    }
   ],
   "source": [
    "# date\n",
    "debug(\n",
    "    as_date([\"1jan1960\", \"2jan1960\", \"31mar1960\", \"30jul1960\"], \"%d%b%Y\"),\n",
    "    as_date([\"02/27/92\", \"02/27/92\", \"01/14/92\", \"02/28/92\", \"02/01/92\"], \"%m/%d/%y\"),\n",
    "    as_date(32768, origin=\"1900-01-01\"),\n",
    "    **debug_kwargs\n",
    ")"
   ]
  },
  {
   "cell_type": "code",
   "execution_count": 9,
   "id": "ffafcee8",
   "metadata": {
    "execution": {
     "iopub.execute_input": "2021-07-16T22:27:47.211713Z",
     "iopub.status.busy": "2021-07-16T22:27:47.211124Z",
     "iopub.status.idle": "2021-07-16T22:27:47.220254Z",
     "shell.execute_reply": "2021-07-16T22:27:47.220640Z"
    }
   },
   "outputs": [
    {
     "name": "stdout",
     "output_type": "stream",
     "text": [
      "\n",
      "levels(fct)\n",
      "--------------------\n",
      "array([1, 2, 3, 4])\n",
      "\n",
      "droplevels(fct)\n",
      "--------------------\n",
      "[1, 2, 3]\n",
      "Categories (3, int64): [1, 2, 3]\n",
      "\n",
      "is_factor(fct)\n",
      "--------------------\n",
      "True\n",
      "\n",
      "as_factor([1,2,3])\n",
      "--------------------\n",
      "[1, 2, 3]\n",
      "Categories (3, int64): [1, 2, 3]\n"
     ]
    }
   ],
   "source": [
    "# factor\n",
    "fct = factor([1,2,3], levels=[1,2,3,4])\n",
    "debug(\n",
    "    levels(fct),\n",
    "    droplevels(fct),\n",
    "    is_factor(fct),\n",
    "    as_factor([1,2,3]),\n",
    "    **debug_kwargs\n",
    ")"
   ]
  },
  {
   "cell_type": "code",
   "execution_count": 10,
   "id": "20f4bae9",
   "metadata": {
    "execution": {
     "iopub.execute_input": "2021-07-16T22:27:47.235532Z",
     "iopub.status.busy": "2021-07-16T22:27:47.235022Z",
     "iopub.status.idle": "2021-07-16T22:27:47.253216Z",
     "shell.execute_reply": "2021-07-16T22:27:47.252791Z"
    }
   },
   "outputs": [
    {
     "name": "stdout",
     "output_type": "stream",
     "text": [
      "\n",
      "TRUE\n",
      "--------------------\n",
      "True\n",
      "\n",
      "FALSE\n",
      "--------------------\n",
      "False\n",
      "\n",
      "is_true(TRUE)\n",
      "--------------------\n",
      "True\n",
      "\n",
      "not is_true([TRUE, TRUE])\n",
      "--------------------\n",
      "True\n",
      "\n",
      "is_false(FALSE)\n",
      "--------------------\n",
      "True\n",
      "\n",
      "is_logical(TRUE)\n",
      "--------------------\n",
      "True\n",
      "\n",
      "is_logical([TRUE, FALSE])\n",
      "--------------------\n",
      "True\n",
      "\n",
      "as_logical([0, 1])\n",
      "--------------------\n",
      "[False, True]\n"
     ]
    }
   ],
   "source": [
    "# logical\n",
    "\n",
    "debug(\n",
    "    TRUE,\n",
    "    FALSE,\n",
    "    is_true(TRUE),\n",
    "    not is_true([TRUE, TRUE]),\n",
    "    is_false(FALSE),\n",
    "    is_logical(TRUE),\n",
    "    is_logical([TRUE, FALSE]),\n",
    "    as_logical([0, 1]),\n",
    "    **debug_kwargs\n",
    ")"
   ]
  },
  {
   "cell_type": "code",
   "execution_count": 11,
   "id": "0314c145",
   "metadata": {
    "execution": {
     "iopub.execute_input": "2021-07-16T22:27:47.264422Z",
     "iopub.status.busy": "2021-07-16T22:27:47.263869Z",
     "iopub.status.idle": "2021-07-16T22:27:47.283925Z",
     "shell.execute_reply": "2021-07-16T22:27:47.284345Z"
    }
   },
   "outputs": [
    {
     "name": "stdout",
     "output_type": "stream",
     "text": [
      "\n",
      "NA\n",
      "--------------------\n",
      "nan\n",
      "\n",
      "NaN\n",
      "--------------------\n",
      "nan\n",
      "\n",
      "NA is NaN\n",
      "--------------------\n",
      "True\n",
      "\n",
      "type(NA)\n",
      "--------------------\n",
      "<class 'float'>\n",
      "\n",
      "is_na([NA, NaN, None])\n",
      "--------------------\n",
      "array([ True,  True,  True])\n",
      "\n",
      "any_na([1,2, NA])\n",
      "--------------------\n",
      "True\n",
      "\n",
      "numpy.array([1,2,NA])\n",
      "--------------------\n",
      "array([ 1.,  2., nan])\n",
      "\n",
      "numpy.array(['a', 'b', NA])\n",
      "--------------------\n",
      "array(['a', 'b', 'nan'], dtype='<U32')\n",
      "\n",
      "numpy.array(['a', 'b', None])\n",
      "--------------------\n",
      "array(['a', 'b', None], dtype=object)\n"
     ]
    }
   ],
   "source": [
    "# na\n",
    "\n",
    "debug(\n",
    "    NA,\n",
    "    NaN,\n",
    "    NA is NaN,\n",
    "    type(NA),\n",
    "    is_na([NA, NaN, None]),\n",
    "    any_na([1,2, NA]),\n",
    "    numpy.array([1,2,NA]),\n",
    "    numpy.array(['a', 'b', NA]),\n",
    "    numpy.array(['a', 'b', None]),\n",
    "    **debug_kwargs\n",
    ")"
   ]
  },
  {
   "cell_type": "code",
   "execution_count": 12,
   "id": "daf219e5",
   "metadata": {
    "execution": {
     "iopub.execute_input": "2021-07-16T22:27:47.297304Z",
     "iopub.status.busy": "2021-07-16T22:27:47.296171Z",
     "iopub.status.idle": "2021-07-16T22:27:47.303277Z",
     "shell.execute_reply": "2021-07-16T22:27:47.303773Z"
    }
   },
   "outputs": [
    {
     "name": "stdout",
     "output_type": "stream",
     "text": [
      "\n",
      "NULL\n",
      "--------------------\n",
      "None\n",
      "\n",
      "NULL is None\n",
      "--------------------\n",
      "True\n",
      "\n",
      "is_null(NA)\n",
      "--------------------\n",
      "False\n",
      "\n",
      "is_null(NULL)\n",
      "--------------------\n",
      "True\n",
      "\n",
      "as_null('whatever')\n",
      "--------------------\n",
      "None\n"
     ]
    }
   ],
   "source": [
    "# null\n",
    "\n",
    "debug(\n",
    "    NULL,\n",
    "    NULL is None,\n",
    "    is_null(NA),\n",
    "    is_null(NULL),\n",
    "    as_null('whatever'),\n",
    "    **debug_kwargs\n",
    ")"
   ]
  },
  {
   "cell_type": "code",
   "execution_count": 13,
   "id": "5474eafd",
   "metadata": {
    "execution": {
     "iopub.execute_input": "2021-07-16T22:27:47.312715Z",
     "iopub.status.busy": "2021-07-16T22:27:47.311845Z",
     "iopub.status.idle": "2021-07-16T22:27:47.316202Z",
     "shell.execute_reply": "2021-07-16T22:27:47.316569Z"
    }
   },
   "outputs": [
    {
     "data": {
      "text/plain": [
       "array([19, 61, 85, 93, 18,  5, 22,  7, 29, 26])"
      ]
     },
     "execution_count": 13,
     "metadata": {},
     "output_type": "execute_result"
    }
   ],
   "source": [
    "# random\n",
    "set_seed(8525)\n",
    "\n",
    "sample(seq(1,100), 10) # always: [19, 61, 85, 93, 18,  5, 22,  7, 29, 26]"
   ]
  },
  {
   "cell_type": "code",
   "execution_count": 14,
   "id": "8ada3bad",
   "metadata": {
    "execution": {
     "iopub.execute_input": "2021-07-16T22:27:47.348550Z",
     "iopub.status.busy": "2021-07-16T22:27:47.347945Z",
     "iopub.status.idle": "2021-07-16T22:27:47.522792Z",
     "shell.execute_reply": "2021-07-16T22:27:47.523230Z"
    }
   },
   "outputs": [
    {
     "name": "stdout",
     "output_type": "stream",
     "text": [
      "\n",
      "str(c(c(1,2), seq(3,4)))\n",
      "--------------------\n",
      "'[1, 2, 3, 4]'\n",
      "\n",
      "seq_len(5)\n",
      "--------------------\n",
      "array([1, 2, 3, 4, 5])\n",
      "\n",
      "seq_along([4,2,1])\n",
      "--------------------\n",
      "array([1, 2, 3])\n",
      "\n",
      "rev(seq_len(5))\n",
      "--------------------\n",
      "array([5, 4, 3, 2, 1])\n",
      "\n",
      "rep([1,2], 2)\n",
      "--------------------\n",
      "array([1, 2, 1, 2])\n",
      "\n",
      "rep([1,2], each=2)\n",
      "--------------------\n",
      "array([1, 1, 2, 2])\n",
      "\n",
      "length([1,2])\n",
      "--------------------\n",
      "2\n",
      "\n",
      "length(\"abcd\")\n",
      "--------------------\n",
      "1\n",
      "\n",
      "lengths(10)\n",
      "--------------------\n",
      "0    1\n",
      "Name: x, dtype: int64\n",
      "\n",
      "lengths([[1], [1,2]])\n",
      "--------------------\n",
      "0    1\n",
      "1    2\n",
      "Name: x, dtype: int64\n",
      "\n",
      "unique([3,3,2,4,4])\n",
      "--------------------\n",
      "array([3, 2, 4])\n"
     ]
    }
   ],
   "source": [
    "# seq\n",
    "debug(\n",
    "    str(c(c(1,2), seq(3,4))),\n",
    "    seq_len(5),\n",
    "    seq_along([4,2,1]),\n",
    "    rev(seq_len(5)),\n",
    "    rep([1,2], 2),\n",
    "    rep([1,2], each=2),\n",
    "    length([1,2]),\n",
    "    length(\"abcd\"), # string is scalar\n",
    "    lengths(10),\n",
    "    lengths([[1], [1,2]]),\n",
    "    unique([3,3,2,4,4]), # order kept\n",
    "    **debug_kwargs\n",
    ")"
   ]
  },
  {
   "cell_type": "code",
   "execution_count": 15,
   "id": "d5243e35",
   "metadata": {
    "execution": {
     "iopub.execute_input": "2021-07-16T22:27:47.536401Z",
     "iopub.status.busy": "2021-07-16T22:27:47.535702Z",
     "iopub.status.idle": "2021-07-16T22:27:47.648974Z",
     "shell.execute_reply": "2021-07-16T22:27:47.649391Z"
    }
   },
   "outputs": [
    {
     "name": "stdout",
     "output_type": "stream",
     "text": [
      "\n",
      "beta([1,2,3], 1)\n",
      "--------------------\n",
      "array([1.        , 0.5       , 0.33333333])\n",
      "\n",
      "lbeta([1,2,3], 1)\n",
      "--------------------\n",
      "array([ 0.        , -0.69314718, -1.09861229])\n",
      "\n",
      "gamma([1,2,3])\n",
      "--------------------\n",
      "array([1., 1., 2.])\n",
      "\n",
      "lgamma([1,2,3])\n",
      "--------------------\n",
      "array([0.        , 0.        , 0.69314718])\n",
      "\n",
      "digamma([1,2,3])\n",
      "--------------------\n",
      "array([-0.57721566,  0.42278434,  0.92278434])\n",
      "\n",
      "trigamma([1,2,3])\n",
      "--------------------\n",
      "array([1.64493407, 0.64493407, 0.39493407])\n",
      "\n",
      "psigamma([1,2,3], 1)\n",
      "--------------------\n",
      "array([1.64493407, 0.64493407, 0.39493407])\n",
      "\n",
      "choose([4,6], 2)\n",
      "--------------------\n",
      "array([ 6., 15.])\n",
      "\n",
      "lchoose([4,6], 2)\n",
      "--------------------\n",
      "array([1.79175947, 2.7080502 ])\n",
      "\n",
      "factorial([1,5])\n",
      "--------------------\n",
      "array([  1., 120.])\n",
      "\n",
      "lfactorial([1,5])\n",
      "--------------------\n",
      "array([0.        , 4.78749174])\n"
     ]
    }
   ],
   "source": [
    "# special\n",
    "\n",
    "debug(\n",
    "    beta([1,2,3], 1),\n",
    "    lbeta([1,2,3], 1),\n",
    "    gamma([1,2,3]),\n",
    "    lgamma([1,2,3]),\n",
    "    digamma([1,2,3]),\n",
    "    trigamma([1,2,3]),\n",
    "    psigamma([1,2,3], 1),\n",
    "    choose([4,6], 2),\n",
    "    lchoose([4,6], 2),\n",
    "    factorial([1,5]),\n",
    "    lfactorial([1,5]),\n",
    "    **debug_kwargs\n",
    ")"
   ]
  },
  {
   "cell_type": "code",
   "execution_count": 16,
   "id": "98d95334",
   "metadata": {
    "execution": {
     "iopub.execute_input": "2021-07-16T22:27:47.698478Z",
     "iopub.status.busy": "2021-07-16T22:27:47.697906Z",
     "iopub.status.idle": "2021-07-16T22:27:48.273590Z",
     "shell.execute_reply": "2021-07-16T22:27:48.273979Z"
    }
   },
   "outputs": [
    {
     "name": "stdout",
     "output_type": "stream",
     "text": [
      "\n",
      "is_character(\"a\")\n",
      "--------------------\n",
      "True\n",
      "\n",
      "is_character([\"a\", \"b\"])\n",
      "--------------------\n",
      "True\n",
      "\n",
      "as_character([1,2])\n",
      "--------------------\n",
      "['1', '2']\n",
      "\n",
      "grep(\".\", [\"ab\", \"c.d\"])\n",
      "--------------------\n",
      "array([0, 1])\n",
      "\n",
      "grep(\".\", [\"ab\", \"c.d\"], fixed=True)\n",
      "--------------------\n",
      "array([1])\n",
      "\n",
      "grepl(\".\", [\"ab\", \"c.d\"], fixed=True)\n",
      "--------------------\n",
      "array([False,  True])\n",
      "\n",
      "sub(\".\", \"x\", [\"ab\", \"c.d.e\"])\n",
      "--------------------\n",
      "array(['xb', 'x.d.e'], dtype='<U5')\n",
      "\n",
      "sub(\".\", \"x\", [\"ab\", \"c.d.e\"], fixed=True)\n",
      "--------------------\n",
      "array(['ab', 'cxd.e'], dtype='<U5')\n",
      "\n",
      "gsub(\".\", \"x\", [\"ab\", \"c.d.e\"])\n",
      "--------------------\n",
      "array(['xx', 'xxxxx'], dtype='<U5')\n",
      "\n",
      "gsub(\".\", \"x\", [\"ab\", \"c.d.e\"], fixed=True)\n",
      "--------------------\n",
      "array(['ab', 'cxdxe'], dtype='<U5')\n",
      "\n",
      "nchar('\\0')\n",
      "--------------------\n",
      "array([1])\n",
      "\n",
      "nchar('\\0', type='width')\n",
      "--------------------\n",
      "array([0])\n",
      "\n",
      "nzchar([\"a\", \"\"])\n",
      "--------------------\n",
      "array([ True, False])\n",
      "\n",
      "paste(\"a\", \"b\")\n",
      "--------------------\n",
      "array(['a b'], dtype=object)\n",
      "\n",
      "paste([\"a\", \"c\"], [\"b\", \"d\"], sep=\".\")\n",
      "--------------------\n",
      "array(['a.b', 'c.d'], dtype=object)\n",
      "\n",
      "paste0([\"a\", \"c\"], [\"b\", \"d\"], collapse=\"; \")\n",
      "--------------------\n",
      "'ab; cd'\n",
      "\n",
      "sprintf(\"%s, %d, %.3f\", pi, pi, pi)\n",
      "--------------------\n",
      "array(['3.141592653589793, 3, 3.142'], dtype=object)\n",
      "\n",
      "substr(\"abcde\", 1, 3)\n",
      "--------------------\n",
      "array(['bc'], dtype=object)\n",
      "\n",
      "substring(\"abcde\", 1)\n",
      "--------------------\n",
      "array(['bcde'], dtype=object)\n",
      "\n",
      "strsplit([\"a.b.c\", \"e.f\"], \".\", fixed=True)\n",
      "--------------------\n",
      "array([list(['a', 'b', 'c']), list(['e', 'f'])], dtype=object)\n"
     ]
    }
   ],
   "source": [
    "# string\n",
    "\n",
    "debug(\n",
    "    is_character(\"a\"),\n",
    "    is_character([\"a\", \"b\"]),\n",
    "    as_character([1,2]),\n",
    "    grep(\".\", [\"ab\", \"c.d\"]),\n",
    "    grep(\".\", [\"ab\", \"c.d\"], fixed=True),\n",
    "    grepl(\".\", [\"ab\", \"c.d\"], fixed=True),\n",
    "    sub(\".\", \"x\", [\"ab\", \"c.d.e\"]),\n",
    "    sub(\".\", \"x\", [\"ab\", \"c.d.e\"], fixed=True),\n",
    "    gsub(\".\", \"x\", [\"ab\", \"c.d.e\"]),\n",
    "    gsub(\".\", \"x\", [\"ab\", \"c.d.e\"], fixed=True),\n",
    "    nchar('\\0'),\n",
    "    nchar('\\0', type='width'),\n",
    "    nzchar([\"a\", \"\"]),\n",
    "    paste(\"a\", \"b\"),\n",
    "    paste([\"a\", \"c\"], [\"b\", \"d\"], sep=\".\"),\n",
    "    paste0([\"a\", \"c\"], [\"b\", \"d\"], collapse=\"; \"),\n",
    "    sprintf(\"%s, %d, %.3f\", pi, pi, pi),\n",
    "    substr(\"abcde\", 1, 3),\n",
    "    substring(\"abcde\", 1),\n",
    "    strsplit([\"a.b.c\", \"e.f\"], \".\", fixed=True),\n",
    "    **debug_kwargs\n",
    ")"
   ]
  },
  {
   "cell_type": "code",
   "execution_count": 17,
   "id": "20d6a26f",
   "metadata": {
    "execution": {
     "iopub.execute_input": "2021-07-16T22:27:48.298033Z",
     "iopub.status.busy": "2021-07-16T22:27:48.297388Z",
     "iopub.status.idle": "2021-07-16T22:27:48.304399Z",
     "shell.execute_reply": "2021-07-16T22:27:48.304843Z"
    }
   },
   "outputs": [
    {
     "data": {
      "text/html": [
       "<div>\n",
       "<style scoped>\n",
       "    .dataframe tbody tr th:only-of-type {\n",
       "        vertical-align: middle;\n",
       "    }\n",
       "\n",
       "    .dataframe tbody tr th {\n",
       "        vertical-align: top;\n",
       "    }\n",
       "\n",
       "    .dataframe thead th {\n",
       "        text-align: right;\n",
       "    }\n",
       "</style>\n",
       "<table border=\"1\" class=\"dataframe\">\n",
       "  <thead>\n",
       "    <tr style=\"text-align: right;\">\n",
       "      <th></th>\n",
       "      <th>a</th>\n",
       "      <th>b</th>\n",
       "    </tr>\n",
       "  </thead>\n",
       "  <tbody>\n",
       "    <tr>\n",
       "      <th style=\"font-style: italic;\" ></th>\n",
       "      <td style=\"font-style: italic;\" >&lt;int64&gt;</td>\n",
       "      <td style=\"font-style: italic;\" >&lt;int64&gt;</td>\n",
       "    </tr>\n",
       "    <tr>\n",
       "      <th>count</th>\n",
       "      <td>4</td>\n",
       "      <td>4</td>\n",
       "    </tr>\n",
       "  </tbody>\n",
       "</table>\n",
       "</div>\n"
      ],
      "text/plain": [
       "            a       b\n",
       "      <int64> <int64>\n",
       "count       4       4"
      ]
     },
     "execution_count": 17,
     "metadata": {},
     "output_type": "execute_result"
    }
   ],
   "source": [
    "# table\n",
    "\n",
    "table(rep(['a', 'b'], each=4))"
   ]
  },
  {
   "cell_type": "code",
   "execution_count": 18,
   "id": "07f292c9",
   "metadata": {
    "execution": {
     "iopub.execute_input": "2021-07-16T22:27:48.381917Z",
     "iopub.status.busy": "2021-07-16T22:27:48.334838Z",
     "iopub.status.idle": "2021-07-16T22:27:48.389093Z",
     "shell.execute_reply": "2021-07-16T22:27:48.389462Z"
    }
   },
   "outputs": [
    {
     "name": "stdout",
     "output_type": "stream",
     "text": [
      "\n",
      "is_double(numpy.array([1,2]))\n",
      "--------------------\n",
      "False\n",
      "\n",
      "is_integer(numpy.array([1,2]))\n",
      "--------------------\n",
      "True\n",
      "\n",
      "is_float(numpy.array([1,2]))\n",
      "--------------------\n",
      "False\n",
      "\n",
      "is_numeric(numpy.array([1,2]))\n",
      "--------------------\n",
      "True\n",
      "\n",
      "is_double(numpy.array([1,2], dtype=numpy.double))\n",
      "--------------------\n",
      "True\n",
      "\n",
      "is_atomic(\"abc\")\n",
      "--------------------\n",
      "True\n",
      "\n",
      "is_element(1, [1,2])\n",
      "--------------------\n",
      "array(True)\n"
     ]
    }
   ],
   "source": [
    "# testing\n",
    "debug(\n",
    "    is_double(numpy.array([1,2])),\n",
    "    is_integer(numpy.array([1,2])),\n",
    "    is_float(numpy.array([1,2])),\n",
    "    is_numeric(numpy.array([1,2])),\n",
    "    is_double(numpy.array([1,2], dtype=numpy.double)),\n",
    "    is_atomic(\"abc\"),\n",
    "    is_element(1, [1,2]),\n",
    "    **debug_kwargs\n",
    ")"
   ]
  },
  {
   "cell_type": "code",
   "execution_count": 19,
   "id": "5238cf10",
   "metadata": {
    "execution": {
     "iopub.execute_input": "2021-07-16T22:27:48.446511Z",
     "iopub.status.busy": "2021-07-16T22:27:48.445881Z",
     "iopub.status.idle": "2021-07-16T22:27:48.531680Z",
     "shell.execute_reply": "2021-07-16T22:27:48.532084Z"
    }
   },
   "outputs": [
    {
     "name": "stdout",
     "output_type": "stream",
     "text": [
      "\n",
      "cos(.5)\n",
      "--------------------\n",
      "array([0.87758256])\n",
      "\n",
      "sin(.5)\n",
      "--------------------\n",
      "array([0.47942554])\n",
      "\n",
      "tan(.5)\n",
      "--------------------\n",
      "array([0.54630249])\n",
      "\n",
      "acos(.5)\n",
      "--------------------\n",
      "array([1.04719755])\n",
      "\n",
      "asin(.5)\n",
      "--------------------\n",
      "array([0.52359878])\n",
      "\n",
      "atan2(.5, 1)\n",
      "--------------------\n",
      "0    0.463648\n",
      "dtype: float64\n",
      "\n",
      "cospi(.5)\n",
      "--------------------\n",
      "array([6.123234e-17])\n",
      "\n",
      "sinpi(.5)\n",
      "--------------------\n",
      "array([1.])\n",
      "\n",
      "tanpi(.5)\n",
      "--------------------\n",
      "array([1.63312394e+16])\n",
      "\n",
      "cosh(.5)\n",
      "--------------------\n",
      "array([1.12762597])\n",
      "\n",
      "sinh(.5)\n",
      "--------------------\n",
      "array([0.52109531])\n",
      "\n",
      "tanh(.5)\n",
      "--------------------\n",
      "array([0.46211716])\n",
      "\n",
      "acosh(1)\n",
      "--------------------\n",
      "array([0.])\n",
      "\n",
      "asinh(.5)\n",
      "--------------------\n",
      "array([0.48121183])\n",
      "\n",
      "atanh(.5)\n",
      "--------------------\n",
      "array([0.54930614])\n"
     ]
    }
   ],
   "source": [
    "# trig/hb\n",
    "debug(\n",
    "    cos(.5),\n",
    "    sin(.5),\n",
    "    tan(.5),\n",
    "    acos(.5),\n",
    "    asin(.5),\n",
    "    atan2(.5, 1),\n",
    "    cospi(.5),\n",
    "    sinpi(.5),\n",
    "    tanpi(.5),\n",
    "    cosh(.5),\n",
    "    sinh(.5),\n",
    "    tanh(.5),\n",
    "    acosh(1),\n",
    "    asinh(.5),\n",
    "    atanh(.5),\n",
    "    **debug_kwargs\n",
    ")"
   ]
  },
  {
   "cell_type": "code",
   "execution_count": 20,
   "id": "c1e0a5ae",
   "metadata": {
    "execution": {
     "iopub.execute_input": "2021-07-16T22:27:48.568013Z",
     "iopub.status.busy": "2021-07-16T22:27:48.567391Z",
     "iopub.status.idle": "2021-07-16T22:27:48.572315Z",
     "shell.execute_reply": "2021-07-16T22:27:48.572907Z"
    }
   },
   "outputs": [
    {
     "name": "stdout",
     "output_type": "stream",
     "text": [
      "\n",
      "which([True, False, True])\n",
      "--------------------\n",
      "array([0, 2])\n",
      "\n",
      "which_max([3,2,4,1])\n",
      "--------------------\n",
      "2\n",
      "\n",
      "which_min([3,2,4,1])\n",
      "--------------------\n",
      "3\n"
     ]
    }
   ],
   "source": [
    "# which\n",
    "\n",
    "debug(\n",
    "    which([True, False, True]),\n",
    "    which_max([3,2,4,1]),\n",
    "    which_min([3,2,4,1]),\n",
    "    **debug_kwargs\n",
    ")"
   ]
  }
 ],
 "metadata": {
  "interpreter": {
   "hash": "c4cc73b080e063fcebb9afb794613be7caf4b26129562cba1382945a18cc49cc"
  },
  "kernelspec": {
   "display_name": "Python 3.7.8 64-bit ('base': conda)",
   "name": "python3"
  },
  "language_info": {
   "codemirror_mode": {
    "name": "ipython",
    "version": 3
   },
   "file_extension": ".py",
   "mimetype": "text/x-python",
   "name": "python",
   "nbconvert_exporter": "python",
   "pygments_lexer": "ipython3",
   "version": "3.9.5"
  }
 },
 "nbformat": 4,
 "nbformat_minor": 5
}
