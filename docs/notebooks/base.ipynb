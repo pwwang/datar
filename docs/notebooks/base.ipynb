{
 "cells": [
  {
   "cell_type": "code",
   "execution_count": 1,
   "metadata": {
    "execution": {
     "iopub.execute_input": "2021-04-17T00:51:24.475466Z",
     "iopub.status.busy": "2021-04-17T00:51:24.473637Z",
     "iopub.status.idle": "2021-04-17T00:51:25.070175Z",
     "shell.execute_reply": "2021-04-17T00:51:25.069698Z"
    }
   },
   "outputs": [
    {
     "name": "stderr",
     "output_type": "stream",
     "text": [
      "[2021-07-06 23:44:00][datar][WARNING] Builtin name \"min\" has been overriden by datar.\n",
      "[2021-07-06 23:44:00][datar][WARNING] Builtin name \"max\" has been overriden by datar.\n",
      "[2021-07-06 23:44:00][datar][WARNING] Builtin name \"sum\" has been overriden by datar.\n",
      "[2021-07-06 23:44:00][datar][WARNING] Builtin name \"abs\" has been overriden by datar.\n",
      "[2021-07-06 23:44:00][datar][WARNING] Builtin name \"round\" has been overriden by datar.\n",
      "[2021-07-06 23:44:00][datar][WARNING] Builtin name \"all\" has been overriden by datar.\n",
      "[2021-07-06 23:44:00][datar][WARNING] Builtin name \"any\" has been overriden by datar.\n",
      "[2021-07-06 23:44:00][datar][WARNING] Builtin name \"re\" has been overriden by datar.\n"
     ]
    }
   ],
   "source": [
    "import numpy\n",
    "from datar import f\n",
    "from datar.base import *\n",
    "from datar.tibble import tibble\n",
    "\n",
    "%run nb_helpers.py\n",
    "debug_kwargs = {'prefix': '\\n', 'sep': f'\\n{\"-\" * 20}\\n'}"
   ]
  },
  {
   "cell_type": "code",
   "execution_count": 2,
   "metadata": {
    "execution": {
     "iopub.execute_input": "2021-04-17T00:51:25.074791Z",
     "iopub.status.busy": "2021-04-17T00:51:25.074098Z",
     "iopub.status.idle": "2021-04-17T00:51:25.078435Z",
     "shell.execute_reply": "2021-04-17T00:51:25.077937Z"
    }
   },
   "outputs": [
    {
     "name": "stdout",
     "output_type": "stream",
     "text": [
      "\n",
      "pi\n",
      "--------------------\n",
      "3.141592653589793\n",
      "\n",
      "Inf\n",
      "--------------------\n",
      "inf\n",
      "\n",
      "letters\n",
      "--------------------\n",
      "array(['a', 'b', 'c', 'd', 'e', 'f', 'g', 'h', 'i', 'j', 'k', 'l', 'm',\n",
      "       'n', 'o', 'p', 'q', 'r', 's', 't', 'u', 'v', 'w', 'x', 'y', 'z'],\n",
      "      dtype='<U1')\n",
      "\n",
      "LETTERS\n",
      "--------------------\n",
      "array(['A', 'B', 'C', 'D', 'E', 'F', 'G', 'H', 'I', 'J', 'K', 'L', 'M',\n",
      "       'N', 'O', 'P', 'Q', 'R', 'S', 'T', 'U', 'V', 'W', 'X', 'Y', 'Z'],\n",
      "      dtype='<U1')\n",
      "\n",
      "month_abb\n",
      "--------------------\n",
      "array(['Jan', 'Feb', 'Mar', 'Apr', 'May', 'Jun', 'Jul', 'Aug', 'Sep',\n",
      "       'Oct', 'Nov', 'Dec'], dtype='<U3')\n",
      "\n",
      "month_name\n",
      "--------------------\n",
      "array(['January', 'February', 'March', 'April', 'May', 'June', 'July',\n",
      "       'August', 'September', 'October', 'November', 'December'],\n",
      "      dtype='<U9')\n"
     ]
    }
   ],
   "source": [
    "# constants\n",
    "debug(\n",
    "    pi,\n",
    "    Inf,\n",
    "    letters,\n",
    "    LETTERS,\n",
    "    month_abb,\n",
    "    month_name,\n",
    "    **debug_kwargs\n",
    ")"
   ]
  },
  {
   "cell_type": "code",
   "execution_count": 3,
   "metadata": {},
   "outputs": [
    {
     "name": "stdout",
     "output_type": "stream",
     "text": [
      "\n",
      "options()\n",
      "--------------------\n",
      "Diot({'index_base_0': False, 'which_base_0': True, 'dplyr_summarise_inform': True, 'warn_builtin_names': True, 'add_option': True, 'frame_format_patch': True}, diot_transform=<function <lambda> at 0x7f267a758cb0>)\n",
      "\n",
      "get_option('index.base.0')\n",
      "--------------------\n",
      "False\n",
      "\n",
      "get_option('index.base.0')\n",
      "--------------------\n",
      "True\n",
      "\n",
      "get_option('index.base.0')\n",
      "--------------------\n",
      "False\n"
     ]
    }
   ],
   "source": [
    "# options\n",
    "\n",
    "debug(options(), **debug_kwargs)\n",
    "debug(get_option('index.base.0'), **debug_kwargs)\n",
    "with options_context(index_base_0=True):\n",
    "    debug(get_option('index.base.0'), **debug_kwargs)\n",
    "debug(get_option('index.base.0'), **debug_kwargs)"
   ]
  },
  {
   "cell_type": "code",
   "execution_count": 4,
   "metadata": {},
   "outputs": [
    {
     "name": "stdout",
     "output_type": "stream",
     "text": [
      "\n",
      "colnames(df)\n",
      "--------------------\n",
      "['x', 'y', 'z']\n",
      "\n",
      "colnames(df, ['a', 'b', 'c'])\n",
      "--------------------\n",
      "        a       b       c\n",
      "  <int64> <int64> <int64>\n",
      "0       1       2       3\n",
      "\n",
      "rownames(df)\n",
      "--------------------\n",
      "[0]\n",
      "\n",
      "rownames(df, ['row1'])\n",
      "--------------------\n",
      "           x       y       z\n",
      "     <int64> <int64> <int64>\n",
      "row1       1       2       3\n",
      "\n",
      "dim(df)\n",
      "--------------------\n",
      "(1, 3)\n",
      "\n",
      "nrow(df)\n",
      "--------------------\n",
      "1\n",
      "\n",
      "ncol(df)\n",
      "--------------------\n",
      "3\n",
      "\n",
      "diag(1, 3)\n",
      "--------------------\n",
      "        0       1       2\n",
      "  <int64> <int64> <int64>\n",
      "0       1       0       0\n",
      "1       0       1       0\n",
      "2       0       0       1\n",
      "\n",
      "diag(diag(1, 3))\n",
      "--------------------\n",
      "array([1, 1, 1])\n",
      "\n",
      "t(df)\n",
      "--------------------\n",
      "        0\n",
      "  <int64>\n",
      "x       1\n",
      "y       2\n",
      "z       3\n",
      "\n",
      "names(df)\n",
      "--------------------\n",
      "['x', 'y', 'z']\n",
      "\n",
      "names({'a': 1, 'b': 2})\n",
      "--------------------\n",
      "['a', 'b']\n",
      "\n",
      "names({'a': 1, 'b': 2}, ['x', 'y'])\n",
      "--------------------\n",
      "{'x': 1, 'y': 2}\n",
      "\n",
      "intersect([1,2], [2,3])\n",
      "--------------------\n",
      "[2]\n",
      "\n",
      "setdiff([1,2], [2,3])\n",
      "--------------------\n",
      "[1]\n",
      "\n",
      "union([1,2], [2,3])\n",
      "--------------------\n",
      "[1, 2, 3]\n",
      "\n",
      "setequal([1,2], [2,1])\n",
      "--------------------\n",
      "True\n",
      "\n",
      "duplicated([1,1,2,2])\n",
      "--------------------\n",
      "array([False,  True, False,  True])\n",
      "\n",
      "duplicated([1,1,2,2], from_last=True)\n",
      "--------------------\n",
      "array([ True, False,  True, False])\n"
     ]
    }
   ],
   "source": [
    "# verbs\n",
    "df = tibble(x=1, y=2, z=3)\n",
    "\n",
    "debug(\n",
    "    colnames(df),\n",
    "    colnames(df, ['a', 'b', 'c']),\n",
    "    rownames(df),\n",
    "    rownames(df, ['row1']),\n",
    "    dim(df),\n",
    "    nrow(df),\n",
    "    ncol(df),\n",
    "    diag(1, 3),\n",
    "    diag(diag(1, 3)),\n",
    "    t(df),\n",
    "    names(df),\n",
    "    names({'a': 1, 'b': 2}),\n",
    "    names({'a': 1, 'b': 2}, ['x', 'y']),\n",
    "    intersect([1,2], [2,3]),\n",
    "    setdiff([1,2], [2,3]),\n",
    "    union([1,2], [2,3]),\n",
    "    setequal([1,2], [2,1]),\n",
    "    duplicated([1,1,2,2]),\n",
    "    duplicated([1,1,2,2], from_last=True),\n",
    "    **debug_kwargs\n",
    ")"
   ]
  },
  {
   "cell_type": "code",
   "execution_count": 5,
   "metadata": {},
   "outputs": [
    {
     "name": "stdout",
     "output_type": "stream",
     "text": [
      "\n",
      "cut(seq(1,10), 3)\n",
      "--------------------\n",
      "[(0.99, 4.0], (0.99, 4.0], (0.99, 4.0], (0.99, 4.0], (4.0, 7.0], (4.0, 7.0], (4.0, 7.0], (7.0, 10.0], (7.0, 10.0], (7.0, 10.0]]\n",
      "Categories (3, interval[float64]): [(0.99, 4.0] < (4.0, 7.0] < (7.0, 10.0]]\n",
      "\n",
      "identity(1.23)\n",
      "--------------------\n",
      "1.23\n",
      "\n",
      "expandgrid([1,2], [3,4])\n",
      "--------------------\n",
      "     Var0    Var1\n",
      "  <int64> <int64>\n",
      "0       1       3\n",
      "1       1       4\n",
      "2       2       3\n",
      "3       2       4\n"
     ]
    },
    {
     "data": {
      "text/html": [
       "<table border=\"1\" class=\"dataframe\">\n",
       "  <thead>\n",
       "    <tr style=\"text-align: right;\">\n",
       "      <th></th>\n",
       "      <th>a</th>\n",
       "      <th>b</th>\n",
       "    </tr>\n",
       "  </thead>\n",
       "  <tbody>\n",
       "    <tr>\n",
       "      <th style=\"font-style: italic;\" ></th>\n",
       "      <td style=\"font-style: italic;\" >&lt;int64&gt;</td>\n",
       "      <td style=\"font-style: italic;\" >&lt;int64&gt;</td>\n",
       "    </tr>\n",
       "    <tr>\n",
       "      <th>0</th>\n",
       "      <td>1</td>\n",
       "      <td>3</td>\n",
       "    </tr>\n",
       "    <tr>\n",
       "      <th>1</th>\n",
       "      <td>1</td>\n",
       "      <td>4</td>\n",
       "    </tr>\n",
       "    <tr>\n",
       "      <th>2</th>\n",
       "      <td>2</td>\n",
       "      <td>3</td>\n",
       "    </tr>\n",
       "    <tr>\n",
       "      <th>3</th>\n",
       "      <td>2</td>\n",
       "      <td>4</td>\n",
       "    </tr>\n",
       "  </tbody>\n",
       "</table>"
      ],
      "text/plain": [
       "        a       b\n",
       "  <int64> <int64>\n",
       "0       1       3\n",
       "1       1       4\n",
       "2       2       3\n",
       "3       2       4"
      ]
     },
     "execution_count": 5,
     "metadata": {},
     "output_type": "execute_result"
    }
   ],
   "source": [
    "# funs\n",
    "\n",
    "debug(\n",
    "    cut(seq(1,10), 3), \n",
    "    identity(1.23),\n",
    "    expandgrid([1,2], [3,4]),\n",
    "    **debug_kwargs\n",
    ")\n",
    "with data_context(tibble(a=[1,2], b=[3,4])) as _:\n",
    "    expandgrid(f.a, f.b)"
   ]
  },
  {
   "cell_type": "code",
   "execution_count": 6,
   "metadata": {
    "execution": {
     "iopub.execute_input": "2021-04-17T00:51:25.082220Z",
     "iopub.status.busy": "2021-04-17T00:51:25.081654Z",
     "iopub.status.idle": "2021-04-17T00:51:25.118236Z",
     "shell.execute_reply": "2021-04-17T00:51:25.117702Z"
    }
   },
   "outputs": [
    {
     "name": "stdout",
     "output_type": "stream",
     "text": [
      "\n",
      "mean(arr)\n",
      "--------------------\n",
      "3.25\n",
      "\n",
      "median(arr)\n",
      "--------------------\n",
      "3.0\n",
      "\n",
      "min(arr)\n",
      "--------------------\n",
      "1\n",
      "\n",
      "max(arr)\n",
      "--------------------\n",
      "6\n",
      "\n",
      "sum(arr)\n",
      "--------------------\n",
      "13\n",
      "\n",
      "abs([1, -1])\n",
      "--------------------\n",
      "array([1, 1])\n",
      "\n",
      "round([1.4, 1.5])\n",
      "--------------------\n",
      "array([1., 2.])\n",
      "\n",
      "all([True, False])\n",
      "--------------------\n",
      "True\n",
      "\n",
      "any([True, False])\n",
      "--------------------\n",
      "True\n",
      "\n",
      "pmin([1,4], [2,3])\n",
      "--------------------\n",
      "array([1, 3])\n",
      "\n",
      "pmax([1,4], [2,3])\n",
      "--------------------\n",
      "array([2, 4])\n",
      "\n",
      "var(arr)\n",
      "--------------------\n",
      "4.916666666666667\n",
      "\n",
      "ceiling([1.1, 2.1])\n",
      "--------------------\n",
      "array([2., 3.])\n",
      "\n",
      "floor([1.1, 2.1])\n",
      "--------------------\n",
      "array([1., 2.])\n",
      "\n",
      "sqrt([1.1, 2.1])\n",
      "--------------------\n",
      "array([1.04880885, 1.44913767])\n",
      "\n",
      "cov([1,2,3], [3,2,1])\n",
      "--------------------\n",
      "-1.0\n"
     ]
    }
   ],
   "source": [
    "# arithmetic\n",
    "arr = [1,2,4,6]\n",
    "debug(\n",
    "    mean(arr),\n",
    "    median(arr),\n",
    "    min(arr),\n",
    "    max(arr),\n",
    "    sum(arr),\n",
    "    abs([1, -1]),\n",
    "    round([1.4, 1.5]),\n",
    "    all([True, False]),\n",
    "    any([True, False]),\n",
    "    pmin([1,4], [2,3]),\n",
    "    pmax([1,4], [2,3]),\n",
    "    var(arr),\n",
    "    ceiling([1.1, 2.1]),\n",
    "    floor([1.1, 2.1]),\n",
    "    sqrt([1.1, 2.1]),\n",
    "    cov([1,2,3], [3,2,1]),\n",
    "    **debug_kwargs\n",
    ")"
   ]
  },
  {
   "cell_type": "code",
   "execution_count": 7,
   "metadata": {
    "execution": {
     "iopub.execute_input": "2021-04-17T00:51:25.123169Z",
     "iopub.status.busy": "2021-04-17T00:51:25.122473Z",
     "iopub.status.idle": "2021-04-17T00:51:25.125895Z",
     "shell.execute_reply": "2021-04-17T00:51:25.126248Z"
    }
   },
   "outputs": [
    {
     "name": "stdout",
     "output_type": "stream",
     "text": [
      "\n",
      "bessel_i([1,2,3], 1)\n",
      "--------------------\n",
      "array([0.5651591 , 1.59063685, 3.95337022])\n",
      "\n",
      "bessel_j([1,2,3], 1)\n",
      "--------------------\n",
      "array([0.44005059, 0.57672481, 0.33905896])\n",
      "\n",
      "bessel_k([1,2,3], 1)\n",
      "--------------------\n",
      "array([0.60190723, 0.13986588, 0.04015643])\n",
      "\n",
      "bessel_y([1,2,3], 1)\n",
      "--------------------\n",
      "array([-0.78121282, -0.10703243,  0.32467442])\n"
     ]
    }
   ],
   "source": [
    "# bessel\n",
    "debug(\n",
    "    bessel_i([1,2,3], 1),\n",
    "    bessel_j([1,2,3], 1),\n",
    "    bessel_k([1,2,3], 1),\n",
    "    bessel_y([1,2,3], 1),\n",
    "    **debug_kwargs\n",
    ")"
   ]
  },
  {
   "cell_type": "code",
   "execution_count": 8,
   "metadata": {
    "execution": {
     "iopub.execute_input": "2021-04-17T00:51:25.133583Z",
     "iopub.status.busy": "2021-04-17T00:51:25.132820Z",
     "iopub.status.idle": "2021-04-17T00:51:25.136402Z",
     "shell.execute_reply": "2021-04-17T00:51:25.135979Z"
    }
   },
   "outputs": [
    {
     "name": "stdout",
     "output_type": "stream",
     "text": [
      "\n",
      "as_integer(['1', 2.1])\n",
      "--------------------\n",
      "[1, 2]\n",
      "\n",
      "as_float(['1', 2, 'nan'])\n",
      "--------------------\n",
      "[1.0, 2.0, nan]\n",
      "\n",
      "as_double(['1', 2, 'nan'])\n",
      "--------------------\n",
      "[1.0, 2.0, nan]\n",
      "\n",
      "as_numeric(['1', 2, 'nan'])\n",
      "--------------------\n",
      "[1.0, 2.0, nan]\n"
     ]
    }
   ],
   "source": [
    "# casting\n",
    "debug(\n",
    "    as_integer(['1', 2.1]),\n",
    "    as_float(['1', 2, 'nan']),\n",
    "    as_double(['1', 2, 'nan']),\n",
    "    as_numeric(['1', 2, 'nan']),\n",
    "    **debug_kwargs\n",
    ")\n"
   ]
  },
  {
   "cell_type": "code",
   "execution_count": 9,
   "metadata": {
    "execution": {
     "iopub.execute_input": "2021-04-17T00:51:25.140269Z",
     "iopub.status.busy": "2021-04-17T00:51:25.139740Z",
     "iopub.status.idle": "2021-04-17T00:51:25.163805Z",
     "shell.execute_reply": "2021-04-17T00:51:25.164199Z"
    }
   },
   "outputs": [
    {
     "name": "stdout",
     "output_type": "stream",
     "text": [
      "\n",
      "im(cm)\n",
      "--------------------\n",
      "2.0\n",
      "\n",
      "re(cm)\n",
      "--------------------\n",
      "1.0\n",
      "\n",
      "mod(cm)\n",
      "--------------------\n",
      "2.23606797749979\n",
      "\n",
      "conj(cm)\n",
      "--------------------\n",
      "(1-2j)\n",
      "\n",
      "is_complex(cm)\n",
      "--------------------\n",
      "True\n",
      "\n",
      "as_complex(1)\n",
      "--------------------\n",
      "(1+0j)\n"
     ]
    }
   ],
   "source": [
    "# complex numbers\n",
    "cm = 1 + 2j\n",
    "debug(\n",
    "    im(cm),\n",
    "    re(cm),\n",
    "    mod(cm),\n",
    "    conj(cm),\n",
    "    is_complex(cm),\n",
    "    as_complex(1),\n",
    "    **debug_kwargs\n",
    ")"
   ]
  },
  {
   "cell_type": "code",
   "execution_count": 10,
   "metadata": {
    "execution": {
     "iopub.execute_input": "2021-04-17T00:51:25.168655Z",
     "iopub.status.busy": "2021-04-17T00:51:25.168084Z",
     "iopub.status.idle": "2021-04-17T00:51:25.225692Z",
     "shell.execute_reply": "2021-04-17T00:51:25.225177Z"
    }
   },
   "outputs": [
    {
     "name": "stdout",
     "output_type": "stream",
     "text": [
      "\n",
      "cumsum(a)\n",
      "--------------------\n",
      "array([ 1,  4,  6, 10])\n",
      "\n",
      "cumprod(a)\n",
      "--------------------\n",
      "array([ 1,  3,  6, 24])\n",
      "\n",
      "cummin(a)\n",
      "--------------------\n",
      "0    1\n",
      "1    1\n",
      "2    1\n",
      "3    1\n",
      "dtype: int64\n",
      "\n",
      "cummax(a)\n",
      "--------------------\n",
      "0    1\n",
      "1    3\n",
      "2    3\n",
      "3    4\n",
      "dtype: int64\n"
     ]
    }
   ],
   "source": [
    "# cum stats\n",
    "a = [1,3,2,4]\n",
    "\n",
    "debug(\n",
    "    cumsum(a),\n",
    "    cumprod(a),\n",
    "    cummin(a),\n",
    "    cummax(a),\n",
    "    **debug_kwargs\n",
    ")"
   ]
  },
  {
   "cell_type": "code",
   "execution_count": 11,
   "metadata": {
    "execution": {
     "iopub.execute_input": "2021-04-17T00:51:25.234551Z",
     "iopub.status.busy": "2021-04-17T00:51:25.233887Z",
     "iopub.status.idle": "2021-04-17T00:51:25.237981Z",
     "shell.execute_reply": "2021-04-17T00:51:25.237495Z"
    }
   },
   "outputs": [
    {
     "name": "stdout",
     "output_type": "stream",
     "text": [
      "\n",
      "as_date([\"1jan1960\", \"2jan1960\", \"31mar1960\", \"30jul1960\"], \"%d%b%Y\")\n",
      "--------------------\n",
      "0    1960-01-01\n",
      "1    1960-01-02\n",
      "2    1960-03-31\n",
      "3    1960-07-30\n",
      "dtype: object\n",
      "\n",
      "as_date([\"02/27/92\", \"02/27/92\", \"01/14/92\", \"02/28/92\", \"02/01/92\"], \"%m/%d/%y\")\n",
      "--------------------\n",
      "0    1992-02-27\n",
      "1    1992-02-27\n",
      "2    1992-01-14\n",
      "3    1992-02-28\n",
      "4    1992-02-01\n",
      "dtype: object\n",
      "\n",
      "as_date(32768, origin=\"1900-01-01\")\n",
      "--------------------\n",
      "0    1989-09-19\n",
      "dtype: object\n"
     ]
    }
   ],
   "source": [
    "# date\n",
    "debug(\n",
    "    as_date([\"1jan1960\", \"2jan1960\", \"31mar1960\", \"30jul1960\"], \"%d%b%Y\"),\n",
    "    as_date([\"02/27/92\", \"02/27/92\", \"01/14/92\", \"02/28/92\", \"02/01/92\"], \"%m/%d/%y\"),\n",
    "    as_date(32768, origin=\"1900-01-01\"),\n",
    "    **debug_kwargs\n",
    ")"
   ]
  },
  {
   "cell_type": "code",
   "execution_count": 12,
   "metadata": {
    "execution": {
     "iopub.execute_input": "2021-04-17T00:51:25.242546Z",
     "iopub.status.busy": "2021-04-17T00:51:25.241800Z",
     "iopub.status.idle": "2021-04-17T00:51:25.245202Z",
     "shell.execute_reply": "2021-04-17T00:51:25.245549Z"
    }
   },
   "outputs": [
    {
     "name": "stdout",
     "output_type": "stream",
     "text": [
      "\n",
      "levels(fct)\n",
      "--------------------\n",
      "Int64Index([1, 2, 3, 4], dtype='int64')\n",
      "\n",
      "droplevels(fct)\n",
      "--------------------\n",
      "[1, 2, 3]\n",
      "Categories (3, int64): [1, 2, 3]\n",
      "\n",
      "is_factor(fct)\n",
      "--------------------\n",
      "True\n",
      "\n",
      "as_factor([1,2,3])\n",
      "--------------------\n",
      "[1, 2, 3]\n",
      "Categories (3, int64): [1, 2, 3]\n"
     ]
    }
   ],
   "source": [
    "# factor\n",
    "fct = factor([1,2,3], levels=[1,2,3,4])\n",
    "debug(\n",
    "    levels(fct),\n",
    "    droplevels(fct),\n",
    "    is_factor(fct),\n",
    "    as_factor([1,2,3]),\n",
    "    **debug_kwargs\n",
    ")"
   ]
  },
  {
   "cell_type": "code",
   "execution_count": 13,
   "metadata": {
    "execution": {
     "iopub.execute_input": "2021-04-17T00:51:25.250514Z",
     "iopub.status.busy": "2021-04-17T00:51:25.249779Z",
     "iopub.status.idle": "2021-04-17T00:51:25.253739Z",
     "shell.execute_reply": "2021-04-17T00:51:25.253337Z"
    }
   },
   "outputs": [
    {
     "name": "stdout",
     "output_type": "stream",
     "text": [
      "\n",
      "TRUE\n",
      "--------------------\n",
      "True\n",
      "\n",
      "FALSE\n",
      "--------------------\n",
      "False\n",
      "\n",
      "is_true(TRUE)\n",
      "--------------------\n",
      "True\n",
      "\n",
      "not is_true([TRUE, TRUE])\n",
      "--------------------\n",
      "True\n",
      "\n",
      "is_false(FALSE)\n",
      "--------------------\n",
      "True\n",
      "\n",
      "is_logical(TRUE)\n",
      "--------------------\n",
      "True\n",
      "\n",
      "is_logical([TRUE, FALSE])\n",
      "--------------------\n",
      "True\n",
      "\n",
      "as_logical([0, 1])\n",
      "--------------------\n",
      "[False, True]\n"
     ]
    }
   ],
   "source": [
    "# logical\n",
    "\n",
    "debug(\n",
    "    TRUE,\n",
    "    FALSE,\n",
    "    is_true(TRUE),\n",
    "    not is_true([TRUE, TRUE]),\n",
    "    is_false(FALSE),\n",
    "    is_logical(TRUE),\n",
    "    is_logical([TRUE, FALSE]),\n",
    "    as_logical([0, 1]),\n",
    "    **debug_kwargs\n",
    ")"
   ]
  },
  {
   "cell_type": "code",
   "execution_count": 14,
   "metadata": {
    "execution": {
     "iopub.execute_input": "2021-04-17T00:51:25.260258Z",
     "iopub.status.busy": "2021-04-17T00:51:25.259540Z",
     "iopub.status.idle": "2021-04-17T00:51:25.263660Z",
     "shell.execute_reply": "2021-04-17T00:51:25.263143Z"
    }
   },
   "outputs": [
    {
     "name": "stdout",
     "output_type": "stream",
     "text": [
      "\n",
      "NA\n",
      "--------------------\n",
      "nan\n",
      "\n",
      "NaN\n",
      "--------------------\n",
      "nan\n",
      "\n",
      "NA is NaN\n",
      "--------------------\n",
      "True\n",
      "\n",
      "type(NA)\n",
      "--------------------\n",
      "<class 'float'>\n",
      "\n",
      "is_na([NA, NaN, None])\n",
      "--------------------\n",
      "array([ True,  True,  True])\n",
      "\n",
      "any_na([1,2, NA])\n",
      "--------------------\n",
      "True\n",
      "\n",
      "numpy.array([1,2,NA])\n",
      "--------------------\n",
      "array([ 1.,  2., nan])\n",
      "\n",
      "numpy.array(['a', 'b', NA])\n",
      "--------------------\n",
      "array(['a', 'b', 'nan'], dtype='<U32')\n",
      "\n",
      "numpy.array(['a', 'b', None])\n",
      "--------------------\n",
      "array(['a', 'b', None], dtype=object)\n"
     ]
    }
   ],
   "source": [
    "# na\n",
    "\n",
    "debug(\n",
    "    NA,\n",
    "    NaN,\n",
    "    NA is NaN,\n",
    "    type(NA),\n",
    "    is_na([NA, NaN, None]),\n",
    "    any_na([1,2, NA]),\n",
    "    numpy.array([1,2,NA]),\n",
    "    numpy.array(['a', 'b', NA]),\n",
    "    numpy.array(['a', 'b', None]),\n",
    "    **debug_kwargs\n",
    ")"
   ]
  },
  {
   "cell_type": "code",
   "execution_count": 15,
   "metadata": {
    "execution": {
     "iopub.execute_input": "2021-04-17T00:51:25.270675Z",
     "iopub.status.busy": "2021-04-17T00:51:25.269757Z",
     "iopub.status.idle": "2021-04-17T00:51:25.273194Z",
     "shell.execute_reply": "2021-04-17T00:51:25.273550Z"
    }
   },
   "outputs": [
    {
     "name": "stdout",
     "output_type": "stream",
     "text": [
      "\n",
      "NULL\n",
      "--------------------\n",
      "None\n",
      "\n",
      "NULL is None\n",
      "--------------------\n",
      "True\n",
      "\n",
      "is_null(NA)\n",
      "--------------------\n",
      "False\n",
      "\n",
      "is_null(NULL)\n",
      "--------------------\n",
      "True\n",
      "\n",
      "as_null('whatever')\n",
      "--------------------\n",
      "None\n"
     ]
    }
   ],
   "source": [
    "# null\n",
    "\n",
    "debug(\n",
    "    NULL,\n",
    "    NULL is None,\n",
    "    is_null(NA),\n",
    "    is_null(NULL),\n",
    "    as_null('whatever'),\n",
    "    **debug_kwargs\n",
    ")"
   ]
  },
  {
   "cell_type": "code",
   "execution_count": 16,
   "metadata": {
    "execution": {
     "iopub.execute_input": "2021-04-17T00:51:25.284445Z",
     "iopub.status.busy": "2021-04-17T00:51:25.283696Z",
     "iopub.status.idle": "2021-04-17T00:51:25.287406Z",
     "shell.execute_reply": "2021-04-17T00:51:25.286926Z"
    }
   },
   "outputs": [
    {
     "data": {
      "text/plain": [
       "array([19, 61, 85, 93, 18,  5, 22,  7, 29, 26])"
      ]
     },
     "execution_count": 16,
     "metadata": {},
     "output_type": "execute_result"
    }
   ],
   "source": [
    "# random\n",
    "set_seed(8525)\n",
    "\n",
    "sample(seq(1,100), 10) # always: [19, 61, 85, 93, 18,  5, 22,  7, 29, 26]"
   ]
  },
  {
   "cell_type": "code",
   "execution_count": 17,
   "metadata": {
    "execution": {
     "iopub.execute_input": "2021-04-17T00:51:25.295068Z",
     "iopub.status.busy": "2021-04-17T00:51:25.294321Z",
     "iopub.status.idle": "2021-04-17T00:51:25.297887Z",
     "shell.execute_reply": "2021-04-17T00:51:25.297493Z"
    }
   },
   "outputs": [
    {
     "name": "stdout",
     "output_type": "stream",
     "text": [
      "\n",
      "str(c(c(1,2), seq(3,4)))\n",
      "--------------------\n",
      "'[1, 2, 3, 4]'\n",
      "\n",
      "seq_len(5)\n",
      "--------------------\n",
      "array([1, 2, 3, 4, 5])\n",
      "\n",
      "seq_len(5, base0_=True)\n",
      "--------------------\n",
      "array([0, 1, 2, 3, 4])\n",
      "\n",
      "seq_along([4,2,1])\n",
      "--------------------\n",
      "array([1, 2, 3])\n",
      "\n",
      "rev(seq_len(5))\n",
      "--------------------\n",
      "array([5, 4, 3, 2, 1])\n",
      "\n",
      "rep([1,2], 2)\n",
      "--------------------\n",
      "array([1, 2, 1, 2])\n",
      "\n",
      "rep([1,2], each=2)\n",
      "--------------------\n",
      "array([1, 1, 2, 2])\n",
      "\n",
      "length([1,2])\n",
      "--------------------\n",
      "2\n",
      "\n",
      "length(\"abcd\")\n",
      "--------------------\n",
      "1\n",
      "\n",
      "lengths(10)\n",
      "--------------------\n",
      "array([1])\n",
      "\n",
      "lengths([[1], [1,2]])\n",
      "--------------------\n",
      "array([1, 2])\n",
      "\n",
      "unique([3,3,2,4,4])\n",
      "--------------------\n",
      "array([3, 2, 4])\n"
     ]
    }
   ],
   "source": [
    "# seq\n",
    "debug(\n",
    "    str(c(c(1,2), seq(3,4))),\n",
    "    seq_len(5),\n",
    "    seq_len(5, base0_=True),\n",
    "    seq_along([4,2,1]),\n",
    "    rev(seq_len(5)),\n",
    "    rep([1,2], 2),\n",
    "    rep([1,2], each=2),\n",
    "    length([1,2]),\n",
    "    length(\"abcd\"), # string is scalar\n",
    "    lengths(10),\n",
    "    lengths([[1], [1,2]]),\n",
    "    unique([3,3,2,4,4]), # order kept\n",
    "    **debug_kwargs\n",
    ")"
   ]
  },
  {
   "cell_type": "code",
   "execution_count": 18,
   "metadata": {
    "execution": {
     "iopub.execute_input": "2021-04-17T00:51:25.304711Z",
     "iopub.status.busy": "2021-04-17T00:51:25.304081Z",
     "iopub.status.idle": "2021-04-17T00:51:25.307496Z",
     "shell.execute_reply": "2021-04-17T00:51:25.307133Z"
    }
   },
   "outputs": [
    {
     "name": "stdout",
     "output_type": "stream",
     "text": [
      "\n",
      "beta([1,2,3], 1)\n",
      "--------------------\n",
      "array([1.        , 0.5       , 0.33333333])\n",
      "\n",
      "lbeta([1,2,3], 1)\n",
      "--------------------\n",
      "array([ 0.        , -0.69314718, -1.09861229])\n",
      "\n",
      "gamma([1,2,3])\n",
      "--------------------\n",
      "array([1., 1., 2.])\n",
      "\n",
      "lgamma([1,2,3])\n",
      "--------------------\n",
      "array([0.        , 0.        , 0.69314718])\n",
      "\n",
      "digamma([1,2,3])\n",
      "--------------------\n",
      "array([-0.57721566,  0.42278434,  0.92278434])\n",
      "\n",
      "trigamma([1,2,3])\n",
      "--------------------\n",
      "array([1.64493407, 0.64493407, 0.39493407])\n",
      "\n",
      "psigamma([1,2,3], 1)\n",
      "--------------------\n",
      "array([1.64493407, 0.64493407, 0.39493407])\n",
      "\n",
      "choose([4,6], 2)\n",
      "--------------------\n",
      "array([ 6., 15.])\n",
      "\n",
      "lchoose([4,6], 2)\n",
      "--------------------\n",
      "array([1.79175947, 2.7080502 ])\n",
      "\n",
      "factorial([1,5])\n",
      "--------------------\n",
      "array([  1., 120.])\n",
      "\n",
      "lfactorial([1,5])\n",
      "--------------------\n",
      "array([0.        , 4.78749174])\n"
     ]
    }
   ],
   "source": [
    "# special\n",
    "\n",
    "debug(\n",
    "    beta([1,2,3], 1),\n",
    "    lbeta([1,2,3], 1),\n",
    "    gamma([1,2,3]),\n",
    "    lgamma([1,2,3]),\n",
    "    digamma([1,2,3]),\n",
    "    trigamma([1,2,3]),\n",
    "    psigamma([1,2,3], 1),\n",
    "    choose([4,6], 2),\n",
    "    lchoose([4,6], 2),\n",
    "    factorial([1,5]),\n",
    "    lfactorial([1,5]),\n",
    "    **debug_kwargs\n",
    ")"
   ]
  },
  {
   "cell_type": "code",
   "execution_count": 19,
   "metadata": {
    "execution": {
     "iopub.execute_input": "2021-04-17T00:51:25.314501Z",
     "iopub.status.busy": "2021-04-17T00:51:25.313958Z",
     "iopub.status.idle": "2021-04-17T00:51:25.317333Z",
     "shell.execute_reply": "2021-04-17T00:51:25.316966Z"
    }
   },
   "outputs": [
    {
     "name": "stdout",
     "output_type": "stream",
     "text": [
      "\n",
      "is_character(\"a\")\n",
      "--------------------\n",
      "True\n",
      "\n",
      "is_character([\"a\", \"b\"])\n",
      "--------------------\n",
      "True\n",
      "\n",
      "as_character([1,2])\n",
      "--------------------\n",
      "['1', '2']\n",
      "\n",
      "grep(\".\", [\"ab\", \"c.d\"])\n",
      "--------------------\n",
      "array([0, 1])\n",
      "\n",
      "grep(\".\", [\"ab\", \"c.d\"], fixed=True)\n",
      "--------------------\n",
      "array([1])\n",
      "\n",
      "grep(\".\", [\"ab\", \"c.d\"], fixed=True, base0_=False)\n",
      "--------------------\n",
      "array([2])\n",
      "\n",
      "grepl(\".\", [\"ab\", \"c.d\"], fixed=True)\n",
      "--------------------\n",
      "array([False,  True])\n",
      "\n",
      "sub(\".\", \"x\", [\"ab\", \"c.d.e\"])\n",
      "--------------------\n",
      "array(['xb', 'x.d.e'], dtype=object)\n",
      "\n",
      "sub(\".\", \"x\", [\"ab\", \"c.d.e\"], fixed=True)\n",
      "--------------------\n",
      "array(['ab', 'cxd.e'], dtype=object)\n",
      "\n",
      "gsub(\".\", \"x\", [\"ab\", \"c.d.e\"])\n",
      "--------------------\n",
      "array(['xx', 'xxxxx'], dtype=object)\n",
      "\n",
      "gsub(\".\", \"x\", [\"ab\", \"c.d.e\"], fixed=True)\n",
      "--------------------\n",
      "array(['ab', 'cxdxe'], dtype=object)\n",
      "\n",
      "nchar('\\0')\n",
      "--------------------\n",
      "array([1])\n",
      "\n",
      "nchar('\\0', type='width')\n",
      "--------------------\n",
      "array([0])\n",
      "\n",
      "nzchar([\"a\", \"\"])\n",
      "--------------------\n",
      "array([ True, False])\n",
      "\n",
      "paste(\"a\", \"b\")\n",
      "--------------------\n",
      "array(['a b'], dtype='<U3')\n",
      "\n",
      "paste([\"a\", \"c\"], [\"b\", \"d\"], sep=\".\")\n",
      "--------------------\n",
      "array(['a.b', 'c.d'], dtype='<U3')\n",
      "\n",
      "paste0([\"a\", \"c\"], [\"b\", \"d\"], collapse=\"; \")\n",
      "--------------------\n",
      "'ab; cd'\n",
      "\n",
      "sprintf(\"%s, %d, %.3f\", pi, pi, pi)\n",
      "--------------------\n",
      "'3.141592653589793, 3, 3.142'\n",
      "\n",
      "substr(\"abcde\", 1, 3)\n",
      "--------------------\n",
      "'abc'\n",
      "\n",
      "substr(\"abcde\", 1, 3, base0_=True)\n",
      "--------------------\n",
      "'bcd'\n",
      "\n",
      "substring(\"abcde\", 1)\n",
      "--------------------\n",
      "'abcde'\n",
      "\n",
      "strsplit([\"a.b.c\", \"e.f\"], \".\", fixed=True)\n",
      "--------------------\n",
      "array([list(['a', 'b', 'c']), list(['e', 'f'])], dtype=object)\n"
     ]
    }
   ],
   "source": [
    "# string\n",
    "\n",
    "debug(\n",
    "    is_character(\"a\"),\n",
    "    is_character([\"a\", \"b\"]),\n",
    "    as_character([1,2]),\n",
    "    grep(\".\", [\"ab\", \"c.d\"]),\n",
    "    grep(\".\", [\"ab\", \"c.d\"], fixed=True),\n",
    "    grep(\".\", [\"ab\", \"c.d\"], fixed=True, base0_=False),\n",
    "    grepl(\".\", [\"ab\", \"c.d\"], fixed=True),\n",
    "    sub(\".\", \"x\", [\"ab\", \"c.d.e\"]),\n",
    "    sub(\".\", \"x\", [\"ab\", \"c.d.e\"], fixed=True),\n",
    "    gsub(\".\", \"x\", [\"ab\", \"c.d.e\"]),\n",
    "    gsub(\".\", \"x\", [\"ab\", \"c.d.e\"], fixed=True),\n",
    "    nchar('\\0'),\n",
    "    nchar('\\0', type='width'),\n",
    "    nzchar([\"a\", \"\"]),\n",
    "    paste(\"a\", \"b\"),\n",
    "    paste([\"a\", \"c\"], [\"b\", \"d\"], sep=\".\"),\n",
    "    paste0([\"a\", \"c\"], [\"b\", \"d\"], collapse=\"; \"),\n",
    "    sprintf(\"%s, %d, %.3f\", pi, pi, pi),\n",
    "    substr(\"abcde\", 1, 3),\n",
    "    substr(\"abcde\", 1, 3, base0_=True),\n",
    "    substring(\"abcde\", 1),\n",
    "    strsplit([\"a.b.c\", \"e.f\"], \".\", fixed=True),\n",
    "    **debug_kwargs\n",
    ")"
   ]
  },
  {
   "cell_type": "code",
   "execution_count": 20,
   "metadata": {
    "execution": {
     "iopub.execute_input": "2021-04-17T00:51:25.323976Z",
     "iopub.status.busy": "2021-04-17T00:51:25.321861Z",
     "iopub.status.idle": "2021-04-17T00:51:25.326968Z",
     "shell.execute_reply": "2021-04-17T00:51:25.327340Z"
    }
   },
   "outputs": [
    {
     "data": {
      "text/html": [
       "<table border=\"1\" class=\"dataframe\">\n",
       "  <thead>\n",
       "    <tr style=\"text-align: right;\">\n",
       "      <th></th>\n",
       "      <th>a</th>\n",
       "      <th>b</th>\n",
       "    </tr>\n",
       "  </thead>\n",
       "  <tbody>\n",
       "    <tr>\n",
       "      <th style=\"font-style: italic;\" ></th>\n",
       "      <td style=\"font-style: italic;\" >&lt;int64&gt;</td>\n",
       "      <td style=\"font-style: italic;\" >&lt;int64&gt;</td>\n",
       "    </tr>\n",
       "    <tr>\n",
       "      <th>count</th>\n",
       "      <td>4</td>\n",
       "      <td>4</td>\n",
       "    </tr>\n",
       "  </tbody>\n",
       "</table>"
      ],
      "text/plain": [
       "            a       b\n",
       "      <int64> <int64>\n",
       "count       4       4"
      ]
     },
     "execution_count": 20,
     "metadata": {},
     "output_type": "execute_result"
    }
   ],
   "source": [
    "# table\n",
    "\n",
    "table(rep(['a', 'b'], each=4))"
   ]
  },
  {
   "cell_type": "code",
   "execution_count": 21,
   "metadata": {},
   "outputs": [
    {
     "name": "stdout",
     "output_type": "stream",
     "text": [
      "\n",
      "is_double(numpy.array([1,2]))\n",
      "--------------------\n",
      "False\n",
      "\n",
      "is_integer(numpy.array([1,2]))\n",
      "--------------------\n",
      "True\n",
      "\n",
      "is_float(numpy.array([1,2]))\n",
      "--------------------\n",
      "False\n",
      "\n",
      "is_numeric(numpy.array([1,2]))\n",
      "--------------------\n",
      "True\n",
      "\n",
      "is_double(numpy.array([1,2], dtype=numpy.double))\n",
      "--------------------\n",
      "True\n",
      "\n",
      "is_atomic(\"abc\")\n",
      "--------------------\n",
      "True\n",
      "\n",
      "is_element(1, [1,2])\n",
      "--------------------\n",
      "True\n"
     ]
    }
   ],
   "source": [
    "# testing\n",
    "debug(\n",
    "    is_double(numpy.array([1,2])),\n",
    "    is_integer(numpy.array([1,2])),\n",
    "    is_float(numpy.array([1,2])),\n",
    "    is_numeric(numpy.array([1,2])),\n",
    "    is_double(numpy.array([1,2], dtype=numpy.double)),\n",
    "    is_atomic(\"abc\"),\n",
    "    is_element(1, [1,2]),\n",
    "    **debug_kwargs\n",
    ")"
   ]
  },
  {
   "cell_type": "code",
   "execution_count": 22,
   "metadata": {},
   "outputs": [
    {
     "name": "stdout",
     "output_type": "stream",
     "text": [
      "\n",
      "cos(.5)\n",
      "--------------------\n",
      "0.8775825618903728\n",
      "\n",
      "sin(.5)\n",
      "--------------------\n",
      "0.479425538604203\n",
      "\n",
      "tan(.5)\n",
      "--------------------\n",
      "0.5463024898437905\n",
      "\n",
      "acos(.5)\n",
      "--------------------\n",
      "1.0471975511965979\n",
      "\n",
      "asin(.5)\n",
      "--------------------\n",
      "0.5235987755982989\n",
      "\n",
      "atan2(.5, 1)\n",
      "--------------------\n",
      "0.4636476090008061\n",
      "\n",
      "cospi(.5)\n",
      "--------------------\n",
      "6.123233995736766e-17\n",
      "\n",
      "sinpi(.5)\n",
      "--------------------\n",
      "1.0\n",
      "\n",
      "tanpi(.5)\n",
      "--------------------\n",
      "1.633123935319537e+16\n",
      "\n",
      "cosh(.5)\n",
      "--------------------\n",
      "1.1276259652063807\n",
      "\n",
      "sinh(.5)\n",
      "--------------------\n",
      "0.5210953054937474\n",
      "\n",
      "tanh(.5)\n",
      "--------------------\n",
      "0.46211715726000974\n",
      "\n",
      "acosh(1)\n",
      "--------------------\n",
      "0.0\n",
      "\n",
      "asinh(.5)\n",
      "--------------------\n",
      "0.48121182505960347\n",
      "\n",
      "atanh(.5)\n",
      "--------------------\n",
      "0.5493061443340548\n"
     ]
    }
   ],
   "source": [
    "# trig/hb\n",
    "debug(\n",
    "    cos(.5),\n",
    "    sin(.5),\n",
    "    tan(.5),\n",
    "    acos(.5),\n",
    "    asin(.5),\n",
    "    atan2(.5, 1),\n",
    "    cospi(.5),\n",
    "    sinpi(.5),\n",
    "    tanpi(.5),\n",
    "    cosh(.5),\n",
    "    sinh(.5),\n",
    "    tanh(.5),\n",
    "    acosh(1),\n",
    "    asinh(.5),\n",
    "    atanh(.5),\n",
    "    **debug_kwargs\n",
    ")"
   ]
  },
  {
   "cell_type": "code",
   "execution_count": 23,
   "metadata": {},
   "outputs": [
    {
     "name": "stdout",
     "output_type": "stream",
     "text": [
      "\n",
      "which([True, False, True])\n",
      "--------------------\n",
      "array([0, 2])\n",
      "\n",
      "which([True, False, True], base0_=False)\n",
      "--------------------\n",
      "array([1, 3])\n",
      "\n",
      "which_max([3,2,4,1])\n",
      "--------------------\n",
      "2\n",
      "\n",
      "which_min([3,2,4,1])\n",
      "--------------------\n",
      "3\n"
     ]
    }
   ],
   "source": [
    "# which\n",
    "\n",
    "debug(\n",
    "    which([True, False, True]),\n",
    "    which([True, False, True], base0_=False),\n",
    "    which_max([3,2,4,1]),\n",
    "    which_min([3,2,4,1]),\n",
    "    **debug_kwargs\n",
    ")"
   ]
  },
  {
   "cell_type": "code",
   "execution_count": null,
   "metadata": {},
   "outputs": [],
   "source": []
  }
 ],
 "metadata": {
  "interpreter": {
   "hash": "c4cc73b080e063fcebb9afb794613be7caf4b26129562cba1382945a18cc49cc"
  },
  "kernelspec": {
   "display_name": "Python 3.7.8 64-bit ('base': conda)",
   "name": "python3"
  },
  "language_info": {
   "codemirror_mode": {
    "name": "ipython",
    "version": 3
   },
   "file_extension": ".py",
   "mimetype": "text/x-python",
   "name": "python",
   "nbconvert_exporter": "python",
   "pygments_lexer": "ipython3",
   "version": "3.7.8"
  }
 },
 "nbformat": 4,
 "nbformat_minor": 5
}