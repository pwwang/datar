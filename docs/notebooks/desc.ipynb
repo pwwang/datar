{
 "cells": [
  {
   "cell_type": "code",
   "execution_count": 1,
   "id": "important-empty",
   "metadata": {
    "execution": {
     "iopub.execute_input": "2021-07-16T22:27:38.744602Z",
     "iopub.status.busy": "2021-07-16T22:27:38.743026Z",
     "iopub.status.idle": "2021-07-16T22:27:39.602512Z",
     "shell.execute_reply": "2021-07-16T22:27:39.602933Z"
    }
   },
   "outputs": [
    {
     "data": {
      "text/html": [
       "<div style=\"text-align: right; text-style: italic\">Try this notebook on <a target=\"_blank\" href=\"https://mybinder.org/v2/gh/pwwang/datar/93d069f3ca36711fc811c61dcf60e9fc3d1460a5?filepath=docs%2Fnotebooks%2Fdesc.ipynb\">binder</a>.</div>"
      ],
      "text/plain": [
       "<IPython.core.display.HTML object>"
      ]
     },
     "metadata": {},
     "output_type": "display_data"
    },
    {
     "data": {
      "text/markdown": [
       "### # desc  "
      ],
      "text/plain": [
       "<IPython.core.display.Markdown object>"
      ]
     },
     "metadata": {},
     "output_type": "display_data"
    },
    {
     "data": {
      "text/markdown": [
       "##### Transform a vector into a format that will be sorted in descending order\n",
       "\n",
       "This is useful within arrange().  \n",
       "\n",
       "The original API:  \n",
       "https://dplyr.tidyverse.org/reference/desc.html  \n",
       "\n",
       "##### Args:\n",
       "&emsp;&emsp;`x`: vector to transform  \n",
       "\n",
       "##### Returns:\n",
       "&emsp;&emsp;The descending order of x  \n"
      ],
      "text/plain": [
       "<IPython.core.display.Markdown object>"
      ]
     },
     "metadata": {},
     "output_type": "display_data"
    }
   ],
   "source": [
    "from datar.base import factor, letters\n",
    "from datar.dplyr import desc\n",
    "\n",
    "%run nb_helpers.py\n",
    "nb_header(desc)"
   ]
  },
  {
   "cell_type": "code",
   "execution_count": 2,
   "id": "equal-software",
   "metadata": {
    "execution": {
     "iopub.execute_input": "2021-07-16T22:27:39.613373Z",
     "iopub.status.busy": "2021-07-16T22:27:39.612755Z",
     "iopub.status.idle": "2021-07-16T22:27:39.620797Z",
     "shell.execute_reply": "2021-07-16T22:27:39.621622Z"
    }
   },
   "outputs": [
    {
     "data": {
      "text/plain": [
       "0    -1\n",
       "1    -2\n",
       "2    -3\n",
       "3    -4\n",
       "4    -5\n",
       "5    -6\n",
       "6    -7\n",
       "7    -8\n",
       "8    -9\n",
       "9   -10\n",
       "dtype: int64"
      ]
     },
     "execution_count": 1,
     "metadata": {},
     "output_type": "execute_result"
    }
   ],
   "source": [
    "desc(range(1,11))"
   ]
  },
  {
   "cell_type": "code",
   "execution_count": 3,
   "id": "delayed-lincoln",
   "metadata": {
    "execution": {
     "iopub.execute_input": "2021-07-16T22:27:39.642189Z",
     "iopub.status.busy": "2021-07-16T22:27:39.641582Z",
     "iopub.status.idle": "2021-07-16T22:27:39.651348Z",
     "shell.execute_reply": "2021-07-16T22:27:39.651772Z"
    }
   },
   "outputs": [
    {
     "data": {
      "text/plain": [
       "0     -0.0\n",
       "1     -1.0\n",
       "2     -2.0\n",
       "3     -3.0\n",
       "4     -4.0\n",
       "5     -5.0\n",
       "6     -6.0\n",
       "7     -7.0\n",
       "8     -8.0\n",
       "9     -9.0\n",
       "10   -10.0\n",
       "11   -11.0\n",
       "12   -12.0\n",
       "13   -13.0\n",
       "14   -14.0\n",
       "15   -15.0\n",
       "16   -16.0\n",
       "17   -17.0\n",
       "18   -18.0\n",
       "19   -19.0\n",
       "20   -20.0\n",
       "21   -21.0\n",
       "22   -22.0\n",
       "23   -23.0\n",
       "24   -24.0\n",
       "25   -25.0\n",
       "dtype: float64"
      ]
     },
     "execution_count": 1,
     "metadata": {},
     "output_type": "execute_result"
    }
   ],
   "source": [
    "desc(factor(letters))"
   ]
  },
  {
   "cell_type": "code",
   "execution_count": null,
   "id": "inside-minute",
   "metadata": {},
   "outputs": [],
   "source": []
  }
 ],
 "metadata": {
  "kernelspec": {
   "display_name": "Python 3",
   "language": "python",
   "name": "python3"
  },
  "language_info": {
   "codemirror_mode": {
    "name": "ipython",
    "version": 3
   },
   "file_extension": ".py",
   "mimetype": "text/x-python",
   "name": "python",
   "nbconvert_exporter": "python",
   "pygments_lexer": "ipython3",
   "version": "3.7.8"
  }
 },
 "nbformat": 4,
 "nbformat_minor": 5
}
