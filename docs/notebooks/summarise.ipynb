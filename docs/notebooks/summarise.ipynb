{
 "cells": [
  {
   "cell_type": "code",
   "execution_count": 17,
   "metadata": {
    "execution": {
     "iopub.execute_input": "2021-04-17T00:55:20.485189Z",
     "iopub.status.busy": "2021-04-17T00:55:20.483806Z",
     "iopub.status.idle": "2021-04-17T00:55:21.232202Z",
     "shell.execute_reply": "2021-04-17T00:55:21.231687Z"
    }
   },
   "outputs": [
    {
     "name": "stderr",
     "output_type": "stream",
     "text": [
      "[2021-07-07 00:20:47][datar][WARNING] Builtin name \"min\" has been overriden by datar.\n",
      "[2021-07-07 00:20:48][datar][WARNING] Builtin name \"max\" has been overriden by datar.\n",
      "[2021-07-07 00:20:48][datar][WARNING] Builtin name \"sum\" has been overriden by datar.\n",
      "[2021-07-07 00:20:48][datar][WARNING] Builtin name \"abs\" has been overriden by datar.\n",
      "[2021-07-07 00:20:48][datar][WARNING] Builtin name \"round\" has been overriden by datar.\n",
      "[2021-07-07 00:20:48][datar][WARNING] Builtin name \"all\" has been overriden by datar.\n",
      "[2021-07-07 00:20:48][datar][WARNING] Builtin name \"any\" has been overriden by datar.\n",
      "[2021-07-07 00:20:48][datar][WARNING] Builtin name \"re\" has been overriden by datar.\n",
      "[2021-07-07 00:20:48][datar][WARNING] Builtin name \"filter\" has been overriden by datar.\n",
      "[2021-07-07 00:20:48][datar][WARNING] Builtin name \"slice\" has been overriden by datar.\n"
     ]
    },
    {
     "data": {
      "text/html": [
       "<div style=\"text-align: right; text-style: italic\">Try this notebook on <a target=\"_blank\" href=\"https://mybinder.org/v2/gh/pwwang/datar/93d069f3ca36711fc811c61dcf60e9fc3d1460a5?filepath=docs%2Fnotebooks%2Fsummarise.ipynb\">binder</a>.</div>"
      ],
      "text/plain": [
       "<IPython.core.display.HTML object>"
      ]
     },
     "metadata": {},
     "output_type": "display_data"
    },
    {
     "data": {
      "text/markdown": [
       "### # summarise  "
      ],
      "text/plain": [
       "<IPython.core.display.Markdown object>"
      ]
     },
     "metadata": {},
     "output_type": "display_data"
    },
    {
     "data": {
      "text/markdown": [
       "##### Summarise each group to fewer rows\n",
       "\n",
       "See https://dplyr.tidyverse.org/reference/summarise.html  \n",
       "\n",
       "Both input and the summarised data can be recycled, but separately.  \n",
       "\n",
       "Aliases - `summarize`  \n",
       "\n",
       "##### Examples:\n",
       "&emsp;&emsp;>>> df = tibble(x=[1,2,3,4])  \n",
       "&emsp;&emsp;>>> df >> summarise(y=sum(f.x), z=f.y*2)  \n",
       "&emsp;&emsp;>>> #   y  z  \n",
       "&emsp;&emsp;>>> # 0 10 20  \n",
       "&emsp;&emsp;>>> df >> summarise(y=sum(f.x), z=f.x+f.y) # fail  \n",
       "\n",
       "&emsp;&emsp;But they should not be mixed in later argument. For example:  \n",
       "&emsp;&emsp;>>> df = tibble(x=[1,2,3,4], g=list('aabb')) >> group_by(f.g)  \n",
       "&emsp;&emsp;>>> df >> summarise(n=n() + f.x)  \n",
       "&emsp;&emsp;>>> # as expected:  \n",
       "&emsp;&emsp;>>>      g  n  \n",
       "&emsp;&emsp;>>> # 0  a  3  \n",
       "&emsp;&emsp;>>> # 1  a  4  \n",
       "&emsp;&emsp;>>> # 2  b  5  \n",
       "&emsp;&emsp;>>> # 3  b  6  \n",
       "&emsp;&emsp;>>> # [Groups: ['g'] (n=2)]  \n",
       "&emsp;&emsp;>>> # However:  \n",
       "&emsp;&emsp;>>> df >> summarise(y=1, n=n() + f.y)  \n",
       "&emsp;&emsp;>>> # n() will be recycling output instead of input  \n",
       "&emsp;&emsp;>>> #    g  y  n  \n",
       "&emsp;&emsp;>>> # 0  a  1  2  \n",
       "&emsp;&emsp;>>> # 1  b  1  2  \n",
       "\n",
       "##### Args:\n",
       "&emsp;&emsp;`_groups`: Grouping structure of the result.  \n",
       "&emsp;&emsp;&emsp;&emsp;- \"drop_last\": dropping the last level of grouping.\n",
       "\n",
       "&emsp;&emsp;&emsp;&emsp;- \"drop\": All levels of grouping are dropped.\n",
       "\n",
       "&emsp;&emsp;&emsp;&emsp;- \"keep\": Same grouping structure as _data.\n",
       "\n",
       "&emsp;&emsp;&emsp;&emsp;- \"rowwise\": Each row is its own group.\n",
       "\n",
       "&emsp;&emsp;*args, **kwargs: Name-value pairs, where value is the summarized  \n",
       "&emsp;&emsp;&emsp;&emsp;data for each group  \n",
       "\n",
       "##### Returns:\n",
       "&emsp;&emsp;The summary dataframe.  \n"
      ],
      "text/plain": [
       "<IPython.core.display.Markdown object>"
      ]
     },
     "metadata": {},
     "output_type": "display_data"
    }
   ],
   "source": [
    "# https://dplyr.tidyverse.org/reference/summarise.html\n",
    "\n",
    "from datar.datasets import mtcars, starwars\n",
    "from datar.all import *\n",
    "\n",
    "%run nb_helpers.py\n",
    "nb_header(summarise)"
   ]
  },
  {
   "cell_type": "code",
   "execution_count": 18,
   "metadata": {
    "execution": {
     "iopub.execute_input": "2021-04-17T00:55:21.241348Z",
     "iopub.status.busy": "2021-04-17T00:55:21.240360Z",
     "iopub.status.idle": "2021-04-17T00:55:21.261295Z",
     "shell.execute_reply": "2021-04-17T00:55:21.261850Z"
    }
   },
   "outputs": [
    {
     "data": {
      "text/html": [
       "<table border=\"1\" class=\"dataframe\">\n",
       "  <thead>\n",
       "    <tr style=\"text-align: right;\">\n",
       "      <th></th>\n",
       "      <th>mean</th>\n",
       "      <th>n</th>\n",
       "    </tr>\n",
       "  </thead>\n",
       "  <tbody>\n",
       "    <tr>\n",
       "      <th style=\"font-style: italic;\" ></th>\n",
       "      <td style=\"font-style: italic;\" >&lt;float64&gt;</td>\n",
       "      <td style=\"font-style: italic;\" >&lt;int64&gt;</td>\n",
       "    </tr>\n",
       "    <tr>\n",
       "      <th>0</th>\n",
       "      <td>230.721875</td>\n",
       "      <td>32</td>\n",
       "    </tr>\n",
       "  </tbody>\n",
       "</table>"
      ],
      "text/plain": [
       "         mean       n\n",
       "    <float64> <int64>\n",
       "0  230.721875      32"
      ]
     },
     "execution_count": 18,
     "metadata": {},
     "output_type": "execute_result"
    }
   ],
   "source": [
    "mtcars >> summarise(mean=mean(f.disp), n=n())"
   ]
  },
  {
   "cell_type": "code",
   "execution_count": 19,
   "metadata": {
    "execution": {
     "iopub.execute_input": "2021-04-17T00:55:21.267273Z",
     "iopub.status.busy": "2021-04-17T00:55:21.266643Z",
     "iopub.status.idle": "2021-04-17T00:55:21.332800Z",
     "shell.execute_reply": "2021-04-17T00:55:21.332306Z"
    }
   },
   "outputs": [
    {
     "data": {
      "text/html": [
       "<table border=\"1\" class=\"dataframe\">\n",
       "  <thead>\n",
       "    <tr style=\"text-align: right;\">\n",
       "      <th></th>\n",
       "      <th>cyl</th>\n",
       "      <th>mean</th>\n",
       "      <th>n</th>\n",
       "    </tr>\n",
       "  </thead>\n",
       "  <tbody>\n",
       "    <tr>\n",
       "      <th style=\"font-style: italic;\" ></th>\n",
       "      <td style=\"font-style: italic;\" >&lt;int64&gt;</td>\n",
       "      <td style=\"font-style: italic;\" >&lt;float64&gt;</td>\n",
       "      <td style=\"font-style: italic;\" >&lt;int64&gt;</td>\n",
       "    </tr>\n",
       "    <tr>\n",
       "      <th>0</th>\n",
       "      <td>4</td>\n",
       "      <td>105.136364</td>\n",
       "      <td>11</td>\n",
       "    </tr>\n",
       "    <tr>\n",
       "      <th>1</th>\n",
       "      <td>6</td>\n",
       "      <td>183.314286</td>\n",
       "      <td>7</td>\n",
       "    </tr>\n",
       "    <tr>\n",
       "      <th>2</th>\n",
       "      <td>8</td>\n",
       "      <td>353.100000</td>\n",
       "      <td>14</td>\n",
       "    </tr>\n",
       "  </tbody>\n",
       "</table>"
      ],
      "text/plain": [
       "      cyl        mean       n\n",
       "  <int64>   <float64> <int64>\n",
       "0       4  105.136364      11\n",
       "1       6  183.314286       7\n",
       "2       8  353.100000      14"
      ]
     },
     "execution_count": 19,
     "metadata": {},
     "output_type": "execute_result"
    }
   ],
   "source": [
    "mtcars >> \\\n",
    "  group_by(f.cyl) >> \\\n",
    "  summarise(mean=mean(f.disp), n=n()) "
   ]
  },
  {
   "cell_type": "code",
   "execution_count": 20,
   "metadata": {
    "execution": {
     "iopub.execute_input": "2021-04-17T00:55:21.399126Z",
     "iopub.status.busy": "2021-04-17T00:55:21.396742Z",
     "iopub.status.idle": "2021-04-17T00:55:21.415403Z",
     "shell.execute_reply": "2021-04-17T00:55:21.415819Z"
    }
   },
   "outputs": [
    {
     "name": "stderr",
     "output_type": "stream",
     "text": [
      "[2021-07-07 00:21:03][datar][   INFO] `summarise()` has grouped output by ['cyl'] (override with `_groups` argument)\n"
     ]
    },
    {
     "data": {
      "text/html": [
       "<table border=\"1\" class=\"dataframe\">\n",
       "  <thead>\n",
       "    <tr style=\"text-align: right;\">\n",
       "      <th></th>\n",
       "      <th>cyl</th>\n",
       "      <th>qs</th>\n",
       "      <th>prob</th>\n",
       "    </tr>\n",
       "  </thead>\n",
       "  <tbody>\n",
       "    <tr>\n",
       "      <th style=\"font-style: italic;\" ></th>\n",
       "      <td style=\"font-style: italic;\" >&lt;int64&gt;</td>\n",
       "      <td style=\"font-style: italic;\" >&lt;float64&gt;</td>\n",
       "      <td style=\"font-style: italic;\" >&lt;float64&gt;</td>\n",
       "    </tr>\n",
       "    <tr>\n",
       "      <th>0</th>\n",
       "      <td>4</td>\n",
       "      <td>78.85</td>\n",
       "      <td>0.25</td>\n",
       "    </tr>\n",
       "    <tr>\n",
       "      <th>1</th>\n",
       "      <td>4</td>\n",
       "      <td>120.65</td>\n",
       "      <td>0.75</td>\n",
       "    </tr>\n",
       "    <tr>\n",
       "      <th>2</th>\n",
       "      <td>6</td>\n",
       "      <td>160.00</td>\n",
       "      <td>0.25</td>\n",
       "    </tr>\n",
       "    <tr>\n",
       "      <th>3</th>\n",
       "      <td>6</td>\n",
       "      <td>196.30</td>\n",
       "      <td>0.75</td>\n",
       "    </tr>\n",
       "    <tr>\n",
       "      <th>4</th>\n",
       "      <td>8</td>\n",
       "      <td>301.75</td>\n",
       "      <td>0.25</td>\n",
       "    </tr>\n",
       "    <tr>\n",
       "      <th>5</th>\n",
       "      <td>8</td>\n",
       "      <td>390.00</td>\n",
       "      <td>0.75</td>\n",
       "    </tr>\n",
       "  </tbody>\n",
       "</table>\n",
       "<p>Groups: ['cyl'] (n=3)</p>"
      ],
      "text/plain": [
       "      cyl        qs      prob\n",
       "  <int64> <float64> <float64>\n",
       "0       4     78.85      0.25\n",
       "1       4    120.65      0.75\n",
       "2       6    160.00      0.25\n",
       "3       6    196.30      0.75\n",
       "4       8    301.75      0.25\n",
       "5       8    390.00      0.75\n",
       "\n",
       "[Groups: cyl (n=3)]"
      ]
     },
     "execution_count": 20,
     "metadata": {},
     "output_type": "execute_result"
    }
   ],
   "source": [
    "mtcars >> \\\n",
    "   group_by(f.cyl) >> \\\n",
    "   summarise(qs=quantile(f.disp, c(0.25, 0.75)), prob=c(0.25, 0.75)) "
   ]
  },
  {
   "cell_type": "code",
   "execution_count": 21,
   "metadata": {},
   "outputs": [
    {
     "data": {
      "text/html": [
       "<table border=\"1\" class=\"dataframe\">\n",
       "  <thead>\n",
       "    <tr style=\"text-align: right;\">\n",
       "      <th></th>\n",
       "      <th>cyl</th>\n",
       "      <th>qs</th>\n",
       "      <th>prob</th>\n",
       "    </tr>\n",
       "  </thead>\n",
       "  <tbody>\n",
       "    <tr>\n",
       "      <th style=\"font-style: italic;\" ></th>\n",
       "      <td style=\"font-style: italic;\" >&lt;int64&gt;</td>\n",
       "      <td style=\"font-style: italic;\" >&lt;float64&gt;</td>\n",
       "      <td style=\"font-style: italic;\" >&lt;float64&gt;</td>\n",
       "    </tr>\n",
       "    <tr>\n",
       "      <th>0</th>\n",
       "      <td>4</td>\n",
       "      <td>78.85</td>\n",
       "      <td>0.25</td>\n",
       "    </tr>\n",
       "    <tr>\n",
       "      <th>1</th>\n",
       "      <td>4</td>\n",
       "      <td>120.65</td>\n",
       "      <td>0.75</td>\n",
       "    </tr>\n",
       "    <tr>\n",
       "      <th>2</th>\n",
       "      <td>6</td>\n",
       "      <td>160.00</td>\n",
       "      <td>0.25</td>\n",
       "    </tr>\n",
       "    <tr>\n",
       "      <th>3</th>\n",
       "      <td>6</td>\n",
       "      <td>196.30</td>\n",
       "      <td>0.75</td>\n",
       "    </tr>\n",
       "    <tr>\n",
       "      <th>4</th>\n",
       "      <td>8</td>\n",
       "      <td>301.75</td>\n",
       "      <td>0.25</td>\n",
       "    </tr>\n",
       "    <tr>\n",
       "      <th>5</th>\n",
       "      <td>8</td>\n",
       "      <td>390.00</td>\n",
       "      <td>0.75</td>\n",
       "    </tr>\n",
       "  </tbody>\n",
       "</table>\n",
       "<p>Groups: ['cyl'] (n=3)</p>"
      ],
      "text/plain": [
       "      cyl        qs      prob\n",
       "  <int64> <float64> <float64>\n",
       "0       4     78.85      0.25\n",
       "1       4    120.65      0.75\n",
       "2       6    160.00      0.25\n",
       "3       6    196.30      0.75\n",
       "4       8    301.75      0.25\n",
       "5       8    390.00      0.75\n",
       "\n",
       "[Groups: cyl (n=3)]"
      ]
     },
     "execution_count": 21,
     "metadata": {},
     "output_type": "execute_result"
    }
   ],
   "source": [
    "with options_context(dplyr_summarise_inform=False):\n",
    "    mtcars >> \\\n",
    "        group_by(f.cyl) >> \\\n",
    "        summarise(qs=quantile(f.disp, c(0.25, 0.75)), prob=c(0.25, 0.75)) "
   ]
  },
  {
   "cell_type": "code",
   "execution_count": 22,
   "metadata": {
    "execution": {
     "iopub.execute_input": "2021-04-17T00:55:21.435017Z",
     "iopub.status.busy": "2021-04-17T00:55:21.422512Z",
     "iopub.status.idle": "2021-04-17T00:55:21.528068Z",
     "shell.execute_reply": "2021-04-17T00:55:21.528445Z"
    }
   },
   "outputs": [
    {
     "name": "stderr",
     "output_type": "stream",
     "text": [
      "[2021-07-07 00:21:06][datar][   INFO] `summarise()` has grouped output by ['cyl'] (override with `_groups` argument)\n"
     ]
    },
    {
     "data": {
      "text/html": [
       "<table border=\"1\" class=\"dataframe\">\n",
       "  <thead>\n",
       "    <tr style=\"text-align: right;\">\n",
       "      <th></th>\n",
       "      <th>cyl</th>\n",
       "      <th>x</th>\n",
       "      <th>probs</th>\n",
       "    </tr>\n",
       "  </thead>\n",
       "  <tbody>\n",
       "    <tr>\n",
       "      <th style=\"font-style: italic;\" ></th>\n",
       "      <td style=\"font-style: italic;\" >&lt;int64&gt;</td>\n",
       "      <td style=\"font-style: italic;\" >&lt;float64&gt;</td>\n",
       "      <td style=\"font-style: italic;\" >&lt;float64&gt;</td>\n",
       "    </tr>\n",
       "    <tr>\n",
       "      <th>0</th>\n",
       "      <td>4</td>\n",
       "      <td>78.85</td>\n",
       "      <td>0.25</td>\n",
       "    </tr>\n",
       "    <tr>\n",
       "      <th>1</th>\n",
       "      <td>4</td>\n",
       "      <td>120.65</td>\n",
       "      <td>0.75</td>\n",
       "    </tr>\n",
       "    <tr>\n",
       "      <th>2</th>\n",
       "      <td>6</td>\n",
       "      <td>160.00</td>\n",
       "      <td>0.25</td>\n",
       "    </tr>\n",
       "    <tr>\n",
       "      <th>3</th>\n",
       "      <td>6</td>\n",
       "      <td>196.30</td>\n",
       "      <td>0.75</td>\n",
       "    </tr>\n",
       "    <tr>\n",
       "      <th>4</th>\n",
       "      <td>8</td>\n",
       "      <td>301.75</td>\n",
       "      <td>0.25</td>\n",
       "    </tr>\n",
       "    <tr>\n",
       "      <th>5</th>\n",
       "      <td>8</td>\n",
       "      <td>390.00</td>\n",
       "      <td>0.75</td>\n",
       "    </tr>\n",
       "  </tbody>\n",
       "</table>\n",
       "<p>Groups: ['cyl'] (n=3)</p>"
      ],
      "text/plain": [
       "      cyl         x     probs\n",
       "  <int64> <float64> <float64>\n",
       "0       4     78.85      0.25\n",
       "1       4    120.65      0.75\n",
       "2       6    160.00      0.25\n",
       "3       6    196.30      0.75\n",
       "4       8    301.75      0.25\n",
       "5       8    390.00      0.75\n",
       "\n",
       "[Groups: cyl (n=3)]"
      ]
     },
     "execution_count": 22,
     "metadata": {},
     "output_type": "execute_result"
    }
   ],
   "source": [
    "from pipda import register_func, Context\n",
    "\n",
    "def my_quantile(x, probs):\n",
    "  return tibble(x=quantile(x, probs), probs = probs)\n",
    "\n",
    "my_quantile = register_func(None, context=Context.EVAL, func=my_quantile)\n",
    "\n",
    "mtcars >> \\\n",
    "  group_by(f.cyl) >> \\\n",
    "  summarise(my_quantile(f.disp, c(0.25, 0.75))) \n"
   ]
  },
  {
   "cell_type": "code",
   "execution_count": 23,
   "metadata": {
    "execution": {
     "iopub.execute_input": "2021-04-17T00:55:21.557295Z",
     "iopub.status.busy": "2021-04-17T00:55:21.556544Z",
     "iopub.status.idle": "2021-04-17T00:55:21.566674Z",
     "shell.execute_reply": "2021-04-17T00:55:21.566065Z"
    }
   },
   "outputs": [
    {
     "name": "stderr",
     "output_type": "stream",
     "text": [
      "[2021-07-07 00:21:11][datar][   INFO] `summarise()` has grouped output by ['cyl'] (override with `_groups` argument)\n"
     ]
    },
    {
     "data": {
      "text/plain": [
       "['cyl']"
      ]
     },
     "execution_count": 23,
     "metadata": {},
     "output_type": "execute_result"
    }
   ],
   "source": [
    "mtcars >> \\\n",
    "  group_by(f.cyl, f.vs) >> \\\n",
    "  summarise(cyl_n = n()) >> \\\n",
    "  group_vars()"
   ]
  },
  {
   "cell_type": "code",
   "execution_count": 24,
   "metadata": {
    "execution": {
     "iopub.execute_input": "2021-04-17T00:55:21.594907Z",
     "iopub.status.busy": "2021-04-17T00:55:21.594235Z",
     "iopub.status.idle": "2021-04-17T00:55:21.597606Z",
     "shell.execute_reply": "2021-04-17T00:55:21.597984Z"
    }
   },
   "outputs": [
    {
     "data": {
      "text/html": [
       "<table border=\"1\" class=\"dataframe\">\n",
       "  <thead>\n",
       "    <tr style=\"text-align: right;\">\n",
       "      <th></th>\n",
       "      <th>cyl</th>\n",
       "      <th>disp</th>\n",
       "      <th>sd</th>\n",
       "    </tr>\n",
       "  </thead>\n",
       "  <tbody>\n",
       "    <tr>\n",
       "      <th style=\"font-style: italic;\" ></th>\n",
       "      <td style=\"font-style: italic;\" >&lt;int64&gt;</td>\n",
       "      <td style=\"font-style: italic;\" >&lt;float64&gt;</td>\n",
       "      <td style=\"font-style: italic;\" >&lt;float64&gt;</td>\n",
       "    </tr>\n",
       "    <tr>\n",
       "      <th>0</th>\n",
       "      <td>4</td>\n",
       "      <td>105.136364</td>\n",
       "      <td>NaN</td>\n",
       "    </tr>\n",
       "    <tr>\n",
       "      <th>1</th>\n",
       "      <td>6</td>\n",
       "      <td>183.314286</td>\n",
       "      <td>NaN</td>\n",
       "    </tr>\n",
       "    <tr>\n",
       "      <th>2</th>\n",
       "      <td>8</td>\n",
       "      <td>353.100000</td>\n",
       "      <td>NaN</td>\n",
       "    </tr>\n",
       "  </tbody>\n",
       "</table>"
      ],
      "text/plain": [
       "      cyl        disp        sd\n",
       "  <int64>   <float64> <float64>\n",
       "0       4  105.136364       NaN\n",
       "1       6  183.314286       NaN\n",
       "2       8  353.100000       NaN"
      ]
     },
     "execution_count": 24,
     "metadata": {},
     "output_type": "execute_result"
    }
   ],
   "source": [
    "# Unlike dplyr's summarise, f.disp can be reused.\n",
    "mtcars >> \\\n",
    "  group_by(f.cyl) >> \\\n",
    "  summarise(disp=mean(f.disp), sd=sd(f.disp)) "
   ]
  },
  {
   "cell_type": "code",
   "execution_count": 25,
   "metadata": {},
   "outputs": [
    {
     "data": {
      "text/html": [
       "<table border=\"1\" class=\"dataframe\">\n",
       "  <thead>\n",
       "    <tr style=\"text-align: right;\">\n",
       "      <th></th>\n",
       "      <th>cyl</th>\n",
       "      <th>disp_m2</th>\n",
       "    </tr>\n",
       "  </thead>\n",
       "  <tbody>\n",
       "    <tr>\n",
       "      <th style=\"font-style: italic;\" ></th>\n",
       "      <td style=\"font-style: italic;\" >&lt;int64&gt;</td>\n",
       "      <td style=\"font-style: italic;\" >&lt;float64&gt;</td>\n",
       "    </tr>\n",
       "    <tr>\n",
       "      <th>0</th>\n",
       "      <td>4</td>\n",
       "      <td>210.272727</td>\n",
       "    </tr>\n",
       "    <tr>\n",
       "      <th>1</th>\n",
       "      <td>6</td>\n",
       "      <td>366.628571</td>\n",
       "    </tr>\n",
       "    <tr>\n",
       "      <th>2</th>\n",
       "      <td>8</td>\n",
       "      <td>706.200000</td>\n",
       "    </tr>\n",
       "  </tbody>\n",
       "</table>"
      ],
      "text/plain": [
       "      cyl     disp_m2\n",
       "  <int64>   <float64>\n",
       "0       4  210.272727\n",
       "1       6  366.628571\n",
       "2       8  706.200000"
      ]
     },
     "execution_count": 25,
     "metadata": {},
     "output_type": "execute_result"
    }
   ],
   "source": [
    "# Create temporary variable\n",
    "mtcars >> \\\n",
    "  group_by(f.cyl) >> \\\n",
    "  summarise(disp_m2_=mean(f.disp), disp_m2=f.disp_m2 * 2) "
   ]
  },
  {
   "cell_type": "code",
   "execution_count": 26,
   "metadata": {
    "execution": {
     "iopub.execute_input": "2021-04-17T00:55:21.607228Z",
     "iopub.status.busy": "2021-04-17T00:55:21.606656Z",
     "iopub.status.idle": "2021-04-17T00:55:21.610723Z",
     "shell.execute_reply": "2021-04-17T00:55:21.610189Z"
    }
   },
   "outputs": [
    {
     "data": {
      "text/html": [
       "<table border=\"1\" class=\"dataframe\">\n",
       "  <thead>\n",
       "    <tr style=\"text-align: right;\">\n",
       "      <th></th>\n",
       "      <th>avg</th>\n",
       "    </tr>\n",
       "  </thead>\n",
       "  <tbody>\n",
       "    <tr>\n",
       "      <th style=\"font-style: italic;\" ></th>\n",
       "      <td style=\"font-style: italic;\" >&lt;float64&gt;</td>\n",
       "    </tr>\n",
       "    <tr>\n",
       "      <th>0</th>\n",
       "      <td>97.311864</td>\n",
       "    </tr>\n",
       "  </tbody>\n",
       "</table>"
      ],
      "text/plain": [
       "         avg\n",
       "   <float64>\n",
       "0  97.311864"
      ]
     },
     "execution_count": 26,
     "metadata": {},
     "output_type": "execute_result"
    }
   ],
   "source": [
    "var = \"mass\"\n",
    "starwars >> summarise(avg = mean(f[var], na_rm = TRUE))"
   ]
  }
 ],
 "metadata": {
  "interpreter": {
   "hash": "c4cc73b080e063fcebb9afb794613be7caf4b26129562cba1382945a18cc49cc"
  },
  "kernelspec": {
   "display_name": "Python 3.7.8 64-bit ('base': conda)",
   "name": "python3"
  },
  "language_info": {
   "codemirror_mode": {
    "name": "ipython",
    "version": 3
   },
   "file_extension": ".py",
   "mimetype": "text/x-python",
   "name": "python",
   "nbconvert_exporter": "python",
   "pygments_lexer": "ipython3",
   "version": "3.7.8"
  }
 },
 "nbformat": 4,
 "nbformat_minor": 5
}