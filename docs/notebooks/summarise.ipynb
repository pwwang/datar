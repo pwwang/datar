{
 "cells": [
  {
   "cell_type": "code",
   "execution_count": 1,
   "id": "4ba9dd17",
   "metadata": {
    "execution": {
     "iopub.execute_input": "2021-07-16T22:27:30.653194Z",
     "iopub.status.busy": "2021-07-16T22:27:30.652556Z",
     "iopub.status.idle": "2021-07-16T22:27:33.410785Z",
     "shell.execute_reply": "2021-07-16T22:27:33.411264Z"
    }
   },
   "outputs": [
    {
     "name": "stderr",
     "output_type": "stream",
     "text": [
      "[2021-07-16 15:27:32][datar][WARNING] Builtin name \"min\" has been overriden by datar.\n",
      "[2021-07-16 15:27:32][datar][WARNING] Builtin name \"max\" has been overriden by datar.\n",
      "[2021-07-16 15:27:32][datar][WARNING] Builtin name \"sum\" has been overriden by datar.\n",
      "[2021-07-16 15:27:32][datar][WARNING] Builtin name \"abs\" has been overriden by datar.\n",
      "[2021-07-16 15:27:32][datar][WARNING] Builtin name \"round\" has been overriden by datar.\n",
      "[2021-07-16 15:27:32][datar][WARNING] Builtin name \"all\" has been overriden by datar.\n",
      "[2021-07-16 15:27:32][datar][WARNING] Builtin name \"any\" has been overriden by datar.\n",
      "[2021-07-16 15:27:32][datar][WARNING] Builtin name \"re\" has been overriden by datar.\n",
      "[2021-07-16 15:27:32][datar][WARNING] Builtin name \"filter\" has been overriden by datar.\n",
      "[2021-07-16 15:27:32][datar][WARNING] Builtin name \"slice\" has been overriden by datar.\n"
     ]
    },
    {
     "data": {
      "text/html": [
       "<div style=\"text-align: right; text-style: italic\">Try this notebook on <a target=\"_blank\" href=\"https://mybinder.org/v2/gh/pwwang/datar/93d069f3ca36711fc811c61dcf60e9fc3d1460a5?filepath=docs%2Fnotebooks%2Fsummarise.ipynb\">binder</a>.</div>"
      ],
      "text/plain": [
       "<IPython.core.display.HTML object>"
      ]
     },
     "metadata": {},
     "output_type": "display_data"
    },
    {
     "data": {
      "text/markdown": [
       "### # summarise  "
      ],
      "text/plain": [
       "<IPython.core.display.Markdown object>"
      ]
     },
     "metadata": {},
     "output_type": "display_data"
    },
    {
     "data": {
      "text/markdown": [
       "##### Summarise each group to fewer rows\n",
       "\n",
       "See https://dplyr.tidyverse.org/reference/summarise.html  \n",
       "\n",
       "Both input and the summarised data can be recycled, but separately.  \n",
       "\n",
       "Aliases - `summarize`  \n",
       "\n",
       "##### Examples:\n",
       "&emsp;&emsp;>>> df = tibble(x=[1,2,3,4])  \n",
       "&emsp;&emsp;>>> df >> summarise(y=sum(f.x), z=f.y*2)  \n",
       "&emsp;&emsp;>>> #   y  z  \n",
       "&emsp;&emsp;>>> # 0 10 20  \n",
       "&emsp;&emsp;>>> df >> summarise(y=sum(f.x), z=f.x+f.y) # fail  \n",
       "\n",
       "&emsp;&emsp;But they should not be mixed in later argument. For example:  \n",
       "&emsp;&emsp;>>> df = tibble(x=[1,2,3,4], g=list('aabb')) >> group_by(f.g)  \n",
       "&emsp;&emsp;>>> df >> summarise(n=n() + f.x)  \n",
       "&emsp;&emsp;>>> # as expected:  \n",
       "&emsp;&emsp;>>>      g  n  \n",
       "&emsp;&emsp;>>> # 0  a  3  \n",
       "&emsp;&emsp;>>> # 1  a  4  \n",
       "&emsp;&emsp;>>> # 2  b  5  \n",
       "&emsp;&emsp;>>> # 3  b  6  \n",
       "&emsp;&emsp;>>> # [Groups: ['g'] (n=2)]  \n",
       "&emsp;&emsp;>>> # However:  \n",
       "&emsp;&emsp;>>> df >> summarise(y=1, n=n() + f.y)  \n",
       "&emsp;&emsp;>>> # n() will be recycling output instead of input  \n",
       "&emsp;&emsp;>>> #    g  y  n  \n",
       "&emsp;&emsp;>>> # 0  a  1  2  \n",
       "&emsp;&emsp;>>> # 1  b  1  2  \n",
       "\n",
       "##### Args:\n",
       "&emsp;&emsp;`_groups`: Grouping structure of the result.  \n",
       "&emsp;&emsp;&emsp;&emsp;- \"drop_last\": dropping the last level of grouping.\n",
       "\n",
       "&emsp;&emsp;&emsp;&emsp;- \"drop\": All levels of grouping are dropped.\n",
       "\n",
       "&emsp;&emsp;&emsp;&emsp;- \"keep\": Same grouping structure as _data.\n",
       "\n",
       "&emsp;&emsp;&emsp;&emsp;- \"rowwise\": Each row is its own group.\n",
       "\n",
       "&emsp;&emsp;*args, **kwargs: Name-value pairs, where value is the summarized  \n",
       "&emsp;&emsp;&emsp;&emsp;data for each group  \n",
       "\n",
       "##### Returns:\n",
       "&emsp;&emsp;The summary dataframe.  \n"
      ],
      "text/plain": [
       "<IPython.core.display.Markdown object>"
      ]
     },
     "metadata": {},
     "output_type": "display_data"
    }
   ],
   "source": [
    "# https://dplyr.tidyverse.org/reference/summarise.html\n",
    "\n",
    "from datar.datasets import mtcars, starwars\n",
    "from datar.all import *\n",
    "\n",
    "%run nb_helpers.py\n",
    "nb_header(summarise)"
   ]
  },
  {
   "cell_type": "code",
   "execution_count": 2,
   "id": "193d02c5",
   "metadata": {
    "execution": {
     "iopub.execute_input": "2021-07-16T22:27:33.468439Z",
     "iopub.status.busy": "2021-07-16T22:27:33.465218Z",
     "iopub.status.idle": "2021-07-16T22:27:33.487717Z",
     "shell.execute_reply": "2021-07-16T22:27:33.490086Z"
    }
   },
   "outputs": [
    {
     "data": {
      "text/html": [
       "<table border=\"1\" class=\"dataframe\">\n",
       "  <thead>\n",
       "    <tr style=\"text-align: right;\">\n",
       "      <th></th>\n",
       "      <th>mean</th>\n",
       "      <th>n</th>\n",
       "    </tr>\n",
       "  </thead>\n",
       "  <tbody>\n",
       "    <tr>\n",
       "      <th style=\"font-style: italic;\" ></th>\n",
       "      <td style=\"font-style: italic;\" >&lt;float64&gt;</td>\n",
       "      <td style=\"font-style: italic;\" >&lt;int64&gt;</td>\n",
       "    </tr>\n",
       "    <tr>\n",
       "      <th>0</th>\n",
       "      <td>230.721875</td>\n",
       "      <td>32</td>\n",
       "    </tr>\n",
       "  </tbody>\n",
       "</table>"
      ],
      "text/plain": [
       "         mean       n\n",
       "    <float64> <int64>\n",
       "0  230.721875      32"
      ]
     },
     "execution_count": 1,
     "metadata": {},
     "output_type": "execute_result"
    }
   ],
   "source": [
    "mtcars >> summarise(mean=mean(f.disp), n=n())"
   ]
  },
  {
   "cell_type": "code",
   "execution_count": 3,
   "id": "0f48dddc",
   "metadata": {
    "execution": {
     "iopub.execute_input": "2021-07-16T22:27:33.498734Z",
     "iopub.status.busy": "2021-07-16T22:27:33.497950Z",
     "iopub.status.idle": "2021-07-16T22:27:33.637631Z",
     "shell.execute_reply": "2021-07-16T22:27:33.638084Z"
    }
   },
   "outputs": [
    {
     "data": {
      "text/html": [
       "<table border=\"1\" class=\"dataframe\">\n",
       "  <thead>\n",
       "    <tr style=\"text-align: right;\">\n",
       "      <th></th>\n",
       "      <th>cyl</th>\n",
       "      <th>mean</th>\n",
       "      <th>n</th>\n",
       "    </tr>\n",
       "  </thead>\n",
       "  <tbody>\n",
       "    <tr>\n",
       "      <th style=\"font-style: italic;\" ></th>\n",
       "      <td style=\"font-style: italic;\" >&lt;int64&gt;</td>\n",
       "      <td style=\"font-style: italic;\" >&lt;float64&gt;</td>\n",
       "      <td style=\"font-style: italic;\" >&lt;int64&gt;</td>\n",
       "    </tr>\n",
       "    <tr>\n",
       "      <th>0</th>\n",
       "      <td>4</td>\n",
       "      <td>105.136364</td>\n",
       "      <td>11</td>\n",
       "    </tr>\n",
       "    <tr>\n",
       "      <th>1</th>\n",
       "      <td>6</td>\n",
       "      <td>183.314286</td>\n",
       "      <td>7</td>\n",
       "    </tr>\n",
       "    <tr>\n",
       "      <th>2</th>\n",
       "      <td>8</td>\n",
       "      <td>353.100000</td>\n",
       "      <td>14</td>\n",
       "    </tr>\n",
       "  </tbody>\n",
       "</table>"
      ],
      "text/plain": [
       "      cyl        mean       n\n",
       "  <int64>   <float64> <int64>\n",
       "0       4  105.136364      11\n",
       "1       6  183.314286       7\n",
       "2       8  353.100000      14"
      ]
     },
     "execution_count": 1,
     "metadata": {},
     "output_type": "execute_result"
    }
   ],
   "source": [
    "mtcars >> \\\n",
    "  group_by(f.cyl) >> \\\n",
    "  summarise(mean=mean(f.disp), n=n()) "
   ]
  },
  {
   "cell_type": "code",
   "execution_count": 4,
   "id": "96d1660d",
   "metadata": {
    "execution": {
     "iopub.execute_input": "2021-07-16T22:27:33.678462Z",
     "iopub.status.busy": "2021-07-16T22:27:33.677889Z",
     "iopub.status.idle": "2021-07-16T22:27:33.723973Z",
     "shell.execute_reply": "2021-07-16T22:27:33.724468Z"
    }
   },
   "outputs": [
    {
     "name": "stderr",
     "output_type": "stream",
     "text": [
      "[2021-07-16 15:27:33][datar][   INFO] `summarise()` has grouped output by ['cyl'] (override with `_groups` argument)\n"
     ]
    },
    {
     "data": {
      "text/html": [
       "<table border=\"1\" class=\"dataframe\">\n",
       "  <thead>\n",
       "    <tr style=\"text-align: right;\">\n",
       "      <th></th>\n",
       "      <th>cyl</th>\n",
       "      <th>qs</th>\n",
       "      <th>prob</th>\n",
       "    </tr>\n",
       "  </thead>\n",
       "  <tbody>\n",
       "    <tr>\n",
       "      <th style=\"font-style: italic;\" ></th>\n",
       "      <td style=\"font-style: italic;\" >&lt;int64&gt;</td>\n",
       "      <td style=\"font-style: italic;\" >&lt;float64&gt;</td>\n",
       "      <td style=\"font-style: italic;\" >&lt;float64&gt;</td>\n",
       "    </tr>\n",
       "    <tr>\n",
       "      <th>0</th>\n",
       "      <td>4</td>\n",
       "      <td>78.85</td>\n",
       "      <td>0.25</td>\n",
       "    </tr>\n",
       "    <tr>\n",
       "      <th>1</th>\n",
       "      <td>6</td>\n",
       "      <td>160.00</td>\n",
       "      <td>0.25</td>\n",
       "    </tr>\n",
       "    <tr>\n",
       "      <th>2</th>\n",
       "      <td>8</td>\n",
       "      <td>301.75</td>\n",
       "      <td>0.25</td>\n",
       "    </tr>\n",
       "    <tr>\n",
       "      <th>3</th>\n",
       "      <td>4</td>\n",
       "      <td>120.65</td>\n",
       "      <td>0.75</td>\n",
       "    </tr>\n",
       "    <tr>\n",
       "      <th>4</th>\n",
       "      <td>6</td>\n",
       "      <td>196.30</td>\n",
       "      <td>0.75</td>\n",
       "    </tr>\n",
       "    <tr>\n",
       "      <th>5</th>\n",
       "      <td>8</td>\n",
       "      <td>390.00</td>\n",
       "      <td>0.75</td>\n",
       "    </tr>\n",
       "  </tbody>\n",
       "</table>\n",
       "<p>Groups: ['cyl'] (n=3)</p>"
      ],
      "text/plain": [
       "      cyl        qs      prob\n",
       "  <int64> <float64> <float64>\n",
       "0       4     78.85      0.25\n",
       "1       6    160.00      0.25\n",
       "2       8    301.75      0.25\n",
       "3       4    120.65      0.75\n",
       "4       6    196.30      0.75\n",
       "5       8    390.00      0.75\n",
       "\n",
       "[Groups: cyl (n=3)]"
      ]
     },
     "execution_count": 1,
     "metadata": {},
     "output_type": "execute_result"
    }
   ],
   "source": [
    "mtcars >> \\\n",
    "   group_by(f.cyl) >> \\\n",
    "   summarise(qs=quantile(f.disp, c(0.25, 0.75)), prob=c(0.25, 0.75)) "
   ]
  },
  {
   "cell_type": "code",
   "execution_count": 5,
   "id": "4e64de5a",
   "metadata": {
    "execution": {
     "iopub.execute_input": "2021-07-16T22:27:33.770702Z",
     "iopub.status.busy": "2021-07-16T22:27:33.770156Z",
     "iopub.status.idle": "2021-07-16T22:27:33.777651Z",
     "shell.execute_reply": "2021-07-16T22:27:33.778278Z"
    }
   },
   "outputs": [
    {
     "data": {
      "text/html": [
       "<table border=\"1\" class=\"dataframe\">\n",
       "  <thead>\n",
       "    <tr style=\"text-align: right;\">\n",
       "      <th></th>\n",
       "      <th>cyl</th>\n",
       "      <th>qs</th>\n",
       "      <th>prob</th>\n",
       "    </tr>\n",
       "  </thead>\n",
       "  <tbody>\n",
       "    <tr>\n",
       "      <th style=\"font-style: italic;\" ></th>\n",
       "      <td style=\"font-style: italic;\" >&lt;int64&gt;</td>\n",
       "      <td style=\"font-style: italic;\" >&lt;float64&gt;</td>\n",
       "      <td style=\"font-style: italic;\" >&lt;float64&gt;</td>\n",
       "    </tr>\n",
       "    <tr>\n",
       "      <th>0</th>\n",
       "      <td>4</td>\n",
       "      <td>78.85</td>\n",
       "      <td>0.25</td>\n",
       "    </tr>\n",
       "    <tr>\n",
       "      <th>1</th>\n",
       "      <td>6</td>\n",
       "      <td>160.00</td>\n",
       "      <td>0.25</td>\n",
       "    </tr>\n",
       "    <tr>\n",
       "      <th>2</th>\n",
       "      <td>8</td>\n",
       "      <td>301.75</td>\n",
       "      <td>0.25</td>\n",
       "    </tr>\n",
       "    <tr>\n",
       "      <th>3</th>\n",
       "      <td>4</td>\n",
       "      <td>120.65</td>\n",
       "      <td>0.75</td>\n",
       "    </tr>\n",
       "    <tr>\n",
       "      <th>4</th>\n",
       "      <td>6</td>\n",
       "      <td>196.30</td>\n",
       "      <td>0.75</td>\n",
       "    </tr>\n",
       "    <tr>\n",
       "      <th>5</th>\n",
       "      <td>8</td>\n",
       "      <td>390.00</td>\n",
       "      <td>0.75</td>\n",
       "    </tr>\n",
       "  </tbody>\n",
       "</table>\n",
       "<p>Groups: ['cyl'] (n=3)</p>"
      ],
      "text/plain": [
       "      cyl        qs      prob\n",
       "  <int64> <float64> <float64>\n",
       "0       4     78.85      0.25\n",
       "1       6    160.00      0.25\n",
       "2       8    301.75      0.25\n",
       "3       4    120.65      0.75\n",
       "4       6    196.30      0.75\n",
       "5       8    390.00      0.75\n",
       "\n",
       "[Groups: cyl (n=3)]"
      ]
     },
     "execution_count": 1,
     "metadata": {},
     "output_type": "execute_result"
    }
   ],
   "source": [
    "with options_context(dplyr_summarise_inform=False):\n",
    "    mtcars >> \\\n",
    "        group_by(f.cyl) >> \\\n",
    "        summarise(qs=quantile(f.disp, c(0.25, 0.75)), prob=c(0.25, 0.75)) "
   ]
  },
  {
   "cell_type": "code",
   "execution_count": 6,
   "id": "0940b6e5",
   "metadata": {
    "execution": {
     "iopub.execute_input": "2021-07-16T22:27:33.810597Z",
     "iopub.status.busy": "2021-07-16T22:27:33.810033Z",
     "iopub.status.idle": "2021-07-16T22:27:34.105099Z",
     "shell.execute_reply": "2021-07-16T22:27:34.105616Z"
    }
   },
   "outputs": [
    {
     "name": "stderr",
     "output_type": "stream",
     "text": [
      "[2021-07-16 15:27:34][datar][   INFO] `summarise()` has grouped output by ['cyl'] (override with `_groups` argument)\n"
     ]
    },
    {
     "data": {
      "text/html": [
       "<table border=\"1\" class=\"dataframe\">\n",
       "  <thead>\n",
       "    <tr style=\"text-align: right;\">\n",
       "      <th></th>\n",
       "      <th>cyl</th>\n",
       "      <th>x</th>\n",
       "      <th>probs</th>\n",
       "    </tr>\n",
       "  </thead>\n",
       "  <tbody>\n",
       "    <tr>\n",
       "      <th style=\"font-style: italic;\" ></th>\n",
       "      <td style=\"font-style: italic;\" >&lt;int64&gt;</td>\n",
       "      <td style=\"font-style: italic;\" >&lt;float64&gt;</td>\n",
       "      <td style=\"font-style: italic;\" >&lt;float64&gt;</td>\n",
       "    </tr>\n",
       "    <tr>\n",
       "      <th>0</th>\n",
       "      <td>4</td>\n",
       "      <td>78.85</td>\n",
       "      <td>0.25</td>\n",
       "    </tr>\n",
       "    <tr>\n",
       "      <th>1</th>\n",
       "      <td>6</td>\n",
       "      <td>160.00</td>\n",
       "      <td>0.25</td>\n",
       "    </tr>\n",
       "    <tr>\n",
       "      <th>2</th>\n",
       "      <td>8</td>\n",
       "      <td>301.75</td>\n",
       "      <td>0.25</td>\n",
       "    </tr>\n",
       "    <tr>\n",
       "      <th>3</th>\n",
       "      <td>4</td>\n",
       "      <td>120.65</td>\n",
       "      <td>0.75</td>\n",
       "    </tr>\n",
       "    <tr>\n",
       "      <th>4</th>\n",
       "      <td>6</td>\n",
       "      <td>196.30</td>\n",
       "      <td>0.75</td>\n",
       "    </tr>\n",
       "    <tr>\n",
       "      <th>5</th>\n",
       "      <td>8</td>\n",
       "      <td>390.00</td>\n",
       "      <td>0.75</td>\n",
       "    </tr>\n",
       "  </tbody>\n",
       "</table>\n",
       "<p>Groups: ['cyl'] (n=3)</p>"
      ],
      "text/plain": [
       "      cyl         x     probs\n",
       "  <int64> <float64> <float64>\n",
       "0       4     78.85      0.25\n",
       "1       6    160.00      0.25\n",
       "2       8    301.75      0.25\n",
       "3       4    120.65      0.75\n",
       "4       6    196.30      0.75\n",
       "5       8    390.00      0.75\n",
       "\n",
       "[Groups: cyl (n=3)]"
      ]
     },
     "execution_count": 1,
     "metadata": {},
     "output_type": "execute_result"
    }
   ],
   "source": [
    "from pipda import register_func, Context\n",
    "\n",
    "def my_quantile(x, probs):\n",
    "  return tibble(x=quantile(x, probs), probs = probs)\n",
    "\n",
    "my_quantile = register_func(None, context=Context.EVAL, func=my_quantile)\n",
    "\n",
    "mtcars >> \\\n",
    "  group_by(f.cyl) >> \\\n",
    "  summarise(my_quantile(f.disp, c(0.25, 0.75))) \n"
   ]
  },
  {
   "cell_type": "code",
   "execution_count": 7,
   "id": "e5098761",
   "metadata": {
    "execution": {
     "iopub.execute_input": "2021-07-16T22:27:34.152815Z",
     "iopub.status.busy": "2021-07-16T22:27:34.150055Z",
     "iopub.status.idle": "2021-07-16T22:27:34.225066Z",
     "shell.execute_reply": "2021-07-16T22:27:34.225477Z"
    }
   },
   "outputs": [
    {
     "name": "stderr",
     "output_type": "stream",
     "text": [
      "[2021-07-16 15:27:34][datar][   INFO] `summarise()` has grouped output by ['cyl'] (override with `_groups` argument)\n"
     ]
    },
    {
     "data": {
      "text/plain": [
       "['cyl']"
      ]
     },
     "execution_count": 1,
     "metadata": {},
     "output_type": "execute_result"
    }
   ],
   "source": [
    "mtcars >> \\\n",
    "  group_by(f.cyl, f.vs) >> \\\n",
    "  summarise(cyl_n = n()) >> \\\n",
    "  group_vars()"
   ]
  },
  {
   "cell_type": "code",
   "execution_count": 8,
   "id": "01a62149",
   "metadata": {
    "execution": {
     "iopub.execute_input": "2021-07-16T22:27:34.254608Z",
     "iopub.status.busy": "2021-07-16T22:27:34.253050Z",
     "iopub.status.idle": "2021-07-16T22:27:34.259957Z",
     "shell.execute_reply": "2021-07-16T22:27:34.260364Z"
    }
   },
   "outputs": [
    {
     "data": {
      "text/html": [
       "<table border=\"1\" class=\"dataframe\">\n",
       "  <thead>\n",
       "    <tr style=\"text-align: right;\">\n",
       "      <th></th>\n",
       "      <th>cyl</th>\n",
       "      <th>disp</th>\n",
       "      <th>sd</th>\n",
       "    </tr>\n",
       "  </thead>\n",
       "  <tbody>\n",
       "    <tr>\n",
       "      <th style=\"font-style: italic;\" ></th>\n",
       "      <td style=\"font-style: italic;\" >&lt;int64&gt;</td>\n",
       "      <td style=\"font-style: italic;\" >&lt;float64&gt;</td>\n",
       "      <td style=\"font-style: italic;\" >&lt;float64&gt;</td>\n",
       "    </tr>\n",
       "    <tr>\n",
       "      <th>0</th>\n",
       "      <td>6</td>\n",
       "      <td>183.314286</td>\n",
       "      <td>41.562460</td>\n",
       "    </tr>\n",
       "    <tr>\n",
       "      <th>1</th>\n",
       "      <td>4</td>\n",
       "      <td>105.136364</td>\n",
       "      <td>26.871594</td>\n",
       "    </tr>\n",
       "    <tr>\n",
       "      <th>2</th>\n",
       "      <td>8</td>\n",
       "      <td>353.100000</td>\n",
       "      <td>67.771324</td>\n",
       "    </tr>\n",
       "  </tbody>\n",
       "</table>"
      ],
      "text/plain": [
       "      cyl        disp         sd\n",
       "  <int64>   <float64>  <float64>\n",
       "0       6  183.314286  41.562460\n",
       "1       4  105.136364  26.871594\n",
       "2       8  353.100000  67.771324"
      ]
     },
     "execution_count": 1,
     "metadata": {},
     "output_type": "execute_result"
    }
   ],
   "source": [
    "# Unlike dplyr's summarise, f.disp can be reused.\n",
    "mtcars >> \\\n",
    "  group_by(f.cyl) >> \\\n",
    "  summarise(disp=mean(f.disp), sd=sd(f.disp)) "
   ]
  },
  {
   "cell_type": "code",
   "execution_count": 9,
   "id": "d2f97ff6",
   "metadata": {
    "execution": {
     "iopub.execute_input": "2021-07-16T22:27:34.297444Z",
     "iopub.status.busy": "2021-07-16T22:27:34.296691Z",
     "iopub.status.idle": "2021-07-16T22:27:34.306716Z",
     "shell.execute_reply": "2021-07-16T22:27:34.307142Z"
    }
   },
   "outputs": [
    {
     "data": {
      "text/html": [
       "<table border=\"1\" class=\"dataframe\">\n",
       "  <thead>\n",
       "    <tr style=\"text-align: right;\">\n",
       "      <th></th>\n",
       "      <th>cyl</th>\n",
       "      <th>disp_m2</th>\n",
       "    </tr>\n",
       "  </thead>\n",
       "  <tbody>\n",
       "    <tr>\n",
       "      <th style=\"font-style: italic;\" ></th>\n",
       "      <td style=\"font-style: italic;\" >&lt;int64&gt;</td>\n",
       "      <td style=\"font-style: italic;\" >&lt;float64&gt;</td>\n",
       "    </tr>\n",
       "    <tr>\n",
       "      <th>0</th>\n",
       "      <td>4</td>\n",
       "      <td>210.272727</td>\n",
       "    </tr>\n",
       "    <tr>\n",
       "      <th>1</th>\n",
       "      <td>6</td>\n",
       "      <td>366.628571</td>\n",
       "    </tr>\n",
       "    <tr>\n",
       "      <th>2</th>\n",
       "      <td>8</td>\n",
       "      <td>706.200000</td>\n",
       "    </tr>\n",
       "  </tbody>\n",
       "</table>"
      ],
      "text/plain": [
       "      cyl     disp_m2\n",
       "  <int64>   <float64>\n",
       "0       4  210.272727\n",
       "1       6  366.628571\n",
       "2       8  706.200000"
      ]
     },
     "execution_count": 1,
     "metadata": {},
     "output_type": "execute_result"
    }
   ],
   "source": [
    "# Create temporary variable\n",
    "mtcars >> \\\n",
    "  group_by(f.cyl) >> \\\n",
    "  summarise(disp_m2_=mean(f.disp), disp_m2=f.disp_m2 * 2) "
   ]
  },
  {
   "cell_type": "code",
   "execution_count": 10,
   "id": "f4bd8382",
   "metadata": {
    "execution": {
     "iopub.execute_input": "2021-07-16T22:27:34.322222Z",
     "iopub.status.busy": "2021-07-16T22:27:34.321493Z",
     "iopub.status.idle": "2021-07-16T22:27:34.328938Z",
     "shell.execute_reply": "2021-07-16T22:27:34.329394Z"
    }
   },
   "outputs": [
    {
     "data": {
      "text/html": [
       "<table border=\"1\" class=\"dataframe\">\n",
       "  <thead>\n",
       "    <tr style=\"text-align: right;\">\n",
       "      <th></th>\n",
       "      <th>avg</th>\n",
       "    </tr>\n",
       "  </thead>\n",
       "  <tbody>\n",
       "    <tr>\n",
       "      <th style=\"font-style: italic;\" ></th>\n",
       "      <td style=\"font-style: italic;\" >&lt;float64&gt;</td>\n",
       "    </tr>\n",
       "    <tr>\n",
       "      <th>0</th>\n",
       "      <td>97.311864</td>\n",
       "    </tr>\n",
       "  </tbody>\n",
       "</table>"
      ],
      "text/plain": [
       "         avg\n",
       "   <float64>\n",
       "0  97.311864"
      ]
     },
     "execution_count": 1,
     "metadata": {},
     "output_type": "execute_result"
    }
   ],
   "source": [
    "var = \"mass\"\n",
    "starwars >> summarise(avg = mean(f[var], na_rm = TRUE))"
   ]
  }
 ],
 "metadata": {
  "interpreter": {
   "hash": "c4cc73b080e063fcebb9afb794613be7caf4b26129562cba1382945a18cc49cc"
  },
  "kernelspec": {
   "display_name": "Python 3.7.8 64-bit ('base': conda)",
   "name": "python3"
  },
  "language_info": {
   "codemirror_mode": {
    "name": "ipython",
    "version": 3
   },
   "file_extension": ".py",
   "mimetype": "text/x-python",
   "name": "python",
   "nbconvert_exporter": "python",
   "pygments_lexer": "ipython3",
   "version": "3.7.8"
  }
 },
 "nbformat": 4,
 "nbformat_minor": 5
}
