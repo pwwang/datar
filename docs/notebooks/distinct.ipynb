{
 "cells": [
  {
   "cell_type": "code",
   "execution_count": 1,
   "id": "incoming-criminal",
   "metadata": {
    "execution": {
     "iopub.execute_input": "2021-07-16T22:28:01.856078Z",
     "iopub.status.busy": "2021-07-16T22:28:01.855450Z",
     "iopub.status.idle": "2021-07-16T22:28:02.766193Z",
     "shell.execute_reply": "2021-07-16T22:28:02.766583Z"
    }
   },
   "outputs": [
    {
     "name": "stderr",
     "output_type": "stream",
     "text": [
      "[2021-07-16 15:28:02][datar][WARNING] Builtin name \"min\" has been overriden by datar.\n",
      "[2021-07-16 15:28:02][datar][WARNING] Builtin name \"max\" has been overriden by datar.\n",
      "[2021-07-16 15:28:02][datar][WARNING] Builtin name \"sum\" has been overriden by datar.\n",
      "[2021-07-16 15:28:02][datar][WARNING] Builtin name \"abs\" has been overriden by datar.\n",
      "[2021-07-16 15:28:02][datar][WARNING] Builtin name \"round\" has been overriden by datar.\n",
      "[2021-07-16 15:28:02][datar][WARNING] Builtin name \"all\" has been overriden by datar.\n",
      "[2021-07-16 15:28:02][datar][WARNING] Builtin name \"any\" has been overriden by datar.\n",
      "[2021-07-16 15:28:02][datar][WARNING] Builtin name \"re\" has been overriden by datar.\n",
      "[2021-07-16 15:28:02][datar][WARNING] Builtin name \"filter\" has been overriden by datar.\n",
      "[2021-07-16 15:28:02][datar][WARNING] Builtin name \"slice\" has been overriden by datar.\n"
     ]
    },
    {
     "data": {
      "text/html": [
       "<div style=\"text-align: right; text-style: italic\">Try this notebook on <a target=\"_blank\" href=\"https://mybinder.org/v2/gh/pwwang/datar/93d069f3ca36711fc811c61dcf60e9fc3d1460a5?filepath=docs%2Fnotebooks%2Fdistinct.ipynb\">binder</a>.</div>"
      ],
      "text/plain": [
       "<IPython.core.display.HTML object>"
      ]
     },
     "metadata": {},
     "output_type": "display_data"
    },
    {
     "data": {
      "text/markdown": [
       "### # distinct  "
      ],
      "text/plain": [
       "<IPython.core.display.Markdown object>"
      ]
     },
     "metadata": {},
     "output_type": "display_data"
    },
    {
     "data": {
      "text/markdown": [
       "##### Select only unique/distinct rows from a data frame.\n",
       "\n",
       "The original API:  \n",
       "https://dplyr.tidyverse.org/reference/distinct.html  \n",
       "\n",
       "##### Args:\n",
       "&emsp;&emsp;`_data`: The dataframe  \n",
       "&emsp;&emsp;`*args`: and  \n",
       "&emsp;&emsp;`**kwargs`: Optional variables to use when determining  \n",
       "&emsp;&emsp;&emsp;&emsp;uniqueness.  \n",
       "\n",
       "&emsp;&emsp;`_keep_all`: If TRUE, keep all variables in _data  \n",
       "\n",
       "##### Returns:\n",
       "&emsp;&emsp;A dataframe without duplicated rows in _data  \n"
      ],
      "text/plain": [
       "<IPython.core.display.Markdown object>"
      ]
     },
     "metadata": {},
     "output_type": "display_data"
    },
    {
     "data": {
      "text/markdown": [
       "### # n_distinct  "
      ],
      "text/plain": [
       "<IPython.core.display.Markdown object>"
      ]
     },
     "metadata": {},
     "output_type": "display_data"
    },
    {
     "data": {
      "text/markdown": [
       "##### Get the length of distince elements\n"
      ],
      "text/plain": [
       "<IPython.core.display.Markdown object>"
      ]
     },
     "metadata": {},
     "output_type": "display_data"
    }
   ],
   "source": [
    "# https://dplyr.tidyverse.org/reference/distinct.html\n",
    "from datar.datasets import starwars\n",
    "from datar.all import *\n",
    "\n",
    "%run nb_helpers.py\n",
    "nb_header(distinct, n_distinct, book='distinct')"
   ]
  },
  {
   "cell_type": "code",
   "execution_count": 2,
   "id": "graduate-bonus",
   "metadata": {
    "execution": {
     "iopub.execute_input": "2021-07-16T22:28:02.778943Z",
     "iopub.status.busy": "2021-07-16T22:28:02.778340Z",
     "iopub.status.idle": "2021-07-16T22:28:02.916126Z",
     "shell.execute_reply": "2021-07-16T22:28:02.916559Z"
    }
   },
   "outputs": [
    {
     "data": {
      "text/plain": [
       "100"
      ]
     },
     "execution_count": 1,
     "metadata": {},
     "output_type": "execute_result"
    }
   ],
   "source": [
    "df = tibble(\n",
    "  x=sample(range(10), 100, replace=True),\n",
    "  y=sample(range(10), 100, replace=True)\n",
    ")\n",
    "nrow(df)"
   ]
  },
  {
   "cell_type": "code",
   "execution_count": 3,
   "id": "liable-measure",
   "metadata": {
    "execution": {
     "iopub.execute_input": "2021-07-16T22:28:02.965042Z",
     "iopub.status.busy": "2021-07-16T22:28:02.964300Z",
     "iopub.status.idle": "2021-07-16T22:28:02.972991Z",
     "shell.execute_reply": "2021-07-16T22:28:02.973410Z"
    }
   },
   "outputs": [
    {
     "data": {
      "text/plain": [
       "63"
      ]
     },
     "execution_count": 1,
     "metadata": {},
     "output_type": "execute_result"
    }
   ],
   "source": [
    "nrow(distinct(df))"
   ]
  },
  {
   "cell_type": "code",
   "execution_count": 4,
   "id": "weird-insight",
   "metadata": {
    "execution": {
     "iopub.execute_input": "2021-07-16T22:28:03.056160Z",
     "iopub.status.busy": "2021-07-16T22:28:03.052663Z",
     "iopub.status.idle": "2021-07-16T22:28:03.068917Z",
     "shell.execute_reply": "2021-07-16T22:28:03.069286Z"
    }
   },
   "outputs": [
    {
     "data": {
      "text/plain": [
       "63"
      ]
     },
     "execution_count": 1,
     "metadata": {},
     "output_type": "execute_result"
    }
   ],
   "source": [
    "df >> distinct(f.x, f.y) >> nrow()"
   ]
  },
  {
   "cell_type": "code",
   "execution_count": 5,
   "id": "terminal-label",
   "metadata": {
    "execution": {
     "iopub.execute_input": "2021-07-16T22:28:03.085467Z",
     "iopub.status.busy": "2021-07-16T22:28:03.084916Z",
     "iopub.status.idle": "2021-07-16T22:28:03.095546Z",
     "shell.execute_reply": "2021-07-16T22:28:03.095980Z"
    }
   },
   "outputs": [
    {
     "data": {
      "text/html": [
       "<table border=\"1\" class=\"dataframe\">\n",
       "  <thead>\n",
       "    <tr style=\"text-align: right;\">\n",
       "      <th></th>\n",
       "      <th>x</th>\n",
       "    </tr>\n",
       "  </thead>\n",
       "  <tbody>\n",
       "    <tr>\n",
       "      <th style=\"font-style: italic;\" ></th>\n",
       "      <td style=\"font-style: italic;\" >&lt;int64&gt;</td>\n",
       "    </tr>\n",
       "    <tr>\n",
       "      <th>0</th>\n",
       "      <td>4</td>\n",
       "    </tr>\n",
       "    <tr>\n",
       "      <th>1</th>\n",
       "      <td>5</td>\n",
       "    </tr>\n",
       "    <tr>\n",
       "      <th>2</th>\n",
       "      <td>6</td>\n",
       "    </tr>\n",
       "    <tr>\n",
       "      <th>3</th>\n",
       "      <td>0</td>\n",
       "    </tr>\n",
       "    <tr>\n",
       "      <th>4</th>\n",
       "      <td>8</td>\n",
       "    </tr>\n",
       "    <tr>\n",
       "      <th>5</th>\n",
       "      <td>1</td>\n",
       "    </tr>\n",
       "    <tr>\n",
       "      <th>6</th>\n",
       "      <td>2</td>\n",
       "    </tr>\n",
       "    <tr>\n",
       "      <th>7</th>\n",
       "      <td>7</td>\n",
       "    </tr>\n",
       "    <tr>\n",
       "      <th>8</th>\n",
       "      <td>3</td>\n",
       "    </tr>\n",
       "    <tr>\n",
       "      <th>9</th>\n",
       "      <td>9</td>\n",
       "    </tr>\n",
       "  </tbody>\n",
       "</table>"
      ],
      "text/plain": [
       "        x\n",
       "  <int64>\n",
       "0       4\n",
       "1       5\n",
       "2       6\n",
       "3       0\n",
       "4       8\n",
       "5       1\n",
       "6       2\n",
       "7       7\n",
       "8       3\n",
       "9       9"
      ]
     },
     "execution_count": 1,
     "metadata": {},
     "output_type": "execute_result"
    }
   ],
   "source": [
    "df >> distinct(f.x)"
   ]
  },
  {
   "cell_type": "code",
   "execution_count": 6,
   "id": "ignored-hearts",
   "metadata": {
    "execution": {
     "iopub.execute_input": "2021-07-16T22:28:03.115485Z",
     "iopub.status.busy": "2021-07-16T22:28:03.114717Z",
     "iopub.status.idle": "2021-07-16T22:28:03.202525Z",
     "shell.execute_reply": "2021-07-16T22:28:03.204951Z"
    }
   },
   "outputs": [
    {
     "data": {
      "text/html": [
       "<table border=\"1\" class=\"dataframe\">\n",
       "  <thead>\n",
       "    <tr style=\"text-align: right;\">\n",
       "      <th></th>\n",
       "      <th>y</th>\n",
       "    </tr>\n",
       "  </thead>\n",
       "  <tbody>\n",
       "    <tr>\n",
       "      <th style=\"font-style: italic;\" ></th>\n",
       "      <td style=\"font-style: italic;\" >&lt;int64&gt;</td>\n",
       "    </tr>\n",
       "    <tr>\n",
       "      <th>0</th>\n",
       "      <td>9</td>\n",
       "    </tr>\n",
       "    <tr>\n",
       "      <th>1</th>\n",
       "      <td>0</td>\n",
       "    </tr>\n",
       "    <tr>\n",
       "      <th>2</th>\n",
       "      <td>5</td>\n",
       "    </tr>\n",
       "    <tr>\n",
       "      <th>3</th>\n",
       "      <td>1</td>\n",
       "    </tr>\n",
       "    <tr>\n",
       "      <th>4</th>\n",
       "      <td>6</td>\n",
       "    </tr>\n",
       "    <tr>\n",
       "      <th>5</th>\n",
       "      <td>2</td>\n",
       "    </tr>\n",
       "    <tr>\n",
       "      <th>6</th>\n",
       "      <td>7</td>\n",
       "    </tr>\n",
       "    <tr>\n",
       "      <th>7</th>\n",
       "      <td>3</td>\n",
       "    </tr>\n",
       "    <tr>\n",
       "      <th>8</th>\n",
       "      <td>4</td>\n",
       "    </tr>\n",
       "    <tr>\n",
       "      <th>9</th>\n",
       "      <td>8</td>\n",
       "    </tr>\n",
       "  </tbody>\n",
       "</table>"
      ],
      "text/plain": [
       "        y\n",
       "  <int64>\n",
       "0       9\n",
       "1       0\n",
       "2       5\n",
       "3       1\n",
       "4       6\n",
       "5       2\n",
       "6       7\n",
       "7       3\n",
       "8       4\n",
       "9       8"
      ]
     },
     "execution_count": 1,
     "metadata": {},
     "output_type": "execute_result"
    }
   ],
   "source": [
    "df >> distinct(f.y)"
   ]
  },
  {
   "cell_type": "code",
   "execution_count": 7,
   "id": "reasonable-envelope",
   "metadata": {
    "execution": {
     "iopub.execute_input": "2021-07-16T22:28:03.244549Z",
     "iopub.status.busy": "2021-07-16T22:28:03.243874Z",
     "iopub.status.idle": "2021-07-16T22:28:03.262177Z",
     "shell.execute_reply": "2021-07-16T22:28:03.262613Z"
    }
   },
   "outputs": [
    {
     "data": {
      "text/html": [
       "<table border=\"1\" class=\"dataframe\">\n",
       "  <thead>\n",
       "    <tr style=\"text-align: right;\">\n",
       "      <th></th>\n",
       "      <th>x</th>\n",
       "      <th>y</th>\n",
       "    </tr>\n",
       "  </thead>\n",
       "  <tbody>\n",
       "    <tr>\n",
       "      <th style=\"font-style: italic;\" ></th>\n",
       "      <td style=\"font-style: italic;\" >&lt;int64&gt;</td>\n",
       "      <td style=\"font-style: italic;\" >&lt;int64&gt;</td>\n",
       "    </tr>\n",
       "    <tr>\n",
       "      <th>0</th>\n",
       "      <td>4</td>\n",
       "      <td>9</td>\n",
       "    </tr>\n",
       "    <tr>\n",
       "      <th>1</th>\n",
       "      <td>5</td>\n",
       "      <td>0</td>\n",
       "    </tr>\n",
       "    <tr>\n",
       "      <th>2</th>\n",
       "      <td>6</td>\n",
       "      <td>5</td>\n",
       "    </tr>\n",
       "    <tr>\n",
       "      <th>3</th>\n",
       "      <td>0</td>\n",
       "      <td>1</td>\n",
       "    </tr>\n",
       "    <tr>\n",
       "      <th>4</th>\n",
       "      <td>8</td>\n",
       "      <td>5</td>\n",
       "    </tr>\n",
       "    <tr>\n",
       "      <th>5</th>\n",
       "      <td>1</td>\n",
       "      <td>9</td>\n",
       "    </tr>\n",
       "    <tr>\n",
       "      <th>6</th>\n",
       "      <td>2</td>\n",
       "      <td>6</td>\n",
       "    </tr>\n",
       "    <tr>\n",
       "      <th>7</th>\n",
       "      <td>7</td>\n",
       "      <td>0</td>\n",
       "    </tr>\n",
       "    <tr>\n",
       "      <th>8</th>\n",
       "      <td>3</td>\n",
       "      <td>9</td>\n",
       "    </tr>\n",
       "    <tr>\n",
       "      <th>9</th>\n",
       "      <td>9</td>\n",
       "      <td>4</td>\n",
       "    </tr>\n",
       "  </tbody>\n",
       "</table>"
      ],
      "text/plain": [
       "        x       y\n",
       "  <int64> <int64>\n",
       "0       4       9\n",
       "1       5       0\n",
       "2       6       5\n",
       "3       0       1\n",
       "4       8       5\n",
       "5       1       9\n",
       "6       2       6\n",
       "7       7       0\n",
       "8       3       9\n",
       "9       9       4"
      ]
     },
     "execution_count": 1,
     "metadata": {},
     "output_type": "execute_result"
    }
   ],
   "source": [
    "df >> distinct(f.x, _keep_all=True)"
   ]
  },
  {
   "cell_type": "code",
   "execution_count": 8,
   "id": "historical-chapter",
   "metadata": {
    "execution": {
     "iopub.execute_input": "2021-07-16T22:28:03.283879Z",
     "iopub.status.busy": "2021-07-16T22:28:03.283009Z",
     "iopub.status.idle": "2021-07-16T22:28:03.296509Z",
     "shell.execute_reply": "2021-07-16T22:28:03.297024Z"
    }
   },
   "outputs": [
    {
     "data": {
      "text/html": [
       "<table border=\"1\" class=\"dataframe\">\n",
       "  <thead>\n",
       "    <tr style=\"text-align: right;\">\n",
       "      <th></th>\n",
       "      <th>x</th>\n",
       "      <th>y</th>\n",
       "    </tr>\n",
       "  </thead>\n",
       "  <tbody>\n",
       "    <tr>\n",
       "      <th style=\"font-style: italic;\" ></th>\n",
       "      <td style=\"font-style: italic;\" >&lt;int64&gt;</td>\n",
       "      <td style=\"font-style: italic;\" >&lt;int64&gt;</td>\n",
       "    </tr>\n",
       "    <tr>\n",
       "      <th>0</th>\n",
       "      <td>4</td>\n",
       "      <td>9</td>\n",
       "    </tr>\n",
       "    <tr>\n",
       "      <th>1</th>\n",
       "      <td>5</td>\n",
       "      <td>0</td>\n",
       "    </tr>\n",
       "    <tr>\n",
       "      <th>2</th>\n",
       "      <td>6</td>\n",
       "      <td>5</td>\n",
       "    </tr>\n",
       "    <tr>\n",
       "      <th>3</th>\n",
       "      <td>0</td>\n",
       "      <td>1</td>\n",
       "    </tr>\n",
       "    <tr>\n",
       "      <th>4</th>\n",
       "      <td>2</td>\n",
       "      <td>6</td>\n",
       "    </tr>\n",
       "    <tr>\n",
       "      <th>5</th>\n",
       "      <td>2</td>\n",
       "      <td>2</td>\n",
       "    </tr>\n",
       "    <tr>\n",
       "      <th>6</th>\n",
       "      <td>7</td>\n",
       "      <td>7</td>\n",
       "    </tr>\n",
       "    <tr>\n",
       "      <th>7</th>\n",
       "      <td>3</td>\n",
       "      <td>3</td>\n",
       "    </tr>\n",
       "    <tr>\n",
       "      <th>8</th>\n",
       "      <td>8</td>\n",
       "      <td>4</td>\n",
       "    </tr>\n",
       "    <tr>\n",
       "      <th>9</th>\n",
       "      <td>4</td>\n",
       "      <td>8</td>\n",
       "    </tr>\n",
       "  </tbody>\n",
       "</table>"
      ],
      "text/plain": [
       "        x       y\n",
       "  <int64> <int64>\n",
       "0       4       9\n",
       "1       5       0\n",
       "2       6       5\n",
       "3       0       1\n",
       "4       2       6\n",
       "5       2       2\n",
       "6       7       7\n",
       "7       3       3\n",
       "8       8       4\n",
       "9       4       8"
      ]
     },
     "execution_count": 1,
     "metadata": {},
     "output_type": "execute_result"
    }
   ],
   "source": [
    "df >> distinct(f.y, _keep_all=True)"
   ]
  },
  {
   "cell_type": "code",
   "execution_count": 9,
   "id": "short-output",
   "metadata": {
    "execution": {
     "iopub.execute_input": "2021-07-16T22:28:03.317929Z",
     "iopub.status.busy": "2021-07-16T22:28:03.317326Z",
     "iopub.status.idle": "2021-07-16T22:28:03.325870Z",
     "shell.execute_reply": "2021-07-16T22:28:03.326366Z"
    }
   },
   "outputs": [
    {
     "data": {
      "text/html": [
       "<table border=\"1\" class=\"dataframe\">\n",
       "  <thead>\n",
       "    <tr style=\"text-align: right;\">\n",
       "      <th></th>\n",
       "      <th>diff</th>\n",
       "    </tr>\n",
       "  </thead>\n",
       "  <tbody>\n",
       "    <tr>\n",
       "      <th style=\"font-style: italic;\" ></th>\n",
       "      <td style=\"font-style: italic;\" >&lt;int64&gt;</td>\n",
       "    </tr>\n",
       "    <tr>\n",
       "      <th>0</th>\n",
       "      <td>5</td>\n",
       "    </tr>\n",
       "    <tr>\n",
       "      <th>1</th>\n",
       "      <td>1</td>\n",
       "    </tr>\n",
       "    <tr>\n",
       "      <th>2</th>\n",
       "      <td>3</td>\n",
       "    </tr>\n",
       "    <tr>\n",
       "      <th>3</th>\n",
       "      <td>8</td>\n",
       "    </tr>\n",
       "    <tr>\n",
       "      <th>4</th>\n",
       "      <td>0</td>\n",
       "    </tr>\n",
       "    <tr>\n",
       "      <th>5</th>\n",
       "      <td>4</td>\n",
       "    </tr>\n",
       "    <tr>\n",
       "      <th>6</th>\n",
       "      <td>7</td>\n",
       "    </tr>\n",
       "    <tr>\n",
       "      <th>7</th>\n",
       "      <td>6</td>\n",
       "    </tr>\n",
       "    <tr>\n",
       "      <th>8</th>\n",
       "      <td>2</td>\n",
       "    </tr>\n",
       "    <tr>\n",
       "      <th>9</th>\n",
       "      <td>9</td>\n",
       "    </tr>\n",
       "  </tbody>\n",
       "</table>"
      ],
      "text/plain": [
       "     diff\n",
       "  <int64>\n",
       "0       5\n",
       "1       1\n",
       "2       3\n",
       "3       8\n",
       "4       0\n",
       "5       4\n",
       "6       7\n",
       "7       6\n",
       "8       2\n",
       "9       9"
      ]
     },
     "execution_count": 1,
     "metadata": {},
     "output_type": "execute_result"
    }
   ],
   "source": [
    "df >> distinct(diff=abs(f.x-f.y))"
   ]
  },
  {
   "cell_type": "code",
   "execution_count": 10,
   "id": "possible-tours",
   "metadata": {
    "execution": {
     "iopub.execute_input": "2021-07-16T22:28:03.394487Z",
     "iopub.status.busy": "2021-07-16T22:28:03.393835Z",
     "iopub.status.idle": "2021-07-16T22:28:03.401685Z",
     "shell.execute_reply": "2021-07-16T22:28:03.402119Z"
    }
   },
   "outputs": [
    {
     "data": {
      "text/html": [
       "<table border=\"1\" class=\"dataframe\">\n",
       "  <thead>\n",
       "    <tr style=\"text-align: right;\">\n",
       "      <th></th>\n",
       "      <th>hair_color</th>\n",
       "      <th>skin_color</th>\n",
       "      <th>eye_color</th>\n",
       "    </tr>\n",
       "  </thead>\n",
       "  <tbody>\n",
       "    <tr>\n",
       "      <th style=\"font-style: italic;\" ></th>\n",
       "      <td style=\"font-style: italic;\" >&lt;object&gt;</td>\n",
       "      <td style=\"font-style: italic;\" >&lt;object&gt;</td>\n",
       "      <td style=\"font-style: italic;\" >&lt;object&gt;</td>\n",
       "    </tr>\n",
       "    <tr>\n",
       "      <th>0</th>\n",
       "      <td>blond</td>\n",
       "      <td>fair</td>\n",
       "      <td>blue</td>\n",
       "    </tr>\n",
       "    <tr>\n",
       "      <th>1</th>\n",
       "      <td>NaN</td>\n",
       "      <td>gold</td>\n",
       "      <td>yellow</td>\n",
       "    </tr>\n",
       "    <tr>\n",
       "      <th>2</th>\n",
       "      <td>NaN</td>\n",
       "      <td>white, blue</td>\n",
       "      <td>red</td>\n",
       "    </tr>\n",
       "    <tr>\n",
       "      <th>3</th>\n",
       "      <td>none</td>\n",
       "      <td>white</td>\n",
       "      <td>yellow</td>\n",
       "    </tr>\n",
       "    <tr>\n",
       "      <th>...</th>\n",
       "      <td>...</td>\n",
       "      <td>...</td>\n",
       "      <td>...</td>\n",
       "    </tr>\n",
       "    <tr>\n",
       "      <th>4</th>\n",
       "      <td>brown</td>\n",
       "      <td>light</td>\n",
       "      <td>brown</td>\n",
       "    </tr>\n",
       "    <tr>\n",
       "      <th>62</th>\n",
       "      <td>none</td>\n",
       "      <td>pale</td>\n",
       "      <td>white</td>\n",
       "    </tr>\n",
       "    <tr>\n",
       "      <th>63</th>\n",
       "      <td>black</td>\n",
       "      <td>dark</td>\n",
       "      <td>dark</td>\n",
       "    </tr>\n",
       "    <tr>\n",
       "      <th>64</th>\n",
       "      <td>brown</td>\n",
       "      <td>light</td>\n",
       "      <td>hazel</td>\n",
       "    </tr>\n",
       "    <tr>\n",
       "      <th>65</th>\n",
       "      <td>none</td>\n",
       "      <td>none</td>\n",
       "      <td>black</td>\n",
       "    </tr>\n",
       "    <tr>\n",
       "      <th>66</th>\n",
       "      <td>unknown</td>\n",
       "      <td>unknown</td>\n",
       "      <td>unknown</td>\n",
       "    </tr>\n",
       "  </tbody>\n",
       "</table>\n",
       "<p>67 rows × 3 columns</p>"
      ],
      "text/plain": [
       "   hair_color   skin_color eye_color\n",
       "     <object>     <object>  <object>\n",
       "0       blond         fair      blue\n",
       "1         NaN         gold    yellow\n",
       "2         NaN  white, blue       red\n",
       "3        none        white    yellow\n",
       "..        ...          ...       ...\n",
       "4       brown        light     brown\n",
       "62       none         pale     white\n",
       "63      black         dark      dark\n",
       "64      brown        light     hazel\n",
       "65       none         none     black\n",
       "66    unknown      unknown   unknown\n",
       "\n",
       "[67 rows x 3 columns]"
      ]
     },
     "execution_count": 1,
     "metadata": {},
     "output_type": "execute_result"
    }
   ],
   "source": [
    "starwars >> distinct(across(contains(\"color\")))"
   ]
  },
  {
   "cell_type": "code",
   "execution_count": 11,
   "id": "radio-title",
   "metadata": {
    "execution": {
     "iopub.execute_input": "2021-07-16T22:28:03.467684Z",
     "iopub.status.busy": "2021-07-16T22:28:03.467114Z",
     "iopub.status.idle": "2021-07-16T22:28:03.531743Z",
     "shell.execute_reply": "2021-07-16T22:28:03.532145Z"
    }
   },
   "outputs": [
    {
     "data": {
      "text/html": [
       "<table border=\"1\" class=\"dataframe\">\n",
       "  <thead>\n",
       "    <tr style=\"text-align: right;\">\n",
       "      <th></th>\n",
       "      <th>g</th>\n",
       "      <th>x</th>\n",
       "    </tr>\n",
       "  </thead>\n",
       "  <tbody>\n",
       "    <tr>\n",
       "      <th style=\"font-style: italic;\" ></th>\n",
       "      <td style=\"font-style: italic;\" >&lt;int64&gt;</td>\n",
       "      <td style=\"font-style: italic;\" >&lt;int64&gt;</td>\n",
       "    </tr>\n",
       "    <tr>\n",
       "      <th>0</th>\n",
       "      <td>1</td>\n",
       "      <td>1</td>\n",
       "    </tr>\n",
       "    <tr>\n",
       "      <th>1</th>\n",
       "      <td>2</td>\n",
       "      <td>2</td>\n",
       "    </tr>\n",
       "    <tr>\n",
       "      <th>2</th>\n",
       "      <td>2</td>\n",
       "      <td>1</td>\n",
       "    </tr>\n",
       "  </tbody>\n",
       "</table>\n",
       "<p>Groups: ['g'] (n=2)</p>"
      ],
      "text/plain": [
       "        g       x\n",
       "  <int64> <int64>\n",
       "0       1       1\n",
       "1       2       2\n",
       "2       2       1\n",
       "\n",
       "[Groups: g (n=2)]"
      ]
     },
     "execution_count": 1,
     "metadata": {},
     "output_type": "execute_result"
    }
   ],
   "source": [
    "df = tibble(\n",
    "  g=[1, 1, 2, 2],\n",
    "  x=[1, 1, 2, 1]\n",
    ") >> group_by(f.g)\n",
    "\n",
    "df >> distinct(f.x) "
   ]
  }
 ],
 "metadata": {
  "kernelspec": {
   "display_name": "Python 3",
   "language": "python",
   "name": "python3"
  },
  "language_info": {
   "codemirror_mode": {
    "name": "ipython",
    "version": 3
   },
   "file_extension": ".py",
   "mimetype": "text/x-python",
   "name": "python",
   "nbconvert_exporter": "python",
   "pygments_lexer": "ipython3",
   "version": "3.7.8"
  }
 },
 "nbformat": 4,
 "nbformat_minor": 5
}
