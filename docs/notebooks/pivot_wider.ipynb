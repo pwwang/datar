{
 "cells": [
  {
   "cell_type": "code",
   "execution_count": 1,
   "id": "weekly-pavilion",
   "metadata": {
    "execution": {
     "iopub.execute_input": "2021-04-17T00:54:13.183452Z",
     "iopub.status.busy": "2021-04-17T00:54:13.182848Z",
     "iopub.status.idle": "2021-04-17T00:54:13.924425Z",
     "shell.execute_reply": "2021-04-17T00:54:13.923945Z"
    }
   },
   "outputs": [
    {
     "output_type": "display_data",
     "data": {
      "text/plain": "<IPython.core.display.HTML object>",
      "text/html": "<div style=\"text-align: right; text-style: italic\">Try this notebook on <a target=\"_blank\" href=\"https://mybinder.org/v2/gh/pwwang/datar/93d069f3ca36711fc811c61dcf60e9fc3d1460a5?filepath=docs%2Fnotebooks%2Fpivot_wider.ipynb\">binder</a>.</div>"
     },
     "metadata": {}
    },
    {
     "output_type": "display_data",
     "data": {
      "text/plain": "<IPython.core.display.Markdown object>",
      "text/markdown": "### # pivot_wider  "
     },
     "metadata": {}
    },
    {
     "output_type": "display_data",
     "data": {
      "text/plain": "<IPython.core.display.Markdown object>",
      "text/markdown": "##### \"widens\" data, increasing the number of columns and decreasing\nthe number of rows.  \n\n##### Args:\n&emsp;&emsp;`_data`: A data frame to pivot.  \n&emsp;&emsp;`id_cols`: A set of columns that uniquely identifies each observation.  \n&emsp;&emsp;&emsp;&emsp;Defaults to all columns in data except for the columns specified  \n&emsp;&emsp;&emsp;&emsp;in names_from and values_from.  \n\n&emsp;&emsp;`names_from`: and  \n&emsp;&emsp;`values_from`: A pair of arguments describing which column  \n&emsp;&emsp;&emsp;&emsp;(or columns) to get the name of the output column (names_from),  \n&emsp;&emsp;&emsp;&emsp;and which column (or columns) to get the cell values from  \n&emsp;&emsp;&emsp;&emsp;(values_from).  \n\n&emsp;&emsp;`names_prefix`: String added to the start of every variable name.  \n&emsp;&emsp;`names_sep`: If names_from or values_from contains multiple variables,  \n&emsp;&emsp;&emsp;&emsp;this will be used to join their values together into a single  \n&emsp;&emsp;&emsp;&emsp;string to use as a column name.  \n\n&emsp;&emsp;`names_glue`: Instead of names_sep and names_prefix, you can supply  \n&emsp;&emsp;&emsp;&emsp;a glue specification that uses the names_from columns  \n&emsp;&emsp;&emsp;&emsp;(and special _value) to create custom column names.  \n\n&emsp;&emsp;`names_sort`: Should the column names be sorted? If FALSE, the default,  \n&emsp;&emsp;&emsp;&emsp;column names are ordered by first appearance.  \n\n&emsp;&emsp;`names_repair`: todo  \n&emsp;&emsp;`values_fill`: Optionally, a (scalar) value that specifies what  \n&emsp;&emsp;&emsp;&emsp;each value should be filled in with when missing.  \n\n&emsp;&emsp;`values_fn`: Optionally, a function applied to the value in each cell  \n&emsp;&emsp;&emsp;&emsp;in the output. You will typically use this when the combination  \n&emsp;&emsp;&emsp;&emsp;of `id_cols` and value column does not uniquely identify  \n&emsp;&emsp;&emsp;&emsp;an observation.  \n&emsp;&emsp;&emsp;&emsp;This can be a dict you want to apply different aggregations to  \n&emsp;&emsp;&emsp;&emsp;different value columns.  \n&emsp;&emsp;&emsp;&emsp;If not specified, will be `numpy.mean`  \n\n&emsp;&emsp;`base0_`: Whether `id_cols`, `names_from` and `values_from`  \n&emsp;&emsp;&emsp;&emsp;are 0-based if given by indexes.  \n&emsp;&emsp;&emsp;&emsp;If not provided, will use `datar.base.get_option('index.base.0')`  \n\n##### Returns:\n&emsp;&emsp;The pivoted dataframe.  \n"
     },
     "metadata": {}
    }
   ],
   "source": [
    "# https://tidyr.tidyverse.org/reference/pivot_wider.html\n",
    "\n",
    "from datar.datasets import fish_encounters, us_rent_income, warpbreaks \n",
    "from datar.all import *\n",
    "\n",
    "%run nb_helpers.py\n",
    "nb_header(pivot_wider)"
   ]
  },
  {
   "cell_type": "code",
   "execution_count": 2,
   "id": "recognized-stuart",
   "metadata": {
    "execution": {
     "iopub.execute_input": "2021-04-17T00:54:13.931509Z",
     "iopub.status.busy": "2021-04-17T00:54:13.930981Z",
     "iopub.status.idle": "2021-04-17T00:54:13.942700Z",
     "shell.execute_reply": "2021-04-17T00:54:13.941740Z"
    }
   },
   "outputs": [
    {
     "output_type": "execute_result",
     "data": {
      "text/plain": [
       "     fish  station  seen\n",
       "0    4842  Release     1\n",
       "1    4842    I80_1     1\n",
       "2    4842   Lisbon     1\n",
       "3    4842     Rstr     1\n",
       "4    4842  Base_TD     1\n",
       "..    ...      ...   ...\n",
       "109  4864  Release     1\n",
       "110  4864    I80_1     1\n",
       "111  4865  Release     1\n",
       "112  4865    I80_1     1\n",
       "113  4865   Lisbon     1\n",
       "\n",
       "[114 rows x 3 columns]"
      ],
      "text/html": "<div>\n<style scoped>\n    .dataframe tbody tr th:only-of-type {\n        vertical-align: middle;\n    }\n\n    .dataframe tbody tr th {\n        vertical-align: top;\n    }\n\n    .dataframe thead th {\n        text-align: right;\n    }\n</style>\n<table border=\"1\" class=\"dataframe\">\n  <thead>\n    <tr style=\"text-align: right;\">\n      <th></th>\n      <th>fish</th>\n      <th>station</th>\n      <th>seen</th>\n    </tr>\n  </thead>\n  <tbody>\n    <tr>\n      <th>0</th>\n      <td>4842</td>\n      <td>Release</td>\n      <td>1</td>\n    </tr>\n    <tr>\n      <th>1</th>\n      <td>4842</td>\n      <td>I80_1</td>\n      <td>1</td>\n    </tr>\n    <tr>\n      <th>2</th>\n      <td>4842</td>\n      <td>Lisbon</td>\n      <td>1</td>\n    </tr>\n    <tr>\n      <th>3</th>\n      <td>4842</td>\n      <td>Rstr</td>\n      <td>1</td>\n    </tr>\n    <tr>\n      <th>4</th>\n      <td>4842</td>\n      <td>Base_TD</td>\n      <td>1</td>\n    </tr>\n    <tr>\n      <th>...</th>\n      <td>...</td>\n      <td>...</td>\n      <td>...</td>\n    </tr>\n    <tr>\n      <th>109</th>\n      <td>4864</td>\n      <td>Release</td>\n      <td>1</td>\n    </tr>\n    <tr>\n      <th>110</th>\n      <td>4864</td>\n      <td>I80_1</td>\n      <td>1</td>\n    </tr>\n    <tr>\n      <th>111</th>\n      <td>4865</td>\n      <td>Release</td>\n      <td>1</td>\n    </tr>\n    <tr>\n      <th>112</th>\n      <td>4865</td>\n      <td>I80_1</td>\n      <td>1</td>\n    </tr>\n    <tr>\n      <th>113</th>\n      <td>4865</td>\n      <td>Lisbon</td>\n      <td>1</td>\n    </tr>\n  </tbody>\n</table>\n<p>114 rows × 3 columns</p>\n</div>"
     },
     "metadata": {},
     "execution_count": 2
    }
   ],
   "source": [
    "fish_encounters"
   ]
  },
  {
   "cell_type": "code",
   "execution_count": 3,
   "id": "drawn-empire",
   "metadata": {
    "execution": {
     "iopub.execute_input": "2021-04-17T00:54:13.948078Z",
     "iopub.status.busy": "2021-04-17T00:54:13.947382Z",
     "iopub.status.idle": "2021-04-17T00:54:14.016338Z",
     "shell.execute_reply": "2021-04-17T00:54:14.015955Z"
    }
   },
   "outputs": [
    {
     "output_type": "execute_result",
     "data": {
      "text/plain": [
       "    fish  BCE  BCE2  BCW  BCW2  Base_TD  I80_1  Lisbon  MAE  MAW  Release  \\\n",
       "0   4842  1.0   1.0  1.0   1.0      1.0    1.0     1.0  1.0  1.0      1.0   \n",
       "1   4843  1.0   1.0  1.0   1.0      1.0    1.0     1.0  1.0  1.0      1.0   \n",
       "2   4844  1.0   1.0  1.0   1.0      1.0    1.0     1.0  1.0  1.0      1.0   \n",
       "3   4845  NaN   NaN  NaN   NaN      1.0    1.0     1.0  NaN  NaN      1.0   \n",
       "4   4847  NaN   NaN  NaN   NaN      NaN    1.0     1.0  NaN  NaN      1.0   \n",
       "5   4848  NaN   NaN  NaN   NaN      NaN    1.0     1.0  NaN  NaN      1.0   \n",
       "6   4849  NaN   NaN  NaN   NaN      NaN    1.0     NaN  NaN  NaN      1.0   \n",
       "7   4850  1.0   NaN  1.0   NaN      1.0    1.0     NaN  NaN  NaN      1.0   \n",
       "8   4851  NaN   NaN  NaN   NaN      NaN    1.0     NaN  NaN  NaN      1.0   \n",
       "9   4854  NaN   NaN  NaN   NaN      NaN    1.0     NaN  NaN  NaN      1.0   \n",
       "10  4855  NaN   NaN  NaN   NaN      1.0    1.0     1.0  NaN  NaN      1.0   \n",
       "11  4857  1.0   1.0  1.0   1.0      1.0    1.0     1.0  NaN  NaN      1.0   \n",
       "12  4858  1.0   1.0  1.0   1.0      1.0    1.0     1.0  1.0  1.0      1.0   \n",
       "13  4859  NaN   NaN  NaN   NaN      1.0    1.0     1.0  NaN  NaN      1.0   \n",
       "14  4861  1.0   1.0  1.0   1.0      1.0    1.0     1.0  1.0  1.0      1.0   \n",
       "15  4862  1.0   1.0  1.0   1.0      1.0    1.0     1.0  NaN  NaN      1.0   \n",
       "16  4863  NaN   NaN  NaN   NaN      NaN    1.0     NaN  NaN  NaN      1.0   \n",
       "17  4864  NaN   NaN  NaN   NaN      NaN    1.0     NaN  NaN  NaN      1.0   \n",
       "18  4865  NaN   NaN  NaN   NaN      NaN    1.0     1.0  NaN  NaN      1.0   \n",
       "\n",
       "    Rstr  \n",
       "0    1.0  \n",
       "1    1.0  \n",
       "2    1.0  \n",
       "3    1.0  \n",
       "4    NaN  \n",
       "5    1.0  \n",
       "6    NaN  \n",
       "7    1.0  \n",
       "8    NaN  \n",
       "9    NaN  \n",
       "10   1.0  \n",
       "11   1.0  \n",
       "12   1.0  \n",
       "13   1.0  \n",
       "14   1.0  \n",
       "15   1.0  \n",
       "16   NaN  \n",
       "17   NaN  \n",
       "18   NaN  "
      ],
      "text/html": "<div>\n<style scoped>\n    .dataframe tbody tr th:only-of-type {\n        vertical-align: middle;\n    }\n\n    .dataframe tbody tr th {\n        vertical-align: top;\n    }\n\n    .dataframe thead th {\n        text-align: right;\n    }\n</style>\n<table border=\"1\" class=\"dataframe\">\n  <thead>\n    <tr style=\"text-align: right;\">\n      <th></th>\n      <th>fish</th>\n      <th>BCE</th>\n      <th>BCE2</th>\n      <th>BCW</th>\n      <th>BCW2</th>\n      <th>Base_TD</th>\n      <th>I80_1</th>\n      <th>Lisbon</th>\n      <th>MAE</th>\n      <th>MAW</th>\n      <th>Release</th>\n      <th>Rstr</th>\n    </tr>\n  </thead>\n  <tbody>\n    <tr>\n      <th>0</th>\n      <td>4842</td>\n      <td>1.0</td>\n      <td>1.0</td>\n      <td>1.0</td>\n      <td>1.0</td>\n      <td>1.0</td>\n      <td>1.0</td>\n      <td>1.0</td>\n      <td>1.0</td>\n      <td>1.0</td>\n      <td>1.0</td>\n      <td>1.0</td>\n    </tr>\n    <tr>\n      <th>1</th>\n      <td>4843</td>\n      <td>1.0</td>\n      <td>1.0</td>\n      <td>1.0</td>\n      <td>1.0</td>\n      <td>1.0</td>\n      <td>1.0</td>\n      <td>1.0</td>\n      <td>1.0</td>\n      <td>1.0</td>\n      <td>1.0</td>\n      <td>1.0</td>\n    </tr>\n    <tr>\n      <th>2</th>\n      <td>4844</td>\n      <td>1.0</td>\n      <td>1.0</td>\n      <td>1.0</td>\n      <td>1.0</td>\n      <td>1.0</td>\n      <td>1.0</td>\n      <td>1.0</td>\n      <td>1.0</td>\n      <td>1.0</td>\n      <td>1.0</td>\n      <td>1.0</td>\n    </tr>\n    <tr>\n      <th>3</th>\n      <td>4845</td>\n      <td>NaN</td>\n      <td>NaN</td>\n      <td>NaN</td>\n      <td>NaN</td>\n      <td>1.0</td>\n      <td>1.0</td>\n      <td>1.0</td>\n      <td>NaN</td>\n      <td>NaN</td>\n      <td>1.0</td>\n      <td>1.0</td>\n    </tr>\n    <tr>\n      <th>4</th>\n      <td>4847</td>\n      <td>NaN</td>\n      <td>NaN</td>\n      <td>NaN</td>\n      <td>NaN</td>\n      <td>NaN</td>\n      <td>1.0</td>\n      <td>1.0</td>\n      <td>NaN</td>\n      <td>NaN</td>\n      <td>1.0</td>\n      <td>NaN</td>\n    </tr>\n    <tr>\n      <th>5</th>\n      <td>4848</td>\n      <td>NaN</td>\n      <td>NaN</td>\n      <td>NaN</td>\n      <td>NaN</td>\n      <td>NaN</td>\n      <td>1.0</td>\n      <td>1.0</td>\n      <td>NaN</td>\n      <td>NaN</td>\n      <td>1.0</td>\n      <td>1.0</td>\n    </tr>\n    <tr>\n      <th>6</th>\n      <td>4849</td>\n      <td>NaN</td>\n      <td>NaN</td>\n      <td>NaN</td>\n      <td>NaN</td>\n      <td>NaN</td>\n      <td>1.0</td>\n      <td>NaN</td>\n      <td>NaN</td>\n      <td>NaN</td>\n      <td>1.0</td>\n      <td>NaN</td>\n    </tr>\n    <tr>\n      <th>7</th>\n      <td>4850</td>\n      <td>1.0</td>\n      <td>NaN</td>\n      <td>1.0</td>\n      <td>NaN</td>\n      <td>1.0</td>\n      <td>1.0</td>\n      <td>NaN</td>\n      <td>NaN</td>\n      <td>NaN</td>\n      <td>1.0</td>\n      <td>1.0</td>\n    </tr>\n    <tr>\n      <th>8</th>\n      <td>4851</td>\n      <td>NaN</td>\n      <td>NaN</td>\n      <td>NaN</td>\n      <td>NaN</td>\n      <td>NaN</td>\n      <td>1.0</td>\n      <td>NaN</td>\n      <td>NaN</td>\n      <td>NaN</td>\n      <td>1.0</td>\n      <td>NaN</td>\n    </tr>\n    <tr>\n      <th>9</th>\n      <td>4854</td>\n      <td>NaN</td>\n      <td>NaN</td>\n      <td>NaN</td>\n      <td>NaN</td>\n      <td>NaN</td>\n      <td>1.0</td>\n      <td>NaN</td>\n      <td>NaN</td>\n      <td>NaN</td>\n      <td>1.0</td>\n      <td>NaN</td>\n    </tr>\n    <tr>\n      <th>10</th>\n      <td>4855</td>\n      <td>NaN</td>\n      <td>NaN</td>\n      <td>NaN</td>\n      <td>NaN</td>\n      <td>1.0</td>\n      <td>1.0</td>\n      <td>1.0</td>\n      <td>NaN</td>\n      <td>NaN</td>\n      <td>1.0</td>\n      <td>1.0</td>\n    </tr>\n    <tr>\n      <th>11</th>\n      <td>4857</td>\n      <td>1.0</td>\n      <td>1.0</td>\n      <td>1.0</td>\n      <td>1.0</td>\n      <td>1.0</td>\n      <td>1.0</td>\n      <td>1.0</td>\n      <td>NaN</td>\n      <td>NaN</td>\n      <td>1.0</td>\n      <td>1.0</td>\n    </tr>\n    <tr>\n      <th>12</th>\n      <td>4858</td>\n      <td>1.0</td>\n      <td>1.0</td>\n      <td>1.0</td>\n      <td>1.0</td>\n      <td>1.0</td>\n      <td>1.0</td>\n      <td>1.0</td>\n      <td>1.0</td>\n      <td>1.0</td>\n      <td>1.0</td>\n      <td>1.0</td>\n    </tr>\n    <tr>\n      <th>13</th>\n      <td>4859</td>\n      <td>NaN</td>\n      <td>NaN</td>\n      <td>NaN</td>\n      <td>NaN</td>\n      <td>1.0</td>\n      <td>1.0</td>\n      <td>1.0</td>\n      <td>NaN</td>\n      <td>NaN</td>\n      <td>1.0</td>\n      <td>1.0</td>\n    </tr>\n    <tr>\n      <th>14</th>\n      <td>4861</td>\n      <td>1.0</td>\n      <td>1.0</td>\n      <td>1.0</td>\n      <td>1.0</td>\n      <td>1.0</td>\n      <td>1.0</td>\n      <td>1.0</td>\n      <td>1.0</td>\n      <td>1.0</td>\n      <td>1.0</td>\n      <td>1.0</td>\n    </tr>\n    <tr>\n      <th>15</th>\n      <td>4862</td>\n      <td>1.0</td>\n      <td>1.0</td>\n      <td>1.0</td>\n      <td>1.0</td>\n      <td>1.0</td>\n      <td>1.0</td>\n      <td>1.0</td>\n      <td>NaN</td>\n      <td>NaN</td>\n      <td>1.0</td>\n      <td>1.0</td>\n    </tr>\n    <tr>\n      <th>16</th>\n      <td>4863</td>\n      <td>NaN</td>\n      <td>NaN</td>\n      <td>NaN</td>\n      <td>NaN</td>\n      <td>NaN</td>\n      <td>1.0</td>\n      <td>NaN</td>\n      <td>NaN</td>\n      <td>NaN</td>\n      <td>1.0</td>\n      <td>NaN</td>\n    </tr>\n    <tr>\n      <th>17</th>\n      <td>4864</td>\n      <td>NaN</td>\n      <td>NaN</td>\n      <td>NaN</td>\n      <td>NaN</td>\n      <td>NaN</td>\n      <td>1.0</td>\n      <td>NaN</td>\n      <td>NaN</td>\n      <td>NaN</td>\n      <td>1.0</td>\n      <td>NaN</td>\n    </tr>\n    <tr>\n      <th>18</th>\n      <td>4865</td>\n      <td>NaN</td>\n      <td>NaN</td>\n      <td>NaN</td>\n      <td>NaN</td>\n      <td>NaN</td>\n      <td>1.0</td>\n      <td>1.0</td>\n      <td>NaN</td>\n      <td>NaN</td>\n      <td>1.0</td>\n      <td>NaN</td>\n    </tr>\n  </tbody>\n</table>\n</div>"
     },
     "metadata": {},
     "execution_count": 3
    }
   ],
   "source": [
    "fish_encounters >> \\\n",
    "  pivot_wider(names_from=f.station, values_from=f.seen)"
   ]
  },
  {
   "cell_type": "code",
   "execution_count": 4,
   "id": "prompt-geneva",
   "metadata": {
    "execution": {
     "iopub.execute_input": "2021-04-17T00:54:14.023185Z",
     "iopub.status.busy": "2021-04-17T00:54:14.022619Z",
     "iopub.status.idle": "2021-04-17T00:54:14.043151Z",
     "shell.execute_reply": "2021-04-17T00:54:14.042658Z"
    }
   },
   "outputs": [
    {
     "output_type": "execute_result",
     "data": {
      "text/plain": [
       "    fish  BCE  BCE2  BCW  BCW2  Base_TD  I80_1  Lisbon  MAE  MAW  Release  \\\n",
       "0   4842    1     1    1     1        1      1       1    1    1        1   \n",
       "1   4843    1     1    1     1        1      1       1    1    1        1   \n",
       "2   4844    1     1    1     1        1      1       1    1    1        1   \n",
       "3   4845    0     0    0     0        1      1       1    0    0        1   \n",
       "4   4847    0     0    0     0        0      1       1    0    0        1   \n",
       "5   4848    0     0    0     0        0      1       1    0    0        1   \n",
       "6   4849    0     0    0     0        0      1       0    0    0        1   \n",
       "7   4850    1     0    1     0        1      1       0    0    0        1   \n",
       "8   4851    0     0    0     0        0      1       0    0    0        1   \n",
       "9   4854    0     0    0     0        0      1       0    0    0        1   \n",
       "10  4855    0     0    0     0        1      1       1    0    0        1   \n",
       "11  4857    1     1    1     1        1      1       1    0    0        1   \n",
       "12  4858    1     1    1     1        1      1       1    1    1        1   \n",
       "13  4859    0     0    0     0        1      1       1    0    0        1   \n",
       "14  4861    1     1    1     1        1      1       1    1    1        1   \n",
       "15  4862    1     1    1     1        1      1       1    0    0        1   \n",
       "16  4863    0     0    0     0        0      1       0    0    0        1   \n",
       "17  4864    0     0    0     0        0      1       0    0    0        1   \n",
       "18  4865    0     0    0     0        0      1       1    0    0        1   \n",
       "\n",
       "    Rstr  \n",
       "0      1  \n",
       "1      1  \n",
       "2      1  \n",
       "3      1  \n",
       "4      0  \n",
       "5      1  \n",
       "6      0  \n",
       "7      1  \n",
       "8      0  \n",
       "9      0  \n",
       "10     1  \n",
       "11     1  \n",
       "12     1  \n",
       "13     1  \n",
       "14     1  \n",
       "15     1  \n",
       "16     0  \n",
       "17     0  \n",
       "18     0  "
      ],
      "text/html": "<div>\n<style scoped>\n    .dataframe tbody tr th:only-of-type {\n        vertical-align: middle;\n    }\n\n    .dataframe tbody tr th {\n        vertical-align: top;\n    }\n\n    .dataframe thead th {\n        text-align: right;\n    }\n</style>\n<table border=\"1\" class=\"dataframe\">\n  <thead>\n    <tr style=\"text-align: right;\">\n      <th></th>\n      <th>fish</th>\n      <th>BCE</th>\n      <th>BCE2</th>\n      <th>BCW</th>\n      <th>BCW2</th>\n      <th>Base_TD</th>\n      <th>I80_1</th>\n      <th>Lisbon</th>\n      <th>MAE</th>\n      <th>MAW</th>\n      <th>Release</th>\n      <th>Rstr</th>\n    </tr>\n  </thead>\n  <tbody>\n    <tr>\n      <th>0</th>\n      <td>4842</td>\n      <td>1</td>\n      <td>1</td>\n      <td>1</td>\n      <td>1</td>\n      <td>1</td>\n      <td>1</td>\n      <td>1</td>\n      <td>1</td>\n      <td>1</td>\n      <td>1</td>\n      <td>1</td>\n    </tr>\n    <tr>\n      <th>1</th>\n      <td>4843</td>\n      <td>1</td>\n      <td>1</td>\n      <td>1</td>\n      <td>1</td>\n      <td>1</td>\n      <td>1</td>\n      <td>1</td>\n      <td>1</td>\n      <td>1</td>\n      <td>1</td>\n      <td>1</td>\n    </tr>\n    <tr>\n      <th>2</th>\n      <td>4844</td>\n      <td>1</td>\n      <td>1</td>\n      <td>1</td>\n      <td>1</td>\n      <td>1</td>\n      <td>1</td>\n      <td>1</td>\n      <td>1</td>\n      <td>1</td>\n      <td>1</td>\n      <td>1</td>\n    </tr>\n    <tr>\n      <th>3</th>\n      <td>4845</td>\n      <td>0</td>\n      <td>0</td>\n      <td>0</td>\n      <td>0</td>\n      <td>1</td>\n      <td>1</td>\n      <td>1</td>\n      <td>0</td>\n      <td>0</td>\n      <td>1</td>\n      <td>1</td>\n    </tr>\n    <tr>\n      <th>4</th>\n      <td>4847</td>\n      <td>0</td>\n      <td>0</td>\n      <td>0</td>\n      <td>0</td>\n      <td>0</td>\n      <td>1</td>\n      <td>1</td>\n      <td>0</td>\n      <td>0</td>\n      <td>1</td>\n      <td>0</td>\n    </tr>\n    <tr>\n      <th>5</th>\n      <td>4848</td>\n      <td>0</td>\n      <td>0</td>\n      <td>0</td>\n      <td>0</td>\n      <td>0</td>\n      <td>1</td>\n      <td>1</td>\n      <td>0</td>\n      <td>0</td>\n      <td>1</td>\n      <td>1</td>\n    </tr>\n    <tr>\n      <th>6</th>\n      <td>4849</td>\n      <td>0</td>\n      <td>0</td>\n      <td>0</td>\n      <td>0</td>\n      <td>0</td>\n      <td>1</td>\n      <td>0</td>\n      <td>0</td>\n      <td>0</td>\n      <td>1</td>\n      <td>0</td>\n    </tr>\n    <tr>\n      <th>7</th>\n      <td>4850</td>\n      <td>1</td>\n      <td>0</td>\n      <td>1</td>\n      <td>0</td>\n      <td>1</td>\n      <td>1</td>\n      <td>0</td>\n      <td>0</td>\n      <td>0</td>\n      <td>1</td>\n      <td>1</td>\n    </tr>\n    <tr>\n      <th>8</th>\n      <td>4851</td>\n      <td>0</td>\n      <td>0</td>\n      <td>0</td>\n      <td>0</td>\n      <td>0</td>\n      <td>1</td>\n      <td>0</td>\n      <td>0</td>\n      <td>0</td>\n      <td>1</td>\n      <td>0</td>\n    </tr>\n    <tr>\n      <th>9</th>\n      <td>4854</td>\n      <td>0</td>\n      <td>0</td>\n      <td>0</td>\n      <td>0</td>\n      <td>0</td>\n      <td>1</td>\n      <td>0</td>\n      <td>0</td>\n      <td>0</td>\n      <td>1</td>\n      <td>0</td>\n    </tr>\n    <tr>\n      <th>10</th>\n      <td>4855</td>\n      <td>0</td>\n      <td>0</td>\n      <td>0</td>\n      <td>0</td>\n      <td>1</td>\n      <td>1</td>\n      <td>1</td>\n      <td>0</td>\n      <td>0</td>\n      <td>1</td>\n      <td>1</td>\n    </tr>\n    <tr>\n      <th>11</th>\n      <td>4857</td>\n      <td>1</td>\n      <td>1</td>\n      <td>1</td>\n      <td>1</td>\n      <td>1</td>\n      <td>1</td>\n      <td>1</td>\n      <td>0</td>\n      <td>0</td>\n      <td>1</td>\n      <td>1</td>\n    </tr>\n    <tr>\n      <th>12</th>\n      <td>4858</td>\n      <td>1</td>\n      <td>1</td>\n      <td>1</td>\n      <td>1</td>\n      <td>1</td>\n      <td>1</td>\n      <td>1</td>\n      <td>1</td>\n      <td>1</td>\n      <td>1</td>\n      <td>1</td>\n    </tr>\n    <tr>\n      <th>13</th>\n      <td>4859</td>\n      <td>0</td>\n      <td>0</td>\n      <td>0</td>\n      <td>0</td>\n      <td>1</td>\n      <td>1</td>\n      <td>1</td>\n      <td>0</td>\n      <td>0</td>\n      <td>1</td>\n      <td>1</td>\n    </tr>\n    <tr>\n      <th>14</th>\n      <td>4861</td>\n      <td>1</td>\n      <td>1</td>\n      <td>1</td>\n      <td>1</td>\n      <td>1</td>\n      <td>1</td>\n      <td>1</td>\n      <td>1</td>\n      <td>1</td>\n      <td>1</td>\n      <td>1</td>\n    </tr>\n    <tr>\n      <th>15</th>\n      <td>4862</td>\n      <td>1</td>\n      <td>1</td>\n      <td>1</td>\n      <td>1</td>\n      <td>1</td>\n      <td>1</td>\n      <td>1</td>\n      <td>0</td>\n      <td>0</td>\n      <td>1</td>\n      <td>1</td>\n    </tr>\n    <tr>\n      <th>16</th>\n      <td>4863</td>\n      <td>0</td>\n      <td>0</td>\n      <td>0</td>\n      <td>0</td>\n      <td>0</td>\n      <td>1</td>\n      <td>0</td>\n      <td>0</td>\n      <td>0</td>\n      <td>1</td>\n      <td>0</td>\n    </tr>\n    <tr>\n      <th>17</th>\n      <td>4864</td>\n      <td>0</td>\n      <td>0</td>\n      <td>0</td>\n      <td>0</td>\n      <td>0</td>\n      <td>1</td>\n      <td>0</td>\n      <td>0</td>\n      <td>0</td>\n      <td>1</td>\n      <td>0</td>\n    </tr>\n    <tr>\n      <th>18</th>\n      <td>4865</td>\n      <td>0</td>\n      <td>0</td>\n      <td>0</td>\n      <td>0</td>\n      <td>0</td>\n      <td>1</td>\n      <td>1</td>\n      <td>0</td>\n      <td>0</td>\n      <td>1</td>\n      <td>0</td>\n    </tr>\n  </tbody>\n</table>\n</div>"
     },
     "metadata": {},
     "execution_count": 4
    }
   ],
   "source": [
    "fish_encounters >> \\\n",
    "  pivot_wider(names_from=f.station, values_from=f.seen, values_fill=0)"
   ]
  },
  {
   "cell_type": "code",
   "execution_count": 5,
   "id": "spanish-classics",
   "metadata": {
    "execution": {
     "iopub.execute_input": "2021-04-17T00:54:14.056284Z",
     "iopub.status.busy": "2021-04-17T00:54:14.055521Z",
     "iopub.status.idle": "2021-04-17T00:54:14.058812Z",
     "shell.execute_reply": "2021-04-17T00:54:14.059320Z"
    }
   },
   "outputs": [
    {
     "output_type": "execute_result",
     "data": {
      "text/plain": [
       "     GEOID         NAME variable  estimate    moe\n",
       "0        1      Alabama   income   24476.0  136.0\n",
       "1        1      Alabama     rent     747.0    3.0\n",
       "2        2       Alaska   income   32940.0  508.0\n",
       "3        2       Alaska     rent    1200.0   13.0\n",
       "4        4      Arizona   income   27517.0  148.0\n",
       "..     ...          ...      ...       ...    ...\n",
       "99      55    Wisconsin     rent     813.0    3.0\n",
       "100     56      Wyoming   income   30854.0  342.0\n",
       "101     56      Wyoming     rent     828.0   11.0\n",
       "102     72  Puerto Rico   income       NaN    NaN\n",
       "103     72  Puerto Rico     rent     464.0    6.0\n",
       "\n",
       "[104 rows x 5 columns]"
      ],
      "text/html": "<div>\n<style scoped>\n    .dataframe tbody tr th:only-of-type {\n        vertical-align: middle;\n    }\n\n    .dataframe tbody tr th {\n        vertical-align: top;\n    }\n\n    .dataframe thead th {\n        text-align: right;\n    }\n</style>\n<table border=\"1\" class=\"dataframe\">\n  <thead>\n    <tr style=\"text-align: right;\">\n      <th></th>\n      <th>GEOID</th>\n      <th>NAME</th>\n      <th>variable</th>\n      <th>estimate</th>\n      <th>moe</th>\n    </tr>\n  </thead>\n  <tbody>\n    <tr>\n      <th>0</th>\n      <td>1</td>\n      <td>Alabama</td>\n      <td>income</td>\n      <td>24476.0</td>\n      <td>136.0</td>\n    </tr>\n    <tr>\n      <th>1</th>\n      <td>1</td>\n      <td>Alabama</td>\n      <td>rent</td>\n      <td>747.0</td>\n      <td>3.0</td>\n    </tr>\n    <tr>\n      <th>2</th>\n      <td>2</td>\n      <td>Alaska</td>\n      <td>income</td>\n      <td>32940.0</td>\n      <td>508.0</td>\n    </tr>\n    <tr>\n      <th>3</th>\n      <td>2</td>\n      <td>Alaska</td>\n      <td>rent</td>\n      <td>1200.0</td>\n      <td>13.0</td>\n    </tr>\n    <tr>\n      <th>4</th>\n      <td>4</td>\n      <td>Arizona</td>\n      <td>income</td>\n      <td>27517.0</td>\n      <td>148.0</td>\n    </tr>\n    <tr>\n      <th>...</th>\n      <td>...</td>\n      <td>...</td>\n      <td>...</td>\n      <td>...</td>\n      <td>...</td>\n    </tr>\n    <tr>\n      <th>99</th>\n      <td>55</td>\n      <td>Wisconsin</td>\n      <td>rent</td>\n      <td>813.0</td>\n      <td>3.0</td>\n    </tr>\n    <tr>\n      <th>100</th>\n      <td>56</td>\n      <td>Wyoming</td>\n      <td>income</td>\n      <td>30854.0</td>\n      <td>342.0</td>\n    </tr>\n    <tr>\n      <th>101</th>\n      <td>56</td>\n      <td>Wyoming</td>\n      <td>rent</td>\n      <td>828.0</td>\n      <td>11.0</td>\n    </tr>\n    <tr>\n      <th>102</th>\n      <td>72</td>\n      <td>Puerto Rico</td>\n      <td>income</td>\n      <td>NaN</td>\n      <td>NaN</td>\n    </tr>\n    <tr>\n      <th>103</th>\n      <td>72</td>\n      <td>Puerto Rico</td>\n      <td>rent</td>\n      <td>464.0</td>\n      <td>6.0</td>\n    </tr>\n  </tbody>\n</table>\n<p>104 rows × 5 columns</p>\n</div>"
     },
     "metadata": {},
     "execution_count": 5
    }
   ],
   "source": [
    "us_rent_income"
   ]
  },
  {
   "cell_type": "code",
   "execution_count": 6,
   "id": "antique-winner",
   "metadata": {
    "execution": {
     "iopub.execute_input": "2021-04-17T00:54:14.070787Z",
     "iopub.status.busy": "2021-04-17T00:54:14.070208Z",
     "iopub.status.idle": "2021-04-17T00:54:14.100061Z",
     "shell.execute_reply": "2021-04-17T00:54:14.099647Z"
    }
   },
   "outputs": [
    {
     "output_type": "execute_result",
     "data": {
      "text/plain": [
       "    GEOID                  NAME  estimate_income  estimate_rent  moe_income  \\\n",
       "0       1               Alabama          24476.0          747.0       136.0   \n",
       "1       2                Alaska          32940.0         1200.0       508.0   \n",
       "2       4               Arizona          27517.0          972.0       148.0   \n",
       "3       5              Arkansas          23789.0          709.0       165.0   \n",
       "4       6            California          29454.0         1358.0       109.0   \n",
       "5       8              Colorado          32401.0         1125.0       109.0   \n",
       "6       9           Connecticut          35326.0         1123.0       195.0   \n",
       "7      10              Delaware          31560.0         1076.0       247.0   \n",
       "8      11  District of Columbia          43198.0         1424.0       681.0   \n",
       "9      12               Florida          25952.0         1077.0        70.0   \n",
       "10     13               Georgia          27024.0          927.0       106.0   \n",
       "11     15                Hawaii          32453.0         1507.0       218.0   \n",
       "12     16                 Idaho          25298.0          792.0       208.0   \n",
       "13     17              Illinois          30684.0          952.0        83.0   \n",
       "14     18               Indiana          27247.0          782.0       117.0   \n",
       "15     19                  Iowa          30002.0          740.0       143.0   \n",
       "16     20                Kansas          29126.0          801.0       208.0   \n",
       "17     21              Kentucky          24702.0          713.0       159.0   \n",
       "18     22             Louisiana          25086.0          825.0       155.0   \n",
       "19     23                 Maine          26841.0          808.0       187.0   \n",
       "20     24              Maryland          37147.0         1311.0       152.0   \n",
       "21     25         Massachusetts          34498.0         1173.0       199.0   \n",
       "22     26              Michigan          26987.0          824.0        82.0   \n",
       "23     27             Minnesota          32734.0          906.0       189.0   \n",
       "24     28           Mississippi          22766.0          740.0       194.0   \n",
       "25     29              Missouri          26999.0          784.0       113.0   \n",
       "26     30               Montana          26249.0          751.0       206.0   \n",
       "27     31              Nebraska          30020.0          773.0       146.0   \n",
       "28     32                Nevada          29019.0         1017.0       213.0   \n",
       "29     33         New Hampshire          33172.0         1052.0       387.0   \n",
       "30     34            New Jersey          35075.0         1249.0       148.0   \n",
       "31     35            New Mexico          24457.0          809.0       214.0   \n",
       "32     36              New York          31057.0         1194.0        69.0   \n",
       "33     37        North Carolina          26482.0          844.0       111.0   \n",
       "34     38          North Dakota          32336.0          775.0       245.0   \n",
       "35     39                  Ohio          27435.0          764.0        94.0   \n",
       "36     40              Oklahoma          26207.0          766.0       101.0   \n",
       "37     41                Oregon          27389.0          988.0       146.0   \n",
       "38     42          Pennsylvania          28923.0          885.0       119.0   \n",
       "39     44          Rhode Island          30210.0          957.0       259.0   \n",
       "40     45        South Carolina          25454.0          836.0       123.0   \n",
       "41     46          South Dakota          28821.0          696.0       276.0   \n",
       "42     47             Tennessee          25453.0          808.0       102.0   \n",
       "43     48                 Texas          28063.0          952.0       110.0   \n",
       "44     49                  Utah          27928.0          948.0       239.0   \n",
       "45     50               Vermont          29351.0          945.0       361.0   \n",
       "46     51              Virginia          32545.0         1166.0       202.0   \n",
       "47     53            Washington          32318.0         1120.0       113.0   \n",
       "48     54         West Virginia          23707.0          681.0       203.0   \n",
       "49     55             Wisconsin          29868.0          813.0       135.0   \n",
       "50     56               Wyoming          30854.0          828.0       342.0   \n",
       "51     72           Puerto Rico              NaN          464.0         NaN   \n",
       "\n",
       "    moe_rent  \n",
       "0        3.0  \n",
       "1       13.0  \n",
       "2        4.0  \n",
       "3        5.0  \n",
       "4        3.0  \n",
       "5        5.0  \n",
       "6        5.0  \n",
       "7       10.0  \n",
       "8       17.0  \n",
       "9        3.0  \n",
       "10       3.0  \n",
       "11      18.0  \n",
       "12       7.0  \n",
       "13       3.0  \n",
       "14       3.0  \n",
       "15       4.0  \n",
       "16       5.0  \n",
       "17       4.0  \n",
       "18       4.0  \n",
       "19       7.0  \n",
       "20       5.0  \n",
       "21       5.0  \n",
       "22       3.0  \n",
       "23       4.0  \n",
       "24       5.0  \n",
       "25       4.0  \n",
       "26       9.0  \n",
       "27       4.0  \n",
       "28       6.0  \n",
       "29       9.0  \n",
       "30       4.0  \n",
       "31       6.0  \n",
       "32       3.0  \n",
       "33       3.0  \n",
       "34       9.0  \n",
       "35       2.0  \n",
       "36       3.0  \n",
       "37       4.0  \n",
       "38       3.0  \n",
       "39       6.0  \n",
       "40       4.0  \n",
       "41       7.0  \n",
       "42       4.0  \n",
       "43       2.0  \n",
       "44       6.0  \n",
       "45      11.0  \n",
       "46       5.0  \n",
       "47       4.0  \n",
       "48       6.0  \n",
       "49       3.0  \n",
       "50      11.0  \n",
       "51       6.0  "
      ],
      "text/html": "<div>\n<style scoped>\n    .dataframe tbody tr th:only-of-type {\n        vertical-align: middle;\n    }\n\n    .dataframe tbody tr th {\n        vertical-align: top;\n    }\n\n    .dataframe thead th {\n        text-align: right;\n    }\n</style>\n<table border=\"1\" class=\"dataframe\">\n  <thead>\n    <tr style=\"text-align: right;\">\n      <th></th>\n      <th>GEOID</th>\n      <th>NAME</th>\n      <th>estimate_income</th>\n      <th>estimate_rent</th>\n      <th>moe_income</th>\n      <th>moe_rent</th>\n    </tr>\n  </thead>\n  <tbody>\n    <tr>\n      <th>0</th>\n      <td>1</td>\n      <td>Alabama</td>\n      <td>24476.0</td>\n      <td>747.0</td>\n      <td>136.0</td>\n      <td>3.0</td>\n    </tr>\n    <tr>\n      <th>1</th>\n      <td>2</td>\n      <td>Alaska</td>\n      <td>32940.0</td>\n      <td>1200.0</td>\n      <td>508.0</td>\n      <td>13.0</td>\n    </tr>\n    <tr>\n      <th>2</th>\n      <td>4</td>\n      <td>Arizona</td>\n      <td>27517.0</td>\n      <td>972.0</td>\n      <td>148.0</td>\n      <td>4.0</td>\n    </tr>\n    <tr>\n      <th>3</th>\n      <td>5</td>\n      <td>Arkansas</td>\n      <td>23789.0</td>\n      <td>709.0</td>\n      <td>165.0</td>\n      <td>5.0</td>\n    </tr>\n    <tr>\n      <th>4</th>\n      <td>6</td>\n      <td>California</td>\n      <td>29454.0</td>\n      <td>1358.0</td>\n      <td>109.0</td>\n      <td>3.0</td>\n    </tr>\n    <tr>\n      <th>5</th>\n      <td>8</td>\n      <td>Colorado</td>\n      <td>32401.0</td>\n      <td>1125.0</td>\n      <td>109.0</td>\n      <td>5.0</td>\n    </tr>\n    <tr>\n      <th>6</th>\n      <td>9</td>\n      <td>Connecticut</td>\n      <td>35326.0</td>\n      <td>1123.0</td>\n      <td>195.0</td>\n      <td>5.0</td>\n    </tr>\n    <tr>\n      <th>7</th>\n      <td>10</td>\n      <td>Delaware</td>\n      <td>31560.0</td>\n      <td>1076.0</td>\n      <td>247.0</td>\n      <td>10.0</td>\n    </tr>\n    <tr>\n      <th>8</th>\n      <td>11</td>\n      <td>District of Columbia</td>\n      <td>43198.0</td>\n      <td>1424.0</td>\n      <td>681.0</td>\n      <td>17.0</td>\n    </tr>\n    <tr>\n      <th>9</th>\n      <td>12</td>\n      <td>Florida</td>\n      <td>25952.0</td>\n      <td>1077.0</td>\n      <td>70.0</td>\n      <td>3.0</td>\n    </tr>\n    <tr>\n      <th>10</th>\n      <td>13</td>\n      <td>Georgia</td>\n      <td>27024.0</td>\n      <td>927.0</td>\n      <td>106.0</td>\n      <td>3.0</td>\n    </tr>\n    <tr>\n      <th>11</th>\n      <td>15</td>\n      <td>Hawaii</td>\n      <td>32453.0</td>\n      <td>1507.0</td>\n      <td>218.0</td>\n      <td>18.0</td>\n    </tr>\n    <tr>\n      <th>12</th>\n      <td>16</td>\n      <td>Idaho</td>\n      <td>25298.0</td>\n      <td>792.0</td>\n      <td>208.0</td>\n      <td>7.0</td>\n    </tr>\n    <tr>\n      <th>13</th>\n      <td>17</td>\n      <td>Illinois</td>\n      <td>30684.0</td>\n      <td>952.0</td>\n      <td>83.0</td>\n      <td>3.0</td>\n    </tr>\n    <tr>\n      <th>14</th>\n      <td>18</td>\n      <td>Indiana</td>\n      <td>27247.0</td>\n      <td>782.0</td>\n      <td>117.0</td>\n      <td>3.0</td>\n    </tr>\n    <tr>\n      <th>15</th>\n      <td>19</td>\n      <td>Iowa</td>\n      <td>30002.0</td>\n      <td>740.0</td>\n      <td>143.0</td>\n      <td>4.0</td>\n    </tr>\n    <tr>\n      <th>16</th>\n      <td>20</td>\n      <td>Kansas</td>\n      <td>29126.0</td>\n      <td>801.0</td>\n      <td>208.0</td>\n      <td>5.0</td>\n    </tr>\n    <tr>\n      <th>17</th>\n      <td>21</td>\n      <td>Kentucky</td>\n      <td>24702.0</td>\n      <td>713.0</td>\n      <td>159.0</td>\n      <td>4.0</td>\n    </tr>\n    <tr>\n      <th>18</th>\n      <td>22</td>\n      <td>Louisiana</td>\n      <td>25086.0</td>\n      <td>825.0</td>\n      <td>155.0</td>\n      <td>4.0</td>\n    </tr>\n    <tr>\n      <th>19</th>\n      <td>23</td>\n      <td>Maine</td>\n      <td>26841.0</td>\n      <td>808.0</td>\n      <td>187.0</td>\n      <td>7.0</td>\n    </tr>\n    <tr>\n      <th>20</th>\n      <td>24</td>\n      <td>Maryland</td>\n      <td>37147.0</td>\n      <td>1311.0</td>\n      <td>152.0</td>\n      <td>5.0</td>\n    </tr>\n    <tr>\n      <th>21</th>\n      <td>25</td>\n      <td>Massachusetts</td>\n      <td>34498.0</td>\n      <td>1173.0</td>\n      <td>199.0</td>\n      <td>5.0</td>\n    </tr>\n    <tr>\n      <th>22</th>\n      <td>26</td>\n      <td>Michigan</td>\n      <td>26987.0</td>\n      <td>824.0</td>\n      <td>82.0</td>\n      <td>3.0</td>\n    </tr>\n    <tr>\n      <th>23</th>\n      <td>27</td>\n      <td>Minnesota</td>\n      <td>32734.0</td>\n      <td>906.0</td>\n      <td>189.0</td>\n      <td>4.0</td>\n    </tr>\n    <tr>\n      <th>24</th>\n      <td>28</td>\n      <td>Mississippi</td>\n      <td>22766.0</td>\n      <td>740.0</td>\n      <td>194.0</td>\n      <td>5.0</td>\n    </tr>\n    <tr>\n      <th>25</th>\n      <td>29</td>\n      <td>Missouri</td>\n      <td>26999.0</td>\n      <td>784.0</td>\n      <td>113.0</td>\n      <td>4.0</td>\n    </tr>\n    <tr>\n      <th>26</th>\n      <td>30</td>\n      <td>Montana</td>\n      <td>26249.0</td>\n      <td>751.0</td>\n      <td>206.0</td>\n      <td>9.0</td>\n    </tr>\n    <tr>\n      <th>27</th>\n      <td>31</td>\n      <td>Nebraska</td>\n      <td>30020.0</td>\n      <td>773.0</td>\n      <td>146.0</td>\n      <td>4.0</td>\n    </tr>\n    <tr>\n      <th>28</th>\n      <td>32</td>\n      <td>Nevada</td>\n      <td>29019.0</td>\n      <td>1017.0</td>\n      <td>213.0</td>\n      <td>6.0</td>\n    </tr>\n    <tr>\n      <th>29</th>\n      <td>33</td>\n      <td>New Hampshire</td>\n      <td>33172.0</td>\n      <td>1052.0</td>\n      <td>387.0</td>\n      <td>9.0</td>\n    </tr>\n    <tr>\n      <th>30</th>\n      <td>34</td>\n      <td>New Jersey</td>\n      <td>35075.0</td>\n      <td>1249.0</td>\n      <td>148.0</td>\n      <td>4.0</td>\n    </tr>\n    <tr>\n      <th>31</th>\n      <td>35</td>\n      <td>New Mexico</td>\n      <td>24457.0</td>\n      <td>809.0</td>\n      <td>214.0</td>\n      <td>6.0</td>\n    </tr>\n    <tr>\n      <th>32</th>\n      <td>36</td>\n      <td>New York</td>\n      <td>31057.0</td>\n      <td>1194.0</td>\n      <td>69.0</td>\n      <td>3.0</td>\n    </tr>\n    <tr>\n      <th>33</th>\n      <td>37</td>\n      <td>North Carolina</td>\n      <td>26482.0</td>\n      <td>844.0</td>\n      <td>111.0</td>\n      <td>3.0</td>\n    </tr>\n    <tr>\n      <th>34</th>\n      <td>38</td>\n      <td>North Dakota</td>\n      <td>32336.0</td>\n      <td>775.0</td>\n      <td>245.0</td>\n      <td>9.0</td>\n    </tr>\n    <tr>\n      <th>35</th>\n      <td>39</td>\n      <td>Ohio</td>\n      <td>27435.0</td>\n      <td>764.0</td>\n      <td>94.0</td>\n      <td>2.0</td>\n    </tr>\n    <tr>\n      <th>36</th>\n      <td>40</td>\n      <td>Oklahoma</td>\n      <td>26207.0</td>\n      <td>766.0</td>\n      <td>101.0</td>\n      <td>3.0</td>\n    </tr>\n    <tr>\n      <th>37</th>\n      <td>41</td>\n      <td>Oregon</td>\n      <td>27389.0</td>\n      <td>988.0</td>\n      <td>146.0</td>\n      <td>4.0</td>\n    </tr>\n    <tr>\n      <th>38</th>\n      <td>42</td>\n      <td>Pennsylvania</td>\n      <td>28923.0</td>\n      <td>885.0</td>\n      <td>119.0</td>\n      <td>3.0</td>\n    </tr>\n    <tr>\n      <th>39</th>\n      <td>44</td>\n      <td>Rhode Island</td>\n      <td>30210.0</td>\n      <td>957.0</td>\n      <td>259.0</td>\n      <td>6.0</td>\n    </tr>\n    <tr>\n      <th>40</th>\n      <td>45</td>\n      <td>South Carolina</td>\n      <td>25454.0</td>\n      <td>836.0</td>\n      <td>123.0</td>\n      <td>4.0</td>\n    </tr>\n    <tr>\n      <th>41</th>\n      <td>46</td>\n      <td>South Dakota</td>\n      <td>28821.0</td>\n      <td>696.0</td>\n      <td>276.0</td>\n      <td>7.0</td>\n    </tr>\n    <tr>\n      <th>42</th>\n      <td>47</td>\n      <td>Tennessee</td>\n      <td>25453.0</td>\n      <td>808.0</td>\n      <td>102.0</td>\n      <td>4.0</td>\n    </tr>\n    <tr>\n      <th>43</th>\n      <td>48</td>\n      <td>Texas</td>\n      <td>28063.0</td>\n      <td>952.0</td>\n      <td>110.0</td>\n      <td>2.0</td>\n    </tr>\n    <tr>\n      <th>44</th>\n      <td>49</td>\n      <td>Utah</td>\n      <td>27928.0</td>\n      <td>948.0</td>\n      <td>239.0</td>\n      <td>6.0</td>\n    </tr>\n    <tr>\n      <th>45</th>\n      <td>50</td>\n      <td>Vermont</td>\n      <td>29351.0</td>\n      <td>945.0</td>\n      <td>361.0</td>\n      <td>11.0</td>\n    </tr>\n    <tr>\n      <th>46</th>\n      <td>51</td>\n      <td>Virginia</td>\n      <td>32545.0</td>\n      <td>1166.0</td>\n      <td>202.0</td>\n      <td>5.0</td>\n    </tr>\n    <tr>\n      <th>47</th>\n      <td>53</td>\n      <td>Washington</td>\n      <td>32318.0</td>\n      <td>1120.0</td>\n      <td>113.0</td>\n      <td>4.0</td>\n    </tr>\n    <tr>\n      <th>48</th>\n      <td>54</td>\n      <td>West Virginia</td>\n      <td>23707.0</td>\n      <td>681.0</td>\n      <td>203.0</td>\n      <td>6.0</td>\n    </tr>\n    <tr>\n      <th>49</th>\n      <td>55</td>\n      <td>Wisconsin</td>\n      <td>29868.0</td>\n      <td>813.0</td>\n      <td>135.0</td>\n      <td>3.0</td>\n    </tr>\n    <tr>\n      <th>50</th>\n      <td>56</td>\n      <td>Wyoming</td>\n      <td>30854.0</td>\n      <td>828.0</td>\n      <td>342.0</td>\n      <td>11.0</td>\n    </tr>\n    <tr>\n      <th>51</th>\n      <td>72</td>\n      <td>Puerto Rico</td>\n      <td>NaN</td>\n      <td>464.0</td>\n      <td>NaN</td>\n      <td>6.0</td>\n    </tr>\n  </tbody>\n</table>\n</div>"
     },
     "metadata": {},
     "execution_count": 6
    }
   ],
   "source": [
    "us_rent_income >> \\\n",
    "  pivot_wider(names_from=f.variable, values_from=c(f.estimate, f.moe))"
   ]
  },
  {
   "cell_type": "code",
   "execution_count": 7,
   "id": "offensive-listening",
   "metadata": {
    "execution": {
     "iopub.execute_input": "2021-04-17T00:54:14.135109Z",
     "iopub.status.busy": "2021-04-17T00:54:14.111521Z",
     "iopub.status.idle": "2021-04-17T00:54:14.139454Z",
     "shell.execute_reply": "2021-04-17T00:54:14.138941Z"
    }
   },
   "outputs": [
    {
     "output_type": "execute_result",
     "data": {
      "text/plain": [
       "    GEOID                  NAME  estimate.income  estimate.rent  moe.income  \\\n",
       "0       1               Alabama          24476.0          747.0       136.0   \n",
       "1       2                Alaska          32940.0         1200.0       508.0   \n",
       "2       4               Arizona          27517.0          972.0       148.0   \n",
       "3       5              Arkansas          23789.0          709.0       165.0   \n",
       "4       6            California          29454.0         1358.0       109.0   \n",
       "5       8              Colorado          32401.0         1125.0       109.0   \n",
       "6       9           Connecticut          35326.0         1123.0       195.0   \n",
       "7      10              Delaware          31560.0         1076.0       247.0   \n",
       "8      11  District of Columbia          43198.0         1424.0       681.0   \n",
       "9      12               Florida          25952.0         1077.0        70.0   \n",
       "10     13               Georgia          27024.0          927.0       106.0   \n",
       "11     15                Hawaii          32453.0         1507.0       218.0   \n",
       "12     16                 Idaho          25298.0          792.0       208.0   \n",
       "13     17              Illinois          30684.0          952.0        83.0   \n",
       "14     18               Indiana          27247.0          782.0       117.0   \n",
       "15     19                  Iowa          30002.0          740.0       143.0   \n",
       "16     20                Kansas          29126.0          801.0       208.0   \n",
       "17     21              Kentucky          24702.0          713.0       159.0   \n",
       "18     22             Louisiana          25086.0          825.0       155.0   \n",
       "19     23                 Maine          26841.0          808.0       187.0   \n",
       "20     24              Maryland          37147.0         1311.0       152.0   \n",
       "21     25         Massachusetts          34498.0         1173.0       199.0   \n",
       "22     26              Michigan          26987.0          824.0        82.0   \n",
       "23     27             Minnesota          32734.0          906.0       189.0   \n",
       "24     28           Mississippi          22766.0          740.0       194.0   \n",
       "25     29              Missouri          26999.0          784.0       113.0   \n",
       "26     30               Montana          26249.0          751.0       206.0   \n",
       "27     31              Nebraska          30020.0          773.0       146.0   \n",
       "28     32                Nevada          29019.0         1017.0       213.0   \n",
       "29     33         New Hampshire          33172.0         1052.0       387.0   \n",
       "30     34            New Jersey          35075.0         1249.0       148.0   \n",
       "31     35            New Mexico          24457.0          809.0       214.0   \n",
       "32     36              New York          31057.0         1194.0        69.0   \n",
       "33     37        North Carolina          26482.0          844.0       111.0   \n",
       "34     38          North Dakota          32336.0          775.0       245.0   \n",
       "35     39                  Ohio          27435.0          764.0        94.0   \n",
       "36     40              Oklahoma          26207.0          766.0       101.0   \n",
       "37     41                Oregon          27389.0          988.0       146.0   \n",
       "38     42          Pennsylvania          28923.0          885.0       119.0   \n",
       "39     44          Rhode Island          30210.0          957.0       259.0   \n",
       "40     45        South Carolina          25454.0          836.0       123.0   \n",
       "41     46          South Dakota          28821.0          696.0       276.0   \n",
       "42     47             Tennessee          25453.0          808.0       102.0   \n",
       "43     48                 Texas          28063.0          952.0       110.0   \n",
       "44     49                  Utah          27928.0          948.0       239.0   \n",
       "45     50               Vermont          29351.0          945.0       361.0   \n",
       "46     51              Virginia          32545.0         1166.0       202.0   \n",
       "47     53            Washington          32318.0         1120.0       113.0   \n",
       "48     54         West Virginia          23707.0          681.0       203.0   \n",
       "49     55             Wisconsin          29868.0          813.0       135.0   \n",
       "50     56               Wyoming          30854.0          828.0       342.0   \n",
       "51     72           Puerto Rico              NaN          464.0         NaN   \n",
       "\n",
       "    moe.rent  \n",
       "0        3.0  \n",
       "1       13.0  \n",
       "2        4.0  \n",
       "3        5.0  \n",
       "4        3.0  \n",
       "5        5.0  \n",
       "6        5.0  \n",
       "7       10.0  \n",
       "8       17.0  \n",
       "9        3.0  \n",
       "10       3.0  \n",
       "11      18.0  \n",
       "12       7.0  \n",
       "13       3.0  \n",
       "14       3.0  \n",
       "15       4.0  \n",
       "16       5.0  \n",
       "17       4.0  \n",
       "18       4.0  \n",
       "19       7.0  \n",
       "20       5.0  \n",
       "21       5.0  \n",
       "22       3.0  \n",
       "23       4.0  \n",
       "24       5.0  \n",
       "25       4.0  \n",
       "26       9.0  \n",
       "27       4.0  \n",
       "28       6.0  \n",
       "29       9.0  \n",
       "30       4.0  \n",
       "31       6.0  \n",
       "32       3.0  \n",
       "33       3.0  \n",
       "34       9.0  \n",
       "35       2.0  \n",
       "36       3.0  \n",
       "37       4.0  \n",
       "38       3.0  \n",
       "39       6.0  \n",
       "40       4.0  \n",
       "41       7.0  \n",
       "42       4.0  \n",
       "43       2.0  \n",
       "44       6.0  \n",
       "45      11.0  \n",
       "46       5.0  \n",
       "47       4.0  \n",
       "48       6.0  \n",
       "49       3.0  \n",
       "50      11.0  \n",
       "51       6.0  "
      ],
      "text/html": "<div>\n<style scoped>\n    .dataframe tbody tr th:only-of-type {\n        vertical-align: middle;\n    }\n\n    .dataframe tbody tr th {\n        vertical-align: top;\n    }\n\n    .dataframe thead th {\n        text-align: right;\n    }\n</style>\n<table border=\"1\" class=\"dataframe\">\n  <thead>\n    <tr style=\"text-align: right;\">\n      <th></th>\n      <th>GEOID</th>\n      <th>NAME</th>\n      <th>estimate.income</th>\n      <th>estimate.rent</th>\n      <th>moe.income</th>\n      <th>moe.rent</th>\n    </tr>\n  </thead>\n  <tbody>\n    <tr>\n      <th>0</th>\n      <td>1</td>\n      <td>Alabama</td>\n      <td>24476.0</td>\n      <td>747.0</td>\n      <td>136.0</td>\n      <td>3.0</td>\n    </tr>\n    <tr>\n      <th>1</th>\n      <td>2</td>\n      <td>Alaska</td>\n      <td>32940.0</td>\n      <td>1200.0</td>\n      <td>508.0</td>\n      <td>13.0</td>\n    </tr>\n    <tr>\n      <th>2</th>\n      <td>4</td>\n      <td>Arizona</td>\n      <td>27517.0</td>\n      <td>972.0</td>\n      <td>148.0</td>\n      <td>4.0</td>\n    </tr>\n    <tr>\n      <th>3</th>\n      <td>5</td>\n      <td>Arkansas</td>\n      <td>23789.0</td>\n      <td>709.0</td>\n      <td>165.0</td>\n      <td>5.0</td>\n    </tr>\n    <tr>\n      <th>4</th>\n      <td>6</td>\n      <td>California</td>\n      <td>29454.0</td>\n      <td>1358.0</td>\n      <td>109.0</td>\n      <td>3.0</td>\n    </tr>\n    <tr>\n      <th>5</th>\n      <td>8</td>\n      <td>Colorado</td>\n      <td>32401.0</td>\n      <td>1125.0</td>\n      <td>109.0</td>\n      <td>5.0</td>\n    </tr>\n    <tr>\n      <th>6</th>\n      <td>9</td>\n      <td>Connecticut</td>\n      <td>35326.0</td>\n      <td>1123.0</td>\n      <td>195.0</td>\n      <td>5.0</td>\n    </tr>\n    <tr>\n      <th>7</th>\n      <td>10</td>\n      <td>Delaware</td>\n      <td>31560.0</td>\n      <td>1076.0</td>\n      <td>247.0</td>\n      <td>10.0</td>\n    </tr>\n    <tr>\n      <th>8</th>\n      <td>11</td>\n      <td>District of Columbia</td>\n      <td>43198.0</td>\n      <td>1424.0</td>\n      <td>681.0</td>\n      <td>17.0</td>\n    </tr>\n    <tr>\n      <th>9</th>\n      <td>12</td>\n      <td>Florida</td>\n      <td>25952.0</td>\n      <td>1077.0</td>\n      <td>70.0</td>\n      <td>3.0</td>\n    </tr>\n    <tr>\n      <th>10</th>\n      <td>13</td>\n      <td>Georgia</td>\n      <td>27024.0</td>\n      <td>927.0</td>\n      <td>106.0</td>\n      <td>3.0</td>\n    </tr>\n    <tr>\n      <th>11</th>\n      <td>15</td>\n      <td>Hawaii</td>\n      <td>32453.0</td>\n      <td>1507.0</td>\n      <td>218.0</td>\n      <td>18.0</td>\n    </tr>\n    <tr>\n      <th>12</th>\n      <td>16</td>\n      <td>Idaho</td>\n      <td>25298.0</td>\n      <td>792.0</td>\n      <td>208.0</td>\n      <td>7.0</td>\n    </tr>\n    <tr>\n      <th>13</th>\n      <td>17</td>\n      <td>Illinois</td>\n      <td>30684.0</td>\n      <td>952.0</td>\n      <td>83.0</td>\n      <td>3.0</td>\n    </tr>\n    <tr>\n      <th>14</th>\n      <td>18</td>\n      <td>Indiana</td>\n      <td>27247.0</td>\n      <td>782.0</td>\n      <td>117.0</td>\n      <td>3.0</td>\n    </tr>\n    <tr>\n      <th>15</th>\n      <td>19</td>\n      <td>Iowa</td>\n      <td>30002.0</td>\n      <td>740.0</td>\n      <td>143.0</td>\n      <td>4.0</td>\n    </tr>\n    <tr>\n      <th>16</th>\n      <td>20</td>\n      <td>Kansas</td>\n      <td>29126.0</td>\n      <td>801.0</td>\n      <td>208.0</td>\n      <td>5.0</td>\n    </tr>\n    <tr>\n      <th>17</th>\n      <td>21</td>\n      <td>Kentucky</td>\n      <td>24702.0</td>\n      <td>713.0</td>\n      <td>159.0</td>\n      <td>4.0</td>\n    </tr>\n    <tr>\n      <th>18</th>\n      <td>22</td>\n      <td>Louisiana</td>\n      <td>25086.0</td>\n      <td>825.0</td>\n      <td>155.0</td>\n      <td>4.0</td>\n    </tr>\n    <tr>\n      <th>19</th>\n      <td>23</td>\n      <td>Maine</td>\n      <td>26841.0</td>\n      <td>808.0</td>\n      <td>187.0</td>\n      <td>7.0</td>\n    </tr>\n    <tr>\n      <th>20</th>\n      <td>24</td>\n      <td>Maryland</td>\n      <td>37147.0</td>\n      <td>1311.0</td>\n      <td>152.0</td>\n      <td>5.0</td>\n    </tr>\n    <tr>\n      <th>21</th>\n      <td>25</td>\n      <td>Massachusetts</td>\n      <td>34498.0</td>\n      <td>1173.0</td>\n      <td>199.0</td>\n      <td>5.0</td>\n    </tr>\n    <tr>\n      <th>22</th>\n      <td>26</td>\n      <td>Michigan</td>\n      <td>26987.0</td>\n      <td>824.0</td>\n      <td>82.0</td>\n      <td>3.0</td>\n    </tr>\n    <tr>\n      <th>23</th>\n      <td>27</td>\n      <td>Minnesota</td>\n      <td>32734.0</td>\n      <td>906.0</td>\n      <td>189.0</td>\n      <td>4.0</td>\n    </tr>\n    <tr>\n      <th>24</th>\n      <td>28</td>\n      <td>Mississippi</td>\n      <td>22766.0</td>\n      <td>740.0</td>\n      <td>194.0</td>\n      <td>5.0</td>\n    </tr>\n    <tr>\n      <th>25</th>\n      <td>29</td>\n      <td>Missouri</td>\n      <td>26999.0</td>\n      <td>784.0</td>\n      <td>113.0</td>\n      <td>4.0</td>\n    </tr>\n    <tr>\n      <th>26</th>\n      <td>30</td>\n      <td>Montana</td>\n      <td>26249.0</td>\n      <td>751.0</td>\n      <td>206.0</td>\n      <td>9.0</td>\n    </tr>\n    <tr>\n      <th>27</th>\n      <td>31</td>\n      <td>Nebraska</td>\n      <td>30020.0</td>\n      <td>773.0</td>\n      <td>146.0</td>\n      <td>4.0</td>\n    </tr>\n    <tr>\n      <th>28</th>\n      <td>32</td>\n      <td>Nevada</td>\n      <td>29019.0</td>\n      <td>1017.0</td>\n      <td>213.0</td>\n      <td>6.0</td>\n    </tr>\n    <tr>\n      <th>29</th>\n      <td>33</td>\n      <td>New Hampshire</td>\n      <td>33172.0</td>\n      <td>1052.0</td>\n      <td>387.0</td>\n      <td>9.0</td>\n    </tr>\n    <tr>\n      <th>30</th>\n      <td>34</td>\n      <td>New Jersey</td>\n      <td>35075.0</td>\n      <td>1249.0</td>\n      <td>148.0</td>\n      <td>4.0</td>\n    </tr>\n    <tr>\n      <th>31</th>\n      <td>35</td>\n      <td>New Mexico</td>\n      <td>24457.0</td>\n      <td>809.0</td>\n      <td>214.0</td>\n      <td>6.0</td>\n    </tr>\n    <tr>\n      <th>32</th>\n      <td>36</td>\n      <td>New York</td>\n      <td>31057.0</td>\n      <td>1194.0</td>\n      <td>69.0</td>\n      <td>3.0</td>\n    </tr>\n    <tr>\n      <th>33</th>\n      <td>37</td>\n      <td>North Carolina</td>\n      <td>26482.0</td>\n      <td>844.0</td>\n      <td>111.0</td>\n      <td>3.0</td>\n    </tr>\n    <tr>\n      <th>34</th>\n      <td>38</td>\n      <td>North Dakota</td>\n      <td>32336.0</td>\n      <td>775.0</td>\n      <td>245.0</td>\n      <td>9.0</td>\n    </tr>\n    <tr>\n      <th>35</th>\n      <td>39</td>\n      <td>Ohio</td>\n      <td>27435.0</td>\n      <td>764.0</td>\n      <td>94.0</td>\n      <td>2.0</td>\n    </tr>\n    <tr>\n      <th>36</th>\n      <td>40</td>\n      <td>Oklahoma</td>\n      <td>26207.0</td>\n      <td>766.0</td>\n      <td>101.0</td>\n      <td>3.0</td>\n    </tr>\n    <tr>\n      <th>37</th>\n      <td>41</td>\n      <td>Oregon</td>\n      <td>27389.0</td>\n      <td>988.0</td>\n      <td>146.0</td>\n      <td>4.0</td>\n    </tr>\n    <tr>\n      <th>38</th>\n      <td>42</td>\n      <td>Pennsylvania</td>\n      <td>28923.0</td>\n      <td>885.0</td>\n      <td>119.0</td>\n      <td>3.0</td>\n    </tr>\n    <tr>\n      <th>39</th>\n      <td>44</td>\n      <td>Rhode Island</td>\n      <td>30210.0</td>\n      <td>957.0</td>\n      <td>259.0</td>\n      <td>6.0</td>\n    </tr>\n    <tr>\n      <th>40</th>\n      <td>45</td>\n      <td>South Carolina</td>\n      <td>25454.0</td>\n      <td>836.0</td>\n      <td>123.0</td>\n      <td>4.0</td>\n    </tr>\n    <tr>\n      <th>41</th>\n      <td>46</td>\n      <td>South Dakota</td>\n      <td>28821.0</td>\n      <td>696.0</td>\n      <td>276.0</td>\n      <td>7.0</td>\n    </tr>\n    <tr>\n      <th>42</th>\n      <td>47</td>\n      <td>Tennessee</td>\n      <td>25453.0</td>\n      <td>808.0</td>\n      <td>102.0</td>\n      <td>4.0</td>\n    </tr>\n    <tr>\n      <th>43</th>\n      <td>48</td>\n      <td>Texas</td>\n      <td>28063.0</td>\n      <td>952.0</td>\n      <td>110.0</td>\n      <td>2.0</td>\n    </tr>\n    <tr>\n      <th>44</th>\n      <td>49</td>\n      <td>Utah</td>\n      <td>27928.0</td>\n      <td>948.0</td>\n      <td>239.0</td>\n      <td>6.0</td>\n    </tr>\n    <tr>\n      <th>45</th>\n      <td>50</td>\n      <td>Vermont</td>\n      <td>29351.0</td>\n      <td>945.0</td>\n      <td>361.0</td>\n      <td>11.0</td>\n    </tr>\n    <tr>\n      <th>46</th>\n      <td>51</td>\n      <td>Virginia</td>\n      <td>32545.0</td>\n      <td>1166.0</td>\n      <td>202.0</td>\n      <td>5.0</td>\n    </tr>\n    <tr>\n      <th>47</th>\n      <td>53</td>\n      <td>Washington</td>\n      <td>32318.0</td>\n      <td>1120.0</td>\n      <td>113.0</td>\n      <td>4.0</td>\n    </tr>\n    <tr>\n      <th>48</th>\n      <td>54</td>\n      <td>West Virginia</td>\n      <td>23707.0</td>\n      <td>681.0</td>\n      <td>203.0</td>\n      <td>6.0</td>\n    </tr>\n    <tr>\n      <th>49</th>\n      <td>55</td>\n      <td>Wisconsin</td>\n      <td>29868.0</td>\n      <td>813.0</td>\n      <td>135.0</td>\n      <td>3.0</td>\n    </tr>\n    <tr>\n      <th>50</th>\n      <td>56</td>\n      <td>Wyoming</td>\n      <td>30854.0</td>\n      <td>828.0</td>\n      <td>342.0</td>\n      <td>11.0</td>\n    </tr>\n    <tr>\n      <th>51</th>\n      <td>72</td>\n      <td>Puerto Rico</td>\n      <td>NaN</td>\n      <td>464.0</td>\n      <td>NaN</td>\n      <td>6.0</td>\n    </tr>\n  </tbody>\n</table>\n</div>"
     },
     "metadata": {},
     "execution_count": 7
    }
   ],
   "source": [
    "us_rent_income >> \\\n",
    "  pivot_wider(\n",
    "    names_from=f.variable,\n",
    "    names_sep=\".\",\n",
    "    values_from=c(f.estimate, f.moe)\n",
    "  )"
   ]
  },
  {
   "cell_type": "code",
   "execution_count": 8,
   "id": "active-private",
   "metadata": {
    "execution": {
     "iopub.execute_input": "2021-04-17T00:54:14.152697Z",
     "iopub.status.busy": "2021-04-17T00:54:14.150197Z",
     "iopub.status.idle": "2021-04-17T00:54:14.177350Z",
     "shell.execute_reply": "2021-04-17T00:54:14.176916Z"
    }
   },
   "outputs": [
    {
     "output_type": "execute_result",
     "data": {
      "text/plain": [
       "    GEOID                  NAME  income_estimate  rent_estimate  income_moe  \\\n",
       "0       1               Alabama          24476.0          747.0       136.0   \n",
       "1       2                Alaska          32940.0         1200.0       508.0   \n",
       "2       4               Arizona          27517.0          972.0       148.0   \n",
       "3       5              Arkansas          23789.0          709.0       165.0   \n",
       "4       6            California          29454.0         1358.0       109.0   \n",
       "5       8              Colorado          32401.0         1125.0       109.0   \n",
       "6       9           Connecticut          35326.0         1123.0       195.0   \n",
       "7      10              Delaware          31560.0         1076.0       247.0   \n",
       "8      11  District of Columbia          43198.0         1424.0       681.0   \n",
       "9      12               Florida          25952.0         1077.0        70.0   \n",
       "10     13               Georgia          27024.0          927.0       106.0   \n",
       "11     15                Hawaii          32453.0         1507.0       218.0   \n",
       "12     16                 Idaho          25298.0          792.0       208.0   \n",
       "13     17              Illinois          30684.0          952.0        83.0   \n",
       "14     18               Indiana          27247.0          782.0       117.0   \n",
       "15     19                  Iowa          30002.0          740.0       143.0   \n",
       "16     20                Kansas          29126.0          801.0       208.0   \n",
       "17     21              Kentucky          24702.0          713.0       159.0   \n",
       "18     22             Louisiana          25086.0          825.0       155.0   \n",
       "19     23                 Maine          26841.0          808.0       187.0   \n",
       "20     24              Maryland          37147.0         1311.0       152.0   \n",
       "21     25         Massachusetts          34498.0         1173.0       199.0   \n",
       "22     26              Michigan          26987.0          824.0        82.0   \n",
       "23     27             Minnesota          32734.0          906.0       189.0   \n",
       "24     28           Mississippi          22766.0          740.0       194.0   \n",
       "25     29              Missouri          26999.0          784.0       113.0   \n",
       "26     30               Montana          26249.0          751.0       206.0   \n",
       "27     31              Nebraska          30020.0          773.0       146.0   \n",
       "28     32                Nevada          29019.0         1017.0       213.0   \n",
       "29     33         New Hampshire          33172.0         1052.0       387.0   \n",
       "30     34            New Jersey          35075.0         1249.0       148.0   \n",
       "31     35            New Mexico          24457.0          809.0       214.0   \n",
       "32     36              New York          31057.0         1194.0        69.0   \n",
       "33     37        North Carolina          26482.0          844.0       111.0   \n",
       "34     38          North Dakota          32336.0          775.0       245.0   \n",
       "35     39                  Ohio          27435.0          764.0        94.0   \n",
       "36     40              Oklahoma          26207.0          766.0       101.0   \n",
       "37     41                Oregon          27389.0          988.0       146.0   \n",
       "38     42          Pennsylvania          28923.0          885.0       119.0   \n",
       "39     44          Rhode Island          30210.0          957.0       259.0   \n",
       "40     45        South Carolina          25454.0          836.0       123.0   \n",
       "41     46          South Dakota          28821.0          696.0       276.0   \n",
       "42     47             Tennessee          25453.0          808.0       102.0   \n",
       "43     48                 Texas          28063.0          952.0       110.0   \n",
       "44     49                  Utah          27928.0          948.0       239.0   \n",
       "45     50               Vermont          29351.0          945.0       361.0   \n",
       "46     51              Virginia          32545.0         1166.0       202.0   \n",
       "47     53            Washington          32318.0         1120.0       113.0   \n",
       "48     54         West Virginia          23707.0          681.0       203.0   \n",
       "49     55             Wisconsin          29868.0          813.0       135.0   \n",
       "50     56               Wyoming          30854.0          828.0       342.0   \n",
       "51     72           Puerto Rico              NaN          464.0         NaN   \n",
       "\n",
       "    rent_moe  \n",
       "0        3.0  \n",
       "1       13.0  \n",
       "2        4.0  \n",
       "3        5.0  \n",
       "4        3.0  \n",
       "5        5.0  \n",
       "6        5.0  \n",
       "7       10.0  \n",
       "8       17.0  \n",
       "9        3.0  \n",
       "10       3.0  \n",
       "11      18.0  \n",
       "12       7.0  \n",
       "13       3.0  \n",
       "14       3.0  \n",
       "15       4.0  \n",
       "16       5.0  \n",
       "17       4.0  \n",
       "18       4.0  \n",
       "19       7.0  \n",
       "20       5.0  \n",
       "21       5.0  \n",
       "22       3.0  \n",
       "23       4.0  \n",
       "24       5.0  \n",
       "25       4.0  \n",
       "26       9.0  \n",
       "27       4.0  \n",
       "28       6.0  \n",
       "29       9.0  \n",
       "30       4.0  \n",
       "31       6.0  \n",
       "32       3.0  \n",
       "33       3.0  \n",
       "34       9.0  \n",
       "35       2.0  \n",
       "36       3.0  \n",
       "37       4.0  \n",
       "38       3.0  \n",
       "39       6.0  \n",
       "40       4.0  \n",
       "41       7.0  \n",
       "42       4.0  \n",
       "43       2.0  \n",
       "44       6.0  \n",
       "45      11.0  \n",
       "46       5.0  \n",
       "47       4.0  \n",
       "48       6.0  \n",
       "49       3.0  \n",
       "50      11.0  \n",
       "51       6.0  "
      ],
      "text/html": "<div>\n<style scoped>\n    .dataframe tbody tr th:only-of-type {\n        vertical-align: middle;\n    }\n\n    .dataframe tbody tr th {\n        vertical-align: top;\n    }\n\n    .dataframe thead th {\n        text-align: right;\n    }\n</style>\n<table border=\"1\" class=\"dataframe\">\n  <thead>\n    <tr style=\"text-align: right;\">\n      <th></th>\n      <th>GEOID</th>\n      <th>NAME</th>\n      <th>income_estimate</th>\n      <th>rent_estimate</th>\n      <th>income_moe</th>\n      <th>rent_moe</th>\n    </tr>\n  </thead>\n  <tbody>\n    <tr>\n      <th>0</th>\n      <td>1</td>\n      <td>Alabama</td>\n      <td>24476.0</td>\n      <td>747.0</td>\n      <td>136.0</td>\n      <td>3.0</td>\n    </tr>\n    <tr>\n      <th>1</th>\n      <td>2</td>\n      <td>Alaska</td>\n      <td>32940.0</td>\n      <td>1200.0</td>\n      <td>508.0</td>\n      <td>13.0</td>\n    </tr>\n    <tr>\n      <th>2</th>\n      <td>4</td>\n      <td>Arizona</td>\n      <td>27517.0</td>\n      <td>972.0</td>\n      <td>148.0</td>\n      <td>4.0</td>\n    </tr>\n    <tr>\n      <th>3</th>\n      <td>5</td>\n      <td>Arkansas</td>\n      <td>23789.0</td>\n      <td>709.0</td>\n      <td>165.0</td>\n      <td>5.0</td>\n    </tr>\n    <tr>\n      <th>4</th>\n      <td>6</td>\n      <td>California</td>\n      <td>29454.0</td>\n      <td>1358.0</td>\n      <td>109.0</td>\n      <td>3.0</td>\n    </tr>\n    <tr>\n      <th>5</th>\n      <td>8</td>\n      <td>Colorado</td>\n      <td>32401.0</td>\n      <td>1125.0</td>\n      <td>109.0</td>\n      <td>5.0</td>\n    </tr>\n    <tr>\n      <th>6</th>\n      <td>9</td>\n      <td>Connecticut</td>\n      <td>35326.0</td>\n      <td>1123.0</td>\n      <td>195.0</td>\n      <td>5.0</td>\n    </tr>\n    <tr>\n      <th>7</th>\n      <td>10</td>\n      <td>Delaware</td>\n      <td>31560.0</td>\n      <td>1076.0</td>\n      <td>247.0</td>\n      <td>10.0</td>\n    </tr>\n    <tr>\n      <th>8</th>\n      <td>11</td>\n      <td>District of Columbia</td>\n      <td>43198.0</td>\n      <td>1424.0</td>\n      <td>681.0</td>\n      <td>17.0</td>\n    </tr>\n    <tr>\n      <th>9</th>\n      <td>12</td>\n      <td>Florida</td>\n      <td>25952.0</td>\n      <td>1077.0</td>\n      <td>70.0</td>\n      <td>3.0</td>\n    </tr>\n    <tr>\n      <th>10</th>\n      <td>13</td>\n      <td>Georgia</td>\n      <td>27024.0</td>\n      <td>927.0</td>\n      <td>106.0</td>\n      <td>3.0</td>\n    </tr>\n    <tr>\n      <th>11</th>\n      <td>15</td>\n      <td>Hawaii</td>\n      <td>32453.0</td>\n      <td>1507.0</td>\n      <td>218.0</td>\n      <td>18.0</td>\n    </tr>\n    <tr>\n      <th>12</th>\n      <td>16</td>\n      <td>Idaho</td>\n      <td>25298.0</td>\n      <td>792.0</td>\n      <td>208.0</td>\n      <td>7.0</td>\n    </tr>\n    <tr>\n      <th>13</th>\n      <td>17</td>\n      <td>Illinois</td>\n      <td>30684.0</td>\n      <td>952.0</td>\n      <td>83.0</td>\n      <td>3.0</td>\n    </tr>\n    <tr>\n      <th>14</th>\n      <td>18</td>\n      <td>Indiana</td>\n      <td>27247.0</td>\n      <td>782.0</td>\n      <td>117.0</td>\n      <td>3.0</td>\n    </tr>\n    <tr>\n      <th>15</th>\n      <td>19</td>\n      <td>Iowa</td>\n      <td>30002.0</td>\n      <td>740.0</td>\n      <td>143.0</td>\n      <td>4.0</td>\n    </tr>\n    <tr>\n      <th>16</th>\n      <td>20</td>\n      <td>Kansas</td>\n      <td>29126.0</td>\n      <td>801.0</td>\n      <td>208.0</td>\n      <td>5.0</td>\n    </tr>\n    <tr>\n      <th>17</th>\n      <td>21</td>\n      <td>Kentucky</td>\n      <td>24702.0</td>\n      <td>713.0</td>\n      <td>159.0</td>\n      <td>4.0</td>\n    </tr>\n    <tr>\n      <th>18</th>\n      <td>22</td>\n      <td>Louisiana</td>\n      <td>25086.0</td>\n      <td>825.0</td>\n      <td>155.0</td>\n      <td>4.0</td>\n    </tr>\n    <tr>\n      <th>19</th>\n      <td>23</td>\n      <td>Maine</td>\n      <td>26841.0</td>\n      <td>808.0</td>\n      <td>187.0</td>\n      <td>7.0</td>\n    </tr>\n    <tr>\n      <th>20</th>\n      <td>24</td>\n      <td>Maryland</td>\n      <td>37147.0</td>\n      <td>1311.0</td>\n      <td>152.0</td>\n      <td>5.0</td>\n    </tr>\n    <tr>\n      <th>21</th>\n      <td>25</td>\n      <td>Massachusetts</td>\n      <td>34498.0</td>\n      <td>1173.0</td>\n      <td>199.0</td>\n      <td>5.0</td>\n    </tr>\n    <tr>\n      <th>22</th>\n      <td>26</td>\n      <td>Michigan</td>\n      <td>26987.0</td>\n      <td>824.0</td>\n      <td>82.0</td>\n      <td>3.0</td>\n    </tr>\n    <tr>\n      <th>23</th>\n      <td>27</td>\n      <td>Minnesota</td>\n      <td>32734.0</td>\n      <td>906.0</td>\n      <td>189.0</td>\n      <td>4.0</td>\n    </tr>\n    <tr>\n      <th>24</th>\n      <td>28</td>\n      <td>Mississippi</td>\n      <td>22766.0</td>\n      <td>740.0</td>\n      <td>194.0</td>\n      <td>5.0</td>\n    </tr>\n    <tr>\n      <th>25</th>\n      <td>29</td>\n      <td>Missouri</td>\n      <td>26999.0</td>\n      <td>784.0</td>\n      <td>113.0</td>\n      <td>4.0</td>\n    </tr>\n    <tr>\n      <th>26</th>\n      <td>30</td>\n      <td>Montana</td>\n      <td>26249.0</td>\n      <td>751.0</td>\n      <td>206.0</td>\n      <td>9.0</td>\n    </tr>\n    <tr>\n      <th>27</th>\n      <td>31</td>\n      <td>Nebraska</td>\n      <td>30020.0</td>\n      <td>773.0</td>\n      <td>146.0</td>\n      <td>4.0</td>\n    </tr>\n    <tr>\n      <th>28</th>\n      <td>32</td>\n      <td>Nevada</td>\n      <td>29019.0</td>\n      <td>1017.0</td>\n      <td>213.0</td>\n      <td>6.0</td>\n    </tr>\n    <tr>\n      <th>29</th>\n      <td>33</td>\n      <td>New Hampshire</td>\n      <td>33172.0</td>\n      <td>1052.0</td>\n      <td>387.0</td>\n      <td>9.0</td>\n    </tr>\n    <tr>\n      <th>30</th>\n      <td>34</td>\n      <td>New Jersey</td>\n      <td>35075.0</td>\n      <td>1249.0</td>\n      <td>148.0</td>\n      <td>4.0</td>\n    </tr>\n    <tr>\n      <th>31</th>\n      <td>35</td>\n      <td>New Mexico</td>\n      <td>24457.0</td>\n      <td>809.0</td>\n      <td>214.0</td>\n      <td>6.0</td>\n    </tr>\n    <tr>\n      <th>32</th>\n      <td>36</td>\n      <td>New York</td>\n      <td>31057.0</td>\n      <td>1194.0</td>\n      <td>69.0</td>\n      <td>3.0</td>\n    </tr>\n    <tr>\n      <th>33</th>\n      <td>37</td>\n      <td>North Carolina</td>\n      <td>26482.0</td>\n      <td>844.0</td>\n      <td>111.0</td>\n      <td>3.0</td>\n    </tr>\n    <tr>\n      <th>34</th>\n      <td>38</td>\n      <td>North Dakota</td>\n      <td>32336.0</td>\n      <td>775.0</td>\n      <td>245.0</td>\n      <td>9.0</td>\n    </tr>\n    <tr>\n      <th>35</th>\n      <td>39</td>\n      <td>Ohio</td>\n      <td>27435.0</td>\n      <td>764.0</td>\n      <td>94.0</td>\n      <td>2.0</td>\n    </tr>\n    <tr>\n      <th>36</th>\n      <td>40</td>\n      <td>Oklahoma</td>\n      <td>26207.0</td>\n      <td>766.0</td>\n      <td>101.0</td>\n      <td>3.0</td>\n    </tr>\n    <tr>\n      <th>37</th>\n      <td>41</td>\n      <td>Oregon</td>\n      <td>27389.0</td>\n      <td>988.0</td>\n      <td>146.0</td>\n      <td>4.0</td>\n    </tr>\n    <tr>\n      <th>38</th>\n      <td>42</td>\n      <td>Pennsylvania</td>\n      <td>28923.0</td>\n      <td>885.0</td>\n      <td>119.0</td>\n      <td>3.0</td>\n    </tr>\n    <tr>\n      <th>39</th>\n      <td>44</td>\n      <td>Rhode Island</td>\n      <td>30210.0</td>\n      <td>957.0</td>\n      <td>259.0</td>\n      <td>6.0</td>\n    </tr>\n    <tr>\n      <th>40</th>\n      <td>45</td>\n      <td>South Carolina</td>\n      <td>25454.0</td>\n      <td>836.0</td>\n      <td>123.0</td>\n      <td>4.0</td>\n    </tr>\n    <tr>\n      <th>41</th>\n      <td>46</td>\n      <td>South Dakota</td>\n      <td>28821.0</td>\n      <td>696.0</td>\n      <td>276.0</td>\n      <td>7.0</td>\n    </tr>\n    <tr>\n      <th>42</th>\n      <td>47</td>\n      <td>Tennessee</td>\n      <td>25453.0</td>\n      <td>808.0</td>\n      <td>102.0</td>\n      <td>4.0</td>\n    </tr>\n    <tr>\n      <th>43</th>\n      <td>48</td>\n      <td>Texas</td>\n      <td>28063.0</td>\n      <td>952.0</td>\n      <td>110.0</td>\n      <td>2.0</td>\n    </tr>\n    <tr>\n      <th>44</th>\n      <td>49</td>\n      <td>Utah</td>\n      <td>27928.0</td>\n      <td>948.0</td>\n      <td>239.0</td>\n      <td>6.0</td>\n    </tr>\n    <tr>\n      <th>45</th>\n      <td>50</td>\n      <td>Vermont</td>\n      <td>29351.0</td>\n      <td>945.0</td>\n      <td>361.0</td>\n      <td>11.0</td>\n    </tr>\n    <tr>\n      <th>46</th>\n      <td>51</td>\n      <td>Virginia</td>\n      <td>32545.0</td>\n      <td>1166.0</td>\n      <td>202.0</td>\n      <td>5.0</td>\n    </tr>\n    <tr>\n      <th>47</th>\n      <td>53</td>\n      <td>Washington</td>\n      <td>32318.0</td>\n      <td>1120.0</td>\n      <td>113.0</td>\n      <td>4.0</td>\n    </tr>\n    <tr>\n      <th>48</th>\n      <td>54</td>\n      <td>West Virginia</td>\n      <td>23707.0</td>\n      <td>681.0</td>\n      <td>203.0</td>\n      <td>6.0</td>\n    </tr>\n    <tr>\n      <th>49</th>\n      <td>55</td>\n      <td>Wisconsin</td>\n      <td>29868.0</td>\n      <td>813.0</td>\n      <td>135.0</td>\n      <td>3.0</td>\n    </tr>\n    <tr>\n      <th>50</th>\n      <td>56</td>\n      <td>Wyoming</td>\n      <td>30854.0</td>\n      <td>828.0</td>\n      <td>342.0</td>\n      <td>11.0</td>\n    </tr>\n    <tr>\n      <th>51</th>\n      <td>72</td>\n      <td>Puerto Rico</td>\n      <td>NaN</td>\n      <td>464.0</td>\n      <td>NaN</td>\n      <td>6.0</td>\n    </tr>\n  </tbody>\n</table>\n</div>"
     },
     "metadata": {},
     "execution_count": 8
    }
   ],
   "source": [
    "us_rent_income >> \\\n",
    "  pivot_wider(\n",
    "    names_from=f.variable,\n",
    "    names_glue=\"{variable}_{_value}\",\n",
    "    values_from=c(f.estimate, f.moe)\n",
    "  )"
   ]
  },
  {
   "cell_type": "code",
   "execution_count": 9,
   "id": "abstract-gnome",
   "metadata": {
    "execution": {
     "iopub.execute_input": "2021-04-17T00:54:14.188048Z",
     "iopub.status.busy": "2021-04-17T00:54:14.187318Z",
     "iopub.status.idle": "2021-04-17T00:54:14.191494Z",
     "shell.execute_reply": "2021-04-17T00:54:14.191003Z"
    }
   },
   "outputs": [
    {
     "output_type": "execute_result",
     "data": {
      "text/plain": [
       "    breaks wool tension\n",
       "0       26    A       L\n",
       "1       30    A       L\n",
       "2       54    A       L\n",
       "3       25    A       L\n",
       "4       70    A       L\n",
       "5       52    A       L\n",
       "6       51    A       L\n",
       "7       26    A       L\n",
       "8       67    A       L\n",
       "9       18    A       M\n",
       "10      21    A       M\n",
       "11      29    A       M\n",
       "12      17    A       M\n",
       "13      12    A       M\n",
       "14      18    A       M\n",
       "15      35    A       M\n",
       "16      30    A       M\n",
       "17      36    A       M\n",
       "18      36    A       H\n",
       "19      21    A       H\n",
       "20      24    A       H\n",
       "21      18    A       H\n",
       "22      10    A       H\n",
       "23      43    A       H\n",
       "24      28    A       H\n",
       "25      15    A       H\n",
       "26      26    A       H\n",
       "27      27    B       L\n",
       "28      14    B       L\n",
       "29      29    B       L\n",
       "30      19    B       L\n",
       "31      29    B       L\n",
       "32      31    B       L\n",
       "33      41    B       L\n",
       "34      20    B       L\n",
       "35      44    B       L\n",
       "36      42    B       M\n",
       "37      26    B       M\n",
       "38      19    B       M\n",
       "39      16    B       M\n",
       "40      39    B       M\n",
       "41      28    B       M\n",
       "42      21    B       M\n",
       "43      39    B       M\n",
       "44      29    B       M\n",
       "45      20    B       H\n",
       "46      21    B       H\n",
       "47      24    B       H\n",
       "48      17    B       H\n",
       "49      13    B       H\n",
       "50      15    B       H\n",
       "51      15    B       H\n",
       "52      16    B       H\n",
       "53      28    B       H"
      ],
      "text/html": "<div>\n<style scoped>\n    .dataframe tbody tr th:only-of-type {\n        vertical-align: middle;\n    }\n\n    .dataframe tbody tr th {\n        vertical-align: top;\n    }\n\n    .dataframe thead th {\n        text-align: right;\n    }\n</style>\n<table border=\"1\" class=\"dataframe\">\n  <thead>\n    <tr style=\"text-align: right;\">\n      <th></th>\n      <th>breaks</th>\n      <th>wool</th>\n      <th>tension</th>\n    </tr>\n  </thead>\n  <tbody>\n    <tr>\n      <th>0</th>\n      <td>26</td>\n      <td>A</td>\n      <td>L</td>\n    </tr>\n    <tr>\n      <th>1</th>\n      <td>30</td>\n      <td>A</td>\n      <td>L</td>\n    </tr>\n    <tr>\n      <th>2</th>\n      <td>54</td>\n      <td>A</td>\n      <td>L</td>\n    </tr>\n    <tr>\n      <th>3</th>\n      <td>25</td>\n      <td>A</td>\n      <td>L</td>\n    </tr>\n    <tr>\n      <th>4</th>\n      <td>70</td>\n      <td>A</td>\n      <td>L</td>\n    </tr>\n    <tr>\n      <th>5</th>\n      <td>52</td>\n      <td>A</td>\n      <td>L</td>\n    </tr>\n    <tr>\n      <th>6</th>\n      <td>51</td>\n      <td>A</td>\n      <td>L</td>\n    </tr>\n    <tr>\n      <th>7</th>\n      <td>26</td>\n      <td>A</td>\n      <td>L</td>\n    </tr>\n    <tr>\n      <th>8</th>\n      <td>67</td>\n      <td>A</td>\n      <td>L</td>\n    </tr>\n    <tr>\n      <th>9</th>\n      <td>18</td>\n      <td>A</td>\n      <td>M</td>\n    </tr>\n    <tr>\n      <th>10</th>\n      <td>21</td>\n      <td>A</td>\n      <td>M</td>\n    </tr>\n    <tr>\n      <th>11</th>\n      <td>29</td>\n      <td>A</td>\n      <td>M</td>\n    </tr>\n    <tr>\n      <th>12</th>\n      <td>17</td>\n      <td>A</td>\n      <td>M</td>\n    </tr>\n    <tr>\n      <th>13</th>\n      <td>12</td>\n      <td>A</td>\n      <td>M</td>\n    </tr>\n    <tr>\n      <th>14</th>\n      <td>18</td>\n      <td>A</td>\n      <td>M</td>\n    </tr>\n    <tr>\n      <th>15</th>\n      <td>35</td>\n      <td>A</td>\n      <td>M</td>\n    </tr>\n    <tr>\n      <th>16</th>\n      <td>30</td>\n      <td>A</td>\n      <td>M</td>\n    </tr>\n    <tr>\n      <th>17</th>\n      <td>36</td>\n      <td>A</td>\n      <td>M</td>\n    </tr>\n    <tr>\n      <th>18</th>\n      <td>36</td>\n      <td>A</td>\n      <td>H</td>\n    </tr>\n    <tr>\n      <th>19</th>\n      <td>21</td>\n      <td>A</td>\n      <td>H</td>\n    </tr>\n    <tr>\n      <th>20</th>\n      <td>24</td>\n      <td>A</td>\n      <td>H</td>\n    </tr>\n    <tr>\n      <th>21</th>\n      <td>18</td>\n      <td>A</td>\n      <td>H</td>\n    </tr>\n    <tr>\n      <th>22</th>\n      <td>10</td>\n      <td>A</td>\n      <td>H</td>\n    </tr>\n    <tr>\n      <th>23</th>\n      <td>43</td>\n      <td>A</td>\n      <td>H</td>\n    </tr>\n    <tr>\n      <th>24</th>\n      <td>28</td>\n      <td>A</td>\n      <td>H</td>\n    </tr>\n    <tr>\n      <th>25</th>\n      <td>15</td>\n      <td>A</td>\n      <td>H</td>\n    </tr>\n    <tr>\n      <th>26</th>\n      <td>26</td>\n      <td>A</td>\n      <td>H</td>\n    </tr>\n    <tr>\n      <th>27</th>\n      <td>27</td>\n      <td>B</td>\n      <td>L</td>\n    </tr>\n    <tr>\n      <th>28</th>\n      <td>14</td>\n      <td>B</td>\n      <td>L</td>\n    </tr>\n    <tr>\n      <th>29</th>\n      <td>29</td>\n      <td>B</td>\n      <td>L</td>\n    </tr>\n    <tr>\n      <th>30</th>\n      <td>19</td>\n      <td>B</td>\n      <td>L</td>\n    </tr>\n    <tr>\n      <th>31</th>\n      <td>29</td>\n      <td>B</td>\n      <td>L</td>\n    </tr>\n    <tr>\n      <th>32</th>\n      <td>31</td>\n      <td>B</td>\n      <td>L</td>\n    </tr>\n    <tr>\n      <th>33</th>\n      <td>41</td>\n      <td>B</td>\n      <td>L</td>\n    </tr>\n    <tr>\n      <th>34</th>\n      <td>20</td>\n      <td>B</td>\n      <td>L</td>\n    </tr>\n    <tr>\n      <th>35</th>\n      <td>44</td>\n      <td>B</td>\n      <td>L</td>\n    </tr>\n    <tr>\n      <th>36</th>\n      <td>42</td>\n      <td>B</td>\n      <td>M</td>\n    </tr>\n    <tr>\n      <th>37</th>\n      <td>26</td>\n      <td>B</td>\n      <td>M</td>\n    </tr>\n    <tr>\n      <th>38</th>\n      <td>19</td>\n      <td>B</td>\n      <td>M</td>\n    </tr>\n    <tr>\n      <th>39</th>\n      <td>16</td>\n      <td>B</td>\n      <td>M</td>\n    </tr>\n    <tr>\n      <th>40</th>\n      <td>39</td>\n      <td>B</td>\n      <td>M</td>\n    </tr>\n    <tr>\n      <th>41</th>\n      <td>28</td>\n      <td>B</td>\n      <td>M</td>\n    </tr>\n    <tr>\n      <th>42</th>\n      <td>21</td>\n      <td>B</td>\n      <td>M</td>\n    </tr>\n    <tr>\n      <th>43</th>\n      <td>39</td>\n      <td>B</td>\n      <td>M</td>\n    </tr>\n    <tr>\n      <th>44</th>\n      <td>29</td>\n      <td>B</td>\n      <td>M</td>\n    </tr>\n    <tr>\n      <th>45</th>\n      <td>20</td>\n      <td>B</td>\n      <td>H</td>\n    </tr>\n    <tr>\n      <th>46</th>\n      <td>21</td>\n      <td>B</td>\n      <td>H</td>\n    </tr>\n    <tr>\n      <th>47</th>\n      <td>24</td>\n      <td>B</td>\n      <td>H</td>\n    </tr>\n    <tr>\n      <th>48</th>\n      <td>17</td>\n      <td>B</td>\n      <td>H</td>\n    </tr>\n    <tr>\n      <th>49</th>\n      <td>13</td>\n      <td>B</td>\n      <td>H</td>\n    </tr>\n    <tr>\n      <th>50</th>\n      <td>15</td>\n      <td>B</td>\n      <td>H</td>\n    </tr>\n    <tr>\n      <th>51</th>\n      <td>15</td>\n      <td>B</td>\n      <td>H</td>\n    </tr>\n    <tr>\n      <th>52</th>\n      <td>16</td>\n      <td>B</td>\n      <td>H</td>\n    </tr>\n    <tr>\n      <th>53</th>\n      <td>28</td>\n      <td>B</td>\n      <td>H</td>\n    </tr>\n  </tbody>\n</table>\n</div>"
     },
     "metadata": {},
     "execution_count": 9
    }
   ],
   "source": [
    "warpbreaks"
   ]
  },
  {
   "cell_type": "code",
   "execution_count": 10,
   "id": "strong-brunswick",
   "metadata": {
    "execution": {
     "iopub.execute_input": "2021-04-17T00:54:14.199237Z",
     "iopub.status.busy": "2021-04-17T00:54:14.198590Z",
     "iopub.status.idle": "2021-04-17T00:54:14.278261Z",
     "shell.execute_reply": "2021-04-17T00:54:14.278814Z"
    }
   },
   "outputs": [
    {
     "output_type": "execute_result",
     "data": {
      "text/plain": [
       "  tension          A          B\n",
       "0       H  24.555556  18.777778\n",
       "1       L  44.555556  28.222222\n",
       "2       M  24.000000  28.777778"
      ],
      "text/html": "<div>\n<style scoped>\n    .dataframe tbody tr th:only-of-type {\n        vertical-align: middle;\n    }\n\n    .dataframe tbody tr th {\n        vertical-align: top;\n    }\n\n    .dataframe thead th {\n        text-align: right;\n    }\n</style>\n<table border=\"1\" class=\"dataframe\">\n  <thead>\n    <tr style=\"text-align: right;\">\n      <th></th>\n      <th>tension</th>\n      <th>A</th>\n      <th>B</th>\n    </tr>\n  </thead>\n  <tbody>\n    <tr>\n      <th>0</th>\n      <td>H</td>\n      <td>24.555556</td>\n      <td>18.777778</td>\n    </tr>\n    <tr>\n      <th>1</th>\n      <td>L</td>\n      <td>44.555556</td>\n      <td>28.222222</td>\n    </tr>\n    <tr>\n      <th>2</th>\n      <td>M</td>\n      <td>24.000000</td>\n      <td>28.777778</td>\n    </tr>\n  </tbody>\n</table>\n</div>"
     },
     "metadata": {},
     "execution_count": 10
    }
   ],
   "source": [
    "warpbreaks >> \\\n",
    "  pivot_wider(\n",
    "    names_from=f.wool,\n",
    "    values_from=f.breaks,\n",
    "    values_fn = mean\n",
    "  )"
   ]
  },
  {
   "cell_type": "code",
   "execution_count": null,
   "metadata": {},
   "outputs": [],
   "source": []
  }
 ],
 "metadata": {
  "kernelspec": {
   "display_name": "Python 3",
   "language": "python",
   "name": "python3"
  },
  "language_info": {
   "codemirror_mode": {
    "name": "ipython",
    "version": 3
   },
   "file_extension": ".py",
   "mimetype": "text/x-python",
   "name": "python",
   "nbconvert_exporter": "python",
   "pygments_lexer": "ipython3",
   "version": "3.7.8"
  }
 },
 "nbformat": 4,
 "nbformat_minor": 5
}