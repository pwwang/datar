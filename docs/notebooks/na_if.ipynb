{
 "cells": [
  {
   "cell_type": "code",
   "execution_count": 1,
   "source": [
    "# https://dplyr.tidyverse.org/reference/na_if.html\n",
    "from datar.datasets import starwars\n",
    "from datar.all import *\n",
    "\n",
    "%run nb_helpers.py\n",
    "nb_header(na_if)"
   ],
   "outputs": [
    {
     "output_type": "stream",
     "name": "stderr",
     "text": [
      "[2021-06-21 14:27:36][datar][WARNING] Builtin name \"min\" has been overriden by datar.\n",
      "[2021-06-21 14:27:36][datar][WARNING] Builtin name \"max\" has been overriden by datar.\n",
      "[2021-06-21 14:27:36][datar][WARNING] Builtin name \"sum\" has been overriden by datar.\n",
      "[2021-06-21 14:27:36][datar][WARNING] Builtin name \"abs\" has been overriden by datar.\n",
      "[2021-06-21 14:27:36][datar][WARNING] Builtin name \"round\" has been overriden by datar.\n",
      "[2021-06-21 14:27:36][datar][WARNING] Builtin name \"all\" has been overriden by datar.\n",
      "[2021-06-21 14:27:36][datar][WARNING] Builtin name \"any\" has been overriden by datar.\n",
      "[2021-06-21 14:27:36][datar][WARNING] Builtin name \"re\" has been overriden by datar.\n",
      "[2021-06-21 14:27:36][datar][WARNING] Builtin name \"filter\" has been overriden by datar.\n",
      "[2021-06-21 14:27:36][datar][WARNING] Builtin name \"slice\" has been overriden by datar.\n"
     ]
    },
    {
     "output_type": "display_data",
     "data": {
      "text/plain": [
       "<IPython.core.display.HTML object>"
      ],
      "text/html": [
       "<div style=\"text-align: right; text-style: italic\">Try this notebook on <a target=\"_blank\" href=\"https://mybinder.org/v2/gh/pwwang/datar/93d069f3ca36711fc811c61dcf60e9fc3d1460a5?filepath=docs%2Fnotebooks%2Fna_if.ipynb\">binder</a>.</div>"
      ]
     },
     "metadata": {}
    },
    {
     "output_type": "display_data",
     "data": {
      "text/plain": [
       "<IPython.core.display.Markdown object>"
      ],
      "text/markdown": [
       "### # na_if  "
      ]
     },
     "metadata": {}
    },
    {
     "output_type": "display_data",
     "data": {
      "text/plain": [
       "<IPython.core.display.Markdown object>"
      ],
      "text/markdown": [
       "##### Convert an annoying value to NA\n",
       "\n",
       "##### Args:\n",
       "&emsp;&emsp;`x`: Vector to modify  \n",
       "&emsp;&emsp;`y`: Value to replace with NA  \n",
       "\n",
       "##### Returns:\n",
       "&emsp;&emsp;A vector with values replaced.  \n"
      ]
     },
     "metadata": {}
    }
   ],
   "metadata": {
    "execution": {
     "iopub.execute_input": "2021-04-17T00:53:46.679783Z",
     "iopub.status.busy": "2021-04-17T00:53:46.678158Z",
     "iopub.status.idle": "2021-04-17T00:53:47.331318Z",
     "shell.execute_reply": "2021-04-17T00:53:47.330746Z"
    }
   }
  },
  {
   "cell_type": "code",
   "execution_count": 2,
   "source": [
    "na_if(range(5), list(range(4,-1,-1)))"
   ],
   "outputs": [
    {
     "output_type": "execute_result",
     "data": {
      "text/plain": [
       "0    0.0\n",
       "1    1.0\n",
       "2    NaN\n",
       "3    3.0\n",
       "4    4.0\n",
       "dtype: float64"
      ]
     },
     "metadata": {},
     "execution_count": 2
    }
   ],
   "metadata": {
    "execution": {
     "iopub.execute_input": "2021-04-17T00:53:47.340015Z",
     "iopub.status.busy": "2021-04-17T00:53:47.339427Z",
     "iopub.status.idle": "2021-04-17T00:53:47.341979Z",
     "shell.execute_reply": "2021-04-17T00:53:47.342476Z"
    }
   }
  },
  {
   "cell_type": "code",
   "execution_count": 3,
   "source": [
    "x = tibble(x=[1, -1, 0, 10]).x\n",
    "100 / x"
   ],
   "outputs": [
    {
     "output_type": "execute_result",
     "data": {
      "text/plain": [
       "0    100.0\n",
       "1   -100.0\n",
       "2      inf\n",
       "3     10.0\n",
       "Name: x, dtype: float64"
      ]
     },
     "metadata": {},
     "execution_count": 3
    }
   ],
   "metadata": {
    "execution": {
     "iopub.execute_input": "2021-04-17T00:53:47.346016Z",
     "iopub.status.busy": "2021-04-17T00:53:47.345523Z",
     "iopub.status.idle": "2021-04-17T00:53:47.383104Z",
     "shell.execute_reply": "2021-04-17T00:53:47.382705Z"
    }
   }
  },
  {
   "cell_type": "code",
   "execution_count": 4,
   "source": [
    "na_if(x, 0)"
   ],
   "outputs": [
    {
     "output_type": "execute_result",
     "data": {
      "text/plain": [
       "0     1.0\n",
       "1    -1.0\n",
       "2     NaN\n",
       "3    10.0\n",
       "Name: x, dtype: float64"
      ]
     },
     "metadata": {},
     "execution_count": 4
    }
   ],
   "metadata": {
    "execution": {
     "iopub.execute_input": "2021-04-17T00:53:47.389849Z",
     "iopub.status.busy": "2021-04-17T00:53:47.389010Z",
     "iopub.status.idle": "2021-04-17T00:53:47.393387Z",
     "shell.execute_reply": "2021-04-17T00:53:47.392880Z"
    }
   }
  },
  {
   "cell_type": "code",
   "execution_count": 5,
   "source": [
    "y = tibble(y=[\"abc\", \"def\", \"\", \"ghi\"]).y\n",
    "na_if(y, \"\")"
   ],
   "outputs": [
    {
     "output_type": "execute_result",
     "data": {
      "text/plain": [
       "0    abc\n",
       "1    def\n",
       "2    NaN\n",
       "3    ghi\n",
       "Name: y, dtype: object"
      ]
     },
     "metadata": {},
     "execution_count": 5
    }
   ],
   "metadata": {
    "execution": {
     "iopub.execute_input": "2021-04-17T00:53:47.397078Z",
     "iopub.status.busy": "2021-04-17T00:53:47.396596Z",
     "iopub.status.idle": "2021-04-17T00:53:47.411833Z",
     "shell.execute_reply": "2021-04-17T00:53:47.411321Z"
    }
   }
  },
  {
   "cell_type": "code",
   "execution_count": 6,
   "source": [
    "starwars >> \\\n",
    "  select(f.name, f.eye_color) >> \\\n",
    "  mutate(eye_color = na_if(f.eye_color, \"unknown\"))"
   ],
   "outputs": [
    {
     "output_type": "execute_result",
     "data": {
      "text/plain": [
       "              name eye_color\n",
       "          <object>  <object>\n",
       "0   Luke Skywalker      blue\n",
       "1            C-3PO    yellow\n",
       "2            R2-D2       red\n",
       "3      Darth Vader    yellow\n",
       "..             ...       ...\n",
       "4      Leia Organa     brown\n",
       "82             Rey     hazel\n",
       "83     Poe Dameron     brown\n",
       "84             BB8     black\n",
       "85  Captain Phasma       NaN\n",
       "86   Padmé Amidala     brown\n",
       "\n",
       "[87 rows x 2 columns]"
      ],
      "text/html": [
       "<table border=\"1\" class=\"dataframe\">\n",
       "  <thead>\n",
       "    <tr style=\"text-align: right;\">\n",
       "      <th></th>\n",
       "      <th>name</th>\n",
       "      <th>eye_color</th>\n",
       "    </tr>\n",
       "  </thead>\n",
       "  <tbody>\n",
       "    <tr>\n",
       "      <th style=\"font-style: italic;\" ></th>\n",
       "      <td style=\"font-style: italic;\" >&lt;object&gt;</td>\n",
       "      <td style=\"font-style: italic;\" >&lt;object&gt;</td>\n",
       "    </tr>\n",
       "    <tr>\n",
       "      <th>0</th>\n",
       "      <td>Luke Skywalker</td>\n",
       "      <td>blue</td>\n",
       "    </tr>\n",
       "    <tr>\n",
       "      <th>1</th>\n",
       "      <td>C-3PO</td>\n",
       "      <td>yellow</td>\n",
       "    </tr>\n",
       "    <tr>\n",
       "      <th>2</th>\n",
       "      <td>R2-D2</td>\n",
       "      <td>red</td>\n",
       "    </tr>\n",
       "    <tr>\n",
       "      <th>3</th>\n",
       "      <td>Darth Vader</td>\n",
       "      <td>yellow</td>\n",
       "    </tr>\n",
       "    <tr>\n",
       "      <th>...</th>\n",
       "      <td>...</td>\n",
       "      <td>...</td>\n",
       "    </tr>\n",
       "    <tr>\n",
       "      <th>4</th>\n",
       "      <td>Leia Organa</td>\n",
       "      <td>brown</td>\n",
       "    </tr>\n",
       "    <tr>\n",
       "      <th>82</th>\n",
       "      <td>Rey</td>\n",
       "      <td>hazel</td>\n",
       "    </tr>\n",
       "    <tr>\n",
       "      <th>83</th>\n",
       "      <td>Poe Dameron</td>\n",
       "      <td>brown</td>\n",
       "    </tr>\n",
       "    <tr>\n",
       "      <th>84</th>\n",
       "      <td>BB8</td>\n",
       "      <td>black</td>\n",
       "    </tr>\n",
       "    <tr>\n",
       "      <th>85</th>\n",
       "      <td>Captain Phasma</td>\n",
       "      <td>NaN</td>\n",
       "    </tr>\n",
       "    <tr>\n",
       "      <th>86</th>\n",
       "      <td>Padmé Amidala</td>\n",
       "      <td>brown</td>\n",
       "    </tr>\n",
       "  </tbody>\n",
       "</table>\n",
       "<p>87 rows × 2 columns</p>"
      ]
     },
     "metadata": {},
     "execution_count": 6
    }
   ],
   "metadata": {
    "execution": {
     "iopub.execute_input": "2021-04-17T00:53:47.416532Z",
     "iopub.status.busy": "2021-04-17T00:53:47.416034Z",
     "iopub.status.idle": "2021-04-17T00:53:47.465698Z",
     "shell.execute_reply": "2021-04-17T00:53:47.465335Z"
    }
   }
  },
  {
   "cell_type": "code",
   "execution_count": 7,
   "source": [
    "starwars >> \\\n",
    "   mutate(across(where(is_character), lambda x: na_if(x, \"unknown\")))"
   ],
   "outputs": [
    {
     "output_type": "execute_result",
     "data": {
      "text/plain": [
       "              name    height      mass hair_color   skin_color eye_color  \\\n",
       "          <object> <float64> <float64>   <object>     <object>  <object>   \n",
       "0   Luke Skywalker     172.0      77.0      blond         fair      blue   \n",
       "1            C-3PO     167.0      75.0        NaN         gold    yellow   \n",
       "2            R2-D2      96.0      32.0        NaN  white, blue       red   \n",
       "3      Darth Vader     202.0     136.0       none        white    yellow   \n",
       "..             ...       ...       ...        ...          ...       ...   \n",
       "4      Leia Organa     150.0      49.0      brown        light     brown   \n",
       "82             Rey       NaN       NaN      brown        light     hazel   \n",
       "83     Poe Dameron       NaN       NaN      brown        light     brown   \n",
       "84             BB8       NaN       NaN       none         none     black   \n",
       "85  Captain Phasma       NaN       NaN        NaN          NaN       NaN   \n",
       "86   Padmé Amidala     165.0      45.0      brown        light     brown   \n",
       "\n",
       "    birth_year      sex     gender homeworld  species  \n",
       "     <float64> <object>   <object>  <object> <object>  \n",
       "0         19.0     male  masculine  Tatooine    Human  \n",
       "1        112.0     none  masculine  Tatooine    Droid  \n",
       "2         33.0     none  masculine     Naboo    Droid  \n",
       "3         41.9     male  masculine  Tatooine    Human  \n",
       "..         ...      ...        ...       ...      ...  \n",
       "4         19.0   female   feminine  Alderaan    Human  \n",
       "82         NaN   female   feminine       NaN    Human  \n",
       "83         NaN     male  masculine       NaN    Human  \n",
       "84         NaN     none  masculine       NaN    Droid  \n",
       "85         NaN      NaN        NaN       NaN      NaN  \n",
       "86        46.0   female   feminine     Naboo    Human  \n",
       "\n",
       "[87 rows x 11 columns]"
      ],
      "text/html": [
       "<table border=\"1\" class=\"dataframe\">\n",
       "  <thead>\n",
       "    <tr style=\"text-align: right;\">\n",
       "      <th></th>\n",
       "      <th>name</th>\n",
       "      <th>height</th>\n",
       "      <th>mass</th>\n",
       "      <th>hair_color</th>\n",
       "      <th>skin_color</th>\n",
       "      <th>eye_color</th>\n",
       "      <th>birth_year</th>\n",
       "      <th>sex</th>\n",
       "      <th>gender</th>\n",
       "      <th>homeworld</th>\n",
       "      <th>species</th>\n",
       "    </tr>\n",
       "  </thead>\n",
       "  <tbody>\n",
       "    <tr>\n",
       "      <th style=\"font-style: italic;\" ></th>\n",
       "      <td style=\"font-style: italic;\" >&lt;object&gt;</td>\n",
       "      <td style=\"font-style: italic;\" >&lt;float64&gt;</td>\n",
       "      <td style=\"font-style: italic;\" >&lt;float64&gt;</td>\n",
       "      <td style=\"font-style: italic;\" >&lt;object&gt;</td>\n",
       "      <td style=\"font-style: italic;\" >&lt;object&gt;</td>\n",
       "      <td style=\"font-style: italic;\" >&lt;object&gt;</td>\n",
       "      <td style=\"font-style: italic;\" >&lt;float64&gt;</td>\n",
       "      <td style=\"font-style: italic;\" >&lt;object&gt;</td>\n",
       "      <td style=\"font-style: italic;\" >&lt;object&gt;</td>\n",
       "      <td style=\"font-style: italic;\" >&lt;object&gt;</td>\n",
       "      <td style=\"font-style: italic;\" >&lt;object&gt;</td>\n",
       "    </tr>\n",
       "    <tr>\n",
       "      <th>0</th>\n",
       "      <td>Luke Skywalker</td>\n",
       "      <td>172.0</td>\n",
       "      <td>77.0</td>\n",
       "      <td>blond</td>\n",
       "      <td>fair</td>\n",
       "      <td>blue</td>\n",
       "      <td>19.0</td>\n",
       "      <td>male</td>\n",
       "      <td>masculine</td>\n",
       "      <td>Tatooine</td>\n",
       "      <td>Human</td>\n",
       "    </tr>\n",
       "    <tr>\n",
       "      <th>1</th>\n",
       "      <td>C-3PO</td>\n",
       "      <td>167.0</td>\n",
       "      <td>75.0</td>\n",
       "      <td>NaN</td>\n",
       "      <td>gold</td>\n",
       "      <td>yellow</td>\n",
       "      <td>112.0</td>\n",
       "      <td>none</td>\n",
       "      <td>masculine</td>\n",
       "      <td>Tatooine</td>\n",
       "      <td>Droid</td>\n",
       "    </tr>\n",
       "    <tr>\n",
       "      <th>2</th>\n",
       "      <td>R2-D2</td>\n",
       "      <td>96.0</td>\n",
       "      <td>32.0</td>\n",
       "      <td>NaN</td>\n",
       "      <td>white, blue</td>\n",
       "      <td>red</td>\n",
       "      <td>33.0</td>\n",
       "      <td>none</td>\n",
       "      <td>masculine</td>\n",
       "      <td>Naboo</td>\n",
       "      <td>Droid</td>\n",
       "    </tr>\n",
       "    <tr>\n",
       "      <th>3</th>\n",
       "      <td>Darth Vader</td>\n",
       "      <td>202.0</td>\n",
       "      <td>136.0</td>\n",
       "      <td>none</td>\n",
       "      <td>white</td>\n",
       "      <td>yellow</td>\n",
       "      <td>41.9</td>\n",
       "      <td>male</td>\n",
       "      <td>masculine</td>\n",
       "      <td>Tatooine</td>\n",
       "      <td>Human</td>\n",
       "    </tr>\n",
       "    <tr>\n",
       "      <th>...</th>\n",
       "      <td>...</td>\n",
       "      <td>...</td>\n",
       "      <td>...</td>\n",
       "      <td>...</td>\n",
       "      <td>...</td>\n",
       "      <td>...</td>\n",
       "      <td>...</td>\n",
       "      <td>...</td>\n",
       "      <td>...</td>\n",
       "      <td>...</td>\n",
       "      <td>...</td>\n",
       "    </tr>\n",
       "    <tr>\n",
       "      <th>4</th>\n",
       "      <td>Leia Organa</td>\n",
       "      <td>150.0</td>\n",
       "      <td>49.0</td>\n",
       "      <td>brown</td>\n",
       "      <td>light</td>\n",
       "      <td>brown</td>\n",
       "      <td>19.0</td>\n",
       "      <td>female</td>\n",
       "      <td>feminine</td>\n",
       "      <td>Alderaan</td>\n",
       "      <td>Human</td>\n",
       "    </tr>\n",
       "    <tr>\n",
       "      <th>82</th>\n",
       "      <td>Rey</td>\n",
       "      <td>NaN</td>\n",
       "      <td>NaN</td>\n",
       "      <td>brown</td>\n",
       "      <td>light</td>\n",
       "      <td>hazel</td>\n",
       "      <td>NaN</td>\n",
       "      <td>female</td>\n",
       "      <td>feminine</td>\n",
       "      <td>NaN</td>\n",
       "      <td>Human</td>\n",
       "    </tr>\n",
       "    <tr>\n",
       "      <th>83</th>\n",
       "      <td>Poe Dameron</td>\n",
       "      <td>NaN</td>\n",
       "      <td>NaN</td>\n",
       "      <td>brown</td>\n",
       "      <td>light</td>\n",
       "      <td>brown</td>\n",
       "      <td>NaN</td>\n",
       "      <td>male</td>\n",
       "      <td>masculine</td>\n",
       "      <td>NaN</td>\n",
       "      <td>Human</td>\n",
       "    </tr>\n",
       "    <tr>\n",
       "      <th>84</th>\n",
       "      <td>BB8</td>\n",
       "      <td>NaN</td>\n",
       "      <td>NaN</td>\n",
       "      <td>none</td>\n",
       "      <td>none</td>\n",
       "      <td>black</td>\n",
       "      <td>NaN</td>\n",
       "      <td>none</td>\n",
       "      <td>masculine</td>\n",
       "      <td>NaN</td>\n",
       "      <td>Droid</td>\n",
       "    </tr>\n",
       "    <tr>\n",
       "      <th>85</th>\n",
       "      <td>Captain Phasma</td>\n",
       "      <td>NaN</td>\n",
       "      <td>NaN</td>\n",
       "      <td>NaN</td>\n",
       "      <td>NaN</td>\n",
       "      <td>NaN</td>\n",
       "      <td>NaN</td>\n",
       "      <td>NaN</td>\n",
       "      <td>NaN</td>\n",
       "      <td>NaN</td>\n",
       "      <td>NaN</td>\n",
       "    </tr>\n",
       "    <tr>\n",
       "      <th>86</th>\n",
       "      <td>Padmé Amidala</td>\n",
       "      <td>165.0</td>\n",
       "      <td>45.0</td>\n",
       "      <td>brown</td>\n",
       "      <td>light</td>\n",
       "      <td>brown</td>\n",
       "      <td>46.0</td>\n",
       "      <td>female</td>\n",
       "      <td>feminine</td>\n",
       "      <td>Naboo</td>\n",
       "      <td>Human</td>\n",
       "    </tr>\n",
       "  </tbody>\n",
       "</table>\n",
       "<p>87 rows × 11 columns</p>"
      ]
     },
     "metadata": {},
     "execution_count": 7
    }
   ],
   "metadata": {
    "execution": {
     "iopub.execute_input": "2021-04-17T00:53:47.473861Z",
     "iopub.status.busy": "2021-04-17T00:53:47.473362Z",
     "iopub.status.idle": "2021-04-17T00:53:47.517768Z",
     "shell.execute_reply": "2021-04-17T00:53:47.517258Z"
    }
   }
  },
  {
   "cell_type": "code",
   "execution_count": null,
   "source": [],
   "outputs": [],
   "metadata": {}
  }
 ],
 "metadata": {
  "kernelspec": {
   "display_name": "Python 3",
   "language": "python",
   "name": "python3"
  },
  "language_info": {
   "codemirror_mode": {
    "name": "ipython",
    "version": 3
   },
   "file_extension": ".py",
   "mimetype": "text/x-python",
   "name": "python",
   "nbconvert_exporter": "python",
   "pygments_lexer": "ipython3",
   "version": "3.7.8"
  }
 },
 "nbformat": 4,
 "nbformat_minor": 5
}