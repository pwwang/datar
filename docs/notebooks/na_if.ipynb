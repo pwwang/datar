{
 "cells": [
  {
   "cell_type": "code",
   "execution_count": 1,
   "id": "ddb0828f",
   "metadata": {
    "execution": {
     "iopub.execute_input": "2021-07-16T22:27:33.626180Z",
     "iopub.status.busy": "2021-07-16T22:27:33.625478Z",
     "iopub.status.idle": "2021-07-16T22:27:34.726717Z",
     "shell.execute_reply": "2021-07-16T22:27:34.725906Z"
    }
   },
   "outputs": [
    {
     "name": "stderr",
     "output_type": "stream",
     "text": [
      "[2021-07-16 15:27:34][datar][WARNING] Builtin name \"min\" has been overriden by datar.\n",
      "[2021-07-16 15:27:34][datar][WARNING] Builtin name \"max\" has been overriden by datar.\n",
      "[2021-07-16 15:27:34][datar][WARNING] Builtin name \"sum\" has been overriden by datar.\n",
      "[2021-07-16 15:27:34][datar][WARNING] Builtin name \"abs\" has been overriden by datar.\n",
      "[2021-07-16 15:27:34][datar][WARNING] Builtin name \"round\" has been overriden by datar.\n",
      "[2021-07-16 15:27:34][datar][WARNING] Builtin name \"all\" has been overriden by datar.\n",
      "[2021-07-16 15:27:34][datar][WARNING] Builtin name \"any\" has been overriden by datar.\n",
      "[2021-07-16 15:27:34][datar][WARNING] Builtin name \"re\" has been overriden by datar.\n",
      "[2021-07-16 15:27:34][datar][WARNING] Builtin name \"filter\" has been overriden by datar.\n",
      "[2021-07-16 15:27:34][datar][WARNING] Builtin name \"slice\" has been overriden by datar.\n"
     ]
    },
    {
     "data": {
      "text/html": [
       "<div style=\"text-align: right; text-style: italic\">Try this notebook on <a target=\"_blank\" href=\"https://mybinder.org/v2/gh/pwwang/datar/93d069f3ca36711fc811c61dcf60e9fc3d1460a5?filepath=docs%2Fnotebooks%2Fna_if.ipynb\">binder</a>.</div>"
      ],
      "text/plain": [
       "<IPython.core.display.HTML object>"
      ]
     },
     "metadata": {},
     "output_type": "display_data"
    },
    {
     "data": {
      "text/markdown": [
       "### # na_if  "
      ],
      "text/plain": [
       "<IPython.core.display.Markdown object>"
      ]
     },
     "metadata": {},
     "output_type": "display_data"
    },
    {
     "data": {
      "text/markdown": [
       "##### Convert an annoying value to NA\n",
       "\n",
       "##### Args:\n",
       "&emsp;&emsp;`x`: Vector to modify  \n",
       "&emsp;&emsp;`y`: Value to replace with NA  \n",
       "\n",
       "##### Returns:\n",
       "&emsp;&emsp;A vector with values replaced.  \n"
      ],
      "text/plain": [
       "<IPython.core.display.Markdown object>"
      ]
     },
     "metadata": {},
     "output_type": "display_data"
    }
   ],
   "source": [
    "# https://dplyr.tidyverse.org/reference/na_if.html\n",
    "from datar.datasets import starwars\n",
    "from datar.all import *\n",
    "\n",
    "%run nb_helpers.py\n",
    "nb_header(na_if)"
   ]
  },
  {
   "cell_type": "code",
   "execution_count": 2,
   "id": "6be7b8cf",
   "metadata": {
    "execution": {
     "iopub.execute_input": "2021-07-16T22:27:34.742022Z",
     "iopub.status.busy": "2021-07-16T22:27:34.741052Z",
     "iopub.status.idle": "2021-07-16T22:27:34.749111Z",
     "shell.execute_reply": "2021-07-16T22:27:34.748355Z"
    }
   },
   "outputs": [
    {
     "data": {
      "text/plain": [
       "0    0.0\n",
       "1    1.0\n",
       "2    NaN\n",
       "3    3.0\n",
       "4    4.0\n",
       "dtype: float64"
      ]
     },
     "execution_count": 1,
     "metadata": {},
     "output_type": "execute_result"
    }
   ],
   "source": [
    "na_if(range(5), list(range(4,-1,-1)))"
   ]
  },
  {
   "cell_type": "code",
   "execution_count": 3,
   "id": "c9c23967",
   "metadata": {
    "execution": {
     "iopub.execute_input": "2021-07-16T22:27:34.765321Z",
     "iopub.status.busy": "2021-07-16T22:27:34.764648Z",
     "iopub.status.idle": "2021-07-16T22:27:34.914243Z",
     "shell.execute_reply": "2021-07-16T22:27:34.913240Z"
    }
   },
   "outputs": [
    {
     "data": {
      "text/plain": [
       "0    100.0\n",
       "1   -100.0\n",
       "2      inf\n",
       "3     10.0\n",
       "Name: x, dtype: float64"
      ]
     },
     "execution_count": 1,
     "metadata": {},
     "output_type": "execute_result"
    }
   ],
   "source": [
    "x = tibble(x=[1, -1, 0, 10]).x\n",
    "100 / x"
   ]
  },
  {
   "cell_type": "code",
   "execution_count": 4,
   "id": "b77113cc",
   "metadata": {
    "execution": {
     "iopub.execute_input": "2021-07-16T22:27:34.926337Z",
     "iopub.status.busy": "2021-07-16T22:27:34.925244Z",
     "iopub.status.idle": "2021-07-16T22:27:34.929053Z",
     "shell.execute_reply": "2021-07-16T22:27:34.929499Z"
    }
   },
   "outputs": [
    {
     "data": {
      "text/plain": [
       "0     1.0\n",
       "1    -1.0\n",
       "2     NaN\n",
       "3    10.0\n",
       "Name: x, dtype: float64"
      ]
     },
     "execution_count": 1,
     "metadata": {},
     "output_type": "execute_result"
    }
   ],
   "source": [
    "na_if(x, 0)"
   ]
  },
  {
   "cell_type": "code",
   "execution_count": 5,
   "id": "9855ec95",
   "metadata": {
    "execution": {
     "iopub.execute_input": "2021-07-16T22:27:34.939256Z",
     "iopub.status.busy": "2021-07-16T22:27:34.937975Z",
     "iopub.status.idle": "2021-07-16T22:27:34.961121Z",
     "shell.execute_reply": "2021-07-16T22:27:34.961571Z"
    }
   },
   "outputs": [
    {
     "data": {
      "text/plain": [
       "0    abc\n",
       "1    def\n",
       "2    NaN\n",
       "3    ghi\n",
       "Name: y, dtype: object"
      ]
     },
     "execution_count": 1,
     "metadata": {},
     "output_type": "execute_result"
    }
   ],
   "source": [
    "y = tibble(y=[\"abc\", \"def\", \"\", \"ghi\"]).y\n",
    "na_if(y, \"\")"
   ]
  },
  {
   "cell_type": "code",
   "execution_count": 6,
   "id": "5296a66c",
   "metadata": {
    "execution": {
     "iopub.execute_input": "2021-07-16T22:27:35.019008Z",
     "iopub.status.busy": "2021-07-16T22:27:35.016615Z",
     "iopub.status.idle": "2021-07-16T22:27:35.082509Z",
     "shell.execute_reply": "2021-07-16T22:27:35.083282Z"
    }
   },
   "outputs": [
    {
     "data": {
      "text/html": [
       "<table border=\"1\" class=\"dataframe\">\n",
       "  <thead>\n",
       "    <tr style=\"text-align: right;\">\n",
       "      <th></th>\n",
       "      <th>name</th>\n",
       "      <th>eye_color</th>\n",
       "    </tr>\n",
       "  </thead>\n",
       "  <tbody>\n",
       "    <tr>\n",
       "      <th style=\"font-style: italic;\" ></th>\n",
       "      <td style=\"font-style: italic;\" >&lt;object&gt;</td>\n",
       "      <td style=\"font-style: italic;\" >&lt;object&gt;</td>\n",
       "    </tr>\n",
       "    <tr>\n",
       "      <th>0</th>\n",
       "      <td>Luke Skywalker</td>\n",
       "      <td>blue</td>\n",
       "    </tr>\n",
       "    <tr>\n",
       "      <th>1</th>\n",
       "      <td>C-3PO</td>\n",
       "      <td>yellow</td>\n",
       "    </tr>\n",
       "    <tr>\n",
       "      <th>2</th>\n",
       "      <td>R2-D2</td>\n",
       "      <td>red</td>\n",
       "    </tr>\n",
       "    <tr>\n",
       "      <th>3</th>\n",
       "      <td>Darth Vader</td>\n",
       "      <td>yellow</td>\n",
       "    </tr>\n",
       "    <tr>\n",
       "      <th>...</th>\n",
       "      <td>...</td>\n",
       "      <td>...</td>\n",
       "    </tr>\n",
       "    <tr>\n",
       "      <th>4</th>\n",
       "      <td>Leia Organa</td>\n",
       "      <td>brown</td>\n",
       "    </tr>\n",
       "    <tr>\n",
       "      <th>82</th>\n",
       "      <td>Rey</td>\n",
       "      <td>hazel</td>\n",
       "    </tr>\n",
       "    <tr>\n",
       "      <th>83</th>\n",
       "      <td>Poe Dameron</td>\n",
       "      <td>brown</td>\n",
       "    </tr>\n",
       "    <tr>\n",
       "      <th>84</th>\n",
       "      <td>BB8</td>\n",
       "      <td>black</td>\n",
       "    </tr>\n",
       "    <tr>\n",
       "      <th>85</th>\n",
       "      <td>Captain Phasma</td>\n",
       "      <td>NaN</td>\n",
       "    </tr>\n",
       "    <tr>\n",
       "      <th>86</th>\n",
       "      <td>Padmé Amidala</td>\n",
       "      <td>brown</td>\n",
       "    </tr>\n",
       "  </tbody>\n",
       "</table>\n",
       "<p>87 rows × 2 columns</p>"
      ],
      "text/plain": [
       "              name eye_color\n",
       "          <object>  <object>\n",
       "0   Luke Skywalker      blue\n",
       "1            C-3PO    yellow\n",
       "2            R2-D2       red\n",
       "3      Darth Vader    yellow\n",
       "..             ...       ...\n",
       "4      Leia Organa     brown\n",
       "82             Rey     hazel\n",
       "83     Poe Dameron     brown\n",
       "84             BB8     black\n",
       "85  Captain Phasma       NaN\n",
       "86   Padmé Amidala     brown\n",
       "\n",
       "[87 rows x 2 columns]"
      ]
     },
     "execution_count": 1,
     "metadata": {},
     "output_type": "execute_result"
    }
   ],
   "source": [
    "starwars >> \\\n",
    "  select(f.name, f.eye_color) >> \\\n",
    "  mutate(eye_color = na_if(f.eye_color, \"unknown\"))"
   ]
  },
  {
   "cell_type": "code",
   "execution_count": 7,
   "id": "11e9a9d2",
   "metadata": {
    "execution": {
     "iopub.execute_input": "2021-07-16T22:27:35.180726Z",
     "iopub.status.busy": "2021-07-16T22:27:35.180148Z",
     "iopub.status.idle": "2021-07-16T22:27:35.188513Z",
     "shell.execute_reply": "2021-07-16T22:27:35.188945Z"
    }
   },
   "outputs": [
    {
     "data": {
      "text/html": [
       "<table border=\"1\" class=\"dataframe\">\n",
       "  <thead>\n",
       "    <tr style=\"text-align: right;\">\n",
       "      <th></th>\n",
       "      <th>name</th>\n",
       "      <th>height</th>\n",
       "      <th>mass</th>\n",
       "      <th>hair_color</th>\n",
       "      <th>skin_color</th>\n",
       "      <th>eye_color</th>\n",
       "      <th>birth_year</th>\n",
       "      <th>sex</th>\n",
       "      <th>gender</th>\n",
       "      <th>homeworld</th>\n",
       "      <th>species</th>\n",
       "    </tr>\n",
       "  </thead>\n",
       "  <tbody>\n",
       "    <tr>\n",
       "      <th style=\"font-style: italic;\" ></th>\n",
       "      <td style=\"font-style: italic;\" >&lt;object&gt;</td>\n",
       "      <td style=\"font-style: italic;\" >&lt;float64&gt;</td>\n",
       "      <td style=\"font-style: italic;\" >&lt;float64&gt;</td>\n",
       "      <td style=\"font-style: italic;\" >&lt;object&gt;</td>\n",
       "      <td style=\"font-style: italic;\" >&lt;object&gt;</td>\n",
       "      <td style=\"font-style: italic;\" >&lt;object&gt;</td>\n",
       "      <td style=\"font-style: italic;\" >&lt;float64&gt;</td>\n",
       "      <td style=\"font-style: italic;\" >&lt;object&gt;</td>\n",
       "      <td style=\"font-style: italic;\" >&lt;object&gt;</td>\n",
       "      <td style=\"font-style: italic;\" >&lt;object&gt;</td>\n",
       "      <td style=\"font-style: italic;\" >&lt;object&gt;</td>\n",
       "    </tr>\n",
       "    <tr>\n",
       "      <th>0</th>\n",
       "      <td>Luke Skywalker</td>\n",
       "      <td>172.0</td>\n",
       "      <td>77.0</td>\n",
       "      <td>blond</td>\n",
       "      <td>fair</td>\n",
       "      <td>blue</td>\n",
       "      <td>19.0</td>\n",
       "      <td>male</td>\n",
       "      <td>masculine</td>\n",
       "      <td>Tatooine</td>\n",
       "      <td>Human</td>\n",
       "    </tr>\n",
       "    <tr>\n",
       "      <th>1</th>\n",
       "      <td>C-3PO</td>\n",
       "      <td>167.0</td>\n",
       "      <td>75.0</td>\n",
       "      <td>NaN</td>\n",
       "      <td>gold</td>\n",
       "      <td>yellow</td>\n",
       "      <td>112.0</td>\n",
       "      <td>none</td>\n",
       "      <td>masculine</td>\n",
       "      <td>Tatooine</td>\n",
       "      <td>Droid</td>\n",
       "    </tr>\n",
       "    <tr>\n",
       "      <th>2</th>\n",
       "      <td>R2-D2</td>\n",
       "      <td>96.0</td>\n",
       "      <td>32.0</td>\n",
       "      <td>NaN</td>\n",
       "      <td>white, blue</td>\n",
       "      <td>red</td>\n",
       "      <td>33.0</td>\n",
       "      <td>none</td>\n",
       "      <td>masculine</td>\n",
       "      <td>Naboo</td>\n",
       "      <td>Droid</td>\n",
       "    </tr>\n",
       "    <tr>\n",
       "      <th>3</th>\n",
       "      <td>Darth Vader</td>\n",
       "      <td>202.0</td>\n",
       "      <td>136.0</td>\n",
       "      <td>none</td>\n",
       "      <td>white</td>\n",
       "      <td>yellow</td>\n",
       "      <td>41.9</td>\n",
       "      <td>male</td>\n",
       "      <td>masculine</td>\n",
       "      <td>Tatooine</td>\n",
       "      <td>Human</td>\n",
       "    </tr>\n",
       "    <tr>\n",
       "      <th>...</th>\n",
       "      <td>...</td>\n",
       "      <td>...</td>\n",
       "      <td>...</td>\n",
       "      <td>...</td>\n",
       "      <td>...</td>\n",
       "      <td>...</td>\n",
       "      <td>...</td>\n",
       "      <td>...</td>\n",
       "      <td>...</td>\n",
       "      <td>...</td>\n",
       "      <td>...</td>\n",
       "    </tr>\n",
       "    <tr>\n",
       "      <th>4</th>\n",
       "      <td>Leia Organa</td>\n",
       "      <td>150.0</td>\n",
       "      <td>49.0</td>\n",
       "      <td>brown</td>\n",
       "      <td>light</td>\n",
       "      <td>brown</td>\n",
       "      <td>19.0</td>\n",
       "      <td>female</td>\n",
       "      <td>feminine</td>\n",
       "      <td>Alderaan</td>\n",
       "      <td>Human</td>\n",
       "    </tr>\n",
       "    <tr>\n",
       "      <th>82</th>\n",
       "      <td>Rey</td>\n",
       "      <td>NaN</td>\n",
       "      <td>NaN</td>\n",
       "      <td>brown</td>\n",
       "      <td>light</td>\n",
       "      <td>hazel</td>\n",
       "      <td>NaN</td>\n",
       "      <td>female</td>\n",
       "      <td>feminine</td>\n",
       "      <td>NaN</td>\n",
       "      <td>Human</td>\n",
       "    </tr>\n",
       "    <tr>\n",
       "      <th>83</th>\n",
       "      <td>Poe Dameron</td>\n",
       "      <td>NaN</td>\n",
       "      <td>NaN</td>\n",
       "      <td>brown</td>\n",
       "      <td>light</td>\n",
       "      <td>brown</td>\n",
       "      <td>NaN</td>\n",
       "      <td>male</td>\n",
       "      <td>masculine</td>\n",
       "      <td>NaN</td>\n",
       "      <td>Human</td>\n",
       "    </tr>\n",
       "    <tr>\n",
       "      <th>84</th>\n",
       "      <td>BB8</td>\n",
       "      <td>NaN</td>\n",
       "      <td>NaN</td>\n",
       "      <td>none</td>\n",
       "      <td>none</td>\n",
       "      <td>black</td>\n",
       "      <td>NaN</td>\n",
       "      <td>none</td>\n",
       "      <td>masculine</td>\n",
       "      <td>NaN</td>\n",
       "      <td>Droid</td>\n",
       "    </tr>\n",
       "    <tr>\n",
       "      <th>85</th>\n",
       "      <td>Captain Phasma</td>\n",
       "      <td>NaN</td>\n",
       "      <td>NaN</td>\n",
       "      <td>NaN</td>\n",
       "      <td>NaN</td>\n",
       "      <td>NaN</td>\n",
       "      <td>NaN</td>\n",
       "      <td>NaN</td>\n",
       "      <td>NaN</td>\n",
       "      <td>NaN</td>\n",
       "      <td>NaN</td>\n",
       "    </tr>\n",
       "    <tr>\n",
       "      <th>86</th>\n",
       "      <td>Padmé Amidala</td>\n",
       "      <td>165.0</td>\n",
       "      <td>45.0</td>\n",
       "      <td>brown</td>\n",
       "      <td>light</td>\n",
       "      <td>brown</td>\n",
       "      <td>46.0</td>\n",
       "      <td>female</td>\n",
       "      <td>feminine</td>\n",
       "      <td>Naboo</td>\n",
       "      <td>Human</td>\n",
       "    </tr>\n",
       "  </tbody>\n",
       "</table>\n",
       "<p>87 rows × 11 columns</p>"
      ],
      "text/plain": [
       "              name    height      mass hair_color   skin_color eye_color  \\\n",
       "          <object> <float64> <float64>   <object>     <object>  <object>   \n",
       "0   Luke Skywalker     172.0      77.0      blond         fair      blue   \n",
       "1            C-3PO     167.0      75.0        NaN         gold    yellow   \n",
       "2            R2-D2      96.0      32.0        NaN  white, blue       red   \n",
       "3      Darth Vader     202.0     136.0       none        white    yellow   \n",
       "..             ...       ...       ...        ...          ...       ...   \n",
       "4      Leia Organa     150.0      49.0      brown        light     brown   \n",
       "82             Rey       NaN       NaN      brown        light     hazel   \n",
       "83     Poe Dameron       NaN       NaN      brown        light     brown   \n",
       "84             BB8       NaN       NaN       none         none     black   \n",
       "85  Captain Phasma       NaN       NaN        NaN          NaN       NaN   \n",
       "86   Padmé Amidala     165.0      45.0      brown        light     brown   \n",
       "\n",
       "    birth_year      sex     gender homeworld  species  \n",
       "     <float64> <object>   <object>  <object> <object>  \n",
       "0         19.0     male  masculine  Tatooine    Human  \n",
       "1        112.0     none  masculine  Tatooine    Droid  \n",
       "2         33.0     none  masculine     Naboo    Droid  \n",
       "3         41.9     male  masculine  Tatooine    Human  \n",
       "..         ...      ...        ...       ...      ...  \n",
       "4         19.0   female   feminine  Alderaan    Human  \n",
       "82         NaN   female   feminine       NaN    Human  \n",
       "83         NaN     male  masculine       NaN    Human  \n",
       "84         NaN     none  masculine       NaN    Droid  \n",
       "85         NaN      NaN        NaN       NaN      NaN  \n",
       "86        46.0   female   feminine     Naboo    Human  \n",
       "\n",
       "[87 rows x 11 columns]"
      ]
     },
     "execution_count": 1,
     "metadata": {},
     "output_type": "execute_result"
    }
   ],
   "source": [
    "starwars >> \\\n",
    "   mutate(across(where(is_character), lambda x: na_if(x, \"unknown\")))"
   ]
  },
  {
   "cell_type": "code",
   "execution_count": null,
   "id": "4f05cb1f",
   "metadata": {},
   "outputs": [],
   "source": []
  }
 ],
 "metadata": {
  "kernelspec": {
   "display_name": "Python 3",
   "language": "python",
   "name": "python3"
  },
  "language_info": {
   "codemirror_mode": {
    "name": "ipython",
    "version": 3
   },
   "file_extension": ".py",
   "mimetype": "text/x-python",
   "name": "python",
   "nbconvert_exporter": "python",
   "pygments_lexer": "ipython3",
   "version": "3.7.8"
  }
 },
 "nbformat": 4,
 "nbformat_minor": 5
}
