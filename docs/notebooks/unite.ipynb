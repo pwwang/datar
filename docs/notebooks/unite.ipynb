{
 "cells": [
  {
   "cell_type": "code",
   "execution_count": 1,
   "id": "35dd20d5",
   "metadata": {
    "execution": {
     "iopub.execute_input": "2021-07-16T22:28:16.606534Z",
     "iopub.status.busy": "2021-07-16T22:28:16.605830Z",
     "iopub.status.idle": "2021-07-16T22:28:17.907102Z",
     "shell.execute_reply": "2021-07-16T22:28:17.907562Z"
    }
   },
   "outputs": [
    {
     "name": "stderr",
     "output_type": "stream",
     "text": [
      "[2022-03-06 18:12:37][datar][WARNING] Builtin name \"min\" has been overriden by datar.\n",
      "[2022-03-06 18:12:37][datar][WARNING] Builtin name \"max\" has been overriden by datar.\n",
      "[2022-03-06 18:12:37][datar][WARNING] Builtin name \"sum\" has been overriden by datar.\n",
      "[2022-03-06 18:12:37][datar][WARNING] Builtin name \"abs\" has been overriden by datar.\n",
      "[2022-03-06 18:12:37][datar][WARNING] Builtin name \"round\" has been overriden by datar.\n",
      "[2022-03-06 18:12:37][datar][WARNING] Builtin name \"all\" has been overriden by datar.\n",
      "[2022-03-06 18:12:37][datar][WARNING] Builtin name \"any\" has been overriden by datar.\n",
      "[2022-03-06 18:12:37][datar][WARNING] Builtin name \"re\" has been overriden by datar.\n",
      "[2022-03-06 18:12:37][datar][WARNING] Builtin name \"filter\" has been overriden by datar.\n",
      "[2022-03-06 18:12:37][datar][WARNING] Builtin name \"slice\" has been overriden by datar.\n"
     ]
    },
    {
     "data": {
      "text/html": [
       "<div style=\"text-align: right; text-style: italic\">Try this notebook on <a target=\"_blank\" href=\"https://mybinder.org/v2/gh/pwwang/datar/93d069f3ca36711fc811c61dcf60e9fc3d1460a5?filepath=docs%2Fnotebooks%2Funite.ipynb\">binder</a>.</div>"
      ],
      "text/plain": [
       "<IPython.core.display.HTML object>"
      ]
     },
     "metadata": {},
     "output_type": "display_data"
    },
    {
     "data": {
      "text/markdown": [
       "### # unite  "
      ],
      "text/plain": [
       "<IPython.core.display.Markdown object>"
      ]
     },
     "metadata": {},
     "output_type": "display_data"
    },
    {
     "data": {
      "text/markdown": [
       "##### Unite multiple columns into one by pasting strings together\n",
       "\n",
       "##### Args:\n",
       "&emsp;&emsp;`data`: A data frame.  \n",
       "&emsp;&emsp;`col`: The name of the new column, as a string or symbol.  \n",
       "&emsp;&emsp;`*columns`: Columns to unite  \n",
       "&emsp;&emsp;`sep`: Separator to use between values.  \n",
       "&emsp;&emsp;`remove`: If True, remove input columns from output data frame.  \n",
       "&emsp;&emsp;`na_rm`: If True, missing values will be remove prior to uniting  \n",
       "&emsp;&emsp;&emsp;&emsp;each value.  \n",
       "\n",
       "##### Returns:\n",
       "&emsp;&emsp;The dataframe with selected columns united  \n"
      ],
      "text/plain": [
       "<IPython.core.display.Markdown object>"
      ]
     },
     "metadata": {},
     "output_type": "display_data"
    }
   ],
   "source": [
    "# https://tidyr.tidyverse.org/reference/unite.html\n",
    "\n",
    "from datar.all import *\n",
    "\n",
    "%run nb_helpers.py\n",
    "nb_header(unite)\n"
   ]
  },
  {
   "cell_type": "code",
   "execution_count": 2,
   "id": "6edc9543",
   "metadata": {
    "execution": {
     "iopub.execute_input": "2021-07-16T22:28:17.921087Z",
     "iopub.status.busy": "2021-07-16T22:28:17.920349Z",
     "iopub.status.idle": "2021-07-16T22:28:18.288917Z",
     "shell.execute_reply": "2021-07-16T22:28:18.286498Z"
    }
   },
   "outputs": [
    {
     "data": {
      "text/html": [
       "<div>\n",
       "<style scoped>\n",
       "    .dataframe tbody tr th:only-of-type {\n",
       "        vertical-align: middle;\n",
       "    }\n",
       "\n",
       "    .dataframe tbody tr th {\n",
       "        vertical-align: top;\n",
       "    }\n",
       "\n",
       "    .dataframe thead th {\n",
       "        text-align: right;\n",
       "    }\n",
       "</style>\n",
       "<table border=\"1\" class=\"dataframe\">\n",
       "  <thead>\n",
       "    <tr style=\"text-align: right;\">\n",
       "      <th></th>\n",
       "      <th>x</th>\n",
       "      <th>y</th>\n",
       "    </tr>\n",
       "  </thead>\n",
       "  <tbody>\n",
       "    <tr>\n",
       "      <th style=\"font-style: italic;\" ></th>\n",
       "      <td style=\"font-style: italic;\" >&lt;object&gt;</td>\n",
       "      <td style=\"font-style: italic;\" >&lt;object&gt;</td>\n",
       "    </tr>\n",
       "    <tr>\n",
       "      <th>0</th>\n",
       "      <td>a</td>\n",
       "      <td>b</td>\n",
       "    </tr>\n",
       "    <tr>\n",
       "      <th>1</th>\n",
       "      <td>a</td>\n",
       "      <td>NaN</td>\n",
       "    </tr>\n",
       "    <tr>\n",
       "      <th>2</th>\n",
       "      <td>NaN</td>\n",
       "      <td>b</td>\n",
       "    </tr>\n",
       "    <tr>\n",
       "      <th>3</th>\n",
       "      <td>NaN</td>\n",
       "      <td>NaN</td>\n",
       "    </tr>\n",
       "  </tbody>\n",
       "</table>\n",
       "</div>\n"
      ],
      "text/plain": [
       "         x        y\n",
       "  <object> <object>\n",
       "0        a        b\n",
       "1        a      NaN\n",
       "2      NaN        b\n",
       "3      NaN      NaN"
      ]
     },
     "execution_count": 2,
     "metadata": {},
     "output_type": "execute_result"
    }
   ],
   "source": [
    "df = expand_grid(x=c(\"a\", NA), y=c(\"b\", NA))\n",
    "df"
   ]
  },
  {
   "cell_type": "code",
   "execution_count": 3,
   "id": "74d75279",
   "metadata": {
    "execution": {
     "iopub.execute_input": "2021-07-16T22:28:18.336918Z",
     "iopub.status.busy": "2021-07-16T22:28:18.336162Z",
     "iopub.status.idle": "2021-07-16T22:28:18.874250Z",
     "shell.execute_reply": "2021-07-16T22:28:18.874650Z"
    }
   },
   "outputs": [
    {
     "data": {
      "text/html": [
       "<div>\n",
       "<style scoped>\n",
       "    .dataframe tbody tr th:only-of-type {\n",
       "        vertical-align: middle;\n",
       "    }\n",
       "\n",
       "    .dataframe tbody tr th {\n",
       "        vertical-align: top;\n",
       "    }\n",
       "\n",
       "    .dataframe thead th {\n",
       "        text-align: right;\n",
       "    }\n",
       "</style>\n",
       "<table border=\"1\" class=\"dataframe\">\n",
       "  <thead>\n",
       "    <tr style=\"text-align: right;\">\n",
       "      <th></th>\n",
       "      <th>z</th>\n",
       "      <th>x</th>\n",
       "      <th>y</th>\n",
       "    </tr>\n",
       "  </thead>\n",
       "  <tbody>\n",
       "    <tr>\n",
       "      <th style=\"font-style: italic;\" ></th>\n",
       "      <td style=\"font-style: italic;\" >&lt;object&gt;</td>\n",
       "      <td style=\"font-style: italic;\" >&lt;object&gt;</td>\n",
       "      <td style=\"font-style: italic;\" >&lt;object&gt;</td>\n",
       "    </tr>\n",
       "    <tr>\n",
       "      <th>0</th>\n",
       "      <td>a_b</td>\n",
       "      <td>a</td>\n",
       "      <td>b</td>\n",
       "    </tr>\n",
       "    <tr>\n",
       "      <th>1</th>\n",
       "      <td>a</td>\n",
       "      <td>a</td>\n",
       "      <td>NaN</td>\n",
       "    </tr>\n",
       "    <tr>\n",
       "      <th>2</th>\n",
       "      <td>b</td>\n",
       "      <td>NaN</td>\n",
       "      <td>b</td>\n",
       "    </tr>\n",
       "    <tr>\n",
       "      <th>3</th>\n",
       "      <td></td>\n",
       "      <td>NaN</td>\n",
       "      <td>NaN</td>\n",
       "    </tr>\n",
       "  </tbody>\n",
       "</table>\n",
       "</div>\n"
      ],
      "text/plain": [
       "         z        x        y\n",
       "  <object> <object> <object>\n",
       "0      a_b        a        b\n",
       "1        a        a      NaN\n",
       "2        b      NaN        b\n",
       "3               NaN      NaN"
      ]
     },
     "execution_count": 3,
     "metadata": {},
     "output_type": "execute_result"
    }
   ],
   "source": [
    "df >> unite(\"z\", c(f.x, f.y), remove=False)"
   ]
  },
  {
   "cell_type": "code",
   "execution_count": 4,
   "id": "1d97911c",
   "metadata": {
    "execution": {
     "iopub.execute_input": "2021-07-16T22:28:18.975591Z",
     "iopub.status.busy": "2021-07-16T22:28:18.974873Z",
     "iopub.status.idle": "2021-07-16T22:28:19.105442Z",
     "shell.execute_reply": "2021-07-16T22:28:19.107130Z"
    }
   },
   "outputs": [
    {
     "data": {
      "text/html": [
       "<div>\n",
       "<style scoped>\n",
       "    .dataframe tbody tr th:only-of-type {\n",
       "        vertical-align: middle;\n",
       "    }\n",
       "\n",
       "    .dataframe tbody tr th {\n",
       "        vertical-align: top;\n",
       "    }\n",
       "\n",
       "    .dataframe thead th {\n",
       "        text-align: right;\n",
       "    }\n",
       "</style>\n",
       "<table border=\"1\" class=\"dataframe\">\n",
       "  <thead>\n",
       "    <tr style=\"text-align: right;\">\n",
       "      <th></th>\n",
       "      <th>z</th>\n",
       "      <th>x</th>\n",
       "      <th>y</th>\n",
       "    </tr>\n",
       "  </thead>\n",
       "  <tbody>\n",
       "    <tr>\n",
       "      <th style=\"font-style: italic;\" ></th>\n",
       "      <td style=\"font-style: italic;\" >&lt;object&gt;</td>\n",
       "      <td style=\"font-style: italic;\" >&lt;object&gt;</td>\n",
       "      <td style=\"font-style: italic;\" >&lt;object&gt;</td>\n",
       "    </tr>\n",
       "    <tr>\n",
       "      <th>0</th>\n",
       "      <td>a_b</td>\n",
       "      <td>a</td>\n",
       "      <td>b</td>\n",
       "    </tr>\n",
       "    <tr>\n",
       "      <th>1</th>\n",
       "      <td>a</td>\n",
       "      <td>a</td>\n",
       "      <td>NaN</td>\n",
       "    </tr>\n",
       "    <tr>\n",
       "      <th>2</th>\n",
       "      <td>b</td>\n",
       "      <td>NaN</td>\n",
       "      <td>b</td>\n",
       "    </tr>\n",
       "    <tr>\n",
       "      <th>3</th>\n",
       "      <td></td>\n",
       "      <td>NaN</td>\n",
       "      <td>NaN</td>\n",
       "    </tr>\n",
       "  </tbody>\n",
       "</table>\n",
       "</div>\n"
      ],
      "text/plain": [
       "         z        x        y\n",
       "  <object> <object> <object>\n",
       "0      a_b        a        b\n",
       "1        a        a      NaN\n",
       "2        b      NaN        b\n",
       "3               NaN      NaN"
      ]
     },
     "execution_count": 4,
     "metadata": {},
     "output_type": "execute_result"
    }
   ],
   "source": [
    "df >> unite(\"z\", [0, 1], na_rm=True, remove=False)"
   ]
  },
  {
   "cell_type": "code",
   "execution_count": 5,
   "id": "77331626",
   "metadata": {
    "execution": {
     "iopub.execute_input": "2021-07-16T22:28:19.260230Z",
     "iopub.status.busy": "2021-07-16T22:28:19.259595Z",
     "iopub.status.idle": "2021-07-16T22:28:19.429797Z",
     "shell.execute_reply": "2021-07-16T22:28:19.430243Z"
    }
   },
   "outputs": [
    {
     "name": "stderr",
     "output_type": "stream",
     "text": [
      "[2022-03-06 18:12:40][datar][WARNING] Expected 2 pieces. Missing pieces filled with `NA` in 3 rows ['a', 'b', ''].\n"
     ]
    },
    {
     "data": {
      "text/html": [
       "<div>\n",
       "<style scoped>\n",
       "    .dataframe tbody tr th:only-of-type {\n",
       "        vertical-align: middle;\n",
       "    }\n",
       "\n",
       "    .dataframe tbody tr th {\n",
       "        vertical-align: top;\n",
       "    }\n",
       "\n",
       "    .dataframe thead th {\n",
       "        text-align: right;\n",
       "    }\n",
       "</style>\n",
       "<table border=\"1\" class=\"dataframe\">\n",
       "  <thead>\n",
       "    <tr style=\"text-align: right;\">\n",
       "      <th></th>\n",
       "      <th>z</th>\n",
       "      <th>x</th>\n",
       "      <th>y</th>\n",
       "    </tr>\n",
       "  </thead>\n",
       "  <tbody>\n",
       "    <tr>\n",
       "      <th style=\"font-style: italic;\" ></th>\n",
       "      <td style=\"font-style: italic;\" >&lt;object&gt;</td>\n",
       "      <td style=\"font-style: italic;\" >&lt;object&gt;</td>\n",
       "      <td style=\"font-style: italic;\" >&lt;object&gt;</td>\n",
       "    </tr>\n",
       "    <tr>\n",
       "      <th>0</th>\n",
       "      <td>a_b</td>\n",
       "      <td>a</td>\n",
       "      <td>b</td>\n",
       "    </tr>\n",
       "    <tr>\n",
       "      <th>1</th>\n",
       "      <td>a</td>\n",
       "      <td>a</td>\n",
       "      <td>NaN</td>\n",
       "    </tr>\n",
       "    <tr>\n",
       "      <th>2</th>\n",
       "      <td>b</td>\n",
       "      <td>b</td>\n",
       "      <td>NaN</td>\n",
       "    </tr>\n",
       "    <tr>\n",
       "      <th>3</th>\n",
       "      <td></td>\n",
       "      <td></td>\n",
       "      <td>NaN</td>\n",
       "    </tr>\n",
       "  </tbody>\n",
       "</table>\n",
       "</div>\n"
      ],
      "text/plain": [
       "         z        x        y\n",
       "  <object> <object> <object>\n",
       "0      a_b        a        b\n",
       "1        a        a      NaN\n",
       "2        b        b      NaN\n",
       "3                        NaN"
      ]
     },
     "execution_count": 5,
     "metadata": {},
     "output_type": "execute_result"
    }
   ],
   "source": [
    "df >> \\\n",
    "  unite(\"xy\", c(f.x, f.y)) >> \\\n",
    "  separate(f.xy, c(\"x\", \"y\"))"
   ]
  }
 ],
 "metadata": {
  "interpreter": {
   "hash": "c4cc73b080e063fcebb9afb794613be7caf4b26129562cba1382945a18cc49cc"
  },
  "kernelspec": {
   "display_name": "Python 3.7.8 64-bit ('base': conda)",
   "name": "python3"
  },
  "language_info": {
   "codemirror_mode": {
    "name": "ipython",
    "version": 3
   },
   "file_extension": ".py",
   "mimetype": "text/x-python",
   "name": "python",
   "nbconvert_exporter": "python",
   "pygments_lexer": "ipython3",
   "version": "3.9.5"
  }
 },
 "nbformat": 4,
 "nbformat_minor": 5
}
