{
 "cells": [
  {
   "cell_type": "code",
   "execution_count": 1,
   "id": "looking-december",
   "metadata": {
    "execution": {
     "iopub.execute_input": "2021-04-17T00:55:34.241107Z",
     "iopub.status.busy": "2021-04-17T00:55:34.240090Z",
     "iopub.status.idle": "2021-04-17T00:55:34.919454Z",
     "shell.execute_reply": "2021-04-17T00:55:34.918894Z"
    }
   },
   "outputs": [
    {
     "output_type": "display_data",
     "data": {
      "text/plain": "<IPython.core.display.HTML object>",
      "text/html": "<div style=\"text-align: right; text-style: italic\">Try this notebook on <a target=\"_blank\" href=\"https://mybinder.org/v2/gh/pwwang/datar/93d069f3ca36711fc811c61dcf60e9fc3d1460a5?filepath=docs%2Fnotebooks%2Funite.ipynb\">binder</a>.</div>"
     },
     "metadata": {}
    },
    {
     "output_type": "display_data",
     "data": {
      "text/plain": "<IPython.core.display.Markdown object>",
      "text/markdown": "### # unite  "
     },
     "metadata": {}
    },
    {
     "output_type": "display_data",
     "data": {
      "text/plain": "<IPython.core.display.Markdown object>",
      "text/markdown": "##### Unite multiple columns into one by pasting strings together\n\n##### Args:\n&emsp;&emsp;`data`: A data frame.  \n&emsp;&emsp;`col`: The name of the new column, as a string or symbol.  \n&emsp;&emsp;`*columns`: Columns to unite  \n&emsp;&emsp;`sep`: Separator to use between values.  \n&emsp;&emsp;`remove`: If True, remove input columns from output data frame.  \n&emsp;&emsp;`na_rm`: If True, missing values will be remove prior to uniting  \n&emsp;&emsp;&emsp;&emsp;each value.  \n\n&emsp;&emsp;`_base0`: Whether `columns` is 0-based when given by index  \n&emsp;&emsp;&emsp;&emsp;If not provided, will use `datar.base.getOption('index.base.0')`  \n\n##### Returns:\n&emsp;&emsp;The dataframe with selected columns united  \n"
     },
     "metadata": {}
    }
   ],
   "source": [
    "# https://tidyr.tidyverse.org/reference/unite.html\n",
    "\n",
    "from datar.all import *\n",
    "\n",
    "%run nb_helpers.py\n",
    "nb_header(unite)"
   ]
  },
  {
   "cell_type": "code",
   "execution_count": 2,
   "id": "running-documentary",
   "metadata": {
    "execution": {
     "iopub.execute_input": "2021-04-17T00:55:34.927038Z",
     "iopub.status.busy": "2021-04-17T00:55:34.926502Z",
     "iopub.status.idle": "2021-04-17T00:55:34.935038Z",
     "shell.execute_reply": "2021-04-17T00:55:34.934388Z"
    }
   },
   "outputs": [
    {
     "output_type": "execute_result",
     "data": {
      "text/plain": [
       "     x    y\n",
       "0    a    b\n",
       "1    a  NaN\n",
       "2  NaN    b\n",
       "3  NaN  NaN"
      ],
      "text/html": "<div>\n<style scoped>\n    .dataframe tbody tr th:only-of-type {\n        vertical-align: middle;\n    }\n\n    .dataframe tbody tr th {\n        vertical-align: top;\n    }\n\n    .dataframe thead th {\n        text-align: right;\n    }\n</style>\n<table border=\"1\" class=\"dataframe\">\n  <thead>\n    <tr style=\"text-align: right;\">\n      <th></th>\n      <th>x</th>\n      <th>y</th>\n    </tr>\n  </thead>\n  <tbody>\n    <tr>\n      <th>0</th>\n      <td>a</td>\n      <td>b</td>\n    </tr>\n    <tr>\n      <th>1</th>\n      <td>a</td>\n      <td>NaN</td>\n    </tr>\n    <tr>\n      <th>2</th>\n      <td>NaN</td>\n      <td>b</td>\n    </tr>\n    <tr>\n      <th>3</th>\n      <td>NaN</td>\n      <td>NaN</td>\n    </tr>\n  </tbody>\n</table>\n</div>"
     },
     "metadata": {},
     "execution_count": 2
    }
   ],
   "source": [
    "df = expand_grid(x=c(\"a\", NA), y=c(\"b\", NA))\n",
    "df"
   ]
  },
  {
   "cell_type": "code",
   "execution_count": 3,
   "id": "geological-organizer",
   "metadata": {
    "execution": {
     "iopub.execute_input": "2021-04-17T00:55:34.942551Z",
     "iopub.status.busy": "2021-04-17T00:55:34.941932Z",
     "iopub.status.idle": "2021-04-17T00:55:34.949831Z",
     "shell.execute_reply": "2021-04-17T00:55:34.950344Z"
    }
   },
   "outputs": [
    {
     "output_type": "execute_result",
     "data": {
      "text/plain": [
       "         z    x    y\n",
       "0      a_b    a    b\n",
       "1    a_nan    a  NaN\n",
       "2    nan_b  NaN    b\n",
       "3  nan_nan  NaN  NaN"
      ],
      "text/html": "<div>\n<style scoped>\n    .dataframe tbody tr th:only-of-type {\n        vertical-align: middle;\n    }\n\n    .dataframe tbody tr th {\n        vertical-align: top;\n    }\n\n    .dataframe thead th {\n        text-align: right;\n    }\n</style>\n<table border=\"1\" class=\"dataframe\">\n  <thead>\n    <tr style=\"text-align: right;\">\n      <th></th>\n      <th>z</th>\n      <th>x</th>\n      <th>y</th>\n    </tr>\n  </thead>\n  <tbody>\n    <tr>\n      <th>0</th>\n      <td>a_b</td>\n      <td>a</td>\n      <td>b</td>\n    </tr>\n    <tr>\n      <th>1</th>\n      <td>a_nan</td>\n      <td>a</td>\n      <td>NaN</td>\n    </tr>\n    <tr>\n      <th>2</th>\n      <td>nan_b</td>\n      <td>NaN</td>\n      <td>b</td>\n    </tr>\n    <tr>\n      <th>3</th>\n      <td>nan_nan</td>\n      <td>NaN</td>\n      <td>NaN</td>\n    </tr>\n  </tbody>\n</table>\n</div>"
     },
     "metadata": {},
     "execution_count": 3
    }
   ],
   "source": [
    "df >> unite(\"z\", f[f.x:f.y], remove=False)"
   ]
  },
  {
   "cell_type": "code",
   "execution_count": 4,
   "id": "isolated-dining",
   "metadata": {
    "execution": {
     "iopub.execute_input": "2021-04-17T00:55:34.961402Z",
     "iopub.status.busy": "2021-04-17T00:55:34.960591Z",
     "iopub.status.idle": "2021-04-17T00:55:34.963897Z",
     "shell.execute_reply": "2021-04-17T00:55:34.964239Z"
    }
   },
   "outputs": [
    {
     "output_type": "execute_result",
     "data": {
      "text/plain": [
       "     z    x    y\n",
       "0  a_b    a    b\n",
       "1    a    a  NaN\n",
       "2    b  NaN    b\n",
       "3       NaN  NaN"
      ],
      "text/html": "<div>\n<style scoped>\n    .dataframe tbody tr th:only-of-type {\n        vertical-align: middle;\n    }\n\n    .dataframe tbody tr th {\n        vertical-align: top;\n    }\n\n    .dataframe thead th {\n        text-align: right;\n    }\n</style>\n<table border=\"1\" class=\"dataframe\">\n  <thead>\n    <tr style=\"text-align: right;\">\n      <th></th>\n      <th>z</th>\n      <th>x</th>\n      <th>y</th>\n    </tr>\n  </thead>\n  <tbody>\n    <tr>\n      <th>0</th>\n      <td>a_b</td>\n      <td>a</td>\n      <td>b</td>\n    </tr>\n    <tr>\n      <th>1</th>\n      <td>a</td>\n      <td>a</td>\n      <td>NaN</td>\n    </tr>\n    <tr>\n      <th>2</th>\n      <td>b</td>\n      <td>NaN</td>\n      <td>b</td>\n    </tr>\n    <tr>\n      <th>3</th>\n      <td></td>\n      <td>NaN</td>\n      <td>NaN</td>\n    </tr>\n  </tbody>\n</table>\n</div>"
     },
     "metadata": {},
     "execution_count": 4
    }
   ],
   "source": [
    "df >> unite(\"z\", f[f.x:f.y], na_rm=True, remove=False)"
   ]
  },
  {
   "cell_type": "code",
   "execution_count": 5,
   "id": "designed-dylan",
   "metadata": {
    "execution": {
     "iopub.execute_input": "2021-04-17T00:55:34.980069Z",
     "iopub.status.busy": "2021-04-17T00:55:34.979152Z",
     "iopub.status.idle": "2021-04-17T00:55:34.983636Z",
     "shell.execute_reply": "2021-04-17T00:55:34.983138Z"
    }
   },
   "outputs": [
    {
     "output_type": "execute_result",
     "data": {
      "text/plain": [
       "     x    y\n",
       "0    a    b\n",
       "1    a  nan\n",
       "2  nan    b\n",
       "3  nan  nan"
      ],
      "text/html": "<div>\n<style scoped>\n    .dataframe tbody tr th:only-of-type {\n        vertical-align: middle;\n    }\n\n    .dataframe tbody tr th {\n        vertical-align: top;\n    }\n\n    .dataframe thead th {\n        text-align: right;\n    }\n</style>\n<table border=\"1\" class=\"dataframe\">\n  <thead>\n    <tr style=\"text-align: right;\">\n      <th></th>\n      <th>x</th>\n      <th>y</th>\n    </tr>\n  </thead>\n  <tbody>\n    <tr>\n      <th>0</th>\n      <td>a</td>\n      <td>b</td>\n    </tr>\n    <tr>\n      <th>1</th>\n      <td>a</td>\n      <td>nan</td>\n    </tr>\n    <tr>\n      <th>2</th>\n      <td>nan</td>\n      <td>b</td>\n    </tr>\n    <tr>\n      <th>3</th>\n      <td>nan</td>\n      <td>nan</td>\n    </tr>\n  </tbody>\n</table>\n</div>"
     },
     "metadata": {},
     "execution_count": 5
    }
   ],
   "source": [
    "df >> \\\n",
    "  unite(\"xy\", f[f.x:f.y]) >> \\\n",
    "  separate(f.xy, c(\"x\", \"y\"))"
   ]
  }
 ],
 "metadata": {
  "kernelspec": {
   "display_name": "Python 3",
   "language": "python",
   "name": "python3"
  },
  "language_info": {
   "codemirror_mode": {
    "name": "ipython",
    "version": 3
   },
   "file_extension": ".py",
   "mimetype": "text/x-python",
   "name": "python",
   "nbconvert_exporter": "python",
   "pygments_lexer": "ipython3",
   "version": "3.7.8"
  }
 },
 "nbformat": 4,
 "nbformat_minor": 5
}