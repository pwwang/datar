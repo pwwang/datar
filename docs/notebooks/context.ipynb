{
 "cells": [
  {
   "cell_type": "code",
   "execution_count": 1,
   "id": "3d8dbd18",
   "metadata": {
    "execution": {
     "iopub.execute_input": "2021-07-16T22:28:22.688903Z",
     "iopub.status.busy": "2021-07-16T22:28:22.687968Z",
     "iopub.status.idle": "2021-07-16T22:28:23.757532Z",
     "shell.execute_reply": "2021-07-16T22:28:23.758081Z"
    }
   },
   "outputs": [
    {
     "name": "stderr",
     "output_type": "stream",
     "text": [
      "[2021-07-16 15:28:23][datar][WARNING] Builtin name \"min\" has been overriden by datar.\n",
      "[2021-07-16 15:28:23][datar][WARNING] Builtin name \"max\" has been overriden by datar.\n",
      "[2021-07-16 15:28:23][datar][WARNING] Builtin name \"sum\" has been overriden by datar.\n",
      "[2021-07-16 15:28:23][datar][WARNING] Builtin name \"abs\" has been overriden by datar.\n",
      "[2021-07-16 15:28:23][datar][WARNING] Builtin name \"round\" has been overriden by datar.\n",
      "[2021-07-16 15:28:23][datar][WARNING] Builtin name \"all\" has been overriden by datar.\n",
      "[2021-07-16 15:28:23][datar][WARNING] Builtin name \"any\" has been overriden by datar.\n",
      "[2021-07-16 15:28:23][datar][WARNING] Builtin name \"re\" has been overriden by datar.\n",
      "[2021-07-16 15:28:23][datar][WARNING] Builtin name \"filter\" has been overriden by datar.\n",
      "[2021-07-16 15:28:23][datar][WARNING] Builtin name \"slice\" has been overriden by datar.\n"
     ]
    },
    {
     "data": {
      "text/html": [
       "<div style=\"text-align: right; text-style: italic\">Try this notebook on <a target=\"_blank\" href=\"https://mybinder.org/v2/gh/pwwang/datar/93d069f3ca36711fc811c61dcf60e9fc3d1460a5?filepath=docs%2Fnotebooks%2Fcontext.ipynb\">binder</a>.</div>"
      ],
      "text/plain": [
       "<IPython.core.display.HTML object>"
      ]
     },
     "metadata": {},
     "output_type": "display_data"
    },
    {
     "data": {
      "text/markdown": [
       "### # cur_group_id  "
      ],
      "text/plain": [
       "<IPython.core.display.Markdown object>"
      ]
     },
     "metadata": {},
     "output_type": "display_data"
    },
    {
     "data": {
      "text/markdown": [
       "##### gives a unique numeric identifier for the current group.\n"
      ],
      "text/plain": [
       "<IPython.core.display.Markdown object>"
      ]
     },
     "metadata": {},
     "output_type": "display_data"
    },
    {
     "data": {
      "text/markdown": [
       "### # cur_group_rows  "
      ],
      "text/plain": [
       "<IPython.core.display.Markdown object>"
      ]
     },
     "metadata": {},
     "output_type": "display_data"
    },
    {
     "data": {
      "text/markdown": [
       "##### Gives the row indices for the current group.\n",
       "\n",
       "##### Args:\n",
       "&emsp;&emsp;`_data`: The dataFrame.  \n",
       "\n",
       "##### Returns:\n",
       "&emsp;&emsp;The `_rows` from group data or row indexes (always 0-based).  \n"
      ],
      "text/plain": [
       "<IPython.core.display.Markdown object>"
      ]
     },
     "metadata": {},
     "output_type": "display_data"
    },
    {
     "data": {
      "text/markdown": [
       "### # cur_data  "
      ],
      "text/plain": [
       "<IPython.core.display.Markdown object>"
      ]
     },
     "metadata": {},
     "output_type": "display_data"
    },
    {
     "data": {
      "text/markdown": [
       "##### gives the current data for the current group\n",
       "(excluding grouping variables).  \n"
      ],
      "text/plain": [
       "<IPython.core.display.Markdown object>"
      ]
     },
     "metadata": {},
     "output_type": "display_data"
    },
    {
     "data": {
      "text/markdown": [
       "### # cur_data_all  "
      ],
      "text/plain": [
       "<IPython.core.display.Markdown object>"
      ]
     },
     "metadata": {},
     "output_type": "display_data"
    },
    {
     "data": {
      "text/markdown": [
       "##### gives the current data for the current group\n",
       "(including grouping variables)  \n"
      ],
      "text/plain": [
       "<IPython.core.display.Markdown object>"
      ]
     },
     "metadata": {},
     "output_type": "display_data"
    },
    {
     "data": {
      "text/markdown": [
       "### # cur_column  "
      ],
      "text/plain": [
       "<IPython.core.display.Markdown object>"
      ]
     },
     "metadata": {},
     "output_type": "display_data"
    },
    {
     "data": {
      "text/markdown": [
       "##### Used in the functions of across. So we don't have to register it.\n"
      ],
      "text/plain": [
       "<IPython.core.display.Markdown object>"
      ]
     },
     "metadata": {},
     "output_type": "display_data"
    }
   ],
   "source": [
    "# https://dplyr.tidyverse.org/reference/context.html\n",
    "from datar.all import *\n",
    "\n",
    "%run nb_helpers.py\n",
    "nb_header(cur_group_id, cur_group_rows, cur_data, cur_data_all, cur_column, book='context')"
   ]
  },
  {
   "cell_type": "code",
   "execution_count": 2,
   "id": "ec43ebdc",
   "metadata": {
    "execution": {
     "iopub.execute_input": "2021-07-16T22:28:23.769370Z",
     "iopub.status.busy": "2021-07-16T22:28:23.767355Z",
     "iopub.status.idle": "2021-07-16T22:28:24.044934Z",
     "shell.execute_reply": "2021-07-16T22:28:24.045340Z"
    }
   },
   "outputs": [
    {
     "data": {
      "text/html": [
       "<table border=\"1\" class=\"dataframe\">\n",
       "  <thead>\n",
       "    <tr style=\"text-align: right;\">\n",
       "      <th></th>\n",
       "      <th>g</th>\n",
       "      <th>n</th>\n",
       "    </tr>\n",
       "  </thead>\n",
       "  <tbody>\n",
       "    <tr>\n",
       "      <th style=\"font-style: italic;\" ></th>\n",
       "      <td style=\"font-style: italic;\" >&lt;object&gt;</td>\n",
       "      <td style=\"font-style: italic;\" >&lt;int64&gt;</td>\n",
       "    </tr>\n",
       "    <tr>\n",
       "      <th>0</th>\n",
       "      <td>a</td>\n",
       "      <td>1</td>\n",
       "    </tr>\n",
       "    <tr>\n",
       "      <th>1</th>\n",
       "      <td>b</td>\n",
       "      <td>2</td>\n",
       "    </tr>\n",
       "    <tr>\n",
       "      <th>2</th>\n",
       "      <td>c</td>\n",
       "      <td>3</td>\n",
       "    </tr>\n",
       "  </tbody>\n",
       "</table>"
      ],
      "text/plain": [
       "         g       n\n",
       "  <object> <int64>\n",
       "0        a       1\n",
       "1        b       2\n",
       "2        c       3"
      ]
     },
     "execution_count": 1,
     "metadata": {},
     "output_type": "execute_result"
    }
   ],
   "source": [
    "df = tibble(\n",
    "  g=['a'] + ['b'] * 2 + ['c'] * 3,\n",
    "  x=runif(6),\n",
    "  y=runif(6)\n",
    ")\n",
    "gf = df >> group_by(f.g)\n",
    "\n",
    "gf >> summarise(n = n())"
   ]
  },
  {
   "cell_type": "code",
   "execution_count": 3,
   "id": "d162c09b",
   "metadata": {
    "execution": {
     "iopub.execute_input": "2021-07-16T22:28:24.060058Z",
     "iopub.status.busy": "2021-07-16T22:28:24.059390Z",
     "iopub.status.idle": "2021-07-16T22:28:24.063439Z",
     "shell.execute_reply": "2021-07-16T22:28:24.064000Z"
    }
   },
   "outputs": [
    {
     "data": {
      "text/html": [
       "<table border=\"1\" class=\"dataframe\">\n",
       "  <thead>\n",
       "    <tr style=\"text-align: right;\">\n",
       "      <th></th>\n",
       "      <th>g</th>\n",
       "      <th>x</th>\n",
       "      <th>y</th>\n",
       "    </tr>\n",
       "  </thead>\n",
       "  <tbody>\n",
       "    <tr>\n",
       "      <th style=\"font-style: italic;\" ></th>\n",
       "      <td style=\"font-style: italic;\" >&lt;object&gt;</td>\n",
       "      <td style=\"font-style: italic;\" >&lt;float64&gt;</td>\n",
       "      <td style=\"font-style: italic;\" >&lt;float64&gt;</td>\n",
       "    </tr>\n",
       "    <tr>\n",
       "      <th>0</th>\n",
       "      <td>a</td>\n",
       "      <td>0.355023</td>\n",
       "      <td>0.000239</td>\n",
       "    </tr>\n",
       "    <tr>\n",
       "      <th>1</th>\n",
       "      <td>b</td>\n",
       "      <td>0.880160</td>\n",
       "      <td>0.685917</td>\n",
       "    </tr>\n",
       "    <tr>\n",
       "      <th>2</th>\n",
       "      <td>b</td>\n",
       "      <td>0.346984</td>\n",
       "      <td>0.925864</td>\n",
       "    </tr>\n",
       "    <tr>\n",
       "      <th>3</th>\n",
       "      <td>c</td>\n",
       "      <td>0.235711</td>\n",
       "      <td>0.701329</td>\n",
       "    </tr>\n",
       "    <tr>\n",
       "      <th>4</th>\n",
       "      <td>c</td>\n",
       "      <td>0.320924</td>\n",
       "      <td>0.903383</td>\n",
       "    </tr>\n",
       "    <tr>\n",
       "      <th>5</th>\n",
       "      <td>c</td>\n",
       "      <td>0.517224</td>\n",
       "      <td>0.223750</td>\n",
       "    </tr>\n",
       "  </tbody>\n",
       "</table>\n",
       "<p>Groups: ['g'] (n=3)</p>"
      ],
      "text/plain": [
       "         g         x         y\n",
       "  <object> <float64> <float64>\n",
       "0        a  0.355023  0.000239\n",
       "1        b  0.880160  0.685917\n",
       "2        b  0.346984  0.925864\n",
       "3        c  0.235711  0.701329\n",
       "4        c  0.320924  0.903383\n",
       "5        c  0.517224  0.223750\n",
       "\n",
       "[Groups: g (n=3)]"
      ]
     },
     "execution_count": 1,
     "metadata": {},
     "output_type": "execute_result"
    }
   ],
   "source": [
    "gf"
   ]
  },
  {
   "cell_type": "code",
   "execution_count": 4,
   "id": "78aae172",
   "metadata": {
    "execution": {
     "iopub.execute_input": "2021-07-16T22:28:24.093244Z",
     "iopub.status.busy": "2021-07-16T22:28:24.092669Z",
     "iopub.status.idle": "2021-07-16T22:28:24.251043Z",
     "shell.execute_reply": "2021-07-16T22:28:24.251600Z"
    }
   },
   "outputs": [
    {
     "data": {
      "text/html": [
       "<table border=\"1\" class=\"dataframe\">\n",
       "  <thead>\n",
       "    <tr style=\"text-align: right;\">\n",
       "      <th></th>\n",
       "      <th>g</th>\n",
       "      <th>x</th>\n",
       "      <th>y</th>\n",
       "      <th>id</th>\n",
       "    </tr>\n",
       "  </thead>\n",
       "  <tbody>\n",
       "    <tr>\n",
       "      <th style=\"font-style: italic;\" ></th>\n",
       "      <td style=\"font-style: italic;\" >&lt;object&gt;</td>\n",
       "      <td style=\"font-style: italic;\" >&lt;float64&gt;</td>\n",
       "      <td style=\"font-style: italic;\" >&lt;float64&gt;</td>\n",
       "      <td style=\"font-style: italic;\" >&lt;int64&gt;</td>\n",
       "    </tr>\n",
       "    <tr>\n",
       "      <th>0</th>\n",
       "      <td>a</td>\n",
       "      <td>0.355023</td>\n",
       "      <td>0.000239</td>\n",
       "      <td>0</td>\n",
       "    </tr>\n",
       "    <tr>\n",
       "      <th>1</th>\n",
       "      <td>b</td>\n",
       "      <td>0.880160</td>\n",
       "      <td>0.685917</td>\n",
       "      <td>1</td>\n",
       "    </tr>\n",
       "    <tr>\n",
       "      <th>2</th>\n",
       "      <td>b</td>\n",
       "      <td>0.346984</td>\n",
       "      <td>0.925864</td>\n",
       "      <td>1</td>\n",
       "    </tr>\n",
       "    <tr>\n",
       "      <th>3</th>\n",
       "      <td>c</td>\n",
       "      <td>0.235711</td>\n",
       "      <td>0.701329</td>\n",
       "      <td>2</td>\n",
       "    </tr>\n",
       "    <tr>\n",
       "      <th>4</th>\n",
       "      <td>c</td>\n",
       "      <td>0.320924</td>\n",
       "      <td>0.903383</td>\n",
       "      <td>2</td>\n",
       "    </tr>\n",
       "    <tr>\n",
       "      <th>5</th>\n",
       "      <td>c</td>\n",
       "      <td>0.517224</td>\n",
       "      <td>0.223750</td>\n",
       "      <td>2</td>\n",
       "    </tr>\n",
       "  </tbody>\n",
       "</table>\n",
       "<p>Groups: ['g'] (n=3)</p>"
      ],
      "text/plain": [
       "         g         x         y      id\n",
       "  <object> <float64> <float64> <int64>\n",
       "0        a  0.355023  0.000239       0\n",
       "1        b  0.880160  0.685917       1\n",
       "2        b  0.346984  0.925864       1\n",
       "3        c  0.235711  0.701329       2\n",
       "4        c  0.320924  0.903383       2\n",
       "5        c  0.517224  0.223750       2\n",
       "\n",
       "[Groups: g (n=3)]"
      ]
     },
     "execution_count": 1,
     "metadata": {},
     "output_type": "execute_result"
    }
   ],
   "source": [
    "gf >> mutate(id=cur_group_id()) "
   ]
  },
  {
   "cell_type": "code",
   "execution_count": 5,
   "id": "49c59913",
   "metadata": {
    "execution": {
     "iopub.execute_input": "2021-07-16T22:28:24.293049Z",
     "iopub.status.busy": "2021-07-16T22:28:24.292380Z",
     "iopub.status.idle": "2021-07-16T22:28:24.301115Z",
     "shell.execute_reply": "2021-07-16T22:28:24.301811Z"
    }
   },
   "outputs": [
    {
     "name": "stderr",
     "output_type": "stream",
     "text": [
      "[2021-07-16 15:28:24][datar][   INFO] `summarise()` has grouped output by ['g'] (override with `_groups` argument)\n"
     ]
    },
    {
     "data": {
      "text/html": [
       "<table border=\"1\" class=\"dataframe\">\n",
       "  <thead>\n",
       "    <tr style=\"text-align: right;\">\n",
       "      <th></th>\n",
       "      <th>g</th>\n",
       "      <th>row</th>\n",
       "    </tr>\n",
       "  </thead>\n",
       "  <tbody>\n",
       "    <tr>\n",
       "      <th style=\"font-style: italic;\" ></th>\n",
       "      <td style=\"font-style: italic;\" >&lt;object&gt;</td>\n",
       "      <td style=\"font-style: italic;\" >&lt;int64&gt;</td>\n",
       "    </tr>\n",
       "    <tr>\n",
       "      <th>0</th>\n",
       "      <td>a</td>\n",
       "      <td>0</td>\n",
       "    </tr>\n",
       "    <tr>\n",
       "      <th>1</th>\n",
       "      <td>b</td>\n",
       "      <td>1</td>\n",
       "    </tr>\n",
       "    <tr>\n",
       "      <th>2</th>\n",
       "      <td>c</td>\n",
       "      <td>3</td>\n",
       "    </tr>\n",
       "    <tr>\n",
       "      <th>3</th>\n",
       "      <td>b</td>\n",
       "      <td>2</td>\n",
       "    </tr>\n",
       "    <tr>\n",
       "      <th>4</th>\n",
       "      <td>c</td>\n",
       "      <td>4</td>\n",
       "    </tr>\n",
       "    <tr>\n",
       "      <th>5</th>\n",
       "      <td>c</td>\n",
       "      <td>5</td>\n",
       "    </tr>\n",
       "  </tbody>\n",
       "</table>\n",
       "<p>Groups: ['g'] (n=3)</p>"
      ],
      "text/plain": [
       "         g     row\n",
       "  <object> <int64>\n",
       "0        a       0\n",
       "1        b       1\n",
       "2        c       3\n",
       "3        b       2\n",
       "4        c       4\n",
       "5        c       5\n",
       "\n",
       "[Groups: g (n=3)]"
      ]
     },
     "execution_count": 1,
     "metadata": {},
     "output_type": "execute_result"
    }
   ],
   "source": [
    "gf >> summarise(row=cur_group_rows()) "
   ]
  },
  {
   "cell_type": "code",
   "execution_count": 6,
   "id": "cb760a8a",
   "metadata": {
    "execution": {
     "iopub.execute_input": "2021-07-16T22:28:24.335103Z",
     "iopub.status.busy": "2021-07-16T22:28:24.334457Z",
     "iopub.status.idle": "2021-07-16T22:28:24.348919Z",
     "shell.execute_reply": "2021-07-16T22:28:24.349292Z"
    }
   },
   "outputs": [
    {
     "data": {
      "text/html": [
       "<table border=\"1\" class=\"dataframe\">\n",
       "  <thead>\n",
       "    <tr style=\"text-align: right;\">\n",
       "      <th></th>\n",
       "      <th>g</th>\n",
       "      <th>data</th>\n",
       "    </tr>\n",
       "  </thead>\n",
       "  <tbody>\n",
       "    <tr>\n",
       "      <th style=\"font-style: italic;\" ></th>\n",
       "      <td style=\"font-style: italic;\" >&lt;object&gt;</td>\n",
       "      <td style=\"font-style: italic;\" >&lt;object&gt;</td>\n",
       "    </tr>\n",
       "    <tr>\n",
       "      <th>0</th>\n",
       "      <td>a</td>\n",
       "      <td>&lt;DF 1x1&gt;</td>\n",
       "    </tr>\n",
       "    <tr>\n",
       "      <th>1</th>\n",
       "      <td>b</td>\n",
       "      <td>&lt;DF 1x1&gt;</td>\n",
       "    </tr>\n",
       "    <tr>\n",
       "      <th>2</th>\n",
       "      <td>c</td>\n",
       "      <td>&lt;DF 1x1&gt;</td>\n",
       "    </tr>\n",
       "  </tbody>\n",
       "</table>"
      ],
      "text/plain": [
       "         g      data\n",
       "  <object>  <object>\n",
       "0        a  <DF 1x1>\n",
       "1        b  <DF 1x1>\n",
       "2        c  <DF 1x1>"
      ]
     },
     "execution_count": 1,
     "metadata": {},
     "output_type": "execute_result"
    }
   ],
   "source": [
    "gf_group = gf >> summarise(data=[cur_group()])\n",
    "gf_group "
   ]
  },
  {
   "cell_type": "code",
   "execution_count": 7,
   "id": "4c25f162",
   "metadata": {
    "execution": {
     "iopub.execute_input": "2021-07-16T22:28:24.367887Z",
     "iopub.status.busy": "2021-07-16T22:28:24.367244Z",
     "iopub.status.idle": "2021-07-16T22:28:24.381979Z",
     "shell.execute_reply": "2021-07-16T22:28:24.382350Z"
    }
   },
   "outputs": [
    {
     "data": {
      "text/plain": [
       "[         g\n",
       "   <object>\n",
       " 0        a,\n",
       "          g\n",
       "   <object>\n",
       " 1        b,\n",
       "          g\n",
       "   <object>\n",
       " 2        c]"
      ]
     },
     "execution_count": 1,
     "metadata": {},
     "output_type": "execute_result"
    }
   ],
   "source": [
    "gf_group >> pull(f.data, to='list')"
   ]
  },
  {
   "cell_type": "code",
   "execution_count": 8,
   "id": "71996f23",
   "metadata": {
    "execution": {
     "iopub.execute_input": "2021-07-16T22:28:24.447148Z",
     "iopub.status.busy": "2021-07-16T22:28:24.446024Z",
     "iopub.status.idle": "2021-07-16T22:28:24.467264Z",
     "shell.execute_reply": "2021-07-16T22:28:24.467729Z"
    }
   },
   "outputs": [
    {
     "data": {
      "text/html": [
       "<table border=\"1\" class=\"dataframe\">\n",
       "  <thead>\n",
       "    <tr style=\"text-align: right;\">\n",
       "      <th></th>\n",
       "      <th>g</th>\n",
       "      <th>data</th>\n",
       "    </tr>\n",
       "  </thead>\n",
       "  <tbody>\n",
       "    <tr>\n",
       "      <th style=\"font-style: italic;\" ></th>\n",
       "      <td style=\"font-style: italic;\" >&lt;object&gt;</td>\n",
       "      <td style=\"font-style: italic;\" >&lt;object&gt;</td>\n",
       "    </tr>\n",
       "    <tr>\n",
       "      <th>0</th>\n",
       "      <td>a</td>\n",
       "      <td>&lt;DF 1x2&gt;</td>\n",
       "    </tr>\n",
       "    <tr>\n",
       "      <th>1</th>\n",
       "      <td>b</td>\n",
       "      <td>&lt;DF 2x2&gt;</td>\n",
       "    </tr>\n",
       "    <tr>\n",
       "      <th>2</th>\n",
       "      <td>c</td>\n",
       "      <td>&lt;DF 3x2&gt;</td>\n",
       "    </tr>\n",
       "  </tbody>\n",
       "</table>"
      ],
      "text/plain": [
       "         g      data\n",
       "  <object>  <object>\n",
       "0        a  <DF 1x2>\n",
       "1        b  <DF 2x2>\n",
       "2        c  <DF 3x2>"
      ]
     },
     "execution_count": 1,
     "metadata": {},
     "output_type": "execute_result"
    }
   ],
   "source": [
    "gf_data = gf >> summarise(data=[cur_data()])\n",
    "gf_data"
   ]
  },
  {
   "cell_type": "code",
   "execution_count": 9,
   "id": "9b37d097",
   "metadata": {
    "execution": {
     "iopub.execute_input": "2021-07-16T22:28:24.496469Z",
     "iopub.status.busy": "2021-07-16T22:28:24.495880Z",
     "iopub.status.idle": "2021-07-16T22:28:24.515602Z",
     "shell.execute_reply": "2021-07-16T22:28:24.516019Z"
    }
   },
   "outputs": [
    {
     "data": {
      "text/plain": [
       "[          x         y\n",
       "   <float64> <float64>\n",
       " 0  0.355023  0.000239,\n",
       "           x         y\n",
       "   <float64> <float64>\n",
       " 0  0.880160  0.685917\n",
       " 1  0.346984  0.925864,\n",
       "           x         y\n",
       "   <float64> <float64>\n",
       " 0  0.235711  0.701329\n",
       " 1  0.320924  0.903383\n",
       " 2  0.517224  0.223750]"
      ]
     },
     "execution_count": 1,
     "metadata": {},
     "output_type": "execute_result"
    }
   ],
   "source": [
    "gf_data >> pull(f.data, to='list')"
   ]
  },
  {
   "cell_type": "code",
   "execution_count": 10,
   "id": "03c07299",
   "metadata": {
    "execution": {
     "iopub.execute_input": "2021-07-16T22:28:24.549672Z",
     "iopub.status.busy": "2021-07-16T22:28:24.548821Z",
     "iopub.status.idle": "2021-07-16T22:28:24.555222Z",
     "shell.execute_reply": "2021-07-16T22:28:24.555691Z"
    }
   },
   "outputs": [
    {
     "data": {
      "text/html": [
       "<table border=\"1\" class=\"dataframe\">\n",
       "  <thead>\n",
       "    <tr style=\"text-align: right;\">\n",
       "      <th></th>\n",
       "      <th>g</th>\n",
       "      <th>data</th>\n",
       "    </tr>\n",
       "  </thead>\n",
       "  <tbody>\n",
       "    <tr>\n",
       "      <th style=\"font-style: italic;\" ></th>\n",
       "      <td style=\"font-style: italic;\" >&lt;object&gt;</td>\n",
       "      <td style=\"font-style: italic;\" >&lt;object&gt;</td>\n",
       "    </tr>\n",
       "    <tr>\n",
       "      <th>0</th>\n",
       "      <td>a</td>\n",
       "      <td>&lt;DF 1x3&gt;</td>\n",
       "    </tr>\n",
       "    <tr>\n",
       "      <th>1</th>\n",
       "      <td>b</td>\n",
       "      <td>&lt;DF 2x3&gt;</td>\n",
       "    </tr>\n",
       "    <tr>\n",
       "      <th>2</th>\n",
       "      <td>c</td>\n",
       "      <td>&lt;DF 3x3&gt;</td>\n",
       "    </tr>\n",
       "  </tbody>\n",
       "</table>"
      ],
      "text/plain": [
       "         g      data\n",
       "  <object>  <object>\n",
       "0        a  <DF 1x3>\n",
       "1        b  <DF 2x3>\n",
       "2        c  <DF 3x3>"
      ]
     },
     "execution_count": 1,
     "metadata": {},
     "output_type": "execute_result"
    }
   ],
   "source": [
    "gf_data_all = gf >> summarise(data=[cur_data_all()])\n",
    "gf_data_all"
   ]
  },
  {
   "cell_type": "code",
   "execution_count": 11,
   "id": "4cc41680",
   "metadata": {
    "execution": {
     "iopub.execute_input": "2021-07-16T22:28:24.571425Z",
     "iopub.status.busy": "2021-07-16T22:28:24.570212Z",
     "iopub.status.idle": "2021-07-16T22:28:24.578675Z",
     "shell.execute_reply": "2021-07-16T22:28:24.579169Z"
    }
   },
   "outputs": [
    {
     "data": {
      "text/plain": [
       "[         g         x         y\n",
       "   <object> <float64> <float64>\n",
       " 0        a  0.355023  0.000239,\n",
       "          g         x         y\n",
       "   <object> <float64> <float64>\n",
       " 0        b  0.880160  0.685917\n",
       " 1        b  0.346984  0.925864,\n",
       "          g         x         y\n",
       "   <object> <float64> <float64>\n",
       " 0        c  0.235711  0.701329\n",
       " 1        c  0.320924  0.903383\n",
       " 2        c  0.517224  0.223750]"
      ]
     },
     "execution_count": 1,
     "metadata": {},
     "output_type": "execute_result"
    }
   ],
   "source": [
    "gf_data_all >> pull(f.data, to='list')"
   ]
  },
  {
   "cell_type": "code",
   "execution_count": 12,
   "id": "fe4097d2",
   "metadata": {
    "execution": {
     "iopub.execute_input": "2021-07-16T22:28:24.595194Z",
     "iopub.status.busy": "2021-07-16T22:28:24.593255Z",
     "iopub.status.idle": "2021-07-16T22:28:24.671560Z",
     "shell.execute_reply": "2021-07-16T22:28:24.672013Z"
    }
   },
   "outputs": [
    {
     "data": {
      "text/html": [
       "<table border=\"1\" class=\"dataframe\">\n",
       "  <thead>\n",
       "    <tr style=\"text-align: right;\">\n",
       "      <th></th>\n",
       "      <th>x</th>\n",
       "      <th>y</th>\n",
       "    </tr>\n",
       "  </thead>\n",
       "  <tbody>\n",
       "    <tr>\n",
       "      <th style=\"font-style: italic;\" ></th>\n",
       "      <td style=\"font-style: italic;\" >&lt;object&gt;</td>\n",
       "      <td style=\"font-style: italic;\" >&lt;object&gt;</td>\n",
       "    </tr>\n",
       "    <tr>\n",
       "      <th>0</th>\n",
       "      <td>x 0.12604155322312222</td>\n",
       "      <td>y 5.6999380937828065e-08</td>\n",
       "    </tr>\n",
       "    <tr>\n",
       "      <th>1</th>\n",
       "      <td>x 0.774681491948246</td>\n",
       "      <td>y 0.4704825471271767</td>\n",
       "    </tr>\n",
       "    <tr>\n",
       "      <th>2</th>\n",
       "      <td>x 0.12039757121582166</td>\n",
       "      <td>y 0.8572243453665154</td>\n",
       "    </tr>\n",
       "    <tr>\n",
       "      <th>3</th>\n",
       "      <td>x 0.05555990226957967</td>\n",
       "      <td>y 0.4918620958711894</td>\n",
       "    </tr>\n",
       "    <tr>\n",
       "      <th>4</th>\n",
       "      <td>x 0.10299227187650134</td>\n",
       "      <td>y 0.8161000953420035</td>\n",
       "    </tr>\n",
       "    <tr>\n",
       "      <th>5</th>\n",
       "      <td>x 0.2675202810065084</td>\n",
       "      <td>y 0.05006392781773493</td>\n",
       "    </tr>\n",
       "  </tbody>\n",
       "</table>"
      ],
      "text/plain": [
       "                       x                         y\n",
       "                <object>                  <object>\n",
       "0  x 0.12604155322312222  y 5.6999380937828065e-08\n",
       "1    x 0.774681491948246      y 0.4704825471271767\n",
       "2  x 0.12039757121582166      y 0.8572243453665154\n",
       "3  x 0.05555990226957967      y 0.4918620958711894\n",
       "4  x 0.10299227187650134      y 0.8161000953420035\n",
       "5   x 0.2675202810065084     y 0.05006392781773493"
      ]
     },
     "execution_count": 1,
     "metadata": {},
     "output_type": "execute_result"
    }
   ],
   "source": [
    "df >> select(f.x, f.y) >> mutate(\n",
    "    across(\n",
    "        everything(), \n",
    "        lambda x, cc: [cc + ' '] * x.shape[0] + (x**2).astype(str), cc=cur_column()\n",
    "    )\n",
    ")"
   ]
  },
  {
   "cell_type": "code",
   "execution_count": 13,
   "id": "c99b8dee",
   "metadata": {
    "execution": {
     "iopub.execute_input": "2021-07-16T22:28:24.695778Z",
     "iopub.status.busy": "2021-07-16T22:28:24.695126Z",
     "iopub.status.idle": "2021-07-16T22:28:24.699137Z",
     "shell.execute_reply": "2021-07-16T22:28:24.699704Z"
    }
   },
   "outputs": [
    {
     "data": {
      "text/html": [
       "<table border=\"1\" class=\"dataframe\">\n",
       "  <thead>\n",
       "    <tr style=\"text-align: right;\">\n",
       "      <th></th>\n",
       "      <th>g</th>\n",
       "      <th>x</th>\n",
       "      <th>y</th>\n",
       "    </tr>\n",
       "  </thead>\n",
       "  <tbody>\n",
       "    <tr>\n",
       "      <th style=\"font-style: italic;\" ></th>\n",
       "      <td style=\"font-style: italic;\" >&lt;object&gt;</td>\n",
       "      <td style=\"font-style: italic;\" >&lt;object&gt;</td>\n",
       "      <td style=\"font-style: italic;\" >&lt;object&gt;</td>\n",
       "    </tr>\n",
       "    <tr>\n",
       "      <th>0</th>\n",
       "      <td>a</td>\n",
       "      <td>x 0.12604155322312222</td>\n",
       "      <td>y 5.6999380937828065e-08</td>\n",
       "    </tr>\n",
       "    <tr>\n",
       "      <th>1</th>\n",
       "      <td>b</td>\n",
       "      <td>x 0.774681491948246</td>\n",
       "      <td>y 0.4704825471271767</td>\n",
       "    </tr>\n",
       "    <tr>\n",
       "      <th>2</th>\n",
       "      <td>b</td>\n",
       "      <td>x 0.12039757121582166</td>\n",
       "      <td>y 0.8572243453665154</td>\n",
       "    </tr>\n",
       "    <tr>\n",
       "      <th>3</th>\n",
       "      <td>c</td>\n",
       "      <td>x 0.05555990226957967</td>\n",
       "      <td>y 0.4918620958711894</td>\n",
       "    </tr>\n",
       "    <tr>\n",
       "      <th>4</th>\n",
       "      <td>c</td>\n",
       "      <td>x 0.10299227187650134</td>\n",
       "      <td>y 0.8161000953420035</td>\n",
       "    </tr>\n",
       "    <tr>\n",
       "      <th>5</th>\n",
       "      <td>c</td>\n",
       "      <td>x 0.2675202810065084</td>\n",
       "      <td>y 0.05006392781773493</td>\n",
       "    </tr>\n",
       "  </tbody>\n",
       "</table>"
      ],
      "text/plain": [
       "         g                      x                         y\n",
       "  <object>               <object>                  <object>\n",
       "0        a  x 0.12604155322312222  y 5.6999380937828065e-08\n",
       "1        b    x 0.774681491948246      y 0.4704825471271767\n",
       "2        b  x 0.12039757121582166      y 0.8572243453665154\n",
       "3        c  x 0.05555990226957967      y 0.4918620958711894\n",
       "4        c  x 0.10299227187650134      y 0.8161000953420035\n",
       "5        c   x 0.2675202810065084     y 0.05006392781773493"
      ]
     },
     "execution_count": 1,
     "metadata": {},
     "output_type": "execute_result"
    }
   ],
   "source": [
    "# or you can use x.name, since x is a Series\n",
    "df >> mutate(across(\n",
    "    [f.x, f.y], \n",
    "    lambda x: [x.name + ' '] * x.shape[0] + (x**2).astype(str)\n",
    "))"
   ]
  },
  {
   "cell_type": "code",
   "execution_count": null,
   "id": "91176d3f",
   "metadata": {},
   "outputs": [],
   "source": []
  }
 ],
 "metadata": {
  "kernelspec": {
   "display_name": "Python 3",
   "language": "python",
   "name": "python3"
  },
  "language_info": {
   "codemirror_mode": {
    "name": "ipython",
    "version": 3
   },
   "file_extension": ".py",
   "mimetype": "text/x-python",
   "name": "python",
   "nbconvert_exporter": "python",
   "pygments_lexer": "ipython3",
   "version": "3.7.8"
  }
 },
 "nbformat": 4,
 "nbformat_minor": 5
}
