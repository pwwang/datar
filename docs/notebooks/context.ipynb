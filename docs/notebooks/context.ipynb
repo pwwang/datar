{
 "cells": [
  {
   "cell_type": "code",
   "execution_count": 1,
   "source": [
    "# https://dplyr.tidyverse.org/reference/context.html\n",
    "from datar.all import *\n",
    "\n",
    "%run nb_helpers.py\n",
    "nb_header(cur_group_id, cur_group_rows, cur_data, cur_data_all, cur_column, book='context')"
   ],
   "outputs": [
    {
     "output_type": "stream",
     "name": "stderr",
     "text": [
      "[2021-06-21 13:37:44][datar][WARNING] Builtin name \"min\" has been overriden by datar.\n",
      "[2021-06-21 13:37:44][datar][WARNING] Builtin name \"max\" has been overriden by datar.\n",
      "[2021-06-21 13:37:44][datar][WARNING] Builtin name \"sum\" has been overriden by datar.\n",
      "[2021-06-21 13:37:44][datar][WARNING] Builtin name \"abs\" has been overriden by datar.\n",
      "[2021-06-21 13:37:44][datar][WARNING] Builtin name \"round\" has been overriden by datar.\n",
      "[2021-06-21 13:37:44][datar][WARNING] Builtin name \"all\" has been overriden by datar.\n",
      "[2021-06-21 13:37:44][datar][WARNING] Builtin name \"any\" has been overriden by datar.\n",
      "[2021-06-21 13:37:44][datar][WARNING] Builtin name \"re\" has been overriden by datar.\n",
      "[2021-06-21 13:37:44][datar][WARNING] Builtin name \"filter\" has been overriden by datar.\n",
      "[2021-06-21 13:37:44][datar][WARNING] Builtin name \"slice\" has been overriden by datar.\n"
     ]
    },
    {
     "output_type": "display_data",
     "data": {
      "text/plain": [
       "<IPython.core.display.HTML object>"
      ],
      "text/html": [
       "<div style=\"text-align: right; text-style: italic\">Try this notebook on <a target=\"_blank\" href=\"https://mybinder.org/v2/gh/pwwang/datar/93d069f3ca36711fc811c61dcf60e9fc3d1460a5?filepath=docs%2Fnotebooks%2Fcontext.ipynb\">binder</a>.</div>"
      ]
     },
     "metadata": {}
    },
    {
     "output_type": "display_data",
     "data": {
      "text/plain": [
       "<IPython.core.display.Markdown object>"
      ],
      "text/markdown": [
       "### # cur_group_id  "
      ]
     },
     "metadata": {}
    },
    {
     "output_type": "display_data",
     "data": {
      "text/plain": [
       "<IPython.core.display.Markdown object>"
      ],
      "text/markdown": [
       "##### gives a unique numeric identifier for the current group.\n"
      ]
     },
     "metadata": {}
    },
    {
     "output_type": "display_data",
     "data": {
      "text/plain": [
       "<IPython.core.display.Markdown object>"
      ],
      "text/markdown": [
       "### # cur_group_rows  "
      ]
     },
     "metadata": {}
    },
    {
     "output_type": "display_data",
     "data": {
      "text/plain": [
       "<IPython.core.display.Markdown object>"
      ],
      "text/markdown": [
       "##### Gives the row indices for the current group.\n",
       "\n",
       "##### Args:\n",
       "&emsp;&emsp;`_data`: The dataFrame.  \n",
       "\n",
       "##### Returns:\n",
       "&emsp;&emsp;The `_rows` from group data or row indexes (always 0-based).  \n"
      ]
     },
     "metadata": {}
    },
    {
     "output_type": "display_data",
     "data": {
      "text/plain": [
       "<IPython.core.display.Markdown object>"
      ],
      "text/markdown": [
       "### # cur_data  "
      ]
     },
     "metadata": {}
    },
    {
     "output_type": "display_data",
     "data": {
      "text/plain": [
       "<IPython.core.display.Markdown object>"
      ],
      "text/markdown": [
       "##### gives the current data for the current group\n",
       "(excluding grouping variables).  \n"
      ]
     },
     "metadata": {}
    },
    {
     "output_type": "display_data",
     "data": {
      "text/plain": [
       "<IPython.core.display.Markdown object>"
      ],
      "text/markdown": [
       "### # cur_data_all  "
      ]
     },
     "metadata": {}
    },
    {
     "output_type": "display_data",
     "data": {
      "text/plain": [
       "<IPython.core.display.Markdown object>"
      ],
      "text/markdown": [
       "##### gives the current data for the current group\n",
       "(including grouping variables)  \n"
      ]
     },
     "metadata": {}
    },
    {
     "output_type": "display_data",
     "data": {
      "text/plain": [
       "<IPython.core.display.Markdown object>"
      ],
      "text/markdown": [
       "### # cur_column  "
      ]
     },
     "metadata": {}
    },
    {
     "output_type": "display_data",
     "data": {
      "text/plain": [
       "<IPython.core.display.Markdown object>"
      ],
      "text/markdown": [
       "##### Used in the functions of across. So we don't have to register it.\n"
      ]
     },
     "metadata": {}
    }
   ],
   "metadata": {
    "execution": {
     "iopub.execute_input": "2021-04-17T00:51:53.754444Z",
     "iopub.status.busy": "2021-04-17T00:51:53.753533Z",
     "iopub.status.idle": "2021-04-17T00:51:54.602935Z",
     "shell.execute_reply": "2021-04-17T00:51:54.602375Z"
    }
   }
  },
  {
   "cell_type": "code",
   "execution_count": 2,
   "source": [
    "df = tibble(\n",
    "  g=['a'] + ['b'] * 2 + ['c'] * 3,\n",
    "  x=runif(6),\n",
    "  y=runif(6)\n",
    ")\n",
    "gf = df >> group_by(f.g)\n",
    "\n",
    "gf >> summarise(n = n())"
   ],
   "outputs": [
    {
     "output_type": "execute_result",
     "data": {
      "text/plain": [
       "         g       n\n",
       "  <object> <int64>\n",
       "0        a       1\n",
       "1        b       2\n",
       "2        c       3"
      ],
      "text/html": [
       "<table border=\"1\" class=\"dataframe\">\n",
       "  <thead>\n",
       "    <tr style=\"text-align: right;\">\n",
       "      <th></th>\n",
       "      <th>g</th>\n",
       "      <th>n</th>\n",
       "    </tr>\n",
       "  </thead>\n",
       "  <tbody>\n",
       "    <tr>\n",
       "      <th style=\"font-style: italic;\" ></th>\n",
       "      <td style=\"font-style: italic;\" >&lt;object&gt;</td>\n",
       "      <td style=\"font-style: italic;\" >&lt;int64&gt;</td>\n",
       "    </tr>\n",
       "    <tr>\n",
       "      <th>0</th>\n",
       "      <td>a</td>\n",
       "      <td>1</td>\n",
       "    </tr>\n",
       "    <tr>\n",
       "      <th>1</th>\n",
       "      <td>b</td>\n",
       "      <td>2</td>\n",
       "    </tr>\n",
       "    <tr>\n",
       "      <th>2</th>\n",
       "      <td>c</td>\n",
       "      <td>3</td>\n",
       "    </tr>\n",
       "  </tbody>\n",
       "</table>"
      ]
     },
     "metadata": {},
     "execution_count": 2
    }
   ],
   "metadata": {
    "execution": {
     "iopub.execute_input": "2021-04-17T00:51:54.609607Z",
     "iopub.status.busy": "2021-04-17T00:51:54.607617Z",
     "iopub.status.idle": "2021-04-17T00:51:54.720507Z",
     "shell.execute_reply": "2021-04-17T00:51:54.719941Z"
    }
   }
  },
  {
   "cell_type": "code",
   "execution_count": 3,
   "source": [
    "gf"
   ],
   "outputs": [
    {
     "output_type": "execute_result",
     "data": {
      "text/plain": [
       "         g         x         y\n",
       "  <object> <float64> <float64>\n",
       "0        a  0.361852  0.652752\n",
       "1        b  0.843412  0.771309\n",
       "2        b  0.129364  0.244483\n",
       "3        c  0.213694  0.555308\n",
       "4        c  0.543648  0.825159\n",
       "5        c  0.341916  0.860476\n",
       "\n",
       "[Groups: g (n=3)]"
      ],
      "text/html": [
       "<table border=\"1\" class=\"dataframe\">\n",
       "  <thead>\n",
       "    <tr style=\"text-align: right;\">\n",
       "      <th></th>\n",
       "      <th>g</th>\n",
       "      <th>x</th>\n",
       "      <th>y</th>\n",
       "    </tr>\n",
       "  </thead>\n",
       "  <tbody>\n",
       "    <tr>\n",
       "      <th style=\"font-style: italic;\" ></th>\n",
       "      <td style=\"font-style: italic;\" >&lt;object&gt;</td>\n",
       "      <td style=\"font-style: italic;\" >&lt;float64&gt;</td>\n",
       "      <td style=\"font-style: italic;\" >&lt;float64&gt;</td>\n",
       "    </tr>\n",
       "    <tr>\n",
       "      <th>0</th>\n",
       "      <td>a</td>\n",
       "      <td>0.361852</td>\n",
       "      <td>0.652752</td>\n",
       "    </tr>\n",
       "    <tr>\n",
       "      <th>1</th>\n",
       "      <td>b</td>\n",
       "      <td>0.843412</td>\n",
       "      <td>0.771309</td>\n",
       "    </tr>\n",
       "    <tr>\n",
       "      <th>2</th>\n",
       "      <td>b</td>\n",
       "      <td>0.129364</td>\n",
       "      <td>0.244483</td>\n",
       "    </tr>\n",
       "    <tr>\n",
       "      <th>3</th>\n",
       "      <td>c</td>\n",
       "      <td>0.213694</td>\n",
       "      <td>0.555308</td>\n",
       "    </tr>\n",
       "    <tr>\n",
       "      <th>4</th>\n",
       "      <td>c</td>\n",
       "      <td>0.543648</td>\n",
       "      <td>0.825159</td>\n",
       "    </tr>\n",
       "    <tr>\n",
       "      <th>5</th>\n",
       "      <td>c</td>\n",
       "      <td>0.341916</td>\n",
       "      <td>0.860476</td>\n",
       "    </tr>\n",
       "  </tbody>\n",
       "</table>\n",
       "<p>Groups: ['g'] (n=3)</p>"
      ]
     },
     "metadata": {},
     "execution_count": 3
    }
   ],
   "metadata": {
    "execution": {
     "iopub.execute_input": "2021-04-17T00:51:54.733258Z",
     "iopub.status.busy": "2021-04-17T00:51:54.732696Z",
     "iopub.status.idle": "2021-04-17T00:51:54.739828Z",
     "shell.execute_reply": "2021-04-17T00:51:54.739270Z"
    }
   }
  },
  {
   "cell_type": "code",
   "execution_count": 4,
   "source": [
    "gf >> mutate(id=cur_group_id()) "
   ],
   "outputs": [
    {
     "output_type": "execute_result",
     "data": {
      "text/plain": [
       "         g         x         y      id\n",
       "  <object> <float64> <float64> <int64>\n",
       "0        a  0.361852  0.652752       0\n",
       "1        b  0.843412  0.771309       1\n",
       "2        b  0.129364  0.244483       1\n",
       "3        c  0.213694  0.555308       2\n",
       "4        c  0.543648  0.825159       2\n",
       "5        c  0.341916  0.860476       2\n",
       "\n",
       "[Groups: g (n=3)]"
      ],
      "text/html": [
       "<table border=\"1\" class=\"dataframe\">\n",
       "  <thead>\n",
       "    <tr style=\"text-align: right;\">\n",
       "      <th></th>\n",
       "      <th>g</th>\n",
       "      <th>x</th>\n",
       "      <th>y</th>\n",
       "      <th>id</th>\n",
       "    </tr>\n",
       "  </thead>\n",
       "  <tbody>\n",
       "    <tr>\n",
       "      <th style=\"font-style: italic;\" ></th>\n",
       "      <td style=\"font-style: italic;\" >&lt;object&gt;</td>\n",
       "      <td style=\"font-style: italic;\" >&lt;float64&gt;</td>\n",
       "      <td style=\"font-style: italic;\" >&lt;float64&gt;</td>\n",
       "      <td style=\"font-style: italic;\" >&lt;int64&gt;</td>\n",
       "    </tr>\n",
       "    <tr>\n",
       "      <th>0</th>\n",
       "      <td>a</td>\n",
       "      <td>0.361852</td>\n",
       "      <td>0.652752</td>\n",
       "      <td>0</td>\n",
       "    </tr>\n",
       "    <tr>\n",
       "      <th>1</th>\n",
       "      <td>b</td>\n",
       "      <td>0.843412</td>\n",
       "      <td>0.771309</td>\n",
       "      <td>1</td>\n",
       "    </tr>\n",
       "    <tr>\n",
       "      <th>2</th>\n",
       "      <td>b</td>\n",
       "      <td>0.129364</td>\n",
       "      <td>0.244483</td>\n",
       "      <td>1</td>\n",
       "    </tr>\n",
       "    <tr>\n",
       "      <th>3</th>\n",
       "      <td>c</td>\n",
       "      <td>0.213694</td>\n",
       "      <td>0.555308</td>\n",
       "      <td>2</td>\n",
       "    </tr>\n",
       "    <tr>\n",
       "      <th>4</th>\n",
       "      <td>c</td>\n",
       "      <td>0.543648</td>\n",
       "      <td>0.825159</td>\n",
       "      <td>2</td>\n",
       "    </tr>\n",
       "    <tr>\n",
       "      <th>5</th>\n",
       "      <td>c</td>\n",
       "      <td>0.341916</td>\n",
       "      <td>0.860476</td>\n",
       "      <td>2</td>\n",
       "    </tr>\n",
       "  </tbody>\n",
       "</table>\n",
       "<p>Groups: ['g'] (n=3)</p>"
      ]
     },
     "metadata": {},
     "execution_count": 4
    }
   ],
   "metadata": {
    "execution": {
     "iopub.execute_input": "2021-04-17T00:51:54.805987Z",
     "iopub.status.busy": "2021-04-17T00:51:54.805143Z",
     "iopub.status.idle": "2021-04-17T00:51:54.849558Z",
     "shell.execute_reply": "2021-04-17T00:51:54.846275Z"
    }
   }
  },
  {
   "cell_type": "code",
   "execution_count": 5,
   "source": [
    "gf >> summarise(row=cur_group_rows()) "
   ],
   "outputs": [
    {
     "output_type": "stream",
     "name": "stderr",
     "text": [
      "[2021-06-21 13:37:49][datar][   INFO] `summarise()` has grouped output by ['g'] (override with `_groups` argument)\n"
     ]
    },
    {
     "output_type": "execute_result",
     "data": {
      "text/plain": [
       "         g     row\n",
       "  <object> <int64>\n",
       "0        a       0\n",
       "1        b       1\n",
       "2        b       2\n",
       "3        c       3\n",
       "4        c       4\n",
       "5        c       5\n",
       "\n",
       "[Groups: g (n=3)]"
      ],
      "text/html": [
       "<table border=\"1\" class=\"dataframe\">\n",
       "  <thead>\n",
       "    <tr style=\"text-align: right;\">\n",
       "      <th></th>\n",
       "      <th>g</th>\n",
       "      <th>row</th>\n",
       "    </tr>\n",
       "  </thead>\n",
       "  <tbody>\n",
       "    <tr>\n",
       "      <th style=\"font-style: italic;\" ></th>\n",
       "      <td style=\"font-style: italic;\" >&lt;object&gt;</td>\n",
       "      <td style=\"font-style: italic;\" >&lt;int64&gt;</td>\n",
       "    </tr>\n",
       "    <tr>\n",
       "      <th>0</th>\n",
       "      <td>a</td>\n",
       "      <td>0</td>\n",
       "    </tr>\n",
       "    <tr>\n",
       "      <th>1</th>\n",
       "      <td>b</td>\n",
       "      <td>1</td>\n",
       "    </tr>\n",
       "    <tr>\n",
       "      <th>2</th>\n",
       "      <td>b</td>\n",
       "      <td>2</td>\n",
       "    </tr>\n",
       "    <tr>\n",
       "      <th>3</th>\n",
       "      <td>c</td>\n",
       "      <td>3</td>\n",
       "    </tr>\n",
       "    <tr>\n",
       "      <th>4</th>\n",
       "      <td>c</td>\n",
       "      <td>4</td>\n",
       "    </tr>\n",
       "    <tr>\n",
       "      <th>5</th>\n",
       "      <td>c</td>\n",
       "      <td>5</td>\n",
       "    </tr>\n",
       "  </tbody>\n",
       "</table>\n",
       "<p>Groups: ['g'] (n=3)</p>"
      ]
     },
     "metadata": {},
     "execution_count": 5
    }
   ],
   "metadata": {
    "execution": {
     "iopub.execute_input": "2021-04-17T00:51:54.899395Z",
     "iopub.status.busy": "2021-04-17T00:51:54.898840Z",
     "iopub.status.idle": "2021-04-17T00:51:54.905595Z",
     "shell.execute_reply": "2021-04-17T00:51:54.905214Z"
    }
   }
  },
  {
   "cell_type": "code",
   "execution_count": 6,
   "source": [
    "gf_group = gf >> summarise(data=[cur_group()])\n",
    "gf_group "
   ],
   "outputs": [
    {
     "output_type": "execute_result",
     "data": {
      "text/plain": [
       "         g      data\n",
       "  <object>  <object>\n",
       "0        a  <DF 1x1>\n",
       "1        b  <DF 1x1>\n",
       "2        c  <DF 1x1>"
      ],
      "text/html": [
       "<table border=\"1\" class=\"dataframe\">\n",
       "  <thead>\n",
       "    <tr style=\"text-align: right;\">\n",
       "      <th></th>\n",
       "      <th>g</th>\n",
       "      <th>data</th>\n",
       "    </tr>\n",
       "  </thead>\n",
       "  <tbody>\n",
       "    <tr>\n",
       "      <th style=\"font-style: italic;\" ></th>\n",
       "      <td style=\"font-style: italic;\" >&lt;object&gt;</td>\n",
       "      <td style=\"font-style: italic;\" >&lt;object&gt;</td>\n",
       "    </tr>\n",
       "    <tr>\n",
       "      <th>0</th>\n",
       "      <td>a</td>\n",
       "      <td>&lt;DF 1x1&gt;</td>\n",
       "    </tr>\n",
       "    <tr>\n",
       "      <th>1</th>\n",
       "      <td>b</td>\n",
       "      <td>&lt;DF 1x1&gt;</td>\n",
       "    </tr>\n",
       "    <tr>\n",
       "      <th>2</th>\n",
       "      <td>c</td>\n",
       "      <td>&lt;DF 1x1&gt;</td>\n",
       "    </tr>\n",
       "  </tbody>\n",
       "</table>"
      ]
     },
     "metadata": {},
     "execution_count": 6
    }
   ],
   "metadata": {
    "execution": {
     "iopub.execute_input": "2021-04-17T00:51:54.934436Z",
     "iopub.status.busy": "2021-04-17T00:51:54.933854Z",
     "iopub.status.idle": "2021-04-17T00:51:54.940560Z",
     "shell.execute_reply": "2021-04-17T00:51:54.940122Z"
    }
   }
  },
  {
   "cell_type": "code",
   "execution_count": 7,
   "source": [
    "gf_group >> pull(f.data, to='list')"
   ],
   "outputs": [
    {
     "output_type": "execute_result",
     "data": {
      "text/plain": [
       "[         g\n",
       "   <object>\n",
       " 0        a,\n",
       "          g\n",
       "   <object>\n",
       " 1        b,\n",
       "          g\n",
       "   <object>\n",
       " 2        c]"
      ]
     },
     "metadata": {},
     "execution_count": 7
    }
   ],
   "metadata": {
    "execution": {
     "iopub.execute_input": "2021-04-17T00:51:54.950658Z",
     "iopub.status.busy": "2021-04-17T00:51:54.950074Z",
     "iopub.status.idle": "2021-04-17T00:51:54.962182Z",
     "shell.execute_reply": "2021-04-17T00:51:54.961754Z"
    }
   }
  },
  {
   "cell_type": "code",
   "execution_count": 8,
   "source": [
    "gf_data = gf >> summarise(data=[cur_data()])\n",
    "gf_data"
   ],
   "outputs": [
    {
     "output_type": "execute_result",
     "data": {
      "text/plain": [
       "         g      data\n",
       "  <object>  <object>\n",
       "0        a  <DF 1x2>\n",
       "1        b  <DF 2x2>\n",
       "2        c  <DF 3x2>"
      ],
      "text/html": [
       "<table border=\"1\" class=\"dataframe\">\n",
       "  <thead>\n",
       "    <tr style=\"text-align: right;\">\n",
       "      <th></th>\n",
       "      <th>g</th>\n",
       "      <th>data</th>\n",
       "    </tr>\n",
       "  </thead>\n",
       "  <tbody>\n",
       "    <tr>\n",
       "      <th style=\"font-style: italic;\" ></th>\n",
       "      <td style=\"font-style: italic;\" >&lt;object&gt;</td>\n",
       "      <td style=\"font-style: italic;\" >&lt;object&gt;</td>\n",
       "    </tr>\n",
       "    <tr>\n",
       "      <th>0</th>\n",
       "      <td>a</td>\n",
       "      <td>&lt;DF 1x2&gt;</td>\n",
       "    </tr>\n",
       "    <tr>\n",
       "      <th>1</th>\n",
       "      <td>b</td>\n",
       "      <td>&lt;DF 2x2&gt;</td>\n",
       "    </tr>\n",
       "    <tr>\n",
       "      <th>2</th>\n",
       "      <td>c</td>\n",
       "      <td>&lt;DF 3x2&gt;</td>\n",
       "    </tr>\n",
       "  </tbody>\n",
       "</table>"
      ]
     },
     "metadata": {},
     "execution_count": 8
    }
   ],
   "metadata": {
    "execution": {
     "iopub.execute_input": "2021-04-17T00:51:54.997733Z",
     "iopub.status.busy": "2021-04-17T00:51:54.997206Z",
     "iopub.status.idle": "2021-04-17T00:51:55.019109Z",
     "shell.execute_reply": "2021-04-17T00:51:55.018231Z"
    }
   }
  },
  {
   "cell_type": "code",
   "execution_count": 9,
   "source": [
    "gf_data >> pull(f.data, to='list')"
   ],
   "outputs": [
    {
     "output_type": "execute_result",
     "data": {
      "text/plain": [
       "[          x         y\n",
       "   <float64> <float64>\n",
       " 0  0.361852  0.652752,\n",
       "           x         y\n",
       "   <float64> <float64>\n",
       " 0  0.843412  0.771309\n",
       " 1  0.129364  0.244483,\n",
       "           x         y\n",
       "   <float64> <float64>\n",
       " 0  0.213694  0.555308\n",
       " 1  0.543648  0.825159\n",
       " 2  0.341916  0.860476]"
      ]
     },
     "metadata": {},
     "execution_count": 9
    }
   ],
   "metadata": {
    "execution": {
     "iopub.execute_input": "2021-04-17T00:51:55.030162Z",
     "iopub.status.busy": "2021-04-17T00:51:55.029601Z",
     "iopub.status.idle": "2021-04-17T00:51:55.035572Z",
     "shell.execute_reply": "2021-04-17T00:51:55.035049Z"
    }
   }
  },
  {
   "cell_type": "code",
   "execution_count": 10,
   "source": [
    "gf_data_all = gf >> summarise(data=[cur_data_all()])\n",
    "gf_data_all"
   ],
   "outputs": [
    {
     "output_type": "execute_result",
     "data": {
      "text/plain": [
       "         g      data\n",
       "  <object>  <object>\n",
       "0        a  <DF 1x3>\n",
       "1        b  <DF 2x3>\n",
       "2        c  <DF 3x3>"
      ],
      "text/html": [
       "<table border=\"1\" class=\"dataframe\">\n",
       "  <thead>\n",
       "    <tr style=\"text-align: right;\">\n",
       "      <th></th>\n",
       "      <th>g</th>\n",
       "      <th>data</th>\n",
       "    </tr>\n",
       "  </thead>\n",
       "  <tbody>\n",
       "    <tr>\n",
       "      <th style=\"font-style: italic;\" ></th>\n",
       "      <td style=\"font-style: italic;\" >&lt;object&gt;</td>\n",
       "      <td style=\"font-style: italic;\" >&lt;object&gt;</td>\n",
       "    </tr>\n",
       "    <tr>\n",
       "      <th>0</th>\n",
       "      <td>a</td>\n",
       "      <td>&lt;DF 1x3&gt;</td>\n",
       "    </tr>\n",
       "    <tr>\n",
       "      <th>1</th>\n",
       "      <td>b</td>\n",
       "      <td>&lt;DF 2x3&gt;</td>\n",
       "    </tr>\n",
       "    <tr>\n",
       "      <th>2</th>\n",
       "      <td>c</td>\n",
       "      <td>&lt;DF 3x3&gt;</td>\n",
       "    </tr>\n",
       "  </tbody>\n",
       "</table>"
      ]
     },
     "metadata": {},
     "execution_count": 10
    }
   ],
   "metadata": {
    "execution": {
     "iopub.execute_input": "2021-04-17T00:51:55.072849Z",
     "iopub.status.busy": "2021-04-17T00:51:55.071415Z",
     "iopub.status.idle": "2021-04-17T00:51:55.075720Z",
     "shell.execute_reply": "2021-04-17T00:51:55.078254Z"
    }
   }
  },
  {
   "cell_type": "code",
   "execution_count": 11,
   "source": [
    "gf_data_all >> pull(f.data, to='list')"
   ],
   "outputs": [
    {
     "output_type": "execute_result",
     "data": {
      "text/plain": [
       "[         g         x         y\n",
       "   <object> <float64> <float64>\n",
       " 0        a  0.361852  0.652752,\n",
       "          g         x         y\n",
       "   <object> <float64> <float64>\n",
       " 0        b  0.843412  0.771309\n",
       " 1        b  0.129364  0.244483,\n",
       "          g         x         y\n",
       "   <object> <float64> <float64>\n",
       " 0        c  0.213694  0.555308\n",
       " 1        c  0.543648  0.825159\n",
       " 2        c  0.341916  0.860476]"
      ]
     },
     "metadata": {},
     "execution_count": 11
    }
   ],
   "metadata": {
    "execution": {
     "iopub.execute_input": "2021-04-17T00:51:55.090370Z",
     "iopub.status.busy": "2021-04-17T00:51:55.089727Z",
     "iopub.status.idle": "2021-04-17T00:51:55.094327Z",
     "shell.execute_reply": "2021-04-17T00:51:55.093901Z"
    }
   }
  },
  {
   "cell_type": "code",
   "execution_count": 12,
   "source": [
    "df >> select(f.x, f.y) >> mutate(\n",
    "    across(\n",
    "        everything(), \n",
    "        lambda x, cc: [cc + ' '] * x.shape[0] + (x**2).astype(str), cc=cur_column()\n",
    "    )\n",
    ")"
   ],
   "outputs": [
    {
     "output_type": "execute_result",
     "data": {
      "text/plain": [
       "                        x                      y\n",
       "                 <object>               <object>\n",
       "0   x 0.13093660117636458    y 0.426084563003939\n",
       "1    x 0.7113438529995928   y 0.5949178998177677\n",
       "2  x 0.016735004359095654  y 0.05977206911640645\n",
       "3  x 0.045665105202560646  y 0.30836666071983937\n",
       "4    x 0.2955535761997283   y 0.6808871702451411\n",
       "5   x 0.11690667798722013   y 0.7404186230214937"
      ],
      "text/html": [
       "<table border=\"1\" class=\"dataframe\">\n",
       "  <thead>\n",
       "    <tr style=\"text-align: right;\">\n",
       "      <th></th>\n",
       "      <th>x</th>\n",
       "      <th>y</th>\n",
       "    </tr>\n",
       "  </thead>\n",
       "  <tbody>\n",
       "    <tr>\n",
       "      <th style=\"font-style: italic;\" ></th>\n",
       "      <td style=\"font-style: italic;\" >&lt;object&gt;</td>\n",
       "      <td style=\"font-style: italic;\" >&lt;object&gt;</td>\n",
       "    </tr>\n",
       "    <tr>\n",
       "      <th>0</th>\n",
       "      <td>x 0.13093660117636458</td>\n",
       "      <td>y 0.426084563003939</td>\n",
       "    </tr>\n",
       "    <tr>\n",
       "      <th>1</th>\n",
       "      <td>x 0.7113438529995928</td>\n",
       "      <td>y 0.5949178998177677</td>\n",
       "    </tr>\n",
       "    <tr>\n",
       "      <th>2</th>\n",
       "      <td>x 0.016735004359095654</td>\n",
       "      <td>y 0.05977206911640645</td>\n",
       "    </tr>\n",
       "    <tr>\n",
       "      <th>3</th>\n",
       "      <td>x 0.045665105202560646</td>\n",
       "      <td>y 0.30836666071983937</td>\n",
       "    </tr>\n",
       "    <tr>\n",
       "      <th>4</th>\n",
       "      <td>x 0.2955535761997283</td>\n",
       "      <td>y 0.6808871702451411</td>\n",
       "    </tr>\n",
       "    <tr>\n",
       "      <th>5</th>\n",
       "      <td>x 0.11690667798722013</td>\n",
       "      <td>y 0.7404186230214937</td>\n",
       "    </tr>\n",
       "  </tbody>\n",
       "</table>"
      ]
     },
     "metadata": {},
     "execution_count": 12
    }
   ],
   "metadata": {
    "execution": {
     "iopub.execute_input": "2021-04-17T00:51:55.134386Z",
     "iopub.status.busy": "2021-04-17T00:51:55.130995Z",
     "iopub.status.idle": "2021-04-17T00:51:55.190135Z",
     "shell.execute_reply": "2021-04-17T00:51:55.189668Z"
    }
   }
  },
  {
   "cell_type": "code",
   "execution_count": 13,
   "source": [
    "# or you can use x.name, since x is a Series\n",
    "df >> mutate(across(\n",
    "    [f.x, f.y], \n",
    "    lambda x: [x.name + ' '] * x.shape[0] + (x**2).astype(str)\n",
    "))"
   ],
   "outputs": [
    {
     "output_type": "execute_result",
     "data": {
      "text/plain": [
       "         g                       x                      y\n",
       "  <object>                <object>               <object>\n",
       "0        a   x 0.13093660117636458    y 0.426084563003939\n",
       "1        b    x 0.7113438529995928   y 0.5949178998177677\n",
       "2        b  x 0.016735004359095654  y 0.05977206911640645\n",
       "3        c  x 0.045665105202560646  y 0.30836666071983937\n",
       "4        c    x 0.2955535761997283   y 0.6808871702451411\n",
       "5        c   x 0.11690667798722013   y 0.7404186230214937"
      ],
      "text/html": [
       "<table border=\"1\" class=\"dataframe\">\n",
       "  <thead>\n",
       "    <tr style=\"text-align: right;\">\n",
       "      <th></th>\n",
       "      <th>g</th>\n",
       "      <th>x</th>\n",
       "      <th>y</th>\n",
       "    </tr>\n",
       "  </thead>\n",
       "  <tbody>\n",
       "    <tr>\n",
       "      <th style=\"font-style: italic;\" ></th>\n",
       "      <td style=\"font-style: italic;\" >&lt;object&gt;</td>\n",
       "      <td style=\"font-style: italic;\" >&lt;object&gt;</td>\n",
       "      <td style=\"font-style: italic;\" >&lt;object&gt;</td>\n",
       "    </tr>\n",
       "    <tr>\n",
       "      <th>0</th>\n",
       "      <td>a</td>\n",
       "      <td>x 0.13093660117636458</td>\n",
       "      <td>y 0.426084563003939</td>\n",
       "    </tr>\n",
       "    <tr>\n",
       "      <th>1</th>\n",
       "      <td>b</td>\n",
       "      <td>x 0.7113438529995928</td>\n",
       "      <td>y 0.5949178998177677</td>\n",
       "    </tr>\n",
       "    <tr>\n",
       "      <th>2</th>\n",
       "      <td>b</td>\n",
       "      <td>x 0.016735004359095654</td>\n",
       "      <td>y 0.05977206911640645</td>\n",
       "    </tr>\n",
       "    <tr>\n",
       "      <th>3</th>\n",
       "      <td>c</td>\n",
       "      <td>x 0.045665105202560646</td>\n",
       "      <td>y 0.30836666071983937</td>\n",
       "    </tr>\n",
       "    <tr>\n",
       "      <th>4</th>\n",
       "      <td>c</td>\n",
       "      <td>x 0.2955535761997283</td>\n",
       "      <td>y 0.6808871702451411</td>\n",
       "    </tr>\n",
       "    <tr>\n",
       "      <th>5</th>\n",
       "      <td>c</td>\n",
       "      <td>x 0.11690667798722013</td>\n",
       "      <td>y 0.7404186230214937</td>\n",
       "    </tr>\n",
       "  </tbody>\n",
       "</table>"
      ]
     },
     "metadata": {},
     "execution_count": 13
    }
   ],
   "metadata": {
    "execution": {
     "iopub.execute_input": "2021-04-17T00:51:55.208915Z",
     "iopub.status.busy": "2021-04-17T00:51:55.208295Z",
     "iopub.status.idle": "2021-04-17T00:51:55.212816Z",
     "shell.execute_reply": "2021-04-17T00:51:55.213231Z"
    }
   }
  },
  {
   "cell_type": "code",
   "execution_count": null,
   "source": [],
   "outputs": [],
   "metadata": {}
  }
 ],
 "metadata": {
  "kernelspec": {
   "display_name": "Python 3",
   "language": "python",
   "name": "python3"
  },
  "language_info": {
   "codemirror_mode": {
    "name": "ipython",
    "version": 3
   },
   "file_extension": ".py",
   "mimetype": "text/x-python",
   "name": "python",
   "nbconvert_exporter": "python",
   "pygments_lexer": "ipython3",
   "version": "3.7.8"
  }
 },
 "nbformat": 4,
 "nbformat_minor": 5
}