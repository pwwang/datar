{
 "cells": [
  {
   "cell_type": "code",
   "execution_count": 1,
   "id": "5ddd5613",
   "metadata": {
    "execution": {
     "iopub.execute_input": "2021-07-16T22:27:45.939425Z",
     "iopub.status.busy": "2021-07-16T22:27:45.938609Z",
     "iopub.status.idle": "2021-07-16T22:27:46.866192Z",
     "shell.execute_reply": "2021-07-16T22:27:46.866581Z"
    }
   },
   "outputs": [
    {
     "data": {
      "text/html": [
       "<div style=\"text-align: right; text-style: italic\">Try this notebook on <a target=\"_blank\" href=\"https://mybinder.org/v2/gh/pwwang/datar/93d069f3ca36711fc811c61dcf60e9fc3d1460a5?filepath=docs%2Fnotebooks%2Fdatar.ipynb\">binder</a>.</div>"
      ],
      "text/plain": [
       "<IPython.core.display.HTML object>"
      ]
     },
     "metadata": {},
     "output_type": "display_data"
    },
    {
     "data": {
      "text/markdown": [
       "### # get  "
      ],
      "text/plain": [
       "<IPython.core.display.Markdown object>"
      ]
     },
     "metadata": {},
     "output_type": "display_data"
    },
    {
     "data": {
      "text/markdown": [
       "##### Get a single element or a subset of a dataframe\n",
       "\n",
       "##### Args:\n",
       "&emsp;&emsp;`_data`: The dataframe  \n",
       "&emsp;&emsp;`rows`: The rows to subset the dataframe  \n",
       "&emsp;&emsp;`cols`: The columns to subset the dataframe  \n",
       "&emsp;&emsp;&emsp;&emsp;If both rows and cols are scalar, then a single element will be  \n",
       "&emsp;&emsp;&emsp;&emsp;returned  \n",
       "\n",
       "##### Returns:\n",
       "&emsp;&emsp;A single element when both rows and cols are scalar, otherwise  \n",
       "&emsp;&emsp;a subset of _data  \n"
      ],
      "text/plain": [
       "<IPython.core.display.Markdown object>"
      ]
     },
     "metadata": {},
     "output_type": "display_data"
    },
    {
     "data": {
      "text/markdown": [
       "### # flatten  "
      ],
      "text/plain": [
       "<IPython.core.display.Markdown object>"
      ]
     },
     "metadata": {},
     "output_type": "display_data"
    },
    {
     "data": {
      "text/markdown": [
       "##### Flatten a dataframe into a 1-d python list\n",
       "\n",
       "##### Args:\n",
       "&emsp;&emsp;`_data`: The dataframe  \n",
       "\n",
       "##### Returns:\n",
       "&emsp;&emsp;The flattened list  \n"
      ],
      "text/plain": [
       "<IPython.core.display.Markdown object>"
      ]
     },
     "metadata": {},
     "output_type": "display_data"
    },
    {
     "data": {
      "text/markdown": [
       "### # itemgetter  "
      ],
      "text/plain": [
       "<IPython.core.display.Markdown object>"
      ]
     },
     "metadata": {},
     "output_type": "display_data"
    },
    {
     "data": {
      "text/markdown": [
       "##### Itemgetter as a function for verb\n",
       "\n",
       "In datar expression, we can do:  \n",
       ">>> arr = [1,2,3]  \n",
       ">>> tibble(x=2) >> mutate(y=arr[f.x])  \n",
       "\n",
       "Since `arr[f.x]` won't compile. We need to use the `itemgetter` operator:  \n",
       ">>> tibble(x=2) >> mutate(y=itemgetter(arr, f.x))  \n",
       "\n",
       "##### Args:\n",
       "&emsp;&emsp;`data`: The data to be get items from  \n",
       "&emsp;&emsp;`subscr`: The subscripts  \n"
      ],
      "text/plain": [
       "<IPython.core.display.Markdown object>"
      ]
     },
     "metadata": {},
     "output_type": "display_data"
    }
   ],
   "source": [
    "# datar specific\n",
    "\n",
    "import numpy\n",
    "from datar import f\n",
    "from datar.datasets import iris\n",
    "from datar.datar import *\n",
    "from datar.dplyr import mutate\n",
    "from datar.tibble import tibble\n",
    "\n",
    "%run nb_helpers.py\n",
    "nb_header(get, flatten, itemgetter, book='datar')"
   ]
  },
  {
   "cell_type": "code",
   "execution_count": 2,
   "id": "079671c5",
   "metadata": {
    "execution": {
     "iopub.execute_input": "2021-07-16T22:27:46.871734Z",
     "iopub.status.busy": "2021-07-16T22:27:46.871143Z",
     "iopub.status.idle": "2021-07-16T22:27:46.903396Z",
     "shell.execute_reply": "2021-07-16T22:27:46.903926Z"
    }
   },
   "outputs": [
    {
     "data": {
      "text/html": [
       "<div>\n",
       "<style scoped>\n",
       "    .dataframe tbody tr th:only-of-type {\n",
       "        vertical-align: middle;\n",
       "    }\n",
       "\n",
       "    .dataframe tbody tr th {\n",
       "        vertical-align: top;\n",
       "    }\n",
       "\n",
       "    .dataframe thead th {\n",
       "        text-align: right;\n",
       "    }\n",
       "</style>\n",
       "<table border=\"1\" class=\"dataframe\">\n",
       "  <thead>\n",
       "    <tr style=\"text-align: right;\">\n",
       "      <th></th>\n",
       "      <th>Sepal_Length</th>\n",
       "      <th>Sepal_Width</th>\n",
       "      <th>Petal_Length</th>\n",
       "      <th>Petal_Width</th>\n",
       "      <th>Species</th>\n",
       "    </tr>\n",
       "  </thead>\n",
       "  <tbody>\n",
       "    <tr>\n",
       "      <th style=\"font-style: italic;\" ></th>\n",
       "      <td style=\"font-style: italic;\" >&lt;float64&gt;</td>\n",
       "      <td style=\"font-style: italic;\" >&lt;float64&gt;</td>\n",
       "      <td style=\"font-style: italic;\" >&lt;float64&gt;</td>\n",
       "      <td style=\"font-style: italic;\" >&lt;float64&gt;</td>\n",
       "      <td style=\"font-style: italic;\" >&lt;object&gt;</td>\n",
       "    </tr>\n",
       "    <tr>\n",
       "      <th>0</th>\n",
       "      <td>5.1</td>\n",
       "      <td>3.5</td>\n",
       "      <td>1.4</td>\n",
       "      <td>0.2</td>\n",
       "      <td>setosa</td>\n",
       "    </tr>\n",
       "    <tr>\n",
       "      <th>1</th>\n",
       "      <td>4.9</td>\n",
       "      <td>3.0</td>\n",
       "      <td>1.4</td>\n",
       "      <td>0.2</td>\n",
       "      <td>setosa</td>\n",
       "    </tr>\n",
       "    <tr>\n",
       "      <th>2</th>\n",
       "      <td>4.7</td>\n",
       "      <td>3.2</td>\n",
       "      <td>1.3</td>\n",
       "      <td>0.2</td>\n",
       "      <td>setosa</td>\n",
       "    </tr>\n",
       "    <tr>\n",
       "      <th>3</th>\n",
       "      <td>4.6</td>\n",
       "      <td>3.1</td>\n",
       "      <td>1.5</td>\n",
       "      <td>0.2</td>\n",
       "      <td>setosa</td>\n",
       "    </tr>\n",
       "    <tr>\n",
       "      <th>4</th>\n",
       "      <td>5.0</td>\n",
       "      <td>3.6</td>\n",
       "      <td>1.4</td>\n",
       "      <td>0.2</td>\n",
       "      <td>setosa</td>\n",
       "    </tr>\n",
       "  </tbody>\n",
       "</table>\n",
       "</div>\n"
      ],
      "text/plain": [
       "   Sepal_Length  Sepal_Width  Petal_Length  Petal_Width  Species\n",
       "      <float64>    <float64>     <float64>    <float64> <object>\n",
       "0           5.1          3.5           1.4          0.2   setosa\n",
       "1           4.9          3.0           1.4          0.2   setosa\n",
       "2           4.7          3.2           1.3          0.2   setosa\n",
       "3           4.6          3.1           1.5          0.2   setosa\n",
       "4           5.0          3.6           1.4          0.2   setosa"
      ]
     },
     "execution_count": 2,
     "metadata": {},
     "output_type": "execute_result"
    }
   ],
   "source": [
    "iris >> get(f[:5])"
   ]
  },
  {
   "cell_type": "code",
   "execution_count": 3,
   "id": "ee9b5bd7",
   "metadata": {
    "execution": {
     "iopub.execute_input": "2021-07-16T22:27:46.914499Z",
     "iopub.status.busy": "2021-07-16T22:27:46.913928Z",
     "iopub.status.idle": "2021-07-16T22:27:46.983390Z",
     "shell.execute_reply": "2021-07-16T22:27:46.984132Z"
    }
   },
   "outputs": [
    {
     "data": {
      "text/html": [
       "<div>\n",
       "<style scoped>\n",
       "    .dataframe tbody tr th:only-of-type {\n",
       "        vertical-align: middle;\n",
       "    }\n",
       "\n",
       "    .dataframe tbody tr th {\n",
       "        vertical-align: top;\n",
       "    }\n",
       "\n",
       "    .dataframe thead th {\n",
       "        text-align: right;\n",
       "    }\n",
       "</style>\n",
       "<table border=\"1\" class=\"dataframe\">\n",
       "  <thead>\n",
       "    <tr style=\"text-align: right;\">\n",
       "      <th></th>\n",
       "      <th>Species</th>\n",
       "    </tr>\n",
       "  </thead>\n",
       "  <tbody>\n",
       "    <tr>\n",
       "      <th style=\"font-style: italic;\" ></th>\n",
       "      <td style=\"font-style: italic;\" >&lt;object&gt;</td>\n",
       "    </tr>\n",
       "    <tr>\n",
       "      <th>0</th>\n",
       "      <td>setosa</td>\n",
       "    </tr>\n",
       "    <tr>\n",
       "      <th>1</th>\n",
       "      <td>setosa</td>\n",
       "    </tr>\n",
       "    <tr>\n",
       "      <th>2</th>\n",
       "      <td>setosa</td>\n",
       "    </tr>\n",
       "    <tr>\n",
       "      <th>3</th>\n",
       "      <td>setosa</td>\n",
       "    </tr>\n",
       "    <tr>\n",
       "      <th>...</th>\n",
       "      <td>...</td>\n",
       "    </tr>\n",
       "    <tr>\n",
       "      <th>4</th>\n",
       "      <td>setosa</td>\n",
       "    </tr>\n",
       "    <tr>\n",
       "      <th>145</th>\n",
       "      <td>virginica</td>\n",
       "    </tr>\n",
       "    <tr>\n",
       "      <th>146</th>\n",
       "      <td>virginica</td>\n",
       "    </tr>\n",
       "    <tr>\n",
       "      <th>147</th>\n",
       "      <td>virginica</td>\n",
       "    </tr>\n",
       "    <tr>\n",
       "      <th>148</th>\n",
       "      <td>virginica</td>\n",
       "    </tr>\n",
       "    <tr>\n",
       "      <th>149</th>\n",
       "      <td>virginica</td>\n",
       "    </tr>\n",
       "  </tbody>\n",
       "</table>\n",
       "<p>150 rows × 1 columns</p>\n",
       "</div>\n"
      ],
      "text/plain": [
       "       Species\n",
       "      <object>\n",
       "0       setosa\n",
       "1       setosa\n",
       "2       setosa\n",
       "3       setosa\n",
       "..         ...\n",
       "4       setosa\n",
       "145  virginica\n",
       "146  virginica\n",
       "147  virginica\n",
       "148  virginica\n",
       "149  virginica\n",
       "\n",
       "[150 rows x 1 columns]"
      ]
     },
     "execution_count": 3,
     "metadata": {},
     "output_type": "execute_result"
    }
   ],
   "source": [
    "iris >> get(cols=f.Species)"
   ]
  },
  {
   "cell_type": "code",
   "execution_count": 4,
   "id": "6a2638a7",
   "metadata": {
    "execution": {
     "iopub.execute_input": "2021-07-16T22:27:46.989720Z",
     "iopub.status.busy": "2021-07-16T22:27:46.989062Z",
     "iopub.status.idle": "2021-07-16T22:27:46.992070Z",
     "shell.execute_reply": "2021-07-16T22:27:46.992928Z"
    }
   },
   "outputs": [
    {
     "data": {
      "text/plain": [
       "'setosa'"
      ]
     },
     "execution_count": 4,
     "metadata": {},
     "output_type": "execute_result"
    }
   ],
   "source": [
    "# select single element\n",
    "iris >> get(1, f.Species)"
   ]
  },
  {
   "cell_type": "code",
   "execution_count": 5,
   "id": "0b9835c1",
   "metadata": {
    "execution": {
     "iopub.execute_input": "2021-07-16T22:27:47.002937Z",
     "iopub.status.busy": "2021-07-16T22:27:47.002274Z",
     "iopub.status.idle": "2021-07-16T22:27:47.005992Z",
     "shell.execute_reply": "2021-07-16T22:27:47.005544Z"
    }
   },
   "outputs": [
    {
     "data": {
      "text/html": [
       "<div>\n",
       "<style scoped>\n",
       "    .dataframe tbody tr th:only-of-type {\n",
       "        vertical-align: middle;\n",
       "    }\n",
       "\n",
       "    .dataframe tbody tr th {\n",
       "        vertical-align: top;\n",
       "    }\n",
       "\n",
       "    .dataframe thead th {\n",
       "        text-align: right;\n",
       "    }\n",
       "</style>\n",
       "<table border=\"1\" class=\"dataframe\">\n",
       "  <thead>\n",
       "    <tr style=\"text-align: right;\">\n",
       "      <th></th>\n",
       "      <th>Species</th>\n",
       "    </tr>\n",
       "  </thead>\n",
       "  <tbody>\n",
       "    <tr>\n",
       "      <th style=\"font-style: italic;\" ></th>\n",
       "      <td style=\"font-style: italic;\" >&lt;object&gt;</td>\n",
       "    </tr>\n",
       "    <tr>\n",
       "      <th>1</th>\n",
       "      <td>setosa</td>\n",
       "    </tr>\n",
       "  </tbody>\n",
       "</table>\n",
       "</div>\n"
      ],
      "text/plain": [
       "   Species\n",
       "  <object>\n",
       "1   setosa"
      ]
     },
     "execution_count": 5,
     "metadata": {},
     "output_type": "execute_result"
    }
   ],
   "source": [
    "# get it as a single-element dataframe\n",
    "iris >> get([1], f.Species)"
   ]
  },
  {
   "cell_type": "code",
   "execution_count": 6,
   "id": "dceca6e4",
   "metadata": {
    "execution": {
     "iopub.execute_input": "2021-07-16T22:27:47.016728Z",
     "iopub.status.busy": "2021-07-16T22:27:47.016117Z",
     "iopub.status.idle": "2021-07-16T22:27:47.019537Z",
     "shell.execute_reply": "2021-07-16T22:27:47.019077Z"
    }
   },
   "outputs": [
    {
     "data": {
      "text/html": [
       "<div>\n",
       "<style scoped>\n",
       "    .dataframe tbody tr th:only-of-type {\n",
       "        vertical-align: middle;\n",
       "    }\n",
       "\n",
       "    .dataframe tbody tr th {\n",
       "        vertical-align: top;\n",
       "    }\n",
       "\n",
       "    .dataframe thead th {\n",
       "        text-align: right;\n",
       "    }\n",
       "</style>\n",
       "<table border=\"1\" class=\"dataframe\">\n",
       "  <thead>\n",
       "    <tr style=\"text-align: right;\">\n",
       "      <th></th>\n",
       "      <th>Species</th>\n",
       "    </tr>\n",
       "  </thead>\n",
       "  <tbody>\n",
       "    <tr>\n",
       "      <th style=\"font-style: italic;\" ></th>\n",
       "      <td style=\"font-style: italic;\" >&lt;object&gt;</td>\n",
       "    </tr>\n",
       "    <tr>\n",
       "      <th>1</th>\n",
       "      <td>setosa</td>\n",
       "    </tr>\n",
       "  </tbody>\n",
       "</table>\n",
       "</div>\n"
      ],
      "text/plain": [
       "   Species\n",
       "  <object>\n",
       "1   setosa"
      ]
     },
     "execution_count": 6,
     "metadata": {},
     "output_type": "execute_result"
    }
   ],
   "source": [
    "# or \n",
    "iris >> get(1, [f.Species])"
   ]
  },
  {
   "cell_type": "code",
   "execution_count": 9,
   "id": "62ed1ae9",
   "metadata": {
    "execution": {
     "iopub.execute_input": "2021-07-16T22:27:47.024658Z",
     "iopub.status.busy": "2021-07-16T22:27:47.024080Z",
     "iopub.status.idle": "2021-07-16T22:27:47.136793Z",
     "shell.execute_reply": "2021-07-16T22:27:47.137236Z"
    }
   },
   "outputs": [
    {
     "data": {
      "text/plain": [
       "[1, 3, 2, 4]"
      ]
     },
     "execution_count": 9,
     "metadata": {},
     "output_type": "execute_result"
    }
   ],
   "source": [
    "df = tibble(x=f[1:3], y=f[3:5])\n",
    "df >> flatten()"
   ]
  },
  {
   "cell_type": "code",
   "execution_count": 10,
   "id": "94649970",
   "metadata": {
    "execution": {
     "iopub.execute_input": "2021-07-16T22:27:47.154788Z",
     "iopub.status.busy": "2021-07-16T22:27:47.154185Z",
     "iopub.status.idle": "2021-07-16T22:27:47.179272Z",
     "shell.execute_reply": "2021-07-16T22:27:47.179691Z"
    }
   },
   "outputs": [
    {
     "data": {
      "text/html": [
       "<div>\n",
       "<style scoped>\n",
       "    .dataframe tbody tr th:only-of-type {\n",
       "        vertical-align: middle;\n",
       "    }\n",
       "\n",
       "    .dataframe tbody tr th {\n",
       "        vertical-align: top;\n",
       "    }\n",
       "\n",
       "    .dataframe thead th {\n",
       "        text-align: right;\n",
       "    }\n",
       "</style>\n",
       "<table border=\"1\" class=\"dataframe\">\n",
       "  <thead>\n",
       "    <tr style=\"text-align: right;\">\n",
       "      <th></th>\n",
       "      <th>x</th>\n",
       "      <th>y</th>\n",
       "      <th>a</th>\n",
       "      <th>b</th>\n",
       "    </tr>\n",
       "  </thead>\n",
       "  <tbody>\n",
       "    <tr>\n",
       "      <th style=\"font-style: italic;\" ></th>\n",
       "      <td style=\"font-style: italic;\" >&lt;int64&gt;</td>\n",
       "      <td style=\"font-style: italic;\" >&lt;int64&gt;</td>\n",
       "      <td style=\"font-style: italic;\" >&lt;object&gt;</td>\n",
       "      <td style=\"font-style: italic;\" >&lt;object&gt;</td>\n",
       "    </tr>\n",
       "    <tr>\n",
       "      <th>0</th>\n",
       "      <td>1</td>\n",
       "      <td>3</td>\n",
       "      <td>b</td>\n",
       "      <td>d</td>\n",
       "    </tr>\n",
       "    <tr>\n",
       "      <th>1</th>\n",
       "      <td>2</td>\n",
       "      <td>4</td>\n",
       "      <td>c</td>\n",
       "      <td>e</td>\n",
       "    </tr>\n",
       "  </tbody>\n",
       "</table>\n",
       "</div>\n"
      ],
      "text/plain": [
       "        x       y        a        b\n",
       "  <int64> <int64> <object> <object>\n",
       "0       1       3        b        d\n",
       "1       2       4        c        e"
      ]
     },
     "execution_count": 10,
     "metadata": {},
     "output_type": "execute_result"
    }
   ],
   "source": [
    "arr = numpy.array(['a', 'b', 'c', 'd', 'e'])\n",
    "# df >> mutate(a=arr[f.x], b=arr[f.y])  # Error\n",
    "df >> mutate(a=itemgetter(arr, f.x), b=itemgetter(arr, f.y))"
   ]
  }
 ],
 "metadata": {
  "kernelspec": {
   "display_name": "Python 3",
   "language": "python",
   "name": "python3"
  },
  "language_info": {
   "codemirror_mode": {
    "name": "ipython",
    "version": 3
   },
   "file_extension": ".py",
   "mimetype": "text/x-python",
   "name": "python",
   "nbconvert_exporter": "python",
   "pygments_lexer": "ipython3",
   "version": "3.9.5"
  }
 },
 "nbformat": 4,
 "nbformat_minor": 5
}
