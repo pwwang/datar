{
 "cells": [
  {
   "cell_type": "code",
   "execution_count": 1,
   "id": "particular-aurora",
   "metadata": {
    "execution": {
     "iopub.execute_input": "2021-07-16T22:27:44.282107Z",
     "iopub.status.busy": "2021-07-16T22:27:44.281107Z",
     "iopub.status.idle": "2021-07-16T22:27:45.500481Z",
     "shell.execute_reply": "2021-07-16T22:27:45.500907Z"
    }
   },
   "outputs": [
    {
     "name": "stderr",
     "output_type": "stream",
     "text": [
      "[2021-07-16 15:27:45][datar][WARNING] Builtin name \"min\" has been overriden by datar.\n",
      "[2021-07-16 15:27:45][datar][WARNING] Builtin name \"max\" has been overriden by datar.\n",
      "[2021-07-16 15:27:45][datar][WARNING] Builtin name \"sum\" has been overriden by datar.\n",
      "[2021-07-16 15:27:45][datar][WARNING] Builtin name \"abs\" has been overriden by datar.\n",
      "[2021-07-16 15:27:45][datar][WARNING] Builtin name \"round\" has been overriden by datar.\n",
      "[2021-07-16 15:27:45][datar][WARNING] Builtin name \"all\" has been overriden by datar.\n",
      "[2021-07-16 15:27:45][datar][WARNING] Builtin name \"any\" has been overriden by datar.\n",
      "[2021-07-16 15:27:45][datar][WARNING] Builtin name \"re\" has been overriden by datar.\n",
      "[2021-07-16 15:27:45][datar][WARNING] Builtin name \"filter\" has been overriden by datar.\n",
      "[2021-07-16 15:27:45][datar][WARNING] Builtin name \"slice\" has been overriden by datar.\n"
     ]
    },
    {
     "data": {
      "text/html": [
       "<div style=\"text-align: right; text-style: italic\">Try this notebook on <a target=\"_blank\" href=\"https://mybinder.org/v2/gh/pwwang/datar/93d069f3ca36711fc811c61dcf60e9fc3d1460a5?filepath=docs%2Fnotebooks%2Fmutate-joins.ipynb\">binder</a>.</div>"
      ],
      "text/plain": [
       "<IPython.core.display.HTML object>"
      ]
     },
     "metadata": {},
     "output_type": "display_data"
    },
    {
     "data": {
      "text/markdown": [
       "### # inner_join  "
      ],
      "text/plain": [
       "<IPython.core.display.Markdown object>"
      ]
     },
     "metadata": {},
     "output_type": "display_data"
    },
    {
     "data": {
      "text/markdown": [
       "##### Mutating joins including all rows in x and y.\n",
       "\n",
       "##### Args:\n",
       "&emsp;&emsp;x, y: A pair of data frames  \n",
       "&emsp;&emsp;`by`: A character vector of variables to join by.  \n",
       "&emsp;&emsp;`copy`: If x and y are not from the same data source, and copy is  \n",
       "&emsp;&emsp;&emsp;&emsp;TRUE, then y will be copied into the same src as x.  \n",
       "&emsp;&emsp;&emsp;&emsp;This allows you to join tables across srcs, but it is a  \n",
       "&emsp;&emsp;&emsp;&emsp;potentially expensive operation so you must opt into it.  \n",
       "\n",
       "&emsp;&emsp;`suffix`: If there are non-joined duplicate variables in x and y,  \n",
       "&emsp;&emsp;&emsp;&emsp;these suffixes will be added to the output to disambiguate them.  \n",
       "&emsp;&emsp;&emsp;&emsp;Should be a character vector of length 2.  \n",
       "\n",
       "&emsp;&emsp;`keep`: Should the join keys from both x and y be preserved in the output?  \n",
       "\n",
       "##### Returns:\n",
       "&emsp;&emsp;The joined dataframe  \n"
      ],
      "text/plain": [
       "<IPython.core.display.Markdown object>"
      ]
     },
     "metadata": {},
     "output_type": "display_data"
    },
    {
     "data": {
      "text/markdown": [
       "### # left_join  "
      ],
      "text/plain": [
       "<IPython.core.display.Markdown object>"
      ]
     },
     "metadata": {},
     "output_type": "display_data"
    },
    {
     "data": {
      "text/markdown": [
       "##### Mutating joins including all rows in x.\n",
       "\n",
       "See Also:  \n",
       "&emsp;&emsp;[`inner_join()`](datar.dplyr.join.inner_join)  \n"
      ],
      "text/plain": [
       "<IPython.core.display.Markdown object>"
      ]
     },
     "metadata": {},
     "output_type": "display_data"
    },
    {
     "data": {
      "text/markdown": [
       "### # right_join  "
      ],
      "text/plain": [
       "<IPython.core.display.Markdown object>"
      ]
     },
     "metadata": {},
     "output_type": "display_data"
    },
    {
     "data": {
      "text/markdown": [
       "##### Mutating joins including all rows in y.\n",
       "\n",
       "See Also:  \n",
       "&emsp;&emsp;[`inner_join()`](datar.dplyr.join.inner_join)  \n",
       "\n",
       "##### Note:\n",
       "&emsp;&emsp;The rows of the order is preserved according to `y`. But `dplyr`'s  \n",
       "&emsp;&emsp;`right_join` preserves order from `x`.  \n"
      ],
      "text/plain": [
       "<IPython.core.display.Markdown object>"
      ]
     },
     "metadata": {},
     "output_type": "display_data"
    },
    {
     "data": {
      "text/markdown": [
       "### # full_join  "
      ],
      "text/plain": [
       "<IPython.core.display.Markdown object>"
      ]
     },
     "metadata": {},
     "output_type": "display_data"
    },
    {
     "data": {
      "text/markdown": [
       "##### Mutating joins including all rows in x or y.\n",
       "\n",
       "See Also:  \n",
       "&emsp;&emsp;[`inner_join()`](datar.dplyr.join.inner_join)  \n"
      ],
      "text/plain": [
       "<IPython.core.display.Markdown object>"
      ]
     },
     "metadata": {},
     "output_type": "display_data"
    }
   ],
   "source": [
    "# https://dplyr.tidyverse.org/reference/mutate-joins.html\n",
    "from datar.datasets import band_members, band_instruments, band_instruments2\n",
    "from datar.all import *\n",
    "\n",
    "%run nb_helpers.py\n",
    "nb_header(inner_join, left_join, right_join, full_join, book='mutate-joins')"
   ]
  },
  {
   "cell_type": "code",
   "execution_count": 2,
   "id": "specialized-renewal",
   "metadata": {
    "execution": {
     "iopub.execute_input": "2021-07-16T22:27:45.539298Z",
     "iopub.status.busy": "2021-07-16T22:27:45.538740Z",
     "iopub.status.idle": "2021-07-16T22:27:45.600718Z",
     "shell.execute_reply": "2021-07-16T22:27:45.601156Z"
    }
   },
   "outputs": [
    {
     "data": {
      "text/html": [
       "<table border=\"1\" class=\"dataframe\">\n",
       "  <thead>\n",
       "    <tr style=\"text-align: right;\">\n",
       "      <th></th>\n",
       "      <th>name</th>\n",
       "      <th>band</th>\n",
       "      <th>plays</th>\n",
       "    </tr>\n",
       "  </thead>\n",
       "  <tbody>\n",
       "    <tr>\n",
       "      <th style=\"font-style: italic;\" ></th>\n",
       "      <td style=\"font-style: italic;\" >&lt;object&gt;</td>\n",
       "      <td style=\"font-style: italic;\" >&lt;object&gt;</td>\n",
       "      <td style=\"font-style: italic;\" >&lt;object&gt;</td>\n",
       "    </tr>\n",
       "    <tr>\n",
       "      <th>0</th>\n",
       "      <td>John</td>\n",
       "      <td>Beatles</td>\n",
       "      <td>guitar</td>\n",
       "    </tr>\n",
       "    <tr>\n",
       "      <th>1</th>\n",
       "      <td>Paul</td>\n",
       "      <td>Beatles</td>\n",
       "      <td>bass</td>\n",
       "    </tr>\n",
       "  </tbody>\n",
       "</table>"
      ],
      "text/plain": [
       "      name     band    plays\n",
       "  <object> <object> <object>\n",
       "0     John  Beatles   guitar\n",
       "1     Paul  Beatles     bass"
      ]
     },
     "execution_count": 1,
     "metadata": {},
     "output_type": "execute_result"
    }
   ],
   "source": [
    "band_members >> inner_join(band_instruments)"
   ]
  },
  {
   "cell_type": "code",
   "execution_count": 3,
   "id": "scientific-replica",
   "metadata": {
    "execution": {
     "iopub.execute_input": "2021-07-16T22:27:45.617582Z",
     "iopub.status.busy": "2021-07-16T22:27:45.616769Z",
     "iopub.status.idle": "2021-07-16T22:27:45.623503Z",
     "shell.execute_reply": "2021-07-16T22:27:45.624815Z"
    }
   },
   "outputs": [
    {
     "data": {
      "text/html": [
       "<table border=\"1\" class=\"dataframe\">\n",
       "  <thead>\n",
       "    <tr style=\"text-align: right;\">\n",
       "      <th></th>\n",
       "      <th>name</th>\n",
       "      <th>band</th>\n",
       "      <th>plays</th>\n",
       "    </tr>\n",
       "  </thead>\n",
       "  <tbody>\n",
       "    <tr>\n",
       "      <th style=\"font-style: italic;\" ></th>\n",
       "      <td style=\"font-style: italic;\" >&lt;object&gt;</td>\n",
       "      <td style=\"font-style: italic;\" >&lt;object&gt;</td>\n",
       "      <td style=\"font-style: italic;\" >&lt;object&gt;</td>\n",
       "    </tr>\n",
       "    <tr>\n",
       "      <th>0</th>\n",
       "      <td>Mick</td>\n",
       "      <td>Stones</td>\n",
       "      <td>NaN</td>\n",
       "    </tr>\n",
       "    <tr>\n",
       "      <th>1</th>\n",
       "      <td>John</td>\n",
       "      <td>Beatles</td>\n",
       "      <td>guitar</td>\n",
       "    </tr>\n",
       "    <tr>\n",
       "      <th>2</th>\n",
       "      <td>Paul</td>\n",
       "      <td>Beatles</td>\n",
       "      <td>bass</td>\n",
       "    </tr>\n",
       "  </tbody>\n",
       "</table>"
      ],
      "text/plain": [
       "      name     band    plays\n",
       "  <object> <object> <object>\n",
       "0     Mick   Stones      NaN\n",
       "1     John  Beatles   guitar\n",
       "2     Paul  Beatles     bass"
      ]
     },
     "execution_count": 1,
     "metadata": {},
     "output_type": "execute_result"
    }
   ],
   "source": [
    "band_members >> left_join(band_instruments)"
   ]
  },
  {
   "cell_type": "code",
   "execution_count": 4,
   "id": "bibliographic-brain",
   "metadata": {
    "execution": {
     "iopub.execute_input": "2021-07-16T22:27:45.649051Z",
     "iopub.status.busy": "2021-07-16T22:27:45.648385Z",
     "iopub.status.idle": "2021-07-16T22:27:45.653705Z",
     "shell.execute_reply": "2021-07-16T22:27:45.654115Z"
    }
   },
   "outputs": [
    {
     "data": {
      "text/html": [
       "<table border=\"1\" class=\"dataframe\">\n",
       "  <thead>\n",
       "    <tr style=\"text-align: right;\">\n",
       "      <th></th>\n",
       "      <th>name</th>\n",
       "      <th>band</th>\n",
       "      <th>plays</th>\n",
       "    </tr>\n",
       "  </thead>\n",
       "  <tbody>\n",
       "    <tr>\n",
       "      <th style=\"font-style: italic;\" ></th>\n",
       "      <td style=\"font-style: italic;\" >&lt;object&gt;</td>\n",
       "      <td style=\"font-style: italic;\" >&lt;object&gt;</td>\n",
       "      <td style=\"font-style: italic;\" >&lt;object&gt;</td>\n",
       "    </tr>\n",
       "    <tr>\n",
       "      <th>0</th>\n",
       "      <td>John</td>\n",
       "      <td>Beatles</td>\n",
       "      <td>guitar</td>\n",
       "    </tr>\n",
       "    <tr>\n",
       "      <th>1</th>\n",
       "      <td>Paul</td>\n",
       "      <td>Beatles</td>\n",
       "      <td>bass</td>\n",
       "    </tr>\n",
       "    <tr>\n",
       "      <th>2</th>\n",
       "      <td>Keith</td>\n",
       "      <td>NaN</td>\n",
       "      <td>guitar</td>\n",
       "    </tr>\n",
       "  </tbody>\n",
       "</table>"
      ],
      "text/plain": [
       "      name     band    plays\n",
       "  <object> <object> <object>\n",
       "0     John  Beatles   guitar\n",
       "1     Paul  Beatles     bass\n",
       "2    Keith      NaN   guitar"
      ]
     },
     "execution_count": 1,
     "metadata": {},
     "output_type": "execute_result"
    }
   ],
   "source": [
    "band_members >> right_join(band_instruments)"
   ]
  },
  {
   "cell_type": "code",
   "execution_count": 5,
   "id": "timely-variable",
   "metadata": {
    "execution": {
     "iopub.execute_input": "2021-07-16T22:27:45.670644Z",
     "iopub.status.busy": "2021-07-16T22:27:45.669677Z",
     "iopub.status.idle": "2021-07-16T22:27:45.706452Z",
     "shell.execute_reply": "2021-07-16T22:27:45.706961Z"
    }
   },
   "outputs": [
    {
     "data": {
      "text/html": [
       "<table border=\"1\" class=\"dataframe\">\n",
       "  <thead>\n",
       "    <tr style=\"text-align: right;\">\n",
       "      <th></th>\n",
       "      <th>name</th>\n",
       "      <th>band</th>\n",
       "      <th>plays</th>\n",
       "    </tr>\n",
       "  </thead>\n",
       "  <tbody>\n",
       "    <tr>\n",
       "      <th style=\"font-style: italic;\" ></th>\n",
       "      <td style=\"font-style: italic;\" >&lt;object&gt;</td>\n",
       "      <td style=\"font-style: italic;\" >&lt;object&gt;</td>\n",
       "      <td style=\"font-style: italic;\" >&lt;object&gt;</td>\n",
       "    </tr>\n",
       "    <tr>\n",
       "      <th>0</th>\n",
       "      <td>Mick</td>\n",
       "      <td>Stones</td>\n",
       "      <td>NaN</td>\n",
       "    </tr>\n",
       "    <tr>\n",
       "      <th>1</th>\n",
       "      <td>John</td>\n",
       "      <td>Beatles</td>\n",
       "      <td>guitar</td>\n",
       "    </tr>\n",
       "    <tr>\n",
       "      <th>2</th>\n",
       "      <td>Paul</td>\n",
       "      <td>Beatles</td>\n",
       "      <td>bass</td>\n",
       "    </tr>\n",
       "    <tr>\n",
       "      <th>3</th>\n",
       "      <td>Keith</td>\n",
       "      <td>NaN</td>\n",
       "      <td>guitar</td>\n",
       "    </tr>\n",
       "  </tbody>\n",
       "</table>"
      ],
      "text/plain": [
       "      name     band    plays\n",
       "  <object> <object> <object>\n",
       "0     Mick   Stones      NaN\n",
       "1     John  Beatles   guitar\n",
       "2     Paul  Beatles     bass\n",
       "3    Keith      NaN   guitar"
      ]
     },
     "execution_count": 1,
     "metadata": {},
     "output_type": "execute_result"
    }
   ],
   "source": [
    "band_members >> full_join(band_instruments)"
   ]
  },
  {
   "cell_type": "code",
   "execution_count": 6,
   "id": "imperial-advisory",
   "metadata": {
    "execution": {
     "iopub.execute_input": "2021-07-16T22:27:45.727825Z",
     "iopub.status.busy": "2021-07-16T22:27:45.727141Z",
     "iopub.status.idle": "2021-07-16T22:27:45.734867Z",
     "shell.execute_reply": "2021-07-16T22:27:45.734025Z"
    }
   },
   "outputs": [
    {
     "data": {
      "text/html": [
       "<table border=\"1\" class=\"dataframe\">\n",
       "  <thead>\n",
       "    <tr style=\"text-align: right;\">\n",
       "      <th></th>\n",
       "      <th>name</th>\n",
       "      <th>band</th>\n",
       "      <th>plays</th>\n",
       "    </tr>\n",
       "  </thead>\n",
       "  <tbody>\n",
       "    <tr>\n",
       "      <th style=\"font-style: italic;\" ></th>\n",
       "      <td style=\"font-style: italic;\" >&lt;object&gt;</td>\n",
       "      <td style=\"font-style: italic;\" >&lt;object&gt;</td>\n",
       "      <td style=\"font-style: italic;\" >&lt;object&gt;</td>\n",
       "    </tr>\n",
       "    <tr>\n",
       "      <th>0</th>\n",
       "      <td>John</td>\n",
       "      <td>Beatles</td>\n",
       "      <td>guitar</td>\n",
       "    </tr>\n",
       "    <tr>\n",
       "      <th>1</th>\n",
       "      <td>Paul</td>\n",
       "      <td>Beatles</td>\n",
       "      <td>bass</td>\n",
       "    </tr>\n",
       "  </tbody>\n",
       "</table>"
      ],
      "text/plain": [
       "      name     band    plays\n",
       "  <object> <object> <object>\n",
       "0     John  Beatles   guitar\n",
       "1     Paul  Beatles     bass"
      ]
     },
     "execution_count": 1,
     "metadata": {},
     "output_type": "execute_result"
    }
   ],
   "source": [
    "band_members >> inner_join(band_instruments, by=f.name)"
   ]
  },
  {
   "cell_type": "code",
   "execution_count": 7,
   "id": "expensive-indonesian",
   "metadata": {
    "execution": {
     "iopub.execute_input": "2021-07-16T22:27:45.753597Z",
     "iopub.status.busy": "2021-07-16T22:27:45.752807Z",
     "iopub.status.idle": "2021-07-16T22:27:45.759345Z",
     "shell.execute_reply": "2021-07-16T22:27:45.759864Z"
    }
   },
   "outputs": [
    {
     "data": {
      "text/html": [
       "<table border=\"1\" class=\"dataframe\">\n",
       "  <thead>\n",
       "    <tr style=\"text-align: right;\">\n",
       "      <th></th>\n",
       "      <th>name</th>\n",
       "      <th>band</th>\n",
       "      <th>plays</th>\n",
       "    </tr>\n",
       "  </thead>\n",
       "  <tbody>\n",
       "    <tr>\n",
       "      <th style=\"font-style: italic;\" ></th>\n",
       "      <td style=\"font-style: italic;\" >&lt;object&gt;</td>\n",
       "      <td style=\"font-style: italic;\" >&lt;object&gt;</td>\n",
       "      <td style=\"font-style: italic;\" >&lt;object&gt;</td>\n",
       "    </tr>\n",
       "    <tr>\n",
       "      <th>0</th>\n",
       "      <td>Mick</td>\n",
       "      <td>Stones</td>\n",
       "      <td>NaN</td>\n",
       "    </tr>\n",
       "    <tr>\n",
       "      <th>1</th>\n",
       "      <td>John</td>\n",
       "      <td>Beatles</td>\n",
       "      <td>guitar</td>\n",
       "    </tr>\n",
       "    <tr>\n",
       "      <th>2</th>\n",
       "      <td>Paul</td>\n",
       "      <td>Beatles</td>\n",
       "      <td>bass</td>\n",
       "    </tr>\n",
       "    <tr>\n",
       "      <th>3</th>\n",
       "      <td>NaN</td>\n",
       "      <td>NaN</td>\n",
       "      <td>guitar</td>\n",
       "    </tr>\n",
       "  </tbody>\n",
       "</table>"
      ],
      "text/plain": [
       "      name     band    plays\n",
       "  <object> <object> <object>\n",
       "0     Mick   Stones      NaN\n",
       "1     John  Beatles   guitar\n",
       "2     Paul  Beatles     bass\n",
       "3      NaN      NaN   guitar"
      ]
     },
     "execution_count": 1,
     "metadata": {},
     "output_type": "execute_result"
    }
   ],
   "source": [
    "band_members >> full_join(band_instruments2, by={'name': 'artist'})"
   ]
  },
  {
   "cell_type": "code",
   "execution_count": 8,
   "id": "patient-castle",
   "metadata": {
    "execution": {
     "iopub.execute_input": "2021-07-16T22:27:45.771977Z",
     "iopub.status.busy": "2021-07-16T22:27:45.765790Z",
     "iopub.status.idle": "2021-07-16T22:27:45.778140Z",
     "shell.execute_reply": "2021-07-16T22:27:45.777544Z"
    }
   },
   "outputs": [
    {
     "data": {
      "text/html": [
       "<table border=\"1\" class=\"dataframe\">\n",
       "  <thead>\n",
       "    <tr style=\"text-align: right;\">\n",
       "      <th></th>\n",
       "      <th>name</th>\n",
       "      <th>band</th>\n",
       "      <th>artist</th>\n",
       "      <th>plays</th>\n",
       "    </tr>\n",
       "  </thead>\n",
       "  <tbody>\n",
       "    <tr>\n",
       "      <th style=\"font-style: italic;\" ></th>\n",
       "      <td style=\"font-style: italic;\" >&lt;object&gt;</td>\n",
       "      <td style=\"font-style: italic;\" >&lt;object&gt;</td>\n",
       "      <td style=\"font-style: italic;\" >&lt;object&gt;</td>\n",
       "      <td style=\"font-style: italic;\" >&lt;object&gt;</td>\n",
       "    </tr>\n",
       "    <tr>\n",
       "      <th>0</th>\n",
       "      <td>Mick</td>\n",
       "      <td>Stones</td>\n",
       "      <td>NaN</td>\n",
       "      <td>NaN</td>\n",
       "    </tr>\n",
       "    <tr>\n",
       "      <th>1</th>\n",
       "      <td>John</td>\n",
       "      <td>Beatles</td>\n",
       "      <td>John</td>\n",
       "      <td>guitar</td>\n",
       "    </tr>\n",
       "    <tr>\n",
       "      <th>2</th>\n",
       "      <td>Paul</td>\n",
       "      <td>Beatles</td>\n",
       "      <td>Paul</td>\n",
       "      <td>bass</td>\n",
       "    </tr>\n",
       "    <tr>\n",
       "      <th>3</th>\n",
       "      <td>NaN</td>\n",
       "      <td>NaN</td>\n",
       "      <td>Keith</td>\n",
       "      <td>guitar</td>\n",
       "    </tr>\n",
       "  </tbody>\n",
       "</table>"
      ],
      "text/plain": [
       "      name     band   artist    plays\n",
       "  <object> <object> <object> <object>\n",
       "0     Mick   Stones      NaN      NaN\n",
       "1     John  Beatles     John   guitar\n",
       "2     Paul  Beatles     Paul     bass\n",
       "3      NaN      NaN    Keith   guitar"
      ]
     },
     "execution_count": 1,
     "metadata": {},
     "output_type": "execute_result"
    }
   ],
   "source": [
    "band_members >> full_join(band_instruments2, by={'name': 'artist'}, keep=True)"
   ]
  },
  {
   "cell_type": "code",
   "execution_count": 9,
   "id": "finite-nicholas",
   "metadata": {
    "execution": {
     "iopub.execute_input": "2021-07-16T22:27:45.783635Z",
     "iopub.status.busy": "2021-07-16T22:27:45.782999Z",
     "iopub.status.idle": "2021-07-16T22:27:45.948252Z",
     "shell.execute_reply": "2021-07-16T22:27:45.948713Z"
    }
   },
   "outputs": [
    {
     "data": {
      "text/html": [
       "<table border=\"1\" class=\"dataframe\">\n",
       "  <thead>\n",
       "    <tr style=\"text-align: right;\">\n",
       "      <th></th>\n",
       "      <th>x</th>\n",
       "      <th>y</th>\n",
       "    </tr>\n",
       "  </thead>\n",
       "  <tbody>\n",
       "    <tr>\n",
       "      <th style=\"font-style: italic;\" ></th>\n",
       "      <td style=\"font-style: italic;\" >&lt;int64&gt;</td>\n",
       "      <td style=\"font-style: italic;\" >&lt;object&gt;</td>\n",
       "    </tr>\n",
       "    <tr>\n",
       "      <th>0</th>\n",
       "      <td>1</td>\n",
       "      <td>first</td>\n",
       "    </tr>\n",
       "    <tr>\n",
       "      <th>1</th>\n",
       "      <td>1</td>\n",
       "      <td>second</td>\n",
       "    </tr>\n",
       "    <tr>\n",
       "      <th>2</th>\n",
       "      <td>2</td>\n",
       "      <td>third</td>\n",
       "    </tr>\n",
       "    <tr>\n",
       "      <th>3</th>\n",
       "      <td>3</td>\n",
       "      <td>NaN</td>\n",
       "    </tr>\n",
       "  </tbody>\n",
       "</table>"
      ],
      "text/plain": [
       "        x        y\n",
       "  <int64> <object>\n",
       "0       1    first\n",
       "1       1   second\n",
       "2       2    third\n",
       "3       3      NaN"
      ]
     },
     "execution_count": 1,
     "metadata": {},
     "output_type": "execute_result"
    }
   ],
   "source": [
    "df1 = tibble(x=[1,2,3])\n",
    "df2 = tibble(x=[1,1,2], y=[\"first\", \"second\", \"third\"])\n",
    "df1 >> left_join(df2)"
   ]
  },
  {
   "cell_type": "code",
   "execution_count": 10,
   "id": "collected-airport",
   "metadata": {
    "execution": {
     "iopub.execute_input": "2021-07-16T22:27:45.989893Z",
     "iopub.status.busy": "2021-07-16T22:27:45.989298Z",
     "iopub.status.idle": "2021-07-16T22:27:46.001899Z",
     "shell.execute_reply": "2021-07-16T22:27:46.002262Z"
    }
   },
   "outputs": [
    {
     "data": {
      "text/html": [
       "<table border=\"1\" class=\"dataframe\">\n",
       "  <thead>\n",
       "    <tr style=\"text-align: right;\">\n",
       "      <th></th>\n",
       "      <th>x</th>\n",
       "      <th>y</th>\n",
       "      <th>z</th>\n",
       "    </tr>\n",
       "  </thead>\n",
       "  <tbody>\n",
       "    <tr>\n",
       "      <th style=\"font-style: italic;\" ></th>\n",
       "      <td style=\"font-style: italic;\" >&lt;float64&gt;</td>\n",
       "      <td style=\"font-style: italic;\" >&lt;int64&gt;</td>\n",
       "      <td style=\"font-style: italic;\" >&lt;int64&gt;</td>\n",
       "    </tr>\n",
       "    <tr>\n",
       "      <th>0</th>\n",
       "      <td>1.0</td>\n",
       "      <td>2</td>\n",
       "      <td>3</td>\n",
       "    </tr>\n",
       "    <tr>\n",
       "      <th>1</th>\n",
       "      <td>NaN</td>\n",
       "      <td>2</td>\n",
       "      <td>3</td>\n",
       "    </tr>\n",
       "  </tbody>\n",
       "</table>"
      ],
      "text/plain": [
       "          x       y       z\n",
       "  <float64> <int64> <int64>\n",
       "0       1.0       2       3\n",
       "1       NaN       2       3"
      ]
     },
     "execution_count": 1,
     "metadata": {},
     "output_type": "execute_result"
    }
   ],
   "source": [
    "df1 = tibble(x=[1, NA], y=2)\n",
    "df2 = tibble(x=[1, NA], z=3)\n",
    "left_join(df1, df2) # na_matches not supported yet"
   ]
  }
 ],
 "metadata": {
  "kernelspec": {
   "display_name": "Python 3",
   "language": "python",
   "name": "python3"
  },
  "language_info": {
   "codemirror_mode": {
    "name": "ipython",
    "version": 3
   },
   "file_extension": ".py",
   "mimetype": "text/x-python",
   "name": "python",
   "nbconvert_exporter": "python",
   "pygments_lexer": "ipython3",
   "version": "3.7.8"
  }
 },
 "nbformat": 4,
 "nbformat_minor": 5
}
