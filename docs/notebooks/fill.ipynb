{
 "cells": [
  {
   "cell_type": "code",
   "execution_count": 1,
   "id": "armed-shield",
   "metadata": {
    "execution": {
     "iopub.execute_input": "2021-04-17T00:52:40.124088Z",
     "iopub.status.busy": "2021-04-17T00:52:40.123461Z",
     "iopub.status.idle": "2021-04-17T00:52:40.818647Z",
     "shell.execute_reply": "2021-04-17T00:52:40.818180Z"
    }
   },
   "outputs": [
    {
     "output_type": "display_data",
     "data": {
      "text/plain": "<IPython.core.display.HTML object>",
      "text/html": "<div style=\"text-align: right; text-style: italic\">Try this notebook on <a target=\"_blank\" href=\"https://mybinder.org/v2/gh/pwwang/datar/93d069f3ca36711fc811c61dcf60e9fc3d1460a5?filepath=docs%2Fnotebooks%2Ffill.ipynb\">binder</a>.</div>"
     },
     "metadata": {}
    },
    {
     "output_type": "display_data",
     "data": {
      "text/plain": "<IPython.core.display.Markdown object>",
      "text/markdown": "### # fill  "
     },
     "metadata": {}
    },
    {
     "output_type": "display_data",
     "data": {
      "text/plain": "<IPython.core.display.Markdown object>",
      "text/markdown": "##### Fills missing values in selected columns using the next or\nprevious entry.  \n\nSee https://tidyr.tidyverse.org/reference/fill.html  \n\n##### Args:\n&emsp;&emsp;`_data`: A dataframe  \n&emsp;&emsp;`*columns`: Columns to fill  \n&emsp;&emsp;`_direction`: Direction in which to fill missing values.  \n&emsp;&emsp;&emsp;&emsp;Currently either \"down\" (the default), \"up\",  \n&emsp;&emsp;&emsp;&emsp;\"downup\" (i.e. first down and then up) or  \n&emsp;&emsp;&emsp;&emsp;\"updown\" (first up and then down).  \n\n&emsp;&emsp;`_base0`: Whether `*columns` are 0-based if given by indexes  \n&emsp;&emsp;&emsp;&emsp;If not provided, will use `datar.base.getOption('index.base.0')`  \n\n##### Returns:\n&emsp;&emsp;The dataframe with NAs being replaced.  \n"
     },
     "metadata": {}
    }
   ],
   "source": [
    "# https://tidyr.tidyverse.org/reference/fill.html\n",
    "\n",
    "from datar.all import *\n",
    "\n",
    "%run nb_helpers.py\n",
    "nb_header(fill)"
   ]
  },
  {
   "cell_type": "code",
   "execution_count": 2,
   "id": "coral-musician",
   "metadata": {
    "execution": {
     "iopub.execute_input": "2021-04-17T00:52:40.824762Z",
     "iopub.status.busy": "2021-04-17T00:52:40.824141Z",
     "iopub.status.idle": "2021-04-17T00:52:40.860104Z",
     "shell.execute_reply": "2021-04-17T00:52:40.859599Z"
    }
   },
   "outputs": [
    {
     "output_type": "execute_result",
     "data": {
      "text/plain": [
       "   quarter    year  sales\n",
       "0       Q1  2000.0  66013\n",
       "1       Q2     NaN  69182\n",
       "2       Q3     NaN  53175\n",
       "3       Q4     NaN  21001\n",
       "4       Q1  2001.0  46036\n",
       "5       Q2     NaN  58842\n",
       "6       Q3     NaN  44568\n",
       "7       Q4     NaN  50197\n",
       "8       Q1  2002.0  39113\n",
       "9       Q2     NaN  41668\n",
       "10      Q3     NaN  30144\n",
       "11      Q4     NaN  52897\n",
       "12      Q1  2004.0  32129\n",
       "13      Q2     NaN  67686\n",
       "14      Q3     NaN  31768\n",
       "15      Q4     NaN  49094"
      ],
      "text/html": "<div>\n<style scoped>\n    .dataframe tbody tr th:only-of-type {\n        vertical-align: middle;\n    }\n\n    .dataframe tbody tr th {\n        vertical-align: top;\n    }\n\n    .dataframe thead th {\n        text-align: right;\n    }\n</style>\n<table border=\"1\" class=\"dataframe\">\n  <thead>\n    <tr style=\"text-align: right;\">\n      <th></th>\n      <th>quarter</th>\n      <th>year</th>\n      <th>sales</th>\n    </tr>\n  </thead>\n  <tbody>\n    <tr>\n      <th>0</th>\n      <td>Q1</td>\n      <td>2000.0</td>\n      <td>66013</td>\n    </tr>\n    <tr>\n      <th>1</th>\n      <td>Q2</td>\n      <td>NaN</td>\n      <td>69182</td>\n    </tr>\n    <tr>\n      <th>2</th>\n      <td>Q3</td>\n      <td>NaN</td>\n      <td>53175</td>\n    </tr>\n    <tr>\n      <th>3</th>\n      <td>Q4</td>\n      <td>NaN</td>\n      <td>21001</td>\n    </tr>\n    <tr>\n      <th>4</th>\n      <td>Q1</td>\n      <td>2001.0</td>\n      <td>46036</td>\n    </tr>\n    <tr>\n      <th>5</th>\n      <td>Q2</td>\n      <td>NaN</td>\n      <td>58842</td>\n    </tr>\n    <tr>\n      <th>6</th>\n      <td>Q3</td>\n      <td>NaN</td>\n      <td>44568</td>\n    </tr>\n    <tr>\n      <th>7</th>\n      <td>Q4</td>\n      <td>NaN</td>\n      <td>50197</td>\n    </tr>\n    <tr>\n      <th>8</th>\n      <td>Q1</td>\n      <td>2002.0</td>\n      <td>39113</td>\n    </tr>\n    <tr>\n      <th>9</th>\n      <td>Q2</td>\n      <td>NaN</td>\n      <td>41668</td>\n    </tr>\n    <tr>\n      <th>10</th>\n      <td>Q3</td>\n      <td>NaN</td>\n      <td>30144</td>\n    </tr>\n    <tr>\n      <th>11</th>\n      <td>Q4</td>\n      <td>NaN</td>\n      <td>52897</td>\n    </tr>\n    <tr>\n      <th>12</th>\n      <td>Q1</td>\n      <td>2004.0</td>\n      <td>32129</td>\n    </tr>\n    <tr>\n      <th>13</th>\n      <td>Q2</td>\n      <td>NaN</td>\n      <td>67686</td>\n    </tr>\n    <tr>\n      <th>14</th>\n      <td>Q3</td>\n      <td>NaN</td>\n      <td>31768</td>\n    </tr>\n    <tr>\n      <th>15</th>\n      <td>Q4</td>\n      <td>NaN</td>\n      <td>49094</td>\n    </tr>\n  </tbody>\n</table>\n</div>"
     },
     "metadata": {},
     "execution_count": 2
    }
   ],
   "source": [
    "sales = tribble(\n",
    "  f.quarter, f.year, f.sales,\n",
    "  \"Q1\",      2000,   66013,\n",
    "  \"Q2\",        NA,   69182,\n",
    "  \"Q3\",        NA,   53175,\n",
    "  \"Q4\",        NA,   21001,\n",
    "  \"Q1\",      2001,   46036,\n",
    "  \"Q2\",        NA,   58842,\n",
    "  \"Q3\",        NA,   44568,\n",
    "  \"Q4\",        NA,   50197,\n",
    "  \"Q1\",      2002,   39113,\n",
    "  \"Q2\",        NA,   41668,\n",
    "  \"Q3\",        NA,   30144,\n",
    "  \"Q4\",        NA,   52897,\n",
    "  \"Q1\",      2004,   32129,\n",
    "  \"Q2\",        NA,   67686,\n",
    "  \"Q3\",        NA,   31768,\n",
    "  \"Q4\",        NA,   49094\n",
    ")\n",
    "sales"
   ]
  },
  {
   "cell_type": "code",
   "execution_count": 3,
   "id": "dramatic-break",
   "metadata": {
    "execution": {
     "iopub.execute_input": "2021-04-17T00:52:40.865895Z",
     "iopub.status.busy": "2021-04-17T00:52:40.865372Z",
     "iopub.status.idle": "2021-04-17T00:52:40.911308Z",
     "shell.execute_reply": "2021-04-17T00:52:40.912043Z"
    }
   },
   "outputs": [
    {
     "output_type": "execute_result",
     "data": {
      "text/plain": [
       "   quarter    year  sales\n",
       "0       Q1  2000.0  66013\n",
       "1       Q2  2000.0  69182\n",
       "2       Q3  2000.0  53175\n",
       "3       Q4  2000.0  21001\n",
       "4       Q1  2001.0  46036\n",
       "5       Q2  2001.0  58842\n",
       "6       Q3  2001.0  44568\n",
       "7       Q4  2001.0  50197\n",
       "8       Q1  2002.0  39113\n",
       "9       Q2  2002.0  41668\n",
       "10      Q3  2002.0  30144\n",
       "11      Q4  2002.0  52897\n",
       "12      Q1  2004.0  32129\n",
       "13      Q2  2004.0  67686\n",
       "14      Q3  2004.0  31768\n",
       "15      Q4  2004.0  49094"
      ],
      "text/html": "<div>\n<style scoped>\n    .dataframe tbody tr th:only-of-type {\n        vertical-align: middle;\n    }\n\n    .dataframe tbody tr th {\n        vertical-align: top;\n    }\n\n    .dataframe thead th {\n        text-align: right;\n    }\n</style>\n<table border=\"1\" class=\"dataframe\">\n  <thead>\n    <tr style=\"text-align: right;\">\n      <th></th>\n      <th>quarter</th>\n      <th>year</th>\n      <th>sales</th>\n    </tr>\n  </thead>\n  <tbody>\n    <tr>\n      <th>0</th>\n      <td>Q1</td>\n      <td>2000.0</td>\n      <td>66013</td>\n    </tr>\n    <tr>\n      <th>1</th>\n      <td>Q2</td>\n      <td>2000.0</td>\n      <td>69182</td>\n    </tr>\n    <tr>\n      <th>2</th>\n      <td>Q3</td>\n      <td>2000.0</td>\n      <td>53175</td>\n    </tr>\n    <tr>\n      <th>3</th>\n      <td>Q4</td>\n      <td>2000.0</td>\n      <td>21001</td>\n    </tr>\n    <tr>\n      <th>4</th>\n      <td>Q1</td>\n      <td>2001.0</td>\n      <td>46036</td>\n    </tr>\n    <tr>\n      <th>5</th>\n      <td>Q2</td>\n      <td>2001.0</td>\n      <td>58842</td>\n    </tr>\n    <tr>\n      <th>6</th>\n      <td>Q3</td>\n      <td>2001.0</td>\n      <td>44568</td>\n    </tr>\n    <tr>\n      <th>7</th>\n      <td>Q4</td>\n      <td>2001.0</td>\n      <td>50197</td>\n    </tr>\n    <tr>\n      <th>8</th>\n      <td>Q1</td>\n      <td>2002.0</td>\n      <td>39113</td>\n    </tr>\n    <tr>\n      <th>9</th>\n      <td>Q2</td>\n      <td>2002.0</td>\n      <td>41668</td>\n    </tr>\n    <tr>\n      <th>10</th>\n      <td>Q3</td>\n      <td>2002.0</td>\n      <td>30144</td>\n    </tr>\n    <tr>\n      <th>11</th>\n      <td>Q4</td>\n      <td>2002.0</td>\n      <td>52897</td>\n    </tr>\n    <tr>\n      <th>12</th>\n      <td>Q1</td>\n      <td>2004.0</td>\n      <td>32129</td>\n    </tr>\n    <tr>\n      <th>13</th>\n      <td>Q2</td>\n      <td>2004.0</td>\n      <td>67686</td>\n    </tr>\n    <tr>\n      <th>14</th>\n      <td>Q3</td>\n      <td>2004.0</td>\n      <td>31768</td>\n    </tr>\n    <tr>\n      <th>15</th>\n      <td>Q4</td>\n      <td>2004.0</td>\n      <td>49094</td>\n    </tr>\n  </tbody>\n</table>\n</div>"
     },
     "metadata": {},
     "execution_count": 3
    }
   ],
   "source": [
    "sales >> fill(f.year)"
   ]
  },
  {
   "cell_type": "code",
   "execution_count": 4,
   "id": "intelligent-scanner",
   "metadata": {
    "execution": {
     "iopub.execute_input": "2021-04-17T00:52:40.919028Z",
     "iopub.status.busy": "2021-04-17T00:52:40.918499Z",
     "iopub.status.idle": "2021-04-17T00:52:40.939267Z",
     "shell.execute_reply": "2021-04-17T00:52:40.938882Z"
    }
   },
   "outputs": [
    {
     "output_type": "execute_result",
     "data": {
      "text/plain": [
       "    rank pet_type                  breed\n",
       "0      1      Dog         Boston Terrier\n",
       "1      2      Dog  Retrievers (Labrador)\n",
       "2      3      Dog    Retrievers (Golden)\n",
       "3      4      Dog        French Bulldogs\n",
       "4      5      Dog               Bulldogs\n",
       "5      6      Dog                Beagles\n",
       "6      1      Cat                Persian\n",
       "7      2      Cat             Maine Coon\n",
       "8      3      Cat                Ragdoll\n",
       "9      4      Cat                 Exotic\n",
       "10     5      Cat                Siamese\n",
       "11     6      Cat         American Short"
      ],
      "text/html": "<div>\n<style scoped>\n    .dataframe tbody tr th:only-of-type {\n        vertical-align: middle;\n    }\n\n    .dataframe tbody tr th {\n        vertical-align: top;\n    }\n\n    .dataframe thead th {\n        text-align: right;\n    }\n</style>\n<table border=\"1\" class=\"dataframe\">\n  <thead>\n    <tr style=\"text-align: right;\">\n      <th></th>\n      <th>rank</th>\n      <th>pet_type</th>\n      <th>breed</th>\n    </tr>\n  </thead>\n  <tbody>\n    <tr>\n      <th>0</th>\n      <td>1</td>\n      <td>Dog</td>\n      <td>Boston Terrier</td>\n    </tr>\n    <tr>\n      <th>1</th>\n      <td>2</td>\n      <td>Dog</td>\n      <td>Retrievers (Labrador)</td>\n    </tr>\n    <tr>\n      <th>2</th>\n      <td>3</td>\n      <td>Dog</td>\n      <td>Retrievers (Golden)</td>\n    </tr>\n    <tr>\n      <th>3</th>\n      <td>4</td>\n      <td>Dog</td>\n      <td>French Bulldogs</td>\n    </tr>\n    <tr>\n      <th>4</th>\n      <td>5</td>\n      <td>Dog</td>\n      <td>Bulldogs</td>\n    </tr>\n    <tr>\n      <th>5</th>\n      <td>6</td>\n      <td>Dog</td>\n      <td>Beagles</td>\n    </tr>\n    <tr>\n      <th>6</th>\n      <td>1</td>\n      <td>Cat</td>\n      <td>Persian</td>\n    </tr>\n    <tr>\n      <th>7</th>\n      <td>2</td>\n      <td>Cat</td>\n      <td>Maine Coon</td>\n    </tr>\n    <tr>\n      <th>8</th>\n      <td>3</td>\n      <td>Cat</td>\n      <td>Ragdoll</td>\n    </tr>\n    <tr>\n      <th>9</th>\n      <td>4</td>\n      <td>Cat</td>\n      <td>Exotic</td>\n    </tr>\n    <tr>\n      <th>10</th>\n      <td>5</td>\n      <td>Cat</td>\n      <td>Siamese</td>\n    </tr>\n    <tr>\n      <th>11</th>\n      <td>6</td>\n      <td>Cat</td>\n      <td>American Short</td>\n    </tr>\n  </tbody>\n</table>\n</div>"
     },
     "metadata": {},
     "execution_count": 4
    }
   ],
   "source": [
    "tidy_pets = tribble(\n",
    "  f.rank,  f.pet_type, f.breed,\n",
    "  1,          NA,      \"Boston Terrier\",\n",
    "  2,          NA,      \"Retrievers (Labrador)\",\n",
    "  3,          NA,      \"Retrievers (Golden)\",\n",
    "  4,          NA,      \"French Bulldogs\",\n",
    "  5,          NA,      \"Bulldogs\",\n",
    "  6,       \"Dog\",      \"Beagles\",\n",
    "  1,          NA,      \"Persian\",\n",
    "  2,          NA,      \"Maine Coon\",\n",
    "  3,          NA,      \"Ragdoll\",\n",
    "  4,          NA,      \"Exotic\",\n",
    "  5,          NA,      \"Siamese\",\n",
    "  6,       \"Cat\",      \"American Short\"\n",
    ")\n",
    "tidy_pets >> fill(f.pet_type, _direction = \"up\")"
   ]
  },
  {
   "cell_type": "code",
   "execution_count": 5,
   "id": "level-assistant",
   "metadata": {
    "execution": {
     "iopub.execute_input": "2021-04-17T00:52:40.946123Z",
     "iopub.status.busy": "2021-04-17T00:52:40.945507Z",
     "iopub.status.idle": "2021-04-17T00:52:41.010944Z",
     "shell.execute_reply": "2021-04-17T00:52:41.010415Z"
    }
   },
   "outputs": [
    {
     "output_type": "execute_result",
     "data": {
      "text/plain": [
       "    group      name         role  n_squirrels\n",
       "0       1       Sam     Observer          8.0\n",
       "1       1      Mara  Scorekeeper          8.0\n",
       "2       1     Jesse     Observer          8.0\n",
       "3       1       Tom     Observer          8.0\n",
       "4       2      Mike     Observer         14.0\n",
       "5       2   Rachael     Observer         14.0\n",
       "6       2   Sydekea  Scorekeeper         14.0\n",
       "7       2  Gabriela     Observer         14.0\n",
       "8       3   Derrick     Observer          9.0\n",
       "9       3      Kara  Scorekeeper          9.0\n",
       "10      3     Emily     Observer          9.0\n",
       "11      3  Danielle     Observer          9.0\n",
       "[Groups: ['group'] (n=3)]"
      ],
      "text/html": "<div>\n<style scoped>\n    .dataframe tbody tr th:only-of-type {\n        vertical-align: middle;\n    }\n\n    .dataframe tbody tr th {\n        vertical-align: top;\n    }\n\n    .dataframe thead th {\n        text-align: right;\n    }\n</style>\n<table border=\"1\" class=\"dataframe\">\n  <thead>\n    <tr style=\"text-align: right;\">\n      <th></th>\n      <th>group</th>\n      <th>name</th>\n      <th>role</th>\n      <th>n_squirrels</th>\n    </tr>\n  </thead>\n  <tbody>\n    <tr>\n      <th>0</th>\n      <td>1</td>\n      <td>Sam</td>\n      <td>Observer</td>\n      <td>8.0</td>\n    </tr>\n    <tr>\n      <th>1</th>\n      <td>1</td>\n      <td>Mara</td>\n      <td>Scorekeeper</td>\n      <td>8.0</td>\n    </tr>\n    <tr>\n      <th>2</th>\n      <td>1</td>\n      <td>Jesse</td>\n      <td>Observer</td>\n      <td>8.0</td>\n    </tr>\n    <tr>\n      <th>3</th>\n      <td>1</td>\n      <td>Tom</td>\n      <td>Observer</td>\n      <td>8.0</td>\n    </tr>\n    <tr>\n      <th>4</th>\n      <td>2</td>\n      <td>Mike</td>\n      <td>Observer</td>\n      <td>14.0</td>\n    </tr>\n    <tr>\n      <th>5</th>\n      <td>2</td>\n      <td>Rachael</td>\n      <td>Observer</td>\n      <td>14.0</td>\n    </tr>\n    <tr>\n      <th>6</th>\n      <td>2</td>\n      <td>Sydekea</td>\n      <td>Scorekeeper</td>\n      <td>14.0</td>\n    </tr>\n    <tr>\n      <th>7</th>\n      <td>2</td>\n      <td>Gabriela</td>\n      <td>Observer</td>\n      <td>14.0</td>\n    </tr>\n    <tr>\n      <th>8</th>\n      <td>3</td>\n      <td>Derrick</td>\n      <td>Observer</td>\n      <td>9.0</td>\n    </tr>\n    <tr>\n      <th>9</th>\n      <td>3</td>\n      <td>Kara</td>\n      <td>Scorekeeper</td>\n      <td>9.0</td>\n    </tr>\n    <tr>\n      <th>10</th>\n      <td>3</td>\n      <td>Emily</td>\n      <td>Observer</td>\n      <td>9.0</td>\n    </tr>\n    <tr>\n      <th>11</th>\n      <td>3</td>\n      <td>Danielle</td>\n      <td>Observer</td>\n      <td>9.0</td>\n    </tr>\n  </tbody>\n</table>\n</div>[Groups: ['group'] (n=3)]"
     },
     "metadata": {},
     "execution_count": 5
    }
   ],
   "source": [
    "squirrels = tribble(\n",
    "  f.group,    f.name,        f.role, f.n_squirrels,\n",
    "  1,           \"Sam\",    \"Observer\",            NA,\n",
    "  1,          \"Mara\", \"Scorekeeper\",             8,\n",
    "  1,         \"Jesse\",    \"Observer\",            NA,\n",
    "  1,           \"Tom\",    \"Observer\",            NA,\n",
    "  2,          \"Mike\",    \"Observer\",            NA,\n",
    "  2,       \"Rachael\",    \"Observer\",            NA,\n",
    "  2,       \"Sydekea\", \"Scorekeeper\",            14,\n",
    "  2,      \"Gabriela\",    \"Observer\",            NA,\n",
    "  3,       \"Derrick\",    \"Observer\",            NA,\n",
    "  3,          \"Kara\", \"Scorekeeper\",             9,\n",
    "  3,         \"Emily\",    \"Observer\",            NA,\n",
    "  3,      \"Danielle\",    \"Observer\",            NA\n",
    ")\n",
    "        \n",
    "squirrels >> \\\n",
    "  group_by(f.group) >> \\\n",
    "  fill(f.n_squirrels, _direction = \"downup\") "
   ]
  },
  {
   "cell_type": "code",
   "execution_count": null,
   "id": "little-practice",
   "metadata": {},
   "outputs": [],
   "source": []
  }
 ],
 "metadata": {
  "kernelspec": {
   "display_name": "Python 3",
   "language": "python",
   "name": "python3"
  },
  "language_info": {
   "codemirror_mode": {
    "name": "ipython",
    "version": 3
   },
   "file_extension": ".py",
   "mimetype": "text/x-python",
   "name": "python",
   "nbconvert_exporter": "python",
   "pygments_lexer": "ipython3",
   "version": "3.7.8"
  }
 },
 "nbformat": 4,
 "nbformat_minor": 5
}