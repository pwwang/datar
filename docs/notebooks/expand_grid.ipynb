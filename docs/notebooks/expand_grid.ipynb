{
 "cells": [
  {
   "cell_type": "code",
   "execution_count": 1,
   "id": "respiratory-oriental",
   "metadata": {
    "execution": {
     "iopub.execute_input": "2021-04-17T00:52:31.094470Z",
     "iopub.status.busy": "2021-04-17T00:52:31.093706Z",
     "iopub.status.idle": "2021-04-17T00:52:31.785119Z",
     "shell.execute_reply": "2021-04-17T00:52:31.784545Z"
    }
   },
   "outputs": [
    {
     "output_type": "display_data",
     "data": {
      "text/plain": "<IPython.core.display.HTML object>",
      "text/html": "<div style=\"text-align: right; text-style: italic\">Try this notebook on <a target=\"_blank\" href=\"https://mybinder.org/v2/gh/pwwang/datar/93d069f3ca36711fc811c61dcf60e9fc3d1460a5?filepath=docs%2Fnotebooks%2Fexpand_grid.ipynb\">binder</a>.</div>"
     },
     "metadata": {}
    },
    {
     "output_type": "display_data",
     "data": {
      "text/plain": "<IPython.core.display.Markdown object>",
      "text/markdown": "### # expand_grid  "
     },
     "metadata": {}
    },
    {
     "output_type": "display_data",
     "data": {
      "text/plain": "<IPython.core.display.Markdown object>",
      "text/markdown": "##### Create a tibble from all combinations of inputs\n\n##### Args:\n&emsp;&emsp;`*args`: and  \n&emsp;&emsp;`**kwargs`: name-value pairs.  \n&emsp;&emsp;&emsp;&emsp;For `*args`, names will be inferred from the values and if failed,  \n&emsp;&emsp;&emsp;&emsp;`_Var0`, `_Var1`, etc will be used.  \n\n&emsp;&emsp;`_name_repair`: treatment of problematic column names:  \n&emsp;&emsp;&emsp;&emsp;- \"minimal\": No name repair or checks, beyond basic existence,\n\n&emsp;&emsp;&emsp;&emsp;- \"unique\": Make sure names are unique and not empty,\n\n&emsp;&emsp;&emsp;&emsp;- \"check_unique\": (default value), no name repair,\n&emsp;&emsp;&emsp;&emsp;&emsp;&emsp;but check they are unique,  \n\n&emsp;&emsp;&emsp;&emsp;- \"universal\": Make the names unique and syntactic\n\n&emsp;&emsp;&emsp;&emsp;- a function: apply custom name repair\n\n&emsp;&emsp;`_base0`: Whether the suffixes of repaired names should be 0-based.  \n&emsp;&emsp;&emsp;&emsp;If not provided, will use `datar.base.get_option('index.base.0')`.  \n\n##### Returns:\n&emsp;&emsp;A data frame with one column for each input in `*args` and `**kwargs`.  \n&emsp;&emsp;The output will have one row for each combination of the inputs,  \n&emsp;&emsp;i.e. the size be equal to the product of the sizes of the inputs.  \n&emsp;&emsp;This implies that if any input has length 0, the output will have  \n&emsp;&emsp;zero rows.  \n"
     },
     "metadata": {}
    }
   ],
   "source": [
    "# https://tidyr.tidyverse.org/reference/expand_grid.html\n",
    "\n",
    "from datar.all import *\n",
    "\n",
    "%run nb_helpers.py\n",
    "nb_header(expand_grid)"
   ]
  },
  {
   "cell_type": "code",
   "execution_count": 2,
   "id": "driven-cornwall",
   "metadata": {
    "execution": {
     "iopub.execute_input": "2021-04-17T00:52:31.796469Z",
     "iopub.status.busy": "2021-04-17T00:52:31.795859Z",
     "iopub.status.idle": "2021-04-17T00:52:31.806180Z",
     "shell.execute_reply": "2021-04-17T00:52:31.805791Z"
    }
   },
   "outputs": [
    {
     "output_type": "execute_result",
     "data": {
      "text/plain": [
       "   x  y\n",
       "0  1  1\n",
       "1  1  2\n",
       "2  2  1\n",
       "3  2  2\n",
       "4  3  1\n",
       "5  3  2"
      ],
      "text/html": "<div>\n<style scoped>\n    .dataframe tbody tr th:only-of-type {\n        vertical-align: middle;\n    }\n\n    .dataframe tbody tr th {\n        vertical-align: top;\n    }\n\n    .dataframe thead th {\n        text-align: right;\n    }\n</style>\n<table border=\"1\" class=\"dataframe\">\n  <thead>\n    <tr style=\"text-align: right;\">\n      <th></th>\n      <th>x</th>\n      <th>y</th>\n    </tr>\n  </thead>\n  <tbody>\n    <tr>\n      <th>0</th>\n      <td>1</td>\n      <td>1</td>\n    </tr>\n    <tr>\n      <th>1</th>\n      <td>1</td>\n      <td>2</td>\n    </tr>\n    <tr>\n      <th>2</th>\n      <td>2</td>\n      <td>1</td>\n    </tr>\n    <tr>\n      <th>3</th>\n      <td>2</td>\n      <td>2</td>\n    </tr>\n    <tr>\n      <th>4</th>\n      <td>3</td>\n      <td>1</td>\n    </tr>\n    <tr>\n      <th>5</th>\n      <td>3</td>\n      <td>2</td>\n    </tr>\n  </tbody>\n</table>\n</div>"
     },
     "metadata": {},
     "execution_count": 2
    }
   ],
   "source": [
    "expand_grid(x=seq(1,3), y=seq(1,2))"
   ]
  },
  {
   "cell_type": "code",
   "execution_count": 3,
   "id": "structural-assembly",
   "metadata": {
    "execution": {
     "iopub.execute_input": "2021-04-17T00:52:31.823329Z",
     "iopub.status.busy": "2021-04-17T00:52:31.822530Z",
     "iopub.status.idle": "2021-04-17T00:52:31.826948Z",
     "shell.execute_reply": "2021-04-17T00:52:31.826432Z"
    }
   },
   "outputs": [
    {
     "output_type": "execute_result",
     "data": {
      "text/plain": [
       "    l1 l2\n",
       "0    a  A\n",
       "1    a  B\n",
       "2    a  C\n",
       "3    a  D\n",
       "4    a  E\n",
       "..  .. ..\n",
       "671  z  V\n",
       "672  z  W\n",
       "673  z  X\n",
       "674  z  Y\n",
       "675  z  Z\n",
       "\n",
       "[676 rows x 2 columns]"
      ],
      "text/html": "<div>\n<style scoped>\n    .dataframe tbody tr th:only-of-type {\n        vertical-align: middle;\n    }\n\n    .dataframe tbody tr th {\n        vertical-align: top;\n    }\n\n    .dataframe thead th {\n        text-align: right;\n    }\n</style>\n<table border=\"1\" class=\"dataframe\">\n  <thead>\n    <tr style=\"text-align: right;\">\n      <th></th>\n      <th>l1</th>\n      <th>l2</th>\n    </tr>\n  </thead>\n  <tbody>\n    <tr>\n      <th>0</th>\n      <td>a</td>\n      <td>A</td>\n    </tr>\n    <tr>\n      <th>1</th>\n      <td>a</td>\n      <td>B</td>\n    </tr>\n    <tr>\n      <th>2</th>\n      <td>a</td>\n      <td>C</td>\n    </tr>\n    <tr>\n      <th>3</th>\n      <td>a</td>\n      <td>D</td>\n    </tr>\n    <tr>\n      <th>4</th>\n      <td>a</td>\n      <td>E</td>\n    </tr>\n    <tr>\n      <th>...</th>\n      <td>...</td>\n      <td>...</td>\n    </tr>\n    <tr>\n      <th>671</th>\n      <td>z</td>\n      <td>V</td>\n    </tr>\n    <tr>\n      <th>672</th>\n      <td>z</td>\n      <td>W</td>\n    </tr>\n    <tr>\n      <th>673</th>\n      <td>z</td>\n      <td>X</td>\n    </tr>\n    <tr>\n      <th>674</th>\n      <td>z</td>\n      <td>Y</td>\n    </tr>\n    <tr>\n      <th>675</th>\n      <td>z</td>\n      <td>Z</td>\n    </tr>\n  </tbody>\n</table>\n<p>676 rows × 2 columns</p>\n</div>"
     },
     "metadata": {},
     "execution_count": 3
    }
   ],
   "source": [
    "expand_grid(l1=letters, l2=LETTERS)"
   ]
  },
  {
   "cell_type": "code",
   "execution_count": 4,
   "id": "nervous-sterling",
   "metadata": {
    "execution": {
     "iopub.execute_input": "2021-04-17T00:52:31.832712Z",
     "iopub.status.busy": "2021-04-17T00:52:31.832014Z",
     "iopub.status.idle": "2021-04-17T00:52:31.881730Z",
     "shell.execute_reply": "2021-04-17T00:52:31.882150Z"
    }
   },
   "outputs": [
    {
     "output_type": "execute_result",
     "data": {
      "text/plain": [
       "   df$x  df$y  z\n",
       "0     1     2  1\n",
       "1     1     2  2\n",
       "2     1     2  3\n",
       "3     2     1  1\n",
       "4     2     1  2\n",
       "5     2     1  3"
      ],
      "text/html": "<div>\n<style scoped>\n    .dataframe tbody tr th:only-of-type {\n        vertical-align: middle;\n    }\n\n    .dataframe tbody tr th {\n        vertical-align: top;\n    }\n\n    .dataframe thead th {\n        text-align: right;\n    }\n</style>\n<table border=\"1\" class=\"dataframe\">\n  <thead>\n    <tr style=\"text-align: right;\">\n      <th></th>\n      <th>df$x</th>\n      <th>df$y</th>\n      <th>z</th>\n    </tr>\n  </thead>\n  <tbody>\n    <tr>\n      <th>0</th>\n      <td>1</td>\n      <td>2</td>\n      <td>1</td>\n    </tr>\n    <tr>\n      <th>1</th>\n      <td>1</td>\n      <td>2</td>\n      <td>2</td>\n    </tr>\n    <tr>\n      <th>2</th>\n      <td>1</td>\n      <td>2</td>\n      <td>3</td>\n    </tr>\n    <tr>\n      <th>3</th>\n      <td>2</td>\n      <td>1</td>\n      <td>1</td>\n    </tr>\n    <tr>\n      <th>4</th>\n      <td>2</td>\n      <td>1</td>\n      <td>2</td>\n    </tr>\n    <tr>\n      <th>5</th>\n      <td>2</td>\n      <td>1</td>\n      <td>3</td>\n    </tr>\n  </tbody>\n</table>\n</div>"
     },
     "metadata": {},
     "execution_count": 4
    }
   ],
   "source": [
    "expand_grid(df=tibble(x=[1,2], y=c(2, 1)), z=[1,2,3])"
   ]
  },
  {
   "cell_type": "code",
   "execution_count": 5,
   "id": "super-champagne",
   "metadata": {
    "execution": {
     "iopub.execute_input": "2021-04-17T00:52:31.886225Z",
     "iopub.status.busy": "2021-04-17T00:52:31.885466Z",
     "iopub.status.idle": "2021-04-17T00:52:31.910403Z",
     "shell.execute_reply": "2021-04-17T00:52:31.910937Z"
    }
   },
   "outputs": [
    {
     "output_type": "execute_result",
     "data": {
      "text/plain": [
       "   x1$a  x1$b  x2$a  x2$b\n",
       "0     1     3     5     7\n",
       "1     1     3     6     8\n",
       "2     2     4     5     7\n",
       "3     2     4     6     8"
      ],
      "text/html": "<div>\n<style scoped>\n    .dataframe tbody tr th:only-of-type {\n        vertical-align: middle;\n    }\n\n    .dataframe tbody tr th {\n        vertical-align: top;\n    }\n\n    .dataframe thead th {\n        text-align: right;\n    }\n</style>\n<table border=\"1\" class=\"dataframe\">\n  <thead>\n    <tr style=\"text-align: right;\">\n      <th></th>\n      <th>x1$a</th>\n      <th>x1$b</th>\n      <th>x2$a</th>\n      <th>x2$b</th>\n    </tr>\n  </thead>\n  <tbody>\n    <tr>\n      <th>0</th>\n      <td>1</td>\n      <td>3</td>\n      <td>5</td>\n      <td>7</td>\n    </tr>\n    <tr>\n      <th>1</th>\n      <td>1</td>\n      <td>3</td>\n      <td>6</td>\n      <td>8</td>\n    </tr>\n    <tr>\n      <th>2</th>\n      <td>2</td>\n      <td>4</td>\n      <td>5</td>\n      <td>7</td>\n    </tr>\n    <tr>\n      <th>3</th>\n      <td>2</td>\n      <td>4</td>\n      <td>6</td>\n      <td>8</td>\n    </tr>\n  </tbody>\n</table>\n</div>"
     },
     "metadata": {},
     "execution_count": 5
    }
   ],
   "source": [
    "expand_grid(x1=tibble(a=[1,2], b=[3,4]), x2=tibble(a=[5,6], b=[7,8]))"
   ]
  },
  {
   "cell_type": "code",
   "execution_count": null,
   "id": "respiratory-thesis",
   "metadata": {},
   "outputs": [],
   "source": []
  }
 ],
 "metadata": {
  "kernelspec": {
   "display_name": "Python 3",
   "language": "python",
   "name": "python3"
  },
  "language_info": {
   "codemirror_mode": {
    "name": "ipython",
    "version": 3
   },
   "file_extension": ".py",
   "mimetype": "text/x-python",
   "name": "python",
   "nbconvert_exporter": "python",
   "pygments_lexer": "ipython3",
   "version": "3.7.8"
  }
 },
 "nbformat": 4,
 "nbformat_minor": 5
}