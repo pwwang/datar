{
 "cells": [
  {
   "cell_type": "code",
   "execution_count": 1,
   "id": "respiratory-oriental",
   "metadata": {
    "execution": {
     "iopub.execute_input": "2021-07-16T22:28:02.594424Z",
     "iopub.status.busy": "2021-07-16T22:28:02.593842Z",
     "iopub.status.idle": "2021-07-16T22:28:03.465029Z",
     "shell.execute_reply": "2021-07-16T22:28:03.465435Z"
    }
   },
   "outputs": [
    {
     "data": {
      "text/html": [
       "<div style=\"text-align: right; text-style: italic\">Try this notebook on <a target=\"_blank\" href=\"https://mybinder.org/v2/gh/pwwang/datar/dev?filepath=docs%2Fnotebooks%2Fexpand_grid.ipynb\">binder</a>.</div>"
      ],
      "text/plain": [
       "<IPython.core.display.HTML object>"
      ]
     },
     "metadata": {},
     "output_type": "display_data"
    },
    {
     "data": {
      "text/markdown": [
       "### <div style=\"background-color: #EEE; padding: 5px 0 8px 0\">★ expand_grid</div>"
      ],
      "text/plain": [
       "<IPython.core.display.Markdown object>"
      ]
     },
     "metadata": {},
     "output_type": "display_data"
    },
    {
     "data": {
      "text/markdown": [
       "##### Create a tibble from all combinations of inputs\n",
       "\n",
       "##### Args:\n",
       "&emsp;&emsp;`*args`: and  \n",
       "&emsp;&emsp;`**kwargs`: name-value pairs.  \n",
       "&emsp;&emsp;&emsp;&emsp;For `*args`, names will be inferred from the values and if failed,  \n",
       "&emsp;&emsp;&emsp;&emsp;`_Var0`, `_Var1`, etc will be used.  \n",
       "\n",
       "&emsp;&emsp;`_name_repair`: treatment of problematic column names:  \n",
       "&emsp;&emsp;&emsp;&emsp;- \"minimal\": No name repair or checks, beyond basic existence,\n",
       "\n",
       "&emsp;&emsp;&emsp;&emsp;- \"unique\": Make sure names are unique and not empty,\n",
       "\n",
       "&emsp;&emsp;&emsp;&emsp;- \"check_unique\": (default value), no name repair,\n",
       "&emsp;&emsp;&emsp;&emsp;&emsp;&emsp;but check they are unique,  \n",
       "\n",
       "&emsp;&emsp;&emsp;&emsp;- \"universal\": Make the names unique and syntactic\n",
       "\n",
       "&emsp;&emsp;&emsp;&emsp;- a function: apply custom name repair\n",
       "\n",
       "##### Returns:\n",
       "&emsp;&emsp;A data frame with one column for each input in `*args` and `**kwargs`.  \n",
       "&emsp;&emsp;The output will have one row for each combination of the inputs,  \n",
       "&emsp;&emsp;i.e. the size be equal to the product of the sizes of the inputs.  \n",
       "&emsp;&emsp;This implies that if any input has length 0, the output will have  \n",
       "&emsp;&emsp;zero rows.  \n"
      ],
      "text/plain": [
       "<IPython.core.display.Markdown object>"
      ]
     },
     "metadata": {},
     "output_type": "display_data"
    }
   ],
   "source": [
    "# https://tidyr.tidyverse.org/reference/expand_grid.html\n",
    "%run nb_helpers.py\n",
    "\n",
    "from datar.all import *\n",
    "\n",
    "nb_header(expand_grid)"
   ]
  },
  {
   "cell_type": "code",
   "execution_count": 2,
   "id": "driven-cornwall",
   "metadata": {
    "execution": {
     "iopub.execute_input": "2021-07-16T22:28:03.507985Z",
     "iopub.status.busy": "2021-07-16T22:28:03.507421Z",
     "iopub.status.idle": "2021-07-16T22:28:03.690295Z",
     "shell.execute_reply": "2021-07-16T22:28:03.690760Z"
    }
   },
   "outputs": [
    {
     "data": {
      "text/html": [
       "<div>\n",
       "<style scoped>\n",
       "    .dataframe tbody tr th:only-of-type {\n",
       "        vertical-align: middle;\n",
       "    }\n",
       "\n",
       "    .dataframe tbody tr th {\n",
       "        vertical-align: top;\n",
       "    }\n",
       "\n",
       "    .dataframe thead th {\n",
       "        text-align: right;\n",
       "    }\n",
       "</style>\n",
       "<table border=\"1\" class=\"dataframe\">\n",
       "  <thead>\n",
       "    <tr style=\"text-align: right;\">\n",
       "      <th></th>\n",
       "      <th>x</th>\n",
       "      <th>y</th>\n",
       "    </tr>\n",
       "  </thead>\n",
       "  <tbody>\n",
       "    <tr>\n",
       "      <th style=\"font-style: italic;\" ></th>\n",
       "      <td style=\"font-style: italic;\" >&lt;int64&gt;</td>\n",
       "      <td style=\"font-style: italic;\" >&lt;int64&gt;</td>\n",
       "    </tr>\n",
       "    <tr>\n",
       "      <th>0</th>\n",
       "      <td>1</td>\n",
       "      <td>1</td>\n",
       "    </tr>\n",
       "    <tr>\n",
       "      <th>1</th>\n",
       "      <td>1</td>\n",
       "      <td>2</td>\n",
       "    </tr>\n",
       "    <tr>\n",
       "      <th>2</th>\n",
       "      <td>2</td>\n",
       "      <td>1</td>\n",
       "    </tr>\n",
       "    <tr>\n",
       "      <th>3</th>\n",
       "      <td>2</td>\n",
       "      <td>2</td>\n",
       "    </tr>\n",
       "    <tr>\n",
       "      <th>4</th>\n",
       "      <td>3</td>\n",
       "      <td>1</td>\n",
       "    </tr>\n",
       "    <tr>\n",
       "      <th>5</th>\n",
       "      <td>3</td>\n",
       "      <td>2</td>\n",
       "    </tr>\n",
       "  </tbody>\n",
       "</table>\n",
       "</div>\n"
      ],
      "text/plain": [
       "        x       y\n",
       "  <int64> <int64>\n",
       "0       1       1\n",
       "1       1       2\n",
       "2       2       1\n",
       "3       2       2\n",
       "4       3       1\n",
       "5       3       2"
      ]
     },
     "execution_count": 2,
     "metadata": {},
     "output_type": "execute_result"
    }
   ],
   "source": [
    "expand_grid(x=seq(1,3), y=seq(1,2))"
   ]
  },
  {
   "cell_type": "code",
   "execution_count": 3,
   "id": "structural-assembly",
   "metadata": {
    "execution": {
     "iopub.execute_input": "2021-07-16T22:28:03.723628Z",
     "iopub.status.busy": "2021-07-16T22:28:03.722356Z",
     "iopub.status.idle": "2021-07-16T22:28:03.731096Z",
     "shell.execute_reply": "2021-07-16T22:28:03.731540Z"
    }
   },
   "outputs": [
    {
     "data": {
      "text/html": [
       "<div>\n",
       "<style scoped>\n",
       "    .dataframe tbody tr th:only-of-type {\n",
       "        vertical-align: middle;\n",
       "    }\n",
       "\n",
       "    .dataframe tbody tr th {\n",
       "        vertical-align: top;\n",
       "    }\n",
       "\n",
       "    .dataframe thead th {\n",
       "        text-align: right;\n",
       "    }\n",
       "</style>\n",
       "<table border=\"1\" class=\"dataframe\">\n",
       "  <thead>\n",
       "    <tr style=\"text-align: right;\">\n",
       "      <th></th>\n",
       "      <th>l1</th>\n",
       "      <th>l2</th>\n",
       "    </tr>\n",
       "  </thead>\n",
       "  <tbody>\n",
       "    <tr>\n",
       "      <th style=\"font-style: italic;\" ></th>\n",
       "      <td style=\"font-style: italic;\" >&lt;object&gt;</td>\n",
       "      <td style=\"font-style: italic;\" >&lt;object&gt;</td>\n",
       "    </tr>\n",
       "    <tr>\n",
       "      <th>0</th>\n",
       "      <td>a</td>\n",
       "      <td>A</td>\n",
       "    </tr>\n",
       "    <tr>\n",
       "      <th>1</th>\n",
       "      <td>a</td>\n",
       "      <td>B</td>\n",
       "    </tr>\n",
       "    <tr>\n",
       "      <th>2</th>\n",
       "      <td>a</td>\n",
       "      <td>C</td>\n",
       "    </tr>\n",
       "    <tr>\n",
       "      <th>3</th>\n",
       "      <td>a</td>\n",
       "      <td>D</td>\n",
       "    </tr>\n",
       "    <tr>\n",
       "      <th>...</th>\n",
       "      <td>...</td>\n",
       "      <td>...</td>\n",
       "    </tr>\n",
       "    <tr>\n",
       "      <th>4</th>\n",
       "      <td>a</td>\n",
       "      <td>E</td>\n",
       "    </tr>\n",
       "    <tr>\n",
       "      <th>671</th>\n",
       "      <td>z</td>\n",
       "      <td>V</td>\n",
       "    </tr>\n",
       "    <tr>\n",
       "      <th>672</th>\n",
       "      <td>z</td>\n",
       "      <td>W</td>\n",
       "    </tr>\n",
       "    <tr>\n",
       "      <th>673</th>\n",
       "      <td>z</td>\n",
       "      <td>X</td>\n",
       "    </tr>\n",
       "    <tr>\n",
       "      <th>674</th>\n",
       "      <td>z</td>\n",
       "      <td>Y</td>\n",
       "    </tr>\n",
       "    <tr>\n",
       "      <th>675</th>\n",
       "      <td>z</td>\n",
       "      <td>Z</td>\n",
       "    </tr>\n",
       "  </tbody>\n",
       "</table>\n",
       "<p>676 rows × 2 columns</p>\n",
       "</div>\n"
      ],
      "text/plain": [
       "          l1       l2\n",
       "    <object> <object>\n",
       "0          a        A\n",
       "1          a        B\n",
       "2          a        C\n",
       "3          a        D\n",
       "..       ...      ...\n",
       "4          a        E\n",
       "671        z        V\n",
       "672        z        W\n",
       "673        z        X\n",
       "674        z        Y\n",
       "675        z        Z\n",
       "\n",
       "[676 rows x 2 columns]"
      ]
     },
     "execution_count": 3,
     "metadata": {},
     "output_type": "execute_result"
    }
   ],
   "source": [
    "expand_grid(l1=letters, l2=LETTERS)"
   ]
  },
  {
   "cell_type": "code",
   "execution_count": 4,
   "id": "nervous-sterling",
   "metadata": {
    "execution": {
     "iopub.execute_input": "2021-07-16T22:28:03.760022Z",
     "iopub.status.busy": "2021-07-16T22:28:03.759343Z",
     "iopub.status.idle": "2021-07-16T22:28:03.798135Z",
     "shell.execute_reply": "2021-07-16T22:28:03.798629Z"
    }
   },
   "outputs": [
    {
     "data": {
      "text/html": [
       "<div>\n",
       "<style scoped>\n",
       "    .dataframe tbody tr th:only-of-type {\n",
       "        vertical-align: middle;\n",
       "    }\n",
       "\n",
       "    .dataframe tbody tr th {\n",
       "        vertical-align: top;\n",
       "    }\n",
       "\n",
       "    .dataframe thead th {\n",
       "        text-align: right;\n",
       "    }\n",
       "</style>\n",
       "<table border=\"1\" class=\"dataframe\">\n",
       "  <thead>\n",
       "    <tr style=\"text-align: right;\">\n",
       "      <th></th>\n",
       "      <th>df$x</th>\n",
       "      <th>df$y</th>\n",
       "      <th>z</th>\n",
       "    </tr>\n",
       "  </thead>\n",
       "  <tbody>\n",
       "    <tr>\n",
       "      <th style=\"font-style: italic;\" ></th>\n",
       "      <td style=\"font-style: italic;\" >&lt;int64&gt;</td>\n",
       "      <td style=\"font-style: italic;\" >&lt;int64&gt;</td>\n",
       "      <td style=\"font-style: italic;\" >&lt;int64&gt;</td>\n",
       "    </tr>\n",
       "    <tr>\n",
       "      <th>0</th>\n",
       "      <td>1</td>\n",
       "      <td>2</td>\n",
       "      <td>1</td>\n",
       "    </tr>\n",
       "    <tr>\n",
       "      <th>1</th>\n",
       "      <td>1</td>\n",
       "      <td>2</td>\n",
       "      <td>2</td>\n",
       "    </tr>\n",
       "    <tr>\n",
       "      <th>2</th>\n",
       "      <td>1</td>\n",
       "      <td>2</td>\n",
       "      <td>3</td>\n",
       "    </tr>\n",
       "    <tr>\n",
       "      <th>3</th>\n",
       "      <td>2</td>\n",
       "      <td>1</td>\n",
       "      <td>1</td>\n",
       "    </tr>\n",
       "    <tr>\n",
       "      <th>4</th>\n",
       "      <td>2</td>\n",
       "      <td>1</td>\n",
       "      <td>2</td>\n",
       "    </tr>\n",
       "    <tr>\n",
       "      <th>5</th>\n",
       "      <td>2</td>\n",
       "      <td>1</td>\n",
       "      <td>3</td>\n",
       "    </tr>\n",
       "  </tbody>\n",
       "</table>\n",
       "</div>\n"
      ],
      "text/plain": [
       "     df$x    df$y       z\n",
       "  <int64> <int64> <int64>\n",
       "0       1       2       1\n",
       "1       1       2       2\n",
       "2       1       2       3\n",
       "3       2       1       1\n",
       "4       2       1       2\n",
       "5       2       1       3"
      ]
     },
     "execution_count": 4,
     "metadata": {},
     "output_type": "execute_result"
    }
   ],
   "source": [
    "expand_grid(df=tibble(x=[1,2], y=c(2, 1)), z=[1,2,3])"
   ]
  },
  {
   "cell_type": "code",
   "execution_count": 5,
   "id": "super-champagne",
   "metadata": {
    "execution": {
     "iopub.execute_input": "2021-07-16T22:28:03.824682Z",
     "iopub.status.busy": "2021-07-16T22:28:03.823796Z",
     "iopub.status.idle": "2021-07-16T22:28:03.888499Z",
     "shell.execute_reply": "2021-07-16T22:28:03.889119Z"
    }
   },
   "outputs": [
    {
     "data": {
      "text/html": [
       "<div>\n",
       "<style scoped>\n",
       "    .dataframe tbody tr th:only-of-type {\n",
       "        vertical-align: middle;\n",
       "    }\n",
       "\n",
       "    .dataframe tbody tr th {\n",
       "        vertical-align: top;\n",
       "    }\n",
       "\n",
       "    .dataframe thead th {\n",
       "        text-align: right;\n",
       "    }\n",
       "</style>\n",
       "<table border=\"1\" class=\"dataframe\">\n",
       "  <thead>\n",
       "    <tr style=\"text-align: right;\">\n",
       "      <th></th>\n",
       "      <th>x1$a</th>\n",
       "      <th>x1$b</th>\n",
       "      <th>x2$a</th>\n",
       "      <th>x2$b</th>\n",
       "    </tr>\n",
       "  </thead>\n",
       "  <tbody>\n",
       "    <tr>\n",
       "      <th style=\"font-style: italic;\" ></th>\n",
       "      <td style=\"font-style: italic;\" >&lt;int64&gt;</td>\n",
       "      <td style=\"font-style: italic;\" >&lt;int64&gt;</td>\n",
       "      <td style=\"font-style: italic;\" >&lt;int64&gt;</td>\n",
       "      <td style=\"font-style: italic;\" >&lt;int64&gt;</td>\n",
       "    </tr>\n",
       "    <tr>\n",
       "      <th>0</th>\n",
       "      <td>1</td>\n",
       "      <td>3</td>\n",
       "      <td>5</td>\n",
       "      <td>7</td>\n",
       "    </tr>\n",
       "    <tr>\n",
       "      <th>1</th>\n",
       "      <td>1</td>\n",
       "      <td>3</td>\n",
       "      <td>6</td>\n",
       "      <td>8</td>\n",
       "    </tr>\n",
       "    <tr>\n",
       "      <th>2</th>\n",
       "      <td>2</td>\n",
       "      <td>4</td>\n",
       "      <td>5</td>\n",
       "      <td>7</td>\n",
       "    </tr>\n",
       "    <tr>\n",
       "      <th>3</th>\n",
       "      <td>2</td>\n",
       "      <td>4</td>\n",
       "      <td>6</td>\n",
       "      <td>8</td>\n",
       "    </tr>\n",
       "  </tbody>\n",
       "</table>\n",
       "</div>\n"
      ],
      "text/plain": [
       "     x1$a    x1$b    x2$a    x2$b\n",
       "  <int64> <int64> <int64> <int64>\n",
       "0       1       3       5       7\n",
       "1       1       3       6       8\n",
       "2       2       4       5       7\n",
       "3       2       4       6       8"
      ]
     },
     "execution_count": 5,
     "metadata": {},
     "output_type": "execute_result"
    }
   ],
   "source": [
    "expand_grid(x1=tibble(a=[1,2], b=[3,4]), x2=tibble(a=[5,6], b=[7,8]))"
   ]
  },
  {
   "cell_type": "code",
   "execution_count": null,
   "id": "respiratory-thesis",
   "metadata": {},
   "outputs": [],
   "source": []
  }
 ],
 "metadata": {
  "kernelspec": {
   "display_name": "Python 3",
   "language": "python",
   "name": "python3"
  },
  "language_info": {
   "codemirror_mode": {
    "name": "ipython",
    "version": 3
   },
   "file_extension": ".py",
   "mimetype": "text/x-python",
   "name": "python",
   "nbconvert_exporter": "python",
   "pygments_lexer": "ipython3",
   "version": "3.9.5"
  }
 },
 "nbformat": 4,
 "nbformat_minor": 5
}
