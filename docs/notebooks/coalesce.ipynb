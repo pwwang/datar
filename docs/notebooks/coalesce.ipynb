{
 "cells": [
  {
   "cell_type": "code",
   "execution_count": 1,
   "id": "applicable-fault",
   "metadata": {
    "execution": {
     "iopub.execute_input": "2021-07-16T22:27:49.903448Z",
     "iopub.status.busy": "2021-07-16T22:27:49.902768Z",
     "iopub.status.idle": "2021-07-16T22:27:50.871433Z",
     "shell.execute_reply": "2021-07-16T22:27:50.871879Z"
    }
   },
   "outputs": [
    {
     "name": "stderr",
     "output_type": "stream",
     "text": [
      "[2021-07-16 15:27:50][datar][WARNING] Builtin name \"min\" has been overriden by datar.\n",
      "[2021-07-16 15:27:50][datar][WARNING] Builtin name \"max\" has been overriden by datar.\n",
      "[2021-07-16 15:27:50][datar][WARNING] Builtin name \"sum\" has been overriden by datar.\n",
      "[2021-07-16 15:27:50][datar][WARNING] Builtin name \"abs\" has been overriden by datar.\n",
      "[2021-07-16 15:27:50][datar][WARNING] Builtin name \"round\" has been overriden by datar.\n",
      "[2021-07-16 15:27:50][datar][WARNING] Builtin name \"all\" has been overriden by datar.\n",
      "[2021-07-16 15:27:50][datar][WARNING] Builtin name \"any\" has been overriden by datar.\n",
      "[2021-07-16 15:27:50][datar][WARNING] Builtin name \"re\" has been overriden by datar.\n",
      "[2021-07-16 15:27:50][datar][WARNING] Builtin name \"filter\" has been overriden by datar.\n",
      "[2021-07-16 15:27:50][datar][WARNING] Builtin name \"slice\" has been overriden by datar.\n"
     ]
    },
    {
     "data": {
      "text/html": [
       "<div style=\"text-align: right; text-style: italic\">Try this notebook on <a target=\"_blank\" href=\"https://mybinder.org/v2/gh/pwwang/datar/93d069f3ca36711fc811c61dcf60e9fc3d1460a5?filepath=docs%2Fnotebooks%2Fcoalesce.ipynb\">binder</a>.</div>"
      ],
      "text/plain": [
       "<IPython.core.display.HTML object>"
      ]
     },
     "metadata": {},
     "output_type": "display_data"
    },
    {
     "data": {
      "text/markdown": [
       "### # coalesce  "
      ],
      "text/plain": [
       "<IPython.core.display.Markdown object>"
      ]
     },
     "metadata": {},
     "output_type": "display_data"
    },
    {
     "data": {
      "text/markdown": [
       "##### Replace missing values\n",
       "\n",
       "https://dplyr.tidyverse.org/reference/coalesce.html  \n",
       "\n",
       "##### Args:\n",
       "&emsp;&emsp;`x`: The vector to replace  \n",
       "&emsp;&emsp;`replace`: The replacement  \n",
       "\n",
       "##### Returns:\n",
       "&emsp;&emsp;A vector the same length as the first argument with missing values  \n",
       "&emsp;&emsp;replaced by the first non-missing value.  \n"
      ],
      "text/plain": [
       "<IPython.core.display.Markdown object>"
      ]
     },
     "metadata": {},
     "output_type": "display_data"
    }
   ],
   "source": [
    "# https://dplyr.tidyverse.org/reference/coalesce.html\n",
    "from datar.datasets import starwars \n",
    "from datar.all import *\n",
    "\n",
    "%run nb_helpers.py\n",
    "nb_header(coalesce)"
   ]
  },
  {
   "cell_type": "code",
   "execution_count": 2,
   "id": "smoking-gilbert",
   "metadata": {
    "execution": {
     "iopub.execute_input": "2021-07-16T22:27:50.894245Z",
     "iopub.status.busy": "2021-07-16T22:27:50.893678Z",
     "iopub.status.idle": "2021-07-16T22:27:51.105408Z",
     "shell.execute_reply": "2021-07-16T22:27:51.103096Z"
    }
   },
   "outputs": [
    {
     "data": {
      "text/plain": [
       "0    5.0\n",
       "1    4.0\n",
       "2    3.0\n",
       "3    0.0\n",
       "4    2.0\n",
       "5    0.0\n",
       "6    1.0\n",
       "7    0.0\n",
       "Name: y, dtype: float64"
      ]
     },
     "execution_count": 1,
     "metadata": {},
     "output_type": "execute_result"
    }
   ],
   "source": [
    "df = tibble(x=[5,4,3,NA,2,NA,1,NA])\n",
    "df >> mutate(y=coalesce(f.x, 0)) >> pull(f.y)"
   ]
  },
  {
   "cell_type": "code",
   "execution_count": 3,
   "id": "intense-liver",
   "metadata": {
    "execution": {
     "iopub.execute_input": "2021-07-16T22:27:51.132360Z",
     "iopub.status.busy": "2021-07-16T22:27:51.131696Z",
     "iopub.status.idle": "2021-07-16T22:27:51.159635Z",
     "shell.execute_reply": "2021-07-16T22:27:51.158647Z"
    }
   },
   "outputs": [
    {
     "data": {
      "text/plain": [
       "0    1.0\n",
       "1    2.0\n",
       "2    3.0\n",
       "3    4.0\n",
       "4    5.0\n",
       "Name: m, dtype: float64"
      ]
     },
     "execution_count": 1,
     "metadata": {},
     "output_type": "execute_result"
    }
   ],
   "source": [
    "df = tibble(\n",
    "    y=[1,2,NA,NA,5],\n",
    "    z=[NA,NA,3,4,5]\n",
    ")\n",
    "df >> mutate(m=coalesce(f.y, f.z)) >> pull(f.m)"
   ]
  }
 ],
 "metadata": {
  "kernelspec": {
   "display_name": "Python 3",
   "language": "python",
   "name": "python3"
  },
  "language_info": {
   "codemirror_mode": {
    "name": "ipython",
    "version": 3
   },
   "file_extension": ".py",
   "mimetype": "text/x-python",
   "name": "python",
   "nbconvert_exporter": "python",
   "pygments_lexer": "ipython3",
   "version": "3.7.8"
  }
 },
 "nbformat": 4,
 "nbformat_minor": 5
}
