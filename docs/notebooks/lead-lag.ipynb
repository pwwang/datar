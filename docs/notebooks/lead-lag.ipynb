{
 "cells": [
  {
   "cell_type": "code",
   "execution_count": 1,
   "id": "framed-grill",
   "metadata": {
    "execution": {
     "iopub.execute_input": "2021-07-16T22:28:15.236681Z",
     "iopub.status.busy": "2021-07-16T22:28:15.235899Z",
     "iopub.status.idle": "2021-07-16T22:28:16.151393Z",
     "shell.execute_reply": "2021-07-16T22:28:16.151807Z"
    }
   },
   "outputs": [
    {
     "data": {
      "text/html": [
       "<div style=\"text-align: right; text-style: italic\">Try this notebook on <a target=\"_blank\" href=\"https://mybinder.org/v2/gh/pwwang/datar/dev?filepath=docs%2Fnotebooks%2Flead-lag.ipynb\">binder</a>.</div>"
      ],
      "text/plain": [
       "<IPython.core.display.HTML object>"
      ]
     },
     "metadata": {},
     "output_type": "display_data"
    },
    {
     "data": {
      "text/markdown": [
       "### <div style=\"background-color: #EEE; padding: 5px 0 8px 0\">★ lead</div>"
      ],
      "text/plain": [
       "<IPython.core.display.Markdown object>"
      ]
     },
     "metadata": {},
     "output_type": "display_data"
    },
    {
     "data": {
      "text/markdown": [
       "##### Find next values in a vector\n",
       "\n",
       "##### Args:\n",
       "&emsp;&emsp;`series`: Vector of values  \n",
       "&emsp;&emsp;`n`: Positive integer of length 1, giving the number of positions to  \n",
       "&emsp;&emsp;&emsp;&emsp;lead or lag by  \n",
       "\n",
       "&emsp;&emsp;`default`: Value used for non-existent rows.  \n",
       "&emsp;&emsp;`order_by`: Override the default ordering to use another vector or column  \n",
       "\n",
       "##### Returns:\n",
       "&emsp;&emsp;Lead or lag values with default values filled to series.  \n"
      ],
      "text/plain": [
       "<IPython.core.display.Markdown object>"
      ]
     },
     "metadata": {},
     "output_type": "display_data"
    },
    {
     "data": {
      "text/markdown": [
       "### <div style=\"background-color: #EEE; padding: 5px 0 8px 0\">★ lag</div>"
      ],
      "text/plain": [
       "<IPython.core.display.Markdown object>"
      ]
     },
     "metadata": {},
     "output_type": "display_data"
    },
    {
     "data": {
      "text/markdown": [
       "##### Find previous values in a vector\n",
       "\n",
       "See lead()  \n"
      ],
      "text/plain": [
       "<IPython.core.display.Markdown object>"
      ]
     },
     "metadata": {},
     "output_type": "display_data"
    }
   ],
   "source": [
    "# https://dplyr.tidyverse.org/reference/lead-lag.html\n",
    "%run nb_helpers.py\n",
    "\n",
    "from datar.all import *\n",
    "\n",
    "nb_header(lead, lag, book='lead-lag')"
   ]
  },
  {
   "cell_type": "code",
   "execution_count": 2,
   "id": "interior-union",
   "metadata": {
    "execution": {
     "iopub.execute_input": "2021-07-16T22:28:16.159285Z",
     "iopub.status.busy": "2021-07-16T22:28:16.158685Z",
     "iopub.status.idle": "2021-07-16T22:28:16.162326Z",
     "shell.execute_reply": "2021-07-16T22:28:16.162843Z"
    }
   },
   "outputs": [
    {
     "data": {
      "text/plain": [
       "array([nan,  1.,  2.,  3.,  4.])"
      ]
     },
     "execution_count": 2,
     "metadata": {},
     "output_type": "execute_result"
    }
   ],
   "source": [
    "x = [1,2,3,4,5]\n",
    "\n",
    "lag(x)"
   ]
  },
  {
   "cell_type": "code",
   "execution_count": 3,
   "id": "adopted-review",
   "metadata": {
    "execution": {
     "iopub.execute_input": "2021-07-16T22:28:16.170772Z",
     "iopub.status.busy": "2021-07-16T22:28:16.169913Z",
     "iopub.status.idle": "2021-07-16T22:28:16.173717Z",
     "shell.execute_reply": "2021-07-16T22:28:16.174185Z"
    }
   },
   "outputs": [
    {
     "data": {
      "text/plain": [
       "array([ 2.,  3.,  4.,  5., nan])"
      ]
     },
     "execution_count": 3,
     "metadata": {},
     "output_type": "execute_result"
    }
   ],
   "source": [
    "lead(x)"
   ]
  },
  {
   "cell_type": "code",
   "execution_count": 4,
   "id": "precious-generator",
   "metadata": {
    "execution": {
     "iopub.execute_input": "2021-07-16T22:28:16.184680Z",
     "iopub.status.busy": "2021-07-16T22:28:16.183995Z",
     "iopub.status.idle": "2021-07-16T22:28:16.679235Z",
     "shell.execute_reply": "2021-07-16T22:28:16.679737Z"
    }
   },
   "outputs": [
    {
     "data": {
      "text/html": [
       "<div>\n",
       "<style scoped>\n",
       "    .dataframe tbody tr th:only-of-type {\n",
       "        vertical-align: middle;\n",
       "    }\n",
       "\n",
       "    .dataframe tbody tr th {\n",
       "        vertical-align: top;\n",
       "    }\n",
       "\n",
       "    .dataframe thead th {\n",
       "        text-align: right;\n",
       "    }\n",
       "</style>\n",
       "<table border=\"1\" class=\"dataframe\">\n",
       "  <thead>\n",
       "    <tr style=\"text-align: right;\">\n",
       "      <th></th>\n",
       "      <th>behind</th>\n",
       "      <th>x</th>\n",
       "      <th>ahead</th>\n",
       "    </tr>\n",
       "  </thead>\n",
       "  <tbody>\n",
       "    <tr>\n",
       "      <th style=\"font-style: italic;\" ></th>\n",
       "      <td style=\"font-style: italic;\" >&lt;float64&gt;</td>\n",
       "      <td style=\"font-style: italic;\" >&lt;int64&gt;</td>\n",
       "      <td style=\"font-style: italic;\" >&lt;float64&gt;</td>\n",
       "    </tr>\n",
       "    <tr>\n",
       "      <th>0</th>\n",
       "      <td>NaN</td>\n",
       "      <td>1</td>\n",
       "      <td>2.0</td>\n",
       "    </tr>\n",
       "    <tr>\n",
       "      <th>1</th>\n",
       "      <td>1.0</td>\n",
       "      <td>2</td>\n",
       "      <td>3.0</td>\n",
       "    </tr>\n",
       "    <tr>\n",
       "      <th>2</th>\n",
       "      <td>2.0</td>\n",
       "      <td>3</td>\n",
       "      <td>4.0</td>\n",
       "    </tr>\n",
       "    <tr>\n",
       "      <th>3</th>\n",
       "      <td>3.0</td>\n",
       "      <td>4</td>\n",
       "      <td>5.0</td>\n",
       "    </tr>\n",
       "    <tr>\n",
       "      <th>4</th>\n",
       "      <td>4.0</td>\n",
       "      <td>5</td>\n",
       "      <td>NaN</td>\n",
       "    </tr>\n",
       "  </tbody>\n",
       "</table>\n",
       "</div>\n"
      ],
      "text/plain": [
       "     behind       x     ahead\n",
       "  <float64> <int64> <float64>\n",
       "0       NaN       1       2.0\n",
       "1       1.0       2       3.0\n",
       "2       2.0       3       4.0\n",
       "3       3.0       4       5.0\n",
       "4       4.0       5       NaN"
      ]
     },
     "execution_count": 4,
     "metadata": {},
     "output_type": "execute_result"
    }
   ],
   "source": [
    "tibble(behind=lag(x), x=x, ahead=lead(x))"
   ]
  },
  {
   "cell_type": "code",
   "execution_count": 5,
   "id": "associate-heading",
   "metadata": {
    "execution": {
     "iopub.execute_input": "2021-07-16T22:28:16.705380Z",
     "iopub.status.busy": "2021-07-16T22:28:16.703301Z",
     "iopub.status.idle": "2021-07-16T22:28:16.715171Z",
     "shell.execute_reply": "2021-07-16T22:28:16.715814Z"
    }
   },
   "outputs": [
    {
     "data": {
      "text/plain": [
       "array([nan,  1.,  2.,  3.,  4.])"
      ]
     },
     "execution_count": 5,
     "metadata": {},
     "output_type": "execute_result"
    }
   ],
   "source": [
    "lag(x, n=1)"
   ]
  },
  {
   "cell_type": "code",
   "execution_count": 6,
   "id": "pretty-greeting",
   "metadata": {
    "execution": {
     "iopub.execute_input": "2021-07-16T22:28:16.728204Z",
     "iopub.status.busy": "2021-07-16T22:28:16.727629Z",
     "iopub.status.idle": "2021-07-16T22:28:16.740330Z",
     "shell.execute_reply": "2021-07-16T22:28:16.740767Z"
    }
   },
   "outputs": [
    {
     "data": {
      "text/plain": [
       "array([nan, nan,  1.,  2.,  3.])"
      ]
     },
     "execution_count": 6,
     "metadata": {},
     "output_type": "execute_result"
    }
   ],
   "source": [
    "lag(x, n=2)"
   ]
  },
  {
   "cell_type": "code",
   "execution_count": 7,
   "id": "excessive-corrections",
   "metadata": {
    "execution": {
     "iopub.execute_input": "2021-07-16T22:28:16.753161Z",
     "iopub.status.busy": "2021-07-16T22:28:16.751770Z",
     "iopub.status.idle": "2021-07-16T22:28:16.765917Z",
     "shell.execute_reply": "2021-07-16T22:28:16.766714Z"
    }
   },
   "outputs": [
    {
     "data": {
      "text/plain": [
       "array([ 2.,  3.,  4.,  5., nan])"
      ]
     },
     "execution_count": 7,
     "metadata": {},
     "output_type": "execute_result"
    }
   ],
   "source": [
    "lead(x, n=1)"
   ]
  },
  {
   "cell_type": "code",
   "execution_count": 8,
   "id": "ambient-auckland",
   "metadata": {
    "execution": {
     "iopub.execute_input": "2021-07-16T22:28:16.780643Z",
     "iopub.status.busy": "2021-07-16T22:28:16.779113Z",
     "iopub.status.idle": "2021-07-16T22:28:16.792480Z",
     "shell.execute_reply": "2021-07-16T22:28:16.792914Z"
    }
   },
   "outputs": [
    {
     "data": {
      "text/plain": [
       "array([ 3.,  4.,  5., nan, nan])"
      ]
     },
     "execution_count": 8,
     "metadata": {},
     "output_type": "execute_result"
    }
   ],
   "source": [
    "lead(x, n=2)"
   ]
  },
  {
   "cell_type": "code",
   "execution_count": 9,
   "id": "lined-arnold",
   "metadata": {
    "execution": {
     "iopub.execute_input": "2021-07-16T22:28:16.803720Z",
     "iopub.status.busy": "2021-07-16T22:28:16.802831Z",
     "iopub.status.idle": "2021-07-16T22:28:16.810039Z",
     "shell.execute_reply": "2021-07-16T22:28:16.810456Z"
    }
   },
   "outputs": [
    {
     "data": {
      "text/plain": [
       "array([0, 1, 2, 3, 4])"
      ]
     },
     "execution_count": 9,
     "metadata": {},
     "output_type": "execute_result"
    }
   ],
   "source": [
    "lag(x, default=0)"
   ]
  },
  {
   "cell_type": "code",
   "execution_count": 10,
   "id": "academic-directive",
   "metadata": {
    "execution": {
     "iopub.execute_input": "2021-07-16T22:28:16.823358Z",
     "iopub.status.busy": "2021-07-16T22:28:16.822752Z",
     "iopub.status.idle": "2021-07-16T22:28:16.834898Z",
     "shell.execute_reply": "2021-07-16T22:28:16.835571Z"
    }
   },
   "outputs": [
    {
     "data": {
      "text/plain": [
       "array([2, 3, 4, 5, 6])"
      ]
     },
     "execution_count": 10,
     "metadata": {},
     "output_type": "execute_result"
    }
   ],
   "source": [
    "lead(x, default=6)"
   ]
  },
  {
   "cell_type": "code",
   "execution_count": 11,
   "id": "responsible-complement",
   "metadata": {
    "execution": {
     "iopub.execute_input": "2021-07-16T22:28:16.868990Z",
     "iopub.status.busy": "2021-07-16T22:28:16.868135Z",
     "iopub.status.idle": "2021-07-16T22:28:17.102872Z",
     "shell.execute_reply": "2021-07-16T22:28:17.103273Z"
    }
   },
   "outputs": [
    {
     "data": {
      "text/html": [
       "<div>\n",
       "<style scoped>\n",
       "    .dataframe tbody tr th:only-of-type {\n",
       "        vertical-align: middle;\n",
       "    }\n",
       "\n",
       "    .dataframe tbody tr th {\n",
       "        vertical-align: top;\n",
       "    }\n",
       "\n",
       "    .dataframe thead th {\n",
       "        text-align: right;\n",
       "    }\n",
       "</style>\n",
       "<table border=\"1\" class=\"dataframe\">\n",
       "  <thead>\n",
       "    <tr style=\"text-align: right;\">\n",
       "      <th></th>\n",
       "      <th>year</th>\n",
       "      <th>value</th>\n",
       "      <th>previous_year_value</th>\n",
       "    </tr>\n",
       "  </thead>\n",
       "  <tbody>\n",
       "    <tr>\n",
       "      <th style=\"font-style: italic;\" ></th>\n",
       "      <td style=\"font-style: italic;\" >&lt;int64&gt;</td>\n",
       "      <td style=\"font-style: italic;\" >&lt;int64&gt;</td>\n",
       "      <td style=\"font-style: italic;\" >&lt;float64&gt;</td>\n",
       "    </tr>\n",
       "    <tr>\n",
       "      <th>0</th>\n",
       "      <td>2000</td>\n",
       "      <td>0</td>\n",
       "      <td>1.0</td>\n",
       "    </tr>\n",
       "    <tr>\n",
       "      <th>1</th>\n",
       "      <td>2001</td>\n",
       "      <td>1</td>\n",
       "      <td>4.0</td>\n",
       "    </tr>\n",
       "    <tr>\n",
       "      <th>2</th>\n",
       "      <td>2002</td>\n",
       "      <td>4</td>\n",
       "      <td>16.0</td>\n",
       "    </tr>\n",
       "    <tr>\n",
       "      <th>3</th>\n",
       "      <td>2003</td>\n",
       "      <td>9</td>\n",
       "      <td>25.0</td>\n",
       "    </tr>\n",
       "    <tr>\n",
       "      <th>4</th>\n",
       "      <td>2004</td>\n",
       "      <td>16</td>\n",
       "      <td>NaN</td>\n",
       "    </tr>\n",
       "    <tr>\n",
       "      <th>5</th>\n",
       "      <td>2005</td>\n",
       "      <td>25</td>\n",
       "      <td>0.0</td>\n",
       "    </tr>\n",
       "  </tbody>\n",
       "</table>\n",
       "</div>\n"
      ],
      "text/plain": [
       "     year   value  previous_year_value\n",
       "  <int64> <int64>            <float64>\n",
       "0    2000       0                  1.0\n",
       "1    2001       1                  4.0\n",
       "2    2002       4                 16.0\n",
       "3    2003       9                 25.0\n",
       "4    2004      16                  NaN\n",
       "5    2005      25                  0.0"
      ]
     },
     "execution_count": 11,
     "metadata": {},
     "output_type": "execute_result"
    }
   ],
   "source": [
    "scrambled = slice_sample(\n",
    "    tibble(year=[2000, 2001, 2002, 2003, 2004, 2005], \n",
    "           value=[a**2 for a in range(6)]), \n",
    "    prop=1\n",
    ") \n",
    "\n",
    "scrambled >> mutate(previous_year_value = lag(f.value)) >> arrange(f.year)"
   ]
  },
  {
   "cell_type": "code",
   "execution_count": 12,
   "id": "driven-criminal",
   "metadata": {
    "execution": {
     "iopub.execute_input": "2021-07-16T22:28:17.171662Z",
     "iopub.status.busy": "2021-07-16T22:28:17.170605Z",
     "iopub.status.idle": "2021-07-16T22:28:17.197979Z",
     "shell.execute_reply": "2021-07-16T22:28:17.196133Z"
    }
   },
   "outputs": [
    {
     "data": {
      "text/html": [
       "<div>\n",
       "<style scoped>\n",
       "    .dataframe tbody tr th:only-of-type {\n",
       "        vertical-align: middle;\n",
       "    }\n",
       "\n",
       "    .dataframe tbody tr th {\n",
       "        vertical-align: top;\n",
       "    }\n",
       "\n",
       "    .dataframe thead th {\n",
       "        text-align: right;\n",
       "    }\n",
       "</style>\n",
       "<table border=\"1\" class=\"dataframe\">\n",
       "  <thead>\n",
       "    <tr style=\"text-align: right;\">\n",
       "      <th></th>\n",
       "      <th>year</th>\n",
       "      <th>value</th>\n",
       "      <th>previous_year_value</th>\n",
       "    </tr>\n",
       "  </thead>\n",
       "  <tbody>\n",
       "    <tr>\n",
       "      <th style=\"font-style: italic;\" ></th>\n",
       "      <td style=\"font-style: italic;\" >&lt;int64&gt;</td>\n",
       "      <td style=\"font-style: italic;\" >&lt;int64&gt;</td>\n",
       "      <td style=\"font-style: italic;\" >&lt;float64&gt;</td>\n",
       "    </tr>\n",
       "    <tr>\n",
       "      <th>0</th>\n",
       "      <td>2000</td>\n",
       "      <td>0</td>\n",
       "      <td>NaN</td>\n",
       "    </tr>\n",
       "    <tr>\n",
       "      <th>1</th>\n",
       "      <td>2001</td>\n",
       "      <td>1</td>\n",
       "      <td>0.0</td>\n",
       "    </tr>\n",
       "    <tr>\n",
       "      <th>2</th>\n",
       "      <td>2002</td>\n",
       "      <td>4</td>\n",
       "      <td>1.0</td>\n",
       "    </tr>\n",
       "    <tr>\n",
       "      <th>3</th>\n",
       "      <td>2003</td>\n",
       "      <td>9</td>\n",
       "      <td>4.0</td>\n",
       "    </tr>\n",
       "    <tr>\n",
       "      <th>4</th>\n",
       "      <td>2004</td>\n",
       "      <td>16</td>\n",
       "      <td>9.0</td>\n",
       "    </tr>\n",
       "    <tr>\n",
       "      <th>5</th>\n",
       "      <td>2005</td>\n",
       "      <td>25</td>\n",
       "      <td>16.0</td>\n",
       "    </tr>\n",
       "  </tbody>\n",
       "</table>\n",
       "</div>\n"
      ],
      "text/plain": [
       "     year   value  previous_year_value\n",
       "  <int64> <int64>            <float64>\n",
       "0    2000       0                  NaN\n",
       "1    2001       1                  0.0\n",
       "2    2002       4                  1.0\n",
       "3    2003       9                  4.0\n",
       "4    2004      16                  9.0\n",
       "5    2005      25                 16.0"
      ]
     },
     "execution_count": 12,
     "metadata": {},
     "output_type": "execute_result"
    }
   ],
   "source": [
    "# Use this for lag(value, order_by = year) instead\n",
    "scrambled >> mutate(previous_year_value = lag(f.value, order_by=f.year)) >> arrange(f.year)\n"
   ]
  },
  {
   "cell_type": "code",
   "execution_count": null,
   "id": "satisfied-seafood",
   "metadata": {},
   "outputs": [],
   "source": []
  }
 ],
 "metadata": {
  "kernelspec": {
   "display_name": "Python 3",
   "language": "python",
   "name": "python3"
  },
  "language_info": {
   "codemirror_mode": {
    "name": "ipython",
    "version": 3
   },
   "file_extension": ".py",
   "mimetype": "text/x-python",
   "name": "python",
   "nbconvert_exporter": "python",
   "pygments_lexer": "ipython3",
   "version": "3.9.5"
  }
 },
 "nbformat": 4,
 "nbformat_minor": 5
}
