{
 "cells": [
  {
   "cell_type": "code",
   "execution_count": 1,
   "id": "aggregate-novelty",
   "metadata": {
    "execution": {
     "iopub.execute_input": "2021-04-17T00:55:29.810808Z",
     "iopub.status.busy": "2021-04-17T00:55:29.807992Z",
     "iopub.status.idle": "2021-04-17T00:55:30.447309Z",
     "shell.execute_reply": "2021-04-17T00:55:30.446744Z"
    }
   },
   "outputs": [
    {
     "output_type": "display_data",
     "data": {
      "text/plain": "<IPython.core.display.HTML object>",
      "text/html": "<div style=\"text-align: right; text-style: italic\">Try this notebook on <a target=\"_blank\" href=\"https://mybinder.org/v2/gh/pwwang/datar/93d069f3ca36711fc811c61dcf60e9fc3d1460a5?filepath=docs%2Fnotebooks%2Funcount.ipynb\">binder</a>.</div>"
     },
     "metadata": {}
    },
    {
     "output_type": "display_data",
     "data": {
      "text/plain": "<IPython.core.display.Markdown object>",
      "text/markdown": "### # uncount  "
     },
     "metadata": {}
    },
    {
     "output_type": "display_data",
     "data": {
      "text/plain": "<IPython.core.display.Markdown object>",
      "text/markdown": "##### Duplicating rows according to a weighting variable\n\n##### Args:\n&emsp;&emsp;`data`: A data frame  \n&emsp;&emsp;`weights`: A vector of weights. Evaluated in the context of data  \n&emsp;&emsp;`_remove`: If TRUE, and weights is the name of a column in data,  \n&emsp;&emsp;&emsp;&emsp;then this column is removed.  \n\n&emsp;&emsp;`_id`: Supply a string to create a new variable which gives a  \n&emsp;&emsp;&emsp;&emsp;unique identifier for each created row (0-based).  \n\n&emsp;&emsp;`_base0`: Whether the generated `_id` columns are 0-based.  \n&emsp;&emsp;&emsp;&emsp;If not provided, will use `datar.base.get_option('index.base.0')`  \n\n##### Returns:\n&emsp;&emsp;dataframe with rows repeated.  \n"
     },
     "metadata": {}
    }
   ],
   "source": [
    "# https://tidyr.tidyverse.org/reference/uncount.html\n",
    "\n",
    "from datar.all import *\n",
    "\n",
    "%run nb_helpers.py\n",
    "nb_header(uncount)"
   ]
  },
  {
   "cell_type": "code",
   "execution_count": 2,
   "id": "universal-adoption",
   "metadata": {
    "execution": {
     "iopub.execute_input": "2021-04-17T00:55:30.453238Z",
     "iopub.status.busy": "2021-04-17T00:55:30.452608Z",
     "iopub.status.idle": "2021-04-17T00:55:30.522831Z",
     "shell.execute_reply": "2021-04-17T00:55:30.522312Z"
    }
   },
   "outputs": [
    {
     "output_type": "execute_result",
     "data": {
      "text/plain": [
       "   x\n",
       "0  a\n",
       "1  b\n",
       "2  b"
      ],
      "text/html": "<div>\n<style scoped>\n    .dataframe tbody tr th:only-of-type {\n        vertical-align: middle;\n    }\n\n    .dataframe tbody tr th {\n        vertical-align: top;\n    }\n\n    .dataframe thead th {\n        text-align: right;\n    }\n</style>\n<table border=\"1\" class=\"dataframe\">\n  <thead>\n    <tr style=\"text-align: right;\">\n      <th></th>\n      <th>x</th>\n    </tr>\n  </thead>\n  <tbody>\n    <tr>\n      <th>0</th>\n      <td>a</td>\n    </tr>\n    <tr>\n      <th>1</th>\n      <td>b</td>\n    </tr>\n    <tr>\n      <th>2</th>\n      <td>b</td>\n    </tr>\n  </tbody>\n</table>\n</div>"
     },
     "metadata": {},
     "execution_count": 2
    }
   ],
   "source": [
    "df = tibble(x = c(\"a\", \"b\"), n = c(1, 2))\n",
    "df >> uncount(f.n)"
   ]
  },
  {
   "cell_type": "code",
   "execution_count": 3,
   "id": "graduate-investigation",
   "metadata": {
    "execution": {
     "iopub.execute_input": "2021-04-17T00:55:30.537784Z",
     "iopub.status.busy": "2021-04-17T00:55:30.536978Z",
     "iopub.status.idle": "2021-04-17T00:55:30.540838Z",
     "shell.execute_reply": "2021-04-17T00:55:30.540330Z"
    }
   },
   "outputs": [
    {
     "output_type": "execute_result",
     "data": {
      "text/plain": [
       "   x  id\n",
       "0  a   1\n",
       "1  b   1\n",
       "2  b   2"
      ],
      "text/html": "<div>\n<style scoped>\n    .dataframe tbody tr th:only-of-type {\n        vertical-align: middle;\n    }\n\n    .dataframe tbody tr th {\n        vertical-align: top;\n    }\n\n    .dataframe thead th {\n        text-align: right;\n    }\n</style>\n<table border=\"1\" class=\"dataframe\">\n  <thead>\n    <tr style=\"text-align: right;\">\n      <th></th>\n      <th>x</th>\n      <th>id</th>\n    </tr>\n  </thead>\n  <tbody>\n    <tr>\n      <th>0</th>\n      <td>a</td>\n      <td>1</td>\n    </tr>\n    <tr>\n      <th>1</th>\n      <td>b</td>\n      <td>1</td>\n    </tr>\n    <tr>\n      <th>2</th>\n      <td>b</td>\n      <td>2</td>\n    </tr>\n  </tbody>\n</table>\n</div>"
     },
     "metadata": {},
     "execution_count": 3
    }
   ],
   "source": [
    "df >> uncount(f.n, _id=\"id\")"
   ]
  },
  {
   "cell_type": "code",
   "execution_count": 4,
   "id": "metallic-truck",
   "metadata": {
    "execution": {
     "iopub.execute_input": "2021-04-17T00:55:30.548874Z",
     "iopub.status.busy": "2021-04-17T00:55:30.548042Z",
     "iopub.status.idle": "2021-04-17T00:55:30.551952Z",
     "shell.execute_reply": "2021-04-17T00:55:30.551435Z"
    }
   },
   "outputs": [
    {
     "output_type": "execute_result",
     "data": {
      "text/plain": [
       "   x  n\n",
       "0  a  1\n",
       "1  a  1\n",
       "2  b  2\n",
       "3  b  2"
      ],
      "text/html": "<div>\n<style scoped>\n    .dataframe tbody tr th:only-of-type {\n        vertical-align: middle;\n    }\n\n    .dataframe tbody tr th {\n        vertical-align: top;\n    }\n\n    .dataframe thead th {\n        text-align: right;\n    }\n</style>\n<table border=\"1\" class=\"dataframe\">\n  <thead>\n    <tr style=\"text-align: right;\">\n      <th></th>\n      <th>x</th>\n      <th>n</th>\n    </tr>\n  </thead>\n  <tbody>\n    <tr>\n      <th>0</th>\n      <td>a</td>\n      <td>1</td>\n    </tr>\n    <tr>\n      <th>1</th>\n      <td>a</td>\n      <td>1</td>\n    </tr>\n    <tr>\n      <th>2</th>\n      <td>b</td>\n      <td>2</td>\n    </tr>\n    <tr>\n      <th>3</th>\n      <td>b</td>\n      <td>2</td>\n    </tr>\n  </tbody>\n</table>\n</div>"
     },
     "metadata": {},
     "execution_count": 4
    }
   ],
   "source": [
    "uncount(df, 2)"
   ]
  },
  {
   "cell_type": "code",
   "execution_count": 5,
   "id": "rising-anthropology",
   "metadata": {
    "execution": {
     "iopub.execute_input": "2021-04-17T00:55:30.556658Z",
     "iopub.status.busy": "2021-04-17T00:55:30.556141Z",
     "iopub.status.idle": "2021-04-17T00:55:30.564880Z",
     "shell.execute_reply": "2021-04-17T00:55:30.564333Z"
    }
   },
   "outputs": [
    {
     "output_type": "execute_result",
     "data": {
      "text/plain": [
       "   x  n\n",
       "0  a  1\n",
       "1  a  1\n",
       "2  b  2"
      ],
      "text/html": "<div>\n<style scoped>\n    .dataframe tbody tr th:only-of-type {\n        vertical-align: middle;\n    }\n\n    .dataframe tbody tr th {\n        vertical-align: top;\n    }\n\n    .dataframe thead th {\n        text-align: right;\n    }\n</style>\n<table border=\"1\" class=\"dataframe\">\n  <thead>\n    <tr style=\"text-align: right;\">\n      <th></th>\n      <th>x</th>\n      <th>n</th>\n    </tr>\n  </thead>\n  <tbody>\n    <tr>\n      <th>0</th>\n      <td>a</td>\n      <td>1</td>\n    </tr>\n    <tr>\n      <th>1</th>\n      <td>a</td>\n      <td>1</td>\n    </tr>\n    <tr>\n      <th>2</th>\n      <td>b</td>\n      <td>2</td>\n    </tr>\n  </tbody>\n</table>\n</div>"
     },
     "metadata": {},
     "execution_count": 5
    }
   ],
   "source": [
    "df >> uncount(2//f.n)"
   ]
  },
  {
   "cell_type": "code",
   "execution_count": null,
   "id": "satisfactory-laundry",
   "metadata": {},
   "outputs": [],
   "source": []
  }
 ],
 "metadata": {
  "kernelspec": {
   "display_name": "Python 3",
   "language": "python",
   "name": "python3"
  },
  "language_info": {
   "codemirror_mode": {
    "name": "ipython",
    "version": 3
   },
   "file_extension": ".py",
   "mimetype": "text/x-python",
   "name": "python",
   "nbconvert_exporter": "python",
   "pygments_lexer": "ipython3",
   "version": "3.7.8"
  }
 },
 "nbformat": 4,
 "nbformat_minor": 5
}