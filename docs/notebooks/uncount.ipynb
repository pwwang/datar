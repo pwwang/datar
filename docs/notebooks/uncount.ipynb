{
 "cells": [
  {
   "cell_type": "code",
   "execution_count": 1,
   "id": "c822a641",
   "metadata": {
    "execution": {
     "iopub.execute_input": "2021-07-16T22:27:41.539542Z",
     "iopub.status.busy": "2021-07-16T22:27:41.538779Z",
     "iopub.status.idle": "2021-07-16T22:27:42.396417Z",
     "shell.execute_reply": "2021-07-16T22:27:42.396954Z"
    }
   },
   "outputs": [
    {
     "name": "stderr",
     "output_type": "stream",
     "text": [
      "[2022-03-06 02:36:03][datar][WARNING] Builtin name \"min\" has been overriden by datar.\n",
      "[2022-03-06 02:36:03][datar][WARNING] Builtin name \"max\" has been overriden by datar.\n",
      "[2022-03-06 02:36:03][datar][WARNING] Builtin name \"sum\" has been overriden by datar.\n",
      "[2022-03-06 02:36:03][datar][WARNING] Builtin name \"abs\" has been overriden by datar.\n",
      "[2022-03-06 02:36:03][datar][WARNING] Builtin name \"round\" has been overriden by datar.\n",
      "[2022-03-06 02:36:03][datar][WARNING] Builtin name \"all\" has been overriden by datar.\n",
      "[2022-03-06 02:36:03][datar][WARNING] Builtin name \"any\" has been overriden by datar.\n",
      "[2022-03-06 02:36:03][datar][WARNING] Builtin name \"re\" has been overriden by datar.\n",
      "[2022-03-06 02:36:03][datar][WARNING] Builtin name \"filter\" has been overriden by datar.\n",
      "[2022-03-06 02:36:03][datar][WARNING] Builtin name \"slice\" has been overriden by datar.\n"
     ]
    },
    {
     "data": {
      "text/html": [
       "<div style=\"text-align: right; text-style: italic\">Try this notebook on <a target=\"_blank\" href=\"https://mybinder.org/v2/gh/pwwang/datar/93d069f3ca36711fc811c61dcf60e9fc3d1460a5?filepath=docs%2Fnotebooks%2Funcount.ipynb\">binder</a>.</div>"
      ],
      "text/plain": [
       "<IPython.core.display.HTML object>"
      ]
     },
     "metadata": {},
     "output_type": "display_data"
    },
    {
     "data": {
      "text/markdown": [
       "### # uncount  "
      ],
      "text/plain": [
       "<IPython.core.display.Markdown object>"
      ]
     },
     "metadata": {},
     "output_type": "display_data"
    },
    {
     "data": {
      "text/markdown": [
       "##### Duplicating rows according to a weighting variable\n",
       "\n",
       "##### Args:\n",
       "&emsp;&emsp;`data`: A data frame  \n",
       "&emsp;&emsp;`weights`: A vector of weights. Evaluated in the context of data  \n",
       "&emsp;&emsp;`_remove`: If TRUE, and weights is the name of a column in data,  \n",
       "&emsp;&emsp;&emsp;&emsp;then this column is removed.  \n",
       "\n",
       "&emsp;&emsp;`_id`: Supply a string to create a new variable which gives a  \n",
       "&emsp;&emsp;&emsp;&emsp;unique identifier for each created row (0-based).  \n",
       "\n",
       "##### Returns:\n",
       "&emsp;&emsp;dataframe with rows repeated.  \n"
      ],
      "text/plain": [
       "<IPython.core.display.Markdown object>"
      ]
     },
     "metadata": {},
     "output_type": "display_data"
    }
   ],
   "source": [
    "# https://tidyr.tidyverse.org/reference/uncount.html\n",
    "\n",
    "from datar.all import *\n",
    "\n",
    "%run nb_helpers.py\n",
    "nb_header(uncount)"
   ]
  },
  {
   "cell_type": "code",
   "execution_count": 2,
   "id": "597c386a",
   "metadata": {
    "execution": {
     "iopub.execute_input": "2021-07-16T22:27:42.429322Z",
     "iopub.status.busy": "2021-07-16T22:27:42.428768Z",
     "iopub.status.idle": "2021-07-16T22:27:42.617412Z",
     "shell.execute_reply": "2021-07-16T22:27:42.617782Z"
    }
   },
   "outputs": [
    {
     "data": {
      "text/html": [
       "<div>\n",
       "<style scoped>\n",
       "    .dataframe tbody tr th:only-of-type {\n",
       "        vertical-align: middle;\n",
       "    }\n",
       "\n",
       "    .dataframe tbody tr th {\n",
       "        vertical-align: top;\n",
       "    }\n",
       "\n",
       "    .dataframe thead th {\n",
       "        text-align: right;\n",
       "    }\n",
       "</style>\n",
       "<table border=\"1\" class=\"dataframe\">\n",
       "  <thead>\n",
       "    <tr style=\"text-align: right;\">\n",
       "      <th></th>\n",
       "      <th>x</th>\n",
       "    </tr>\n",
       "  </thead>\n",
       "  <tbody>\n",
       "    <tr>\n",
       "      <th style=\"font-style: italic;\" ></th>\n",
       "      <td style=\"font-style: italic;\" >&lt;object&gt;</td>\n",
       "    </tr>\n",
       "    <tr>\n",
       "      <th>0</th>\n",
       "      <td>a</td>\n",
       "    </tr>\n",
       "    <tr>\n",
       "      <th>1</th>\n",
       "      <td>b</td>\n",
       "    </tr>\n",
       "    <tr>\n",
       "      <th>2</th>\n",
       "      <td>b</td>\n",
       "    </tr>\n",
       "  </tbody>\n",
       "</table>\n",
       "</div>\n"
      ],
      "text/plain": [
       "         x\n",
       "  <object>\n",
       "0        a\n",
       "1        b\n",
       "2        b"
      ]
     },
     "execution_count": 2,
     "metadata": {},
     "output_type": "execute_result"
    }
   ],
   "source": [
    "df = tibble(x = c(\"a\", \"b\"), n = c(1, 2))\n",
    "df >> uncount(f.n)"
   ]
  },
  {
   "cell_type": "code",
   "execution_count": 3,
   "id": "ba0f3bcb",
   "metadata": {
    "execution": {
     "iopub.execute_input": "2021-07-16T22:27:42.745543Z",
     "iopub.status.busy": "2021-07-16T22:27:42.744874Z",
     "iopub.status.idle": "2021-07-16T22:27:42.766238Z",
     "shell.execute_reply": "2021-07-16T22:27:42.766615Z"
    }
   },
   "outputs": [
    {
     "data": {
      "text/html": [
       "<div>\n",
       "<style scoped>\n",
       "    .dataframe tbody tr th:only-of-type {\n",
       "        vertical-align: middle;\n",
       "    }\n",
       "\n",
       "    .dataframe tbody tr th {\n",
       "        vertical-align: top;\n",
       "    }\n",
       "\n",
       "    .dataframe thead th {\n",
       "        text-align: right;\n",
       "    }\n",
       "</style>\n",
       "<table border=\"1\" class=\"dataframe\">\n",
       "  <thead>\n",
       "    <tr style=\"text-align: right;\">\n",
       "      <th></th>\n",
       "      <th>id</th>\n",
       "      <th>x</th>\n",
       "    </tr>\n",
       "  </thead>\n",
       "  <tbody>\n",
       "    <tr>\n",
       "      <th style=\"font-style: italic;\" ></th>\n",
       "      <td style=\"font-style: italic;\" >&lt;int64&gt;</td>\n",
       "      <td style=\"font-style: italic;\" >&lt;object&gt;</td>\n",
       "    </tr>\n",
       "    <tr>\n",
       "      <th>0</th>\n",
       "      <td>0</td>\n",
       "      <td>a</td>\n",
       "    </tr>\n",
       "    <tr>\n",
       "      <th>1</th>\n",
       "      <td>1</td>\n",
       "      <td>b</td>\n",
       "    </tr>\n",
       "    <tr>\n",
       "      <th>2</th>\n",
       "      <td>1</td>\n",
       "      <td>b</td>\n",
       "    </tr>\n",
       "  </tbody>\n",
       "</table>\n",
       "</div>\n"
      ],
      "text/plain": [
       "       id        x\n",
       "  <int64> <object>\n",
       "0       0        a\n",
       "1       1        b\n",
       "2       1        b"
      ]
     },
     "execution_count": 3,
     "metadata": {},
     "output_type": "execute_result"
    }
   ],
   "source": [
    "df >> uncount(f.n, _id=\"id\")"
   ]
  },
  {
   "cell_type": "code",
   "execution_count": 4,
   "id": "aac00379",
   "metadata": {
    "execution": {
     "iopub.execute_input": "2021-07-16T22:27:42.804374Z",
     "iopub.status.busy": "2021-07-16T22:27:42.803762Z",
     "iopub.status.idle": "2021-07-16T22:27:42.839607Z",
     "shell.execute_reply": "2021-07-16T22:27:42.840394Z"
    }
   },
   "outputs": [
    {
     "data": {
      "text/html": [
       "<div>\n",
       "<style scoped>\n",
       "    .dataframe tbody tr th:only-of-type {\n",
       "        vertical-align: middle;\n",
       "    }\n",
       "\n",
       "    .dataframe tbody tr th {\n",
       "        vertical-align: top;\n",
       "    }\n",
       "\n",
       "    .dataframe thead th {\n",
       "        text-align: right;\n",
       "    }\n",
       "</style>\n",
       "<table border=\"1\" class=\"dataframe\">\n",
       "  <thead>\n",
       "    <tr style=\"text-align: right;\">\n",
       "      <th></th>\n",
       "      <th>x</th>\n",
       "      <th>n</th>\n",
       "    </tr>\n",
       "  </thead>\n",
       "  <tbody>\n",
       "    <tr>\n",
       "      <th style=\"font-style: italic;\" ></th>\n",
       "      <td style=\"font-style: italic;\" >&lt;object&gt;</td>\n",
       "      <td style=\"font-style: italic;\" >&lt;int64&gt;</td>\n",
       "    </tr>\n",
       "    <tr>\n",
       "      <th>0</th>\n",
       "      <td>a</td>\n",
       "      <td>1</td>\n",
       "    </tr>\n",
       "    <tr>\n",
       "      <th>1</th>\n",
       "      <td>a</td>\n",
       "      <td>1</td>\n",
       "    </tr>\n",
       "    <tr>\n",
       "      <th>2</th>\n",
       "      <td>b</td>\n",
       "      <td>2</td>\n",
       "    </tr>\n",
       "    <tr>\n",
       "      <th>3</th>\n",
       "      <td>b</td>\n",
       "      <td>2</td>\n",
       "    </tr>\n",
       "  </tbody>\n",
       "</table>\n",
       "</div>\n"
      ],
      "text/plain": [
       "         x       n\n",
       "  <object> <int64>\n",
       "0        a       1\n",
       "1        a       1\n",
       "2        b       2\n",
       "3        b       2"
      ]
     },
     "execution_count": 4,
     "metadata": {},
     "output_type": "execute_result"
    }
   ],
   "source": [
    "uncount(df, 2)"
   ]
  },
  {
   "cell_type": "code",
   "execution_count": 5,
   "id": "93f8367f",
   "metadata": {
    "execution": {
     "iopub.execute_input": "2021-07-16T22:27:42.860672Z",
     "iopub.status.busy": "2021-07-16T22:27:42.860109Z",
     "iopub.status.idle": "2021-07-16T22:27:42.872296Z",
     "shell.execute_reply": "2021-07-16T22:27:42.872858Z"
    }
   },
   "outputs": [
    {
     "data": {
      "text/html": [
       "<div>\n",
       "<style scoped>\n",
       "    .dataframe tbody tr th:only-of-type {\n",
       "        vertical-align: middle;\n",
       "    }\n",
       "\n",
       "    .dataframe tbody tr th {\n",
       "        vertical-align: top;\n",
       "    }\n",
       "\n",
       "    .dataframe thead th {\n",
       "        text-align: right;\n",
       "    }\n",
       "</style>\n",
       "<table border=\"1\" class=\"dataframe\">\n",
       "  <thead>\n",
       "    <tr style=\"text-align: right;\">\n",
       "      <th></th>\n",
       "      <th>x</th>\n",
       "    </tr>\n",
       "  </thead>\n",
       "  <tbody>\n",
       "    <tr>\n",
       "      <th style=\"font-style: italic;\" ></th>\n",
       "      <td style=\"font-style: italic;\" >&lt;object&gt;</td>\n",
       "    </tr>\n",
       "    <tr>\n",
       "      <th>0</th>\n",
       "      <td>a</td>\n",
       "    </tr>\n",
       "    <tr>\n",
       "      <th>1</th>\n",
       "      <td>a</td>\n",
       "    </tr>\n",
       "    <tr>\n",
       "      <th>2</th>\n",
       "      <td>b</td>\n",
       "    </tr>\n",
       "  </tbody>\n",
       "</table>\n",
       "</div>\n"
      ],
      "text/plain": [
       "         x\n",
       "  <object>\n",
       "0        a\n",
       "1        a\n",
       "2        b"
      ]
     },
     "execution_count": 5,
     "metadata": {},
     "output_type": "execute_result"
    }
   ],
   "source": [
    "df >> uncount(2//f.n)"
   ]
  },
  {
   "cell_type": "code",
   "execution_count": null,
   "id": "2734c069",
   "metadata": {},
   "outputs": [],
   "source": []
  }
 ],
 "metadata": {
  "interpreter": {
   "hash": "c4cc73b080e063fcebb9afb794613be7caf4b26129562cba1382945a18cc49cc"
  },
  "kernelspec": {
   "display_name": "Python 3.7.8 64-bit ('base': conda)",
   "name": "python3"
  },
  "language_info": {
   "codemirror_mode": {
    "name": "ipython",
    "version": 3
   },
   "file_extension": ".py",
   "mimetype": "text/x-python",
   "name": "python",
   "nbconvert_exporter": "python",
   "pygments_lexer": "ipython3",
   "version": "3.9.5"
  }
 },
 "nbformat": 4,
 "nbformat_minor": 5
}
