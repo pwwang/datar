{
 "cells": [
  {
   "cell_type": "code",
   "execution_count": 1,
   "id": "several-cowboy",
   "metadata": {
    "execution": {
     "iopub.execute_input": "2021-07-16T22:28:07.196543Z",
     "iopub.status.busy": "2021-07-16T22:28:07.195916Z",
     "iopub.status.idle": "2021-07-16T22:28:08.127610Z",
     "shell.execute_reply": "2021-07-16T22:28:08.128233Z"
    }
   },
   "outputs": [
    {
     "data": {
      "text/html": [
       "<div style=\"text-align: right; text-style: italic\">Try this notebook on <a target=\"_blank\" href=\"https://mybinder.org/v2/gh/pwwang/datar/dev?filepath=docs%2Fnotebooks%2Fn_distinct.ipynb\">binder</a>.</div>"
      ],
      "text/plain": [
       "<IPython.core.display.HTML object>"
      ]
     },
     "metadata": {},
     "output_type": "display_data"
    },
    {
     "data": {
      "text/markdown": [
       "### <div style=\"background-color: #EEE; padding: 5px 0 8px 0\">★ sample</div>"
      ],
      "text/plain": [
       "<IPython.core.display.Markdown object>"
      ]
     },
     "metadata": {},
     "output_type": "display_data"
    },
    {
     "data": {
      "text/markdown": [
       "##### Takes a sample of the specified size from the elements of x using\n",
       "either with or without replacement.  \n",
       "\n",
       "https://rdrr.io/r/base/sample.html  \n",
       "\n",
       "##### Args:\n",
       "&emsp;&emsp;`x`: either a vector of one or more elements from which to choose,  \n",
       "&emsp;&emsp;&emsp;&emsp;or a positive integer.  \n",
       "\n",
       "&emsp;&emsp;`n`: a positive number, the number of items to choose from.  \n",
       "&emsp;&emsp;`size`: a non-negative integer giving the number of items to choose.  \n",
       "&emsp;&emsp;`replace`: should sampling be with replacement?  \n",
       "&emsp;&emsp;`prob`: a vector of probability weights for obtaining the elements of  \n",
       "&emsp;&emsp;&emsp;&emsp;the vector being sampled.  \n",
       "\n",
       "##### Returns:\n",
       "&emsp;&emsp;A vector of length size with elements drawn from either x or from the  \n",
       "&emsp;&emsp;integers 1:x.  \n"
      ],
      "text/plain": [
       "<IPython.core.display.Markdown object>"
      ]
     },
     "metadata": {},
     "output_type": "display_data"
    },
    {
     "data": {
      "text/markdown": [
       "### <div style=\"background-color: #EEE; padding: 5px 0 8px 0\">★ n_distinct</div>"
      ],
      "text/plain": [
       "<IPython.core.display.Markdown object>"
      ]
     },
     "metadata": {},
     "output_type": "display_data"
    },
    {
     "data": {
      "text/markdown": [
       "##### Get the length of distinct elements\n"
      ],
      "text/plain": [
       "<IPython.core.display.Markdown object>"
      ]
     },
     "metadata": {},
     "output_type": "display_data"
    }
   ],
   "source": [
    "# https://dplyr.tidyverse.org/reference/n_distinct.html\n",
    "%run nb_helpers.py\n",
    "\n",
    "from datar.all import sample, n_distinct\n",
    "\n",
    "nb_header(sample, n_distinct, book='n_distinct')"
   ]
  },
  {
   "cell_type": "code",
   "execution_count": 2,
   "id": "sharing-michigan",
   "metadata": {
    "execution": {
     "iopub.execute_input": "2021-07-16T22:28:08.142741Z",
     "iopub.status.busy": "2021-07-16T22:28:08.141395Z",
     "iopub.status.idle": "2021-07-16T22:28:08.149693Z",
     "shell.execute_reply": "2021-07-16T22:28:08.150142Z"
    }
   },
   "outputs": [
    {
     "data": {
      "text/plain": [
       "100000"
      ]
     },
     "execution_count": 2,
     "metadata": {},
     "output_type": "execute_result"
    }
   ],
   "source": [
    "x = sample(range(10), 1e5, replace=True)\n",
    "len(x)"
   ]
  },
  {
   "cell_type": "code",
   "execution_count": 3,
   "id": "interested-store",
   "metadata": {
    "execution": {
     "iopub.execute_input": "2021-07-16T22:28:08.215359Z",
     "iopub.status.busy": "2021-07-16T22:28:08.214713Z",
     "iopub.status.idle": "2021-07-16T22:28:08.311083Z",
     "shell.execute_reply": "2021-07-16T22:28:08.310511Z"
    }
   },
   "outputs": [
    {
     "data": {
      "text/plain": [
       "10"
      ]
     },
     "execution_count": 3,
     "metadata": {},
     "output_type": "execute_result"
    }
   ],
   "source": [
    "n_distinct(x)"
   ]
  }
 ],
 "metadata": {
  "kernelspec": {
   "display_name": "Python 3",
   "language": "python",
   "name": "python3"
  },
  "language_info": {
   "codemirror_mode": {
    "name": "ipython",
    "version": 3
   },
   "file_extension": ".py",
   "mimetype": "text/x-python",
   "name": "python",
   "nbconvert_exporter": "python",
   "pygments_lexer": "ipython3",
   "version": "3.9.5"
  }
 },
 "nbformat": 4,
 "nbformat_minor": 5
}
