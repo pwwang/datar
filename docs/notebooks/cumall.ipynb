{
 "cells": [
  {
   "cell_type": "code",
   "execution_count": 1,
   "id": "minute-millennium",
   "metadata": {
    "execution": {
     "iopub.execute_input": "2021-07-16T22:28:06.609806Z",
     "iopub.status.busy": "2021-07-16T22:28:06.608996Z",
     "iopub.status.idle": "2021-07-16T22:28:07.700823Z",
     "shell.execute_reply": "2021-07-16T22:28:07.701237Z"
    }
   },
   "outputs": [
    {
     "name": "stderr",
     "output_type": "stream",
     "text": [
      "[2022-03-06 01:35:10][datar][WARNING] Builtin name \"min\" has been overriden by datar.\n",
      "[2022-03-06 01:35:10][datar][WARNING] Builtin name \"max\" has been overriden by datar.\n",
      "[2022-03-06 01:35:10][datar][WARNING] Builtin name \"sum\" has been overriden by datar.\n",
      "[2022-03-06 01:35:10][datar][WARNING] Builtin name \"abs\" has been overriden by datar.\n",
      "[2022-03-06 01:35:10][datar][WARNING] Builtin name \"round\" has been overriden by datar.\n",
      "[2022-03-06 01:35:10][datar][WARNING] Builtin name \"all\" has been overriden by datar.\n",
      "[2022-03-06 01:35:10][datar][WARNING] Builtin name \"any\" has been overriden by datar.\n",
      "[2022-03-06 01:35:10][datar][WARNING] Builtin name \"re\" has been overriden by datar.\n",
      "[2022-03-06 01:35:10][datar][WARNING] Builtin name \"filter\" has been overriden by datar.\n",
      "[2022-03-06 01:35:10][datar][WARNING] Builtin name \"slice\" has been overriden by datar.\n"
     ]
    },
    {
     "data": {
      "text/html": [
       "<div style=\"text-align: right; text-style: italic\">Try this notebook on <a target=\"_blank\" href=\"https://mybinder.org/v2/gh/pwwang/datar/93d069f3ca36711fc811c61dcf60e9fc3d1460a5?filepath=docs%2Fnotebooks%2Fcumall.ipynb\">binder</a>.</div>"
      ],
      "text/plain": [
       "<IPython.core.display.HTML object>"
      ]
     },
     "metadata": {},
     "output_type": "display_data"
    },
    {
     "data": {
      "text/markdown": [
       "### # cummean  "
      ],
      "text/plain": [
       "<IPython.core.display.Markdown object>"
      ]
     },
     "metadata": {},
     "output_type": "display_data"
    },
    {
     "data": {
      "text/markdown": [
       "##### Get cumulative means\n"
      ],
      "text/plain": [
       "<IPython.core.display.Markdown object>"
      ]
     },
     "metadata": {},
     "output_type": "display_data"
    },
    {
     "data": {
      "text/markdown": [
       "### # cumsum  "
      ],
      "text/plain": [
       "<IPython.core.display.Markdown object>"
      ]
     },
     "metadata": {},
     "output_type": "display_data"
    },
    {
     "data": {
      "text/markdown": [
       "##### Cumulative sum of elements.\n",
       "\n",
       "##### Args:\n",
       "&emsp;&emsp;`x`: Input array  \n",
       "\n",
       "##### Returns:\n",
       "&emsp;&emsp;An array of cumulative sum of elements in x  \n"
      ],
      "text/plain": [
       "<IPython.core.display.Markdown object>"
      ]
     },
     "metadata": {},
     "output_type": "display_data"
    },
    {
     "data": {
      "text/markdown": [
       "### # cumall  "
      ],
      "text/plain": [
       "<IPython.core.display.Markdown object>"
      ]
     },
     "metadata": {},
     "output_type": "display_data"
    },
    {
     "data": {
      "text/markdown": [
       "##### Get cumulative bool. All cases after first False\n"
      ],
      "text/plain": [
       "<IPython.core.display.Markdown object>"
      ]
     },
     "metadata": {},
     "output_type": "display_data"
    },
    {
     "data": {
      "text/markdown": [
       "### # cumany  "
      ],
      "text/plain": [
       "<IPython.core.display.Markdown object>"
      ]
     },
     "metadata": {},
     "output_type": "display_data"
    },
    {
     "data": {
      "text/markdown": [
       "##### Get cumulative bool. All cases after first True\n"
      ],
      "text/plain": [
       "<IPython.core.display.Markdown object>"
      ]
     },
     "metadata": {},
     "output_type": "display_data"
    },
    {
     "data": {
      "text/markdown": [
       "### # cumany  "
      ],
      "text/plain": [
       "<IPython.core.display.Markdown object>"
      ]
     },
     "metadata": {},
     "output_type": "display_data"
    },
    {
     "data": {
      "text/markdown": [
       "##### Get cumulative bool. All cases after first True\n"
      ],
      "text/plain": [
       "<IPython.core.display.Markdown object>"
      ]
     },
     "metadata": {},
     "output_type": "display_data"
    }
   ],
   "source": [
    "# https://dplyr.tidyverse.org/reference/cumall.html\n",
    "import numpy\n",
    "\n",
    "from datar.all import *\n",
    "\n",
    "%run nb_helpers.py\n",
    "nb_header(cummean, cumsum, cumall, cumany, cumany, book='cumall')"
   ]
  },
  {
   "cell_type": "code",
   "execution_count": 2,
   "id": "separate-coating",
   "metadata": {
    "execution": {
     "iopub.execute_input": "2021-07-16T22:28:07.714938Z",
     "iopub.status.busy": "2021-07-16T22:28:07.714168Z",
     "iopub.status.idle": "2021-07-16T22:28:07.723294Z",
     "shell.execute_reply": "2021-07-16T22:28:07.724014Z"
    }
   },
   "outputs": [
    {
     "data": {
      "text/plain": [
       "0    1.00\n",
       "1    2.00\n",
       "2    3.00\n",
       "3    2.75\n",
       "4    2.60\n",
       "Name: x, dtype: float64"
      ]
     },
     "execution_count": 2,
     "metadata": {},
     "output_type": "execute_result"
    }
   ],
   "source": [
    "x = [1, 3, 5, 2, 2]\n",
    "cummean(x)"
   ]
  },
  {
   "cell_type": "code",
   "execution_count": 8,
   "id": "religious-voltage",
   "metadata": {
    "execution": {
     "iopub.execute_input": "2021-07-16T22:28:07.737874Z",
     "iopub.status.busy": "2021-07-16T22:28:07.737171Z",
     "iopub.status.idle": "2021-07-16T22:28:07.754908Z",
     "shell.execute_reply": "2021-07-16T22:28:07.755360Z"
    }
   },
   "outputs": [
    {
     "data": {
      "text/plain": [
       "0    1.00\n",
       "1    2.00\n",
       "2    3.00\n",
       "3    2.75\n",
       "4    2.60\n",
       "Name: x, dtype: float64"
      ]
     },
     "execution_count": 8,
     "metadata": {},
     "output_type": "execute_result"
    }
   ],
   "source": [
    "cumsum(x) / seq_along(x) "
   ]
  },
  {
   "cell_type": "code",
   "execution_count": 4,
   "id": "assigned-marks",
   "metadata": {
    "execution": {
     "iopub.execute_input": "2021-07-16T22:28:07.768170Z",
     "iopub.status.busy": "2021-07-16T22:28:07.767400Z",
     "iopub.status.idle": "2021-07-16T22:28:07.777813Z",
     "shell.execute_reply": "2021-07-16T22:28:07.778359Z"
    }
   },
   "outputs": [
    {
     "data": {
      "text/plain": [
       "0     True\n",
       "1     True\n",
       "2    False\n",
       "3    False\n",
       "4    False\n",
       "Name: x, dtype: bool"
      ]
     },
     "execution_count": 4,
     "metadata": {},
     "output_type": "execute_result"
    }
   ],
   "source": [
    "cumall(numpy.array(x) < 5)"
   ]
  },
  {
   "cell_type": "code",
   "execution_count": 5,
   "id": "composed-midwest",
   "metadata": {
    "execution": {
     "iopub.execute_input": "2021-07-16T22:28:07.788717Z",
     "iopub.status.busy": "2021-07-16T22:28:07.788024Z",
     "iopub.status.idle": "2021-07-16T22:28:07.797432Z",
     "shell.execute_reply": "2021-07-16T22:28:07.797881Z"
    }
   },
   "outputs": [
    {
     "data": {
      "text/plain": [
       "0    False\n",
       "1     True\n",
       "2     True\n",
       "3     True\n",
       "4     True\n",
       "Name: x, dtype: bool"
      ]
     },
     "execution_count": 5,
     "metadata": {},
     "output_type": "execute_result"
    }
   ],
   "source": [
    "cumany(numpy.array(x) == 3)"
   ]
  },
  {
   "cell_type": "code",
   "execution_count": 6,
   "id": "compliant-response",
   "metadata": {
    "execution": {
     "iopub.execute_input": "2021-07-16T22:28:07.815885Z",
     "iopub.status.busy": "2021-07-16T22:28:07.814566Z",
     "iopub.status.idle": "2021-07-16T22:28:07.946033Z",
     "shell.execute_reply": "2021-07-16T22:28:07.945310Z"
    }
   },
   "outputs": [
    {
     "data": {
      "text/html": [
       "<div>\n",
       "<style scoped>\n",
       "    .dataframe tbody tr th:only-of-type {\n",
       "        vertical-align: middle;\n",
       "    }\n",
       "\n",
       "    .dataframe tbody tr th {\n",
       "        vertical-align: top;\n",
       "    }\n",
       "\n",
       "    .dataframe thead th {\n",
       "        text-align: right;\n",
       "    }\n",
       "</style>\n",
       "<table border=\"1\" class=\"dataframe\">\n",
       "  <thead>\n",
       "    <tr style=\"text-align: right;\">\n",
       "      <th></th>\n",
       "      <th>date</th>\n",
       "      <th>balance</th>\n",
       "    </tr>\n",
       "  </thead>\n",
       "  <tbody>\n",
       "    <tr>\n",
       "      <th style=\"font-style: italic;\" ></th>\n",
       "      <td style=\"font-style: italic;\" >&lt;datetime64[ns]&gt;</td>\n",
       "      <td style=\"font-style: italic;\" >&lt;int64&gt;</td>\n",
       "    </tr>\n",
       "    <tr>\n",
       "      <th>3</th>\n",
       "      <td>2020-01-04</td>\n",
       "      <td>-25</td>\n",
       "    </tr>\n",
       "    <tr>\n",
       "      <th>4</th>\n",
       "      <td>2020-01-05</td>\n",
       "      <td>-50</td>\n",
       "    </tr>\n",
       "    <tr>\n",
       "      <th>5</th>\n",
       "      <td>2020-01-06</td>\n",
       "      <td>30</td>\n",
       "    </tr>\n",
       "    <tr>\n",
       "      <th>6</th>\n",
       "      <td>2020-01-07</td>\n",
       "      <td>120</td>\n",
       "    </tr>\n",
       "  </tbody>\n",
       "</table>\n",
       "</div>\n"
      ],
      "text/plain": [
       "              date  balance\n",
       "  <datetime64[ns]>  <int64>\n",
       "3       2020-01-04      -25\n",
       "4       2020-01-05      -50\n",
       "5       2020-01-06       30\n",
       "6       2020-01-07      120"
      ]
     },
     "execution_count": 6,
     "metadata": {},
     "output_type": "execute_result"
    }
   ],
   "source": [
    "df = tibble(\n",
    "  date = as_date([f\"2020-01-0{i+1}\" for i in range(7)]),\n",
    "  balance = c(100, 50, 25, -25, -50, 30, 120)\n",
    ")\n",
    "df >> filter(cumany(f.balance < 0))"
   ]
  },
  {
   "cell_type": "code",
   "execution_count": 7,
   "id": "flying-senator",
   "metadata": {
    "execution": {
     "iopub.execute_input": "2021-07-16T22:28:07.965583Z",
     "iopub.status.busy": "2021-07-16T22:28:07.964851Z",
     "iopub.status.idle": "2021-07-16T22:28:07.974194Z",
     "shell.execute_reply": "2021-07-16T22:28:07.974985Z"
    }
   },
   "outputs": [
    {
     "data": {
      "text/html": [
       "<div>\n",
       "<style scoped>\n",
       "    .dataframe tbody tr th:only-of-type {\n",
       "        vertical-align: middle;\n",
       "    }\n",
       "\n",
       "    .dataframe tbody tr th {\n",
       "        vertical-align: top;\n",
       "    }\n",
       "\n",
       "    .dataframe thead th {\n",
       "        text-align: right;\n",
       "    }\n",
       "</style>\n",
       "<table border=\"1\" class=\"dataframe\">\n",
       "  <thead>\n",
       "    <tr style=\"text-align: right;\">\n",
       "      <th></th>\n",
       "      <th>date</th>\n",
       "      <th>balance</th>\n",
       "    </tr>\n",
       "  </thead>\n",
       "  <tbody>\n",
       "    <tr>\n",
       "      <th style=\"font-style: italic;\" ></th>\n",
       "      <td style=\"font-style: italic;\" >&lt;datetime64[ns]&gt;</td>\n",
       "      <td style=\"font-style: italic;\" >&lt;int64&gt;</td>\n",
       "    </tr>\n",
       "    <tr>\n",
       "      <th>0</th>\n",
       "      <td>2020-01-01</td>\n",
       "      <td>100</td>\n",
       "    </tr>\n",
       "    <tr>\n",
       "      <th>1</th>\n",
       "      <td>2020-01-02</td>\n",
       "      <td>50</td>\n",
       "    </tr>\n",
       "    <tr>\n",
       "      <th>2</th>\n",
       "      <td>2020-01-03</td>\n",
       "      <td>25</td>\n",
       "    </tr>\n",
       "  </tbody>\n",
       "</table>\n",
       "</div>\n"
      ],
      "text/plain": [
       "              date  balance\n",
       "  <datetime64[ns]>  <int64>\n",
       "0       2020-01-01      100\n",
       "1       2020-01-02       50\n",
       "2       2020-01-03       25"
      ]
     },
     "execution_count": 7,
     "metadata": {},
     "output_type": "execute_result"
    }
   ],
   "source": [
    "df >> filter(cumall(~(f.balance < 0)))"
   ]
  }
 ],
 "metadata": {
  "kernelspec": {
   "display_name": "Python 3",
   "language": "python",
   "name": "python3"
  },
  "language_info": {
   "codemirror_mode": {
    "name": "ipython",
    "version": 3
   },
   "file_extension": ".py",
   "mimetype": "text/x-python",
   "name": "python",
   "nbconvert_exporter": "python",
   "pygments_lexer": "ipython3",
   "version": "3.9.5"
  }
 },
 "nbformat": 4,
 "nbformat_minor": 5
}
