{
 "cells": [
  {
   "cell_type": "code",
   "execution_count": 3,
   "metadata": {},
   "outputs": [
    {
     "data": {
      "text/plain": [
       "Diot({'warn_builtin_names': False}, diot_transform=<function <lambda> at 0x7fad66f3b790>)"
      ]
     },
     "execution_count": 3,
     "metadata": {},
     "output_type": "execute_result"
    },
    {
     "data": {
      "text/html": [
       "<div style=\"text-align: right; text-style: italic\">Try this notebook on <a target=\"_blank\" href=\"https://mybinder.org/v2/gh/pwwang/datar/93d069f3ca36711fc811c61dcf60e9fc3d1460a5?filepath=docs%2Fnotebooks%2Fsum.ipynb\">binder</a>.</div>"
      ],
      "text/plain": [
       "<IPython.core.display.HTML object>"
      ]
     },
     "metadata": {},
     "output_type": "display_data"
    },
    {
     "data": {
      "text/markdown": [
       "### # sum  "
      ],
      "text/plain": [
       "<IPython.core.display.Markdown object>"
      ]
     },
     "metadata": {},
     "output_type": "display_data"
    },
    {
     "data": {
      "text/markdown": [
       "##### Sum of the input.\n",
       "\n",
       "##### Args:\n",
       "&emsp;&emsp;`x`: The input  \n",
       "&emsp;&emsp;`na_rm`: Exclude the NAs. If `x` is SeriesGroupBy object, this is always  \n",
       "&emsp;&emsp;&emsp;&emsp;True, and you might want to use `f.x.sum(min_count=...)` to control  \n",
       "&emsp;&emsp;&emsp;&emsp;NA produces  \n",
       "&emsp;&emsp;&emsp;&emsp;And also unlike the function in `R`. It defaults to `True` rather  \n",
       "&emsp;&emsp;&emsp;&emsp;than `False`  \n",
       "\n",
       "##### Returns:\n",
       "&emsp;&emsp;The sum of the input  \n"
      ],
      "text/plain": [
       "<IPython.core.display.Markdown object>"
      ]
     },
     "metadata": {},
     "output_type": "display_data"
    },
    {
     "data": {
      "text/markdown": [
       "### # prod  "
      ],
      "text/plain": [
       "<IPython.core.display.Markdown object>"
      ]
     },
     "metadata": {},
     "output_type": "display_data"
    },
    {
     "data": {
      "text/markdown": [
       "##### Product of the input.\n",
       "\n",
       "##### Args:\n",
       "&emsp;&emsp;`x`: The input  \n",
       "&emsp;&emsp;`na_rm`: Exclude the NAs. If `x` is SeriesGroupBy object, this is always  \n",
       "&emsp;&emsp;&emsp;&emsp;True, and you might want to use `f.x.prod(min_count=...)` to control  \n",
       "&emsp;&emsp;&emsp;&emsp;NA produces  \n",
       "&emsp;&emsp;&emsp;&emsp;And also unlike the function in `R`. It defaults to `True` rather  \n",
       "&emsp;&emsp;&emsp;&emsp;than `False`  \n",
       "\n",
       "##### Returns:\n",
       "&emsp;&emsp;The prod of the input  \n"
      ],
      "text/plain": [
       "<IPython.core.display.Markdown object>"
      ]
     },
     "metadata": {},
     "output_type": "display_data"
    },
    {
     "data": {
      "text/markdown": [
       "### # mean  "
      ],
      "text/plain": [
       "<IPython.core.display.Markdown object>"
      ]
     },
     "metadata": {},
     "output_type": "display_data"
    },
    {
     "data": {
      "text/markdown": [
       "##### Mean of the input.\n",
       "\n",
       "##### Args:\n",
       "&emsp;&emsp;`x`: The input  \n",
       "&emsp;&emsp;`na_rm`: Exclude the NAs. If `x` is SeriesGroupBy object, this is always  \n",
       "&emsp;&emsp;&emsp;&emsp;True.  \n",
       "&emsp;&emsp;&emsp;&emsp;And also unlike the function in `R`. It defaults to `True` rather  \n",
       "&emsp;&emsp;&emsp;&emsp;than `False`  \n",
       "\n",
       "##### Returns:\n",
       "&emsp;&emsp;The mean of the input  \n"
      ],
      "text/plain": [
       "<IPython.core.display.Markdown object>"
      ]
     },
     "metadata": {},
     "output_type": "display_data"
    },
    {
     "data": {
      "text/markdown": [
       "### # median  "
      ],
      "text/plain": [
       "<IPython.core.display.Markdown object>"
      ]
     },
     "metadata": {},
     "output_type": "display_data"
    },
    {
     "data": {
      "text/markdown": [
       "##### Median of the input.\n",
       "\n",
       "##### Args:\n",
       "&emsp;&emsp;`x`: The input  \n",
       "&emsp;&emsp;`na_rm`: Exclude the NAs. If `x` is SeriesGroupBy object, this is always  \n",
       "&emsp;&emsp;&emsp;&emsp;True.  \n",
       "&emsp;&emsp;&emsp;&emsp;And also unlike the function in `R`. It defaults to `True` rather  \n",
       "&emsp;&emsp;&emsp;&emsp;than `False`  \n",
       "\n",
       "##### Returns:\n",
       "&emsp;&emsp;The median of the input  \n"
      ],
      "text/plain": [
       "<IPython.core.display.Markdown object>"
      ]
     },
     "metadata": {},
     "output_type": "display_data"
    },
    {
     "data": {
      "text/markdown": [
       "### # min  "
      ],
      "text/plain": [
       "<IPython.core.display.Markdown object>"
      ]
     },
     "metadata": {},
     "output_type": "display_data"
    },
    {
     "data": {
      "text/markdown": [
       "##### Min of the input.\n",
       "\n",
       "##### Args:\n",
       "&emsp;&emsp;`x`: The input  \n",
       "&emsp;&emsp;`na_rm`: Exclude the NAs. If `x` is SeriesGroupBy object, this is always  \n",
       "&emsp;&emsp;&emsp;&emsp;True, and you might want to use `f.x.min(min_count=...)` to control  \n",
       "&emsp;&emsp;&emsp;&emsp;NA produces  \n",
       "&emsp;&emsp;&emsp;&emsp;And also unlike the function in `R`. It defaults to `True` rather  \n",
       "&emsp;&emsp;&emsp;&emsp;than `False`  \n",
       "\n",
       "##### Returns:\n",
       "&emsp;&emsp;The min of the input  \n"
      ],
      "text/plain": [
       "<IPython.core.display.Markdown object>"
      ]
     },
     "metadata": {},
     "output_type": "display_data"
    },
    {
     "data": {
      "text/markdown": [
       "### # max  "
      ],
      "text/plain": [
       "<IPython.core.display.Markdown object>"
      ]
     },
     "metadata": {},
     "output_type": "display_data"
    },
    {
     "data": {
      "text/markdown": [
       "##### Max of the input.\n",
       "\n",
       "##### Args:\n",
       "&emsp;&emsp;`x`: The input  \n",
       "&emsp;&emsp;`na_rm`: Exclude the NAs. If `x` is SeriesGroupBy object, this is always  \n",
       "&emsp;&emsp;&emsp;&emsp;True, and you might want to use `f.x.max(min_count=...)` to control  \n",
       "&emsp;&emsp;&emsp;&emsp;NA produces  \n",
       "&emsp;&emsp;&emsp;&emsp;And also unlike the function in `R`. It defaults to `True` rather  \n",
       "&emsp;&emsp;&emsp;&emsp;than `False`  \n",
       "\n",
       "##### Returns:\n",
       "&emsp;&emsp;The max of the input  \n"
      ],
      "text/plain": [
       "<IPython.core.display.Markdown object>"
      ]
     },
     "metadata": {},
     "output_type": "display_data"
    },
    {
     "data": {
      "text/markdown": [
       "### # var  "
      ],
      "text/plain": [
       "<IPython.core.display.Markdown object>"
      ]
     },
     "metadata": {},
     "output_type": "display_data"
    },
    {
     "data": {
      "text/markdown": [
       "##### Variance of the input.\n",
       "\n",
       "##### Args:\n",
       "&emsp;&emsp;`x`: The input  \n",
       "&emsp;&emsp;`na_rm`: Exclude the NAs. If `x` is SeriesGroupBy object, this is always  \n",
       "&emsp;&emsp;&emsp;&emsp;True  \n",
       "&emsp;&emsp;&emsp;&emsp;And also unlike the function in `R`. It defaults to `True` rather  \n",
       "&emsp;&emsp;&emsp;&emsp;than `False`  \n",
       "\n",
       "&emsp;&emsp;`ddof`: Delta Degrees of Freedom  \n",
       "\n",
       "##### Returns:\n",
       "&emsp;&emsp;The variance of the input  \n"
      ],
      "text/plain": [
       "<IPython.core.display.Markdown object>"
      ]
     },
     "metadata": {},
     "output_type": "display_data"
    },
    {
     "data": {
      "text/markdown": [
       "### # pmin  "
      ],
      "text/plain": [
       "<IPython.core.display.Markdown object>"
      ]
     },
     "metadata": {},
     "output_type": "display_data"
    },
    {
     "data": {
      "text/markdown": [
       "##### Get the min value rowwisely\n",
       "\n",
       "##### Args:\n",
       "&emsp;&emsp;`*x`: The iterables. Elements will be recycled to the max length  \n",
       "&emsp;&emsp;`na_rm`: Whether ignore the NAs  \n",
       "\n",
       "##### Returns:\n",
       "&emsp;&emsp;The rowwise min of `*x`  \n"
      ],
      "text/plain": [
       "<IPython.core.display.Markdown object>"
      ]
     },
     "metadata": {},
     "output_type": "display_data"
    },
    {
     "data": {
      "text/markdown": [
       "### # pmax  "
      ],
      "text/plain": [
       "<IPython.core.display.Markdown object>"
      ]
     },
     "metadata": {},
     "output_type": "display_data"
    },
    {
     "data": {
      "text/markdown": [
       "##### Get the max value rowwisely\n",
       "\n",
       "##### Args:\n",
       "&emsp;&emsp;`*x`: The iterables. Elements will be recycled to the max length  \n",
       "&emsp;&emsp;`na_rm`: Whether ignore the NAs  \n",
       "\n",
       "##### Returns:\n",
       "&emsp;&emsp;The rowwise max of `*x`  \n"
      ],
      "text/plain": [
       "<IPython.core.display.Markdown object>"
      ]
     },
     "metadata": {},
     "output_type": "display_data"
    },
    {
     "data": {
      "text/markdown": [
       "### # round_  "
      ],
      "text/plain": [
       "<IPython.core.display.Markdown object>"
      ]
     },
     "metadata": {},
     "output_type": "display_data"
    },
    {
     "data": {
      "text/markdown": [
       "##### Rounding a number\n",
       "\n",
       "##### Args:\n",
       "&emsp;&emsp;`x`: The input  \n",
       "&emsp;&emsp;`ndigits`: number of digits to keep. Must be positional argument.  \n",
       "\n",
       "##### Returns:\n",
       "&emsp;&emsp;The rounded input  \n"
      ],
      "text/plain": [
       "<IPython.core.display.Markdown object>"
      ]
     },
     "metadata": {},
     "output_type": "display_data"
    },
    {
     "data": {
      "text/markdown": [
       "### # sqrt  "
      ],
      "text/plain": [
       "<IPython.core.display.Markdown object>"
      ]
     },
     "metadata": {},
     "output_type": "display_data"
    },
    {
     "data": {
      "text/markdown": [
       "##### Get the square root of a number/numbers\n",
       "\n",
       "##### Args:\n",
       "&emsp;&emsp;`x`: The input  \n",
       "\n",
       "##### Returns:\n",
       "&emsp;&emsp;The square root of the input  \n"
      ],
      "text/plain": [
       "<IPython.core.display.Markdown object>"
      ]
     },
     "metadata": {},
     "output_type": "display_data"
    },
    {
     "data": {
      "text/markdown": [
       "### # absolute  "
      ],
      "text/plain": [
       "<IPython.core.display.Markdown object>"
      ]
     },
     "metadata": {},
     "output_type": "display_data"
    },
    {
     "data": {
      "text/markdown": [
       "##### Get the absolute value of a number/numbers\n",
       "\n",
       "##### Args:\n",
       "&emsp;&emsp;`x`: The input  \n",
       "\n",
       "##### Returns:\n",
       "&emsp;&emsp;The absolute values of the input  \n"
      ],
      "text/plain": [
       "<IPython.core.display.Markdown object>"
      ]
     },
     "metadata": {},
     "output_type": "display_data"
    },
    {
     "data": {
      "text/markdown": [
       "### # sign  "
      ],
      "text/plain": [
       "<IPython.core.display.Markdown object>"
      ]
     },
     "metadata": {},
     "output_type": "display_data"
    },
    {
     "data": {
      "text/markdown": [
       "##### Get the signs of the corresponding elements of x\n",
       "\n",
       "##### Args:\n",
       "&emsp;&emsp;`x`: The input  \n",
       "\n",
       "##### Returns:\n",
       "&emsp;&emsp;The signs of the corresponding elements of x  \n"
      ],
      "text/plain": [
       "<IPython.core.display.Markdown object>"
      ]
     },
     "metadata": {},
     "output_type": "display_data"
    },
    {
     "data": {
      "text/markdown": [
       "### # trunc  "
      ],
      "text/plain": [
       "<IPython.core.display.Markdown object>"
      ]
     },
     "metadata": {},
     "output_type": "display_data"
    },
    {
     "data": {
      "text/markdown": [
       "##### Get the integers truncated for each element in x\n",
       "\n",
       "##### Args:\n",
       "&emsp;&emsp;`x`: The input  \n",
       "\n",
       "##### Returns:\n",
       "&emsp;&emsp;The ingeters of elements in x being truncated  \n",
       "&emsp;&emsp;Note the dtype is still float.  \n"
      ],
      "text/plain": [
       "<IPython.core.display.Markdown object>"
      ]
     },
     "metadata": {},
     "output_type": "display_data"
    },
    {
     "data": {
      "text/markdown": [
       "### # ceiling  "
      ],
      "text/plain": [
       "<IPython.core.display.Markdown object>"
      ]
     },
     "metadata": {},
     "output_type": "display_data"
    },
    {
     "data": {
      "text/markdown": [
       "##### Get the ceiling integer of a number/numbers\n",
       "\n",
       "##### Args:\n",
       "&emsp;&emsp;`x`: The input  \n",
       "\n",
       "##### Returns:\n",
       "&emsp;&emsp;The ceiling integer of the input  \n"
      ],
      "text/plain": [
       "<IPython.core.display.Markdown object>"
      ]
     },
     "metadata": {},
     "output_type": "display_data"
    },
    {
     "data": {
      "text/markdown": [
       "### # floor  "
      ],
      "text/plain": [
       "<IPython.core.display.Markdown object>"
      ]
     },
     "metadata": {},
     "output_type": "display_data"
    },
    {
     "data": {
      "text/markdown": [
       "##### Get the floor integer of a number/numbers\n",
       "\n",
       "##### Args:\n",
       "&emsp;&emsp;`x`: The input  \n",
       "\n",
       "##### Returns:\n",
       "&emsp;&emsp;The floor integer of the input  \n"
      ],
      "text/plain": [
       "<IPython.core.display.Markdown object>"
      ]
     },
     "metadata": {},
     "output_type": "display_data"
    },
    {
     "data": {
      "text/markdown": [
       "### # signif  "
      ],
      "text/plain": [
       "<IPython.core.display.Markdown object>"
      ]
     },
     "metadata": {},
     "output_type": "display_data"
    },
    {
     "data": {
      "text/markdown": [
       "##### Rounds the values in its first argument to the specified number of\n",
       "significant digits  \n",
       "\n",
       "##### Args:\n",
       "&emsp;&emsp;`x`: A numeric vector or scalar  \n",
       "&emsp;&emsp;`digits`: integer indicating the number of significant digits to be used  \n",
       "\n",
       "##### Returns:\n",
       "&emsp;&emsp;The rounded values for each element in x  \n"
      ],
      "text/plain": [
       "<IPython.core.display.Markdown object>"
      ]
     },
     "metadata": {},
     "output_type": "display_data"
    },
    {
     "data": {
      "text/markdown": [
       "### # log  "
      ],
      "text/plain": [
       "<IPython.core.display.Markdown object>"
      ]
     },
     "metadata": {},
     "output_type": "display_data"
    },
    {
     "data": {
      "text/markdown": [
       "##### Computes logarithms, by default natural logarithm\n",
       "\n",
       "##### Args:\n",
       "&emsp;&emsp;`x`: A numeric scalar or vector  \n",
       "&emsp;&emsp;`base`: The base of the logarithm  \n",
       "\n",
       "##### Returns:\n",
       "&emsp;&emsp;The value of the logarithm if x is scalar, otherwise element-wise  \n",
       "&emsp;&emsp;logarithm of elements in x  \n"
      ],
      "text/plain": [
       "<IPython.core.display.Markdown object>"
      ]
     },
     "metadata": {},
     "output_type": "display_data"
    },
    {
     "data": {
      "text/markdown": [
       "### # exp  "
      ],
      "text/plain": [
       "<IPython.core.display.Markdown object>"
      ]
     },
     "metadata": {},
     "output_type": "display_data"
    },
    {
     "data": {
      "text/markdown": [
       "##### Calculates the power of natural number\n",
       "\n",
       "##### Args:\n",
       "&emsp;&emsp;`x`: A numeric scalar or vector  \n",
       "\n",
       "##### Returns:\n",
       "&emsp;&emsp;Power of natural number of element-wise power of natural number for x  \n"
      ],
      "text/plain": [
       "<IPython.core.display.Markdown object>"
      ]
     },
     "metadata": {},
     "output_type": "display_data"
    },
    {
     "data": {
      "text/markdown": [
       "### # log2  "
      ],
      "text/plain": [
       "<IPython.core.display.Markdown object>"
      ]
     },
     "metadata": {},
     "output_type": "display_data"
    },
    {
     "data": {
      "text/markdown": [
       "##### Computes logarithms with base 2\n",
       "\n",
       "##### Args:\n",
       "&emsp;&emsp;`x`: A numeric scalar or vector  \n",
       "\n",
       "##### Returns:\n",
       "&emsp;&emsp;The value of log2 if x is scalar, otherwise element-wise  \n",
       "&emsp;&emsp;log2 of elements in x  \n"
      ],
      "text/plain": [
       "<IPython.core.display.Markdown object>"
      ]
     },
     "metadata": {},
     "output_type": "display_data"
    },
    {
     "data": {
      "text/markdown": [
       "### # log10  "
      ],
      "text/plain": [
       "<IPython.core.display.Markdown object>"
      ]
     },
     "metadata": {},
     "output_type": "display_data"
    },
    {
     "data": {
      "text/markdown": [
       "##### Computes logarithms with base 10\n",
       "\n",
       "##### Args:\n",
       "&emsp;&emsp;`x`: A numeric scalar or vector  \n",
       "\n",
       "##### Returns:\n",
       "&emsp;&emsp;The value of log10 if x is scalar, otherwise element-wise  \n",
       "&emsp;&emsp;log10 of elements in x  \n"
      ],
      "text/plain": [
       "<IPython.core.display.Markdown object>"
      ]
     },
     "metadata": {},
     "output_type": "display_data"
    },
    {
     "data": {
      "text/markdown": [
       "### # log1p  "
      ],
      "text/plain": [
       "<IPython.core.display.Markdown object>"
      ]
     },
     "metadata": {},
     "output_type": "display_data"
    },
    {
     "data": {
      "text/markdown": [
       "##### Computes log(1+x)\n",
       "\n",
       "##### Args:\n",
       "&emsp;&emsp;`x`: A numeric scalar or vector  \n",
       "\n",
       "##### Returns:\n",
       "&emsp;&emsp;The value of log(1+x) if x is scalar, otherwise element-wise  \n",
       "&emsp;&emsp;log(1+x) of elements in x  \n"
      ],
      "text/plain": [
       "<IPython.core.display.Markdown object>"
      ]
     },
     "metadata": {},
     "output_type": "display_data"
    },
    {
     "data": {
      "text/markdown": [
       "### # cov  "
      ],
      "text/plain": [
       "<IPython.core.display.Markdown object>"
      ]
     },
     "metadata": {},
     "output_type": "display_data"
    },
    {
     "data": {
      "text/markdown": [
       "##### Compute pairwise covariance of dataframe columns,\n",
       "or between two variables  \n"
      ],
      "text/plain": [
       "<IPython.core.display.Markdown object>"
      ]
     },
     "metadata": {},
     "output_type": "display_data"
    },
    {
     "data": {
      "text/markdown": [
       "### # _scale  "
      ],
      "text/plain": [
       "<IPython.core.display.Markdown object>"
      ]
     },
     "metadata": {},
     "output_type": "display_data"
    },
    {
     "data": {
      "text/markdown": [
       "##### Scaling and Centering of a numeric data frame\n",
       "\n",
       "See Details in `?scale` in `R`  \n",
       "\n",
       "##### Args:\n",
       "&emsp;&emsp;`x`: The numeric data frame to scale  \n",
       "&emsp;&emsp;`center`: either a logical value or numeric-alike vector of length  \n",
       "&emsp;&emsp;&emsp;&emsp;equal to the number of columns of `x`  \n",
       "\n",
       "&emsp;&emsp;`scale`: either a logical value or a numeric-alike vector of length  \n",
       "&emsp;&emsp;&emsp;&emsp;equal to the number of columns of `x`.  \n",
       "\n",
       "##### Returns:\n",
       "&emsp;&emsp;The centered, scaled data frame  \n"
      ],
      "text/plain": [
       "<IPython.core.display.Markdown object>"
      ]
     },
     "metadata": {},
     "output_type": "display_data"
    },
    {
     "data": {
      "text/markdown": [
       "### # col_sums  "
      ],
      "text/plain": [
       "<IPython.core.display.Markdown object>"
      ]
     },
     "metadata": {},
     "output_type": "display_data"
    },
    {
     "data": {
      "text/markdown": [
       "##### Calculate sum of a data frame by column\n",
       "\n",
       "##### Args:\n",
       "&emsp;&emsp;`x`: The data frame  \n",
       "&emsp;&emsp;`na_rm`: Specifies how to handle missing values in `x`.  \n",
       "\n",
       "##### Returns:\n",
       "&emsp;&emsp;The sums by column.  \n"
      ],
      "text/plain": [
       "<IPython.core.display.Markdown object>"
      ]
     },
     "metadata": {},
     "output_type": "display_data"
    },
    {
     "data": {
      "text/markdown": [
       "### # row_sums  "
      ],
      "text/plain": [
       "<IPython.core.display.Markdown object>"
      ]
     },
     "metadata": {},
     "output_type": "display_data"
    },
    {
     "data": {
      "text/markdown": [
       "##### Calculate sum of a data frame by row\n",
       "\n",
       "##### Args:\n",
       "&emsp;&emsp;`x`: The data frame  \n",
       "&emsp;&emsp;`na_rm`: Specifies how to handle missing values in `x`.  \n",
       "\n",
       "##### Returns:\n",
       "&emsp;&emsp;The sums by row.  \n"
      ],
      "text/plain": [
       "<IPython.core.display.Markdown object>"
      ]
     },
     "metadata": {},
     "output_type": "display_data"
    },
    {
     "data": {
      "text/markdown": [
       "### # col_means  "
      ],
      "text/plain": [
       "<IPython.core.display.Markdown object>"
      ]
     },
     "metadata": {},
     "output_type": "display_data"
    },
    {
     "data": {
      "text/markdown": [
       "##### Calculate mean of a data frame by column\n",
       "\n",
       "##### Args:\n",
       "&emsp;&emsp;`x`: The data frame  \n",
       "&emsp;&emsp;`na_rm`: Specifies how to handle missing values in `x`.  \n",
       "\n",
       "##### Returns:\n",
       "&emsp;&emsp;The means by column.  \n"
      ],
      "text/plain": [
       "<IPython.core.display.Markdown object>"
      ]
     },
     "metadata": {},
     "output_type": "display_data"
    },
    {
     "data": {
      "text/markdown": [
       "### # row_means  "
      ],
      "text/plain": [
       "<IPython.core.display.Markdown object>"
      ]
     },
     "metadata": {},
     "output_type": "display_data"
    },
    {
     "data": {
      "text/markdown": [
       "##### Calculate mean of a data frame by row\n",
       "\n",
       "##### Args:\n",
       "&emsp;&emsp;`x`: The data frame  \n",
       "&emsp;&emsp;`na_rm`: Specifies how to handle missing values in `x`.  \n",
       "\n",
       "##### Returns:\n",
       "&emsp;&emsp;The means by row.  \n"
      ],
      "text/plain": [
       "<IPython.core.display.Markdown object>"
      ]
     },
     "metadata": {},
     "output_type": "display_data"
    },
    {
     "data": {
      "text/markdown": [
       "### # col_sds  "
      ],
      "text/plain": [
       "<IPython.core.display.Markdown object>"
      ]
     },
     "metadata": {},
     "output_type": "display_data"
    },
    {
     "data": {
      "text/markdown": [
       "##### Calculate stdev of a data frame by column\n",
       "\n",
       "##### Args:\n",
       "&emsp;&emsp;`x`: The data frame  \n",
       "&emsp;&emsp;`ddof`: Delta Degrees of Freedom.  \n",
       "&emsp;&emsp;`na_rm`: Specifies how to handle missing values in `x`.  \n",
       "\n",
       "##### Returns:\n",
       "&emsp;&emsp;The stdevs by column.  \n"
      ],
      "text/plain": [
       "<IPython.core.display.Markdown object>"
      ]
     },
     "metadata": {},
     "output_type": "display_data"
    },
    {
     "data": {
      "text/markdown": [
       "### # row_sds  "
      ],
      "text/plain": [
       "<IPython.core.display.Markdown object>"
      ]
     },
     "metadata": {},
     "output_type": "display_data"
    },
    {
     "data": {
      "text/markdown": [
       "##### Calculate stdev of a data frame by row\n",
       "\n",
       "##### Args:\n",
       "&emsp;&emsp;`x`: The data frame  \n",
       "&emsp;&emsp;`ddof`: Delta Degrees of Freedom.  \n",
       "&emsp;&emsp;`na_rm`: Specifies how to handle missing values in `x`.  \n",
       "\n",
       "##### Returns:\n",
       "&emsp;&emsp;The stdevs by row.  \n"
      ],
      "text/plain": [
       "<IPython.core.display.Markdown object>"
      ]
     },
     "metadata": {},
     "output_type": "display_data"
    },
    {
     "data": {
      "text/markdown": [
       "### # col_medians  "
      ],
      "text/plain": [
       "<IPython.core.display.Markdown object>"
      ]
     },
     "metadata": {},
     "output_type": "display_data"
    },
    {
     "data": {
      "text/markdown": [
       "##### Calculate median of a data frame by column\n",
       "\n",
       "##### Args:\n",
       "&emsp;&emsp;`x`: The data frame  \n",
       "&emsp;&emsp;`na_rm`: Specifies how to handle missing values in `x`.  \n",
       "\n",
       "##### Returns:\n",
       "&emsp;&emsp;The medians by column.  \n"
      ],
      "text/plain": [
       "<IPython.core.display.Markdown object>"
      ]
     },
     "metadata": {},
     "output_type": "display_data"
    },
    {
     "data": {
      "text/markdown": [
       "### # row_medians  "
      ],
      "text/plain": [
       "<IPython.core.display.Markdown object>"
      ]
     },
     "metadata": {},
     "output_type": "display_data"
    },
    {
     "data": {
      "text/markdown": [
       "##### Calculate median of a data frame by row\n",
       "\n",
       "##### Args:\n",
       "&emsp;&emsp;`x`: The data frame  \n",
       "&emsp;&emsp;`na_rm`: Specifies how to handle missing values in `x`.  \n",
       "\n",
       "##### Returns:\n",
       "&emsp;&emsp;The medians by row.  \n"
      ],
      "text/plain": [
       "<IPython.core.display.Markdown object>"
      ]
     },
     "metadata": {},
     "output_type": "display_data"
    },
    {
     "data": {
      "text/markdown": [
       "### # quantile  "
      ],
      "text/plain": [
       "<IPython.core.display.Markdown object>"
      ]
     },
     "metadata": {},
     "output_type": "display_data"
    },
    {
     "data": {
      "text/markdown": [
       "##### produces sample quantiles corresponding to the given probabilities.\n",
       "\n",
       "##### Args:\n",
       "&emsp;&emsp;`x`: The data to sample  \n",
       "&emsp;&emsp;`probs`: numeric vector of probabilities with values in [0,1]  \n",
       "&emsp;&emsp;`na_rm`: if true, any ‘NA’ and ‘NaN’'s are removed from ‘x’  \n",
       "&emsp;&emsp;&emsp;&emsp;before the quantiles are computed.  \n",
       "\n",
       "&emsp;&emsp;`quantile`: {'linear', 'lower', 'higher', 'midpoint', 'nearest'}  \n",
       "&emsp;&emsp;&emsp;&emsp;This optional parameter specifies the interpolation method to use,  \n",
       "&emsp;&emsp;&emsp;&emsp;when the desired quantile lies between two data points i and j.  \n",
       "&emsp;&emsp;&emsp;&emsp;fractional part of the index surrounded by i and j.  \n",
       "\n",
       "&emsp;&emsp;&emsp;&emsp;- lower: i.\n",
       "\n",
       "&emsp;&emsp;&emsp;&emsp;- higher: j.\n",
       "\n",
       "&emsp;&emsp;&emsp;&emsp;- nearest: i or j whichever is nearest.\n",
       "\n",
       "&emsp;&emsp;&emsp;&emsp;- midpoint: (i + j) / 2.\n",
       "\n",
       "##### Returns:\n",
       "&emsp;&emsp;An array of quantile values  \n"
      ],
      "text/plain": [
       "<IPython.core.display.Markdown object>"
      ]
     },
     "metadata": {},
     "output_type": "display_data"
    },
    {
     "data": {
      "text/markdown": [
       "### # std  "
      ],
      "text/plain": [
       "<IPython.core.display.Markdown object>"
      ]
     },
     "metadata": {},
     "output_type": "display_data"
    },
    {
     "data": {
      "text/markdown": [
       "##### Get standard deviation of the input\n"
      ],
      "text/plain": [
       "<IPython.core.display.Markdown object>"
      ]
     },
     "metadata": {},
     "output_type": "display_data"
    },
    {
     "data": {
      "text/markdown": [
       "### # weighted_mean  "
      ],
      "text/plain": [
       "<IPython.core.display.Markdown object>"
      ]
     },
     "metadata": {},
     "output_type": "display_data"
    },
    {
     "data": {
      "text/markdown": [
       "##### Calculate weighted mean\n"
      ],
      "text/plain": [
       "<IPython.core.display.Markdown object>"
      ]
     },
     "metadata": {},
     "output_type": "display_data"
    }
   ],
   "source": [
    "from datar import options\n",
    "options(warn_builtin_names=False)\n",
    "\n",
    "from datar.all import *\n",
    "\n",
    "%run nb_helpers.py\n",
    "debug_kwargs = {'prefix': '\\n', 'sep': f'\\n{\"-\" * 20}\\n'}\n",
    "nb_header(\n",
    "    sum, prod, mean, median, min, max, var, pmin, pmax,\n",
    "    round, sqrt, abs, sign, trunc, ceiling, floor, signif,\n",
    "    log, exp, log2, log10, log1p, cov, scale, col_sums,\n",
    "    row_sums, col_means, row_means, col_sds, row_sds,\n",
    "    col_medians, row_medians, quantile, sd, weighted_mean\n",
    ")"
   ]
  },
  {
   "cell_type": "code",
   "execution_count": 7,
   "metadata": {},
   "outputs": [
    {
     "name": "stdout",
     "output_type": "stream",
     "text": [
      "\n",
      "sum([1,2,4,6])\n",
      "--------------------\n",
      "13\n",
      "\n",
      "prod([1,2,4,6])\n",
      "--------------------\n",
      "48\n",
      "\n",
      "mean([1,2,4,6])\n",
      "--------------------\n",
      "3.25\n",
      "\n",
      "median([1,2,4,6])\n",
      "--------------------\n",
      "3.0\n",
      "\n",
      "min([1,2,4,6])\n",
      "--------------------\n",
      "1\n",
      "\n",
      "max([1,2,4,6])\n",
      "--------------------\n",
      "6\n",
      "\n",
      "var([1,2,4,6])\n",
      "--------------------\n",
      "4.916666666666667\n",
      "\n",
      "pmin([1,4], [2,3])\n",
      "--------------------\n",
      "0    1\n",
      "1    3\n",
      "dtype: int64\n",
      "\n",
      "pmax([1,4], [2,3])\n",
      "--------------------\n",
      "0    2\n",
      "1    4\n",
      "dtype: int64\n"
     ]
    }
   ],
   "source": [
    "\n",
    "debug(\n",
    "    sum([1,2,4,6]),\n",
    "    prod([1,2,4,6]),\n",
    "    mean([1,2,4,6]),\n",
    "    median([1,2,4,6]),\n",
    "    min([1,2,4,6]),\n",
    "    max([1,2,4,6]),\n",
    "    var([1,2,4,6]),\n",
    "    pmin([1,4], [2,3]),\n",
    "    pmax([1,4], [2,3]),\n",
    "    **debug_kwargs\n",
    ")"
   ]
  },
  {
   "cell_type": "code",
   "execution_count": 9,
   "metadata": {},
   "outputs": [
    {
     "name": "stdout",
     "output_type": "stream",
     "text": [
      "\n",
      "round([1.4, 1.5])\n",
      "--------------------\n",
      "array([1., 2.])\n",
      "\n",
      "sqrt([1.1, 2.1])\n",
      "--------------------\n",
      "array([1.04880885, 1.44913767])\n",
      "\n",
      "abs([1, -1])\n",
      "--------------------\n",
      "array([1, 1])\n",
      "\n",
      "sign([10, -10])\n",
      "--------------------\n",
      "array([ 1, -1])\n",
      "\n",
      "trunc([1.1, 2.1])\n",
      "--------------------\n",
      "array([1., 2.])\n",
      "\n",
      "ceiling([1.1, 2.1])\n",
      "--------------------\n",
      "array([2., 3.])\n",
      "\n",
      "floor([1.1, 2.1])\n",
      "--------------------\n",
      "array([1., 2.])\n",
      "\n",
      "signif(3.14567e-10, 3)\n",
      "--------------------\n",
      "array([3.15e-10])\n"
     ]
    }
   ],
   "source": [
    "debug(\n",
    "    round([1.4, 1.5]),\n",
    "    sqrt([1.1, 2.1]),\n",
    "    abs([1, -1]),\n",
    "    sign([10, -10]),\n",
    "    trunc([1.1, 2.1]),\n",
    "    ceiling([1.1, 2.1]),\n",
    "    floor([1.1, 2.1]),\n",
    "    signif(3.14567e-10, 3),\n",
    "    **debug_kwargs\n",
    ")"
   ]
  },
  {
   "cell_type": "code",
   "execution_count": 15,
   "metadata": {},
   "outputs": [
    {
     "name": "stdout",
     "output_type": "stream",
     "text": [
      "\n",
      "log(exp(2))\n",
      "--------------------\n",
      "array([2.])\n",
      "\n",
      "exp(2)\n",
      "--------------------\n",
      "array([7.3890561])\n",
      "\n",
      "log2(4)\n",
      "--------------------\n",
      "array([2.])\n",
      "\n",
      "log10(100)\n",
      "--------------------\n",
      "array([2.])\n",
      "\n",
      "log1p(exp(1)-1)\n",
      "--------------------\n",
      "array([1.])\n",
      "\n",
      "cov([1, 2, 3], [3, 2, 1])\n",
      "--------------------\n",
      "-1.0\n",
      "\n",
      "scale([1, 2, 3])\n",
      "--------------------\n",
      "0   -1.0\n",
      "1    0.0\n",
      "2    1.0\n",
      "Name: scaled, dtype: float64\n"
     ]
    }
   ],
   "source": [
    "debug(\n",
    "    log(exp(2)),\n",
    "    exp(2),\n",
    "    log2(4),\n",
    "    log10(100),\n",
    "    log1p(exp(1)-1),\n",
    "    cov([1, 2, 3], [3, 2, 1]),\n",
    "    scale([1, 2, 3]),\n",
    "    **debug_kwargs\n",
    ")"
   ]
  },
  {
   "cell_type": "code",
   "execution_count": 30,
   "metadata": {},
   "outputs": [
    {
     "name": "stdout",
     "output_type": "stream",
     "text": [
      "\n",
      "df\n",
      "--------------------\n",
      "         v1        v2        v3\n",
      "  <float64> <float64> <float64>\n",
      "0 -0.527205 -0.563083 -1.030619\n",
      "1 -0.652748 -0.620141 -0.410482\n",
      "2 -1.464778  1.274939  0.505686\n",
      "3  0.505498 -0.103748  0.805596\n",
      "4  1.431942 -0.759830 -0.755049\n",
      "\n",
      "col_sums(df)\n",
      "--------------------\n",
      "v1   -0.707291\n",
      "v2   -0.771863\n",
      "v3   -0.884868\n",
      "dtype: float64\n",
      "\n",
      "row_sums(df)\n",
      "--------------------\n",
      "0   -2.120907\n",
      "1   -1.683371\n",
      "2    0.315848\n",
      "3    1.207346\n",
      "4   -0.082938\n",
      "dtype: float64\n",
      "\n",
      "col_means(df)\n",
      "--------------------\n",
      "v1   -0.141458\n",
      "v2   -0.154373\n",
      "v3   -0.176974\n",
      "dtype: float64\n",
      "\n",
      "row_means(df)\n",
      "--------------------\n",
      "0   -0.706969\n",
      "1   -0.561124\n",
      "2    0.105283\n",
      "3    0.402449\n",
      "4   -0.027646\n",
      "dtype: float64\n",
      "\n",
      "col_sds(df)\n",
      "--------------------\n",
      "v1    1.124226\n",
      "v2    0.836071\n",
      "v3    0.798260\n",
      "dtype: float64\n",
      "\n",
      "row_sds(df)\n",
      "--------------------\n",
      "0    0.280863\n",
      "1    0.131475\n",
      "2    1.413066\n",
      "3    0.463348\n",
      "4    1.264042\n",
      "dtype: float64\n",
      "\n",
      "col_medians(df)\n",
      "--------------------\n",
      "v1   -0.527205\n",
      "v2   -0.563083\n",
      "v3   -0.410482\n",
      "dtype: float64\n",
      "\n",
      "row_medians(df)\n",
      "--------------------\n",
      "0   -0.563083\n",
      "1   -0.620141\n",
      "2    0.505686\n",
      "3    0.505498\n",
      "4   -0.755049\n",
      "dtype: float64\n"
     ]
    }
   ],
   "source": [
    "# column and row stats\n",
    "\n",
    "df = tribble(f.v1, f.v2, f.v3, *rnorm(15))\n",
    "debug(\n",
    "    df,\n",
    "    col_sums(df),\n",
    "    row_sums(df),\n",
    "    col_means(df),\n",
    "    row_means(df),\n",
    "    col_sds(df),\n",
    "    row_sds(df),\n",
    "    col_medians(df),\n",
    "    row_medians(df),\n",
    "    **debug_kwargs,\n",
    ")\n"
   ]
  },
  {
   "cell_type": "code",
   "execution_count": 35,
   "metadata": {},
   "outputs": [
    {
     "name": "stdout",
     "output_type": "stream",
     "text": [
      "\n",
      "quantile([1, 2, 3, 4, 5])\n",
      "--------------------\n",
      "0.00    1.0\n",
      "0.25    2.0\n",
      "0.50    3.0\n",
      "0.75    4.0\n",
      "1.00    5.0\n",
      "Name: x, dtype: float64\n",
      "\n",
      "quantile([1, 2, 3, 4, 5], [0, 1])\n",
      "--------------------\n",
      "0.0    1.0\n",
      "1.0    5.0\n",
      "Name: x, dtype: float64\n",
      "\n",
      "sd([1, 2, 3, 4, 5])\n",
      "--------------------\n",
      "1.5811388300841898\n",
      "\n",
      "weighted_mean([1, 2, 3, 4, 5])\n",
      "--------------------\n",
      "3.0\n",
      "\n",
      "weighted_mean([1, 2, 3, 4, 5], [5, 4, 3, 2, 1])\n",
      "--------------------\n",
      "2.3333333333333335\n"
     ]
    }
   ],
   "source": [
    "debug(\n",
    "    quantile([1, 2, 3, 4, 5]),\n",
    "    quantile([1, 2, 3, 4, 5], [0, 1]),\n",
    "    sd([1, 2, 3, 4, 5]),\n",
    "    weighted_mean([1, 2, 3, 4, 5]),\n",
    "    weighted_mean([1, 2, 3, 4, 5], [5, 4, 3, 2, 1]),\n",
    "    **debug_kwargs,\n",
    ")"
   ]
  }
 ],
 "metadata": {
  "interpreter": {
   "hash": "9ed5c94d10bf621c6841991b7e31ffd0f3c8de8ec4167710459737a50edc58e4"
  },
  "kernelspec": {
   "display_name": "Python 3.9.5 ('base')",
   "language": "python",
   "name": "python3"
  },
  "language_info": {
   "codemirror_mode": {
    "name": "ipython",
    "version": 3
   },
   "file_extension": ".py",
   "mimetype": "text/x-python",
   "name": "python",
   "nbconvert_exporter": "python",
   "pygments_lexer": "ipython3",
   "version": "3.9.5"
  },
  "orig_nbformat": 4
 },
 "nbformat": 4,
 "nbformat_minor": 2
}
