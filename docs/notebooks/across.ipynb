{
 "cells": [
  {
   "cell_type": "code",
   "execution_count": 1,
   "metadata": {
    "execution": {
     "iopub.execute_input": "2021-04-17T00:51:14.042775Z",
     "iopub.status.busy": "2021-04-17T00:51:14.041884Z",
     "iopub.status.idle": "2021-04-17T00:51:14.755695Z",
     "shell.execute_reply": "2021-04-17T00:51:14.755169Z"
    }
   },
   "outputs": [
    {
     "output_type": "display_data",
     "data": {
      "text/plain": "<IPython.core.display.HTML object>",
      "text/html": "<div style=\"text-align: right; text-style: italic\">Try this notebook on <a target=\"_blank\" href=\"https://mybinder.org/v2/gh/pwwang/datar/93d069f3ca36711fc811c61dcf60e9fc3d1460a5?filepath=docs%2Fnotebooks%2Facross.ipynb\">binder</a>.</div>"
     },
     "metadata": {}
    },
    {
     "output_type": "display_data",
     "data": {
      "text/plain": "<IPython.core.display.Markdown object>",
      "text/markdown": "### # across  "
     },
     "metadata": {}
    },
    {
     "output_type": "display_data",
     "data": {
      "text/plain": "<IPython.core.display.Markdown object>",
      "text/markdown": "##### Apply the same transformation to multiple columns\n\nThe original API:  \nhttps://dplyr.tidyverse.org/reference/across.html  \n\n##### Args:\n&emsp;&emsp;`_data`: The dataframe.  \n&emsp;&emsp;`*args`: If given, the first 2 elements should be columns and functions  \n&emsp;&emsp;&emsp;&emsp;apply to each of the selected columns. The rest of them will be  \n&emsp;&emsp;&emsp;&emsp;the arguments for the functions.  \n\n&emsp;&emsp;`_names`: A glue specification that describes how to name  \n&emsp;&emsp;&emsp;&emsp;the output columns. This can use `{_col}` to stand for the  \n&emsp;&emsp;&emsp;&emsp;selected column name, and `{_fn}` to stand for the name of  \n&emsp;&emsp;&emsp;&emsp;the function being applied.  \n&emsp;&emsp;&emsp;&emsp;The default (None) is equivalent to `{_col}` for the  \n&emsp;&emsp;&emsp;&emsp;single function case and `{_col}_{_fn}` for the case where  \n&emsp;&emsp;&emsp;&emsp;a list is used for _fns. In such a case, `{_fn}` is 0-based.  \n&emsp;&emsp;&emsp;&emsp;To use 1-based index, use `{_fn1}`  \n\n&emsp;&emsp;`_base0`: Indicating whether the columns are 0-based if selected  \n&emsp;&emsp;&emsp;&emsp;by indexes. if not provided, will use  \n&emsp;&emsp;&emsp;&emsp;`datar.base.get_option('index.base.0')`.  \n\n&emsp;&emsp;`**kwargs`: Keyword arguments for the functions  \n\n##### Returns:\n&emsp;&emsp;A dataframe with one column for each column and each function.  \n"
     },
     "metadata": {}
    },
    {
     "output_type": "display_data",
     "data": {
      "text/plain": "<IPython.core.display.Markdown object>",
      "text/markdown": "### # if_any  "
     },
     "metadata": {}
    },
    {
     "output_type": "display_data",
     "data": {
      "text/plain": "<IPython.core.display.Markdown object>",
      "text/markdown": "##### Apply the same predicate function to a selection of columns and combine\nthe results True if any element is True.  \n\nSee Also:  \n&emsp;&emsp;[`across()`](datar.dplyr.across.across)  \n"
     },
     "metadata": {}
    },
    {
     "output_type": "display_data",
     "data": {
      "text/plain": "<IPython.core.display.Markdown object>",
      "text/markdown": "### # if_all  "
     },
     "metadata": {}
    },
    {
     "output_type": "display_data",
     "data": {
      "text/plain": "<IPython.core.display.Markdown object>",
      "text/markdown": "##### Apply the same predicate function to a selection of columns and combine\nthe results True if all elements are True.  \n\nSee Also:  \n&emsp;&emsp;[`across()`](datar.dplyr.across.across)  \n"
     },
     "metadata": {}
    },
    {
     "output_type": "display_data",
     "data": {
      "text/plain": "<IPython.core.display.Markdown object>",
      "text/markdown": "### # c_across  "
     },
     "metadata": {}
    },
    {
     "output_type": "display_data",
     "data": {
      "text/plain": "<IPython.core.display.Markdown object>",
      "text/markdown": "##### Apply the same transformation to multiple columns rowwisely\n\n##### Args:\n&emsp;&emsp;`_data`: The dataframe  \n&emsp;&emsp;`_cols`: The columns  \n&emsp;&emsp;`_base0`: Indicating whether the columns are 0-based if selected  \n&emsp;&emsp;&emsp;&emsp;by indexes. if not provided, will use  \n&emsp;&emsp;&emsp;&emsp;`datar.base.get_option('index.base.0')`.  \n\n##### Returns:\n&emsp;&emsp;A series  \n"
     },
     "metadata": {}
    }
   ],
   "source": [
    "from datar.datasets import iris\n",
    "from datar.all import *\n",
    "\n",
    "%run nb_helpers.py\n",
    "nb_header(across, if_any, if_all, c_across)"
   ]
  },
  {
   "cell_type": "code",
   "execution_count": 2,
   "metadata": {
    "execution": {
     "iopub.execute_input": "2021-04-17T00:51:14.767016Z",
     "iopub.status.busy": "2021-04-17T00:51:14.766402Z",
     "iopub.status.idle": "2021-04-17T00:51:14.793504Z",
     "shell.execute_reply": "2021-04-17T00:51:14.793874Z"
    }
   },
   "outputs": [
    {
     "output_type": "execute_result",
     "data": {
      "text/plain": [
       "     Sepal_Length  Sepal_Width  Petal_Length  Petal_Width    Species\n",
       "0             5.0          4.0           1.4          0.2     setosa\n",
       "1             5.0          3.0           1.4          0.2     setosa\n",
       "2             5.0          3.0           1.3          0.2     setosa\n",
       "3             5.0          3.0           1.5          0.2     setosa\n",
       "4             5.0          4.0           1.4          0.2     setosa\n",
       "..            ...          ...           ...          ...        ...\n",
       "145           7.0          3.0           5.2          2.3  virginica\n",
       "146           6.0          2.0           5.0          1.9  virginica\n",
       "147           6.0          3.0           5.2          2.0  virginica\n",
       "148           6.0          3.0           5.4          2.3  virginica\n",
       "149           6.0          3.0           5.1          1.8  virginica\n",
       "\n",
       "[150 rows x 5 columns]"
      ],
      "text/html": "<div>\n<style scoped>\n    .dataframe tbody tr th:only-of-type {\n        vertical-align: middle;\n    }\n\n    .dataframe tbody tr th {\n        vertical-align: top;\n    }\n\n    .dataframe thead th {\n        text-align: right;\n    }\n</style>\n<table border=\"1\" class=\"dataframe\">\n  <thead>\n    <tr style=\"text-align: right;\">\n      <th></th>\n      <th>Sepal_Length</th>\n      <th>Sepal_Width</th>\n      <th>Petal_Length</th>\n      <th>Petal_Width</th>\n      <th>Species</th>\n    </tr>\n  </thead>\n  <tbody>\n    <tr>\n      <th>0</th>\n      <td>5.0</td>\n      <td>4.0</td>\n      <td>1.4</td>\n      <td>0.2</td>\n      <td>setosa</td>\n    </tr>\n    <tr>\n      <th>1</th>\n      <td>5.0</td>\n      <td>3.0</td>\n      <td>1.4</td>\n      <td>0.2</td>\n      <td>setosa</td>\n    </tr>\n    <tr>\n      <th>2</th>\n      <td>5.0</td>\n      <td>3.0</td>\n      <td>1.3</td>\n      <td>0.2</td>\n      <td>setosa</td>\n    </tr>\n    <tr>\n      <th>3</th>\n      <td>5.0</td>\n      <td>3.0</td>\n      <td>1.5</td>\n      <td>0.2</td>\n      <td>setosa</td>\n    </tr>\n    <tr>\n      <th>4</th>\n      <td>5.0</td>\n      <td>4.0</td>\n      <td>1.4</td>\n      <td>0.2</td>\n      <td>setosa</td>\n    </tr>\n    <tr>\n      <th>...</th>\n      <td>...</td>\n      <td>...</td>\n      <td>...</td>\n      <td>...</td>\n      <td>...</td>\n    </tr>\n    <tr>\n      <th>145</th>\n      <td>7.0</td>\n      <td>3.0</td>\n      <td>5.2</td>\n      <td>2.3</td>\n      <td>virginica</td>\n    </tr>\n    <tr>\n      <th>146</th>\n      <td>6.0</td>\n      <td>2.0</td>\n      <td>5.0</td>\n      <td>1.9</td>\n      <td>virginica</td>\n    </tr>\n    <tr>\n      <th>147</th>\n      <td>6.0</td>\n      <td>3.0</td>\n      <td>5.2</td>\n      <td>2.0</td>\n      <td>virginica</td>\n    </tr>\n    <tr>\n      <th>148</th>\n      <td>6.0</td>\n      <td>3.0</td>\n      <td>5.4</td>\n      <td>2.3</td>\n      <td>virginica</td>\n    </tr>\n    <tr>\n      <th>149</th>\n      <td>6.0</td>\n      <td>3.0</td>\n      <td>5.1</td>\n      <td>1.8</td>\n      <td>virginica</td>\n    </tr>\n  </tbody>\n</table>\n<p>150 rows × 5 columns</p>\n</div>"
     },
     "metadata": {},
     "execution_count": 2
    }
   ],
   "source": [
    "# round not changing dtypes (Series.round)\n",
    "iris >> mutate(across(c(f.Sepal_Length, f.Sepal_Width), round))"
   ]
  },
  {
   "cell_type": "code",
   "execution_count": 3,
   "metadata": {
    "execution": {
     "iopub.execute_input": "2021-04-17T00:51:14.807502Z",
     "iopub.status.busy": "2021-04-17T00:51:14.802653Z",
     "iopub.status.idle": "2021-04-17T00:51:14.816616Z",
     "shell.execute_reply": "2021-04-17T00:51:14.816981Z"
    }
   },
   "outputs": [
    {
     "output_type": "execute_result",
     "data": {
      "text/plain": [
       "     Sepal_Length  Sepal_Width  Petal_Length  Petal_Width    Species\n",
       "0             5.0          4.0           1.4          0.2     setosa\n",
       "1             5.0          3.0           1.4          0.2     setosa\n",
       "2             5.0          3.0           1.3          0.2     setosa\n",
       "3             5.0          3.0           1.5          0.2     setosa\n",
       "4             5.0          4.0           1.4          0.2     setosa\n",
       "..            ...          ...           ...          ...        ...\n",
       "145           7.0          3.0           5.2          2.3  virginica\n",
       "146           6.0          2.0           5.0          1.9  virginica\n",
       "147           6.0          3.0           5.2          2.0  virginica\n",
       "148           6.0          3.0           5.4          2.3  virginica\n",
       "149           6.0          3.0           5.1          1.8  virginica\n",
       "\n",
       "[150 rows x 5 columns]"
      ],
      "text/html": "<div>\n<style scoped>\n    .dataframe tbody tr th:only-of-type {\n        vertical-align: middle;\n    }\n\n    .dataframe tbody tr th {\n        vertical-align: top;\n    }\n\n    .dataframe thead th {\n        text-align: right;\n    }\n</style>\n<table border=\"1\" class=\"dataframe\">\n  <thead>\n    <tr style=\"text-align: right;\">\n      <th></th>\n      <th>Sepal_Length</th>\n      <th>Sepal_Width</th>\n      <th>Petal_Length</th>\n      <th>Petal_Width</th>\n      <th>Species</th>\n    </tr>\n  </thead>\n  <tbody>\n    <tr>\n      <th>0</th>\n      <td>5.0</td>\n      <td>4.0</td>\n      <td>1.4</td>\n      <td>0.2</td>\n      <td>setosa</td>\n    </tr>\n    <tr>\n      <th>1</th>\n      <td>5.0</td>\n      <td>3.0</td>\n      <td>1.4</td>\n      <td>0.2</td>\n      <td>setosa</td>\n    </tr>\n    <tr>\n      <th>2</th>\n      <td>5.0</td>\n      <td>3.0</td>\n      <td>1.3</td>\n      <td>0.2</td>\n      <td>setosa</td>\n    </tr>\n    <tr>\n      <th>3</th>\n      <td>5.0</td>\n      <td>3.0</td>\n      <td>1.5</td>\n      <td>0.2</td>\n      <td>setosa</td>\n    </tr>\n    <tr>\n      <th>4</th>\n      <td>5.0</td>\n      <td>4.0</td>\n      <td>1.4</td>\n      <td>0.2</td>\n      <td>setosa</td>\n    </tr>\n    <tr>\n      <th>...</th>\n      <td>...</td>\n      <td>...</td>\n      <td>...</td>\n      <td>...</td>\n      <td>...</td>\n    </tr>\n    <tr>\n      <th>145</th>\n      <td>7.0</td>\n      <td>3.0</td>\n      <td>5.2</td>\n      <td>2.3</td>\n      <td>virginica</td>\n    </tr>\n    <tr>\n      <th>146</th>\n      <td>6.0</td>\n      <td>2.0</td>\n      <td>5.0</td>\n      <td>1.9</td>\n      <td>virginica</td>\n    </tr>\n    <tr>\n      <th>147</th>\n      <td>6.0</td>\n      <td>3.0</td>\n      <td>5.2</td>\n      <td>2.0</td>\n      <td>virginica</td>\n    </tr>\n    <tr>\n      <th>148</th>\n      <td>6.0</td>\n      <td>3.0</td>\n      <td>5.4</td>\n      <td>2.3</td>\n      <td>virginica</td>\n    </tr>\n    <tr>\n      <th>149</th>\n      <td>6.0</td>\n      <td>3.0</td>\n      <td>5.1</td>\n      <td>1.8</td>\n      <td>virginica</td>\n    </tr>\n  </tbody>\n</table>\n<p>150 rows × 5 columns</p>\n</div>"
     },
     "metadata": {},
     "execution_count": 3
    }
   ],
   "source": [
    "# 1-based index by default\n",
    "iris >> mutate(across(c(1,2), round))"
   ]
  },
  {
   "cell_type": "code",
   "execution_count": 4,
   "metadata": {},
   "outputs": [
    {
     "output_type": "execute_result",
     "data": {
      "text/plain": [
       "     Sepal_Length  Sepal_Width  Petal_Length  Petal_Width    Species\n",
       "0             5.0          4.0           1.4          0.2     setosa\n",
       "1             5.0          3.0           1.4          0.2     setosa\n",
       "2             5.0          3.0           1.3          0.2     setosa\n",
       "3             5.0          3.0           1.5          0.2     setosa\n",
       "4             5.0          4.0           1.4          0.2     setosa\n",
       "..            ...          ...           ...          ...        ...\n",
       "145           7.0          3.0           5.2          2.3  virginica\n",
       "146           6.0          2.0           5.0          1.9  virginica\n",
       "147           6.0          3.0           5.2          2.0  virginica\n",
       "148           6.0          3.0           5.4          2.3  virginica\n",
       "149           6.0          3.0           5.1          1.8  virginica\n",
       "\n",
       "[150 rows x 5 columns]"
      ],
      "text/html": "<div>\n<style scoped>\n    .dataframe tbody tr th:only-of-type {\n        vertical-align: middle;\n    }\n\n    .dataframe tbody tr th {\n        vertical-align: top;\n    }\n\n    .dataframe thead th {\n        text-align: right;\n    }\n</style>\n<table border=\"1\" class=\"dataframe\">\n  <thead>\n    <tr style=\"text-align: right;\">\n      <th></th>\n      <th>Sepal_Length</th>\n      <th>Sepal_Width</th>\n      <th>Petal_Length</th>\n      <th>Petal_Width</th>\n      <th>Species</th>\n    </tr>\n  </thead>\n  <tbody>\n    <tr>\n      <th>0</th>\n      <td>5.0</td>\n      <td>4.0</td>\n      <td>1.4</td>\n      <td>0.2</td>\n      <td>setosa</td>\n    </tr>\n    <tr>\n      <th>1</th>\n      <td>5.0</td>\n      <td>3.0</td>\n      <td>1.4</td>\n      <td>0.2</td>\n      <td>setosa</td>\n    </tr>\n    <tr>\n      <th>2</th>\n      <td>5.0</td>\n      <td>3.0</td>\n      <td>1.3</td>\n      <td>0.2</td>\n      <td>setosa</td>\n    </tr>\n    <tr>\n      <th>3</th>\n      <td>5.0</td>\n      <td>3.0</td>\n      <td>1.5</td>\n      <td>0.2</td>\n      <td>setosa</td>\n    </tr>\n    <tr>\n      <th>4</th>\n      <td>5.0</td>\n      <td>4.0</td>\n      <td>1.4</td>\n      <td>0.2</td>\n      <td>setosa</td>\n    </tr>\n    <tr>\n      <th>...</th>\n      <td>...</td>\n      <td>...</td>\n      <td>...</td>\n      <td>...</td>\n      <td>...</td>\n    </tr>\n    <tr>\n      <th>145</th>\n      <td>7.0</td>\n      <td>3.0</td>\n      <td>5.2</td>\n      <td>2.3</td>\n      <td>virginica</td>\n    </tr>\n    <tr>\n      <th>146</th>\n      <td>6.0</td>\n      <td>2.0</td>\n      <td>5.0</td>\n      <td>1.9</td>\n      <td>virginica</td>\n    </tr>\n    <tr>\n      <th>147</th>\n      <td>6.0</td>\n      <td>3.0</td>\n      <td>5.2</td>\n      <td>2.0</td>\n      <td>virginica</td>\n    </tr>\n    <tr>\n      <th>148</th>\n      <td>6.0</td>\n      <td>3.0</td>\n      <td>5.4</td>\n      <td>2.3</td>\n      <td>virginica</td>\n    </tr>\n    <tr>\n      <th>149</th>\n      <td>6.0</td>\n      <td>3.0</td>\n      <td>5.1</td>\n      <td>1.8</td>\n      <td>virginica</td>\n    </tr>\n  </tbody>\n</table>\n<p>150 rows × 5 columns</p>\n</div>"
     },
     "metadata": {},
     "execution_count": 4
    }
   ],
   "source": [
    "# use 0-base index\n",
    "iris >> mutate(across(c(0,1), round, _base0=True))\n",
    "\n"
   ]
  },
  {
   "cell_type": "code",
   "execution_count": 5,
   "metadata": {},
   "outputs": [
    {
     "output_type": "execute_result",
     "data": {
      "text/plain": [
       "     Sepal_Length  Sepal_Width  Petal_Length  Petal_Width    Species\n",
       "0             5.0          4.0           1.4          0.2     setosa\n",
       "1             5.0          3.0           1.4          0.2     setosa\n",
       "2             5.0          3.0           1.3          0.2     setosa\n",
       "3             5.0          3.0           1.5          0.2     setosa\n",
       "4             5.0          4.0           1.4          0.2     setosa\n",
       "..            ...          ...           ...          ...        ...\n",
       "145           7.0          3.0           5.2          2.3  virginica\n",
       "146           6.0          2.0           5.0          1.9  virginica\n",
       "147           6.0          3.0           5.2          2.0  virginica\n",
       "148           6.0          3.0           5.4          2.3  virginica\n",
       "149           6.0          3.0           5.1          1.8  virginica\n",
       "\n",
       "[150 rows x 5 columns]"
      ],
      "text/html": "<div>\n<style scoped>\n    .dataframe tbody tr th:only-of-type {\n        vertical-align: middle;\n    }\n\n    .dataframe tbody tr th {\n        vertical-align: top;\n    }\n\n    .dataframe thead th {\n        text-align: right;\n    }\n</style>\n<table border=\"1\" class=\"dataframe\">\n  <thead>\n    <tr style=\"text-align: right;\">\n      <th></th>\n      <th>Sepal_Length</th>\n      <th>Sepal_Width</th>\n      <th>Petal_Length</th>\n      <th>Petal_Width</th>\n      <th>Species</th>\n    </tr>\n  </thead>\n  <tbody>\n    <tr>\n      <th>0</th>\n      <td>5.0</td>\n      <td>4.0</td>\n      <td>1.4</td>\n      <td>0.2</td>\n      <td>setosa</td>\n    </tr>\n    <tr>\n      <th>1</th>\n      <td>5.0</td>\n      <td>3.0</td>\n      <td>1.4</td>\n      <td>0.2</td>\n      <td>setosa</td>\n    </tr>\n    <tr>\n      <th>2</th>\n      <td>5.0</td>\n      <td>3.0</td>\n      <td>1.3</td>\n      <td>0.2</td>\n      <td>setosa</td>\n    </tr>\n    <tr>\n      <th>3</th>\n      <td>5.0</td>\n      <td>3.0</td>\n      <td>1.5</td>\n      <td>0.2</td>\n      <td>setosa</td>\n    </tr>\n    <tr>\n      <th>4</th>\n      <td>5.0</td>\n      <td>4.0</td>\n      <td>1.4</td>\n      <td>0.2</td>\n      <td>setosa</td>\n    </tr>\n    <tr>\n      <th>...</th>\n      <td>...</td>\n      <td>...</td>\n      <td>...</td>\n      <td>...</td>\n      <td>...</td>\n    </tr>\n    <tr>\n      <th>145</th>\n      <td>7.0</td>\n      <td>3.0</td>\n      <td>5.2</td>\n      <td>2.3</td>\n      <td>virginica</td>\n    </tr>\n    <tr>\n      <th>146</th>\n      <td>6.0</td>\n      <td>2.0</td>\n      <td>5.0</td>\n      <td>1.9</td>\n      <td>virginica</td>\n    </tr>\n    <tr>\n      <th>147</th>\n      <td>6.0</td>\n      <td>3.0</td>\n      <td>5.2</td>\n      <td>2.0</td>\n      <td>virginica</td>\n    </tr>\n    <tr>\n      <th>148</th>\n      <td>6.0</td>\n      <td>3.0</td>\n      <td>5.4</td>\n      <td>2.3</td>\n      <td>virginica</td>\n    </tr>\n    <tr>\n      <th>149</th>\n      <td>6.0</td>\n      <td>3.0</td>\n      <td>5.1</td>\n      <td>1.8</td>\n      <td>virginica</td>\n    </tr>\n  </tbody>\n</table>\n<p>150 rows × 5 columns</p>\n</div>"
     },
     "metadata": {},
     "execution_count": 5
    }
   ],
   "source": [
    "# change the options temporarily\n",
    "with options_context(index_base_0=True):\n",
    "    iris >> mutate(across(c(0,1), round))\n",
    "\n",
    "# to change it forever: options(index_base_0=True)"
   ]
  },
  {
   "cell_type": "code",
   "execution_count": 6,
   "metadata": {
    "execution": {
     "iopub.execute_input": "2021-04-17T00:51:14.836531Z",
     "iopub.status.busy": "2021-04-17T00:51:14.835801Z",
     "iopub.status.idle": "2021-04-17T00:51:14.839425Z",
     "shell.execute_reply": "2021-04-17T00:51:14.839824Z"
    }
   },
   "outputs": [
    {
     "output_type": "execute_result",
     "data": {
      "text/plain": [
       "     Sepal_Length  Sepal_Width  Petal_Length  Petal_Width    Species\n",
       "0             5.0          4.0           1.4          0.2     setosa\n",
       "1             5.0          3.0           1.4          0.2     setosa\n",
       "2             5.0          3.0           1.3          0.2     setosa\n",
       "3             5.0          3.0           1.5          0.2     setosa\n",
       "4             5.0          4.0           1.4          0.2     setosa\n",
       "..            ...          ...           ...          ...        ...\n",
       "145           7.0          3.0           5.2          2.3  virginica\n",
       "146           6.0          2.0           5.0          1.9  virginica\n",
       "147           6.0          3.0           5.2          2.0  virginica\n",
       "148           6.0          3.0           5.4          2.3  virginica\n",
       "149           6.0          3.0           5.1          1.8  virginica\n",
       "\n",
       "[150 rows x 5 columns]"
      ],
      "text/html": "<div>\n<style scoped>\n    .dataframe tbody tr th:only-of-type {\n        vertical-align: middle;\n    }\n\n    .dataframe tbody tr th {\n        vertical-align: top;\n    }\n\n    .dataframe thead th {\n        text-align: right;\n    }\n</style>\n<table border=\"1\" class=\"dataframe\">\n  <thead>\n    <tr style=\"text-align: right;\">\n      <th></th>\n      <th>Sepal_Length</th>\n      <th>Sepal_Width</th>\n      <th>Petal_Length</th>\n      <th>Petal_Width</th>\n      <th>Species</th>\n    </tr>\n  </thead>\n  <tbody>\n    <tr>\n      <th>0</th>\n      <td>5.0</td>\n      <td>4.0</td>\n      <td>1.4</td>\n      <td>0.2</td>\n      <td>setosa</td>\n    </tr>\n    <tr>\n      <th>1</th>\n      <td>5.0</td>\n      <td>3.0</td>\n      <td>1.4</td>\n      <td>0.2</td>\n      <td>setosa</td>\n    </tr>\n    <tr>\n      <th>2</th>\n      <td>5.0</td>\n      <td>3.0</td>\n      <td>1.3</td>\n      <td>0.2</td>\n      <td>setosa</td>\n    </tr>\n    <tr>\n      <th>3</th>\n      <td>5.0</td>\n      <td>3.0</td>\n      <td>1.5</td>\n      <td>0.2</td>\n      <td>setosa</td>\n    </tr>\n    <tr>\n      <th>4</th>\n      <td>5.0</td>\n      <td>4.0</td>\n      <td>1.4</td>\n      <td>0.2</td>\n      <td>setosa</td>\n    </tr>\n    <tr>\n      <th>...</th>\n      <td>...</td>\n      <td>...</td>\n      <td>...</td>\n      <td>...</td>\n      <td>...</td>\n    </tr>\n    <tr>\n      <th>145</th>\n      <td>7.0</td>\n      <td>3.0</td>\n      <td>5.2</td>\n      <td>2.3</td>\n      <td>virginica</td>\n    </tr>\n    <tr>\n      <th>146</th>\n      <td>6.0</td>\n      <td>2.0</td>\n      <td>5.0</td>\n      <td>1.9</td>\n      <td>virginica</td>\n    </tr>\n    <tr>\n      <th>147</th>\n      <td>6.0</td>\n      <td>3.0</td>\n      <td>5.2</td>\n      <td>2.0</td>\n      <td>virginica</td>\n    </tr>\n    <tr>\n      <th>148</th>\n      <td>6.0</td>\n      <td>3.0</td>\n      <td>5.4</td>\n      <td>2.3</td>\n      <td>virginica</td>\n    </tr>\n    <tr>\n      <th>149</th>\n      <td>6.0</td>\n      <td>3.0</td>\n      <td>5.1</td>\n      <td>1.8</td>\n      <td>virginica</td>\n    </tr>\n  </tbody>\n</table>\n<p>150 rows × 5 columns</p>\n</div>"
     },
     "metadata": {},
     "execution_count": 6
    }
   ],
   "source": [
    "# use slice with column names\n",
    "iris >> mutate(across(f[:f.Sepal_Width], round)) "
   ]
  },
  {
   "cell_type": "code",
   "execution_count": 7,
   "metadata": {
    "execution": {
     "iopub.execute_input": "2021-04-17T00:51:14.857983Z",
     "iopub.status.busy": "2021-04-17T00:51:14.854006Z",
     "iopub.status.idle": "2021-04-17T00:51:14.862094Z",
     "shell.execute_reply": "2021-04-17T00:51:14.861697Z"
    }
   },
   "outputs": [
    {
     "output_type": "execute_result",
     "data": {
      "text/plain": [
       "     Sepal_Length  Sepal_Width  Petal_Length  Petal_Width    Species\n",
       "0             5.0          3.5           1.4          0.2     setosa\n",
       "1             5.0          3.0           1.4          0.2     setosa\n",
       "2             5.0          3.2           1.3          0.2     setosa\n",
       "3             5.0          3.1           1.5          0.2     setosa\n",
       "4             5.0          3.6           1.4          0.2     setosa\n",
       "..            ...          ...           ...          ...        ...\n",
       "145           7.0          3.0           5.2          2.3  virginica\n",
       "146           6.0          2.5           5.0          1.9  virginica\n",
       "147           6.0          3.0           5.2          2.0  virginica\n",
       "148           6.0          3.4           5.4          2.3  virginica\n",
       "149           6.0          3.0           5.1          1.8  virginica\n",
       "\n",
       "[150 rows x 5 columns]"
      ],
      "text/html": "<div>\n<style scoped>\n    .dataframe tbody tr th:only-of-type {\n        vertical-align: middle;\n    }\n\n    .dataframe tbody tr th {\n        vertical-align: top;\n    }\n\n    .dataframe thead th {\n        text-align: right;\n    }\n</style>\n<table border=\"1\" class=\"dataframe\">\n  <thead>\n    <tr style=\"text-align: right;\">\n      <th></th>\n      <th>Sepal_Length</th>\n      <th>Sepal_Width</th>\n      <th>Petal_Length</th>\n      <th>Petal_Width</th>\n      <th>Species</th>\n    </tr>\n  </thead>\n  <tbody>\n    <tr>\n      <th>0</th>\n      <td>5.0</td>\n      <td>3.5</td>\n      <td>1.4</td>\n      <td>0.2</td>\n      <td>setosa</td>\n    </tr>\n    <tr>\n      <th>1</th>\n      <td>5.0</td>\n      <td>3.0</td>\n      <td>1.4</td>\n      <td>0.2</td>\n      <td>setosa</td>\n    </tr>\n    <tr>\n      <th>2</th>\n      <td>5.0</td>\n      <td>3.2</td>\n      <td>1.3</td>\n      <td>0.2</td>\n      <td>setosa</td>\n    </tr>\n    <tr>\n      <th>3</th>\n      <td>5.0</td>\n      <td>3.1</td>\n      <td>1.5</td>\n      <td>0.2</td>\n      <td>setosa</td>\n    </tr>\n    <tr>\n      <th>4</th>\n      <td>5.0</td>\n      <td>3.6</td>\n      <td>1.4</td>\n      <td>0.2</td>\n      <td>setosa</td>\n    </tr>\n    <tr>\n      <th>...</th>\n      <td>...</td>\n      <td>...</td>\n      <td>...</td>\n      <td>...</td>\n      <td>...</td>\n    </tr>\n    <tr>\n      <th>145</th>\n      <td>7.0</td>\n      <td>3.0</td>\n      <td>5.2</td>\n      <td>2.3</td>\n      <td>virginica</td>\n    </tr>\n    <tr>\n      <th>146</th>\n      <td>6.0</td>\n      <td>2.5</td>\n      <td>5.0</td>\n      <td>1.9</td>\n      <td>virginica</td>\n    </tr>\n    <tr>\n      <th>147</th>\n      <td>6.0</td>\n      <td>3.0</td>\n      <td>5.2</td>\n      <td>2.0</td>\n      <td>virginica</td>\n    </tr>\n    <tr>\n      <th>148</th>\n      <td>6.0</td>\n      <td>3.4</td>\n      <td>5.4</td>\n      <td>2.3</td>\n      <td>virginica</td>\n    </tr>\n    <tr>\n      <th>149</th>\n      <td>6.0</td>\n      <td>3.0</td>\n      <td>5.1</td>\n      <td>1.8</td>\n      <td>virginica</td>\n    </tr>\n  </tbody>\n</table>\n<p>150 rows × 5 columns</p>\n</div>"
     },
     "metadata": {},
     "execution_count": 7
    }
   ],
   "source": [
    "# to exclude stop of slice\n",
    "iris >> mutate(across(f[:f.Sepal_Width:0], round)) "
   ]
  },
  {
   "cell_type": "code",
   "execution_count": 8,
   "metadata": {
    "execution": {
     "iopub.execute_input": "2021-04-17T00:51:14.873179Z",
     "iopub.status.busy": "2021-04-17T00:51:14.872420Z",
     "iopub.status.idle": "2021-04-17T00:51:14.925328Z",
     "shell.execute_reply": "2021-04-17T00:51:14.924969Z"
    }
   },
   "outputs": [
    {
     "output_type": "execute_result",
     "data": {
      "text/plain": [
       "     Sepal_Length  Sepal_Width  Petal_Length  Petal_Width    Species\n",
       "0             5.0          4.0           1.4          0.2     setosa\n",
       "1             5.0          3.0           1.4          0.2     setosa\n",
       "2             5.0          3.0           1.3          0.2     setosa\n",
       "3             5.0          3.0           1.5          0.2     setosa\n",
       "4             5.0          4.0           1.4          0.2     setosa\n",
       "..            ...          ...           ...          ...        ...\n",
       "145           7.0          3.0           5.2          2.3  virginica\n",
       "146           6.0          2.0           5.0          1.9  virginica\n",
       "147           6.0          3.0           5.2          2.0  virginica\n",
       "148           6.0          3.0           5.4          2.3  virginica\n",
       "149           6.0          3.0           5.1          1.8  virginica\n",
       "\n",
       "[150 rows x 5 columns]"
      ],
      "text/html": "<div>\n<style scoped>\n    .dataframe tbody tr th:only-of-type {\n        vertical-align: middle;\n    }\n\n    .dataframe tbody tr th {\n        vertical-align: top;\n    }\n\n    .dataframe thead th {\n        text-align: right;\n    }\n</style>\n<table border=\"1\" class=\"dataframe\">\n  <thead>\n    <tr style=\"text-align: right;\">\n      <th></th>\n      <th>Sepal_Length</th>\n      <th>Sepal_Width</th>\n      <th>Petal_Length</th>\n      <th>Petal_Width</th>\n      <th>Species</th>\n    </tr>\n  </thead>\n  <tbody>\n    <tr>\n      <th>0</th>\n      <td>5.0</td>\n      <td>4.0</td>\n      <td>1.4</td>\n      <td>0.2</td>\n      <td>setosa</td>\n    </tr>\n    <tr>\n      <th>1</th>\n      <td>5.0</td>\n      <td>3.0</td>\n      <td>1.4</td>\n      <td>0.2</td>\n      <td>setosa</td>\n    </tr>\n    <tr>\n      <th>2</th>\n      <td>5.0</td>\n      <td>3.0</td>\n      <td>1.3</td>\n      <td>0.2</td>\n      <td>setosa</td>\n    </tr>\n    <tr>\n      <th>3</th>\n      <td>5.0</td>\n      <td>3.0</td>\n      <td>1.5</td>\n      <td>0.2</td>\n      <td>setosa</td>\n    </tr>\n    <tr>\n      <th>4</th>\n      <td>5.0</td>\n      <td>4.0</td>\n      <td>1.4</td>\n      <td>0.2</td>\n      <td>setosa</td>\n    </tr>\n    <tr>\n      <th>...</th>\n      <td>...</td>\n      <td>...</td>\n      <td>...</td>\n      <td>...</td>\n      <td>...</td>\n    </tr>\n    <tr>\n      <th>145</th>\n      <td>7.0</td>\n      <td>3.0</td>\n      <td>5.2</td>\n      <td>2.3</td>\n      <td>virginica</td>\n    </tr>\n    <tr>\n      <th>146</th>\n      <td>6.0</td>\n      <td>2.0</td>\n      <td>5.0</td>\n      <td>1.9</td>\n      <td>virginica</td>\n    </tr>\n    <tr>\n      <th>147</th>\n      <td>6.0</td>\n      <td>3.0</td>\n      <td>5.2</td>\n      <td>2.0</td>\n      <td>virginica</td>\n    </tr>\n    <tr>\n      <th>148</th>\n      <td>6.0</td>\n      <td>3.0</td>\n      <td>5.4</td>\n      <td>2.3</td>\n      <td>virginica</td>\n    </tr>\n    <tr>\n      <th>149</th>\n      <td>6.0</td>\n      <td>3.0</td>\n      <td>5.1</td>\n      <td>1.8</td>\n      <td>virginica</td>\n    </tr>\n  </tbody>\n</table>\n<p>150 rows × 5 columns</p>\n</div>"
     },
     "metadata": {},
     "execution_count": 8
    }
   ],
   "source": [
    "iris >> mutate(across(where(is_double) & ~c(f.Petal_Length, f.Petal_Width), round))"
   ]
  },
  {
   "cell_type": "code",
   "execution_count": 9,
   "metadata": {
    "execution": {
     "iopub.execute_input": "2021-04-17T00:51:14.936192Z",
     "iopub.status.busy": "2021-04-17T00:51:14.935600Z",
     "iopub.status.idle": "2021-04-17T00:51:14.938296Z",
     "shell.execute_reply": "2021-04-17T00:51:14.938694Z"
    }
   },
   "outputs": [
    {
     "output_type": "execute_result",
     "data": {
      "text/plain": [
       "Sepal_Length     float64\n",
       "Sepal_Width      float64\n",
       "Petal_Length     float64\n",
       "Petal_Width      float64\n",
       "Species         category\n",
       "dtype: object"
      ]
     },
     "metadata": {},
     "execution_count": 9
    }
   ],
   "source": [
    "iris = iris >> mutate(Species=as_categorical(f.Species))\n",
    "iris.dtypes"
   ]
  },
  {
   "cell_type": "code",
   "execution_count": 10,
   "metadata": {
    "execution": {
     "iopub.execute_input": "2021-04-17T00:51:14.949540Z",
     "iopub.status.busy": "2021-04-17T00:51:14.946855Z",
     "iopub.status.idle": "2021-04-17T00:51:14.952454Z",
     "shell.execute_reply": "2021-04-17T00:51:14.952850Z"
    }
   },
   "outputs": [
    {
     "output_type": "execute_result",
     "data": {
      "text/plain": [
       "Sepal_Length    float64\n",
       "Sepal_Width     float64\n",
       "Petal_Length    float64\n",
       "Petal_Width     float64\n",
       "Species          object\n",
       "dtype: object"
      ]
     },
     "metadata": {},
     "execution_count": 10
    }
   ],
   "source": [
    "iris = iris >> mutate(across(where(is_categorical), as_character))\n",
    "iris.dtypes"
   ]
  },
  {
   "cell_type": "code",
   "execution_count": 11,
   "metadata": {
    "execution": {
     "iopub.execute_input": "2021-04-17T00:51:14.957556Z",
     "iopub.status.busy": "2021-04-17T00:51:14.957052Z",
     "iopub.status.idle": "2021-04-17T00:51:15.023751Z",
     "shell.execute_reply": "2021-04-17T00:51:15.023230Z"
    }
   },
   "outputs": [
    {
     "output_type": "execute_result",
     "data": {
      "text/plain": [
       "      Species  Sepal_Length  Sepal_Width\n",
       "0      setosa         5.006        3.428\n",
       "1  versicolor         5.936        2.770\n",
       "2   virginica         6.588        2.974"
      ],
      "text/html": "<div>\n<style scoped>\n    .dataframe tbody tr th:only-of-type {\n        vertical-align: middle;\n    }\n\n    .dataframe tbody tr th {\n        vertical-align: top;\n    }\n\n    .dataframe thead th {\n        text-align: right;\n    }\n</style>\n<table border=\"1\" class=\"dataframe\">\n  <thead>\n    <tr style=\"text-align: right;\">\n      <th></th>\n      <th>Species</th>\n      <th>Sepal_Length</th>\n      <th>Sepal_Width</th>\n    </tr>\n  </thead>\n  <tbody>\n    <tr>\n      <th>0</th>\n      <td>setosa</td>\n      <td>5.006</td>\n      <td>3.428</td>\n    </tr>\n    <tr>\n      <th>1</th>\n      <td>versicolor</td>\n      <td>5.936</td>\n      <td>2.770</td>\n    </tr>\n    <tr>\n      <th>2</th>\n      <td>virginica</td>\n      <td>6.588</td>\n      <td>2.974</td>\n    </tr>\n  </tbody>\n</table>\n</div>"
     },
     "metadata": {},
     "execution_count": 11
    }
   ],
   "source": [
    "iris >> group_by(f.Species) >> summarise(\n",
    "    across(starts_with(\"Sepal\"), mean, na_rm=True)\n",
    ")"
   ]
  },
  {
   "cell_type": "code",
   "execution_count": 12,
   "metadata": {
    "execution": {
     "iopub.execute_input": "2021-04-17T00:51:15.068536Z",
     "iopub.status.busy": "2021-04-17T00:51:15.054570Z",
     "iopub.status.idle": "2021-04-17T00:51:15.073341Z",
     "shell.execute_reply": "2021-04-17T00:51:15.073898Z"
    }
   },
   "outputs": [
    {
     "output_type": "execute_result",
     "data": {
      "text/plain": [
       "      Species  Sepal_Length_mean  Sepal_Length_sd  Sepal_Width_mean  \\\n",
       "0      setosa              5.006         0.352490             3.428   \n",
       "1  versicolor              5.936         0.516171             2.770   \n",
       "2   virginica              6.588         0.635880             2.974   \n",
       "\n",
       "   Sepal_Width_sd  \n",
       "0        0.379064  \n",
       "1        0.313798  \n",
       "2        0.322497  "
      ],
      "text/html": "<div>\n<style scoped>\n    .dataframe tbody tr th:only-of-type {\n        vertical-align: middle;\n    }\n\n    .dataframe tbody tr th {\n        vertical-align: top;\n    }\n\n    .dataframe thead th {\n        text-align: right;\n    }\n</style>\n<table border=\"1\" class=\"dataframe\">\n  <thead>\n    <tr style=\"text-align: right;\">\n      <th></th>\n      <th>Species</th>\n      <th>Sepal_Length_mean</th>\n      <th>Sepal_Length_sd</th>\n      <th>Sepal_Width_mean</th>\n      <th>Sepal_Width_sd</th>\n    </tr>\n  </thead>\n  <tbody>\n    <tr>\n      <th>0</th>\n      <td>setosa</td>\n      <td>5.006</td>\n      <td>0.352490</td>\n      <td>3.428</td>\n      <td>0.379064</td>\n    </tr>\n    <tr>\n      <th>1</th>\n      <td>versicolor</td>\n      <td>5.936</td>\n      <td>0.516171</td>\n      <td>2.770</td>\n      <td>0.313798</td>\n    </tr>\n    <tr>\n      <th>2</th>\n      <td>virginica</td>\n      <td>6.588</td>\n      <td>0.635880</td>\n      <td>2.974</td>\n      <td>0.322497</td>\n    </tr>\n  </tbody>\n</table>\n</div>"
     },
     "metadata": {},
     "execution_count": 12
    }
   ],
   "source": [
    "iris >> group_by(f.Species) >> summarise(\n",
    "    across(starts_with(\"Sepal\"), dict(mean=mean, sd=sd))\n",
    ")"
   ]
  },
  {
   "cell_type": "code",
   "execution_count": 13,
   "metadata": {
    "execution": {
     "iopub.execute_input": "2021-04-17T00:51:15.111164Z",
     "iopub.status.busy": "2021-04-17T00:51:15.096733Z",
     "iopub.status.idle": "2021-04-17T00:51:15.114331Z",
     "shell.execute_reply": "2021-04-17T00:51:15.113793Z"
    }
   },
   "outputs": [
    {
     "output_type": "execute_result",
     "data": {
      "text/plain": [
       "      Species  mean_Sepal_Length  mean_Sepal_Width\n",
       "0      setosa              5.006             3.428\n",
       "1  versicolor              5.936             2.770\n",
       "2   virginica              6.588             2.974"
      ],
      "text/html": "<div>\n<style scoped>\n    .dataframe tbody tr th:only-of-type {\n        vertical-align: middle;\n    }\n\n    .dataframe tbody tr th {\n        vertical-align: top;\n    }\n\n    .dataframe thead th {\n        text-align: right;\n    }\n</style>\n<table border=\"1\" class=\"dataframe\">\n  <thead>\n    <tr style=\"text-align: right;\">\n      <th></th>\n      <th>Species</th>\n      <th>mean_Sepal_Length</th>\n      <th>mean_Sepal_Width</th>\n    </tr>\n  </thead>\n  <tbody>\n    <tr>\n      <th>0</th>\n      <td>setosa</td>\n      <td>5.006</td>\n      <td>3.428</td>\n    </tr>\n    <tr>\n      <th>1</th>\n      <td>versicolor</td>\n      <td>5.936</td>\n      <td>2.770</td>\n    </tr>\n    <tr>\n      <th>2</th>\n      <td>virginica</td>\n      <td>6.588</td>\n      <td>2.974</td>\n    </tr>\n  </tbody>\n</table>\n</div>"
     },
     "metadata": {},
     "execution_count": 13
    }
   ],
   "source": [
    "iris >> group_by(f.Species) >> summarise(\n",
    "    across(starts_with(\"Sepal\"), mean, _names = \"mean_{_col}\")\n",
    ")"
   ]
  },
  {
   "cell_type": "code",
   "execution_count": 14,
   "metadata": {
    "execution": {
     "iopub.execute_input": "2021-04-17T00:51:15.161084Z",
     "iopub.status.busy": "2021-04-17T00:51:15.155335Z",
     "iopub.status.idle": "2021-04-17T00:51:15.164159Z",
     "shell.execute_reply": "2021-04-17T00:51:15.163659Z"
    }
   },
   "outputs": [
    {
     "output_type": "execute_result",
     "data": {
      "text/plain": [
       "      Species  Sepal_Length.mean  Sepal_Length.sd  Sepal_Width.mean  \\\n",
       "0      setosa              5.006         0.352490             3.428   \n",
       "1  versicolor              5.936         0.516171             2.770   \n",
       "2   virginica              6.588         0.635880             2.974   \n",
       "\n",
       "   Sepal_Width.sd  \n",
       "0        0.379064  \n",
       "1        0.313798  \n",
       "2        0.322497  "
      ],
      "text/html": "<div>\n<style scoped>\n    .dataframe tbody tr th:only-of-type {\n        vertical-align: middle;\n    }\n\n    .dataframe tbody tr th {\n        vertical-align: top;\n    }\n\n    .dataframe thead th {\n        text-align: right;\n    }\n</style>\n<table border=\"1\" class=\"dataframe\">\n  <thead>\n    <tr style=\"text-align: right;\">\n      <th></th>\n      <th>Species</th>\n      <th>Sepal_Length.mean</th>\n      <th>Sepal_Length.sd</th>\n      <th>Sepal_Width.mean</th>\n      <th>Sepal_Width.sd</th>\n    </tr>\n  </thead>\n  <tbody>\n    <tr>\n      <th>0</th>\n      <td>setosa</td>\n      <td>5.006</td>\n      <td>0.352490</td>\n      <td>3.428</td>\n      <td>0.379064</td>\n    </tr>\n    <tr>\n      <th>1</th>\n      <td>versicolor</td>\n      <td>5.936</td>\n      <td>0.516171</td>\n      <td>2.770</td>\n      <td>0.313798</td>\n    </tr>\n    <tr>\n      <th>2</th>\n      <td>virginica</td>\n      <td>6.588</td>\n      <td>0.635880</td>\n      <td>2.974</td>\n      <td>0.322497</td>\n    </tr>\n  </tbody>\n</table>\n</div>"
     },
     "metadata": {},
     "execution_count": 14
    }
   ],
   "source": [
    "iris >> group_by(f.Species) >> summarise(\n",
    "    across(starts_with(\"Sepal\"), dict(mean=mean, sd=sd), _names = \"{_col}.{_fn}\")\n",
    ")"
   ]
  },
  {
   "cell_type": "code",
   "execution_count": 15,
   "metadata": {
    "execution": {
     "iopub.execute_input": "2021-04-17T00:51:15.203455Z",
     "iopub.status.busy": "2021-04-17T00:51:15.195882Z",
     "iopub.status.idle": "2021-04-17T00:51:15.213045Z",
     "shell.execute_reply": "2021-04-17T00:51:15.212549Z"
    }
   },
   "outputs": [
    {
     "output_type": "execute_result",
     "data": {
      "text/plain": [
       "      Species  Sepal_Length.fn1  Sepal_Length.fn2  Sepal_Width.fn1  \\\n",
       "0      setosa             5.006          0.352490            3.428   \n",
       "1  versicolor             5.936          0.516171            2.770   \n",
       "2   virginica             6.588          0.635880            2.974   \n",
       "\n",
       "   Sepal_Width.fn2  \n",
       "0         0.379064  \n",
       "1         0.313798  \n",
       "2         0.322497  "
      ],
      "text/html": "<div>\n<style scoped>\n    .dataframe tbody tr th:only-of-type {\n        vertical-align: middle;\n    }\n\n    .dataframe tbody tr th {\n        vertical-align: top;\n    }\n\n    .dataframe thead th {\n        text-align: right;\n    }\n</style>\n<table border=\"1\" class=\"dataframe\">\n  <thead>\n    <tr style=\"text-align: right;\">\n      <th></th>\n      <th>Species</th>\n      <th>Sepal_Length.fn1</th>\n      <th>Sepal_Length.fn2</th>\n      <th>Sepal_Width.fn1</th>\n      <th>Sepal_Width.fn2</th>\n    </tr>\n  </thead>\n  <tbody>\n    <tr>\n      <th>0</th>\n      <td>setosa</td>\n      <td>5.006</td>\n      <td>0.352490</td>\n      <td>3.428</td>\n      <td>0.379064</td>\n    </tr>\n    <tr>\n      <th>1</th>\n      <td>versicolor</td>\n      <td>5.936</td>\n      <td>0.516171</td>\n      <td>2.770</td>\n      <td>0.313798</td>\n    </tr>\n    <tr>\n      <th>2</th>\n      <td>virginica</td>\n      <td>6.588</td>\n      <td>0.635880</td>\n      <td>2.974</td>\n      <td>0.322497</td>\n    </tr>\n  </tbody>\n</table>\n</div>"
     },
     "metadata": {},
     "execution_count": 15
    }
   ],
   "source": [
    "iris >> group_by(f.Species) >> summarise(\n",
    "    across(starts_with(\"Sepal\"), [mean, sd], _names = \"{_col}.fn{_fn}\")\n",
    ")"
   ]
  },
  {
   "cell_type": "code",
   "execution_count": 16,
   "metadata": {},
   "outputs": [
    {
     "output_type": "execute_result",
     "data": {
      "text/plain": [
       "      Species  Sepal_Length.fn0  Sepal_Length.fn1  Sepal_Width.fn0  \\\n",
       "0      setosa             5.006          0.352490            3.428   \n",
       "1  versicolor             5.936          0.516171            2.770   \n",
       "2   virginica             6.588          0.635880            2.974   \n",
       "\n",
       "   Sepal_Width.fn1  \n",
       "0         0.379064  \n",
       "1         0.313798  \n",
       "2         0.322497  "
      ],
      "text/html": "<div>\n<style scoped>\n    .dataframe tbody tr th:only-of-type {\n        vertical-align: middle;\n    }\n\n    .dataframe tbody tr th {\n        vertical-align: top;\n    }\n\n    .dataframe thead th {\n        text-align: right;\n    }\n</style>\n<table border=\"1\" class=\"dataframe\">\n  <thead>\n    <tr style=\"text-align: right;\">\n      <th></th>\n      <th>Species</th>\n      <th>Sepal_Length.fn0</th>\n      <th>Sepal_Length.fn1</th>\n      <th>Sepal_Width.fn0</th>\n      <th>Sepal_Width.fn1</th>\n    </tr>\n  </thead>\n  <tbody>\n    <tr>\n      <th>0</th>\n      <td>setosa</td>\n      <td>5.006</td>\n      <td>0.352490</td>\n      <td>3.428</td>\n      <td>0.379064</td>\n    </tr>\n    <tr>\n      <th>1</th>\n      <td>versicolor</td>\n      <td>5.936</td>\n      <td>0.516171</td>\n      <td>2.770</td>\n      <td>0.313798</td>\n    </tr>\n    <tr>\n      <th>2</th>\n      <td>virginica</td>\n      <td>6.588</td>\n      <td>0.635880</td>\n      <td>2.974</td>\n      <td>0.322497</td>\n    </tr>\n  </tbody>\n</table>\n</div>"
     },
     "metadata": {},
     "execution_count": 16
    }
   ],
   "source": [
    "iris >> group_by(f.Species) >> summarise(\n",
    "    across(\n",
    "        starts_with(\"Sepal\"), \n",
    "        [mean, sd], \n",
    "        _names=\"{_col}.fn{_fn}\", \n",
    "        _base0=True\n",
    "    )\n",
    ")\n",
    "# or use _fn0\n",
    "\n",
    "# iris >> group_by(f.Species) >> summarise(\n",
    "#     across(\n",
    "#         starts_with(\"Sepal\"), \n",
    "#         [mean, sd], \n",
    "#         _names=\"{_col}.fn{_fn0}\", # _fn1 for 1-based\n",
    "#     )\n",
    "# )\n"
   ]
  },
  {
   "cell_type": "code",
   "execution_count": 17,
   "metadata": {
    "execution": {
     "iopub.execute_input": "2021-04-17T00:51:15.243444Z",
     "iopub.status.busy": "2021-04-17T00:51:15.237925Z",
     "iopub.status.idle": "2021-04-17T00:51:15.261226Z",
     "shell.execute_reply": "2021-04-17T00:51:15.260805Z"
    }
   },
   "outputs": [
    {
     "output_type": "execute_result",
     "data": {
      "text/plain": [
       "      Species  Sepal_Length.fn1  Sepal_Length.fn2  Sepal_Width.fn1  \\\n",
       "0      setosa             5.006          0.352490            3.428   \n",
       "1  versicolor             5.936          0.516171            2.770   \n",
       "2   virginica             6.588          0.635880            2.974   \n",
       "\n",
       "   Sepal_Width.fn2  \n",
       "0         0.379064  \n",
       "1         0.313798  \n",
       "2         0.322497  "
      ],
      "text/html": "<div>\n<style scoped>\n    .dataframe tbody tr th:only-of-type {\n        vertical-align: middle;\n    }\n\n    .dataframe tbody tr th {\n        vertical-align: top;\n    }\n\n    .dataframe thead th {\n        text-align: right;\n    }\n</style>\n<table border=\"1\" class=\"dataframe\">\n  <thead>\n    <tr style=\"text-align: right;\">\n      <th></th>\n      <th>Species</th>\n      <th>Sepal_Length.fn1</th>\n      <th>Sepal_Length.fn2</th>\n      <th>Sepal_Width.fn1</th>\n      <th>Sepal_Width.fn2</th>\n    </tr>\n  </thead>\n  <tbody>\n    <tr>\n      <th>0</th>\n      <td>setosa</td>\n      <td>5.006</td>\n      <td>0.352490</td>\n      <td>3.428</td>\n      <td>0.379064</td>\n    </tr>\n    <tr>\n      <th>1</th>\n      <td>versicolor</td>\n      <td>5.936</td>\n      <td>0.516171</td>\n      <td>2.770</td>\n      <td>0.313798</td>\n    </tr>\n    <tr>\n      <th>2</th>\n      <td>virginica</td>\n      <td>6.588</td>\n      <td>0.635880</td>\n      <td>2.974</td>\n      <td>0.322497</td>\n    </tr>\n  </tbody>\n</table>\n</div>"
     },
     "metadata": {},
     "execution_count": 17
    }
   ],
   "source": [
    "iris >> group_by(f.Species) >> summarise(\n",
    "    across(starts_with(\"Sepal\"), [mean, sd], _names = \"{_col}.fn{_fn}\")\n",
    ")"
   ]
  },
  {
   "cell_type": "code",
   "execution_count": 18,
   "metadata": {
    "execution": {
     "iopub.execute_input": "2021-04-17T00:51:15.320069Z",
     "iopub.status.busy": "2021-04-17T00:51:15.319493Z",
     "iopub.status.idle": "2021-04-17T00:51:15.351179Z",
     "shell.execute_reply": "2021-04-17T00:51:15.350239Z"
    }
   },
   "outputs": [
    {
     "output_type": "execute_result",
     "data": {
      "text/plain": [
       "   Sepal_Length  Sepal_Width  Petal_Length  Petal_Width Species\n",
       "0           5.7          4.4           1.5          0.4  setosa\n",
       "1           5.2          4.1           1.5          0.1  setosa\n",
       "2           5.5          4.2           1.4          0.2  setosa"
      ],
      "text/html": "<div>\n<style scoped>\n    .dataframe tbody tr th:only-of-type {\n        vertical-align: middle;\n    }\n\n    .dataframe tbody tr th {\n        vertical-align: top;\n    }\n\n    .dataframe thead th {\n        text-align: right;\n    }\n</style>\n<table border=\"1\" class=\"dataframe\">\n  <thead>\n    <tr style=\"text-align: right;\">\n      <th></th>\n      <th>Sepal_Length</th>\n      <th>Sepal_Width</th>\n      <th>Petal_Length</th>\n      <th>Petal_Width</th>\n      <th>Species</th>\n    </tr>\n  </thead>\n  <tbody>\n    <tr>\n      <th>0</th>\n      <td>5.7</td>\n      <td>4.4</td>\n      <td>1.5</td>\n      <td>0.4</td>\n      <td>setosa</td>\n    </tr>\n    <tr>\n      <th>1</th>\n      <td>5.2</td>\n      <td>4.1</td>\n      <td>1.5</td>\n      <td>0.1</td>\n      <td>setosa</td>\n    </tr>\n    <tr>\n      <th>2</th>\n      <td>5.5</td>\n      <td>4.2</td>\n      <td>1.4</td>\n      <td>0.2</td>\n      <td>setosa</td>\n    </tr>\n  </tbody>\n</table>\n</div>"
     },
     "metadata": {},
     "execution_count": 18
    }
   ],
   "source": [
    "iris >> filter(if_any(ends_with(\"Width\"), lambda x: x > 4))"
   ]
  },
  {
   "cell_type": "code",
   "execution_count": 19,
   "metadata": {
    "execution": {
     "iopub.execute_input": "2021-04-17T00:51:15.395012Z",
     "iopub.status.busy": "2021-04-17T00:51:15.394339Z",
     "iopub.status.idle": "2021-04-17T00:51:15.399464Z",
     "shell.execute_reply": "2021-04-17T00:51:15.398845Z"
    }
   },
   "outputs": [
    {
     "output_type": "execute_result",
     "data": {
      "text/plain": [
       "    Sepal_Length  Sepal_Width  Petal_Length  Petal_Width    Species\n",
       "0            6.3          3.3           6.0          2.5  virginica\n",
       "1            7.1          3.0           5.9          2.1  virginica\n",
       "2            6.5          3.0           5.8          2.2  virginica\n",
       "3            7.6          3.0           6.6          2.1  virginica\n",
       "4            7.2          3.6           6.1          2.5  virginica\n",
       "5            6.8          3.0           5.5          2.1  virginica\n",
       "6            5.8          2.8           5.1          2.4  virginica\n",
       "7            6.4          3.2           5.3          2.3  virginica\n",
       "8            7.7          3.8           6.7          2.2  virginica\n",
       "9            7.7          2.6           6.9          2.3  virginica\n",
       "10           6.9          3.2           5.7          2.3  virginica\n",
       "11           6.7          3.3           5.7          2.1  virginica\n",
       "12           6.4          2.8           5.6          2.1  virginica\n",
       "13           6.4          2.8           5.6          2.2  virginica\n",
       "14           7.7          3.0           6.1          2.3  virginica\n",
       "15           6.3          3.4           5.6          2.4  virginica\n",
       "16           6.9          3.1           5.4          2.1  virginica\n",
       "17           6.7          3.1           5.6          2.4  virginica\n",
       "18           6.9          3.1           5.1          2.3  virginica\n",
       "19           6.8          3.2           5.9          2.3  virginica\n",
       "20           6.7          3.3           5.7          2.5  virginica\n",
       "21           6.7          3.0           5.2          2.3  virginica\n",
       "22           6.2          3.4           5.4          2.3  virginica"
      ],
      "text/html": "<div>\n<style scoped>\n    .dataframe tbody tr th:only-of-type {\n        vertical-align: middle;\n    }\n\n    .dataframe tbody tr th {\n        vertical-align: top;\n    }\n\n    .dataframe thead th {\n        text-align: right;\n    }\n</style>\n<table border=\"1\" class=\"dataframe\">\n  <thead>\n    <tr style=\"text-align: right;\">\n      <th></th>\n      <th>Sepal_Length</th>\n      <th>Sepal_Width</th>\n      <th>Petal_Length</th>\n      <th>Petal_Width</th>\n      <th>Species</th>\n    </tr>\n  </thead>\n  <tbody>\n    <tr>\n      <th>0</th>\n      <td>6.3</td>\n      <td>3.3</td>\n      <td>6.0</td>\n      <td>2.5</td>\n      <td>virginica</td>\n    </tr>\n    <tr>\n      <th>1</th>\n      <td>7.1</td>\n      <td>3.0</td>\n      <td>5.9</td>\n      <td>2.1</td>\n      <td>virginica</td>\n    </tr>\n    <tr>\n      <th>2</th>\n      <td>6.5</td>\n      <td>3.0</td>\n      <td>5.8</td>\n      <td>2.2</td>\n      <td>virginica</td>\n    </tr>\n    <tr>\n      <th>3</th>\n      <td>7.6</td>\n      <td>3.0</td>\n      <td>6.6</td>\n      <td>2.1</td>\n      <td>virginica</td>\n    </tr>\n    <tr>\n      <th>4</th>\n      <td>7.2</td>\n      <td>3.6</td>\n      <td>6.1</td>\n      <td>2.5</td>\n      <td>virginica</td>\n    </tr>\n    <tr>\n      <th>5</th>\n      <td>6.8</td>\n      <td>3.0</td>\n      <td>5.5</td>\n      <td>2.1</td>\n      <td>virginica</td>\n    </tr>\n    <tr>\n      <th>6</th>\n      <td>5.8</td>\n      <td>2.8</td>\n      <td>5.1</td>\n      <td>2.4</td>\n      <td>virginica</td>\n    </tr>\n    <tr>\n      <th>7</th>\n      <td>6.4</td>\n      <td>3.2</td>\n      <td>5.3</td>\n      <td>2.3</td>\n      <td>virginica</td>\n    </tr>\n    <tr>\n      <th>8</th>\n      <td>7.7</td>\n      <td>3.8</td>\n      <td>6.7</td>\n      <td>2.2</td>\n      <td>virginica</td>\n    </tr>\n    <tr>\n      <th>9</th>\n      <td>7.7</td>\n      <td>2.6</td>\n      <td>6.9</td>\n      <td>2.3</td>\n      <td>virginica</td>\n    </tr>\n    <tr>\n      <th>10</th>\n      <td>6.9</td>\n      <td>3.2</td>\n      <td>5.7</td>\n      <td>2.3</td>\n      <td>virginica</td>\n    </tr>\n    <tr>\n      <th>11</th>\n      <td>6.7</td>\n      <td>3.3</td>\n      <td>5.7</td>\n      <td>2.1</td>\n      <td>virginica</td>\n    </tr>\n    <tr>\n      <th>12</th>\n      <td>6.4</td>\n      <td>2.8</td>\n      <td>5.6</td>\n      <td>2.1</td>\n      <td>virginica</td>\n    </tr>\n    <tr>\n      <th>13</th>\n      <td>6.4</td>\n      <td>2.8</td>\n      <td>5.6</td>\n      <td>2.2</td>\n      <td>virginica</td>\n    </tr>\n    <tr>\n      <th>14</th>\n      <td>7.7</td>\n      <td>3.0</td>\n      <td>6.1</td>\n      <td>2.3</td>\n      <td>virginica</td>\n    </tr>\n    <tr>\n      <th>15</th>\n      <td>6.3</td>\n      <td>3.4</td>\n      <td>5.6</td>\n      <td>2.4</td>\n      <td>virginica</td>\n    </tr>\n    <tr>\n      <th>16</th>\n      <td>6.9</td>\n      <td>3.1</td>\n      <td>5.4</td>\n      <td>2.1</td>\n      <td>virginica</td>\n    </tr>\n    <tr>\n      <th>17</th>\n      <td>6.7</td>\n      <td>3.1</td>\n      <td>5.6</td>\n      <td>2.4</td>\n      <td>virginica</td>\n    </tr>\n    <tr>\n      <th>18</th>\n      <td>6.9</td>\n      <td>3.1</td>\n      <td>5.1</td>\n      <td>2.3</td>\n      <td>virginica</td>\n    </tr>\n    <tr>\n      <th>19</th>\n      <td>6.8</td>\n      <td>3.2</td>\n      <td>5.9</td>\n      <td>2.3</td>\n      <td>virginica</td>\n    </tr>\n    <tr>\n      <th>20</th>\n      <td>6.7</td>\n      <td>3.3</td>\n      <td>5.7</td>\n      <td>2.5</td>\n      <td>virginica</td>\n    </tr>\n    <tr>\n      <th>21</th>\n      <td>6.7</td>\n      <td>3.0</td>\n      <td>5.2</td>\n      <td>2.3</td>\n      <td>virginica</td>\n    </tr>\n    <tr>\n      <th>22</th>\n      <td>6.2</td>\n      <td>3.4</td>\n      <td>5.4</td>\n      <td>2.3</td>\n      <td>virginica</td>\n    </tr>\n  </tbody>\n</table>\n</div>"
     },
     "metadata": {},
     "execution_count": 19
    }
   ],
   "source": [
    "iris >> filter(if_all(ends_with(\"Width\"), lambda x: x > 2))"
   ]
  },
  {
   "cell_type": "code",
   "execution_count": 20,
   "metadata": {
    "execution": {
     "iopub.execute_input": "2021-04-17T00:51:15.405904Z",
     "iopub.status.busy": "2021-04-17T00:51:15.405318Z",
     "iopub.status.idle": "2021-04-17T00:51:15.503863Z",
     "shell.execute_reply": "2021-04-17T00:51:15.503390Z"
    },
    "tags": []
   },
   "outputs": [
    {
     "output_type": "execute_result",
     "data": {
      "text/plain": [
       "   id         w         x         y         z       sum        sd\n",
       "0   1  0.198557  0.232099  0.253651  0.206460  0.890767  0.025119\n",
       "1   2  0.035271  0.029350  0.352935  0.747349  1.164905  0.339582\n",
       "2   3  0.429070  0.245980  0.270517  0.813680  1.759248  0.262122\n",
       "3   4  0.116550  0.982369  0.415331  0.994767  2.509017  0.434704\n",
       "[Rowwise: []]"
      ],
      "text/html": "<div>\n<style scoped>\n    .dataframe tbody tr th:only-of-type {\n        vertical-align: middle;\n    }\n\n    .dataframe tbody tr th {\n        vertical-align: top;\n    }\n\n    .dataframe thead th {\n        text-align: right;\n    }\n</style>\n<table border=\"1\" class=\"dataframe\">\n  <thead>\n    <tr style=\"text-align: right;\">\n      <th></th>\n      <th>id</th>\n      <th>w</th>\n      <th>x</th>\n      <th>y</th>\n      <th>z</th>\n      <th>sum</th>\n      <th>sd</th>\n    </tr>\n  </thead>\n  <tbody>\n    <tr>\n      <th>0</th>\n      <td>1</td>\n      <td>0.198557</td>\n      <td>0.232099</td>\n      <td>0.253651</td>\n      <td>0.206460</td>\n      <td>0.890767</td>\n      <td>0.025119</td>\n    </tr>\n    <tr>\n      <th>1</th>\n      <td>2</td>\n      <td>0.035271</td>\n      <td>0.029350</td>\n      <td>0.352935</td>\n      <td>0.747349</td>\n      <td>1.164905</td>\n      <td>0.339582</td>\n    </tr>\n    <tr>\n      <th>2</th>\n      <td>3</td>\n      <td>0.429070</td>\n      <td>0.245980</td>\n      <td>0.270517</td>\n      <td>0.813680</td>\n      <td>1.759248</td>\n      <td>0.262122</td>\n    </tr>\n    <tr>\n      <th>3</th>\n      <td>4</td>\n      <td>0.116550</td>\n      <td>0.982369</td>\n      <td>0.415331</td>\n      <td>0.994767</td>\n      <td>2.509017</td>\n      <td>0.434704</td>\n    </tr>\n  </tbody>\n</table>\n</div>[Rowwise: [] (n=4)]"
     },
     "metadata": {},
     "execution_count": 20
    }
   ],
   "source": [
    "df = tibble(\n",
    "    id=[1, 2, 3, 4],\n",
    "    w=runif(4), \n",
    "    x=runif(4), \n",
    "    y=runif(4), \n",
    "    z=runif(4)\n",
    ")\n",
    "df >> rowwise() >> mutate(\n",
    "    sum = sum(c_across(f[f.w:f.z])),\n",
    "    sd = sd(c_across(f[f.w:f.z]))\n",
    ")"
   ]
  },
  {
   "cell_type": "code",
   "execution_count": null,
   "metadata": {},
   "outputs": [],
   "source": []
  }
 ],
 "metadata": {
  "kernelspec": {
   "display_name": "Python 3",
   "language": "python",
   "name": "python3"
  },
  "language_info": {
   "codemirror_mode": {
    "name": "ipython",
    "version": 3
   },
   "file_extension": ".py",
   "mimetype": "text/x-python",
   "name": "python",
   "nbconvert_exporter": "python",
   "pygments_lexer": "ipython3",
   "version": "3.7.8"
  }
 },
 "nbformat": 4,
 "nbformat_minor": 4
}