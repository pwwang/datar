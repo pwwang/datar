{
 "cells": [
  {
   "cell_type": "code",
   "execution_count": 1,
   "source": [
    "from datar.all import *\n",
    "\n",
    "%run nb_helpers.py\n",
    "\n",
    "nb_header(\n",
    "    fct_expand,\n",
    "    fct_explicit_na,\n",
    "    fct_drop,\n",
    "    fct_unify,\n",
    "    book=\"forcat_lvl_addrm\",\n",
    ")\n"
   ],
   "outputs": [
    {
     "output_type": "stream",
     "name": "stderr",
     "text": [
      "[2021-09-01 23:36:00][datar][WARNING] Builtin name \"min\" has been overriden by datar.\n",
      "[2021-09-01 23:36:00][datar][WARNING] Builtin name \"max\" has been overriden by datar.\n",
      "[2021-09-01 23:36:00][datar][WARNING] Builtin name \"sum\" has been overriden by datar.\n",
      "[2021-09-01 23:36:00][datar][WARNING] Builtin name \"abs\" has been overriden by datar.\n",
      "[2021-09-01 23:36:00][datar][WARNING] Builtin name \"round\" has been overriden by datar.\n",
      "[2021-09-01 23:36:00][datar][WARNING] Builtin name \"all\" has been overriden by datar.\n",
      "[2021-09-01 23:36:00][datar][WARNING] Builtin name \"any\" has been overriden by datar.\n",
      "[2021-09-01 23:36:00][datar][WARNING] Builtin name \"re\" has been overriden by datar.\n",
      "[2021-09-01 23:36:00][datar][WARNING] Builtin name \"filter\" has been overriden by datar.\n",
      "[2021-09-01 23:36:00][datar][WARNING] Builtin name \"slice\" has been overriden by datar.\n"
     ]
    },
    {
     "output_type": "display_data",
     "data": {
      "text/plain": [
       "<IPython.core.display.HTML object>"
      ],
      "text/html": [
       "<div style=\"text-align: right; text-style: italic\">Try this notebook on <a target=\"_blank\" href=\"https://mybinder.org/v2/gh/pwwang/datar/93d069f3ca36711fc811c61dcf60e9fc3d1460a5?filepath=docs%2Fnotebooks%2Fforcat_lvl_addrm.ipynb\">binder</a>.</div>"
      ]
     },
     "metadata": {}
    },
    {
     "output_type": "display_data",
     "data": {
      "text/plain": [
       "<IPython.core.display.Markdown object>"
      ],
      "text/markdown": [
       "### # fct_expand  "
      ]
     },
     "metadata": {}
    },
    {
     "output_type": "display_data",
     "data": {
      "text/plain": [
       "<IPython.core.display.Markdown object>"
      ],
      "text/markdown": [
       "##### Add additional levels to a factor\n",
       "\n",
       "##### Args:\n",
       "&emsp;&emsp;`_f`: A factor  \n",
       "&emsp;&emsp;`*additional_levels`: Additional levels to add to the factor.  \n",
       "&emsp;&emsp;&emsp;&emsp;Levels that already exist will be silently ignored.  \n",
       "\n",
       "##### Returns:\n",
       "&emsp;&emsp;The factor with levels expanded  \n"
      ]
     },
     "metadata": {}
    },
    {
     "output_type": "display_data",
     "data": {
      "text/plain": [
       "<IPython.core.display.Markdown object>"
      ],
      "text/markdown": [
       "### # fct_explicit_na  "
      ]
     },
     "metadata": {}
    },
    {
     "output_type": "display_data",
     "data": {
      "text/plain": [
       "<IPython.core.display.Markdown object>"
      ],
      "text/markdown": [
       "##### Make missing values explicit\n",
       "\n",
       "This gives missing values an explicit factor level, ensuring that they  \n",
       "appear in summaries and on plots.  \n",
       "\n",
       "##### Args:\n",
       "&emsp;&emsp;`_f`: A factor  \n",
       "&emsp;&emsp;`na_level`: Level to use for missing values.  \n",
       "&emsp;&emsp;&emsp;&emsp;This is what NAs will be changed to.  \n",
       "\n",
       "##### Returns:\n",
       "&emsp;&emsp;The factor with explict na_levels  \n"
      ]
     },
     "metadata": {}
    },
    {
     "output_type": "display_data",
     "data": {
      "text/plain": [
       "<IPython.core.display.Markdown object>"
      ],
      "text/markdown": [
       "### # fct_drop  "
      ]
     },
     "metadata": {}
    },
    {
     "output_type": "display_data",
     "data": {
      "text/plain": [
       "<IPython.core.display.Markdown object>"
      ],
      "text/markdown": [
       "##### Drop unused levels\n",
       "\n",
       "##### Args:\n",
       "&emsp;&emsp;`_f`: A factor  \n",
       "&emsp;&emsp;`only`: A character vector restricting the set of levels to be dropped.  \n",
       "&emsp;&emsp;&emsp;&emsp;If supplied, only levels that have no entries and appear in  \n",
       "&emsp;&emsp;&emsp;&emsp;this vector will be removed.  \n",
       "\n",
       "##### Returns:\n",
       "&emsp;&emsp;The factor with unused levels dropped  \n"
      ]
     },
     "metadata": {}
    },
    {
     "output_type": "display_data",
     "data": {
      "text/plain": [
       "<IPython.core.display.Markdown object>"
      ],
      "text/markdown": [
       "### # fct_unify  "
      ]
     },
     "metadata": {}
    },
    {
     "output_type": "display_data",
     "data": {
      "text/plain": [
       "<IPython.core.display.Markdown object>"
      ],
      "text/markdown": [
       "##### Unify the levels in a list of factors\n",
       "\n",
       "##### Args:\n",
       "&emsp;&emsp;`fs`: A list of factors  \n",
       "&emsp;&emsp;`levels`: Set of levels to apply to every factor. Default to union  \n",
       "&emsp;&emsp;&emsp;&emsp;of all factor levels  \n",
       "\n",
       "##### Returns:\n",
       "&emsp;&emsp;A list of factors with the levels expanded  \n"
      ]
     },
     "metadata": {}
    }
   ],
   "metadata": {}
  },
  {
   "cell_type": "markdown",
   "source": [
    "## fct_expand"
   ],
   "metadata": {}
  },
  {
   "cell_type": "code",
   "execution_count": 2,
   "source": [
    "fct = factor(sample(letters[:3], 20, replace = TRUE))\n",
    "fct"
   ],
   "outputs": [
    {
     "output_type": "execute_result",
     "data": {
      "text/plain": [
       "['b', 'b', 'c', 'c', 'a', ..., 'a', 'b', 'b', 'c', 'b']\n",
       "Length: 20\n",
       "Categories (3, object): ['a', 'b', 'c']"
      ]
     },
     "metadata": {},
     "execution_count": 2
    }
   ],
   "metadata": {}
  },
  {
   "cell_type": "code",
   "execution_count": 3,
   "source": [
    "fct_expand(fct, \"d\", \"e\", \"f\")"
   ],
   "outputs": [
    {
     "output_type": "execute_result",
     "data": {
      "text/plain": [
       "['b', 'b', 'c', 'c', 'a', ..., 'a', 'b', 'b', 'c', 'b']\n",
       "Length: 20\n",
       "Categories (6, object): ['a', 'b', 'c', 'd', 'e', 'f']"
      ]
     },
     "metadata": {},
     "execution_count": 3
    }
   ],
   "metadata": {}
  },
  {
   "cell_type": "code",
   "execution_count": 4,
   "source": [
    "fct_expand(fct, letters[:6])"
   ],
   "outputs": [
    {
     "output_type": "execute_result",
     "data": {
      "text/plain": [
       "['b', 'b', 'c', 'c', 'a', ..., 'a', 'b', 'b', 'c', 'b']\n",
       "Length: 20\n",
       "Categories (6, object): ['a', 'b', 'c', 'd', 'e', 'f']"
      ]
     },
     "metadata": {},
     "execution_count": 4
    }
   ],
   "metadata": {}
  },
  {
   "cell_type": "markdown",
   "source": [
    "## fct_explicit_na"
   ],
   "metadata": {}
  },
  {
   "cell_type": "code",
   "execution_count": 5,
   "source": [
    "f1 = factor(c(\"a\", \"a\", NA, NA, \"a\", \"b\", NA, \"c\", \"a\", \"c\", \"b\"))\n",
    "fct_count(f1)"
   ],
   "outputs": [
    {
     "output_type": "execute_result",
     "data": {
      "text/plain": [
       "           f         n\n",
       "  <category> <float64>\n",
       "0          a       4.0\n",
       "1          b       2.0\n",
       "2          c       2.0\n",
       "3        NaN       3.0"
      ],
      "text/html": [
       "<table border=\"1\" class=\"dataframe\">\n",
       "  <thead>\n",
       "    <tr style=\"text-align: right;\">\n",
       "      <th></th>\n",
       "      <th>f</th>\n",
       "      <th>n</th>\n",
       "    </tr>\n",
       "  </thead>\n",
       "  <tbody>\n",
       "    <tr>\n",
       "      <th style=\"font-style: italic;\" ></th>\n",
       "      <td style=\"font-style: italic;\" >&lt;category&gt;</td>\n",
       "      <td style=\"font-style: italic;\" >&lt;float64&gt;</td>\n",
       "    </tr>\n",
       "    <tr>\n",
       "      <th>0</th>\n",
       "      <td>a</td>\n",
       "      <td>4.0</td>\n",
       "    </tr>\n",
       "    <tr>\n",
       "      <th>1</th>\n",
       "      <td>b</td>\n",
       "      <td>2.0</td>\n",
       "    </tr>\n",
       "    <tr>\n",
       "      <th>2</th>\n",
       "      <td>c</td>\n",
       "      <td>2.0</td>\n",
       "    </tr>\n",
       "    <tr>\n",
       "      <th>3</th>\n",
       "      <td>NaN</td>\n",
       "      <td>3.0</td>\n",
       "    </tr>\n",
       "  </tbody>\n",
       "</table>"
      ]
     },
     "metadata": {},
     "execution_count": 5
    }
   ],
   "metadata": {}
  },
  {
   "cell_type": "code",
   "execution_count": 6,
   "source": [
    "f2 = fct_explicit_na(f1)\n",
    "fct_count(f2)"
   ],
   "outputs": [
    {
     "output_type": "execute_result",
     "data": {
      "text/plain": [
       "           f       n\n",
       "  <category> <int64>\n",
       "0          a       4\n",
       "1          b       2\n",
       "2          c       2\n",
       "3  (Missing)       3"
      ],
      "text/html": [
       "<table border=\"1\" class=\"dataframe\">\n",
       "  <thead>\n",
       "    <tr style=\"text-align: right;\">\n",
       "      <th></th>\n",
       "      <th>f</th>\n",
       "      <th>n</th>\n",
       "    </tr>\n",
       "  </thead>\n",
       "  <tbody>\n",
       "    <tr>\n",
       "      <th style=\"font-style: italic;\" ></th>\n",
       "      <td style=\"font-style: italic;\" >&lt;category&gt;</td>\n",
       "      <td style=\"font-style: italic;\" >&lt;int64&gt;</td>\n",
       "    </tr>\n",
       "    <tr>\n",
       "      <th>0</th>\n",
       "      <td>a</td>\n",
       "      <td>4</td>\n",
       "    </tr>\n",
       "    <tr>\n",
       "      <th>1</th>\n",
       "      <td>b</td>\n",
       "      <td>2</td>\n",
       "    </tr>\n",
       "    <tr>\n",
       "      <th>2</th>\n",
       "      <td>c</td>\n",
       "      <td>2</td>\n",
       "    </tr>\n",
       "    <tr>\n",
       "      <th>3</th>\n",
       "      <td>(Missing)</td>\n",
       "      <td>3</td>\n",
       "    </tr>\n",
       "  </tbody>\n",
       "</table>"
      ]
     },
     "metadata": {},
     "execution_count": 6
    }
   ],
   "metadata": {}
  },
  {
   "cell_type": "markdown",
   "source": [
    "## fct_drop"
   ],
   "metadata": {}
  },
  {
   "cell_type": "code",
   "execution_count": 10,
   "source": [
    "fct = factor(c(\"a\", \"b\"), levels = c(\"a\", \"b\", \"c\"))\n",
    "fct"
   ],
   "outputs": [
    {
     "output_type": "execute_result",
     "data": {
      "text/plain": [
       "['a', 'b']\n",
       "Categories (3, object): ['a', 'b', 'c']"
      ]
     },
     "metadata": {},
     "execution_count": 10
    }
   ],
   "metadata": {}
  },
  {
   "cell_type": "code",
   "execution_count": 11,
   "source": [
    "fct_drop(fct)"
   ],
   "outputs": [
    {
     "output_type": "execute_result",
     "data": {
      "text/plain": [
       "['a', 'b']\n",
       "Categories (2, object): ['a', 'b']"
      ]
     },
     "metadata": {},
     "execution_count": 11
    }
   ],
   "metadata": {}
  },
  {
   "cell_type": "code",
   "execution_count": 12,
   "source": [
    "fct_drop(fct, only = \"a\")"
   ],
   "outputs": [
    {
     "output_type": "execute_result",
     "data": {
      "text/plain": [
       "['a', 'b']\n",
       "Categories (3, object): ['a', 'b', 'c']"
      ]
     },
     "metadata": {},
     "execution_count": 12
    }
   ],
   "metadata": {}
  },
  {
   "cell_type": "code",
   "execution_count": 13,
   "source": [
    "fct_drop(fct, only = \"c\")"
   ],
   "outputs": [
    {
     "output_type": "execute_result",
     "data": {
      "text/plain": [
       "['a', 'b']\n",
       "Categories (2, object): ['a', 'b']"
      ]
     },
     "metadata": {},
     "execution_count": 13
    }
   ],
   "metadata": {}
  },
  {
   "cell_type": "markdown",
   "source": [
    "## fct_unify"
   ],
   "metadata": {}
  },
  {
   "cell_type": "code",
   "execution_count": 14,
   "source": [
    "fs = [factor(\"a\"), factor(\"b\"), factor(c(\"a\", \"b\"))]\n",
    "fct_unify(fs)"
   ],
   "outputs": [
    {
     "output_type": "execute_result",
     "data": {
      "text/plain": [
       "[['a']\n",
       " Categories (2, object): ['a', 'b'],\n",
       " ['b']\n",
       " Categories (2, object): ['a', 'b'],\n",
       " ['a', 'b']\n",
       " Categories (2, object): ['a', 'b']]"
      ]
     },
     "metadata": {},
     "execution_count": 14
    }
   ],
   "metadata": {}
  }
 ],
 "metadata": {
  "orig_nbformat": 4,
  "language_info": {
   "name": "python",
   "version": "3.9.5",
   "mimetype": "text/x-python",
   "codemirror_mode": {
    "name": "ipython",
    "version": 3
   },
   "pygments_lexer": "ipython3",
   "nbconvert_exporter": "python",
   "file_extension": ".py"
  },
  "kernelspec": {
   "name": "python3",
   "display_name": "Python 3.9.5 64-bit ('base': conda)"
  },
  "interpreter": {
   "hash": "c4cc73b080e063fcebb9afb794613be7caf4b26129562cba1382945a18cc49cc"
  }
 },
 "nbformat": 4,
 "nbformat_minor": 2
}