{
 "metadata": {
  "language_info": {
   "codemirror_mode": {
    "name": "ipython",
    "version": 3
   },
   "file_extension": ".py",
   "mimetype": "text/x-python",
   "name": "python",
   "nbconvert_exporter": "python",
   "pygments_lexer": "ipython3",
   "version": "3.7.8"
  },
  "orig_nbformat": 2,
  "kernelspec": {
   "name": "python378jvsc74a57bd0c4cc73b080e063fcebb9afb794613be7caf4b26129562cba1382945a18cc49cc",
   "display_name": "Python 3.7.8 64-bit ('base': conda)"
  }
 },
 "nbformat": 4,
 "nbformat_minor": 2,
 "cells": [
  {
   "cell_type": "code",
   "execution_count": 1,
   "metadata": {},
   "outputs": [
    {
     "output_type": "display_data",
     "data": {
      "text/plain": "<IPython.core.display.HTML object>",
      "text/html": "<div style=\"text-align: right; text-style: italic\">Try this notebook on <a target=\"_blank\" href=\"https://mybinder.org/v2/gh/pwwang/datar/93d069f3ca36711fc811c61dcf60e9fc3d1460a5?filepath=docs%2Fnotebooks%2Fnest.ipynb\">binder</a>.</div>"
     },
     "metadata": {}
    },
    {
     "output_type": "display_data",
     "data": {
      "text/plain": "<IPython.core.display.Markdown object>",
      "text/markdown": "### # nest  "
     },
     "metadata": {}
    },
    {
     "output_type": "display_data",
     "data": {
      "text/plain": "<IPython.core.display.Markdown object>",
      "text/markdown": "##### Nesting creates a list-column of data frames\n\n##### Args:\n&emsp;&emsp;`_data`: A data frame  \n&emsp;&emsp;`**cols`: Columns to nest  \n&emsp;&emsp;`_names_sep`: If `None`, the default, the names will be left as is.  \n&emsp;&emsp;&emsp;&emsp;Inner names will come from the former outer names  \n&emsp;&emsp;&emsp;&emsp;If a string, the inner and outer names will be used together.  \n&emsp;&emsp;&emsp;&emsp;The names of the new outer columns will be formed by pasting  \n&emsp;&emsp;&emsp;&emsp;together the outer and the inner column names, separated by  \n&emsp;&emsp;&emsp;&emsp;`_names_sep`.  \n\n&emsp;&emsp;`_base0`: Whether `**cols` are 0-based  \n&emsp;&emsp;&emsp;&emsp;if not provided, will use `datar.base.get_option('index.base.0')`  \n\n##### Returns:\n&emsp;&emsp;Nested data frame.  \n"
     },
     "metadata": {}
    },
    {
     "output_type": "display_data",
     "data": {
      "text/plain": "<IPython.core.display.Markdown object>",
      "text/markdown": "### # unnest  "
     },
     "metadata": {}
    },
    {
     "output_type": "display_data",
     "data": {
      "text/plain": "<IPython.core.display.Markdown object>",
      "text/markdown": "##### Flattens list-column of data frames back out into regular columns.\n\n##### Args:\n&emsp;&emsp;`data`: A data frame to flatten.  \n&emsp;&emsp;`*cols`: Columns to unnest.  \n&emsp;&emsp;`keep_empty`: By default, you get one row of output for each element  \n&emsp;&emsp;&emsp;&emsp;of the list your unchopping/unnesting.  \n&emsp;&emsp;&emsp;&emsp;This means that if there's a size-0 element  \n&emsp;&emsp;&emsp;&emsp;(like NULL or an empty data frame), that entire row will be  \n&emsp;&emsp;&emsp;&emsp;dropped from the output.  \n&emsp;&emsp;&emsp;&emsp;If you want to preserve all rows, use `keep_empty` = `True` to  \n&emsp;&emsp;&emsp;&emsp;replace size-0 elements with a single row of missing values.  \n\n&emsp;&emsp;`dtypes`: NOT `ptype`. Providing the dtypes for the output columns.  \n&emsp;&emsp;&emsp;&emsp;Could be a single dtype, which will be applied to all columns, or  \n&emsp;&emsp;&emsp;&emsp;a dictionary of dtypes with keys for the columns and values the  \n&emsp;&emsp;&emsp;&emsp;dtypes.  \n\n&emsp;&emsp;`names_sep`: If `None`, the default, the names will be left as is.  \n&emsp;&emsp;&emsp;&emsp;Inner names will come from the former outer names  \n&emsp;&emsp;&emsp;&emsp;If a string, the inner and outer names will be used together.  \n&emsp;&emsp;&emsp;&emsp;The names of the new outer columns will be formed by pasting  \n&emsp;&emsp;&emsp;&emsp;together the outer and the inner column names, separated by  \n&emsp;&emsp;&emsp;&emsp;`names_sep`.  \n\n&emsp;&emsp;`names_repair`: treatment of problematic column names:  \n&emsp;&emsp;&emsp;&emsp;- \"minimal\": No name repair or checks, beyond basic existence,\n\n&emsp;&emsp;&emsp;&emsp;- \"unique\": Make sure names are unique and not empty,\n\n&emsp;&emsp;&emsp;&emsp;- \"check_unique\": (default value), no name repair,\n&emsp;&emsp;&emsp;&emsp;&emsp;&emsp;but check they are unique,  \n\n&emsp;&emsp;&emsp;&emsp;- \"universal\": Make the names unique and syntactic\n\n&emsp;&emsp;&emsp;&emsp;- a function: apply custom name repair\n\n&emsp;&emsp;`_base0`: Whether `cols` are 0-based  \n&emsp;&emsp;&emsp;&emsp;if not provided, will use `datar.base.get_option('index.base.0')`  \n\n##### Returns:\n&emsp;&emsp;Data frame with selected columns unnested.  \n"
     },
     "metadata": {}
    }
   ],
   "source": [
    "from datar.datasets import iris, fish_encounters, mtcars\n",
    "from datar.all import *\n",
    "\n",
    "%run nb_helpers.py\n",
    "nb_header(nest, unnest)"
   ]
  },
  {
   "cell_type": "code",
   "execution_count": 2,
   "metadata": {},
   "outputs": [
    {
     "output_type": "execute_result",
     "data": {
      "text/plain": [
       "   x                             data\n",
       "0  1     y  z\n",
       "0  1  6\n",
       "1  2  5\n",
       "2  3  4\n",
       "1  2             y  z\n",
       "3  4  3\n",
       "4  5  2\n",
       "2  3                     y  z\n",
       "5  6  1"
      ],
      "text/html": "<div>\n<style scoped>\n    .dataframe tbody tr th:only-of-type {\n        vertical-align: middle;\n    }\n\n    .dataframe tbody tr th {\n        vertical-align: top;\n    }\n\n    .dataframe thead th {\n        text-align: right;\n    }\n</style>\n<table border=\"1\" class=\"dataframe\">\n  <thead>\n    <tr style=\"text-align: right;\">\n      <th></th>\n      <th>x</th>\n      <th>data</th>\n    </tr>\n  </thead>\n  <tbody>\n    <tr>\n      <th>0</th>\n      <td>1</td>\n      <td>y  z\n0  1  6\n1  2  5\n2  3  4</td>\n    </tr>\n    <tr>\n      <th>1</th>\n      <td>2</td>\n      <td>y  z\n3  4  3\n4  5  2</td>\n    </tr>\n    <tr>\n      <th>2</th>\n      <td>3</td>\n      <td>y  z\n5  6  1</td>\n    </tr>\n  </tbody>\n</table>\n</div>"
     },
     "metadata": {},
     "execution_count": 2
    }
   ],
   "source": [
    "df = tibble(x = c(1, 1, 1, 2, 2, 3), y = f[1:6], z = f[6:1])\n",
    "df >> nest(data=c(f.y, f.z))"
   ]
  },
  {
   "cell_type": "code",
   "execution_count": 3,
   "metadata": {},
   "outputs": [
    {
     "output_type": "execute_result",
     "data": {
      "text/plain": [
       "   x          y          z\n",
       "0  1  [1, 2, 3]  [6, 5, 4]\n",
       "1  2     [4, 5]     [3, 2]\n",
       "2  3        [6]        [1]"
      ],
      "text/html": "<div>\n<style scoped>\n    .dataframe tbody tr th:only-of-type {\n        vertical-align: middle;\n    }\n\n    .dataframe tbody tr th {\n        vertical-align: top;\n    }\n\n    .dataframe thead th {\n        text-align: right;\n    }\n</style>\n<table border=\"1\" class=\"dataframe\">\n  <thead>\n    <tr style=\"text-align: right;\">\n      <th></th>\n      <th>x</th>\n      <th>y</th>\n      <th>z</th>\n    </tr>\n  </thead>\n  <tbody>\n    <tr>\n      <th>0</th>\n      <td>1</td>\n      <td>[1, 2, 3]</td>\n      <td>[6, 5, 4]</td>\n    </tr>\n    <tr>\n      <th>1</th>\n      <td>2</td>\n      <td>[4, 5]</td>\n      <td>[3, 2]</td>\n    </tr>\n    <tr>\n      <th>2</th>\n      <td>3</td>\n      <td>[6]</td>\n      <td>[1]</td>\n    </tr>\n  </tbody>\n</table>\n</div>"
     },
     "metadata": {},
     "execution_count": 3
    }
   ],
   "source": [
    "df >> chop(c(f.y, f.z))"
   ]
  },
  {
   "cell_type": "code",
   "execution_count": 4,
   "metadata": {},
   "outputs": [
    {
     "output_type": "execute_result",
     "data": {
      "text/plain": [
       "   x                             data\n",
       "0  1     y  z\n",
       "0  1  6\n",
       "1  2  5\n",
       "2  3  4\n",
       "1  2             y  z\n",
       "3  4  3\n",
       "4  5  2\n",
       "2  3                     y  z\n",
       "5  6  1"
      ],
      "text/html": "<div>\n<style scoped>\n    .dataframe tbody tr th:only-of-type {\n        vertical-align: middle;\n    }\n\n    .dataframe tbody tr th {\n        vertical-align: top;\n    }\n\n    .dataframe thead th {\n        text-align: right;\n    }\n</style>\n<table border=\"1\" class=\"dataframe\">\n  <thead>\n    <tr style=\"text-align: right;\">\n      <th></th>\n      <th>x</th>\n      <th>data</th>\n    </tr>\n  </thead>\n  <tbody>\n    <tr>\n      <th>0</th>\n      <td>1</td>\n      <td>y  z\n0  1  6\n1  2  5\n2  3  4</td>\n    </tr>\n    <tr>\n      <th>1</th>\n      <td>2</td>\n      <td>y  z\n3  4  3\n4  5  2</td>\n    </tr>\n    <tr>\n      <th>2</th>\n      <td>3</td>\n      <td>y  z\n5  6  1</td>\n    </tr>\n  </tbody>\n</table>\n</div>"
     },
     "metadata": {},
     "execution_count": 4
    }
   ],
   "source": [
    "df >> nest(data=any_of(c(f.y, f.z)))"
   ]
  },
  {
   "cell_type": "code",
   "execution_count": 5,
   "metadata": {},
   "outputs": [
    {
     "output_type": "execute_result",
     "data": {
      "text/plain": [
       "      Species                                               data\n",
       "0      setosa      Sepal_Length  Sepal_Width  Petal_Length  P...\n",
       "1  versicolor      Sepal_Length  Sepal_Width  Petal_Length  P...\n",
       "2   virginica       Sepal_Length  Sepal_Width  Petal_Length  ..."
      ],
      "text/html": "<div>\n<style scoped>\n    .dataframe tbody tr th:only-of-type {\n        vertical-align: middle;\n    }\n\n    .dataframe tbody tr th {\n        vertical-align: top;\n    }\n\n    .dataframe thead th {\n        text-align: right;\n    }\n</style>\n<table border=\"1\" class=\"dataframe\">\n  <thead>\n    <tr style=\"text-align: right;\">\n      <th></th>\n      <th>Species</th>\n      <th>data</th>\n    </tr>\n  </thead>\n  <tbody>\n    <tr>\n      <th>0</th>\n      <td>setosa</td>\n      <td>Sepal_Length  Sepal_Width  Petal_Length  P...</td>\n    </tr>\n    <tr>\n      <th>1</th>\n      <td>versicolor</td>\n      <td>Sepal_Length  Sepal_Width  Petal_Length  P...</td>\n    </tr>\n    <tr>\n      <th>2</th>\n      <td>virginica</td>\n      <td>Sepal_Length  Sepal_Width  Petal_Length  ...</td>\n    </tr>\n  </tbody>\n</table>\n</div>"
     },
     "metadata": {},
     "execution_count": 5
    },
    {
     "output_type": "execute_result",
     "data": {
      "text/plain": [
       "    Sepal_Length  Sepal_Width  Petal_Length  Petal_Width\n",
       "0            5.1          3.5           1.4          0.2\n",
       "1            4.9          3.0           1.4          0.2\n",
       "2            4.7          3.2           1.3          0.2\n",
       "3            4.6          3.1           1.5          0.2\n",
       "4            5.0          3.6           1.4          0.2\n",
       "5            5.4          3.9           1.7          0.4\n",
       "6            4.6          3.4           1.4          0.3\n",
       "7            5.0          3.4           1.5          0.2\n",
       "8            4.4          2.9           1.4          0.2\n",
       "9            4.9          3.1           1.5          0.1\n",
       "10           5.4          3.7           1.5          0.2\n",
       "11           4.8          3.4           1.6          0.2\n",
       "12           4.8          3.0           1.4          0.1\n",
       "13           4.3          3.0           1.1          0.1\n",
       "14           5.8          4.0           1.2          0.2\n",
       "15           5.7          4.4           1.5          0.4\n",
       "16           5.4          3.9           1.3          0.4\n",
       "17           5.1          3.5           1.4          0.3\n",
       "18           5.7          3.8           1.7          0.3\n",
       "19           5.1          3.8           1.5          0.3\n",
       "20           5.4          3.4           1.7          0.2\n",
       "21           5.1          3.7           1.5          0.4\n",
       "22           4.6          3.6           1.0          0.2\n",
       "23           5.1          3.3           1.7          0.5\n",
       "24           4.8          3.4           1.9          0.2\n",
       "25           5.0          3.0           1.6          0.2\n",
       "26           5.0          3.4           1.6          0.4\n",
       "27           5.2          3.5           1.5          0.2\n",
       "28           5.2          3.4           1.4          0.2\n",
       "29           4.7          3.2           1.6          0.2\n",
       "30           4.8          3.1           1.6          0.2\n",
       "31           5.4          3.4           1.5          0.4\n",
       "32           5.2          4.1           1.5          0.1\n",
       "33           5.5          4.2           1.4          0.2\n",
       "34           4.9          3.1           1.5          0.2\n",
       "35           5.0          3.2           1.2          0.2\n",
       "36           5.5          3.5           1.3          0.2\n",
       "37           4.9          3.6           1.4          0.1\n",
       "38           4.4          3.0           1.3          0.2\n",
       "39           5.1          3.4           1.5          0.2\n",
       "40           5.0          3.5           1.3          0.3\n",
       "41           4.5          2.3           1.3          0.3\n",
       "42           4.4          3.2           1.3          0.2\n",
       "43           5.0          3.5           1.6          0.6\n",
       "44           5.1          3.8           1.9          0.4\n",
       "45           4.8          3.0           1.4          0.3\n",
       "46           5.1          3.8           1.6          0.2\n",
       "47           4.6          3.2           1.4          0.2\n",
       "48           5.3          3.7           1.5          0.2\n",
       "49           5.0          3.3           1.4          0.2"
      ],
      "text/html": "<div>\n<style scoped>\n    .dataframe tbody tr th:only-of-type {\n        vertical-align: middle;\n    }\n\n    .dataframe tbody tr th {\n        vertical-align: top;\n    }\n\n    .dataframe thead th {\n        text-align: right;\n    }\n</style>\n<table border=\"1\" class=\"dataframe\">\n  <thead>\n    <tr style=\"text-align: right;\">\n      <th></th>\n      <th>Sepal_Length</th>\n      <th>Sepal_Width</th>\n      <th>Petal_Length</th>\n      <th>Petal_Width</th>\n    </tr>\n  </thead>\n  <tbody>\n    <tr>\n      <th>0</th>\n      <td>5.1</td>\n      <td>3.5</td>\n      <td>1.4</td>\n      <td>0.2</td>\n    </tr>\n    <tr>\n      <th>1</th>\n      <td>4.9</td>\n      <td>3.0</td>\n      <td>1.4</td>\n      <td>0.2</td>\n    </tr>\n    <tr>\n      <th>2</th>\n      <td>4.7</td>\n      <td>3.2</td>\n      <td>1.3</td>\n      <td>0.2</td>\n    </tr>\n    <tr>\n      <th>3</th>\n      <td>4.6</td>\n      <td>3.1</td>\n      <td>1.5</td>\n      <td>0.2</td>\n    </tr>\n    <tr>\n      <th>4</th>\n      <td>5.0</td>\n      <td>3.6</td>\n      <td>1.4</td>\n      <td>0.2</td>\n    </tr>\n    <tr>\n      <th>5</th>\n      <td>5.4</td>\n      <td>3.9</td>\n      <td>1.7</td>\n      <td>0.4</td>\n    </tr>\n    <tr>\n      <th>6</th>\n      <td>4.6</td>\n      <td>3.4</td>\n      <td>1.4</td>\n      <td>0.3</td>\n    </tr>\n    <tr>\n      <th>7</th>\n      <td>5.0</td>\n      <td>3.4</td>\n      <td>1.5</td>\n      <td>0.2</td>\n    </tr>\n    <tr>\n      <th>8</th>\n      <td>4.4</td>\n      <td>2.9</td>\n      <td>1.4</td>\n      <td>0.2</td>\n    </tr>\n    <tr>\n      <th>9</th>\n      <td>4.9</td>\n      <td>3.1</td>\n      <td>1.5</td>\n      <td>0.1</td>\n    </tr>\n    <tr>\n      <th>10</th>\n      <td>5.4</td>\n      <td>3.7</td>\n      <td>1.5</td>\n      <td>0.2</td>\n    </tr>\n    <tr>\n      <th>11</th>\n      <td>4.8</td>\n      <td>3.4</td>\n      <td>1.6</td>\n      <td>0.2</td>\n    </tr>\n    <tr>\n      <th>12</th>\n      <td>4.8</td>\n      <td>3.0</td>\n      <td>1.4</td>\n      <td>0.1</td>\n    </tr>\n    <tr>\n      <th>13</th>\n      <td>4.3</td>\n      <td>3.0</td>\n      <td>1.1</td>\n      <td>0.1</td>\n    </tr>\n    <tr>\n      <th>14</th>\n      <td>5.8</td>\n      <td>4.0</td>\n      <td>1.2</td>\n      <td>0.2</td>\n    </tr>\n    <tr>\n      <th>15</th>\n      <td>5.7</td>\n      <td>4.4</td>\n      <td>1.5</td>\n      <td>0.4</td>\n    </tr>\n    <tr>\n      <th>16</th>\n      <td>5.4</td>\n      <td>3.9</td>\n      <td>1.3</td>\n      <td>0.4</td>\n    </tr>\n    <tr>\n      <th>17</th>\n      <td>5.1</td>\n      <td>3.5</td>\n      <td>1.4</td>\n      <td>0.3</td>\n    </tr>\n    <tr>\n      <th>18</th>\n      <td>5.7</td>\n      <td>3.8</td>\n      <td>1.7</td>\n      <td>0.3</td>\n    </tr>\n    <tr>\n      <th>19</th>\n      <td>5.1</td>\n      <td>3.8</td>\n      <td>1.5</td>\n      <td>0.3</td>\n    </tr>\n    <tr>\n      <th>20</th>\n      <td>5.4</td>\n      <td>3.4</td>\n      <td>1.7</td>\n      <td>0.2</td>\n    </tr>\n    <tr>\n      <th>21</th>\n      <td>5.1</td>\n      <td>3.7</td>\n      <td>1.5</td>\n      <td>0.4</td>\n    </tr>\n    <tr>\n      <th>22</th>\n      <td>4.6</td>\n      <td>3.6</td>\n      <td>1.0</td>\n      <td>0.2</td>\n    </tr>\n    <tr>\n      <th>23</th>\n      <td>5.1</td>\n      <td>3.3</td>\n      <td>1.7</td>\n      <td>0.5</td>\n    </tr>\n    <tr>\n      <th>24</th>\n      <td>4.8</td>\n      <td>3.4</td>\n      <td>1.9</td>\n      <td>0.2</td>\n    </tr>\n    <tr>\n      <th>25</th>\n      <td>5.0</td>\n      <td>3.0</td>\n      <td>1.6</td>\n      <td>0.2</td>\n    </tr>\n    <tr>\n      <th>26</th>\n      <td>5.0</td>\n      <td>3.4</td>\n      <td>1.6</td>\n      <td>0.4</td>\n    </tr>\n    <tr>\n      <th>27</th>\n      <td>5.2</td>\n      <td>3.5</td>\n      <td>1.5</td>\n      <td>0.2</td>\n    </tr>\n    <tr>\n      <th>28</th>\n      <td>5.2</td>\n      <td>3.4</td>\n      <td>1.4</td>\n      <td>0.2</td>\n    </tr>\n    <tr>\n      <th>29</th>\n      <td>4.7</td>\n      <td>3.2</td>\n      <td>1.6</td>\n      <td>0.2</td>\n    </tr>\n    <tr>\n      <th>30</th>\n      <td>4.8</td>\n      <td>3.1</td>\n      <td>1.6</td>\n      <td>0.2</td>\n    </tr>\n    <tr>\n      <th>31</th>\n      <td>5.4</td>\n      <td>3.4</td>\n      <td>1.5</td>\n      <td>0.4</td>\n    </tr>\n    <tr>\n      <th>32</th>\n      <td>5.2</td>\n      <td>4.1</td>\n      <td>1.5</td>\n      <td>0.1</td>\n    </tr>\n    <tr>\n      <th>33</th>\n      <td>5.5</td>\n      <td>4.2</td>\n      <td>1.4</td>\n      <td>0.2</td>\n    </tr>\n    <tr>\n      <th>34</th>\n      <td>4.9</td>\n      <td>3.1</td>\n      <td>1.5</td>\n      <td>0.2</td>\n    </tr>\n    <tr>\n      <th>35</th>\n      <td>5.0</td>\n      <td>3.2</td>\n      <td>1.2</td>\n      <td>0.2</td>\n    </tr>\n    <tr>\n      <th>36</th>\n      <td>5.5</td>\n      <td>3.5</td>\n      <td>1.3</td>\n      <td>0.2</td>\n    </tr>\n    <tr>\n      <th>37</th>\n      <td>4.9</td>\n      <td>3.6</td>\n      <td>1.4</td>\n      <td>0.1</td>\n    </tr>\n    <tr>\n      <th>38</th>\n      <td>4.4</td>\n      <td>3.0</td>\n      <td>1.3</td>\n      <td>0.2</td>\n    </tr>\n    <tr>\n      <th>39</th>\n      <td>5.1</td>\n      <td>3.4</td>\n      <td>1.5</td>\n      <td>0.2</td>\n    </tr>\n    <tr>\n      <th>40</th>\n      <td>5.0</td>\n      <td>3.5</td>\n      <td>1.3</td>\n      <td>0.3</td>\n    </tr>\n    <tr>\n      <th>41</th>\n      <td>4.5</td>\n      <td>2.3</td>\n      <td>1.3</td>\n      <td>0.3</td>\n    </tr>\n    <tr>\n      <th>42</th>\n      <td>4.4</td>\n      <td>3.2</td>\n      <td>1.3</td>\n      <td>0.2</td>\n    </tr>\n    <tr>\n      <th>43</th>\n      <td>5.0</td>\n      <td>3.5</td>\n      <td>1.6</td>\n      <td>0.6</td>\n    </tr>\n    <tr>\n      <th>44</th>\n      <td>5.1</td>\n      <td>3.8</td>\n      <td>1.9</td>\n      <td>0.4</td>\n    </tr>\n    <tr>\n      <th>45</th>\n      <td>4.8</td>\n      <td>3.0</td>\n      <td>1.4</td>\n      <td>0.3</td>\n    </tr>\n    <tr>\n      <th>46</th>\n      <td>5.1</td>\n      <td>3.8</td>\n      <td>1.6</td>\n      <td>0.2</td>\n    </tr>\n    <tr>\n      <th>47</th>\n      <td>4.6</td>\n      <td>3.2</td>\n      <td>1.4</td>\n      <td>0.2</td>\n    </tr>\n    <tr>\n      <th>48</th>\n      <td>5.3</td>\n      <td>3.7</td>\n      <td>1.5</td>\n      <td>0.2</td>\n    </tr>\n    <tr>\n      <th>49</th>\n      <td>5.0</td>\n      <td>3.3</td>\n      <td>1.4</td>\n      <td>0.2</td>\n    </tr>\n  </tbody>\n</table>\n</div>"
     },
     "metadata": {},
     "execution_count": 5
    }
   ],
   "source": [
    "iris >> nest(data=~f.Species)\n",
    "_.data[0]"
   ]
  },
  {
   "cell_type": "code",
   "execution_count": 6,
   "metadata": {},
   "outputs": [
    {
     "output_type": "execute_result",
     "data": {
      "text/plain": [
       "      Species                                               data\n",
       "0      setosa      Sepal_Length  Sepal_Width  Petal_Length  P...\n",
       "1  versicolor      Sepal_Length  Sepal_Width  Petal_Length  P...\n",
       "2   virginica       Sepal_Length  Sepal_Width  Petal_Length  ..."
      ],
      "text/html": "<div>\n<style scoped>\n    .dataframe tbody tr th:only-of-type {\n        vertical-align: middle;\n    }\n\n    .dataframe tbody tr th {\n        vertical-align: top;\n    }\n\n    .dataframe thead th {\n        text-align: right;\n    }\n</style>\n<table border=\"1\" class=\"dataframe\">\n  <thead>\n    <tr style=\"text-align: right;\">\n      <th></th>\n      <th>Species</th>\n      <th>data</th>\n    </tr>\n  </thead>\n  <tbody>\n    <tr>\n      <th>0</th>\n      <td>setosa</td>\n      <td>Sepal_Length  Sepal_Width  Petal_Length  P...</td>\n    </tr>\n    <tr>\n      <th>1</th>\n      <td>versicolor</td>\n      <td>Sepal_Length  Sepal_Width  Petal_Length  P...</td>\n    </tr>\n    <tr>\n      <th>2</th>\n      <td>virginica</td>\n      <td>Sepal_Length  Sepal_Width  Petal_Length  ...</td>\n    </tr>\n  </tbody>\n</table>\n</div>"
     },
     "metadata": {},
     "execution_count": 6
    }
   ],
   "source": [
    "nest_vars = names(iris)[:4]\n",
    "iris >> nest(data = any_of(nest_vars))"
   ]
  },
  {
   "cell_type": "code",
   "execution_count": 7,
   "metadata": {},
   "outputs": [
    {
     "output_type": "execute_result",
     "data": {
      "text/plain": [
       "      Species                                              petal  \\\n",
       "0      setosa      Petal_Length  Petal_Width\n",
       "0            1.4...   \n",
       "1  versicolor      Petal_Length  Petal_Width\n",
       "50           4.7...   \n",
       "2   virginica       Petal_Length  Petal_Width\n",
       "100           6...   \n",
       "\n",
       "                                               sepal  \n",
       "0      Sepal_Length  Sepal_Width\n",
       "0            5.1...  \n",
       "1      Sepal_Length  Sepal_Width\n",
       "50           7.0...  \n",
       "2       Sepal_Length  Sepal_Width\n",
       "100           6...  "
      ],
      "text/html": "<div>\n<style scoped>\n    .dataframe tbody tr th:only-of-type {\n        vertical-align: middle;\n    }\n\n    .dataframe tbody tr th {\n        vertical-align: top;\n    }\n\n    .dataframe thead th {\n        text-align: right;\n    }\n</style>\n<table border=\"1\" class=\"dataframe\">\n  <thead>\n    <tr style=\"text-align: right;\">\n      <th></th>\n      <th>Species</th>\n      <th>petal</th>\n      <th>sepal</th>\n    </tr>\n  </thead>\n  <tbody>\n    <tr>\n      <th>0</th>\n      <td>setosa</td>\n      <td>Petal_Length  Petal_Width\n0            1.4...</td>\n      <td>Sepal_Length  Sepal_Width\n0            5.1...</td>\n    </tr>\n    <tr>\n      <th>1</th>\n      <td>versicolor</td>\n      <td>Petal_Length  Petal_Width\n50           4.7...</td>\n      <td>Sepal_Length  Sepal_Width\n50           7.0...</td>\n    </tr>\n    <tr>\n      <th>2</th>\n      <td>virginica</td>\n      <td>Petal_Length  Petal_Width\n100           6...</td>\n      <td>Sepal_Length  Sepal_Width\n100           6...</td>\n    </tr>\n  </tbody>\n</table>\n</div>"
     },
     "metadata": {},
     "execution_count": 7
    }
   ],
   "source": [
    "iris >> nest(petal = starts_with(\"Petal\"), sepal = starts_with(\"Sepal\"))"
   ]
  },
  {
   "cell_type": "code",
   "execution_count": 8,
   "metadata": {},
   "outputs": [
    {
     "output_type": "execute_result",
     "data": {
      "text/plain": [
       "      Species                                              width  \\\n",
       "0      setosa      Sepal_Width  Petal_Width\n",
       "0           3.5  ...   \n",
       "1  versicolor      Sepal_Width  Petal_Width\n",
       "50          3.2  ...   \n",
       "2   virginica       Sepal_Width  Petal_Width\n",
       "100          3.3...   \n",
       "\n",
       "                                              length  \n",
       "0      Sepal_Length  Petal_Length\n",
       "0            5....  \n",
       "1      Sepal_Length  Petal_Length\n",
       "50           7....  \n",
       "2       Sepal_Length  Petal_Length\n",
       "100           ...  "
      ],
      "text/html": "<div>\n<style scoped>\n    .dataframe tbody tr th:only-of-type {\n        vertical-align: middle;\n    }\n\n    .dataframe tbody tr th {\n        vertical-align: top;\n    }\n\n    .dataframe thead th {\n        text-align: right;\n    }\n</style>\n<table border=\"1\" class=\"dataframe\">\n  <thead>\n    <tr style=\"text-align: right;\">\n      <th></th>\n      <th>Species</th>\n      <th>width</th>\n      <th>length</th>\n    </tr>\n  </thead>\n  <tbody>\n    <tr>\n      <th>0</th>\n      <td>setosa</td>\n      <td>Sepal_Width  Petal_Width\n0           3.5  ...</td>\n      <td>Sepal_Length  Petal_Length\n0            5....</td>\n    </tr>\n    <tr>\n      <th>1</th>\n      <td>versicolor</td>\n      <td>Sepal_Width  Petal_Width\n50          3.2  ...</td>\n      <td>Sepal_Length  Petal_Length\n50           7....</td>\n    </tr>\n    <tr>\n      <th>2</th>\n      <td>virginica</td>\n      <td>Sepal_Width  Petal_Width\n100          3.3...</td>\n      <td>Sepal_Length  Petal_Length\n100           ...</td>\n    </tr>\n  </tbody>\n</table>\n</div>"
     },
     "metadata": {},
     "execution_count": 8
    }
   ],
   "source": [
    "iris >> nest(width = contains(\"Width\"), length = contains(\"Length\"))"
   ]
  },
  {
   "cell_type": "code",
   "execution_count": 9,
   "metadata": {},
   "outputs": [
    {
     "output_type": "execute_result",
     "data": {
      "text/plain": [
       "    fish                                               data\n",
       "0   4842      station  seen\n",
       "0   Release     1\n",
       "1     I80_...\n",
       "1   4843      station  seen\n",
       "11  Release     1\n",
       "12    I80_...\n",
       "2   4844      station  seen\n",
       "22  Release     1\n",
       "23    I80_...\n",
       "3   4845      station  seen\n",
       "33  Release     1\n",
       "34    I80_...\n",
       "4   4847      station  seen\n",
       "38  Release     1\n",
       "39    I80_...\n",
       "5   4848      station  seen\n",
       "41  Release     1\n",
       "42    I80_...\n",
       "6   4849      station  seen\n",
       "45  Release     1\n",
       "46    I80_...\n",
       "7   4850      station  seen\n",
       "47  Release     1\n",
       "48    I80_...\n",
       "8   4851      station  seen\n",
       "53  Release     1\n",
       "54    I80_...\n",
       "9   4854      station  seen\n",
       "55  Release     1\n",
       "56    I80_...\n",
       "10  4855      station  seen\n",
       "57  Release     1\n",
       "58    I80_...\n",
       "11  4857      station  seen\n",
       "62  Release     1\n",
       "63    I80_...\n",
       "12  4858      station  seen\n",
       "71  Release     1\n",
       "72    I80_...\n",
       "13  4859      station  seen\n",
       "82  Release     1\n",
       "83    I80_...\n",
       "14  4861      station  seen\n",
       "87  Release     1\n",
       "88    I80_...\n",
       "15  4862       station  seen\n",
       "98   Release     1\n",
       "99     I...\n",
       "16  4863       station  seen\n",
       "107  Release     1\n",
       "108    I...\n",
       "17  4864       station  seen\n",
       "109  Release     1\n",
       "110    I...\n",
       "18  4865       station  seen\n",
       "111  Release     1\n",
       "112    I...\n",
       "[Groups: ['fish'] (n=19)]"
      ],
      "text/html": "<div>\n<style scoped>\n    .dataframe tbody tr th:only-of-type {\n        vertical-align: middle;\n    }\n\n    .dataframe tbody tr th {\n        vertical-align: top;\n    }\n\n    .dataframe thead th {\n        text-align: right;\n    }\n</style>\n<table border=\"1\" class=\"dataframe\">\n  <thead>\n    <tr style=\"text-align: right;\">\n      <th></th>\n      <th>fish</th>\n      <th>data</th>\n    </tr>\n  </thead>\n  <tbody>\n    <tr>\n      <th>0</th>\n      <td>4842</td>\n      <td>station  seen\n0   Release     1\n1     I80_...</td>\n    </tr>\n    <tr>\n      <th>1</th>\n      <td>4843</td>\n      <td>station  seen\n11  Release     1\n12    I80_...</td>\n    </tr>\n    <tr>\n      <th>2</th>\n      <td>4844</td>\n      <td>station  seen\n22  Release     1\n23    I80_...</td>\n    </tr>\n    <tr>\n      <th>3</th>\n      <td>4845</td>\n      <td>station  seen\n33  Release     1\n34    I80_...</td>\n    </tr>\n    <tr>\n      <th>4</th>\n      <td>4847</td>\n      <td>station  seen\n38  Release     1\n39    I80_...</td>\n    </tr>\n    <tr>\n      <th>5</th>\n      <td>4848</td>\n      <td>station  seen\n41  Release     1\n42    I80_...</td>\n    </tr>\n    <tr>\n      <th>6</th>\n      <td>4849</td>\n      <td>station  seen\n45  Release     1\n46    I80_...</td>\n    </tr>\n    <tr>\n      <th>7</th>\n      <td>4850</td>\n      <td>station  seen\n47  Release     1\n48    I80_...</td>\n    </tr>\n    <tr>\n      <th>8</th>\n      <td>4851</td>\n      <td>station  seen\n53  Release     1\n54    I80_...</td>\n    </tr>\n    <tr>\n      <th>9</th>\n      <td>4854</td>\n      <td>station  seen\n55  Release     1\n56    I80_...</td>\n    </tr>\n    <tr>\n      <th>10</th>\n      <td>4855</td>\n      <td>station  seen\n57  Release     1\n58    I80_...</td>\n    </tr>\n    <tr>\n      <th>11</th>\n      <td>4857</td>\n      <td>station  seen\n62  Release     1\n63    I80_...</td>\n    </tr>\n    <tr>\n      <th>12</th>\n      <td>4858</td>\n      <td>station  seen\n71  Release     1\n72    I80_...</td>\n    </tr>\n    <tr>\n      <th>13</th>\n      <td>4859</td>\n      <td>station  seen\n82  Release     1\n83    I80_...</td>\n    </tr>\n    <tr>\n      <th>14</th>\n      <td>4861</td>\n      <td>station  seen\n87  Release     1\n88    I80_...</td>\n    </tr>\n    <tr>\n      <th>15</th>\n      <td>4862</td>\n      <td>station  seen\n98   Release     1\n99     I...</td>\n    </tr>\n    <tr>\n      <th>16</th>\n      <td>4863</td>\n      <td>station  seen\n107  Release     1\n108    I...</td>\n    </tr>\n    <tr>\n      <th>17</th>\n      <td>4864</td>\n      <td>station  seen\n109  Release     1\n110    I...</td>\n    </tr>\n    <tr>\n      <th>18</th>\n      <td>4865</td>\n      <td>station  seen\n111  Release     1\n112    I...</td>\n    </tr>\n  </tbody>\n</table>\n</div>[Groups: ['fish'] (n=19)]"
     },
     "metadata": {},
     "execution_count": 9
    }
   ],
   "source": [
    "fish_encounters >> group_by(f.fish) >> nest()"
   ]
  },
  {
   "cell_type": "code",
   "execution_count": 10,
   "metadata": {},
   "outputs": [
    {
     "output_type": "execute_result",
     "data": {
      "text/plain": [
       "   cyl                                               data      models\n",
       "0    6       mpg   disp   hp  drat     wt   qsec  vs  ...   <df 7x10>\n",
       "1    4       mpg   disp   hp  drat     wt   qsec  vs  ...  <df 11x10>\n",
       "2    8       mpg   disp   hp  drat     wt   qsec  vs  ...  <df 14x10>\n",
       "[Groups: ['cyl'] (n=3)]"
      ],
      "text/html": "<div>\n<style scoped>\n    .dataframe tbody tr th:only-of-type {\n        vertical-align: middle;\n    }\n\n    .dataframe tbody tr th {\n        vertical-align: top;\n    }\n\n    .dataframe thead th {\n        text-align: right;\n    }\n</style>\n<table border=\"1\" class=\"dataframe\">\n  <thead>\n    <tr style=\"text-align: right;\">\n      <th></th>\n      <th>cyl</th>\n      <th>data</th>\n      <th>models</th>\n    </tr>\n  </thead>\n  <tbody>\n    <tr>\n      <th>0</th>\n      <td>6</td>\n      <td>mpg   disp   hp  drat     wt   qsec  vs  ...</td>\n      <td>&lt;df 7x10&gt;</td>\n    </tr>\n    <tr>\n      <th>1</th>\n      <td>4</td>\n      <td>mpg   disp   hp  drat     wt   qsec  vs  ...</td>\n      <td>&lt;df 11x10&gt;</td>\n    </tr>\n    <tr>\n      <th>2</th>\n      <td>8</td>\n      <td>mpg   disp   hp  drat     wt   qsec  vs  ...</td>\n      <td>&lt;df 14x10&gt;</td>\n    </tr>\n  </tbody>\n</table>\n</div>[Groups: ['cyl'] (n=3)]"
     },
     "metadata": {},
     "execution_count": 10
    }
   ],
   "source": [
    "from pipda import register_func\n",
    "@register_func(None)\n",
    "def get_models(dfs):\n",
    "    # do whatever with the dfs\n",
    "    return [\n",
    "        f\"<df {df.shape[0]}x{df.shape[1]}>\"\n",
    "        for df in dfs\n",
    "    ]\n",
    "\n",
    "mtcars >> group_by(f.cyl) >> nest() >> mutate(\n",
    "    models=get_models(f.data)\n",
    ")"
   ]
  },
  {
   "cell_type": "code",
   "execution_count": 11,
   "metadata": {},
   "outputs": [
    {
     "output_type": "execute_result",
     "data": {
      "text/plain": [
       "   x  a  b\n",
       "0  2  1  2\n",
       "1  3  1  3\n",
       "2  3  2  2\n",
       "3  3  3  1"
      ],
      "text/html": "<div>\n<style scoped>\n    .dataframe tbody tr th:only-of-type {\n        vertical-align: middle;\n    }\n\n    .dataframe tbody tr th {\n        vertical-align: top;\n    }\n\n    .dataframe thead th {\n        text-align: right;\n    }\n</style>\n<table border=\"1\" class=\"dataframe\">\n  <thead>\n    <tr style=\"text-align: right;\">\n      <th></th>\n      <th>x</th>\n      <th>a</th>\n      <th>b</th>\n    </tr>\n  </thead>\n  <tbody>\n    <tr>\n      <th>0</th>\n      <td>2</td>\n      <td>1</td>\n      <td>2</td>\n    </tr>\n    <tr>\n      <th>1</th>\n      <td>3</td>\n      <td>1</td>\n      <td>3</td>\n    </tr>\n    <tr>\n      <th>2</th>\n      <td>3</td>\n      <td>2</td>\n      <td>2</td>\n    </tr>\n    <tr>\n      <th>3</th>\n      <td>3</td>\n      <td>3</td>\n      <td>1</td>\n    </tr>\n  </tbody>\n</table>\n</div>"
     },
     "metadata": {},
     "execution_count": 11
    }
   ],
   "source": [
    "df = tibble(\n",
    "  x = f[1:3],\n",
    "  y = [\n",
    "    NULL,\n",
    "    tibble(a = 1, b = 2),\n",
    "    tibble(a = f[1:3], b = f[3:1])\n",
    "  ]\n",
    ")\n",
    "df >> unnest(f.y, dtypes=int)"
   ]
  },
  {
   "cell_type": "code",
   "execution_count": 12,
   "metadata": {},
   "outputs": [
    {
     "output_type": "execute_result",
     "data": {
      "text/plain": [
       "   x    a    b\n",
       "0  1  NaN  NaN\n",
       "1  2  1.0  2.0\n",
       "2  3  1.0  3.0\n",
       "3  3  2.0  2.0\n",
       "4  3  3.0  1.0"
      ],
      "text/html": "<div>\n<style scoped>\n    .dataframe tbody tr th:only-of-type {\n        vertical-align: middle;\n    }\n\n    .dataframe tbody tr th {\n        vertical-align: top;\n    }\n\n    .dataframe thead th {\n        text-align: right;\n    }\n</style>\n<table border=\"1\" class=\"dataframe\">\n  <thead>\n    <tr style=\"text-align: right;\">\n      <th></th>\n      <th>x</th>\n      <th>a</th>\n      <th>b</th>\n    </tr>\n  </thead>\n  <tbody>\n    <tr>\n      <th>0</th>\n      <td>1</td>\n      <td>NaN</td>\n      <td>NaN</td>\n    </tr>\n    <tr>\n      <th>1</th>\n      <td>2</td>\n      <td>1.0</td>\n      <td>2.0</td>\n    </tr>\n    <tr>\n      <th>2</th>\n      <td>3</td>\n      <td>1.0</td>\n      <td>3.0</td>\n    </tr>\n    <tr>\n      <th>3</th>\n      <td>3</td>\n      <td>2.0</td>\n      <td>2.0</td>\n    </tr>\n    <tr>\n      <th>4</th>\n      <td>3</td>\n      <td>3.0</td>\n      <td>1.0</td>\n    </tr>\n  </tbody>\n</table>\n</div>"
     },
     "metadata": {},
     "execution_count": 12
    }
   ],
   "source": [
    "df >> unnest(f.y, keep_empty=True)"
   ]
  },
  {
   "cell_type": "code",
   "execution_count": 13,
   "metadata": {},
   "outputs": [
    {
     "output_type": "execute_result",
     "data": {
      "text/plain": [
       "   a  b   c\n",
       "0  a  1  11\n",
       "1  b  2  11\n",
       "2  c  3  22"
      ],
      "text/html": "<div>\n<style scoped>\n    .dataframe tbody tr th:only-of-type {\n        vertical-align: middle;\n    }\n\n    .dataframe tbody tr th {\n        vertical-align: top;\n    }\n\n    .dataframe thead th {\n        text-align: right;\n    }\n</style>\n<table border=\"1\" class=\"dataframe\">\n  <thead>\n    <tr style=\"text-align: right;\">\n      <th></th>\n      <th>a</th>\n      <th>b</th>\n      <th>c</th>\n    </tr>\n  </thead>\n  <tbody>\n    <tr>\n      <th>0</th>\n      <td>a</td>\n      <td>1</td>\n      <td>11</td>\n    </tr>\n    <tr>\n      <th>1</th>\n      <td>b</td>\n      <td>2</td>\n      <td>11</td>\n    </tr>\n    <tr>\n      <th>2</th>\n      <td>c</td>\n      <td>3</td>\n      <td>22</td>\n    </tr>\n  </tbody>\n</table>\n</div>"
     },
     "metadata": {},
     "execution_count": 13
    }
   ],
   "source": [
    "df = tibble(\n",
    " a = [c(\"a\", \"b\"), \"c\"],\n",
    " b = [[1,2], 3],\n",
    " c = c(11, 22)\n",
    ")\n",
    "df >> unnest(c(f.a, f.b))"
   ]
  },
  {
   "cell_type": "code",
   "execution_count": 14,
   "metadata": {},
   "outputs": [
    {
     "output_type": "execute_result",
     "data": {
      "text/plain": [
       "   a  b   c\n",
       "0  a  1  11\n",
       "1  a  2  11\n",
       "2  b  1  11\n",
       "3  b  2  11\n",
       "4  c  3  22"
      ],
      "text/html": "<div>\n<style scoped>\n    .dataframe tbody tr th:only-of-type {\n        vertical-align: middle;\n    }\n\n    .dataframe tbody tr th {\n        vertical-align: top;\n    }\n\n    .dataframe thead th {\n        text-align: right;\n    }\n</style>\n<table border=\"1\" class=\"dataframe\">\n  <thead>\n    <tr style=\"text-align: right;\">\n      <th></th>\n      <th>a</th>\n      <th>b</th>\n      <th>c</th>\n    </tr>\n  </thead>\n  <tbody>\n    <tr>\n      <th>0</th>\n      <td>a</td>\n      <td>1</td>\n      <td>11</td>\n    </tr>\n    <tr>\n      <th>1</th>\n      <td>a</td>\n      <td>2</td>\n      <td>11</td>\n    </tr>\n    <tr>\n      <th>2</th>\n      <td>b</td>\n      <td>1</td>\n      <td>11</td>\n    </tr>\n    <tr>\n      <th>3</th>\n      <td>b</td>\n      <td>2</td>\n      <td>11</td>\n    </tr>\n    <tr>\n      <th>4</th>\n      <td>c</td>\n      <td>3</td>\n      <td>22</td>\n    </tr>\n  </tbody>\n</table>\n</div>"
     },
     "metadata": {},
     "execution_count": 14
    }
   ],
   "source": [
    "df >> unnest(f.a) >> unnest(f.b)"
   ]
  }
 ]
}